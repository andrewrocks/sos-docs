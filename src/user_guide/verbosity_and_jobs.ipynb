{
 "cells": [
  {
   "cell_type": "markdown",
   "metadata": {
    "kernel": "SoS"
   },
   "source": [
    "# How to control the verbosity of sos output and the number of running jobs"
   ]
  },
  {
   "cell_type": "markdown",
   "metadata": {
    "kernel": "SoS"
   },
   "source": [
    "* **Difficulty level**: easy\n",
    "* **Time need to lean**: 10 minutes or less\n",
    "* **Key points**:\n",
    "  * `-v` controls logging level from `error`, `warning`, `info` to `debug`\n",
    "  * `-v1` introduces a special text-based progress bar\n",
    "  * `%set -v` sets a persistent logging level for the entire notebook\n",
    "  * Environment variable `DBG_DEBUG` writes topic-specific information to `~/sos_debug.log`\n",
    "  * `-j` controls number of concurrent processes"
   ]
  },
  {
   "cell_type": "markdown",
   "metadata": {
    "kernel": "SoS"
   },
   "source": [
    "## Logging level"
   ]
  },
  {
   "cell_type": "markdown",
   "metadata": {
    "kernel": "SoS"
   },
   "source": [
    "SoS uses a logging system to output all sorts of information during the execution of workflows. The amount of output can be controlled by logging level, which can be `error` (0), `warning` (1), `info` (2), and `debug` (3). The default logging level for SoS is `info`.\n",
    "\n",
    "For example, logging at `info` level would produce message indicating the steps executed and input output files, while `-v0` will suppress all but error messages. It is worth noting that if you are using SoS Notebook, all logging messages will be sent to the side panel if the side panel is open."
   ]
  },
  {
   "cell_type": "code",
   "execution_count": 2,
   "metadata": {
    "kernel": "SoS"
   },
   "outputs": [
    {
     "data": {
      "text/html": [
       "<div class=\"sos_logging sos_info\">INFO: Running <span class=\"sos_highlight\">10</span>: \n",
       "</div>"
      ]
     },
     "metadata": {},
     "output_type": "display_data"
    },
    {
     "data": {
      "text/html": [
       "<div class=\"sos_logging sos_info\">INFO: Running <span class=\"sos_highlight\">20</span>: \n",
       "</div>"
      ]
     },
     "metadata": {},
     "output_type": "display_data"
    },
    {
     "data": {
      "text/html": [
       "<div class=\"sos_logging sos_info\">INFO: Running <span class=\"sos_highlight\">30</span>: \n",
       "</div>"
      ]
     },
     "metadata": {},
     "output_type": "display_data"
    },
    {
     "data": {
      "text/html": [
       "<div class=\"sos_logging sos_info\">INFO: Running <span class=\"sos_highlight\">40</span>: \n",
       "</div>"
      ]
     },
     "metadata": {},
     "output_type": "display_data"
    },
    {
     "data": {
      "text/html": [
       "<div class=\"sos_logging sos_info\">INFO: Workflow default (ID=da9f62e48e2b6ead) is executed successfully with 4 completed steps.\n",
       "</div>"
      ]
     },
     "metadata": {},
     "output_type": "display_data"
    }
   ],
   "source": [
    "!touch a.txt\n",
    "\n",
    "%run -v3\n",
    "[10]\n",
    "[20]\n",
    "input: 'a.txt'\n",
    "[30]\n",
    "[40]"
   ]
  },
  {
   "cell_type": "markdown",
   "metadata": {
    "kernel": "SoS"
   },
   "source": [
    "<div class=\"bs-callout bs-callout-primary\" role=\"alert\">\n",
    "    <h4>Text-based progress bar with <code>-v1</code></h4>\n",
    "    <p>If you have a large workflow with lots of steps, the default output can be overwhelming. In this case you can use <code>-v1</code>, which not only suppress most of the `INFO` messages, but also introduces a text-based progress bar from which you can learn the progress of the workflow easily.</p>\n",
    "</div>"
   ]
  },
  {
   "cell_type": "code",
   "execution_count": 3,
   "metadata": {
    "kernel": "SoS"
   },
   "outputs": [
    {
     "name": "stdout",
     "output_type": "stream",
     "text": [
      "\u001b[32m[\u001b[0m\u001b[32m#\u001b[0m\u001b[32m#\u001b[0m\u001b[32m#\u001b[0m\u001b[32m#\u001b[0m\u001b[32m]\u001b[0m 4 steps processed (4 jobs completed)\n"
     ]
    }
   ],
   "source": [
    "!touch a.txt\n",
    "\n",
    "%run -v1\n",
    "[10]\n",
    "[20]\n",
    "input: 'a.txt'\n",
    "[30]\n",
    "[40]"
   ]
  },
  {
   "cell_type": "markdown",
   "metadata": {
    "kernel": "SoS"
   },
   "source": [
    "## `SOS_DEBUG` and `~/sos_debug.log` "
   ]
  },
  {
   "cell_type": "markdown",
   "metadata": {
    "kernel": "SoS"
   },
   "source": [
    "This option is designed for developers but if you would like to peak into what SoS is actually doing, you can set an environment variable `SOS_DEBUG`, with `,` separated values\n",
    "\n",
    "* `ALL`: all debug messages\n",
    "* Topics such as `CONTROLLER`, `TASK`, `WORKER`, `EXECUTOR` to keep only debug information of specific topics. The actual values can vary so you should check the output of command `sos run -h` for acceptable topics.\n",
    "* A filename with an extension. If you include a filename in `SOS_DEBUG` (e.g. `SOS_DEBUG=TASK,tasks.log`), the debug output will be saved to specified files. If no file is specified, the debug information will be saved to `~/sos_debug.log`."
   ]
  },
  {
   "cell_type": "markdown",
   "metadata": {
    "kernel": "SoS"
   },
   "source": [
    "Again, `SOS_DEBUG` can be used to generate a large amount of information for debugging purposes. You usually do not need to use it but if you encounter some problems with SoS and would like to submit a bug report, it is a good idea to upload a log file with your workflow executed under \n",
    "\n",
    "```\n",
    "export SOS_DEBUG=ALL,bug_report.log\n",
    "```\n",
    "\n"
   ]
  },
  {
   "cell_type": "markdown",
   "metadata": {
    "kernel": "SoS"
   },
   "source": [
    "## Control the number of running jobs"
   ]
  },
  {
   "cell_type": "markdown",
   "metadata": {
    "kernel": "SoS"
   },
   "source": [
    "<div class=\"bs-callout bs-callout-primary\" role=\"alert\">\n",
    "    <h4>Control number of workers with option <code>-j</code></h4>\n",
    "    <p>Option <code>-j</code> sets the number of workers for SoS. The default value is half of the number of processes.</p>\n",
    "</div>"
   ]
  },
  {
   "cell_type": "markdown",
   "metadata": {
    "kernel": "SoS"
   },
   "source": [
    "SoS dispatch steps, substeps, and nested workflows to dedicated workers. The maximum number of concurrent workers can be controlled by the `-j` option. Although the default value, which is half of the number of processes of the computer, is good most of the time, you might want to control the number of workers depending on your running environment (e.g. on a shared server) or on the size of your workflow. Note that `-j` specifies the number of workers so the total number of processes started by `sos` can be at most `n + 1` with option `-j n`."
   ]
  },
  {
   "cell_type": "markdown",
   "metadata": {
    "kernel": "SoS"
   },
   "source": [
    "<div class=\"bs-callout bs-callout-warning\" role=\"alert\">\n",
    "    <h4>Dedicated workers for blocking nested workflows</h4>\n",
    "    <p>Ocassionally you might see more than <code>n + 1</code> SoS processes when you execute a workflow with option `-j n`. This is because the workflow consists of blocking nested workflows, namely nested workflows not as the last statement of a step. For example, the nested workflow `A` in the following SoS step has to be executed in a blocking fashion before `some_other_computation` can be done,</p>\n",
    "    <pre>\n",
    "        [10]\n",
    "        sos_run('A')\n",
    "        some_other_computation()\n",
    "        </pre>\n",
    "    <p>So SoS spawns a separate process for nested workflow <code>A</code> so that it will not affect the concurrent execution of other parts of the workflow.</p>    \n",
    "</div>"
   ]
  }
 ],
 "metadata": {
  "kernelspec": {
   "display_name": "SoS",
   "language": "sos",
   "name": "sos"
  },
  "language_info": {
   "codemirror_mode": "sos",
   "file_extension": ".sos",
   "mimetype": "text/x-sos",
   "name": "sos",
   "nbconvert_exporter": "sos_notebook.converter.SoS_Exporter",
   "pygments_lexer": "sos"
  },
  "sos": {
   "kernels": [
    [
     "Bash",
     "bash",
     "Bash",
     "#E6EEFF"
    ],
    [
     "R",
     "ir",
     "R",
     "#DCDCDA"
    ],
    [
     "SoS",
     "sos",
     "",
     ""
    ]
   ],
   "panel": {
    "displayed": false,
    "height": 0
   },
   "version": "0.19.1"
  }
 },
 "nbformat": 4,
 "nbformat_minor": 2
}
