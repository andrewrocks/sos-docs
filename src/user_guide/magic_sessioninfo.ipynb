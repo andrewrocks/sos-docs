{
 "cells": [
  {
   "cell_type": "markdown",
   "metadata": {
    "kernel": "SoS"
   },
   "source": [
    "# How to keep track of session information for all kernels"
   ]
  },
  {
   "cell_type": "markdown",
   "metadata": {
    "kernel": "SoS"
   },
   "source": [
    "* **Difficulty level**: easy\n",
    "* **Time need to lean**:5 minutes or less\n",
    "* **Key points**:\n",
    "  * Magic `%sessioninfo` shows the session information of all live kernels\n",
    "  "
   ]
  },
  {
   "cell_type": "markdown",
   "metadata": {
    "kernel": "SoS"
   },
   "source": [
    "##  <a id=\"magic_sessioninfo\"></a>`%sessioninfo`"
   ]
  },
  {
   "cell_type": "markdown",
   "metadata": {
    "kernel": "SoS"
   },
   "source": [
    "Magic `%sessioninfo` returns the session information of SoS and all the subkernels, which for example include version of the python interpreter and name and version of all imported modules for Python kernels, and the output of function `sessionInfo()` for language R."
   ]
  },
  {
   "cell_type": "markdown",
   "metadata": {
    "kernel": "SoS"
   },
   "source": [
    "This magic also outputs values of a variable `sessioninfo` in the SoS namespace, which can be a dictionary of section header and items in the format of string, list of strings or `(key, value)` pairs, or dictionaries.  This mechanism is designed to output arbitrary additional session information, such as revision of documents and versions of commands. The latter has to be collected manually because there is no standard way to get the version information of commands.\n",
    "\n",
    "For example, let us find the revision of this document and versions of two commands `rsync`,  and `awk` and put them in `sessioninfo`:"
   ]
  },
  {
   "cell_type": "code",
   "execution_count": 64,
   "metadata": {
    "kernel": "SoS"
   },
   "outputs": [
    {
     "data": {
      "text/html": [
       "<div class=\"sos_hint\">> sessioninfo: OrderedDict of length 2</div>"
      ],
      "text/plain": [
       ">>> sessioninfo:\n"
      ]
     },
     "metadata": {},
     "output_type": "display_data"
    },
    {
     "data": {
      "text/plain": [
       "OrderedDict([('Programs',\n",
       "              [['rsync', 'rsync  version 2.6.9  protocol version 29\\n'],\n",
       "               ['awk', 'awk version 20070501\\n']]),\n",
       "             ('Extra',\n",
       "              [['Date', '08/12/2017'],\n",
       "               ['Revision', '236\\n'],\n",
       "               ['HASH', 'b348a9e7ceaa02e6c0f5c195defe01d5a127aca5\\n']])])"
      ]
     },
     "metadata": {},
     "output_type": "display_data"
    }
   ],
   "source": [
    "%preview -n sessioninfo\n",
    "import time\n",
    "from collections import OrderedDict\n",
    "sessioninfo = OrderedDict()\n",
    "sessioninfo['Programs'] = [\n",
    "        ['rsync', get_output('rsync --version | head -1')],\n",
    "        ['awk', get_output('awk -version')]\n",
    "    ]\n",
    "sessioninfo['Extra'] = [\n",
    "        ['Date', time.strftime(\"%d/%m/%Y\")],\n",
    "        ['Revision', get_output('git rev-list --count HEAD')],\n",
    "        ['HASH', get_output('git rev-parse HEAD')]\n",
    "    ]\n"
   ]
  },
  {
   "cell_type": "markdown",
   "metadata": {
    "kernel": "SoS"
   },
   "source": [
    "Then, after we load Python3 and R,"
   ]
  },
  {
   "cell_type": "code",
   "execution_count": 65,
   "metadata": {
    "collapsed": true,
    "kernel": "Python3"
   },
   "outputs": [],
   "source": [
    "import pandas\n",
    "import numpy"
   ]
  },
  {
   "cell_type": "code",
   "execution_count": 66,
   "metadata": {
    "collapsed": true,
    "kernel": "R"
   },
   "outputs": [],
   "source": [
    "library('ggplot2')"
   ]
  },
  {
   "cell_type": "markdown",
   "metadata": {
    "kernel": "SoS"
   },
   "source": [
    "We can run `%sessioninfo` to display all session information:"
   ]
  },
  {
   "cell_type": "code",
   "execution_count": 67,
   "metadata": {
    "kernel": "SoS",
    "show_output": false
   },
   "outputs": [
    {
     "data": {
      "text/html": [
       "<p class=\"session_section\">SoS</p>\n",
       "<table class=\"session_info\">\n",
       "<tr>\n",
       "<th>SoS Version</th><td><pre>0.9.10.15</pre></td>\n",
       "</tr>\n",
       "<tr>\n",
       "<th>numpy</th><td><pre>1.13.1</pre></td>\n",
       "</tr>\n",
       "<tr>\n",
       "<th>IPython</th><td><pre>6.2.1</pre></td>\n",
       "</tr>\n",
       "</table>\n",
       "<p class=\"session_section\">Python3</p>\n",
       "<table class=\"session_info\">\n",
       "<tr>\n",
       "<th>Kernel</th><td><pre>python3</pre></td>\n",
       "</tr>\n",
       "<tr>\n",
       "<th>Language</th><td><pre>Python3</pre></td>\n",
       "</tr>\n",
       "<tr>\n",
       "<th>Version</th><td><pre>3.6.2 |Anaconda custom (64-bit)| (default, Sep 21 2017, 18:29:43) \n",
       "[GCC 4.2.1 Compatible Clang 4.0.1 (tags/RELEASE_401/final)]</pre></td>\n",
       "</tr>\n",
       "<tr>\n",
       "<th>pandas</th><td><pre>0.20.3</pre></td>\n",
       "</tr>\n",
       "<tr>\n",
       "<th>numpy</th><td><pre>1.13.1</pre></td>\n",
       "</tr>\n",
       "</table>\n",
       "<p class=\"session_section\">R</p>\n",
       "<table class=\"session_info\">\n",
       "<tr>\n",
       "<th>Kernel</th><td><pre>ir</pre></td>\n",
       "</tr>\n",
       "<tr>\n",
       "<th>Language</th><td><pre>R</pre></td>\n",
       "</tr>\n",
       "<tr>\n",
       "<td colspan=\"2\"><pre>R version 3.4.2 (2017-09-28)\n",
       "Platform: x86_64-apple-darwin15.6.0 (64-bit)\n",
       "Running under: OS X El Capitan 10.11.6\n",
       "\n",
       "Matrix products: default\n",
       "BLAS: /Library/Frameworks/R.framework/Versions/3.4/Resources/lib/libRblas.0.dylib\n",
       "LAPACK: /Library/Frameworks/R.framework/Versions/3.4/Resources/lib/libRlapack.dylib\n",
       "\n",
       "locale:\n",
       "[1] en_US.UTF-8/en_US.UTF-8/en_US.UTF-8/C/en_US.UTF-8/en_US.UTF-8\n",
       "\n",
       "attached base packages:\n",
       "[1] stats     graphics  grDevices utils     datasets  methods   base     \n",
       "\n",
       "other attached packages:\n",
       "[1] ggplot2_2.2.1 feather_0.3.1\n",
       "\n",
       "loaded via a namespace (and not attached):\n",
       " [1] Rcpp_0.12.13        magrittr_1.5        hms_0.3            \n",
       " [4] munsell_0.4.3       uuid_0.1-2          colorspace_1.3-2   \n",
       " [7] R6_2.2.2            rlang_0.1.2         stringr_1.2.0      \n",
       "[10] plyr_1.8.4          tools_3.4.2         grid_3.4.2         \n",
       "[13] gtable_0.2.0        lazyeval_0.2.1      digest_0.6.12      \n",
       "[16] tibble_1.3.4        crayon_1.3.4        IRdisplay_0.4.4    \n",
       "[19] repr_0.12.0         IRkernel_0.8.9.9000 evaluate_0.10.1    \n",
       "[22] pbdZMQ_0.2-6        stringi_1.1.5       compiler_3.4.2     \n",
       "[25] scales_0.5.0        jsonlite_1.5       </pre></td>\n",
       "</tr>\n",
       "</table>\n",
       "<p class=\"session_section\">Programs</p>\n",
       "<table class=\"session_info\">\n",
       "<tr>\n",
       "<th>rsync</th><td><pre>rsync  version 2.6.9  protocol version 29\n",
       "</pre></td>\n",
       "</tr>\n",
       "<tr>\n",
       "<th>awk</th><td><pre>awk version 20070501\n",
       "</pre></td>\n",
       "</tr>\n",
       "</table>\n",
       "<p class=\"session_section\">Extra</p>\n",
       "<table class=\"session_info\">\n",
       "<tr>\n",
       "<th>Date</th><td><pre>08/12/2017</pre></td>\n",
       "</tr>\n",
       "<tr>\n",
       "<th>Revision</th><td><pre>236\n",
       "</pre></td>\n",
       "</tr>\n",
       "<tr>\n",
       "<th>HASH</th><td><pre>b348a9e7ceaa02e6c0f5c195defe01d5a127aca5\n",
       "</pre></td>\n",
       "</tr>\n",
       "</table>\n"
      ]
     },
     "metadata": {},
     "output_type": "display_data"
    }
   ],
   "source": [
    "%sessioninfo"
   ]
  },
  {
   "cell_type": "markdown",
   "metadata": {
    "kernel": "SoS"
   },
   "source": [
    "## Further reading\n",
    "\n",
    "* "
   ]
  }
 ],
 "metadata": {
  "kernelspec": {
   "display_name": "SoS",
   "language": "sos",
   "name": "sos"
  },
  "language_info": {
   "codemirror_mode": "sos",
   "file_extension": ".sos",
   "mimetype": "text/x-sos",
   "name": "sos",
   "nbconvert_exporter": "sos_notebook.converter.SoS_Exporter",
   "pygments_lexer": "sos"
  },
  "sos": {
   "kernels": [
    [
     "Bash",
     "bash",
     "Bash",
     "#E6EEFF"
    ],
    [
     "R",
     "ir",
     "R",
     "#DCDCDA"
    ],
    [
     "SoS",
     "sos",
     "",
     ""
    ]
   ],
   "panel": {
    "displayed": true,
    "height": 0
   },
   "version": "0.17.5"
  }
 },
 "nbformat": 4,
 "nbformat_minor": 2
}
