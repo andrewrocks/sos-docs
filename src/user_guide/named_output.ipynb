{
 "cells": [
  {
   "cell_type": "markdown",
   "metadata": {
    "kernel": "SoS"
   },
   "source": [
    "# How to use named output in data-flow style workflows"
   ]
  },
  {
   "cell_type": "markdown",
   "metadata": {
    "kernel": "SoS"
   },
   "source": [
    "* **Difficulty level**: easy\n",
    "* **Time need to lean**: 10 minutes or less\n",
    "* **Key points**:\n",
    "  * Output can be grouped by names, which can be referred to by `[name]`\n",
    "  * Function `named_output(name)` refers to output with `name` in any step\n",
    "  * Return value of `name_output(name)` can also have groups\n",
    "  "
   ]
  },
  {
   "cell_type": "markdown",
   "metadata": {
    "kernel": "SoS"
   },
   "source": [
    "## Limitations of basic dataflow-based workflows"
   ]
  },
  {
   "cell_type": "markdown",
   "metadata": {
    "kernel": "SoS"
   },
   "source": [
    "In our tutorial on [How to define and execute basic SoS workflows](doc/user_guide/forward_workflow.html) we introduced basic dataflow-based workflows as follows:"
   ]
  },
  {
   "cell_type": "code",
   "execution_count": 2,
   "metadata": {
    "kernel": "SoS"
   },
   "outputs": [
    {
     "data": {
      "text/html": [
       "\n",
       "<table id=\"workflow_ea776963-96f0-423d-b4f1-8019b83fd12e\" class=\"workflow_table  completed\">\n",
       "<tr>\n",
       "      <td class=\"workflow_icon\">\n",
       "        <i id=\"workflow_status_icon_ea776963-96f0-423d-b4f1-8019b83fd12e\" class=\"fa fa-2x fa-fw fa-check-square-o\"\n",
       "        onmouseover='this.classList=\"fa fa-2x fa-fw fa-trash\"' onmouseleave='this.classList=\"fa fa-2x fa-fw fa-check-square-o\"' onclick=\"cancel_workflow(this.id.substring(21))\"></i>\n",
       "      </td>\n",
       "      <td class=\"workflow_name\">\n",
       "        <pre><span id=\"workflow_name_ea776963-96f0-423d-b4f1-8019b83fd12e\">plot</span></pre>\n",
       "      </td>\n",
       "      <td class=\"workflow_id\">\n",
       "        <span>Workflow ID</span></br>\n",
       "        <pre><i class=\"fa fa-fw fa-sitemap\"></i><span id=\"workflow_id_ea776963-96f0-423d-b4f1-8019b83fd12e\">09ca8ead69135592</span></pre>\n",
       "      </td>\n",
       "      <td class=\"workflow_index\">\n",
       "        <span>Index</span></br>\n",
       "        <pre>#<span id=\"workflow_index_ea776963-96f0-423d-b4f1-8019b83fd12e\">2</span></pre>\n",
       "      </td>\n",
       "      <td class=\"workflow_status\">\n",
       "        <span id=\"status_text_ea776963-96f0-423d-b4f1-8019b83fd12e\">completed</span></br>\n",
       "        <pre><i class=\"fa fa-fw fa-clock-o\"></i><time id=\"status_duration_ea776963-96f0-423d-b4f1-8019b83fd12e\" class=\"completed\" datetime=\"1546749624648.329\">Ran for 0 sec</time></pre>\n",
       "      </td>\n",
       "</tr>\n",
       "</table>\n"
      ]
     },
     "metadata": {},
     "output_type": "display_data"
    },
    {
     "data": {
      "text/html": [
       "<div class=\"sos_logging sos_info\">INFO: Running <span class=\"sos_highlight\">convert</span>: \n",
       "</div>"
      ]
     },
     "metadata": {},
     "output_type": "display_data"
    },
    {
     "name": "stdout",
     "output_type": "stream",
     "text": [
      "xlsx2csv data/DEG.xlsx > DEG.csv\n",
      "\n"
     ]
    },
    {
     "data": {
      "text/html": [
       "<div class=\"sos_logging sos_info\">INFO: output:   <span class=\"sos_highlight\">DEG.csv</span>\n",
       "</div>"
      ]
     },
     "metadata": {},
     "output_type": "display_data"
    },
    {
     "data": {
      "text/html": [
       "<div class=\"sos_logging sos_info\">INFO: Running <span class=\"sos_highlight\">plot</span>: \n",
       "</div>"
      ]
     },
     "metadata": {},
     "output_type": "display_data"
    },
    {
     "data": {
      "text/html": [
       "<div class=\"sos_logging sos_info\">INFO: <span class=\"sos_highlight\">plot</span> (index=0) is <span class=\"sos_highlight\">ignored</span> due to saved signature\n",
       "</div>"
      ]
     },
     "metadata": {},
     "output_type": "display_data"
    },
    {
     "data": {
      "text/html": [
       "<div class=\"sos_logging sos_info\">INFO: output:   <span class=\"sos_highlight\">output.pdf</span>\n",
       "</div>"
      ]
     },
     "metadata": {},
     "output_type": "display_data"
    },
    {
     "data": {
      "text/html": [
       "<div class=\"sos_logging sos_info\">INFO: Workflow plot (ID=09ca8ead69135592) is executed successfully with 1 completed step and 1 ignored step.\n",
       "</div>"
      ]
     },
     "metadata": {},
     "output_type": "display_data"
    }
   ],
   "source": [
    "!rm DEG.csv\n",
    "%run plot\n",
    "\n",
    "[global]\n",
    "excel_file = 'data/DEG.xlsx'\n",
    "csv_file = 'DEG.csv'\n",
    "figure_file = 'output.pdf'\n",
    "\n",
    "[convert]\n",
    "input: excel_file\n",
    "output: csv_file\n",
    "\n",
    "run: expand=True\n",
    "    xlsx2csv {_input} > {_output}\n",
    "\n",
    "[plot]\n",
    "input: csv_file\n",
    "output: figure_file\n",
    "\n",
    "R: expand=True\n",
    "    data <- read.csv('{_input}')\n",
    "    pdf('{_output}')\n",
    "    plot(data$log2FoldChange, data$stat)\n",
    "    dev.off()"
   ]
  },
  {
   "cell_type": "markdown",
   "metadata": {
    "kernel": "SoS"
   },
   "source": [
    "Basically, when the input of step `plot` (`csv_file`) is unavailable, SoS looks in the script for another step that generates this output. If it can be found, it will execute that step to produce the required input before step `plot` is executed."
   ]
  },
  {
   "cell_type": "markdown",
   "metadata": {
    "kernel": "SoS"
   },
   "source": [
    "A limitation of this kind of workflow is that the output of another step has to be determined \"easily\" either from the `output` statement itself, or with variable definitions from the `global` section. The following workflow would fail because the step of the output is defined as\n",
    "\n",
    "```\n",
    "output: _input.with_suffix('csv')\n",
    "```\n",
    "\n",
    "which takes the `_input` of the step and replaces its suffix with `.csv`. Because the `_output` depends on `_input`, it cannot be used to generate `data/DEG.csv` directly."
   ]
  },
  {
   "cell_type": "code",
   "execution_count": 14,
   "metadata": {
    "kernel": "SoS"
   },
   "outputs": [
    {
     "data": {
      "text/html": [
       "\n",
       "<table id=\"workflow_a9a72e0f-91e5-4c9a-a617-2a42ea5a1c5e\" class=\"workflow_table  failed\">\n",
       "<tr>\n",
       "      <td class=\"workflow_icon\">\n",
       "        <i id=\"workflow_status_icon_a9a72e0f-91e5-4c9a-a617-2a42ea5a1c5e\" class=\"fa fa-2x fa-fw fa-times-circle-o\"\n",
       "        onmouseover='this.classList=\"fa fa-2x fa-fw fa-trash\"' onmouseleave='this.classList=\"fa fa-2x fa-fw fa-times-circle-o\"' onclick=\"cancel_workflow(this.id.substring(21))\"></i>\n",
       "      </td>\n",
       "      <td class=\"workflow_name\">\n",
       "        <pre><span id=\"workflow_name_a9a72e0f-91e5-4c9a-a617-2a42ea5a1c5e\">plot</span></pre>\n",
       "      </td>\n",
       "      <td class=\"workflow_id\">\n",
       "        <span>Workflow ID</span></br>\n",
       "        <pre><i class=\"fa fa-fw fa-sitemap\"></i><span id=\"workflow_id_a9a72e0f-91e5-4c9a-a617-2a42ea5a1c5e\">a6e8c3256681ffe1</span></pre>\n",
       "      </td>\n",
       "      <td class=\"workflow_index\">\n",
       "        <span>Index</span></br>\n",
       "        <pre>#<span id=\"workflow_index_a9a72e0f-91e5-4c9a-a617-2a42ea5a1c5e\">14</span></pre>\n",
       "      </td>\n",
       "      <td class=\"workflow_status\">\n",
       "        <span id=\"status_text_a9a72e0f-91e5-4c9a-a617-2a42ea5a1c5e\">failed</span></br>\n",
       "        <pre><i class=\"fa fa-fw fa-clock-o\"></i><time id=\"status_duration_a9a72e0f-91e5-4c9a-a617-2a42ea5a1c5e\" class=\"failed\" datetime=\"1546750948858.458\">Ran for 0 sec</time></pre>\n",
       "      </td>\n",
       "</tr>\n",
       "</table>\n"
      ]
     },
     "metadata": {},
     "output_type": "display_data"
    },
    {
     "name": "stdout",
     "output_type": "stream",
     "text": [
      "\u001b[91mERROR\u001b[0m: \u001b[91mNo step to generate target data/DEG.csv requested by plot\u001b[0m\n"
     ]
    }
   ],
   "source": [
    "!rm -f data/DEG.csv\n",
    "%run plot\n",
    "\n",
    "[global]\n",
    "excel_file = 'data/DEG.xlsx'\n",
    "csv_file = 'data/DEG.csv'\n",
    "figure_file = 'output.pdf'\n",
    "\n",
    "[convert]\n",
    "input: excel_file\n",
    "output: _input.with_suffix('.csv')\n",
    "\n",
    "run: expand=True\n",
    "    xlsx2csv {_input} > {_output}\n",
    "\n",
    "[plot]\n",
    "input: csv_file\n",
    "output: figure_file\n",
    "\n",
    "R: expand=True\n",
    "    data <- read.csv('{_input}')\n",
    "    pdf('{_output}')\n",
    "    plot(data$log2FoldChange, data$stat)\n",
    "    dev.off()"
   ]
  },
  {
   "cell_type": "markdown",
   "metadata": {
    "kernel": "SoS"
   },
   "source": [
    "## Named output"
   ]
  },
  {
   "cell_type": "markdown",
   "metadata": {
    "kernel": "SoS"
   },
   "source": [
    "Similar to input statement, output of SoS steps can also be named. In the following example\n",
    "\n",
    "* 4 substeps are defined with `i=0`, `1`, `2`, and `3`\n",
    "* The output of each substep is `f'a_{i}.txt'` and `f'b_{i}.txt'` (`a_0.txt`, `b_0.txt` etc).\n",
    "* The outputs are grouped to group `a` and `b`.\n",
    "* The output of the entire step consist of `_output` of substeps, which becomes the `_input` of the next step. This is how we can example the output of step `10`. "
   ]
  },
  {
   "cell_type": "code",
   "execution_count": 10,
   "metadata": {
    "kernel": "SoS"
   },
   "outputs": [
    {
     "data": {
      "text/html": [
       "\n",
       "<table id=\"workflow_461289c7-a7cf-4c1f-924f-c18491a579c4\" class=\"workflow_table  completed\">\n",
       "<tr>\n",
       "      <td class=\"workflow_icon\">\n",
       "        <i id=\"workflow_status_icon_461289c7-a7cf-4c1f-924f-c18491a579c4\" class=\"fa fa-2x fa-fw fa-check-square-o\"\n",
       "        onmouseover='this.classList=\"fa fa-2x fa-fw fa-trash\"' onmouseleave='this.classList=\"fa fa-2x fa-fw fa-check-square-o\"' onclick=\"cancel_workflow(this.id.substring(21))\"></i>\n",
       "      </td>\n",
       "      <td class=\"workflow_name\">\n",
       "        <pre><span id=\"workflow_name_461289c7-a7cf-4c1f-924f-c18491a579c4\">default</span></pre>\n",
       "      </td>\n",
       "      <td class=\"workflow_id\">\n",
       "        <span>Workflow ID</span></br>\n",
       "        <pre><i class=\"fa fa-fw fa-sitemap\"></i><span id=\"workflow_id_461289c7-a7cf-4c1f-924f-c18491a579c4\">c05e8f20c645cdd0</span></pre>\n",
       "      </td>\n",
       "      <td class=\"workflow_index\">\n",
       "        <span>Index</span></br>\n",
       "        <pre>#<span id=\"workflow_index_461289c7-a7cf-4c1f-924f-c18491a579c4\">10</span></pre>\n",
       "      </td>\n",
       "      <td class=\"workflow_status\">\n",
       "        <span id=\"status_text_461289c7-a7cf-4c1f-924f-c18491a579c4\">completed</span></br>\n",
       "        <pre><i class=\"fa fa-fw fa-clock-o\"></i><time id=\"status_duration_461289c7-a7cf-4c1f-924f-c18491a579c4\" class=\"completed\" datetime=\"1546750503342.0852\">Ran for 0 sec</time></pre>\n",
       "      </td>\n",
       "</tr>\n",
       "</table>\n"
      ]
     },
     "metadata": {},
     "output_type": "display_data"
    },
    {
     "data": {
      "text/html": [
       "<div class=\"sos_logging sos_info\">INFO: Running <span class=\"sos_highlight\">10</span>: \n",
       "</div>"
      ]
     },
     "metadata": {},
     "output_type": "display_data"
    },
    {
     "data": {
      "text/html": [
       "<div class=\"sos_logging sos_info\">INFO: <span class=\"sos_highlight\">10</span> (index=0) is <span class=\"sos_highlight\">ignored</span> due to saved signature\n",
       "</div>"
      ]
     },
     "metadata": {},
     "output_type": "display_data"
    },
    {
     "data": {
      "text/html": [
       "<div class=\"sos_logging sos_info\">INFO: <span class=\"sos_highlight\">10</span> (index=1) is <span class=\"sos_highlight\">ignored</span> due to saved signature\n",
       "</div>"
      ]
     },
     "metadata": {},
     "output_type": "display_data"
    },
    {
     "data": {
      "text/html": [
       "<div class=\"sos_logging sos_info\">INFO: <span class=\"sos_highlight\">10</span> (index=2) is <span class=\"sos_highlight\">ignored</span> due to saved signature\n",
       "</div>"
      ]
     },
     "metadata": {},
     "output_type": "display_data"
    },
    {
     "data": {
      "text/html": [
       "<div class=\"sos_logging sos_info\">INFO: <span class=\"sos_highlight\">10</span> (index=3) is <span class=\"sos_highlight\">ignored</span> due to saved signature\n",
       "</div>"
      ]
     },
     "metadata": {},
     "output_type": "display_data"
    },
    {
     "data": {
      "text/html": [
       "<div class=\"sos_logging sos_info\">INFO: output:   <span class=\"sos_highlight\">a_0.txt b_0.txt... (8 items in 4 groups)</span>\n",
       "</div>"
      ]
     },
     "metadata": {},
     "output_type": "display_data"
    },
    {
     "data": {
      "text/html": [
       "<div class=\"sos_logging sos_info\">INFO: Running <span class=\"sos_highlight\">20</span>: \n",
       "</div>"
      ]
     },
     "metadata": {},
     "output_type": "display_data"
    },
    {
     "name": "stdout",
     "output_type": "stream",
     "text": [
      "a_0.txt b_0.txt with sources ['a', 'b']\n",
      "a_0.txt\n",
      "a_1.txt b_1.txt with sources ['a', 'b']\n",
      "a_1.txt\n",
      "a_2.txt b_2.txt with sources ['a', 'b']\n",
      "a_2.txt\n",
      "a_3.txt b_3.txt with sources ['a', 'b']\n",
      "a_3.txt\n"
     ]
    },
    {
     "data": {
      "text/html": [
       "<div class=\"sos_logging sos_info\">INFO: Workflow default (ID=c05e8f20c645cdd0) is executed successfully with 1 completed step, 4 completed substeps, 1 ignored step and 4 ignored substeps.\n",
       "</div>"
      ]
     },
     "metadata": {},
     "output_type": "display_data"
    }
   ],
   "source": [
    "%run\n",
    "\n",
    "[10]\n",
    "input: for_each=dict(i=range(4))\n",
    "output: a=f'a_{i}.txt', b=f'b_{i}.txt'\n",
    "_output.touch()\n",
    "\n",
    "[20]\n",
    "print(f'{_input} with sources {_input.sources}')\n",
    "print(_input['a'])"
   ]
  },
  {
   "cell_type": "markdown",
   "metadata": {
    "kernel": "SoS"
   },
   "source": [
    "As we can see, there are four substeps for step `20`. The `_input` of substeps has two files with names `a` and `b`, and we can refer to the targets with name `a` with `_input['a']`."
   ]
  },
  {
   "cell_type": "markdown",
   "metadata": {
    "kernel": "SoS"
   },
   "source": [
    "## Function `named_output` <a id=\"named_output\"></a>"
   ]
  },
  {
   "cell_type": "markdown",
   "metadata": {
    "kernel": "SoS"
   },
   "source": [
    " <div class=\"bs-callout bs-callout-primary\" role=\"alert\">\n",
    "    <h4>Function <code>named_output(name, group_by, ...)</code></h4>\n",
    "    <p>Function <code>named_output</code> refers the named output of any SoS step defined in the script. Using <code>named_output</code> in the <code>input</code> statement of a step will create an dependency on the step with the named output, and insert the named output as input of the step.</p>\n",
    " </div>"
   ]
  },
  {
   "cell_type": "markdown",
   "metadata": {
    "kernel": "SoS"
   },
   "source": [
    "The problem we had with complex output can be resolved by function `named_output()`. For example, the aforementioned workflow can be written as"
   ]
  },
  {
   "cell_type": "code",
   "execution_count": 13,
   "metadata": {
    "kernel": "SoS"
   },
   "outputs": [
    {
     "data": {
      "text/html": [
       "\n",
       "<table id=\"workflow_56e10eea-7116-4972-bf6c-098ef7175ac9\" class=\"workflow_table  completed\">\n",
       "<tr>\n",
       "      <td class=\"workflow_icon\">\n",
       "        <i id=\"workflow_status_icon_56e10eea-7116-4972-bf6c-098ef7175ac9\" class=\"fa fa-2x fa-fw fa-check-square-o\"\n",
       "        onmouseover='this.classList=\"fa fa-2x fa-fw fa-trash\"' onmouseleave='this.classList=\"fa fa-2x fa-fw fa-check-square-o\"' onclick=\"cancel_workflow(this.id.substring(21))\"></i>\n",
       "      </td>\n",
       "      <td class=\"workflow_name\">\n",
       "        <pre><span id=\"workflow_name_56e10eea-7116-4972-bf6c-098ef7175ac9\">plot</span></pre>\n",
       "      </td>\n",
       "      <td class=\"workflow_id\">\n",
       "        <span>Workflow ID</span></br>\n",
       "        <pre><i class=\"fa fa-fw fa-sitemap\"></i><span id=\"workflow_id_56e10eea-7116-4972-bf6c-098ef7175ac9\">4dcd3205dd8ea4c0</span></pre>\n",
       "      </td>\n",
       "      <td class=\"workflow_index\">\n",
       "        <span>Index</span></br>\n",
       "        <pre>#<span id=\"workflow_index_56e10eea-7116-4972-bf6c-098ef7175ac9\">13</span></pre>\n",
       "      </td>\n",
       "      <td class=\"workflow_status\">\n",
       "        <span id=\"status_text_56e10eea-7116-4972-bf6c-098ef7175ac9\">completed</span></br>\n",
       "        <pre><i class=\"fa fa-fw fa-clock-o\"></i><time id=\"status_duration_56e10eea-7116-4972-bf6c-098ef7175ac9\" class=\"completed\" datetime=\"1546750938104.7603\">Ran for 2 sec</time></pre>\n",
       "      </td>\n",
       "</tr>\n",
       "</table>\n"
      ]
     },
     "metadata": {},
     "output_type": "display_data"
    },
    {
     "data": {
      "text/html": [
       "<div class=\"sos_logging sos_info\">INFO: Running <span class=\"sos_highlight\">convert</span>: \n",
       "</div>"
      ]
     },
     "metadata": {},
     "output_type": "display_data"
    },
    {
     "name": "stdout",
     "output_type": "stream",
     "text": [
      "xlsx2csv data/DEG.xlsx > data/DEG.csv\n",
      "\n"
     ]
    },
    {
     "data": {
      "text/html": [
       "<div class=\"sos_logging sos_info\">INFO: output:   <span class=\"sos_highlight\">data/DEG.csv</span>\n",
       "</div>"
      ]
     },
     "metadata": {},
     "output_type": "display_data"
    },
    {
     "data": {
      "text/html": [
       "<div class=\"sos_logging sos_info\">INFO: Running <span class=\"sos_highlight\">plot</span>: \n",
       "</div>"
      ]
     },
     "metadata": {},
     "output_type": "display_data"
    },
    {
     "name": "stdout",
     "output_type": "stream",
     "text": [
      "null device \n",
      "          1 \n"
     ]
    },
    {
     "data": {
      "text/html": [
       "<div class=\"sos_logging sos_info\">INFO: output:   <span class=\"sos_highlight\">output.pdf</span>\n",
       "</div>"
      ]
     },
     "metadata": {},
     "output_type": "display_data"
    },
    {
     "data": {
      "text/html": [
       "<div class=\"sos_logging sos_info\">INFO: Workflow plot (ID=4dcd3205dd8ea4c0) is executed successfully with 2 completed steps.\n",
       "</div>"
      ]
     },
     "metadata": {},
     "output_type": "display_data"
    }
   ],
   "source": [
    "!rm -f data/DEG.csv\n",
    "%run plot\n",
    "\n",
    "[global]\n",
    "excel_file = 'data/DEG.xlsx'\n",
    "csv_file = 'data/DEG.csv'\n",
    "figure_file = 'output.pdf'\n",
    "\n",
    "[convert]\n",
    "input: excel_file\n",
    "output: csv = _input.with_suffix('.csv')\n",
    "\n",
    "run: expand=True\n",
    "    xlsx2csv {_input} > {_output}\n",
    "\n",
    "[plot]\n",
    "input: named_output('csv')\n",
    "output: figure_file\n",
    "\n",
    "R: expand=True\n",
    "    data <- read.csv('{_input}')\n",
    "    pdf('{_output}')\n",
    "    plot(data$log2FoldChange, data$stat)\n",
    "    dev.off()"
   ]
  },
  {
   "cell_type": "markdown",
   "metadata": {
    "kernel": "SoS"
   },
   "source": [
    "Here `named_output('csv')` refers to any step that produces an output with name `csv`, which is the step `convert` in this workflow. The input of step `plot` is the return value of `named_output('csv')` which is `data/DEG.csv`, although its exact name can only be identified after the conversion step is executed."
   ]
  },
  {
   "cell_type": "markdown",
   "metadata": {
    "kernel": "SoS"
   },
   "source": [
    "<div class=\"bs-callout bs-callout-warning\" role=\"alert\">\n",
    "    <h4>Uniqueness of names of output</h4>\n",
    "    <p>Although outputs of steps can be identified with arbitrary names and mulitple steps can have the same names for outputs, names refered by function <code>named_output</code> have to be unique.</p>\n",
    " </div>"
   ]
  },
  {
   "cell_type": "markdown",
   "metadata": {
    "kernel": "SoS"
   },
   "source": [
    "<div class=\"bs-callout bs-callout-warning\" role=\"alert\">\n",
    "    <h4><code>named_output()</code> can only be called from input statements</h4>\n",
    "    <p><code>named_output()</code> is a function provided by SoS to define input of steps and can only be called from input statements.</p>\n",
    " </div>"
   ]
  },
  {
   "cell_type": "markdown",
   "metadata": {
    "kernel": "SoS"
   },
   "source": [
    "## Groups of output returned by `named_output` *"
   ]
  },
  {
   "cell_type": "markdown",
   "metadata": {
    "kernel": "SoS"
   },
   "source": [
    "As we have seem, the output of a step can have multiple groups. In this case the return value of `named_output(name)` consists of the `name` part of all groups.\n",
    "\n",
    "In the following example, `named_output('a')` obtains the `a` part of the output of step `A`, which consists of 4 groups. During the execution of the workflow, step `A` is executed to generate input for step `default`, which consists of 4 steps with `_input` equals `a_0.txt`, `a_1.txt` etc."
   ]
  },
  {
   "cell_type": "code",
   "execution_count": 23,
   "metadata": {
    "kernel": "SoS"
   },
   "outputs": [
    {
     "data": {
      "text/html": [
       "\n",
       "<table id=\"workflow_2a710a47-9310-4e1f-8fca-55e787bd656d\" class=\"workflow_table  completed\">\n",
       "<tr>\n",
       "      <td class=\"workflow_icon\">\n",
       "        <i id=\"workflow_status_icon_2a710a47-9310-4e1f-8fca-55e787bd656d\" class=\"fa fa-2x fa-fw fa-check-square-o\"\n",
       "        onmouseover='this.classList=\"fa fa-2x fa-fw fa-trash\"' onmouseleave='this.classList=\"fa fa-2x fa-fw fa-check-square-o\"' onclick=\"cancel_workflow(this.id.substring(21))\"></i>\n",
       "      </td>\n",
       "      <td class=\"workflow_name\">\n",
       "        <pre><span id=\"workflow_name_2a710a47-9310-4e1f-8fca-55e787bd656d\">default</span></pre>\n",
       "      </td>\n",
       "      <td class=\"workflow_id\">\n",
       "        <span>Workflow ID</span></br>\n",
       "        <pre><i class=\"fa fa-fw fa-sitemap\"></i><span id=\"workflow_id_2a710a47-9310-4e1f-8fca-55e787bd656d\">42a47df1e4ce640a</span></pre>\n",
       "      </td>\n",
       "      <td class=\"workflow_index\">\n",
       "        <span>Index</span></br>\n",
       "        <pre>#<span id=\"workflow_index_2a710a47-9310-4e1f-8fca-55e787bd656d\">23</span></pre>\n",
       "      </td>\n",
       "      <td class=\"workflow_status\">\n",
       "        <span id=\"status_text_2a710a47-9310-4e1f-8fca-55e787bd656d\">completed</span></br>\n",
       "        <pre><i class=\"fa fa-fw fa-clock-o\"></i><time id=\"status_duration_2a710a47-9310-4e1f-8fca-55e787bd656d\" class=\"completed\" datetime=\"1546751792105.8901\">Ran for 0 sec</time></pre>\n",
       "      </td>\n",
       "</tr>\n",
       "</table>\n"
      ]
     },
     "metadata": {},
     "output_type": "display_data"
    },
    {
     "name": "stdout",
     "output_type": "stream",
     "text": [
      "Generating a_0.bak\n",
      "Generating a_1.bak\n",
      "Generating a_2.bak\n",
      "Generating a_3.bak\n"
     ]
    }
   ],
   "source": [
    "%run -v0 \n",
    "\n",
    "[A]\n",
    "input: for_each=dict(i=range(4))\n",
    "output: a=f'a_{i}.txt', b=f'b_{i}.txt'\n",
    "_output.touch()\n",
    "\n",
    "[default]\n",
    "input: named_output('a')\n",
    "output: _input.with_suffix('.bak')\n",
    "print(f'Generating {_output}')\n",
    "_output.touch()"
   ]
  },
  {
   "cell_type": "markdown",
   "metadata": {
    "kernel": "SoS"
   },
   "source": [
    "<div class=\"bs-callout bs-callout-warning\" role=\"alert\">\n",
    "    <h4>Option <code>group_by</code> of function <code>output_from</code></h4>\n",
    "    <p>Option <code>group_by</code> regroups the groups returned by <code>output_from</code>\n",
    "</div>"
   ]
  },
  {
   "cell_type": "markdown",
   "metadata": {
    "kernel": "SoS"
   },
   "source": [
    "If you would like to remove the groups or re-group the returned files using another method, you can use the `group_by` option of function `output_from`. For example, the `group_by='all'` option in the following example groups all 4 input files into a single group:"
   ]
  },
  {
   "cell_type": "code",
   "execution_count": 21,
   "metadata": {
    "kernel": "SoS"
   },
   "outputs": [
    {
     "data": {
      "text/html": []
     },
     "metadata": {},
     "output_type": "display_data"
    },
    {
     "name": "stdout",
     "output_type": "stream",
     "text": [
      "Generating a_0.bak a_1.bak a_2.bak a_3.bak\n"
     ]
    }
   ],
   "source": [
    "%run -v0 \n",
    "\n",
    "[A]\n",
    "input: for_each=dict(i=range(4))\n",
    "output: a=f'a_{i}.txt', b=f'b_{i}.txt'\n",
    "_output.touch()\n",
    "\n",
    "[default]\n",
    "input: named_output('a', group_by='all')\n",
    "output: [x.with_suffix('.bak') for x in _input]\n",
    "print(f'Generating {_output}')\n",
    "_output.touch()"
   ]
  },
  {
   "cell_type": "markdown",
   "metadata": {
    "kernel": "SoS"
   },
   "source": [
    "## Further reading\n",
    "\n",
    "* [How to include output from another step in a SoS step](doc/user_guide/output_from.html)\n",
    "* [How to use Makefile-style rules to generate required files](doc/user_guide/auxiliary_steps.html)\n",
    "* [How to execute workflow to generate specific output](doc/user_guide/target_oriented.html"
   ]
  }
 ],
 "metadata": {
  "kernelspec": {
   "display_name": "SoS",
   "language": "sos",
   "name": "sos"
  },
  "language_info": {
   "codemirror_mode": "sos",
   "file_extension": ".sos",
   "mimetype": "text/x-sos",
   "name": "sos",
   "nbconvert_exporter": "sos_notebook.converter.SoS_Exporter",
   "pygments_lexer": "sos"
  },
  "sos": {
   "kernels": [
    [
     "Bash",
     "bash",
     "Bash",
     "#E6EEFF"
    ],
    [
     "R",
     "ir",
     "R",
     "#DCDCDA"
    ],
    [
     "SoS",
     "sos",
     "",
     ""
    ]
   ],
   "panel": {
    "displayed": true,
    "height": 0
   },
   "version": "0.17.5"
  }
 },
 "nbformat": 4,
 "nbformat_minor": 2
}
