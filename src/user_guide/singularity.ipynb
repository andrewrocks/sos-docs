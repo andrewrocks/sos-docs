{
 "cells": [
  {
   "cell_type": "markdown",
   "metadata": {
    "kernel": "SoS"
   },
   "source": [
    "# How to execute script in singularity"
   ]
  },
  {
   "cell_type": "markdown",
   "metadata": {
    "kernel": "SoS"
   },
   "source": [
    "* **Difficulty level**: easy\n",
    "* **Time need to lean**: 10 minutes or less\n",
    "* **Key points**:\n",
    "\n",
    "  "
   ]
  },
  {
   "cell_type": "markdown",
   "metadata": {
    "kernel": "SoS"
   },
   "source": [
    "Before you run any script using singularity, please check if `singularity` is installed by checking the availability of command `singularity`. Also, it would be helpful for you to read the [sigularity user's guide](https://www.sylabs.io/docs/) or some online tutorial to understand how singularity works before you try to use singularity in SoS.\n",
    "\n",
    "Although running singularity images does not need root privilege, building singularity images often requires `sudo` access. SoS provides an option `sudo=True` to the `singularity_build` action (an equivalence to command `singularity build`) to execute the command in sudo mode, but it does not accept interactive input of password. So before running any `singularity_build` action with option `sudo=True`, please run `sudo -i` to enter sudo mode, or add your username as a sudo user without password (google \"sudo without password\" for instructions). The latter is not safe but can be very convenient for you to prepare singularity images on a personal linux workstation."
   ]
  },
  {
   "cell_type": "code",
   "execution_count": 1,
   "metadata": {
    "kernel": "SoS"
   },
   "outputs": [
    {
     "data": {
      "text/html": [
       "\n",
       "        <table class=\"revision_table\">\n",
       "        <tr>\n",
       "        <th>Revision</th>\n",
       "        <th>Author</th>\n",
       "        <th>Date</th>\n",
       "        <th>Message</th>\n",
       "        <tr>\n",
       "        <tr><td><span class=\"revision_id\">64ebdc5<span></td>\n",
       "<td>Bo Peng</td>\n",
       "<td>2018-09-08</td>\n",
       "<td>Update toc</td></tr><tr><td><span class=\"revision_id\">89058f0<span></td>\n",
       "<td>Bo Peng</td>\n",
       "<td>2018-09-08</td>\n",
       "<td>Add singularity guide</td></tr></table>"
      ]
     },
     "metadata": {},
     "output_type": "display_data"
    }
   ],
   "source": [
    "%revisions"
   ]
  },
  {
   "cell_type": "markdown",
   "metadata": {
    "kernel": "SoS"
   },
   "source": [
    "## Running a script using singularity"
   ]
  },
  {
   "cell_type": "markdown",
   "metadata": {
    "kernel": "SoS"
   },
   "source": [
    "SoS executes scripts with a singularity container by calling command `singularity exec` with appropriate parameters. For example, if you specify a container with a `shub:` schema, sos will first pull the image, save it as a local image, and use `singularity exec` to run it:"
   ]
  },
  {
   "cell_type": "code",
   "execution_count": 2,
   "metadata": {
    "kernel": "SoS",
    "scrolled": true
   },
   "outputs": [
    {
     "data": {
      "text/html": [
       "<div class=\"sos_hint\">Pulling image shub://singularityhub/ubuntu</div>"
      ]
     },
     "metadata": {},
     "output_type": "display_data"
    },
    {
     "name": "stdout",
     "output_type": "stream",
     "text": [
      "\n",
      "cat /etc/os-release\n",
      "NAME=\"Ubuntu\"\n",
      "VERSION=\"14.04, Trusty Tahr\"\n",
      "ID=ubuntu\n",
      "ID_LIKE=debian\n",
      "PRETTY_NAME=\"Ubuntu 14.04 LTS\"\n",
      "VERSION_ID=\"14.04\"\n",
      "HOME_URL=\"http://www.ubuntu.com/\"\n",
      "SUPPORT_URL=\"http://help.ubuntu.com/\"\n",
      "BUG_REPORT_URL=\"http://bugs.launchpad.net/ubuntu/\"\n"
     ]
    }
   ],
   "source": [
    "%run\n",
    "run: container='shub://singularityhub/ubuntu'\n",
    "  cat /etc/os-release"
   ]
  },
  {
   "cell_type": "markdown",
   "metadata": {
    "kernel": "SoS"
   },
   "source": [
    "The actual `singularity exec` command executed by SoS can be shown when you execute the script in dryrun mode (with `-n` option). In this mode, SoS would print the interpolated script (if option `expand=True` is set) and the docker command to execute it:"
   ]
  },
  {
   "cell_type": "code",
   "execution_count": 3,
   "metadata": {
    "kernel": "SoS"
   },
   "outputs": [
    {
     "data": {
      "text/html": [
       "<div class=\"sos_hint\">singularity exec  singularityhub-ubuntu.simg /bin/bash -ev /home/bpeng1/sos/sos-docs/src/tutorials/tmpsr3e7w2y/singularity_run_107345.sh</div>"
      ]
     },
     "metadata": {},
     "output_type": "display_data"
    },
    {
     "name": "stdout",
     "output_type": "stream",
     "text": [
      "\n",
      "cat /etc/os-release\n",
      "\n"
     ]
    }
   ],
   "source": [
    "%rerun -n"
   ]
  },
  {
   "cell_type": "markdown",
   "metadata": {
    "kernel": "SoS"
   },
   "source": [
    "As you can see, the docker command looks similar to\n",
    "\n",
    "```\n",
    "singularity exec singularityhub-ubuntu.simg /bin/bash -ev /path/to/a/temp/script\n",
    "```\n",
    "\n",
    "Basically, SoS pulls the image and runs command `singularity exec` to execte the script with `/bin/bash` with the singularity image."
   ]
  },
  {
   "cell_type": "markdown",
   "metadata": {
    "kernel": "SoS"
   },
   "source": [
    "You can also use a docker image with singularity. However, because `docker://` images are by default executed by docker, you will need to specify the use of singularity using parameter `engine='singularity'`:"
   ]
  },
  {
   "cell_type": "code",
   "execution_count": 4,
   "metadata": {
    "kernel": "SoS"
   },
   "outputs": [
    {
     "name": "stdout",
     "output_type": "stream",
     "text": [
      "cat /etc/os-release\n",
      "NAME=\"Ubuntu\"\n",
      "VERSION=\"18.04.1 LTS (Bionic Beaver)\"\n",
      "ID=ubuntu\n",
      "ID_LIKE=debian\n",
      "PRETTY_NAME=\"Ubuntu 18.04.1 LTS\"\n",
      "VERSION_ID=\"18.04\"\n",
      "HOME_URL=\"https://www.ubuntu.com/\"\n",
      "SUPPORT_URL=\"https://help.ubuntu.com/\"\n",
      "BUG_REPORT_URL=\"https://bugs.launchpad.net/ubuntu/\"\n",
      "PRIVACY_POLICY_URL=\"https://www.ubuntu.com/legal/terms-and-policies/privacy-policy\"\n",
      "VERSION_CODENAME=bionic\n",
      "UBUNTU_CODENAME=bionic\n"
     ]
    }
   ],
   "source": [
    "%run\n",
    "run: container='docker://ubuntu', engine='singularity'\n",
    "  cat /etc/os-release"
   ]
  },
  {
   "cell_type": "markdown",
   "metadata": {
    "kernel": "SoS"
   },
   "source": [
    "In summary, as listed [here](https://vatlab.github.io/sos-docs/doc/documentation/Targets_and_Actions.html#container-and-engine-124), you can invoke `singularity` with the following combinations of parameters `container` and `engine`:\n",
    "\n",
    "| `container` | `engine` | execute by | example | comment | \n",
    "| -- | -- | -- | -- | -- |\n",
    "| `filename.simg` | ` ` | singularity | `container='ubuntu.simg'` | |\n",
    "| `shub://tag` | ` ` | singularity | `container='shub://GodloveD/lolcow'` | Image will be pulled to a local image |\n",
    "| `name` | `singularity` | singularity | `container='a_dir', engine='singularity'` | treat `name` as singularity image file or directory |\n",
    "| `docker://tag` | `singularity` | singularity |  `container='docker://godlovdc/lolcow', engine='singularity'`  |  |\n",
    "| `file://filename` | ` ` | singularity | `container='file://ubuntu.simg'` | |\n",
    "\n",
    "Simply put, singularity will be used by default with container `shub://`, `file://`, and `filename.simg`, but you will have to specify `engine='singularity'` if you would like to use a docker image or a directory."
   ]
  },
  {
   "cell_type": "markdown",
   "metadata": {
    "kernel": "SoS"
   },
   "source": [
    "## Building singularity images"
   ]
  },
  {
   "cell_type": "markdown",
   "metadata": {
    "kernel": "SoS"
   },
   "source": [
    "### Action `singularity_build` <a id=\"singularity_build\"></a>"
   ]
  },
  {
   "cell_type": "markdown",
   "metadata": {
    "kernel": "SoS"
   },
   "source": [
    "Action `singularity_build` calls command `singularity build` with appropriate command line options. The SoS equivalence of the example in the singularity user's guide\n",
    "\n",
    "```\n",
    "singularity build lolcow.simg shub://GodloveD/lolcow\n",
    "```\n",
    "is the `singularity_build` action with options `src` and `dest`:"
   ]
  },
  {
   "cell_type": "code",
   "execution_count": 5,
   "metadata": {
    "kernel": "SoS"
   },
   "outputs": [
    {
     "name": "stdout",
     "output_type": "stream",
     "text": [
      "Cache folder set to /home/bpeng1/.singularity/shub\n",
      "Progress |===================================| 100.0% \n",
      "cat: write error: Broken pipe\n",
      "Building from local image: /home/bpeng1/.singularity/shub/GodloveD-lolcow-master-latest.simg\n",
      "\u001b[33mWARNING: Building container as an unprivileged user. If you run this container as root\n",
      "\u001b(B\u001b[m\u001b[33mWARNING: it may be missing some functionality.\n",
      "\u001b(B\u001b[mBuilding Singularity image...\n",
      "Singularity container built: lolcow.simg\n",
      "Cleaning up...\n"
     ]
    },
    {
     "data": {
      "text/plain": [
       "0"
      ]
     },
     "execution_count": 5,
     "metadata": {},
     "output_type": "execute_result"
    }
   ],
   "source": [
    "singularity_build(src='shub://GodloveD/lolcow', dest='lolcow.simg')"
   ]
  },
  {
   "cell_type": "markdown",
   "metadata": {
    "kernel": "SoS"
   },
   "source": [
    "As you can see from the warning message, you are recommended to build the image with root privilege. In this case, you can add option `sudo=True` when you are certain that the user is in SUDO (no password) mode:"
   ]
  },
  {
   "cell_type": "code",
   "execution_count": 6,
   "metadata": {
    "kernel": "SoS"
   },
   "outputs": [
    {
     "name": "stdout",
     "output_type": "stream",
     "text": [
      "Cache folder set to /root/.singularity/shub\n",
      "Progress |===================================| 100.0% \n",
      "cat: write error: Broken pipe\n",
      "Building from local image: /root/.singularity/shub/GodloveD-lolcow-master-latest.simg\n",
      "Building Singularity image...\n",
      "Singularity container built: lolcow_sudo.simg\n",
      "Cleaning up...\n"
     ]
    },
    {
     "data": {
      "text/plain": [
       "0"
      ]
     },
     "execution_count": 6,
     "metadata": {},
     "output_type": "execute_result"
    }
   ],
   "source": [
    "singularity_build(src='shub://GodloveD/lolcow', dest='lolcow_sudo.simg', sudo=True)"
   ]
  },
  {
   "cell_type": "markdown",
   "metadata": {
    "kernel": "SoS"
   },
   "source": [
    "You can also use action `singularity_build` to build an image from a singularity definition file. Using an example from the user's guide:"
   ]
  },
  {
   "cell_type": "code",
   "execution_count": 7,
   "metadata": {
    "kernel": "SoS"
   },
   "outputs": [
    {
     "name": "stdout",
     "output_type": "stream",
     "text": [
      "Building into existing container: lolcow.simg\n",
      "Using container recipe deffile: /home/bpeng1/sos/sos-docs/src/tutorials/tmpuvnehg53/singularity.def\n",
      "Sanitizing environment\n",
      "\u001b[0mAdding base Singularity environment to container\n",
      "User defined %runscript found! Taking priority.\n",
      "Adding environment to container\n",
      "Running post scriptlet\n",
      "+ apt-get -y update\n",
      "Get:1 http://security.ubuntu.com/ubuntu xenial-security InRelease [107 kB]\n",
      "Hit:2 http://archive.ubuntu.com/ubuntu xenial InRelease\n",
      "Get:3 http://archive.ubuntu.com/ubuntu xenial-updates InRelease [109 kB]       \n",
      "Get:4 http://security.ubuntu.com/ubuntu xenial-security/universe Sources [90.3 kB]\n",
      "Get:5 http://archive.ubuntu.com/ubuntu xenial-backports InRelease [107 kB]     \n",
      "Get:6 http://security.ubuntu.com/ubuntu xenial-security/main amd64 Packages [703 kB]\n",
      "Get:7 http://archive.ubuntu.com/ubuntu xenial-updates/universe Sources [277 kB]\n",
      "Get:8 http://security.ubuntu.com/ubuntu xenial-security/restricted amd64 Packages [12.7 kB]\n",
      "Get:9 http://security.ubuntu.com/ubuntu xenial-security/universe amd64 Packages [468 kB]\n",
      "Get:10 http://archive.ubuntu.com/ubuntu xenial-updates/main amd64 Packages [1088 kB]\n",
      "Get:11 http://security.ubuntu.com/ubuntu xenial-security/multiverse amd64 Packages [3748 B]\n",
      "Get:12 http://archive.ubuntu.com/ubuntu xenial-updates/restricted amd64 Packages [13.1 kB]\n",
      "Get:13 http://archive.ubuntu.com/ubuntu xenial-updates/universe amd64 Packages [878 kB]\n",
      "Get:14 http://archive.ubuntu.com/ubuntu xenial-updates/multiverse amd64 Packages [18.8 kB]\n",
      "Get:15 http://archive.ubuntu.com/ubuntu xenial-backports/main amd64 Packages [7343 B]\n",
      "Get:16 http://archive.ubuntu.com/ubuntu xenial-backports/universe amd64 Packages [8086 B]\n",
      "Fetched 3890 kB in 6s (620 kB/s)                                               \n",
      "Reading package lists... Done\n",
      "+ apt-get -y install fortune cowsay lolcat\n",
      "Reading package lists... Done\n",
      "Building dependency tree       \n",
      "Reading state information... Done\n",
      "Note, selecting 'fortune-mod' instead of 'fortune'\n",
      "cowsay is already the newest version (3.03+dfsg1-15).\n",
      "fortune-mod is already the newest version (1:1.99.1-7).\n",
      "lolcat is already the newest version (42.0.99-1).\n",
      "0 upgraded, 0 newly installed, 0 to remove and 50 not upgraded.\n",
      "Adding runscript\n",
      "Found an existing definition file\n",
      "Adding a bootstrap_history directory\n",
      "Finalizing Singularity container\n",
      "Calculating final size for metadata...\n",
      "Skipping checks\n",
      "Building Singularity image...\n",
      "Singularity container built: lolcow.simg\n",
      "Cleaning up...\n"
     ]
    },
    {
     "data": {
      "text/plain": [
       "0"
      ]
     },
     "execution_count": 7,
     "metadata": {},
     "output_type": "execute_result"
    }
   ],
   "source": [
    "singularity_build: dest='lolcow.simg', sudo=True\n",
    "    Bootstrap: docker\n",
    "    From: ubuntu:16.04\n",
    "    %post\n",
    "        apt-get -y update\n",
    "        apt-get -y install fortune cowsay lolcat\n",
    "    %environment\n",
    "        export LC_ALL=C\n",
    "        export PATH=/usr/games:$PATH\n",
    "    %runscript\n",
    "        fortune | cowsay | lolcat "
   ]
  },
  {
   "cell_type": "markdown",
   "metadata": {
    "kernel": "SoS"
   },
   "source": [
    "Options such as `notest=True` could be add to the action. Note that the content of the definition file is indented for  clarify, but you can include the file as it is (no indentation)."
   ]
  },
  {
   "cell_type": "markdown",
   "metadata": {
    "kernel": "SoS"
   },
   "source": [
    "## Running script with singularity image"
   ]
  },
  {
   "cell_type": "markdown",
   "metadata": {
    "kernel": "SoS"
   },
   "source": [
    "Although singularity accepts `docker://` and `shub://` container tags, SoS always pull the image and build a local `.simg` file before executing it. If the container is used again, the local `simg` file will be used directly.\n",
    "\n",
    "For example, the following action will pull `docker://ubuntu` and create `ubuntu.simg`"
   ]
  },
  {
   "cell_type": "code",
   "execution_count": 8,
   "metadata": {
    "kernel": "SoS"
   },
   "outputs": [
    {
     "name": "stdout",
     "output_type": "stream",
     "text": [
      "ls /\n",
      "bin   dev\t   etc\t lib\tmedia  opt   root  sbin\t\tsrv  tmp  var\n",
      "boot  environment  home  lib64\tmnt    proc  run   singularity\tsys  usr\n"
     ]
    }
   ],
   "source": [
    "run: container='docker://ubuntu', engine='singularity'\n",
    "  ls /"
   ]
  },
  {
   "cell_type": "markdown",
   "metadata": {
    "kernel": "SoS"
   },
   "source": [
    "and you can use `container='ubuntu.simg'` directly if you have an exiting `ubuntu.simg` file"
   ]
  },
  {
   "cell_type": "code",
   "execution_count": 9,
   "metadata": {
    "kernel": "SoS"
   },
   "outputs": [
    {
     "name": "stdout",
     "output_type": "stream",
     "text": [
      "ls /\n",
      "bin   dev\t   etc\t lib\tmedia  opt   root  sbin\t\tsrv  tmp  var\n",
      "boot  environment  home  lib64\tmnt    proc  run   singularity\tsys  usr\n"
     ]
    }
   ],
   "source": [
    "run: container='ubuntu.simg'\n",
    "  ls /"
   ]
  },
  {
   "cell_type": "markdown",
   "metadata": {
    "kernel": "SoS"
   },
   "source": [
    "### Binding directories (option `bind`)"
   ]
  },
  {
   "cell_type": "markdown",
   "metadata": {
    "kernel": "SoS"
   },
   "source": [
    "A very useful feature about singularity is that you can use the container almost as a local command with access to local file system,"
   ]
  },
  {
   "cell_type": "code",
   "execution_count": 10,
   "metadata": {
    "kernel": "SoS"
   },
   "outputs": [
    {
     "name": "stdout",
     "output_type": "stream",
     "text": [
      "wc -l ~/.bashrc\n",
      "128 /home/bpeng1/.bashrc\n"
     ]
    }
   ],
   "source": [
    "run: container='ubuntu.simg'\n",
    "  wc -l ~/.bashrc"
   ]
  },
  {
   "cell_type": "markdown",
   "metadata": {
    "kernel": "SoS"
   },
   "source": [
    "However, singularity only binds current working directory, `/tmp`, and your home directory. Other directories would be from within the image, or appear to be missing even if they exist on the host file system. For example, the following command lists `/usr/local` inside the image:"
   ]
  },
  {
   "cell_type": "code",
   "execution_count": 11,
   "metadata": {
    "kernel": "SoS"
   },
   "outputs": [
    {
     "name": "stdout",
     "output_type": "stream",
     "text": [
      "ls /usr/local\n",
      "bin  etc  games  include  lib  man  sbin  share  src\n"
     ]
    }
   ],
   "source": [
    "run: container='ubuntu.simg'\n",
    "  ls /usr/local"
   ]
  },
  {
   "cell_type": "markdown",
   "metadata": {
    "kernel": "SoS"
   },
   "source": [
    "and `/usr/local/var` would appear to be missing"
   ]
  },
  {
   "cell_type": "code",
   "execution_count": 12,
   "metadata": {
    "kernel": "SoS"
   },
   "outputs": [
    {
     "name": "stdout",
     "output_type": "stream",
     "text": [
      "ls /usr/local/var\n",
      "ls: cannot access '/usr/local/var': No such file or directory\n"
     ]
    },
    {
     "name": "stderr",
     "output_type": "stream",
     "text": [
      "Executing script in Singularity returns an error (exitcode=2).\n",
      "The script has been saved to /home/bpeng1/sos/sos-docs/src/tutorials/.sos/singularity_run_107345.sh. To reproduce the error please run:\n",
      "``singularity exec  ubuntu.simg /bin/bash -ev /home/bpeng1/sos/sos-docs/src/tutorials/.sos/singularity_run_107345.sh``\n"
     ]
    }
   ],
   "source": [
    "run: container='ubuntu.simg'\n",
    "  ls /usr/local/var"
   ]
  },
  {
   "cell_type": "markdown",
   "metadata": {
    "kernel": "SoS"
   },
   "source": [
    "To allow singularity to see more directories, you can add one or more parameters to the `bind` parameter. For example, with `bind='/usr/local'`, the `singularity exec` command lists directory `/usr/local` from the host filesystem:"
   ]
  },
  {
   "cell_type": "code",
   "execution_count": 13,
   "metadata": {
    "kernel": "SoS"
   },
   "outputs": [
    {
     "name": "stdout",
     "output_type": "stream",
     "text": [
      "ls /usr/local\n",
      "bin  etc  games  include  lib  libexec\tman  sbin  share  src  var\n"
     ]
    }
   ],
   "source": [
    "run: container='ubuntu.simg', bind='/usr/local'\n",
    "  ls /usr/local"
   ]
  },
  {
   "cell_type": "markdown",
   "metadata": {
    "kernel": "SoS"
   },
   "source": [
    "and we can see `/usr/local/var` actually exists"
   ]
  },
  {
   "cell_type": "code",
   "execution_count": 14,
   "metadata": {
    "kernel": "SoS"
   },
   "outputs": [
    {
     "name": "stdout",
     "output_type": "stream",
     "text": [
      "ls /usr/local/var\n",
      "singularity\n"
     ]
    }
   ],
   "source": [
    "run: container='ubuntu.simg', bind='/usr/local'\n",
    "  ls /usr/local/var"
   ]
  },
  {
   "cell_type": "markdown",
   "metadata": {
    "kernel": "SoS"
   },
   "source": [
    "Parameter `bind` accepts `host_dir:img_dir` pairs to mount `host_dir` from host as `img_dir` seen by the image"
   ]
  },
  {
   "cell_type": "code",
   "execution_count": 15,
   "metadata": {
    "kernel": "SoS"
   },
   "outputs": [
    {
     "name": "stdout",
     "output_type": "stream",
     "text": [
      "ls /myvar\n",
      "singularity\n"
     ]
    }
   ],
   "source": [
    "%run -v3\n",
    "run: container='ubuntu.simg', bind='/usr/local/var:/myvar'\n",
    "  ls /myvar"
   ]
  }
 ],
 "metadata": {
  "anaconda-cloud": {},
  "kernelspec": {
   "display_name": "SoS",
   "language": "sos",
   "name": "sos"
  },
  "language_info": {
   "codemirror_mode": "sos",
   "file_extension": ".sos",
   "mimetype": "text/x-sos",
   "name": "sos",
   "nbconvert_exporter": "sos_notebook.converter.SoS_Exporter",
   "pygments_lexer": "sos"
  },
  "sos": {
   "default_kernel": "SoS",
   "kernels": [
    [
     "SoS",
     "sos",
     "",
     ""
    ]
   ],
   "panel": {
    "displayed": true,
    "height": 0,
    "style": "side"
   },
   "version": "0.17.5"
  }
 },
 "nbformat": 4,
 "nbformat_minor": 2
}
