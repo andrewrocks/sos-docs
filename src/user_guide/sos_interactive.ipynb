{
 "cells": [
  {
   "cell_type": "markdown",
   "metadata": {
    "kernel": "SoS"
   },
   "source": [
    "# How to use SoS notebook for interactive data analysis"
   ]
  },
  {
   "cell_type": "markdown",
   "metadata": {
    "kernel": "SoS"
   },
   "source": [
    "* **Difficulty level**: easy\n",
    "* **Time need to lean**: 10 minutes or less\n",
    "* **Key points**:\n",
    "  * Use `Ctrl-Shift-Enter` to send current line or selected text to console panel\n",
    "  "
   ]
  },
  {
   "cell_type": "markdown",
   "metadata": {
    "kernel": "SoS"
   },
   "source": [
    "## Console panel <a id=\"Side_panel\"></a>"
   ]
  },
  {
   "cell_type": "markdown",
   "metadata": {
    "kernel": "SoS"
   },
   "source": [
    "SoS provides a side panel that can be toggled by a cube icon next to the language selection dropdown. The side panel contains a special cell that is used for two purposes:\n",
    "\n",
    "1. A scratch cell using which you can evaluate any expression and check its results. \n",
    "2. A preview cell in which the `%preview` magic of any cell would be executed if the side panel is open.\n",
    "\n",
    "The input area of the panel cell has a dropdown button that allows you to execute a few frequently executed magics and previous executed statements.\n",
    "\n",
    "Because this cell is not part of the main notebook, its output will not be saved with the notebook. This allows you to test commands, check environment, values of variables and content of files without affecting the content of the notebook.\n"
   ]
  },
  {
   "cell_type": "markdown",
   "metadata": {
    "kernel": "SoS"
   },
   "source": [
    "### Keyboard Shortcuts <a id=\"Keyboard_Shortcuts\"></a>"
   ]
  },
  {
   "cell_type": "markdown",
   "metadata": {
    "kernel": "SoS"
   },
   "source": [
    "In addition to shortcuts defined by Jupyter (e.g. `Ctrl-Enter` to evaluate a cell and `Shift-Enter` to evaluate a cell and move next), the SoS kernel defines the following shortcuts\n",
    "\n",
    "1. `Ctrl-Shift-Enter` This shortcut **send current line or selected text to the panel cell for evaluation**. This effectively allows you to evaluate content of a cell line by line. This shortcut works for both code and markdown cells. The panel cell will switch to the kernel of the sending cell if the sending cell is a code cell. \n",
    "2. `Ctrl-Shift-t` executes magic `%toc` that **displays the table of content of the current notebook** in the side panel, allowing you to easily navigate within a (long) notebook.\n",
    "3. `Ctrl-Shift-O` (output) **toggles a code cell tag `show_output`** and mark the output with a gray bar to the right of the output area, or toggle a markdown cell tag `hide_output`. The tags will be rendered accordingly in HTML reports generated using sos templates.\n",
    "4. `Ctrl-Shift-v` (paste-table) If you have a table copied from external sources such as HTML page or excel file and if you are inside of a markdown cell, this shortcut **pastes table as markdown code to the current cell**. This allows easy copy of tables to SoS notebook.\n",
    "5. `Ctrl-Shift-m` (markdown) **toggle a cell between markdown and code type**, which can be easier to use than select code or markdown cell type from tool bar.\n",
    "6. `Ctrl-B` toggles side-panel. This is for compatibility with the toc2 extension of Jupyter notebook."
   ]
  },
  {
   "cell_type": "markdown",
   "metadata": {
    "kernel": "SoS"
   },
   "source": [
    "### Other usage hints <a id=\"Other_usage_hints\"></a>"
   ]
  },
  {
   "cell_type": "markdown",
   "metadata": {
    "kernel": "SoS"
   },
   "source": [
    "1. **Paste pictures from clipboard**: You can paste image from clipboard directly to a markdown cell of the Jupyter notebook using `Ctrl-V` (or `Cmd-V` under Mac OS X). The key here is that you should select a markdown cell before pasting.\n",
    "2. **Drag and drop figures**: You can drag a picture and drop it to a markdown cell of the Jupyter notebook.\n",
    "3. **Tab completion**: You can use tab to complete keyword, magics (enter `%` and press `TAB` to get a list of magics), variable name, function name, file name etc.\n",
    "4. **Inspect name**: You can place your cursor inside a keyword, function name, magic etc, and press `CTRL-TAB` to inspect it. SoS will show variable name,, help message etc depending on the keyword that is being inspected.\n",
    "5. If the console window is getting long, execute `clear` in the console cell will clear it."
   ]
  },
  {
   "cell_type": "markdown",
   "metadata": {
    "kernel": "sos"
   },
   "source": [
    "### <a id=\"magic_cd\"></a>`%cd` \n",
    "\n",
    "Change the current working directory of the SoS kernel and all subkernels to `dir`."
   ]
  },
  {
   "cell_type": "markdown",
   "metadata": {
    "kernel": "SoS"
   },
   "source": [
    "### How to get help <a id=\"How_to_get_help\"></a>"
   ]
  },
  {
   "cell_type": "markdown",
   "metadata": {
    "kernel": "SoS"
   },
   "source": [
    "It is recommended that you go through this document and understand how SoS Notebook works, but it is of course not possible for you to memorize all the magics, SoS actions and their options. To get help, you can\n",
    "\n",
    "1. For a complete reference, visit the [documentation page of SoS](https://vatlab.github.io/SoS/#documentation).\n",
    "2. For a list of available magics, type `%` and `TAB` (completion).\n",
    "3. For help on a particular magic, execute the magic with option `-h` (e.g. `%run -h`) in the side panel. Alternatively, you can place your cursor on `%run` and press `CTRL-TAB` to get a short description of magic.\n",
    "4. For help on a SoS action (e.g. `python`), place your cursor on the action name (e.g. before `:` on `python:`), press `CTRL-TAB` to get the help message of the action."
   ]
  },
  {
   "cell_type": "markdown",
   "metadata": {
    "kernel": "SoS"
   },
   "source": [
    "## Further reading\n",
    "\n",
    "* "
   ]
  }
 ],
 "metadata": {
  "kernelspec": {
   "display_name": "SoS",
   "language": "sos",
   "name": "sos"
  },
  "language_info": {
   "codemirror_mode": "sos",
   "file_extension": ".sos",
   "mimetype": "text/x-sos",
   "name": "sos",
   "nbconvert_exporter": "sos_notebook.converter.SoS_Exporter",
   "pygments_lexer": "sos"
  },
  "sos": {
   "kernels": [
    [
     "Bash",
     "bash",
     "Bash",
     "#E6EEFF"
    ],
    [
     "R",
     "ir",
     "R",
     "#DCDCDA"
    ],
    [
     "SoS",
     "sos",
     "",
     ""
    ]
   ],
   "panel": {
    "displayed": true,
    "height": 0
   },
   "version": "0.19.2"
  }
 },
 "nbformat": 4,
 "nbformat_minor": 2
}
