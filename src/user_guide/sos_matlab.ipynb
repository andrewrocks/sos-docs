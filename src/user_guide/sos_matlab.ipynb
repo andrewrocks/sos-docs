{
 "cells": [
  {
   "cell_type": "markdown",
   "metadata": {
    "kernel": "SoS"
   },
   "source": [
    "# How to work with Matlab and Octave"
   ]
  },
  {
   "cell_type": "markdown",
   "metadata": {
    "kernel": "SoS"
   },
   "source": [
    "* **Difficulty level**: easy\n",
    "* **Time need to lean**: 10 minutes or less\n",
    "  "
   ]
  },
  {
   "cell_type": "markdown",
   "metadata": {
    "kernel": "SoS"
   },
   "source": [
    "## MATLAB (Octave) <a id=\"Matlab_Octave\"></a>"
   ]
  },
  {
   "cell_type": "markdown",
   "metadata": {
    "kernel": "SoS"
   },
   "source": [
    "SoS tries to exchange variables with MATLAB/Octave in the most natural way. For example it converts numpy arrays to MATLAB matrix, and dictionaries to MATLAB struct. It converts Python DataFrame (or R `data.frame`) to `table` in MATLAB but to `dataframe` in Octave because the latter is closer to Python DataFrame."
   ]
  },
  {
   "cell_type": "markdown",
   "metadata": {
    "kernel": "SoS"
   },
   "source": [
    "The convertion of datatype from SoS to MATLAB (Octave) is as followings:\n",
    "  \n",
    "  | Python  |  condition |   MATLAB/Octave |\n",
    "  | --- | --- |---|\n",
    "  | `None` | |    `NaN` |\n",
    "  | `boolean` |   | `logical` |\n",
    "  | `integer` |  |  `integer` |\n",
    "  | `float` |  |  `float` |\n",
    "  | `complex` |  |  `complex` |\n",
    "  | `str` |  | `str` |\n",
    "  | `char` |  | `char` |\n",
    "  | Sequence (`list`, `tuple`, ...) |  homogenous type, all numeric |  `vector` |\n",
    "  | Sequence (`list`, `tuple`, ...) |  homogenous type, all char |  `char` |\n",
    "  | Sequence (`list`, `tuple`, ...) |  multiple types |  `cell` |\n",
    "  | `set` |  |  `cell` |\n",
    "  | `dict` |  |`struct`|\n",
    "  | `numpy.ndarray` |  | `cell` |\n",
    "  | `numpy.matrix` |  | `matrix` |\n",
    "  | `pandas.DataFrame` |  |  `table` (MATLAB) |\n",
    "  | |  | `dataframe` (Octave) |\n",
    "  Python objects in other datatypes are transferred as string `\"Unsupported datatype\"`."
   ]
  },
  {
   "cell_type": "markdown",
   "metadata": {
    "kernel": "SoS"
   },
   "source": [
    "The convertion of datatype from MATLAB (Octave) to SoS is as followings:\n",
    "\n",
    "  | MATLAB  |  length (n) |   Python |\n",
    "  | --- | --- |---|\n",
    "  | `NaN` | |    `None` |\n",
    "  | `logical` |  `1` |  `boolean` |\n",
    "  | `integer` |  `1` |  `integer` |\n",
    "  | `numeric` |  `1` |  `double` |\n",
    "  | `character` |  `1` |  `string` |\n",
    "  | `complex` |  `1` |  `complex` |\n",
    "  | `logical` |  `n > 1` |  `list` |\n",
    "  | `integer` |  `n > 1` |  `list` |\n",
    "  | `complex` |  `n > 1` |  `list` |\n",
    "  | `numeric` |  `n > 1` |  `list` |\n",
    "  | `character` |  `n > 1` |  `list` |\n",
    "  | `struct` |  `n > 0` | `numpy.ndarray` |\n",
    "  | `matrix` |  `n > 0` |  `numpy.array` |\n",
    "  | `cell` |  `n > 0` |  `numpy.ndarray` |\n",
    "  | `table` |  `n > 0` |  `pandas.DataFrame` |\n",
    "  "
   ]
  },
  {
   "cell_type": "markdown",
   "metadata": {
    "kernel": "SoS"
   },
   "source": [
    "For example, a R dataframe is transfered as table to MATLAB."
   ]
  },
  {
   "cell_type": "code",
   "execution_count": 3,
   "metadata": {
    "kernel": "Matlab"
   },
   "outputs": [
    {
     "name": "stdout",
     "output_type": "stream",
     "text": [
      "\n",
      "mtcars =\n",
      "\n",
      "  32�11 table\n",
      "\n",
      "    mpg     cyl    disp     hp     drat     wt      qsec     vs    am    gear    carb\n",
      "    ____    ___    _____    ___    ____    _____    _____    __    __    ____    ____\n",
      "\n",
      "      21    6        160    110     3.9     2.62    16.46    0     1     4       4   \n",
      "      21    6        160    110     3.9    2.875    17.02    0     1     4       4   \n",
      "    22.8    4        108     93    3.85     2.32    18.61    1     1     4       1   \n",
      "    21.4    6        258    110    3.08    3.215    19.44    1     0     3       1   \n",
      "    18.7    8        360    175    3.15     3.44    17.02    0     0     3       2   \n",
      "    18.1    6        225    105    2.76     3.46    20.22    1     0     3       1   \n",
      "    14.3    8        360    245    3.21     3.57    15.84    0     0     3       4   \n",
      "    24.4    4      146.7     62    3.69     3.19       20    1     0     4       2   \n",
      "    22.8    4      140.8     95    3.92     3.15     22.9    1     0     4       2   \n",
      "    19.2    6      167.6    123    3.92     3.44     18.3    1     0     4       4   \n",
      "    17.8    6      167.6    123    3.92     3.44     18.9    1     0     4       4   \n",
      "    16.4    8      275.8    180    3.07     4.07     17.4    0     0     3       3   \n",
      "    17.3    8      275.8    180    3.07     3.73     17.6    0     0     3       3   \n",
      "    15.2    8      275.8    180    3.07     3.78       18    0     0     3       3   \n",
      "    10.4    8        472    205    2.93     5.25    17.98    0     0     3       4   \n",
      "    10.4    8        460    215       3    5.424    17.82    0     0     3       4   \n",
      "    14.7    8        440    230    3.23    5.345    17.42    0     0     3       4   \n",
      "    32.4    4       78.7     66    4.08      2.2    19.47    1     1     4       1   \n",
      "    30.4    4       75.7     52    4.93    1.615    18.52    1     1     4       2   \n",
      "    33.9    4       71.1     65    4.22    1.835     19.9    1     1     4       1   \n",
      "    21.5    4      120.1     97     3.7    2.465    20.01    1     0     3       1   \n",
      "    15.5    8        318    150    2.76     3.52    16.87    0     0     3       2   \n",
      "    15.2    8        304    150    3.15    3.435     17.3    0     0     3       2   \n",
      "    13.3    8        350    245    3.73     3.84    15.41    0     0     3       4   \n",
      "    19.2    8        400    175    3.08    3.845    17.05    0     0     3       2   \n",
      "    27.3    4         79     66    4.08    1.935     18.9    1     1     4       1   \n",
      "      26    4      120.3     91    4.43     2.14     16.7    0     1     5       2   \n",
      "    30.4    4       95.1    113    3.77    1.513     16.9    1     1     5       2   \n",
      "    15.8    8        351    264    4.22     3.17     14.5    0     1     5       4   \n",
      "    19.7    6        145    175    3.62     2.77     15.5    0     1     5       6   \n",
      "      15    8        301    335    3.54     3.57     14.6    0     1     5       8   \n",
      "    21.4    4        121    109    4.11     2.78     18.6    1     1     4       2   \n",
      "\n"
     ]
    }
   ],
   "source": [
    "%get mtcars --from R\n",
    "mtcars"
   ]
  },
  {
   "cell_type": "markdown",
   "metadata": {
    "kernel": "SoS"
   },
   "source": [
    "## Further reading\n",
    "\n",
    "* "
   ]
  }
 ],
 "metadata": {
  "kernelspec": {
   "display_name": "SoS",
   "language": "sos",
   "name": "sos"
  },
  "language_info": {
   "codemirror_mode": "sos",
   "file_extension": ".sos",
   "mimetype": "text/x-sos",
   "name": "sos",
   "nbconvert_exporter": "sos_notebook.converter.SoS_Exporter",
   "pygments_lexer": "sos"
  },
  "sos": {
   "kernels": [
    [
     "Bash",
     "bash",
     "Bash",
     "#E6EEFF"
    ],
    [
     "R",
     "ir",
     "R",
     "#DCDCDA"
    ],
    [
     "SoS",
     "sos",
     "",
     ""
    ]
   ],
   "panel": {
    "displayed": true,
    "height": 0
   },
   "version": "0.17.5"
  }
 },
 "nbformat": 4,
 "nbformat_minor": 2
}
