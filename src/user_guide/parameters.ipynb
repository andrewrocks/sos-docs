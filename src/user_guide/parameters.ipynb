{
 "cells": [
  {
   "cell_type": "markdown",
   "metadata": {
    "kernel": "SoS"
   },
   "source": [
    "# Use of variables and command line parameters"
   ]
  },
  {
   "cell_type": "markdown",
   "metadata": {
    "kernel": "SoS"
   },
   "source": [
    "* **Difficulty level**: easy\n",
    "* **Time need to lean**: 10 minutes or less\n",
    "* **Key points**:\n",
    "  * SoS (Python) variables can be used to compose scripts in different languages as Python f-strings\n",
    "  * A `parameter` statement defines a parameter that can be passed from command line\n",
    "  * The `parameter` statements accepts either a default value or a type\n",
    "  * Parameters without default values are required"
   ]
  },
  {
   "cell_type": "markdown",
   "metadata": {
    "kernel": "SoS"
   },
   "source": [
    "## Global and local variables"
   ]
  },
  {
   "cell_type": "markdown",
   "metadata": {
    "kernel": "SoS"
   },
   "source": [
    "Now let us have a look at the example workflow from [our first tutorial](sos_in_notebook.html) in more detail. "
   ]
  },
  {
   "cell_type": "code",
   "execution_count": 1,
   "metadata": {
    "kernel": "SoS"
   },
   "outputs": [
    {
     "data": {
      "text/html": []
     },
     "metadata": {},
     "output_type": "display_data"
    },
    {
     "data": {
      "text/html": [
       "<div class=\"sos_logging sos_info\">INFO: Running <span class=\"sos_highlight\">plot_10</span>: \n",
       "</div>"
      ]
     },
     "metadata": {},
     "output_type": "display_data"
    },
    {
     "name": "stdout",
     "output_type": "stream",
     "text": [
      "xlsx2csv data/DEG.xlsx > DEG.csv\n",
      "\n"
     ]
    },
    {
     "data": {
      "text/html": [
       "<div class=\"sos_logging sos_info\">INFO: Running <span class=\"sos_highlight\">plot_20</span>: \n",
       "</div>"
      ]
     },
     "metadata": {},
     "output_type": "display_data"
    },
    {
     "name": "stdout",
     "output_type": "stream",
     "text": [
      "null device \n",
      "          1 \n"
     ]
    }
   ],
   "source": [
    "%run\n",
    "\n",
    "[global]\n",
    "excel_file = 'data/DEG.xlsx'\n",
    "csv_file = 'DEG.csv'\n",
    "figure_file = 'output.pdf'\n",
    "\n",
    "[plot_10]\n",
    "run: expand=True\n",
    "    xlsx2csv {excel_file} > {csv_file}\n",
    "\n",
    "[plot_20]\n",
    "R: expand=True\n",
    "    data <- read.csv('{csv_file}')\n",
    "    pdf('{figure_file}')\n",
    "    plot(data$log2FoldChange, data$stat)\n",
    "    dev.off()"
   ]
  },
  {
   "cell_type": "markdown",
   "metadata": {
    "kernel": "SoS"
   },
   "source": [
    "This workflow has a `global` section, which defines variables that are visible to all workflow steps. The three variables are available in `plot_10` and `plot_20`, so they can be used in actions `run` and `R` with the option `expand=True`. More explicitly, the `plot_10` can be considered as the following python script\n",
    "\n",
    "```python\n",
    "excel_file = 'data/DEG.xlsx'\n",
    "csv_file = 'DEG.csv'\n",
    "figure_file = 'output.pdf'\n",
    "\n",
    "run(f'''\\\n",
    "xlsx2csv {excel_file} > {csv_file}\n",
    "''')\n",
    "```"
   ]
  },
  {
   "cell_type": "markdown",
   "metadata": {
    "kernel": "SoS"
   },
   "source": [
    "<div class=\"bs-callout bs-callout-primary\" role=\"alert\">\n",
    "  <h4>The global section</h4>\n",
    "  <p>The content of the global section can be considered as part of all workflow steps</p>  \n",
    "</div>\n",
    "<div class=\"bs-callout bs-callout-info\" role=\"alert\">\n",
    "  <h4>Unnamed and multiple global sections (advanced)</h4>\n",
    "    <ul>\n",
    "        <li>The <code>[global]</code> section header can be ignored if it is the first section of a SoS script. In another word, statements before the definition of any SoS section constitute an unnamed global section.</li>  \n",
    "        <li>Multiple named and unnamed global sections are allowed and their contents are merged to a single <code>[global]</code> section of the workflow.</li>\n",
    "    </ul>\n",
    "</div>"
   ]
  },
  {
   "cell_type": "markdown",
   "metadata": {
    "kernel": "SoS"
   },
   "source": [
    "In contrast, **variables defined in individual steps are not available to other steps**. For example, the following workflow would fail because "
   ]
  },
  {
   "cell_type": "code",
   "execution_count": 2,
   "metadata": {
    "kernel": "SoS"
   },
   "outputs": [
    {
     "data": {
      "text/html": []
     },
     "metadata": {},
     "output_type": "display_data"
    },
    {
     "data": {
      "text/html": [
       "<div class=\"sos_logging sos_info\">INFO: Workflow plot (ID=221e15922696f853) is executed successfully with 2 completed steps.\n",
       "</div>"
      ]
     },
     "metadata": {},
     "output_type": "display_data"
    },
    {
     "name": "stdout",
     "output_type": "stream",
     "text": [
      "xlsx2csv data/DEG.xlsx > DEG.csv\n",
      "\n",
      "\u001b[91mERROR\u001b[0m: \u001b[91m[plot_20]: \n",
      "---------------------------------------------------------------------------\n",
      "NameError                                 Traceback (most recent call last)\n",
      "script_8039746696757261604 in <module>\n",
      "      plot(data$log2FoldChange, data$stat)\n",
      "      dev.off()\n",
      "----> \"\"\")\n",
      "\n",
      "NameError: name 'csv_file' is not defined\u001b[0m\n"
     ]
    }
   ],
   "source": [
    "%run\n",
    "\n",
    "[plot_10]\n",
    "excel_file = 'data/DEG.xlsx'\n",
    "csv_file = 'DEG.csv'\n",
    "\n",
    "run: expand=True\n",
    "    xlsx2csv {excel_file} > {csv_file}\n",
    "\n",
    "[plot_20]\n",
    "figure_file = 'output.pdf'\n",
    "\n",
    "R: expand=True\n",
    "    data <- read.csv('{csv_file}')\n",
    "    pdf('{figure_file}')\n",
    "    plot(data$log2FoldChange, data$stat)\n",
    "    dev.off()"
   ]
  },
  {
   "cell_type": "markdown",
   "metadata": {
    "kernel": "SoS"
   },
   "source": [
    "<div class=\"bs-callout bs-callout-warning\" role=\"alert\">\n",
    "  <h4>Local (step-level) variables</h4>\n",
    "  <p>Variables defines at the step level are local to the step and are not accessible from other SoS steps.</p>  \n",
    "</div>"
   ]
  },
  {
   "cell_type": "markdown",
   "metadata": {
    "kernel": "SoS"
   },
   "source": [
    "If you really need to pass locally defined variables to other steps, you will have to return it as the part of the result of the output, or explicitly share the variable with others. Please refer to the [Further reading](#further_reading) section of this tutorial for details."
   ]
  },
  {
   "cell_type": "markdown",
   "metadata": {
    "kernel": "SoS"
   },
   "source": [
    "## Workflow parameters <a id=\"parameter\"></a>"
   ]
  },
  {
   "cell_type": "markdown",
   "metadata": {
    "kernel": "SoS"
   },
   "source": [
    "SoS allows you to define parameters that accept values from command line options.  "
   ]
  },
  {
   "cell_type": "code",
   "execution_count": 3,
   "metadata": {
    "kernel": "SoS"
   },
   "outputs": [
    {
     "data": {
      "text/html": []
     },
     "metadata": {},
     "output_type": "display_data"
    },
    {
     "data": {
      "text/html": [
       "<div class=\"sos_logging sos_info\">INFO: Running <span class=\"sos_highlight\">plot_10</span>: \n",
       "</div>"
      ]
     },
     "metadata": {},
     "output_type": "display_data"
    },
    {
     "name": "stdout",
     "output_type": "stream",
     "text": [
      "xlsx2csv data/DEG.xlsx > DEG.csv\n",
      "\n",
      "null device \n",
      "          1 \n"
     ]
    }
   ],
   "source": [
    "%run --excel-file data/DEG.xlsx\n",
    "\n",
    "[global]\n",
    "parameter: excel_file = str\n",
    "parameter: csv_file = 'DEG.csv'\n",
    "parameter: figure_file = 'output.pdf'\n",
    "\n",
    "[plot_10]\n",
    "run: expand=True\n",
    "    xlsx2csv {excel_file} > {csv_file}\n",
    "\n",
    "[plot_20]\n",
    "R: expand=True\n",
    "    data <- read.csv('{csv_file}')\n",
    "    pdf('{figure_file}')\n",
    "    plot(data$log2FoldChange, data$stat)\n",
    "    dev.off()"
   ]
  },
  {
   "cell_type": "markdown",
   "metadata": {
    "kernel": "SoS"
   },
   "source": [
    "<div class=\"bs-callout bs-callout-primary\" role=\"alert\">\n",
    "    <h4>The <code>parameter</code> statement</h4>\n",
    " <ul>\n",
    "     <li>Parameters are defined with a <code>parameter</code> statement if the format of <br><code>parameter: name = value</code></li>\n",
    "     <li>Parameter <code>name</code> is the name of the parameter</li>\n",
    "     <li>Parameter <code>value</code> can be a type (`str` in the example) or a default value</li>\n",
    "<li>The parameter is specified with a double dash syntax from command line, which can be from <code>%run</code> or <code>%sosrun</code> magics, or from command line after <code>sos run</code> command</li>\n",
    "    </ul>\n",
    "</div>\n"
   ]
  },
  {
   "cell_type": "markdown",
   "metadata": {
    "kernel": "SoS"
   },
   "source": [
    "In the above example, three parameters `excel_file`, `csv_file`, `figure_file` are defined. Parameter `excel_file` is required and is specified as an command line option of the `%run` magic. The other two parameters have their default values. Note that parameter `excel_file` can be specified as both `--excel_file` or `--excel-file` from command line.\n",
    "\n",
    "If you execute the workflow without option, an error will be raised. "
   ]
  },
  {
   "cell_type": "code",
   "execution_count": 4,
   "metadata": {
    "kernel": "SoS"
   },
   "outputs": [
    {
     "data": {
      "text/html": []
     },
     "metadata": {},
     "output_type": "display_data"
    },
    {
     "data": {
      "text/html": [
       "<div class=\"sos_logging sos_info\">INFO: Running <span class=\"sos_highlight\">plot_20</span>: \n",
       "</div>"
      ]
     },
     "metadata": {},
     "output_type": "display_data"
    },
    {
     "name": "stdout",
     "output_type": "stream",
     "text": [
      "\u001b[91mERROR\u001b[0m: \u001b[91mArgument excel_file of type str is required\u001b[0m\n"
     ]
    }
   ],
   "source": [
    "%run \n",
    "\n",
    "[global]\n",
    "parameter: excel_file = str\n",
    "parameter: csv_file = 'DEG.csv'\n",
    "parameter: figure_file = 'output.pdf'\n",
    "\n",
    "[plot_10]\n",
    "run: expand=True\n",
    "    xlsx2csv {excel_file} > {csv_file}\n",
    "\n",
    "[plot_20]\n",
    "R: expand=True\n",
    "    data <- read.csv('{csv_file}')\n",
    "    pdf('{figure_file}')\n",
    "    plot(data$log2FoldChange, data$stat)\n",
    "    dev.off()\n",
    "  "
   ]
  },
  {
   "cell_type": "markdown",
   "metadata": {
    "kernel": "SoS"
   },
   "source": [
    "## Type of parameters"
   ]
  },
  {
   "cell_type": "markdown",
   "metadata": {
    "kernel": "SoS"
   },
   "source": [
    "The types of parameters are determined by the default value or type specification, and determines how they should be passed from command line."
   ]
  },
  {
   "cell_type": "markdown",
   "metadata": {
    "kernel": "SoS"
   },
   "source": [
    "### Simple Python types"
   ]
  },
  {
   "cell_type": "markdown",
   "metadata": {
    "kernel": "SoS"
   },
   "source": [
    "SoS automatically determines the type of default values and convert your input data to the type. For example, the type of `cutoff` is determined to be an integer so it accepts an integer value from command line:"
   ]
  },
  {
   "cell_type": "code",
   "execution_count": 5,
   "metadata": {
    "kernel": "SoS"
   },
   "outputs": [
    {
     "data": {
      "text/html": []
     },
     "metadata": {},
     "output_type": "display_data"
    },
    {
     "name": "stdout",
     "output_type": "stream",
     "text": [
      "5\n"
     ]
    }
   ],
   "source": [
    "%run --cutoff 5\n",
    "parameter: cutoff = 0\n",
    "\n",
    "print(cutoff)"
   ]
  },
  {
   "cell_type": "markdown",
   "metadata": {
    "kernel": "SoS"
   },
   "source": [
    "An error will be raised if you pass a string,"
   ]
  },
  {
   "cell_type": "code",
   "execution_count": 16,
   "metadata": {
    "kernel": "SoS"
   },
   "outputs": [
    {
     "data": {
      "text/html": []
     },
     "metadata": {},
     "output_type": "display_data"
    },
    {
     "name": "stdout",
     "output_type": "stream",
     "text": [
      "\u001b[91mERROR\u001b[0m: \u001b[91m[default]: argument --cutoff: invalid int value: 'zero'\u001b[0m\n"
     ]
    }
   ],
   "source": [
    "%run -v0 --cutoff zero\n",
    "parameter: cutoff = 0\n",
    "\n",
    "print(cutoff)"
   ]
  },
  {
   "cell_type": "markdown",
   "metadata": {
    "kernel": "SoS"
   },
   "source": [
    "even a float value"
   ]
  },
  {
   "cell_type": "code",
   "execution_count": 18,
   "metadata": {
    "kernel": "SoS"
   },
   "outputs": [
    {
     "data": {
      "text/html": []
     },
     "metadata": {},
     "output_type": "display_data"
    },
    {
     "name": "stdout",
     "output_type": "stream",
     "text": [
      "\u001b[91mERROR\u001b[0m: \u001b[91m[default]: argument --cutoff: invalid int value: '5.1'\u001b[0m\n"
     ]
    }
   ],
   "source": [
    "%run -v0 --cutoff 5.1\n",
    "parameter: cutoff = 0\n",
    "\n",
    "print(cutoff)"
   ]
  },
  {
   "cell_type": "markdown",
   "metadata": {
    "kernel": "SoS"
   },
   "source": [
    "If you intended to accept an float value, use a default value in float:"
   ]
  },
  {
   "cell_type": "code",
   "execution_count": 9,
   "metadata": {
    "kernel": "SoS"
   },
   "outputs": [
    {
     "data": {
      "text/html": []
     },
     "metadata": {},
     "output_type": "display_data"
    },
    {
     "name": "stdout",
     "output_type": "stream",
     "text": [
      "5.1\n"
     ]
    }
   ],
   "source": [
    "%run --cutoff 5.1\n",
    "parameter: cutoff = 0.\n",
    "\n",
    "print(cutoff)"
   ]
  },
  {
   "cell_type": "markdown",
   "metadata": {
    "kernel": "SoS"
   },
   "source": [
    "### List of strings"
   ]
  },
  {
   "cell_type": "markdown",
   "metadata": {
    "kernel": "SoS"
   },
   "source": [
    "A list would be created if the parameter has a default value of type list. For example, a list `['A']` is returned because the default value has a list type."
   ]
  },
  {
   "cell_type": "code",
   "execution_count": 10,
   "metadata": {
    "kernel": "SoS",
    "scrolled": true
   },
   "outputs": [
    {
     "data": {
      "text/html": []
     },
     "metadata": {},
     "output_type": "display_data"
    },
    {
     "name": "stdout",
     "output_type": "stream",
     "text": [
      "['A']\n"
     ]
    }
   ],
   "source": [
    "%run --sample-names A\n",
    "parameter: sample_names = []\n",
    "\n",
    "print(sample_names)"
   ]
  },
  {
   "cell_type": "markdown",
   "metadata": {
    "kernel": "SoS"
   },
   "source": [
    "SoS even understands the type of the values of the list and tries to follow it:"
   ]
  },
  {
   "cell_type": "code",
   "execution_count": 11,
   "metadata": {
    "kernel": "SoS"
   },
   "outputs": [
    {
     "data": {
      "text/html": []
     },
     "metadata": {},
     "output_type": "display_data"
    },
    {
     "name": "stdout",
     "output_type": "stream",
     "text": [
      "[4, 5]\n"
     ]
    }
   ],
   "source": [
    "%run --values 4 5\n",
    "parameter: values = [1, 2, 3]\n",
    "\n",
    "print(values)"
   ]
  },
  {
   "cell_type": "markdown",
   "metadata": {
    "kernel": "SoS"
   },
   "source": [
    "However, it is not yet possible to specify the type of values when you specify a required parameter of type list so all the values will be passed as strings:"
   ]
  },
  {
   "cell_type": "code",
   "execution_count": 12,
   "metadata": {
    "kernel": "SoS"
   },
   "outputs": [
    {
     "data": {
      "text/html": []
     },
     "metadata": {},
     "output_type": "display_data"
    },
    {
     "data": {
      "text/html": [
       "<div class=\"sos_logging sos_info\">INFO: Running <span class=\"sos_highlight\">default</span>: \n",
       "</div>"
      ]
     },
     "metadata": {},
     "output_type": "display_data"
    },
    {
     "name": "stdout",
     "output_type": "stream",
     "text": [
      "['4', '5']\n"
     ]
    }
   ],
   "source": [
    "%run --values 4 5\n",
    "parameter: values = list\n",
    "\n",
    "print(values)"
   ]
  },
  {
   "cell_type": "markdown",
   "metadata": {
    "kernel": "SoS"
   },
   "source": [
    "### SoS types *"
   ]
  },
  {
   "cell_type": "markdown",
   "metadata": {
    "kernel": "SoS"
   },
   "source": [
    "It is a bit advanced but for completeness we also show parameters with SoS types such as `path`, `paths`, `file_targets`. Generally speaking you can pass filenames as `str` or list of `str`, but passing SoS types such as `path` allow you to create variable in these types without type coercion.\n",
    "\n",
    "For example, the `path` type is derived from [`pathlib.Path`](https://docs.python.org/3.6/library/pathlib.html) with automatic expansion of `~` and other features. If you pass a parameter with type `path`, SoS will convert passed string into a `path` object so that you can use it directly."
   ]
  },
  {
   "cell_type": "code",
   "execution_count": 13,
   "metadata": {
    "kernel": "SoS"
   },
   "outputs": [
    {
     "data": {
      "text/html": []
     },
     "metadata": {},
     "output_type": "display_data"
    },
    {
     "name": "stdout",
     "output_type": "stream",
     "text": [
      "a.txt\n",
      "/Users/bpeng1/project\n",
      "False\n"
     ]
    }
   ],
   "source": [
    "%run --infile ~/project/a.txt\n",
    "parameter: infile = path\n",
    "\n",
    "print(infile.name)\n",
    "print(infile.parent)\n",
    "print(infile.exists())"
   ]
  },
  {
   "cell_type": "markdown",
   "metadata": {
    "kernel": "SoS"
   },
   "source": [
    "Similarly, if you pass a `paths` (a sequence of `path`), you parameter will be of type `paths`:"
   ]
  },
  {
   "cell_type": "code",
   "execution_count": 15,
   "metadata": {
    "kernel": "SoS"
   },
   "outputs": [
    {
     "data": {
      "text/html": []
     },
     "metadata": {},
     "output_type": "display_data"
    },
    {
     "data": {
      "text/html": [
       "<div class=\"sos_logging sos_info\">INFO: Workflow default (ID=c71c227fecbe0460) is executed successfully with 1 completed step.\n",
       "</div>"
      ]
     },
     "metadata": {},
     "output_type": "display_data"
    },
    {
     "name": "stdout",
     "output_type": "stream",
     "text": [
      "a.txt b.txt\n"
     ]
    }
   ],
   "source": [
    "%run --infiles a.txt b.txt\n",
    "parameter: infiles = paths('a.txt')\n",
    "\n",
    "print(infiles)"
   ]
  },
  {
   "cell_type": "markdown",
   "metadata": {
    "kernel": "SoS"
   },
   "source": [
    "## Further reading <a id='further_reading'></a>\n",
    "\n",
    "* [SoS Data Types](doc/user_guide/sos_datatypes.html)"
   ]
  }
 ],
 "metadata": {
  "kernelspec": {
   "display_name": "SoS",
   "language": "sos",
   "name": "sos"
  },
  "language_info": {
   "codemirror_mode": "sos",
   "file_extension": ".sos",
   "mimetype": "text/x-sos",
   "name": "sos",
   "nbconvert_exporter": "sos_notebook.converter.SoS_Exporter",
   "pygments_lexer": "sos"
  },
  "sos": {
   "kernels": [
    [
     "Bash",
     "bash",
     "Bash",
     "#E6EEFF"
    ],
    [
     "R",
     "ir",
     "R",
     "#DCDCDA"
    ],
    [
     "SoS",
     "sos",
     "",
     ""
    ]
   ],
   "panel": {
    "displayed": true,
    "height": 0
   },
   "version": "0.17.5"
  }
 },
 "nbformat": 4,
 "nbformat_minor": 2
}
