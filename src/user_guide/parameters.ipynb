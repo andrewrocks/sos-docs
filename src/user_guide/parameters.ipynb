{
 "cells": [
  {
   "cell_type": "markdown",
   "metadata": {
    "kernel": "SoS"
   },
   "source": [
    "# Title"
   ]
  },
  {
   "cell_type": "markdown",
   "metadata": {
    "kernel": "SoS"
   },
   "source": [
    "* **Difficulty level**: easy\n",
    "* **Time need to lean**: 10 minutes or less\n",
    "* **Key points**:\n",
    "  * a\n",
    "  "
   ]
  },
  {
   "cell_type": "markdown",
   "metadata": {
    "kernel": "SoS"
   },
   "source": [
    "## Parameter and environment specification <a id=\"Parameter_and_environment_specification\"></a>"
   ]
  },
  {
   "cell_type": "markdown",
   "metadata": {
    "kernel": "SoS"
   },
   "source": [
    "### Command line options <a id=\"Command_line_options\"></a>"
   ]
  },
  {
   "cell_type": "markdown",
   "metadata": {
    "kernel": "SoS"
   },
   "source": [
    "SoS allows you to define parameters that accept values from command line options easily. "
   ]
  },
  {
   "cell_type": "markdown",
   "metadata": {
    "kernel": "SoS"
   },
   "source": [
    "#### Optional arguments <a id=\"Optional_arguments\"></a>"
   ]
  },
  {
   "cell_type": "markdown",
   "metadata": {
    "kernel": "SoS"
   },
   "source": [
    "Any variable assignment prefixed with `parameter:` can accept values from command  line. The format of such lines are\n",
    "\n",
    "```\n",
    "# comment\n",
    "parameter: var_name = default_value\n",
    "```\n",
    "\n",
    "The default value can be integer, float, boolean, string, list of string, or expressions that return values of these types. Other types can be used as long as they can be converted to these types from user-provided values. For example"
   ]
  },
  {
   "cell_type": "code",
   "execution_count": 53,
   "metadata": {
    "kernel": "SoS"
   },
   "outputs": [],
   "source": [
    "# path to tool gatk\n",
    "parameter: gatk_path = '~/bin/GATK'"
   ]
  },
  {
   "cell_type": "markdown",
   "metadata": {
    "kernel": "SoS"
   },
   "source": [
    "defines a variable `gatk_path` with default value `'~/bin/GATK'`."
   ]
  },
  {
   "cell_type": "markdown",
   "metadata": {
    "kernel": "SoS"
   },
   "source": [
    "If you execute a workflow without defining `gatk_path`, the default value will be used"
   ]
  },
  {
   "cell_type": "code",
   "execution_count": 54,
   "metadata": {
    "kernel": "SoS"
   },
   "outputs": [
    {
     "name": "stdout",
     "output_type": "stream",
     "text": [
      "~/bin/GATK\n"
     ]
    }
   ],
   "source": [
    "%run\n",
    "parameter: gatk_path = '~/bin/GATK'\n",
    "print(gatk_path)"
   ]
  },
  {
   "cell_type": "markdown",
   "metadata": {
    "kernel": "SoS"
   },
   "source": [
    "You can set this parameter from command line using option `--gatk_path`"
   ]
  },
  {
   "cell_type": "code",
   "execution_count": 55,
   "metadata": {
    "kernel": "SoS"
   },
   "outputs": [
    {
     "name": "stdout",
     "output_type": "stream",
     "text": [
      "/my/GATK\n"
     ]
    }
   ],
   "source": [
    "%run --gatk_path /my/GATK\n",
    "parameter: gatk_path = '~/bin/GATK'\n",
    "print(gatk_path)"
   ]
  },
  {
   "cell_type": "markdown",
   "metadata": {
    "kernel": "SoS"
   },
   "source": [
    "You can also use `-` in place of `_` in command line, although the variable name cannot have `-` in it."
   ]
  },
  {
   "cell_type": "code",
   "execution_count": 56,
   "metadata": {
    "kernel": "SoS"
   },
   "outputs": [
    {
     "name": "stdout",
     "output_type": "stream",
     "text": [
      "/my/GATK\n"
     ]
    }
   ],
   "source": [
    "%run --gatk-path /my/GATK\n",
    "parameter: gatk_path = '~/bin/GATK'\n",
    "print(gatk_path)"
   ]
  },
  {
   "cell_type": "markdown",
   "metadata": {
    "kernel": "SoS"
   },
   "source": [
    "Actually, because the input is a path, it can be more convenient to create a `path` object"
   ]
  },
  {
   "cell_type": "code",
   "execution_count": 57,
   "metadata": {
    "kernel": "SoS"
   },
   "outputs": [
    {
     "name": "stdout",
     "output_type": "stream",
     "text": [
      "gatk_path=path('/my/GATK')\n"
     ]
    }
   ],
   "source": [
    "%run --gatk-path /my/GATK\n",
    "parameter: gatk_path = path('~/bin/GATK')\n",
    "print(f\"gatk_path={gatk_path!r}\")"
   ]
  },
  {
   "cell_type": "markdown",
   "metadata": {
    "kernel": "SoS"
   },
   "source": [
    "The default value of the parameter determines the type of values it accepts. For example, the following command yields an error because the parameter expects an integer (from default value `0`) but a string is passed."
   ]
  },
  {
   "cell_type": "code",
   "execution_count": 58,
   "metadata": {
    "kernel": "SoS"
   },
   "outputs": [
    {
     "name": "stderr",
     "output_type": "stream",
     "text": [
      "\n",
      "---------------------------------------------------------------------------\n",
      "ArgumentError                             Traceback (most recent call last)\n",
      "script_7619312906926821593 in <module>\n",
      "      if \"sos_handle_parameter_\" in globals():\n",
      "---->     cutoff = sos_handle_parameter_('cutoff',  0\n",
      "      )\n",
      "\n",
      "ArgumentError: argument --cutoff: invalid int value: 'zero'\n"
     ]
    }
   ],
   "source": [
    "%sandbox --expect-error\n",
    "\n",
    "%run --cutoff zero\n",
    "parameter: cutoff = 0"
   ]
  },
  {
   "cell_type": "markdown",
   "metadata": {
    "kernel": "SoS"
   },
   "source": [
    "Simiarly, a list would be created if the parameter has a default value of type list"
   ]
  },
  {
   "cell_type": "code",
   "execution_count": 59,
   "metadata": {
    "kernel": "SoS",
    "scrolled": true
   },
   "outputs": [
    {
     "name": "stdout",
     "output_type": "stream",
     "text": [
      "['A']\n"
     ]
    }
   ],
   "source": [
    "%run --sample-names A\n",
    "parameter: sample_names = []\n",
    "print(sample_names)"
   ]
  },
  {
   "cell_type": "markdown",
   "metadata": {
    "kernel": "SoS"
   },
   "source": [
    "and you can specify default values of type `paths` if you are expecting multiple filenames:"
   ]
  },
  {
   "cell_type": "code",
   "execution_count": 60,
   "metadata": {
    "kernel": "SoS"
   },
   "outputs": [
    {
     "name": "stdout",
     "output_type": "stream",
     "text": [
      "input_files=[path('a.txt'), path('b.txt')]\n"
     ]
    }
   ],
   "source": [
    "%run --input-files a.txt b.txt\n",
    "parameter: input_files = paths('a.txt')\n",
    "print(f\"input_files={input_files!r}\")"
   ]
  },
  {
   "cell_type": "markdown",
   "metadata": {
    "kernel": "SoS"
   },
   "source": [
    "#### Required arguments <a id=\"Required_arguments\"></a>"
   ]
  },
  {
   "cell_type": "markdown",
   "metadata": {
    "kernel": "SoS"
   },
   "source": [
    "In cases where there is no suitable default values and/or command line arguments are mandatory, you can specify a parameter without initial value, and the parameter will be considered required. By default, the parameter will be considered to be of a single value with `str` type."
   ]
  },
  {
   "cell_type": "code",
   "execution_count": 61,
   "metadata": {
    "kernel": "SoS",
    "scrolled": false
   },
   "outputs": [
    {
     "name": "stderr",
     "output_type": "stream",
     "text": [
      "\n",
      "---------------------------------------------------------------------------\n",
      "ArgumentError                             Traceback (most recent call last)\n",
      "script_5036437366813650181 in <module>\n",
      "      if \"sos_handle_parameter_\" in globals():\n",
      "---->     cutoff = sos_handle_parameter_('cutoff', str)\n",
      "      print(f\"cutoff = {cutoff} of type {type(cutoff).__name__}\")\n",
      "\n",
      "ArgumentError: Argument cutoff of type str is required\n"
     ]
    }
   ],
   "source": [
    "%sandbox --expect-error\n",
    "\n",
    "parameter: cutoff \n",
    "print(f\"cutoff = {cutoff} of type {type(cutoff).__name__}\")"
   ]
  },
  {
   "cell_type": "code",
   "execution_count": 62,
   "metadata": {
    "kernel": "SoS"
   },
   "outputs": [
    {
     "name": "stdout",
     "output_type": "stream",
     "text": [
      "cutoff = 100 of type str\n"
     ]
    }
   ],
   "source": [
    "%run --cutoff 100\n",
    "parameter: cutoff \n",
    "print(f\"cutoff = {cutoff} of type {type(cutoff).__name__}\")"
   ]
  },
  {
   "cell_type": "markdown",
   "metadata": {
    "kernel": "SoS"
   },
   "source": [
    "If you would like to specify a type, you can use the Python type hint to annotate the variable with a type"
   ]
  },
  {
   "cell_type": "code",
   "execution_count": 63,
   "metadata": {
    "kernel": "SoS"
   },
   "outputs": [
    {
     "name": "stdout",
     "output_type": "stream",
     "text": [
      "cutoff = 100 of type int\n"
     ]
    }
   ],
   "source": [
    "%run --cutoff 100\n",
    "parameter: cutoff : int\n",
    "print(f\"cutoff = {cutoff} of type {type(cutoff).__name__}\")"
   ]
  },
  {
   "cell_type": "markdown",
   "metadata": {
    "kernel": "SoS"
   },
   "source": [
    "Currently SoS only accepts simple type hints such as `int`, `str`, `float`, `list` (only list of strings are supported), and target types such as `path`, `paths`, `file_target`, and `sos_targets`. For example"
   ]
  },
  {
   "cell_type": "code",
   "execution_count": 64,
   "metadata": {
    "kernel": "SoS"
   },
   "outputs": [
    {
     "name": "stdout",
     "output_type": "stream",
     "text": [
      "A.bam B.bam\n"
     ]
    }
   ],
   "source": [
    "%run --bam-files A.bam B.bam\n",
    "# input bam files\n",
    "parameter: bam_files : paths\n",
    "print(bam_files)"
   ]
  },
  {
   "cell_type": "markdown",
   "metadata": {
    "kernel": "SoS"
   },
   "source": [
    "It is worth noting that you can specify type hint also for parameters with initial values but SoS will use type of the default values and ignore type hints in this case. For example, in the following case when a parameter with default value 10 are given a type hint of `list`, it will accept input as integers."
   ]
  },
  {
   "cell_type": "code",
   "execution_count": 65,
   "metadata": {
    "kernel": "SoS"
   },
   "outputs": [
    {
     "name": "stdout",
     "output_type": "stream",
     "text": [
      "cutoff = 100 of type int\n"
     ]
    }
   ],
   "source": [
    "%run --cutoff 100\n",
    "parameter: cutoff : list = 10\n",
    "print(f\"cutoff = {cutoff} of type {type(cutoff).__name__}\")"
   ]
  },
  {
   "cell_type": "markdown",
   "metadata": {
    "kernel": "SoS"
   },
   "source": [
    "## Further reading\n",
    "\n",
    "* "
   ]
  }
 ],
 "metadata": {
  "kernelspec": {
   "display_name": "SoS",
   "language": "sos",
   "name": "sos"
  },
  "language_info": {
   "codemirror_mode": "sos",
   "file_extension": ".sos",
   "mimetype": "text/x-sos",
   "name": "sos",
   "nbconvert_exporter": "sos_notebook.converter.SoS_Exporter",
   "pygments_lexer": "sos"
  },
  "sos": {
   "kernels": [
    [
     "Bash",
     "bash",
     "Bash",
     "#E6EEFF"
    ],
    [
     "R",
     "ir",
     "R",
     "#DCDCDA"
    ],
    [
     "SoS",
     "sos",
     "",
     ""
    ]
   ],
   "panel": {
    "displayed": true,
    "height": 0
   },
   "version": "0.17.4"
  }
 },
 "nbformat": 4,
 "nbformat_minor": 2
}
