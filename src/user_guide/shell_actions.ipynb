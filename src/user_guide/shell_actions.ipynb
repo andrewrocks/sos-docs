{
 "cells": [
  {
   "cell_type": "markdown",
   "metadata": {
    "kernel": "SoS"
   },
   "source": [
    "# Title"
   ]
  },
  {
   "cell_type": "markdown",
   "metadata": {
    "kernel": "SoS"
   },
   "source": [
    "* **Difficulty level**: easy\n",
    "* **Time need to lean**: 10 minutes or less\n",
    "* **Key points**:\n",
    "  * a\n",
    "  "
   ]
  },
  {
   "cell_type": "markdown",
   "metadata": {
    "kernel": "SoS"
   },
   "source": [
    "###  Action `run`"
   ]
  },
  {
   "cell_type": "markdown",
   "metadata": {
    "kernel": "SoS"
   },
   "source": [
    "`run` is the most frequently used action in sos. In most cases, it is similar to action `bash` and uses `bash` to execute specified script. Under the hood, this action is quite different from `bash` because the run action does not have a default interpreter and would behave differently under different situations."
   ]
  },
  {
   "cell_type": "markdown",
   "metadata": {
    "kernel": "SoS"
   },
   "source": [
    "In the simplest case when one or more commands are specified, action `run` would assume it is a batch script under windows, and a bash script otherwise."
   ]
  },
  {
   "cell_type": "code",
   "execution_count": 20,
   "metadata": {
    "kernel": "SoS",
    "output_cache": "[{\"name\":\"stdout\",\"output_type\":\"stream\",\"text\":\"A\\n\"}]"
   },
   "outputs": [
    {
     "name": "stdout",
     "output_type": "stream",
     "text": [
      "echo \"A\"\n",
      "A\n"
     ]
    }
   ],
   "source": [
    "run:\n",
    "    echo \"A\""
   ]
  },
  {
   "cell_type": "markdown",
   "metadata": {
    "kernel": "SoS",
    "output_cache": "[]"
   },
   "source": [
    "It is different from an `bash` action in that it will exit with error if any of the commands exits with non-zero code. That is to say, whereas a `sh` action would print an error message but continue as follows"
   ]
  },
  {
   "cell_type": "code",
   "execution_count": 21,
   "metadata": {
    "kernel": "SoS",
    "output_cache": "[{\"output_type\":\"stream\",\"text\":\"B\\n\",\"name\":\"stdout\"},{\"output_type\":\"stream\",\"text\":\"/var/folders/ys/gnzk0qbx5wbdgm531v82xxljv5yqy8/T/tmpp8ur8ynw.sh: line 1: echoo: command not found\\n\",\"name\":\"stderr\"}]"
   },
   "outputs": [
    {
     "name": "stdout",
     "output_type": "stream",
     "text": [
      "/var/folders/ys/gnzk0qbx5wbdgm531v82xxljv5yqy8/T/tmpzm7e7yc9.sh: line 1: echoo: command not found\n",
      "B\n"
     ]
    }
   ],
   "source": [
    "sh:\n",
    "    echoo \"A\"\n",
    "    echo \"B\""
   ]
  },
  {
   "cell_type": "markdown",
   "metadata": {
    "kernel": "SoS",
    "output_cache": "[]"
   },
   "source": [
    "The `run` action would exit with error"
   ]
  },
  {
   "cell_type": "code",
   "execution_count": 22,
   "metadata": {
    "kernel": "SoS",
    "output_cache": "[{\"output_type\":\"stream\",\"text\":\"/var/folders/ys/gnzk0qbx5wbdgm531v82xxljv5yqy8/T/tmpr6ni2p3z: line 1: echoo: command not found\\nFailed to process statement 'run(\\\"echoo \\\\\\\\\\\"A\\\\\\\\\\\"\\\\\\\\necho \\\\\\\\\\\"B\\\\\\\\\\\"\\\")\\\\n' (RuntimeError): Failed to execute script (ret=127).\\nPlease use command\\n\\t``/bin/bash \\\\\\n\\t  -e \\\\\\n\\t  /var/folders/ys/gnzk0qbx5wbdgm531v82xxljv5yqy8/T/tmppwtttdjc/.sos/interactive_0_0_9f062482``\\nunder \\\"/private/var/folders/ys/gnzk0qbx5wbdgm531v82xxljv5yqy8/T/tmppwtttdjc\\\" to test it.\\n\",\"name\":\"stderr\"}]"
   },
   "outputs": [
    {
     "name": "stdout",
     "output_type": "stream",
     "text": [
      "echoo \"A\"\n",
      "/var/folders/ys/gnzk0qbx5wbdgm531v82xxljv5yqy8/T/tmpzty1hljw.sh: line 1: echoo: command not found\n"
     ]
    },
    {
     "name": "stderr",
     "output_type": "stream",
     "text": [
      "RuntimeError: Failed to execute commmand ``/bin/bash /var/folders/ys/gnzk0qbx5wbdgm531v82xxljv5yqy8/T/tmp_j8ix8j1/.sos/scratch_0_0_4fbf16e8.sh`` (ret=127, workdir=/private/var/folders/ys/gnzk0qbx5wbdgm531v82xxljv5yqy8/T/tmp_j8ix8j1)\n"
     ]
    }
   ],
   "source": [
    "%sandbox --expect-error\n",
    "run:\n",
    "    echoo \"A\"\n",
    "    echo \"B\""
   ]
  },
  {
   "cell_type": "markdown",
   "metadata": {
    "kernel": "SoS",
    "output_cache": "[{\"output_type\":\"stream\",\"text\":\"File contains parsing errors: <string>\\n\\t[line  2]: In another word,\\n```\\nrun:\\n    command1\\n    command2\\n\\nInvalid statements: SyntaxError('invalid syntax', ('<string>', 1, 10, 'In another word,\\\\n'))\\n\",\"name\":\"stderr\"}]"
   },
   "source": [
    "In another word,\n",
    "```\n",
    "run:\n",
    "    command1\n",
    "    command2\n",
    "    command3\n",
    "```\n",
    "is equivalent to\n",
    "\n",
    "```\n",
    "bash:\n",
    "    command1 && command2 && command3\n",
    "```\n",
    "under Linux/MacOS systems."
   ]
  },
  {
   "cell_type": "markdown",
   "metadata": {
    "kernel": "SoS"
   },
   "source": [
    "However, if the script starts with a shebang line, this action would execute the script directly. This allows you to execute any script in any language. For example, the following script executes a python script using action `run`"
   ]
  },
  {
   "cell_type": "code",
   "execution_count": 23,
   "metadata": {
    "kernel": "SoS"
   },
   "outputs": [
    {
     "name": "stdout",
     "output_type": "stream",
     "text": [
      "This is python\n"
     ]
    }
   ],
   "source": [
    "run:\n",
    "    #!/usr/bin/env python\n",
    "    print('This is python')"
   ]
  },
  {
   "cell_type": "markdown",
   "metadata": {
    "kernel": "SoS"
   },
   "source": [
    "and the following example runs a complete sos script using command `sos-runner`"
   ]
  },
  {
   "cell_type": "code",
   "execution_count": 24,
   "metadata": {
    "kernel": "SoS"
   },
   "outputs": [
    {
     "name": "stdout",
     "output_type": "stream",
     "text": [
      "INFO: Executing \u001b[32mdefault_10\u001b[0m: \n",
      "INFO: input:   \u001b[32m[]\u001b[0m\n",
      "This is default_10\n",
      "INFO: output:   \u001b[32m[]\u001b[0m\n",
      "INFO: Executing \u001b[32mdefault_20\u001b[0m: \n",
      "INFO: input:   \u001b[32m[]\u001b[0m\n",
      "This is default_20\n",
      "INFO: output:   \u001b[32m[]\u001b[0m\n",
      "INFO: Workflow default (ID=9668068c46c0e2c0) is executed successfully.\n"
     ]
    }
   ],
   "source": [
    "%run\n",
    "# use sigil=None to stop interpolating expressions in script\n",
    "[sos]\n",
    "run:\n",
    "    #!/usr/bin/env sos-runner\n",
    "    [10]\n",
    "    print(f\"This is {step_name}\")\n",
    "    [20]\n",
    "    print(f\"This is {step_name}\")"
   ]
  },
  {
   "cell_type": "markdown",
   "metadata": {
    "kernel": "SoS"
   },
   "source": [
    "Note that action `run`would not analyze shebang line of a script if it is executed in a docker container (with option `docker-image`) and would always assumed to be `bash`."
   ]
  },
  {
   "cell_type": "markdown",
   "metadata": {
    "kernel": "SoS"
   },
   "source": [
    "### Action `script`"
   ]
  },
  {
   "cell_type": "markdown",
   "metadata": {
    "kernel": "SoS"
   },
   "source": [
    "Action `script` is the general form of all script-executing actions in SoS. It accepts a script, and parameters `interpreter` (required), `suffix` (if required by the interpreter) and optional `args` (command line arguments). It can be used to execute any script for which its interpreter is not currently supported by SoS. For example, the action\n",
    "\n",
    "```\n",
    "python:\n",
    "    print('HERE')\n",
    "```\n",
    "\n",
    "can be executed as"
   ]
  },
  {
   "cell_type": "code",
   "execution_count": 25,
   "metadata": {
    "kernel": "SoS"
   },
   "outputs": [
    {
     "name": "stdout",
     "output_type": "stream",
     "text": [
      "HERE\n"
     ]
    }
   ],
   "source": [
    "script: interpreter='python'\n",
    "    print('HERE')"
   ]
  },
  {
   "cell_type": "markdown",
   "metadata": {
    "kernel": "SoS"
   },
   "source": [
    "### Action  `bash`\n",
    "\n",
    "Action `bash(script)` accepts a shell script and execute it using `bash`. `sh`, `csh`, `tcsh`, `zsh` uses respective shell to execute the provided script.\n",
    "\n",
    "These actions, as well as all script-executing actions such as `python`, also accept an option `args` and allows you to pass additional arguments to the interpreter. For example"
   ]
  },
  {
   "cell_type": "code",
   "execution_count": 37,
   "metadata": {
    "collapsed": true,
    "kernel": "SoS"
   },
   "outputs": [],
   "source": [
    "run: args='-n {filename:q}'\n",
    "      echo \"a\""
   ]
  },
  {
   "cell_type": "markdown",
   "metadata": {
    "kernel": "SoS"
   },
   "source": [
    "execute the script with command `bash -n` (check syntax), so command `echo` is not actually executed."
   ]
  },
  {
   "cell_type": "markdown",
   "metadata": {
    "kernel": "SoS"
   },
   "source": [
    "### Action `sh`\n",
    "Execute script with a `sh` interpreter"
   ]
  },
  {
   "cell_type": "markdown",
   "metadata": {
    "kernel": "SoS"
   },
   "source": [
    "### Action  `csh`\n",
    "Execute script with a `csh` interpreter"
   ]
  },
  {
   "cell_type": "markdown",
   "metadata": {
    "kernel": "SoS"
   },
   "source": [
    "### Action  `tcsh`\n",
    "Execute script with a `tcsh` interpreter"
   ]
  },
  {
   "cell_type": "markdown",
   "metadata": {
    "kernel": "SoS"
   },
   "source": [
    "###  Action `zsh`\n",
    "Execute script with a `zsh` interpreter"
   ]
  },
  {
   "cell_type": "markdown",
   "metadata": {
    "kernel": "SoS"
   },
   "source": [
    "## Further reading\n",
    "\n",
    "* "
   ]
  }
 ],
 "metadata": {
  "kernelspec": {
   "display_name": "SoS",
   "language": "sos",
   "name": "sos"
  },
  "language_info": {
   "codemirror_mode": "sos",
   "file_extension": ".sos",
   "mimetype": "text/x-sos",
   "name": "sos",
   "nbconvert_exporter": "sos_notebook.converter.SoS_Exporter",
   "pygments_lexer": "sos"
  },
  "sos": {
   "kernels": [
    [
     "Bash",
     "bash",
     "Bash",
     "#E6EEFF"
    ],
    [
     "R",
     "ir",
     "R",
     "#DCDCDA"
    ],
    [
     "SoS",
     "sos",
     "",
     ""
    ]
   ],
   "panel": {
    "displayed": true,
    "height": 0
   },
   "version": "0.17.4"
  }
 },
 "nbformat": 4,
 "nbformat_minor": 2
}
