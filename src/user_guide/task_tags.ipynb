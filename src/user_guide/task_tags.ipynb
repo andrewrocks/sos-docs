{
 "cells": [
  {
   "cell_type": "markdown",
   "metadata": {
    "kernel": "SoS"
   },
   "source": [
    "# How to associate task IDs with sample IDs and job IDs"
   ]
  },
  {
   "cell_type": "markdown",
   "metadata": {
    "kernel": "SoS"
   },
   "source": [
    "* **Difficulty level**: easy\n",
    "* **Time need to lean**: 10 minutes or less\n",
    "* **Key points**:\n",
    "\n",
    "  "
   ]
  },
  {
   "cell_type": "markdown",
   "metadata": {
    "kernel": "SoS"
   },
   "source": [
    "### Option `tags`"
   ]
  },
  {
   "cell_type": "markdown",
   "metadata": {
    "kernel": "SoS"
   },
   "source": [
    "By default, a task is tagged by step name and workflow ID so that tasks from the same step and/or workflow could be targetted with option `--tags` for commands such as `sos status`, `sos kill`, and `sos purge`."
   ]
  },
  {
   "cell_type": "markdown",
   "metadata": {
    "kernel": "SoS"
   },
   "source": [
    "You can specify additional tags to tasks using option `tags`. A tag can contain alphabetic and numeric characters, dash (`-`), underscore (`_`), and dot (`.`). Tags with other characters will still be accepted but with non-comforming characters removed.\n",
    "\n",
    "For example, if each task handles a sample with an ID, you can use\n",
    "\n",
    "```\n",
    "input: for_each={'ID': IDs}\n",
    "task: tags=ID\n",
    "```\n",
    "to add sample IDs to task tags, or use \n",
    "\n",
    "```\n",
    "input: input_files, paired_with=['IDs', 'barcode']\n",
    "task: tags=[_ID, _barcode, 'my_cmd']\n",
    "sh:\n",
    "    my_cmd ...\n",
    "```\n",
    "to tag tasks with sample ID, barcode, and command to each task."
   ]
  },
  {
   "cell_type": "markdown",
   "metadata": {
    "kernel": "SoS"
   },
   "source": [
    "### Use of task tags"
   ]
  },
  {
   "cell_type": "markdown",
   "metadata": {
    "kernel": "SoS"
   },
   "source": [
    "An easier way to check the status of a group of tasks is to use task tags. By default all tasks are tagged with workflow ID and step name so that you can use command\n",
    "\n",
    "```\n",
    "sos status -q host -t 9b997026cb34fd40\n",
    "```\n",
    "to get the status of all tasks generated from workflow `9b997026cb34fd40`. If workflow ID is difficult to remember, you can use tak option `tags` to tag tasks with meaningful names.\n",
    "\n",
    "Ooption `--tag` (`-t`) is also available to commands such as `sos kill` and `sos purge`. "
   ]
  },
  {
   "cell_type": "markdown",
   "metadata": {
    "kernel": "SoS"
   },
   "source": [
    "## Further reading\n",
    "\n",
    "* "
   ]
  }
 ],
 "metadata": {
  "kernelspec": {
   "display_name": "SoS",
   "language": "sos",
   "name": "sos"
  },
  "language_info": {
   "codemirror_mode": "sos",
   "file_extension": ".sos",
   "mimetype": "text/x-sos",
   "name": "sos",
   "nbconvert_exporter": "sos_notebook.converter.SoS_Exporter",
   "pygments_lexer": "sos"
  },
  "sos": {
   "kernels": [
    [
     "Bash",
     "bash",
     "Bash",
     "#E6EEFF"
    ],
    [
     "R",
     "ir",
     "R",
     "#DCDCDA"
    ],
    [
     "SoS",
     "sos",
     "",
     ""
    ]
   ],
   "panel": {
    "displayed": true,
    "height": 0
   },
   "version": "0.17.5"
  }
 },
 "nbformat": 4,
 "nbformat_minor": 2
}
