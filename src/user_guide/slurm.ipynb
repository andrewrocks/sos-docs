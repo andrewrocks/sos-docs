{
 "cells": [
  {
   "cell_type": "markdown",
   "metadata": {
    "kernel": "SoS"
   },
   "source": [
    "# How to work with a Slurm cluster system"
   ]
  },
  {
   "cell_type": "markdown",
   "metadata": {
    "kernel": "SoS"
   },
   "source": [
    "* **Difficulty level**: easy\n",
    "* **Time need to lean**: 10 minutes or less\n",
    "* **Key points**:\n",
    "\n",
    "  "
   ]
  },
  {
   "cell_type": "markdown",
   "metadata": {
    "kernel": "SoS"
   },
   "source": [
    "#### Sample SLURM configuration"
   ]
  },
  {
   "cell_type": "markdown",
   "metadata": {
    "kernel": "SoS"
   },
   "source": [
    "This configuration defines default `walltime` and `cores`.\n",
    "\n",
    "```\n",
    "mstephens:\n",
    "    description: cluster with SLURM\n",
    "    address: host.url\n",
    "    paths:\n",
    "      home: /home/{user_name}\n",
    "    queue_type: pbs\n",
    "    status_check_interval: 120\n",
    "    max_running_jobs: 15\n",
    "    max_cores: 28 \n",
    "    max_walltime: \"36:00:00\"\n",
    "    max_mem: 256G\n",
    "    job_template: |\n",
    "      #!/bin/bash\n",
    "      #SBATCH --time={walltime}\n",
    "      #SBATCH --partition=mstephens\n",
    "      #SBATCH --account=pi-mstephens\n",
    "      #SBATCH --nodes=1\n",
    "      #SBATCH --ntasks-per-node={cores}\n",
    "      #SBATCH --mem-per-cpu={mem_per_cpu}\n",
    "      #SBATCH --job-name={task}\n",
    "      #SBATCH --output={cur_dir}/.sos/{task}.out\n",
    "      #SBATCH --error={cur_dir}/.sos/{task}.err\n",
    "      cd {cur_dir}\n",
    "      mkdir -p .sos\n",
    "      sos execute {task} -v {verbosity} -s {sig_mode} {'--dryrun' if run_mode == 'dryrun' else ''}\n",
    "    walltime: \"06:00:00\"\n",
    "    cores: 20\n",
    "    mem_per_cpu: 1000\n",
    "    submit_cmd: sbatch {job_file}\n",
    "    submit_cmd_output: \"Submitted batch job {job_id}\"\n",
    "    status_cmd: squeue --job {job_id}\n",
    "    kill_cmd: scancel {job_id}\n",
    "```"
   ]
  },
  {
   "cell_type": "markdown",
   "metadata": {
    "kernel": "SoS"
   },
   "source": [
    "## Further reading\n",
    "\n",
    "* "
   ]
  }
 ],
 "metadata": {
  "kernelspec": {
   "display_name": "SoS",
   "language": "sos",
   "name": "sos"
  },
  "language_info": {
   "codemirror_mode": "sos",
   "file_extension": ".sos",
   "mimetype": "text/x-sos",
   "name": "sos",
   "nbconvert_exporter": "sos_notebook.converter.SoS_Exporter",
   "pygments_lexer": "sos"
  },
  "sos": {
   "kernels": [
    [
     "Bash",
     "bash",
     "Bash",
     "#E6EEFF"
    ],
    [
     "R",
     "ir",
     "R",
     "#DCDCDA"
    ],
    [
     "SoS",
     "sos",
     "",
     ""
    ]
   ],
   "panel": {
    "displayed": true,
    "height": 0
   },
   "version": "0.17.5"
  }
 },
 "nbformat": 4,
 "nbformat_minor": 2
}
