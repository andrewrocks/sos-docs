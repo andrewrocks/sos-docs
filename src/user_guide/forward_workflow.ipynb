{
 "cells": [
  {
   "cell_type": "markdown",
   "metadata": {
    "kernel": "SoS"
   },
   "source": [
    "# How to define and execute basic forward-style workflows"
   ]
  },
  {
   "cell_type": "markdown",
   "metadata": {
    "kernel": "SoS"
   },
   "source": [
    "* **Difficulty level**: easy\n",
    "* **Time need to lean**: 10 minutes or less\n",
    "* **Key points**:\n",
    "  * A forward-style workflow consists of numerically numbered steps\n",
    "  * Multiple workflows can be defined in a single SoS script or notebook\n",
    "  * Optional input and output statements can be added to change how workflows are executed\n",
    "  * The default input of a step if the output of its previous step  "
   ]
  },
  {
   "cell_type": "markdown",
   "metadata": {
    "kernel": "SoS"
   },
   "source": [
    "## Simple workflows with numerically numbered steps"
   ]
  },
  {
   "cell_type": "markdown",
   "metadata": {
    "kernel": "SoS"
   },
   "source": [
    "The workflows you have seen so far have numerically numbered steps. For example, this example from the [first tutorial](sos_in_notebook.html) have a single workflow `plot` with steps `plot_10` and `plot_20` and SoS will execute the steps in numeric ordering."
   ]
  },
  {
   "cell_type": "markdown",
   "metadata": {
    "kernel": "SoS"
   },
   "source": [
    "<div class=\"bs-callout bs-callout-primary\" role=\"alert\">\n",
    "    <h4>Workflows with numerically numbered steps</h4>\n",
    "    <ul>\n",
    "        <li>Steps have the format of <code>name_index</code> (e.g. <code>step_10</code>) where <code>name</code> is the name of the workflow, and <code>index</code> is a numeric number</li>\n",
    "        <li>Step indexes are usually not consecutive to allow easy insertion of new steps</li>\n",
    "        <li>Both workflow <code>name</code> and <code>index</code> can be ignored. <code>10</code>, <code>20</code> etc are considered as steps of an unnamed workflow, <code>step</code> is considered as a one-step workflow</li>\n",
    "        <li>Workflow can be executed by workflow name (e.g. <code>%run name</code> in Jupyter, <code>sos run name</code> from command line). A default workflow will be execute if only one workflow is defined, or a default workflow is defined</li>\n",
    "    </ul>\n",
    "</div>"
   ]
  },
  {
   "cell_type": "code",
   "execution_count": 1,
   "metadata": {
    "kernel": "SoS"
   },
   "outputs": [
    {
     "data": {
      "text/html": []
     },
     "metadata": {},
     "output_type": "display_data"
    },
    {
     "data": {
      "text/html": [
       "<div class=\"sos_logging sos_info\">INFO: Running <span class=\"sos_highlight\">plot_10</span>: \n",
       "</div>"
      ]
     },
     "metadata": {},
     "output_type": "display_data"
    },
    {
     "name": "stdout",
     "output_type": "stream",
     "text": [
      "xlsx2csv data/DEG.xlsx > DEG.csv\n",
      "\n"
     ]
    },
    {
     "data": {
      "text/html": [
       "<div class=\"sos_logging sos_info\">INFO: Running <span class=\"sos_highlight\">plot_20</span>: \n",
       "</div>"
      ]
     },
     "metadata": {},
     "output_type": "display_data"
    },
    {
     "name": "stdout",
     "output_type": "stream",
     "text": [
      "null device \n",
      "          1 \n"
     ]
    },
    {
     "data": {
      "text/html": [
       "<div class=\"sos_logging sos_info\">INFO: Workflow plot (ID=221e15922696f853) is executed successfully with 2 completed steps.\n",
       "</div>"
      ]
     },
     "metadata": {},
     "output_type": "display_data"
    }
   ],
   "source": [
    "%run\n",
    "\n",
    "[global]\n",
    "excel_file = 'data/DEG.xlsx'\n",
    "csv_file = 'DEG.csv'\n",
    "figure_file = 'output.pdf'\n",
    "\n",
    "[plot_10]\n",
    "run: expand=True\n",
    "    xlsx2csv {excel_file} > {csv_file}\n",
    "\n",
    "[plot_20]\n",
    "R: expand=True\n",
    "    data <- read.csv('{csv_file}')\n",
    "    pdf('{figure_file}')\n",
    "    plot(data$log2FoldChange, data$stat)\n",
    "    dev.off()"
   ]
  },
  {
   "cell_type": "markdown",
   "metadata": {
    "kernel": "SoS"
   },
   "source": [
    "The workflow is executed by default with magic `%run` because only one workflow is defined in the script. You can also define multiple workflows and execute them by their names. For example, the following script defines two single-step workflows `convert` and `plot`. Because there is no default workflow, you will have to refer to them with their names:\n",
    "\n",
    "```\n",
    "%run convert\n",
    "```\n",
    "and\n",
    "```\n",
    "%run plot\n",
    "```"
   ]
  },
  {
   "cell_type": "code",
   "execution_count": 2,
   "metadata": {
    "kernel": "SoS"
   },
   "outputs": [
    {
     "data": {
      "text/html": []
     },
     "metadata": {},
     "output_type": "display_data"
    },
    {
     "data": {
      "text/html": [
       "<div class=\"sos_logging sos_info\">INFO: Running <span class=\"sos_highlight\">convert</span>: \n",
       "</div>"
      ]
     },
     "metadata": {},
     "output_type": "display_data"
    },
    {
     "name": "stdout",
     "output_type": "stream",
     "text": [
      "xlsx2csv data/DEG.xlsx > DEG.csv\n",
      "\n"
     ]
    },
    {
     "data": {
      "text/html": [
       "<div class=\"sos_logging sos_info\">INFO: Workflow convert (ID=d799ecdba11b5554) is executed successfully with 1 completed step.\n",
       "</div>"
      ]
     },
     "metadata": {},
     "output_type": "display_data"
    }
   ],
   "source": [
    "%run convert\n",
    "\n",
    "[global]\n",
    "excel_file = 'data/DEG.xlsx'\n",
    "csv_file = 'DEG.csv'\n",
    "figure_file = 'output.pdf'\n",
    "\n",
    "[convert]\n",
    "run: expand=True\n",
    "    xlsx2csv {excel_file} > {csv_file}\n",
    "\n",
    "[plot]\n",
    "R: expand=True\n",
    "    data <- read.csv('{csv_file}')\n",
    "    pdf('{figure_file}')\n",
    "    plot(data$log2FoldChange, data$stat)\n",
    "    dev.off()"
   ]
  },
  {
   "cell_type": "code",
   "execution_count": 3,
   "metadata": {
    "kernel": "SoS"
   },
   "outputs": [
    {
     "data": {
      "text/html": []
     },
     "metadata": {},
     "output_type": "display_data"
    },
    {
     "data": {
      "text/html": [
       "<div class=\"sos_logging sos_info\">INFO: Running <span class=\"sos_highlight\">plot</span>: \n",
       "</div>"
      ]
     },
     "metadata": {},
     "output_type": "display_data"
    },
    {
     "name": "stdout",
     "output_type": "stream",
     "text": [
      "null device \n",
      "          1 \n"
     ]
    },
    {
     "data": {
      "text/html": [
       "<div class=\"sos_logging sos_info\">INFO: Workflow plot (ID=d9b491e59a96a0d0) is executed successfully with 1 completed step.\n",
       "</div>"
      ]
     },
     "metadata": {},
     "output_type": "display_data"
    }
   ],
   "source": [
    "%run plot\n",
    "\n",
    "[global]\n",
    "excel_file = 'data/DEG.xlsx'\n",
    "csv_file = 'DEG.csv'\n",
    "figure_file = 'output.pdf'\n",
    "\n",
    "[convert]\n",
    "run: expand=True\n",
    "    xlsx2csv {excel_file} > {csv_file}\n",
    "\n",
    "[plot]\n",
    "R: expand=True\n",
    "    data <- read.csv('{csv_file}')\n",
    "    pdf('{figure_file}')\n",
    "    plot(data$log2FoldChange, data$stat)\n",
    "    dev.off()"
   ]
  },
  {
   "cell_type": "markdown",
   "metadata": {
    "kernel": "SoS"
   },
   "source": [
    "### Default input of steps"
   ]
  },
  {
   "cell_type": "markdown",
   "metadata": {
    "kernel": "SoS"
   },
   "source": [
    "As shown in in [How to specify input and output files and process input files in groups](doc/user_guide/input_substeps.html), you can define `input` and `output` for each step. "
   ]
  },
  {
   "cell_type": "markdown",
   "metadata": {
    "kernel": "SoS"
   },
   "source": [
    "<div class=\"bs-callout bs-callout-primary\" role=\"alert\">\n",
    "    <h4>Default <code>input</code> of numerically numbered workflows</h4>\n",
    "    <p>The default input of a step in a numerically numbered workflow is the output of its previous step</p>\n",
    "</div>"
   ]
  },
  {
   "cell_type": "markdown",
   "metadata": {
    "kernel": "SoS"
   },
   "source": [
    "Therefore, in the following workflow, the `input` statement of `plot_20` can be ignored. "
   ]
  },
  {
   "cell_type": "code",
   "execution_count": 6,
   "metadata": {
    "kernel": "SoS"
   },
   "outputs": [
    {
     "data": {
      "text/html": [
       "\n",
       "<table id=\"workflow_2e9d3aca-ece1-42a4-8983-472728791aa7\" class=\"workflow_table  completed\">\n",
       "<tr>\n",
       "      <td class=\"workflow_icon\">\n",
       "        <i id=\"workflow_status_icon_2e9d3aca-ece1-42a4-8983-472728791aa7\" class=\"fa fa-2x fa-fw fa-check-square-o\"\n",
       "        onmouseover='this.classList=\"fa fa-2x fa-fw fa-trash\"' onmouseleave='this.classList=\"fa fa-2x fa-fw fa-check-square-o\"' onclick=\"cancel_workflow(this.id.substring(21))\"></i>\n",
       "      </td>\n",
       "      <td class=\"workflow_name\">\n",
       "        <pre><span id=\"workflow_name_2e9d3aca-ece1-42a4-8983-472728791aa7\">plot</span></pre>\n",
       "      </td>\n",
       "      <td class=\"workflow_id\">\n",
       "        <span>Workflow ID</span></br>\n",
       "        <pre><i class=\"fa fa-fw fa-sitemap\"></i><span id=\"workflow_id_2e9d3aca-ece1-42a4-8983-472728791aa7\">1ca0da08be0c3ea0</span></pre>\n",
       "      </td>\n",
       "      <td class=\"workflow_index\">\n",
       "        <span>Index</span></br>\n",
       "        <pre>#<span id=\"workflow_index_2e9d3aca-ece1-42a4-8983-472728791aa7\">4</span></pre>\n",
       "      </td>\n",
       "      <td class=\"workflow_status\">\n",
       "        <span id=\"status_text_2e9d3aca-ece1-42a4-8983-472728791aa7\">completed</span></br>\n",
       "        <pre><i class=\"fa fa-fw fa-clock-o\"></i><time id=\"status_duration_2e9d3aca-ece1-42a4-8983-472728791aa7\" class=\"completed\" datetime=\"1546401369290.883\">Ran for 0 sec</time></pre>\n",
       "      </td>\n",
       "</tr>\n",
       "</table>\n"
      ]
     },
     "metadata": {},
     "output_type": "display_data"
    },
    {
     "data": {
      "text/html": [
       "<div class=\"sos_logging sos_info\">INFO: Running <span class=\"sos_highlight\">plot_10</span>: \n",
       "</div>"
      ]
     },
     "metadata": {},
     "output_type": "display_data"
    },
    {
     "name": "stdout",
     "output_type": "stream",
     "text": [
      "xlsx2csv data/DEG.xlsx > DEG.csv\n",
      "\n"
     ]
    },
    {
     "data": {
      "text/html": [
       "<div class=\"sos_logging sos_info\">INFO: output:   <span class=\"sos_highlight\">DEG.csv</span>\n",
       "</div>"
      ]
     },
     "metadata": {},
     "output_type": "display_data"
    },
    {
     "data": {
      "text/html": [
       "<div class=\"sos_logging sos_info\">INFO: Running <span class=\"sos_highlight\">plot_20</span>: \n",
       "</div>"
      ]
     },
     "metadata": {},
     "output_type": "display_data"
    },
    {
     "name": "stdout",
     "output_type": "stream",
     "text": [
      "null device \n",
      "          1 \n"
     ]
    },
    {
     "data": {
      "text/html": [
       "<div class=\"sos_logging sos_info\">INFO: output:   <span class=\"sos_highlight\">output.pdf</span>\n",
       "</div>"
      ]
     },
     "metadata": {},
     "output_type": "display_data"
    },
    {
     "data": {
      "text/html": [
       "<div class=\"sos_logging sos_info\">INFO: Workflow plot (ID=1ca0da08be0c3ea0) is executed successfully with 2 completed steps.\n",
       "</div>"
      ]
     },
     "metadata": {},
     "output_type": "display_data"
    }
   ],
   "source": [
    "%run\n",
    "\n",
    "[global]\n",
    "excel_file = 'data/DEG.xlsx'\n",
    "csv_file = 'DEG.csv'\n",
    "figure_file = 'output.pdf'\n",
    "\n",
    "[plot_10]\n",
    "input: excel_file\n",
    "output: csv_file\n",
    "\n",
    "run: expand=True\n",
    "    xlsx2csv {_input} > {_output}\n",
    "\n",
    "[plot_20]\n",
    "# input: csv_file\n",
    "output: figure_file\n",
    "\n",
    "R: expand=True\n",
    "    data <- read.csv('{_input}')\n",
    "    pdf('{_output}')\n",
    "    plot(data$log2FoldChange, data$stat)\n",
    "    dev.off()"
   ]
  },
  {
   "cell_type": "markdown",
   "metadata": {
    "kernel": "SoS"
   },
   "source": [
    "## Passing output of steps with substeps *"
   ]
  },
  {
   "cell_type": "markdown",
   "metadata": {
    "kernel": "SoS"
   },
   "source": [
    "<div class=\"bs-callout bs-callout-warning\" role=\"alert\">\n",
    "    <h4>Output of a step with substeps</h4>\n",
    "    <p>If a step has multiple substeps, the step output consists of <code>_output</code> from each substep, which will be by default passed to the next step and create multiple substeps.</p>\n",
    "</div>"
   ]
  },
  {
   "cell_type": "markdown",
   "metadata": {
    "kernel": "SoS"
   },
   "source": [
    "Things can get a little bit complicated when a step has multiple substeps. As you can recall from [How to specify input and output files and process input files in groups](doc/user_guide/input_substeps.html), multiple substeps can be defined by input option `group_by`, each with its own `_input` and `_output`. When the output of such a step is inherited by another step, these `_output` will become the `_input` of the substeps.\n",
    "\n",
    "For example, after running `fastqc` on the input fastq files, we would like to process the generated HTML file and check if the qualities are ok. We use the `beautifulsoup` Python module and find all the `<h2>` headers. Without going into the details of the use of `beautifulsoup` to parse HTML files, you should notice that \n",
    "\n",
    "* No `input` is defined for step `20` so it takes the output of step `10` as its input.\n",
    "* The output of step `10` contains two groups, `data/S20_R1_fastqc.html` and `data/S20_R2_fastqc.html`, which becomes the input of two substeps of step `20`.\n",
    "* The input of step `20` are processed one by one"
   ]
  },
  {
   "cell_type": "code",
   "execution_count": 24,
   "metadata": {
    "kernel": "SoS"
   },
   "outputs": [
    {
     "data": {
      "text/html": []
     },
     "metadata": {},
     "output_type": "display_data"
    },
    {
     "data": {
      "text/html": [
       "<div class=\"sos_logging sos_info\">INFO: Running <span class=\"sos_highlight\">10</span>: \n",
       "</div>"
      ]
     },
     "metadata": {},
     "output_type": "display_data"
    },
    {
     "data": {
      "text/html": [
       "<div class=\"sos_logging sos_info\">INFO: <span class=\"sos_highlight\">10</span> (index=0) is <span class=\"sos_highlight\">ignored</span> due to saved signature\n",
       "</div>"
      ]
     },
     "metadata": {},
     "output_type": "display_data"
    },
    {
     "data": {
      "text/html": [
       "<div class=\"sos_logging sos_info\">INFO: <span class=\"sos_highlight\">10</span> (index=1) is <span class=\"sos_highlight\">ignored</span> due to saved signature\n",
       "</div>"
      ]
     },
     "metadata": {},
     "output_type": "display_data"
    },
    {
     "data": {
      "text/html": [
       "<div class=\"sos_logging sos_info\">INFO: output:   <span class=\"sos_highlight\">data/S20_R1_fastqc.html data/S20_R2_fastqc.html in 2 groups</span>\n",
       "</div>"
      ]
     },
     "metadata": {},
     "output_type": "display_data"
    },
    {
     "data": {
      "text/html": [
       "<div class=\"sos_logging sos_info\">INFO: Running <span class=\"sos_highlight\">20</span>: \n",
       "</div>"
      ]
     },
     "metadata": {},
     "output_type": "display_data"
    },
    {
     "name": "stdout",
     "output_type": "stream",
     "text": [
      "S20_R1_fastqc Basic Statistics: [OK]\n",
      "S20_R1_fastqc Per base sequence quality: [OK]\n",
      "S20_R1_fastqc Per tile sequence quality: [OK]\n",
      "S20_R1_fastqc Per sequence quality scores: [OK]\n",
      "S20_R1_fastqc Per base sequence content: [FAIL]\n",
      "S20_R1_fastqc Per sequence GC content: [FAIL]\n",
      "S20_R1_fastqc Per base N content: [OK]\n",
      "S20_R1_fastqc Sequence Length Distribution: [WARN]\n",
      "S20_R1_fastqc Sequence Duplication Levels: [OK]\n",
      "S20_R1_fastqc Overrepresented sequences: [FAIL]\n",
      "S20_R1_fastqc Adapter Content: [OK]\n",
      "S20_R2_fastqc Basic Statistics: [OK]\n",
      "S20_R2_fastqc Per base sequence quality: [OK]\n",
      "S20_R2_fastqc Per tile sequence quality: [OK]\n",
      "S20_R2_fastqc Per sequence quality scores: [OK]\n",
      "S20_R2_fastqc Per base sequence content: [FAIL]\n",
      "S20_R2_fastqc Per sequence GC content: [FAIL]\n",
      "S20_R2_fastqc Per base N content: [OK]\n",
      "S20_R2_fastqc Sequence Length Distribution: [WARN]\n",
      "S20_R2_fastqc Sequence Duplication Levels: [OK]\n",
      "S20_R2_fastqc Overrepresented sequences: [FAIL]\n",
      "S20_R2_fastqc Adapter Content: [OK]\n"
     ]
    },
    {
     "data": {
      "text/html": [
       "<div class=\"sos_logging sos_info\">INFO: Workflow default (ID=ee0072d3ce4e9adc) is executed successfully with 1 completed step, 2 completed substeps, 1 ignored step and 2 ignored substeps.\n",
       "</div>"
      ]
     },
     "metadata": {},
     "output_type": "display_data"
    }
   ],
   "source": [
    "%run \n",
    "\n",
    "[10]\n",
    "input: 'data/S20_R1.fastq', 'data/S20_R2.fastq', group_by=1\n",
    "output: f'{_input:n}_fastqc.html'\n",
    "\n",
    "sh: expand=True\n",
    "    fastqc {_input}\n",
    "    \n",
    "[20]\n",
    "\n",
    "from bs4 import BeautifulSoup\n",
    "\n",
    "with open(_input) as html:\n",
    "    soup = BeautifulSoup(html)\n",
    "    for h2 in soup.findAll('h2'):\n",
    "        if h2.img:\n",
    "            print(f\"{_input:bn} {h2.text}: {h2.img['alt']}\")"
   ]
  },
  {
   "cell_type": "markdown",
   "metadata": {
    "kernel": "SoS"
   },
   "source": [
    "If you would like to re-group the default input, you can redefine the `input` explicitly, or apply option `group_by` to the default input:"
   ]
  },
  {
   "cell_type": "code",
   "execution_count": 27,
   "metadata": {
    "kernel": "SoS"
   },
   "outputs": [
    {
     "data": {
      "text/html": []
     },
     "metadata": {},
     "output_type": "display_data"
    },
    {
     "name": "stdout",
     "output_type": "stream",
     "text": [
      "Input of step 20 is data/S20_R1_fastqc.html data/S20_R2_fastqc.html\n"
     ]
    }
   ],
   "source": [
    "%run -v0\n",
    "\n",
    "[10]\n",
    "input: 'data/S20_R1.fastq', 'data/S20_R2.fastq', group_by=1\n",
    "output: f'{_input:n}_fastqc.html'\n",
    "\n",
    "sh: expand=True\n",
    "    fastqc {_input}\n",
    "    \n",
    "[20]\n",
    "input: group_by='all'\n",
    "print(f'Input of step 20 is {_input}')"
   ]
  },
  {
   "cell_type": "markdown",
   "metadata": {
    "kernel": "SoS"
   },
   "source": [
    "## Further reading\n",
    "* [How to specify input and output files and process input files in groups](doc/user_guide/input_substeps.html)"
   ]
  }
 ],
 "metadata": {
  "kernelspec": {
   "display_name": "SoS",
   "language": "sos",
   "name": "sos"
  },
  "language_info": {
   "codemirror_mode": "sos",
   "file_extension": ".sos",
   "mimetype": "text/x-sos",
   "name": "sos",
   "nbconvert_exporter": "sos_notebook.converter.SoS_Exporter",
   "pygments_lexer": "sos"
  },
  "sos": {
   "kernels": [
    [
     "Bash",
     "bash",
     "Bash",
     "#E6EEFF"
    ],
    [
     "R",
     "ir",
     "R",
     "#DCDCDA"
    ],
    [
     "SoS",
     "sos",
     "",
     ""
    ]
   ],
   "panel": {
    "displayed": true,
    "height": 0
   },
   "version": "0.17.5"
  }
 },
 "nbformat": 4,
 "nbformat_minor": 2
}
