{
 "cells": [
  {
   "cell_type": "markdown",
   "metadata": {
    "kernel": "SoS"
   },
   "source": [
    "# How to define and execute basic SoS workflows"
   ]
  },
  {
   "cell_type": "markdown",
   "metadata": {
    "kernel": "SoS"
   },
   "source": [
    "* **Difficulty level**: easy\n",
    "* **Time need to lean**: 10 minutes or less\n",
    "* **Key points**:\n",
    "  * A forward-style workflow consists of numerically numbered steps\n",
    "  * Multiple workflows can be defined in a single SoS script or notebook\n",
    "  * Optional input and output statements can be added to change how workflows are executed\n",
    "  * The default input of a step if the output of its previous step  "
   ]
  },
  {
   "cell_type": "markdown",
   "metadata": {
    "kernel": "SoS"
   },
   "source": [
    "## Simple workflows with numerically numbered steps"
   ]
  },
  {
   "cell_type": "markdown",
   "metadata": {
    "kernel": "SoS"
   },
   "source": [
    "The workflows you have seen so far have numerically numbered steps. For example, this example from the [first tutorial](sos_in_notebook.html) have a single workflow `plot` with steps `plot_10` and `plot_20` and SoS will execute the steps in numeric ordering."
   ]
  },
  {
   "cell_type": "markdown",
   "metadata": {
    "kernel": "SoS"
   },
   "source": [
    "<div class=\"bs-callout bs-callout-primary\" role=\"alert\">\n",
    "    <h4>Workflows with numerically numbered steps</h4>\n",
    "    <ul>\n",
    "        <li>Steps have the format of <code>name_index</code> (e.g. <code>step_10</code>) where <code>name</code> is the name of the workflow, and <code>index</code> is a numeric number</li>\n",
    "        <li>Step indexes are usually not consecutive to allow easy insertion of new steps</li>\n",
    "        <li>Both workflow <code>name</code> and <code>index</code> can be ignored. <code>10</code>, <code>20</code> etc are considered as steps of an unnamed workflow, <code>step</code> is considered as a one-step workflow</li>\n",
    "        <li>Workflow can be executed by workflow name (e.g. <code>%run name</code> in Jupyter, <code>sos run name</code> from command line). A default workflow will be execute if only one workflow is defined, or a default workflow is defined</li>\n",
    "    </ul>\n",
    "</div>"
   ]
  },
  {
   "cell_type": "code",
   "execution_count": 1,
   "metadata": {
    "kernel": "SoS"
   },
   "outputs": [
    {
     "data": {
      "text/html": [
       "\n",
       "<table id=\"workflow_40b210a8-cdb1-4b47-8d1f-a240882a4931\" class=\"workflow_table  completed\">\n",
       "<tr>\n",
       "      <td class=\"workflow_icon\">\n",
       "        <i id=\"workflow_status_icon_40b210a8-cdb1-4b47-8d1f-a240882a4931\" class=\"fa fa-2x fa-fw fa-check-square-o\"\n",
       "        onmouseover='this.classList=\"fa fa-2x fa-fw fa-trash\"' onmouseleave='this.classList=\"fa fa-2x fa-fw fa-check-square-o\"' onclick=\"cancel_workflow(this.id.substring(21))\"></i>\n",
       "      </td>\n",
       "      <td class=\"workflow_name\">\n",
       "        <pre><span id=\"workflow_name_40b210a8-cdb1-4b47-8d1f-a240882a4931\">plot</span></pre>\n",
       "      </td>\n",
       "      <td class=\"workflow_id\">\n",
       "        <span>Workflow ID</span></br>\n",
       "        <pre><i class=\"fa fa-fw fa-sitemap\"></i><span id=\"workflow_id_40b210a8-cdb1-4b47-8d1f-a240882a4931\">221e15922696f853</span></pre>\n",
       "      </td>\n",
       "      <td class=\"workflow_index\">\n",
       "        <span>Index</span></br>\n",
       "        <pre>#<span id=\"workflow_index_40b210a8-cdb1-4b47-8d1f-a240882a4931\">1</span></pre>\n",
       "      </td>\n",
       "      <td class=\"workflow_status\">\n",
       "        <span id=\"status_text_40b210a8-cdb1-4b47-8d1f-a240882a4931\">completed</span></br>\n",
       "        <pre><i class=\"fa fa-fw fa-clock-o\"></i><time id=\"status_duration_40b210a8-cdb1-4b47-8d1f-a240882a4931\" class=\"completed\" datetime=\"1546744063421.5679\">Ran for < 5 seconds</time></pre>\n",
       "      </td>\n",
       "</tr>\n",
       "</table>\n"
      ]
     },
     "metadata": {},
     "output_type": "display_data"
    },
    {
     "data": {
      "text/html": [
       "<div class=\"sos_logging sos_info\">INFO: Running <span class=\"sos_highlight\">plot_10</span>: \n",
       "</div>"
      ]
     },
     "metadata": {},
     "output_type": "display_data"
    },
    {
     "name": "stdout",
     "output_type": "stream",
     "text": [
      "xlsx2csv data/DEG.xlsx > DEG.csv\n",
      "\n"
     ]
    },
    {
     "data": {
      "text/html": [
       "<div class=\"sos_logging sos_info\">INFO: Running <span class=\"sos_highlight\">plot_20</span>: \n",
       "</div>"
      ]
     },
     "metadata": {},
     "output_type": "display_data"
    },
    {
     "name": "stdout",
     "output_type": "stream",
     "text": [
      "null device \n",
      "          1 \n"
     ]
    },
    {
     "data": {
      "text/html": [
       "<div class=\"sos_logging sos_info\">INFO: Workflow plot (ID=221e15922696f853) is executed successfully with 2 completed steps.\n",
       "</div>"
      ]
     },
     "metadata": {},
     "output_type": "display_data"
    }
   ],
   "source": [
    "%run\n",
    "\n",
    "[global]\n",
    "excel_file = 'data/DEG.xlsx'\n",
    "csv_file = 'DEG.csv'\n",
    "figure_file = 'output.pdf'\n",
    "\n",
    "[plot_10]\n",
    "run: expand=True\n",
    "    xlsx2csv {excel_file} > {csv_file}\n",
    "\n",
    "[plot_20]\n",
    "R: expand=True\n",
    "    data <- read.csv('{csv_file}')\n",
    "    pdf('{figure_file}')\n",
    "    plot(data$log2FoldChange, data$stat)\n",
    "    dev.off()"
   ]
  },
  {
   "cell_type": "markdown",
   "metadata": {
    "kernel": "SoS"
   },
   "source": [
    "The workflow is executed by default with magic `%run` because only one workflow is defined in the script. You can also define multiple workflows and execute them by their names. For example, the following script defines two single-step workflows `convert` and `plot`. Because there is no default workflow, you will have to refer to them with their names:\n",
    "\n",
    "```\n",
    "%run convert\n",
    "```\n",
    "and\n",
    "```\n",
    "%run plot\n",
    "```"
   ]
  },
  {
   "cell_type": "code",
   "execution_count": 2,
   "metadata": {
    "kernel": "SoS"
   },
   "outputs": [
    {
     "data": {
      "text/html": [
       "\n",
       "<table id=\"workflow_23254d0b-81a7-4a98-a1d0-8c894a2875b9\" class=\"workflow_table  completed\">\n",
       "<tr>\n",
       "      <td class=\"workflow_icon\">\n",
       "        <i id=\"workflow_status_icon_23254d0b-81a7-4a98-a1d0-8c894a2875b9\" class=\"fa fa-2x fa-fw fa-check-square-o\"\n",
       "        onmouseover='this.classList=\"fa fa-2x fa-fw fa-trash\"' onmouseleave='this.classList=\"fa fa-2x fa-fw fa-check-square-o\"' onclick=\"cancel_workflow(this.id.substring(21))\"></i>\n",
       "      </td>\n",
       "      <td class=\"workflow_name\">\n",
       "        <pre><span id=\"workflow_name_23254d0b-81a7-4a98-a1d0-8c894a2875b9\">convert</span></pre>\n",
       "      </td>\n",
       "      <td class=\"workflow_id\">\n",
       "        <span>Workflow ID</span></br>\n",
       "        <pre><i class=\"fa fa-fw fa-sitemap\"></i><span id=\"workflow_id_23254d0b-81a7-4a98-a1d0-8c894a2875b9\">d799ecdba11b5554</span></pre>\n",
       "      </td>\n",
       "      <td class=\"workflow_index\">\n",
       "        <span>Index</span></br>\n",
       "        <pre>#<span id=\"workflow_index_23254d0b-81a7-4a98-a1d0-8c894a2875b9\">2</span></pre>\n",
       "      </td>\n",
       "      <td class=\"workflow_status\">\n",
       "        <span id=\"status_text_23254d0b-81a7-4a98-a1d0-8c894a2875b9\">completed</span></br>\n",
       "        <pre><i class=\"fa fa-fw fa-clock-o\"></i><time id=\"status_duration_23254d0b-81a7-4a98-a1d0-8c894a2875b9\" class=\"completed\" datetime=\"1546744070534.6738\">Ran for < 5 seconds</time></pre>\n",
       "      </td>\n",
       "</tr>\n",
       "</table>\n"
      ]
     },
     "metadata": {},
     "output_type": "display_data"
    },
    {
     "name": "stdout",
     "output_type": "stream",
     "text": [
      "xlsx2csv data/DEG.xlsx > DEG.csv\n",
      "\n"
     ]
    }
   ],
   "source": [
    "%run convert\n",
    "\n",
    "[global]\n",
    "excel_file = 'data/DEG.xlsx'\n",
    "csv_file = 'DEG.csv'\n",
    "figure_file = 'output.pdf'\n",
    "\n",
    "[convert]\n",
    "run: expand=True\n",
    "    xlsx2csv {excel_file} > {csv_file}\n",
    "\n",
    "[plot]\n",
    "R: expand=True\n",
    "    data <- read.csv('{csv_file}')\n",
    "    pdf('{figure_file}')\n",
    "    plot(data$log2FoldChange, data$stat)\n",
    "    dev.off()"
   ]
  },
  {
   "cell_type": "code",
   "execution_count": 3,
   "metadata": {
    "kernel": "SoS"
   },
   "outputs": [
    {
     "data": {
      "text/html": [
       "\n",
       "<table id=\"workflow_6ecca4a4-ec4e-4c0e-a71c-96808d5e4081\" class=\"workflow_table  completed\">\n",
       "<tr>\n",
       "      <td class=\"workflow_icon\">\n",
       "        <i id=\"workflow_status_icon_6ecca4a4-ec4e-4c0e-a71c-96808d5e4081\" class=\"fa fa-2x fa-fw fa-check-square-o\"\n",
       "        onmouseover='this.classList=\"fa fa-2x fa-fw fa-trash\"' onmouseleave='this.classList=\"fa fa-2x fa-fw fa-check-square-o\"' onclick=\"cancel_workflow(this.id.substring(21))\"></i>\n",
       "      </td>\n",
       "      <td class=\"workflow_name\">\n",
       "        <pre><span id=\"workflow_name_6ecca4a4-ec4e-4c0e-a71c-96808d5e4081\">plot</span></pre>\n",
       "      </td>\n",
       "      <td class=\"workflow_id\">\n",
       "        <span>Workflow ID</span></br>\n",
       "        <pre><i class=\"fa fa-fw fa-sitemap\"></i><span id=\"workflow_id_6ecca4a4-ec4e-4c0e-a71c-96808d5e4081\">d9b491e59a96a0d0</span></pre>\n",
       "      </td>\n",
       "      <td class=\"workflow_index\">\n",
       "        <span>Index</span></br>\n",
       "        <pre>#<span id=\"workflow_index_6ecca4a4-ec4e-4c0e-a71c-96808d5e4081\">3</span></pre>\n",
       "      </td>\n",
       "      <td class=\"workflow_status\">\n",
       "        <span id=\"status_text_6ecca4a4-ec4e-4c0e-a71c-96808d5e4081\">completed</span></br>\n",
       "        <pre><i class=\"fa fa-fw fa-clock-o\"></i><time id=\"status_duration_6ecca4a4-ec4e-4c0e-a71c-96808d5e4081\" class=\"completed\" datetime=\"1546744074667.1602\">Ran for 0 sec</time></pre>\n",
       "      </td>\n",
       "</tr>\n",
       "</table>\n"
      ]
     },
     "metadata": {},
     "output_type": "display_data"
    },
    {
     "data": {
      "text/html": [
       "<div class=\"sos_logging sos_info\">INFO: Running <span class=\"sos_highlight\">plot</span>: \n",
       "</div>"
      ]
     },
     "metadata": {},
     "output_type": "display_data"
    },
    {
     "name": "stdout",
     "output_type": "stream",
     "text": [
      "null device \n",
      "          1 \n"
     ]
    },
    {
     "data": {
      "text/html": [
       "<div class=\"sos_logging sos_info\">INFO: Workflow plot (ID=d9b491e59a96a0d0) is executed successfully with 1 completed step.\n",
       "</div>"
      ]
     },
     "metadata": {},
     "output_type": "display_data"
    }
   ],
   "source": [
    "%run plot\n",
    "\n",
    "[global]\n",
    "excel_file = 'data/DEG.xlsx'\n",
    "csv_file = 'DEG.csv'\n",
    "figure_file = 'output.pdf'\n",
    "\n",
    "[convert]\n",
    "run: expand=True\n",
    "    xlsx2csv {excel_file} > {csv_file}\n",
    "\n",
    "[plot]\n",
    "R: expand=True\n",
    "    data <- read.csv('{csv_file}')\n",
    "    pdf('{figure_file}')\n",
    "    plot(data$log2FoldChange, data$stat)\n",
    "    dev.off()"
   ]
  },
  {
   "cell_type": "markdown",
   "metadata": {
    "kernel": "SoS"
   },
   "source": [
    "## Default input of steps"
   ]
  },
  {
   "cell_type": "markdown",
   "metadata": {
    "kernel": "SoS"
   },
   "source": [
    "As shown in in [How to specify input and output files and process input files in groups](doc/user_guide/input_substeps.html), you can define `input` and `output` for each step. "
   ]
  },
  {
   "cell_type": "markdown",
   "metadata": {
    "kernel": "SoS"
   },
   "source": [
    "<div class=\"bs-callout bs-callout-primary\" role=\"alert\">\n",
    "    <h4>Default <code>input</code> of numerically numbered workflows</h4>\n",
    "    <p>The default input of a step in a numerically numbered workflow is the output of its previous step</p>\n",
    "</div>"
   ]
  },
  {
   "cell_type": "markdown",
   "metadata": {
    "kernel": "SoS"
   },
   "source": [
    "Therefore, in the following workflow, the `input` statement of `plot_20` can be ignored. "
   ]
  },
  {
   "cell_type": "code",
   "execution_count": 4,
   "metadata": {
    "kernel": "SoS"
   },
   "outputs": [
    {
     "data": {
      "text/html": [
       "\n",
       "<table id=\"workflow_2a788e34-b57f-46a0-82e7-fe88c7e9b5b4\" class=\"workflow_table  completed\">\n",
       "<tr>\n",
       "      <td class=\"workflow_icon\">\n",
       "        <i id=\"workflow_status_icon_2a788e34-b57f-46a0-82e7-fe88c7e9b5b4\" class=\"fa fa-2x fa-fw fa-check-square-o\"\n",
       "        onmouseover='this.classList=\"fa fa-2x fa-fw fa-trash\"' onmouseleave='this.classList=\"fa fa-2x fa-fw fa-check-square-o\"' onclick=\"cancel_workflow(this.id.substring(21))\"></i>\n",
       "      </td>\n",
       "      <td class=\"workflow_name\">\n",
       "        <pre><span id=\"workflow_name_2a788e34-b57f-46a0-82e7-fe88c7e9b5b4\">plot</span></pre>\n",
       "      </td>\n",
       "      <td class=\"workflow_id\">\n",
       "        <span>Workflow ID</span></br>\n",
       "        <pre><i class=\"fa fa-fw fa-sitemap\"></i><span id=\"workflow_id_2a788e34-b57f-46a0-82e7-fe88c7e9b5b4\">d33e866756280fec</span></pre>\n",
       "      </td>\n",
       "      <td class=\"workflow_index\">\n",
       "        <span>Index</span></br>\n",
       "        <pre>#<span id=\"workflow_index_2a788e34-b57f-46a0-82e7-fe88c7e9b5b4\">4</span></pre>\n",
       "      </td>\n",
       "      <td class=\"workflow_status\">\n",
       "        <span id=\"status_text_2a788e34-b57f-46a0-82e7-fe88c7e9b5b4\">completed</span></br>\n",
       "        <pre><i class=\"fa fa-fw fa-clock-o\"></i><time id=\"status_duration_2a788e34-b57f-46a0-82e7-fe88c7e9b5b4\" class=\"completed\" datetime=\"1546744095015.648\">Ran for 0 sec</time></pre>\n",
       "      </td>\n",
       "</tr>\n",
       "</table>\n"
      ]
     },
     "metadata": {},
     "output_type": "display_data"
    },
    {
     "data": {
      "text/html": [
       "<div class=\"sos_logging sos_info\">INFO: Running <span class=\"sos_highlight\">plot_10</span>: \n",
       "</div>"
      ]
     },
     "metadata": {},
     "output_type": "display_data"
    },
    {
     "data": {
      "text/html": [
       "<div class=\"sos_logging sos_info\">INFO: <span class=\"sos_highlight\">plot_10</span> (index=0) is <span class=\"sos_highlight\">ignored</span> due to saved signature\n",
       "</div>"
      ]
     },
     "metadata": {},
     "output_type": "display_data"
    },
    {
     "data": {
      "text/html": [
       "<div class=\"sos_logging sos_info\">INFO: output:   <span class=\"sos_highlight\">DEG.csv</span>\n",
       "</div>"
      ]
     },
     "metadata": {},
     "output_type": "display_data"
    },
    {
     "data": {
      "text/html": [
       "<div class=\"sos_logging sos_info\">INFO: Running <span class=\"sos_highlight\">plot_20</span>: \n",
       "</div>"
      ]
     },
     "metadata": {},
     "output_type": "display_data"
    },
    {
     "name": "stdout",
     "output_type": "stream",
     "text": [
      "null device \n",
      "          1 \n"
     ]
    },
    {
     "data": {
      "text/html": [
       "<div class=\"sos_logging sos_info\">INFO: output:   <span class=\"sos_highlight\">output.pdf</span>\n",
       "</div>"
      ]
     },
     "metadata": {},
     "output_type": "display_data"
    },
    {
     "data": {
      "text/html": [
       "<div class=\"sos_logging sos_info\">INFO: Workflow plot (ID=d33e866756280fec) is executed successfully with 1 completed step and 1 ignored step.\n",
       "</div>"
      ]
     },
     "metadata": {},
     "output_type": "display_data"
    }
   ],
   "source": [
    "%run\n",
    "\n",
    "[global]\n",
    "excel_file = 'data/DEG.xlsx'\n",
    "csv_file = 'DEG.csv'\n",
    "figure_file = 'output.pdf'\n",
    "\n",
    "[plot_10]\n",
    "input: excel_file\n",
    "output: csv_file\n",
    "\n",
    "run: expand=True\n",
    "    xlsx2csv {_input} > {_output}\n",
    "\n",
    "[plot_20]\n",
    "# input: csv_file\n",
    "output: figure_file\n",
    "\n",
    "R: expand=True\n",
    "    data <- read.csv('{_input}')\n",
    "    pdf('{_output}')\n",
    "    plot(data$log2FoldChange, data$stat)\n",
    "    dev.off()"
   ]
  },
  {
   "cell_type": "markdown",
   "metadata": {
    "kernel": "SoS"
   },
   "source": [
    "## Basic data-flow based workflows"
   ]
  },
  {
   "cell_type": "markdown",
   "metadata": {
    "kernel": "SoS"
   },
   "source": [
    "We have shown the same workflows in the `plot_10`, `plot_20` style, in the `convert` and `plot` style, and with and without specification of input and output. What will happen if you define a workflow in separate steps with `input` and `output` statements?"
   ]
  },
  {
   "cell_type": "markdown",
   "metadata": {
    "kernel": "SoS"
   },
   "source": [
    "Let us first remove the intermediate `DEG.csv`,"
   ]
  },
  {
   "cell_type": "code",
   "execution_count": 5,
   "metadata": {
    "kernel": "SoS"
   },
   "outputs": [],
   "source": [
    "!rm DEG.csv"
   ]
  },
  {
   "cell_type": "markdown",
   "metadata": {
    "kernel": "SoS"
   },
   "source": [
    "and execute the `plot` step of the following workflow"
   ]
  },
  {
   "cell_type": "markdown",
   "metadata": {
    "kernel": "SoS"
   },
   "source": [
    "<div class=\"bs-callout bs-callout-primary\" role=\"alert\">\n",
    "    <h4>Simple data-flow based workflow</h4>\n",
    "    <p>If the <code>input</code> files of a step do not exist, SoS will automatically check other steps in the workflow and call them to generate the needed files. This allows the creation of workflows based on data flow. \n",
    "    </p>\n",
    " </div>"
   ]
  },
  {
   "cell_type": "code",
   "execution_count": 6,
   "metadata": {
    "kernel": "SoS"
   },
   "outputs": [
    {
     "data": {
      "text/html": [
       "\n",
       "<table id=\"workflow_6d98eefb-f122-43b7-a530-d3bb07987b5c\" class=\"workflow_table  completed\">\n",
       "<tr>\n",
       "      <td class=\"workflow_icon\">\n",
       "        <i id=\"workflow_status_icon_6d98eefb-f122-43b7-a530-d3bb07987b5c\" class=\"fa fa-2x fa-fw fa-check-square-o\"\n",
       "        onmouseover='this.classList=\"fa fa-2x fa-fw fa-trash\"' onmouseleave='this.classList=\"fa fa-2x fa-fw fa-check-square-o\"' onclick=\"cancel_workflow(this.id.substring(21))\"></i>\n",
       "      </td>\n",
       "      <td class=\"workflow_name\">\n",
       "        <pre><span id=\"workflow_name_6d98eefb-f122-43b7-a530-d3bb07987b5c\">plot</span></pre>\n",
       "      </td>\n",
       "      <td class=\"workflow_id\">\n",
       "        <span>Workflow ID</span></br>\n",
       "        <pre><i class=\"fa fa-fw fa-sitemap\"></i><span id=\"workflow_id_6d98eefb-f122-43b7-a530-d3bb07987b5c\">09ca8ead69135592</span></pre>\n",
       "      </td>\n",
       "      <td class=\"workflow_index\">\n",
       "        <span>Index</span></br>\n",
       "        <pre>#<span id=\"workflow_index_6d98eefb-f122-43b7-a530-d3bb07987b5c\">5</span></pre>\n",
       "      </td>\n",
       "      <td class=\"workflow_status\">\n",
       "        <span id=\"status_text_6d98eefb-f122-43b7-a530-d3bb07987b5c\">completed</span></br>\n",
       "        <pre><i class=\"fa fa-fw fa-clock-o\"></i><time id=\"status_duration_6d98eefb-f122-43b7-a530-d3bb07987b5c\" class=\"completed\" datetime=\"1546744130791.048\">Ran for < 5 seconds</time></pre>\n",
       "      </td>\n",
       "</tr>\n",
       "</table>\n"
      ]
     },
     "metadata": {},
     "output_type": "display_data"
    },
    {
     "data": {
      "text/html": [
       "<div class=\"sos_logging sos_info\">INFO: Running <span class=\"sos_highlight\">convert</span>: \n",
       "</div>"
      ]
     },
     "metadata": {},
     "output_type": "display_data"
    },
    {
     "name": "stdout",
     "output_type": "stream",
     "text": [
      "xlsx2csv data/DEG.xlsx > DEG.csv\n",
      "\n"
     ]
    },
    {
     "data": {
      "text/html": [
       "<div class=\"sos_logging sos_info\">INFO: output:   <span class=\"sos_highlight\">DEG.csv</span>\n",
       "</div>"
      ]
     },
     "metadata": {},
     "output_type": "display_data"
    },
    {
     "data": {
      "text/html": [
       "<div class=\"sos_logging sos_info\">INFO: Running <span class=\"sos_highlight\">plot</span>: \n",
       "</div>"
      ]
     },
     "metadata": {},
     "output_type": "display_data"
    },
    {
     "name": "stdout",
     "output_type": "stream",
     "text": [
      "null device \n",
      "          1 \n"
     ]
    },
    {
     "data": {
      "text/html": [
       "<div class=\"sos_logging sos_info\">INFO: output:   <span class=\"sos_highlight\">output.pdf</span>\n",
       "</div>"
      ]
     },
     "metadata": {},
     "output_type": "display_data"
    },
    {
     "data": {
      "text/html": [
       "<div class=\"sos_logging sos_info\">INFO: Workflow plot (ID=09ca8ead69135592) is executed successfully with 2 completed steps.\n",
       "</div>"
      ]
     },
     "metadata": {},
     "output_type": "display_data"
    }
   ],
   "source": [
    "%run plot\n",
    "\n",
    "[global]\n",
    "excel_file = 'data/DEG.xlsx'\n",
    "csv_file = 'DEG.csv'\n",
    "figure_file = 'output.pdf'\n",
    "\n",
    "[convert]\n",
    "input: excel_file\n",
    "output: csv_file\n",
    "\n",
    "run: expand=True\n",
    "    xlsx2csv {_input} > {_output}\n",
    "\n",
    "[plot]\n",
    "input: csv_file\n",
    "output: figure_file\n",
    "\n",
    "R: expand=True\n",
    "    data <- read.csv('{_input}')\n",
    "    pdf('{_output}')\n",
    "    plot(data$log2FoldChange, data$stat)\n",
    "    dev.off()"
   ]
  },
  {
   "cell_type": "markdown",
   "metadata": {
    "kernel": "SoS"
   },
   "source": [
    "As you can see, although the step `plot` is requested, SoS executes both the `convert` and `plot` steps because the required input file `csv_file` (`DEG.csv`) does not exist. In this case, SoS will look for steps that produces `DEG.csv` and execute it to generate `DEG.csv` before `plot` is executed."
   ]
  },
  {
   "cell_type": "markdown",
   "metadata": {
    "kernel": "SoS"
   },
   "source": [
    " <div class=\"bs-callout bs-callout-warning\" role=\"alert\">\n",
    "    <h4>Output of data-flow based workflow</h4>\n",
    "     <p>For output files to be automatically identified by SoS as input for another step, the <code>output</code> statement must be clearly defined. That is to say, they must be either\n",
    "    </p>\n",
    "    <ul>\n",
    "        <li>One or more filenames (e.g. <code>output: \"DEG.csv\"</code>) or</li>\n",
    "        <li>Some expression that can be easily evaluated from variables defined in the global section (e.g. <code>output: csv_file</code>)</li>\n",
    "    </ul>\n",
    "   <p> So output derived from `_input` cannot be used (e.g. <code>output: _input.with_suffix('.bak')</code>).  However,</p>\n",
    "    <ul>\n",
    "        <li>You can assign complex output with a name and use <code><a href=\"named_output.html\">named_output()</a></code> to refer to it.</li>\n",
    "        <li>You can create <a href=\"auxiliary_steps.html\">makefile-style steps</a> and allows the creation of files through pattern-matching.</li>\n",
    "    </ul>\n",
    "</div>"
   ]
  },
  {
   "cell_type": "markdown",
   "metadata": {
    "kernel": "SoS"
   },
   "source": [
    "## Passing output of steps with substeps *"
   ]
  },
  {
   "cell_type": "markdown",
   "metadata": {
    "kernel": "SoS"
   },
   "source": [
    "<div class=\"bs-callout bs-callout-warning\" role=\"alert\">\n",
    "    <h4>Output of a step with substeps</h4>\n",
    "    <p>If a step has multiple substeps, the step output consists of <code>_output</code> from each substep, which will be by default passed to the next step and create multiple substeps.</p>\n",
    "</div>"
   ]
  },
  {
   "cell_type": "markdown",
   "metadata": {
    "kernel": "SoS"
   },
   "source": [
    "Things can get a little bit complicated when a step has multiple substeps. As you can recall from [How to specify input and output files and process input files in groups](doc/user_guide/input_substeps.html), multiple substeps can be defined by input option `group_by`, each with its own `_input` and `_output`. When the output of such a step is inherited by another step, these `_output` will become the `_input` of the substeps.\n",
    "\n",
    "For example, after running `fastqc` on the input fastq files, we would like to process the generated HTML file and check if the qualities are ok. We use the `beautifulsoup` Python module and find all the `<h2>` headers. Without going into the details of the use of `beautifulsoup` to parse HTML files, you should notice that \n",
    "\n",
    "* No `input` is defined for step `20` so it takes the output of step `10` as its input.\n",
    "* The output of step `10` contains two groups, `data/S20_R1_fastqc.html` and `data/S20_R2_fastqc.html`, which becomes the input of two substeps of step `20`.\n",
    "* The input of step `20` are processed one by one"
   ]
  },
  {
   "cell_type": "code",
   "execution_count": 24,
   "metadata": {
    "kernel": "SoS"
   },
   "outputs": [
    {
     "data": {
      "text/html": []
     },
     "metadata": {},
     "output_type": "display_data"
    },
    {
     "data": {
      "text/html": [
       "<div class=\"sos_logging sos_info\">INFO: Running <span class=\"sos_highlight\">10</span>: \n",
       "</div>"
      ]
     },
     "metadata": {},
     "output_type": "display_data"
    },
    {
     "data": {
      "text/html": [
       "<div class=\"sos_logging sos_info\">INFO: <span class=\"sos_highlight\">10</span> (index=0) is <span class=\"sos_highlight\">ignored</span> due to saved signature\n",
       "</div>"
      ]
     },
     "metadata": {},
     "output_type": "display_data"
    },
    {
     "data": {
      "text/html": [
       "<div class=\"sos_logging sos_info\">INFO: <span class=\"sos_highlight\">10</span> (index=1) is <span class=\"sos_highlight\">ignored</span> due to saved signature\n",
       "</div>"
      ]
     },
     "metadata": {},
     "output_type": "display_data"
    },
    {
     "data": {
      "text/html": [
       "<div class=\"sos_logging sos_info\">INFO: output:   <span class=\"sos_highlight\">data/S20_R1_fastqc.html data/S20_R2_fastqc.html in 2 groups</span>\n",
       "</div>"
      ]
     },
     "metadata": {},
     "output_type": "display_data"
    },
    {
     "data": {
      "text/html": [
       "<div class=\"sos_logging sos_info\">INFO: Running <span class=\"sos_highlight\">20</span>: \n",
       "</div>"
      ]
     },
     "metadata": {},
     "output_type": "display_data"
    },
    {
     "name": "stdout",
     "output_type": "stream",
     "text": [
      "S20_R1_fastqc Basic Statistics: [OK]\n",
      "S20_R1_fastqc Per base sequence quality: [OK]\n",
      "S20_R1_fastqc Per tile sequence quality: [OK]\n",
      "S20_R1_fastqc Per sequence quality scores: [OK]\n",
      "S20_R1_fastqc Per base sequence content: [FAIL]\n",
      "S20_R1_fastqc Per sequence GC content: [FAIL]\n",
      "S20_R1_fastqc Per base N content: [OK]\n",
      "S20_R1_fastqc Sequence Length Distribution: [WARN]\n",
      "S20_R1_fastqc Sequence Duplication Levels: [OK]\n",
      "S20_R1_fastqc Overrepresented sequences: [FAIL]\n",
      "S20_R1_fastqc Adapter Content: [OK]\n",
      "S20_R2_fastqc Basic Statistics: [OK]\n",
      "S20_R2_fastqc Per base sequence quality: [OK]\n",
      "S20_R2_fastqc Per tile sequence quality: [OK]\n",
      "S20_R2_fastqc Per sequence quality scores: [OK]\n",
      "S20_R2_fastqc Per base sequence content: [FAIL]\n",
      "S20_R2_fastqc Per sequence GC content: [FAIL]\n",
      "S20_R2_fastqc Per base N content: [OK]\n",
      "S20_R2_fastqc Sequence Length Distribution: [WARN]\n",
      "S20_R2_fastqc Sequence Duplication Levels: [OK]\n",
      "S20_R2_fastqc Overrepresented sequences: [FAIL]\n",
      "S20_R2_fastqc Adapter Content: [OK]\n"
     ]
    },
    {
     "data": {
      "text/html": [
       "<div class=\"sos_logging sos_info\">INFO: Workflow default (ID=ee0072d3ce4e9adc) is executed successfully with 1 completed step, 2 completed substeps, 1 ignored step and 2 ignored substeps.\n",
       "</div>"
      ]
     },
     "metadata": {},
     "output_type": "display_data"
    }
   ],
   "source": [
    "%run \n",
    "\n",
    "[10]\n",
    "input: 'data/S20_R1.fastq', 'data/S20_R2.fastq', group_by=1\n",
    "output: f'{_input:n}_fastqc.html'\n",
    "\n",
    "sh: expand=True\n",
    "    fastqc {_input}\n",
    "    \n",
    "[20]\n",
    "\n",
    "from bs4 import BeautifulSoup\n",
    "\n",
    "with open(_input) as html:\n",
    "    soup = BeautifulSoup(html)\n",
    "    for h2 in soup.findAll('h2'):\n",
    "        if h2.img:\n",
    "            print(f\"{_input:bn} {h2.text}: {h2.img['alt']}\")"
   ]
  },
  {
   "cell_type": "markdown",
   "metadata": {
    "kernel": "SoS"
   },
   "source": [
    "If you would like to re-group the default input, you can redefine the `input` explicitly, or apply option `group_by` to the default input:"
   ]
  },
  {
   "cell_type": "code",
   "execution_count": 27,
   "metadata": {
    "kernel": "SoS"
   },
   "outputs": [
    {
     "data": {
      "text/html": []
     },
     "metadata": {},
     "output_type": "display_data"
    },
    {
     "name": "stdout",
     "output_type": "stream",
     "text": [
      "Input of step 20 is data/S20_R1_fastqc.html data/S20_R2_fastqc.html\n"
     ]
    }
   ],
   "source": [
    "%run -v0\n",
    "\n",
    "[10]\n",
    "input: 'data/S20_R1.fastq', 'data/S20_R2.fastq', group_by=1\n",
    "output: f'{_input:n}_fastqc.html'\n",
    "\n",
    "sh: expand=True\n",
    "    fastqc {_input}\n",
    "    \n",
    "[20]\n",
    "input: group_by='all'\n",
    "print(f'Input of step 20 is {_input}')"
   ]
  },
  {
   "cell_type": "markdown",
   "metadata": {
    "kernel": "SoS"
   },
   "source": [
    "## Further reading\n",
    "* [How to specify input and output files and process input files in groups](doc/user_guide/input_substeps.html)\n",
    "* [How to use named output in data-flow style workflows](doc/user_guide/named_output.html)\n",
    "* [How to use Makefile-style rules to generate required files](doc/user_guide/auxiliary_steps.html)"
   ]
  }
 ],
 "metadata": {
  "kernelspec": {
   "display_name": "SoS",
   "language": "sos",
   "name": "sos"
  },
  "language_info": {
   "codemirror_mode": "sos",
   "file_extension": ".sos",
   "mimetype": "text/x-sos",
   "name": "sos",
   "nbconvert_exporter": "sos_notebook.converter.SoS_Exporter",
   "pygments_lexer": "sos"
  },
  "sos": {
   "kernels": [
    [
     "Bash",
     "bash",
     "Bash",
     "#E6EEFF"
    ],
    [
     "R",
     "ir",
     "R",
     "#DCDCDA"
    ],
    [
     "SoS",
     "sos",
     "",
     ""
    ]
   ],
   "panel": {
    "displayed": true,
    "height": 0
   },
   "version": "0.17.5"
  }
 },
 "nbformat": 4,
 "nbformat_minor": 2
}
