{
 "cells": [
  {
   "cell_type": "markdown",
   "metadata": {
    "kernel": "SoS"
   },
   "source": [
    "# How to convert SoS notebook to SoS script, and vise versa"
   ]
  },
  {
   "cell_type": "markdown",
   "metadata": {
    "kernel": "SoS"
   },
   "source": [
    "* **Difficulty level**: easy\n",
    "* **Time need to lean**: 10 minutes or less\n",
    "* **Key points**:\n",
    "  * `sos convert file.ipynb file.sos` converts notebook to sos script\n",
    "  * `sos convert file.sos file.ipynb` converts sos script to sos notebook\n",
    "  "
   ]
  },
  {
   "cell_type": "markdown",
   "metadata": {
    "kernel": "SoS"
   },
   "source": [
    "## SoS -> ipynb"
   ]
  },
  {
   "cell_type": "markdown",
   "metadata": {
    "kernel": "SoS"
   },
   "source": [
    "You can convert an existing SoS script to the `.ipynb` format using command\n",
    "```\n",
    "$ sos convert myscript.sos myscript.ipynb\n",
    "```\n",
    "\n",
    "and open the resulting notebook from the web interface.\n",
    "\n",
    "Depending on how the sos file was written (or converted from `.ipynb` file), sos takes different approach in splitting content of the script into cells of ipython notebook. More specifically,\n",
    "\n",
    "1. If the script contains cell spliting magic `%cell`, sos would split the sos script according to `%cell`, and restore proper metadata (e.g. kernel used for each cell) and execution index. Such a `.sos` file is usually exported from command `sos convert ipynb sos --all`.\n",
    "2. If the script does not contain cell spliting magic, sos will split each step into a separate cell."
   ]
  },
  {
   "cell_type": "markdown",
   "metadata": {
    "kernel": "SoS"
   },
   "source": [
    "The resulting `.ipynb` files have only input code and markdown cells. However, you can execute the notebook from command line if you add an `-e` (or `--execute`) option to the converter. That is to say, if you execute\n",
    "\n",
    "```\n",
    "$ sos convert myscript.sos myscript.ipynb --execute\n",
    "```\n",
    "\n",
    "You would get a notebook with both input and output cells, as if you have opened the non-executed `ipynb` file and selected `Cell -> Run all`."
   ]
  },
  {
   "cell_type": "markdown",
   "metadata": {
    "kernel": "SoS"
   },
   "source": [
    "## ipynb -> SoS"
   ]
  },
  {
   "cell_type": "markdown",
   "metadata": {
    "kernel": "SoS"
   },
   "source": [
    "A Jupyter notebook can contain markdown cell and code cell with different kernels, and a sos cell might or might not contain a real sos step (with section header).\n",
    "\n",
    "You can save a Jupyter notebook with SoS kernel to a SoS script using `File -> Download As -> SoS` from the browser, or using command\n",
    "\n",
    "```\n",
    "$ sos convert myscript.ipynb myscript.sos\n",
    "```\n",
    "\n",
    "The conversion process will export the workflow defined in the jupyter notebook in the resulting `.sos` file, ignoring all cell magics, non-sos cells, and sos cells that do not start with section headers. The resulting `.sos` file is a proper SoS workflow and can be executed by the `sos` command in batch mode.\n",
    "\n",
    "If you would like to keep most of the information of the Jupyter notebook, you can convert the notebook using option `--all` (or `-a`),\n",
    "\n",
    "```\n",
    "$ sos convert myscript.ipynb myscript.sos --all\n",
    "```\n",
    "\n",
    "This option will export each cell with a `%cell` magic and record meta data in the `.sos` file. The resulting file can be converted back to `ipynb` format with minimal lose of information (without result), but might not be able to be executed in batch mode."
   ]
  },
  {
   "cell_type": "markdown",
   "metadata": {
    "kernel": "SoS"
   },
   "source": [
    "## Further reading\n",
    "\n",
    "* "
   ]
  }
 ],
 "metadata": {
  "kernelspec": {
   "display_name": "SoS",
   "language": "sos",
   "name": "sos"
  },
  "language_info": {
   "codemirror_mode": "sos",
   "file_extension": ".sos",
   "mimetype": "text/x-sos",
   "name": "sos",
   "nbconvert_exporter": "sos_notebook.converter.SoS_Exporter",
   "pygments_lexer": "sos"
  },
  "sos": {
   "kernels": [
    [
     "Bash",
     "bash",
     "Bash",
     "#E6EEFF"
    ],
    [
     "R",
     "ir",
     "R",
     "#DCDCDA"
    ],
    [
     "SoS",
     "sos",
     "",
     ""
    ]
   ],
   "panel": {
    "displayed": true,
    "height": 0
   },
   "version": "0.17.5"
  }
 },
 "nbformat": 4,
 "nbformat_minor": 2
}
