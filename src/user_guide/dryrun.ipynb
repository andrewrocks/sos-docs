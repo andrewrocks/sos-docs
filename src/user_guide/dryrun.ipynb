{
 "cells": [
  {
   "cell_type": "markdown",
   "metadata": {
    "kernel": "SoS"
   },
   "source": [
    "# Title"
   ]
  },
  {
   "cell_type": "markdown",
   "metadata": {
    "kernel": "SoS"
   },
   "source": [
    "* **Difficulty level**: easy\n",
    "* **Time need to lean**: 10 minutes or less\n",
    "* **Key points**:\n",
    "  * a\n",
    "  "
   ]
  },
  {
   "cell_type": "markdown",
   "metadata": {
    "kernel": "SoS"
   },
   "source": [
    "## `dryrun` mode"
   ]
  },
  {
   "cell_type": "markdown",
   "metadata": {
    "kernel": "SoS"
   },
   "source": [
    "The `dryrun` mode is used to check for errors of \n",
    "SoS workflows without actually executing any of the actions and tasks. It can be specified with option `-n` to command `run` (`sos run -n`, `sos-runner -n`) or with subcommand `dryrun` (`sos dryrun`)."
   ]
  },
  {
   "cell_type": "markdown",
   "metadata": {
    "kernel": "SoS"
   },
   "source": [
    "### Checking syntax error"
   ]
  },
  {
   "cell_type": "markdown",
   "metadata": {
    "kernel": "SoS"
   },
   "source": [
    "The first use of dryrun mode is to check syntax error of scripts. For example, the following script yields an error because the header of the step is wrong (should use `:` instead of `,`)."
   ]
  },
  {
   "cell_type": "code",
   "execution_count": 1,
   "metadata": {
    "kernel": "SoS"
   },
   "outputs": [
    {
     "name": "stderr",
     "output_type": "stream",
     "text": [
      "File contains parsing errors: \n",
      "\t[line  2]: [10, skip=False]\n",
      "sh:\n",
      "   echo \"I am command echo\"\n",
      "Invalid statements: SyntaxError('invalid syntax', ('<string>', 1, 10, '[10, skip=False]\\n'))\n"
     ]
    }
   ],
   "source": [
    "%sandbox --expect-error\n",
    "%run -n\n",
    "[10, skip=False]\n",
    "sh:\n",
    "   echo \"I am command echo\""
   ]
  },
  {
   "cell_type": "markdown",
   "metadata": {
    "kernel": "SoS"
   },
   "source": [
    "### Print instead of execute scripts"
   ]
  },
  {
   "cell_type": "markdown",
   "metadata": {
    "kernel": "SoS"
   },
   "source": [
    "Script-executing actions such as `run`, `sh`, and `python` does not execute the scripts in dryrun mode. In stead, they will print the script with the command to execute them. This usage allows you to check if the scripts are interpolated correctly, or even executing them outside of SoS.\n",
    "\n",
    "For example, the following script will print the expanded version of the scripts to be executed:"
   ]
  },
  {
   "cell_type": "code",
   "execution_count": 1,
   "metadata": {
    "kernel": "SoS"
   },
   "outputs": [
    {
     "data": {
      "text/html": [
       "<div class=\"sos_hint\">/bin/sh SCRIPT</div>"
      ]
     },
     "metadata": {},
     "output_type": "display_data"
    },
    {
     "name": "stdout",
     "output_type": "stream",
     "text": [
      "sleep 100\n",
      "echo \"Generating test_1.txt\"\n",
      "touch test_1.txt\n",
      "\n"
     ]
    },
    {
     "data": {
      "text/html": [
       "<div class=\"sos_hint\">/bin/sh SCRIPT</div>"
      ]
     },
     "metadata": {},
     "output_type": "display_data"
    },
    {
     "name": "stdout",
     "output_type": "stream",
     "text": [
      "sleep 200\n",
      "echo \"Generating test_2.txt\"\n",
      "touch test_2.txt\n",
      "\n"
     ]
    }
   ],
   "source": [
    "!rm -f test*.txt\n",
    "%run -n\n",
    "\n",
    "[10]\n",
    "input: for_each={'i': (1, 2)}\n",
    "output: f'test_{i}.txt'\n",
    "sh: expand=True\n",
    "  sleep {100*i}\n",
    "  echo \"Generating {_output}\"\n",
    "  touch {_output}\n",
    "                 "
   ]
  },
  {
   "cell_type": "markdown",
   "metadata": {
    "kernel": "SoS"
   },
   "source": [
    "The output files does not exist after the execution of the workflow."
   ]
  },
  {
   "cell_type": "code",
   "execution_count": 2,
   "metadata": {
    "kernel": "SoS"
   },
   "outputs": [
    {
     "name": "stdout",
     "output_type": "stream",
     "text": [
      "ls: test*.txt: No such file or directory\n"
     ]
    }
   ],
   "source": [
    "!ls test*.txt"
   ]
  },
  {
   "cell_type": "markdown",
   "metadata": {
    "kernel": "SoS"
   },
   "source": [
    "It is worth noting, however, that sos executes Python statements in steps as usual so your workflow will appear to be executed normally if you do not use actions.\n",
    "\n",
    "For example, if you implement your steps in Python and include them directly, the step will be executed"
   ]
  },
  {
   "cell_type": "code",
   "execution_count": 3,
   "metadata": {
    "kernel": "SoS"
   },
   "outputs": [
    {
     "name": "stdout",
     "output_type": "stream",
     "text": [
      "Generating {_output}\n",
      "Generating {_output}\n"
     ]
    }
   ],
   "source": [
    "!rm -f test*.txt\n",
    "%run -n\n",
    "\n",
    "[10]\n",
    "input: for_each={'i': (1, 2)}\n",
    "output: f'test_{i}.txt'\n",
    "print(\"Generating {_output}\")\n",
    "_output.touch()"
   ]
  },
  {
   "cell_type": "markdown",
   "metadata": {
    "kernel": "SoS"
   },
   "source": [
    "and the output files will be generated:"
   ]
  },
  {
   "cell_type": "code",
   "execution_count": 4,
   "metadata": {
    "kernel": "SoS"
   },
   "outputs": [
    {
     "name": "stdout",
     "output_type": "stream",
     "text": [
      "test_1.txt test_2.txt\n"
     ]
    }
   ],
   "source": [
    "!ls test*.txt"
   ]
  },
  {
   "cell_type": "markdown",
   "metadata": {
    "kernel": "SoS"
   },
   "source": [
    "### Generation of placeholder files"
   ]
  },
  {
   "cell_type": "markdown",
   "metadata": {
    "kernel": "SoS"
   },
   "source": [
    "Another consequence of running workflows in dryrun mode is that SoS generates empty placeholder files during dryrun and remove them afterwards. This allows the workflows to be executed \"normally\" because the execution of the next steps might depend on the existence of the output files.\n",
    "\n",
    "For example, when running in dryrun mode, the following script will be executed \"normally\". The `_input` files (which are the output of step 10) could be opened at step 20, but the content would be empty:"
   ]
  },
  {
   "cell_type": "code",
   "execution_count": 5,
   "metadata": {
    "kernel": "SoS"
   },
   "outputs": [
    {
     "data": {
      "text/html": [
       "<div class=\"sos_hint\">/bin/sh SCRIPT</div>"
      ]
     },
     "metadata": {},
     "output_type": "display_data"
    },
    {
     "name": "stdout",
     "output_type": "stream",
     "text": [
      "echo \"Generating test_1.txt\" > test_1.txt\n",
      "\n",
      "\n"
     ]
    },
    {
     "data": {
      "text/html": [
       "<div class=\"sos_hint\">/bin/sh SCRIPT</div>"
      ]
     },
     "metadata": {},
     "output_type": "display_data"
    },
    {
     "name": "stdout",
     "output_type": "stream",
     "text": [
      "echo \"Generating test_2.txt\" > test_2.txt\n",
      "\n",
      "\n",
      "Content of test_1.txt:\n",
      "\n"
     ]
    },
    {
     "data": {
      "text/html": [
       "<div class=\"sos_hint\">/bin/sh SCRIPT</div>"
      ]
     },
     "metadata": {},
     "output_type": "display_data"
    },
    {
     "name": "stdout",
     "output_type": "stream",
     "text": [
      "cp test_1.txt test_1.txt.bak\n",
      "\n",
      "Content of test_2.txt:\n",
      "\n"
     ]
    },
    {
     "data": {
      "text/html": [
       "<div class=\"sos_hint\">/bin/sh SCRIPT</div>"
      ]
     },
     "metadata": {},
     "output_type": "display_data"
    },
    {
     "name": "stdout",
     "output_type": "stream",
     "text": [
      "cp test_2.txt test_2.txt.bak\n",
      "\n"
     ]
    }
   ],
   "source": [
    "!rm -f test*.txt\n",
    "%run -n\n",
    "\n",
    "[10]\n",
    "input: for_each={'i': (1, 2)}\n",
    "output: f'test_{i}.txt'\n",
    "sh: expand=True\n",
    "  echo \"Generating {_output}\" > {_output}\n",
    "  \n",
    "[20]\n",
    "input: group_by=1\n",
    "output: f'{_input}.bak'\n",
    "print(f'Content of {_input}:')\n",
    "with open(_input) as ifile:\n",
    "    print(ifile.read())\n",
    "sh: expand=True\n",
    "  cp {_input} {_output}"
   ]
  },
  {
   "cell_type": "markdown",
   "metadata": {
    "kernel": "SoS"
   },
   "source": [
    "`test_1.txt` and `test_2.txt` would be generated normally in run mode:"
   ]
  },
  {
   "cell_type": "code",
   "execution_count": 6,
   "metadata": {
    "kernel": "SoS"
   },
   "outputs": [
    {
     "name": "stdout",
     "output_type": "stream",
     "text": [
      "Content of test_1.txt:\n",
      "Generating test_1.txt\n",
      "\n",
      "Content of test_2.txt:\n",
      "Generating test_2.txt\n",
      "\n"
     ]
    }
   ],
   "source": [
    "%rerun"
   ]
  },
  {
   "cell_type": "markdown",
   "metadata": {
    "kernel": "SoS"
   },
   "source": [
    "The placeholder files are removed automatically after the execution of the workflow in dryrun mode. However, if you interrupt a script running in dryrun mode, some placeholder files might remain and interfere with the execution of workflows. In this case, you can use command"
   ]
  },
  {
   "cell_type": "code",
   "execution_count": 7,
   "metadata": {
    "kernel": "SoS"
   },
   "outputs": [
    {
     "name": "stdout",
     "output_type": "stream",
     "text": [
      "INFO: No remaining placeholder file exists.\n"
     ]
    }
   ],
   "source": [
    "!sos remove --placeholders"
   ]
  },
  {
   "cell_type": "markdown",
   "metadata": {
    "kernel": "SoS"
   },
   "source": [
    "to remove such files. A shorter form of this command is `sos remove -p`."
   ]
  },
  {
   "cell_type": "markdown",
   "metadata": {
    "kernel": "SoS"
   },
   "source": [
    "### External tasks"
   ]
  },
  {
   "cell_type": "markdown",
   "metadata": {
    "kernel": "SoS"
   },
   "source": [
    "External tasks are executed in `dryrun` mode as follows:\n",
    "\n",
    "1. Only task from the first substep will be generated and submitted.\n",
    "2. The task will be submitted to remote hosts as usual, with input files synchronized to remote host if needed. This allows you to test if the remote hosts are accessible.\n",
    "3. The task will be executed in `dryrun` mode, and will print instead of execute the scripts defined in actions.\n",
    "\n",
    "For example, although step `10` of the following workflow has 100 substeps, only the first task will be generated and executed in dryrun mode."
   ]
  },
  {
   "cell_type": "code",
   "execution_count": 8,
   "metadata": {
    "kernel": "SoS"
   },
   "outputs": [
    {
     "data": {
      "text/html": [
       "<div class=\"sos_hint\">1 task completed: <a onclick=\"task_info('a41594c317f2ce2e', 'localhost')\">a415</a></div>"
      ]
     },
     "metadata": {},
     "output_type": "display_data"
    },
    {
     "name": "stdout",
     "output_type": "stream",
     "text": [
      "\n"
     ]
    }
   ],
   "source": [
    "%run -n\n",
    "\n",
    "[10]\n",
    "input: for_each={'i': range(100)}\n",
    "output: f'test_{i}.txt'\n",
    "task:\n",
    "sh: expand=True\n",
    "  echo \"Generating {_output}\" > {_output}"
   ]
  },
  {
   "cell_type": "markdown",
   "metadata": {
    "kernel": "SoS"
   },
   "source": [
    "### Docker actions"
   ]
  },
  {
   "cell_type": "markdown",
   "metadata": {
    "kernel": "SoS"
   },
   "source": [
    "When an action is executed in docker in dryrun mode, SoS would download the docker image if needed but will not execute the script. Instead, SoS will print the interpolated script and the docker command needs to execute the script. \n",
    "\n",
    "For example, running an `docker_build` action in dryrun mode yields the following output:"
   ]
  },
  {
   "cell_type": "code",
   "execution_count": 9,
   "metadata": {
    "kernel": "SoS"
   },
   "outputs": [
    {
     "data": {
      "text/html": [
       "<div class=\"sos_hint\">docker build /Users/bpeng1/sos/sos-docs/src/tutorials/tmp38mq9pwr --tag test/docker_build1 --label \"label with space\" --compress --memory 2G</div>"
      ]
     },
     "metadata": {},
     "output_type": "display_data"
    },
    {
     "name": "stdout",
     "output_type": "stream",
     "text": [
      "\n",
      "#\n",
      "# Super simple example of a Dockerfile\n",
      "#\n",
      "FROM ubuntu:latest\n",
      "MAINTAINER Andrew Odewahn \"odewahn@oreilly.com\"\n",
      "\n",
      "WORKDIR /home\n",
      "\n"
     ]
    }
   ],
   "source": [
    "%run -n\n",
    "[0]\n",
    "docker_build:  tag='test/docker_build1', label='label with space', compress=True, memory='2G'\n",
    "#\n",
    "# Super simple example of a Dockerfile\n",
    "#\n",
    "FROM ubuntu:latest\n",
    "MAINTAINER Andrew Odewahn \"odewahn@oreilly.com\"\n",
    "\n",
    "WORKDIR /home"
   ]
  },
  {
   "cell_type": "markdown",
   "metadata": {
    "kernel": "SoS"
   },
   "source": [
    "and running a script in docker in dryrun mode:"
   ]
  },
  {
   "cell_type": "code",
   "execution_count": 10,
   "metadata": {
    "kernel": "SoS"
   },
   "outputs": [
    {
     "data": {
      "text/html": [
       "<div class=\"sos_hint\">docker run --rm   -v /Users/bpeng1/sos/sos-docs/src/tutorials:/Users/bpeng1/sos/sos-docs/src/tutorials -v /Users/bpeng1/sos/sos-docs/src/tutorials/tmpu0aa6q67/docker_run_64107.sh:/var/lib/sos/docker_run_64107.sh    -t -P -w=/Users/bpeng1/sos/sos-docs/src/tutorials -u 1985961928:895809667    ubuntu /bin/bash -ev /var/lib/sos/docker_run_64107.sh</div>"
      ]
     },
     "metadata": {},
     "output_type": "display_data"
    },
    {
     "name": "stdout",
     "output_type": "stream",
     "text": [
      "\n",
      "echo 'Echo'\n",
      "\n"
     ]
    }
   ],
   "source": [
    "%run -n\n",
    "[0]\n",
    "run: docker_image='ubuntu'\n",
    "echo 'Echo'"
   ]
  },
  {
   "cell_type": "markdown",
   "metadata": {
    "kernel": "SoS"
   },
   "source": [
    "## Further reading\n",
    "\n",
    "* "
   ]
  }
 ],
 "metadata": {
  "kernelspec": {
   "display_name": "SoS",
   "language": "sos",
   "name": "sos"
  },
  "language_info": {
   "codemirror_mode": "sos",
   "file_extension": ".sos",
   "mimetype": "text/x-sos",
   "name": "sos",
   "nbconvert_exporter": "sos_notebook.converter.SoS_Exporter",
   "pygments_lexer": "sos"
  },
  "sos": {
   "kernels": [
    [
     "Bash",
     "bash",
     "Bash",
     "#E6EEFF"
    ],
    [
     "R",
     "ir",
     "R",
     "#DCDCDA"
    ],
    [
     "SoS",
     "sos",
     "",
     ""
    ]
   ],
   "panel": {
    "displayed": true,
    "height": 0
   },
   "version": "0.17.4"
  }
 },
 "nbformat": 4,
 "nbformat_minor": 2
}
