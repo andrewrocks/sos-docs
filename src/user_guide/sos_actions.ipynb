{
 "cells": [
  {
   "cell_type": "markdown",
   "metadata": {
    "kernel": "SoS"
   },
   "source": [
    "# SoS Actions and common action options"
   ]
  },
  {
   "cell_type": "markdown",
   "metadata": {
    "kernel": "SoS"
   },
   "source": [
    "* **Difficulty level**: intermediate\n",
    "* **Time need to lean**: 10 minutes or less\n",
    "* **Key points**:\n",
    "  \n",
    "  "
   ]
  },
  {
   "cell_type": "markdown",
   "metadata": {
    "kernel": "SoS"
   },
   "source": [
    "## SoS Action"
   ]
  },
  {
   "cell_type": "markdown",
   "metadata": {
    "kernel": "SoS"
   },
   "source": [
    "Although arbitrary python functions can be used in SoS step process, SoS defines many special functions called **`actions`** that accepts some shared parameters, and can behave differently in different modes of SoS.\n",
    "\n",
    "For example, function `time.sleep(5)` would be executed in run mode,"
   ]
  },
  {
   "cell_type": "code",
   "execution_count": 1,
   "metadata": {
    "kernel": "SoS"
   },
   "outputs": [
    {
     "name": "stdout",
     "output_type": "stream",
     "text": [
      "I just slept 1.01 seconds\n"
     ]
    }
   ],
   "source": [
    "%run\n",
    "[0]\n",
    "import time\n",
    "st = time.time()\n",
    "time.sleep(1)\n",
    "print('I just slept {:.2f} seconds'.format(time.time() - st))"
   ]
  },
  {
   "cell_type": "markdown",
   "metadata": {
    "kernel": "SoS"
   },
   "source": [
    "and also in dryrun mode (option `-n`),"
   ]
  },
  {
   "cell_type": "code",
   "execution_count": 2,
   "metadata": {
    "kernel": "SoS"
   },
   "outputs": [
    {
     "name": "stdout",
     "output_type": "stream",
     "text": [
      "I just slept 1.00 seconds\n"
     ]
    }
   ],
   "source": [
    "%run -n\n",
    "[0]\n",
    "import time\n",
    "st = time.time()\n",
    "time.sleep(1)\n",
    "print('I just slept {:.2f} seconds'.format(time.time() - st))"
   ]
  },
  {
   "cell_type": "markdown",
   "metadata": {
    "kernel": "SoS"
   },
   "source": [
    "because these statements are regular Python functions. However, if you put the statements in an action `python`, the statements would be executed in run mode,"
   ]
  },
  {
   "cell_type": "code",
   "execution_count": 3,
   "metadata": {
    "kernel": "SoS"
   },
   "outputs": [
    {
     "name": "stdout",
     "output_type": "stream",
     "text": [
      "I just slept 1.00 seconds\n"
     ]
    }
   ],
   "source": [
    "%run\n",
    "[0]\n",
    "python:\n",
    "    import time\n",
    "    st = time.time()\n",
    "    time.sleep(1)\n",
    "    print('I just slept {:.2f} seconds'.format(time.time() - st))"
   ]
  },
  {
   "cell_type": "markdown",
   "metadata": {
    "kernel": "SoS"
   },
   "source": [
    "but will print out the script it would execute in dryrun mode (option `-n`)"
   ]
  },
  {
   "cell_type": "code",
   "execution_count": 4,
   "metadata": {
    "kernel": "SoS"
   },
   "outputs": [
    {
     "name": "stdout",
     "output_type": "stream",
     "text": [
      "python:\n",
      "import time\n",
      "st = time.time()\n",
      "time.sleep(1)\n",
      "print('I just slept {:.2f} seconds'.format(time.time() - st))\n",
      "\n",
      "\n"
     ]
    }
   ],
   "source": [
    "%run -n\n",
    "[0]\n",
    "python:\n",
    "    import time\n",
    "    st = time.time()\n",
    "    time.sleep(1)\n",
    "    print('I just slept {:.2f} seconds'.format(time.time() - st))"
   ]
  },
  {
   "cell_type": "markdown",
   "metadata": {
    "kernel": "SoS"
   },
   "source": [
    "## Action options"
   ]
  },
  {
   "cell_type": "markdown",
   "metadata": {
    "kernel": "SoS"
   },
   "source": [
    "Actions define their own parameters but their execution is controlled by a common set of options."
   ]
  },
  {
   "cell_type": "markdown",
   "metadata": {
    "kernel": "SoS"
   },
   "source": [
    "###  `active`"
   ]
  },
  {
   "cell_type": "markdown",
   "metadata": {
    "kernel": "SoS"
   },
   "source": [
    "Action option `active` is used to activate or inactivate an action in an input loop. It accept either a condition that returns a boolean variable (`True` or `False`), or one or more integers, or slices that corresponds to indexes of active substeps.\n",
    "\n",
    "The first usage allows you to execute an action only if certain condition is met, so\n",
    "\n",
    "```\n",
    "if cond:\n",
    "  action(param)\n",
    "```\n",
    "\n",
    "is equivalent to\n",
    "\n",
    "```\n",
    "action(param, active=cond)\n",
    "```\n",
    "or\n",
    "```\n",
    "action: active=cond\n",
    "  param\n",
    "```\n",
    "in script format. For example, the following action will only be executed if `a.txt` exists"
   ]
  },
  {
   "cell_type": "code",
   "execution_count": 5,
   "metadata": {
    "kernel": "SoS"
   },
   "outputs": [
    {
     "name": "stdout",
     "output_type": "stream",
     "text": [
      "1 1 10 a.txt\n"
     ]
    }
   ],
   "source": [
    "!echo \"something\" > a.txt\n",
    "\n",
    "sh: active=path('a.txt').exists()\n",
    "  echo `wc a.txt`\n"
   ]
  },
  {
   "cell_type": "markdown",
   "metadata": {
    "kernel": "SoS"
   },
   "source": [
    "For the second usage, when a loop is defined by `for_each` or `group_by` options of `input:` statement, an action after input would be repeated for each substep. The `active` parameter accepts an integer, either a non-negative number, a negative number (counting backward), a sequence of indexes, or a slice object, for which the action would be active.\n",
    "\n",
    "For example, for an input loop that loops through a sequence of numbers, the first action `run` is executed for all groups, the second action is executed for even number of groups, the last action is executed for the last step."
   ]
  },
  {
   "cell_type": "code",
   "execution_count": 6,
   "metadata": {
    "kernel": "SoS",
    "scrolled": true
   },
   "outputs": [
    {
     "name": "stdout",
     "output_type": "stream",
     "text": [
      "echo I am active at all groups 0\n",
      "I am active at all groups 0\n",
      "echo I am active at even groups 0\n",
      "I am active at even groups 0\n",
      "echo I am active at all groups 1\n",
      "I am active at all groups 1\n",
      "echo I am active at all groups 2\n",
      "I am active at all groups 2\n",
      "echo I am active at even groups 2\n",
      "I am active at even groups 2\n",
      "echo I am active at all groups 3\n",
      "I am active at all groups 3\n",
      "echo I am active at all groups 4\n",
      "I am active at all groups 4\n",
      "echo I am active at even groups 4\n",
      "I am active at even groups 4\n",
      "echo I am active at last group 4\n",
      "I am active at last group 4\n"
     ]
    }
   ],
   "source": [
    "seq = range(5)\n",
    "input: for_each='seq'\n",
    "run: expand=True\n",
    "   echo I am active at all groups {_index}\n",
    "run: active=slice(None, None, 2), expand=True\n",
    "   echo I am active at even groups {_index}\n",
    "run: active=-1, expand=True\n",
    "   echo I am active at last group {_index}"
   ]
  },
  {
   "cell_type": "markdown",
   "metadata": {
    "kernel": "SoS",
    "output_cache": "[]"
   },
   "source": [
    "### `allow_error`"
   ]
  },
  {
   "cell_type": "markdown",
   "metadata": {
    "kernel": "SoS",
    "output_cache": "[]"
   },
   "source": [
    "Option `allow_error` tells SoS that the action might fail but this should not stop the workflow from executing. This option essentially turns an error to a warning message and change the return value of action to `None`. \n",
    "\n",
    "For example, in the following example, the wrong shell script would stop the execution of the step so the following action is not executed."
   ]
  },
  {
   "cell_type": "code",
   "execution_count": 7,
   "metadata": {
    "kernel": "sos",
    "output_cache": "[{\"output_type\":\"stream\",\"text\":\"/var/folders/ys/gnzk0qbx5wbdgm531v82xxljv5yqy8/T/tmpi62wxece: line 1: This: command not found\\nFailed to process statement run(r\\\"\\\"\\\"This is not shell\\\\n\\\"\\\"\\\")...fter run'): Failed to execute script (ret=127). \\nPlease use command\\n    /bin/bash /var/folders/ys/gnzk0qbx5wbdgm531v82xxljv5yqy8/T/tmpzn3zpjx3/.sos/interactive_0_0\\nunder /private/var/folders/ys/gnzk0qbx5wbdgm531v82xxljv5yqy8/T/tmpzn3zpjx3 to test it.\\n\",\"name\":\"stderr\"}]"
   },
   "outputs": [
    {
     "name": "stdout",
     "output_type": "stream",
     "text": [
      "This is not shell\n",
      "/var/folders/ys/gnzk0qbx5wbdgm531v82xxljv5yqy8/T/tmp61jtc31t.sh: line 1: This: command not found\n"
     ]
    },
    {
     "name": "stderr",
     "output_type": "stream",
     "text": [
      "\n",
      "---------------------------------------------------------------------------\n",
      "RuntimeError                              Traceback (most recent call last)\n",
      "script_-6007614678196007106 in <module>\n",
      "      run(r\"\"\"This is not shell\n",
      "----> \"\"\")\n",
      "      print('Step after run')\n",
      "\n",
      "RuntimeError: Failed to execute commmand \"/bin/bash -ev /var/folders/ys/gnzk0qbx5wbdgm531v82xxljv5yqy8/T/tmp61jtc31t.sh\" (ret=127, workdir=/private/var/folders/ys/gnzk0qbx5wbdgm531v82xxljv5yqy8/T/tmp6gu8uy4m, script now in /var/folders/ys/gnzk0qbx5wbdgm531v82xxljv5yqy8/T/tmp6gu8uy4m/.sos/scratch_0_0_e3a03a5f.sh)\n"
     ]
    }
   ],
   "source": [
    "%sandbox --expect-error\n",
    "run: \n",
    "    This is not shell\n",
    "print('Step after run')"
   ]
  },
  {
   "cell_type": "markdown",
   "metadata": {
    "kernel": "SoS",
    "output_cache": "[]"
   },
   "source": [
    "but in this example, the error of `run` action is turned to a warning message and the later step would still be executed."
   ]
  },
  {
   "cell_type": "code",
   "execution_count": 8,
   "metadata": {
    "kernel": "SoS",
    "output_cache": "[{\"output_type\":\"stream\",\"text\":\"/var/folders/ys/gnzk0qbx5wbdgm531v82xxljv5yqy8/T/tmpfemreue0: line 1: This: command not found\\n\\u001b[95mWARNING\\u001b[0m: \\u001b[95mFailed to execute script (ret=127). \\nPlease use command\\n    /bin/bash /var/folders/ys/gnzk0qbx5wbdgm531v82xxljv5yqy8/T/tmp557fin4d/.sos/interactive_0_0\\nunder /Users/bpeng1/SOS/docs/src/documentation to test it.\\u001b[0m\\n\",\"name\":\"stderr\"}]",
    "scrolled": false
   },
   "outputs": [
    {
     "name": "stdout",
     "output_type": "stream",
     "text": [
      "This is not shell\n",
      "/var/folders/ys/gnzk0qbx5wbdgm531v82xxljv5yqy8/T/tmp9ldhoswt.sh: line 1: This: command not found\n"
     ]
    },
    {
     "name": "stderr",
     "output_type": "stream",
     "text": [
      "\u001b[95mWARNING\u001b[0m: \u001b[95mFailed to execute commmand \"/bin/bash -ev /var/folders/ys/gnzk0qbx5wbdgm531v82xxljv5yqy8/T/tmp9ldhoswt.sh\" (ret=127, workdir=/Users/bpeng1/sos-docs/src/documentation, script now in /var/folders/ys/gnzk0qbx5wbdgm531v82xxljv5yqy8/T/tmp6gu8uy4m/.sos/scratch_0_0_afce0d51.sh)\u001b[0m\n"
     ]
    },
    {
     "name": "stdout",
     "output_type": "stream",
     "text": [
      "Step after run\n"
     ]
    }
   ],
   "source": [
    "run: allow_error=True\n",
    "    This is not shell\n",
    "print('Step after run')"
   ]
  },
  {
   "cell_type": "markdown",
   "metadata": {
    "kernel": "SoS"
   },
   "source": [
    "###  `args`"
   ]
  },
  {
   "cell_type": "markdown",
   "metadata": {
    "kernel": "SoS"
   },
   "source": [
    "All script-executing actions accept an option `args`, which changes how the script is executed.\n",
    "\n",
    "By default, such an action has an `interpreter` (e.g. `bash`), a default `args='{filename:q}'`, and the script would be executed as `interpreter args`, which is\n",
    "```\n",
    "bash {filename:q}\n",
    "```\n",
    "where `{filename:q}` would be replaced by the script file created from the body of the action."
   ]
  },
  {
   "cell_type": "markdown",
   "metadata": {
    "kernel": "SoS"
   },
   "source": [
    "If you would like to change the command line with additional parameters, or different format of filename, you can specify an alternative `args`, with variables `filename` (filename of temporary script) and `script` (actual content of the script).\n",
    "\n",
    "For example, option `-n` can be added to command `bash` to execute script in dryrun mode"
   ]
  },
  {
   "cell_type": "code",
   "execution_count": 8,
   "metadata": {
    "collapsed": true,
    "kernel": "SoS"
   },
   "outputs": [],
   "source": [
    "bash: args='-n {filename:q}'\n",
    "    echo \"-n means running in dryrun mode (only check syntax)\""
   ]
  },
  {
   "cell_type": "markdown",
   "metadata": {
    "kernel": "SoS"
   },
   "source": [
    "and you can actually execute a command without filename, and instead executing the script directly from command line"
   ]
  },
  {
   "cell_type": "code",
   "execution_count": 9,
   "metadata": {
    "kernel": "SoS",
    "output_cache": "[{\"output_type\":\"stream\",\"name\":\"stdout\",\"text\":\"10000 loops, best of 3: 31.2 usec per loop\\n\"}]",
    "scrolled": true
   },
   "outputs": [
    {
     "name": "stdout",
     "output_type": "stream",
     "text": [
      "10000 loops, best of 3: 32.1 usec per loop\n"
     ]
    }
   ],
   "source": [
    "python: args='-m timeit {script}'\n",
    "    '\"-\".join(str(n) for n in range(100))'"
   ]
  },
  {
   "cell_type": "markdown",
   "metadata": {
    "kernel": "SoS"
   },
   "source": [
    "### `container` and `engine`"
   ]
  },
  {
   "cell_type": "markdown",
   "metadata": {
    "kernel": "SoS"
   },
   "source": [
    "Parameter `container` and `engine` specify name or URL and execution engine of the container used to execute the action. Parameter `engine` is usually derived from `container` but can be specified explicitly as one of\n",
    "\n",
    "* `engine='docker'`: Execute the script in specified container using [docker](https://www.docker.com/)\n",
    "* `engine='singularity'`: Execute the script with [singularity](https://www.sylabs.io/)\n",
    "* `engine='local'`: Execute the script locally, this is the default mode.\n",
    "\n",
    "Parameters `container` and `engine` accept the following values:\n",
    "\n",
    "| `container` | `engine` | execute by | example | comment | \n",
    "| -- | -- | -- | -- | -- |\n",
    "| `tag` | ` `  | docker | `container='ubuntu'` | docker is the default container engine |\n",
    "| `name` | `docker` | docker | `container='ubuntu', engine='docker'` | treat `name` as docker tag |\n",
    "| `docker://tag` | ` ` | docker |  `container='docker://ubuntu'`  | |\n",
    "| `filename.simg` | ` ` | singularity | `container='ubuntu.simg'` | |\n",
    "| `shub://tag` | ` ` | singularity | `container='shub://GodloveD/lolcow'` | Image will be pulled to a local image |\n",
    "| `name` | `singularity` | singularity | `container='a_dir', engine='singularity'` | treat `name` as singularity image file or directory |\n",
    "| `docker://tag` | `singularity` | singularity |  `container='docker://godlovdc/lolcow', engine='singularity'`  |  |\n",
    "| `file://filename` | ` ` | singularity | `container='file://ubuntu.simg'` | |\n",
    "| `local://name` | ` ` | local | `container='local:any_tag'` | `local://any_tag` is equivalent to `engine='local'` |\n",
    "| `name` | `local` | local | `engine=engine` with `parameter: engine='docker'` | Usually used to override parameter `container` |\n",
    "\n",
    "Basically,\n",
    "* `container='tag'` pulls and uses docker image `tag`\n",
    "* `container='filename.simg` uses an existing singularity image\n",
    "* `container='shub://tag'` pulls and uses singularity image `shub://tag`, which will generate a local `tag.simg` file"
   ]
  },
  {
   "cell_type": "markdown",
   "metadata": {
    "kernel": "SoS"
   },
   "source": [
    "If a docker image is specified, the action is assumed to be executed in the specified docker container. The image will be automatically downloaded (pulled) if it is not available locally. \n",
    "\n",
    "For example, executing the following script "
   ]
  },
  {
   "cell_type": "markdown",
   "metadata": {
    "kernel": "SoS"
   },
   "source": [
    "```\n",
    "[10]\n",
    "python3: container='python'\n",
    "  set = {'a', 'b'}\n",
    "  print(set)\n",
    "  ```"
   ]
  },
  {
   "cell_type": "markdown",
   "metadata": {
    "kernel": "SoS"
   },
   "source": [
    "under a docker terminal (that is connected to the docker daemon) will\n",
    "\n",
    "1. Pull docker image `python`,  which is the official docker image for Python 2 and 3.\n",
    "2. Create a python script with the specified content\n",
    "3. Run the docker container `python` and make the script available inside the container\n",
    "4. Use the `python3` command inside the container to execute the script.\n",
    "\n",
    "Additional `docker_run` parameters can be passed to actions when the action\n",
    "is executed in a docker image. These options include\n",
    "\n",
    "* `name`: name of the container (option `--name`)\n",
    "* `tty`: if a tty is attached (default to `True`, option `-t`)\n",
    "* `stdin_open`: if stdin should be open (default to `False`, option `-i`)\n",
    "* `user`: username (default o `root`, option `-u`)\n",
    "* `environment`: Can be a string, a list of string or dictinary of environment variables for docker (option `-e`)\n",
    "* `volumes`: shared volumes as a string or list of strings, in the format of `hostdir` (for `hostdir:hostdir`) or `hostdir:mnt_dir`, in addition to current working directory which will always be shared.\n",
    "* `volumes_from`: container names or Ids to get volumes from\n",
    "* `port`: port opened (option `-p`)\n",
    "* `extra_args`: If there is any extra arguments you would like to pass to the `docker run` process (after you check the actual command of `docker run` of SoS\n",
    "\n",
    "Because of the different configurations of docker images, use of docker in SoS can be complicated. Please refer to http://vatlab.github.io/SOS/doc/tutorials/SoS_Docker_Guide.html for details.\n"
   ]
  },
  {
   "cell_type": "markdown",
   "metadata": {
    "kernel": "SoS"
   },
   "source": [
    "### `docker_image` (deprecated)"
   ]
  },
  {
   "cell_type": "code",
   "execution_count": null,
   "metadata": {
    "kernel": "SoS"
   },
   "outputs": [],
   "source": [
    "`docker_image='tag'` is now replaced with `container='tag'` or `container='docker://tag'` "
   ]
  },
  {
   "cell_type": "markdown",
   "metadata": {
    "kernel": "SoS"
   },
   "source": [
    "### `default_env`"
   ]
  },
  {
   "cell_type": "markdown",
   "metadata": {
    "kernel": "SoS"
   },
   "source": [
    "Option `default_env` set environment variables **if they do not exist in the system**. The value of this option should be a dictionary with string keys and values."
   ]
  },
  {
   "cell_type": "markdown",
   "metadata": {
    "kernel": "SoS"
   },
   "source": [
    "### `docker_file` (deprecated)\n",
    "\n",
    "This option allows you to import a docker from specified `docker_file`, which can be an archive file (`.tar`, `.tar.gz`, `.tgz`, `.bzip`, `.tar.xz`, `.txz`) or a URL to an archive file (e.g. `http://example.com/exampleimage.tgz`). SoS will use command `docker import` to import the `docker_file`. However, because SoS does not know the repository and tag names of the imported docker file, you will still need to use option `docker_image` to specify the image to use."
   ]
  },
  {
   "cell_type": "markdown",
   "metadata": {
    "kernel": "SoS"
   },
   "source": [
    "### `env`"
   ]
  },
  {
   "cell_type": "markdown",
   "metadata": {
    "kernel": "SoS"
   },
   "source": [
    "Option `env` set environment variables **that overrides system variables defined in `os.environ`**. This option can be used to define `PATH` and other environmental variables for the action."
   ]
  },
  {
   "cell_type": "markdown",
   "metadata": {
    "kernel": "SoS"
   },
   "source": [
    "### `input`"
   ]
  },
  {
   "cell_type": "markdown",
   "metadata": {
    "kernel": "SoS"
   },
   "source": [
    "Parameter `input` specifies the input files that an action needs before it can be executed. However, unlike targets in `input:` statement of a step where lacking an input target would trigger the execution of an auxiliary step (if needs) to produce it, SoS would yield an error if the input file does not exist.\n",
    "\n",
    "For example, in the following example, step `20` is executed after step `10` so its `report` action can report the content of `a.txt` produced by step `10`."
   ]
  },
  {
   "cell_type": "code",
   "execution_count": 10,
   "metadata": {
    "kernel": "SoS"
   },
   "outputs": [
    {
     "name": "stdout",
     "output_type": "stream",
     "text": [
      "content of a.txt\n",
      "\n"
     ]
    }
   ],
   "source": [
    "%sandbox\n",
    "%run\n",
    "[10]\n",
    "output: 'a.txt'\n",
    "bash:\n",
    "    echo 'content of a.txt' > a.txt\n",
    "\n",
    "[20]\n",
    "report: input='a.txt'"
   ]
  },
  {
   "cell_type": "markdown",
   "metadata": {
    "kernel": "SoS"
   },
   "source": [
    "However, in the following example, step `20` is executed as the first step of workflow `default`. The `report` action requires input file `a.txt` and yields an error."
   ]
  },
  {
   "cell_type": "code",
   "execution_count": 11,
   "metadata": {
    "kernel": "SoS"
   },
   "outputs": [
    {
     "name": "stderr",
     "output_type": "stream",
     "text": [
      "ValueError: Input file a.txt does not exist.\n"
     ]
    }
   ],
   "source": [
    "%sandbox --expect-error\n",
    "%run\n",
    "[a: provides='a.txt']\n",
    "bash:\n",
    "    echo 'content of a.txt' > a.txt\n",
    "\n",
    "[20]\n",
    "report: input='a.txt'"
   ]
  },
  {
   "cell_type": "markdown",
   "metadata": {
    "kernel": "SoS"
   },
   "source": [
    "`a.txt` has to be put into the input statement of step `20` for the auxiliary step to be executed:"
   ]
  },
  {
   "cell_type": "code",
   "execution_count": 12,
   "metadata": {
    "kernel": "SoS"
   },
   "outputs": [
    {
     "name": "stdout",
     "output_type": "stream",
     "text": [
      "content of a.txt\n",
      "\n"
     ]
    }
   ],
   "source": [
    "%sandbox\n",
    "%run\n",
    "[a: provides='a.txt']\n",
    "bash:\n",
    "    echo 'content of a.txt' > a.txt\n",
    "\n",
    "[20]\n",
    "input: 'a.txt'\n",
    "report: input=_input[0]"
   ]
  },
  {
   "cell_type": "markdown",
   "metadata": {
    "kernel": "SoS"
   },
   "source": [
    "Although all actions accept parameter `input` and SoS will always check the existence of specified input file, the action themselves might or might not make use of this parameter. Roughly speaking, script-executing actions such as `run`, `bash` and `python` accepts this parameter and prepend the content of all input files to the script; report-generation actions `report`, `pandoc` and `RMarkdown` append the content of input files after the specifie dscript, and other actions usually ignore this parameter.\n",
    "\n",
    "For example, if you have a function that needs to be included in a Python script (more likely multiple scripts), you could define it in a separate file and include it with scripts defined in a `python` action: "
   ]
  },
  {
   "cell_type": "code",
   "execution_count": 13,
   "metadata": {
    "kernel": "SoS"
   },
   "outputs": [
    {
     "name": "stdout",
     "output_type": "stream",
     "text": [
      "Hello\n"
     ]
    }
   ],
   "source": [
    "%run\n",
    "# define a function and save to file myfunc.inc\n",
    "report: output=\"myfunc.inc\"\n",
    "  def myfunc():\n",
    "    print(\"Hello\")\n",
    "\n",
    "[1]\n",
    "python: input='myfunc.inc'\n",
    "    myfunc()"
   ]
  },
  {
   "cell_type": "markdown",
   "metadata": {
    "kernel": "SoS"
   },
   "source": [
    "### `output`"
   ]
  },
  {
   "cell_type": "markdown",
   "metadata": {
    "kernel": "SoS"
   },
   "source": [
    "Similar to `input`, parameter `output` defines the output of an action, which can be a single name (or target) or a list of files or targets. SoS would check the existence of output target after the completion of the action. For example, "
   ]
  },
  {
   "cell_type": "code",
   "execution_count": 14,
   "metadata": {
    "kernel": "SoS"
   },
   "outputs": [
    {
     "name": "stderr",
     "output_type": "stream",
     "text": [
      "RuntimeError: Output target non_existing.txt does not exist after completion of action bash\n"
     ]
    }
   ],
   "source": [
    "%sandbox --expect-error\n",
    "%run\n",
    "[10]\n",
    "bash: output='non_existing.txt'"
   ]
  },
  {
   "cell_type": "markdown",
   "metadata": {
    "kernel": "SoS"
   },
   "source": [
    "In addition to checking the existence of input and output files, specifying `input` and `output` of an action will allow SoS to create signatures of action so that it will not be executed when it is called again with the same input and output files. This is in addition to step-level signature and can be useful for long-running actions.\n",
    "\n",
    "For example, suppose action `sh` is time-consuming that produces output `test.txt`"
   ]
  },
  {
   "cell_type": "code",
   "execution_count": 15,
   "metadata": {
    "kernel": "SoS"
   },
   "outputs": [
    {
     "name": "stdout",
     "output_type": "stream",
     "text": [
      "1512781007.0\n"
     ]
    }
   ],
   "source": [
    "%run -s default\n",
    "[10]\n",
    "import time, os\n",
    "time.sleep(2)\n",
    "\n",
    "sh: input=[], output='test.txt'\n",
    "   touch test.txt\n",
    "\n",
    "print(os.path.getmtime('test.txt'))\n"
   ]
  },
  {
   "cell_type": "markdown",
   "metadata": {
    "kernel": "SoS"
   },
   "source": [
    "Because the action has parameter `input` and `output`, a signature will be created so it will not be re-executed even when the step itself is changed (from `sleep(2)` to `sleep(1)`)."
   ]
  },
  {
   "cell_type": "code",
   "execution_count": 16,
   "metadata": {
    "kernel": "SoS"
   },
   "outputs": [
    {
     "name": "stdout",
     "output_type": "stream",
     "text": [
      "1512781008.0\n"
     ]
    }
   ],
   "source": [
    "%run -s default\n",
    "[10]\n",
    "import time, os\n",
    "time.sleep(1)\n",
    "\n",
    "sh: input=[], output='test.txt'\n",
    "   touch test.txt\n",
    "\n",
    "print(os.path.getmtime('test.txt'))\n"
   ]
  },
  {
   "cell_type": "markdown",
   "metadata": {
    "kernel": "SoS"
   },
   "source": [
    "Note that we have to use option `-s default` for our examples because the default mode for SoS in Jupyter is `ignore` so no siguatures will be saved and used by default."
   ]
  },
  {
   "cell_type": "markdown",
   "metadata": {
    "kernel": "SoS"
   },
   "source": [
    "### `stdout`"
   ]
  },
  {
   "cell_type": "markdown",
   "metadata": {
    "kernel": "SoS"
   },
   "source": [
    "Option `stdout` is applicable to script-executing actions such as `bash` and `R` and redirect the standard out of the action to specified file. The value of the option should be a path-like object (`str`, `path`, etc), or `False`. The file will be opened in `append` mode so you will have to remove or truncate the file if the file already exists. If `stdout=False`, the output will be suppressed (redirect to `/dev/null` under linux)."
   ]
  },
  {
   "cell_type": "markdown",
   "metadata": {
    "kernel": "SoS"
   },
   "source": [
    "For example,"
   ]
  },
  {
   "cell_type": "code",
   "execution_count": 11,
   "metadata": {
    "kernel": "SoS"
   },
   "outputs": [
    {
     "name": "stderr",
     "output_type": "stream",
     "text": []
    }
   ],
   "source": [
    "!rm -f test.log\n",
    "\n",
    "sh: stdout='test.log'\n",
    "ls *.ipynb"
   ]
  },
  {
   "cell_type": "code",
   "execution_count": 12,
   "metadata": {
    "kernel": "SoS"
   },
   "outputs": [
    {
     "name": "stdout",
     "output_type": "stream",
     "text": [
      "Extending_SoS.ipynb\n",
      "Language_Module.ipynb\n"
     ]
    }
   ],
   "source": [
    "!head -2 test.log"
   ]
  },
  {
   "cell_type": "markdown",
   "metadata": {
    "kernel": "SoS"
   },
   "source": [
    "### `stderr`"
   ]
  },
  {
   "cell_type": "markdown",
   "metadata": {
    "kernel": "SoS"
   },
   "source": [
    "Option `stderr` is similar to `stdout` but redirects the standard error output of actions. `stderr=False` also suppresses stderr."
   ]
  },
  {
   "cell_type": "markdown",
   "metadata": {
    "kernel": "SoS"
   },
   "source": [
    "### `tracked`"
   ]
  },
  {
   "cell_type": "markdown",
   "metadata": {
    "kernel": "SoS"
   },
   "source": [
    "If an action takes a long time to execute and the step it resides tend to be changed (for example, during the development of a workflow step), you might want to keep action-level signatures so that the action could be skipped if it has been executed before.\n",
    "\n",
    "Action-level signature is controlled by parameter `tracked`, which can be `None` (no signature), `True` (record signature), `False` (do not record signature), a string (filename), or a list of filenames. When this parameter is `True` or one or more filenames, SoS will\n",
    "\n",
    "1. if specified, collect targets specified by parameter `input`\n",
    "2. if specified, colelct targets specified by parameter `output`\n",
    "3. if one or more files are specified, collect targets from parameter `tracked`\n",
    "\n",
    "These files, together with the content of the first parameter (usually a script), will be used to create a step signature and allow the actions with the same signature be skipped."
   ]
  },
  {
   "cell_type": "markdown",
   "metadata": {
    "kernel": "SoS"
   },
   "source": [
    "For example, suppose action `sh` is time-consuming that produces output `test.txt`"
   ]
  },
  {
   "cell_type": "code",
   "execution_count": 17,
   "metadata": {
    "kernel": "SoS"
   },
   "outputs": [
    {
     "name": "stdout",
     "output_type": "stream",
     "text": [
      "1512781011.0\n"
     ]
    }
   ],
   "source": [
    "%run -s force\n",
    "[10]\n",
    "import time, os\n",
    "time.sleep(2)\n",
    "\n",
    "sh: output='test.txt', tracked=True\n",
    "   touch test.txt\n",
    "\n",
    "print(os.path.getmtime('test.txt'))\n"
   ]
  },
  {
   "cell_type": "markdown",
   "metadata": {
    "kernel": "SoS"
   },
   "source": [
    "Because of the `tracked=True` parameter, a signature will be created with `output` and it will not be re-executed even when the step itself is changed (from `sleep(2)` to `sleep(1)`)."
   ]
  },
  {
   "cell_type": "code",
   "execution_count": 18,
   "metadata": {
    "kernel": "SoS"
   },
   "outputs": [
    {
     "name": "stderr",
     "output_type": "stream",
     "text": [
      "INFO: Action \u001b[32msh\u001b[0m is \u001b[32mignored\u001b[0m due to saved signature\n"
     ]
    },
    {
     "name": "stdout",
     "output_type": "stream",
     "text": [
      "1512781011.0\n"
     ]
    }
   ],
   "source": [
    "%run -s default\n",
    "[10]\n",
    "import time, os\n",
    "time.sleep(1)\n",
    "\n",
    "sh: output='test.txt', tracked=True\n",
    "   touch test.txt\n",
    "\n",
    "print(os.path.getmtime('test.txt'))\n"
   ]
  },
  {
   "cell_type": "markdown",
   "metadata": {
    "kernel": "SoS"
   },
   "source": [
    "Note that the signature can only be saved and used with appropriate signature mode (`force`, `default` etc)."
   ]
  },
  {
   "cell_type": "markdown",
   "metadata": {
    "kernel": "SoS"
   },
   "source": [
    "### `workdir`"
   ]
  },
  {
   "cell_type": "markdown",
   "metadata": {
    "kernel": "SoS"
   },
   "source": [
    "Option `workdir` changes the current working directory for the action, and change back once the action is executed. The directory will be created if it does not exist."
   ]
  },
  {
   "cell_type": "code",
   "execution_count": 19,
   "metadata": {
    "kernel": "SoS"
   },
   "outputs": [
    {
     "name": "stdout",
     "output_type": "stream",
     "text": [
      "a.txt\n"
     ]
    }
   ],
   "source": [
    "bash: workdir='tmp'\n",
    "   touch a.txt\n",
    "bash:\n",
    "    ls tmp\n",
    "    rm tmp/a.txt\n",
    "    rmdir tmp"
   ]
  },
  {
   "cell_type": "markdown",
   "metadata": {
    "kernel": "SoS"
   },
   "source": [
    "## Core Actions"
   ]
  },
  {
   "cell_type": "markdown",
   "metadata": {
    "kernel": "SoS"
   },
   "source": [
    "Let us start by listing all options for action `run` and compare it with actions `script` and `bash` before we dive into the details:\n",
    "\n",
    "|action |condition | interpreter (configurable for `script`) | args (configurable) | command |comment|\n",
    "|:--|:--|:-|:-|:-|:-|:-|\n",
    "|`run`| `windows`|  | `{filename}` | `{filename}` |execute script directly as `.bat` file|\n",
    "| | non-windows | `/bin/bash` | `-ev {filename}`| `/bin/bash -ev {filename}` | execute script by bash, print command and exit with error |\n",
    "| | script with shebang line (`#!`) |  | `{filename}`| `{filename}` | execute script directly |\n",
    "| |      |  `/bin/bash`   | `{script}` | `/bin/bash` content of  script | `script` as arguments of `/bin/bash` |\n",
    "|`bash` | | `/bin/bash` | `{filename}`| `/bin/bash {filename}` | execute script as a bash script |\n",
    "|`script`| |  | `{filename}` | `{filename}` | execute script directly |\n",
    "|     | | `any_interpreter` | `{filename}` | `any {filename}` | execute with specified interpreter |\n",
    "|    | | `any_interpreter` | `{script}` | `any_interpreter` content of script | execute content of script directly in command line|\n",
    "\n",
    "Note that\n",
    "1. All actions except `script` has fixed interpreter although action `run` uses different interpreter for different situations.\n",
    "3. All actions accept configurable `args`, which can contain `{filename}` and `{script}` with `filename` being the name of the temporary script file, and `script` being the content of the script. In the latter case, the content of the script goes to the command line directly. It can of course contain any other fixed options.\n",
    "3. If no interpreter is specified, the command will consist of only `args` so either the script file (if `args={filename}`) or the content of the script (if `args={script}`) is executed. SoS will make the script file executable in this case.\n",
    "4. All script-executing actions except for `run` and `script` have fixed interpreters.\n"
   ]
  }
 ],
 "metadata": {
  "anaconda-cloud": {},
  "kernelspec": {
   "display_name": "SoS",
   "language": "sos",
   "name": "sos"
  },
  "language_info": {
   "codemirror_mode": "sos",
   "file_extension": ".sos",
   "mimetype": "text/x-sos",
   "name": "sos",
   "nbconvert_exporter": "sos_notebook.converter.SoS_Exporter",
   "pygments_lexer": "sos"
  },
  "sos": {
   "celltoolbar": true,
   "default_kernel": "SoS",
   "kernels": [
    [
     "SoS",
     "sos",
     "",
     ""
    ],
    [
     "SoS",
     "sos",
     "",
     ""
    ]
   ],
   "panel": {
    "displayed": true,
    "height": 0,
    "style": "side"
   },
   "version": "0.17.5"
  },
  "toc": {
   "colors": {
    "hover_highlight": "#DAA520",
    "running_highlight": "#FF0000",
    "selected_highlight": "#FFD700"
   },
   "moveMenuLeft": true,
   "nav_menu": {
    "height": "503px",
    "width": "254px"
   },
   "navigate_menu": true,
   "number_sections": true,
   "sideBar": true,
   "threshold": 4,
   "toc_cell": false,
   "toc_section_display": "block",
   "toc_window_display": true
  }
 },
 "nbformat": 4,
 "nbformat_minor": 2
}
