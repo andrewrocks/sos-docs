{
 "cells": [
  {
   "cell_type": "markdown",
   "metadata": {
    "kernel": "SoS"
   },
   "source": [
    "# How to execute Python, R, Julia, and scripts in other languages"
   ]
  },
  {
   "cell_type": "markdown",
   "metadata": {
    "kernel": "SoS"
   },
   "source": [
    "* **Difficulty level**: easy\n",
    "* **Time need to lean**: 10 minutes or less\n",
    "  "
   ]
  },
  {
   "cell_type": "markdown",
   "metadata": {
    "kernel": "SoS"
   },
   "source": [
    "### Action  `perl`\n",
    "\n",
    "Action `perl(script)` execute the passed script using `perl` interpreter."
   ]
  },
  {
   "cell_type": "code",
   "execution_count": 38,
   "metadata": {
    "kernel": "SoS"
   },
   "outputs": [
    {
     "name": "stdout",
     "output_type": "stream",
     "text": [
      "Hello, Brian!\n"
     ]
    }
   ],
   "source": [
    "perl:\n",
    "    my $name = \"Brian\";\n",
    "    print \"Hello, $name!\\n\";"
   ]
  },
  {
   "cell_type": "markdown",
   "metadata": {
    "kernel": "SoS"
   },
   "source": [
    "### Action  `ruby`"
   ]
  },
  {
   "cell_type": "markdown",
   "metadata": {
    "kernel": "SoS"
   },
   "source": [
    "Action `ruby(script)` execute the passed script using `ruby` interpreter."
   ]
  },
  {
   "cell_type": "code",
   "execution_count": 39,
   "metadata": {
    "kernel": "SoS"
   },
   "outputs": [
    {
     "name": "stdout",
     "output_type": "stream",
     "text": [
      "45 3 19 8 sam max 56 98.9 3 10 jill\n",
      "19 3 10\n",
      "3 8 19 45\n",
      "A: 45 3 19 8 57 9 phil\n"
     ]
    }
   ],
   "source": [
    "ruby:\n",
    "    a = [ 45, 3, 19, 8 ]\n",
    "    b = [ 'sam', 'max', 56, 98.9, 3, 10, 'jill' ]\n",
    "    print (a + b).join(' '), \"\\n\"\n",
    "    print a[2], \" \", b[4], \" \", b[-2], \"\\n\"\n",
    "    print a.sort.join(' '), \"\\n\"\n",
    "    a << 57 << 9 << 'phil'\n",
    "    print \"A: \", a.join(' '), \"\\n\""
   ]
  },
  {
   "cell_type": "markdown",
   "metadata": {
    "kernel": "SoS"
   },
   "source": [
    "###  Action  `node`\n",
    "\n",
    "Action `node(script)` executes the passed script using `node` (JavaScript) interpreter."
   ]
  },
  {
   "cell_type": "code",
   "execution_count": null,
   "metadata": {
    "collapsed": true,
    "kernel": "SoS"
   },
   "outputs": [],
   "source": [
    "node:\n",
    "    var i, a, b, c, max;\n",
    "\n",
    "    max = 1000000000;\n",
    "\n",
    "    var d = Date.now();\n",
    "\n",
    "    for (i = 0; i < max; i++) {\n",
    "        a = 1234 + 5678 + i;\n",
    "        b = 1234 * 5678 + i;\n",
    "        c = 1234 / 2 + i;\n",
    "    }\n",
    "\n",
    "    console.log(Date.now() - d);"
   ]
  },
  {
   "cell_type": "markdown",
   "metadata": {
    "kernel": "SoS"
   },
   "source": [
    "## Language JavaScript"
   ]
  },
  {
   "cell_type": "markdown",
   "metadata": {
    "kernel": "SoS"
   },
   "source": [
    "### Action `node`"
   ]
  },
  {
   "cell_type": "markdown",
   "metadata": {
    "kernel": "SoS"
   },
   "source": [
    "Action `node` execute specified JavaScript with command `node`."
   ]
  },
  {
   "cell_type": "markdown",
   "metadata": {
    "kernel": "SoS"
   },
   "source": [
    "## Language Julia"
   ]
  },
  {
   "cell_type": "markdown",
   "metadata": {
    "kernel": "SoS"
   },
   "source": [
    "### Action `julia`"
   ]
  },
  {
   "cell_type": "markdown",
   "metadata": {
    "kernel": "SoS"
   },
   "source": [
    "Action `julia` execute specified Julia script with command `julia`."
   ]
  },
  {
   "cell_type": "markdown",
   "metadata": {
    "kernel": "SoS"
   },
   "source": [
    "## Language Matlab"
   ]
  },
  {
   "cell_type": "markdown",
   "metadata": {
    "kernel": "SoS"
   },
   "source": [
    "### Action `matlab`"
   ]
  },
  {
   "cell_type": "markdown",
   "metadata": {
    "kernel": "SoS"
   },
   "source": [
    "Action `matlab` execute specified matlab script with default options `-nojvm -nodisplay -nosplash -r {filename:n};quit`. The options start matlab without desktop, execute the strip (with parameter without `.m` extension), and quit matlab when the script is completed."
   ]
  },
  {
   "cell_type": "markdown",
   "metadata": {
    "kernel": "SoS"
   },
   "source": [
    "## Language `Python`"
   ]
  },
  {
   "cell_type": "markdown",
   "metadata": {
    "kernel": "SoS"
   },
   "source": [
    "### Action `python`"
   ]
  },
  {
   "cell_type": "markdown",
   "metadata": {
    "kernel": "SoS"
   },
   "source": [
    "Action `python(script)` and `python3(script)` accepts a Python script and execute it with python or python3, respectively.\n",
    "\n",
    "Because SoS can include Python statements directly in a SoS script, it is important to note that embedded Python\n",
    "statements are interpreted by SoS and the `python` and `python3` actions are execute in separate processes without\n",
    "access to the SoS environment.\n",
    "\n",
    "For example, the following SoS step execute some python statements **within** SoS with direct access to SoS variables\n",
    "such as `input`, and with `result` writing directly to the SoS environment,\n",
    "\n",
    "```python\n",
    "[10]\n",
    "for filename in input:\n",
    "    with open(filename) as data:\n",
    "        result = filename + '.res'\n",
    "        ....\n",
    "```\n",
    "\n",
    "while\n",
    "\n",
    "```python\n",
    "[10]\n",
    "input: group_by='single'\n",
    "\n",
    "python:\n",
    "\n",
    "with open(${input!r}) as data:\n",
    "   result = ${input!r} + '.res'\n",
    "   ...\n",
    "\n",
    "\n",
    "```\n",
    "\n",
    "composes a Python script for each input file and calls separate Python interpreters to execute them. Whereas\n",
    "the Python statement in the first example will always be executed, the statements in `python` will not be executed\n",
    "in `inspect` mode."
   ]
  },
  {
   "cell_type": "markdown",
   "metadata": {
    "kernel": "SoS"
   },
   "source": [
    "### Action `python2`\n",
    "\n",
    "Action `python2` is similar to `python` but it tries to use interpreter `python2` (or `python2.7` on some systems) before `python`, which could be python 3. Note that this action does not actually test the version of interpreter so it would use python 3 if this is the only available version."
   ]
  },
  {
   "cell_type": "markdown",
   "metadata": {
    "kernel": "SoS"
   },
   "source": [
    "### Action `python3`\n",
    "\n",
    "Action `python3` is similar to `python` but it tries to use interpreter `python3` (version 3 of python) before `python`, which could be python 2. Note that this action does not actually test the version of interpreter so it would use python 2 if this is the only available version."
   ]
  },
  {
   "cell_type": "markdown",
   "metadata": {
    "kernel": "SoS"
   },
   "source": [
    "### Action `R`"
   ]
  },
  {
   "cell_type": "markdown",
   "metadata": {
    "kernel": "SoS"
   },
   "source": [
    "Action `R(script)` execute the passed script using `Rscript` command. "
   ]
  },
  {
   "cell_type": "code",
   "execution_count": 62,
   "metadata": {
    "kernel": "SoS"
   },
   "outputs": [
    {
     "name": "stdout",
     "output_type": "stream",
     "text": [
      "  x  y\n",
      "1 1  7\n",
      "4 1  2\n",
      "2 2 19\n",
      "3 3  2\n"
     ]
    }
   ],
   "source": [
    "R:\n",
    "    D <- data.frame(x=c(1,2,3,1), y=c(7,19,2,2))\n",
    "    # Sort on x\n",
    "    indexes <- order(D$x)\n",
    "    D[indexes,]"
   ]
  },
  {
   "cell_type": "markdown",
   "metadata": {
    "kernel": "SoS"
   },
   "source": [
    "### Action `Rmarkdown`"
   ]
  },
  {
   "cell_type": "markdown",
   "metadata": {
    "kernel": "SoS"
   },
   "source": [
    "Action `Rmarkdown` shares the same user interface with action `pandoc`. The only big difference is that it used `R`'s `rmarkdown` package to render R-flavored Markdown language.\n",
    "\n",
    "For example, the `Rmarkdown` action of the following example collects input files `A_10.md` and `A_20.md` and use `R`'s `rmarkdown` package to convert it to `out.html`."
   ]
  },
  {
   "cell_type": "code",
   "execution_count": 63,
   "metadata": {
    "collapsed": true,
    "kernel": "SoS"
   },
   "outputs": [],
   "source": [
    "%sandbox\n",
    "\n",
    "[A_10]\n",
    "report: output=\"A_10.md\"\n",
    "    step_10\n",
    "\n",
    "[A_20]\n",
    "report: output=\"A_20.md\"\n",
    "    Itemize\n",
    "\n",
    "    * item 1\n",
    "    * item 2\n",
    "\n",
    "[A_30]\n",
    "Rmarkdown(input=['A_10.md', 'A_20.md'], output='out.html')"
   ]
  },
  {
   "cell_type": "markdown",
   "metadata": {
    "kernel": "SoS"
   },
   "source": [
    "## Further reading\n",
    "\n",
    "* "
   ]
  }
 ],
 "metadata": {
  "kernelspec": {
   "display_name": "SoS",
   "language": "sos",
   "name": "sos"
  },
  "language_info": {
   "codemirror_mode": "sos",
   "file_extension": ".sos",
   "mimetype": "text/x-sos",
   "name": "sos",
   "nbconvert_exporter": "sos_notebook.converter.SoS_Exporter",
   "pygments_lexer": "sos"
  },
  "sos": {
   "kernels": [
    [
     "Bash",
     "bash",
     "Bash",
     "#E6EEFF"
    ],
    [
     "R",
     "ir",
     "R",
     "#DCDCDA"
    ],
    [
     "SoS",
     "sos",
     "",
     ""
    ]
   ],
   "panel": {
    "displayed": true,
    "height": 0
   },
   "version": "0.17.5"
  }
 },
 "nbformat": 4,
 "nbformat_minor": 2
}
