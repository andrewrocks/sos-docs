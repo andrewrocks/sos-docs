{
 "cells": [
  {
   "cell_type": "markdown",
   "metadata": {
    "kernel": "SoS"
   },
   "source": [
    "# Command Line User Interface"
   ]
  },
  {
   "cell_type": "markdown",
   "metadata": {
    "kernel": "SoS"
   },
   "source": [
    "* **Difficulty level**: easy\n",
    "* **Time need to lean**: 10 minutes or less\n",
    "* **Key points**:\n",
    "  * a\n",
    "  "
   ]
  },
  {
   "cell_type": "markdown",
   "metadata": {
    "kernel": "SoS"
   },
   "source": [
    "## Command `sos`"
   ]
  },
  {
   "cell_type": "markdown",
   "metadata": {
    "kernel": "SoS"
   },
   "source": [
    "Command `sos` accepts a number of subcommands (similar to `svn`, `git` etc). Its syntax follows\n",
    "\n",
    "```bash\n",
    "sos subcommand [subcommand-options]\n",
    "```\n",
    "\n",
    "You can use command"
   ]
  },
  {
   "cell_type": "code",
   "execution_count": 1,
   "metadata": {
    "kernel": "SoS"
   },
   "outputs": [
    {
     "name": "stdout",
     "output_type": "stream",
     "text": [
      "usage: sos [-h] [--version]\n",
      "           {install,run,resume,dryrun,status,push,pull,execute,kill,purge,config,convert,remove}\n",
      "           ...\n",
      "\n",
      "A workflow system for the execution of commands and scripts in different\n",
      "languages.\n",
      "\n",
      "optional arguments:\n",
      "  -h, --help            show this help message and exit\n",
      "  --version             show program's version number and exit\n",
      "\n",
      "subcommands:\n",
      "  {install,run,resume,dryrun,status,push,pull,execute,kill,purge,config,convert,remove}\n",
      "    run                 Execute default or specified workflow in script\n",
      "    resume              Resume the execution of a suspended workflow\n",
      "    dryrun              Execute workflow in dryrun mode\n",
      "    status              Check the status of specified tasks\n",
      "    push                Push local files or directory to a remote host\n",
      "    pull                Pull files or directories from remote host to local\n",
      "                        host\n",
      "    remote              Listing and testing remote configurations\n",
      "    execute             Execute a packages task\n",
      "    kill                Stop the execution of running task\n",
      "    purge               Remove local or remote tasks\n",
      "    config              Read and write sos configuration files\n",
      "    convert             Convert between .sos, .ipynb and other formats\n",
      "    remove              Remove specified files and/or their signatures\n",
      "\n",
      "Use 'sos cmd -h' for details about each subcommand. Please contact Bo Peng\n",
      "(bpeng at mdanderson.org) if you have any question.\n"
     ]
    }
   ],
   "source": [
    "!sos -h"
   ]
  },
  {
   "cell_type": "markdown",
   "metadata": {
    "kernel": "SoS"
   },
   "source": [
    "to get a list of subcommands with brief descriptions and\n",
    "```bash\n",
    "sos subcommand -h\n",
    "```\n",
    "to get detailed description of a particular subcommand."
   ]
  },
  {
   "cell_type": "markdown",
   "metadata": {
    "kernel": "SoS"
   },
   "source": [
    "## Command `sos-runner`"
   ]
  },
  {
   "cell_type": "markdown",
   "metadata": {
    "kernel": "SoS"
   },
   "source": [
    "Command `sos-runner` is a shortcut for ``sos run`` so\n",
    "\n",
    "```bash\n",
    "% sos-runner script\n",
    "```\n",
    "\n",
    "is equivalent to\n",
    "\n",
    "```bash\n",
    "% sos run script\n",
    "```\n",
    "\n",
    "This allows a SoS script to be executed directly if it is executable with shebang line\n",
    "\n",
    "```\n",
    "#!/usr/bin/env sos-runner\n",
    "```"
   ]
  },
  {
   "cell_type": "markdown",
   "metadata": {
    "kernel": "SoS"
   },
   "source": [
    "## Workflow Execution"
   ]
  },
  {
   "cell_type": "markdown",
   "metadata": {
    "kernel": "SoS"
   },
   "source": [
    "### subcommand `run`"
   ]
  },
  {
   "cell_type": "code",
   "execution_count": 2,
   "metadata": {
    "kernel": "SoS",
    "output_cache": "[{\"name\":\"stdout\",\"text\":\"usage: sos run [-h] [-j JOBS] [-c CONFIG_FILE] [-t FILE [FILE ...]]\\n               [-b [BIN_DIR [BIN_DIR ...]]] [-q QUEUE] [-n] [-s SIGMODE]\\n               [-d [DAG]] [-v {0,1,2,3,4}]\\n               SCRIPT [WORKFLOW]\\n\\nExecute default or specified workflow defined in script\\n\\npositional arguments:\\n  SCRIPT                A SoS script that defines one or more workflows. The\\n                        script can be a filename or a URL from which the\\n                        content of a SoS will be read. If a valid file cannot\\n                        be located or downloaded, SoS will search for the\\n                        script in a search path specified by variable\\n                        `sos_path` defined in the global SoS configuration\\n                        file (~/.sos/config.yml).\\n  WORKFLOW              Name of the workflow to execute. This option can be\\n                        ignored if the script defines a default workflow (with\\n                        no name or with name `default`) or defines only a\\n                        single workflow. A subworkflow or a combined workflow\\n                        can also be specified, where a subworkflow executes a\\n                        subset of workflow (`name_steps` where `steps` can be\\n                        `n` (a step `n`), `:n` (up to step `n`), `n:m` (from\\n                        step `n` to `m`), and `n:` (from step `n`)), and a\\n                        combined workflow executes to multiple (sub)workflows\\n                        combined by `+` (e.g. `A_0+B+C`).\\n\\noptional arguments:\\n  -h, --help            show this help message and exit\\n  -j JOBS               Number of concurrent process allowed. A workflow is by\\n                        default executed sequentially (-j 1). If a greater\\n                        than 1 number is specified SoS will execute the\\n                        workflow in parallel mode and execute up to specified\\n                        processes concurrently. These include looped processes\\n                        within a step (with runtime option `concurrent=True`)\\n                        and steps with non-missing required files.\\n  -c CONFIG_FILE        A configuration file in the format of YAML/JSON. The\\n                        content of the configuration file will be available as\\n                        a dictionary CONF in the SoS script being executed.\\n  -t FILE [FILE ...]    One of more files or alias of other targets that will\\n                        be the target of execution. If specified, SoS will\\n                        execute only part of a workflow or multiple workflows\\n                        or auxiliary steps to generate specified targets.\\n  -b [BIN_DIR [BIN_DIR ...]]\\n                        Extra directories in which SoS will look for\\n                        executables before standard $PATH. This option\\n                        essentially prefix $PATH with these directories. Note\\n                        that the default value '~/.sos/bin' is by convention a\\n                        default directory for commands that are installed by\\n                        SoS. You can use option '-b' without value to disallow\\n                        commands under ~/.sos/bin.\\n  -q QUEUE              Task-processing queue. SoS by default uses a local\\n                        multiprocessing queue where tasks are executed by\\n                        different processes. Supported task queues include a\\n                        'rq' engine where tasks will be distributed to one or\\n                        more rq-workers with assistance from a redis server,\\n                        and a 'celery' quque where tasks will be distributed\\n                        to celery workers.\\n\\nRun mode options:\\n  Control how sos scirpt is executed.\\n\\n  -n                    Execute a workflow without executing any actions. This\\n                        can be used to check the syntax of a SoS file.\\n  -s SIGMODE            How runtime signature would be handled, which can be\\n                        \\\"default\\\" (save and use signature, default mode in\\n                        batch mode), \\\"ignore\\\" (ignore runtime signature,\\n                        default mode in interactive mode), \\\"force\\\" (ignore\\n                        existing signature and overwrite them while executing\\n                        the workflow), \\\"build\\\" (build new or overwrite\\n                        existing signature from existing environment and\\n                        output files), and \\\"assert\\\" for validating existing\\n                        files against their signatures. Please refer to online\\n                        documentation for details about the use of runtime\\n                        signatures.\\n\\nOutput options:\\n  Output of workflow\\n\\n  -d [DAG]              Output Direct Acyclic Graph (DAGs) in graphiviz .dot\\n                        format. An exntesion of \\\".dot\\\" would be added\\n                        automatically. Because DAG could change during the\\n                        execution of workflow, multiple DAGs could be outputed\\n                        with names $FILE_1.dot, $FILE_2.dot. If this option is\\n                        specified without a name, the DAG would be wrritten to\\n                        the standard output.\\n  -v {0,1,2,3,4}        Output error (0), warning (1), info (2), debug (3) and\\n                        trace (4) information to standard output (default to\\n                        2).\\n\\nArbitrary parameters defined by the [parameters] step of the script, and\\n[parameters] steps of other scripts if nested workflows are defined in other\\nSoS files (option `source`). The name, default and type of the parameters are\\nspecified in the script. Single value parameters should be passed using option\\n`--name value` and multi-value parameters should be passed using option\\n`--name value1 value2`.\\n\",\"output_type\":\"stream\"}]"
   },
   "outputs": [
    {
     "name": "stdout",
     "output_type": "stream",
     "text": [
      "usage: sos run [-h] [-j JOBS] [-J EXTERNAL_JOBS] [-c CONFIG_FILE]\n",
      "               [-t FILE [FILE ...]] [-b [BIN_DIR [BIN_DIR ...]]] [-q [QUEUE]]\n",
      "               [-w] [-W] [-r [HOST]] [-n] [-s SIGMODE] [-d [DAG]]\n",
      "               [-p [REPORT]] [-v {0,1,2,3,4}]\n",
      "               SCRIPT [WORKFLOW]\n",
      "\n",
      "Execute default or specified workflow defined in script\n",
      "\n",
      "positional arguments:\n",
      "  SCRIPT                A SoS script that defines one or more workflows, in\n",
      "                        format .sos or .ipynb. The script can be a filename or\n",
      "                        a URL from which the content of a SoS will be read. If\n",
      "                        a valid file cannot be located or downloaded, SoS will\n",
      "                        search for the script, with specified name, and with\n",
      "                        added extension .sos and .ipynb, in a search path\n",
      "                        specified by variable `sos_path` defined in the global\n",
      "                        SoS configuration file (~/.sos/config.yml).\n",
      "  WORKFLOW              Name of the workflow to execute. This option can be\n",
      "                        ignored if the script defines a default workflow (with\n",
      "                        no name or with name `default`) or defines only a\n",
      "                        single workflow. A subworkflow or a combined workflow\n",
      "                        can also be specified, where a subworkflow executes a\n",
      "                        subset of workflow (`name_steps` where `steps` can be\n",
      "                        `n` (a step `n`), `:n` (up to step `n`), `n:m` (from\n",
      "                        step `n` to `m`), and `n:` (from step `n`)), and a\n",
      "                        combined workflow executes to multiple (sub)workflows\n",
      "                        combined by `+` (e.g. `A_0+B+C`).\n",
      "\n",
      "optional arguments:\n",
      "  -h, --help            show this help message and exit\n",
      "  -j JOBS               Maximum number of worker processes for the execution\n",
      "                        of steps in a workflow and substeps in a step (with\n",
      "                        input option concurrent), default to half of number of\n",
      "                        CPUs\n",
      "  -J EXTERNAL_JOBS      Maximum number of externally running tasks. This\n",
      "                        option overrides option \"max_running_jobs\" of a task\n",
      "                        queue (option -q) so that you can, for example, submit\n",
      "                        one job at a time (with -J 1) to test the task queue.\n",
      "  -c CONFIG_FILE        A configuration file in the format of YAML/JSON. The\n",
      "                        content of the configuration file will be available as\n",
      "                        a dictionary CONF in the SoS script being executed.\n",
      "  -t FILE [FILE ...]    One of more files or alias of other targets that will\n",
      "                        be the target of execution. If specified, SoS will\n",
      "                        execute only part of a workflow or multiple workflows\n",
      "                        or auxiliary steps to generate specified targets.\n",
      "  -b [BIN_DIR [BIN_DIR ...]]\n",
      "                        Extra directories in which SoS will look for\n",
      "                        executables before standard $PATH. This option\n",
      "                        essentially prefix $PATH with these directories. Note\n",
      "                        that the default value '~/.sos/bin' is by convention a\n",
      "                        default directory for commands that are installed by\n",
      "                        SoS. You can use option '-b' without value to disallow\n",
      "                        commands under ~/.sos/bin.\n",
      "  -q [QUEUE]            host (server) or job queues to execute all tasks in\n",
      "                        the workflow. The queue can be defined in global or\n",
      "                        local sos configuration file, or a file specified by\n",
      "                        option --config. A host is assumed to be a remote\n",
      "                        machine with process type if no configuration is\n",
      "                        found. If this option is specified without value, SoS\n",
      "                        will list all configured queues and exit.\n",
      "  -w                    Wait for the completion of external tasks regardless\n",
      "                        of the setting of individual task queue.\n",
      "  -W                    Do not wait for the completion of external tasks and\n",
      "                        quit SoS if all tasks are being executed by external\n",
      "                        task queues. This option overrides the default wait\n",
      "                        setting of task queues.\n",
      "  -r [HOST]             Execute the workflow in specified remote host, which\n",
      "                        should be defined under key host of sos configuration\n",
      "                        files (preferrably in ~/.sos/hosts.yml). This option\n",
      "                        basically copy the workflow to remote host and invoke\n",
      "                        sos command there. No path translation and\n",
      "                        input/output file synchronization will be performed\n",
      "                        before or after the execution of the workflow.\n",
      "\n",
      "Run mode options:\n",
      "  Control how sos scirpt is executed.\n",
      "\n",
      "  -n                    Execute a workflow in dryrun mode. Please check\n",
      "                        command sos dryrun for details of the dryrun mode.\n",
      "  -s SIGMODE            How runtime signature would be handled, which can be\n",
      "                        \"default\" (save and use signature, default mode in\n",
      "                        batch mode), \"ignore\" (ignore runtime signature,\n",
      "                        default mode in interactive mode), \"force\" (ignore\n",
      "                        existing signature and overwrite them while executing\n",
      "                        the workflow), \"build\" (build new or overwrite\n",
      "                        existing signature from existing environment and\n",
      "                        output files), and \"assert\" for validating existing\n",
      "                        files against their signatures. Please refer to online\n",
      "                        documentation for details about the use of runtime\n",
      "                        signatures.\n",
      "\n",
      "Output options:\n",
      "  Output of workflow\n",
      "\n",
      "  -d [DAG]              Output Direct Acyclic Graph (DAGs) in graphiviz .dot\n",
      "                        format. Because DAG and status of nodes will change\n",
      "                        during the execution of workflow, multiple DAGs will\n",
      "                        be written to the specified file with names\n",
      "                        {workflow}_1, {workflow}_2 etc. The dot file would be\n",
      "                        named {script_name}_{timestamp}.dot unless a separate\n",
      "                        filename is specified.\n",
      "  -p [REPORT]           Output a report that summarizes the execution of the\n",
      "                        workflow after the completion of the execution. This\n",
      "                        includes command line, steps executed, tasks executed,\n",
      "                        CPU/memory of tasks, and DAG if option -d is also\n",
      "                        specified. The report will by be named\n",
      "                        {script_name}_{timestamp}.html unless a separate\n",
      "                        filename is specified.\n",
      "  -v {0,1,2,3,4}        Output error (0), warning (1), info (2), debug (3) and\n",
      "                        trace (4) information to standard output (default to\n",
      "                        2).\n",
      "\n",
      "Arbitrary parameters defined by the [parameters] step of the script, and\n",
      "[parameters] steps of other scripts if nested workflows are defined in other\n",
      "SoS files (option `source`). The name, default and type of the parameters are\n",
      "specified in the script. Single value parameters should be passed using option\n",
      "`--name value` and multi-value parameters should be passed using option\n",
      "`--name value1 value2`.\n"
     ]
    }
   ],
   "source": [
    "!sos run -h"
   ]
  },
  {
   "cell_type": "markdown",
   "metadata": {
    "kernel": "SoS"
   },
   "source": [
    "Please refer to section [SoS Syntax](SoS_Syntax.html) of the documentation and the tutorial on [Execution of Workflow](../tutorials/Execution_of_Workflow.html) for details about this command."
   ]
  },
  {
   "cell_type": "markdown",
   "metadata": {
    "kernel": "SoS"
   },
   "source": [
    "### subcommand `resume`"
   ]
  },
  {
   "cell_type": "code",
   "execution_count": 3,
   "metadata": {
    "kernel": "SoS"
   },
   "outputs": [
    {
     "name": "stdout",
     "output_type": "stream",
     "text": [
      "usage: sos resume [-h] [-s] [-w] [-W] [-v {0,1,2,3,4}] [-j JOBS]\n",
      "                  [-J EXTERNAL_JOBS] [-r __REMOTE__]\n",
      "                  [workflow_id]\n",
      "\n",
      "Resume the execution or list status of suspended workflows\n",
      "\n",
      "positional arguments:\n",
      "  workflow_id           First few characters of the ID of a workflow as long\n",
      "                        as it uniquely identifies the workflow. The last\n",
      "                        executed workflow will be resumed if no workflow is\n",
      "                        specified.\n",
      "\n",
      "optional arguments:\n",
      "  -h, --help            show this help message and exit\n",
      "  -s, --status          Return the status of all or specified workflows\n",
      "                        without resuming them. This option will list status of\n",
      "                        all pending tasks.\n",
      "  -w                    Wait for the completion of external tasks regardless\n",
      "                        of the setting of individual task queue.\n",
      "  -W                    Do not wait for the completion of external tasks and\n",
      "                        quit SoS if all tasks are being executed by external\n",
      "                        task queues. This option overrides the default wait\n",
      "                        setting of task queues.\n",
      "  -v {0,1,2,3,4}, --verbosity {0,1,2,3,4}\n",
      "                        Output error (0), warning (1), info (2), debug (3) and\n",
      "                        trace (4) information to standard output (default to\n",
      "                        2).\n",
      "  -j JOBS               Maximum number of worker processes for the execution\n",
      "                        of the workflow if the workflow can be executed in\n",
      "                        parallel (namely having multiple starting points or\n",
      "                        execution branches).\n",
      "  -J EXTERNAL_JOBS      Maximum number of externally running tasks. This\n",
      "                        option overrides option \"max_running_jobs\" of a task\n",
      "                        queue (option -q) so that you can, for example, submit\n",
      "                        one job at a time (with -J 1) to test the task queue.\n",
      "  -r __REMOTE__         Resume workflow that was executed on remote host (sos\n",
      "                        run with option -r)\n"
     ]
    }
   ],
   "source": [
    "!sos resume -h"
   ]
  },
  {
   "cell_type": "markdown",
   "metadata": {
    "kernel": "SoS"
   },
   "source": [
    "### subcommand `dryrun`\n",
    "\n",
    "This command execute the script in dryrun mode. It is alias to command `sos run -n`."
   ]
  },
  {
   "cell_type": "code",
   "execution_count": 4,
   "metadata": {
    "kernel": "SoS"
   },
   "outputs": [
    {
     "name": "stdout",
     "output_type": "stream",
     "text": [
      "usage: sos dryrun [-h] [-c CONFIG_FILE] [-t FILES [FILES ...]] [-q [QUEUE]]\n",
      "                  [-d [DAG]] [-v {0,1,2,3,4}]\n",
      "                  SCRIPT [WORKFLOW]\n",
      "\n",
      "Execute workflow in dryrun mode. This mode is identical to run mode except\n",
      "that 1). Actions might behavior differently. In particular, script-running\n",
      "steps would print instead of execute script. 2). Steps will generate empty\n",
      "output files if specified output do not exist after execution. 3). Signature\n",
      "mode is set to ignore. 4). Option -q is ignored so all tasks are executed\n",
      "locally. 5). Tasks are generated but not executed.\n",
      "\n",
      "positional arguments:\n",
      "  SCRIPT                A SoS script that defines one or more workflows, in\n",
      "                        format .sos or .ipynb. The script can be a filename or\n",
      "                        a URL from which the content of a SoS will be read. If\n",
      "                        a valid file cannot be located or downloaded, SoS will\n",
      "                        search for the script, with specified name, and with\n",
      "                        added extension .sos and .ipynb, in a search path\n",
      "                        specified by variable `sos_path` defined in the global\n",
      "                        SoS configuration file (~/.sos/config.yml).\n",
      "  WORKFLOW              Name of the workflow to execute. This option can be\n",
      "                        ignored if the script defines a default workflow (with\n",
      "                        no name or with name `default`) or defines only a\n",
      "                        single workflow. A subworkflow or a combined workflow\n",
      "                        can also be specified, where a subworkflow executes a\n",
      "                        subset of workflow (`name_steps` where `steps` can be\n",
      "                        `n` (a step `n`), `:n` (up to step `n`), `n:m` (from\n",
      "                        step `n` to `m`), and `n:` (from step `n`)), and a\n",
      "                        combined workflow executes to multiple (sub)workflows\n",
      "                        combined by `+` (e.g. `A_0+B+C`).\n",
      "\n",
      "optional arguments:\n",
      "  -h, --help            show this help message and exit\n",
      "  -c CONFIG_FILE        A configuration file in the format of YAML/JSON. The\n",
      "                        content of the configuration file will be available as\n",
      "                        a dictionary CONF in the SoS script being executed.\n",
      "  -t FILES [FILES ...]  One of more files or alias of other targets that will\n",
      "                        be the target of execution. If specified, SoS will\n",
      "                        execute only part of a workflow or multiple workflows\n",
      "                        or auxiliary steps to generate specified targets.\n",
      "  -q [QUEUE]            host (server) or job queues to execute all tasks in\n",
      "                        the workflow. The queue can be defined in global or\n",
      "                        local sos configuration file, or a file specified by\n",
      "                        option --config. A host is assumed to be a remote\n",
      "                        machine with process type if no configuration is\n",
      "                        found. If this option is specified without value, SoS\n",
      "                        will list all configured queues and exit.\n",
      "\n",
      "Output options:\n",
      "  Output of workflow\n",
      "\n",
      "  -d [DAG]              Output Direct Acyclic Graph (DAGs) in graphiviz .dot\n",
      "                        format. An exntesion of \".dot\" would be added\n",
      "                        automatically. Because DAG could change during the\n",
      "                        execution of workflow, multiple DAGs could be outputed\n",
      "                        with names $FILE_1.dot, $FILE_2.dot. If this option is\n",
      "                        specified without a name, the DAG would be wrritten to\n",
      "                        the standard output.\n",
      "  -v {0,1,2,3,4}        Output error (0), warning (1), info (2), debug (3) and\n",
      "                        trace (4) information to standard output (default to\n",
      "                        2).\n",
      "\n",
      "Arbitrary parameters defined by the [parameters] step of the script, and\n",
      "[parameters] steps of other scripts if nested workflows are defined in other\n",
      "SoS files (option `source`). The name, default and type of the parameters are\n",
      "specified in the script. Single value parameters should be passed using option\n",
      "`--name value` and multi-value parameters should be passed using option\n",
      "`--name value1 value2`.\n"
     ]
    }
   ],
   "source": [
    "!sos dryrun -h"
   ]
  },
  {
   "cell_type": "markdown",
   "metadata": {
    "kernel": "SoS"
   },
   "source": [
    "Please refer to the tutorial on [Execution of Workflow](../tutorials/Execution_of_Workflow.html) for details about this command."
   ]
  },
  {
   "cell_type": "markdown",
   "metadata": {
    "kernel": "SoS"
   },
   "source": [
    "## Task Management"
   ]
  },
  {
   "cell_type": "markdown",
   "metadata": {
    "kernel": "SoS",
    "output_cache": "[]"
   },
   "source": [
    "### subcommand `remote`"
   ]
  },
  {
   "cell_type": "code",
   "execution_count": 5,
   "metadata": {
    "kernel": "SoS"
   },
   "outputs": [
    {
     "name": "stdout",
     "output_type": "stream",
     "text": [
      "usage: sos remote [-h] [-c CONFIG] [-p PASSWORD] [-v {0,1,2,3,4}]\n",
      "                  {list,status,setup,test} [hosts [hosts ...]]\n",
      "\n",
      "Listing and testing remote configurations\n",
      "\n",
      "positional arguments:\n",
      "  {list,status,setup,test}\n",
      "                        List, check status, setup, or test configuration of\n",
      "                        all or specified remote hosts\n",
      "  hosts                 Hosts to be checked or tested. All hosts defined in\n",
      "                        SoS configurations will be included if unspecified. As\n",
      "                        a special case for \"sos remote setup\", an address is\n",
      "                        acceptable even if it is defined in configuration\n",
      "                        file.\n",
      "\n",
      "optional arguments:\n",
      "  -h, --help            show this help message and exit\n",
      "  -c CONFIG, --config CONFIG\n",
      "                        A configuration file with host definitions, in case\n",
      "                        the definitions are not defined in global sos\n",
      "                        config.yml files.\n",
      "  -p PASSWORD, --password PASSWORD\n",
      "                        Password used to copy public key to remote hosts. You\n",
      "                        will be prompted for a password if a password is\n",
      "                        needed and is not passed from command line. The same\n",
      "                        password will be used for all specified hosts so you\n",
      "                        will need to use separate setup commands for hosts\n",
      "                        with different passwords.\n",
      "  -v {0,1,2,3,4}, --verbosity {0,1,2,3,4}\n",
      "                        Output error (0), warning (1), info (2), debug (3) and\n",
      "                        trace (4) information to standard output (default to\n",
      "                        2).\n"
     ]
    }
   ],
   "source": [
    "!sos remote -h"
   ]
  },
  {
   "cell_type": "markdown",
   "metadata": {
    "kernel": "SoS"
   },
   "source": [
    "### subcommand `execute`"
   ]
  },
  {
   "cell_type": "code",
   "execution_count": 6,
   "metadata": {
    "kernel": "SoS",
    "output_cache": "[{\"output_type\":\"stream\",\"text\":\"usage: sos execute [-h] [-s SIGMODE] [-v {0,1,2,3,4}] [-q QUEUE] [-c CONFIG]\\n                   tasks [tasks ...]\\n\\nExecute a packages task\\n\\npositional arguments:\\n  tasks                 IDs of the task.\\n\\noptional arguments:\\n  -h, --help            show this help message and exit\\n  -s SIGMODE            How runtime signature would be handled, which can be\\n                        \\\"default\\\" (save and use signature, default mode in\\n                        batch mode), \\\"ignore\\\" (ignore runtime signature,\\n                        default mode in interactive mode), \\\"force\\\" (ignore\\n                        existing signature and overwrite them while executing\\n                        the workflow), \\\"build\\\" (build new or overwrite\\n                        existing signature from existing environment and\\n                        output files), and \\\"assert\\\" for validating existing\\n                        files against their signatures. Please refer to online\\n                        documentation for details about the use of runtime\\n                        signatures.\\n  -v {0,1,2,3,4}        Output error (0), warning (1), info (2), debug (3) and\\n                        trace (4) information to standard output (default to\\n                        2).\\n  -q QUEUE, --queue QUEUE\\n                        Execute the task on the specified tasks queue or\\n                        remote host if the tasks . The queue must be defined\\n                        in SoS config file (system default or specified with\\n                        option --config). SoS would perform necessary file\\n                        synchronization and path translation according to\\n                        queue configuration, and send the task to appropriate\\n                        queue for execution. Please check SoS documentation\\n                        for details.\\n  -c CONFIG, --config CONFIG\\n                        A configuration file with host definitions, in case\\n                        the definitions are not defined in global or local sos\\n                        config.yml files.\\n\",\"name\":\"stdout\"}]"
   },
   "outputs": [
    {
     "name": "stdout",
     "output_type": "stream",
     "text": [
      "usage: sos execute [-h] [-s SIGMODE] [-v {0,1,2,3,4}] [-n] [-q QUEUE]\n",
      "                   [-c CONFIG] [-w]\n",
      "                   tasks [tasks ...]\n",
      "\n",
      "Execute a packages task\n",
      "\n",
      "positional arguments:\n",
      "  tasks                 IDs of the task.\n",
      "\n",
      "optional arguments:\n",
      "  -h, --help            show this help message and exit\n",
      "  -s SIGMODE            How runtime signature would be handled, which can be\n",
      "                        \"default\" (save and use signature, default mode in\n",
      "                        batch mode), \"ignore\" (ignore runtime signature,\n",
      "                        default mode in interactive mode), \"force\" (ignore\n",
      "                        existing signature and overwrite them while executing\n",
      "                        the workflow), \"build\" (build new or overwrite\n",
      "                        existing signature from existing environment and\n",
      "                        output files), and \"assert\" for validating existing\n",
      "                        files against their signatures. Please refer to online\n",
      "                        documentation for details about the use of runtime\n",
      "                        signatures.\n",
      "  -v {0,1,2,3,4}        Output error (0), warning (1), info (2), debug (3) and\n",
      "                        trace (4) information to standard output (default to\n",
      "                        2).\n",
      "  -n, --dryrun          Dryrun mode, which will cause actions to print scripts\n",
      "                        instead of executing them.\n",
      "  -q QUEUE, --queue QUEUE\n",
      "                        Check the status of job on specified tasks queue or\n",
      "                        remote host if the tasks . The queue can be defined in\n",
      "                        global or local sos configuration file, or a file\n",
      "                        specified by option --config. A host is assumed to be\n",
      "                        a remote machine with process type if no configuration\n",
      "                        is found.\n",
      "  -c CONFIG, --config CONFIG\n",
      "                        A configuration file with host definitions, in case\n",
      "                        the definitions are not defined in global sos\n",
      "                        config.yml files.\n",
      "  -w, --wait            Wait for the completion of the task, and retrieve job\n",
      "                        results if needed after the completion of the task.\n",
      "                        This option is only valid with the specification of\n",
      "                        the -q option.\n"
     ]
    }
   ],
   "source": [
    "!sos execute -h"
   ]
  },
  {
   "cell_type": "markdown",
   "metadata": {
    "kernel": "SoS",
    "output_cache": "[]"
   },
   "source": [
    "### subcommand `status`"
   ]
  },
  {
   "cell_type": "code",
   "execution_count": 7,
   "metadata": {
    "kernel": "SoS",
    "output_cache": "[{\"output_type\":\"stream\",\"text\":\"usage: sos status [-h] [-q QUEUE] [-c CONFIG] [-v {0,1,2,3,4}]\\n                  [tasks [tasks ...]]\\n\\nCheck the status of specified tasks\\n\\npositional arguments:\\n  tasks                 ID of the task. All tasks will be checked if\\n                        unspecified. There is no need to specify compelte task\\n                        IDs because SoS will match specified name with tasks\\n                        starting with these names.\\n\\noptional arguments:\\n  -h, --help            show this help message and exit\\n  -q QUEUE, --queue QUEUE\\n                        Check the status of job on specified tasks queue or\\n                        remote host if the tasks . The queue must be defined\\n                        in SoS config file. Please check SoS documentation for\\n                        details. Note that this parameter must be specified to\\n                        check the status of jobs if they are executed on that\\n                        host.\\n  -c CONFIG, --config CONFIG\\n                        A configuration file with host definitions, in case\\n                        the definitions are not defined in global or local sos\\n                        config.yml files.\\n  -v {0,1,2,3,4}        Output error (0), warning (1), info (2), debug (3) and\\n                        trace (4) information to standard output (default to\\n                        2).\\n\",\"name\":\"stdout\"}]"
   },
   "outputs": [
    {
     "name": "stdout",
     "output_type": "stream",
     "text": [
      "usage: sos status [-h] [-q QUEUE] [-c CONFIG] [-v {0,1,2,3,4}]\n",
      "                  [-t [TAGS [TAGS ...]]] [-s [STATUS [STATUS ...]]]\n",
      "                  [--age AGE] [--html]\n",
      "                  [tasks [tasks ...]]\n",
      "\n",
      "Check the status of specified tasks\n",
      "\n",
      "positional arguments:\n",
      "  tasks                 ID of the task. All tasks will be checked if\n",
      "                        unspecified. There is no need to specify compelete\n",
      "                        task IDs because SoS will match specified name with\n",
      "                        tasks starting with these names.\n",
      "\n",
      "optional arguments:\n",
      "  -h, --help            show this help message and exit\n",
      "  -q QUEUE, --queue QUEUE\n",
      "                        Check the status of job on specified tasks queue or\n",
      "                        remote host if the tasks . The queue can be defined in\n",
      "                        global or local sos configuration file, or a file\n",
      "                        specified by option --config. A host is assumed to be\n",
      "                        a remote machine with process type if no configuration\n",
      "                        is found.\n",
      "  -c CONFIG, --config CONFIG\n",
      "                        A configuration file with host definitions, in case\n",
      "                        the definitions are not defined in global sos\n",
      "                        config.yml files.\n",
      "  -v {0,1,2,3,4}        Output error (0), warning (1), info (2), debug (3) and\n",
      "                        trace (4) information to standard output (default to\n",
      "                        2).\n",
      "  -t [TAGS [TAGS ...]], --tags [TAGS [TAGS ...]]\n",
      "                        Only list tasks with one of the specified tags.\n",
      "  -s [STATUS [STATUS ...]], --status [STATUS [STATUS ...]]\n",
      "                        Display tasks with one of the specified status.\n",
      "  --age AGE             Limit to tasks that are created more than (default) or\n",
      "                        within specified age. Value of this parameter can be\n",
      "                        in units s (second), m (minute), h (hour), or d (day,\n",
      "                        default), or in the foramt of HH:MM:SS, with optional\n",
      "                        prefix + for older (default) and - for newer than\n",
      "                        specified age.\n",
      "  --html                Output results in HTML format. This option will\n",
      "                        override option verbosity and output detailed status\n",
      "                        information in HTML tables and figures.\n"
     ]
    }
   ],
   "source": [
    "!sos status -h"
   ]
  },
  {
   "cell_type": "markdown",
   "metadata": {
    "kernel": "SoS",
    "output_cache": "[]"
   },
   "source": [
    "### subcommand `kill`"
   ]
  },
  {
   "cell_type": "code",
   "execution_count": 8,
   "metadata": {
    "kernel": "SoS",
    "output_cache": "[]"
   },
   "outputs": [
    {
     "name": "stdout",
     "output_type": "stream",
     "text": [
      "usage: sos kill [-h] [-a] [-q QUEUE] [-t [TAGS [TAGS ...]]] [-c CONFIG]\n",
      "                [-v {0,1,2,3,4}]\n",
      "                [tasks [tasks ...]]\n",
      "\n",
      "Stop the execution of running task\n",
      "\n",
      "positional arguments:\n",
      "  tasks                 IDs of the tasks that will be killed. There is no need\n",
      "                        to specify compelete task IDs because SoS will match\n",
      "                        specified name with tasks starting with these names.\n",
      "\n",
      "optional arguments:\n",
      "  -h, --help            show this help message and exit\n",
      "  -a, --all             Kill all tasks in local or specified remote task queue\n",
      "  -q QUEUE, --queue QUEUE\n",
      "                        Kill jobs on specified tasks queue or remote host if\n",
      "                        the tasks . The queue can be defined in global or\n",
      "                        local sos configuration file, or a file specified by\n",
      "                        option --config. A host is assumed to be a remote\n",
      "                        machine with process type if no configuration is\n",
      "                        found.\n",
      "  -t [TAGS [TAGS ...]], --tags [TAGS [TAGS ...]]\n",
      "                        Only kill tasks with one of the specified tags.\n",
      "  -c CONFIG, --config CONFIG\n",
      "                        A configuration file with host definitions, in case\n",
      "                        the definitions are not defined in global sos\n",
      "                        config.yml files.\n",
      "  -v {0,1,2,3,4}, --verbosity {0,1,2,3,4}\n",
      "                        Output error (0), warning (1), info (2), debug (3) and\n",
      "                        trace (4) information to standard output (default to\n",
      "                        2).\n"
     ]
    }
   ],
   "source": [
    "!sos kill -h"
   ]
  },
  {
   "cell_type": "markdown",
   "metadata": {
    "kernel": "SoS"
   },
   "source": [
    "### subcommand `purge`"
   ]
  },
  {
   "cell_type": "code",
   "execution_count": 9,
   "metadata": {
    "kernel": "SoS",
    "scrolled": false
   },
   "outputs": [
    {
     "name": "stdout",
     "output_type": "stream",
     "text": [
      "usage: sos purge [-h] [-a] [--age AGE] [-s STATUS [STATUS ...]]\n",
      "                 [-t [TAGS [TAGS ...]]] [-q QUEUE] [-c CONFIG]\n",
      "                 [-v {0,1,2,3,4}]\n",
      "                 [tasks [tasks ...]]\n",
      "\n",
      "Remove local or remote tasks\n",
      "\n",
      "positional arguments:\n",
      "  tasks                 ID of the tasks to be removed. There is no need to\n",
      "                        specify compelete task IDs because SoS will match\n",
      "                        specified name with tasks starting with these names.\n",
      "                        If no task ID is specified, all tasks related to\n",
      "                        specified workflows (option -w) will be removed.\n",
      "\n",
      "optional arguments:\n",
      "  -h, --help            show this help message and exit\n",
      "  -a, --all             Clear all task information on local or specified\n",
      "                        remote task queue, including tasks created by other\n",
      "                        workflows.\n",
      "  --age AGE             Limit to tasks that are created more than (default) or\n",
      "                        within specified age. Value of this parameter can be\n",
      "                        in units s (second), m (minute), h (hour), or d (day,\n",
      "                        default), or in the foramt of HH:MM:SS, with optional\n",
      "                        prefix + for older (default) and - for newer than\n",
      "                        specified age.\n",
      "  -s STATUS [STATUS ...], --status STATUS [STATUS ...]\n",
      "                        Only remove tasks with specified status, which can be\n",
      "                        pending, submitted, running, completed, failed,\n",
      "                        aborted, and signature-mismatch. One of more status\n",
      "                        can be specified.\n",
      "  -t [TAGS [TAGS ...]], --tags [TAGS [TAGS ...]]\n",
      "                        Only remove tasks with one of the specified tags.\n",
      "  -q QUEUE, --queue QUEUE\n",
      "                        Remove tasks on specified tasks queue or remote host\n",
      "                        if the tasks . The queue can be defined in global or\n",
      "                        local sos configuration file, or a file specified by\n",
      "                        option --config. A host is assumed to be a remote\n",
      "                        machine with process type if no configuration is\n",
      "                        found.\n",
      "  -c CONFIG, --config CONFIG\n",
      "                        A configuration file with host definitions, in case\n",
      "                        the definitions are not defined in global sos\n",
      "                        config.yml files.\n",
      "  -v {0,1,2,3,4}        Output error (0), warning (1), info (2), debug (3) and\n",
      "                        trace (4) information to standard output (default to\n",
      "                        2).\n"
     ]
    }
   ],
   "source": [
    "!sos purge -h"
   ]
  },
  {
   "cell_type": "markdown",
   "metadata": {
    "kernel": "SoS"
   },
   "source": [
    "### subcommand `pull`"
   ]
  },
  {
   "cell_type": "code",
   "execution_count": 10,
   "metadata": {
    "kernel": "SoS",
    "scrolled": true
   },
   "outputs": [
    {
     "name": "stdout",
     "output_type": "stream",
     "text": [
      "usage: sos pull [-h] [-f HOST] [-c CONFIG] [-v {0,1,2,3,4}] items [items ...]\n",
      "\n",
      "Pull files or directories from remote host to local host\n",
      "\n",
      "positional arguments:\n",
      "  items                 Files or directories to be retrieved from remote host.\n",
      "                        The files should be relative to local file system. The\n",
      "                        files to retrieve are determined by \"path_map\"\n",
      "                        determined by \"paths\" definitions of local and remote\n",
      "                        hosts.\n",
      "\n",
      "optional arguments:\n",
      "  -h, --help            show this help message and exit\n",
      "  -f HOST, --from HOST  Remote host to which the files will be sent, which\n",
      "                        should be one of the hosts defined in sos\n",
      "                        configuration files.\n",
      "  -c CONFIG, --config CONFIG\n",
      "                        A configuration file with host definitions, in case\n",
      "                        the definitions are not defined in global sos\n",
      "                        config.yml files.\n",
      "  -v {0,1,2,3,4}, --verbosity {0,1,2,3,4}\n",
      "                        Output error (0), warning (1), info (2), debug (3) and\n",
      "                        trace (4) information to standard output (default to\n",
      "                        2).\n"
     ]
    }
   ],
   "source": [
    "!sos pull -h"
   ]
  },
  {
   "cell_type": "markdown",
   "metadata": {
    "kernel": "SoS"
   },
   "source": [
    "### subcommand `push`"
   ]
  },
  {
   "cell_type": "code",
   "execution_count": 11,
   "metadata": {
    "kernel": "SoS"
   },
   "outputs": [
    {
     "name": "stdout",
     "output_type": "stream",
     "text": [
      "usage: sos push [-h] [-t HOST] [-c CONFIG] [-v {0,1,2,3,4}] items [items ...]\n",
      "\n",
      "Push local files or directory to a remote host\n",
      "\n",
      "positional arguments:\n",
      "  items                 Files or directories to be sent to remote host. The\n",
      "                        location of remote files are determined by \"path_map\"\n",
      "                        determined by \"paths\" definitions of local and remote\n",
      "                        hosts.\n",
      "\n",
      "optional arguments:\n",
      "  -h, --help            show this help message and exit\n",
      "  -t HOST, --to HOST    Remote host to which the files will be sent, which\n",
      "                        should be one of the hosts defined in sos\n",
      "                        configuration files.\n",
      "  -c CONFIG, --config CONFIG\n",
      "                        A configuration file with host definitions, in case\n",
      "                        the definitions are not defined in global sos\n",
      "                        config.yml files.\n",
      "  -v {0,1,2,3,4}, --verbosity {0,1,2,3,4}\n",
      "                        Output error (0), warning (1), info (2), debug (3) and\n",
      "                        trace (4) information to standard output (default to\n",
      "                        2).\n"
     ]
    }
   ],
   "source": [
    "!sos push -h"
   ]
  },
  {
   "cell_type": "markdown",
   "metadata": {
    "kernel": "sos"
   },
   "source": [
    "## Project Management"
   ]
  },
  {
   "cell_type": "markdown",
   "metadata": {
    "kernel": "SoS"
   },
   "source": [
    "### subcommand `convert`"
   ]
  },
  {
   "cell_type": "code",
   "execution_count": 12,
   "metadata": {
    "kernel": "SoS"
   },
   "outputs": [
    {
     "name": "stdout",
     "output_type": "stream",
     "text": [
      "usage: sos convert [-h] [-v {0,1,2,3,4}]\n",
      "                   {sos-html,sos-term,sos-md,sos-ipynb,ipynb-sos,ipynb-html,ipynb-pdf,ipynb-md,ipynb-ipynb,rmd-ipynb}\n",
      "                   ...\n",
      "\n",
      "Converts .sos to various formats including .html for web display, to jupyter\n",
      "notebook (.ipynb), and to terminal for syntax highlighted viewing on terminal.\n",
      "It also allows converting from jupyter notebook (.ipynb) to sos script (.sos).\n",
      "\n",
      "optional arguments:\n",
      "  -h, --help            show this help message and exit\n",
      "  -v {0,1,2,3,4}, --verbosity {0,1,2,3,4}\n",
      "                        Output error (0), warning (1), info (2), debug (3) and\n",
      "                        trace (4) information to standard output (default to\n",
      "                        2).\n",
      "\n",
      "converters (name of converter is not needed from command line):\n",
      "  {sos-html,sos-term,sos-md,sos-ipynb,ipynb-sos,ipynb-html,ipynb-pdf,ipynb-md,ipynb-ipynb,rmd-ipynb}\n",
      "    sos-html            Convert sos file to html format with syntax\n",
      "                        highlighting, and save the output either to a HTML\n",
      "                        file or view it in a broaser.\n",
      "    sos-term            Write script to terminal with syntax highlighting.\n",
      "    sos-md              Convert SOS script to a markdown format with scripts\n",
      "                        quoted in markdown syntax.\n",
      "    sos-ipynb           Convert a sos script to Jupyter notebook (.ipynb) so\n",
      "                        that it can be opened by Jupyter notebook.\n",
      "    ipynb-sos           Export Jupyter notebook with a SoS kernel to a .sos\n",
      "                        file. The cells are presented in the .sos file as cell\n",
      "                        structure lines, which will be ignored if executed in\n",
      "                        batch mode\n",
      "    ipynb-html          Export Jupyter notebook with a SoS kernel to a .html\n",
      "                        file. Additional command line arguments are passed\n",
      "                        directly to command \"jupyter nbconvert --to html\" so\n",
      "                        please refer to nbconvert manual for available\n",
      "                        options.\n",
      "    ipynb-pdf           Export Jupyter notebook with a SoS kernel to a .pdf\n",
      "                        file. Additional command line arguments are passed\n",
      "                        directly to command \"jupyter nbconvert --to pdf\" so\n",
      "                        please refer to nbconvert manual for available\n",
      "                        options.\n",
      "    ipynb-md            Export Jupyter notebook with a SoS kernel to a\n",
      "                        markdown file. Additional command line arguments are\n",
      "                        passed directly to command \"jupyter nbconvert --to\n",
      "                        markdown\" so please refer to nbconvert manual for\n",
      "                        available options.\n",
      "    ipynb-ipynb         Export a Jupyter notebook with a non-SoS kernel to a\n",
      "                        SoS notebook with SoS kernel. A SoS notebook will\n",
      "                        simply be copied to the destination file.\n",
      "    rmd-ipynb           Export a Rmarkdown file kernel to a SoS notebook. It\n",
      "                        currently only handles code block and Markdown, and\n",
      "                        not inline expression.\n",
      "\n",
      "Extra command line argument could be specified to customize the style of html,\n",
      "markdown, and terminal output.\n"
     ]
    }
   ],
   "source": [
    "!sos convert -h"
   ]
  },
  {
   "cell_type": "markdown",
   "metadata": {
    "kernel": "SoS"
   },
   "source": [
    "Please refer to the [File Conversion](../tutorials/File_Conversion.html) tutorial for more details about this command."
   ]
  },
  {
   "cell_type": "markdown",
   "metadata": {
    "kernel": "SoS"
   },
   "source": [
    "### subcommand `config`"
   ]
  },
  {
   "cell_type": "code",
   "execution_count": 13,
   "metadata": {
    "kernel": "SoS"
   },
   "outputs": [
    {
     "name": "stdout",
     "output_type": "stream",
     "text": [
      "usage: sos config [-h] [-s | --hosts | -c CONFIG_FILE]\n",
      "                  [--get [OPTION [OPTION ...]] | --unset OPTION [OPTION ...] |\n",
      "                  --set KEY VALUE [KEY VALUE ...]] [-v {0,1,2,3,4}]\n",
      "\n",
      "Displays configurations in host, global, local, and user specified\n",
      "configuration files.\n",
      "\n",
      "optional arguments:\n",
      "  -h, --help            show this help message and exit\n",
      "  -s, --site            Set (--set) or unset (--unset) options in system site\n",
      "                        configuration file (${SOS}/site_config.yml).\n",
      "  --hosts               Set (--set) or unset (--unset) options in hosts\n",
      "                        (~/.sos/hosts.yml)\n",
      "  -c CONFIG_FILE, --config CONFIG_FILE\n",
      "                        Set (--set) or unset (--unset) options in user\n",
      "                        specified configuration file, or display options\n",
      "                        (--get) also in this file.\n",
      "  --get [OPTION [OPTION ...]]\n",
      "                        Display values of options that contain one of the\n",
      "                        specified words from all configuration files.\n",
      "  --unset OPTION [OPTION ...]\n",
      "                        Unset (remove) settings for specified options. The\n",
      "                        arguments of this option can be a single configuration\n",
      "                        option or a list of option. Wildcard characters are\n",
      "                        allowed to match more options (e.g. '*timeout', or '*'\n",
      "                        for all options, quotation is needed to avoid shell\n",
      "                        expansion).\n",
      "  --set KEY VALUE [KEY VALUE ...]\n",
      "                        --set KEY VALUE sets VALUE to variable KEY. The value\n",
      "                        can be any valid python expression (e.g. 5 for integer\n",
      "                        5 and '{\"c\": 2, \"d\": 1}' for a dictionary) with\n",
      "                        invalid expression (e.g. val without quote) considered\n",
      "                        as string. Syntax 'A.B=v' can be used to add {'B': v}\n",
      "                        to dictionary 'A', and --set KEY VALUE1 VALUE2 ...\n",
      "                        will create a list with multiple values.\n",
      "  -v {0,1,2,3,4}, --verbosity {0,1,2,3,4}\n",
      "                        Output error (0), warning (1), info (2), debug (3) and\n",
      "                        trace (4) information to standard output (default to\n",
      "                        2).\n"
     ]
    }
   ],
   "source": [
    "!sos config -h"
   ]
  },
  {
   "cell_type": "markdown",
   "metadata": {
    "kernel": "SoS"
   },
   "source": [
    "Please refer to section [SoS Syntax](SoS_Syntax.html) for details about this command."
   ]
  },
  {
   "cell_type": "markdown",
   "metadata": {
    "kernel": "SoS"
   },
   "source": [
    "### subcommand `remove`"
   ]
  },
  {
   "cell_type": "code",
   "execution_count": 14,
   "metadata": {
    "kernel": "SoS"
   },
   "outputs": [
    {
     "name": "stdout",
     "output_type": "stream",
     "text": [
      "usage: sos remove [-h] [-t | -u | -s | -z] [-e] [--size SIZE] [--age AGE] [-n]\n",
      "                  [-y] [-v {0,1,2,3,4}]\n",
      "                  [FILE_OR_DIR [FILE_OR_DIR ...]]\n",
      "\n",
      "Remove specified files and/or their signatures\n",
      "\n",
      "positional arguments:\n",
      "  FILE_OR_DIR           Files and directories to be removed. Directories will\n",
      "                        be scanned for files to removed but no directory will\n",
      "                        be removed.\n",
      "\n",
      "optional arguments:\n",
      "  -h, --help            show this help message and exit\n",
      "  -t, --tracked         Limit files to only files tracked by SoS, namely files\n",
      "                        that are input, output, or dependent files of steps.\n",
      "  -u, --untracked       Limit files to untracked files, namely files that are\n",
      "                        not tracked by SoS steps.\n",
      "  -s, --signature       Remove signatures of specified files (not files\n",
      "                        themselves). As a special case, all local signatures\n",
      "                        will be removed if this option is specified without\n",
      "                        target.\n",
      "  -z, --zap             Replace files with their signatures. The file will not\n",
      "                        be regenerated by SoS unless is it actually needed by\n",
      "                        other steps. This option is usually used to remove\n",
      "                        large intermediate files from completed workflows\n",
      "                        while allowing relevant steps to be skipped during re-\n",
      "                        execution of the workflow.\n",
      "  -e, --external        By default the remove command will only remove files\n",
      "                        and signatures under the current project directory.\n",
      "                        This option allows sos to remove files and/or\n",
      "                        signature of external files.\n",
      "  --size SIZE           Limit to files that exceed or smaller than specified\n",
      "                        size. Value of option should be in unit K, M, KB, MB,\n",
      "                        MiB, GB, etc, with optional prefix + for larger than\n",
      "                        (default), or - for smaller than specified size.\n",
      "  --age AGE             Limit to files that are modified more than (default)\n",
      "                        or within specified age. Value of this parameter can\n",
      "                        be in units s (second), m (minute), h (hour), or d\n",
      "                        (day, default), or in the foramt of HH:MM:SS, with\n",
      "                        optional prefix + for older (default) and - for newer\n",
      "                        than specified age.\n",
      "  -n, --dryrun          List files or directories to be removed, without\n",
      "                        actually removing them.\n",
      "  -y, --yes             Remove files without confirmation, suitable for batch\n",
      "                        removal of files.\n",
      "  -v {0,1,2,3,4}, --verbosity {0,1,2,3,4}\n",
      "                        Output error (0), warning (1), info (2), debug (3) and\n",
      "                        trace (4) information to standard output (default to\n",
      "                        2).\n"
     ]
    }
   ],
   "source": [
    "!sos remove -h"
   ]
  },
  {
   "cell_type": "markdown",
   "metadata": {
    "kernel": "SoS"
   },
   "source": [
    "Please refer to the tutorial on [Project Management](../tutorials/Project_Management.html) for details about this command."
   ]
  }
 ],
 "metadata": {
  "anaconda-cloud": {},
  "kernelspec": {
   "display_name": "SoS",
   "language": "sos",
   "name": "sos"
  },
  "language_info": {
   "codemirror_mode": "sos",
   "file_extension": ".sos",
   "mimetype": "text/x-sos",
   "name": "sos",
   "nbconvert_exporter": "sos_notebook.converter.SoS_Exporter",
   "pygments_lexer": "sos"
  },
  "sos": {
   "celltoolbar": true,
   "default_kernel": "SoS",
   "kernels": [
    [
     "SoS",
     "sos",
     "",
     ""
    ]
   ],
   "panel": {
    "displayed": true,
    "height": 0,
    "style": "side"
   },
   "version": "0.17.4"
  },
  "toc": {
   "colors": {
    "hover_highlight": "#DAA520",
    "running_highlight": "#FF0000",
    "selected_highlight": "#FFD700"
   },
   "moveMenuLeft": true,
   "nav_menu": {
    "height": "247px",
    "width": "254px"
   },
   "navigate_menu": true,
   "number_sections": true,
   "sideBar": true,
   "threshold": 4,
   "toc_cell": false,
   "toc_section_display": "block",
   "toc_window_display": true
  }
 },
 "nbformat": 4,
 "nbformat_minor": 2
}
