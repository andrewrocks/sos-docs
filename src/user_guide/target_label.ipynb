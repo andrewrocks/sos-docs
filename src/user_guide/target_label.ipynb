{
 "cells": [
  {
   "cell_type": "markdown",
   "metadata": {
    "kernel": "SoS"
   },
   "source": [
    "# How to group input and output targets by their labels"
   ]
  },
  {
   "cell_type": "markdown",
   "metadata": {
    "kernel": "SoS"
   },
   "source": [
    "* **Difficulty level**: easy\n",
    "* **Time need to learn**: 10 minutes or less\n",
    "* **Key points**:\n",
    "  * `_input` or `_output` can be grouped by the **labels** of input and output targets\n",
    "  * Use keyword arguments to specify labels of input or output arguments\n",
    "  * `_input[name]` and `_output[name]` return subset of `_input` or `_output` with label `name`\n",
    "  * Outputs returned from `output_from` and `named_output` can have their own labels  "
   ]
  },
  {
   "cell_type": "markdown",
   "metadata": {
    "kernel": "SoS"
   },
   "source": [
    "## Named inputs and outputs"
   ]
  },
  {
   "cell_type": "markdown",
   "metadata": {
    "kernel": "SoS"
   },
   "source": [
    "Let us first create a few temporary files as inputs of the examples"
   ]
  },
  {
   "cell_type": "code",
   "execution_count": 1,
   "metadata": {
    "kernel": "SoS"
   },
   "outputs": [],
   "source": [
    "!touch a.txt b.txt ref.txt"
   ]
  },
  {
   "cell_type": "markdown",
   "metadata": {
    "kernel": "SoS"
   },
   "source": [
    " <div class=\"bs-callout bs-callout-primary\" role=\"alert\">\n",
    "    <h4>Named inputs and outputs</h4>\n",
    "    <p>Keyword arguments in input and output statements assign labels to the input or output files and allow access to subsets of inputs or outputs with these labels</p>\n",
    " </div>"
   ]
  },
  {
   "cell_type": "markdown",
   "metadata": {
    "kernel": "SoS"
   },
   "source": [
    "in SoS, we usually specify one or more files as input of a SoS steps, and refer to them as variable `_input`:"
   ]
  },
  {
   "cell_type": "code",
   "execution_count": 2,
   "metadata": {
    "kernel": "SoS"
   },
   "outputs": [
    {
     "name": "stdout",
     "output_type": "stream",
     "text": [
      "a.txt b.txt\n"
     ]
    }
   ],
   "source": [
    "input: 'a.txt', 'b.txt'\n",
    "print(_input)"
   ]
  },
  {
   "cell_type": "markdown",
   "metadata": {
    "kernel": "SoS"
   },
   "source": [
    "Using keyword parameters, you can assign labels to these files and access them separately:"
   ]
  },
  {
   "cell_type": "code",
   "execution_count": 4,
   "metadata": {
    "kernel": "SoS"
   },
   "outputs": [
    {
     "name": "stdout",
     "output_type": "stream",
     "text": [
      "input of the substep is a.txt b.txt\n",
      "input of the substep with label A is a.txt\n",
      "input of the substep with label B is b.txt\n"
     ]
    }
   ],
   "source": [
    "input: A='a.txt', B='b.txt'\n",
    "print(f'input of the substep is {_input}')\n",
    "print(f'input of the substep with label A is {_input[\"A\"]}')\n",
    "print(f'input of the substep with label B is {_input[\"B\"]}')"
   ]
  },
  {
   "cell_type": "markdown",
   "metadata": {
    "kernel": "SoS"
   },
   "source": [
    "Note that although `_input['A']` and `_input['B']` are used to refer to subsets of `_input`, the variable `_input` can still be used and refers to all input files."
   ]
  },
  {
   "cell_type": "markdown",
   "metadata": {
    "kernel": "SoS"
   },
   "source": [
    "Named output works in a similar fashion. In the following workflow, the input files are labelled with `data` and the reference is labelled with `reference`. In the output statement, the `data` part of the input (`_input[\"data\"]`) is used to generate results with label `result`.\n",
    "\n",
    "In the following `print` statement,  `_input[\"reference\"]`, `_output['result']` etc are used to obtain subsets of `_input` and `_output`. These subsets of inputs or outputs are usually called **named inputs** and **named outputs**."
   ]
  },
  {
   "cell_type": "code",
   "execution_count": 12,
   "metadata": {
    "kernel": "SoS"
   },
   "outputs": [
    {
     "data": {
      "text/html": []
     },
     "metadata": {},
     "output_type": "display_data"
    },
    {
     "name": "stdout",
     "output_type": "stream",
     "text": [
      "Input of step is a.txt b.txt ref.txt with labels ['data', 'data', 'reference']\n",
      "\n",
      "Input data is a.txt b.txt\n",
      "Reference is ref.txt\n",
      "\n",
      "Output is a.res b.res\n",
      "Result of output is a.res b.res\n",
      "\n"
     ]
    }
   ],
   "source": [
    "input: data = ['a.txt', 'b.txt'], reference='ref.txt'\n",
    "output: result=[x.with_suffix('.res') for x in _input[\"data\"]]\n",
    "_output.touch()                              \n",
    "\n",
    "print(f'''\\\n",
    "Input of step is {_input} with labels {step_input.labels}\n",
    "\n",
    "Input data is {_input[\"data\"]}\n",
    "Reference is {_input[\"reference\"]}\n",
    "\n",
    "Output is {_output}\n",
    "Result of output is {_output['result']}\n",
    "''')"
   ]
  },
  {
   "cell_type": "markdown",
   "metadata": {
    "kernel": "SoS"
   },
   "source": [
    "## Slices of `sos_targets` with groups *"
   ]
  },
  {
   "cell_type": "markdown",
   "metadata": {
    "kernel": "SoS"
   },
   "source": [
    "If a step has multiple substeps, variables `step_input` and `step_output` will consist of multiple groups. For example, in the following workflow, the `_output` of step `[10]` has named output `A` and `B`. The output of the entire step consists of 4 groups, which are retrieved by function `output_from(-1)` (`-1` means last step). The expression\n",
    "\n",
    "```python\n",
    "input: output_from(-1)['A']\n",
    "```\n",
    "obtains all targets with source `A`, including the groups, so `_input` of step `20` consists of only targets with source `A`."
   ]
  },
  {
   "cell_type": "code",
   "execution_count": 5,
   "metadata": {
    "kernel": "SoS"
   },
   "outputs": [
    {
     "data": {
      "text/html": [
       "\n",
       "<table id=\"workflow_2c6a7093-d410-49ab-8875-d13cb8432888\" class=\"workflow_table  completed\">\n",
       "<tr>\n",
       "      <td class=\"workflow_icon\">\n",
       "        <i id=\"workflow_status_icon_2c6a7093-d410-49ab-8875-d13cb8432888\" class=\"fa fa-2x fa-fw fa-check-square-o\"\n",
       "        onmouseover='this.classList=\"fa fa-2x fa-fw fa-trash\"' onmouseleave='this.classList=\"fa fa-2x fa-fw fa-check-square-o\"' onclick=\"cancel_workflow(this.id.substring(21))\"></i>\n",
       "      </td>\n",
       "      <td class=\"workflow_name\">\n",
       "        <pre><span id=\"workflow_name_2c6a7093-d410-49ab-8875-d13cb8432888\">default</span></pre>\n",
       "      </td>\n",
       "      <td class=\"workflow_id\">\n",
       "        <span>Workflow ID</span></br>\n",
       "        <pre><i class=\"fa fa-fw fa-sitemap\"></i><span id=\"workflow_id_2c6a7093-d410-49ab-8875-d13cb8432888\">1d31d133dbc5cb66</span></pre>\n",
       "      </td>\n",
       "      <td class=\"workflow_index\">\n",
       "        <span>Index</span></br>\n",
       "        <pre>#<span id=\"workflow_index_2c6a7093-d410-49ab-8875-d13cb8432888\">3</span></pre>\n",
       "      </td>\n",
       "      <td class=\"workflow_status\">\n",
       "        <span id=\"status_text_2c6a7093-d410-49ab-8875-d13cb8432888\">completed</span></br>\n",
       "        <pre><i class=\"fa fa-fw fa-clock-o\"></i><time id=\"status_duration_2c6a7093-d410-49ab-8875-d13cb8432888\" class=\"completed\" datetime=\"1546891644529.9368\">Ran for < 5 seconds</time></pre>\n",
       "      </td>\n",
       "</tr>\n",
       "</table>\n"
      ]
     },
     "metadata": {},
     "output_type": "display_data"
    },
    {
     "name": "stdout",
     "output_type": "stream",
     "text": [
      "input of substep is a_0.txt\n",
      "input of substep is a_1.txt\n",
      "input of substep is a_2.txt\n",
      "input of substep is a_3.txt\n"
     ]
    }
   ],
   "source": [
    "%run -v0\n",
    "[10]\n",
    "input: for_each=dict(i=range(4))\n",
    "output: A=f'a_{i}.txt', B=f'b_{i}.txt'\n",
    "_output.touch()       \n",
    "\n",
    "print(f'Output step is {_output} with labels {_output.labels}')\n",
    "\n",
    "[20]\n",
    "input: output_from(-1)['A']\n",
    "print(f'input of substep is {_input}')"
   ]
  },
  {
   "cell_type": "markdown",
   "metadata": {
    "kernel": "SoS"
   },
   "source": [
    "## Inheritance of target labels *"
   ]
  },
  {
   "cell_type": "markdown",
   "metadata": {
    "kernel": "SoS"
   },
   "source": [
    " <div class=\"bs-callout bs-callout-info\" role=\"alert\">\n",
    "    <h4>Inherit and override target labels</h4>\n",
    "    <p>Target lables are created and passed in SoS as follows</p>\n",
    "    <ul>\n",
    "        <li>Unnamed targets (targets specified with positional arguments) are labeled with step names</li>\n",
    "        <li>Labels are stored in variables <code>_input</code>, <code>_output</code>, <code>step_input</code> and <code>step_output</code>, and are passed by default to next step, or through functions <code>named_output</code> and <code>output_from</code></li>\n",
    "        <li>Keyword argument overrides default labels</li>\n",
    "    </ul>\n",
    " </div>"
   ]
  },
  {
   "cell_type": "markdown",
   "metadata": {
    "kernel": "SoS"
   },
   "source": [
    "The creation and inheritance of target labels follow a few rules. Firstly, unnamed targets are labeled with step names. This is usually not useful in the step itself, but can be useful when the outputs are passed to another step.\n",
    "\n",
    "For example, in the following workflow, step `default` gets the outputs from step `A` and `B` using function `output_from(['A', 'B'])`. Because the default labels for output from steps `A` and `B` are `A` and `B` respectively, you can differentiate the inputs using `_input['A']` and `_input['B']`."
   ]
  },
  {
   "cell_type": "code",
   "execution_count": 5,
   "metadata": {
    "kernel": "SoS"
   },
   "outputs": [
    {
     "data": {
      "text/html": []
     },
     "metadata": {},
     "output_type": "display_data"
    },
    {
     "name": "stdout",
     "output_type": "stream",
     "text": [
      "Input from step A is a.txt\n",
      "Input from step B is b.txt\n"
     ]
    }
   ],
   "source": [
    "%run -v0\n",
    "[A]\n",
    "output: 'a.txt'\n",
    "_output.touch()\n",
    "\n",
    "[B]\n",
    "output: 'b.txt'\n",
    "_output.touch()\n",
    "\n",
    "[default]\n",
    "input: output_from(['A', 'B'])\n",
    "print(f'Input from step A is {_input[\"A\"]}')\n",
    "print(f'Input from step B is {_input[\"B\"]}')"
   ]
  },
  {
   "cell_type": "markdown",
   "metadata": {
    "kernel": "SoS"
   },
   "source": [
    "However, if you use keyword arguments in the input statement, the default or inherited labels will be overridden:"
   ]
  },
  {
   "cell_type": "code",
   "execution_count": 6,
   "metadata": {
    "kernel": "SoS"
   },
   "outputs": [
    {
     "data": {
      "text/html": []
     },
     "metadata": {},
     "output_type": "display_data"
    },
    {
     "name": "stdout",
     "output_type": "stream",
     "text": [
      "Input from step A is a.txt\n",
      "Input from step B is b.txt\n"
     ]
    }
   ],
   "source": [
    "%run -v0\n",
    "[A]\n",
    "output: 'a.txt'\n",
    "_output.touch()\n",
    "\n",
    "[B]\n",
    "output: 'b.txt'\n",
    "_output.touch()\n",
    "\n",
    "[default]\n",
    "input: a_out=output_from('A'), b_out=output_from('B')\n",
    "print(f'Input from step A is {_input[\"a_out\"]}')\n",
    "print(f'Input from step B is {_input[\"b_out\"]}')"
   ]
  },
  {
   "cell_type": "markdown",
   "metadata": {
    "kernel": "SoS"
   },
   "source": [
    "## Further reading\n",
    "* [How to use named output in data-flow style workflows](doc/user_guide/named_output.html)\n",
    "* [How to execute workflow to generate specific output](doc/user_guide/target_oriented.html)"
   ]
  }
 ],
 "metadata": {
  "kernelspec": {
   "display_name": "SoS",
   "language": "sos",
   "name": "sos"
  },
  "language_info": {
   "codemirror_mode": "sos",
   "file_extension": ".sos",
   "mimetype": "text/x-sos",
   "name": "sos",
   "nbconvert_exporter": "sos_notebook.converter.SoS_Exporter",
   "pygments_lexer": "sos"
  },
  "sos": {
   "kernels": [
    [
     "Bash",
     "bash",
     "Bash",
     "#E6EEFF"
    ],
    [
     "R",
     "ir",
     "R",
     "#DCDCDA"
    ],
    [
     "SoS",
     "sos",
     "",
     ""
    ]
   ],
   "panel": {
    "displayed": true,
    "height": 0
   },
   "version": "0.17.5"
  }
 },
 "nbformat": 4,
 "nbformat_minor": 2
}
