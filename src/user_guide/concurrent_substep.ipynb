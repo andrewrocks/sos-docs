{
 "cells": [
  {
   "cell_type": "markdown",
   "metadata": {
    "kernel": "SoS"
   },
   "source": [
    "# How to (not) execute substeps in parallel"
   ]
  },
  {
   "cell_type": "markdown",
   "metadata": {
    "kernel": "SoS"
   },
   "source": [
    "* **Difficulty level**: easy\n",
    "* **Time need to lean**: 10 minutes or less\n",
    "* **Key points**:\n",
    "  * By default substeps are executed in parallel\n",
    "  * Option `concurrent=False` stops the substeps from being executed in parallel\n",
    "  * Certain options and statements prevents substeps from being executed in parallel\n",
    "  "
   ]
  },
  {
   "cell_type": "markdown",
   "metadata": {
    "kernel": "SoS"
   },
   "source": [
    "## Input option `concurrent` <a id=\"Option_concurrent\"></a>"
   ]
  },
  {
   "cell_type": "markdown",
   "metadata": {
    "kernel": "SoS"
   },
   "source": [
    "Substeps of a step are by default executed concurrently with potential dependencies. For example,"
   ]
  },
  {
   "cell_type": "code",
   "execution_count": 5,
   "metadata": {
    "kernel": "SoS"
   },
   "outputs": [
    {
     "name": "stdout",
     "output_type": "stream",
     "text": [
      "sum is 0 at index 0, completed in 4.7 seconds\n",
      "sum is 0 at index 1, completed in 4.7 seconds\n",
      "sum is 0 at index 2, completed in 4.7 seconds\n",
      "sum is 0 at index 3, completed in 4.7 seconds\n"
     ]
    }
   ],
   "source": [
    "sum = 0\n",
    "import time\n",
    "start_time = time.time()\n",
    "input: for_each={'i': range(4)}\n",
    "time.sleep(4)\n",
    "print(f'sum is {sum} at index {_index}, completed in {time.time() - start_time:.1f} seconds')"
   ]
  },
  {
   "cell_type": "markdown",
   "metadata": {
    "kernel": "SoS"
   },
   "source": [
    "As you can see, the `start_time` is the start time of all substeps, and the all substeps complete at about the same time because they are executed concurrently.\n",
    "\n",
    "Concurrent execution can cause some unexpected results. For example, there are 4 substeps in the following example. Each of them adds `i` to a shared variable `sum`, but the results are not accumulated because each substep has its own `sum`."
   ]
  },
  {
   "cell_type": "code",
   "execution_count": 7,
   "metadata": {
    "kernel": "SoS"
   },
   "outputs": [
    {
     "name": "stdout",
     "output_type": "stream",
     "text": [
      "sum is 0 at index 0\n",
      "sum is 1 at index 1\n",
      "sum is 2 at index 2\n",
      "sum is 3 at index 3\n"
     ]
    }
   ],
   "source": [
    "sum = 0\n",
    "input: for_each=dict(i=range(4))\n",
    "sum += i\n",
    "print(f'sum is {sum} at index {_index}')"
   ]
  },
  {
   "cell_type": "markdown",
   "metadata": {
    "kernel": "SoS"
   },
   "source": [
    "To get the correct `sum` for all substeps, you can execute the substeps sequentially by adding option `concurrent=False`."
   ]
  },
  {
   "cell_type": "code",
   "execution_count": 8,
   "metadata": {
    "kernel": "SoS"
   },
   "outputs": [
    {
     "name": "stdout",
     "output_type": "stream",
     "text": [
      "sum is 0 at index 0\n",
      "sum is 1 at index 1\n",
      "sum is 3 at index 2\n",
      "sum is 6 at index 3\n"
     ]
    }
   ],
   "source": [
    "sum = 0\n",
    "input: for_each=dict(i=range(4)), concurrent=False\n",
    "sum += i\n",
    "print(f'sum is {sum} at index {_index}')"
   ]
  },
  {
   "cell_type": "markdown",
   "metadata": {
    "kernel": "SoS"
   },
   "source": [
    "## Concurrency for the execution of nested subworkflows"
   ]
  },
  {
   "cell_type": "markdown",
   "metadata": {
    "kernel": "SoS"
   },
   "source": [
    "Substeps containing nested subworkflows (function `sos_run`) are also executed concurrently by default. For example, in the following workflow where four `sleep` subworkflows are executed with different parameter `duration`, the subworkflows are executed in parallel and completed in random orders."
   ]
  },
  {
   "cell_type": "code",
   "execution_count": 2,
   "metadata": {
    "kernel": "SoS"
   },
   "outputs": [
    {
     "data": {
      "text/html": []
     },
     "metadata": {},
     "output_type": "display_data"
    },
    {
     "name": "stdout",
     "output_type": "stream",
     "text": [
      "I am process 2, I have slept for 2 seconds\n",
      "I am process 1, I have slept for 8 seconds\n",
      "I am process 3, I have slept for 8 seconds\n",
      "I am process 0, I have slept for 9 seconds\n"
     ]
    }
   ],
   "source": [
    "%run -v0\n",
    "\n",
    "[sleep]\n",
    "parameter: index=int\n",
    "parameter: duration=int\n",
    "import time\n",
    "time.sleep(duration)\n",
    "print(f'I am process {index}, I have slept for {duration} seconds')\n",
    "\n",
    "\n",
    "[default]\n",
    "import random\n",
    "input: for_each=dict(i=range(4))\n",
    "sos_run('sleep', index=_index, duration=random.randint(1, 10))"
   ]
  },
  {
   "cell_type": "markdown",
   "metadata": {
    "kernel": "SoS"
   },
   "source": [
    "<div class=\"bs-callout bs-callout-warning\" role=\"alert\">\n",
    "    <h4>Substeps with statements after <code>sos_run</code> are not executed in parallel</h4>\n",
    "    <p>Because of the way subworkflows are executed, a subworkflow must be the last statement in the step process to allow the substeps to be executed in parallel. That is to say, subworkflows in</p>\n",
    "    <pre>\n",
    "    input: ...\n",
    "    sos_run('sub')\n",
    "    print('Done')\n",
    "    </pre>\n",
    "    and \n",
    "    <pre>\n",
    "    input: ...\n",
    "    sos_run('sub1')\n",
    "    sos_run('sub2')\n",
    "    </pre>\n",
    "    will not be executed in parallel. Although the latter case could be executed in parallel if <code>sub2</code> does not have to be executed after <code>sub1</code> and can be executed side by side with\n",
    "    <pre>    \n",
    "    input: ...\n",
    "    sos_run(['sub1', 'sub2'])\n",
    "    </pre>\n",
    "</div>"
   ]
  },
  {
   "cell_type": "markdown",
   "metadata": {
    "kernel": "SoS"
   },
   "source": [
    "There is a complication though: substeps with subworkflows must have the `sos_run` as the last statement to be executed in parallel. For example, with the addition of one statement after the `sos_run` call, subworkflows in the aforementioned example are executed sequentially."
   ]
  },
  {
   "cell_type": "code",
   "execution_count": 4,
   "metadata": {
    "kernel": "SoS"
   },
   "outputs": [
    {
     "data": {
      "text/html": [
       "\n",
       "<table id=\"workflow_b10e36e6-6d9f-446a-9475-65e6cec2edfa\" class=\"workflow_table  completed\">\n",
       "<tr>\n",
       "      <td class=\"workflow_icon\">\n",
       "        <i id=\"workflow_status_icon_b10e36e6-6d9f-446a-9475-65e6cec2edfa\" class=\"fa fa-2x fa-fw fa-check-square-o\"\n",
       "        onmouseover='this.classList=\"fa fa-2x fa-fw fa-trash\"' onmouseleave='this.classList=\"fa fa-2x fa-fw fa-check-square-o\"' onclick=\"cancel_workflow(this.id.substring(21))\"></i>\n",
       "      </td>\n",
       "      <td class=\"workflow_name\">\n",
       "        <pre><span id=\"workflow_name_b10e36e6-6d9f-446a-9475-65e6cec2edfa\">default</span></pre>\n",
       "      </td>\n",
       "      <td class=\"workflow_id\">\n",
       "        <span>Workflow ID</span></br>\n",
       "        <pre><i class=\"fa fa-fw fa-sitemap\"></i><span id=\"workflow_id_b10e36e6-6d9f-446a-9475-65e6cec2edfa\">c3c3bfb6674b8ed9</span></pre>\n",
       "      </td>\n",
       "      <td class=\"workflow_index\">\n",
       "        <span>Index</span></br>\n",
       "        <pre>#<span id=\"workflow_index_b10e36e6-6d9f-446a-9475-65e6cec2edfa\">4</span></pre>\n",
       "      </td>\n",
       "      <td class=\"workflow_status\">\n",
       "        <span id=\"status_text_b10e36e6-6d9f-446a-9475-65e6cec2edfa\">completed</span></br>\n",
       "        <pre><i class=\"fa fa-fw fa-clock-o\"></i><time id=\"status_duration_b10e36e6-6d9f-446a-9475-65e6cec2edfa\" class=\"completed\" datetime=\"1547246443857.8481\">Ran for 23 sec</time></pre>\n",
       "      </td>\n",
       "</tr>\n",
       "</table>\n"
      ]
     },
     "metadata": {},
     "output_type": "display_data"
    },
    {
     "name": "stdout",
     "output_type": "stream",
     "text": [
      "I am process 0, I have slept for 5 seconds\n",
      "0 is done\n",
      "I am process 1, I have slept for 7 seconds\n",
      "1 is done\n",
      "I am process 2, I have slept for 5 seconds\n",
      "2 is done\n",
      "I am process 3, I have slept for 5 seconds\n",
      "3 is done\n"
     ]
    }
   ],
   "source": [
    "%run -v0\n",
    "\n",
    "[sleep]\n",
    "parameter: index=int\n",
    "parameter: duration=int\n",
    "import time\n",
    "time.sleep(duration)\n",
    "print(f'I am process {index}, I have slept for {duration} seconds')\n",
    "\n",
    "\n",
    "[default]\n",
    "import random\n",
    "input: for_each=dict(i=range(4))\n",
    "sos_run('sleep', index=_index, duration=random.randint(1, 10))\n",
    "print(f'{_index} is done')"
   ]
  },
  {
   "cell_type": "markdown",
   "metadata": {
    "kernel": "SoS"
   },
   "source": [
    "This is somewhat limiting for users who get used to use a `default` step to execute multiple subworkflows as follows:"
   ]
  },
  {
   "cell_type": "code",
   "execution_count": 6,
   "metadata": {
    "kernel": "SoS"
   },
   "outputs": [
    {
     "data": {
      "text/html": []
     },
     "metadata": {},
     "output_type": "display_data"
    },
    {
     "name": "stdout",
     "output_type": "stream",
     "text": [
      "step sub1 is done\n",
      "step sub2 is done\n"
     ]
    }
   ],
   "source": [
    "%run -v0\n",
    "\n",
    "import time\n",
    "\n",
    "[sub1]\n",
    "time.sleep(6)\n",
    "print(f'step {step_name} is done')\n",
    "\n",
    "[sub2]\n",
    "time.sleep(2)\n",
    "print(f'step {step_name} is done')\n",
    "\n",
    "[default]\n",
    "sos_run('sub1')\n",
    "sos_run('sub2')"
   ]
  },
  {
   "cell_type": "markdown",
   "metadata": {
    "kernel": "SoS"
   },
   "source": [
    "However, remember that function `sos_run` can accept multiple subworkflows and will execute them in parallel, you can write execute the steps in parallel as long as they donot depend on each other:"
   ]
  },
  {
   "cell_type": "code",
   "execution_count": 7,
   "metadata": {
    "kernel": "SoS"
   },
   "outputs": [
    {
     "data": {
      "text/html": []
     },
     "metadata": {},
     "output_type": "display_data"
    },
    {
     "name": "stdout",
     "output_type": "stream",
     "text": [
      "step sub2 is done\n",
      "step sub1 is done\n"
     ]
    }
   ],
   "source": [
    "%run -v0\n",
    "\n",
    "import time\n",
    "\n",
    "[sub1]\n",
    "time.sleep(6)\n",
    "print(f'step {step_name} is done')\n",
    "\n",
    "[sub2]\n",
    "time.sleep(2)\n",
    "print(f'step {step_name} is done')\n",
    "\n",
    "[default]\n",
    "sos_run([\n",
    "    'sub1',\n",
    "    'sub2'\n",
    "])"
   ]
  },
  {
   "cell_type": "markdown",
   "metadata": {
    "kernel": "SoS"
   },
   "source": [
    "## Further reading\n",
    "\n",
    "*  [How to execute other workflows in a SoS step](doc/user_guide/nested_workflow.html)"
   ]
  }
 ],
 "metadata": {
  "kernelspec": {
   "display_name": "SoS",
   "language": "sos",
   "name": "sos"
  },
  "language_info": {
   "codemirror_mode": "sos",
   "file_extension": ".sos",
   "mimetype": "text/x-sos",
   "name": "sos",
   "nbconvert_exporter": "sos_notebook.converter.SoS_Exporter",
   "pygments_lexer": "sos"
  },
  "sos": {
   "kernels": [
    [
     "Bash",
     "bash",
     "Bash",
     "#E6EEFF"
    ],
    [
     "R",
     "ir",
     "R",
     "#DCDCDA"
    ],
    [
     "SoS",
     "sos",
     "",
     ""
    ]
   ],
   "panel": {
    "displayed": true,
    "height": 0
   },
   "version": "0.17.5"
  }
 },
 "nbformat": 4,
 "nbformat_minor": 2
}
