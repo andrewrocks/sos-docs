{
 "cells": [
  {
   "cell_type": "markdown",
   "metadata": {
    "kernel": "SoS"
   },
   "source": [
    "# Getting Started with SoS Workflow System"
   ]
  },
  {
   "cell_type": "markdown",
   "metadata": {
    "kernel": "SoS"
   },
   "source": [
    "* **Difficulty level**: easy\n",
    "* **Time need to lean**: 10 minutes or less\n",
    "* **Key points**:\n",
    "  * SoS uses classic Jupyter or Jupyter Lab with a SoS kernel as its IDE\n",
    "  * SoS steps can be developed and executed in SoS Notebook\n",
    "  * SoS workflows are embedded in Jupyter notebook\n",
    "  * Complete SoS workflows can be executed in Jupyter notebook with magics `%run` and `%sosrun`, or with the `sos` command from command line"
   ]
  },
  {
   "cell_type": "markdown",
   "metadata": {
    "kernel": "SoS"
   },
   "source": [
    "## SoS Workflow System in Jupyter"
   ]
  },
  {
   "cell_type": "markdown",
   "metadata": {
    "kernel": "SoS"
   },
   "source": [
    "SoS Workflow System uses SoS Notebook as its IDE. The following figure illustrates the overall design of SoS Workflow System and SoS Notebook:\n",
    "\n",
    "![JupyterCon18 SoS Talk](https://vatlab.github.io/sos-docs/doc/media/SoS_Notebook_and_Workflow.png)\n",
    "\n",
    "Basically,\n",
    "\n",
    "* SoS Notebook is a [Jupyter Notebook](https://jupyter.org/) with a SoS kernel.\n",
    "* SoS Notebook serves as a super kernel to all other Jupyter kernels and allows the use of multiple kernels in a single notebook.\n",
    "* SoS Notebook also serves as the IDE for SoS Workflow System.\n",
    "\n",
    "The figure is linked to a [youtube video](https://www.youtube.com/watch?v=U75eKosFbp8) for a [presentation on SoS during the 2018 JupyterCon](https://github.com/vatlab/JupyterCon2018), which introduces both SoS Notebook and SoS Workflow System and can be a good starting point for you to learn SoS. The SoS Workflow part starts at [20min](https://www.youtube.com/watch?v=U75eKosFbp8#t=20m)."
   ]
  },
  {
   "cell_type": "markdown",
   "metadata": {
    "kernel": "SoS"
   },
   "source": [
    "## Running SoS"
   ]
  },
  {
   "cell_type": "markdown",
   "metadata": {
    "kernel": "SoS"
   },
   "source": [
    "The [Running SoS section](https://vatlab.github.io/sos-docs/running.html#content) of the [SoS Homepage](https://vatlab.github.io/sos-docs/) contains all the instructions on how to install and run SoS. Briefly, you have the following options to use SoS\n",
    "\n",
    "* Try SoS using our live server [http://vatlab.github.io/sos/live](http://vatlab.github.io/sos/live).\n",
    "* Start a Jupyter notebook server from our docker image [mdabioinfo/sos-notebook](https://hub.docker.com/r/mdabioinfo/sos-notebook/).\n",
    "* Install `sos` and `sos-notebook` locally if you have a local Python (3.6 or higher) installation and a working Jupyter server with kernels of interest.\n",
    "* Check with your system administrator if you have access to an institutional JupyterHub server with SoS installed.\n",
    "\n",
    "For the purpose of this tutorial, it is good enough to use our live server [http://vatlab.github.io/sos/live](http://vatlab.github.io/sos/live). After you see the following interface, select New -> SoS to create a SoS notebook. You can also go to `examples` and open existing SoS notebooks."
   ]
  },
  {
   "cell_type": "markdown",
   "metadata": {
    "kernel": "SoS"
   },
   "source": [
    "## Using the SoS kernel"
   ]
  },
  {
   "cell_type": "markdown",
   "metadata": {
    "kernel": "SoS"
   },
   "source": [
    "This tutorial is written in a SoS Notebook, which consists of multiple **markdown cells** and **code cells**. With the SoS kernel, each code cell can have its own kernel. SoS Notebook allows you to use multiple kernels in a single notebook and exchange variables among live kernels. This allow you to develop scripts and analyze data in different languages.\n",
    "\n",
    "For example, the following three code cells perform a multi-language data analysis where the first cell defines a few variables, the second cell runs a bash script to convert an excel file to csv format, and the last cell uses R to read the csv file and generate a plot. Three different kernels, SoS, [bash_kernel](https://github.com/takluyver/bash_kernel), and [IRkernel](https://github.com/IRkernel/IRkernel) are used, and a `%expand` magic is used to pass filenames from the SoS kernel to other kernels."
   ]
  },
  {
   "cell_type": "code",
   "execution_count": 1,
   "metadata": {
    "kernel": "SoS"
   },
   "outputs": [],
   "source": [
    "excel_file = 'data/DEG.xlsx'\n",
    "csv_file = 'DEG.csv'\n",
    "figure_file = 'output.pdf'"
   ]
  },
  {
   "cell_type": "code",
   "execution_count": 2,
   "metadata": {
    "kernel": "Bash"
   },
   "outputs": [],
   "source": [
    "%expand\n",
    "xlsx2csv {excel_file} > {csv_file}"
   ]
  },
  {
   "cell_type": "code",
   "execution_count": 3,
   "metadata": {
    "kernel": "R"
   },
   "outputs": [
    {
     "data": {
      "text/html": [
       "<strong>pdf:</strong> 2"
      ],
      "text/latex": [
       "\\textbf{pdf:} 2"
      ],
      "text/markdown": [
       "**pdf:** 2"
      ],
      "text/plain": [
       "pdf \n",
       "  2 "
      ]
     },
     "metadata": {},
     "output_type": "display_data"
    }
   ],
   "source": [
    "%expand\n",
    "data <- read.csv('{csv_file}')\n",
    "pdf('{figure_file}')\n",
    "plot(data$log2FoldChange, data$stat)\n",
    "dev.off()"
   ]
  },
  {
   "cell_type": "markdown",
   "metadata": {
    "kernel": "R"
   },
   "source": [
    "<div class=\"bs-callout bs-callout-primary\" role=\"alert\">\n",
    "  <h4>SoS is extended from Python 3.6+</h4>\n",
    "    <p>The SoS workflow system extends the syntax of Python 3.6+ so <b>SoS codecells accept any Python code</b></p>\n",
    "</div>"
   ]
  },
  {
   "cell_type": "markdown",
   "metadata": {
    "kernel": "SoS"
   },
   "source": [
    "## Use magic `%run` to execute the current cell as a SoS workflow"
   ]
  },
  {
   "cell_type": "markdown",
   "metadata": {
    "kernel": "R"
   },
   "source": [
    "Scripts in different languages can be converted to steps in SoS workflows by adding section headers in the format of\n",
    "\n",
    "```\n",
    "[header_name]\n",
    "```\n",
    "or\n",
    "```\n",
    "[header_name: options]\n",
    "```\n"
   ]
  },
  {
   "cell_type": "markdown",
   "metadata": {
    "kernel": "SoS"
   },
   "source": [
    "<div class=\"bs-callout bs-callout-primary\" role=\"alert\">\n",
    "  <h4>%run</h4>\n",
    "    <p> The <code>%run</code> magic execute the content of the cell as a complete SoS workflow using an external process.</p>  \n",
    "</div>"
   ]
  },
  {
   "cell_type": "markdown",
   "metadata": {
    "kernel": "SoS"
   },
   "source": [
    "The SoS magic `%run` can be used to execute workflows defined in the current cell. For example, the following cell executes a simple `hello_world` workflow with a single `print` statement."
   ]
  },
  {
   "cell_type": "code",
   "execution_count": 4,
   "metadata": {
    "kernel": "SoS"
   },
   "outputs": [
    {
     "data": {
      "text/html": [
       "<div class=\"sos_logging sos_info\">INFO: Running <span class=\"sos_highlight\">default</span>: \n",
       "</div>"
      ]
     },
     "metadata": {},
     "output_type": "display_data"
    },
    {
     "name": "stdout",
     "output_type": "stream",
     "text": [
      "This is our first hello world workflow\n"
     ]
    },
    {
     "data": {
      "text/html": [
       "<div class=\"sos_logging sos_info\">INFO: Workflow default (ID=2cb13acadf20b6ad) is executed successfully with 1 completed step.\n",
       "</div>"
      ]
     },
     "metadata": {},
     "output_type": "display_data"
    }
   ],
   "source": [
    "%run\n",
    "\n",
    "print('This is our first hello world workflow')"
   ]
  },
  {
   "cell_type": "markdown",
   "metadata": {
    "kernel": "SoS"
   },
   "source": [
    "SoS starts an external `sos` process, execute the workflow and displays the output in the notebook. **The workflow is executed independently and does not share any variables in the SoS kernel**. For example, if you define a variable in the SoS kernel"
   ]
  },
  {
   "cell_type": "code",
   "execution_count": 5,
   "metadata": {
    "kernel": "SoS"
   },
   "outputs": [],
   "source": [
    "my_name = 'sos_in_notebook.ipynb'"
   ]
  },
  {
   "cell_type": "markdown",
   "metadata": {
    "kernel": "SoS"
   },
   "source": [
    "You can use the variable in another SoS cell:"
   ]
  },
  {
   "cell_type": "code",
   "execution_count": 6,
   "metadata": {
    "kernel": "SoS"
   },
   "outputs": [
    {
     "name": "stdout",
     "output_type": "stream",
     "text": [
      "This notebook is named sos_in_notebook.ipynb\n"
     ]
    }
   ],
   "source": [
    "print(f'This notebook is named {my_name}')"
   ]
  },
  {
   "cell_type": "markdown",
   "metadata": {
    "kernel": "SoS"
   },
   "source": [
    "But the variable is not available in the following cell, which is executed by magic `%run` as an independent workflow unless you [define a parameter and pass the variable to it from command line](parameters.html)."
   ]
  },
  {
   "cell_type": "code",
   "execution_count": 7,
   "metadata": {
    "kernel": "SoS"
   },
   "outputs": [
    {
     "data": {
      "text/html": [
       "<div class=\"sos_logging sos_info\">INFO: Running <span class=\"sos_highlight\">default</span>: \n",
       "</div>"
      ]
     },
     "metadata": {},
     "output_type": "display_data"
    },
    {
     "name": "stdout",
     "output_type": "stream",
     "text": [
      "\u001b[91mERROR\u001b[0m: \u001b[91m[default]: \n",
      "---------------------------------------------------------------------------\n",
      "NameError                                 Traceback (most recent call last)\n",
      "script_4008715518445167588 in <module>\n",
      "----> print(f'This notebook is named {my_name}')\n",
      "\n",
      "NameError: name 'my_name' is not defined\u001b[0m\n"
     ]
    }
   ],
   "source": [
    "%run\n",
    "\n",
    "print(f'This notebook is named {my_name}')"
   ]
  },
  {
   "cell_type": "markdown",
   "metadata": {
    "kernel": "SoS"
   },
   "source": [
    "A notebook cell can contain complete workflows with multiple steps. For example, the following cell defines a SoS workflows that resembles the analysis that was performed using three different kernels. The workflow consists of a `global` section that defines variables for all steps, and two sections `plot_10` and `plot_20` that constitute two steps of workflow `plot`. The first step executes a shell script and the second step executes a `R` script. The syntax of this workflow will be discussed in details in [the next tutorial](doc/user_guide/scripts_in_sos.html)."
   ]
  },
  {
   "cell_type": "code",
   "execution_count": 8,
   "metadata": {
    "kernel": "SoS"
   },
   "outputs": [
    {
     "data": {
      "text/html": [
       "<div class=\"sos_logging sos_info\">INFO: Running <span class=\"sos_highlight\">plot_10</span>: \n",
       "</div>"
      ]
     },
     "metadata": {},
     "output_type": "display_data"
    },
    {
     "name": "stdout",
     "output_type": "stream",
     "text": [
      "xlsx2csv data/DEG.xlsx > DEG.csv\n",
      "\n"
     ]
    },
    {
     "data": {
      "text/html": [
       "<div class=\"sos_logging sos_info\">INFO: Running <span class=\"sos_highlight\">plot_20</span>: \n",
       "</div>"
      ]
     },
     "metadata": {},
     "output_type": "display_data"
    },
    {
     "name": "stdout",
     "output_type": "stream",
     "text": [
      "null device \n",
      "          1 \n"
     ]
    },
    {
     "data": {
      "text/html": [
       "<div class=\"sos_logging sos_info\">INFO: Workflow plot (ID=221e15922696f853) is executed successfully with 2 completed steps.\n",
       "</div>"
      ]
     },
     "metadata": {},
     "output_type": "display_data"
    }
   ],
   "source": [
    "%run\n",
    "\n",
    "[global]\n",
    "excel_file = 'data/DEG.xlsx'\n",
    "csv_file = 'DEG.csv'\n",
    "figure_file = 'output.pdf'\n",
    "\n",
    "[plot_10]\n",
    "run: expand=True\n",
    "    xlsx2csv {excel_file} > {csv_file}\n",
    "\n",
    "[plot_20]\n",
    "R: expand=True\n",
    "    data <- read.csv('{csv_file}')\n",
    "    pdf('{figure_file}')\n",
    "    plot(data$log2FoldChange, data$stat)\n",
    "    dev.off()"
   ]
  },
  {
   "cell_type": "markdown",
   "metadata": {
    "kernel": "SoS"
   },
   "source": [
    "### Controlling verbosity (option `-v`)"
   ]
  },
  {
   "cell_type": "markdown",
   "metadata": {
    "kernel": "SoS"
   },
   "source": [
    "Magics `%run` (actually the underlying `sos` command) accepts a set of optional arguments, the easiest of which is option `-v` that controls the verbosity of output."
   ]
  },
  {
   "cell_type": "markdown",
   "metadata": {
    "kernel": "SoS"
   },
   "source": [
    "<div class=\"bs-callout bs-callout-info\" role=\"alert\">\n",
    "    <h4>The verbosity (<code>-v</code>) argument of magics <code>%run</code>, <code>%sosrun</code> and command <code>sos run</code></h4>\n",
    "    <p>The verbosity argument <code>-v</code> accepts values </p>\n",
    "    <ul>\n",
    "        <li><code>-v 0</code>: Display no system messages except errors</li>\n",
    "        <li><code>-v 1</code>: Display errors and warnings, and a text-based progress bar</li>\n",
    "        <li><code>-v 2 (default)</code>: Display errors, warnings, and informational messages</li>\n",
    "        <li><code>-v 3</code>: Display additional debug messages</li>\n",
    "        <li><code>-v 4</code>: Display very verbose trace messages for development purposes</li>\n",
    "     </ul>\n",
    "</div>"
   ]
  },
  {
   "cell_type": "markdown",
   "metadata": {
    "kernel": "SoS"
   },
   "source": [
    "As you have seen, the default verbosity level `-v2` displays messages to report the status of execution:"
   ]
  },
  {
   "cell_type": "code",
   "execution_count": 9,
   "metadata": {
    "kernel": "SoS"
   },
   "outputs": [
    {
     "data": {
      "text/html": [
       "<div class=\"sos_logging sos_info\">INFO: Running <span class=\"sos_highlight\">default</span>: \n",
       "</div>"
      ]
     },
     "metadata": {},
     "output_type": "display_data"
    },
    {
     "name": "stdout",
     "output_type": "stream",
     "text": [
      "This is our first hello world workflow\n"
     ]
    },
    {
     "data": {
      "text/html": [
       "<div class=\"sos_logging sos_info\">INFO: Workflow default (ID=2cb13acadf20b6ad) is executed successfully with 1 completed step.\n",
       "</div>"
      ]
     },
     "metadata": {},
     "output_type": "display_data"
    }
   ],
   "source": [
    "%run\n",
    "\n",
    "print('This is our first hello world workflow')"
   ]
  },
  {
   "cell_type": "markdown",
   "metadata": {
    "kernel": "SoS"
   },
   "source": [
    "You can suppress these messages using option `-v1` even `-v0`"
   ]
  },
  {
   "cell_type": "code",
   "execution_count": 10,
   "metadata": {
    "kernel": "SoS"
   },
   "outputs": [
    {
     "name": "stdout",
     "output_type": "stream",
     "text": [
      "This is our first hello world workflow\n"
     ]
    }
   ],
   "source": [
    "%run -v0\n",
    "\n",
    "print('This is our first hello world workflow')"
   ]
  },
  {
   "cell_type": "markdown",
   "metadata": {
    "kernel": "SoS"
   },
   "source": [
    "### Running long workflows in background *"
   ]
  },
  {
   "cell_type": "markdown",
   "metadata": {
    "kernel": "SoS"
   },
   "source": [
    "<div class=\"bs-callout bs-callout-info\" role=\"alert\">\n",
    "    <h4>Execute workflow in non-blocking mode</h4>\n",
    "    <p>You can execute a workflow using magics <code>%run</code>, <code>%sosrun</code>, and <code>%runfile</code> in the background by adding a <code>&</code> at the end of the magic. The workflow will be executed in a queue while you can continue to work the notebook.</p>\n",
    "</div>"
   ]
  },
  {
   "cell_type": "markdown",
   "metadata": {
    "kernel": "SoS"
   },
   "source": [
    "SoS Notebook usually starts a workflow and waits until the workflow is completed. If the workflow takes a long time to execute, you can send workflows to a queue in which workflows will be executed one by one while you continue to work on the notebook. A status table will be displayed for each queued workflows and log messages and results will continue to send back to SoS Notebook."
   ]
  },
  {
   "cell_type": "code",
   "execution_count": 11,
   "metadata": {
    "kernel": "SoS"
   },
   "outputs": [
    {
     "data": {
      "text/html": [
       "\n",
       "<table id=\"workflow_68400d1a-a230-4ba1-a5df-652c69e6e3c5\" class=\"workflow_table  completed\">\n",
       "<tr>\n",
       "      <td class=\"workflow_icon\">\n",
       "        <i id=\"workflow_status_icon_68400d1a-a230-4ba1-a5df-652c69e6e3c5\" class=\"fa fa-2x fa-fw fa-check-square-o\"\n",
       "        onmouseover='this.classList=\"fa fa-2x fa-fw fa-trash\"' onmouseleave='this.classList=\"fa fa-2x fa-fw fa-check-square-o\"' onclick=\"cancel_workflow(this.id.substring(21))\"></i>\n",
       "      </td>\n",
       "      <td class=\"workflow_name\">\n",
       "        <pre><span id=\"workflow_name_68400d1a-a230-4ba1-a5df-652c69e6e3c5\">plot</span></pre>\n",
       "      </td>\n",
       "      <td class=\"workflow_id\">\n",
       "        <span>Workflow ID</span></br>\n",
       "        <pre><i class=\"fa fa-fw fa-sitemap\"></i><span id=\"workflow_id_68400d1a-a230-4ba1-a5df-652c69e6e3c5\">4dd99bdf71b08cf8</span></pre>\n",
       "      </td>\n",
       "      <td class=\"workflow_index\">\n",
       "        <span>Index</span></br>\n",
       "        <pre>#<span id=\"workflow_index_68400d1a-a230-4ba1-a5df-652c69e6e3c5\">1</span></pre>\n",
       "      </td>\n",
       "      <td class=\"workflow_status\">\n",
       "        <span id=\"status_text_68400d1a-a230-4ba1-a5df-652c69e6e3c5\">completed</span></br>\n",
       "        <pre><i class=\"fa fa-fw fa-clock-o\"></i><time id=\"status_duration_68400d1a-a230-4ba1-a5df-652c69e6e3c5\" class=\"completed\" datetime=\"1547752794721.1553\">Ran for 1 sec</time></pre>\n",
       "      </td>\n",
       "</tr>\n",
       "</table>\n"
      ]
     },
     "metadata": {},
     "output_type": "display_data"
    }
   ],
   "source": [
    "%run -v0 &\n",
    "\n",
    "import time\n",
    "for i in range(5):\n",
    "    print(i)\n",
    "    time.sleep(10)"
   ]
  },
  {
   "cell_type": "markdown",
   "metadata": {
    "kernel": "SoS"
   },
   "source": [
    "## Execute embedded workflows using magic `%sosrun`"
   ]
  },
  {
   "cell_type": "markdown",
   "metadata": {
    "kernel": "R"
   },
   "source": [
    "A SoS notebook can have multiple workflow sections defined in multiple code cell. These sections constitute the content of the **embedded SoS script** of the notebook."
   ]
  },
  {
   "cell_type": "markdown",
   "metadata": {
    "kernel": "R"
   },
   "source": [
    "<div class=\"bs-callout bs-callout-primary\" role=\"alert\">\n",
    "  <h4>Embedded SoS script</h4>\n",
    "  <p>An embed SoS script consists of SoS sections in all SoS cells of a notebook.</p>  \n",
    "</div>"
   ]
  },
  {
   "cell_type": "markdown",
   "metadata": {
    "kernel": "SoS"
   },
   "source": [
    "The easiest way to view the embedded script of a SoS notebook is to use the `%preview --workflow` magic as follows (The option `-n` lists the script in the notebook instead of the console panel). As you can see, the embedded script consists of steps from the entire notebook."
   ]
  },
  {
   "cell_type": "code",
   "execution_count": 12,
   "metadata": {
    "kernel": "SoS"
   },
   "outputs": [
    {
     "data": {
      "text/html": [
       "<div class=\"CodeMirror cm-s-default\"><div style=\"overflow: hidden; position: relative; width: 3px; height: 0px; top: 5px; left: 5px;\"><textarea autocorrect=\"off\" autocapitalize=\"off\" spellcheck=\"false\" style=\"position: absolute; bottom: -1em; padding: 0px; width: 1000px; height: 1em; outline: none;\" tabindex=\"0\"></textarea></div><div class=\"CodeMirror-vscrollbar\" tabindex=\"-1\" cm-not-content=\"true\" style=\"bottom: 0px; width: 18px; pointer-events: none;\"><div style=\"min-width: 1px; height: 0px;\"></div></div><div class=\"CodeMirror-hscrollbar\" tabindex=\"-1\" cm-not-content=\"true\" style=\"height: 18px; pointer-events: none;\"><div style=\"height: 100%; min-height: 1px; width: 0px;\"></div></div><div class=\"CodeMirror-scrollbar-filler\" cm-not-content=\"true\"></div><div class=\"CodeMirror-gutter-filler\" cm-not-content=\"true\"></div><div class=\"CodeMirror-scroll\" tabindex=\"-1\"><div class=\"CodeMirror-sizer\" style=\"margin-left: 0px; margin-bottom: 0px; border-right-width: 30px; min-height: 345px; min-width: 316.027px; padding-right: 0px; padding-bottom: 0px;\"><div style=\"position: relative; top: 0px;\"><div class=\"CodeMirror-lines\" role=\"presentation\"><div role=\"presentation\" style=\"position: relative; outline: none;\"><div class=\"CodeMirror-measure\"></div><div class=\"CodeMirror-measure\"></div><div style=\"position: relative; z-index: 1;\"></div><div class=\"CodeMirror-cursors\"><div class=\"CodeMirror-cursor\" style=\"left: 0px; top: 0px; height: 16.5714px;\">&nbsp;</div></div><div class=\"CodeMirror-code\" role=\"presentation\" style=\"\"><pre class=\" CodeMirror-line \" role=\"presentation\"><span role=\"presentation\" style=\"padding-right: 0.1px;\"><span class=\"cm-comment\">#!/usr/bin/env sos-runner</span></span></pre><pre class=\" CodeMirror-line \" role=\"presentation\"><span role=\"presentation\" style=\"padding-right: 0.1px;\"><span class=\"cm-comment\">#fileformat=SOS1.0</span></span></pre><pre class=\" CodeMirror-line \" role=\"presentation\"><span role=\"presentation\" style=\"padding-right: 0.1px;\"><span cm-text=\"\">​</span></span></pre><pre class=\" section-header CodeMirror-line \" role=\"presentation\"><span role=\"presentation\" style=\"padding-right: 0.1px;\"><span class=\"cm-header\">[global]</span></span></pre><pre class=\" CodeMirror-line \" role=\"presentation\"><span role=\"presentation\" style=\"padding-right: 0.1px;\"><span class=\"cm-variable\">excel_file</span> <span class=\"cm-operator\">=</span> <span class=\"cm-string\">'data/DEG.xlsx'</span></span></pre><pre class=\" CodeMirror-line \" role=\"presentation\"><span role=\"presentation\" style=\"padding-right: 0.1px;\"><span class=\"cm-variable\">csv_file</span> <span class=\"cm-operator\">=</span> <span class=\"cm-string\">'DEG.csv'</span></span></pre><pre class=\" CodeMirror-line \" role=\"presentation\"><span role=\"presentation\" style=\"padding-right: 0.1px;\"><span class=\"cm-variable\">figure_file</span> <span class=\"cm-operator\">=</span> <span class=\"cm-string\">'output.pdf'</span></span></pre><pre class=\" CodeMirror-line \" role=\"presentation\"><span role=\"presentation\" style=\"padding-right: 0.1px;\"><span cm-text=\"\">​</span></span></pre><pre class=\" section-header CodeMirror-line \" role=\"presentation\"><span role=\"presentation\" style=\"padding-right: 0.1px;\"><span class=\"cm-header\">[plot_10]</span></span></pre><pre class=\" CodeMirror-line \" role=\"presentation\"><span role=\"presentation\" style=\"padding-right: 0.1px;\"><span class=\"cm-builtin cm-strong\">run:</span><span class=\"cm-null cm-sos-option\"> </span><span class=\"cm-variable cm-sos-option\">expand</span><span class=\"cm-operator cm-sos-option\">=</span><span class=\"cm-keyword cm-sos-option\">True</span></span></pre><pre class=\" CodeMirror-line \" role=\"presentation\"><span role=\"presentation\" style=\"padding-right: 0.1px;\"><span class=\"cm-null cm-sos-script\">    xlsx2csv </span><span class=\"cm-sos-sigil cm-sos-script\">{</span><span class=\"cm-sos-interpolated cm-variable cm-sos-script\">excel_file</span><span class=\"cm-sos-sigil cm-sos-script\">}</span><span class=\"cm-null cm-sos-script\"> &gt; </span><span class=\"cm-sos-sigil cm-sos-script\">{</span><span class=\"cm-sos-interpolated cm-variable cm-sos-script\">csv_file</span><span class=\"cm-sos-sigil cm-sos-script\">}</span></span></pre><pre class=\" CodeMirror-line \" role=\"presentation\"><span role=\"presentation\" style=\"padding-right: 0.1px;\"><span cm-text=\"\">​</span></span></pre><pre class=\" section-header CodeMirror-line \" role=\"presentation\"><span role=\"presentation\" style=\"padding-right: 0.1px;\"><span class=\"cm-header\">[plot_20]</span></span></pre><pre class=\" CodeMirror-line \" role=\"presentation\"><span role=\"presentation\" style=\"padding-right: 0.1px;\"><span class=\"cm-builtin cm-strong\">R:</span><span class=\"cm-null cm-sos-option\"> </span><span class=\"cm-variable cm-sos-option\">expand</span><span class=\"cm-operator cm-sos-option\">=</span><span class=\"cm-keyword cm-sos-option\">True</span></span></pre><pre class=\" CodeMirror-line \" role=\"presentation\"><span role=\"presentation\" style=\"padding-right: 0.1px;\"><span class=\"cm-null cm-sos-script\">    </span><span class=\"cm-variable cm-sos-script\">data</span><span class=\"cm-null cm-sos-script\"> </span><span class=\"cm-operator cm-arrow cm-sos-script\">&lt;-</span><span class=\"cm-null cm-sos-script\"> </span><span class=\"cm-variable cm-sos-script\">read.csv</span><span class=\"cm-null cm-sos-script\">(</span><span class=\"cm-string cm-sos-script\">'</span><span class=\"cm-sos-sigil cm-sos-script\">{</span><span class=\"cm-sos-interpolated cm-variable cm-sos-script\">csv_file</span><span class=\"cm-sos-sigil cm-sos-script\">}</span><span class=\"cm-string cm-sos-script\">'</span><span class=\"cm-null cm-sos-script\">)</span></span></pre><pre class=\" CodeMirror-line \" role=\"presentation\"><span role=\"presentation\" style=\"padding-right: 0.1px;\"><span class=\"cm-null cm-sos-script\">    </span><span class=\"cm-variable cm-sos-script\">pdf</span><span class=\"cm-null cm-sos-script\">(</span><span class=\"cm-string cm-sos-script\">'</span><span class=\"cm-sos-sigil cm-sos-script\">{</span><span class=\"cm-sos-interpolated cm-variable cm-sos-script\">figure_file</span><span class=\"cm-sos-sigil cm-sos-script\">}</span><span class=\"cm-string cm-sos-script\">'</span><span class=\"cm-null cm-sos-script\">)</span></span></pre><pre class=\" CodeMirror-line \" role=\"presentation\"><span role=\"presentation\" style=\"padding-right: 0.1px;\"><span class=\"cm-null cm-sos-script\">    </span><span class=\"cm-variable cm-sos-script\">plot</span><span class=\"cm-null cm-sos-script\">(</span><span class=\"cm-variable cm-sos-script\">data</span><span class=\"cm-operator cm-dollar cm-sos-script\">$</span><span class=\"cm-variable cm-sos-script\">log2FoldChange</span><span class=\"cm-null cm-sos-script\">, </span><span class=\"cm-variable cm-sos-script\">data</span><span class=\"cm-operator cm-dollar cm-sos-script\">$</span><span class=\"cm-variable cm-sos-script\">stat</span><span class=\"cm-null cm-sos-script\">)</span></span></pre><pre class=\" CodeMirror-line \" role=\"presentation\"><span role=\"presentation\" style=\"padding-right: 0.1px;\"><span class=\"cm-null cm-sos-script\">    </span><span class=\"cm-variable cm-sos-script\">dev.off</span><span class=\"cm-null cm-sos-script\">()</span></span></pre><pre class=\" CodeMirror-line \" role=\"presentation\"><span role=\"presentation\" style=\"padding-right: 0.1px;\"><span cm-text=\"\">​</span></span></pre><pre class=\" CodeMirror-line \" role=\"presentation\"><span role=\"presentation\" style=\"padding-right: 0.1px;\"><span cm-text=\"\">​</span></span></pre></div></div></div></div></div><div style=\"position: absolute; height: 30px; width: 1px; border-bottom: 0px solid transparent; top: 345px;\"></div><div class=\"CodeMirror-gutters\" style=\"display: none; height: 375px;\"></div></div></div>"
      ]
     },
     "metadata": {},
     "output_type": "display_data"
    }
   ],
   "source": [
    "%preview -n --workflow"
   ]
  },
  {
   "cell_type": "markdown",
   "metadata": {
    "kernel": "SoS"
   },
   "source": [
    "<div class=\"bs-callout bs-callout-primary\" role=\"alert\">\n",
    "  <h4>%sosrun</h4>\n",
    "  <p> The <code>%sosrun</code> magic execute workflows defined in the embedded SoS script of a notebook.</p>  \n",
    "</div>"
   ]
  },
  {
   "cell_type": "markdown",
   "metadata": {
    "kernel": "SoS"
   },
   "source": [
    "The `%sosrun` magic can be used to execute any of the workflows defined in the notebook. For example, the following magic execute the workflow `plot` defined in the above section. Because multiple workflows are defined in this notebook (`hello_world`, and `plot`), a workflow name is required for this magic."
   ]
  },
  {
   "cell_type": "code",
   "execution_count": 13,
   "metadata": {
    "kernel": "SoS"
   },
   "outputs": [
    {
     "data": {
      "text/html": [
       "<div class=\"sos_logging sos_info\">INFO: Running <span class=\"sos_highlight\">plot_10</span>: \n",
       "</div>"
      ]
     },
     "metadata": {},
     "output_type": "display_data"
    },
    {
     "name": "stdout",
     "output_type": "stream",
     "text": [
      "xlsx2csv data/DEG.xlsx > DEG.csv\n",
      "\n"
     ]
    },
    {
     "data": {
      "text/html": [
       "<div class=\"sos_logging sos_info\">INFO: Running <span class=\"sos_highlight\">plot_20</span>: \n",
       "</div>"
      ]
     },
     "metadata": {},
     "output_type": "display_data"
    },
    {
     "name": "stdout",
     "output_type": "stream",
     "text": [
      "null device \n",
      "          1 \n"
     ]
    },
    {
     "data": {
      "text/html": [
       "<div class=\"sos_logging sos_info\">INFO: Workflow plot (ID=4dd99bdf71b08cf8) is executed successfully with 2 completed steps.\n",
       "</div>"
      ]
     },
     "metadata": {},
     "output_type": "display_data"
    }
   ],
   "source": [
    "%sosrun plot"
   ]
  },
  {
   "cell_type": "markdown",
   "metadata": {
    "kernel": "SoS"
   },
   "source": [
    "<div class=\"bs-callout bs-callout-warning\" role=\"alert\">\n",
    "  <h4>Warning</h4>\n",
    "    <p>Workflow cells can only be executed by SoS magics <code>%run</code> and <code>%sosrun</code>. SoS will not produce any output if you execute a workflow cell directly.</p>  \n",
    "</div>"
   ]
  },
  {
   "cell_type": "markdown",
   "metadata": {
    "kernel": "SoS"
   },
   "source": [
    "## Execute external script with magic `%runfile`"
   ]
  },
  {
   "cell_type": "markdown",
   "metadata": {
    "kernel": "SoS"
   },
   "source": [
    "<div class=\"bs-callout bs-callout-primary\" role=\"alert\">\n",
    "  <h4>%runfile filename</h4>\n",
    "  <p> The <code>%runfile</code> execute a SoS script from specified file with specified option. Both SoS scripts (usually with extension <code>.sos</code>) and SoS notebooks (with extension <code>.ipynb</code>) are supported.</p>  \n",
    "</div>"
   ]
  },
  {
   "cell_type": "markdown",
   "metadata": {
    "kernel": "SoS"
   },
   "source": [
    "The third magic to execute SoS workflows in SoS Notebook is to use the `%runfile` magic, which execute workflows from a specified external file. For example, instead of using magic `%sosrun`, you can execute the current notebook with magic "
   ]
  },
  {
   "cell_type": "code",
   "execution_count": 14,
   "metadata": {
    "kernel": "SoS"
   },
   "outputs": [
    {
     "data": {
      "text/html": [
       "<div class=\"sos_logging sos_info\">INFO: Running <span class=\"sos_highlight\">plot_10</span>: \n",
       "</div>"
      ]
     },
     "metadata": {},
     "output_type": "display_data"
    },
    {
     "name": "stdout",
     "output_type": "stream",
     "text": [
      "xlsx2csv data/DEG.xlsx > DEG.csv\n",
      "\n"
     ]
    },
    {
     "data": {
      "text/html": [
       "<div class=\"sos_logging sos_info\">INFO: Running <span class=\"sos_highlight\">plot_20</span>: \n",
       "</div>"
      ]
     },
     "metadata": {},
     "output_type": "display_data"
    },
    {
     "name": "stdout",
     "output_type": "stream",
     "text": [
      "null device \n",
      "          1 \n"
     ]
    },
    {
     "data": {
      "text/html": [
       "<div class=\"sos_logging sos_info\">INFO: Workflow plot (ID=4dd99bdf71b08cf8) is executed successfully with 2 completed steps.\n",
       "</div>"
      ]
     },
     "metadata": {},
     "output_type": "display_data"
    }
   ],
   "source": [
    "%runfile sos_in_notebook.ipynb plot"
   ]
  },
  {
   "cell_type": "markdown",
   "metadata": {
    "kernel": "SoS"
   },
   "source": [
    "## Execute embedded workflows with command `sos`"
   ]
  },
  {
   "cell_type": "markdown",
   "metadata": {
    "kernel": "SoS"
   },
   "source": [
    "The `%sosrun` magic calls an external command `sos` to execute workflows defined in the notebook. Although for the sake of convenience we will use magic `%run` to execute workflows throughout this documentation, please remember that **you can execute the notebook using command `sos` from command line**.\n",
    "\n",
    "![running notebook from command line](../media/sos_cmd_cli.png)\n"
   ]
  },
  {
   "cell_type": "markdown",
   "metadata": {
    "kernel": "SoS"
   },
   "source": [
    "Alternatively, you can also write the workflow in a text file (usually with extension `.sos`) and execute it with command `sos run`:"
   ]
  },
  {
   "cell_type": "markdown",
   "metadata": {
    "kernel": "SoS"
   },
   "source": [
    "![running script from command line](../media/sos_cmd_script_cli.png)\n"
   ]
  },
  {
   "cell_type": "markdown",
   "metadata": {
    "kernel": "SoS"
   },
   "source": [
    "## Further reading\n",
    "\n",
    "* [Inclusion of scripts](Inclusion_of_scripts.html)\n",
    "* [How to define and execute basic forward-type workflows](doc/user_guide/forward_workflow.html)\n",
    "* [Command line interface](doc/user_guide/cli.html)"
   ]
  }
 ],
 "metadata": {
  "kernelspec": {
   "display_name": "SoS",
   "language": "sos",
   "name": "sos"
  },
  "language_info": {
   "codemirror_mode": "sos",
   "file_extension": ".sos",
   "mimetype": "text/x-sos",
   "name": "sos",
   "nbconvert_exporter": "sos_notebook.converter.SoS_Exporter",
   "pygments_lexer": "sos"
  },
  "sos": {
   "kernels": [
    [
     "Bash",
     "bash",
     "Bash",
     "#E6EEFF"
    ],
    [
     "R",
     "ir",
     "R",
     "#DCDCDA"
    ],
    [
     "SoS",
     "sos",
     "",
     ""
    ]
   ],
   "panel": {
    "displayed": true,
    "height": 0
   },
   "version": "0.18.1"
  }
 },
 "nbformat": 4,
 "nbformat_minor": 2
}
