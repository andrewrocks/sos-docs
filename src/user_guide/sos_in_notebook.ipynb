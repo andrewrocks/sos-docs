{
 "cells": [
  {
   "cell_type": "markdown",
   "metadata": {
    "kernel": "SoS"
   },
   "source": [
    "# Getting Started with SoS Workflow System"
   ]
  },
  {
   "cell_type": "markdown",
   "metadata": {
    "kernel": "SoS"
   },
   "source": [
    "* **Difficulty level**: easy\n",
    "* **Time need to lean**: 10 minutes or less\n",
    "* **Take home messages**:\n",
    "  1. SoS uses classic Jupyter or Jupyter Lab with a SoS kernel as its IDE\n",
    "  2. SoS steps can be developed and executed in SoS Notebook\n",
    "  3. SoS workflows are embedded in Jupyter notebook\n",
    "  4. Complete SoS workflows can be executed in Jupyter notebook with magics `%run` and `%sosrun`, or with the `sos` command from command line"
   ]
  },
  {
   "cell_type": "markdown",
   "metadata": {
    "kernel": "SoS"
   },
   "source": [
    "## SoS Workflow System in Jupyter"
   ]
  },
  {
   "cell_type": "markdown",
   "metadata": {
    "kernel": "SoS"
   },
   "source": [
    "SoS Workflow System uses SoS Notebook as its IDE. The following figure illustrates the overall design of SoS Workflow System and SoS Notebook:\n",
    "\n",
    "[![JupyterCon18 SoS Talk](https://vatlab.github.io/sos-docs/doc/media/SoS_Notebook_and_Workflow.png)](https://www.youtube.com/watch?v=U75eKosFbp8)\n",
    "\n",
    "Basically,\n",
    "\n",
    "1. SoS Notebook is a [Jupyter Notebook](https://jupyter.org/) with a SoS kernel.\n",
    "2. SoS Notebook serves as a super kernel to all other Jupyter kernels and allows the use of multiple kernels in a single notebook.\n",
    "3. SoS Notebook also serves as the IDE for SoS Workflow System.\n",
    "\n",
    "The figure is linked to a [youtube video](https://www.youtube.com/watch?v=U75eKosFbp8) for a [presentation on SoS during the 2018 JupyterCon](https://github.com/vatlab/JupyterCon2018), which introduces both SoS Notebook and SoS Workflow System and can be a good starting point for you to learn SoS. The SoS Workflow part starts at 20min."
   ]
  },
  {
   "cell_type": "markdown",
   "metadata": {
    "kernel": "SoS"
   },
   "source": [
    "## Running SoS"
   ]
  },
  {
   "cell_type": "markdown",
   "metadata": {
    "kernel": "SoS"
   },
   "source": [
    "The Running SoS section of the [SoS Homepage](https://vatlab.github.io/sos-docs/) contains all the instructions on how to install SoS. Briefly, you have the following options to use SoS\n",
    "\n",
    "1. Try SoS using our live server [http://vatlab.github.io/sos/live](http://vatlab.github.io/sos/live).\n",
    "2. Start a Jupyter notebook server from our docker image [mdabioinfo/sos-notebook](https://hub.docker.com/r/mdabioinfo/sos-notebook/).\n",
    "3. Install `sos` and `sos-notebook` locally if you have a local Python (3.6 or higher) installation and a working Jupyter server with kernels of interest.\n",
    "4. Check with your system administrator if you have access to an institutional JupyterHub server with SoS installed.\n",
    "\n",
    "For the purpose of this tutorial, it is good enough to use our live server [http://vatlab.github.io/sos/live](http://vatlab.github.io/sos/live). After you see the following interface, select New -> SoS to create a SoS notebook. You can also go to `examples` and open existing SoS notebooks.\n",
    "\n",
    "[![LiveServer](https://vatlab.github.io/sos-docs/doc/media/Live_Server.png)](http://vatlab.github.io/sos/live)"
   ]
  },
  {
   "cell_type": "markdown",
   "metadata": {
    "kernel": "SoS"
   },
   "source": [
    "## Using the SoS kernel"
   ]
  },
  {
   "cell_type": "markdown",
   "metadata": {
    "kernel": "SoS"
   },
   "source": [
    "This tutorial is written in a SoS Notebook, which consists of multiple **markdown cells** and **code cells**. With the SoS kernel, the code cells can have their own kernels. SoS Notebook allows you to use multiple kernels in a notebook and exchange variables among live kernels. This allow you to develop scripts and analyze data in different languages.\n",
    "\n",
    "For example, the following cell is a SoS cell (based on Python) that defines a few variables. The next cell is a Bash cell that converts an excel file to csv format, using filenames expanded using the `%expand` magic, and the last cell reads the csv file and generate a plot, again using the `%expand` magic to pass filename information."
   ]
  },
  {
   "cell_type": "code",
   "execution_count": 2,
   "metadata": {
    "kernel": "SoS"
   },
   "outputs": [],
   "source": [
    "excel_file = 'data/DEG.xlsx'\n",
    "csv_file = 'DEG.csv'\n",
    "figure_file = 'output.pdf'"
   ]
  },
  {
   "cell_type": "code",
   "execution_count": 3,
   "metadata": {
    "kernel": "Bash"
   },
   "outputs": [],
   "source": [
    "%expand\n",
    "xlsx2csv {excel_file} > {csv_file}"
   ]
  },
  {
   "cell_type": "code",
   "execution_count": 4,
   "metadata": {
    "kernel": "R"
   },
   "outputs": [
    {
     "data": {
      "text/html": [
       "<strong>pdf:</strong> 2"
      ],
      "text/latex": [
       "\\textbf{pdf:} 2"
      ],
      "text/markdown": [
       "**pdf:** 2"
      ],
      "text/plain": [
       "pdf \n",
       "  2 "
      ]
     },
     "metadata": {},
     "output_type": "display_data"
    }
   ],
   "source": [
    "%expand\n",
    "data <- read.csv('{csv_file}')\n",
    "pdf('{figure_file}')\n",
    "plot(data$log2FoldChange, data$stat)\n",
    "dev.off()"
   ]
  },
  {
   "cell_type": "markdown",
   "metadata": {
    "kernel": "R"
   },
   "source": [
    "The SoS cell above is called a **scratch cell**. It accepts:\n",
    "* **Any Python statements** because SoS is extended from Python 3.6.\n",
    "* **SoS magics** as documented [here](https://vatlab.github.io/sos-docs/doc/documentation/SoS_Magics.html).\n",
    "* **Any SoS step statements** such as `input` and `task`, which will be intruduced in other tutorials."
   ]
  },
  {
   "cell_type": "markdown",
   "metadata": {
    "kernel": "R"
   },
   "source": [
    "## Embedded SoS script"
   ]
  },
  {
   "cell_type": "markdown",
   "metadata": {
    "kernel": "R"
   },
   "source": [
    "Scripts in different languages can be [easily converted to SoS workflows](https://www.youtube.com/watch?v=U75eKosFbp8#t=22m40s), which consist of sos sections marked by section headers in the format of \n",
    "\n",
    "```\n",
    "[header_name (: optional options]\n",
    "````\n",
    "\n",
    "For example, the following code defines a SoS workflow step with a header and a simple Python print statement.\n",
    "\n",
    "```\n",
    "[10]\n",
    "print('this is a SoS step')\n",
    "```\n",
    "\n",
    "However, **SoS sections are part of the embedded SoS script and will be executed outside of SoS Notebook**. Formally speaking:\n",
    "\n",
    "> **Embedded SoS script:**<br>\n",
    "> An embed SoS script consists of SoS sections in SoS cells.\n"
   ]
  },
  {
   "cell_type": "markdown",
   "metadata": {
    "kernel": "SoS"
   },
   "source": [
    "The easiest way to view the embedded workflow of a SoS notebook is to use the `%preview --workflow` as follows (The option `-n` lists the script in the notebook instead of the side panel). As you can see, the embedded script consists of steps from the entire notebook, from content even after this cell."
   ]
  },
  {
   "cell_type": "code",
   "execution_count": 5,
   "metadata": {
    "kernel": "SoS"
   },
   "outputs": [
    {
     "data": {
      "text/html": [
       "<textarea id=\"preview_wf_886865\">#!/usr/bin/env sos-runner\n",
       "#fileformat=SOS1.0\n",
       "\n",
       "[A]\n",
       "print('This is step A of a SoS workflow')\n",
       "\n",
       "[B]\n",
       "print('This is step B of a SoS workflow')\n",
       "\n",
       "[step_10]\n",
       "print('This is step 10 of a SoS workflow step')\n",
       "\n",
       "[step_20]\n",
       "print('This is step 20 of a SoS workflow step')\n",
       "\n",
       "</textarea>"
      ],
      "text/plßain": [
       "#!/usr/bin/env sos-runner\n",
       "#fileformat=SOS1.0\n",
       "\n",
       "[A]\n",
       "print('This is step A of a SoS workflow')\n",
       "\n",
       "[B]\n",
       "print('This is step B of a SoS workflow')\n",
       "\n",
       "[step_10]\n",
       "print('This is step 10 of a SoS workflow step')\n",
       "\n",
       "[step_20]\n",
       "print('This is step 20 of a SoS workflow step')\n",
       "\n"
      ]
     },
     "metadata": {},
     "output_type": "display_data"
    }
   ],
   "source": [
    "%preview -n --workflow"
   ]
  },
  {
   "cell_type": "markdown",
   "metadata": {
    "kernel": "SoS"
   },
   "source": [
    "## Execute workflow cells using magic `%run`"
   ]
  },
  {
   "cell_type": "markdown",
   "metadata": {
    "kernel": "SoS"
   },
   "source": [
    "If you open a SoS notebook and execute the following cell, nothing will happen because **embeded workflows can only be executed by SoS magics**."
   ]
  },
  {
   "cell_type": "code",
   "execution_count": 6,
   "metadata": {
    "kernel": "SoS"
   },
   "outputs": [],
   "source": [
    "[A]\n",
    "print('This is step A of a SoS workflow')"
   ]
  },
  {
   "cell_type": "markdown",
   "metadata": {
    "kernel": "SoS"
   },
   "source": [
    "The correct way to execute the above cell is to use a `%run` magic:"
   ]
  },
  {
   "cell_type": "code",
   "execution_count": 7,
   "metadata": {
    "kernel": "SoS"
   },
   "outputs": [
    {
     "data": {
      "text/html": [
       "\n",
       "<table id=\"workflow_d007704b65c04ee8b6a464bf6889e8cf\" class=\"workflow_table  completed\">\n",
       "  <tr>\n",
       "        <td class=\"workflow_icon\">\n",
       "          <i id=\"workflow_status_icon_d007704b65c04ee8b6a464bf6889e8cf\" class=\"fa fa-2x fa-fw fa-check-square-o\"\n",
       "          onmouseover='this.classList=\"fa fa-2x fa-fw fa-trash\"' onmouseleave='this.classList=\"fa fa-2x fa-fw fa-check-square-o\"' onclick=\"cancel_workflow(this.id.substring(21))\"></i>\n",
       "        </td>\n",
       "        <td class=\"workflow_name\">\n",
       "          <pre><span id=\"workflow_name_d007704b65c04ee8b6a464bf6889e8cf\">B</span></pre>\n",
       "        </td>\n",
       "        <td class=\"workflow_id\">\n",
       "          <span>Workflow ID</span></br>\n",
       "          <pre><i class=\"fa fa-fw fa-sitemap\"></i><span id=\"workflow_id_d007704b65c04ee8b6a464bf6889e8cf\">85678f0d686d8bb6</span></pre>\n",
       "        </td>\n",
       "        <td class=\"workflow_index\">\n",
       "          <span>Index</span></br>\n",
       "          <pre>#<span id=\"workflow_index_d007704b65c04ee8b6a464bf6889e8cf\">1</span></pre>\n",
       "        </td>\n",
       "        <td class=\"workflow_status\">\n",
       "          <span id=\"status_text_d007704b65c04ee8b6a464bf6889e8cf\">completed</span></br>\n",
       "          <pre><i class=\"fa fa-fw fa-clock-o\"></i><time id=\"status_duration_d007704b65c04ee8b6a464bf6889e8cf\" class=\"completed\" datetime=\"1545679164758.083\">Ran for < 5 seconds</time></pre>\n",
       "        </td>\n",
       "  </tr>\n",
       "</table>\n"
      ]
     },
     "metadata": {},
     "output_type": "display_data"
    },
    {
     "name": "stdout",
     "output_type": "stream",
     "text": [
      "This is step B of a SoS workflow\n"
     ]
    }
   ],
   "source": [
    "%run\n",
    "[B]\n",
    "print('This is step B of a SoS workflow')"
   ]
  },
  {
   "cell_type": "markdown",
   "metadata": {
    "kernel": "SoS"
   },
   "source": [
    "SoS starts an external `sos` process, execute the workflow and displays the output in the notebook. A status table is created to list the workflow name, ID and other information, which can be removed if you click the status icon."
   ]
  },
  {
   "cell_type": "markdown",
   "metadata": {
    "kernel": "SoS"
   },
   "source": [
    "The `%run` magic execute the content of the cell as a SoS workflow, even if it contains no section header, or multiple steps. For example,"
   ]
  },
  {
   "cell_type": "code",
   "execution_count": 8,
   "metadata": {
    "kernel": "SoS"
   },
   "outputs": [
    {
     "data": {
      "text/html": [
       "\n",
       "<table id=\"workflow_f4c50febc28949a69f320040412632a3\" class=\"workflow_table  completed\">\n",
       "  <tr>\n",
       "        <td class=\"workflow_icon\">\n",
       "          <i id=\"workflow_status_icon_f4c50febc28949a69f320040412632a3\" class=\"fa fa-2x fa-fw fa-check-square-o\"\n",
       "          onmouseover='this.classList=\"fa fa-2x fa-fw fa-trash\"' onmouseleave='this.classList=\"fa fa-2x fa-fw fa-check-square-o\"' onclick=\"cancel_workflow(this.id.substring(21))\"></i>\n",
       "        </td>\n",
       "        <td class=\"workflow_name\">\n",
       "          <pre><span id=\"workflow_name_f4c50febc28949a69f320040412632a3\">step</span></pre>\n",
       "        </td>\n",
       "        <td class=\"workflow_id\">\n",
       "          <span>Workflow ID</span></br>\n",
       "          <pre><i class=\"fa fa-fw fa-sitemap\"></i><span id=\"workflow_id_f4c50febc28949a69f320040412632a3\">ea60ad8b15451823</span></pre>\n",
       "        </td>\n",
       "        <td class=\"workflow_index\">\n",
       "          <span>Index</span></br>\n",
       "          <pre>#<span id=\"workflow_index_f4c50febc28949a69f320040412632a3\">2</span></pre>\n",
       "        </td>\n",
       "        <td class=\"workflow_status\">\n",
       "          <span id=\"status_text_f4c50febc28949a69f320040412632a3\">completed</span></br>\n",
       "          <pre><i class=\"fa fa-fw fa-clock-o\"></i><time id=\"status_duration_f4c50febc28949a69f320040412632a3\" class=\"completed\" datetime=\"1545679166796.0051\">Ran for < 5 seconds</time></pre>\n",
       "        </td>\n",
       "  </tr>\n",
       "</table>\n"
      ]
     },
     "metadata": {},
     "output_type": "display_data"
    },
    {
     "name": "stdout",
     "output_type": "stream",
     "text": [
      "This is step 10 of a SoS workflow step\n",
      "This is step 20 of a SoS workflow step\n"
     ]
    }
   ],
   "source": [
    "%run\n",
    "[step_10]\n",
    "print('This is step 10 of a SoS workflow step')\n",
    "\n",
    "[step_20]\n",
    "print('This is step 20 of a SoS workflow step')"
   ]
  },
  {
   "cell_type": "markdown",
   "metadata": {
    "kernel": "SoS"
   },
   "source": [
    "So in summary:\n",
    "> **%run**<br>\n",
    "> The `%run` magic execute the content of the cell as a complete SoS workflow."
   ]
  },
  {
   "cell_type": "markdown",
   "metadata": {
    "kernel": "SoS"
   },
   "source": [
    "## Execute embedded workflows using magic `%sosrun`"
   ]
  },
  {
   "cell_type": "markdown",
   "metadata": {
    "kernel": "SoS"
   },
   "source": [
    "As you can see from the output of `%preview --workflow`, the entire embedded workflow consists of sections from all SoS cells. \n",
    "\n",
    "> **%sosrun**<br>\n",
    "> The `%sosrun` magic execute workflows defined in the embedded SoS script of a notebook.\n",
    "\n",
    "For example, the following magic execute the workflow `step` defined in the above section. Because multiple workflows are defined in this notebook (`A`, `B`, and `step`), a workflow name is required for this magic."
   ]
  },
  {
   "cell_type": "code",
   "execution_count": 9,
   "metadata": {
    "kernel": "SoS"
   },
   "outputs": [
    {
     "data": {
      "text/html": [
       "\n",
       "<table id=\"workflow_c5e5db34087448f1b9f8b6fd3dce4567\" class=\"workflow_table  completed\">\n",
       "  <tr>\n",
       "        <td class=\"workflow_icon\">\n",
       "          <i id=\"workflow_status_icon_c5e5db34087448f1b9f8b6fd3dce4567\" class=\"fa fa-2x fa-fw fa-check-square-o\"\n",
       "          onmouseover='this.classList=\"fa fa-2x fa-fw fa-trash\"' onmouseleave='this.classList=\"fa fa-2x fa-fw fa-check-square-o\"' onclick=\"cancel_workflow(this.id.substring(21))\"></i>\n",
       "        </td>\n",
       "        <td class=\"workflow_name\">\n",
       "          <pre><span id=\"workflow_name_c5e5db34087448f1b9f8b6fd3dce4567\">step</span></pre>\n",
       "        </td>\n",
       "        <td class=\"workflow_id\">\n",
       "          <span>Workflow ID</span></br>\n",
       "          <pre><i class=\"fa fa-fw fa-sitemap\"></i><span id=\"workflow_id_c5e5db34087448f1b9f8b6fd3dce4567\">9d30892e37966444</span></pre>\n",
       "        </td>\n",
       "        <td class=\"workflow_index\">\n",
       "          <span>Index</span></br>\n",
       "          <pre>#<span id=\"workflow_index_c5e5db34087448f1b9f8b6fd3dce4567\">3</span></pre>\n",
       "        </td>\n",
       "        <td class=\"workflow_status\">\n",
       "          <span id=\"status_text_c5e5db34087448f1b9f8b6fd3dce4567\">completed</span></br>\n",
       "          <pre><i class=\"fa fa-fw fa-clock-o\"></i><time id=\"status_duration_c5e5db34087448f1b9f8b6fd3dce4567\" class=\"completed\" datetime=\"1545679168708.43\">Ran for < 5 seconds</time></pre>\n",
       "        </td>\n",
       "  </tr>\n",
       "</table>\n"
      ]
     },
     "metadata": {},
     "output_type": "display_data"
    },
    {
     "name": "stdout",
     "output_type": "stream",
     "text": [
      "This is step 10 of a SoS workflow step\n",
      "This is step 20 of a SoS workflow step\n"
     ]
    }
   ],
   "source": [
    "%sosrun step"
   ]
  },
  {
   "cell_type": "markdown",
   "metadata": {
    "kernel": "SoS"
   },
   "source": [
    "## Execute embedded workflows with command `sos`"
   ]
  },
  {
   "cell_type": "markdown",
   "metadata": {
    "kernel": "SoS"
   },
   "source": [
    "The `%run` and `%sosrun` magics actually calls an external command `sos` to execute the workflows. Actually, the `sos` command recognizes embedded scripts from a notebook and can execute it directly.\n",
    "\n",
    "Using a magic `!` that execute any shell command, we can mimick the execution of this notebook from the command line:"
   ]
  },
  {
   "cell_type": "code",
   "execution_count": 10,
   "metadata": {
    "kernel": "SoS"
   },
   "outputs": [
    {
     "name": "stdout",
     "output_type": "stream",
     "text": [
      "INFO: Running \u001b[32mstep_10\u001b[0m: \n",
      "This is step 10 of a SoS workflow step\n",
      "INFO: Running \u001b[32mstep_20\u001b[0m: \n",
      "This is step 20 of a SoS workflow step\n",
      "INFO: Workflow step (ID=9d30892e37966444) is executed successfully with 2 completed steps.\n"
     ]
    }
   ],
   "source": [
    "!sos run Getting_Started.ipynb step"
   ]
  },
  {
   "cell_type": "markdown",
   "metadata": {
    "kernel": "SoS"
   },
   "source": [
    "## Further reading\n",
    "\n",
    "* [Inclusion of scripts](Inclusion_of_scripts.html)"
   ]
  }
 ],
 "metadata": {
  "kernelspec": {
   "display_name": "SoS",
   "language": "sos",
   "name": "sos"
  },
  "language_info": {
   "codemirror_mode": "sos",
   "file_extension": ".sos",
   "mimetype": "text/x-sos",
   "name": "sos",
   "nbconvert_exporter": "sos_notebook.converter.SoS_Exporter",
   "pygments_lexer": "sos"
  },
  "sos": {
   "kernels": [
    [
     "Bash",
     "bash",
     "Bash",
     "#E6EEFF"
    ],
    [
     "R",
     "ir",
     "R",
     "#DCDCDA"
    ],
    [
     "SoS",
     "sos",
     "",
     ""
    ]
   ],
   "panel": {
    "displayed": true,
    "height": 0
   },
   "version": "0.17.4"
  }
 },
 "nbformat": 4,
 "nbformat_minor": 2
}
