{
 "cells": [
  {
   "cell_type": "markdown",
   "metadata": {
    "kernel": "SoS"
   },
   "source": [
    "# How to deal with input and output of subkernels"
   ]
  },
  {
   "cell_type": "markdown",
   "metadata": {
    "kernel": "SoS"
   },
   "source": [
    "* **Difficulty level**: easy\n",
    "* **Time need to lean**: 20 minutes or less\n",
    "* **Key points**:\n",
    "  * SoS works with any Jupyter kernel\n",
    "  * `%expand` treats input of cell as a Python f-string and expand it before sendint to subkernel\n",
    "  * `%capture` captures output from subkernels and save them into Python variables\n",
    "  * `%render` renders output from subkernels in different formats"
   ]
  },
  {
   "cell_type": "markdown",
   "metadata": {
    "kernel": "SoS"
   },
   "source": [
    "A SoS kernel is a master kernel that can start, stop, and interact with any Jupyter kernel, which are called *subkernels* by SoS. Although most of the times SoS just passes user input to subkernels and sendes outputs from subkernels to the frontend (notebook), you can use a few SoS magics to modify user inputs before they are sent to the subkernel, and process outputs before they are sent to the frontend."
   ]
  },
  {
   "cell_type": "markdown",
   "metadata": {
    "kernel": "SoS"
   },
   "source": [
    "<p align=\"center\">\n",
    "  <img src=\"https://vatlab.github.io/sos-docs/doc/media/subkernel.png\">\n",
    "</p>\n"
   ]
  },
  {
   "cell_type": "markdown",
   "metadata": {
    "kernel": "sos"
   },
   "source": [
    "## <a id=\"magic_expand\"></a> Interpolate user input with magic `%expand` "
   ]
  },
  {
   "cell_type": "markdown",
   "metadata": {
    "kernel": "SoS"
   },
   "source": [
    "Script in SoS cells are by default sent to SoS or the subkernels in verbatim. However, similar to the `expand` option of the SoS actions, you can interpolate scripts before they are executed by the kernels.\n",
    "\n",
    "For example, without a `%expand` magic, user inputs are sent to the subkernel in verbatim:"
   ]
  },
  {
   "cell_type": "code",
   "execution_count": 1,
   "metadata": {
    "kernel": "R"
   },
   "outputs": [
    {
     "name": "stdout",
     "output_type": "stream",
     "text": [
      "[1] \"A parameter {par} is specified.\"\n"
     ]
    }
   ],
   "source": [
    "print(\"A parameter {par} is specified.\")"
   ]
  },
  {
   "cell_type": "markdown",
   "metadata": {
    "kernel": "R"
   },
   "source": [
    "With variable `par` defined in the SoS kernel,"
   ]
  },
  {
   "cell_type": "code",
   "execution_count": 2,
   "metadata": {
    "kernel": "SoS"
   },
   "outputs": [],
   "source": [
    "par = 100"
   ]
  },
  {
   "cell_type": "markdown",
   "metadata": {
    "kernel": "SoS"
   },
   "source": [
    "the `%expand` treats the content of the following cell as a [Python f-string](https://www.python.org/dev/peps/pep-0498/) and expands expressions inside braces:"
   ]
  },
  {
   "cell_type": "code",
   "execution_count": 3,
   "metadata": {
    "kernel": "R"
   },
   "outputs": [
    {
     "name": "stdout",
     "output_type": "stream",
     "text": [
      "[1] \"A parameter 100 is specified.\"\n"
     ]
    }
   ],
   "source": [
    "%expand\n",
    "print(\"A parameter {par} is specified.\")"
   ]
  },
  {
   "cell_type": "markdown",
   "metadata": {
    "kernel": "SoS"
   },
   "source": [
    "If the script contains `{ }`, which is quite common in R, you can double the braces "
   ]
  },
  {
   "cell_type": "code",
   "execution_count": 4,
   "metadata": {
    "kernel": "R"
   },
   "outputs": [
    {
     "name": "stdout",
     "output_type": "stream",
     "text": [
      "[1] \"A parameter 100 greater than 50 is specified.\"\n"
     ]
    }
   ],
   "source": [
    "%expand\n",
    "if ({par} > 50) {{\n",
    "    print(\"A parameter {par} greater than 50 is specified.\");\n",
    "}}"
   ]
  },
  {
   "cell_type": "markdown",
   "metadata": {
    "kernel": "SoS"
   },
   "source": [
    "If there are multiple braces, it is obviously better to use a different sigil, such as `${ }` to interpolate the script"
   ]
  },
  {
   "cell_type": "code",
   "execution_count": 5,
   "metadata": {
    "kernel": "R"
   },
   "outputs": [
    {
     "name": "stdout",
     "output_type": "stream",
     "text": [
      "[1] \"A parameter 100 greater than 50 is specified.\"\n"
     ]
    }
   ],
   "source": [
    "%expand ${ }\n",
    "if (${par} > 50) {\n",
    "    print(\"A parameter ${par} greater than 50 is specified.\");\n",
    "}"
   ]
  },
  {
   "cell_type": "markdown",
   "metadata": {
    "kernel": "R"
   },
   "source": [
    "Although not the topic of this tutorial, it is worth mentioning that the usage of the `%expand` magic is the same as the `expand` option of SoS actions so that you can convert the above script that was executed in a R session to an R action in a SoS workflow as follows:"
   ]
  },
  {
   "cell_type": "code",
   "execution_count": 6,
   "metadata": {
    "kernel": "SoS"
   },
   "outputs": [
    {
     "name": "stdout",
     "output_type": "stream",
     "text": [
      "[1] \"A parameter 100 greater than 50 is specified.\"\n"
     ]
    }
   ],
   "source": [
    "R: expand='${ }'\n",
    "if (${par} > 50) {\n",
    "    print(\"A parameter ${par} greater than 50 is specified.\");\n",
    "}"
   ]
  },
  {
   "cell_type": "markdown",
   "metadata": {
    "kernel": "SoS"
   },
   "source": [
    "## <a id=\"magic_capture\"></a>Capture cell output with magic `%capture` "
   ]
  },
  {
   "cell_type": "markdown",
   "metadata": {
    "kernel": "SoS"
   },
   "source": [
    "Magic `%capture` all or part of the output of a cell to a SoS variable. To understand how this magic works, you will need to understand [how Jupyter  works](https://jupyter-client.readthedocs.io/en/stable/messaging.html). Briefly, after a cell is executed, the kernel sends one or more of messages `stream`, `display_data`, and other controlling messages before it sends `execute_result` to conclude the execution. The `stream` message type can contain standard output (`stdout`) and standard error output (`stderr`), and the `display_data` message can contain a lot more complex data under a dictionary with keys `text/html`, `text/plain`, `text/markdown` etc, and the frontend will decide how to display these messages."
   ]
  },
  {
   "cell_type": "markdown",
   "metadata": {
    "kernel": "SoS"
   },
   "source": [
    "### Determine what to capture\n",
    "\n",
    "The `%capture` magic can capture the following types of information\n",
    "\n",
    "| name | message |\n",
    "|-- | -- |\n",
    "| `stdout` | `stdout` of `stream` messages |\n",
    "| `stderr` | `stderr` of `stream` messages |\n",
    "| `text` | `text/plain` of `display_data` or `execute_result` messages |\n",
    "| `html` | `text/html` of `display_data` or `execute_result` messages |\n",
    "| `markdown` | `text/markdown` of `display_data` or `execute_result` messages |\n",
    "| `raw` | All above messages |\n",
    "\n",
    "The first step to capture output from a cell is to determine what types of messages are sent by the cell. If you are uncertain, you can open the console panel (right click and select `New Console for Notebook` if you are using Jupyter Lab), and use the `%capture` magic without option (or with the `raw` option)."
   ]
  },
  {
   "cell_type": "code",
   "execution_count": 7,
   "metadata": {
    "kernel": "Bash"
   },
   "outputs": [
    {
     "name": "stdout",
     "output_type": "stream",
     "text": [
      "I am from Bash\n"
     ]
    }
   ],
   "source": [
    "%capture\n",
    "echo \"I am from Bash\""
   ]
  },
  {
   "cell_type": "markdown",
   "metadata": {
    "kernel": "Bash"
   },
   "source": [
    "The messages that has been returned by the cell will be displayed in the console window\n",
    "\n",
    "```python\n",
    "[('stream', {'name': 'stdout', 'text': 'I am from Bash\\n'})]\n",
    "```\n",
    "for this cell, from which you can see that the message is of type `stdout`. You can then specify the `stdout` type,"
   ]
  },
  {
   "cell_type": "code",
   "execution_count": 8,
   "metadata": {
    "kernel": "Bash"
   },
   "outputs": [
    {
     "name": "stdout",
     "output_type": "stream",
     "text": [
      "I am from Bash\n"
     ]
    }
   ],
   "source": [
    "%capture stdout\n",
    "echo \"I am from Bash\""
   ]
  },
  {
   "cell_type": "markdown",
   "metadata": {
    "kernel": "Bash"
   },
   "source": [
    "The captured result is by default saved to a variable `__captured` in the SoS kernel:"
   ]
  },
  {
   "cell_type": "code",
   "execution_count": 9,
   "metadata": {
    "kernel": "SoS"
   },
   "outputs": [
    {
     "data": {
      "text/plain": [
       "'I am from Bash\\n'"
      ]
     },
     "execution_count": 9,
     "metadata": {},
     "output_type": "execute_result"
    }
   ],
   "source": [
    "__captured"
   ]
  },
  {
   "cell_type": "markdown",
   "metadata": {
    "kernel": "SoS"
   },
   "source": [
    "You can use option `-t` (`--to`) to assign the name of the variable"
   ]
  },
  {
   "cell_type": "code",
   "execution_count": 10,
   "metadata": {
    "kernel": "Bash"
   },
   "outputs": [
    {
     "name": "stdout",
     "output_type": "stream",
     "text": [
      "I am from Bash\n"
     ]
    }
   ],
   "source": [
    "%capture stdout --to bash_output\n",
    "echo \"I am from Bash\""
   ]
  },
  {
   "cell_type": "code",
   "execution_count": 11,
   "metadata": {
    "kernel": "SoS"
   },
   "outputs": [
    {
     "data": {
      "text/plain": [
       "'I am from Bash\\n'"
      ]
     },
     "execution_count": 11,
     "metadata": {},
     "output_type": "execute_result"
    }
   ],
   "source": [
    "bash_output"
   ]
  },
  {
   "cell_type": "markdown",
   "metadata": {
    "kernel": "SoS"
   },
   "source": [
    "As a more complex example, the following cell runs a SPARQL query and returns multiple messages."
   ]
  },
  {
   "cell_type": "code",
   "execution_count": 12,
   "metadata": {
    "kernel": "sparql"
   },
   "outputs": [
    {
     "data": {
      "text/html": [
       "<div class=\"krn-spql\"><div class=\"magic\">Return format: JSON</div><div class=\"magic\">Display: table</div><div class=\"magic\">Endpoint set to: http://dbpedia.org/sparql</div></div>"
      ],
      "text/plain": [
       "Return format: JSON\n",
       "Display: table\n",
       "Endpoint set to: http://dbpedia.org/sparql\n"
      ]
     },
     "metadata": {},
     "output_type": "display_data"
    },
    {
     "data": {
      "text/html": [
       "<div class=\"krn-spql\"><table><tr class=hdr><th>person</th>\n",
       "<th>name</th></tr><tr class=odd><td class=val><a href=\"http://dbpedia.org/resource/Paul_Da_Vinci\" target=\"_other\">http://dbpedia.org/resource/Paul_Da_Vinci</a></td>\n",
       "<td class=val>Paul Da Vinci</td></tr><tr class=even><td class=val><a href=\"http://dbpedia.org/resource/Leonardo_da_Vinci\" target=\"_other\">http://dbpedia.org/resource/Leonardo_da_Vinci</a></td>\n",
       "<td class=val>Leonardo da Vinci</td></tr></table><div class=\"tinfo\">Total: 2, Shown: 2</div></div>"
      ]
     },
     "metadata": {},
     "output_type": "display_data"
    }
   ],
   "source": [
    "%capture\n",
    "\n",
    "%format json\n",
    "%display table \n",
    "%endpoint http://dbpedia.org/sparql\n",
    "\n",
    "PREFIX rdfs: <http://www.w3.org/2000/01/rdf-schema#>\n",
    "PREFIX foaf:  <http://xmlns.com/foaf/0.1/>\n",
    "SELECT ?person ?name\n",
    "WHERE {\n",
    "    ?person a foaf:Person .\n",
    "    ?person rdfs:label ?name\n",
    "    FILTER regex(?name,\"da Vinci\",\"i\")\n",
    "    FILTER langMatches(lang(?name),\"en\")\n",
    "} LIMIT 2"
   ]
  },
  {
   "cell_type": "raw",
   "metadata": {
    "kernel": "sparql"
   },
   "source": [
    "The `__captured` variable shows all returned messages"
   ]
  },
  {
   "cell_type": "code",
   "execution_count": 13,
   "metadata": {
    "kernel": "SoS"
   },
   "outputs": [
    {
     "data": {
      "text/plain": [
       "[('display_data',\n",
       "  {'data': {'text/html': '<div class=\"krn-spql\"><div class=\"magic\">Return format: JSON</div><div class=\"magic\">Display: table</div><div class=\"magic\">Endpoint set to: http://dbpedia.org/sparql</div></div>',\n",
       "    'text/plain': 'Return format: JSON\\nDisplay: table\\nEndpoint set to: http://dbpedia.org/sparql\\n'},\n",
       "   'metadata': {}}),\n",
       " ('display_data',\n",
       "  {'data': {'text/html': '<div class=\"krn-spql\"><table><tr class=hdr><th>person</th>\\n<th>name</th></tr><tr class=odd><td class=val><a href=\"http://dbpedia.org/resource/Paul_Da_Vinci\" target=\"_other\">http://dbpedia.org/resource/Paul_Da_Vinci</a></td>\\n<td class=val>Paul Da Vinci</td></tr><tr class=even><td class=val><a href=\"http://dbpedia.org/resource/Leonardo_da_Vinci\" target=\"_other\">http://dbpedia.org/resource/Leonardo_da_Vinci</a></td>\\n<td class=val>Leonardo da Vinci</td></tr></table><div class=\"tinfo\">Total: 2, Shown: 2</div></div>'},\n",
       "   'metadata': {}})]"
      ]
     },
     "execution_count": 13,
     "metadata": {},
     "output_type": "execute_result"
    }
   ],
   "source": [
    "__captured"
   ]
  },
  {
   "cell_type": "markdown",
   "metadata": {
    "kernel": "SoS"
   },
   "source": [
    "You can then save the content of `text/html` to a variable `html_table`"
   ]
  },
  {
   "cell_type": "code",
   "execution_count": 14,
   "metadata": {
    "kernel": "sparql"
   },
   "outputs": [
    {
     "data": {
      "text/html": [
       "<div class=\"krn-spql\"><div class=\"magic\">Return format: JSON</div><div class=\"magic\">Display: table</div><div class=\"magic\">Endpoint set to: http://dbpedia.org/sparql</div></div>"
      ],
      "text/plain": [
       "Return format: JSON\n",
       "Display: table\n",
       "Endpoint set to: http://dbpedia.org/sparql\n"
      ]
     },
     "metadata": {},
     "output_type": "display_data"
    },
    {
     "data": {
      "text/html": [
       "<div class=\"krn-spql\"><table><tr class=hdr><th>person</th>\n",
       "<th>name</th></tr><tr class=odd><td class=val><a href=\"http://dbpedia.org/resource/Paul_Da_Vinci\" target=\"_other\">http://dbpedia.org/resource/Paul_Da_Vinci</a></td>\n",
       "<td class=val>Paul Da Vinci</td></tr><tr class=even><td class=val><a href=\"http://dbpedia.org/resource/Leonardo_da_Vinci\" target=\"_other\">http://dbpedia.org/resource/Leonardo_da_Vinci</a></td>\n",
       "<td class=val>Leonardo da Vinci</td></tr></table><div class=\"tinfo\">Total: 2, Shown: 2</div></div>"
      ]
     },
     "metadata": {},
     "output_type": "display_data"
    }
   ],
   "source": [
    "%capture html --to html_table\n",
    "\n",
    "%format json\n",
    "%display table \n",
    "%endpoint http://dbpedia.org/sparql\n",
    "\n",
    "PREFIX rdfs: <http://www.w3.org/2000/01/rdf-schema#>\n",
    "PREFIX foaf:  <http://xmlns.com/foaf/0.1/>\n",
    "SELECT ?person ?name\n",
    "WHERE {\n",
    "    ?person a foaf:Person .\n",
    "    ?person rdfs:label ?name\n",
    "    FILTER regex(?name,\"da Vinci\",\"i\")\n",
    "    FILTER langMatches(lang(?name),\"en\")\n",
    "} LIMIT 2"
   ]
  },
  {
   "cell_type": "markdown",
   "metadata": {
    "kernel": "sparql"
   },
   "source": [
    "which contains the `text/html` data of two messages"
   ]
  },
  {
   "cell_type": "code",
   "execution_count": 15,
   "metadata": {
    "kernel": "SoS"
   },
   "outputs": [
    {
     "name": "stdout",
     "output_type": "stream",
     "text": [
      "<div class=\"krn-spql\"><div class=\"magic\">Return format: JSON</div><div class=\"magic\">Display: table</div><div class=\"magic\">Endpoint set to: http://dbpedia.org/sparql</div></div><div class=\"krn-spql\"><table><tr class=hdr><th>person</th>\n",
      "<th>name</th></tr><tr class=odd><td class=val><a href=\"http://dbpedia.org/resource/Paul_Da_Vinci\" target=\"_other\">http://dbpedia.org/resource/Paul_Da_Vinci</a></td>\n",
      "<td class=val>Paul Da Vinci</td></tr><tr class=even><td class=val><a href=\"http://dbpedia.org/resource/Leonardo_da_Vinci\" target=\"_other\">http://dbpedia.org/resource/Leonardo_da_Vinci</a></td>\n",
      "<td class=val>Leonardo da Vinci</td></tr></table><div class=\"tinfo\">Total: 2, Shown: 2</div></div>\n"
     ]
    }
   ],
   "source": [
    "print(html_table)"
   ]
  },
  {
   "cell_type": "markdown",
   "metadata": {
    "kernel": "SoS"
   },
   "source": [
    "Then, if you would like to process the output programatically, you can use one of the many powerful Python modules"
   ]
  },
  {
   "cell_type": "code",
   "execution_count": 16,
   "metadata": {
    "kernel": "SoS"
   },
   "outputs": [
    {
     "data": {
      "text/plain": [
       "[<a href=\"http://dbpedia.org/resource/Paul_Da_Vinci\" target=\"_other\">http://dbpedia.org/resource/Paul_Da_Vinci</a>,\n",
       " <a href=\"http://dbpedia.org/resource/Leonardo_da_Vinci\" target=\"_other\">http://dbpedia.org/resource/Leonardo_da_Vinci</a>]"
      ]
     },
     "execution_count": 16,
     "metadata": {},
     "output_type": "execute_result"
    }
   ],
   "source": [
    "from bs4 import BeautifulSoup\n",
    "soup = BeautifulSoup(html_table, 'html.parser')\n",
    "soup.find_all('a')"
   ]
  },
  {
   "cell_type": "markdown",
   "metadata": {
    "kernel": "SoS"
   },
   "source": [
    "### Capture formatted content"
   ]
  },
  {
   "cell_type": "markdown",
   "metadata": {
    "kernel": "SoS"
   },
   "source": [
    "If the output of a cell is well-formatted, it is possible to capture the output as variables in a type other than `str`.\n",
    "\n",
    "For example, if you would like to capture the size of some files from a few notebook files. Instead of using Python scripts, you could possibly use a shell command as follows "
   ]
  },
  {
   "cell_type": "code",
   "execution_count": 17,
   "metadata": {
    "kernel": "SoS"
   },
   "outputs": [
    {
     "data": {
      "text/html": [
       "<div class=\"sos_hint\">> !ls -l ex*.ipynb  | awk '{printf(\"%s,%d\\n\", $9, $5)}'<br></div>"
      ]
     },
     "metadata": {},
     "output_type": "display_data"
    },
    {
     "name": "stdout",
     "output_type": "stream",
     "text": [
      "10:35,0\n",
      "11:29,0\n",
      "13:44,0\n",
      "13:42,0\n",
      "11:30,0\n"
     ]
    }
   ],
   "source": [
    "!ls -l ex*.ipynb  | awk '{{printf(\"%s,%d\\n\", $9, $5)}}'"
   ]
  },
  {
   "cell_type": "markdown",
   "metadata": {
    "kernel": "SoS"
   },
   "source": [
    "The output is well formatted so you can capture it in csv format as follows"
   ]
  },
  {
   "cell_type": "code",
   "execution_count": 18,
   "metadata": {
    "kernel": "SoS"
   },
   "outputs": [
    {
     "data": {
      "text/html": [
       "<div class=\"sos_hint\">> !ls -l ex*.ipynb  | awk '{printf(\"%s,%d\\n\", $9, $5)}'<br></div>"
      ]
     },
     "metadata": {},
     "output_type": "display_data"
    },
    {
     "name": "stdout",
     "output_type": "stream",
     "text": [
      "10:35,0\n",
      "11:29,0\n",
      "13:44,0\n",
      "13:42,0\n",
      "11:30,0\n"
     ]
    }
   ],
   "source": [
    "%capture stdout --as csv --to notebooks\n",
    "!ls -l ex*.ipynb  | awk '{{printf(\"%s,%d\\n\", $9, $5)}}'"
   ]
  },
  {
   "cell_type": "markdown",
   "metadata": {
    "kernel": "SoS"
   },
   "source": [
    "The resulting variable is a Pandas DataFrame but unfortunately treated the first data line as header, which is not entirely correct here."
   ]
  },
  {
   "cell_type": "code",
   "execution_count": 19,
   "metadata": {
    "kernel": "SoS"
   },
   "outputs": [
    {
     "data": {
      "text/html": [
       "<div>\n",
       "<style scoped>\n",
       "    .dataframe tbody tr th:only-of-type {\n",
       "        vertical-align: middle;\n",
       "    }\n",
       "\n",
       "    .dataframe tbody tr th {\n",
       "        vertical-align: top;\n",
       "    }\n",
       "\n",
       "    .dataframe thead th {\n",
       "        text-align: right;\n",
       "    }\n",
       "</style>\n",
       "<table border=\"1\" class=\"dataframe\">\n",
       "  <thead>\n",
       "    <tr style=\"text-align: right;\">\n",
       "      <th></th>\n",
       "      <th>10:35</th>\n",
       "      <th>0</th>\n",
       "    </tr>\n",
       "  </thead>\n",
       "  <tbody>\n",
       "    <tr>\n",
       "      <th>0</th>\n",
       "      <td>11:29</td>\n",
       "      <td>0</td>\n",
       "    </tr>\n",
       "    <tr>\n",
       "      <th>1</th>\n",
       "      <td>13:44</td>\n",
       "      <td>0</td>\n",
       "    </tr>\n",
       "    <tr>\n",
       "      <th>2</th>\n",
       "      <td>13:42</td>\n",
       "      <td>0</td>\n",
       "    </tr>\n",
       "    <tr>\n",
       "      <th>3</th>\n",
       "      <td>11:30</td>\n",
       "      <td>0</td>\n",
       "    </tr>\n",
       "  </tbody>\n",
       "</table>\n",
       "</div>"
      ],
      "text/plain": [
       "   10:35  0\n",
       "0  11:29  0\n",
       "1  13:44  0\n",
       "2  13:42  0\n",
       "3  11:30  0"
      ]
     },
     "execution_count": 19,
     "metadata": {},
     "output_type": "execute_result"
    }
   ],
   "source": [
    "notebooks"
   ]
  },
  {
   "cell_type": "markdown",
   "metadata": {
    "kernel": "SoS"
   },
   "source": [
    "The `%capture` magic can capture data in `text` (default), `json`, `csv`, and `tsv` format, and can append to instead of replacing an existing variable (option `-a`). Please refer to the [SoS Magics reference](sos_magics.html) or command `%capture -h` for a comlete list of options."
   ]
  },
  {
   "cell_type": "markdown",
   "metadata": {
    "kernel": "SoS"
   },
   "source": [
    "## <a id=\"magic_render\"></a>Intercept and render cell output with magic `%render` "
   ]
  },
  {
   "cell_type": "markdown",
   "metadata": {
    "kernel": "SoS"
   },
   "source": [
    "The `%render` magic intercepts the output of a cell, convert it to certain format before displaying it in the notebook. The format can be any format supported by the [`IPython.display` module](https://ipython.org/ipython-doc/3/api/generated/IPython.display.html) and is default to `Markdown`."
   ]
  },
  {
   "cell_type": "markdown",
   "metadata": {
    "kernel": "SoS"
   },
   "source": [
    "For example, if you have a dataset "
   ]
  },
  {
   "cell_type": "code",
   "execution_count": 20,
   "metadata": {
    "kernel": "SoS"
   },
   "outputs": [],
   "source": [
    "data = [('John', 'Smith', 50),\n",
    "        ('Eve', 'Jackson', 35)\n",
    "       ]"
   ]
  },
  {
   "cell_type": "markdown",
   "metadata": {
    "kernel": "SoS"
   },
   "source": [
    "You can format it in HTML format"
   ]
  },
  {
   "cell_type": "code",
   "execution_count": 21,
   "metadata": {
    "kernel": "SoS"
   },
   "outputs": [
    {
     "name": "stdout",
     "output_type": "stream",
     "text": [
      "\n",
      "<table>\n",
      "  <tr>\n",
      "    <th>Firstname</th>\n",
      "    <th>Lastname</th> \n",
      "    <th>Age</th>\n",
      "  </tr>\n",
      "\n",
      "  <tr>\n",
      "    <td>John</td>\n",
      "    <td>Smith</td> \n",
      "    <td>50</td>\n",
      "  </tr>\n",
      "\n",
      "  <tr>\n",
      "    <td>Eve</td>\n",
      "    <td>Jackson</td> \n",
      "    <td>35</td>\n",
      "  </tr>\n",
      "</table>\n"
     ]
    }
   ],
   "source": [
    "res = '''\n",
    "<table>\n",
    "  <tr>\n",
    "    <th>Firstname</th>\n",
    "    <th>Lastname</th> \n",
    "    <th>Age</th>\n",
    "  </tr>\n",
    "'''\n",
    "for first_name, last_name, age in data:\n",
    "    res += f'''\n",
    "  <tr>\n",
    "    <td>{first_name}</td>\n",
    "    <td>{last_name}</td> \n",
    "    <td>{age}</td>\n",
    "  </tr>\n",
    "'''\n",
    "res += '</table>'\n",
    "\n",
    "print(res)"
   ]
  },
  {
   "cell_type": "markdown",
   "metadata": {
    "kernel": "SoS"
   },
   "source": [
    "and render it as a HTML table."
   ]
  },
  {
   "cell_type": "code",
   "execution_count": 22,
   "metadata": {
    "kernel": "SoS"
   },
   "outputs": [
    {
     "data": {
      "text/html": [
       "\n",
       "<table>\n",
       "  <tr>\n",
       "    <th>Firstname</th>\n",
       "    <th>Lastname</th> \n",
       "    <th>Age</th>\n",
       "  </tr>\n",
       "\n",
       "  <tr>\n",
       "    <td>John</td>\n",
       "    <td>Smith</td> \n",
       "    <td>50</td>\n",
       "  </tr>\n",
       "\n",
       "  <tr>\n",
       "    <td>Eve</td>\n",
       "    <td>Jackson</td> \n",
       "    <td>35</td>\n",
       "  </tr>\n",
       "</table>"
      ],
      "text/plain": [
       "<IPython.core.display.HTML object>"
      ]
     },
     "execution_count": 22,
     "metadata": {},
     "output_type": "execute_result"
    }
   ],
   "source": [
    "%render --as HTML\n",
    "res"
   ]
  },
  {
   "cell_type": "markdown",
   "metadata": {
    "kernel": "SoS"
   },
   "source": [
    "Currently `%render` only renders `stdout` (of `stream` messages, default) and `text` (`text/plain` of `display_data` messages) contents, and you should probably use `%capture raw` to check the type of output before you `%render`."
   ]
  },
  {
   "cell_type": "markdown",
   "metadata": {
    "kernel": "SoS"
   },
   "source": [
    "The `%render` magic accepts any renderer that is defined in the `IPython.display` module. The following cell lists all renderers,"
   ]
  },
  {
   "cell_type": "code",
   "execution_count": 23,
   "metadata": {
    "kernel": "SoS"
   },
   "outputs": [
    {
     "name": "stdout",
     "output_type": "stream",
     "text": [
      "Options of magic %render\n",
      "* DisplayObject\n",
      "* TextDisplayObject\n",
      "* Pretty\n",
      "* HTML\n",
      "* Markdown\n",
      "* Math\n",
      "* Latex\n",
      "* SVG\n",
      "* ProgressBar\n",
      "* JSON\n",
      "* GeoJSON\n",
      "* Javascript\n",
      "* Image\n",
      "* Video\n",
      "* Audio\n",
      "* Code\n"
     ]
    }
   ],
   "source": [
    "import IPython.display\n",
    "import inspect\n",
    "\n",
    "print('Options of magic %render')\n",
    "for key in IPython.display.__dict__.keys():\n",
    "    cls = getattr(IPython.display, key)\n",
    "    if inspect.isclass(cls) and issubclass(cls, IPython.display.DisplayObject):\n",
    "        print('* {}'.format(key))"
   ]
  },
  {
   "cell_type": "markdown",
   "metadata": {
    "kernel": "SoS"
   },
   "source": [
    "and of course a `%render` magic would treat the output as markdown format and display the items as bullet points:"
   ]
  },
  {
   "cell_type": "code",
   "execution_count": 24,
   "metadata": {
    "kernel": "SoS"
   },
   "outputs": [
    {
     "data": {
      "text/markdown": [
       "Options of magic %render\n",
       "* DisplayObject\n",
       "* TextDisplayObject\n",
       "* Pretty\n",
       "* HTML\n",
       "* Markdown\n",
       "* Math\n",
       "* Latex\n",
       "* SVG\n",
       "* ProgressBar\n",
       "* JSON\n",
       "* GeoJSON\n",
       "* Javascript\n",
       "* Image\n",
       "* Video\n",
       "* Audio\n",
       "* Code\n"
      ],
      "text/plain": [
       "<IPython.core.display.Markdown object>"
      ]
     },
     "metadata": {},
     "output_type": "display_data"
    }
   ],
   "source": [
    "%render\n",
    "import IPython.display\n",
    "import inspect\n",
    "\n",
    "print('Options of magic %render')\n",
    "for key in IPython.display.__dict__.keys():\n",
    "    cls = getattr(IPython.display, key)\n",
    "    if inspect.isclass(cls) and issubclass(cls, IPython.display.DisplayObject):\n",
    "        print('* {}'.format(key))"
   ]
  },
  {
   "cell_type": "markdown",
   "metadata": {
    "kernel": "SoS"
   },
   "source": [
    "The ability to render text output as markdown text alleviatea a problem with the Jupyter notebooks in that its markdown cells cannot contain variables, so you cannot really mix results with their descriptions as easily as what Rmarkdown inline expressions do. However, with the `%render` magic, you can write markdown text as a string in any kernel, and use the `%render` magic to display it. \n",
    "\n",
    "For example, if you have `res` obtained from some analysis"
   ]
  },
  {
   "cell_type": "code",
   "execution_count": 25,
   "metadata": {
    "kernel": "R"
   },
   "outputs": [],
   "source": [
    "res <- rnorm(5)"
   ]
  },
  {
   "cell_type": "markdown",
   "metadata": {
    "kernel": "R"
   },
   "source": [
    "You can report the result by generating a markdown text programmatically and use the `%render` magic to render it"
   ]
  },
  {
   "cell_type": "code",
   "execution_count": 26,
   "metadata": {
    "kernel": "R"
   },
   "outputs": [
    {
     "data": {
      "text/markdown": [
       "Array of size 5\n",
       "\n",
       " * 1.08093160164272 \n",
       " * 0.847488857762835 \n",
       " * -0.702061156101016 \n",
       " * 0.471996793250837 \n",
       " * -0.200615864745463 \n"
      ],
      "text/plain": [
       "<IPython.core.display.Markdown object>"
      ]
     },
     "metadata": {},
     "output_type": "display_data"
    }
   ],
   "source": [
    "%render\n",
    "cat(paste0('Array of size ', length(res), '\\n\\n'),\n",
    "    paste('*', res, '\\n'))"
   ]
  },
  {
   "cell_type": "markdown",
   "metadata": {
    "kernel": "R"
   },
   "source": [
    "This is less intuitive than writing down markdown text directly but you have the flexibility to generate the markdown text using any language and you can use conditions and loops to automate the output of long reports."
   ]
  },
  {
   "cell_type": "markdown",
   "metadata": {
    "kernel": "SoS"
   },
   "source": [
    "## Further reading\n",
    "\n",
    "* [Exchanging data among kernels](doc/user_guide/exchange_variable.html) for other options to exchange data between kernels"
   ]
  }
 ],
 "metadata": {
  "kernelspec": {
   "display_name": "SoS",
   "language": "sos",
   "name": "sos"
  },
  "language_info": {
   "codemirror_mode": "sos",
   "file_extension": ".sos",
   "mimetype": "text/x-sos",
   "name": "sos",
   "nbconvert_exporter": "sos_notebook.converter.SoS_Exporter",
   "pygments_lexer": "sos"
  },
  "sos": {
   "kernels": [
    [
     "Bash",
     "bash",
     "Bash",
     "#E6EEFF",
     "shell"
    ],
    [
     "R",
     "ir",
     "R",
     "#DCDCDA",
     "r"
    ],
    [
     "SoS",
     "sos",
     "",
     "",
     "sos"
    ],
    [
     "sparql",
     "sparql",
     "sparql",
     "",
     {
      "name": "sparql"
     }
    ]
   ],
   "panel": {
    "displayed": true,
    "height": 0
   },
   "version": "0.19.6"
  }
 },
 "nbformat": 4,
 "nbformat_minor": 4
}
