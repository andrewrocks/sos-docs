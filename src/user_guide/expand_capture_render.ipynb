{
 "cells": [
  {
   "cell_type": "markdown",
   "metadata": {
    "kernel": "SoS"
   },
   "source": [
    "# How to deal with input and output of subkernels"
   ]
  },
  {
   "cell_type": "markdown",
   "metadata": {
    "kernel": "SoS"
   },
   "source": [
    "* **Difficulty level**: easy\n",
    "* **Time need to lean**: 10 minutes or less\n",
    "* **Key points**:\n",
    "  * `%expand` treats input of cell as a Python f-string and expand it before sendint to subkernel\n",
    "  * `%capture` captures output from subkernels and save them into Python variables\n",
    "  * `%render` renders output from subkernels in different formats\n",
    "  "
   ]
  },
  {
   "cell_type": "markdown",
   "metadata": {
    "kernel": "sos"
   },
   "source": [
    "## <a id=\"magic_expand\"></a>`%expand` "
   ]
  },
  {
   "cell_type": "markdown",
   "metadata": {
    "kernel": "SoS"
   },
   "source": [
    "Script in SoS cells are by default sent to SoS or the subkernels in verbatim. However, similar to the `expand` option of the SoS actions, you can interpolate scripts before they are executed by the kernels. Basically,\n",
    "\n",
    "1. By default, scripts are not interpolated.\n",
    "2. With `%expand` magic, scripts are treated as Python f-string and are interpolated with sigil `{ }`\n",
    "3. With `%expand ${ }` or other sigils, scripts are interpolated with specified sigil so that you can avoid using symbols that already used in the script.\n",
    "\n",
    "As you can imagine, string interpolation allows passing information from the SoS kernel to the subkernels. Although this method is less flexible and powerful than inter-kernel variable exchange using magics such as `%get`, it is sometimes easier to use and can be especially useful if you plan to include the script as a SoS action in a SoS workflow.\n",
    "\n",
    "For example,"
   ]
  },
  {
   "cell_type": "code",
   "execution_count": 8,
   "metadata": {
    "collapsed": true,
    "kernel": "SoS"
   },
   "outputs": [],
   "source": [
    "par = 100"
   ]
  },
  {
   "cell_type": "code",
   "execution_count": 9,
   "metadata": {
    "kernel": "R"
   },
   "outputs": [
    {
     "name": "stdout",
     "output_type": "stream",
     "text": [
      "A parameter 100 is specified."
     ]
    }
   ],
   "source": [
    "%expand\n",
    "cat(\"A parameter {par} is specified.\")"
   ]
  },
  {
   "cell_type": "markdown",
   "metadata": {
    "kernel": "SoS"
   },
   "source": [
    "If the script contains `{ }`, which is quite common in R, you can double the braces "
   ]
  },
  {
   "cell_type": "code",
   "execution_count": 10,
   "metadata": {
    "kernel": "R"
   },
   "outputs": [
    {
     "name": "stdout",
     "output_type": "stream",
     "text": [
      "A parameter 100 greater than 50 is specified."
     ]
    }
   ],
   "source": [
    "%expand\n",
    "if ({par} > 50) {{\n",
    "    cat(\"A parameter {par} greater than 50 is specified.\");\n",
    "}}"
   ]
  },
  {
   "cell_type": "markdown",
   "metadata": {
    "kernel": "SoS"
   },
   "source": [
    "If there are multiple braces, it is obviously better to use a different sigil, such as `${ }` to interpolate the script"
   ]
  },
  {
   "cell_type": "code",
   "execution_count": 11,
   "metadata": {
    "kernel": "R"
   },
   "outputs": [
    {
     "name": "stdout",
     "output_type": "stream",
     "text": [
      "A parameter 100 greater than 50 is specified."
     ]
    }
   ],
   "source": [
    "%expand ${ }\n",
    "if (${par} > 50) {\n",
    "    cat(\"A parameter ${par} greater than 50 is specified.\");\n",
    "}"
   ]
  },
  {
   "cell_type": "markdown",
   "metadata": {
    "kernel": "SoS"
   },
   "source": [
    "### <a id=\"magic_get\"></a>`%get` "
   ]
  },
  {
   "cell_type": "markdown",
   "metadata": {
    "kernel": "SoS"
   },
   "source": [
    "Magics `%get` retrieve variables from SoS or another subkernel to the current subkernel started by magic `%use`."
   ]
  },
  {
   "cell_type": "markdown",
   "metadata": {
    "kernel": "SoS"
   },
   "source": [
    "For example,"
   ]
  },
  {
   "cell_type": "code",
   "execution_count": 12,
   "metadata": {
    "collapsed": true,
    "kernel": "SoS",
    "workflow_cell": false
   },
   "outputs": [],
   "source": [
    "%use sos\n",
    "a = [1, 2, 3]\n",
    "b = [1, 2, \"3\"]\n",
    "c = True"
   ]
  },
  {
   "cell_type": "code",
   "execution_count": 13,
   "metadata": {
    "kernel": "R"
   },
   "outputs": [
    {
     "data": {
      "text/html": [
       "<ol class=list-inline>\n",
       "\t<li>1</li>\n",
       "\t<li>2</li>\n",
       "\t<li>3</li>\n",
       "</ol>\n"
      ],
      "text/latex": [
       "\\begin{enumerate*}\n",
       "\\item 1\n",
       "\\item 2\n",
       "\\item 3\n",
       "\\end{enumerate*}\n"
      ],
      "text/markdown": [
       "1. 1\n",
       "2. 2\n",
       "3. 3\n",
       "\n",
       "\n"
      ],
      "text/plain": [
       "[1] 1 2 3"
      ]
     },
     "metadata": {},
     "output_type": "display_data"
    }
   ],
   "source": [
    "%use R\n",
    "%get a b c\n",
    "a"
   ]
  },
  {
   "cell_type": "code",
   "execution_count": 14,
   "metadata": {
    "kernel": "R"
   },
   "outputs": [
    {
     "data": {
      "text/html": [
       "<ol>\n",
       "\t<li>1</li>\n",
       "\t<li>2</li>\n",
       "\t<li>'3'</li>\n",
       "</ol>\n"
      ],
      "text/latex": [
       "\\begin{enumerate}\n",
       "\\item 1\n",
       "\\item 2\n",
       "\\item '3'\n",
       "\\end{enumerate}\n"
      ],
      "text/markdown": [
       "1. 1\n",
       "2. 2\n",
       "3. '3'\n",
       "\n",
       "\n"
      ],
      "text/plain": [
       "[[1]]\n",
       "[1] 1\n",
       "\n",
       "[[2]]\n",
       "[1] 2\n",
       "\n",
       "[[3]]\n",
       "[1] \"3\"\n"
      ]
     },
     "metadata": {},
     "output_type": "display_data"
    }
   ],
   "source": [
    "b"
   ]
  },
  {
   "cell_type": "code",
   "execution_count": 15,
   "metadata": {
    "kernel": "R"
   },
   "outputs": [
    {
     "data": {
      "text/html": [
       "TRUE"
      ],
      "text/latex": [
       "TRUE"
      ],
      "text/markdown": [
       "TRUE"
      ],
      "text/plain": [
       "[1] TRUE"
      ]
     },
     "metadata": {},
     "output_type": "display_data"
    }
   ],
   "source": [
    "c"
   ]
  },
  {
   "cell_type": "markdown",
   "metadata": {
    "kernel": "SoS"
   },
   "source": [
    "The `%preview` magic cannot be used to preview variables in the subkernel so we have to list them one by one. As you can see, a Python list can be converted to `R` array or list depending on its content. "
   ]
  },
  {
   "cell_type": "markdown",
   "metadata": {
    "kernel": "SoS"
   },
   "source": [
    "Similar to the `%put` magic, SoS automatically translate variables with invalid Python names. For example"
   ]
  },
  {
   "cell_type": "code",
   "execution_count": 16,
   "metadata": {
    "collapsed": true,
    "kernel": "SoS",
    "workflow_cell": false
   },
   "outputs": [],
   "source": [
    "%use sos\n",
    "_var = 'Hi, Bob'"
   ]
  },
  {
   "cell_type": "code",
   "execution_count": 17,
   "metadata": {
    "kernel": "R"
   },
   "outputs": [
    {
     "name": "stderr",
     "output_type": "stream",
     "text": [
      "Variable _var is passed from SoS to kernel ir as .var\n"
     ]
    },
    {
     "data": {
      "text/html": [
       "'Hi, Bob'"
      ],
      "text/latex": [
       "'Hi, Bob'"
      ],
      "text/markdown": [
       "'Hi, Bob'"
      ],
      "text/plain": [
       "[1] \"Hi, Bob\""
      ]
     },
     "metadata": {},
     "output_type": "display_data"
    }
   ],
   "source": [
    "%use R\n",
    "%get _var\n",
    ".var"
   ]
  },
  {
   "cell_type": "code",
   "execution_count": 18,
   "metadata": {
    "collapsed": true,
    "kernel": "SoS",
    "output_cache": "[]"
   },
   "outputs": [],
   "source": [
    "%use sos"
   ]
  },
  {
   "cell_type": "markdown",
   "metadata": {
    "kernel": "SoS",
    "output_cache": "[]"
   },
   "source": [
    "Also similar to the `--to` option of magic `%put`, magic `%get` accept a parameter `--from` to get variables from SoS (default) any kernel. For example,"
   ]
  },
  {
   "cell_type": "code",
   "execution_count": 19,
   "metadata": {
    "collapsed": true,
    "kernel": "R",
    "output_cache": "[]"
   },
   "outputs": [],
   "source": [
    "R_var <- 'R variable'"
   ]
  },
  {
   "cell_type": "code",
   "execution_count": 20,
   "metadata": {
    "kernel": "Python3",
    "output_cache": "[{\"output_type\":\"execute_result\",\"data\":{\"text/plain\":\"'R variable'\"},\"metadata\":{},\"execution_count\":49}]"
   },
   "outputs": [
    {
     "data": {
      "text/plain": [
       "'R variable'"
      ]
     },
     "execution_count": 20,
     "metadata": {},
     "output_type": "execute_result"
    }
   ],
   "source": [
    "%get --from R R_var\n",
    "R_var"
   ]
  },
  {
   "cell_type": "markdown",
   "metadata": {
    "kernel": "SoS"
   },
   "source": [
    "Depending on how the language module is defined, such cross-subkernel variable exchange can be achived directly, or by way of SoS, so after the `%get --from R R_var` statement, the `R_var` variable might or might not exist in the SoS kernel."
   ]
  },
  {
   "cell_type": "markdown",
   "metadata": {
    "kernel": "SoS"
   },
   "source": [
    "## <a id=\"magic_render\"></a>`%render` "
   ]
  },
  {
   "cell_type": "markdown",
   "metadata": {
    "kernel": "SoS"
   },
   "source": [
    "The `%render` magic converts the output of a cell to certain format before displaying it in the notebook. The format can be any format supported by the [`IPython.display` module](https://ipython.org/ipython-doc/3/api/generated/IPython.display.html) and is default to `Markdown`. For example, the following code displays all supported options of `%render` by checking the subclasses of `IPython.display`. The cell returns a string in markdown format and is rendered in `Markdown`."
   ]
  },
  {
   "cell_type": "code",
   "execution_count": 1,
   "metadata": {
    "kernel": "SoS"
   },
   "outputs": [
    {
     "data": {
      "text/markdown": [
       "\n",
       "Options of magic %render\n",
       "\n",
       "* DisplayObject\n",
       "* TextDisplayObject\n",
       "* Pretty\n",
       "* HTML\n",
       "* Markdown\n",
       "* Math\n",
       "* Latex\n",
       "* SVG\n",
       "* ProgressBar\n",
       "* JSON\n",
       "* GeoJSON\n",
       "* Javascript\n",
       "* Image\n",
       "* Video\n",
       "* Audio\n",
       "* Code\n"
      ],
      "text/plain": [
       "<IPython.core.display.Markdown object>"
      ]
     },
     "execution_count": 1,
     "metadata": {},
     "output_type": "execute_result"
    }
   ],
   "source": [
    "%render\n",
    "import IPython.display\n",
    "import inspect\n",
    "\n",
    "res = '''\n",
    "Options of magic %render\n",
    "\n",
    "'''\n",
    "\n",
    "for key in IPython.display.__dict__.keys():\n",
    "    cls = getattr(IPython.display, key)\n",
    "    if inspect.isclass(cls) and issubclass(cls, IPython.display.DisplayObject):\n",
    "        res += '* {}\\n'.format(key)\n",
    "\n",
    "# this is the output of this cell and will be rendered in Markdown format\n",
    "res"
   ]
  },
  {
   "cell_type": "markdown",
   "metadata": {
    "kernel": "SoS"
   },
   "source": [
    "Similarly, you can use magic `%render` to render output in other formats:"
   ]
  },
  {
   "cell_type": "code",
   "execution_count": 2,
   "metadata": {
    "kernel": "SoS"
   },
   "outputs": [
    {
     "data": {
      "text/html": [
       "\n",
       "This is a table in HTML format <br>\n",
       "<table style=\"width:100%\">\n",
       "  <tr>\n",
       "    <th>Firstname</th>\n",
       "    <th>Lastname</th> \n",
       "    <th>Age</th>\n",
       "  </tr>\n",
       "  <tr>\n",
       "    <td>Jill</td>\n",
       "    <td>Smith</td> \n",
       "    <td>50</td>\n",
       "  </tr>\n",
       "  <tr>\n",
       "    <td>Eve</td>\n",
       "    <td>Jackson</td> \n",
       "    <td>94</td>\n",
       "  </tr>\n",
       "</table>\n"
      ],
      "text/plain": [
       "<IPython.core.display.HTML object>"
      ]
     },
     "execution_count": 2,
     "metadata": {},
     "output_type": "execute_result"
    }
   ],
   "source": [
    "%render --as HTML\n",
    "'''\n",
    "This is a table in HTML format <br>\n",
    "<table style=\"width:100%\">\n",
    "  <tr>\n",
    "    <th>Firstname</th>\n",
    "    <th>Lastname</th> \n",
    "    <th>Age</th>\n",
    "  </tr>\n",
    "  <tr>\n",
    "    <td>Jill</td>\n",
    "    <td>Smith</td> \n",
    "    <td>50</td>\n",
    "  </tr>\n",
    "  <tr>\n",
    "    <td>Eve</td>\n",
    "    <td>Jackson</td> \n",
    "    <td>94</td>\n",
    "  </tr>\n",
    "</table>\n",
    "'''"
   ]
  },
  {
   "cell_type": "markdown",
   "metadata": {
    "kernel": "SoS"
   },
   "source": [
    "The `%render` magic captures not only the return value of SoS cell, but also standard output of SoS and other cells. For example, a subprocess of the following cell (a Python script) prints the content of a SVG file to standard output, which is captured and displayed by magic `%render`."
   ]
  },
  {
   "cell_type": "code",
   "execution_count": 3,
   "metadata": {
    "kernel": "SoS",
    "scrolled": false
   },
   "outputs": [
    {
     "name": "stdout",
     "output_type": "stream",
     "text": [
      "\n",
      " <svg height=\"140\" width=\"140\">\n",
      "  <defs>\n",
      "    <filter id=\"f1\" x=\"0\" y=\"0\" width=\"200%\" height=\"200%\">\n",
      "      <feOffset result=\"offOut\" in=\"SourceAlpha\" dx=\"20\" dy=\"20\" />\n",
      "      <feGaussianBlur result=\"blurOut\" in=\"offOut\" stdDeviation=\"10\" />\n",
      "      <feBlend in=\"SourceGraphic\" in2=\"blurOut\" mode=\"normal\" />\n",
      "    </filter>\n",
      "  </defs>\n",
      "  <rect width=\"90\" height=\"90\" stroke=\"green\" stroke-width=\"3\" fill=\"yellow\" filter=\"url(#f1)\" />\n",
      "  Sorry, your browser does not support inline SVG.\n",
      " </svg>\n",
      "\n"
     ]
    },
    {
     "data": {
      "image/svg+xml": [
       "<svg height=\"140\" width=\"140\">\n",
       "  <defs>\n",
       "    <filter height=\"200%\" id=\"f1\" width=\"200%\" x=\"0\" y=\"0\">\n",
       "      <feOffset dx=\"20\" dy=\"20\" in=\"SourceAlpha\" result=\"offOut\"/>\n",
       "      <feGaussianBlur in=\"offOut\" result=\"blurOut\" stdDeviation=\"10\"/>\n",
       "      <feBlend in=\"SourceGraphic\" in2=\"blurOut\" mode=\"normal\"/>\n",
       "    </filter>\n",
       "  </defs>\n",
       "  <rect fill=\"yellow\" filter=\"url(#f1)\" height=\"90\" stroke=\"green\" stroke-width=\"3\" width=\"90\"/>\n",
       "  Sorry, your browser does not support inline SVG.\n",
       " </svg>"
      ],
      "text/plain": [
       "<IPython.core.display.SVG object>"
      ]
     },
     "metadata": {},
     "output_type": "display_data"
    }
   ],
   "source": [
    "%render --as SVG\n",
    "python:\n",
    "print(r'''\n",
    " <svg height=\"140\" width=\"140\">\n",
    "  <defs>\n",
    "    <filter id=\"f1\" x=\"0\" y=\"0\" width=\"200%\" height=\"200%\">\n",
    "      <feOffset result=\"offOut\" in=\"SourceAlpha\" dx=\"20\" dy=\"20\" />\n",
    "      <feGaussianBlur result=\"blurOut\" in=\"offOut\" stdDeviation=\"10\" />\n",
    "      <feBlend in=\"SourceGraphic\" in2=\"blurOut\" mode=\"normal\" />\n",
    "    </filter>\n",
    "  </defs>\n",
    "  <rect width=\"90\" height=\"90\" stroke=\"green\" stroke-width=\"3\" fill=\"yellow\" filter=\"url(#f1)\" />\n",
    "  Sorry, your browser does not support inline SVG.\n",
    " </svg>\n",
    "''')"
   ]
  },
  {
   "cell_type": "markdown",
   "metadata": {
    "kernel": "SoS"
   },
   "source": [
    "The `%render` magic also works for other kernels although it can be tricky to determine what is printed to standard output. For kernel R, the function to print to standard output is `cat` so you can use `cat` to print something to the standard output for `%render` to process. For example,"
   ]
  },
  {
   "cell_type": "code",
   "execution_count": 4,
   "metadata": {
    "kernel": "R"
   },
   "outputs": [
    {
     "name": "stdout",
     "output_type": "stream",
     "text": [
      "5 random numbers* -1.50442651757407\n",
      "* -0.977242498620981\n",
      "* 0.534575832846015\n",
      "* -0.390538801124654\n",
      "* 0.107239275008704"
     ]
    },
    {
     "data": {
      "text/markdown": [
       "5 random numbers* -1.50442651757407\n",
       "* -0.977242498620981\n",
       "* 0.534575832846015\n",
       "* -0.390538801124654\n",
       "* 0.107239275008704"
      ],
      "text/plain": [
       "<IPython.core.display.Markdown object>"
      ]
     },
     "metadata": {},
     "output_type": "display_data"
    }
   ],
   "source": [
    "%render\n",
    "a <- rnorm(5)\n",
    "cat(paste(length(a), \"random numbers\"))\n",
    "cat(paste('*', a, collapse='\\n'))"
   ]
  },
  {
   "cell_type": "markdown",
   "metadata": {
    "kernel": "R"
   },
   "source": [
    "Finally, it worth noting that `%render` captures `stdout` by default but it can also capture and render text from `text/html` from `display_data` messages. This requires a parameter `text` after `%render`. Please check the details about this capture mechanism from magic `%capture`."
   ]
  },
  {
   "cell_type": "markdown",
   "metadata": {
    "kernel": "SoS"
   },
   "source": [
    "## Further reading\n",
    "\n",
    "* "
   ]
  }
 ],
 "metadata": {
  "kernelspec": {
   "display_name": "SoS",
   "language": "sos",
   "name": "sos"
  },
  "language_info": {
   "codemirror_mode": "sos",
   "file_extension": ".sos",
   "mimetype": "text/x-sos",
   "name": "sos",
   "nbconvert_exporter": "sos_notebook.converter.SoS_Exporter",
   "pygments_lexer": "sos"
  },
  "sos": {
   "kernels": [
    [
     "Bash",
     "bash",
     "Bash",
     "#E6EEFF"
    ],
    [
     "R",
     "ir",
     "R",
     "#DCDCDA"
    ],
    [
     "SoS",
     "sos",
     "",
     ""
    ]
   ],
   "panel": {
    "displayed": true,
    "height": 0
   },
   "version": "0.17.5"
  }
 },
 "nbformat": 4,
 "nbformat_minor": 2
}
