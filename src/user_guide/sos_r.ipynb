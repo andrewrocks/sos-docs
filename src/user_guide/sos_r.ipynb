{
 "cells": [
  {
   "cell_type": "markdown",
   "metadata": {
    "kernel": "SoS"
   },
   "source": [
    "# How to work with R"
   ]
  },
  {
   "cell_type": "markdown",
   "metadata": {
    "kernel": "SoS"
   },
   "source": [
    "* **Difficulty level**: easy\n",
    "* **Time need to lean**: 15 minutes or less\n",
    "* **Key points**:\n",
    "  * There are intuitive corresponding data types between most Python (SoS) and R datatypes"
   ]
  },
  {
   "cell_type": "markdown",
   "metadata": {
    "kernel": "SoS"
   },
   "source": [
    "## Installation"
   ]
  },
  {
   "cell_type": "markdown",
   "metadata": {
    "kernel": "SoS"
   },
   "source": [
    "There are several options to install `R` and its jupyter kernel [irjernel](https://github.com/IRkernel/IRkernel), the easiest of which might be using `conda` but it could be tricky to install third-party libraries of R to conda, and mixing R packages from the `base` and `r` channels can lead to devastating results.\n",
    "\n",
    "Anyway, after you have a working R installation with `irkernel` installed, you will need to install\n",
    "\n",
    "* The `sos-r` language module,\n",
    "* The `feather` library of R, and\n",
    "* The `feather-format` module of Python\n",
    "\n",
    "The feature modules are needed to exchange dataframe between Python and R"
   ]
  },
  {
   "cell_type": "markdown",
   "metadata": {
    "kernel": "Matlab"
   },
   "source": [
    "## Overview"
   ]
  },
  {
   "cell_type": "markdown",
   "metadata": {
    "kernel": "Matlab"
   },
   "source": [
    "SoS transfers Python variables in the following types to R as follows:\n",
    "\n",
    "  \n",
    "  | Python  |  condition |   R |\n",
    "  | --- | --- |---|\n",
    "  | `None` | &nbsp; |    `NULL` |\n",
    "  | `integer` | &nbsp; |  `integer` |\n",
    "  | `integer` | `large` | `numeric` |\n",
    "  | `float` | &nbsp; |  `numeric` |\n",
    "  | `boolean` | &nbsp;  | `logical` |\n",
    "  | `complex` |&nbsp;  |  `complex` |\n",
    "  | `str` | &nbsp; | `character` |\n",
    "  | Sequence (`list`, `tuple`, ...) |  homogenous type |  `c()` |\n",
    "  | Sequence (`list`, `tuple`, ...) |  multiple types |  `list` |\n",
    "  | `set` | &nbsp; |  `list` |\n",
    "  | `dict` | &nbsp; |  `list` with names |\n",
    "  | `numpy.ndarray` | &nbsp; | array |\n",
    "  | `numpy.matrix` | &nbsp; | `matrix` |\n",
    "  | `pandas.DataFrame` |&nbsp;  |  R `data.frame` |\n",
    "\n"
   ]
  },
  {
   "cell_type": "markdown",
   "metadata": {
    "kernel": "Matlab"
   },
   "source": [
    "SoS gets variables in the following types to SoS as follows (`n` in `condition` column is the length of R datatype):\n",
    "  \n",
    "  | R  |  condition  |   Python |\n",
    "  | --- | --- |---|\n",
    "  | `NULL` | &nbsp;|    `None` |\n",
    "  | `logical` |  `n == 1` |  `boolean` |\n",
    "  | `integer` |  `n == 1` |  `integer` |\n",
    "  | `numeric` |  `n == 1` |  `double` |\n",
    "  | `character` |  `n == 1` |  `string` |\n",
    "  | `complex` |  `n == 1` |  `complex` |\n",
    "  | `logical` |  `n > 1` |  `list` |\n",
    "  | `integer` |  `n > 1` |  `list` |\n",
    "  | `complex` |  `n > 1` |  `list` |\n",
    "  | `numeric` |  `n > 1` |  `list` |\n",
    "  | `character` |  `n > 1` |  `list` |\n",
    "  | `list` without names | &nbsp;  | `list` |\n",
    "  | `list` with names | &nbsp;  |  `dict` (with ordered keys)|\n",
    "  | `matrix` | &nbsp;  |  `numpy.array` |\n",
    "  | `data.frame` | &nbsp; |  `DataFrame` |\n",
    "  | `array` | &nbsp;  |  `numpy.array` |"
   ]
  },
  {
   "cell_type": "markdown",
   "metadata": {
    "kernel": "SoS"
   },
   "source": [
    "One of the key problems in mapping R datatypes to Python is that R does not have scalar types and all scalar variables are actually array of size 1. That is to say, in theory, variable `a=1` should be represented in Python as `a=[1]`. However, because Python does differentiate scalar and array values, we chose to represent R arraies of size 1 as scalar types in Python."
   ]
  },
  {
   "cell_type": "code",
   "execution_count": 2,
   "metadata": {
    "kernel": "R"
   },
   "outputs": [],
   "source": [
    "%put a b\n",
    "a = c(1)\n",
    "b = c(1, 2)"
   ]
  },
  {
   "cell_type": "code",
   "execution_count": 3,
   "metadata": {
    "kernel": "SoS"
   },
   "outputs": [
    {
     "name": "stdout",
     "output_type": "stream",
     "text": [
      "a=1 with type <class 'int'>\n",
      "b=[1, 2] with type <class 'list'>\n"
     ]
    }
   ],
   "source": [
    "print(f'a={a} with type {type(a)}')\n",
    "print(f'b={b} with type {type(b)}')"
   ]
  },
  {
   "cell_type": "markdown",
   "metadata": {
    "kernel": "SoS"
   },
   "source": [
    "## Simple data types"
   ]
  },
  {
   "cell_type": "markdown",
   "metadata": {
    "kernel": "Matlab"
   },
   "source": [
    "Most simple Python data types can be converted to R types easily,"
   ]
  },
  {
   "cell_type": "code",
   "execution_count": 5,
   "metadata": {
    "jupyter": {
     "outputs_hidden": true
    },
    "kernel": "SoS"
   },
   "outputs": [],
   "source": [
    "null_var = None\n",
    "int_var = 123\n",
    "float_var = 3.1415925\n",
    "logic_var = True\n",
    "char_var = '1\"23'\n",
    "comp_var = 1+2j"
   ]
  },
  {
   "cell_type": "code",
   "execution_count": 6,
   "metadata": {
    "kernel": "R"
   },
   "outputs": [
    {
     "data": {
      "text/html": [
       "<div class=\"sos_hint\">> null_var: </div>"
      ],
      "text/plain": [
       ">>> null_var:\n"
      ]
     },
     "metadata": {},
     "output_type": "display_data"
    },
    {
     "name": "stdout",
     "output_type": "stream",
     "text": [
      " NULL\n"
     ]
    },
    {
     "data": {
      "text/html": [
       "<div class=\"sos_hint\">> int_var: </div>"
      ],
      "text/plain": [
       ">>> int_var:\n"
      ]
     },
     "metadata": {},
     "output_type": "display_data"
    },
    {
     "name": "stdout",
     "output_type": "stream",
     "text": [
      " num 123\n"
     ]
    },
    {
     "data": {
      "text/html": [
       "<div class=\"sos_hint\">> float_var: </div>"
      ],
      "text/plain": [
       ">>> float_var:\n"
      ]
     },
     "metadata": {},
     "output_type": "display_data"
    },
    {
     "name": "stdout",
     "output_type": "stream",
     "text": [
      " num 3.14\n"
     ]
    },
    {
     "data": {
      "text/html": [
       "<div class=\"sos_hint\">> logic_var: </div>"
      ],
      "text/plain": [
       ">>> logic_var:\n"
      ]
     },
     "metadata": {},
     "output_type": "display_data"
    },
    {
     "name": "stdout",
     "output_type": "stream",
     "text": [
      " logi TRUE\n"
     ]
    },
    {
     "data": {
      "text/html": [
       "<div class=\"sos_hint\">> char_var: </div>"
      ],
      "text/plain": [
       ">>> char_var:\n"
      ]
     },
     "metadata": {},
     "output_type": "display_data"
    },
    {
     "name": "stdout",
     "output_type": "stream",
     "text": [
      " chr \"1\\\"23\"\n"
     ]
    },
    {
     "data": {
      "text/html": [
       "<div class=\"sos_hint\">> comp_var: </div>"
      ],
      "text/plain": [
       ">>> comp_var:\n"
      ]
     },
     "metadata": {},
     "output_type": "display_data"
    },
    {
     "name": "stdout",
     "output_type": "stream",
     "text": [
      " cplx 1+2i\n"
     ]
    }
   ],
   "source": [
    "%get null_var int_var float_var logic_var char_var comp_var\n",
    "%preview -n null_var int_var float_var logic_var char_var comp_var"
   ]
  },
  {
   "cell_type": "markdown",
   "metadata": {
    "kernel": "R"
   },
   "source": [
    "The variables can be sent back to SoS without losing information"
   ]
  },
  {
   "cell_type": "code",
   "execution_count": 7,
   "metadata": {
    "kernel": "SoS"
   },
   "outputs": [
    {
     "data": {
      "text/html": [
       "<div class=\"sos_hint\">> null_var: NoneType</div>"
      ],
      "text/plain": [
       ">>> null_var:\n"
      ]
     },
     "metadata": {},
     "output_type": "display_data"
    },
    {
     "data": {
      "text/plain": [
       "None"
      ]
     },
     "metadata": {},
     "output_type": "display_data"
    },
    {
     "data": {
      "text/html": [
       "<div class=\"sos_hint\">> int_var: int</div>"
      ],
      "text/plain": [
       ">>> int_var:\n"
      ]
     },
     "metadata": {},
     "output_type": "display_data"
    },
    {
     "data": {
      "text/plain": [
       "123"
      ]
     },
     "metadata": {},
     "output_type": "display_data"
    },
    {
     "data": {
      "text/html": [
       "<div class=\"sos_hint\">> float_var: float</div>"
      ],
      "text/plain": [
       ">>> float_var:\n"
      ]
     },
     "metadata": {},
     "output_type": "display_data"
    },
    {
     "data": {
      "text/plain": [
       "3.1415925"
      ]
     },
     "metadata": {},
     "output_type": "display_data"
    },
    {
     "data": {
      "text/html": [
       "<div class=\"sos_hint\">> logic_var: bool</div>"
      ],
      "text/plain": [
       ">>> logic_var:\n"
      ]
     },
     "metadata": {},
     "output_type": "display_data"
    },
    {
     "data": {
      "text/plain": [
       "True"
      ]
     },
     "metadata": {},
     "output_type": "display_data"
    },
    {
     "data": {
      "text/html": [
       "<div class=\"sos_hint\">> char_var: str of length 4</div>"
      ],
      "text/plain": [
       ">>> char_var:\n"
      ]
     },
     "metadata": {},
     "output_type": "display_data"
    },
    {
     "data": {
      "text/plain": [
       "'1\"23'"
      ]
     },
     "metadata": {},
     "output_type": "display_data"
    },
    {
     "data": {
      "text/html": [
       "<div class=\"sos_hint\">> comp_var: complex</div>"
      ],
      "text/plain": [
       ">>> comp_var:\n"
      ]
     },
     "metadata": {},
     "output_type": "display_data"
    },
    {
     "data": {
      "text/plain": [
       "(1+2j)"
      ]
     },
     "metadata": {},
     "output_type": "display_data"
    }
   ],
   "source": [
    "%get null_var int_var float_var logic_var char_var comp_var --from R\n",
    "%preview -n null_var int_var float_var logic_var char_var comp_var"
   ]
  },
  {
   "cell_type": "markdown",
   "metadata": {
    "kernel": "R"
   },
   "source": [
    "However, because Python allows integers of arbitrary precision which is not supported by R, large integers would be presented in R as float point numbers, which might not be able to keep the precision of the original number.\n",
    "\n",
    "For example, if we put a large integer with 18 significant digits to R"
   ]
  },
  {
   "cell_type": "code",
   "execution_count": 8,
   "metadata": {
    "kernel": "SoS"
   },
   "outputs": [],
   "source": [
    "%put large_int --to R\n",
    "large_int = 123456789123456789"
   ]
  },
  {
   "cell_type": "markdown",
   "metadata": {
    "kernel": "SoS"
   },
   "source": [
    "The last digit would be different because of floating point presentation"
   ]
  },
  {
   "cell_type": "code",
   "execution_count": 9,
   "metadata": {
    "kernel": "R"
   },
   "outputs": [
    {
     "data": {
      "text/html": [
       "123456789123456784"
      ],
      "text/latex": [
       "123456789123456784"
      ],
      "text/markdown": [
       "123456789123456784"
      ],
      "text/plain": [
       "[1] 1.234568e+17"
      ]
     },
     "metadata": {},
     "output_type": "display_data"
    }
   ],
   "source": [
    "%put large_int\n",
    "large_int"
   ]
  },
  {
   "cell_type": "markdown",
   "metadata": {
    "kernel": "R"
   },
   "source": [
    "This is not a problem with SoS because you would get the same result if you enter this number in R"
   ]
  },
  {
   "cell_type": "code",
   "execution_count": 12,
   "metadata": {
    "kernel": "R"
   },
   "outputs": [
    {
     "data": {
      "text/html": [
       "123456789123456784"
      ],
      "text/latex": [
       "123456789123456784"
      ],
      "text/markdown": [
       "123456789123456784"
      ],
      "text/plain": [
       "[1] 1.234568e+17"
      ]
     },
     "metadata": {},
     "output_type": "display_data"
    }
   ],
   "source": [
    "123456789123456789"
   ]
  },
  {
   "cell_type": "markdown",
   "metadata": {
    "kernel": "R"
   },
   "source": [
    "Consequently, if you send `large_int` back to `SoS`, the number would be different"
   ]
  },
  {
   "cell_type": "code",
   "execution_count": 13,
   "metadata": {
    "kernel": "SoS"
   },
   "outputs": [
    {
     "data": {
      "text/plain": [
       "123456789123456784"
      ]
     },
     "execution_count": 13,
     "metadata": {},
     "output_type": "execute_result"
    }
   ],
   "source": [
    "%get large_int --from R\n",
    "large_int"
   ]
  },
  {
   "cell_type": "markdown",
   "metadata": {
    "kernel": "SoS"
   },
   "source": [
    "## Array, matrix, and dataframe"
   ]
  },
  {
   "cell_type": "markdown",
   "metadata": {
    "kernel": "R"
   },
   "source": [
    "The one-dimension (vector) data is converted from SoS to R as follows:"
   ]
  },
  {
   "cell_type": "code",
   "execution_count": 3,
   "metadata": {
    "collapsed": true,
    "jupyter": {
     "outputs_hidden": true
    },
    "kernel": "SoS"
   },
   "outputs": [],
   "source": [
    "import numpy\n",
    "import pandas\n",
    "char_arr_var = ['1', '2', '3']\n",
    "list_var = [1, 2, '3']\n",
    "dict_var = dict(a=1, b=2, c='3')\n",
    "set_var = {1, 2, '3'}\n",
    "recursive_var = {'a': {'b': 123}, 'c': True}\n",
    "logic_arr_var = [True, False, True]\n",
    "seri_var = pandas.Series([1,2,3,3,3,3])"
   ]
  },
  {
   "cell_type": "code",
   "execution_count": 4,
   "metadata": {
    "kernel": "R"
   },
   "outputs": [
    {
     "data": {
      "text/html": [
       "<div class=\"sos_hint\">> char_arr_var:</div>"
      ],
      "text/plain": [
       ">>> char_arr_var:\n"
      ]
     },
     "metadata": {},
     "output_type": "display_data"
    },
    {
     "data": {
      "text/html": [
       "<ol class=list-inline>\n",
       "\t<li>'1'</li>\n",
       "\t<li>'2'</li>\n",
       "\t<li>'3'</li>\n",
       "</ol>\n"
      ],
      "text/latex": [
       "\\begin{enumerate*}\n",
       "\\item '1'\n",
       "\\item '2'\n",
       "\\item '3'\n",
       "\\end{enumerate*}\n"
      ],
      "text/markdown": [
       "1. '1'\n",
       "2. '2'\n",
       "3. '3'\n",
       "\n",
       "\n"
      ],
      "text/plain": [
       "[1] \"1\" \"2\" \"3\""
      ]
     },
     "metadata": {},
     "output_type": "display_data"
    },
    {
     "data": {
      "text/html": [
       "<div class=\"sos_hint\">> list_var:</div>"
      ],
      "text/plain": [
       ">>> list_var:\n"
      ]
     },
     "metadata": {},
     "output_type": "display_data"
    },
    {
     "data": {
      "text/html": [
       "<ol>\n",
       "\t<li>1</li>\n",
       "\t<li>2</li>\n",
       "\t<li>'3'</li>\n",
       "</ol>\n"
      ],
      "text/latex": [
       "\\begin{enumerate}\n",
       "\\item 1\n",
       "\\item 2\n",
       "\\item '3'\n",
       "\\end{enumerate}\n"
      ],
      "text/markdown": [
       "1. 1\n",
       "2. 2\n",
       "3. '3'\n",
       "\n",
       "\n"
      ],
      "text/plain": [
       "[[1]]\n",
       "[1] 1\n",
       "\n",
       "[[2]]\n",
       "[1] 2\n",
       "\n",
       "[[3]]\n",
       "[1] \"3\"\n"
      ]
     },
     "metadata": {},
     "output_type": "display_data"
    },
    {
     "data": {
      "text/html": [
       "<div class=\"sos_hint\">> dict_var:</div>"
      ],
      "text/plain": [
       ">>> dict_var:\n"
      ]
     },
     "metadata": {},
     "output_type": "display_data"
    },
    {
     "data": {
      "text/html": [
       "<dl>\n",
       "\t<dt>$a</dt>\n",
       "\t\t<dd>1</dd>\n",
       "\t<dt>$b</dt>\n",
       "\t\t<dd>2</dd>\n",
       "\t<dt>$c</dt>\n",
       "\t\t<dd>'3'</dd>\n",
       "</dl>\n"
      ],
      "text/latex": [
       "\\begin{description}\n",
       "\\item[\\$a] 1\n",
       "\\item[\\$b] 2\n",
       "\\item[\\$c] '3'\n",
       "\\end{description}\n"
      ],
      "text/markdown": [
       "$a\n",
       ":   1\n",
       "$b\n",
       ":   2\n",
       "$c\n",
       ":   '3'\n",
       "\n",
       "\n"
      ],
      "text/plain": [
       "$a\n",
       "[1] 1\n",
       "\n",
       "$b\n",
       "[1] 2\n",
       "\n",
       "$c\n",
       "[1] \"3\"\n"
      ]
     },
     "metadata": {},
     "output_type": "display_data"
    },
    {
     "data": {
      "text/html": [
       "<div class=\"sos_hint\">> set_var:</div>"
      ],
      "text/plain": [
       ">>> set_var:\n"
      ]
     },
     "metadata": {},
     "output_type": "display_data"
    },
    {
     "data": {
      "text/html": [
       "<ol>\n",
       "\t<li>1</li>\n",
       "\t<li>2</li>\n",
       "\t<li>'3'</li>\n",
       "</ol>\n"
      ],
      "text/latex": [
       "\\begin{enumerate}\n",
       "\\item 1\n",
       "\\item 2\n",
       "\\item '3'\n",
       "\\end{enumerate}\n"
      ],
      "text/markdown": [
       "1. 1\n",
       "2. 2\n",
       "3. '3'\n",
       "\n",
       "\n"
      ],
      "text/plain": [
       "[[1]]\n",
       "[1] 1\n",
       "\n",
       "[[2]]\n",
       "[1] 2\n",
       "\n",
       "[[3]]\n",
       "[1] \"3\"\n"
      ]
     },
     "metadata": {},
     "output_type": "display_data"
    },
    {
     "data": {
      "text/html": [
       "<div class=\"sos_hint\">> recursive_var:</div>"
      ],
      "text/plain": [
       ">>> recursive_var:\n"
      ]
     },
     "metadata": {},
     "output_type": "display_data"
    },
    {
     "data": {
      "text/html": [
       "<dl>\n",
       "\t<dt>$a</dt>\n",
       "\t\t<dd><strong>$b</strong> = 123</dd>\n",
       "\t<dt>$c</dt>\n",
       "\t\t<dd>TRUE</dd>\n",
       "</dl>\n"
      ],
      "text/latex": [
       "\\begin{description}\n",
       "\\item[\\$a] \\textbf{\\$b} = 123\n",
       "\\item[\\$c] TRUE\n",
       "\\end{description}\n"
      ],
      "text/markdown": [
       "$a\n",
       ":   **$b** = 123\n",
       "$c\n",
       ":   TRUE\n",
       "\n",
       "\n"
      ],
      "text/plain": [
       "$a\n",
       "$a$b\n",
       "[1] 123\n",
       "\n",
       "\n",
       "$c\n",
       "[1] TRUE\n"
      ]
     },
     "metadata": {},
     "output_type": "display_data"
    },
    {
     "data": {
      "text/html": [
       "<div class=\"sos_hint\">> logic_arr_var:</div>"
      ],
      "text/plain": [
       ">>> logic_arr_var:\n"
      ]
     },
     "metadata": {},
     "output_type": "display_data"
    },
    {
     "data": {
      "text/html": [
       "<ol class=list-inline>\n",
       "\t<li>TRUE</li>\n",
       "\t<li>FALSE</li>\n",
       "\t<li>TRUE</li>\n",
       "</ol>\n"
      ],
      "text/latex": [
       "\\begin{enumerate*}\n",
       "\\item TRUE\n",
       "\\item FALSE\n",
       "\\item TRUE\n",
       "\\end{enumerate*}\n"
      ],
      "text/markdown": [
       "1. TRUE\n",
       "2. FALSE\n",
       "3. TRUE\n",
       "\n",
       "\n"
      ],
      "text/plain": [
       "[1]  TRUE FALSE  TRUE"
      ]
     },
     "metadata": {},
     "output_type": "display_data"
    },
    {
     "data": {
      "text/html": [
       "<div class=\"sos_hint\">> seri_var:</div>"
      ],
      "text/plain": [
       ">>> seri_var:\n"
      ]
     },
     "metadata": {},
     "output_type": "display_data"
    },
    {
     "data": {
      "text/html": [
       "<dl class=dl-horizontal>\n",
       "\t<dt>0</dt>\n",
       "\t\t<dd>1</dd>\n",
       "\t<dt>1</dt>\n",
       "\t\t<dd>2</dd>\n",
       "\t<dt>2</dt>\n",
       "\t\t<dd>3</dd>\n",
       "\t<dt>3</dt>\n",
       "\t\t<dd>3</dd>\n",
       "\t<dt>4</dt>\n",
       "\t\t<dd>3</dd>\n",
       "\t<dt>5</dt>\n",
       "\t\t<dd>3</dd>\n",
       "</dl>\n"
      ],
      "text/latex": [
       "\\begin{description*}\n",
       "\\item[0] 1\n",
       "\\item[1] 2\n",
       "\\item[2] 3\n",
       "\\item[3] 3\n",
       "\\item[4] 3\n",
       "\\item[5] 3\n",
       "\\end{description*}\n"
      ],
      "text/markdown": [
       "0\n",
       ":   11\n",
       ":   22\n",
       ":   33\n",
       ":   34\n",
       ":   35\n",
       ":   3\n",
       "\n"
      ],
      "text/plain": [
       "0 1 2 3 4 5 \n",
       "1 2 3 3 3 3 "
      ]
     },
     "metadata": {},
     "output_type": "display_data"
    }
   ],
   "source": [
    "%get char_arr_var list_var dict_var set_var recursive_var logic_arr_var seri_var\n",
    "%preview -n char_arr_var list_var dict_var set_var recursive_var logic_arr_var seri_var"
   ]
  },
  {
   "cell_type": "markdown",
   "metadata": {
    "kernel": "R"
   },
   "source": [
    "The multi-dimension data is converted from SoS to R as follows:"
   ]
  },
  {
   "cell_type": "code",
   "execution_count": 5,
   "metadata": {
    "collapsed": true,
    "jupyter": {
     "outputs_hidden": true
    },
    "kernel": "SoS"
   },
   "outputs": [],
   "source": [
    "num_arr_var = numpy.array([1, 2, 3, 4]).reshape(2,2)\n",
    "mat_var = numpy.matrix([[1,2],[3,4]])"
   ]
  },
  {
   "cell_type": "code",
   "execution_count": 6,
   "metadata": {
    "kernel": "R"
   },
   "outputs": [
    {
     "data": {
      "text/html": [
       "<div class=\"sos_hint\">> num_arr_var:</div>"
      ],
      "text/plain": [
       ">>> num_arr_var:\n"
      ]
     },
     "metadata": {},
     "output_type": "display_data"
    },
    {
     "data": {
      "text/html": [
       "<table>\n",
       "<tbody>\n",
       "\t<tr><td>1</td><td>2</td></tr>\n",
       "\t<tr><td>3</td><td>4</td></tr>\n",
       "</tbody>\n",
       "</table>\n"
      ],
      "text/latex": [
       "\\begin{tabular}{ll}\n",
       "\t 1 & 2\\\\\n",
       "\t 3 & 4\\\\\n",
       "\\end{tabular}\n"
      ],
      "text/markdown": [
       "\n",
       "| 1 | 2 | \n",
       "| 3 | 4 | \n",
       "\n",
       "\n"
      ],
      "text/plain": [
       "     [,1] [,2]\n",
       "[1,] 1    2   \n",
       "[2,] 3    4   "
      ]
     },
     "metadata": {},
     "output_type": "display_data"
    },
    {
     "data": {
      "text/html": [
       "<div class=\"sos_hint\">> mat_var:</div>"
      ],
      "text/plain": [
       ">>> mat_var:\n"
      ]
     },
     "metadata": {},
     "output_type": "display_data"
    },
    {
     "data": {
      "text/html": [
       "<table>\n",
       "<thead><tr><th scope=col>0</th><th scope=col>1</th></tr></thead>\n",
       "<tbody>\n",
       "\t<tr><td>1</td><td>2</td></tr>\n",
       "\t<tr><td>3</td><td>4</td></tr>\n",
       "</tbody>\n",
       "</table>\n"
      ],
      "text/latex": [
       "\\begin{tabular}{ll}\n",
       " 0 & 1\\\\\n",
       "\\hline\n",
       "\t 1 & 2\\\\\n",
       "\t 3 & 4\\\\\n",
       "\\end{tabular}\n"
      ],
      "text/markdown": [
       "\n",
       "0 | 1 | \n",
       "|---|---|\n",
       "| 1 | 2 | \n",
       "| 3 | 4 | \n",
       "\n",
       "\n"
      ],
      "text/plain": [
       "     0 1\n",
       "[1,] 1 2\n",
       "[2,] 3 4"
      ]
     },
     "metadata": {},
     "output_type": "display_data"
    }
   ],
   "source": [
    "%get num_arr_var mat_var\n",
    "%preview -n num_arr_var mat_var"
   ]
  },
  {
   "cell_type": "markdown",
   "metadata": {
    "kernel": "R"
   },
   "source": [
    "The scalar data is converted from R to SoS as follows:"
   ]
  },
  {
   "cell_type": "code",
   "execution_count": 7,
   "metadata": {
    "collapsed": true,
    "jupyter": {
     "outputs_hidden": true
    },
    "kernel": "R"
   },
   "outputs": [],
   "source": [
    "null_var = NULL\n",
    "num_var = 123\n",
    "logic_var = TRUE\n",
    "char_var = '1\\\"23'\n",
    "comp_var = 1+2i"
   ]
  },
  {
   "cell_type": "code",
   "execution_count": 8,
   "metadata": {
    "kernel": "SoS"
   },
   "outputs": [
    {
     "data": {
      "text/html": [
       "<div class=\"sos_hint\">> null_var: NoneType</div>"
      ],
      "text/plain": [
       ">>> null_var:\n"
      ]
     },
     "metadata": {},
     "output_type": "display_data"
    },
    {
     "data": {
      "text/plain": [
       "None"
      ]
     },
     "metadata": {},
     "output_type": "display_data"
    },
    {
     "data": {
      "text/html": [
       "<div class=\"sos_hint\">> num_var: int</div>"
      ],
      "text/plain": [
       ">>> num_var:\n"
      ]
     },
     "metadata": {},
     "output_type": "display_data"
    },
    {
     "data": {
      "text/plain": [
       "123"
      ]
     },
     "metadata": {},
     "output_type": "display_data"
    },
    {
     "data": {
      "text/html": [
       "<div class=\"sos_hint\">> logic_var: bool</div>"
      ],
      "text/plain": [
       ">>> logic_var:\n"
      ]
     },
     "metadata": {},
     "output_type": "display_data"
    },
    {
     "data": {
      "text/plain": [
       "True"
      ]
     },
     "metadata": {},
     "output_type": "display_data"
    },
    {
     "data": {
      "text/html": [
       "<div class=\"sos_hint\">> char_var: str of length 4</div>"
      ],
      "text/plain": [
       ">>> char_var:\n"
      ]
     },
     "metadata": {},
     "output_type": "display_data"
    },
    {
     "data": {
      "text/plain": [
       "'1\"23'"
      ]
     },
     "metadata": {},
     "output_type": "display_data"
    },
    {
     "data": {
      "text/html": [
       "<div class=\"sos_hint\">> comp_var: complex</div>"
      ],
      "text/plain": [
       ">>> comp_var:\n"
      ]
     },
     "metadata": {},
     "output_type": "display_data"
    },
    {
     "data": {
      "text/plain": [
       "(1+2j)"
      ]
     },
     "metadata": {},
     "output_type": "display_data"
    }
   ],
   "source": [
    "%get null_var num_var logic_var char_var comp_var --from R\n",
    "%preview -n null_var num_var logic_var char_var comp_var"
   ]
  },
  {
   "cell_type": "markdown",
   "metadata": {
    "kernel": "SoS"
   },
   "source": [
    "The one-dimension (vector) data is converted from R to SoS as follows:"
   ]
  },
  {
   "cell_type": "code",
   "execution_count": 9,
   "metadata": {
    "collapsed": true,
    "jupyter": {
     "outputs_hidden": true
    },
    "kernel": "R"
   },
   "outputs": [],
   "source": [
    "num_vector_var = c(1, 2, 3)\n",
    "logic_vector_var = c(TRUE, FALSE, TRUE)\n",
    "char_vector_var = c(1, 2, '3')\n",
    "list_var = list(1, 2, '3')\n",
    "named_list_var = list(a=1, b=2, c='3')\n",
    "recursive_var = list(a=1, b=list(c=3, d='whatever'))\n",
    "seri_var = setNames(c(1,2,3,3,3,3),c(0:5))"
   ]
  },
  {
   "cell_type": "code",
   "execution_count": 10,
   "metadata": {
    "kernel": "SoS"
   },
   "outputs": [
    {
     "data": {
      "text/html": [
       "<div class=\"sos_hint\">> num_vector_var: list of length 3</div>"
      ],
      "text/plain": [
       ">>> num_vector_var:\n"
      ]
     },
     "metadata": {},
     "output_type": "display_data"
    },
    {
     "data": {
      "text/plain": [
       "[1, 2, 3]"
      ]
     },
     "metadata": {},
     "output_type": "display_data"
    },
    {
     "data": {
      "text/html": [
       "<div class=\"sos_hint\">> logic_vector_var: list of length 3</div>"
      ],
      "text/plain": [
       ">>> logic_vector_var:\n"
      ]
     },
     "metadata": {},
     "output_type": "display_data"
    },
    {
     "data": {
      "text/plain": [
       "[True, False, True]"
      ]
     },
     "metadata": {},
     "output_type": "display_data"
    },
    {
     "data": {
      "text/html": [
       "<div class=\"sos_hint\">> char_vector_var: list of length 3</div>"
      ],
      "text/plain": [
       ">>> char_vector_var:\n"
      ]
     },
     "metadata": {},
     "output_type": "display_data"
    },
    {
     "data": {
      "text/plain": [
       "['1', '2', '3']"
      ]
     },
     "metadata": {},
     "output_type": "display_data"
    },
    {
     "data": {
      "text/html": [
       "<div class=\"sos_hint\">> list_var: list of length 3</div>"
      ],
      "text/plain": [
       ">>> list_var:\n"
      ]
     },
     "metadata": {},
     "output_type": "display_data"
    },
    {
     "data": {
      "text/plain": [
       "[1, 2, '3']"
      ]
     },
     "metadata": {},
     "output_type": "display_data"
    },
    {
     "data": {
      "text/html": [
       "<div class=\"sos_hint\">> named_list_var: dict of length 3</div>"
      ],
      "text/plain": [
       ">>> named_list_var:\n"
      ]
     },
     "metadata": {},
     "output_type": "display_data"
    },
    {
     "data": {
      "text/plain": [
       "{'a': 1, 'b': 2, 'c': '3'}"
      ]
     },
     "metadata": {},
     "output_type": "display_data"
    },
    {
     "data": {
      "text/html": [
       "<div class=\"sos_hint\">> recursive_var: dict of length 2</div>"
      ],
      "text/plain": [
       ">>> recursive_var:\n"
      ]
     },
     "metadata": {},
     "output_type": "display_data"
    },
    {
     "data": {
      "text/plain": [
       "{'a': 1, 'b': {'c': 3, 'd': 'whatever'}}"
      ]
     },
     "metadata": {},
     "output_type": "display_data"
    },
    {
     "data": {
      "text/html": [
       "<div class=\"sos_hint\">> seri_var: Series of shape (6,)</div>"
      ],
      "text/plain": [
       ">>> seri_var:\n"
      ]
     },
     "metadata": {},
     "output_type": "display_data"
    },
    {
     "data": {
      "text/plain": [
       "0    1\n",
       "1    2\n",
       "2    3\n",
       "3    3\n",
       "4    3\n",
       "5    3\n",
       "dtype: int64"
      ]
     },
     "metadata": {},
     "output_type": "display_data"
    }
   ],
   "source": [
    "%get num_vector_var logic_vector_var char_vector_var list_var named_list_var recursive_var seri_var --from R\n",
    "%preview -n num_vector_var logic_vector_var char_vector_var list_var named_list_var recursive_var seri_var"
   ]
  },
  {
   "cell_type": "markdown",
   "metadata": {
    "kernel": "SoS"
   },
   "source": [
    "The multi-dimension data is converted from R to SoS as follows:"
   ]
  },
  {
   "cell_type": "code",
   "execution_count": 11,
   "metadata": {
    "collapsed": true,
    "jupyter": {
     "outputs_hidden": true
    },
    "kernel": "R"
   },
   "outputs": [],
   "source": [
    "mat_var = matrix(c(1,2,3,4), nrow=2)\n",
    "arr_var = array(c(1:16),dim=c(2,2,2,2))"
   ]
  },
  {
   "cell_type": "code",
   "execution_count": 12,
   "metadata": {
    "kernel": "SoS"
   },
   "outputs": [
    {
     "data": {
      "text/html": [
       "<div class=\"sos_hint\">> mat_var: ndarray of shape (2, 2)</div>"
      ],
      "text/plain": [
       ">>> mat_var:\n"
      ]
     },
     "metadata": {},
     "output_type": "display_data"
    },
    {
     "data": {
      "text/plain": [
       "array([[ 1.,  3.],\n",
       "       [ 2.,  4.]])"
      ]
     },
     "metadata": {},
     "output_type": "display_data"
    },
    {
     "data": {
      "text/html": [
       "<div class=\"sos_hint\">> arr_var: ndarray of shape (2, 2, 2, 2)</div>"
      ],
      "text/plain": [
       ">>> arr_var:\n"
      ]
     },
     "metadata": {},
     "output_type": "display_data"
    },
    {
     "data": {
      "text/plain": [
       "array([[[[ 1,  3],\n",
       "         [ 2,  4]],\n",
       "\n",
       "        [[ 5,  7],\n",
       "         [ 6,  8]]],\n",
       "\n",
       "\n",
       "       [[[ 9, 11],\n",
       "         [10, 12]],\n",
       "\n",
       "        [[13, 15],\n",
       "         [14, 16]]]])"
      ]
     },
     "metadata": {},
     "output_type": "display_data"
    }
   ],
   "source": [
    "%get mat_var arr_var --from R\n",
    "%preview -n mat_var arr_var"
   ]
  },
  {
   "cell_type": "markdown",
   "metadata": {
    "kernel": "SoS"
   },
   "source": [
    "It is worth noting that R's named `list` is transferred to Python as dictionaries but SoS preserves the order of the keys so that you can recover the order of the list. For example,"
   ]
  },
  {
   "cell_type": "code",
   "execution_count": 13,
   "metadata": {
    "collapsed": true,
    "jupyter": {
     "outputs_hidden": true
    },
    "kernel": "R"
   },
   "outputs": [],
   "source": [
    "Rlist = list(A=1, C='C', B=3, D=c(2, 3))"
   ]
  },
  {
   "cell_type": "markdown",
   "metadata": {
    "kernel": "R"
   },
   "source": [
    "Although the dictionary might appear to have different order"
   ]
  },
  {
   "cell_type": "code",
   "execution_count": 14,
   "metadata": {
    "kernel": "SoS"
   },
   "outputs": [
    {
     "data": {
      "text/plain": [
       "{'A': 1, 'B': 3, 'C': 'C', 'D': [2, 3]}"
      ]
     },
     "execution_count": 14,
     "metadata": {},
     "output_type": "execute_result"
    }
   ],
   "source": [
    "%get Rlist --from R\n",
    "Rlist"
   ]
  },
  {
   "cell_type": "markdown",
   "metadata": {
    "kernel": "SoS"
   },
   "source": [
    "The order of the keys and values are actually preserved"
   ]
  },
  {
   "cell_type": "code",
   "execution_count": 15,
   "metadata": {
    "kernel": "SoS"
   },
   "outputs": [
    {
     "data": {
      "text/plain": [
       "dict_keys(['A', 'C', 'B', 'D'])"
      ]
     },
     "execution_count": 15,
     "metadata": {},
     "output_type": "execute_result"
    }
   ],
   "source": [
    "Rlist.keys()"
   ]
  },
  {
   "cell_type": "code",
   "execution_count": 16,
   "metadata": {
    "kernel": "SoS"
   },
   "outputs": [
    {
     "data": {
      "text/plain": [
       "dict_values([1, 'C', 3, [2, 3]])"
      ]
     },
     "execution_count": 16,
     "metadata": {},
     "output_type": "execute_result"
    }
   ],
   "source": [
    "Rlist.values()"
   ]
  },
  {
   "cell_type": "markdown",
   "metadata": {
    "kernel": "SoS"
   },
   "source": [
    "so it is safe to enumerate the R list in Python as"
   ]
  },
  {
   "cell_type": "code",
   "execution_count": 17,
   "metadata": {
    "kernel": "SoS"
   },
   "outputs": [
    {
     "name": "stdout",
     "output_type": "stream",
     "text": [
      "1 item of Rlist has key A and value 1\n",
      "2 item of Rlist has key C and value C\n",
      "3 item of Rlist has key B and value 3\n",
      "4 item of Rlist has key D and value [2, 3]\n"
     ]
    }
   ],
   "source": [
    "for idx, (key, val) in enumerate(Rlist.items()):\n",
    "  print(f\"{idx+1} item of Rlist has key {key} and value {val}\")"
   ]
  },
  {
   "cell_type": "markdown",
   "metadata": {
    "kernel": "SoS"
   },
   "source": [
    "## Set, dictionary (mapping), and nested datatypes"
   ]
  },
  {
   "cell_type": "markdown",
   "metadata": {
    "kernel": "SoS"
   },
   "source": [
    "## Further reading\n",
    "\n",
    "* [Exchanging data among kernels](exchange_variable.html)"
   ]
  }
 ],
 "metadata": {
  "kernelspec": {
   "display_name": "SoS",
   "language": "sos",
   "name": "sos"
  },
  "language_info": {
   "codemirror_mode": "sos",
   "file_extension": ".sos",
   "mimetype": "text/x-sos",
   "name": "sos",
   "nbconvert_exporter": "sos_notebook.converter.SoS_Exporter",
   "pygments_lexer": "sos"
  },
  "sos": {
   "kernels": [
    [
     "R",
     "ir",
     "R",
     "#DCDCDA",
     "r"
    ],
    [
     "SoS",
     "sos",
     "",
     "",
     "sos"
    ]
   ],
   "panel": {
    "displayed": true,
    "height": 0
   },
   "version": "0.19.7"
  }
 },
 "nbformat": 4,
 "nbformat_minor": 4
}
