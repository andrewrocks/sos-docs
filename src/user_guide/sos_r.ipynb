{
 "cells": [
  {
   "cell_type": "markdown",
   "metadata": {
    "kernel": "SoS"
   },
   "source": [
    "# How to work with R"
   ]
  },
  {
   "cell_type": "markdown",
   "metadata": {
    "kernel": "SoS"
   },
   "source": [
    "* **Difficulty level**: easy\n",
    "* **Time need to lean**: 10 minutes or less\n",
    "  "
   ]
  },
  {
   "cell_type": "markdown",
   "metadata": {
    "kernel": "Matlab"
   },
   "source": [
    "## R <a id=\"R\"></a>"
   ]
  },
  {
   "cell_type": "markdown",
   "metadata": {
    "kernel": "Matlab"
   },
   "source": [
    "Because there is no one to one correspondence of data types between Python and R datatypes, SoS tries to translate variables in the most natural way. For example, although `3` and `[1, 4]` are both `numeric` type in R (the former have length 1), they are translated to Python variables `3` (an integer) and `[1, 4]` (a list)."
   ]
  },
  {
   "cell_type": "markdown",
   "metadata": {
    "kernel": "Matlab"
   },
   "source": [
    "SoS `%put` variables in SoS to R as follows:\n",
    "\n",
    "  \n",
    "  | Python  |  condition |   R |\n",
    "  | --- | --- |---|\n",
    "  | `None` | |    `NULL` |\n",
    "  | `boolean` |   | `logical` |\n",
    "  | `integer` |  |  `integer` |\n",
    "  | `float` |  |  `numeric` |\n",
    "  | `complex` |  |  `complex` |\n",
    "  | `str` |  | `character` |\n",
    "  | Sequence (`list`, `tuple`, ...) |  homogenous type |  `c()` |\n",
    "  | Sequence (`list`, `tuple`, ...) |  multiple types |  `list` |\n",
    "  | `set` |  |  `list` |\n",
    "  | `dict` |  |  `list` with names |\n",
    "  | `numpy.ndarray` |  | array |\n",
    "  | `numpy.matrix` |  | `matrix` |\n",
    "  | `pandas.DataFrame` |  |  R `data.frame` |\n",
    "\n",
    "  Python objects in other datatypes are transferred as string `\"Unsupported datatype\"`."
   ]
  },
  {
   "cell_type": "markdown",
   "metadata": {
    "kernel": "Matlab"
   },
   "source": [
    "SoS `%get` data from R as follows:\n",
    "\n",
    "  \n",
    "  | R  |  length (n) |   Python |\n",
    "  | --- | --- |---|\n",
    "  | `NULL` | |    `None` |\n",
    "  | `logical` |  `1` |  `boolean` |\n",
    "  | `integer` |  `1` |  `integer` |\n",
    "  | `numeric` |  `1` |  `double` |\n",
    "  | `character` |  `1` |  `string` |\n",
    "  | `complex` |  `1` |  `complex` |\n",
    "  | `logical` |  `n > 1` |  `list` |\n",
    "  | `integer` |  `n > 1` |  `list` |\n",
    "  | `complex` |  `n > 1` |  `list` |\n",
    "  | `numeric` |  `n > 1` |  `list` |\n",
    "  | `character` |  `n > 1` |  `list` |\n",
    "  | `list` without names |  `n > 0` | `list` |\n",
    "  | `list` with names |  `n > 0` |  `dict` (with ordered keys)|\n",
    "  | `matrix` |  `n > 0` |  `numpy.array` |\n",
    "  | `data.frame` |  `n > 0` |  `DataFrame` |\n",
    "  | `array` |  `n >= 0` |  `numpy.array` |"
   ]
  },
  {
   "cell_type": "markdown",
   "metadata": {
    "kernel": "Matlab"
   },
   "source": [
    "For example, the scalar data is converted from SoS to R as follows:"
   ]
  },
  {
   "cell_type": "code",
   "execution_count": 1,
   "metadata": {
    "collapsed": true,
    "kernel": "SoS"
   },
   "outputs": [],
   "source": [
    "null_var = None\n",
    "num_var = 123\n",
    "logic_var = True\n",
    "char_var = '1\"23'\n",
    "comp_var = 1+2j"
   ]
  },
  {
   "cell_type": "code",
   "execution_count": 2,
   "metadata": {
    "kernel": "R"
   },
   "outputs": [
    {
     "data": {
      "text/html": [
       "<div class=\"sos_hint\">> null_var:</div>"
      ],
      "text/plain": [
       ">>> null_var:\n"
      ]
     },
     "metadata": {},
     "output_type": "display_data"
    },
    {
     "data": {
      "text/plain": [
       "NULL"
      ]
     },
     "metadata": {},
     "output_type": "display_data"
    },
    {
     "data": {
      "text/html": [
       "<div class=\"sos_hint\">> num_var:</div>"
      ],
      "text/plain": [
       ">>> num_var:\n"
      ]
     },
     "metadata": {},
     "output_type": "display_data"
    },
    {
     "data": {
      "text/html": [
       "123"
      ],
      "text/latex": [
       "123"
      ],
      "text/markdown": [
       "123"
      ],
      "text/plain": [
       "[1] 123"
      ]
     },
     "metadata": {},
     "output_type": "display_data"
    },
    {
     "data": {
      "text/html": [
       "<div class=\"sos_hint\">> logic_var:</div>"
      ],
      "text/plain": [
       ">>> logic_var:\n"
      ]
     },
     "metadata": {},
     "output_type": "display_data"
    },
    {
     "data": {
      "text/html": [
       "TRUE"
      ],
      "text/latex": [
       "TRUE"
      ],
      "text/markdown": [
       "TRUE"
      ],
      "text/plain": [
       "[1] TRUE"
      ]
     },
     "metadata": {},
     "output_type": "display_data"
    },
    {
     "data": {
      "text/html": [
       "<div class=\"sos_hint\">> char_var:</div>"
      ],
      "text/plain": [
       ">>> char_var:\n"
      ]
     },
     "metadata": {},
     "output_type": "display_data"
    },
    {
     "data": {
      "text/html": [
       "'1\"23'"
      ],
      "text/latex": [
       "'1\"23'"
      ],
      "text/markdown": [
       "'1\"23'"
      ],
      "text/plain": [
       "[1] \"1\\\"23\""
      ]
     },
     "metadata": {},
     "output_type": "display_data"
    },
    {
     "data": {
      "text/html": [
       "<div class=\"sos_hint\">> comp_var:</div>"
      ],
      "text/plain": [
       ">>> comp_var:\n"
      ]
     },
     "metadata": {},
     "output_type": "display_data"
    },
    {
     "data": {
      "text/html": [
       "1+2i"
      ],
      "text/latex": [
       "1+2i"
      ],
      "text/markdown": [
       "1+2i"
      ],
      "text/plain": [
       "[1] 1+2i"
      ]
     },
     "metadata": {},
     "output_type": "display_data"
    }
   ],
   "source": [
    "%get null_var num_var logic_var char_var comp_var\n",
    "%preview -n null_var num_var logic_var char_var comp_var"
   ]
  },
  {
   "cell_type": "markdown",
   "metadata": {
    "kernel": "R"
   },
   "source": [
    "The one-dimension (vector) data is converted from SoS to R as follows:"
   ]
  },
  {
   "cell_type": "code",
   "execution_count": 3,
   "metadata": {
    "collapsed": true,
    "kernel": "SoS"
   },
   "outputs": [],
   "source": [
    "import numpy\n",
    "import pandas\n",
    "char_arr_var = ['1', '2', '3']\n",
    "list_var = [1, 2, '3']\n",
    "dict_var = dict(a=1, b=2, c='3')\n",
    "set_var = {1, 2, '3'}\n",
    "recursive_var = {'a': {'b': 123}, 'c': True}\n",
    "logic_arr_var = [True, False, True]\n",
    "seri_var = pandas.Series([1,2,3,3,3,3])"
   ]
  },
  {
   "cell_type": "code",
   "execution_count": 4,
   "metadata": {
    "kernel": "R"
   },
   "outputs": [
    {
     "data": {
      "text/html": [
       "<div class=\"sos_hint\">> char_arr_var:</div>"
      ],
      "text/plain": [
       ">>> char_arr_var:\n"
      ]
     },
     "metadata": {},
     "output_type": "display_data"
    },
    {
     "data": {
      "text/html": [
       "<ol class=list-inline>\n",
       "\t<li>'1'</li>\n",
       "\t<li>'2'</li>\n",
       "\t<li>'3'</li>\n",
       "</ol>\n"
      ],
      "text/latex": [
       "\\begin{enumerate*}\n",
       "\\item '1'\n",
       "\\item '2'\n",
       "\\item '3'\n",
       "\\end{enumerate*}\n"
      ],
      "text/markdown": [
       "1. '1'\n",
       "2. '2'\n",
       "3. '3'\n",
       "\n",
       "\n"
      ],
      "text/plain": [
       "[1] \"1\" \"2\" \"3\""
      ]
     },
     "metadata": {},
     "output_type": "display_data"
    },
    {
     "data": {
      "text/html": [
       "<div class=\"sos_hint\">> list_var:</div>"
      ],
      "text/plain": [
       ">>> list_var:\n"
      ]
     },
     "metadata": {},
     "output_type": "display_data"
    },
    {
     "data": {
      "text/html": [
       "<ol>\n",
       "\t<li>1</li>\n",
       "\t<li>2</li>\n",
       "\t<li>'3'</li>\n",
       "</ol>\n"
      ],
      "text/latex": [
       "\\begin{enumerate}\n",
       "\\item 1\n",
       "\\item 2\n",
       "\\item '3'\n",
       "\\end{enumerate}\n"
      ],
      "text/markdown": [
       "1. 1\n",
       "2. 2\n",
       "3. '3'\n",
       "\n",
       "\n"
      ],
      "text/plain": [
       "[[1]]\n",
       "[1] 1\n",
       "\n",
       "[[2]]\n",
       "[1] 2\n",
       "\n",
       "[[3]]\n",
       "[1] \"3\"\n"
      ]
     },
     "metadata": {},
     "output_type": "display_data"
    },
    {
     "data": {
      "text/html": [
       "<div class=\"sos_hint\">> dict_var:</div>"
      ],
      "text/plain": [
       ">>> dict_var:\n"
      ]
     },
     "metadata": {},
     "output_type": "display_data"
    },
    {
     "data": {
      "text/html": [
       "<dl>\n",
       "\t<dt>$a</dt>\n",
       "\t\t<dd>1</dd>\n",
       "\t<dt>$b</dt>\n",
       "\t\t<dd>2</dd>\n",
       "\t<dt>$c</dt>\n",
       "\t\t<dd>'3'</dd>\n",
       "</dl>\n"
      ],
      "text/latex": [
       "\\begin{description}\n",
       "\\item[\\$a] 1\n",
       "\\item[\\$b] 2\n",
       "\\item[\\$c] '3'\n",
       "\\end{description}\n"
      ],
      "text/markdown": [
       "$a\n",
       ":   1\n",
       "$b\n",
       ":   2\n",
       "$c\n",
       ":   '3'\n",
       "\n",
       "\n"
      ],
      "text/plain": [
       "$a\n",
       "[1] 1\n",
       "\n",
       "$b\n",
       "[1] 2\n",
       "\n",
       "$c\n",
       "[1] \"3\"\n"
      ]
     },
     "metadata": {},
     "output_type": "display_data"
    },
    {
     "data": {
      "text/html": [
       "<div class=\"sos_hint\">> set_var:</div>"
      ],
      "text/plain": [
       ">>> set_var:\n"
      ]
     },
     "metadata": {},
     "output_type": "display_data"
    },
    {
     "data": {
      "text/html": [
       "<ol>\n",
       "\t<li>1</li>\n",
       "\t<li>2</li>\n",
       "\t<li>'3'</li>\n",
       "</ol>\n"
      ],
      "text/latex": [
       "\\begin{enumerate}\n",
       "\\item 1\n",
       "\\item 2\n",
       "\\item '3'\n",
       "\\end{enumerate}\n"
      ],
      "text/markdown": [
       "1. 1\n",
       "2. 2\n",
       "3. '3'\n",
       "\n",
       "\n"
      ],
      "text/plain": [
       "[[1]]\n",
       "[1] 1\n",
       "\n",
       "[[2]]\n",
       "[1] 2\n",
       "\n",
       "[[3]]\n",
       "[1] \"3\"\n"
      ]
     },
     "metadata": {},
     "output_type": "display_data"
    },
    {
     "data": {
      "text/html": [
       "<div class=\"sos_hint\">> recursive_var:</div>"
      ],
      "text/plain": [
       ">>> recursive_var:\n"
      ]
     },
     "metadata": {},
     "output_type": "display_data"
    },
    {
     "data": {
      "text/html": [
       "<dl>\n",
       "\t<dt>$a</dt>\n",
       "\t\t<dd><strong>$b</strong> = 123</dd>\n",
       "\t<dt>$c</dt>\n",
       "\t\t<dd>TRUE</dd>\n",
       "</dl>\n"
      ],
      "text/latex": [
       "\\begin{description}\n",
       "\\item[\\$a] \\textbf{\\$b} = 123\n",
       "\\item[\\$c] TRUE\n",
       "\\end{description}\n"
      ],
      "text/markdown": [
       "$a\n",
       ":   **$b** = 123\n",
       "$c\n",
       ":   TRUE\n",
       "\n",
       "\n"
      ],
      "text/plain": [
       "$a\n",
       "$a$b\n",
       "[1] 123\n",
       "\n",
       "\n",
       "$c\n",
       "[1] TRUE\n"
      ]
     },
     "metadata": {},
     "output_type": "display_data"
    },
    {
     "data": {
      "text/html": [
       "<div class=\"sos_hint\">> logic_arr_var:</div>"
      ],
      "text/plain": [
       ">>> logic_arr_var:\n"
      ]
     },
     "metadata": {},
     "output_type": "display_data"
    },
    {
     "data": {
      "text/html": [
       "<ol class=list-inline>\n",
       "\t<li>TRUE</li>\n",
       "\t<li>FALSE</li>\n",
       "\t<li>TRUE</li>\n",
       "</ol>\n"
      ],
      "text/latex": [
       "\\begin{enumerate*}\n",
       "\\item TRUE\n",
       "\\item FALSE\n",
       "\\item TRUE\n",
       "\\end{enumerate*}\n"
      ],
      "text/markdown": [
       "1. TRUE\n",
       "2. FALSE\n",
       "3. TRUE\n",
       "\n",
       "\n"
      ],
      "text/plain": [
       "[1]  TRUE FALSE  TRUE"
      ]
     },
     "metadata": {},
     "output_type": "display_data"
    },
    {
     "data": {
      "text/html": [
       "<div class=\"sos_hint\">> seri_var:</div>"
      ],
      "text/plain": [
       ">>> seri_var:\n"
      ]
     },
     "metadata": {},
     "output_type": "display_data"
    },
    {
     "data": {
      "text/html": [
       "<dl class=dl-horizontal>\n",
       "\t<dt>0</dt>\n",
       "\t\t<dd>1</dd>\n",
       "\t<dt>1</dt>\n",
       "\t\t<dd>2</dd>\n",
       "\t<dt>2</dt>\n",
       "\t\t<dd>3</dd>\n",
       "\t<dt>3</dt>\n",
       "\t\t<dd>3</dd>\n",
       "\t<dt>4</dt>\n",
       "\t\t<dd>3</dd>\n",
       "\t<dt>5</dt>\n",
       "\t\t<dd>3</dd>\n",
       "</dl>\n"
      ],
      "text/latex": [
       "\\begin{description*}\n",
       "\\item[0] 1\n",
       "\\item[1] 2\n",
       "\\item[2] 3\n",
       "\\item[3] 3\n",
       "\\item[4] 3\n",
       "\\item[5] 3\n",
       "\\end{description*}\n"
      ],
      "text/markdown": [
       "0\n",
       ":   11\n",
       ":   22\n",
       ":   33\n",
       ":   34\n",
       ":   35\n",
       ":   3\n",
       "\n"
      ],
      "text/plain": [
       "0 1 2 3 4 5 \n",
       "1 2 3 3 3 3 "
      ]
     },
     "metadata": {},
     "output_type": "display_data"
    }
   ],
   "source": [
    "%get char_arr_var list_var dict_var set_var recursive_var logic_arr_var seri_var\n",
    "%preview -n char_arr_var list_var dict_var set_var recursive_var logic_arr_var seri_var"
   ]
  },
  {
   "cell_type": "markdown",
   "metadata": {
    "kernel": "R"
   },
   "source": [
    "The multi-dimension data is converted from SoS to R as follows:"
   ]
  },
  {
   "cell_type": "code",
   "execution_count": 5,
   "metadata": {
    "collapsed": true,
    "kernel": "SoS"
   },
   "outputs": [],
   "source": [
    "num_arr_var = numpy.array([1, 2, 3, 4]).reshape(2,2)\n",
    "mat_var = numpy.matrix([[1,2],[3,4]])"
   ]
  },
  {
   "cell_type": "code",
   "execution_count": 6,
   "metadata": {
    "kernel": "R"
   },
   "outputs": [
    {
     "data": {
      "text/html": [
       "<div class=\"sos_hint\">> num_arr_var:</div>"
      ],
      "text/plain": [
       ">>> num_arr_var:\n"
      ]
     },
     "metadata": {},
     "output_type": "display_data"
    },
    {
     "data": {
      "text/html": [
       "<table>\n",
       "<tbody>\n",
       "\t<tr><td>1</td><td>2</td></tr>\n",
       "\t<tr><td>3</td><td>4</td></tr>\n",
       "</tbody>\n",
       "</table>\n"
      ],
      "text/latex": [
       "\\begin{tabular}{ll}\n",
       "\t 1 & 2\\\\\n",
       "\t 3 & 4\\\\\n",
       "\\end{tabular}\n"
      ],
      "text/markdown": [
       "\n",
       "| 1 | 2 | \n",
       "| 3 | 4 | \n",
       "\n",
       "\n"
      ],
      "text/plain": [
       "     [,1] [,2]\n",
       "[1,] 1    2   \n",
       "[2,] 3    4   "
      ]
     },
     "metadata": {},
     "output_type": "display_data"
    },
    {
     "data": {
      "text/html": [
       "<div class=\"sos_hint\">> mat_var:</div>"
      ],
      "text/plain": [
       ">>> mat_var:\n"
      ]
     },
     "metadata": {},
     "output_type": "display_data"
    },
    {
     "data": {
      "text/html": [
       "<table>\n",
       "<thead><tr><th scope=col>0</th><th scope=col>1</th></tr></thead>\n",
       "<tbody>\n",
       "\t<tr><td>1</td><td>2</td></tr>\n",
       "\t<tr><td>3</td><td>4</td></tr>\n",
       "</tbody>\n",
       "</table>\n"
      ],
      "text/latex": [
       "\\begin{tabular}{ll}\n",
       " 0 & 1\\\\\n",
       "\\hline\n",
       "\t 1 & 2\\\\\n",
       "\t 3 & 4\\\\\n",
       "\\end{tabular}\n"
      ],
      "text/markdown": [
       "\n",
       "0 | 1 | \n",
       "|---|---|\n",
       "| 1 | 2 | \n",
       "| 3 | 4 | \n",
       "\n",
       "\n"
      ],
      "text/plain": [
       "     0 1\n",
       "[1,] 1 2\n",
       "[2,] 3 4"
      ]
     },
     "metadata": {},
     "output_type": "display_data"
    }
   ],
   "source": [
    "%get num_arr_var mat_var\n",
    "%preview -n num_arr_var mat_var"
   ]
  },
  {
   "cell_type": "markdown",
   "metadata": {
    "kernel": "R"
   },
   "source": [
    "The scalar data is converted from R to SoS as follows:"
   ]
  },
  {
   "cell_type": "code",
   "execution_count": 7,
   "metadata": {
    "collapsed": true,
    "kernel": "R"
   },
   "outputs": [],
   "source": [
    "null_var = NULL\n",
    "num_var = 123\n",
    "logic_var = TRUE\n",
    "char_var = '1\\\"23'\n",
    "comp_var = 1+2i"
   ]
  },
  {
   "cell_type": "code",
   "execution_count": 8,
   "metadata": {
    "kernel": "SoS"
   },
   "outputs": [
    {
     "data": {
      "text/html": [
       "<div class=\"sos_hint\">> null_var: NoneType</div>"
      ],
      "text/plain": [
       ">>> null_var:\n"
      ]
     },
     "metadata": {},
     "output_type": "display_data"
    },
    {
     "data": {
      "text/plain": [
       "None"
      ]
     },
     "metadata": {},
     "output_type": "display_data"
    },
    {
     "data": {
      "text/html": [
       "<div class=\"sos_hint\">> num_var: int</div>"
      ],
      "text/plain": [
       ">>> num_var:\n"
      ]
     },
     "metadata": {},
     "output_type": "display_data"
    },
    {
     "data": {
      "text/plain": [
       "123"
      ]
     },
     "metadata": {},
     "output_type": "display_data"
    },
    {
     "data": {
      "text/html": [
       "<div class=\"sos_hint\">> logic_var: bool</div>"
      ],
      "text/plain": [
       ">>> logic_var:\n"
      ]
     },
     "metadata": {},
     "output_type": "display_data"
    },
    {
     "data": {
      "text/plain": [
       "True"
      ]
     },
     "metadata": {},
     "output_type": "display_data"
    },
    {
     "data": {
      "text/html": [
       "<div class=\"sos_hint\">> char_var: str of length 4</div>"
      ],
      "text/plain": [
       ">>> char_var:\n"
      ]
     },
     "metadata": {},
     "output_type": "display_data"
    },
    {
     "data": {
      "text/plain": [
       "'1\"23'"
      ]
     },
     "metadata": {},
     "output_type": "display_data"
    },
    {
     "data": {
      "text/html": [
       "<div class=\"sos_hint\">> comp_var: complex</div>"
      ],
      "text/plain": [
       ">>> comp_var:\n"
      ]
     },
     "metadata": {},
     "output_type": "display_data"
    },
    {
     "data": {
      "text/plain": [
       "(1+2j)"
      ]
     },
     "metadata": {},
     "output_type": "display_data"
    }
   ],
   "source": [
    "%get null_var num_var logic_var char_var comp_var --from R\n",
    "%preview -n null_var num_var logic_var char_var comp_var"
   ]
  },
  {
   "cell_type": "markdown",
   "metadata": {
    "kernel": "SoS"
   },
   "source": [
    "The one-dimension (vector) data is converted from R to SoS as follows:"
   ]
  },
  {
   "cell_type": "code",
   "execution_count": 9,
   "metadata": {
    "collapsed": true,
    "kernel": "R"
   },
   "outputs": [],
   "source": [
    "num_vector_var = c(1, 2, 3)\n",
    "logic_vector_var = c(TRUE, FALSE, TRUE)\n",
    "char_vector_var = c(1, 2, '3')\n",
    "list_var = list(1, 2, '3')\n",
    "named_list_var = list(a=1, b=2, c='3')\n",
    "recursive_var = list(a=1, b=list(c=3, d='whatever'))\n",
    "seri_var = setNames(c(1,2,3,3,3,3),c(0:5))"
   ]
  },
  {
   "cell_type": "code",
   "execution_count": 10,
   "metadata": {
    "kernel": "SoS"
   },
   "outputs": [
    {
     "data": {
      "text/html": [
       "<div class=\"sos_hint\">> num_vector_var: list of length 3</div>"
      ],
      "text/plain": [
       ">>> num_vector_var:\n"
      ]
     },
     "metadata": {},
     "output_type": "display_data"
    },
    {
     "data": {
      "text/plain": [
       "[1, 2, 3]"
      ]
     },
     "metadata": {},
     "output_type": "display_data"
    },
    {
     "data": {
      "text/html": [
       "<div class=\"sos_hint\">> logic_vector_var: list of length 3</div>"
      ],
      "text/plain": [
       ">>> logic_vector_var:\n"
      ]
     },
     "metadata": {},
     "output_type": "display_data"
    },
    {
     "data": {
      "text/plain": [
       "[True, False, True]"
      ]
     },
     "metadata": {},
     "output_type": "display_data"
    },
    {
     "data": {
      "text/html": [
       "<div class=\"sos_hint\">> char_vector_var: list of length 3</div>"
      ],
      "text/plain": [
       ">>> char_vector_var:\n"
      ]
     },
     "metadata": {},
     "output_type": "display_data"
    },
    {
     "data": {
      "text/plain": [
       "['1', '2', '3']"
      ]
     },
     "metadata": {},
     "output_type": "display_data"
    },
    {
     "data": {
      "text/html": [
       "<div class=\"sos_hint\">> list_var: list of length 3</div>"
      ],
      "text/plain": [
       ">>> list_var:\n"
      ]
     },
     "metadata": {},
     "output_type": "display_data"
    },
    {
     "data": {
      "text/plain": [
       "[1, 2, '3']"
      ]
     },
     "metadata": {},
     "output_type": "display_data"
    },
    {
     "data": {
      "text/html": [
       "<div class=\"sos_hint\">> named_list_var: dict of length 3</div>"
      ],
      "text/plain": [
       ">>> named_list_var:\n"
      ]
     },
     "metadata": {},
     "output_type": "display_data"
    },
    {
     "data": {
      "text/plain": [
       "{'a': 1, 'b': 2, 'c': '3'}"
      ]
     },
     "metadata": {},
     "output_type": "display_data"
    },
    {
     "data": {
      "text/html": [
       "<div class=\"sos_hint\">> recursive_var: dict of length 2</div>"
      ],
      "text/plain": [
       ">>> recursive_var:\n"
      ]
     },
     "metadata": {},
     "output_type": "display_data"
    },
    {
     "data": {
      "text/plain": [
       "{'a': 1, 'b': {'c': 3, 'd': 'whatever'}}"
      ]
     },
     "metadata": {},
     "output_type": "display_data"
    },
    {
     "data": {
      "text/html": [
       "<div class=\"sos_hint\">> seri_var: Series of shape (6,)</div>"
      ],
      "text/plain": [
       ">>> seri_var:\n"
      ]
     },
     "metadata": {},
     "output_type": "display_data"
    },
    {
     "data": {
      "text/plain": [
       "0    1\n",
       "1    2\n",
       "2    3\n",
       "3    3\n",
       "4    3\n",
       "5    3\n",
       "dtype: int64"
      ]
     },
     "metadata": {},
     "output_type": "display_data"
    }
   ],
   "source": [
    "%get num_vector_var logic_vector_var char_vector_var list_var named_list_var recursive_var seri_var --from R\n",
    "%preview -n num_vector_var logic_vector_var char_vector_var list_var named_list_var recursive_var seri_var"
   ]
  },
  {
   "cell_type": "markdown",
   "metadata": {
    "kernel": "SoS"
   },
   "source": [
    "The multi-dimension data is converted from R to SoS as follows:"
   ]
  },
  {
   "cell_type": "code",
   "execution_count": 11,
   "metadata": {
    "collapsed": true,
    "kernel": "R"
   },
   "outputs": [],
   "source": [
    "mat_var = matrix(c(1,2,3,4), nrow=2)\n",
    "arr_var = array(c(1:16),dim=c(2,2,2,2))"
   ]
  },
  {
   "cell_type": "code",
   "execution_count": 12,
   "metadata": {
    "kernel": "SoS"
   },
   "outputs": [
    {
     "data": {
      "text/html": [
       "<div class=\"sos_hint\">> mat_var: ndarray of shape (2, 2)</div>"
      ],
      "text/plain": [
       ">>> mat_var:\n"
      ]
     },
     "metadata": {},
     "output_type": "display_data"
    },
    {
     "data": {
      "text/plain": [
       "array([[ 1.,  3.],\n",
       "       [ 2.,  4.]])"
      ]
     },
     "metadata": {},
     "output_type": "display_data"
    },
    {
     "data": {
      "text/html": [
       "<div class=\"sos_hint\">> arr_var: ndarray of shape (2, 2, 2, 2)</div>"
      ],
      "text/plain": [
       ">>> arr_var:\n"
      ]
     },
     "metadata": {},
     "output_type": "display_data"
    },
    {
     "data": {
      "text/plain": [
       "array([[[[ 1,  3],\n",
       "         [ 2,  4]],\n",
       "\n",
       "        [[ 5,  7],\n",
       "         [ 6,  8]]],\n",
       "\n",
       "\n",
       "       [[[ 9, 11],\n",
       "         [10, 12]],\n",
       "\n",
       "        [[13, 15],\n",
       "         [14, 16]]]])"
      ]
     },
     "metadata": {},
     "output_type": "display_data"
    }
   ],
   "source": [
    "%get mat_var arr_var --from R\n",
    "%preview -n mat_var arr_var"
   ]
  },
  {
   "cell_type": "markdown",
   "metadata": {
    "kernel": "SoS"
   },
   "source": [
    "It is worth noting that R's named `list` is transferred to Python as dictionaries but SoS preserves the order of the keys so that you can recover the order of the list. For example,"
   ]
  },
  {
   "cell_type": "code",
   "execution_count": 13,
   "metadata": {
    "collapsed": true,
    "kernel": "R"
   },
   "outputs": [],
   "source": [
    "Rlist = list(A=1, C='C', B=3, D=c(2, 3))"
   ]
  },
  {
   "cell_type": "markdown",
   "metadata": {
    "kernel": "R"
   },
   "source": [
    "Although the dictionary might appear to have different order"
   ]
  },
  {
   "cell_type": "code",
   "execution_count": 14,
   "metadata": {
    "kernel": "SoS"
   },
   "outputs": [
    {
     "data": {
      "text/plain": [
       "{'A': 1, 'B': 3, 'C': 'C', 'D': [2, 3]}"
      ]
     },
     "execution_count": 14,
     "metadata": {},
     "output_type": "execute_result"
    }
   ],
   "source": [
    "%get Rlist --from R\n",
    "Rlist"
   ]
  },
  {
   "cell_type": "markdown",
   "metadata": {
    "kernel": "SoS"
   },
   "source": [
    "The order of the keys and values are actually preserved"
   ]
  },
  {
   "cell_type": "code",
   "execution_count": 15,
   "metadata": {
    "kernel": "SoS"
   },
   "outputs": [
    {
     "data": {
      "text/plain": [
       "dict_keys(['A', 'C', 'B', 'D'])"
      ]
     },
     "execution_count": 15,
     "metadata": {},
     "output_type": "execute_result"
    }
   ],
   "source": [
    "Rlist.keys()"
   ]
  },
  {
   "cell_type": "code",
   "execution_count": 16,
   "metadata": {
    "kernel": "SoS"
   },
   "outputs": [
    {
     "data": {
      "text/plain": [
       "dict_values([1, 'C', 3, [2, 3]])"
      ]
     },
     "execution_count": 16,
     "metadata": {},
     "output_type": "execute_result"
    }
   ],
   "source": [
    "Rlist.values()"
   ]
  },
  {
   "cell_type": "markdown",
   "metadata": {
    "kernel": "SoS"
   },
   "source": [
    "so it is safe to enumerate the R list in Python as"
   ]
  },
  {
   "cell_type": "code",
   "execution_count": 17,
   "metadata": {
    "kernel": "SoS"
   },
   "outputs": [
    {
     "name": "stdout",
     "output_type": "stream",
     "text": [
      "1 item of Rlist has key A and value 1\n",
      "2 item of Rlist has key C and value C\n",
      "3 item of Rlist has key B and value 3\n",
      "4 item of Rlist has key D and value [2, 3]\n"
     ]
    }
   ],
   "source": [
    "for idx, (key, val) in enumerate(Rlist.items()):\n",
    "  print(f\"{idx+1} item of Rlist has key {key} and value {val}\")"
   ]
  },
  {
   "cell_type": "markdown",
   "metadata": {
    "kernel": "Matlab"
   },
   "source": [
    "## R <a id=\"R\"></a>"
   ]
  },
  {
   "cell_type": "markdown",
   "metadata": {
    "kernel": "Matlab"
   },
   "source": [
    "Because there is no one to one correspondence of data types between Python and R datatypes, SoS tries to translate variables in the most natural way. For example, although `3` and `[1, 4]` are both `numeric` type in R (the former have length 1), they are translated to Python variables `3` (an integer) and `[1, 4]` (a list)."
   ]
  },
  {
   "cell_type": "markdown",
   "metadata": {
    "kernel": "Matlab"
   },
   "source": [
    "SoS `%put` variables in SoS to R as follows:\n",
    "\n",
    "  \n",
    "  | Python  |  condition |   R |\n",
    "  | --- | --- |---|\n",
    "  | `None` | |    `NULL` |\n",
    "  | `boolean` |   | `logical` |\n",
    "  | `integer` |  |  `integer` |\n",
    "  | `float` |  |  `numeric` |\n",
    "  | `complex` |  |  `complex` |\n",
    "  | `str` |  | `character` |\n",
    "  | Sequence (`list`, `tuple`, ...) |  homogenous type |  `c()` |\n",
    "  | Sequence (`list`, `tuple`, ...) |  multiple types |  `list` |\n",
    "  | `set` |  |  `list` |\n",
    "  | `dict` |  |  `list` with names |\n",
    "  | `numpy.ndarray` |  | array |\n",
    "  | `numpy.matrix` |  | `matrix` |\n",
    "  | `pandas.DataFrame` |  |  R `data.frame` |\n",
    "\n",
    "  Python objects in other datatypes are transferred as string `\"Unsupported datatype\"`."
   ]
  },
  {
   "cell_type": "markdown",
   "metadata": {
    "kernel": "Matlab"
   },
   "source": [
    "SoS `%get` data from R as follows:\n",
    "\n",
    "  \n",
    "  | R  |  length (n) |   Python |\n",
    "  | --- | --- |---|\n",
    "  | `NULL` | |    `None` |\n",
    "  | `logical` |  `1` |  `boolean` |\n",
    "  | `integer` |  `1` |  `integer` |\n",
    "  | `numeric` |  `1` |  `double` |\n",
    "  | `character` |  `1` |  `string` |\n",
    "  | `complex` |  `1` |  `complex` |\n",
    "  | `logical` |  `n > 1` |  `list` |\n",
    "  | `integer` |  `n > 1` |  `list` |\n",
    "  | `complex` |  `n > 1` |  `list` |\n",
    "  | `numeric` |  `n > 1` |  `list` |\n",
    "  | `character` |  `n > 1` |  `list` |\n",
    "  | `list` without names |  `n > 0` | `list` |\n",
    "  | `list` with names |  `n > 0` |  `dict` (with ordered keys)|\n",
    "  | `matrix` |  `n > 0` |  `numpy.array` |\n",
    "  | `data.frame` |  `n > 0` |  `DataFrame` |\n",
    "  | `array` |  `n >= 0` |  `numpy.array` |"
   ]
  },
  {
   "cell_type": "markdown",
   "metadata": {
    "kernel": "Matlab"
   },
   "source": [
    "For example, the scalar data is converted from SoS to R as follows:"
   ]
  },
  {
   "cell_type": "code",
   "execution_count": 1,
   "metadata": {
    "collapsed": true,
    "kernel": "SoS"
   },
   "outputs": [],
   "source": [
    "null_var = None\n",
    "num_var = 123\n",
    "logic_var = True\n",
    "char_var = '1\"23'\n",
    "comp_var = 1+2j"
   ]
  },
  {
   "cell_type": "code",
   "execution_count": 2,
   "metadata": {
    "kernel": "R"
   },
   "outputs": [
    {
     "data": {
      "text/html": [
       "<div class=\"sos_hint\">> null_var:</div>"
      ],
      "text/plain": [
       ">>> null_var:\n"
      ]
     },
     "metadata": {},
     "output_type": "display_data"
    },
    {
     "data": {
      "text/plain": [
       "NULL"
      ]
     },
     "metadata": {},
     "output_type": "display_data"
    },
    {
     "data": {
      "text/html": [
       "<div class=\"sos_hint\">> num_var:</div>"
      ],
      "text/plain": [
       ">>> num_var:\n"
      ]
     },
     "metadata": {},
     "output_type": "display_data"
    },
    {
     "data": {
      "text/html": [
       "123"
      ],
      "text/latex": [
       "123"
      ],
      "text/markdown": [
       "123"
      ],
      "text/plain": [
       "[1] 123"
      ]
     },
     "metadata": {},
     "output_type": "display_data"
    },
    {
     "data": {
      "text/html": [
       "<div class=\"sos_hint\">> logic_var:</div>"
      ],
      "text/plain": [
       ">>> logic_var:\n"
      ]
     },
     "metadata": {},
     "output_type": "display_data"
    },
    {
     "data": {
      "text/html": [
       "TRUE"
      ],
      "text/latex": [
       "TRUE"
      ],
      "text/markdown": [
       "TRUE"
      ],
      "text/plain": [
       "[1] TRUE"
      ]
     },
     "metadata": {},
     "output_type": "display_data"
    },
    {
     "data": {
      "text/html": [
       "<div class=\"sos_hint\">> char_var:</div>"
      ],
      "text/plain": [
       ">>> char_var:\n"
      ]
     },
     "metadata": {},
     "output_type": "display_data"
    },
    {
     "data": {
      "text/html": [
       "'1\"23'"
      ],
      "text/latex": [
       "'1\"23'"
      ],
      "text/markdown": [
       "'1\"23'"
      ],
      "text/plain": [
       "[1] \"1\\\"23\""
      ]
     },
     "metadata": {},
     "output_type": "display_data"
    },
    {
     "data": {
      "text/html": [
       "<div class=\"sos_hint\">> comp_var:</div>"
      ],
      "text/plain": [
       ">>> comp_var:\n"
      ]
     },
     "metadata": {},
     "output_type": "display_data"
    },
    {
     "data": {
      "text/html": [
       "1+2i"
      ],
      "text/latex": [
       "1+2i"
      ],
      "text/markdown": [
       "1+2i"
      ],
      "text/plain": [
       "[1] 1+2i"
      ]
     },
     "metadata": {},
     "output_type": "display_data"
    }
   ],
   "source": [
    "%get null_var num_var logic_var char_var comp_var\n",
    "%preview -n null_var num_var logic_var char_var comp_var"
   ]
  },
  {
   "cell_type": "markdown",
   "metadata": {
    "kernel": "R"
   },
   "source": [
    "The one-dimension (vector) data is converted from SoS to R as follows:"
   ]
  },
  {
   "cell_type": "code",
   "execution_count": 3,
   "metadata": {
    "collapsed": true,
    "kernel": "SoS"
   },
   "outputs": [],
   "source": [
    "import numpy\n",
    "import pandas\n",
    "char_arr_var = ['1', '2', '3']\n",
    "list_var = [1, 2, '3']\n",
    "dict_var = dict(a=1, b=2, c='3')\n",
    "set_var = {1, 2, '3'}\n",
    "recursive_var = {'a': {'b': 123}, 'c': True}\n",
    "logic_arr_var = [True, False, True]\n",
    "seri_var = pandas.Series([1,2,3,3,3,3])"
   ]
  },
  {
   "cell_type": "code",
   "execution_count": 4,
   "metadata": {
    "kernel": "R"
   },
   "outputs": [
    {
     "data": {
      "text/html": [
       "<div class=\"sos_hint\">> char_arr_var:</div>"
      ],
      "text/plain": [
       ">>> char_arr_var:\n"
      ]
     },
     "metadata": {},
     "output_type": "display_data"
    },
    {
     "data": {
      "text/html": [
       "<ol class=list-inline>\n",
       "\t<li>'1'</li>\n",
       "\t<li>'2'</li>\n",
       "\t<li>'3'</li>\n",
       "</ol>\n"
      ],
      "text/latex": [
       "\\begin{enumerate*}\n",
       "\\item '1'\n",
       "\\item '2'\n",
       "\\item '3'\n",
       "\\end{enumerate*}\n"
      ],
      "text/markdown": [
       "1. '1'\n",
       "2. '2'\n",
       "3. '3'\n",
       "\n",
       "\n"
      ],
      "text/plain": [
       "[1] \"1\" \"2\" \"3\""
      ]
     },
     "metadata": {},
     "output_type": "display_data"
    },
    {
     "data": {
      "text/html": [
       "<div class=\"sos_hint\">> list_var:</div>"
      ],
      "text/plain": [
       ">>> list_var:\n"
      ]
     },
     "metadata": {},
     "output_type": "display_data"
    },
    {
     "data": {
      "text/html": [
       "<ol>\n",
       "\t<li>1</li>\n",
       "\t<li>2</li>\n",
       "\t<li>'3'</li>\n",
       "</ol>\n"
      ],
      "text/latex": [
       "\\begin{enumerate}\n",
       "\\item 1\n",
       "\\item 2\n",
       "\\item '3'\n",
       "\\end{enumerate}\n"
      ],
      "text/markdown": [
       "1. 1\n",
       "2. 2\n",
       "3. '3'\n",
       "\n",
       "\n"
      ],
      "text/plain": [
       "[[1]]\n",
       "[1] 1\n",
       "\n",
       "[[2]]\n",
       "[1] 2\n",
       "\n",
       "[[3]]\n",
       "[1] \"3\"\n"
      ]
     },
     "metadata": {},
     "output_type": "display_data"
    },
    {
     "data": {
      "text/html": [
       "<div class=\"sos_hint\">> dict_var:</div>"
      ],
      "text/plain": [
       ">>> dict_var:\n"
      ]
     },
     "metadata": {},
     "output_type": "display_data"
    },
    {
     "data": {
      "text/html": [
       "<dl>\n",
       "\t<dt>$a</dt>\n",
       "\t\t<dd>1</dd>\n",
       "\t<dt>$b</dt>\n",
       "\t\t<dd>2</dd>\n",
       "\t<dt>$c</dt>\n",
       "\t\t<dd>'3'</dd>\n",
       "</dl>\n"
      ],
      "text/latex": [
       "\\begin{description}\n",
       "\\item[\\$a] 1\n",
       "\\item[\\$b] 2\n",
       "\\item[\\$c] '3'\n",
       "\\end{description}\n"
      ],
      "text/markdown": [
       "$a\n",
       ":   1\n",
       "$b\n",
       ":   2\n",
       "$c\n",
       ":   '3'\n",
       "\n",
       "\n"
      ],
      "text/plain": [
       "$a\n",
       "[1] 1\n",
       "\n",
       "$b\n",
       "[1] 2\n",
       "\n",
       "$c\n",
       "[1] \"3\"\n"
      ]
     },
     "metadata": {},
     "output_type": "display_data"
    },
    {
     "data": {
      "text/html": [
       "<div class=\"sos_hint\">> set_var:</div>"
      ],
      "text/plain": [
       ">>> set_var:\n"
      ]
     },
     "metadata": {},
     "output_type": "display_data"
    },
    {
     "data": {
      "text/html": [
       "<ol>\n",
       "\t<li>1</li>\n",
       "\t<li>2</li>\n",
       "\t<li>'3'</li>\n",
       "</ol>\n"
      ],
      "text/latex": [
       "\\begin{enumerate}\n",
       "\\item 1\n",
       "\\item 2\n",
       "\\item '3'\n",
       "\\end{enumerate}\n"
      ],
      "text/markdown": [
       "1. 1\n",
       "2. 2\n",
       "3. '3'\n",
       "\n",
       "\n"
      ],
      "text/plain": [
       "[[1]]\n",
       "[1] 1\n",
       "\n",
       "[[2]]\n",
       "[1] 2\n",
       "\n",
       "[[3]]\n",
       "[1] \"3\"\n"
      ]
     },
     "metadata": {},
     "output_type": "display_data"
    },
    {
     "data": {
      "text/html": [
       "<div class=\"sos_hint\">> recursive_var:</div>"
      ],
      "text/plain": [
       ">>> recursive_var:\n"
      ]
     },
     "metadata": {},
     "output_type": "display_data"
    },
    {
     "data": {
      "text/html": [
       "<dl>\n",
       "\t<dt>$a</dt>\n",
       "\t\t<dd><strong>$b</strong> = 123</dd>\n",
       "\t<dt>$c</dt>\n",
       "\t\t<dd>TRUE</dd>\n",
       "</dl>\n"
      ],
      "text/latex": [
       "\\begin{description}\n",
       "\\item[\\$a] \\textbf{\\$b} = 123\n",
       "\\item[\\$c] TRUE\n",
       "\\end{description}\n"
      ],
      "text/markdown": [
       "$a\n",
       ":   **$b** = 123\n",
       "$c\n",
       ":   TRUE\n",
       "\n",
       "\n"
      ],
      "text/plain": [
       "$a\n",
       "$a$b\n",
       "[1] 123\n",
       "\n",
       "\n",
       "$c\n",
       "[1] TRUE\n"
      ]
     },
     "metadata": {},
     "output_type": "display_data"
    },
    {
     "data": {
      "text/html": [
       "<div class=\"sos_hint\">> logic_arr_var:</div>"
      ],
      "text/plain": [
       ">>> logic_arr_var:\n"
      ]
     },
     "metadata": {},
     "output_type": "display_data"
    },
    {
     "data": {
      "text/html": [
       "<ol class=list-inline>\n",
       "\t<li>TRUE</li>\n",
       "\t<li>FALSE</li>\n",
       "\t<li>TRUE</li>\n",
       "</ol>\n"
      ],
      "text/latex": [
       "\\begin{enumerate*}\n",
       "\\item TRUE\n",
       "\\item FALSE\n",
       "\\item TRUE\n",
       "\\end{enumerate*}\n"
      ],
      "text/markdown": [
       "1. TRUE\n",
       "2. FALSE\n",
       "3. TRUE\n",
       "\n",
       "\n"
      ],
      "text/plain": [
       "[1]  TRUE FALSE  TRUE"
      ]
     },
     "metadata": {},
     "output_type": "display_data"
    },
    {
     "data": {
      "text/html": [
       "<div class=\"sos_hint\">> seri_var:</div>"
      ],
      "text/plain": [
       ">>> seri_var:\n"
      ]
     },
     "metadata": {},
     "output_type": "display_data"
    },
    {
     "data": {
      "text/html": [
       "<dl class=dl-horizontal>\n",
       "\t<dt>0</dt>\n",
       "\t\t<dd>1</dd>\n",
       "\t<dt>1</dt>\n",
       "\t\t<dd>2</dd>\n",
       "\t<dt>2</dt>\n",
       "\t\t<dd>3</dd>\n",
       "\t<dt>3</dt>\n",
       "\t\t<dd>3</dd>\n",
       "\t<dt>4</dt>\n",
       "\t\t<dd>3</dd>\n",
       "\t<dt>5</dt>\n",
       "\t\t<dd>3</dd>\n",
       "</dl>\n"
      ],
      "text/latex": [
       "\\begin{description*}\n",
       "\\item[0] 1\n",
       "\\item[1] 2\n",
       "\\item[2] 3\n",
       "\\item[3] 3\n",
       "\\item[4] 3\n",
       "\\item[5] 3\n",
       "\\end{description*}\n"
      ],
      "text/markdown": [
       "0\n",
       ":   11\n",
       ":   22\n",
       ":   33\n",
       ":   34\n",
       ":   35\n",
       ":   3\n",
       "\n"
      ],
      "text/plain": [
       "0 1 2 3 4 5 \n",
       "1 2 3 3 3 3 "
      ]
     },
     "metadata": {},
     "output_type": "display_data"
    }
   ],
   "source": [
    "%get char_arr_var list_var dict_var set_var recursive_var logic_arr_var seri_var\n",
    "%preview -n char_arr_var list_var dict_var set_var recursive_var logic_arr_var seri_var"
   ]
  },
  {
   "cell_type": "markdown",
   "metadata": {
    "kernel": "R"
   },
   "source": [
    "The multi-dimension data is converted from SoS to R as follows:"
   ]
  },
  {
   "cell_type": "code",
   "execution_count": 5,
   "metadata": {
    "collapsed": true,
    "kernel": "SoS"
   },
   "outputs": [],
   "source": [
    "num_arr_var = numpy.array([1, 2, 3, 4]).reshape(2,2)\n",
    "mat_var = numpy.matrix([[1,2],[3,4]])"
   ]
  },
  {
   "cell_type": "code",
   "execution_count": 6,
   "metadata": {
    "kernel": "R"
   },
   "outputs": [
    {
     "data": {
      "text/html": [
       "<div class=\"sos_hint\">> num_arr_var:</div>"
      ],
      "text/plain": [
       ">>> num_arr_var:\n"
      ]
     },
     "metadata": {},
     "output_type": "display_data"
    },
    {
     "data": {
      "text/html": [
       "<table>\n",
       "<tbody>\n",
       "\t<tr><td>1</td><td>2</td></tr>\n",
       "\t<tr><td>3</td><td>4</td></tr>\n",
       "</tbody>\n",
       "</table>\n"
      ],
      "text/latex": [
       "\\begin{tabular}{ll}\n",
       "\t 1 & 2\\\\\n",
       "\t 3 & 4\\\\\n",
       "\\end{tabular}\n"
      ],
      "text/markdown": [
       "\n",
       "| 1 | 2 | \n",
       "| 3 | 4 | \n",
       "\n",
       "\n"
      ],
      "text/plain": [
       "     [,1] [,2]\n",
       "[1,] 1    2   \n",
       "[2,] 3    4   "
      ]
     },
     "metadata": {},
     "output_type": "display_data"
    },
    {
     "data": {
      "text/html": [
       "<div class=\"sos_hint\">> mat_var:</div>"
      ],
      "text/plain": [
       ">>> mat_var:\n"
      ]
     },
     "metadata": {},
     "output_type": "display_data"
    },
    {
     "data": {
      "text/html": [
       "<table>\n",
       "<thead><tr><th scope=col>0</th><th scope=col>1</th></tr></thead>\n",
       "<tbody>\n",
       "\t<tr><td>1</td><td>2</td></tr>\n",
       "\t<tr><td>3</td><td>4</td></tr>\n",
       "</tbody>\n",
       "</table>\n"
      ],
      "text/latex": [
       "\\begin{tabular}{ll}\n",
       " 0 & 1\\\\\n",
       "\\hline\n",
       "\t 1 & 2\\\\\n",
       "\t 3 & 4\\\\\n",
       "\\end{tabular}\n"
      ],
      "text/markdown": [
       "\n",
       "0 | 1 | \n",
       "|---|---|\n",
       "| 1 | 2 | \n",
       "| 3 | 4 | \n",
       "\n",
       "\n"
      ],
      "text/plain": [
       "     0 1\n",
       "[1,] 1 2\n",
       "[2,] 3 4"
      ]
     },
     "metadata": {},
     "output_type": "display_data"
    }
   ],
   "source": [
    "%get num_arr_var mat_var\n",
    "%preview -n num_arr_var mat_var"
   ]
  },
  {
   "cell_type": "markdown",
   "metadata": {
    "kernel": "R"
   },
   "source": [
    "The scalar data is converted from R to SoS as follows:"
   ]
  },
  {
   "cell_type": "code",
   "execution_count": 7,
   "metadata": {
    "collapsed": true,
    "kernel": "R"
   },
   "outputs": [],
   "source": [
    "null_var = NULL\n",
    "num_var = 123\n",
    "logic_var = TRUE\n",
    "char_var = '1\\\"23'\n",
    "comp_var = 1+2i"
   ]
  },
  {
   "cell_type": "code",
   "execution_count": 8,
   "metadata": {
    "kernel": "SoS"
   },
   "outputs": [
    {
     "data": {
      "text/html": [
       "<div class=\"sos_hint\">> null_var: NoneType</div>"
      ],
      "text/plain": [
       ">>> null_var:\n"
      ]
     },
     "metadata": {},
     "output_type": "display_data"
    },
    {
     "data": {
      "text/plain": [
       "None"
      ]
     },
     "metadata": {},
     "output_type": "display_data"
    },
    {
     "data": {
      "text/html": [
       "<div class=\"sos_hint\">> num_var: int</div>"
      ],
      "text/plain": [
       ">>> num_var:\n"
      ]
     },
     "metadata": {},
     "output_type": "display_data"
    },
    {
     "data": {
      "text/plain": [
       "123"
      ]
     },
     "metadata": {},
     "output_type": "display_data"
    },
    {
     "data": {
      "text/html": [
       "<div class=\"sos_hint\">> logic_var: bool</div>"
      ],
      "text/plain": [
       ">>> logic_var:\n"
      ]
     },
     "metadata": {},
     "output_type": "display_data"
    },
    {
     "data": {
      "text/plain": [
       "True"
      ]
     },
     "metadata": {},
     "output_type": "display_data"
    },
    {
     "data": {
      "text/html": [
       "<div class=\"sos_hint\">> char_var: str of length 4</div>"
      ],
      "text/plain": [
       ">>> char_var:\n"
      ]
     },
     "metadata": {},
     "output_type": "display_data"
    },
    {
     "data": {
      "text/plain": [
       "'1\"23'"
      ]
     },
     "metadata": {},
     "output_type": "display_data"
    },
    {
     "data": {
      "text/html": [
       "<div class=\"sos_hint\">> comp_var: complex</div>"
      ],
      "text/plain": [
       ">>> comp_var:\n"
      ]
     },
     "metadata": {},
     "output_type": "display_data"
    },
    {
     "data": {
      "text/plain": [
       "(1+2j)"
      ]
     },
     "metadata": {},
     "output_type": "display_data"
    }
   ],
   "source": [
    "%get null_var num_var logic_var char_var comp_var --from R\n",
    "%preview -n null_var num_var logic_var char_var comp_var"
   ]
  },
  {
   "cell_type": "markdown",
   "metadata": {
    "kernel": "SoS"
   },
   "source": [
    "The one-dimension (vector) data is converted from R to SoS as follows:"
   ]
  },
  {
   "cell_type": "code",
   "execution_count": 9,
   "metadata": {
    "collapsed": true,
    "kernel": "R"
   },
   "outputs": [],
   "source": [
    "num_vector_var = c(1, 2, 3)\n",
    "logic_vector_var = c(TRUE, FALSE, TRUE)\n",
    "char_vector_var = c(1, 2, '3')\n",
    "list_var = list(1, 2, '3')\n",
    "named_list_var = list(a=1, b=2, c='3')\n",
    "recursive_var = list(a=1, b=list(c=3, d='whatever'))\n",
    "seri_var = setNames(c(1,2,3,3,3,3),c(0:5))"
   ]
  },
  {
   "cell_type": "code",
   "execution_count": 10,
   "metadata": {
    "kernel": "SoS"
   },
   "outputs": [
    {
     "data": {
      "text/html": [
       "<div class=\"sos_hint\">> num_vector_var: list of length 3</div>"
      ],
      "text/plain": [
       ">>> num_vector_var:\n"
      ]
     },
     "metadata": {},
     "output_type": "display_data"
    },
    {
     "data": {
      "text/plain": [
       "[1, 2, 3]"
      ]
     },
     "metadata": {},
     "output_type": "display_data"
    },
    {
     "data": {
      "text/html": [
       "<div class=\"sos_hint\">> logic_vector_var: list of length 3</div>"
      ],
      "text/plain": [
       ">>> logic_vector_var:\n"
      ]
     },
     "metadata": {},
     "output_type": "display_data"
    },
    {
     "data": {
      "text/plain": [
       "[True, False, True]"
      ]
     },
     "metadata": {},
     "output_type": "display_data"
    },
    {
     "data": {
      "text/html": [
       "<div class=\"sos_hint\">> char_vector_var: list of length 3</div>"
      ],
      "text/plain": [
       ">>> char_vector_var:\n"
      ]
     },
     "metadata": {},
     "output_type": "display_data"
    },
    {
     "data": {
      "text/plain": [
       "['1', '2', '3']"
      ]
     },
     "metadata": {},
     "output_type": "display_data"
    },
    {
     "data": {
      "text/html": [
       "<div class=\"sos_hint\">> list_var: list of length 3</div>"
      ],
      "text/plain": [
       ">>> list_var:\n"
      ]
     },
     "metadata": {},
     "output_type": "display_data"
    },
    {
     "data": {
      "text/plain": [
       "[1, 2, '3']"
      ]
     },
     "metadata": {},
     "output_type": "display_data"
    },
    {
     "data": {
      "text/html": [
       "<div class=\"sos_hint\">> named_list_var: dict of length 3</div>"
      ],
      "text/plain": [
       ">>> named_list_var:\n"
      ]
     },
     "metadata": {},
     "output_type": "display_data"
    },
    {
     "data": {
      "text/plain": [
       "{'a': 1, 'b': 2, 'c': '3'}"
      ]
     },
     "metadata": {},
     "output_type": "display_data"
    },
    {
     "data": {
      "text/html": [
       "<div class=\"sos_hint\">> recursive_var: dict of length 2</div>"
      ],
      "text/plain": [
       ">>> recursive_var:\n"
      ]
     },
     "metadata": {},
     "output_type": "display_data"
    },
    {
     "data": {
      "text/plain": [
       "{'a': 1, 'b': {'c': 3, 'd': 'whatever'}}"
      ]
     },
     "metadata": {},
     "output_type": "display_data"
    },
    {
     "data": {
      "text/html": [
       "<div class=\"sos_hint\">> seri_var: Series of shape (6,)</div>"
      ],
      "text/plain": [
       ">>> seri_var:\n"
      ]
     },
     "metadata": {},
     "output_type": "display_data"
    },
    {
     "data": {
      "text/plain": [
       "0    1\n",
       "1    2\n",
       "2    3\n",
       "3    3\n",
       "4    3\n",
       "5    3\n",
       "dtype: int64"
      ]
     },
     "metadata": {},
     "output_type": "display_data"
    }
   ],
   "source": [
    "%get num_vector_var logic_vector_var char_vector_var list_var named_list_var recursive_var seri_var --from R\n",
    "%preview -n num_vector_var logic_vector_var char_vector_var list_var named_list_var recursive_var seri_var"
   ]
  },
  {
   "cell_type": "markdown",
   "metadata": {
    "kernel": "SoS"
   },
   "source": [
    "The multi-dimension data is converted from R to SoS as follows:"
   ]
  },
  {
   "cell_type": "code",
   "execution_count": 11,
   "metadata": {
    "collapsed": true,
    "kernel": "R"
   },
   "outputs": [],
   "source": [
    "mat_var = matrix(c(1,2,3,4), nrow=2)\n",
    "arr_var = array(c(1:16),dim=c(2,2,2,2))"
   ]
  },
  {
   "cell_type": "code",
   "execution_count": 12,
   "metadata": {
    "kernel": "SoS"
   },
   "outputs": [
    {
     "data": {
      "text/html": [
       "<div class=\"sos_hint\">> mat_var: ndarray of shape (2, 2)</div>"
      ],
      "text/plain": [
       ">>> mat_var:\n"
      ]
     },
     "metadata": {},
     "output_type": "display_data"
    },
    {
     "data": {
      "text/plain": [
       "array([[ 1.,  3.],\n",
       "       [ 2.,  4.]])"
      ]
     },
     "metadata": {},
     "output_type": "display_data"
    },
    {
     "data": {
      "text/html": [
       "<div class=\"sos_hint\">> arr_var: ndarray of shape (2, 2, 2, 2)</div>"
      ],
      "text/plain": [
       ">>> arr_var:\n"
      ]
     },
     "metadata": {},
     "output_type": "display_data"
    },
    {
     "data": {
      "text/plain": [
       "array([[[[ 1,  3],\n",
       "         [ 2,  4]],\n",
       "\n",
       "        [[ 5,  7],\n",
       "         [ 6,  8]]],\n",
       "\n",
       "\n",
       "       [[[ 9, 11],\n",
       "         [10, 12]],\n",
       "\n",
       "        [[13, 15],\n",
       "         [14, 16]]]])"
      ]
     },
     "metadata": {},
     "output_type": "display_data"
    }
   ],
   "source": [
    "%get mat_var arr_var --from R\n",
    "%preview -n mat_var arr_var"
   ]
  },
  {
   "cell_type": "markdown",
   "metadata": {
    "kernel": "SoS"
   },
   "source": [
    "It is worth noting that R's named `list` is transferred to Python as dictionaries but SoS preserves the order of the keys so that you can recover the order of the list. For example,"
   ]
  },
  {
   "cell_type": "code",
   "execution_count": 13,
   "metadata": {
    "collapsed": true,
    "kernel": "R"
   },
   "outputs": [],
   "source": [
    "Rlist = list(A=1, C='C', B=3, D=c(2, 3))"
   ]
  },
  {
   "cell_type": "markdown",
   "metadata": {
    "kernel": "R"
   },
   "source": [
    "Although the dictionary might appear to have different order"
   ]
  },
  {
   "cell_type": "code",
   "execution_count": 14,
   "metadata": {
    "kernel": "SoS"
   },
   "outputs": [
    {
     "data": {
      "text/plain": [
       "{'A': 1, 'B': 3, 'C': 'C', 'D': [2, 3]}"
      ]
     },
     "execution_count": 14,
     "metadata": {},
     "output_type": "execute_result"
    }
   ],
   "source": [
    "%get Rlist --from R\n",
    "Rlist"
   ]
  },
  {
   "cell_type": "markdown",
   "metadata": {
    "kernel": "SoS"
   },
   "source": [
    "The order of the keys and values are actually preserved"
   ]
  },
  {
   "cell_type": "code",
   "execution_count": 15,
   "metadata": {
    "kernel": "SoS"
   },
   "outputs": [
    {
     "data": {
      "text/plain": [
       "dict_keys(['A', 'C', 'B', 'D'])"
      ]
     },
     "execution_count": 15,
     "metadata": {},
     "output_type": "execute_result"
    }
   ],
   "source": [
    "Rlist.keys()"
   ]
  },
  {
   "cell_type": "code",
   "execution_count": 16,
   "metadata": {
    "kernel": "SoS"
   },
   "outputs": [
    {
     "data": {
      "text/plain": [
       "dict_values([1, 'C', 3, [2, 3]])"
      ]
     },
     "execution_count": 16,
     "metadata": {},
     "output_type": "execute_result"
    }
   ],
   "source": [
    "Rlist.values()"
   ]
  },
  {
   "cell_type": "markdown",
   "metadata": {
    "kernel": "SoS"
   },
   "source": [
    "so it is safe to enumerate the R list in Python as"
   ]
  },
  {
   "cell_type": "code",
   "execution_count": 17,
   "metadata": {
    "kernel": "SoS"
   },
   "outputs": [
    {
     "name": "stdout",
     "output_type": "stream",
     "text": [
      "1 item of Rlist has key A and value 1\n",
      "2 item of Rlist has key C and value C\n",
      "3 item of Rlist has key B and value 3\n",
      "4 item of Rlist has key D and value [2, 3]\n"
     ]
    }
   ],
   "source": [
    "for idx, (key, val) in enumerate(Rlist.items()):\n",
    "  print(f\"{idx+1} item of Rlist has key {key} and value {val}\")"
   ]
  },
  {
   "cell_type": "markdown",
   "metadata": {
    "kernel": "SoS"
   },
   "source": [
    "Note that SoS uses the feather modules in Python and R to exchange Python Pandas `Dataframe` and R `data.frame` so this module is required if you would like to exchange data frames between these two languages."
   ]
  },
  {
   "cell_type": "markdown",
   "metadata": {
    "kernel": "SoS"
   },
   "source": [
    "## Further reading\n",
    "\n",
    "* "
   ]
  }
 ],
 "metadata": {
  "kernelspec": {
   "display_name": "SoS",
   "language": "sos",
   "name": "sos"
  },
  "language_info": {
   "codemirror_mode": "sos",
   "file_extension": ".sos",
   "mimetype": "text/x-sos",
   "name": "sos",
   "nbconvert_exporter": "sos_notebook.converter.SoS_Exporter",
   "pygments_lexer": "sos"
  },
  "sos": {
   "kernels": [
    [
     "Bash",
     "bash",
     "Bash",
     "#E6EEFF"
    ],
    [
     "R",
     "ir",
     "R",
     "#DCDCDA"
    ],
    [
     "SoS",
     "sos",
     "",
     ""
    ]
   ],
   "panel": {
    "displayed": true,
    "height": 0
   },
   "version": "0.17.5"
  }
 },
 "nbformat": 4,
 "nbformat_minor": 2
}
