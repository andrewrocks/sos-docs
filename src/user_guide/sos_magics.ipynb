{
 "cells": [
  {
   "cell_type": "markdown",
   "metadata": {
    "kernel": "SoS"
   },
   "source": [
    "# SoS Magics"
   ]
  },
  {
   "cell_type": "markdown",
   "metadata": {
    "kernel": "SoS"
   },
   "source": [
    "* **Difficulty level**: hard\n",
    "* **Time need to lean**: refer to this document only when needed\n",
    "* **Key points**:\n",
    "  * Use `%<tab>` to get a list of magics\n",
    "  * Use `%MAGIC -h` to get the help messages  "
   ]
  },
  {
   "cell_type": "markdown",
   "metadata": {
    "kernel": "SoS"
   },
   "source": [
    "## Getting help"
   ]
  },
  {
   "cell_type": "markdown",
   "metadata": {
    "kernel": "SoS"
   },
   "source": [
    "In addition to SoS statements, you can use a few SoS magics in Jupyter notebooks with a SoS kernel. Note that \n",
    "\n",
    "* SoS magics have to be specified at the beginning of a cell, although they can be specified after empty lines and comments.\n",
    "* Lines ending with `\"\\\"` will be joined so you can break long magics into multiple lines\n",
    "* Multiple magics can be used in a single cell."
   ]
  },
  {
   "cell_type": "markdown",
   "metadata": {
    "kernel": "SoS"
   },
   "source": [
    "In any SoS cell, you can type `%` and use the `<TAB>` key to get a list of SoS magics. Then, for any magic you need to use, you can type `%MAGIC -h` to get the help information. This reference manual is simply a composition of these help messages."
   ]
  },
  {
   "cell_type": "markdown",
   "metadata": {
    "kernel": "SoS"
   },
   "source": [
    "## List of Magics"
   ]
  },
  {
   "cell_type": "markdown",
   "metadata": {
    "kernel": "SoS"
   },
   "source": [
    "### <a id=\"magic_capture\"></a>`%capture`"
   ]
  },
  {
   "cell_type": "code",
   "execution_count": 26,
   "metadata": {
    "kernel": "SoS"
   },
   "outputs": [
    {
     "name": "stdout",
     "output_type": "stream",
     "text": [
      "usage: %capture [-h] [--as [{text,json,csv,tsv}]] [-t VAR | -a VAR]\n",
      "                [{stdout,stderr,text,markdown,html,raw}]\n",
      "\n",
      "Capture output (stdout) or output file from a subkernel as variable in SoS\n",
      "\n",
      "positional arguments:\n",
      "  {stdout,stderr,text,markdown,html,raw}\n",
      "                        Message type to capture, default to standard output.\n",
      "                        In terms of Jupyter message types, \"stdout\" refers to\n",
      "                        \"stream\" message with \"stdout\" type, \"stderr\" refers\n",
      "                        to \"stream\" message with \"stderr\" type, \"text\",\n",
      "                        \"markdown\" and \"html\" refers to \"display_data\" message\n",
      "                        with \"text/plain\", \"text/markdown\" and \"text/html\"\n",
      "                        type respectively. If \"raw\" is specified, all returned\n",
      "                        messages will be returned in a list format.\n",
      "\n",
      "optional arguments:\n",
      "  -h, --help            show this help message and exit\n",
      "  --as [{text,json,csv,tsv}]\n",
      "                        How to interpret the captured text. This only\n",
      "                        applicable to stdout, stderr and text message type\n",
      "                        where the text from cell output will be collected. If\n",
      "                        this option is given, SoS will try to parse the text\n",
      "                        as json, csv (comma separated text), tsv (tab\n",
      "                        separated text), and store text (from text), Pandas\n",
      "                        DataFrame (from csv or tsv), dict or other types (from\n",
      "                        json) to the variable.\n",
      "  -t VAR, --to VAR      Name of variable to which the captured content will be\n",
      "                        saved. If no varialbe is specified, the return value\n",
      "                        will be saved to variable \"__captured\" and be\n",
      "                        displayed at the side panel.\n",
      "  -a VAR, --append VAR  Name of variable to which the captured content will be\n",
      "                        appended. This option is equivalent to --to if VAR\n",
      "                        does not exist. If VAR exists and is of the same type\n",
      "                        of new content (str or dict or DataFrame), the new\n",
      "                        content will be appended to VAR if VAR is of str (str\n",
      "                        concatenation), dict (dict update), or DataFrame\n",
      "                        (DataFrame.append) types. If VAR is of list type, the\n",
      "                        new content will be appended to the end of the list.\n"
     ]
    }
   ],
   "source": [
    "%capture -h"
   ]
  },
  {
   "cell_type": "markdown",
   "metadata": {
    "kernel": "sos"
   },
   "source": [
    "### <a id=\"magic_cd\"></a>`%cd` "
   ]
  },
  {
   "cell_type": "code",
   "execution_count": 2,
   "metadata": {
    "kernel": "SoS"
   },
   "outputs": [
    {
     "name": "stderr",
     "output_type": "stream",
     "text": [
      "Failed to change dir to -h: [Errno 2] No such file or directory: '-h'\n"
     ]
    }
   ],
   "source": [
    "%cd -h"
   ]
  },
  {
   "cell_type": "markdown",
   "metadata": {
    "kernel": "SoS"
   },
   "source": [
    "### <a id=\"magic_clear\"></a>`%clear` "
   ]
  },
  {
   "cell_type": "code",
   "execution_count": 3,
   "metadata": {
    "kernel": "SoS"
   },
   "outputs": [
    {
     "name": "stdout",
     "output_type": "stream",
     "text": [
      "usage: %clear [-h] [-a] [-s STATUS [STATUS ...] | -c ELEM_CLASS\n",
      "              [ELEM_CLASS ...]]\n",
      "\n",
      "Clear the output of the current cell, or the current active cell if executed\n",
      "in the sidepanel.\n",
      "\n",
      "optional arguments:\n",
      "  -h, --help            show this help message and exit\n",
      "  -a, --all             Clear all output or selected status or class of the\n",
      "                        current notebook.\n",
      "  -s STATUS [STATUS ...], --status STATUS [STATUS ...]\n",
      "                        Clear tasks that match specifie status (e.g.\n",
      "                        completed).\n",
      "  -c ELEM_CLASS [ELEM_CLASS ...], --class ELEM_CLASS [ELEM_CLASS ...]\n",
      "                        Clear all HTML elements with specified classes (e.g.\n",
      "                        sos_hint)\n"
     ]
    }
   ],
   "source": [
    "%clear -h"
   ]
  },
  {
   "cell_type": "markdown",
   "metadata": {
    "kernel": "SoS"
   },
   "source": [
    "###  <a id=\"magic_dict\"></a>`%dict` "
   ]
  },
  {
   "cell_type": "code",
   "execution_count": 5,
   "metadata": {
    "kernel": "SoS"
   },
   "outputs": [
    {
     "name": "stdout",
     "output_type": "stream",
     "text": [
      "usage: %dict [-h] [-k] [-r] [-a] [-d VAR [VAR ...]] [vars [vars ...]]\n",
      "\n",
      "Inspect or reset SoS dictionary\n",
      "\n",
      "positional arguments:\n",
      "  vars\n",
      "\n",
      "optional arguments:\n",
      "  -h, --help            show this help message and exit\n",
      "  -k, --keys            Return only keys\n",
      "  -r, --reset           Rest SoS dictionary (clear all user variables)\n",
      "  -a, --all             Return all variales, including system functions and\n",
      "                        variables\n",
      "  -d VAR [VAR ...], --del VAR [VAR ...]\n",
      "                        Remove specified variables from SoS dictionary\n"
     ]
    }
   ],
   "source": [
    "%dict -h"
   ]
  },
  {
   "cell_type": "markdown",
   "metadata": {
    "kernel": "sos"
   },
   "source": [
    "### <a id=\"magic_expand\"></a>`%expand` "
   ]
  },
  {
   "cell_type": "code",
   "execution_count": 6,
   "metadata": {
    "kernel": "SoS"
   },
   "outputs": [
    {
     "name": "stdout",
     "output_type": "stream",
     "text": [
      "usage: %expand [-h] [sigil] [right_sigil]\n",
      "\n",
      "Expand the script in the current cell with default ({}) or specified sigil.\n",
      "\n",
      "positional arguments:\n",
      "  sigil        Sigil to be used to interpolated the texts. It can be quoted,\n",
      "               or be specified as two options.\n",
      "  right_sigil  Right sigil if the sigil is specified as two pieces.\n",
      "\n",
      "optional arguments:\n",
      "  -h, --help   show this help message and exit\n"
     ]
    }
   ],
   "source": [
    "%expand -h"
   ]
  },
  {
   "cell_type": "markdown",
   "metadata": {
    "kernel": "SoS"
   },
   "source": [
    "### <a id=\"magic_get\"></a>`%get` "
   ]
  },
  {
   "cell_type": "code",
   "execution_count": 7,
   "metadata": {
    "kernel": "SoS"
   },
   "outputs": [
    {
     "name": "stdout",
     "output_type": "stream",
     "text": [
      "usage: %get [-h] [--from __FROM__] [vars [vars ...]]\n",
      "\n",
      "Get specified variables from another kernel, which is by default the SoS\n",
      "kernel.\n",
      "\n",
      "positional arguments:\n",
      "  vars             Names of SoS variables\n",
      "\n",
      "optional arguments:\n",
      "  -h, --help       show this help message and exit\n",
      "  --from __FROM__  Name of kernel from which the variables will be obtained.\n",
      "                   Default to the SoS kernel.\n"
     ]
    }
   ],
   "source": [
    "%get -h"
   ]
  },
  {
   "cell_type": "markdown",
   "metadata": {
    "kernel": "SoS"
   },
   "source": [
    "### <a id=\"magic_matplotlib\"></a>`%matplotlib`"
   ]
  },
  {
   "cell_type": "code",
   "execution_count": 8,
   "metadata": {
    "collapsed": true,
    "kernel": "SoS"
   },
   "outputs": [
    {
     "name": "stdout",
     "output_type": "stream",
     "text": [
      "usage: %matplotlib [-h] [-l]\n",
      "                   [{agg,gtk,gtk3,inline,ipympl,nbagg,notebook,osx,pdf,ps,qt,qt4,qt5,svg,tk,widget,wx}]\n",
      "\n",
      "Set matplotlib parser type\n",
      "\n",
      "positional arguments:\n",
      "  {agg,gtk,gtk3,inline,ipympl,nbagg,notebook,osx,pdf,ps,qt,qt4,qt5,svg,tk,widget,wx}\n",
      "                        Name of the matplotlib backend to use (‘agg’, ‘gtk’,\n",
      "                        ‘gtk3’,\n",
      "\n",
      "optional arguments:\n",
      "  -h, --help            show this help message and exit\n",
      "  -l, --list            Show available matplotlib backends\n"
     ]
    }
   ],
   "source": [
    "%matplotlib -h"
   ]
  },
  {
   "cell_type": "markdown",
   "metadata": {
    "kernel": "SoS"
   },
   "source": [
    "### <a id=\"magic_put\"></a>`%put` "
   ]
  },
  {
   "cell_type": "code",
   "execution_count": 9,
   "metadata": {
    "kernel": "SoS"
   },
   "outputs": [
    {
     "name": "stdout",
     "output_type": "stream",
     "text": [
      "usage: %put [-h] [--to __TO__] [vars [vars ...]]\n",
      "\n",
      "Put specified variables in the subkernel to another kernel, which is by\n",
      "default the SoS kernel.\n",
      "\n",
      "positional arguments:\n",
      "  vars         Names of SoS variables\n",
      "\n",
      "optional arguments:\n",
      "  -h, --help   show this help message and exit\n",
      "  --to __TO__  Name of kernel from which the variables will be obtained.\n",
      "               Default to the SoS kernel.\n"
     ]
    }
   ],
   "source": [
    "%put -h"
   ]
  },
  {
   "cell_type": "markdown",
   "metadata": {
    "kernel": "SoS"
   },
   "source": [
    "###  <a id=\"magic_preview\"></a>`%preview`"
   ]
  },
  {
   "cell_type": "code",
   "execution_count": 10,
   "metadata": {
    "kernel": "SoS"
   },
   "outputs": [
    {
     "name": "stdout",
     "output_type": "stream",
     "text": [
      "usage: %preview [-h] [-k KERNEL] [-w] [-o] [-s {table,scatterplot,png}]\n",
      "                [-r HOST] [-p | -n] [-c CONFIG]\n",
      "                [items [items ...]]\n",
      "\n",
      "Preview files, sos variables, or expressions in the side panel, or notebook if\n",
      "side panel is not opened, unless options --panel or --notebook is specified.\n",
      "\n",
      "positional arguments:\n",
      "  items                 Filename, variable name, or expression. Wildcard\n",
      "                        characters such as '*' and '?' are allowed for\n",
      "                        filenames.\n",
      "\n",
      "optional arguments:\n",
      "  -h, --help            show this help message and exit\n",
      "  -k KERNEL, --kernel KERNEL\n",
      "                        kernel in which variables will be previewed. By\n",
      "                        default the variable will be previewed in the current\n",
      "                        kernel of the cell.\n",
      "  -w, --workflow        Preview notebook workflow\n",
      "  -o, --keep-output     Do not clear the output of the side panel.\n",
      "  -s {table,scatterplot,png}, --style {table,scatterplot,png}\n",
      "                        Option for preview file or variable, which by default\n",
      "                        is \"table\" for Pandas DataFrame. The %preview magic\n",
      "                        also accepts arbitrary additional keyword arguments,\n",
      "                        which would be interpreted by individual style.\n",
      "                        Passing '-h' with '--style' would display the usage\n",
      "                        information of particular style.\n",
      "  -r HOST, --host HOST  Preview files on specified remote host, which should\n",
      "                        be one of the hosts defined in sos configuration\n",
      "                        files.\n",
      "  -p, --panel           Preview in side panel even if the panel is currently\n",
      "                        closed\n",
      "  -n, --notebook        Preview in the main notebook.\n",
      "  -c CONFIG, --config CONFIG\n",
      "                        A configuration file with host definitions, in case\n",
      "                        the definitions are not defined in global or local sos\n",
      "                        config.yml files.\n"
     ]
    }
   ],
   "source": [
    "%preview -h"
   ]
  },
  {
   "cell_type": "markdown",
   "metadata": {
    "kernel": "SoS"
   },
   "source": [
    "### <a id=\"magic_render\"></a>`%render` "
   ]
  },
  {
   "cell_type": "code",
   "execution_count": 11,
   "metadata": {
    "kernel": "SoS"
   },
   "outputs": [
    {
     "name": "stdout",
     "output_type": "stream",
     "text": [
      "usage: %render [-h] [--as [AS_TYPE]] [{stdout,text}]\n",
      "\n",
      "Treat the output of a SoS cell as another format, default to markdown.\n",
      "\n",
      "positional arguments:\n",
      "  {stdout,text}   Message type to capture, default to standard output. In\n",
      "                  terms of Jupyter message types, \"stdout\" refers to \"stream\"\n",
      "                  message with \"stdout\" type, and \"text\" refers to\n",
      "                  \"display_data\" message with \"text/plain\" type.\n",
      "\n",
      "optional arguments:\n",
      "  -h, --help      show this help message and exit\n",
      "  --as [AS_TYPE]  Format to render output of cell, default to Markdown, but\n",
      "                  can be any format that is supported by the IPython.display\n",
      "                  module such as HTML, Math, JSON, JavaScript and SVG.\n"
     ]
    }
   ],
   "source": [
    "%render -h"
   ]
  },
  {
   "cell_type": "markdown",
   "metadata": {
    "kernel": "SoS"
   },
   "source": [
    "### <a id=\"magic_rerun\"></a>`%rerun` "
   ]
  },
  {
   "cell_type": "code",
   "execution_count": 12,
   "metadata": {
    "kernel": "SoS",
    "workflow_cell": false
   },
   "outputs": [],
   "source": [
    "%rerun -h\n"
   ]
  },
  {
   "cell_type": "markdown",
   "metadata": {
    "kernel": "SoS"
   },
   "source": [
    "### <a id=\"magic_revisions\"></a>`%revisions` "
   ]
  },
  {
   "cell_type": "code",
   "execution_count": 1,
   "metadata": {
    "kernel": "SoS"
   },
   "outputs": [
    {
     "name": "stdout",
     "output_type": "stream",
     "text": [
      "usage: %revision [-h] [-s [SOURCE]] [-l LINKS [LINKS ...]]\n",
      "\n",
      "Revision history of the document, parsed from the log message of the notebook\n",
      "if it is kept in a git repository. Additional parameters to \"git log\" command\n",
      "(e.g. -n 5 --since --after) could be specified to limit the revisions to\n",
      "display.\n",
      "\n",
      "optional arguments:\n",
      "  -h, --help            show this help message and exit\n",
      "  -s [SOURCE], --source [SOURCE]\n",
      "                        Source URL to to create links for revisions. SoS\n",
      "                        automatically parse source URL of the origin and\n",
      "                        provides variables \"repo\" for complete origin URL\n",
      "                        without trailing \".git\" (e.g.\n",
      "                        https://github.com/vatlab/sos-notebook), \"path\" for\n",
      "                        complete path name (e.g. src/document/doc.ipynb),\n",
      "                        \"filename\" for only the name of the \"path\", and\n",
      "                        \"revision\" for revisions. Because sos interpolates\n",
      "                        command line by default, variables in URL template\n",
      "                        should be included with double braceses (e.g. --source\n",
      "                        {{repo}}/blob/{{revision}}/{{path}})). If this option\n",
      "                        is provided without value and the document is hosted\n",
      "                        on github, a default template will be provided.\n",
      "  -l LINKS [LINKS ...], --links LINKS [LINKS ...]\n",
      "                        Name and URL or additional links for related files\n",
      "                        (e.g. --links report URL_to_repo ) with URL\n",
      "                        interpolated as option --source.\n"
     ]
    }
   ],
   "source": [
    "%revisions -h"
   ]
  },
  {
   "cell_type": "markdown",
   "metadata": {
    "kernel": "SoS"
   },
   "source": [
    "### <a id=\"magic_run\"></a>`%run` "
   ]
  },
  {
   "cell_type": "code",
   "execution_count": 13,
   "metadata": {
    "kernel": "SoS"
   },
   "outputs": [
    {
     "data": {
      "text/html": [
       "\n",
       "<table id=\"workflow_e9dc30da-c8ec-4938-84af-2b9495cfb314\" class=\"workflow_table  completed\">\n",
       "<tr>\n",
       "      <td class=\"workflow_icon\">\n",
       "        <i id=\"workflow_status_icon_e9dc30da-c8ec-4938-84af-2b9495cfb314\" class=\"fa fa-2x fa-fw fa-check-square-o\"\n",
       "        onmouseover='this.classList=\"fa fa-2x fa-fw fa-trash\"' onmouseleave='this.classList=\"fa fa-2x fa-fw fa-check-square-o\"' onclick=\"cancel_workflow(this.id.substring(21))\"></i>\n",
       "      </td>\n",
       "      <td class=\"workflow_name\">\n",
       "        <pre><span id=\"workflow_name_e9dc30da-c8ec-4938-84af-2b9495cfb314\">undefined</span></pre>\n",
       "      </td>\n",
       "      <td class=\"workflow_id\">\n",
       "        <span>Workflow ID</span></br>\n",
       "        <pre><i class=\"fa fa-fw fa-sitemap\"></i><span id=\"workflow_id_e9dc30da-c8ec-4938-84af-2b9495cfb314\">undefined</span></pre>\n",
       "      </td>\n",
       "      <td class=\"workflow_index\">\n",
       "        <span>Index</span></br>\n",
       "        <pre>#<span id=\"workflow_index_e9dc30da-c8ec-4938-84af-2b9495cfb314\">1</span></pre>\n",
       "      </td>\n",
       "      <td class=\"workflow_status\">\n",
       "        <span id=\"status_text_e9dc30da-c8ec-4938-84af-2b9495cfb314\">completed</span></br>\n",
       "        <pre><i class=\"fa fa-fw fa-clock-o\"></i><time id=\"status_duration_e9dc30da-c8ec-4938-84af-2b9495cfb314\" class=\"completed\" datetime=\"undefined\">Ran for < 5 seconds</time></pre>\n",
       "      </td>\n",
       "</tr>\n",
       "</table>\n"
      ]
     },
     "metadata": {},
     "output_type": "display_data"
    },
    {
     "name": "stdout",
     "output_type": "stream",
     "text": [
      "usage: sos run .sos/interactive.sos [workflow_name | -t targets] [options] [workflow_options]\n",
      "  workflow_name:        Single or combined workflows defined in this script\n",
      "  targets:              One or more targets to generate\n",
      "  options:              Single-hyphen sos parameters (see \"sos run -h\" for details)\n",
      "  workflow_options:     Double-hyphen workflow-specific parameters\n",
      "\n",
      "Workflows:\n",
      "  default\n",
      "\n",
      "Sections\n",
      "  default:\n"
     ]
    }
   ],
   "source": [
    "%run -h"
   ]
  },
  {
   "cell_type": "markdown",
   "metadata": {
    "kernel": "SoS"
   },
   "source": [
    "### <a id=\"magic_save\"></a>`%save` "
   ]
  },
  {
   "cell_type": "markdown",
   "metadata": {
    "kernel": "SoS"
   },
   "source": [
    "Magic `%save` saves the content of the current cell (after the magic itself) to specified file. It accepts the following options:"
   ]
  },
  {
   "cell_type": "code",
   "execution_count": 14,
   "metadata": {
    "collapsed": true,
    "kernel": "SoS"
   },
   "outputs": [
    {
     "name": "stdout",
     "output_type": "stream",
     "text": [
      "usage: %save [-h] [-f] [-a] [-x] filename\n",
      "\n",
      "Save the content of the cell (after the magic itself) to specified file\n",
      "\n",
      "positional arguments:\n",
      "  filename              Filename of saved report or script.\n",
      "\n",
      "optional arguments:\n",
      "  -h, --help            show this help message and exit\n",
      "  -f, --force           If destination file already exists, overwrite it.\n",
      "  -a, --append          If destination file already exists, append to it.\n",
      "  -x, --set-executable  Set `executable` permission to saved script.\n"
     ]
    }
   ],
   "source": [
    "%save -h"
   ]
  },
  {
   "cell_type": "markdown",
   "metadata": {
    "kernel": "SoS"
   },
   "source": [
    "### <a id=\"magic_sosrun\"></a>`%sosrun` "
   ]
  },
  {
   "cell_type": "code",
   "execution_count": 15,
   "metadata": {
    "kernel": "SoS"
   },
   "outputs": [
    {
     "data": {
      "text/html": [
       "\n",
       "<table id=\"workflow_b61eb595-010d-442d-bbe9-f2e595c70811\" class=\"workflow_table  completed\">\n",
       "<tr>\n",
       "      <td class=\"workflow_icon\">\n",
       "        <i id=\"workflow_status_icon_b61eb595-010d-442d-bbe9-f2e595c70811\" class=\"fa fa-2x fa-fw fa-check-square-o\"\n",
       "        onmouseover='this.classList=\"fa fa-2x fa-fw fa-trash\"' onmouseleave='this.classList=\"fa fa-2x fa-fw fa-check-square-o\"' onclick=\"cancel_workflow(this.id.substring(21))\"></i>\n",
       "      </td>\n",
       "      <td class=\"workflow_name\">\n",
       "        <pre><span id=\"workflow_name_b61eb595-010d-442d-bbe9-f2e595c70811\">undefined</span></pre>\n",
       "      </td>\n",
       "      <td class=\"workflow_id\">\n",
       "        <span>Workflow ID</span></br>\n",
       "        <pre><i class=\"fa fa-fw fa-sitemap\"></i><span id=\"workflow_id_b61eb595-010d-442d-bbe9-f2e595c70811\">undefined</span></pre>\n",
       "      </td>\n",
       "      <td class=\"workflow_index\">\n",
       "        <span>Index</span></br>\n",
       "        <pre>#<span id=\"workflow_index_b61eb595-010d-442d-bbe9-f2e595c70811\">2</span></pre>\n",
       "      </td>\n",
       "      <td class=\"workflow_status\">\n",
       "        <span id=\"status_text_b61eb595-010d-442d-bbe9-f2e595c70811\">completed</span></br>\n",
       "        <pre><i class=\"fa fa-fw fa-clock-o\"></i><time id=\"status_duration_b61eb595-010d-442d-bbe9-f2e595c70811\" class=\"completed\" datetime=\"undefined\">Ran for < 5 seconds</time></pre>\n",
       "      </td>\n",
       "</tr>\n",
       "</table>\n"
      ]
     },
     "metadata": {},
     "output_type": "display_data"
    },
    {
     "name": "stdout",
     "output_type": "stream",
     "text": [
      "usage: sos run .sos/interactive.sos [workflow_name | -t targets] [options] [workflow_options]\n",
      "  workflow_name:        Single or combined workflows defined in this script\n",
      "  targets:              One or more targets to generate\n",
      "  options:              Single-hyphen sos parameters (see \"sos run -h\" for details)\n",
      "  workflow_options:     Double-hyphen workflow-specific parameters\n",
      "\n",
      "Workflows:\n",
      "  cat\n",
      "  mouse\n",
      "\n",
      "Sections\n",
      "  cat_10:\n",
      "  cat_20:\n",
      "  mouse_10:\n",
      "  mouse_20:\n"
     ]
    }
   ],
   "source": [
    "%sosrun -h"
   ]
  },
  {
   "cell_type": "markdown",
   "metadata": {
    "kernel": "SoS"
   },
   "source": [
    "###  <a id=\"magic_sossave\"></a>`%sossave`"
   ]
  },
  {
   "cell_type": "code",
   "execution_count": 16,
   "metadata": {
    "kernel": "SoS"
   },
   "outputs": [
    {
     "name": "stdout",
     "output_type": "stream",
     "text": [
      "usage: %sossave [-h] [-t {sos,html}] [-c] [-a] [-m MESSAGE] [-p] [-f] [-x]\n",
      "                [--template TEMPLATE]\n",
      "                [filename]\n",
      "\n",
      "Save the jupyter notebook as workflow (consisting of all sos steps defined in\n",
      "cells starting with section header) or a HTML report to specified file.\n",
      "\n",
      "positional arguments:\n",
      "  filename              Filename of saved report or script. Default to\n",
      "                        notebookname with file extension determined by option\n",
      "                        --to.\n",
      "\n",
      "optional arguments:\n",
      "  -h, --help            show this help message and exit\n",
      "  -t {sos,html}, --to {sos,html}\n",
      "                        Destination format, default to sos.\n",
      "  -c, --commit          Commit the saved file to git directory using command\n",
      "                        git commit FILE\n",
      "  -a, --all             The --all option for sos convert script.ipynb\n",
      "                        script.sos, which saves all cells and their metadata\n",
      "                        to a .sos file, that contains all input information of\n",
      "                        the notebook but might not be executable in batch\n",
      "                        mode.\n",
      "  -m MESSAGE, --message MESSAGE\n",
      "                        Message for git commit. Default to \"save FILENAME\"\n",
      "  -p, --push            Push the commit with command \"git push\"\n",
      "  -f, --force           If destination file already exists, overwrite it.\n",
      "  -x, --set-executable  Set `executable` permission to saved script.\n",
      "  --template TEMPLATE   Template to generate HTML output. The default template\n",
      "                        is a template defined by configuration key default-\n",
      "                        sos-template, or sos-report if such a key does not\n",
      "                        exist.\n"
     ]
    }
   ],
   "source": [
    "%sossave -h"
   ]
  },
  {
   "cell_type": "markdown",
   "metadata": {
    "kernel": "SoS"
   },
   "source": [
    "### <a id=\"magic_set\"></a>`%set` "
   ]
  },
  {
   "cell_type": "code",
   "execution_count": 18,
   "metadata": {
    "kernel": "SoS"
   },
   "outputs": [
    {
     "name": "stdout",
     "output_type": "stream",
     "text": [
      "Set sos options to \"-h\"\n"
     ]
    }
   ],
   "source": [
    "%set -h"
   ]
  },
  {
   "cell_type": "markdown",
   "metadata": {
    "kernel": "sos"
   },
   "source": [
    "### <a id=\"magic_sandbox\"></a>`%sandbox` "
   ]
  },
  {
   "cell_type": "code",
   "execution_count": 19,
   "metadata": {
    "kernel": "SoS"
   },
   "outputs": [
    {
     "name": "stdout",
     "output_type": "stream",
     "text": [
      "usage: %sandbox [-h] [-d DIR] [-k] [-e]\n",
      "\n",
      "Execute content of a cell in a temporary directory with fresh dictionary (by\n",
      "default).\n",
      "\n",
      "optional arguments:\n",
      "  -h, --help          show this help message and exit\n",
      "  -d DIR, --dir DIR   Execute workflow in specified directory. The directory\n",
      "                      will be created if does not exist, and will not be\n",
      "                      removed after the completion.\n",
      "  -k, --keep-dict     Keep current sos dictionary.\n",
      "  -e, --expect-error  If set, expect error from the excution and report\n",
      "                      success if an error occurs.\n"
     ]
    }
   ],
   "source": [
    "%sandbox -h"
   ]
  },
  {
   "cell_type": "markdown",
   "metadata": {
    "kernel": "SoS"
   },
   "source": [
    "###  <a id=\"magic_sessioninfo\"></a>`%sessioninfo`"
   ]
  },
  {
   "cell_type": "code",
   "execution_count": 20,
   "metadata": {
    "kernel": "SoS"
   },
   "outputs": [
    {
     "name": "stdout",
     "output_type": "stream",
     "text": [
      "usage: %sessioninfo [-h]\n",
      "\n",
      "List the session info of all subkernels, and information stored in variable\n",
      "sessioninfo\n",
      "\n",
      "optional arguments:\n",
      "  -h, --help  show this help message and exit\n"
     ]
    }
   ],
   "source": [
    "%sessioninfo -h"
   ]
  },
  {
   "cell_type": "markdown",
   "metadata": {
    "kernel": "SoS"
   },
   "source": [
    "### `%shutdown` <a id=\"magic_shutdown\"></a>"
   ]
  },
  {
   "cell_type": "code",
   "execution_count": 21,
   "metadata": {
    "kernel": "SoS"
   },
   "outputs": [
    {
     "name": "stdout",
     "output_type": "stream",
     "text": [
      "usage: %shutdown [-h] [-r] [kernel]\n",
      "\n",
      "Shutdown or restart specified subkernel\n",
      "\n",
      "positional arguments:\n",
      "  kernel         Name of the kernel to be restarted, default to the current\n",
      "                 running kernel.\n",
      "\n",
      "optional arguments:\n",
      "  -h, --help     show this help message and exit\n",
      "  -r, --restart  Restart the kernel\n"
     ]
    }
   ],
   "source": [
    "%shutdown -h"
   ]
  },
  {
   "cell_type": "markdown",
   "metadata": {
    "kernel": "SoS"
   },
   "source": [
    "### <a id=\"magic_task\"></a>`%task` "
   ]
  },
  {
   "cell_type": "code",
   "execution_count": 22,
   "metadata": {
    "kernel": "SoS"
   },
   "outputs": [
    {
     "name": "stdout",
     "output_type": "stream",
     "text": [
      "usage: %task [-h] {status,execute,kill,purge} ...\n",
      "\n",
      "Get information on specified task. By default sos would query against all\n",
      "running task queues but it would start a task queue and query status if option\n",
      "-q is specified.\n",
      "\n",
      "positional arguments:\n",
      "  {status,execute,kill,purge}\n",
      "                        actions\n",
      "    status              task status\n",
      "    execute             execute task\n",
      "    kill                kill single task or tasks with the same tags\n",
      "    purge               kill and purge task\n",
      "\n",
      "optional arguments:\n",
      "  -h, --help            show this help message and exit\n"
     ]
    }
   ],
   "source": [
    "%task -h"
   ]
  },
  {
   "cell_type": "markdown",
   "metadata": {
    "kernel": "SoS"
   },
   "source": [
    "### <a id=\"magic_toc\"></a>`%toc` "
   ]
  },
  {
   "cell_type": "code",
   "execution_count": 23,
   "metadata": {
    "kernel": "SoS"
   },
   "outputs": [
    {
     "name": "stdout",
     "output_type": "stream",
     "text": [
      "usage: %toc [-h] [-p | -n] [--id ID]\n",
      "\n",
      "Generate a table of content from the current notebook.\n",
      "\n",
      "optional arguments:\n",
      "  -h, --help      show this help message and exit\n",
      "  -p, --panel     Show the TOC in side panel even if the panel is currently\n",
      "                  closed\n",
      "  -n, --notebook  Show the TOC in the main notebook.\n",
      "  --id ID         Optional ID of the generated TOC.\n"
     ]
    }
   ],
   "source": [
    "%toc -h"
   ]
  },
  {
   "cell_type": "markdown",
   "metadata": {
    "kernel": "SoS"
   },
   "source": [
    "###  <a id=\"magic_use\"></a>`%use` "
   ]
  },
  {
   "cell_type": "code",
   "execution_count": 24,
   "metadata": {
    "kernel": "SoS"
   },
   "outputs": [
    {
     "name": "stdout",
     "output_type": "stream",
     "text": [
      "usage: %use [-h] [-k KERNEL] [-l LANGUAGE] [-c COLOR] [-r] [name]\n",
      "\n",
      "Switch to an existing subkernel or start a new subkernel.\n",
      "\n",
      "positional arguments:\n",
      "  name                  Displayed name of kernel to start (if no kernel with\n",
      "                        name is specified) or switch to (if a kernel with this\n",
      "                        name is already started). The name is usually a kernel\n",
      "                        name (e.g. %use ir) or a language name (e.g. %use R)\n",
      "                        in which case the language name will be used. One or\n",
      "                        more parameters --language or --kernel will need to be\n",
      "                        specified if a new name is used to start a separate\n",
      "                        instance of a kernel.\n",
      "\n",
      "optional arguments:\n",
      "  -h, --help            show this help message and exit\n",
      "  -k KERNEL, --kernel KERNEL\n",
      "                        kernel name as displayed in the output of jupyter\n",
      "                        kernelspec list. Default to the default kernel of\n",
      "                        selected language (e.g. ir for language R.\n",
      "  -l LANGUAGE, --language LANGUAGE\n",
      "                        Language extension that enables magics such as %get\n",
      "                        and %put for the kernel, which should be in the name\n",
      "                        of a registered language (e.g. R), or a specific\n",
      "                        language module in the format of package.module:class.\n",
      "                        SoS maitains a list of languages and kernels so this\n",
      "                        option is only needed for starting a new instance of a\n",
      "                        kernel.\n",
      "  -c COLOR, --color COLOR\n",
      "                        Background color of new or existing kernel, which\n",
      "                        overrides the default color of the language. A special\n",
      "                        value \"default\" can be used to reset color to default.\n",
      "  -r, --restart         Restart the kernel if it is running.\n"
     ]
    }
   ],
   "source": [
    "%use -h"
   ]
  },
  {
   "cell_type": "markdown",
   "metadata": {
    "kernel": "SoS"
   },
   "source": [
    "### <a id=\"magic_with\"></a>`%with` "
   ]
  },
  {
   "cell_type": "code",
   "execution_count": 25,
   "metadata": {
    "kernel": "SoS"
   },
   "outputs": [
    {
     "name": "stdout",
     "output_type": "stream",
     "text": [
      "usage: %with [-h] [-i [IN_VARS [IN_VARS ...]]] [-o [OUT_VARS [OUT_VARS ...]]]\n",
      "             [name]\n",
      "\n",
      "Use specified subkernel to evaluate current cell, with optional input and\n",
      "output variables\n",
      "\n",
      "positional arguments:\n",
      "  name                  Name of an existing kernel.\n",
      "\n",
      "optional arguments:\n",
      "  -h, --help            show this help message and exit\n",
      "  -i [IN_VARS [IN_VARS ...]], --in [IN_VARS [IN_VARS ...]]\n",
      "                        Input variables (variables to get from SoS kernel)\n",
      "  -o [OUT_VARS [OUT_VARS ...]], --out [OUT_VARS [OUT_VARS ...]]\n",
      "                        Output variables (variables to put back to SoS kernel\n",
      "                        before switching back to the SoS kernel\n"
     ]
    }
   ],
   "source": [
    "%with -h"
   ]
  },
  {
   "cell_type": "markdown",
   "metadata": {
    "kernel": "sos"
   },
   "source": [
    "### <a href=\"shell_command\"></a>`!shell-command` \n",
    "\n",
    "If any other command is entered after `!`, sos will treat the rest of the line as a shell command and execute it. Only single-line commands are supported. String interpolation is supported. Note that `!cd` does not change the current working directory because the command is executed in a separate process. Use magic `%cd` for that purpose."
   ]
  }
 ],
 "metadata": {
  "kernelspec": {
   "display_name": "SoS",
   "language": "sos",
   "name": "sos"
  },
  "language_info": {
   "codemirror_mode": "sos",
   "file_extension": ".sos",
   "mimetype": "text/x-sos",
   "name": "sos",
   "nbconvert_exporter": "sos_notebook.converter.SoS_Exporter",
   "pygments_lexer": "sos"
  },
  "sos": {
   "kernels": [
    [
     "Python3",
     "python3",
     "Python3",
     "#FFD91A"
    ],
    [
     "R",
     "ir",
     "R",
     "#DCDCDA"
    ],
    [
     "SoS",
     "sos",
     "",
     ""
    ]
   ],
   "panel": {
    "displayed": true,
    "height": 0
   },
   "version": "0.17.5"
  }
 },
 "nbformat": 4,
 "nbformat_minor": 2
}
