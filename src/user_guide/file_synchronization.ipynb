{
 "cells": [
  {
   "cell_type": "markdown",
   "metadata": {
    "kernel": "SoS"
   },
   "source": [
    "# How to transfer input and output automatically between local and remote hosts"
   ]
  },
  {
   "cell_type": "markdown",
   "metadata": {
    "kernel": "SoS"
   },
   "source": [
    "* **Difficulty level**: intermediate\n",
    "* **Time need to lean**: 10 minutes or less\n",
    "* **Key points**:\n",
    "\n",
    "  "
   ]
  },
  {
   "cell_type": "markdown",
   "metadata": {
    "kernel": "SoS"
   },
   "source": [
    "## Remote Targets"
   ]
  },
  {
   "cell_type": "markdown",
   "metadata": {
    "kernel": "SoS"
   },
   "source": [
    "All targets are by default `local`, in the sense that they are available locally. **Local targets will be synchronized to remote hosts to be processed by tasks**. Remote tasks are targets that reside on a remote host. **Remote targets will not be synchronized between local and remote hosts**. \n",
    "\n",
    "| | Local Targets (default) | Remote Targets |\n",
    "|----| ---- |----|\n",
    "|location | locally | on remote host (although a remote host can be local) |\n",
    "|representation | w.r.t local file system | w.r.t remote file system |\n",
    "|Path translation | Translate to paths on different remote hosts if needed | Not translated |\n",
    "|processed in tasks | Yes | Yes |\n",
    "|processed outside of tasks | Yes | No |\n",
    "|Synchronized | Yes | No |\n",
    "\n",
    "In summary, remote targets allow you to use remote resources directly without synchronizing them to local host. SoS currently assumes that the targets are available on the host where the tasks are executed so there is no need to specify the host name for remote targets.\n"
   ]
  },
  {
   "cell_type": "markdown",
   "metadata": {
    "kernel": "SoS"
   },
   "source": [
    "Targets can be specified as remote if you wrapt them inside a `remote` function (e.g. `remote('input.txt')`, `remote('input1.txt', 'input2.txt')`, `remote(fastq_files)`, or `remote(R_Library('ggplot2'))`. For example, you could use the following step to process a large input file and only synchronize small output files to local desktop for further analysis:\n",
    "\n",
    "```\n",
    "[10]\n",
    "input: remote('/path/to/large/input/file')\n",
    "output: remote('large_output'), 'summary.stat'\n",
    "task:\n",
    "sh:\n",
    "    script to generate large_output and summary.stat\n",
    "    from large input files.\n",
    "```\n"
   ]
  },
  {
   "cell_type": "markdown",
   "metadata": {
    "kernel": "SoS"
   },
   "source": [
    "## Further reading\n",
    "\n",
    "* "
   ]
  }
 ],
 "metadata": {
  "kernelspec": {
   "display_name": "SoS",
   "language": "sos",
   "name": "sos"
  },
  "language_info": {
   "codemirror_mode": "sos",
   "file_extension": ".sos",
   "mimetype": "text/x-sos",
   "name": "sos",
   "nbconvert_exporter": "sos_notebook.converter.SoS_Exporter",
   "pygments_lexer": "sos"
  },
  "sos": {
   "kernels": [
    [
     "Bash",
     "bash",
     "Bash",
     "#E6EEFF"
    ],
    [
     "R",
     "ir",
     "R",
     "#DCDCDA"
    ],
    [
     "SoS",
     "sos",
     "",
     ""
    ]
   ],
   "panel": {
    "displayed": true,
    "height": 0
   },
   "version": "0.17.5"
  }
 },
 "nbformat": 4,
 "nbformat_minor": 2
}
