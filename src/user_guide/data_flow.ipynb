{
 "cells": [
  {
   "cell_type": "markdown",
   "metadata": {
    "kernel": "SoS"
   },
   "source": [
    "# Title"
   ]
  },
  {
   "cell_type": "markdown",
   "metadata": {
    "kernel": "SoS"
   },
   "source": [
    "* **Difficulty level**: easy\n",
    "* **Time need to lean**: 10 minutes or less\n",
    "* **Key points**:\n",
    "  * a\n",
    "  "
   ]
  },
  {
   "cell_type": "markdown",
   "metadata": {
    "kernel": "SoS"
   },
   "source": [
    "## Automatic auxiliary step"
   ]
  },
  {
   "cell_type": "markdown",
   "metadata": {
    "kernel": "SoS"
   },
   "source": [
    "Because we jump into more complex pattern based auxiliary steps, it is worth mentioning that any step with a simple `output` statement can be triggered with the specified `output`, making it a simple auxiliary step without an explicit `provides` option. That is to say, when you have a regular step with a statement that specifies one or more file names (or other targets), without using any other variables such as `_input`, it can be triggered by the output.\n",
    "\n",
    "For example, the following workflow has a single step that generates an output file `a.md`. It can be triggered by specifying the name of the workflow"
   ]
  },
  {
   "cell_type": "code",
   "execution_count": 8,
   "metadata": {
    "kernel": "SoS"
   },
   "outputs": [
    {
     "data": {
      "text/html": [
       "<div class=\"sos_hint\">> a.md (19 B):</div>"
      ],
      "text/plain": [
       "\n",
       "> a.md (19 B):"
      ]
     },
     "metadata": {},
     "output_type": "display_data"
    },
    {
     "data": {
      "text/html": [
       "<ul>\n",
       "<li>item 1</li>\n",
       "<li>item 2</li>\n",
       "</ul>"
      ],
      "text/plain": [
       "* item 1\n",
       "* item 2\n",
       "\n"
      ]
     },
     "metadata": {},
     "output_type": "display_data"
    }
   ],
   "source": [
    "%sandbox\n",
    "%preview -n a.md\n",
    "%run report\n",
    "\n",
    "[report]\n",
    "output: 'a.md'\n",
    "report: output=_output\n",
    "  * item 1\n",
    "  * item 2"
   ]
  },
  {
   "cell_type": "markdown",
   "metadata": {
    "kernel": "SoS"
   },
   "source": [
    "or be triggered by the use of the `-t` (target) option"
   ]
  },
  {
   "cell_type": "code",
   "execution_count": 9,
   "metadata": {
    "kernel": "SoS"
   },
   "outputs": [
    {
     "data": {
      "text/html": [
       "<div class=\"sos_hint\">> a.md (19 B):</div>"
      ],
      "text/plain": [
       "\n",
       "> a.md (19 B):"
      ]
     },
     "metadata": {},
     "output_type": "display_data"
    },
    {
     "data": {
      "text/html": [
       "<ul>\n",
       "<li>item 1</li>\n",
       "<li>item 2</li>\n",
       "</ul>"
      ],
      "text/plain": [
       "* item 1\n",
       "* item 2\n",
       "\n"
      ]
     },
     "metadata": {},
     "output_type": "display_data"
    }
   ],
   "source": [
    "%sandbox\n",
    "%preview -n a.md\n",
    "%run -t a.md\n",
    "\n",
    "[report]\n",
    "output: 'a.md'\n",
    "report: output=_output\n",
    "  * item 1\n",
    "  * item 2"
   ]
  },
  {
   "cell_type": "markdown",
   "metadata": {
    "kernel": "SoS"
   },
   "source": [
    "which is more or less equivalent to the following \"pure\" auxiliary step with a `provides` option (explained below) but is actually more flexible in that it can also be triggered by workflow name."
   ]
  },
  {
   "cell_type": "code",
   "execution_count": 10,
   "metadata": {
    "kernel": "SoS"
   },
   "outputs": [
    {
     "data": {
      "text/html": [
       "<div class=\"sos_hint\">> a.md (19 B):</div>"
      ],
      "text/plain": [
       "\n",
       "> a.md (19 B):"
      ]
     },
     "metadata": {},
     "output_type": "display_data"
    },
    {
     "data": {
      "text/html": [
       "<ul>\n",
       "<li>item 1</li>\n",
       "<li>item 2</li>\n",
       "</ul>"
      ],
      "text/plain": [
       "* item 1\n",
       "* item 2\n",
       "\n"
      ]
     },
     "metadata": {},
     "output_type": "display_data"
    }
   ],
   "source": [
    "%sandbox\n",
    "%preview -n a.md\n",
    "%run -t a.md\n",
    "\n",
    "[report: provides='a.md']\n",
    "report: output=_output\n",
    "  * item 1\n",
    "  * item 2"
   ]
  },
  {
   "cell_type": "markdown",
   "metadata": {
    "kernel": "SoS"
   },
   "source": [
    "## Further reading\n",
    "\n",
    "* "
   ]
  }
 ],
 "metadata": {
  "kernelspec": {
   "display_name": "SoS",
   "language": "sos",
   "name": "sos"
  },
  "language_info": {
   "codemirror_mode": "sos",
   "file_extension": ".sos",
   "mimetype": "text/x-sos",
   "name": "sos",
   "nbconvert_exporter": "sos_notebook.converter.SoS_Exporter",
   "pygments_lexer": "sos"
  },
  "sos": {
   "kernels": [
    [
     "Bash",
     "bash",
     "Bash",
     "#E6EEFF"
    ],
    [
     "R",
     "ir",
     "R",
     "#DCDCDA"
    ],
    [
     "SoS",
     "sos",
     "",
     ""
    ]
   ],
   "panel": {
    "displayed": true,
    "height": 0
   },
   "version": "0.17.4"
  }
 },
 "nbformat": 4,
 "nbformat_minor": 2
}
