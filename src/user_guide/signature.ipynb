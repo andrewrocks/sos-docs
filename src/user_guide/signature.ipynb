{
 "cells": [
  {
   "cell_type": "markdown",
   "metadata": {
    "kernel": "SoS"
   },
   "source": [
    "# Title"
   ]
  },
  {
   "cell_type": "markdown",
   "metadata": {
    "kernel": "SoS"
   },
   "source": [
    "* **Difficulty level**: easy\n",
    "* **Time need to lean**: 10 minutes or less\n",
    "* **Key points**:\n",
    "  * a\n",
    "  "
   ]
  },
  {
   "cell_type": "markdown",
   "metadata": {
    "kernel": "SoS"
   },
   "source": [
    "## Runtime signature"
   ]
  },
  {
   "cell_type": "markdown",
   "metadata": {
    "kernel": "SoS"
   },
   "source": [
    "One of the most annonying problems with the development and execution of workflows is that it can take very long times to execute then. What makes things worse is that we frequently need to re-run the workflow with different paremeters and even different tools -- it can be really time-consuming to re-execute the whole workflow repeatedly, but it is also very error-prone to repeat selected steps of a workflow. \n",
    "\n",
    "SoS addresses this problem by using <font color='red'>runtime signatures</font> to keep track of <font color='red'>execution units</font>, namely the input, output, and dependent targets, and related SoS variables of a piece of workflow. SoS tracks execution of statements at the step level for each [input group](../documentation/SoS_Step.html) and saves runtime signatures at a folder called `.sos` under the project directory. The runtime signatures are used to\n",
    "\n",
    "1. Avoid repeated execution of identical units, and\n",
    "2. Keep track of workflow related files for project management\n",
    "\n",
    "This tutorial focuses on the first usage. The second one would be described in detail in [Project Management](Project_Management.html)."
   ]
  },
  {
   "cell_type": "markdown",
   "metadata": {
    "kernel": "SoS"
   },
   "source": [
    "### `ignore` mode"
   ]
  },
  {
   "cell_type": "markdown",
   "metadata": {
    "kernel": "SoS"
   },
   "source": [
    "SoS workflows can be executed in batch mode and in interactive mode using the SoS kernel in Jupyter notebook or qtconsole. Because the SoS kernel is mostly used to execute short statements in SOS and other kernels, runtime signatures are by default set to `ignore` in interactive mode (and to `default` in batch mode)."
   ]
  },
  {
   "cell_type": "markdown",
   "metadata": {
    "kernel": "SoS"
   },
   "source": [
    "Let us create a temporary directory and execute a workflow that take a bit of time to execute. This is done in the default `ignore` signature mode of the Jupyter notebook"
   ]
  },
  {
   "cell_type": "code",
   "execution_count": 7,
   "metadata": {
    "collapsed": true,
    "kernel": "SoS"
   },
   "outputs": [],
   "source": [
    "%sandbox --dir tmp\n",
    "\n",
    "!rm -rf .sos/.runtime\n",
    "![ -d temp ] || mkdir temp"
   ]
  },
  {
   "cell_type": "code",
   "execution_count": 8,
   "metadata": {
    "kernel": "SoS"
   },
   "outputs": [
    {
     "name": "stdout",
     "output_type": "stream",
     "text": [
      "1000+0 records in\n",
      "1000+0 records out\n",
      "512000 bytes transferred in 0.041920 secs (12213687 bytes/sec)\n"
     ]
    }
   ],
   "source": [
    "%sandbox --dir tmp\n",
    "%run\n",
    "parameter: size=1000\n",
    "[10]\n",
    "output:  \"temp/result.txt\"\n",
    "sh: expand=True\n",
    "    dd if=/dev/urandom of={_output} count={size}\n",
    "\n",
    "[20]\n",
    "output:  'temp/size.txt'\n",
    "with open(_output[0], 'w') as sz:\n",
    "    sz.write(f\"{_input}: {os.path.getsize(_input[0])}\\n\")"
   ]
  },
  {
   "cell_type": "markdown",
   "metadata": {
    "kernel": "SoS"
   },
   "source": [
    "Now, if we re-run the last script, nothing changes and it takes a bit of time to execute the script."
   ]
  },
  {
   "cell_type": "code",
   "execution_count": 9,
   "metadata": {
    "kernel": "SoS"
   },
   "outputs": [
    {
     "name": "stderr",
     "output_type": "stream",
     "text": [
      "INFO: \u001b[32mdefault_10\u001b[0m (index=0) is \u001b[32mignored\u001b[0m due to saved signature\n",
      "INFO: \u001b[32mdefault_20\u001b[0m (index=0) is \u001b[32mignored\u001b[0m due to saved signature\n"
     ]
    }
   ],
   "source": [
    "%sandbox --dir tmp\n",
    "%rerun"
   ]
  },
  {
   "cell_type": "markdown",
   "metadata": {
    "kernel": "SoS"
   },
   "source": [
    "### `default` mode"
   ]
  },
  {
   "cell_type": "markdown",
   "metadata": {
    "kernel": "SoS"
   },
   "source": [
    "Now let us switch to `default` mode of signature by running the script with option `-s default`. When you run the script for the first time, it would execute normally and save runtime signature of the steps."
   ]
  },
  {
   "cell_type": "code",
   "execution_count": 10,
   "metadata": {
    "kernel": "SoS"
   },
   "outputs": [
    {
     "name": "stderr",
     "output_type": "stream",
     "text": [
      "INFO: \u001b[32mdefault_10\u001b[0m (index=0) is \u001b[32mignored\u001b[0m due to saved signature\n",
      "INFO: \u001b[32mdefault_20\u001b[0m (index=0) is \u001b[32mignored\u001b[0m due to saved signature\n"
     ]
    }
   ],
   "source": [
    "%sandbox --dir tmp\n",
    "%rerun -s default"
   ]
  },
  {
   "cell_type": "markdown",
   "metadata": {
    "kernel": "SoS"
   },
   "source": [
    "but both steps would be ignored. Here we use `-v2` to show the `ignored` message. This time we use magic `%set` to make option `-s default` persistent so that we do not have to specify it each time."
   ]
  },
  {
   "cell_type": "code",
   "execution_count": 11,
   "metadata": {
    "kernel": "SoS"
   },
   "outputs": [
    {
     "name": "stdout",
     "output_type": "stream",
     "text": [
      "Set sos options to \"-s default\"\n"
     ]
    },
    {
     "name": "stderr",
     "output_type": "stream",
     "text": [
      "INFO: \u001b[32mdefault_10\u001b[0m (index=0) is \u001b[32mignored\u001b[0m due to saved signature\n",
      "INFO: \u001b[32mdefault_20\u001b[0m (index=0) is \u001b[32mignored\u001b[0m due to saved signature\n"
     ]
    }
   ],
   "source": [
    "%sandbox --dir tmp\n",
    "%set -s default\n",
    "%rerun -v2"
   ]
  },
  {
   "cell_type": "markdown",
   "metadata": {
    "kernel": "SoS"
   },
   "source": [
    "However, if you use a different parameter (not the default `size=1000`), the steps would be rerun"
   ]
  },
  {
   "cell_type": "code",
   "execution_count": 12,
   "metadata": {
    "kernel": "SoS"
   },
   "outputs": [
    {
     "name": "stdout",
     "output_type": "stream",
     "text": [
      "2000+0 records in\n",
      "2000+0 records out\n",
      "1024000 bytes transferred in 0.085565 secs (11967497 bytes/sec)\n"
     ]
    }
   ],
   "source": [
    "%sandbox --dir tmp\n",
    "%rerun -v2 --size 2000"
   ]
  },
  {
   "cell_type": "markdown",
   "metadata": {
    "kernel": "SoS"
   },
   "source": [
    "The signature is at the step level so if you change the second step of the script, the first step would still be skipped. Note that the step is independent of the script executed so a step would be skipped even if its signature was saved by the execution of another workflow. The signature is clever enough to allow minor changes such as addition of spaces and comments."
   ]
  },
  {
   "cell_type": "code",
   "execution_count": 13,
   "metadata": {
    "kernel": "SoS"
   },
   "outputs": [
    {
     "name": "stderr",
     "output_type": "stream",
     "text": [
      "INFO: \u001b[32mdefault_10\u001b[0m (index=0) is \u001b[32mignored\u001b[0m due to saved signature\n"
     ]
    }
   ],
   "source": [
    "%sandbox --dir tmp\n",
    "%run --size 2000 -v2\n",
    "parameter: size=1000\n",
    "[10]\n",
    "output:  \"temp/result.txt\"\n",
    "# added comment\n",
    "sh: expand=True\n",
    "    dd if=/dev/urandom of={_output} count={size}\n",
    "\n",
    "[20]\n",
    "output:  'temp/size.txt'\n",
    "with open(_output[0], 'w') as sz:\n",
    "    sz.write(f\"Modified {_input}: {os.path.getsize(_input[0])}\\n\")"
   ]
  },
  {
   "cell_type": "markdown",
   "metadata": {
    "kernel": "SoS"
   },
   "source": [
    "### `assert` mode"
   ]
  },
  {
   "cell_type": "markdown",
   "metadata": {
    "kernel": "SoS"
   },
   "source": [
    "The `assert` mode is used to detect if anything has been changed after the execution of a workflow. For example,"
   ]
  },
  {
   "cell_type": "code",
   "execution_count": 14,
   "metadata": {
    "kernel": "SoS"
   },
   "outputs": [
    {
     "name": "stdout",
     "output_type": "stream",
     "text": [
      "Set sos options to \"-s assert\"\n"
     ]
    },
    {
     "name": "stderr",
     "output_type": "stream",
     "text": [
      "INFO: Step \u001b[32mdefault_10\u001b[0m (index=0) is \u001b[32mignored\u001b[0m with matching signature\n",
      "INFO: Step \u001b[32mdefault_20\u001b[0m (index=0) is \u001b[32mignored\u001b[0m with matching signature\n"
     ]
    }
   ],
   "source": [
    "%sandbox --dir tmp\n",
    "%set -s assert\n",
    "%rerun --size 2000 -v2"
   ]
  },
  {
   "cell_type": "markdown",
   "metadata": {
    "kernel": "SoS"
   },
   "source": [
    "Now if you change one of the output files, sos would fail with an error message."
   ]
  },
  {
   "cell_type": "code",
   "execution_count": 15,
   "metadata": {
    "kernel": "sos"
   },
   "outputs": [
    {
     "name": "stderr",
     "output_type": "stream",
     "text": [
      "Failed to process step output: \"temp/result.txt\" (Signature mismatch: File has changed temp/result.txt)\n"
     ]
    }
   ],
   "source": [
    "%sandbox --expect-error --dir tmp\n",
    "!echo \"aaa\" >> temp/result.txt\n",
    "%rerun --size 2000 -v2"
   ]
  },
  {
   "cell_type": "markdown",
   "metadata": {
    "kernel": "SoS"
   },
   "source": [
    "### `force` mode"
   ]
  },
  {
   "cell_type": "markdown",
   "metadata": {
    "kernel": "SoS"
   },
   "source": [
    "The `force` signature mode ignores existing signatures and re-run the workflow. This is needed when you would like to forcefully re-run all the steps to generate another set of output if outcome of some steps is random, or to re-run the workflow because of changes that is not tracked by SoS, for example after you have installed a new version of a program."
   ]
  },
  {
   "cell_type": "code",
   "execution_count": 16,
   "metadata": {
    "kernel": "SoS"
   },
   "outputs": [
    {
     "name": "stdout",
     "output_type": "stream",
     "text": [
      "Reset sos options from \"-s assert\" to \"\"\n",
      "2000+0 records in\n",
      "2000+0 records out\n",
      "1024000 bytes transferred in 0.088850 secs (11525039 bytes/sec)\n"
     ]
    }
   ],
   "source": [
    "%sandbox --dir tmp\n",
    "%set\n",
    "%rerun --size 2000 -s force"
   ]
  },
  {
   "cell_type": "markdown",
   "metadata": {
    "kernel": "SoS"
   },
   "source": [
    "### `build` mode"
   ]
  },
  {
   "cell_type": "markdown",
   "metadata": {
    "kernel": "SoS"
   },
   "source": [
    "The `build` mode is somewhat opposite to the `force` mode in that it creates (or overwrite existing signature if exists) with existing output files. It is useful, for example, if you are adding a step to a workflow that you have tested outside of SoS (without signature) but do not want to rerun it, or if for some reason you have lost your signature files and would like to reconstruct them from existing outputs."
   ]
  },
  {
   "cell_type": "code",
   "execution_count": 17,
   "metadata": {
    "kernel": "SoS"
   },
   "outputs": [
    {
     "name": "stderr",
     "output_type": "stream",
     "text": [
      "INFO: Step \u001b[32mdefault_10\u001b[0m (index=0) is \u001b[32mignored\u001b[0m with signature constructed\n",
      "INFO: Step \u001b[32mdefault_20\u001b[0m (index=0) is \u001b[32mignored\u001b[0m with signature constructed\n"
     ]
    }
   ],
   "source": [
    "%sandbox --dir tmp\n",
    "%rerun --size 2000 -s build -v2"
   ]
  },
  {
   "cell_type": "markdown",
   "metadata": {
    "kernel": "SoS"
   },
   "source": [
    "This mode can introduce erraneous files to the signatures because it does not check the validity of the incorporated files. For example, SoS would not complain if you change parameter and replace `temp/result.txt` with something else."
   ]
  },
  {
   "cell_type": "code",
   "execution_count": 18,
   "metadata": {
    "kernel": "SoS"
   },
   "outputs": [
    {
     "name": "stderr",
     "output_type": "stream",
     "text": [
      "INFO: Step \u001b[32mdefault_10\u001b[0m (index=0) is \u001b[32mignored\u001b[0m with signature constructed\n",
      "INFO: Step \u001b[32mdefault_20\u001b[0m (index=0) is \u001b[32mignored\u001b[0m with signature constructed\n"
     ]
    }
   ],
   "source": [
    "%sandbox --dir tmp\n",
    "!echo \"something else\" > temp/result.txt\n",
    "%rerun -s build -v2"
   ]
  },
  {
   "cell_type": "code",
   "execution_count": 19,
   "metadata": {
    "collapsed": true,
    "kernel": "SoS"
   },
   "outputs": [],
   "source": [
    "# cleanup\n",
    "!rm -rf tmp"
   ]
  },
  {
   "cell_type": "markdown",
   "metadata": {
    "kernel": "SoS"
   },
   "source": [
    "## Further reading\n",
    "\n",
    "* "
   ]
  }
 ],
 "metadata": {
  "kernelspec": {
   "display_name": "SoS",
   "language": "sos",
   "name": "sos"
  },
  "language_info": {
   "codemirror_mode": "sos",
   "file_extension": ".sos",
   "mimetype": "text/x-sos",
   "name": "sos",
   "nbconvert_exporter": "sos_notebook.converter.SoS_Exporter",
   "pygments_lexer": "sos"
  },
  "sos": {
   "kernels": [
    [
     "Bash",
     "bash",
     "Bash",
     "#E6EEFF"
    ],
    [
     "R",
     "ir",
     "R",
     "#DCDCDA"
    ],
    [
     "SoS",
     "sos",
     "",
     ""
    ]
   ],
   "panel": {
    "displayed": true,
    "height": 0
   },
   "version": "0.17.4"
  }
 },
 "nbformat": 4,
 "nbformat_minor": 2
}
