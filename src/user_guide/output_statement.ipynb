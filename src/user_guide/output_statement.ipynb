{
 "cells": [
  {
   "cell_type": "markdown",
   "metadata": {
    "kernel": "SoS"
   },
   "source": [
    "# How to define step output"
   ]
  },
  {
   "cell_type": "markdown",
   "metadata": {
    "kernel": "SoS"
   },
   "source": [
    "* **Difficulty level**: easy\n",
    "* **Time need to lean**: 10 minutes or less\n",
    "* **Key points**:\n",
    "  * Step output are defined for each substep and can be derived from substep input (variable `_input`)\n",
    "  * Variable `step_output` is defined at the completion of the step, and can be passed to other steps"
   ]
  },
  {
   "cell_type": "markdown",
   "metadata": {
    "kernel": "SoS"
   },
   "source": [
    "The output statement defines the output files or targets of a SoS step, it is optional but is fundamental for the creation of all but very simple workflows. You can check out the [How to create dependencies between SoS steps](doc/user_guide/step_dependencies.html) tutorial for a quick overview of the use of output statements. This tutorial lists what you can put in the output statement of a step with simple examples and you should refer to other tutorials for more in-depth discussions of the topics."
   ]
  },
  {
   "cell_type": "markdown",
   "metadata": {
    "kernel": "SoS"
   },
   "source": [
    "## Steps with no output statement"
   ]
  },
  {
   "cell_type": "markdown",
   "metadata": {
    "kernel": "SoS"
   },
   "source": [
    "The `output` statement is optional. When no output file is defined, a step will have undefined output."
   ]
  },
  {
   "cell_type": "markdown",
   "metadata": {
    "kernel": "SoS"
   },
   "source": [
    "For example, the following workflow has a step `A` that execute a simple shell script. No output statement is needed and the workflow will work just fine."
   ]
  },
  {
   "cell_type": "code",
   "execution_count": 1,
   "metadata": {
    "kernel": "SoS"
   },
   "outputs": [
    {
     "name": "stdout",
     "output_type": "stream",
     "text": [
      "The input of step A_2 is \"\"\n"
     ]
    }
   ],
   "source": [
    "%run A -v0\n",
    "[A_1]\n",
    "sh:\n",
    "  echo do something\n",
    "  \n",
    "[A_2]\n",
    "print(f'The input of step {step_name} is \"{step_input}\"')"
   ]
  },
  {
   "cell_type": "markdown",
   "metadata": {
    "kernel": "SoS"
   },
   "source": [
    "In simple workflows with numerically indexed steps, an empty output will be passed to the next step."
   ]
  },
  {
   "cell_type": "markdown",
   "metadata": {
    "kernel": "SoS"
   },
   "source": [
    "## Unnamed output files"
   ]
  },
  {
   "cell_type": "markdown",
   "metadata": {
    "kernel": "SoS"
   },
   "source": [
    "The easiest way to explicitly specify input of a step is to list output files directly in the `output` statement.\n"
   ]
  },
  {
   "cell_type": "code",
   "execution_count": 2,
   "metadata": {
    "kernel": "SoS"
   },
   "outputs": [
    {
     "name": "stdout",
     "output_type": "stream",
     "text": [
      "_output is a.txt\n"
     ]
    }
   ],
   "source": [
    "output: 'a.txt'\n",
    "_output.touch()\n",
    "print(f'_output is {_output}')"
   ]
  },
  {
   "cell_type": "markdown",
   "metadata": {
    "kernel": "SoS"
   },
   "source": [
    "Here we showed touch function for _output, which is of type sos_targets. This function creates one or more files in variable _output and will be used quite often in the tutorials because SoS will check if the output file exists after the execution of the step.\n",
    "\n",
    "As for the case of input statement, multiple files can be listed as multiple paramters, sequences (list, tuple etc), or variables of string or sequence types."
   ]
  },
  {
   "cell_type": "markdown",
   "metadata": {
    "kernel": "SoS"
   },
   "source": [
    "## Output in substeps"
   ]
  },
  {
   "cell_type": "markdown",
   "metadata": {
    "kernel": "SoS"
   },
   "source": [
    "It is very important to remember that **output statement defines output for substeps**.\n",
    "\n",
    "Let us create a few input files,"
   ]
  },
  {
   "cell_type": "code",
   "execution_count": 3,
   "metadata": {
    "kernel": "SoS"
   },
   "outputs": [],
   "source": [
    "!touch a.txt b.txt c.txt d.txt"
   ]
  },
  {
   "cell_type": "markdown",
   "metadata": {
    "kernel": "SoS"
   },
   "source": [
    "In the following example, option `group_by` creates two substeps with `_input` being `a.txt` and `b.txt` respectively. The `_input` (actually `_input[0]` is of type `file_target`, which is derived from `pathlib.Path` so you can use any member function for `pathlib.Path`. Here we use `with_suffix` to obtain `a.bak` from `a.txt`."
   ]
  },
  {
   "cell_type": "code",
   "execution_count": 4,
   "metadata": {
    "kernel": "SoS"
   },
   "outputs": [
    {
     "name": "stdout",
     "output_type": "stream",
     "text": [
      "Input of substep is a.txt, output of substep is a.bak\n",
      "Input of substep is b.txt, output of substep is b.bak\n"
     ]
    }
   ],
   "source": [
    "input: 'a.txt', 'b.txt', group_by=1\n",
    "output: _input.with_suffix('.bak')\n",
    "\n",
    "print(f'Input of substep is {_input}, output of substep is {_output}')\n",
    "_output.touch()"
   ]
  },
  {
   "cell_type": "markdown",
   "metadata": {
    "kernel": "SoS"
   },
   "source": [
    "As you can see, `_output` is defined for each substep from `_input`. But what is `step_output`?\n",
    "\n",
    "`step_output` is defined as an accumuted version of `_output`, with `_output` as its groups. It is useful only when the output is imported to other steps, either implicitly as show below, or as output of functions `output_from` and `named_output`."
   ]
  },
  {
   "cell_type": "code",
   "execution_count": 5,
   "metadata": {
    "kernel": "SoS"
   },
   "outputs": [
    {
     "name": "stdout",
     "output_type": "stream",
     "text": [
      "Input of substep is a.txt, output of substep is a.bak\n",
      "Input of substep is b.txt, output of substep is b.bak\n",
      "step_input is a.bak b.bak, substep input is a.bak\n",
      "step_input is a.bak b.bak, substep input is b.bak\n"
     ]
    }
   ],
   "source": [
    "%run -v0\n",
    "\n",
    "[10]\n",
    "input: 'a.txt', 'b.txt', group_by=1\n",
    "output: _input.with_suffix('.bak')\n",
    "\n",
    "print(f'Input of substep is {_input}, output of substep is {_output}')\n",
    "_output.touch()\n",
    "\n",
    "[20]\n",
    "print(f'step_input is {step_input}, substep input is {_input}')"
   ]
  },
  {
   "cell_type": "markdown",
   "metadata": {
    "kernel": "SoS"
   },
   "source": [
    "## Output with predefined groups"
   ]
  },
  {
   "cell_type": "markdown",
   "metadata": {
    "kernel": "SoS"
   },
   "source": [
    "In situations when you have predefined input and output pairs, you can define output groups with option `group_by`. The key here is that the number of groups should match the number of substeps.\n",
    "\n",
    "For example,"
   ]
  },
  {
   "cell_type": "code",
   "execution_count": 6,
   "metadata": {
    "kernel": "SoS"
   },
   "outputs": [
    {
     "name": "stdout",
     "output_type": "stream",
     "text": [
      "Input of substep is a.txt, output of substep is a.bak\n",
      "Input of substep is b.txt, output of substep is b.bak\n"
     ]
    }
   ],
   "source": [
    "%run -s force -v0\n",
    "\n",
    "txt_files = ['a.txt', 'b.txt']\n",
    "bak_files = ['a.bak', 'b.bak']\n",
    "\n",
    "input: txt_files, group_by=1\n",
    "output: bak_files, group_by=1\n",
    "\n",
    "print(f'Input of substep is {_input}, output of substep is {_output}')\n",
    "_output.touch()"
   ]
  },
  {
   "cell_type": "markdown",
   "metadata": {
    "kernel": "SoS"
   },
   "source": [
    "## Named output"
   ]
  },
  {
   "cell_type": "markdown",
   "metadata": {
    "kernel": "SoS"
   },
   "source": [
    "Similar to named input, you can assign labels to output files and refer them with `_output[\"label\"]`."
   ]
  },
  {
   "cell_type": "code",
   "execution_count": 7,
   "metadata": {
    "kernel": "SoS"
   },
   "outputs": [
    {
     "name": "stdout",
     "output_type": "stream",
     "text": [
      "Output with label A is a.txt, with label B is b.txt\n",
      "Output of step is a.txt b.txt\n"
     ]
    }
   ],
   "source": [
    "output: A='a.txt', B='b.txt'\n",
    "\n",
    "print(f\"Output with label A is {_output['A']}, with label B is {_output['B']}\")\n",
    "print(f\"Output of step is {_output}\")\n",
    "_output.touch()"
   ]
  },
  {
   "cell_type": "markdown",
   "metadata": {
    "kernel": "SoS"
   },
   "source": [
    "More importantly though, is that these labels defines named output that can be referred to with function `named_output`."
   ]
  },
  {
   "cell_type": "code",
   "execution_count": 8,
   "metadata": {
    "kernel": "SoS"
   },
   "outputs": [
    {
     "name": "stdout",
     "output_type": "stream",
     "text": [
      "Input of step is a.txt\n"
     ]
    }
   ],
   "source": [
    "%run -v0\n",
    "\n",
    "[A]\n",
    "output: A='a.txt', B='b.txt'\n",
    "\n",
    "_output.touch()\n",
    "\n",
    "[default]\n",
    "input: named_output('A')\n",
    "print(f'Input of step is {_input}')"
   ]
  },
  {
   "cell_type": "markdown",
   "metadata": {
    "kernel": "SoS"
   },
   "source": [
    "## Attach variables to individual output files"
   ]
  },
  {
   "cell_type": "markdown",
   "metadata": {
    "kernel": "SoS"
   },
   "source": [
    "The `paired_with` variables can be used to attach variables to output files."
   ]
  },
  {
   "cell_type": "code",
   "execution_count": 9,
   "metadata": {
    "kernel": "SoS"
   },
   "outputs": [
    {
     "name": "stdout",
     "output_type": "stream",
     "text": [
      "Output of substep is a.txt b.txt, with sample names A and B\n"
     ]
    }
   ],
   "source": [
    "output: 'a.txt', 'b.txt', paired_with=dict(sample_name=['A', 'B'])\n",
    "print(f'Output of substep is {_output}, with sample names {_output[0].sample_name} and {_output[1].sample_name}')\n",
    "_output.touch()"
   ]
  },
  {
   "cell_type": "markdown",
   "metadata": {
    "kernel": "SoS"
   },
   "source": [
    "## Attach variables to output"
   ]
  },
  {
   "cell_type": "markdown",
   "metadata": {
    "kernel": "SoS"
   },
   "source": [
    "Option `group_with` can be used to attach variable to output groups, which can be useful as annotations for output files when the output is passed to other steps.\n",
    "\n",
    "A potentially confusing part of the `group_with` option is that it assigns elements of the list to all `_output`, not to a single `_output` that the output statement is creating."
   ]
  },
  {
   "cell_type": "code",
   "execution_count": 10,
   "metadata": {
    "kernel": "SoS"
   },
   "outputs": [
    {
     "name": "stdout",
     "output_type": "stream",
     "text": [
      "Output of substep is out_A.txt, with sample name A\n",
      "Output of substep is out_B.txt, with sample name B\n"
     ]
    }
   ],
   "source": [
    "sample_names = ['A', 'B']\n",
    "\n",
    "input: for_each=dict(sample_name=sample_names)\n",
    "output:  f'out_{sample_name}.txt', group_with=dict(sample=sample_names)\n",
    "print(f'Output of substep is {_output}, with sample name {_output.sample}')\n",
    "\n",
    "_output.touch()"
   ]
  },
  {
   "cell_type": "markdown",
   "metadata": {
    "kernel": "SoS"
   },
   "source": [
    "If you would like to attach some result to individual substep, it can be easier to just set the variable to `_output` though."
   ]
  },
  {
   "cell_type": "code",
   "execution_count": 11,
   "metadata": {
    "kernel": "SoS"
   },
   "outputs": [
    {
     "name": "stdout",
     "output_type": "stream",
     "text": [
      "seed of output out_0.txt is 369\n",
      "seed of output out_1.txt is 701\n"
     ]
    }
   ],
   "source": [
    "%run -v0\n",
    "\n",
    "[10]\n",
    "input: for_each=dict(i=range(2))\n",
    "output:  f'out_{i}.txt'\n",
    "\n",
    "import random\n",
    "seed = random.randint(1, 1000)\n",
    "\n",
    "_output.touch()\n",
    "_output.set(seed=seed)\n",
    "\n",
    "[20]\n",
    "print(f'seed of output {_input} is {seed}')"
   ]
  },
  {
   "cell_type": "markdown",
   "metadata": {
    "kernel": "SoS"
   },
   "source": [
    "## Further reading\n",
    "\n",
    "* [How to specify input and output files and process input files in groups](doc/user_guide/input_substeps.html) for basics of step and substeps."
   ]
  }
 ],
 "metadata": {
  "kernelspec": {
   "display_name": "SoS",
   "language": "sos",
   "name": "sos"
  },
  "language_info": {
   "codemirror_mode": "sos",
   "file_extension": ".sos",
   "mimetype": "text/x-sos",
   "name": "sos",
   "nbconvert_exporter": "sos_notebook.converter.SoS_Exporter",
   "pygments_lexer": "sos"
  },
  "sos": {
   "kernels": [
    [
     "Bash",
     "bash",
     "Bash",
     "#E6EEFF"
    ],
    [
     "R",
     "ir",
     "R",
     "#DCDCDA"
    ],
    [
     "SoS",
     "sos",
     "",
     ""
    ]
   ],
   "panel": {
    "displayed": true,
    "height": 0
   },
   "version": "0.18.5"
  }
 },
 "nbformat": 4,
 "nbformat_minor": 2
}
