{
 "cells": [
  {
   "cell_type": "markdown",
   "metadata": {
    "kernel": "SoS"
   },
   "source": [
    "# SoS Syntax"
   ]
  },
  {
   "cell_type": "markdown",
   "metadata": {
    "kernel": "SoS"
   },
   "source": [
    "* **Difficulty level**: easy\n",
    "* **Time need to lean**: 10 minutes or less\n",
    "* **Key points**:\n",
    "  * a\n",
    "  "
   ]
  },
  {
   "cell_type": "markdown",
   "metadata": {
    "kernel": "SoS",
    "workflow_cell": true
   },
   "source": [
    "## Terminology & Grammar <a id=\"Terminology_Grammar\"></a>"
   ]
  },
  {
   "cell_type": "markdown",
   "metadata": {
    "kernel": "SoS"
   },
   "source": [
    "A SoS **script** defines one or more **workflows**, and each workflow consists of one or more **steps**. \n",
    "\n",
    "SoS steps are defined by SoS **sections**. A SoS **section** consists of a **header** with one or more step names and optional options. The body of a SoS section consists of optional **comments**, **statements**, **input**, **output**, **depends** directives, **parameter** definitions, and external **task** definition. \n"
   ]
  },
  {
   "cell_type": "markdown",
   "metadata": {
    "kernel": "SoS",
    "workflow_cell": true
   },
   "source": [
    "The following terms will be used throughout this documentation:\n",
    "\n",
    "* **Script**: A SoS script that defines one or more workflows.\n",
    "* **Section**: A group of statements with a header that defines one or more SoS steps.\n",
    "* **Workflow**: A sequence of steps that can be executed to complete certain task.\n",
    "* **Step**: A step of a workflow that performs one piece of the workflow.\n",
    "* **Target**: Objects that are input or result of a SoS step, which are usually files, but can also be objects such as executable commands and SoS variables.\n",
    "* **Step options**: Options of the step that assist the definition of the workflow.\n",
    "* **Step input**: Specifies the input files of the step.\n",
    "* **Step output**: Specifies the output files and targets of the step.\n",
    "* **Step dependencies**: Specifies the files and targets that are required by the step.\n",
    "* **Substep**: A substep consists of all statements after the `input` specification. It can be executed multiple times each with a subset of input files and/or different parameters.\n",
    "* **Task**: Part or all substep that will be executed outside of SoS, and potentially on a different server. These are usually resource intensive jobs that will take a long time to complete.\n",
    "* **Action**: SoS or user-defined Python functions. They differ from regular Python functions in that they may behave differently in different running mode of SoS (e.g. ignore when executed in dryrun mode)."
   ]
  },
  {
   "cell_type": "markdown",
   "metadata": {
    "kernel": "SoS",
    "workflow_cell": true
   },
   "source": [
    "More formally defined, the SoS syntax obeys the following grammar, given in extended Backus-Naur form (EBNF):\n",
    "\n",
    "```\n",
    "Script         = {comment}, {step};\n",
    "comment        = \"#\", text, NEWLINE\n",
    "assignment     = name, \"=\", expression, NEWLINE\n",
    "```\n",
    "\n",
    "with SoS steps defined as\n",
    "\n",
    "```\n",
    "step           = [step_header],\n",
    "                 {comment}, {{statement}, [input | output | depends ]},\n",
    "                 [process, NEWLINE, {script} ]\n",
    "step_header    = \"[\", step_names, [\":\", names | options], \"]\", NEWLINE\n",
    "parameter      = \"parameter\", \":\", assignment\n",
    "input          = \"input\", \":\", [expressions], [\",\", options], NEWLINE\n",
    "output         = \"output\", \":\", [expressions], [\",\", options], NEWLINE\n",
    "depends        = \"depends\", \":\", [expressions], [\",\", options], NEWLINE\n",
    "task           = \"task\", \":\",  [options]\n",
    "action         = func_format | script_format\n",
    "func_format    = name, \"(\", [options], \")\"\n",
    "script_format  = name, \":\", [options], NEWLINE, script \n",
    "step_names     = step_name | step_pattern, [\"(\", text, \")\"],\n",
    "                 {\",\", step_name | steo_pattern, [\"(\", text, \")\"]}\n",
    "names          = name, {\",\", name}\n",
    "workflow       = name, ['_', steps], {\"+\", name, ['_', steps}\n",
    "assignment     = name, \"=\", expression, NEWLINW\n",
    "expressions    = expression, {\",\", expression}\n",
    "options        = option, {\",\" option}\n",
    "option         = name, \"=\", expression\n",
    "step_name      = letter, { letter | digit | \"-\" | \"_\" }\n",
    "step_pattern   = {letter | digit | \"*\" | \"?\" | \"-\" | \"_\"}\n",
    "```\n",
    "\n",
    "Here `name`, `expression` and `statement` are arbitrary [Python 3](http://www.python.org) names, expression and statements with added SoS features."
   ]
  },
  {
   "cell_type": "markdown",
   "metadata": {
    "kernel": "SoS"
   },
   "source": [
    "**SoS is based on the Python 3 (3.6 and above) programming language**. If you are unfamiliar with Python, you can learn some basics of Python, usually in less than half a day, by reading some Python tutorials (e.g. [the official python tutorial](https://docs.python.org/3/tutorial/)). This [short introduction](https://docs.python.org/3/tutorial/introduction.html) is good enough for you to get started with SoS.\n",
    "\n",
    "SoS adds the following syntax to standard Python syntax: \n",
    "\n",
    "| syntax | Example | Main Usage |\n",
    "|--------|---------|-------|\n",
    "|**Script format of function call**| `R: expand=True`<br>`  data <- read.csv(\"{_input}\")`| Verbatim inclusion of scripts with optional indentation and string interpolation |\n",
    "|**Section specification**| `[align_20]` | Define steps of workflows |\n",
    "|**SoS statements**||Direct execution of steps|\n",
    "|| **`parameter`**`: cutoff=10` | Obtain option from command line or workflow caller |\n",
    "|| **`input`**`: fastq_files` | Specify input files of a step |\n",
    "|| **`output`**`: f\"{_input}.idx\"` | Specify output files of a step |\n",
    "|| **`depends`**`: hg19_fa` | Specify step dependencies |\n",
    "|| **`task`**`: queue='cluster'` | Specify external tasks |\n",
    "\n",
    "\n",
    "This chapter demonstrates general features such as string interpolation, section specification, parameter specification, and specification of workflows. Please refer to chapters [SoS Step](SoS_Step.html) and [Remote Exection](Remote_Execution.html) for more details on `input`, `output`, `depends`, and `task` statements."
   ]
  },
  {
   "cell_type": "markdown",
   "metadata": {
    "kernel": "SoS"
   },
   "source": [
    "### Using `sos_targets`"
   ]
  },
  {
   "cell_type": "markdown",
   "metadata": {
    "kernel": "SoS"
   },
   "source": [
    "Whereas you can always use `step_input`, `_input` etc in scripts (format-string) easily, using them outside of scripts is a bit tricker. Let us check a few common usages and see how to use `sos_targets` in SoS."
   ]
  },
  {
   "cell_type": "markdown",
   "metadata": {
    "kernel": "SoS"
   },
   "source": [
    "First, it is a common practice to generate another file with a slightly different name. For example, in the following script, `step_input` is a `sos_targets` with two filenames, `_input` is a `sos_targets` with one filename, and we need to generate `test.bam.bai` from input file `test.bam`. In this particular case, you can append the `.bai` extension directly to `_input` using the `+` operator, by passing the `+` operation to the first `file_target` of `_input`:"
   ]
  },
  {
   "cell_type": "code",
   "execution_count": 46,
   "metadata": {
    "kernel": "SoS"
   },
   "outputs": [
    {
     "name": "stdout",
     "output_type": "stream",
     "text": [
      "Generating /private/var/folders/ys/gnzk0qbx5wbdgm531v82xxljv5yqy8/T/tmpenoojx6z/test1.bam.bai from test1.bam\n",
      "Generating /private/var/folders/ys/gnzk0qbx5wbdgm531v82xxljv5yqy8/T/tmpenoojx6z/test2.bam.bai from test2.bam\n"
     ]
    }
   ],
   "source": [
    "%sandbox\n",
    "!touch test1.bam test2.bam\n",
    "\n",
    "input_files = ['test1.bam', 'test2.bam']\n",
    "input: input_files, group_by=1\n",
    "output: _input + '.bai'\n",
    "\n",
    "print(f\"Generating {_output} from {_input}\")\n",
    "_output.touch()"
   ]
  },
  {
   "cell_type": "markdown",
   "metadata": {
    "kernel": "SoS"
   },
   "source": [
    "If the extensions are different, you can use the `with_suffix` function of `pathlib.Path`, again by calling the `with_suffix` function of its only element `_input[0]`:"
   ]
  },
  {
   "cell_type": "code",
   "execution_count": 47,
   "metadata": {
    "kernel": "SoS"
   },
   "outputs": [
    {
     "name": "stdout",
     "output_type": "stream",
     "text": [
      "Generating test1.bai from test1.bam\n",
      "Generating test2.bai from test2.bam\n"
     ]
    }
   ],
   "source": [
    "%sandbox\n",
    "!touch test1.bam test2.bam\n",
    "\n",
    "input_files = ['test1.bam', 'test2.bam']\n",
    "input: input_files, group_by=1\n",
    "output: _input.with_suffix('.bai')\n",
    "\n",
    "print(f\"Generating {_output} from {_input}\")\n",
    "_output.touch()"
   ]
  },
  {
   "cell_type": "markdown",
   "metadata": {
    "kernel": "SoS"
   },
   "source": [
    "You can also use the `:n` formatter to retrieve the part of `_input` without extension, and add `.bam.bai` to it as follows:"
   ]
  },
  {
   "cell_type": "code",
   "execution_count": 48,
   "metadata": {
    "kernel": "SoS"
   },
   "outputs": [
    {
     "name": "stdout",
     "output_type": "stream",
     "text": [
      "Generating test1.bam.bai from test1.bam\n",
      "Generating test2.bam.bai from test2.bam\n"
     ]
    }
   ],
   "source": [
    "%sandbox\n",
    "!touch test1.bam test2.bam\n",
    "\n",
    "input_files = ['test1.bam', 'test2.bam']\n",
    "input: input_files, group_by=1\n",
    "output: f\"{_input:n}.bam.bai\"\n",
    "\n",
    "print(f\"Generating {_output} from {_input}\")\n",
    "_output.touch()"
   ]
  },
  {
   "cell_type": "markdown",
   "metadata": {
    "kernel": "SoS"
   },
   "source": [
    "Note that the result of `_input + '.bai'` is a `path` and `f'{_input:n}.bam.bai'` is a `str` but both will be converted to `_output` with type `sos_targets`. You can use either style although `:u`, `:b` etc can be shorter than `expanduser()` and `.name`, especially when you combine multiple formatters to extract certain parts of a `path`."
   ]
  },
  {
   "cell_type": "markdown",
   "metadata": {
    "kernel": "SoS"
   },
   "source": [
    "Second, because `path`, `path`, and even `sos_targets` supports the `os.PathLike` interface, you can use them as filenames directly in SoS (Python). For example, you can pass `sos_targets` with one element to usual `os.path` functions such as `getsize` and open it directly with the `open` function:"
   ]
  },
  {
   "cell_type": "code",
   "execution_count": 49,
   "metadata": {
    "kernel": "SoS"
   },
   "outputs": [
    {
     "name": "stdout",
     "output_type": "stream",
     "text": [
      "Size of [file_target('SoS_Syntax.ipynb')] is 1062666.\n",
      "The first two lines of [file_target('SoS_Syntax.ipynb')] are:\n",
      "{\n",
      "\n",
      " \"cells\": [\n",
      "\n"
     ]
    }
   ],
   "source": [
    "input: \"SoS_Syntax.ipynb\"\n",
    "print(f\"Size of {repr(_input)} is {os.path.getsize(_input)}.\")\n",
    "print(f\"The first two lines of {repr(_input)} are:\")\n",
    "\n",
    "with open(input, 'r') as myself:\n",
    "    print(myself.readline())\n",
    "    print(myself.readline())"
   ]
  },
  {
   "cell_type": "markdown",
   "metadata": {
    "kernel": "SoS"
   },
   "source": [
    "However, although Python standard libraries supports `os.PathLike` interface, third party modules might or might not work correctly in this day so it can be safer to use `str(input)` to convert the paths to `str` before passing them to these functions."
   ]
  },
  {
   "cell_type": "markdown",
   "metadata": {
    "kernel": "SoS"
   },
   "source": [
    "## Native SoS file format <a id=\"Native_SoS_file_format\"></a>"
   ]
  },
  {
   "cell_type": "markdown",
   "metadata": {
    "kernel": "SoS"
   },
   "source": [
    "A sos script can be defined in a plain text file. A `.sos` suffix is recommended but not required. A SoS script consists of **sections** that define **steps** of one or more **workflows**."
   ]
  },
  {
   "cell_type": "markdown",
   "metadata": {
    "kernel": "SoS"
   },
   "source": [
    "A SoS script usually starts with lines\n",
    "\n",
    "```python\n",
    "#!/usr/bin/env sos-runner\n",
    "#fileformat=SOS1.0\n",
    "```\n",
    "\n",
    "The first line allows the script to be executed by command `sos-runner` if it is executed as an executable script. The second line tells SoS the format of the script. The `#fileformat` line does not have to be the first or second line but should be in the first comment block. The latest version of SOS format is assumed if no format line is present so it is a good practice to specify version of file format to make sure the script is interpreted correctly."
   ]
  },
  {
   "cell_type": "markdown",
   "metadata": {
    "kernel": "SoS"
   },
   "source": [
    "### Global sections and default variables <a id=\"Global_sections_and_default_variables\"></a>"
   ]
  },
  {
   "cell_type": "markdown",
   "metadata": {
    "kernel": "SoS"
   },
   "source": [
    "Global sections can be defined without section header in a `.sos` file as statements before any other section, and as a regular section with header `[global]`. The global sections are the only section that appear multiple times in a SoS script."
   ]
  },
  {
   "cell_type": "markdown",
   "metadata": {
    "kernel": "SoS"
   },
   "source": [
    "Definitions in the global section are shared by all sections so it is usually used to define global variables and parameters. SoS implicitly defines the following variables in the global section:\n",
    "\n",
    "* **`SOS_VERSION`**: version of SoS interpreter.\n",
    "* **`CONFIG`**: configurations read from site, hosts, global, local and user specific configuration files."
   ]
  },
  {
   "cell_type": "markdown",
   "metadata": {
    "kernel": "SoS"
   },
   "source": [
    "### SoS Sections <a id=\"SoS_Sections\"></a>"
   ]
  },
  {
   "cell_type": "markdown",
   "metadata": {
    "kernel": "SoS"
   },
   "source": [
    "A SoS section is marked by a section header in the format of\n",
    "\n",
    "```\n",
    "[names: options]\n",
    "```\n",
    "\n",
    "The header should start with a `[` from the beginning of a line and end with a `]`. It can contain one or more names with optional description (for each step) and section options (for all steps defined in the section)."
   ]
  },
  {
   "cell_type": "markdown",
   "metadata": {
    "kernel": "SoS"
   },
   "source": [
    "Section names of a section follow the following rules:\n",
    "\n",
    "| Format | Example | Usage |\n",
    "|--------|---| -------|\n",
    "| **`name_index`** |`human_10`|Defines step `index` of workflow `name`. Here `name` can be any name with alpha-numeric characters and `-` and `_`. `index` should be a non-negative number.|\n",
    "| **`name`** |`update-website`| Section name without index is equivalent to `name_0` |\n",
    "| **`index`** |`10`| Section name without workflow name is equivalent to `default_index`|\n",
    "| **`pattern_index`** |`*_0`, `human*_10`| Equivalent to step `index` of all matching workflows defined in the script. The `pattern` should follow [Unix filename matching](https://docs.python.org/2/library/fnmatch.html)|\n",
    "| **`stepname (desc)`**| `10 (align)`| Optional short description can be used to describe the goal of the step|\n",
    "| **`name1,name2,...`** |`human_10,mouse_10`| Comma separated names define multiple steps for one or more workflows|"
   ]
  },
  {
   "cell_type": "markdown",
   "metadata": {
    "kernel": "SoS"
   },
   "source": [
    "A SoS step accepts the following options:\n",
    "\n",
    "| Name | Example | Usage |\n",
    "|------|--------|---------|\n",
    "|**`skip`** | `skip`<br>`skip=False` | Always or conditionally skip a step, `expr` should be evaluated as `True` or `False`|\n",
    "|**`shared`**|`shared='K'`<br>`shared={'K': 'output[0]'}`  | Variable that will be made available to the workflow after completion of the step |\n",
    "|**`provides`**|`provides='filename'`<br>`provides=executable('fastqc')`<br>`provides='{filename}.bam.gz'`<br>`provides=['A1.txt', 'A2.txt']`| Targets that will be generated after the completion of the step. This option turns the step to an auxiliary step that will be executed when the provided target is needed. |\n",
    "\n",
    "Please refer to section [SoS Step](SoS_Step.html) for more details on these options. "
   ]
  },
  {
   "cell_type": "markdown",
   "metadata": {
    "kernel": "SoS"
   },
   "source": [
    "A section can have arbitrary Python statements and SoS-specific statements that define the input, output, and dependent targets, and external tasks of the step.\n",
    "\n",
    "|Keyword|Examples|Usage|\n",
    "|-------|-------|-----|\n",
    "|**`input`**| (unspecified)<br> `input: 'test1.txt', 'text2.txt'`<br>`input: '*.txt'` <br> `input: dynamic('*.txt')`| Input targets of the step, which can be derived from previous step (if unspecified), determined in advanced or only before the step is executed. |\n",
    "|**`depends`**| `depends: 'hg19.fa'`<br>`depends: f\"{_input}.idx\"`<br>`depends: R_library('ggplot2')`| Step depends on a specified files or targets to execute |\n",
    "|**`output`**| (unspecified) <br>`output: 'output.bam'`<br>`output: f'{_input}.idx'`| Step has no or specified defined output that can be derived from input files |\n",
    "|**`task`**|`task:`| Statements following the statement will be executed as an external task|\n",
    "\n",
    "These statements accept a large number of options to specify how input, output targets are processed and how external tasks are executed. Please refer to section [SoS step](SoS_Step.html) for more details about different types of steps and step options, and section [Remote Exection](Remote_Execution.html) on topics related to external tasks."
   ]
  },
  {
   "cell_type": "markdown",
   "metadata": {
    "kernel": "SoS"
   },
   "source": [
    "As an example for a complete script, the following script defines a workflow with a global section without header, and a workflow `gff` with two steps\n",
    "\n",
    "```sos\n",
    "#!/usr/bin/env sos-runner\n",
    "#fileformat=SOS1.0\n",
    "\n",
    "local_resource = '~/Resource/'\n",
    "data_dir       = '~/Data/bams/'\n",
    "resource_dir   = f'{local_resource}/resources/hg19/Ensembl/Genes'\n",
    "\n",
    "# samples to be processed\n",
    "parameter: samples = ['s312', 's315', 's312a', 's315a']\n",
    "\n",
    "[gff_0]\n",
    "# download gene models from the MISO website\n",
    "output: f'{resource_dir}/Home_sapiens.GRCh37.65.gff.zip'\n",
    "download: dest_dir=resource_dir, decompress=True\n",
    "    http://genes.mit.edu/burgelab/miso/annotations/gene-models/Homo_sapiens.GRCh37.65.gff.zip\n",
    "\n",
    "[gff_1]\n",
    "# Index gtf file using index_gff\n",
    "output: f'{resource_dir}/{hg19_gff_index}/genes.gff'\n",
    "task:   working_dir=resource_dir\n",
    "run:    docker_image='mdabioinfo/miso:latest'\n",
    "    rm -rf {hg19_gff_index}\n",
    "    index_gff --index {hg19_gff_file} {hg19_gff_index}\n",
    "```"
   ]
  }
 ],
 "metadata": {
  "anaconda-cloud": {},
  "kernelspec": {
   "display_name": "SoS",
   "language": "sos",
   "name": "sos"
  },
  "language_info": {
   "codemirror_mode": "sos",
   "file_extension": ".sos",
   "mimetype": "text/x-sos",
   "name": "sos",
   "nbconvert_exporter": "sos_notebook.converter.SoS_Exporter",
   "pygments_lexer": "sos"
  },
  "sos": {
   "celltoolbar": true,
   "default_kernel": "SoS",
   "kernels": [
    [
     "SoS",
     "sos",
     "",
     ""
    ]
   ],
   "panel": {
    "displayed": true,
    "height": 0,
    "style": "side"
   },
   "version": "0.17.4"
  },
  "toc": {
   "nav_menu": {
    "height": "386px",
    "width": "254px"
   },
   "navigate_menu": true,
   "number_sections": true,
   "sideBar": true,
   "threshold": 4,
   "toc_cell": false,
   "toc_section_display": "block",
   "toc_window_display": true
  }
 },
 "nbformat": 4,
 "nbformat_minor": 2
}
