{
 "cells": [
  {
   "cell_type": "markdown",
   "metadata": {
    "kernel": "SoS"
   },
   "source": [
    "# Variables that can be used in a SoS step"
   ]
  },
  {
   "cell_type": "markdown",
   "metadata": {
    "kernel": "SoS"
   },
   "source": [
    "* **Difficulty level**: easy to intermediate\n",
    "* **Time need to lean**: 30 minutes or less\n",
    "* **Key points**:  \n",
    "  * Steps can access system configurations through variable `CONFIG`, `__version__`\n",
    "  * Steps can access workflow and step information through variables `step_name`, `step_id`, `workflow_id`, and `master_id`\n",
    "  * Steps have step and substep specific variables such as `step_input`, `_input`, `_depends`, `_output`\n",
    "  * Steps can use variables defined locally and in global sections\n",
    "  * Steps can use variables shared by other steps through `sos_variable`"
   ]
  },
  {
   "cell_type": "markdown",
   "metadata": {
    "kernel": "SoS"
   },
   "source": [
    "SoS steps are isolated in the sense that they have access to limited set of variables and by default do not share variables. This tutorial lists all the variables that can be used in a step."
   ]
  },
  {
   "cell_type": "markdown",
   "metadata": {
    "kernel": "SoS"
   },
   "source": [
    "## System variables `SOS_VERSION` and `CONFIG`"
   ]
  },
  {
   "cell_type": "markdown",
   "metadata": {
    "kernel": "SoS"
   },
   "source": [
    "<div class=\"bs-callout bs-callout-primary\" role=\"alert\">\n",
    "    <h4>Variables <code>SOS_VERSION</code> and <code>CONFIG</code></h4>\n",
    "    <ul>\n",
    "        <li><code>SOS_VERSION</code> is a string for version of the SoS interpreter</li>  \n",
    "        <li><code>CONFIG</code> is a dictionary containing content from multiple system configuration files</li>\n",
    "    </ul>\n",
    "</div>"
   ]
  },
  {
   "cell_type": "markdown",
   "metadata": {
    "kernel": "SoS"
   },
   "source": [
    "SoS provides two system variables, one is `SOS_VERSION`, which is the version of the SoS interpreter, the other one is `CONFIG`, which is a dictionary that contains all the configurations stored in system configuration files, and configurations specified with option `-c` (config).\n",
    "\n",
    "Variable `SOS_VERSION` is just a string"
   ]
  },
  {
   "cell_type": "code",
   "execution_count": 7,
   "metadata": {
    "kernel": "SoS"
   },
   "outputs": [
    {
     "data": {
      "text/plain": [
       "'0.18.2'"
      ]
     },
     "execution_count": 7,
     "metadata": {},
     "output_type": "execute_result"
    }
   ],
   "source": [
    "SOS_VERSION"
   ]
  },
  {
   "cell_type": "markdown",
   "metadata": {
    "kernel": "SoS"
   },
   "source": [
    "Variable `CONFIG` is a dictionary and can be much more complex. For this particular system, it contains keys `localhost`, `hosts`, and `user_name`,  "
   ]
  },
  {
   "cell_type": "code",
   "execution_count": 8,
   "metadata": {
    "kernel": "SoS"
   },
   "outputs": [
    {
     "data": {
      "text/plain": [
       "dict_keys(['localhost', 'hosts', 'user_name'])"
      ]
     },
     "execution_count": 8,
     "metadata": {},
     "output_type": "execute_result"
    }
   ],
   "source": [
    "CONFIG.keys()"
   ]
  },
  {
   "cell_type": "markdown",
   "metadata": {
    "kernel": "SoS"
   },
   "source": [
    "and you can access values in this dictionary just like any other dictionary:"
   ]
  },
  {
   "cell_type": "code",
   "execution_count": 10,
   "metadata": {
    "kernel": "SoS"
   },
   "outputs": [
    {
     "data": {
      "text/plain": [
       "'bpeng1'"
      ]
     },
     "execution_count": 10,
     "metadata": {},
     "output_type": "execute_result"
    }
   ],
   "source": [
    "CONFIG['user_name']"
   ]
  },
  {
   "cell_type": "markdown",
   "metadata": {
    "kernel": "SoS"
   },
   "source": [
    "Notice that `CONFIG` only contains content from system configuration files `{SOS_DIRECTORY}/site_config.yml`, `~/.sos/hosts.yml`, and `~/.sos/config.yml`. If you have your own configuration in a file in JSON or YMAL format, you can specify it from command line using option `-c`. The content of that file will then be available in variable `CONFIG`."
   ]
  },
  {
   "cell_type": "markdown",
   "metadata": {
    "kernel": "SoS"
   },
   "source": [
    "## Workflow and step variables"
   ]
  },
  {
   "cell_type": "markdown",
   "metadata": {
    "kernel": "SoS"
   },
   "source": [
    "SoS defines multiple variables during the execution of a step. The first type of variables provides information about the step, which includes\n",
    "\n",
    "* **`step_name`**: name of the step\n",
    "* **`step_id`**: Hash ID of the step, which is determined by the content of the step\n",
    "* **`workflow_id`**: Hash ID of the workflow in which the step is defined. It would be the ID of the nested workflow if the workflow is nested.\n",
    "* **`master_id`**: Hash ID of the entire workflow, regardless if the step is defined in a nested workflow.\n",
    "\n",
    "For example, in the following example, two steps have different step names, step IDs, and workflow IDs because `nested` is a nested workflow, but they share the same `master_id`, which equals to `workflow_id` of the outermost workflow.  "
   ]
  },
  {
   "cell_type": "code",
   "execution_count": 1,
   "metadata": {
    "kernel": "SoS"
   },
   "outputs": [
    {
     "name": "stdout",
     "output_type": "stream",
     "text": [
      "Workflow 1663b815c3bed9f2: step name=default_0\n",
      "Workflow 1663b815c3bed9f2: step id=950015e2ddfc10d4\n",
      "Workflow 1663b815c3bed9f2: workflow id=1663b815c3bed9f2\n",
      "Workflow 1663b815c3bed9f2: master id=1663b815c3bed9f2\n",
      "Workflow fecfb67fda2f92df: step name=nested_0\n",
      "Workflow fecfb67fda2f92df: step id=74bf81da4f5098aa\n",
      "Workflow fecfb67fda2f92df: workflow id=fecfb67fda2f92df\n",
      "Workflow fecfb67fda2f92df: master id=1663b815c3bed9f2\n"
     ]
    }
   ],
   "source": [
    "%run\n",
    "[nested]\n",
    "print(f'Workflow {workflow_id}: step name={step_name}')\n",
    "print(f'Workflow {workflow_id}: step id={step_id}')\n",
    "print(f'Workflow {workflow_id}: workflow id={workflow_id}')\n",
    "print(f'Workflow {workflow_id}: master id={master_id}')\n",
    "\n",
    "[default]\n",
    "print(f'Workflow {workflow_id}: step name={step_name}')\n",
    "print(f'Workflow {workflow_id}: step id={step_id}')\n",
    "print(f'Workflow {workflow_id}: workflow id={workflow_id}')\n",
    "print(f'Workflow {workflow_id}: master id={master_id}')\n",
    "sos_run('nested')"
   ]
  },
  {
   "cell_type": "markdown",
   "metadata": {
    "kernel": "SoS"
   },
   "source": [
    "These variables can be useful, for example, to save runtime information, as in the example of"
   ]
  },
  {
   "cell_type": "code",
   "execution_count": 8,
   "metadata": {
    "kernel": "SoS"
   },
   "outputs": [
    {
     "data": {
      "text/html": [
       "<div class=\"sos_hint\">> default_10.log (49 B):</div>"
      ],
      "text/plain": [
       "\n",
       "> default_10.log (49 B):"
      ]
     },
     "metadata": {},
     "output_type": "display_data"
    },
    {
     "name": "stdout",
     "output_type": "stream",
     "text": [
      "Step specific log message saved in default_10.log"
     ]
    }
   ],
   "source": [
    "%preview -n default_10.log\n",
    "%run \n",
    "\n",
    "[10]\n",
    "with open(step_name + '.log', 'w') as log:\n",
    "    log.write(f'Step specific log message saved in {step_name}.log')"
   ]
  },
  {
   "cell_type": "markdown",
   "metadata": {
    "kernel": "SoS"
   },
   "source": [
    "If a section defines multiple steps, the step variables can be used to define (slightly) different steps according to which step is executing. For example,"
   ]
  },
  {
   "cell_type": "code",
   "execution_count": 9,
   "metadata": {
    "kernel": "SoS"
   },
   "outputs": [
    {
     "name": "stdout",
     "output_type": "stream",
     "text": [
      "I am dealing with human\n"
     ]
    }
   ],
   "source": [
    "%run human\n",
    "\n",
    "[human_10, mouse_10]\n",
    "if 'human' in step_name:\n",
    "   print(\"I am dealing with human\")\n",
    "else:\n",
    "   print(\"I am dealing with mouse\")\n"
   ]
  },
  {
   "cell_type": "markdown",
   "metadata": {
    "kernel": "SoS"
   },
   "source": [
    "The second type of variables are step input, output, and dependent targets. They are of type `sos_targets` and will be explained later. "
   ]
  },
  {
   "cell_type": "markdown",
   "metadata": {
    "kernel": "SoS"
   },
   "source": [
    "## Runtime variables for steps and substeps"
   ]
  },
  {
   "cell_type": "markdown",
   "metadata": {
    "kernel": "SoS"
   },
   "source": [
    "#### `step_input` and `_input`"
   ]
  },
  {
   "cell_type": "markdown",
   "metadata": {
    "kernel": "SoS"
   },
   "source": [
    "In SoS, the `input` statement mostly creates a `step_input` object with provided parameters. That is to say,\n",
    "\n",
    "```\n",
    "input: 'a.txt', 'b.txt', group_by=1\n",
    "```\n",
    "is almost equivalent to\n",
    "\n",
    "```\n",
    "step_input = sos_targets('a.txt', 'b.txt', group_by=1)\n",
    "```\n",
    "and we can use `sos_targets` objects directly in an `input` statement in more complicated cases."
   ]
  },
  {
   "cell_type": "markdown",
   "metadata": {
    "kernel": "SoS"
   },
   "source": [
    "## Variables defined in global sections"
   ]
  },
  {
   "cell_type": "markdown",
   "metadata": {
    "kernel": "SoS"
   },
   "source": [
    "## Variables shared from other steps"
   ]
  },
  {
   "cell_type": "markdown",
   "metadata": {
    "kernel": "SoS"
   },
   "source": [
    "## Further reading\n",
    "\n",
    "* "
   ]
  }
 ],
 "metadata": {
  "kernelspec": {
   "display_name": "SoS",
   "language": "sos",
   "name": "sos"
  },
  "language_info": {
   "codemirror_mode": "sos",
   "file_extension": ".sos",
   "mimetype": "text/x-sos",
   "name": "sos",
   "nbconvert_exporter": "sos_notebook.converter.SoS_Exporter",
   "pygments_lexer": "sos"
  },
  "sos": {
   "kernels": [
    [
     "Bash",
     "bash",
     "Bash",
     "#E6EEFF"
    ],
    [
     "R",
     "ir",
     "R",
     "#DCDCDA"
    ],
    [
     "SoS",
     "sos",
     "",
     ""
    ]
   ],
   "panel": {
    "displayed": true,
    "height": 0
   },
   "version": "0.17.5"
  }
 },
 "nbformat": 4,
 "nbformat_minor": 2
}
