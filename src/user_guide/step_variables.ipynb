{
 "cells": [
  {
   "cell_type": "markdown",
   "metadata": {
    "kernel": "SoS"
   },
   "source": [
    "# Title"
   ]
  },
  {
   "cell_type": "markdown",
   "metadata": {
    "kernel": "SoS"
   },
   "source": [
    "* **Difficulty level**: easy\n",
    "* **Time need to lean**: 10 minutes or less\n",
    "* **Key points**:\n",
    "  * a\n",
    "  "
   ]
  },
  {
   "cell_type": "markdown",
   "metadata": {
    "kernel": "SoS"
   },
   "source": [
    "## Step variables"
   ]
  },
  {
   "cell_type": "markdown",
   "metadata": {
    "kernel": "SoS"
   },
   "source": [
    "SoS defines multiple variables during the execution of a step. The first type of variables provides information about the step, which includes\n",
    "\n",
    "* **`step_name`**: name of the step\n",
    "* **`step_id`**: Hash ID of the step, which is determined by the content of the step\n",
    "* **`workflow_id`**: Hash ID of the workflow in which the step is defined. It would be the ID of the nested workflow if the workflow is nested.\n",
    "* **`master_id`**: Hash ID of the entire workflow, regardless if the step is defined in a nested workflow.\n",
    "\n",
    "For example, in the following example, two steps have different step names, step IDs, and workflow IDs because `nested` is a nested workflow, but they share the same `master_id`, which equals to `workflow_id` of the outermost workflow.  "
   ]
  },
  {
   "cell_type": "code",
   "execution_count": 1,
   "metadata": {
    "kernel": "SoS"
   },
   "outputs": [
    {
     "name": "stdout",
     "output_type": "stream",
     "text": [
      "Workflow 1663b815c3bed9f2: step name=default_0\n",
      "Workflow 1663b815c3bed9f2: step id=950015e2ddfc10d4\n",
      "Workflow 1663b815c3bed9f2: workflow id=1663b815c3bed9f2\n",
      "Workflow 1663b815c3bed9f2: master id=1663b815c3bed9f2\n",
      "Workflow fecfb67fda2f92df: step name=nested_0\n",
      "Workflow fecfb67fda2f92df: step id=74bf81da4f5098aa\n",
      "Workflow fecfb67fda2f92df: workflow id=fecfb67fda2f92df\n",
      "Workflow fecfb67fda2f92df: master id=1663b815c3bed9f2\n"
     ]
    }
   ],
   "source": [
    "%run\n",
    "[nested]\n",
    "print(f'Workflow {workflow_id}: step name={step_name}')\n",
    "print(f'Workflow {workflow_id}: step id={step_id}')\n",
    "print(f'Workflow {workflow_id}: workflow id={workflow_id}')\n",
    "print(f'Workflow {workflow_id}: master id={master_id}')\n",
    "\n",
    "[default]\n",
    "print(f'Workflow {workflow_id}: step name={step_name}')\n",
    "print(f'Workflow {workflow_id}: step id={step_id}')\n",
    "print(f'Workflow {workflow_id}: workflow id={workflow_id}')\n",
    "print(f'Workflow {workflow_id}: master id={master_id}')\n",
    "sos_run('nested')"
   ]
  },
  {
   "cell_type": "markdown",
   "metadata": {
    "kernel": "SoS"
   },
   "source": [
    "These variables can be useful, for example, to save runtime information, as in the example of"
   ]
  },
  {
   "cell_type": "code",
   "execution_count": 8,
   "metadata": {
    "kernel": "SoS"
   },
   "outputs": [
    {
     "data": {
      "text/html": [
       "<div class=\"sos_hint\">> default_10.log (49 B):</div>"
      ],
      "text/plain": [
       "\n",
       "> default_10.log (49 B):"
      ]
     },
     "metadata": {},
     "output_type": "display_data"
    },
    {
     "name": "stdout",
     "output_type": "stream",
     "text": [
      "Step specific log message saved in default_10.log"
     ]
    }
   ],
   "source": [
    "%preview -n default_10.log\n",
    "%run \n",
    "\n",
    "[10]\n",
    "with open(step_name + '.log', 'w') as log:\n",
    "    log.write(f'Step specific log message saved in {step_name}.log')"
   ]
  },
  {
   "cell_type": "markdown",
   "metadata": {
    "kernel": "SoS"
   },
   "source": [
    "If a section defines multiple steps, the step variables can be used to define (slightly) different steps according to which step is executing. For example,"
   ]
  },
  {
   "cell_type": "code",
   "execution_count": 9,
   "metadata": {
    "kernel": "SoS"
   },
   "outputs": [
    {
     "name": "stdout",
     "output_type": "stream",
     "text": [
      "I am dealing with human\n"
     ]
    }
   ],
   "source": [
    "%run human\n",
    "\n",
    "[human_10, mouse_10]\n",
    "if 'human' in step_name:\n",
    "   print(\"I am dealing with human\")\n",
    "else:\n",
    "   print(\"I am dealing with mouse\")\n"
   ]
  },
  {
   "cell_type": "markdown",
   "metadata": {
    "kernel": "SoS"
   },
   "source": [
    "The second type of variables are step input, output, and dependent targets. They are of type `sos_targets` and will be explained later. "
   ]
  },
  {
   "cell_type": "markdown",
   "metadata": {
    "kernel": "SoS"
   },
   "source": [
    "#### `step_input` and `_input`"
   ]
  },
  {
   "cell_type": "markdown",
   "metadata": {
    "kernel": "SoS"
   },
   "source": [
    "In SoS, the `input` statement mostly creates a `step_input` object with provided parameters. That is to say,\n",
    "\n",
    "```\n",
    "input: 'a.txt', 'b.txt', group_by=1\n",
    "```\n",
    "is almost equivalent to\n",
    "\n",
    "```\n",
    "step_input = sos_targets('a.txt', 'b.txt', group_by=1)\n",
    "```\n",
    "and we can use `sos_targets` objects directly in an `input` statement in more complicated cases."
   ]
  },
  {
   "cell_type": "markdown",
   "metadata": {
    "kernel": "SoS"
   },
   "source": [
    "Variable `_input` represents the input targets for each substep (`groups` of `sos_targets` as we will see later).\n",
    "\n",
    "In the simple case, `step_input` is the same as `_input`. For example, variables `step_input` and `_input` of the following step are `sos_targets` objects with a single `file_target` object:"
   ]
  },
  {
   "cell_type": "code",
   "execution_count": 1,
   "metadata": {
    "kernel": "SoS"
   },
   "outputs": [
    {
     "name": "stdout",
     "output_type": "stream",
     "text": [
      "step_input='SoS_Syntax.ipynb'\n",
      "_input='SoS_Syntax.ipynb'\n",
      "    4626 SoS_Syntax.ipynb\n"
     ]
    }
   ],
   "source": [
    "input: 'SoS_Syntax.ipynb'\n",
    "print(f\"step_input={step_input:r}\")\n",
    "print(f\"_input={_input:r}\")\n",
    "sh: expand=True\n",
    "    wc -l {_input}"
   ]
  },
  {
   "cell_type": "markdown",
   "metadata": {
    "kernel": "SoS"
   },
   "source": [
    "and if you have multiple input files, you can pass them altogether as a `sos_targets` with two `file_target` "
   ]
  },
  {
   "cell_type": "code",
   "execution_count": 2,
   "metadata": {
    "kernel": "SoS"
   },
   "outputs": [
    {
     "name": "stdout",
     "output_type": "stream",
     "text": [
      "step_input='SoS_Syntax.ipynb' 'SoS_Magics.ipynb'\n",
      "_input='SoS_Syntax.ipynb' 'SoS_Magics.ipynb'\n",
      "    4626 SoS_Syntax.ipynb\n",
      "    3747 SoS_Magics.ipynb\n"
     ]
    }
   ],
   "source": [
    "input: 'SoS_Syntax.ipynb', 'SoS_Magics.ipynb'\n",
    "print(f\"step_input={step_input:r}\")\n",
    "print(f\"_input={_input:r}\")\n",
    "sh: expand=True\n",
    "    wc -l {_input[0]}\n",
    "    wc -l {_input[1]}"
   ]
  },
  {
   "cell_type": "markdown",
   "metadata": {
    "kernel": "SoS"
   },
   "source": [
    "or separately as two groups of inputs:"
   ]
  },
  {
   "cell_type": "code",
   "execution_count": 3,
   "metadata": {
    "kernel": "SoS"
   },
   "outputs": [
    {
     "name": "stdout",
     "output_type": "stream",
     "text": [
      "step_input='SoS_Syntax.ipynb' 'SoS_Magics.ipynb'\n",
      "_input='SoS_Syntax.ipynb'\n",
      "    4626 SoS_Syntax.ipynb\n",
      "step_input='SoS_Syntax.ipynb' 'SoS_Magics.ipynb'\n",
      "_input='SoS_Magics.ipynb'\n",
      "    3747 SoS_Magics.ipynb\n"
     ]
    }
   ],
   "source": [
    "input: 'SoS_Syntax.ipynb', 'SoS_Magics.ipynb', group_by=1\n",
    "print(f\"step_input={step_input:r}\")\n",
    "print(f\"_input={_input:r}\")\n",
    "sh: expand=True\n",
    "    wc -l {_input}"
   ]
  },
  {
   "cell_type": "markdown",
   "metadata": {
    "kernel": "SoS"
   },
   "source": [
    "In this case, the step input contains two `file_target` (\n",
    "```\n",
    "step_input = sos_targets('SoS_Syntax.ipynb', 'SoS_Magics.ipynb')`\n",
    "```\n",
    "but the step process is executed twice, with \n",
    "```\n",
    "_input = sos_targets('SoS_Syntax.ipynb')\n",
    "_input = sos_targets('SoS_Magics.ipynb')\n",
    "```\n",
    "respectively. Because `_input` contains only one element, it is not necessary to use `_input[0]` in the script."
   ]
  },
  {
   "cell_type": "markdown",
   "metadata": {
    "kernel": "SoS"
   },
   "source": [
    "#### `sources` of targets"
   ]
  },
  {
   "cell_type": "markdown",
   "metadata": {
    "kernel": "SoS"
   },
   "source": [
    "Targets in a `sos_targets` has an attribute `source`, which correspond to the step that the target is specified (input) or generated (output). For example, the `source` of a `sos_targets` that is directly specified in a step is the name of step."
   ]
  },
  {
   "cell_type": "code",
   "execution_count": 2,
   "metadata": {
    "kernel": "SoS"
   },
   "outputs": [
    {
     "name": "stdout",
     "output_type": "stream",
     "text": [
      "['hi']\n"
     ]
    }
   ],
   "source": [
    "%run\n",
    "[hi]\n",
    "input: 'SoS_Syntax.ipynb'\n",
    "print(_input.sources)"
   ]
  },
  {
   "cell_type": "markdown",
   "metadata": {
    "kernel": "SoS"
   },
   "source": [
    "If you have multiple inputs, you can sparate them into different groups using keyword arguments"
   ]
  },
  {
   "cell_type": "code",
   "execution_count": 10,
   "metadata": {
    "kernel": "SoS"
   },
   "outputs": [
    {
     "name": "stdout",
     "output_type": "stream",
     "text": [
      "a.bam b.bam a.bai a.bai\n",
      "['bam', 'bam', 'bai', 'bai']\n"
     ]
    }
   ],
   "source": [
    "!touch a.bam b.bam a.bai b.bai\n",
    "\n",
    "input: bam=['a.bam', 'b.bam'], bai=['a.bai', 'a.bai']\n",
    "\n",
    "print(_input)\n",
    "print(_input.sources)"
   ]
  },
  {
   "cell_type": "markdown",
   "metadata": {
    "kernel": "SoS"
   },
   "source": [
    "If the input target is inherited from another step, the source will the name of that step."
   ]
  },
  {
   "cell_type": "code",
   "execution_count": 3,
   "metadata": {
    "kernel": "SoS"
   },
   "outputs": [
    {
     "name": "stdout",
     "output_type": "stream",
     "text": [
      "['10']\n"
     ]
    }
   ],
   "source": [
    "%run\n",
    "[10]\n",
    "output: 'a.txt'\n",
    "_output.touch()\n",
    "\n",
    "[11]\n",
    "print(_input.sources)"
   ]
  },
  {
   "cell_type": "markdown",
   "metadata": {
    "kernel": "SoS"
   },
   "source": [
    "In a more complex case when the source comes from multiple input steps and the present step, the `sources` attribute points out the source of each target:"
   ]
  },
  {
   "cell_type": "code",
   "execution_count": 11,
   "metadata": {
    "kernel": "SoS"
   },
   "outputs": [
    {
     "data": {
      "text/html": [
       "\n",
       "<table id=\"workflow_2384b9808aa0443b802769234606d79a\" class=\"workflow_table  completed\">\n",
       "  <tr>\n",
       "        <td class=\"workflow_icon\">\n",
       "          <i id=\"workflow_status_icon_2384b9808aa0443b802769234606d79a\" class=\"fa fa-2x fa-fw fa-check-square-o\"\n",
       "            ></i>\n",
       "        </td>\n",
       "        <td class=\"workflow_name\">\n",
       "          <pre><span id=\"workflow_name_2384b9808aa0443b802769234606d79a\">step</span></pre>\n",
       "        </td>\n",
       "        <td class=\"workflow_id\">\n",
       "          <span>Workflow ID</span></br>\n",
       "          <pre><i class=\"fa fa-fw fa-sitemap\"></i><span id=\"workflow_id_2384b9808aa0443b802769234606d79a\">2cc805e966b4890b</span></pre>\n",
       "        </td>\n",
       "        <td class=\"workflow_index\">\n",
       "          <span>Index</span></br>\n",
       "          <pre>#<span id=\"workflow_index_2384b9808aa0443b802769234606d79a\">2</span></pre>\n",
       "        </td>\n",
       "        <td class=\"workflow_status\">\n",
       "          <span id=\"status_text_2384b9808aa0443b802769234606d79a\">completed</span></br>\n",
       "          <pre><i class=\"fa fa-fw fa-clock-o\"></i><time id=\"status_duration_2384b9808aa0443b802769234606d79a\" class=\"completed\" datetime=\"1545540836633.5627\">Ran for < 5 seconds</time></pre>\n",
       "        </td>\n",
       "  </tr>\n",
       "</table>\n"
      ]
     },
     "metadata": {},
     "output_type": "display_data"
    },
    {
     "name": "stdout",
     "output_type": "stream",
     "text": [
      "c.txt a.txt b.txt\n",
      "['step_30', 'step_10', 'step_20']\n"
     ]
    }
   ],
   "source": [
    "!touch c.txt\n",
    "%run\n",
    "[step_10]\n",
    "output: 'a.txt'\n",
    "_output.touch()\n",
    "\n",
    "[step_20]\n",
    "output: 'b.txt'\n",
    "_output.touch()\n",
    "\n",
    "[step_30]\n",
    "input: 'c.txt', output_from(['step_10', 'step_20'])\n",
    "print(_input)\n",
    "print(_input.sources)"
   ]
  },
  {
   "cell_type": "markdown",
   "metadata": {
    "kernel": "SoS"
   },
   "source": [
    "Although the use of keyword argument will override the default source"
   ]
  },
  {
   "cell_type": "code",
   "execution_count": 12,
   "metadata": {
    "kernel": "SoS"
   },
   "outputs": [
    {
     "data": {
      "text/html": [
       "\n",
       "<table id=\"workflow_b409da80019e4d148669108ad300ce5d\" class=\"workflow_table  completed\">\n",
       "  <tr>\n",
       "        <td class=\"workflow_icon\">\n",
       "          <i id=\"workflow_status_icon_b409da80019e4d148669108ad300ce5d\" class=\"fa fa-2x fa-fw fa-check-square-o\"\n",
       "            ></i>\n",
       "        </td>\n",
       "        <td class=\"workflow_name\">\n",
       "          <pre><span id=\"workflow_name_b409da80019e4d148669108ad300ce5d\">step</span></pre>\n",
       "        </td>\n",
       "        <td class=\"workflow_id\">\n",
       "          <span>Workflow ID</span></br>\n",
       "          <pre><i class=\"fa fa-fw fa-sitemap\"></i><span id=\"workflow_id_b409da80019e4d148669108ad300ce5d\">2cc805e966b4890b</span></pre>\n",
       "        </td>\n",
       "        <td class=\"workflow_index\">\n",
       "          <span>Index</span></br>\n",
       "          <pre>#<span id=\"workflow_index_b409da80019e4d148669108ad300ce5d\">3</span></pre>\n",
       "        </td>\n",
       "        <td class=\"workflow_status\">\n",
       "          <span id=\"status_text_b409da80019e4d148669108ad300ce5d\">completed</span></br>\n",
       "          <pre><i class=\"fa fa-fw fa-clock-o\"></i><time id=\"status_duration_b409da80019e4d148669108ad300ce5d\" class=\"completed\" datetime=\"1545540898120.4749\">Ran for < 5 seconds</time></pre>\n",
       "        </td>\n",
       "  </tr>\n",
       "</table>\n"
      ]
     },
     "metadata": {},
     "output_type": "display_data"
    },
    {
     "name": "stdout",
     "output_type": "stream",
     "text": [
      "c.txt a.txt b.txt\n",
      "['step_30', 'prev', 'prev']\n"
     ]
    }
   ],
   "source": [
    "!touch c.txt\n",
    "%run\n",
    "[step_10]\n",
    "output: 'a.txt'\n",
    "_output.touch()\n",
    "\n",
    "[step_20]\n",
    "output: 'b.txt'\n",
    "_output.touch()\n",
    "\n",
    "[step_30]\n",
    "input: 'c.txt', prev=output_from(['step_10', 'step_20'])\n",
    "print(_input)\n",
    "print(_input.sources)"
   ]
  },
  {
   "cell_type": "markdown",
   "metadata": {
    "kernel": "SoS"
   },
   "source": [
    "The `source` information can be used to select subsets of targets according to their sources. For example, `_intput['prev']` would generate a `sos_targets` with all targets from source `prev`."
   ]
  },
  {
   "cell_type": "code",
   "execution_count": 14,
   "metadata": {
    "kernel": "SoS"
   },
   "outputs": [
    {
     "data": {
      "text/html": [
       "\n",
       "<table id=\"workflow_930125e09f61438380168fce5ca74634\" class=\"workflow_table  completed\">\n",
       "  <tr>\n",
       "        <td class=\"workflow_icon\">\n",
       "          <i id=\"workflow_status_icon_930125e09f61438380168fce5ca74634\" class=\"fa fa-2x fa-fw fa-check-square-o\"\n",
       "            ></i>\n",
       "        </td>\n",
       "        <td class=\"workflow_name\">\n",
       "          <pre><span id=\"workflow_name_930125e09f61438380168fce5ca74634\">step</span></pre>\n",
       "        </td>\n",
       "        <td class=\"workflow_id\">\n",
       "          <span>Workflow ID</span></br>\n",
       "          <pre><i class=\"fa fa-fw fa-sitemap\"></i><span id=\"workflow_id_930125e09f61438380168fce5ca74634\">8ca6d85f4843b9f8</span></pre>\n",
       "        </td>\n",
       "        <td class=\"workflow_index\">\n",
       "          <span>Index</span></br>\n",
       "          <pre>#<span id=\"workflow_index_930125e09f61438380168fce5ca74634\">5</span></pre>\n",
       "        </td>\n",
       "        <td class=\"workflow_status\">\n",
       "          <span id=\"status_text_930125e09f61438380168fce5ca74634\">completed</span></br>\n",
       "          <pre><i class=\"fa fa-fw fa-clock-o\"></i><time id=\"status_duration_930125e09f61438380168fce5ca74634\" class=\"completed\" datetime=\"1545541099705.5737\">Ran for 0 sec</time></pre>\n",
       "        </td>\n",
       "  </tr>\n",
       "</table>\n"
      ]
     },
     "metadata": {},
     "output_type": "display_data"
    },
    {
     "name": "stdout",
     "output_type": "stream",
     "text": [
      "a.txt\n",
      "['step_10']\n"
     ]
    }
   ],
   "source": [
    "!touch c.txt\n",
    "%run\n",
    "[step_10]\n",
    "output: 'a.txt'\n",
    "_output.touch()\n",
    "\n",
    "[step_20]\n",
    "output: 'b.txt'\n",
    "_output.touch()\n",
    "\n",
    "[step_30]\n",
    "input: 'c.txt', output_from(['step_10', 'step_20'])\n",
    "print(_input['step_10'])\n",
    "print(_input['step_10'].sources)"
   ]
  },
  {
   "cell_type": "markdown",
   "metadata": {
    "kernel": "SoS"
   },
   "source": [
    "#### `groups` of `sos_targets`"
   ]
  },
  {
   "cell_type": "markdown",
   "metadata": {
    "kernel": "SoS"
   },
   "source": [
    "As we have seen, targets in a `sos_targets` can be grouped in many ways and `_input` contains subsets of the targets and is the input for each substep. For example, in the following example, the 4 input files are grouped into two groups of the same size. The step is executed twice, each time for a different group.  `step_input.groups` contains a list of `sos_targets` that becomes `_input` of the substep."
   ]
  },
  {
   "cell_type": "code",
   "execution_count": 18,
   "metadata": {
    "kernel": "SoS",
    "scrolled": true
   },
   "outputs": [
    {
     "name": "stdout",
     "output_type": "stream",
     "text": [
      "\n",
      "Group 0\n",
      "[[file_target('a.txt'), file_target('b.txt')], [file_target('c.txt'), file_target('d.txt')]]\n",
      "a.txt b.txt\n",
      "\n",
      "Group 1\n",
      "[[file_target('a.txt'), file_target('b.txt')], [file_target('c.txt'), file_target('d.txt')]]\n",
      "c.txt d.txt\n"
     ]
    }
   ],
   "source": [
    "input: 'a.txt', 'b.txt', 'c.txt', 'd.txt', group_by=2\n",
    "print(f'\\nGroup {_index}')\n",
    "print(step_input.groups)\n",
    "print(_input)"
   ]
  },
  {
   "cell_type": "markdown",
   "metadata": {
    "kernel": "SoS"
   },
   "source": [
    "#### `zap` file targets "
   ]
  },
  {
   "cell_type": "markdown",
   "metadata": {
    "kernel": "SoS"
   },
   "source": [
    "`sos_targets` accepts the `zap()` function which `zap` all file targets in ths list. This technique is usually used to remove large intermediate files during the execution of the workflow. For example, if you have a workflow that downloads and processs large files, you can do something like\n",
    "\n",
    "```\n",
    "[download: provides='{file}.fastq']\n",
    "download: expand=True\n",
    "    http://some_url/{file}.fastq\n",
    "\n",
    "[default]\n",
    "input: [f'{x}.fastq' for x in range(1000)], group_by=1\n",
    "output: _input.with_suffix('.bam')\n",
    "sh: expand=True\n",
    "   process _input to _output\n",
    "  \n",
    "_input.zap()\n",
    "```\n",
    "\n",
    "In this example, 1000 `fastq` files are downloaded and processed, but the input files are zapped  after they are processed. Although the files have been removed, re-running the workflow will not download and process the files again because the downloaded files still considered to exist by SoS."
   ]
  },
  {
   "cell_type": "markdown",
   "metadata": {
    "kernel": "SoS"
   },
   "source": [
    "### Using `sos_targets`"
   ]
  },
  {
   "cell_type": "markdown",
   "metadata": {
    "kernel": "SoS"
   },
   "source": [
    "Whereas you can always use `step_input`, `_input` etc in scripts (format-string) easily, using them outside of scripts is a bit tricker. Let us check a few common usages and see how to use `sos_targets` in SoS."
   ]
  },
  {
   "cell_type": "markdown",
   "metadata": {
    "kernel": "SoS"
   },
   "source": [
    "First, it is a common practice to generate another file with a slightly different name. For example, in the following script, `step_input` is a `sos_targets` with two filenames, `_input` is a `sos_targets` with one filename, and we need to generate `test.bam.bai` from input file `test.bam`. In this particular case, you can append the `.bai` extension directly to `_input` using the `+` operator, by passing the `+` operation to the first `file_target` of `_input`:"
   ]
  },
  {
   "cell_type": "code",
   "execution_count": 46,
   "metadata": {
    "kernel": "SoS"
   },
   "outputs": [
    {
     "name": "stdout",
     "output_type": "stream",
     "text": [
      "Generating /private/var/folders/ys/gnzk0qbx5wbdgm531v82xxljv5yqy8/T/tmpenoojx6z/test1.bam.bai from test1.bam\n",
      "Generating /private/var/folders/ys/gnzk0qbx5wbdgm531v82xxljv5yqy8/T/tmpenoojx6z/test2.bam.bai from test2.bam\n"
     ]
    }
   ],
   "source": [
    "%sandbox\n",
    "!touch test1.bam test2.bam\n",
    "\n",
    "input_files = ['test1.bam', 'test2.bam']\n",
    "input: input_files, group_by=1\n",
    "output: _input + '.bai'\n",
    "\n",
    "print(f\"Generating {_output} from {_input}\")\n",
    "_output.touch()"
   ]
  },
  {
   "cell_type": "markdown",
   "metadata": {
    "kernel": "SoS"
   },
   "source": [
    "If the extensions are different, you can use the `with_suffix` function of `pathlib.Path`, again by calling the `with_suffix` function of its only element `_input[0]`:"
   ]
  },
  {
   "cell_type": "code",
   "execution_count": 47,
   "metadata": {
    "kernel": "SoS"
   },
   "outputs": [
    {
     "name": "stdout",
     "output_type": "stream",
     "text": [
      "Generating test1.bai from test1.bam\n",
      "Generating test2.bai from test2.bam\n"
     ]
    }
   ],
   "source": [
    "%sandbox\n",
    "!touch test1.bam test2.bam\n",
    "\n",
    "input_files = ['test1.bam', 'test2.bam']\n",
    "input: input_files, group_by=1\n",
    "output: _input.with_suffix('.bai')\n",
    "\n",
    "print(f\"Generating {_output} from {_input}\")\n",
    "_output.touch()"
   ]
  },
  {
   "cell_type": "markdown",
   "metadata": {
    "kernel": "SoS"
   },
   "source": [
    "You can also use the `:n` formatter to retrieve the part of `_input` without extension, and add `.bam.bai` to it as follows:"
   ]
  },
  {
   "cell_type": "code",
   "execution_count": 48,
   "metadata": {
    "kernel": "SoS"
   },
   "outputs": [
    {
     "name": "stdout",
     "output_type": "stream",
     "text": [
      "Generating test1.bam.bai from test1.bam\n",
      "Generating test2.bam.bai from test2.bam\n"
     ]
    }
   ],
   "source": [
    "%sandbox\n",
    "!touch test1.bam test2.bam\n",
    "\n",
    "input_files = ['test1.bam', 'test2.bam']\n",
    "input: input_files, group_by=1\n",
    "output: f\"{_input:n}.bam.bai\"\n",
    "\n",
    "print(f\"Generating {_output} from {_input}\")\n",
    "_output.touch()"
   ]
  },
  {
   "cell_type": "markdown",
   "metadata": {
    "kernel": "SoS"
   },
   "source": [
    "Note that the result of `_input + '.bai'` is a `path` and `f'{_input:n}.bam.bai'` is a `str` but both will be converted to `_output` with type `sos_targets`. You can use either style although `:u`, `:b` etc can be shorter than `expanduser()` and `.name`, especially when you combine multiple formatters to extract certain parts of a `path`."
   ]
  },
  {
   "cell_type": "markdown",
   "metadata": {
    "kernel": "SoS"
   },
   "source": [
    "Second, because `path`, `path`, and even `sos_targets` supports the `os.PathLike` interface, you can use them as filenames directly in SoS (Python). For example, you can pass `sos_targets` with one element to usual `os.path` functions such as `getsize` and open it directly with the `open` function:"
   ]
  },
  {
   "cell_type": "code",
   "execution_count": 49,
   "metadata": {
    "kernel": "SoS"
   },
   "outputs": [
    {
     "name": "stdout",
     "output_type": "stream",
     "text": [
      "Size of [file_target('SoS_Syntax.ipynb')] is 1062666.\n",
      "The first two lines of [file_target('SoS_Syntax.ipynb')] are:\n",
      "{\n",
      "\n",
      " \"cells\": [\n",
      "\n"
     ]
    }
   ],
   "source": [
    "input: \"SoS_Syntax.ipynb\"\n",
    "print(f\"Size of {repr(_input)} is {os.path.getsize(_input)}.\")\n",
    "print(f\"The first two lines of {repr(_input)} are:\")\n",
    "\n",
    "with open(input, 'r') as myself:\n",
    "    print(myself.readline())\n",
    "    print(myself.readline())"
   ]
  },
  {
   "cell_type": "markdown",
   "metadata": {
    "kernel": "SoS"
   },
   "source": [
    "However, although Python standard libraries supports `os.PathLike` interface, third party modules might or might not work correctly in this day so it can be safer to use `str(input)` to convert the paths to `str` before passing them to these functions."
   ]
  },
  {
   "cell_type": "markdown",
   "metadata": {
    "kernel": "SoS"
   },
   "source": [
    "## Further reading\n",
    "\n",
    "* "
   ]
  }
 ],
 "metadata": {
  "kernelspec": {
   "display_name": "SoS",
   "language": "sos",
   "name": "sos"
  },
  "language_info": {
   "codemirror_mode": "sos",
   "file_extension": ".sos",
   "mimetype": "text/x-sos",
   "name": "sos",
   "nbconvert_exporter": "sos_notebook.converter.SoS_Exporter",
   "pygments_lexer": "sos"
  },
  "sos": {
   "kernels": [
    [
     "Bash",
     "bash",
     "Bash",
     "#E6EEFF"
    ],
    [
     "R",
     "ir",
     "R",
     "#DCDCDA"
    ],
    [
     "SoS",
     "sos",
     "",
     ""
    ]
   ],
   "panel": {
    "displayed": true,
    "height": 0
   },
   "version": "0.17.4"
  }
 },
 "nbformat": 4,
 "nbformat_minor": 2
}
