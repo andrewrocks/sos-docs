{
 "cells": [
  {
   "cell_type": "markdown",
   "metadata": {
    "kernel": "SoS"
   },
   "source": [
    "# Variables that can be used in a SoS step"
   ]
  },
  {
   "cell_type": "markdown",
   "metadata": {
    "kernel": "SoS"
   },
   "source": [
    "* **Difficulty level**: easy to intermediate\n",
    "* **Time need to lean**: 30 minutes or less\n",
    "* **Key points**:  \n",
    "  * Steps can access system configurations through variable `CONFIG`, `__version__`\n",
    "  * Steps can access workflow and step information through variables `step_name`, `step_id`, `workflow_id`, and `master_id`\n",
    "  * Steps have step and substep specific variables such as `step_input`, `_input`, `_depends`, `_output`\n",
    "  * Steps can use variables defined locally and in global sections\n",
    "  * Steps can inherit variables passed as output of other steps, e.g. from `output_from`\n",
    "  * Steps can use variables shared by other steps through `sos_variable`"
   ]
  },
  {
   "cell_type": "markdown",
   "metadata": {
    "kernel": "SoS"
   },
   "source": [
    "SoS steps are isolated in the sense that they have access to limited set of variables and by default do not share variables. This tutorial lists all variables that can be used in a step."
   ]
  },
  {
   "cell_type": "markdown",
   "metadata": {
    "kernel": "SoS"
   },
   "source": [
    "## System variables `SOS_VERSION` and `CONFIG`"
   ]
  },
  {
   "cell_type": "markdown",
   "metadata": {
    "kernel": "SoS"
   },
   "source": [
    "<div class=\"bs-callout bs-callout-primary\" role=\"alert\">\n",
    "    <h4>Variables <code>SOS_VERSION</code> and <code>CONFIG</code></h4>\n",
    "    <ul>\n",
    "        <li><code>SOS_VERSION</code> is a string for version of the SoS interpreter</li>  \n",
    "        <li><code>CONFIG</code> is a dictionary containing content from multiple system configuration files</li>\n",
    "    </ul>\n",
    "</div>"
   ]
  },
  {
   "cell_type": "markdown",
   "metadata": {
    "kernel": "SoS"
   },
   "source": [
    "SoS provides two system variables, one is `SOS_VERSION`, which is the version of the SoS interpreter, the other one is `CONFIG`, which is a dictionary that contains all the configurations stored in system configuration files, and configurations specified with option `-c` (config).\n",
    "\n",
    "Variable `SOS_VERSION` is just a string"
   ]
  },
  {
   "cell_type": "code",
   "execution_count": 7,
   "metadata": {
    "kernel": "SoS"
   },
   "outputs": [
    {
     "data": {
      "text/plain": [
       "'0.18.2'"
      ]
     },
     "execution_count": 7,
     "metadata": {},
     "output_type": "execute_result"
    }
   ],
   "source": [
    "SOS_VERSION"
   ]
  },
  {
   "cell_type": "markdown",
   "metadata": {
    "kernel": "SoS"
   },
   "source": [
    "Variable `CONFIG` is a dictionary and can be much more complex. For this particular system, it contains keys `localhost`, `hosts`, and `user_name`,  "
   ]
  },
  {
   "cell_type": "code",
   "execution_count": 8,
   "metadata": {
    "kernel": "SoS"
   },
   "outputs": [
    {
     "data": {
      "text/plain": [
       "dict_keys(['localhost', 'hosts', 'user_name'])"
      ]
     },
     "execution_count": 8,
     "metadata": {},
     "output_type": "execute_result"
    }
   ],
   "source": [
    "CONFIG.keys()"
   ]
  },
  {
   "cell_type": "markdown",
   "metadata": {
    "kernel": "SoS"
   },
   "source": [
    "and you can access values in this dictionary just like any other dictionary:"
   ]
  },
  {
   "cell_type": "code",
   "execution_count": 10,
   "metadata": {
    "kernel": "SoS"
   },
   "outputs": [
    {
     "data": {
      "text/plain": [
       "'bpeng1'"
      ]
     },
     "execution_count": 10,
     "metadata": {},
     "output_type": "execute_result"
    }
   ],
   "source": [
    "CONFIG['user_name']"
   ]
  },
  {
   "cell_type": "markdown",
   "metadata": {
    "kernel": "SoS"
   },
   "source": [
    "Note that `CONFIG` only contains content from system configuration files `{SOS_DIRECTORY}/site_config.yml`, `~/.sos/hosts.yml`, and `~/.sos/config.yml`. If you have your own configuration in a file in JSON or YMAL format, you can specify it from command line using option `-c`. The content of that file will then be available in variable `CONFIG`."
   ]
  },
  {
   "cell_type": "markdown",
   "metadata": {
    "kernel": "SoS"
   },
   "source": [
    "For example, using a `report` action, the following workflow creates a `local.yml` file with content\n",
    "```\n",
    "my_setting: 5\n",
    "```"
   ]
  },
  {
   "cell_type": "code",
   "execution_count": 7,
   "metadata": {
    "kernel": "SoS"
   },
   "outputs": [],
   "source": [
    "report: output='local.yml'\n",
    "    my_setting: 5  "
   ]
  },
  {
   "cell_type": "markdown",
   "metadata": {
    "kernel": "SoS"
   },
   "source": [
    "Then, with option `-c local.yml`, the content of this file becomes part of `CONFIG` and can be used as\n",
    "```\n",
    "CONFIG['my_setting']\n",
    "```"
   ]
  },
  {
   "cell_type": "code",
   "execution_count": 6,
   "metadata": {
    "kernel": "SoS"
   },
   "outputs": [
    {
     "data": {
      "text/html": []
     },
     "metadata": {},
     "output_type": "display_data"
    },
    {
     "name": "stdout",
     "output_type": "stream",
     "text": [
      "5\n"
     ]
    }
   ],
   "source": [
    "%run -c local.yml -v0\n",
    "print(CONFIG['my_setting'])"
   ]
  },
  {
   "cell_type": "markdown",
   "metadata": {
    "kernel": "SoS"
   },
   "source": [
    "## Workflow and step identifications"
   ]
  },
  {
   "cell_type": "markdown",
   "metadata": {
    "kernel": "SoS"
   },
   "source": [
    "<div class=\"bs-callout bs-callout-primary\" role=\"alert\">\n",
    "    <h4>Variables <code>step_name</code>, <code>step_id</code>, <code>workflow_id</code> and <code>master_id</code></h4>\n",
    "    <ul>\n",
    "       <li><code>step_name</code>: name of the step\n",
    "<li><code>step_id</code>: Hash ID of the step, which is determined by the content of the step\n",
    "<li><code>workflow_id</code>: Hash ID of the workflow in which the step is defined. It would be the ID of the nested workflow if the workflow is nested.\n",
    "<li><code>master_id</code>: Hash ID of the entire workflow, regardless if the step is defined in a nested workflow.\n",
    "    </ul>\n",
    "</div>"
   ]
  },
  {
   "cell_type": "markdown",
   "metadata": {
    "kernel": "SoS"
   },
   "source": [
    "SoS passes identifications of workflows and steps as variables during the the execution of a step. For example, in the following example, two steps have different step names and workflow IDs because `nested` is a nested workflow, but they share the same `master_id`.  "
   ]
  },
  {
   "cell_type": "code",
   "execution_count": 2,
   "metadata": {
    "kernel": "SoS"
   },
   "outputs": [
    {
     "data": {
      "text/html": []
     },
     "metadata": {},
     "output_type": "display_data"
    },
    {
     "name": "stdout",
     "output_type": "stream",
     "text": [
      "I am step default of workflow 1b2c9e89e2a1a288\n",
      "I am step nested of workflow 343bf780bd093452\n"
     ]
    }
   ],
   "source": [
    "%run -v0\n",
    "[nested]\n",
    "print(f'I am step {step_name} of workflow {workflow_id}')\n",
    "\n",
    "[default]\n",
    "print(f'I am step {step_name} of workflow {workflow_id}')\n",
    "sos_run('nested')"
   ]
  },
  {
   "cell_type": "markdown",
   "metadata": {
    "kernel": "SoS"
   },
   "source": [
    "These variables are mostly used internally although you can use them to create step- or workflow-specific log messages or output files. `step_name`, however, is an exception because it is useful for the creation of steps that can be used by multiple workflows."
   ]
  },
  {
   "cell_type": "markdown",
   "metadata": {
    "kernel": "SoS"
   },
   "source": [
    "For example, if you have a workflow that can handle both human and mouse data, you can define a section that can be used by both workflows. Inside the step, you can use variable `step_name` to determine which workflow is being executed and act accordingly:"
   ]
  },
  {
   "cell_type": "code",
   "execution_count": 4,
   "metadata": {
    "kernel": "SoS"
   },
   "outputs": [
    {
     "data": {
      "text/html": []
     },
     "metadata": {},
     "output_type": "display_data"
    },
    {
     "name": "stdout",
     "output_type": "stream",
     "text": [
      "Using human reference genome\n"
     ]
    }
   ],
   "source": [
    "%run human -v0\n",
    "\n",
    "[human_10, mouse_10]\n",
    "if 'human' in step_name:\n",
    "   print(\"Using human reference genome\")\n",
    "else:\n",
    "   print(\"Using mouse reference genome\")\n"
   ]
  },
  {
   "cell_type": "markdown",
   "metadata": {
    "kernel": "SoS"
   },
   "source": [
    "## Runtime variables for steps and substeps"
   ]
  },
  {
   "cell_type": "markdown",
   "metadata": {
    "kernel": "SoS"
   },
   "source": [
    "#### `step_input` and `_input`"
   ]
  },
  {
   "cell_type": "markdown",
   "metadata": {
    "kernel": "SoS"
   },
   "source": [
    "In SoS, the `input` statement mostly creates a `step_input` object with provided parameters. That is to say,\n",
    "\n",
    "```\n",
    "input: 'a.txt', 'b.txt', group_by=1\n",
    "```\n",
    "is almost equivalent to\n",
    "\n",
    "```\n",
    "step_input = sos_targets('a.txt', 'b.txt', group_by=1)\n",
    "```\n",
    "and we can use `sos_targets` objects directly in an `input` statement in more complicated cases."
   ]
  },
  {
   "cell_type": "markdown",
   "metadata": {
    "kernel": "SoS"
   },
   "source": [
    "## Variables defined in global sections"
   ]
  },
  {
   "cell_type": "markdown",
   "metadata": {
    "kernel": "SoS"
   },
   "source": [
    "Global sections of a workflow can be considered as part of the step process. As a matter of fact, because steps and substeps are executed in separate processes, statements in global sections will be executed repeatedly for each step and substep. Consequently, you can use variables or parameters defined in the global sections in each step."
   ]
  },
  {
   "cell_type": "code",
   "execution_count": 7,
   "metadata": {
    "kernel": "SoS"
   },
   "outputs": [
    {
     "data": {
      "text/html": []
     },
     "metadata": {},
     "output_type": "display_data"
    },
    {
     "name": "stdout",
     "output_type": "stream",
     "text": [
      "Preparing A23\n",
      "Processing A23\n"
     ]
    }
   ],
   "source": [
    "%run --sample=A23 -v0\n",
    "\n",
    "[global]\n",
    "parameter: sample=str\n",
    "\n",
    "[A_1]\n",
    "print(f'Preparing {sample}')\n",
    "\n",
    "[A_2]\n",
    "print(f'Processing {sample}')"
   ]
  },
  {
   "cell_type": "markdown",
   "metadata": {
    "kernel": "SoS"
   },
   "source": [
    "However, because steps are executed separately, although variables defined by the global section are shared by all steps, changing these variables in a step will not affect variables in other steps:"
   ]
  },
  {
   "cell_type": "code",
   "execution_count": 8,
   "metadata": {
    "kernel": "SoS"
   },
   "outputs": [
    {
     "data": {
      "text/html": []
     },
     "metadata": {},
     "output_type": "display_data"
    },
    {
     "name": "stdout",
     "output_type": "stream",
     "text": [
      "Preparing A23\n",
      "Processing A23\n"
     ]
    }
   ],
   "source": [
    "%run --sample=A23 -v0\n",
    "\n",
    "[global]\n",
    "parameter: sample=str\n",
    "\n",
    "[A_1]\n",
    "print(f'Preparing {sample}')\n",
    "sample = 'Another name'\n",
    "\n",
    "[A_2]\n",
    "print(f'Processing {sample}')"
   ]
  },
  {
   "cell_type": "markdown",
   "metadata": {
    "kernel": "SoS"
   },
   "source": [
    "## Variables passed from output of other steps"
   ]
  },
  {
   "cell_type": "markdown",
   "metadata": {
    "kernel": "SoS"
   },
   "source": [
    "`_output` of a step is a `sos_target` object. Similar to other SoS targets, you can attach variables to this variable. Interestingly, when `_output` is passed to another step and becomes the `_input` of a substep, its associated variables will be accessible from the substep.\n",
    "\n",
    "For example, in the following workflow, an attribute `my_i` is assigned to each `_output` with value of variable `i`. When step `20` inherits the output of step `10` and executes the substeps, `my_i` becomes available to each substep."
   ]
  },
  {
   "cell_type": "code",
   "execution_count": 10,
   "metadata": {
    "kernel": "SoS"
   },
   "outputs": [
    {
     "data": {
      "text/html": []
     },
     "metadata": {},
     "output_type": "display_data"
    },
    {
     "name": "stdout",
     "output_type": "stream",
     "text": [
      "0\n",
      "1\n"
     ]
    }
   ],
   "source": [
    "%run -v0\n",
    "[10]\n",
    "input: for_each=dict(i=range(2))\n",
    "output: f'test_{i}.txt'\n",
    "_output.touch()\n",
    "_output.set(my_i=i)\n",
    "\n",
    "[20]\n",
    "print(my_i)"
   ]
  },
  {
   "cell_type": "markdown",
   "metadata": {
    "kernel": "SoS"
   },
   "source": [
    "The same holds for outputs imported by functions `named_output` and `output_from`. For example, the use of `output_from('A')` in the following workflow imports the `step_output` and its groups from step `A`, and `my_i` attached to `_input` becomes available in the substeps of `default`."
   ]
  },
  {
   "cell_type": "code",
   "execution_count": 11,
   "metadata": {
    "kernel": "SoS"
   },
   "outputs": [
    {
     "data": {
      "text/html": []
     },
     "metadata": {},
     "output_type": "display_data"
    },
    {
     "name": "stdout",
     "output_type": "stream",
     "text": [
      "0\n",
      "1\n"
     ]
    }
   ],
   "source": [
    "%run -v0\n",
    "[A]\n",
    "input: for_each=dict(i=range(2))\n",
    "output: f'test_{i}.txt'\n",
    "_output.touch()\n",
    "_output.set(my_i=i)\n",
    "\n",
    "[default]\n",
    "input: output_from('A')\n",
    "print(my_i)"
   ]
  },
  {
   "cell_type": "markdown",
   "metadata": {
    "kernel": "SoS"
   },
   "source": [
    "<div class=\"bs-callout bs-callout-warning\" role=\"alert\">\n",
    "    <h4>Inherited output variables can be tricky to use</h4>\n",
    "    <p>Whereas attaching variables to <code>_output</code> allows you to attach information to output of a step and pass such information around with them, use of such variables can be tricky because they are defined implicitly by <code>_output.set()</code> and can appear magical to users who are not familiar with SoS.</p>\n",
    "</div>"
   ]
  },
  {
   "cell_type": "markdown",
   "metadata": {
    "kernel": "SoS"
   },
   "source": [
    "## Variables shared from other steps"
   ]
  },
  {
   "cell_type": "markdown",
   "metadata": {
    "kernel": "SoS"
   },
   "source": [
    "<div class=\"bs-callout bs-callout-primary\" role=\"alert\">\n",
    "    <h4>Sharing variables between steps</h4>\n",
    "    <p>Sharing of variables can be achieved by using <code>shared</code> section option from the source step and <code>depends: sos_variable(name)</code> from the destination step. The usage pattern is</p>\n",
    "    <pre>\n",
    "    [A: shared='var']\n",
    "    var = ...\n",
    "    ...\n",
    "    [B]\n",
    "    depends: sos_variable('var')\n",
    "    </pre>\n",
    "</div>"
   ]
  },
  {
   "cell_type": "markdown",
   "metadata": {
    "kernel": "SoS"
   },
   "source": [
    "Finally, if you really want to access variables created in another step, you will have to explicitly `share` that variable between the steps. For example, in the following workflow, a variable `var` is defined in step `A`, which is exposed to other steps through the `shared` step option. In step `default`, a `depends: sos_variable('var')` is defined to makes sure that step `A` is executed before step `default`, and transfers variables from `A` to `default`."
   ]
  },
  {
   "cell_type": "code",
   "execution_count": 12,
   "metadata": {
    "kernel": "SoS"
   },
   "outputs": [
    {
     "data": {
      "text/html": []
     },
     "metadata": {},
     "output_type": "display_data"
    },
    {
     "name": "stdout",
     "output_type": "stream",
     "text": [
      "3\n"
     ]
    }
   ],
   "source": [
    "%run -v0\n",
    "\n",
    "[A: shared='var']\n",
    "var = 3\n",
    "\n",
    "[default]\n",
    "depends: sos_variable('var')\n",
    "print(var)"
   ]
  },
  {
   "cell_type": "markdown",
   "metadata": {
    "kernel": "SoS"
   },
   "source": [
    "Tutorial [How to pass variables between SoS steps](doc/user_guide/shared_variables.html) describes the `shared` section option in more detail."
   ]
  },
  {
   "cell_type": "markdown",
   "metadata": {
    "kernel": "SoS"
   },
   "source": [
    "## Further reading\n",
    "\n",
    "* [How to attach variables to files and groups of files](doc/user_guide/paired_group_with.html)\n",
    "* [How to pass variables between SoS steps](doc/user_guide/shared_variables.html)"
   ]
  }
 ],
 "metadata": {
  "kernelspec": {
   "display_name": "SoS",
   "language": "sos",
   "name": "sos"
  },
  "language_info": {
   "codemirror_mode": "sos",
   "file_extension": ".sos",
   "mimetype": "text/x-sos",
   "name": "sos",
   "nbconvert_exporter": "sos_notebook.converter.SoS_Exporter",
   "pygments_lexer": "sos"
  },
  "sos": {
   "kernels": [
    [
     "Bash",
     "bash",
     "Bash",
     "#E6EEFF"
    ],
    [
     "R",
     "ir",
     "R",
     "#DCDCDA"
    ],
    [
     "SoS",
     "sos",
     "",
     ""
    ]
   ],
   "panel": {
    "displayed": true,
    "height": 0
   },
   "version": "0.17.5"
  }
 },
 "nbformat": 4,
 "nbformat_minor": 2
}
