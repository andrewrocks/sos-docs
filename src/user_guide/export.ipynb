{
 "cells": [
  {
   "cell_type": "markdown",
   "metadata": {
    "kernel": "SoS"
   },
   "source": [
    "# How to export workflows or report to HTML, pdf, and other formats"
   ]
  },
  {
   "cell_type": "markdown",
   "metadata": {
    "kernel": "SoS"
   },
   "source": [
    "* **Difficulty level**: easy\n",
    "* **Time need to lean**: 10 minutes or less\n",
    "* **Key points**:\n",
    "\n",
    "  "
   ]
  },
  {
   "cell_type": "markdown",
   "metadata": {
    "kernel": "SoS"
   },
   "source": [
    "## ipynb -> HTML\n",
    "\n",
    "Command `sos convert my.ipynb my.html --template` essentially calls `jupyter nbconvert --to html` to convert notebook to HTML format, with additional templates provided by SoS Notebook.\n",
    "\n",
    "SoS provides the following templates\n",
    "\n",
    "| template | code highlighting | TOC | Hide Cell | Suit for |\n",
    "| -- | -- | -- | -- | --|\n",
    "| `sos-full` | jupyter | no | no | static short report |\n",
    "| `sos-cm` | SoS CodeMirror | no | no | output similar to notebook interface |\n",
    "| `sos-report` | jupyter | no | yes | static report with hidden details |\n",
    "| `sos-full-toc` | jupyter | yes | no | static long report |\n",
    "| `sos-cm-toc` | SoS CodeMirror | yes | none | output of long notebook with notebook interface |\n",
    "| `sos-report-toc` | jupyter | yes | yes | long report with hidden details |\n",
    "\n",
    "Where:\n",
    "* **code highlighting**: Jupyter can hilight sos source code using a static syntax hilighter. The output is lightweight but not as nice as the codemirror highlighter.\n",
    "* **TOC**: Automatically generate a table of content to the left of the page.\n",
    "* **Hide Cell**: HTML page by default only displays only markdown and selected ouptput cells (cells with `report_cell` tag, output of cells with `report_output` tag). A control panel to the left top corner of the page can be used to show all content"
   ]
  },
  {
   "cell_type": "markdown",
   "metadata": {
    "kernel": "SoS"
   },
   "source": [
    "## ipynb -> pdf\n",
    "This command essentially calls command `jupyter nbconvert --to pdf` to convert notebook to PDF format. "
   ]
  },
  {
   "cell_type": "markdown",
   "metadata": {
    "kernel": "SoS"
   },
   "source": [
    "## ipynb -> md\n",
    "This command essentially calls command `jupyter nbconvert --to markdown` to convert notebook to Markdown format. "
   ]
  },
  {
   "cell_type": "markdown",
   "metadata": {
    "kernel": "SoS"
   },
   "source": [
    "## ipynb -> ipynb"
   ]
  },
  {
   "cell_type": "markdown",
   "metadata": {
    "kernel": "SoS"
   },
   "source": [
    "This command converts a Jupyter notebook in another kernel to a SoS notebook, with the original kernel language as the language of each code cell.\n",
    "\n",
    "If the original notebook has kernel `python3`, an option `--python3-to-sos` can be used to convert code cells to `SoS`.\n",
    "\n",
    "This converter will copy the input notebook to output if the notebook is already a SoS notebook. However, if an option `--inplace` is specified, it will overwrite the original notebook with the converted one.\n",
    "\n",
    "Note that if you already have a non-SoS notebook opened in Jupyter, you can simply use\n",
    "\n",
    "`Kernel` -> `Change kernel` -> `sos`\n",
    "\n",
    "to convert the kernel to SoS. You can then use the global language selector to select the appropriate default langauge for the notebook and re-execute the notebook to set the language to each cell."
   ]
  },
  {
   "cell_type": "markdown",
   "metadata": {
    "kernel": "SoS"
   },
   "source": [
    "## Further reading\n",
    "\n",
    "* "
   ]
  }
 ],
 "metadata": {
  "kernelspec": {
   "display_name": "SoS",
   "language": "sos",
   "name": "sos"
  },
  "language_info": {
   "codemirror_mode": "sos",
   "file_extension": ".sos",
   "mimetype": "text/x-sos",
   "name": "sos",
   "nbconvert_exporter": "sos_notebook.converter.SoS_Exporter",
   "pygments_lexer": "sos"
  },
  "sos": {
   "kernels": [
    [
     "Bash",
     "bash",
     "Bash",
     "#E6EEFF"
    ],
    [
     "R",
     "ir",
     "R",
     "#DCDCDA"
    ],
    [
     "SoS",
     "sos",
     "",
     ""
    ]
   ],
   "panel": {
    "displayed": true,
    "height": 0
   },
   "version": "0.17.5"
  }
 },
 "nbformat": 4,
 "nbformat_minor": 2
}
