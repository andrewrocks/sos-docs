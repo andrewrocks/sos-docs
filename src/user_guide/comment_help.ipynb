{
 "cells": [
  {
   "cell_type": "markdown",
   "metadata": {
    "kernel": "SoS"
   },
   "source": [
    "# Title"
   ]
  },
  {
   "cell_type": "markdown",
   "metadata": {
    "kernel": "SoS"
   },
   "source": [
    "* **Difficulty level**: easy\n",
    "* **Time need to lean**: 10 minutes or less\n",
    "* **Key points**:\n",
    "  * a\n",
    "  "
   ]
  },
  {
   "cell_type": "markdown",
   "metadata": {
    "kernel": "SoS"
   },
   "source": [
    "## Comments and help message"
   ]
  },
  {
   "cell_type": "markdown",
   "metadata": {
    "kernel": "SoS"
   },
   "source": [
    "If you have a sos script in either `.sos` or `.ipynb` format, you can use command\n",
    "```\n",
    "sos run script -h\n",
    "```\n",
    "to get the help information of the script. Because this feature is not available within SoS notebook (because `%sos -h` and `%sosrun -h` will only show help message for the magics, not the script), let us create a script"
   ]
  },
  {
   "cell_type": "code",
   "execution_count": 89,
   "metadata": {
    "kernel": "SoS"
   },
   "outputs": [],
   "source": [
    "report: output='work_play.sos'\n",
    "  #!/usr/bin/env sos-runner\n",
    "  #fileformat=SOS1.0\n",
    "  #\n",
    "  # Author: Bo Peng\n",
    "\n",
    "  # This is a workflow for the demonstration of the use of\n",
    "  # comments in SoS script\n",
    "  \n",
    "  # This is some other comment\n",
    "\n",
    "  # Friend to work or play with\n",
    "  parameter: friend=str\n",
    "\n",
    "\n",
    "  # This is step 10 workflow work\n",
    "  # that generates an output\n",
    "  [work_10]\n",
    "  output: 'output.txt'\n",
    "  # comment for code, not included in help message\n",
    "  sh: expand=True\n",
    "      echo \"Working with {friend} to generating {_output}\"\n",
    "      touch {_output}\n",
    "\n",
    "\n",
    "  # This is workflow play\n",
    "  [play]\n",
    "  # game to play\n",
    "  parameter: game = 'chess'\n",
    "  sh: expand=True\n",
    "    echo I am playing {game} with {friend}"
   ]
  },
  {
   "cell_type": "markdown",
   "metadata": {
    "kernel": "SoS"
   },
   "source": [
    "The `report` magic writes the script to specified file `work_play.sos`. If we execute the script with `-h` option, the following help message will be displayed. As you can see\n",
    "\n",
    "1. The second comment block is the description of the script. This is where you introduce the purpose of the workflows.\n",
    "2. Comments immediately before section header and `parameter:` definitions decome the descriptions of the sections and parameters.\n",
    "\n",
    "Other comments are ignored and will not be displayed in the help message. In particular, the first comment is reserved for shebang line (`#!/usr/bin/env sos-runer`) and other information such as revision log."
   ]
  },
  {
   "cell_type": "code",
   "execution_count": 90,
   "metadata": {
    "kernel": "SoS"
   },
   "outputs": [
    {
     "name": "stdout",
     "output_type": "stream",
     "text": [
      "usage: sos run work_play [workflow_name | -t targets] [options] [workflow_options]\n",
      "  workflow_name:        Single or combined workflows defined in this script\n",
      "  targets:              One or more targets to generate\n",
      "  options:              Single-hyphen sos parameters (see \"sos run -h\" for details)\n",
      "  workflow_options:     Double-hyphen workflow-specific parameters\n",
      "\n",
      "This is a workflow for the demonstration of the use of\n",
      "comments in SoS script\n",
      "\n",
      "Workflows:\n",
      "  work\n",
      "  play\n",
      "\n",
      "Targets:\n",
      "  output.txt\n",
      "\n",
      "Global Workflow Options:\n",
      "  --friend VAL (as str, required)\n",
      "                        Friend to work or play with\n",
      "\n",
      "Sections\n",
      "  work_10:              This is step 10 workflow work that generates an output\n",
      "  play:                 This is workflow play\n",
      "    Workflow Options:\n",
      "      --game chess\n",
      "                        game to play\n"
     ]
    }
   ],
   "source": [
    "!sos run work_play -h"
   ]
  },
  {
   "cell_type": "markdown",
   "metadata": {
    "kernel": "SoS"
   },
   "source": [
    "The help message lists the workflows and targets available in the script, and global and section specific parameters. For example, according to the message, you can execute a workflow `play` with a global required parameter `friend` and workflow specific parameter `game`, "
   ]
  },
  {
   "cell_type": "code",
   "execution_count": 91,
   "metadata": {
    "kernel": "SoS"
   },
   "outputs": [
    {
     "name": "stdout",
     "output_type": "stream",
     "text": [
      "I am playing chinese chess with Joe\n"
     ]
    }
   ],
   "source": [
    "!sos run work_play play --friend Joe --game 'chinese chess' -v1"
   ]
  },
  {
   "cell_type": "markdown",
   "metadata": {
    "kernel": "SoS"
   },
   "source": [
    "Or you can execute the workflow to generate specified target"
   ]
  },
  {
   "cell_type": "code",
   "execution_count": 92,
   "metadata": {
    "kernel": "SoS"
   },
   "outputs": [],
   "source": [
    "!sos run work_play -t output.txt --friend Joe -v1"
   ]
  },
  {
   "cell_type": "markdown",
   "metadata": {
    "kernel": "SoS"
   },
   "source": [
    "## Further reading\n",
    "\n",
    "* "
   ]
  }
 ],
 "metadata": {
  "kernelspec": {
   "display_name": "SoS",
   "language": "sos",
   "name": "sos"
  },
  "language_info": {
   "codemirror_mode": "sos",
   "file_extension": ".sos",
   "mimetype": "text/x-sos",
   "name": "sos",
   "nbconvert_exporter": "sos_notebook.converter.SoS_Exporter",
   "pygments_lexer": "sos"
  },
  "sos": {
   "kernels": [
    [
     "Bash",
     "bash",
     "Bash",
     "#E6EEFF"
    ],
    [
     "R",
     "ir",
     "R",
     "#DCDCDA"
    ],
    [
     "SoS",
     "sos",
     "",
     ""
    ]
   ],
   "panel": {
    "displayed": true,
    "height": 0
   },
   "version": "0.17.4"
  }
 },
 "nbformat": 4,
 "nbformat_minor": 2
}
