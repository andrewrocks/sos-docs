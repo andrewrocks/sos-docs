{
 "cells": [
  {
   "cell_type": "markdown",
   "metadata": {
    "kernel": "SoS"
   },
   "source": [
    "# How to work with a PBS/Torque cluster system"
   ]
  },
  {
   "cell_type": "markdown",
   "metadata": {
    "kernel": "SoS"
   },
   "source": [
    "* **Difficulty level**: easy\n",
    "* **Time need to lean**: 10 minutes or less\n",
    "* **Key points**:\n",
    "  * a\n",
    "  "
   ]
  },
  {
   "cell_type": "markdown",
   "metadata": {
    "kernel": "SoS",
    "output_cache": "[]"
   },
   "source": [
    "#### `queue_type`"
   ]
  },
  {
   "cell_type": "markdown",
   "metadata": {
    "kernel": "SoS",
    "output_cache": "[]"
   },
   "source": [
    "Option `query_type` determines the type of remote server or job queue. SoS currently supports the following types of job queues:\n",
    "\n",
    "1. **`process`**: this is the default queue type. Tasks are executed directly, either on local host or on a server.\n",
    "2. **`pbs`**: A PBS/MOAB/LFS/Slurm cluster system where tasks are submitted using commands such as `qsub`.\n",
    "3. **`rq`**: A redis queue where tasks are submitted to the rq server and monitored through rq-dashboard."
   ]
  },
  {
   "cell_type": "markdown",
   "metadata": {
    "kernel": "SoS",
    "output_cache": "[]"
   },
   "source": [
    "### PBS/Torch configuration"
   ]
  },
  {
   "cell_type": "markdown",
   "metadata": {
    "kernel": "SoS",
    "output_cache": "[]"
   },
   "source": [
    "#### `job_template`"
   ]
  },
  {
   "cell_type": "markdown",
   "metadata": {
    "kernel": "SoS"
   },
   "source": [
    "Option `job_template` is a template of a shell script that will be submitted to the PBS system. A typical template would be specified as (using a multi-line string literal of YAML \n",
    "\n",
    "```bash\n",
    "hosts:\n",
    "  server:\n",
    "    job_template: |\n",
    "      #!/bin/bash\n",
    "      #PBS -N {task}\n",
    "      #PBS -l nodes=1:ppn={cores}\n",
    "      #PBS -l walltime={walltime}\n",
    "      #PBS -l mem={mem//10**6}MB\n",
    "      #PBS -o {cur_dir}/{task}.out\n",
    "      #PBS -e {cur_dir}/{task}.err\n",
    "      #PBS -q long\n",
    "      #PBS -m ae\n",
    "      #PBS -M your@email.address\n",
    "      #PBS -v {cur_dir}\n",
    "      \n",
    "      cd {cur_dir}\n",
    "      \n",
    "      sos execute {task} -v {verbosity} -s {sig_mode} \\\n",
    "        {'--dryrun' if run_mode == 'dryrun' else ''}\n",
    "```\n",
    "\n",
    "The template will be interpolated with the following information\n",
    "\n",
    "* `task`: task id\n",
    "* `nodes`, `cores`, `walltime`, `mem`: resource task options\n",
    "* `cur_dir`:  current project directory, which will be translated to path in remote host if the task is executed remotely\n",
    "* `verbosity` and `sig_mode`: sos run mode.\n",
    "* `run_mode` to allow the script to be executed in dryrun mode, in which mode scripts would be printed instead of executed. It is very important to set this option because the job script would be executed directly (on head node) instead of sent to the PBS queue if sos is running in dryrun mode (`sos run -q pbs -n`).\n",
    "* Other key/value pairs you defined for the server\n",
    "\n",
    "Note that\n",
    "1. You will need to specify resource options (`nodes`, `cores`, `walltime`, and `mem`) as task options if they are used in the job template without default values.\n",
    "2. If you need to specify more options (e.g. queue name), you can define multiple host entries with different options, for example, a `cluster-short` and a `cluster-long` on the same cluster.\n",
    "3. Alternatively, it is possible to derive the options from existing runtime options. For example, you could put a task to long queue if it runs more than 24 hours\n",
    "\n",
    "    ```\n",
    "    #PBS -q {'long' if int(walltime.split(':')[0]) > 24 else 'short'}\n",
    "    ```\n"
   ]
  },
  {
   "cell_type": "markdown",
   "metadata": {
    "kernel": "SoS",
    "output_cache": "[]"
   },
   "source": [
    "#### `submit_cmd`"
   ]
  },
  {
   "cell_type": "markdown",
   "metadata": {
    "kernel": "SoS",
    "output_cache": "[]"
   },
   "source": [
    "A `submit_cmd` template is the command that will be executed to submit the job. It accepts the same set of variables as `job_template`, with an additional variable `job_file` pointing to the location of the job file on the remote host. The `submit_cmd` is usually as simple as\n",
    "\n",
    "```bash\n",
    "qsub {job_file}\n",
    "```\n",
    "\n",
    "but you could specify some options from command line instead of the job file and define `submit_cmd` as\n",
    "\n",
    "```bash\n",
    "msub -l {walltime} < {job_file}\n",
    "```"
   ]
  },
  {
   "cell_type": "markdown",
   "metadata": {
    "kernel": "SoS",
    "output_cache": "[]"
   },
   "source": [
    "#### `submit_cmd_output`"
   ]
  },
  {
   "cell_type": "markdown",
   "metadata": {
    "kernel": "SoS",
    "output_cache": "[]"
   },
   "source": [
    "This option specifies the output of the `submit_cmd` command and let SoS know how to extract `job_id` and other information from it. For example, for a regular PBS system, the output is simply the `job_id` (stripping spaces and newlines).\n",
    "\n",
    "```\n",
    "submit_cmd_output='{job_id}'\n",
    "```\n",
    "\n",
    "On a LSF system, the output should be similar to\n",
    "\n",
    "```\n",
    "submit_cmd_output='Job <{job_id}> is submitted to queue <{queue}>'\n",
    "```\n",
    "\n",
    "The information extracted (namely variables defined) from `submit_cmd` can be used for other commands such as `status_cmd`. \n",
    "\n",
    "This option is defult to `{job_id}`."
   ]
  },
  {
   "cell_type": "markdown",
   "metadata": {
    "kernel": "SoS",
    "output_cache": "[]"
   },
   "source": [
    "#### `status_cmd`"
   ]
  },
  {
   "cell_type": "markdown",
   "metadata": {
    "kernel": "SoS",
    "output_cache": "[]"
   },
   "source": [
    "An command to query the status of a submitted task. For a standard PBS system, this option could be\n",
    "\n",
    "```\n",
    "qstat {job_id}\n",
    "```\n",
    "\n",
    "where `job_id` is the output of command `submit_cmd`. The `status_cmd` is interpolated with variables `job_id` (PBS job ID), `task` (SoS task id), and `verbosity` (command line verbosity level) so you would adjust options for different verbosity level (e.g. `{'-f' if verbosity > 2 else ''}`).\n",
    "\n",
    "Note that the `status_cmd` is only called with `-v 2` or higher."
   ]
  },
  {
   "cell_type": "markdown",
   "metadata": {
    "kernel": "SoS",
    "output_cache": "[]"
   },
   "source": [
    "#### `kill_cmd`"
   ]
  },
  {
   "cell_type": "markdown",
   "metadata": {
    "kernel": "SoS",
    "output_cache": "[]"
   },
   "source": [
    "A command to kill a submitted job on the cluster. For a standard PBS system, this option could be\n",
    "\n",
    "```\n",
    "qdel {job_id}\n",
    "```\n",
    "where `job_id` is the output of command `submit_cmd`."
   ]
  },
  {
   "cell_type": "markdown",
   "metadata": {
    "kernel": "SoS"
   },
   "source": [
    "#### Sample PBS/Torch configuration"
   ]
  },
  {
   "cell_type": "markdown",
   "metadata": {
    "kernel": "SoS"
   },
   "source": [
    "```\n",
    "    cluster:\n",
    "        address: host.url\n",
    "        description: cluster with PBS\n",
    "        paths:\n",
    "            home: /scratch/{user_name}\n",
    "        queue_type: pbs\n",
    "        status_check_interval: 30\n",
    "        wait_for_task: false\n",
    "        job_template: |\n",
    "            #!/bin/bash\n",
    "            #PBS -N {task}\n",
    "            #PBS -l nodes={nodes}:ppn={ppn}\n",
    "            #PBS -l walltime={walltime}\n",
    "            #PBS -l mem={mem//10**9}GB\n",
    "            #PBS -o {home_dir}/.sos/tasks/{task}.out\n",
    "            #PBS -e {home_dir}/.sos/tasks/{task}.err\n",
    "            #PBS -m ae\n",
    "            #PBS -M email@address\n",
    "            #PBS -v {cur_dir}\n",
    "            cd {cur_dir}\n",
    "            sos execute {task} -v {verbosity} -s {sig_mode} {'--dryrun' if run_mode == 'dryrun' else ''}        max_running_jobs: 100\n",
    "        submit_cmd: qsub {job_file}\n",
    "        status_cmd: qstat {job_id}\n",
    "        kill_cmd: qdel {job_id}\n",
    "```"
   ]
  },
  {
   "cell_type": "markdown",
   "metadata": {
    "kernel": "SoS"
   },
   "source": [
    "#### Sample MOAB configuration"
   ]
  },
  {
   "cell_type": "markdown",
   "metadata": {
    "kernel": "SoS"
   },
   "source": [
    "```\n",
    "    cluster:\n",
    "        address: host.url\n",
    "        description: cluster with MOAB\n",
    "        paths:\n",
    "            home: /scratch/{user_name}\n",
    "        queue_type: pbs\n",
    "        status_check_interval: 30\n",
    "        wait_for_task: false\n",
    "        job_template: |\n",
    "            #!/bin/bash\n",
    "            #PBS -N {task}\n",
    "            #PBS -l nodes={nodes}:ppn={ppn}\n",
    "            #PBS -l walltime={walltime}\n",
    "            #PBS -l mem={mem//10**9}GB\n",
    "            #PBS -o {home_dir}/.sos/tasks/{task}.out\n",
    "            #PBS -e {home_dir}/.sos/tasks/{task}.err\n",
    "            #PBS -m ae\n",
    "            #PBS -M email@address\n",
    "            #PBS -v {cur_dir}\n",
    "            cd {cur_dir}\n",
    "            sos execute {task} -v {verbosity} -s {sig_mode} {'--dryrun' if run_mode == 'dryrun' else ''}        max_running_jobs: 100\n",
    "        submit_cmd: msub {job_file}\n",
    "        status_cmd: qstat {job_id}\n",
    "        kill_cmd: qdel {job_id}\n",
    "```"
   ]
  },
  {
   "cell_type": "markdown",
   "metadata": {
    "kernel": "SoS"
   },
   "source": [
    "## Further reading\n",
    "\n",
    "* "
   ]
  }
 ],
 "metadata": {
  "kernelspec": {
   "display_name": "SoS",
   "language": "sos",
   "name": "sos"
  },
  "language_info": {
   "codemirror_mode": "sos",
   "file_extension": ".sos",
   "mimetype": "text/x-sos",
   "name": "sos",
   "nbconvert_exporter": "sos_notebook.converter.SoS_Exporter",
   "pygments_lexer": "sos"
  },
  "sos": {
   "kernels": [
    [
     "Bash",
     "bash",
     "Bash",
     "#E6EEFF"
    ],
    [
     "R",
     "ir",
     "R",
     "#DCDCDA"
    ],
    [
     "SoS",
     "sos",
     "",
     ""
    ]
   ],
   "panel": {
    "displayed": true,
    "height": 0
   },
   "version": "0.17.5"
  }
 },
 "nbformat": 4,
 "nbformat_minor": 2
}
