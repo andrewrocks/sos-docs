{
 "cells": [
  {
   "cell_type": "markdown",
   "metadata": {
    "kernel": "SoS"
   },
   "source": [
    "# Execution of tasks on remote hosts, an overview"
   ]
  },
  {
   "cell_type": "markdown",
   "metadata": {
    "kernel": "SoS"
   },
   "source": [
    "* **Difficulty level**: intermediate\n",
    "* **Time need to lean**: 30 minutes or less\n",
    "* **Key points**:\n",
    "  * A configuration file specifies how SoS should interact with a remote host\n",
    "  * Tasks should be written in a way that can be executed remotely\n",
    "  * Tasks can be submitted to remote hosts with option `-q`"
   ]
  },
  {
   "cell_type": "markdown",
   "metadata": {
    "kernel": "SoS"
   },
   "source": [
    "This tutorial gives an overview of the SoS task model and steps to submit tasks to remote hosts."
   ]
  },
  {
   "cell_type": "markdown",
   "metadata": {
    "kernel": "SoS"
   },
   "source": [
    "## How remote task execution works"
   ]
  },
  {
   "cell_type": "markdown",
   "metadata": {
    "kernel": "SoS"
   },
   "source": [
    "<p align=\"center\">\n",
    "  <img src=\"https://vatlab.github.io/sos-docs/doc/media/task_overview.png\" width=\"80%\">\n",
    "</p>"
   ]
  },
  {
   "cell_type": "markdown",
   "metadata": {
    "kernel": "SoS"
   },
   "source": [
    "Executing tasks on remote hosts is generally easy once everything is set up correctly, but  can be very tricky if you do not have a clear idea how things work. As illustrated avove, here is a summary of how SoS execute tasks on remote hosts:\n",
    "\n",
    "**Step 1: Prepare task**\n",
    "* SoS generates a task file, which contains information such as the content of the task (e.g. script to execute) and environments (variables, parameter etc).\n",
    "* If the remote system is a batch system such as `PBS`, `SLURM` and `LSF`, a shell script is generated from a host-specific template. \n",
    "\n",
    "**Step 2: Copying tasks and reuired files to remote host**\n",
    "* SoS prepares the task file to be executed on the remote host. It essentially records the path definitions of remote host so that the task can be executed with correct paths.\n",
    "* SoS copies the task file, shell script, and sometimes input files to remote host using `rsync` or `rcp`.\n",
    "\n",
    "**Step 3: Execute task remotely, optionally througgh a task queue**\n",
    "* If the remote system is not a batch system, a `sos execute task_id` is started on the remote host (through `ssh`) to execute the task.\n",
    "* If the remote system is a batch system, a system-dependent command (e.g. `qsub task_id.sh`) is executed on the remote host to submit the task to the scheduler. The shell script is essentially a wrapper to the `sos execute` command.\n",
    "\n",
    "**Step 4: Monitor the execute of jobs**\n",
    "* The task is run on remote host, either directly or by a batch system.\n",
    "* SoS periodically sends a `sos status` command to remote host to check the status of the task.\n",
    "\n",
    "**Step 5: Retrieve its result once it is done**\n",
    "* Once the task is completed, SoS copies the task file and specified output file back to local host."
   ]
  },
  {
   "cell_type": "markdown",
   "metadata": {
    "kernel": "SoS"
   },
   "source": [
    "This tutorial walks through the setup and execution of remote tasks through simple examples. I will be using a Ubuntu VM with a task-spooler program that mimics a task queue system, and I will make some intentional errors to show how things work."
   ]
  },
  {
   "cell_type": "markdown",
   "metadata": {
    "kernel": "SoS"
   },
   "source": [
    "## One-time system configuration"
   ]
  },
  {
   "cell_type": "markdown",
   "metadata": {
    "kernel": "SoS"
   },
   "source": [
    "SoS requires public-key access to remote hosts and tools such as `ssh`, `rsync` and `scp` to copy files. Unlike other programs that require a deamon process (a service) on the server to coordinate the execution of tasks, SoS relies on a basic remote access toolchain to access the remote host and execute commands remotely, which makes it easy to deploy SoS to a majority of the servers."
   ]
  },
  {
   "cell_type": "markdown",
   "metadata": {
    "kernel": "SoS"
   },
   "source": [
    "### 1. Describe the host in `~/.sos/hosts.yml`"
   ]
  },
  {
   "cell_type": "markdown",
   "metadata": {
    "kernel": "SoS"
   },
   "source": [
    "A VM is created with basic system and a SSH server. After getting the IP address of the VM with commna `ifconfig`, it is time to add it to SoS host definition file `~/.sos/hosts.yml`."
   ]
  },
  {
   "cell_type": "markdown",
   "metadata": {
    "kernel": "SoS"
   },
   "source": [
    "Here I create such a file using the `report` action where\n",
    "\n",
    "1. `localhost` specifies the machine I am working on, which is a Mac Pro desktop.\n",
    "2. `vm` specifies the remote host, with `192.169.47.134` being the IP address of the VM.\n",
    "3. Two `paths` named `home` and `project` are defined for each host."
   ]
  },
  {
   "cell_type": "code",
   "execution_count": 3,
   "metadata": {
    "kernel": "SoS"
   },
   "outputs": [],
   "source": [
    "report: output='~/.sos/hosts.yml'\n",
    "\n",
    "    localhost: macpro\n",
    "    hosts:\n",
    "        macpro:\n",
    "            address: localhost\n",
    "            paths:\n",
    "                home:  /Users/{user_name}\n",
    "                project: /Users/{user_name}/Documents\n",
    "        vm:\n",
    "            address: 192.168.47.134\n",
    "            paths:\n",
    "                home: /home/{user_name}\n",
    "                project: /home/{user_name}/projects"
   ]
  },
  {
   "cell_type": "markdown",
   "metadata": {
    "kernel": "SoS"
   },
   "source": [
    "### 2. Set up public-key access to the server"
   ]
  },
  {
   "cell_type": "markdown",
   "metadata": {
    "kernel": "SoS"
   },
   "source": [
    "There are plenty of online tutorials for setting up public-key access to remote hosts. You can do this manually or simply enter the following command"
   ]
  },
  {
   "cell_type": "code",
   "execution_count": null,
   "metadata": {
    "kernel": "SoS"
   },
   "outputs": [],
   "source": [
    "!sos remote setup vm"
   ]
  },
  {
   "cell_type": "markdown",
   "metadata": {
    "kernel": "SoS"
   },
   "source": [
    "and enter password when prompted."
   ]
  },
  {
   "cell_type": "markdown",
   "metadata": {
    "kernel": "SoS"
   },
   "source": [
    "### 3. Install `sos` on remote host"
   ]
  },
  {
   "cell_type": "markdown",
   "metadata": {
    "kernel": "SoS"
   },
   "source": [
    "Since the VM comes with only Python 2.7 and SoS requires Python 3.6+, I installed [Anaconda python 3](https://www.anaconda.com/distribution/) and then `SoS` with command\n",
    "\n",
    "```bash\n",
    "$ pip install sos\n",
    "```\n",
    "\n",
    "If you are on a system without root privilege, you can ask your system administrator to install `SoS` or install anaconda Python locally."
   ]
  },
  {
   "cell_type": "markdown",
   "metadata": {
    "kernel": "SoS"
   },
   "source": [
    "### 4. Testing the remote host"
   ]
  },
  {
   "cell_type": "markdown",
   "metadata": {
    "kernel": "SoS"
   },
   "source": [
    "Now you will need to run command"
   ]
  },
  {
   "cell_type": "code",
   "execution_count": 7,
   "metadata": {
    "kernel": "SoS"
   },
   "outputs": [
    {
     "name": "stdout",
     "output_type": "stream",
     "text": [
      "Alias Address        Queue Type ssh scp sos paths shared\n",
      "----- -------        ---------- --- --- --- ----- ------\n",
      "vm    192.168.47.134 process    OK  OK  OK  OK    OK    \n"
     ]
    }
   ],
   "source": [
    "!sos remote test vm"
   ]
  },
  {
   "cell_type": "markdown",
   "metadata": {
    "kernel": "SoS"
   },
   "source": [
    "to verify if the remote host is ready to use. This command tests\n",
    "\n",
    "* `ssh`: whether or not sos can ssh to the host without being prompt for password. If this test fails after `sos remote setup`, please try to manually enable public-key access.\n",
    "* `scp`: whether or not `rsync`, `rcp` etc are available and can be used. Install these tools if they are not available.\n",
    "* `sos`: whether or not `sos` command can be called directly on server. If you have installed `sos` and this test fails, it is likely that your `PATH` is set in `.bashrc`, not `.bash_profile`, and `sos` is called with command `ssh host \"bash --login -c sos\"`. Check the [bash manual](https://www.gnu.org/software/bash/manual/html_node/Bash-Startup-Files.html) for details.\n",
    "* `paths`: if all named paths actually exist and accessible. I had to login to the VM and create `~/projects` to fix this test.\n",
    "* `shared`: useful only when two hosts share some or all file systems.\n",
    "\n",
    "If you see five `OK`s, the remote host `vm` is ready to use."
   ]
  },
  {
   "cell_type": "markdown",
   "metadata": {
    "kernel": "SoS"
   },
   "source": [
    "## Writting tasks for remote execution"
   ]
  },
  {
   "cell_type": "markdown",
   "metadata": {
    "kernel": "SoS"
   },
   "source": [
    "### 1. Writing tasks with remote paths"
   ]
  },
  {
   "cell_type": "markdown",
   "metadata": {
    "kernel": "SoS"
   },
   "source": [
    "<div class=\"bs-callout bs-callout-primary\" role=\"alert\">\n",
    "    <h4>Tasks written for remote host</h4>\n",
    "    Task written for remote host can use paths on remote host directly. It is recommended to specify queue directly using task option <code>queue</code>.\n",
    "</div>"
   ]
  },
  {
   "cell_type": "markdown",
   "metadata": {
    "kernel": "SoS"
   },
   "source": [
    "The `vm` host has type `process`, which means the task will be executed directly on the host. This is good enough in many cases and let us write and submit a task to VM: "
   ]
  },
  {
   "cell_type": "code",
   "execution_count": 1,
   "metadata": {
    "kernel": "SoS"
   },
   "outputs": [
    {
     "data": {
      "text/html": [
       "\n",
       "<table id=\"task_vm_a5dbf5181f2cf8d5\" class=\"task_table completed\">\n",
       "<tr>\n",
       "  <td class=\"task_icon\">\n",
       "    <i id=\"task_status_icon_vm_a5dbf5181f2cf8d5\" class=\"fa fa-2x fa-fw fa-check-square-o\"\n",
       "    null null null></i>\n",
       "  </td>\n",
       "  <td class=\"task_id\">\n",
       "    <span><pre><i class=\"fa fa-fw fa-sitemap\"></i></pre><pre>a5dbf5181f2cf8d5<div class=\"task_id_actions\"><i class=\"fa fa-fw fa-refresh\" onclick=\"task_action({action:'status', task:'a5dbf5181f2cf8d5', queue: 'vm'})\"></i><i class=\"fa fa-fw fa-play\" onclick=\"task_action({action:'execute', task:'a5dbf5181f2cf8d5', queue: 'vm'})\"></i><i class=\"fa fa-fw fa-stop\"\" onclick=\"task_action({action:'kill', task:'a5dbf5181f2cf8d5', queue: 'vm'})\"></i><i class=\"fa fa-fw fa-trash\"\" onclick=\"task_action({action:'purge', task:'a5dbf5181f2cf8d5', queue: 'vm'})\"></i></div></pre></span>\n",
       "  </td>\n",
       "  <td class=\"task_tags\">\n",
       "    <span id=\"status_tags_vm_a5dbf5181f2cf8d5\"><pre><i class=\"fa fa-fw fa-info-circle\"></i></pre><pre class=\"task_tags task_tag_76998591254477ab\">76998591254477ab<div class=\"task_tag_actions\"><i class=\"fa fa-fw fa-refresh\" onclick=\"task_action({action:'status', tag:'76998591254477ab', queue: 'vm'})\"></i><i class=\"fa fa-fw fa-stop\"\" onclick=\"task_action({action:'kill', tag:'76998591254477ab', queue: 'vm'})\"></i><i class=\"fa fa-fw fa-trash\"\" onclick=\"task_action({action:'purge', tag:'76998591254477ab', queue: 'vm'})\"></i></div></pre><pre class=\"task_tags task_tag_scratch_0\">scratch_0<div class=\"task_tag_actions\"><i class=\"fa fa-fw fa-refresh\" onclick=\"task_action({action:'status', tag:'scratch_0', queue: 'vm'})\"></i><i class=\"fa fa-fw fa-stop\"\" onclick=\"task_action({action:'kill', tag:'scratch_0', queue: 'vm'})\"></i><i class=\"fa fa-fw fa-trash\"\" onclick=\"task_action({action:'purge', tag:'scratch_0', queue: 'vm'})\"></i></div></pre></span>\n",
       "  </td>\n",
       "  <td class=\"task_timer\">\n",
       "    <pre><i class=\"fa fa-fw fa-clock-o\"></i><time id=\"status_duration_vm_a5dbf5181f2cf8d5\" class=\"completed\" datetime=\"1552506311178.6357\">Ran for < 5 seconds</time></pre>\n",
       "  </td>\n",
       "  <td class=\"task_status\">\n",
       "    <pre><i class=\"fa fa-fw fa-tasks\"></i><span id=\"status_text_vm_a5dbf5181f2cf8d5\">completed</span></pre>\n",
       "  </td>\n",
       "</tr>\n",
       "</table>\n"
      ]
     },
     "metadata": {},
     "output_type": "display_data"
    }
   ],
   "source": [
    "task: queue='vm', workdir='/home/bpeng1/projects'\n",
    "sh:\n",
    "   echo 'This is my first task on vm' > 'result.txt'"
   ]
  },
  {
   "cell_type": "markdown",
   "metadata": {
    "kernel": "SoS"
   },
   "source": [
    "In this workflow, we use `queue='vm'` to let SoS know that the task will be submitted to host `vm`, and the task uses a workdir (`/home/bpeng1/projects`) that is only available on the remote host. You can specify the queue using command line option `-q`,"
   ]
  },
  {
   "cell_type": "code",
   "execution_count": 2,
   "metadata": {
    "kernel": "SoS"
   },
   "outputs": [
    {
     "name": "stdout",
     "output_type": "stream",
     "text": [
      "INFO: a5dbf5181f2cf8d5 \u001b[32mstarted\u001b[0m\n",
      "INFO: Task \u001b[32ma5dbf5181f2cf8d5\u001b[0m for substep \u001b[32mscratch_0\u001b[0m (index=0) is \u001b[32mignored\u001b[0m due to saved signature\n"
     ]
    }
   ],
   "source": [
    "%run -q vm\n",
    "task: workdir='/home/bpeng1/projects'\n",
    "sh:\n",
    "   echo 'This is my first task on vm' > 'result.txt'"
   ]
  },
  {
   "cell_type": "markdown",
   "metadata": {
    "kernel": "SoS"
   },
   "source": [
    "However, the task cannot be executed locally because `/home/bpeng1/projects` is not a valid `workdir` locally."
   ]
  },
  {
   "cell_type": "code",
   "execution_count": 4,
   "metadata": {
    "kernel": "SoS"
   },
   "outputs": [
    {
     "data": {
      "text/html": [
       "\n",
       "<table id=\"task_macpro_a5dbf5181f2cf8d5\" class=\"task_table failed\">\n",
       "<tr>\n",
       "  <td class=\"task_icon\">\n",
       "    <i id=\"task_status_icon_macpro_a5dbf5181f2cf8d5\" class=\"fa fa-2x fa-fw fa-times-circle-o\"\n",
       "    null null null></i>\n",
       "  </td>\n",
       "  <td class=\"task_id\">\n",
       "    <span><pre><i class=\"fa fa-fw fa-sitemap\"></i></pre><pre>a5dbf5181f2cf8d5<div class=\"task_id_actions\"><i class=\"fa fa-fw fa-refresh\" onclick=\"task_action({action:'status', task:'a5dbf5181f2cf8d5', queue: 'macpro'})\"></i><i class=\"fa fa-fw fa-play\" onclick=\"task_action({action:'execute', task:'a5dbf5181f2cf8d5', queue: 'macpro'})\"></i><i class=\"fa fa-fw fa-stop\"\" onclick=\"task_action({action:'kill', task:'a5dbf5181f2cf8d5', queue: 'macpro'})\"></i><i class=\"fa fa-fw fa-trash\"\" onclick=\"task_action({action:'purge', task:'a5dbf5181f2cf8d5', queue: 'macpro'})\"></i></div></pre></span>\n",
       "  </td>\n",
       "  <td class=\"task_tags\">\n",
       "    <span id=\"status_tags_macpro_a5dbf5181f2cf8d5\"><pre><i class=\"fa fa-fw fa-info-circle\"></i></pre><pre class=\"task_tags task_tag_889b4523f1093852\">889b4523f1093852<div class=\"task_tag_actions\"><i class=\"fa fa-fw fa-refresh\" onclick=\"task_action({action:'status', tag:'889b4523f1093852', queue: 'macpro'})\"></i><i class=\"fa fa-fw fa-stop\"\" onclick=\"task_action({action:'kill', tag:'889b4523f1093852', queue: 'macpro'})\"></i><i class=\"fa fa-fw fa-trash\"\" onclick=\"task_action({action:'purge', tag:'889b4523f1093852', queue: 'macpro'})\"></i></div></pre><pre class=\"task_tags task_tag_scratch_0\">scratch_0<div class=\"task_tag_actions\"><i class=\"fa fa-fw fa-refresh\" onclick=\"task_action({action:'status', tag:'scratch_0', queue: 'macpro'})\"></i><i class=\"fa fa-fw fa-stop\"\" onclick=\"task_action({action:'kill', tag:'scratch_0', queue: 'macpro'})\"></i><i class=\"fa fa-fw fa-trash\"\" onclick=\"task_action({action:'purge', tag:'scratch_0', queue: 'macpro'})\"></i></div></pre></span>\n",
       "  </td>\n",
       "  <td class=\"task_timer\">\n",
       "    <pre><i class=\"fa fa-fw fa-clock-o\"></i><time id=\"status_duration_macpro_a5dbf5181f2cf8d5\" class=\"failed\" datetime=\"1552506666282.45\">Ran for < 5 seconds</time></pre>\n",
       "  </td>\n",
       "  <td class=\"task_status\">\n",
       "    <pre><i class=\"fa fa-fw fa-tasks\"></i><span id=\"status_text_macpro_a5dbf5181f2cf8d5\">failed</span></pre>\n",
       "  </td>\n",
       "</tr>\n",
       "</table>\n"
      ]
     },
     "metadata": {},
     "output_type": "display_data"
    }
   ],
   "source": [
    "task: workdir='/home/bpeng1/projects'\n",
    "sh:\n",
    "   echo 'This is my first task on vm' > 'result.txt'"
   ]
  },
  {
   "cell_type": "markdown",
   "metadata": {
    "kernel": "SoS"
   },
   "source": [
    "### 2. Interpreters, applications, libraries, and the use of containers"
   ]
  },
  {
   "cell_type": "markdown",
   "metadata": {
    "kernel": "SoS"
   },
   "source": [
    "The second problem with remote execution is the availability of language interpreters (e.g. `R`), applications (e.g. `STAR`), libraries (e.g. `bioconductor`) on remote host. Your tasks will not be able to run if they need to use these tools but they are not available on the remote host. \n",
    "\n",
    "Other than installing these applications and libaries on the remote host, or begging your system adminstrator to do so for you, you can use containers in your task. For example,"
   ]
  },
  {
   "cell_type": "code",
   "execution_count": 5,
   "metadata": {
    "kernel": "SoS"
   },
   "outputs": [
    {
     "name": "stderr",
     "output_type": "stream",
     "text": [
      "Failed to execute process\n",
      "\"'R(\"cat(\\'this is R\\')\\\\n\", container=\\'r-base\\')\\n'\"\n",
      "name 'path' is not defined\n"
     ]
    }
   ],
   "source": [
    "task:\n",
    "R: container='r-base'\n",
    "   cat('this is R')"
   ]
  },
  {
   "cell_type": "markdown",
   "metadata": {
    "kernel": "SoS"
   },
   "source": [
    "If the remote host has internet access, if might be able to pull the images and execute the scripts directly. Otherwise you will have to transfer the images to remote host manually."
   ]
  },
  {
   "cell_type": "markdown",
   "metadata": {
    "kernel": "SoS"
   },
   "source": [
    "### 3. Input and supporting files"
   ]
  },
  {
   "cell_type": "markdown",
   "metadata": {
    "kernel": "SoS"
   },
   "source": [
    "Input data of tasks can be small or large, can be available locally or remotely, and you do not always want the data to be synchronized. So here is the rule of thumb for data synchronization:\n",
    "\n",
    "1. SoS by default automatically synchronize input and output files. If you specify `input` and `output` statements and specifies `_input` and `_output` of your task, SoS will synchronize input files to remote host before task execution, and synchronize output files from remote host after task execution.\n",
    "\n",
    "2. If you are submitting tasks to process data on remote host. Do not specify `input`. If do want to specify them for clarity, use `remote()` function to let SoS know that the data is on remote host.\n"
   ]
  },
  {
   "cell_type": "markdown",
   "metadata": {
    "kernel": "SoS"
   },
   "source": [
    "## Working with batch systems"
   ]
  },
  {
   "cell_type": "markdown",
   "metadata": {
    "kernel": "SoS"
   },
   "source": [
    "### 1. Job submission script"
   ]
  },
  {
   "cell_type": "markdown",
   "metadata": {
    "kernel": "SoS"
   },
   "source": [
    "If the remote host is a batch system such as `PBS`, your task needs to be submitted as a job using particular commands. SoS allows you to define the submission scripts and a job template and automatically execute the command to submit the task for you.\n",
    "\n"
   ]
  },
  {
   "cell_type": "markdown",
   "metadata": {
    "kernel": "SoS"
   },
   "source": [
    "### 2. Queue, CPU, and memory specifications"
   ]
  },
  {
   "cell_type": "markdown",
   "metadata": {
    "kernel": "SoS"
   },
   "source": [
    "All batch systems require the specification of CPU and memory usages, so you will have to estimate the required resources and specify them with task."
   ]
  },
  {
   "cell_type": "markdown",
   "metadata": {
    "kernel": "SoS"
   },
   "source": [
    "## Writing portable tasks"
   ]
  },
  {
   "cell_type": "markdown",
   "metadata": {
    "kernel": "SoS"
   },
   "source": [
    "### Reminder: named paths"
   ]
  },
  {
   "cell_type": "markdown",
   "metadata": {
    "kernel": "SoS"
   },
   "source": [
    "Host-dependent paths play a key role in the portability of SoS tasks. As described in [this tutorial](config_files.html#Host-dependent-paths), \n",
    "\n",
    "```\n",
    "path(name='home')\n",
    "```\n",
    "refers to entry `home` in the `paths` definition of local host. What that tutorial did not say is that `path(name='home')` will refer to the named path of the host on which the tasks will be executed.\n",
    "\n",
    "That is to say, with the configuration of the `macpro` and `vm`, the shell script will be executed under `/Users/bpeng1` on `macpro` and under `/home/bpeng1` in the `vm` because `path(name='project')` returns host-dependent values for the named path `project`."
   ]
  },
  {
   "cell_type": "code",
   "execution_count": 4,
   "metadata": {
    "kernel": "SoS"
   },
   "outputs": [
    {
     "data": {
      "text/html": [
       "\n",
       "<table id=\"task_macpro_5afa824d28b68f06\" class=\"task_table completed\">\n",
       "<tr>\n",
       "  <td class=\"task_icon\">\n",
       "    <i id=\"task_status_icon_macpro_5afa824d28b68f06\" class=\"fa fa-2x fa-fw fa-check-square-o\"\n",
       "    null null null></i>\n",
       "  </td>\n",
       "  <td class=\"task_id\">\n",
       "    <span><pre><i class=\"fa fa-fw fa-sitemap\"></i></pre><pre>5afa824d28b68f06<div class=\"task_id_actions\"><i class=\"fa fa-fw fa-refresh\" onclick=\"task_action({action:'status', task:'5afa824d28b68f06', queue: 'macpro'})\"></i><i class=\"fa fa-fw fa-play\" onclick=\"task_action({action:'execute', task:'5afa824d28b68f06', queue: 'macpro'})\"></i><i class=\"fa fa-fw fa-stop\"\" onclick=\"task_action({action:'kill', task:'5afa824d28b68f06', queue: 'macpro'})\"></i><i class=\"fa fa-fw fa-trash\"\" onclick=\"task_action({action:'purge', task:'5afa824d28b68f06', queue: 'macpro'})\"></i></div></pre></span>\n",
       "  </td>\n",
       "  <td class=\"task_tags\">\n",
       "    <span id=\"status_tags_macpro_5afa824d28b68f06\"><pre><i class=\"fa fa-fw fa-info-circle\"></i></pre><pre class=\"task_tags task_tag_2c1300c4eac2562c\">2c1300c4eac2562c<div class=\"task_tag_actions\"><i class=\"fa fa-fw fa-refresh\" onclick=\"task_action({action:'status', tag:'2c1300c4eac2562c', queue: 'macpro'})\"></i><i class=\"fa fa-fw fa-stop\"\" onclick=\"task_action({action:'kill', tag:'2c1300c4eac2562c', queue: 'macpro'})\"></i><i class=\"fa fa-fw fa-trash\"\" onclick=\"task_action({action:'purge', tag:'2c1300c4eac2562c', queue: 'macpro'})\"></i></div></pre><pre class=\"task_tags task_tag_scratch_0\">scratch_0<div class=\"task_tag_actions\"><i class=\"fa fa-fw fa-refresh\" onclick=\"task_action({action:'status', tag:'scratch_0', queue: 'macpro'})\"></i><i class=\"fa fa-fw fa-stop\"\" onclick=\"task_action({action:'kill', tag:'scratch_0', queue: 'macpro'})\"></i><i class=\"fa fa-fw fa-trash\"\" onclick=\"task_action({action:'purge', tag:'scratch_0', queue: 'macpro'})\"></i></div></pre></span>\n",
       "  </td>\n",
       "  <td class=\"task_timer\">\n",
       "    <pre><i class=\"fa fa-fw fa-clock-o\"></i><time id=\"status_duration_macpro_5afa824d28b68f06\" class=\"completed\" datetime=\"1552442572090.852\">Ran for < 5 seconds</time></pre>\n",
       "  </td>\n",
       "  <td class=\"task_status\">\n",
       "    <pre><i class=\"fa fa-fw fa-tasks\"></i><span id=\"status_text_macpro_5afa824d28b68f06\">completed</span></pre>\n",
       "  </td>\n",
       "</tr>\n",
       "</table>\n"
      ]
     },
     "metadata": {},
     "output_type": "display_data"
    }
   ],
   "source": [
    "task:\n",
    "\n",
    "run: workdir=path(name='project')\n",
    "  echo \"I am working at `pwd`\""
   ]
  },
  {
   "cell_type": "markdown",
   "metadata": {
    "kernel": "SoS"
   },
   "source": [
    "### 1. `workdir` of tasks and actions"
   ]
  },
  {
   "cell_type": "markdown",
   "metadata": {
    "kernel": "SoS"
   },
   "source": [
    "<div class=\"bs-callout bs-callout-primary\" role=\"alert\">\n",
    "    <h4><code>workdir</code> of tasks and actions</h4>\n",
    "    <p>All SoS tasks and actions (scripts) executed within the tasks have a <code>workdir</code>, which determines the starting location when the task will be executed. Users can use either the default <code>workdir</code>, which is the current directory, or specify a <code>workdir</code>. For the task to be executable on a remote host, the <code>workdir</code> needs to exist on remote host. That is to say</p>\n",
    "    <ul>\n",
    "        <li>If a default <code>workdir</code> is used, the current directory must be under one of the named directories such as <code>home</code> </li>\n",
    "        <li>User specified <code>workdir</code> should better use one of the named directories.</li>\n",
    "    </ul>\n",
    "</div>"
   ]
  },
  {
   "cell_type": "markdown",
   "metadata": {
    "kernel": "SoS"
   },
   "source": [
    "The first rule to remember is that you should **either work under one of the named directories (e.g. `home`, or `project`) or specify a `workdir` that is under one of the named directrories**. The reason behind this rule is that SoS executes task on remote host either under user-specified `workdir` or a `workdir` that is derived from current working directory, so whereas `workdir` in tasks\n",
    "\n",
    "```\n",
    "task: workdir=path(name='project')\n",
    "```\n",
    "and\n",
    "```\n",
    "task:\n",
    "```\n",
    "with default `workdir` = `path(name='home') / 'sos-docs'` could be located on remote host,\n",
    "\n",
    "```\n",
    "task: workdir='/some/local/path'\n",
    "```\n",
    "would fail if `/some/local/path` is not a valid path on remote host. Note that the last example would work perfectly locally, but it cannot be executed on remote host without `/some/local/path`. On the other hand, it is perfectly ok for you to hard-code remote path as in\n",
    "\n",
    "```\n",
    "task: workdir='/some/remote/path'\n",
    "```\n",
    "if you only intend to execute the task on a particular remote host."
   ]
  },
  {
   "cell_type": "markdown",
   "metadata": {
    "kernel": "SoS"
   },
   "source": [
    "## Summary"
   ]
  },
  {
   "cell_type": "markdown",
   "metadata": {
    "kernel": "SoS"
   },
   "source": [
    "So at the end of the day, after you set up everything, or if are lucky that a system adminstrator has set up everything for you, you can almost execute your tasks on every defined remote hosts, and you only need to remember:\n",
    "\n",
    "1. If you are writing a task specifically for a remote host, you can\n",
    "    * use host-specific path name\n",
    "    * rely on host-specific applications\n",
    "    * do not specify step input output or use `remote()` for `input` or `output` if \n",
    "2. If you would like to make your task more portable, namely executable on local and multiple remote hosts,\n",
    "    * Use named paths in your task\n",
    "3. Verify if the applications, libraries, or containers are available on remote host.\n",
    "4. Specify CPU and memory usages of tasks if you are submitting the tasks to a batch system\n",
    "\n",
    "Good luck."
   ]
  },
  {
   "cell_type": "markdown",
   "metadata": {
    "kernel": "SoS"
   },
   "source": [
    "## Further reading\n",
    "\n",
    "* [Named host-dependent paths](config_files.html#Host-dependent-paths)"
   ]
  },
  {
   "cell_type": "code",
   "execution_count": null,
   "metadata": {
    "kernel": "SoS"
   },
   "outputs": [],
   "source": []
  }
 ],
 "metadata": {
  "kernelspec": {
   "display_name": "SoS",
   "language": "sos",
   "name": "sos"
  },
  "language_info": {
   "codemirror_mode": "sos",
   "file_extension": ".sos",
   "mimetype": "text/x-sos",
   "name": "sos",
   "nbconvert_exporter": "sos_notebook.converter.SoS_Exporter",
   "pygments_lexer": "sos"
  },
  "sos": {
   "kernels": [
    [
     "Bash",
     "bash",
     "Bash",
     "#E6EEFF"
    ],
    [
     "R",
     "ir",
     "R",
     "#DCDCDA"
    ],
    [
     "SoS",
     "sos",
     "",
     ""
    ]
   ],
   "panel": {
    "displayed": true,
    "height": 0
   },
   "version": "0.19.2"
  }
 },
 "nbformat": 4,
 "nbformat_minor": 2
}
