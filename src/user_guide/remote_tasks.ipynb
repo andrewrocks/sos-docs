{
 "cells": [
  {
   "cell_type": "markdown",
   "metadata": {
    "kernel": "SoS"
   },
   "source": [
    "# Execution of tasks on remote hosts, an overview"
   ]
  },
  {
   "cell_type": "markdown",
   "metadata": {
    "kernel": "SoS"
   },
   "source": [
    "* **Difficulty level**: intermediate\n",
    "* **Time need to lean**: 15 minutes or less\n",
    "* **Key points**:\n",
    "  * A configuration file specifies how SoS should interact with a remote host\n",
    "  * Tasks should be written in a way that can be executed remotely\n",
    "  * Tasks can be submitted to remote hosts with option `-q`"
   ]
  },
  {
   "cell_type": "markdown",
   "metadata": {
    "kernel": "SoS"
   },
   "source": [
    "This tutorial gives an overview of the SoS task model and steps to submit tasks to remote hosts."
   ]
  },
  {
   "cell_type": "markdown",
   "metadata": {
    "kernel": "SoS"
   },
   "source": [
    "## How remote task execution works"
   ]
  },
  {
   "cell_type": "markdown",
   "metadata": {
    "kernel": "SoS"
   },
   "source": [
    "Executing tasks on remote hosts can be very tricky so it is important to understand how SoS works, what SoS provides and what are the limitations. Here is a summary of how SoS execute tasks on remote hosts:\n",
    "\n",
    "**Step 1: Prepare task**\n",
    "* SoS generates a task file, which contains information such as the content of the task (e.g. script to execute) and environments (variables, parameter etc).\n",
    "* If the remote system is a batch system such as `PBS`, `SLURM` and `LSF`, a shell script is generated from a host-specific template. \n",
    "\n",
    "**Step 2: Copying tasks and reuired files to remote host**\n",
    "* SoS prepares the task file to be executed on the remote host. It essentially records the path definitions of remote host so that the task can be executed with correct paths.\n",
    "* SoS copies the task file, shell script, and sometimes input files to remote host using `rsync` or `rcp`.\n",
    "\n",
    "**Step 3: Execute task remotely, optionally througgh a task queue**\n",
    "* If the remote system is not a batch system, a `sos execute task_id` is started on the remote host (through `ssh`) to execute the task.\n",
    "* If the remote system is a batch system, a system-dependent command (e.g. `qsub task_id.sh`) is executed on the remote host to submit the task to the scheduler. The shell script is essentially a wrapper to the `sos execute` command.\n",
    "\n",
    "**Step 4: Monitor the execute of jobs**\n",
    "* The task is run on remote host, either directly or by a batch system.\n",
    "* SoS periodically sends a `sos status` command to remote host to check the status of the task.\n",
    "\n",
    "**Step 5: Retrieve its result once it is done**\n",
    "* Once the task is completed, SoS copies the task file and specified output file back to local host."
   ]
  },
  {
   "cell_type": "markdown",
   "metadata": {
    "kernel": "SoS"
   },
   "source": [
    "<p align=\"center\">\n",
    "  <img src=\"https://vatlab.github.io/sos-docs/doc/media/task_overview.png\">\n",
    "</p>"
   ]
  },
  {
   "cell_type": "markdown",
   "metadata": {
    "kernel": "SoS"
   },
   "source": [
    "Let us walk through the setup and execution of this process with an example."
   ]
  },
  {
   "cell_type": "markdown",
   "metadata": {
    "kernel": "SoS"
   },
   "source": [
    "## System configuration"
   ]
  },
  {
   "cell_type": "markdown",
   "metadata": {
    "kernel": "SoS"
   },
   "source": [
    "If you think through the SoS task model, \n",
    "\n",
    "|Public-key access to remote hosts and tools such as `ssh`, `rsync` and `scp` | Unlike other programs that require a deamon process (a service) on the server to coordinate the execution of tasks, SoS relies on a basic remote access toolchain to access the remote host and execute commands remotely. \n",
    "\n",
    "| `sos remote setup` |\n",
    "|`sos` and required programs on remote host | The `sos` command is required on the remote host to execute the task with appropriate interpreters and tools | `sos remote test` |"
   ]
  },
  {
   "cell_type": "markdown",
   "metadata": {
    "kernel": "SoS"
   },
   "source": [
    "## Further reading\n",
    "\n",
    "* "
   ]
  }
 ],
 "metadata": {
  "kernelspec": {
   "display_name": "SoS",
   "language": "sos",
   "name": "sos"
  },
  "language_info": {
   "codemirror_mode": "sos",
   "file_extension": ".sos",
   "mimetype": "text/x-sos",
   "name": "sos",
   "nbconvert_exporter": "sos_notebook.converter.SoS_Exporter",
   "pygments_lexer": "sos"
  },
  "sos": {
   "kernels": [
    [
     "Bash",
     "bash",
     "Bash",
     "#E6EEFF"
    ],
    [
     "R",
     "ir",
     "R",
     "#DCDCDA"
    ],
    [
     "SoS",
     "sos",
     "",
     ""
    ]
   ],
   "panel": {
    "displayed": true,
    "height": 0
   },
   "version": "0.17.5"
  }
 },
 "nbformat": 4,
 "nbformat_minor": 2
}
