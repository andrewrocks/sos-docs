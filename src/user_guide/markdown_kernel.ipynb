{
 "cells": [
  {
   "cell_type": "markdown",
   "metadata": {
    "kernel": "SoS"
   },
   "source": [
    "# Title"
   ]
  },
  {
   "cell_type": "markdown",
   "metadata": {
    "kernel": "SoS"
   },
   "source": [
    "* **Difficulty level**: easy\n",
    "* **Time need to lean**: 10 minutes or less\n",
    "* **Key points**:\n",
    "  * a\n",
    "  "
   ]
  },
  {
   "cell_type": "markdown",
   "metadata": {
    "kernel": "SoS"
   },
   "source": [
    "### Markdown cell and markdown kernel"
   ]
  },
  {
   "cell_type": "markdown",
   "metadata": {
    "kernel": "SoS"
   },
   "source": [
    "You can include headers, lists, figures, tables in your Jupyter notebook using markdown cells. These markdown cells are rendered by Jupyter itself and do not interact with the kernels. Consequently, it is not possible to pass information (e.g. results from analysis) to markdown cells to generate dynamic output. In contrast, RStudio/RMarkdown has long allowed the inclusion of expressions in markdown texts.\n",
    "\n",
    "To overcome this problem, you can install a markdown kernel with commands\n",
    "\n",
    "```\n",
    "pip install markdown-kernel\n",
    "python -m markdown.kernel install\n",
    "```\n",
    "and write markdown code in code cells with a markdown kernel."
   ]
  },
  {
   "cell_type": "code",
   "execution_count": 24,
   "metadata": {
    "kernel": "markdown"
   },
   "outputs": [
    {
     "data": {
      "text/markdown": [
       "Hello, this is a **code cell in markdown kernel**, not a markdown cell.\n"
      ]
     },
     "metadata": {},
     "output_type": "display_data"
    }
   ],
   "source": [
    "Hello, this is a **code cell in markdown kernel**, not a markdown cell."
   ]
  },
  {
   "cell_type": "markdown",
   "metadata": {
    "kernel": "SoS"
   },
   "source": [
    "The significance of the markdown kernel is that you can pass information from SoS to it through the `%expand` magic. For example, suppose you have defined a function to calculate Fibonacci sequence,"
   ]
  },
  {
   "cell_type": "code",
   "execution_count": 25,
   "metadata": {
    "kernel": "SoS"
   },
   "outputs": [],
   "source": [
    "def fibo(n):\n",
    "   return n if n <= 1 else (fibo(n-1) + fibo(n-2))"
   ]
  },
  {
   "cell_type": "markdown",
   "metadata": {
    "kernel": "SoS"
   },
   "source": [
    "You can write use it in Python expressions as follows:"
   ]
  },
  {
   "cell_type": "code",
   "execution_count": 26,
   "metadata": {
    "kernel": "markdown",
    "scrolled": false
   },
   "outputs": [
    {
     "data": {
      "text/markdown": [
       "The Fibonacci sequence has value 1 when `n=1` and 55\n",
       "when `n=10`, which can be calculated recursively by\n",
       "`fibo(10)=fibo(9) + fib(8)=34+21`, and so on.\n"
      ]
     },
     "metadata": {},
     "output_type": "display_data"
    }
   ],
   "source": [
    "%expand\n",
    "The Fibonacci sequence has value {fibo(1)} when `n=1` and {fibo(10)}\n",
    "when `n=10`, which can be calculated recursively by\n",
    "`fibo(10)=fibo(9) + fib(8)={fibo(9)}+{fibo(8)}`, and so on."
   ]
  },
  {
   "cell_type": "markdown",
   "metadata": {
    "kernel": "SoS"
   },
   "source": [
    "## Further reading\n",
    "\n",
    "* "
   ]
  }
 ],
 "metadata": {
  "kernelspec": {
   "display_name": "SoS",
   "language": "sos",
   "name": "sos"
  },
  "language_info": {
   "codemirror_mode": "sos",
   "file_extension": ".sos",
   "mimetype": "text/x-sos",
   "name": "sos",
   "nbconvert_exporter": "sos_notebook.converter.SoS_Exporter",
   "pygments_lexer": "sos"
  },
  "sos": {
   "kernels": [
    [
     "Bash",
     "bash",
     "Bash",
     "#E6EEFF"
    ],
    [
     "R",
     "ir",
     "R",
     "#DCDCDA"
    ],
    [
     "SoS",
     "sos",
     "",
     ""
    ]
   ],
   "panel": {
    "displayed": true,
    "height": 0
   },
   "version": "0.17.4"
  }
 },
 "nbformat": 4,
 "nbformat_minor": 2
}
