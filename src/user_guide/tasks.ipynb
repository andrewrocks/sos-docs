{
 "cells": [
  {
   "cell_type": "markdown",
   "metadata": {
    "kernel": "SoS"
   },
   "source": [
    "# Title"
   ]
  },
  {
   "cell_type": "markdown",
   "metadata": {
    "kernel": "SoS"
   },
   "source": [
    "* **Difficulty level**: easy\n",
    "* **Time need to lean**: 10 minutes or less\n",
    "* **Key points**:\n",
    "  * a\n",
    "  "
   ]
  },
  {
   "cell_type": "markdown",
   "metadata": {
    "kernel": "SoS",
    "output_cache": "[]"
   },
   "source": [
    "### Execution of external tasks"
   ]
  },
  {
   "cell_type": "markdown",
   "metadata": {
    "kernel": "SoS"
   },
   "source": [
    "If a workflow is large, you can define parts of a workflow as **tasks** and execute them on remote servers, clusters, or task queues. The tasks are\n",
    "\n",
    "* **self-contained** in that they contain all the required information to be executed anywhere.\n",
    "* **generated and executed dynamically** in that a task would only be generated when all its dependencies have been met.\n",
    "* **independent of workflows and other tasks**. Tasks are defined by the jobs they are performing and can be shared by different workflows if they happen to perform exactly the same function.\n",
    "* **can be executed on remote hosts or task queues**. Tasks can be executed directly on a local or remote host, to task queues such as RQ, or be submitted to batch systems such as PBS/Torch, Slurm, and IBM LSF.\n",
    "* **independent of file systems**. SoS automatically synchronize input, output files and specified files between local and remote systems so you can easily switch from one remote host to another.\n",
    "* **support remote targets**. If input, depends, or output files are large, you also have the option to process remote targets directly without synchronizing them to local host."
   ]
  },
  {
   "cell_type": "markdown",
   "metadata": {
    "kernel": "SoS"
   },
   "source": [
    "Conceptually speaking, a **substep** consists of everything after the `input` statement. It can be repeated with subsets of input files or parameters defined by input options `group_by` or `for_each`. For example, if `bam_files` is a list of bam files,\n",
    "\n",
    "```\n",
    "[10]\n",
    "input: bam_files, group_by=1\n",
    "output: f\"{_input}.bai\"\n",
    "\n",
    "run: expand=True\n",
    "    samtools index {_input}\n",
    "```\n",
    "\n",
    "execute a shell script to process each bam file. This is done sequentially for each input file, and is performed by SoS."
   ]
  },
  {
   "cell_type": "markdown",
   "metadata": {
    "kernel": "SoS"
   },
   "source": [
    "You can easily specify part or all of a step process as **tasks**, by prepending the statements with a `task` keyword:\n",
    "\n",
    "\n",
    "```\n",
    "[10]\n",
    "input: bam_files, group_by=1\n",
    "output: f\"{_input}.bai\"\n",
    "\n",
    "task:\n",
    "run: expand=True\n",
    "    samtools index {_input}\n",
    "```\n",
    "\n",
    "This statement declares the rest of the step process as a `task`. For each input file, a task will be created with an ID determined from task content and context (input and output files, variables etc). The task will be by default executed by a local `process` task queue where tasks are started as background processes."
   ]
  },
  {
   "cell_type": "markdown",
   "metadata": {
    "kernel": "SoS"
   },
   "source": [
    "The benefit of executing tasks externally is that the tasks are executed concurrently, on the local machine or a remote server, or be submitted to a task queue. For example, in the previous example, multiple tasks could be executed in parallel (but on the same machine) unless you specify it otherwise as follows\n",
    "\n",
    "```\n",
    "[10]\n",
    "input: bam_files, group_by=1\n",
    "output: f\"{_input}.bai\"\n",
    "\n",
    "task: concurrent=False\n",
    "run: expand=True\n",
    "    samtools index {_input}\n",
    "```\n",
    "\n",
    "You can also use command\n",
    "\n",
    "```\n",
    "sos run myscript -q cluster\n",
    "```\n",
    "or use option `queue`\n",
    "```\n",
    "[10]\n",
    "input: bam_files, group_by=1\n",
    "output: f\"{_input}.bai\"\n",
    "\n",
    "task: queue='cluster'\n",
    "run: expand=True\n",
    "    samtools index {_input}\n",
    "```\n",
    "\n",
    "to submit the commands to a cluster system to be executed on different computing nodes."
   ]
  },
  {
   "cell_type": "markdown",
   "metadata": {
    "kernel": "SoS",
    "output_cache": "[]"
   },
   "source": [
    "The following figure illustrates the task model of SoS\n",
    "\n",
    "![job queue](../media/job_queue.svg )\n",
    "\n",
    "Basically,\n",
    "1. Tasks are part of step processes.\n",
    "2. Tasks are managed by task engines, multiple task engines can be used for a single workflow.\n",
    "3. Task engines generate task files, submit tasks, monitor task status, and return results to SoS workflow.\n",
    "4. Remote task engines synchronize input files, translate and copy tasks to server, and start the tasks on the remote server."
   ]
  },
  {
   "cell_type": "markdown",
   "metadata": {
    "kernel": "SoS"
   },
   "source": [
    "<div class=\"bs-callout bs-callout-info\" role=\"alert\">\n",
    "  <h4>The \"None\" queue</h4>\n",
    "    <p>If you use <code>sos run -q None</code> from command line or <code>task: queue=None</code> in the script, the tasks will not be sent to any task engine and will be executed as regular step statements.</p>  \n",
    "</div>"
   ]
  },
  {
   "cell_type": "markdown",
   "metadata": {
    "kernel": "SoS"
   },
   "source": [
    "## Further reading\n",
    "\n",
    "* "
   ]
  }
 ],
 "metadata": {
  "kernelspec": {
   "display_name": "SoS",
   "language": "sos",
   "name": "sos"
  },
  "language_info": {
   "codemirror_mode": "sos",
   "file_extension": ".sos",
   "mimetype": "text/x-sos",
   "name": "sos",
   "nbconvert_exporter": "sos_notebook.converter.SoS_Exporter",
   "pygments_lexer": "sos"
  },
  "sos": {
   "kernels": [
    [
     "Bash",
     "bash",
     "Bash",
     "#E6EEFF"
    ],
    [
     "R",
     "ir",
     "R",
     "#DCDCDA"
    ],
    [
     "SoS",
     "sos",
     "",
     ""
    ]
   ],
   "panel": {
    "displayed": true,
    "height": 0
   },
   "version": "0.17.4"
  }
 },
 "nbformat": 4,
 "nbformat_minor": 2
}
