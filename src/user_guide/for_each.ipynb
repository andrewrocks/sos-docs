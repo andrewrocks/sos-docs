{
 "cells": [
  {
   "cell_type": "markdown",
   "metadata": {
    "kernel": "SoS"
   },
   "source": [
    "# How to repeat steps for different parameters"
   ]
  },
  {
   "cell_type": "markdown",
   "metadata": {
    "kernel": "SoS"
   },
   "source": [
    "* **Difficulty level**: easy\n",
    "* **Time need to lean**: 10 minutes or less\n",
    "* **Key points**:\n",
    "  * `for_each` runs the substep with different parameters\n",
    "  "
   ]
  },
  {
   "cell_type": "markdown",
   "metadata": {
    "kernel": "SoS"
   },
   "source": [
    "### Option `for_each` <a id=\"Option_for_each\"></a>"
   ]
  },
  {
   "cell_type": "markdown",
   "metadata": {
    "kernel": "SoS"
   },
   "source": [
    "Option `for_each` allows you to repeat step process for each value of a variable. For example,"
   ]
  },
  {
   "cell_type": "code",
   "execution_count": 1,
   "metadata": {
    "kernel": "SoS"
   },
   "outputs": [
    {
     "data": {
      "text/html": [
       "\n",
       "<table id=\"workflow_c3c91d788f424394a7b337e764ca24be\" class=\"workflow_table  completed\">\n",
       "  <tr>\n",
       "        <td class=\"workflow_icon\">\n",
       "          <i id=\"workflow_status_icon_c3c91d788f424394a7b337e764ca24be\" class=\"fa fa-2x fa-fw fa-check-square-o\"\n",
       "            ></i>\n",
       "        </td>\n",
       "        <td class=\"workflow_name\">\n",
       "          <pre><span id=\"workflow_name_c3c91d788f424394a7b337e764ca24be\">default</span></pre>\n",
       "        </td>\n",
       "        <td class=\"workflow_id\">\n",
       "          <span>Workflow ID</span></br>\n",
       "          <pre><i class=\"fa fa-fw fa-sitemap\"></i><span id=\"workflow_id_c3c91d788f424394a7b337e764ca24be\">6c2844dc1a8b592c</span></pre>\n",
       "        </td>\n",
       "        <td class=\"workflow_index\">\n",
       "          <span>Index</span></br>\n",
       "          <pre>#<span id=\"workflow_index_c3c91d788f424394a7b337e764ca24be\">1</span></pre>\n",
       "        </td>\n",
       "        <td class=\"workflow_status\">\n",
       "          <span id=\"status_text_c3c91d788f424394a7b337e764ca24be\">completed</span></br>\n",
       "          <pre><i class=\"fa fa-fw fa-clock-o\"></i><time id=\"status_duration_c3c91d788f424394a7b337e764ca24be\" class=\"completed\" datetime=\"1545606809575.395\">Ran for < 5 seconds</time></pre>\n",
       "        </td>\n",
       "  </tr>\n",
       "</table>\n"
      ]
     },
     "metadata": {},
     "output_type": "display_data"
    },
    {
     "name": "stdout",
     "output_type": "stream",
     "text": [
      "0: file1 file2 m1\n",
      "1: file1 file2 m2\n"
     ]
    }
   ],
   "source": [
    "!touch file1 file2\n",
    "%run\n",
    "\n",
    "method = ['m1', 'm2']\n",
    "input: 'file1', 'file2', for_each='method'\n",
    "print(f\"{_index}: {_input} {_method}\")"
   ]
  },
  {
   "cell_type": "markdown",
   "metadata": {
    "kernel": "SoS"
   },
   "source": [
    "will repeat the step with each item of variable `method`"
   ]
  },
  {
   "cell_type": "markdown",
   "metadata": {
    "kernel": "SoS"
   },
   "source": [
    "SoS automatically creates a loop variable `_method` for variable `method`, which assumes a slice of the variable at each iteration. "
   ]
  },
  {
   "cell_type": "markdown",
   "metadata": {
    "kernel": "SoS"
   },
   "source": [
    "Nested loops are also allowed. For example,"
   ]
  },
  {
   "cell_type": "code",
   "execution_count": 2,
   "metadata": {
    "kernel": "SoS"
   },
   "outputs": [
    {
     "data": {
      "text/html": [
       "\n",
       "<table id=\"workflow_9a97d4f4b5164548ad9cf4f2abf8945d\" class=\"workflow_table  completed\">\n",
       "  <tr>\n",
       "        <td class=\"workflow_icon\">\n",
       "          <i id=\"workflow_status_icon_9a97d4f4b5164548ad9cf4f2abf8945d\" class=\"fa fa-2x fa-fw fa-check-square-o\"\n",
       "            ></i>\n",
       "        </td>\n",
       "        <td class=\"workflow_name\">\n",
       "          <pre><span id=\"workflow_name_9a97d4f4b5164548ad9cf4f2abf8945d\">default</span></pre>\n",
       "        </td>\n",
       "        <td class=\"workflow_id\">\n",
       "          <span>Workflow ID</span></br>\n",
       "          <pre><i class=\"fa fa-fw fa-sitemap\"></i><span id=\"workflow_id_9a97d4f4b5164548ad9cf4f2abf8945d\">7ba8a0aced741c44</span></pre>\n",
       "        </td>\n",
       "        <td class=\"workflow_index\">\n",
       "          <span>Index</span></br>\n",
       "          <pre>#<span id=\"workflow_index_9a97d4f4b5164548ad9cf4f2abf8945d\">2</span></pre>\n",
       "        </td>\n",
       "        <td class=\"workflow_status\">\n",
       "          <span id=\"status_text_9a97d4f4b5164548ad9cf4f2abf8945d\">completed</span></br>\n",
       "          <pre><i class=\"fa fa-fw fa-clock-o\"></i><time id=\"status_duration_9a97d4f4b5164548ad9cf4f2abf8945d\" class=\"completed\" datetime=\"1545606836080.343\">Ran for < 5 seconds</time></pre>\n",
       "        </td>\n",
       "  </tr>\n",
       "</table>\n"
      ]
     },
     "metadata": {},
     "output_type": "display_data"
    },
    {
     "name": "stdout",
     "output_type": "stream",
     "text": [
      "0: _input=file1 file2 _method=m1, _pars=1\n",
      "1: _input=file1 file2 _method=m2, _pars=1\n",
      "3: _input=file1 file2 _method=m2, _pars=2\n",
      "2: _input=file1 file2 _method=m1, _pars=2\n"
     ]
    }
   ],
   "source": [
    "!touch file1 file2\n",
    "%run\n",
    "[0]\n",
    "method = ['m1', 'm2']\n",
    "pars = [1, 2]\n",
    "input: 'file1', 'file2', for_each=['method', 'pars']\n",
    "print(f\"{_index}: _input={_input} _method={_method}, _pars={_pars}\")"
   ]
  },
  {
   "cell_type": "markdown",
   "metadata": {
    "kernel": "SoS"
   },
   "source": [
    "If you would like to loop the process with several parameters, you can put them into the same level by 'var1,var2'. For example,"
   ]
  },
  {
   "cell_type": "code",
   "execution_count": 4,
   "metadata": {
    "kernel": "SoS"
   },
   "outputs": [
    {
     "data": {
      "text/html": [
       "\n",
       "<table id=\"workflow_6b2ac4605e944de687a87537152d1596\" class=\"workflow_table  completed\">\n",
       "  <tr>\n",
       "        <td class=\"workflow_icon\">\n",
       "          <i id=\"workflow_status_icon_6b2ac4605e944de687a87537152d1596\" class=\"fa fa-2x fa-fw fa-check-square-o\"\n",
       "            ></i>\n",
       "        </td>\n",
       "        <td class=\"workflow_name\">\n",
       "          <pre><span id=\"workflow_name_6b2ac4605e944de687a87537152d1596\">default</span></pre>\n",
       "        </td>\n",
       "        <td class=\"workflow_id\">\n",
       "          <span>Workflow ID</span></br>\n",
       "          <pre><i class=\"fa fa-fw fa-sitemap\"></i><span id=\"workflow_id_6b2ac4605e944de687a87537152d1596\">7ba8a0aced741c44</span></pre>\n",
       "        </td>\n",
       "        <td class=\"workflow_index\">\n",
       "          <span>Index</span></br>\n",
       "          <pre>#<span id=\"workflow_index_6b2ac4605e944de687a87537152d1596\">4</span></pre>\n",
       "        </td>\n",
       "        <td class=\"workflow_status\">\n",
       "          <span id=\"status_text_6b2ac4605e944de687a87537152d1596\">completed</span></br>\n",
       "          <pre><i class=\"fa fa-fw fa-clock-o\"></i><time id=\"status_duration_6b2ac4605e944de687a87537152d1596\" class=\"completed\" datetime=\"1545606849976.68\">Ran for < 5 seconds</time></pre>\n",
       "        </td>\n",
       "  </tr>\n",
       "</table>\n"
      ]
     },
     "metadata": {},
     "output_type": "display_data"
    },
    {
     "name": "stdout",
     "output_type": "stream",
     "text": [
      "0: _input=file1 file2 _method=m1, _pars=1\n",
      "2: _input=file1 file2 _method=m1, _pars=2\n",
      "3: _input=file1 file2 _method=m2, _pars=2\n",
      "1: _input=file1 file2 _method=m2, _pars=1\n"
     ]
    }
   ],
   "source": [
    "%run\n",
    "!touch file1 file2\n",
    "\n",
    "[0]\n",
    "method = ['m1', 'm2']\n",
    "pars = [1, 2]\n",
    "input: 'file1', 'file2', for_each=['method,pars']\n",
    "print(f\"{_index}: _input={_input} _method={_method}, _pars={_pars}\")"
   ]
  },
  {
   "cell_type": "markdown",
   "metadata": {
    "kernel": "SoS"
   },
   "source": [
    "The variable passed to option `for_each` can a sequence (`list`, `tuple`, `set`, etc), a Pandas `Series`, `Index`, or `DataFrame`. In the last case, each `_loop` variable presents a line in the dataframe and you can access single values using format `_loop[\"header\"]`. For example"
   ]
  },
  {
   "cell_type": "code",
   "execution_count": 5,
   "metadata": {
    "kernel": "SoS",
    "output_cache": "[]"
   },
   "outputs": [
    {
     "data": {
      "text/html": [
       "\n",
       "<table id=\"workflow_20601b9a6d154f8fbb6d9df4680aa3fc\" class=\"workflow_table  completed\">\n",
       "  <tr>\n",
       "        <td class=\"workflow_icon\">\n",
       "          <i id=\"workflow_status_icon_20601b9a6d154f8fbb6d9df4680aa3fc\" class=\"fa fa-2x fa-fw fa-check-square-o\"\n",
       "            ></i>\n",
       "        </td>\n",
       "        <td class=\"workflow_name\">\n",
       "          <pre><span id=\"workflow_name_20601b9a6d154f8fbb6d9df4680aa3fc\">default</span></pre>\n",
       "        </td>\n",
       "        <td class=\"workflow_id\">\n",
       "          <span>Workflow ID</span></br>\n",
       "          <pre><i class=\"fa fa-fw fa-sitemap\"></i><span id=\"workflow_id_20601b9a6d154f8fbb6d9df4680aa3fc\">7ba8a0aced741c44</span></pre>\n",
       "        </td>\n",
       "        <td class=\"workflow_index\">\n",
       "          <span>Index</span></br>\n",
       "          <pre>#<span id=\"workflow_index_20601b9a6d154f8fbb6d9df4680aa3fc\">5</span></pre>\n",
       "        </td>\n",
       "        <td class=\"workflow_status\">\n",
       "          <span id=\"status_text_20601b9a6d154f8fbb6d9df4680aa3fc\">completed</span></br>\n",
       "          <pre><i class=\"fa fa-fw fa-clock-o\"></i><time id=\"status_duration_20601b9a6d154f8fbb6d9df4680aa3fc\" class=\"completed\" datetime=\"1545606854274.25\">Ran for < 5 seconds</time></pre>\n",
       "        </td>\n",
       "  </tr>\n",
       "</table>\n"
      ]
     },
     "metadata": {},
     "output_type": "display_data"
    },
    {
     "name": "stdout",
     "output_type": "stream",
     "text": [
      "0: _input=file1 file2 _method=m1, _pars=1\n",
      "1: _input=file1 file2 _method=m2, _pars=1\n",
      "2: _input=file1 file2 _method=m1, _pars=2\n",
      "3: _input=file1 file2 _method=m2, _pars=2\n"
     ]
    }
   ],
   "source": [
    "%preview data\n",
    "%run\n",
    "[0]\n",
    "import pandas as pd\n",
    "data = pd.DataFrame([(1, 2, 'Hello'), (2, 4, 'World')], columns=['A', 'B', 'C'])\n",
    "input: for_each='data'\n",
    "output: f\"{_data['A']}_{_data['B']}_{_data['C']}.txt\"\n",
    "sh: expand=True\n",
    "    touch {_output}"
   ]
  },
  {
   "cell_type": "markdown",
   "metadata": {
    "kernel": "SoS"
   },
   "source": [
    "If you would like define your own loop variable, or if the default loop variable does not work (e.g. loop through `obj.sequence` where `_obj.sequence` is not a valid variable name), you can use a dictionary syntax in the format of `{'varname': sequence}`. Mult-variable and nested loops can be specified in the format of `{'var1': seq1, 'var2': seq2}` (same level) and `[{'var1': seq1}, {'var2': seq2}]`. \n",
    "\n",
    "For example, the first example for this parameter can be written as"
   ]
  },
  {
   "cell_type": "code",
   "execution_count": 6,
   "metadata": {
    "kernel": "SoS"
   },
   "outputs": [
    {
     "name": "stdout",
     "output_type": "stream",
     "text": [
      "0: file1 file2 m1\n",
      "1: file1 file2 m2\n"
     ]
    }
   ],
   "source": [
    "!touch file1 file2\n",
    "\n",
    "input: 'file1', 'file2', for_each=dict(method=['m1', 'm2'])\n",
    "print(f\"{_index}: {_input} {method}\")"
   ]
  },
  {
   "cell_type": "markdown",
   "metadata": {
    "kernel": "SoS"
   },
   "source": [
    "and a latter example can be written as"
   ]
  },
  {
   "cell_type": "code",
   "execution_count": 7,
   "metadata": {
    "kernel": "SoS",
    "output_cache": "[{\"text\":\"0: _input=file1 file2 method=m1, pars=1\\n1: _input=file1 file2 method=m2, pars=2\\n\",\"name\":\"stdout\",\"output_type\":\"stream\"}]"
   },
   "outputs": [
    {
     "data": {
      "text/html": [
       "\n",
       "<table id=\"workflow_a2095dcf8e73453688f7bafcf9f4767c\" class=\"workflow_table  completed\">\n",
       "  <tr>\n",
       "        <td class=\"workflow_icon\">\n",
       "          <i id=\"workflow_status_icon_a2095dcf8e73453688f7bafcf9f4767c\" class=\"fa fa-2x fa-fw fa-check-square-o\"\n",
       "            ></i>\n",
       "        </td>\n",
       "        <td class=\"workflow_name\">\n",
       "          <pre><span id=\"workflow_name_a2095dcf8e73453688f7bafcf9f4767c\">default</span></pre>\n",
       "        </td>\n",
       "        <td class=\"workflow_id\">\n",
       "          <span>Workflow ID</span></br>\n",
       "          <pre><i class=\"fa fa-fw fa-sitemap\"></i><span id=\"workflow_id_a2095dcf8e73453688f7bafcf9f4767c\">7ba8a0aced741c44</span></pre>\n",
       "        </td>\n",
       "        <td class=\"workflow_index\">\n",
       "          <span>Index</span></br>\n",
       "          <pre>#<span id=\"workflow_index_a2095dcf8e73453688f7bafcf9f4767c\">6</span></pre>\n",
       "        </td>\n",
       "        <td class=\"workflow_status\">\n",
       "          <span id=\"status_text_a2095dcf8e73453688f7bafcf9f4767c\">completed</span></br>\n",
       "          <pre><i class=\"fa fa-fw fa-clock-o\"></i><time id=\"status_duration_a2095dcf8e73453688f7bafcf9f4767c\" class=\"completed\" datetime=\"1545606935618.735\">Ran for < 5 seconds</time></pre>\n",
       "        </td>\n",
       "  </tr>\n",
       "</table>\n"
      ]
     },
     "metadata": {},
     "output_type": "display_data"
    },
    {
     "name": "stdout",
     "output_type": "stream",
     "text": [
      "0: _input=file1 file2 _method=m1, _pars=1\n",
      "1: _input=file1 file2 _method=m2, _pars=1\n",
      "2: _input=file1 file2 _method=m1, _pars=2\n",
      "3: _input=file1 file2 _method=m2, _pars=2\n"
     ]
    }
   ],
   "source": [
    "!touch file1 file2\n",
    "%run\n",
    "[0]\n",
    "input: 'file1', 'file2', \n",
    "   for_each=dict(method=['m1','m2'], pars=[1, 2])\n",
    "print(f\"{_index}: _input={_input} method={method}, pars={pars}\")"
   ]
  },
  {
   "cell_type": "markdown",
   "metadata": {
    "kernel": "SoS",
    "output_cache": "[]"
   },
   "source": [
    "The dictionary syntax also supports multiple keys. This helps customizing groups of variables. For example in the script below we only care for situations where `n` is greater than `p`,  "
   ]
  },
  {
   "cell_type": "code",
   "execution_count": 8,
   "metadata": {
    "kernel": "SoS",
    "output_cache": "[]"
   },
   "outputs": [
    {
     "data": {
      "text/html": [
       "\n",
       "<table id=\"workflow_eead2195247c425c97392f6f65e43d70\" class=\"workflow_table  completed\">\n",
       "  <tr>\n",
       "        <td class=\"workflow_icon\">\n",
       "          <i id=\"workflow_status_icon_eead2195247c425c97392f6f65e43d70\" class=\"fa fa-2x fa-fw fa-check-square-o\"\n",
       "            ></i>\n",
       "        </td>\n",
       "        <td class=\"workflow_name\">\n",
       "          <pre><span id=\"workflow_name_eead2195247c425c97392f6f65e43d70\">default</span></pre>\n",
       "        </td>\n",
       "        <td class=\"workflow_id\">\n",
       "          <span>Workflow ID</span></br>\n",
       "          <pre><i class=\"fa fa-fw fa-sitemap\"></i><span id=\"workflow_id_eead2195247c425c97392f6f65e43d70\">7ba8a0aced741c44</span></pre>\n",
       "        </td>\n",
       "        <td class=\"workflow_index\">\n",
       "          <span>Index</span></br>\n",
       "          <pre>#<span id=\"workflow_index_eead2195247c425c97392f6f65e43d70\">7</span></pre>\n",
       "        </td>\n",
       "        <td class=\"workflow_status\">\n",
       "          <span id=\"status_text_eead2195247c425c97392f6f65e43d70\">completed</span></br>\n",
       "          <pre><i class=\"fa fa-fw fa-clock-o\"></i><time id=\"status_duration_eead2195247c425c97392f6f65e43d70\" class=\"completed\" datetime=\"1545606951013.155\">Ran for < 5 seconds</time></pre>\n",
       "        </td>\n",
       "  </tr>\n",
       "</table>\n"
      ]
     },
     "metadata": {},
     "output_type": "display_data"
    },
    {
     "name": "stdout",
     "output_type": "stream",
     "text": [
      "0: _input=file1 file2 _method=m1, _pars=1\n",
      "1: _input=file1 file2 _method=m2, _pars=1\n",
      "3: _input=file1 file2 _method=m2, _pars=2\n",
      "2: _input=file1 file2 _method=m1, _pars=2\n"
     ]
    }
   ],
   "source": [
    "!touch a.txt\n",
    "%run\n",
    "[1]\n",
    "import itertools\n",
    "parameter: n = [100, 300]\n",
    "parameter: p = [50, 100, 200]\n",
    "parameter: outfile = ['1.txt', '2.txt', '3.txt', '4.txt', '5.txt', '6.txt']\n",
    "input: 'a.txt', for_each= {'_n,_p': [(_n,_p) for _n in n for _p in p if _n > _p]}\n",
    "print(f\"{_index} {outfile[_index]} {_n} {_p}\")"
   ]
  },
  {
   "cell_type": "markdown",
   "metadata": {
    "kernel": "SoS"
   },
   "source": [
    "## Further reading\n",
    "\n",
    "* "
   ]
  }
 ],
 "metadata": {
  "kernelspec": {
   "display_name": "SoS",
   "language": "sos",
   "name": "sos"
  },
  "language_info": {
   "codemirror_mode": "sos",
   "file_extension": ".sos",
   "mimetype": "text/x-sos",
   "name": "sos",
   "nbconvert_exporter": "sos_notebook.converter.SoS_Exporter",
   "pygments_lexer": "sos"
  },
  "sos": {
   "kernels": [
    [
     "Bash",
     "bash",
     "Bash",
     "#E6EEFF"
    ],
    [
     "R",
     "ir",
     "R",
     "#DCDCDA"
    ],
    [
     "SoS",
     "sos",
     "",
     ""
    ]
   ],
   "panel": {
    "displayed": true,
    "height": 0
   },
   "version": "0.17.5"
  }
 },
 "nbformat": 4,
 "nbformat_minor": 2
}
