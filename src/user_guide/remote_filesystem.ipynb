{
 "cells": [
  {
   "cell_type": "markdown",
   "metadata": {
    "kernel": "SoS"
   },
   "source": [
    "# Title"
   ]
  },
  {
   "cell_type": "markdown",
   "metadata": {
    "kernel": "SoS"
   },
   "source": [
    "* **Difficulty level**: easy\n",
    "* **Time need to lean**: 10 minutes or less\n",
    "* **Key points**:\n",
    "  * a\n",
    "  "
   ]
  },
  {
   "cell_type": "markdown",
   "metadata": {
    "kernel": "SoS"
   },
   "source": [
    "## h2"
   ]
  },
  {
   "cell_type": "markdown",
   "metadata": {
    "kernel": "SoS",
    "output_cache": "[]"
   },
   "source": [
    "### Configure local and remote hosts"
   ]
  },
  {
   "cell_type": "markdown",
   "metadata": {
    "kernel": "SoS",
    "output_cache": "[]"
   },
   "source": [
    "Now you need to configure your local and remote hosts so that SoS knows how to communicate between them. The hosts configurations should be defined in `~/.sos/hosts.yml`, and should look similar to\n",
    "\n",
    "```\n",
    "hosts:\n",
    "    desktop:\n",
    "        paths:\n",
    "            home: /Users/myuser\n",
    "    monster:\n",
    "        address: dcdr1ue8ee.yourdomain.com\n",
    "        paths:\n",
    "            home: /home/myuser\n",
    "```\n",
    "\n",
    "The format is easy enough to edit directly, but you can also use commands such as\n",
    "\n",
    "```\n",
    "% sos config --hosts --set hosts.monster.address dcdrlue8ee.yourdomain.com\n",
    "```\n",
    "\n",
    "to add or change key `hosts['monster']['address']` to `dcdrlue8ee.yourdomain.com`."
   ]
  },
  {
   "cell_type": "markdown",
   "metadata": {
    "kernel": "SoS",
    "output_cache": "[]"
   },
   "source": [
    "### Configure `address`"
   ]
  },
  {
   "cell_type": "markdown",
   "metadata": {
    "kernel": "SoS",
    "output_cache": "[]"
   },
   "source": [
    "You should specify in the `hosts` section the address of remote host, similar to\n",
    "\n",
    "```\n",
    "hosts:\n",
    "  monster:\n",
    "    address: dcdrlue8ee.yourdomain.com\n",
    "```\n",
    "\n",
    "If your account name differs between the local and remote servers, the complete address should be `username@address`. In this example `john@dcdrlue8ee.yourdomain.com` if the remote server account is `john`.\n",
    "\n",
    "You can also specify `address` for your localhost if you plan to remotely login to the localhost."
   ]
  },
  {
   "cell_type": "markdown",
   "metadata": {
    "kernel": "SoS",
    "output_cache": "[]"
   },
   "source": [
    "### Configure `paths`"
   ]
  },
  {
   "cell_type": "markdown",
   "metadata": {
    "kernel": "SoS",
    "output_cache": "[]"
   },
   "source": [
    "`paths` is a list of directories that will be translated between hosts. For example, if you work locally on a Mac machine with home directory `/Users/myuser`, and the remote server is a Linux machine with home directory `/home/myuser`, you should define a `paths` with definitions of `home` as follows:\n",
    "\n",
    "```\n",
    "hosts:\n",
    "    desktop:\n",
    "        paths:\n",
    "            home: /Users/myuser\n",
    "    monster:\n",
    "        address: dcdr1ue8ee.yourdomain.com\n",
    "        paths:\n",
    "            home: /home/myuser\n",
    "```\n",
    "\n",
    "In this way, if the local data is `/User/myuser/projects/input.fastq`, the path will be translated to `/home/myuser/projects/input.fastq` during remote execution.\n",
    "\n",
    "In more complicated cases where there are different directories, more than one `paths` can be specified. For example, if you have directories under different volumes, you can map them differently using\n",
    "\n",
    "```bash\n",
    "hosts:\n",
    "    desktop:\n",
    "        paths:\n",
    "            home: /Users/myuser\n",
    "            project: /Users/myuser/projects\n",
    "            resource: /Volumes/Resource\n",
    "    monster:\n",
    "        address: dcdr1ue8ee.yourdomain.com\n",
    "        paths:\n",
    "            home: /home/myuser\n",
    "            project: /home/myuser/scratch/projects\n",
    "            resource: /home/myuser/resource\n",
    "```\n",
    "\n",
    "Note that\n",
    "\n",
    "1. You can define multiple `paths` such as `home`, `scratch`, `working`, `resource`, but **paths should be defined for all hosts**.\n",
    "2. All `paths` should be absolute (starts with `/` for Linux-like systems).\n",
    "3. SoS expands local directories to absolute path before matching to a `paths`.\n",
    "4. If there are multiple matches, SoS choose the longest-matching path. For example, path `/Users/myuser/projects/input.txt` would be identified as `project` (not `home`) and be mapped to `/home/myuser/scratch/projects/input.txt`."
   ]
  },
  {
   "cell_type": "markdown",
   "metadata": {
    "kernel": "sos",
    "output_cache": "[]"
   },
   "source": [
    "### Configure `shared`"
   ]
  },
  {
   "cell_type": "markdown",
   "metadata": {
    "kernel": "SoS",
    "output_cache": "[]"
   },
   "source": [
    "Option `shared` tells SoS which file systems are shared between local and remote hosts so that it does not have to synchronize files under these directories between the hosts.\n",
    "\n",
    "* SoS assumes independent file systems so you do not have to specify option `shared` if the local and remote hosts does not share any file system.\n",
    " \n",
    "* If your local and remote host share all file systems, you should list `/` as shared.\n",
    "\n",
    "    ```\n",
    "    hosts:\n",
    "        desktop:\n",
    "            shared:\n",
    "                ALL: /\n",
    "        monster:\n",
    "            shared:\n",
    "                ALL: /\n",
    "    ```\n",
    "    The name `ALL` does not matter as long as they match between hosts.\n",
    "\n",
    "  \n",
    "* If your local and remote host share one or more shared volumes, you can specify them with\n",
    "\n",
    "    ```    \n",
    "    hosts:\n",
    "        desktop:\n",
    "            shared:\n",
    "                project: /project\n",
    "        monster:\n",
    "            shared:\n",
    "                project: /scratch/project\n",
    "    ```\n",
    "  \n",
    "  to indicate that local files under `/project` shared to `monster`.\n",
    "\n",
    "Items under `shared` are treated as special `paths`. Files under these directories are mapped, but not synchronized.\n",
    "\n",
    "Note that it is a bad idea to use dropbox or google drive as shared drives because files under these directories are not actually shared so a file created locally will not be available instantly on the remote host."
   ]
  },
  {
   "cell_type": "markdown",
   "metadata": {
    "kernel": "SoS",
    "output_cache": "[]"
   },
   "source": [
    "### Specify `localhost`"
   ]
  },
  {
   "cell_type": "markdown",
   "metadata": {
    "kernel": "SoS",
    "output_cache": "[]"
   },
   "source": [
    "After you configure both local and remote host, you will need to tell sos what your `localhost` is in the `hosts` list using command\n",
    "\n",
    "```\n",
    "% sos config --global --set localhost desktop\n",
    "```\n",
    "\n",
    "which actually writes `localhost: desktop` in the system configuration file. \n",
    "\n",
    "If you have defined multiple hosts in the `hosts.yml` file, you should distribute this file to all hosts and set `localhost` accordingly, so that all machines know how to communicate with each other."
   ]
  },
  {
   "cell_type": "markdown",
   "metadata": {
    "kernel": "SoS",
    "output_cache": "[]"
   },
   "source": [
    "### Sample configurations"
   ]
  },
  {
   "cell_type": "markdown",
   "metadata": {
    "kernel": "SoS",
    "output_cache": "[]"
   },
   "source": [
    "The server settings are critically important for the successful execution of commands on remote servers. As an example, I am working on a Mac mini (with limited CPU/RAM) and have access to a Mac Pro workstation and a Linux server. The hosts configurations for these machines are\n",
    "\n",
    "```\n",
    "hosts:\n",
    "  mini:\n",
    "    paths:\n",
    "      home: /Users/bpeng1\n",
    "      resource: /Users/bpeng1/.sos/resource\n",
    "  macpro:\n",
    "    address: mp-bpeng.mdanderson.edu\n",
    "    paths:\n",
    "      home: /Users/bpeng1\n",
    "      resource: /Volumes/HOME/resource\n",
    "  linux:\n",
    "    address: dcdrlpmcfd.mdanderson.edu\n",
    "    paths:\n",
    "      home: /home/bpeng1\n",
    "      resource: /home/bpeng1/.sos/resource\n",
    "```\n",
    "\n",
    "I defined two `paths` named `home` and `resource` because although `resource` is at the same location `~/.sos/resource`, it is in a dedicated volume `/Volumes/HOME/` on the macpro.\n",
    "\n",
    "With this `hosts.yml` and proper definition of `localhost` on each machine, it is possible to submit jobs from `mini` to `macpro` and `linux`, from `macpro` to `linux` and from `linux` to `macpro`. It is not possible to submit jobs remotely to `mini` because no `address` is defined for this host."
   ]
  },
  {
   "cell_type": "markdown",
   "metadata": {
    "kernel": "SoS"
   },
   "source": [
    "### Variable translation"
   ]
  },
  {
   "cell_type": "markdown",
   "metadata": {
    "kernel": "SoS"
   },
   "source": [
    "Each task has a **context dictionary** that contains variables that will be used to, for example, compose scripts to be executed. When the script is executed on the remote host, targets specified in variables `step_input` (`_input`), `step_output` (`_output`), `step_depends` (`_depends`) will be **translated synchronized from local to remote file system** (unless they are of type `remote`). The values of these variables will be translated on remote host.\n",
    "\n",
    "If there are additional files that you would like to synchronize, you should put them in `input:` or `depends:` statement. If for any reason you would like to translate a variable from local to remote host but do not want to synchronize the file, you can add it to option `map_vars`."
   ]
  },
  {
   "cell_type": "markdown",
   "metadata": {
    "kernel": "SoS",
    "output_cache": "[]"
   },
   "source": [
    "### Running task"
   ]
  },
  {
   "cell_type": "markdown",
   "metadata": {
    "kernel": "SoS",
    "output_cache": "[]"
   },
   "source": [
    "With all the pieces put together, you can now execute the task on the remote host using `task` options\n",
    "\n",
    "```sos\n",
    "depends:  hg19_fasta, hg19_genes_gtf\n",
    "output:   f\"{hg19_star_index}/chrName.txt\"\n",
    "task:     queue='monster', from_host=hg19_star_index\n",
    "run:  expand=True\n",
    "    STAR \\\n",
    "        --runThreadN 8 \\\n",
    "        --runMode genomeGenerate \\\n",
    "        --genomeDir {hg19_star_index} \\\n",
    "        --genomeFastaFiles {hg19_fasta} \\\n",
    "        --sjdbGTFfile {hg19_genes_gtf} \\\n",
    "        --sjdbOverhang 100\n",
    "```\n",
    "\n",
    "For this example,\n",
    "\n",
    "1. SoS automatically transfers all input (None in this example) and dependent files (`hg19_fasta1 and `hg19_genes_gtf` in this example) so no `to_host` is needed.\n",
    "2. Option `from_host` is needed because we need to transfer not only the reprsenting output file (`hg19_star_index}/chrName.txt`), but also the whole directory containing the whole indexes (`hg19_star_index`).\n",
    "\n",
    "SoS tries its best to automate the process while allowing you to tweak the details with runtime options. Just to recap the use of these  options:\n",
    "\n",
    "* `to_host` is needed to transfer **additional input** files or directories to remote host.\n",
    "* `from_host` is needed to tranfer **additional output** files or directories from remote host.\n"
   ]
  },
  {
   "cell_type": "markdown",
   "metadata": {
    "kernel": "SoS"
   },
   "source": [
    "## Further reading\n",
    "\n",
    "* "
   ]
  }
 ],
 "metadata": {
  "kernelspec": {
   "display_name": "SoS",
   "language": "sos",
   "name": "sos"
  },
  "language_info": {
   "codemirror_mode": "sos",
   "file_extension": ".sos",
   "mimetype": "text/x-sos",
   "name": "sos",
   "nbconvert_exporter": "sos_notebook.converter.SoS_Exporter",
   "pygments_lexer": "sos"
  },
  "sos": {
   "kernels": [
    [
     "Bash",
     "bash",
     "Bash",
     "#E6EEFF"
    ],
    [
     "R",
     "ir",
     "R",
     "#DCDCDA"
    ],
    [
     "SoS",
     "sos",
     "",
     ""
    ]
   ],
   "panel": {
    "displayed": true,
    "height": 0
   },
   "version": "0.17.4"
  }
 },
 "nbformat": 4,
 "nbformat_minor": 2
}
