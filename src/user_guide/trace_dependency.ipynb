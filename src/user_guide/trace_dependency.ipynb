{
 "cells": [
  {
   "cell_type": "markdown",
   "metadata": {
    "kernel": "SoS"
   },
   "source": [
    "# How to ensure the of the integrity of intermediate files during the re-execution of workflows"
   ]
  },
  {
   "cell_type": "markdown",
   "metadata": {
    "kernel": "SoS"
   },
   "source": [
    "* **Difficulty level**: intermediate\n",
    "* **Time need to lean**: 10 minutes or less\n",
    "* **Key points**:\n",
    "  * Signatures are useful in checking the integrity of intermediate files\n",
    "  * Option `-T` forces the rerun of upstream steps to ensure integrity of intermediate files\n",
    "  * `traced()` targets are always checked or re-generated\n",
    "  "
   ]
  },
  {
   "cell_type": "markdown",
   "metadata": {
    "kernel": "SoS"
   },
   "source": [
    "## A problem with makefile-style workflows"
   ]
  },
  {
   "cell_type": "markdown",
   "metadata": {
    "kernel": "SoS"
   },
   "source": [
    "<div class=\"bs-callout bs-callout-info\" role=\"alert\">\n",
    "    <h4>Dependency check of workflow steps</h4>\n",
    "    <p>A workflow step is ready to execute if all input and dependent targets exist.<p>\n",
    "</div>"
   ]
  },
  {
   "cell_type": "markdown",
   "metadata": {
    "kernel": "SoS"
   },
   "source": [
    "Suppose you are working on a project that involves the execution of workflows repeatedly with different input files or parameters. It is possible to lose track of intermediate files and obtain incorrect results.\n",
    "\n",
    "Let us assume that you created the following workflow with step `analyze` accepting some parameter and write result to a file, and step `summarize` creating a report named `out.md` from the output of step `analyze`. A little trick here is that action `report` accept one or more input files from its `input` parameter and appends their contents to the end of the report."
   ]
  },
  {
   "cell_type": "code",
   "execution_count": 1,
   "metadata": {
    "kernel": "SoS"
   },
   "outputs": [
    {
     "data": {
      "text/html": [
       "<div class=\"sos_hint\">Cell content saved to <a href=\"test.sos\" target=\"_blank\">test.sos</a>, use option -r to also execute the cell.</div>"
      ],
      "text/plain": [
       "Cell content saved to test.sos, use option -r to also execute the cell.\n"
      ]
     },
     "metadata": {},
     "output_type": "display_data"
    }
   ],
   "source": [
    "# remove out.txt if it already exists\n",
    "!rm -f out.txt\n",
    "# write a workflow\n",
    "%save test.sos -f\n",
    "\n",
    "[analyze]\n",
    "parameter: par=5\n",
    "output: 'out.txt'\n",
    "\n",
    "print(f'Analyze data with parameter {par}')\n",
    "with open(_output, 'w') as out:\n",
    "    out.write(f'Result from parameter {par}')\n",
    "\n",
    "[summarize]\n",
    "input: 'out.txt'    \n",
    "print(f'Writing report with input out.txt')\n",
    "report: input='out.txt', output='out.md'\n",
    "    ## A summary report"
   ]
  },
  {
   "cell_type": "markdown",
   "metadata": {
    "kernel": "SoS"
   },
   "source": [
    "Now, let us perform the analysis and generate a report:"
   ]
  },
  {
   "cell_type": "code",
   "execution_count": 2,
   "metadata": {
    "kernel": "SoS"
   },
   "outputs": [
    {
     "name": "stdout",
     "output_type": "stream",
     "text": [
      "Analyze data with parameter 10\n",
      "Writing report with input out.txt\n"
     ]
    },
    {
     "data": {
      "text/html": [
       "<div class=\"sos_hint\">> out.md (47 B):</div>"
      ],
      "text/plain": [
       "\n",
       "> out.md (47 B):"
      ]
     },
     "metadata": {},
     "output_type": "display_data"
    },
    {
     "data": {
      "text/html": [
       "<h2>A summary report</h2>\n",
       "<p>Result from parameter 10</p>"
      ],
      "text/plain": [
       "## A summary report\n",
       "\n",
       "Result from parameter 10\n",
       "\n"
      ]
     },
     "metadata": {},
     "output_type": "display_data"
    }
   ],
   "source": [
    "%preview out.md\n",
    "%runfile test.sos summarize --par 10 -v0"
   ]
  },
  {
   "cell_type": "markdown",
   "metadata": {
    "kernel": "SoS"
   },
   "source": [
    "Everything looks ok, so you would like to re-run the analysis using another parameter:"
   ]
  },
  {
   "cell_type": "code",
   "execution_count": 3,
   "metadata": {
    "kernel": "SoS"
   },
   "outputs": [
    {
     "name": "stdout",
     "output_type": "stream",
     "text": [
      "Writing report with input out.txt\n"
     ]
    },
    {
     "data": {
      "text/html": [
       "<div class=\"sos_hint\">> out.md (47 B):</div>"
      ],
      "text/plain": [
       "\n",
       "> out.md (47 B):"
      ]
     },
     "metadata": {},
     "output_type": "display_data"
    },
    {
     "data": {
      "text/html": [
       "<h2>A summary report</h2>\n",
       "<p>Result from parameter 10</p>"
      ],
      "text/plain": [
       "## A summary report\n",
       "\n",
       "Result from parameter 10\n",
       "\n"
      ]
     },
     "metadata": {},
     "output_type": "display_data"
    }
   ],
   "source": [
    "%preview out.md\n",
    "%runfile test.sos summarize --par 20 -v0"
   ]
  },
  {
   "cell_type": "markdown",
   "metadata": {
    "kernel": "SoS"
   },
   "source": [
    "Do you see what the problem is here? When you run the step `summarize` of the workflow and its input `out.txt` already exist, SoS will simply execute the step so the `analyze` step is not executed again."
   ]
  },
  {
   "cell_type": "markdown",
   "metadata": {
    "kernel": "SoS"
   },
   "source": [
    "## A clean up step"
   ]
  },
  {
   "cell_type": "markdown",
   "metadata": {
    "kernel": "SoS"
   },
   "source": [
    "A common solution to this problem is to introduce a special step to clean up intemediate files. In a GNU Make system this involves the introduction of a `clean` target, and use it to remove intermediate files with commands like\n",
    "\n",
    "```\n",
    "make target --par 10\n",
    "make clean\n",
    "make target --par 20\n",
    "```\n",
    "\n",
    "We can do something similar and create a workflow as follows:"
   ]
  },
  {
   "cell_type": "code",
   "execution_count": 4,
   "metadata": {
    "kernel": "SoS"
   },
   "outputs": [
    {
     "data": {
      "text/html": [
       "<div class=\"sos_hint\">Cell content saved to <a href=\"test1.sos\" target=\"_blank\">test1.sos</a>, use option -r to also execute the cell.</div>"
      ],
      "text/plain": [
       "Cell content saved to test1.sos, use option -r to also execute the cell.\n"
      ]
     },
     "metadata": {},
     "output_type": "display_data"
    }
   ],
   "source": [
    "%save test1.sos -f\n",
    "\n",
    "[analyze]\n",
    "parameter: par=5\n",
    "output: 'out.txt'\n",
    "\n",
    "print(f'Analyze data with parameter {par}')\n",
    "with open(_output, 'w') as out:\n",
    "    out.write(f'Result from parameter {par}')\n",
    "\n",
    "[summarize]\n",
    "input: 'out.txt'    \n",
    "print(f'Writing report with input out.txt')\n",
    "report: input='out.txt', output='out.md'\n",
    "    ## A summary report\n",
    "\n",
    "[clean]\n",
    "sh:\n",
    "   echo Cleaning up\n",
    "   rm -f out.txt out.md"
   ]
  },
  {
   "cell_type": "markdown",
   "metadata": {
    "kernel": "SoS"
   },
   "source": [
    "After the `clean` step, the next `summarize` step works ok."
   ]
  },
  {
   "cell_type": "code",
   "execution_count": 5,
   "metadata": {
    "kernel": "SoS"
   },
   "outputs": [
    {
     "name": "stdout",
     "output_type": "stream",
     "text": [
      "Analyze data with parameter 20\n",
      "Writing report with input out.txt\n"
     ]
    },
    {
     "data": {
      "text/html": [
       "<div class=\"sos_hint\">> out.md (47 B):</div>"
      ],
      "text/plain": [
       "\n",
       "> out.md (47 B):"
      ]
     },
     "metadata": {},
     "output_type": "display_data"
    },
    {
     "data": {
      "text/html": [
       "<h2>A summary report</h2>\n",
       "<p>Result from parameter 20</p>"
      ],
      "text/plain": [
       "## A summary report\n",
       "\n",
       "Result from parameter 20\n",
       "\n"
      ]
     },
     "metadata": {},
     "output_type": "display_data"
    }
   ],
   "source": [
    "%preview out.md\n",
    "%runfile test1.sos clean -v0\n",
    "%runfile test1.sos summarize --par 20 -v0"
   ]
  },
  {
   "cell_type": "markdown",
   "metadata": {
    "kernel": "SoS"
   },
   "source": [
    "You can even execute the `clean` step before `summaize` using compound workflow as follows:"
   ]
  },
  {
   "cell_type": "code",
   "execution_count": 6,
   "metadata": {
    "kernel": "SoS"
   },
   "outputs": [
    {
     "name": "stdout",
     "output_type": "stream",
     "text": [
      "Analyze data with parameter 25\n",
      "Writing report with input out.txt\n"
     ]
    },
    {
     "data": {
      "text/html": [
       "<div class=\"sos_hint\">> out.md (47 B):</div>"
      ],
      "text/plain": [
       "\n",
       "> out.md (47 B):"
      ]
     },
     "metadata": {},
     "output_type": "display_data"
    },
    {
     "data": {
      "text/html": [
       "<h2>A summary report</h2>\n",
       "<p>Result from parameter 25</p>"
      ],
      "text/plain": [
       "## A summary report\n",
       "\n",
       "Result from parameter 25\n",
       "\n"
      ]
     },
     "metadata": {},
     "output_type": "display_data"
    }
   ],
   "source": [
    "%preview out.md\n",
    "%runfile test1.sos clean+summarize --par 25 -v0"
   ]
  },
  {
   "cell_type": "markdown",
   "metadata": {
    "kernel": "SoS"
   },
   "source": [
    "## Dependency tracing with option `-T` "
   ]
  },
  {
   "cell_type": "markdown",
   "metadata": {
    "kernel": "SoS"
   },
   "source": [
    "An easier method, perhaps unique to SoS, is to force the workflow engine to trace the dependency of existing files. More specifically, with option `-T` (trace dependency), SoS will check the input and dependent targets and see if they are the result of another step, and rerun the steps even if the targets already exist."
   ]
  },
  {
   "cell_type": "code",
   "execution_count": 7,
   "metadata": {
    "kernel": "SoS"
   },
   "outputs": [
    {
     "name": "stdout",
     "output_type": "stream",
     "text": [
      "Analyze data with parameter 26\n",
      "Writing report with input out.txt\n"
     ]
    },
    {
     "data": {
      "text/html": [
       "<div class=\"sos_hint\">> out.md (47 B):</div>"
      ],
      "text/plain": [
       "\n",
       "> out.md (47 B):"
      ]
     },
     "metadata": {},
     "output_type": "display_data"
    },
    {
     "data": {
      "text/html": [
       "<h2>A summary report</h2>\n",
       "<p>Result from parameter 26</p>"
      ],
      "text/plain": [
       "## A summary report\n",
       "\n",
       "Result from parameter 26\n",
       "\n"
      ]
     },
     "metadata": {},
     "output_type": "display_data"
    }
   ],
   "source": [
    "%preview out.md\n",
    "%runfile test.sos summarize --par 26 -T -v0"
   ]
  },
  {
   "cell_type": "markdown",
   "metadata": {
    "kernel": "SoS"
   },
   "source": [
    "In addition to avoiding the trouble of a `clean` step, this method is also more performant, because the `analyze` step will be ignored if its signature matches. This can be shown by running the same step twice as follows:"
   ]
  },
  {
   "cell_type": "code",
   "execution_count": 8,
   "metadata": {
    "kernel": "SoS"
   },
   "outputs": [
    {
     "data": {
      "text/html": [
       "<div class=\"sos_logging sos_info\">INFO: Running <span class=\"sos_highlight\">analyze</span>: \n",
       "</div>"
      ]
     },
     "metadata": {},
     "output_type": "display_data"
    },
    {
     "data": {
      "text/html": [
       "<div class=\"sos_logging sos_info\">INFO: <span class=\"sos_highlight\">analyze</span> (index=0) is <span class=\"sos_highlight\">ignored</span> due to saved signature\n",
       "</div>"
      ]
     },
     "metadata": {},
     "output_type": "display_data"
    },
    {
     "data": {
      "text/html": [
       "<div class=\"sos_logging sos_info\">INFO: output:   <span class=\"sos_highlight\">out.txt</span>\n",
       "</div>"
      ]
     },
     "metadata": {},
     "output_type": "display_data"
    },
    {
     "data": {
      "text/html": [
       "<div class=\"sos_logging sos_info\">INFO: Running <span class=\"sos_highlight\">summarize</span>: \n",
       "</div>"
      ]
     },
     "metadata": {},
     "output_type": "display_data"
    },
    {
     "name": "stdout",
     "output_type": "stream",
     "text": [
      "Writing report with input out.txt\n"
     ]
    },
    {
     "data": {
      "text/html": [
       "<div class=\"sos_logging sos_info\">INFO: Workflow summarize (ID=b835340f2af1c898) is executed successfully with 1 completed step and 1 ignored step.\n",
       "</div>"
      ]
     },
     "metadata": {},
     "output_type": "display_data"
    }
   ],
   "source": [
    "%runfile test.sos summarize --par 26 -T "
   ]
  },
  {
   "cell_type": "markdown",
   "metadata": {
    "kernel": "SoS"
   },
   "source": [
    "Because `out.txt` was generated with `par=26`, rerunning the workflow will not reproduce `out.txt`. This is clearly better than the `clean` approach, which will force the re-execution of the `analyze` step."
   ]
  },
  {
   "cell_type": "markdown",
   "metadata": {
    "kernel": "SoS"
   },
   "source": [
    "## Forcing dependency tracing of selected files"
   ]
  },
  {
   "cell_type": "markdown",
   "metadata": {
    "kernel": "SoS"
   },
   "source": [
    "<div class=\"bs-callout bs-callout-primary\" role=\"alert\">\n",
    "    <h4><code>traced</code> target</h4>\n",
    "    <p>A <code>traced</code> target (e.g. <code>traced('out.txt')</code>) will always be verified or re-generated even if it already exists. The function converts its parameters to a <code>sos_targets</code> object and marks all its targets. Therefore, this function accepts all parameters of <code>sos_targets</code> and you can use it in the format of<p>\n",
    "    <pre>\n",
    "    traced('a.txt')\n",
    "    traced('a.txt', 'b.txt')\n",
    "    traced(A='a.txt', B='b.txt')\n",
    "    ...\n",
    "    </pre>\n",
    "</div>"
   ]
  },
  {
   "cell_type": "markdown",
   "metadata": {
    "kernel": "SoS"
   },
   "source": [
    "The `-T` option is convenient but can be slow if your workflow handles a large amount of files because SoS will need to determine the dependent steps of all input and dependent files. In addition, users of your workflow may still produce erroneous output if they do not know the `-T` option.\n",
    "\n",
    "If some intermediate files are important and you always want to make sure that they are up to date, you can mark them as `traced` by wrapping them in the `traced` function."
   ]
  },
  {
   "cell_type": "code",
   "execution_count": 9,
   "metadata": {
    "kernel": "SoS"
   },
   "outputs": [
    {
     "data": {
      "text/html": [
       "<div class=\"sos_hint\">Cell content saved to <a href=\"test_traced.sos\" target=\"_blank\">test_traced.sos</a>, use option -r to also execute the cell.</div>"
      ],
      "text/plain": [
       "Cell content saved to test_traced.sos, use option -r to also execute the cell.\n"
      ]
     },
     "metadata": {},
     "output_type": "display_data"
    }
   ],
   "source": [
    "%save test_traced.sos -f\n",
    "\n",
    "[analyze]\n",
    "parameter: par=5\n",
    "output: 'out.txt'\n",
    "\n",
    "print(f'Analyze data with parameter {par}')\n",
    "with open(_output, 'w') as out:\n",
    "    out.write(f'Result from parameter {par}')\n",
    "\n",
    "[summarize]\n",
    "input: traced('out.txt')\n",
    "print(f'Writing report with input out.txt')\n",
    "report: input='out.txt', output='out.md'\n",
    "    ## A summary report\n",
    "\n",
    "[clean]\n",
    "sh:\n",
    "   echo Cleaning up\n",
    "   rm -f out.txt out.md"
   ]
  },
  {
   "cell_type": "markdown",
   "metadata": {
    "kernel": "SoS"
   },
   "source": [
    "Now, when you execute this workflow, the `analyze` step will always be executed (or ignored if signature matches) to ensure the integrity of `out.txt`."
   ]
  },
  {
   "cell_type": "code",
   "execution_count": 10,
   "metadata": {
    "kernel": "SoS"
   },
   "outputs": [
    {
     "name": "stdout",
     "output_type": "stream",
     "text": [
      "Analyze data with parameter 3\n",
      "Writing report with input out.txt\n"
     ]
    },
    {
     "data": {
      "text/html": [
       "<div class=\"sos_hint\">> out.md (46 B):</div>"
      ],
      "text/plain": [
       "\n",
       "> out.md (46 B):"
      ]
     },
     "metadata": {},
     "output_type": "display_data"
    },
    {
     "data": {
      "text/html": [
       "<h2>A summary report</h2>\n",
       "<p>Result from parameter 3</p>"
      ],
      "text/plain": [
       "## A summary report\n",
       "\n",
       "Result from parameter 3\n",
       "\n"
      ]
     },
     "metadata": {},
     "output_type": "display_data"
    }
   ],
   "source": [
    "%preview out.md\n",
    "%runfile test_traced.sos summarize --par 3 -v0"
   ]
  },
  {
   "cell_type": "code",
   "execution_count": 11,
   "metadata": {
    "kernel": "SoS"
   },
   "outputs": [
    {
     "name": "stdout",
     "output_type": "stream",
     "text": [
      "Analyze data with parameter 4\n",
      "Writing report with input out.txt\n"
     ]
    },
    {
     "data": {
      "text/html": [
       "<div class=\"sos_hint\">> out.md (46 B):</div>"
      ],
      "text/plain": [
       "\n",
       "> out.md (46 B):"
      ]
     },
     "metadata": {},
     "output_type": "display_data"
    },
    {
     "data": {
      "text/html": [
       "<h2>A summary report</h2>\n",
       "<p>Result from parameter 4</p>"
      ],
      "text/plain": [
       "## A summary report\n",
       "\n",
       "Result from parameter 4\n",
       "\n"
      ]
     },
     "metadata": {},
     "output_type": "display_data"
    }
   ],
   "source": [
    "%preview out.md\n",
    "%runfile test_traced.sos summarize --par 4 -v0"
   ]
  },
  {
   "cell_type": "code",
   "execution_count": 12,
   "metadata": {
    "kernel": "SoS"
   },
   "outputs": [
    {
     "name": "stdout",
     "output_type": "stream",
     "text": [
      "Writing report with input out.txt\n"
     ]
    },
    {
     "data": {
      "text/html": [
       "<div class=\"sos_hint\">> out.md (46 B):</div>"
      ],
      "text/plain": [
       "\n",
       "> out.md (46 B):"
      ]
     },
     "metadata": {},
     "output_type": "display_data"
    },
    {
     "data": {
      "text/html": [
       "<h2>A summary report</h2>\n",
       "<p>Result from parameter 4</p>"
      ],
      "text/plain": [
       "## A summary report\n",
       "\n",
       "Result from parameter 4\n",
       "\n"
      ]
     },
     "metadata": {},
     "output_type": "display_data"
    }
   ],
   "source": [
    "%preview out.md\n",
    "%runfile test_traced.sos summarize --par 4 -v0"
   ]
  },
  {
   "cell_type": "markdown",
   "metadata": {
    "kernel": "SoS"
   },
   "source": [
    "Note that the `analyze` step is ignored in the last case so you do not lose any productivity by rerunning the `analyze` step."
   ]
  },
  {
   "cell_type": "markdown",
   "metadata": {
    "kernel": "SoS"
   },
   "source": [
    "## Further reading\n",
    "\n",
    "* [How to create dependencies between SoS steps](doc/user_guide/step_dependencies.html)"
   ]
  }
 ],
 "metadata": {
  "kernelspec": {
   "display_name": "SoS",
   "language": "sos",
   "name": "sos"
  },
  "language_info": {
   "codemirror_mode": "sos",
   "file_extension": ".sos",
   "mimetype": "text/x-sos",
   "name": "sos",
   "nbconvert_exporter": "sos_notebook.converter.SoS_Exporter",
   "pygments_lexer": "sos"
  },
  "sos": {
   "kernels": [
    [
     "Bash",
     "bash",
     "Bash",
     "#E6EEFF"
    ],
    [
     "R",
     "ir",
     "R",
     "#DCDCDA"
    ],
    [
     "SoS",
     "sos",
     "",
     ""
    ]
   ],
   "panel": {
    "displayed": true,
    "height": 0
   },
   "version": "0.18.4"
  }
 },
 "nbformat": 4,
 "nbformat_minor": 2
}
