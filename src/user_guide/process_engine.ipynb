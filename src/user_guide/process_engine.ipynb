{
 "cells": [
  {
   "cell_type": "markdown",
   "metadata": {
    "kernel": "SoS"
   },
   "source": [
    "# How to execute tasks on a remote server without a batch system"
   ]
  },
  {
   "cell_type": "markdown",
   "metadata": {
    "kernel": "SoS"
   },
   "source": [
    "* **Difficulty level**: easy\n",
    "* **Time need to lean**: 10 minutes or less\n",
    "* **Key points**:\n",
    "\n",
    "  "
   ]
  },
  {
   "cell_type": "markdown",
   "metadata": {
    "kernel": "SoS",
    "output_cache": "[]"
   },
   "source": [
    "#### `queue_type`"
   ]
  },
  {
   "cell_type": "markdown",
   "metadata": {
    "kernel": "SoS",
    "output_cache": "[]"
   },
   "source": [
    "Option `query_type` determines the type of remote server or job queue. SoS currently supports the following types of job queues:\n",
    "\n",
    "1. **`process`**: this is the default queue type. Tasks are executed directly, either on local host or on a server.\n",
    "2. **`pbs`**: A PBS/MOAB/LFS/Slurm cluster system where tasks are submitted using commands such as `qsub`.\n",
    "3. **`rq`**: A redis queue where tasks are submitted to the rq server and monitored through rq-dashboard."
   ]
  },
  {
   "cell_type": "markdown",
   "metadata": {
    "kernel": "SoS"
   },
   "source": [
    "### Common host configuration"
   ]
  },
  {
   "cell_type": "markdown",
   "metadata": {
    "kernel": "SoS"
   },
   "source": [
    "SoS needs to know how to connect to a remote host, how to synchronize files between local and remote hosts, and how to execute commands on the remote host. These should be defined with the following keys:"
   ]
  },
  {
   "cell_type": "markdown",
   "metadata": {
    "kernel": "SoS",
    "output_cache": "[]"
   },
   "source": [
    "#### `address`"
   ]
  },
  {
   "cell_type": "markdown",
   "metadata": {
    "kernel": "SoS",
    "output_cache": "[]"
   },
   "source": [
    "IP address or URL of the host. Note that\n",
    "\n",
    "* `address` should be ignored for hosts, for example your desktop, that do not accept remote execution.\n",
    "* If you have a different user name on the the remote host, specify the `address` in the format of `username@hostaddress`.\n",
    "* SoS does not support username/password authentication so **public key authentication between local and remote hosts is reuired for communication between local and remote host**.\n",
    "* SoS currently does not support remote execution on windows hosts so no `address` is needed for windows hosts."
   ]
  },
  {
   "cell_type": "markdown",
   "metadata": {
    "kernel": "SoS"
   },
   "source": [
    "#### `hostname`"
   ]
  },
  {
   "cell_type": "markdown",
   "metadata": {
    "kernel": "SoS"
   },
   "source": [
    "The `hostname` of the machine, as reported by command `hostname` or Python's `socket.gethostname()`. This entry is used to identify the machine on which sos starts. It is needed only if the hostname is different from `alias` and `address`."
   ]
  },
  {
   "cell_type": "markdown",
   "metadata": {
    "kernel": "SoS",
    "output_cache": "[]"
   },
   "source": [
    "#### `port`"
   ]
  },
  {
   "cell_type": "markdown",
   "metadata": {
    "kernel": "SoS",
    "output_cache": "[]"
   },
   "source": [
    "ssh port of the remote host, which is `22` by default. "
   ]
  },
  {
   "cell_type": "markdown",
   "metadata": {
    "kernel": "SoS",
    "output_cache": "[]"
   },
   "source": [
    "#### `shared`"
   ]
  },
  {
   "cell_type": "markdown",
   "metadata": {
    "kernel": "SoS",
    "output_cache": "[]"
   },
   "source": [
    "Option `shared` tells SoS which file systems are shared between localhost and some remote hosts so that it does not have to synchronize files under these directories between the hosts.\n",
    "\n",
    "The `shared` entry should be defined with `name` and `path` pairs in the format of\n",
    "\n",
    "```\n",
    "hosts:\n",
    "    desktop:\n",
    "    server:\n",
    "        shared:\n",
    "            project: /myprojects\n",
    "            HTFS: /\n",
    "    worker:\n",
    "        shared:\n",
    "            HTFS: /\n",
    "    server1:\n",
    "        shared:\n",
    "            project: /scratch/myprojects\n",
    "            data: /scratch/data\n",
    "````\n",
    "\n",
    "The above cooked configuration says:\n",
    "\n",
    "1. `desktop` does not share any volume with any other machine so all files need to be transferred.\n",
    "2. `server` and `worker` shares `HTFS` with directory `/`, so all files are shared.\n",
    "3. `server` and `server1` share a `project` volume but the volume is mounted at different locations. So files under `myprojects` are not synchronized if you are submitting jobs from `server` to `server1`, and files under `/scratch/myprojects` are not synchronized if you are submitting jobs from `server1` to `server`.\n"
   ]
  },
  {
   "cell_type": "markdown",
   "metadata": {
    "kernel": "SoS",
    "output_cache": "[]"
   },
   "source": [
    "#### `paths`"
   ]
  },
  {
   "cell_type": "markdown",
   "metadata": {
    "kernel": "SoS",
    "output_cache": "[]"
   },
   "source": [
    "`paths` defines paths that will be translated when a task is executed remotely. For example, your input file on a mac might be `/Users/myuser/project/KS28.fa`, but it should be named `/home/myuser/project/KS28.fa` if it is processed on a remote server. In this case, you should define directories `/Users/myuser` and `/home/myuser` as equivalent directories on the two hosts, using \n",
    "\n",
    "```\n",
    "hosts:\n",
    "    desktop:\n",
    "        paths:\n",
    "            home: /Users/myuser\n",
    "    server:\n",
    "        paths:\n",
    "            home: /home/myuser\n",
    "```\n",
    "\n",
    "Multiple entried could be defined and the files would be mapped by the longest mapping path. For example, if you have on the server a shared location for all resources, you could define\n",
    "\n",
    "```\n",
    "hosts:\n",
    "    desktop:\n",
    "        paths:            \n",
    "            home: /Users/myuser\n",
    "            resource: /Users/myuser/resources\n",
    "    server:\n",
    "        paths:\n",
    "            home: /home/myuser\n",
    "            resource: /shared/resources\n",
    "```\n",
    "\n",
    "so that `/Users/myuser/resources/hg19.fa` could be mapped to `/shared/resources/hg19.fa` on the server. Note that `/Users/myuser/resource/hg19.fa` would be mapped to `resource` instead of `home` because `resource` matches longer piece of the input path.\n",
    "\n",
    "A remote host can be accessible from a local host only if the remote host defines all paths defined by the local host. More specifically, if host A defines path `home` and host B defines paths `home` and `resource`, it is possible to connect from host A to host B using `home`, but not from host B to A because SoS does not know how to map paths under `resource`."
   ]
  },
  {
   "cell_type": "markdown",
   "metadata": {
    "kernel": "SoS",
    "output_cache": "[]"
   },
   "source": [
    "#### `path_map` (derived)"
   ]
  },
  {
   "cell_type": "markdown",
   "metadata": {
    "kernel": "SoS",
    "output_cache": "[]"
   },
   "source": [
    "With definitions of `shared` and `paths` on both hosts, SoS would derive a set of `path_maps` between all hosts using common keys in `shared` and `path` between the hosts. Actually, when you run \n",
    "\n",
    "```\n",
    "sos status -q -v3\n",
    "```\n",
    "\n",
    "to list all host configurations, SoS would list all hosts accessible from `localhost`, with host-specific `path_map`, which is a list of directory mappings between local and remote directories. For example, the `path_map` from `desktop` to `server` using the above example would be\n",
    "\n",
    "```\n",
    "/Users/myuser -> /home/myuser\n",
    "/Users/myuser/resoruces -> /shared/resources\n",
    "```\n",
    "\n",
    "Note that if a directory shows in both `shared` and `paths` (e.g. `/scratch` in `shared` and `/scratch/user` in `paths`), files can still be synchronized following `path_map` to a different directory even if they are shared and are already on the remote server."
   ]
  },
  {
   "cell_type": "markdown",
   "metadata": {
    "kernel": "SoS"
   },
   "source": [
    "## Further reading\n",
    "\n",
    "* "
   ]
  }
 ],
 "metadata": {
  "kernelspec": {
   "display_name": "SoS",
   "language": "sos",
   "name": "sos"
  },
  "language_info": {
   "codemirror_mode": "sos",
   "file_extension": ".sos",
   "mimetype": "text/x-sos",
   "name": "sos",
   "nbconvert_exporter": "sos_notebook.converter.SoS_Exporter",
   "pygments_lexer": "sos"
  },
  "sos": {
   "kernels": [
    [
     "Bash",
     "bash",
     "Bash",
     "#E6EEFF"
    ],
    [
     "R",
     "ir",
     "R",
     "#DCDCDA"
    ],
    [
     "SoS",
     "sos",
     "",
     ""
    ]
   ],
   "panel": {
    "displayed": true,
    "height": 0
   },
   "version": "0.17.5"
  }
 },
 "nbformat": 4,
 "nbformat_minor": 2
}
