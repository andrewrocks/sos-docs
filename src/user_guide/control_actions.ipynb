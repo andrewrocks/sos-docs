{
 "cells": [
  {
   "cell_type": "markdown",
   "metadata": {
    "kernel": "SoS"
   },
   "source": [
    "# Using other SoS actions to control the execution of steps"
   ]
  },
  {
   "cell_type": "markdown",
   "metadata": {
    "kernel": "SoS"
   },
   "source": [
    "* **Difficulty level**: easy\n",
    "* **Time need to lean**: 10 minutes or less\n",
    "* **Key points**:\n",
    "  * Normal `break`, `continue`, `return` structures cannot be used in the implicit loops of substeps\n",
    "  * Action `warn_if` gives an warning under specified conditions\n",
    "  * Action `fail_if` raises an exception that terminates the substep and therefore the entire workflow if a condition is met\n",
    "  * Action `done_if` assumes that the substep is completed and ignores the rest of the statements\n",
    "  * Action `skip_if` skips the substep and removed `_output` even if the `_output` has been generated"
   ]
  },
  {
   "cell_type": "markdown",
   "metadata": {
    "kernel": "SoS"
   },
   "source": [
    "## Control structures of substeps "
   ]
  },
  {
   "cell_type": "code",
   "execution_count": 1,
   "metadata": {
    "kernel": "SoS"
   },
   "outputs": [],
   "source": [
    "# create a few input files for examples\n",
    "!touch a_0.txt a_1.txt a_2.txt a_3.txt"
   ]
  },
  {
   "cell_type": "markdown",
   "metadata": {
    "kernel": "SoS"
   },
   "source": [
    "SoS allows the use of arbitrary Python statements in step processes. For example, suppose you are processing a number of input files and some of them contain errors and have to be ignored, you can write a workflow step as follows:"
   ]
  },
  {
   "cell_type": "code",
   "execution_count": 2,
   "metadata": {
    "kernel": "SoS"
   },
   "outputs": [
    {
     "name": "stdout",
     "output_type": "stream",
     "text": [
      "generating a_0.out\n",
      "generating a_1.out\n",
      "generating a_3.out\n"
     ]
    }
   ],
   "source": [
    "infiles = [f'a_{i}.txt' for i in range(4)]\n",
    "outfiles = []\n",
    "for idx, infile in enumerate(infiles):\n",
    "    if idx == 2:  # problematic step\n",
    "        continue\n",
    "    out = f'a_{idx}.out'\n",
    "    sh(f'echo generating {out}\\ntouch {out}')\n",
    "    outfiles.append(out)"
   ]
  },
  {
   "cell_type": "markdown",
   "metadata": {
    "kernel": "SoS"
   },
   "source": [
    "However, as we have discussed in tutorials [How to include scripts in different langauges in SoS workflows](doc/user_guide/scripts_in_sos.html) and [How to specify input and output files and process input files in groups](doc/user_guide/input_substeps.html), steps written with loops and function calls like `sh()` are not very readable because the scripts are not clearly presented and users have to follow the logics of the code. Also, the input files are not processed in parallel so the step is not executed efficiently.\n",
    "\n",
    "The more SoS way to implement the step is to use input and output statements and script format of function calls as follows:"
   ]
  },
  {
   "cell_type": "code",
   "execution_count": 3,
   "metadata": {
    "kernel": "SoS"
   },
   "outputs": [
    {
     "name": "stdout",
     "output_type": "stream",
     "text": [
      "generating a_2.out\n"
     ]
    }
   ],
   "source": [
    "input: [f'a_{i}.txt' for i in range(4)], group_by=1\n",
    "output: _input.with_suffix('.out')\n",
    "\n",
    "sh: expand=True\n",
    "    echo generating {_output}\n",
    "    touch {_output}\n"
   ]
  },
  {
   "cell_type": "markdown",
   "metadata": {
    "kernel": "SoS"
   },
   "source": [
    "The problem is that substeps are processed concurrently and we do not yet have a way to treat them differentially and introduce the logic of\n",
    "\n",
    "```\n",
    "    if idx == 2:  # problematic step\n",
    "        continue\n",
    "```"
   ]
  },
  {
   "cell_type": "markdown",
   "metadata": {
    "kernel": "SoS"
   },
   "source": [
    "##  Action `skip_if`"
   ]
  },
  {
   "cell_type": "markdown",
   "metadata": {
    "kernel": "SoS"
   },
   "source": [
    "<div class=\"bs-callout bs-callout-primary\" role=\"alert\">\n",
    "    <h4>Action <code>skip_if(expr, msg)</code></h4>\n",
    "    <p>Action <code>skip_if(expr, msg)</code> skips the execution of the substep if condition <code>expr</code> is met. It also assume that the substep generates no output and set <code>_output</code> to empty. The usage pattern of <code>skip_if</code> is</p>\n",
    "    <pre>\n",
    "    output: ...\n",
    "    skip_if(...)\n",
    "    statements to produce _output\n",
    "    </pre>\n",
    "</div>"
   ]
  },
  {
   "cell_type": "markdown",
   "metadata": {
    "kernel": "SoS"
   },
   "source": [
    "The `skip_if` action allows you to skip certain substeps with certain condition. The condition can involve a (mostly) hidden variable `_index` which is the index of the substep. For example, the aforementioned step can be written as "
   ]
  },
  {
   "cell_type": "code",
   "execution_count": 9,
   "metadata": {
    "kernel": "SoS"
   },
   "outputs": [
    {
     "name": "stdout",
     "output_type": "stream",
     "text": [
      "generating a_0.out\n",
      "generating a_1.out\n",
      "generating a_3.out\n"
     ]
    }
   ],
   "source": [
    "input: [f'a_{i}.txt' for i in range(4)], group_by=1\n",
    "output: _input.with_suffix('.out')\n",
    "\n",
    "skip_if(_index == 2, 'input 2 has some problem')\n",
    "\n",
    "sh: expand=True\n",
    "    echo generating {_output}\n",
    "    touch {_output}\n"
   ]
  },
  {
   "cell_type": "markdown",
   "metadata": {
    "kernel": "SoS"
   },
   "source": [
    "It is important to remember that `skip_if` assumes that substep output is not generated and adjust `_output` accordingly. For example, if you pass the output of the step to another step, you will notice that the output of step `2` is empty."
   ]
  },
  {
   "cell_type": "code",
   "execution_count": 1,
   "metadata": {
    "kernel": "SoS"
   },
   "outputs": [
    {
     "data": {
      "text/html": [
       "\n",
       "<table id=\"workflow_cc5c08cee2864a7d83c650795d17ea65\" class=\"workflow_table  completed\">\n",
       "  <tr>\n",
       "        <td class=\"workflow_icon\">\n",
       "          <i id=\"workflow_status_icon_cc5c08cee2864a7d83c650795d17ea65\" class=\"fa fa-2x fa-fw fa-check-square-o\"\n",
       "          onmouseover='this.classList=\"fa fa-2x fa-fw fa-trash\"' onmouseleave='this.classList=\"fa fa-2x fa-fw fa-check-square-o\"' onclick=\"cancel_workflow(this.id.substring(21))\"></i>\n",
       "        </td>\n",
       "        <td class=\"workflow_name\">\n",
       "          <pre><span id=\"workflow_name_cc5c08cee2864a7d83c650795d17ea65\">default</span></pre>\n",
       "        </td>\n",
       "        <td class=\"workflow_id\">\n",
       "          <span>Workflow ID</span></br>\n",
       "          <pre><i class=\"fa fa-fw fa-sitemap\"></i><span id=\"workflow_id_cc5c08cee2864a7d83c650795d17ea65\">c0384881c11703fc</span></pre>\n",
       "        </td>\n",
       "        <td class=\"workflow_index\">\n",
       "          <span>Index</span></br>\n",
       "          <pre>#<span id=\"workflow_index_cc5c08cee2864a7d83c650795d17ea65\">1</span></pre>\n",
       "        </td>\n",
       "        <td class=\"workflow_status\">\n",
       "          <span id=\"status_text_cc5c08cee2864a7d83c650795d17ea65\">completed</span></br>\n",
       "          <pre><i class=\"fa fa-fw fa-clock-o\"></i><time id=\"status_duration_cc5c08cee2864a7d83c650795d17ea65\" class=\"completed\" datetime=\"1547566298499.821\">Ran for < 5 seconds</time></pre>\n",
       "        </td>\n",
       "  </tr>\n",
       "</table>\n"
      ]
     },
     "metadata": {},
     "output_type": "display_data"
    },
    {
     "name": "stdout",
     "output_type": "stream",
     "text": [
      "Input of 0 is a_0.out\n",
      "Input of 1 is a_1.out\n",
      "Input of 2 is \n",
      "Input of 3 is a_3.out\n"
     ]
    }
   ],
   "source": [
    "%run \n",
    "[10]\n",
    "input: [f'a_{i}.txt' for i in range(4)], group_by=1\n",
    "output: _input.with_suffix('.out')\n",
    "\n",
    "skip_if(_index == 2, 'input 2 has some problem')\n",
    "\n",
    "sh: expand=True\n",
    "    echo generating {_output}\n",
    "    touch {_output}\n",
    "\n",
    "[20]\n",
    "print(f'Input of {_index} is {_input}')"
   ]
  },
  {
   "cell_type": "markdown",
   "metadata": {
    "kernel": "SoS"
   },
   "source": [
    "## Action `done_if`"
   ]
  },
  {
   "cell_type": "markdown",
   "metadata": {
    "kernel": "SoS"
   },
   "source": [
    "<div class=\"bs-callout bs-callout-primary\" role=\"alert\">\n",
    "    <h4>Action <code>done_if(expr, msg)</code></h4>\n",
    "    <p>Action <code>done_if(expr, msg)</code> ignores the rest of the step process, assuming that the substep has been completed with output generated. The usage pattern of <code>done_if</code> is</p>\n",
    "    <pre>\n",
    "    output: ...\n",
    "    statements to produce _output\n",
    "    done_if(...)\n",
    "    additional statements\n",
    "    </pre>\n",
    "</div>"
   ]
  },
  {
   "cell_type": "markdown",
   "metadata": {
    "kernel": "SoS"
   },
   "source": [
    "A similar action is `done_if`, which also ignores the rest of the step process but assumes that the output has already been generated. Consequently, this action does not adjust `_output`. For example, if some more work is only applied to a subset of substeps, you can use `done_if` to execute additional code to only selected substeps."
   ]
  },
  {
   "cell_type": "code",
   "execution_count": 9,
   "metadata": {
    "kernel": "SoS"
   },
   "outputs": [
    {
     "data": {
      "text/html": []
     },
     "metadata": {},
     "output_type": "display_data"
    },
    {
     "name": "stdout",
     "output_type": "stream",
     "text": [
      "Input of 0 is a_0.out\n",
      "Input of 1 is a_1.out\n",
      "Input of 2 is a_2.out\n",
      "Input of 3 is a_3.out\n"
     ]
    }
   ],
   "source": [
    "%run -v0\n",
    "[10]\n",
    "input: [f'a_{i}.txt' for i in range(4)], group_by=1\n",
    "output: _input.with_suffix('.out')\n",
    "\n",
    "sh: expand=True\n",
    "    echo generating {_output}\n",
    "    touch {_output}\n",
    "\n",
    "done_if(_index != 2, 'input 2 need to be fixed')\n",
    "\n",
    "sh: expand=True\n",
    "    echo \"Fixing {_output}\"\n",
    "\n",
    "[20]\n",
    "print(f'Input of {_index} is {_input}')"
   ]
  },
  {
   "cell_type": "markdown",
   "metadata": {
    "kernel": "SoS"
   },
   "source": [
    "##  Action `warn_if`"
   ]
  },
  {
   "cell_type": "markdown",
   "metadata": {
    "kernel": "SoS"
   },
   "source": [
    "<div class=\"bs-callout bs-callout-primary\" role=\"alert\">\n",
    "    <h4>Action <code>warn_if(expr, msg)</code></h4>\n",
    "    <p>Action <code>warn_if(expr, msg)</code> gives an warning if a specified condition is met.</p>\n",
    "</div>"
   ]
  },
  {
   "cell_type": "markdown",
   "metadata": {
    "kernel": "SoS"
   },
   "source": [
    "Action `warn_if` is very easy to use. It just produces an warning message if something suspicious is detected."
   ]
  },
  {
   "cell_type": "code",
   "execution_count": 10,
   "metadata": {
    "kernel": "SoS"
   },
   "outputs": [],
   "source": [
    "input: [f'a_{i}.txt' for i in range(4)], group_by=1\n",
    "output: _input.with_suffix('.out')\n",
    "\n",
    "sh: expand=True\n",
    "    echo generating {_output}\n",
    "    touch {_output}\n",
    "\n",
    "warn_if(_index == 2, 'input 2 might be problematic')"
   ]
  },
  {
   "cell_type": "markdown",
   "metadata": {
    "kernel": "SoS"
   },
   "source": [
    "##  Action `fail_if`"
   ]
  },
  {
   "cell_type": "markdown",
   "metadata": {
    "kernel": "SoS"
   },
   "source": [
    "<div class=\"bs-callout bs-callout-primary\" role=\"alert\">\n",
    "    <h4>Action <code>fail_if(expr, msg)</code></h4>\n",
    "    <p>Action <code>fail_if(expr, msg)</code> terminates the execution of workflow if a condition is met.</p>\n",
    "</div>"
   ]
  },
  {
   "cell_type": "markdown",
   "metadata": {
    "kernel": "SoS"
   },
   "source": [
    "Action `fail_if` terminates the execution of the workflow under certain conditions. It kills all other processes (e.g. working substeps or nested workflows) and it should be used with caution if is unsafe to terminate the workflow abruptly.\n",
    "\n",
    "For example, if we decide to terminate the entire workflow if we detect something wrong with an input file, we can do"
   ]
  },
  {
   "cell_type": "code",
   "execution_count": 11,
   "metadata": {
    "kernel": "SoS"
   },
   "outputs": [
    {
     "name": "stdout",
     "output_type": "stream",
     "text": [
      "generating a_0.out\n",
      "generating a_1.out\n",
      "generating a_3.out\n"
     ]
    },
    {
     "name": "stderr",
     "output_type": "stream",
     "text": [
      "input 2 might be problematic\n"
     ]
    }
   ],
   "source": [
    "input: [f'a_{i}.txt' for i in range(4)], group_by=1\n",
    "output: _input.with_suffix('.out')\n",
    "\n",
    "sh: expand=True\n",
    "    echo generating {_output}\n",
    "    touch {_output}\n",
    "\n",
    "fail_if(_index == 2, 'input 2 might be problematic')"
   ]
  },
  {
   "cell_type": "markdown",
   "metadata": {
    "kernel": "SoS"
   },
   "source": [
    "## Further reading\n",
    "\n",
    "* [How to include scripts in different langauges in SoS workflows](doc/user_guide/scripts_in_sos.html)\n",
    "* [How to specify input and output files and process input files in groups](doc/user_guide/input_substeps.html)"
   ]
  }
 ],
 "metadata": {
  "kernelspec": {
   "display_name": "SoS",
   "language": "sos",
   "name": "sos"
  },
  "language_info": {
   "codemirror_mode": "sos",
   "file_extension": ".sos",
   "mimetype": "text/x-sos",
   "name": "sos",
   "nbconvert_exporter": "sos_notebook.converter.SoS_Exporter",
   "pygments_lexer": "sos"
  },
  "sos": {
   "kernels": [
    [
     "Bash",
     "bash",
     "Bash",
     "#E6EEFF"
    ],
    [
     "R",
     "ir",
     "R",
     "#DCDCDA"
    ],
    [
     "SoS",
     "sos",
     "",
     ""
    ]
   ],
   "panel": {
    "displayed": true,
    "height": 0
   },
   "version": "0.17.5"
  }
 },
 "nbformat": 4,
 "nbformat_minor": 2
}
