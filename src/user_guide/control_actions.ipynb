{
 "cells": [
  {
   "cell_type": "markdown",
   "metadata": {
    "kernel": "SoS"
   },
   "source": [
    "# Using other SoS actions to control the execution of steps"
   ]
  },
  {
   "cell_type": "markdown",
   "metadata": {
    "kernel": "SoS"
   },
   "source": [
    "* **Difficulty level**: easy\n",
    "* **Time need to lean**: 10 minutes or less\n",
    "* **Key points**:\n",
    "  "
   ]
  },
  {
   "cell_type": "markdown",
   "metadata": {
    "kernel": "SoS"
   },
   "source": [
    "###  Action `fail_if`\n",
    "\n",
    "Action `fail_if(expr, msg='')` raises an exception with `msg` (and terminate the execution of the workflow if the exception is not caught) if `expr` returns True."
   ]
  },
  {
   "cell_type": "markdown",
   "metadata": {
    "kernel": "SoS"
   },
   "source": [
    "###  Action `warn_if`\n",
    "\n",
    "Action `warn_if(expr, msg)` yields a warning message `msg` if `expr` is evaluate to be true."
   ]
  },
  {
   "cell_type": "markdown",
   "metadata": {
    "kernel": "SoS"
   },
   "source": [
    "###  Action `stop_if(cond, msg, no_output)`\n",
    "\n",
    "Action `stop_if(expr, msg='')` stops the execution of the current step (or current iteration if within input loops specified by parameters `group_by` or `for_each`) and gives a warning message if `msg` is specified. For example,"
   ]
  },
  {
   "cell_type": "code",
   "execution_count": 47,
   "metadata": {
    "kernel": "SoS",
    "output_cache": "[{\"output_type\":\"stream\",\"text\":\"['b.txt']\\n\",\"name\":\"stdout\"}]"
   },
   "outputs": [
    {
     "name": "stdout",
     "output_type": "stream",
     "text": [
      "b.txt\n"
     ]
    }
   ],
   "source": [
    "%sandbox\n",
    "%run\n",
    "!touch a.txt\n",
    "!echo 'something' > b.txt\n",
    "\n",
    "[10]\n",
    "input: '*.txt', group_by=1\n",
    "\n",
    "stop_if(os.path.getsize(_input[0]) == 0)\n",
    "print(_input)"
   ]
  },
  {
   "cell_type": "markdown",
   "metadata": {
    "kernel": "SoS"
   },
   "source": [
    "skips `a.txt` because it has size 0."
   ]
  },
  {
   "cell_type": "markdown",
   "metadata": {
    "kernel": "SoS",
    "output_cache": "[]"
   },
   "source": [
    "A side effect of `stop_if` is that it will clear `_output` of the iteration so that the step `output` consists of only files from non-stopped iterations. For example,"
   ]
  },
  {
   "cell_type": "code",
   "execution_count": 48,
   "metadata": {
    "kernel": "SoS",
    "output_cache": "[{\"output_type\":\"stream\",\"text\":\"/var/folders/ys/gnzk0qbx5wbdgm531v82xxljv5yqy8/T/tmpaa0en0ty: line 1: unexpected EOF while looking for matching `\\\"'\\n/var/folders/ys/gnzk0qbx5wbdgm531v82xxljv5yqy8/T/tmpaa0en0ty: line 4: syntax error: unexpected end of file\\nFailed to process statement run(r\\\"\\\"\\\"echo \\\"Generating ${_ou...ut}\\\\n\\\\n\\\"\\\"\\\")\\\\n: Failed to execute script (ret=2). \\nPlease use command\\n    /bin/bash /var/folders/ys/gnzk0qbx5wbdgm531v82xxljv5yqy8/T/tmp7jyzqr2o/.sos/default_10_1\\nunder /private/var/folders/ys/gnzk0qbx5wbdgm531v82xxljv5yqy8/T/tmp7jyzqr2o to test it.\\n\",\"name\":\"stderr\"}]"
   },
   "outputs": [
    {
     "name": "stdout",
     "output_type": "stream",
     "text": [
      "echo \"Generating 1.txt\"\n",
      "Generating 1.txt\n",
      "touch 1.txt\n",
      "\n",
      "echo \"Generating 3.txt\"\n",
      "Generating 3.txt\n",
      "touch 3.txt\n",
      "\n",
      "echo \"Generating 5.txt\"\n",
      "Generating 5.txt\n",
      "touch 5.txt\n",
      "\n",
      "echo \"Generating 7.txt\"\n",
      "Generating 7.txt\n",
      "touch 7.txt\n",
      "\n",
      "echo \"Generating 9.txt\"\n",
      "Generating 9.txt\n",
      "touch 9.txt\n",
      "\n",
      "Output of last step is Undetermined('')\n"
     ]
    }
   ],
   "source": [
    "%sandbox\n",
    "%run\n",
    "[10]\n",
    "input: for_each={'idx': range(10)}\n",
    "output: f\"{idx}.txt\"\n",
    "stop_if(idx % 2 == 0)\n",
    "run: expand=True\n",
    "    echo \"Generating {_output}\"\n",
    "    touch {_output}\n",
    "\n",
    "[20]\n",
    "print(f\"Output of last step is {input}\")"
   ]
  },
  {
   "cell_type": "markdown",
   "metadata": {
    "kernel": "SoS"
   },
   "source": [
    "## Further reading\n",
    "\n",
    "* "
   ]
  }
 ],
 "metadata": {
  "kernelspec": {
   "display_name": "SoS",
   "language": "sos",
   "name": "sos"
  },
  "language_info": {
   "codemirror_mode": "sos",
   "file_extension": ".sos",
   "mimetype": "text/x-sos",
   "name": "sos",
   "nbconvert_exporter": "sos_notebook.converter.SoS_Exporter",
   "pygments_lexer": "sos"
  },
  "sos": {
   "kernels": [
    [
     "Bash",
     "bash",
     "Bash",
     "#E6EEFF"
    ],
    [
     "R",
     "ir",
     "R",
     "#DCDCDA"
    ],
    [
     "SoS",
     "sos",
     "",
     ""
    ]
   ],
   "panel": {
    "displayed": true,
    "height": 0
   },
   "version": "0.17.5"
  }
 },
 "nbformat": 4,
 "nbformat_minor": 2
}
