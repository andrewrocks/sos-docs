{
 "cells": [
  {
   "cell_type": "markdown",
   "metadata": {
    "kernel": "SoS"
   },
   "source": [
    "# Title"
   ]
  },
  {
   "cell_type": "markdown",
   "metadata": {
    "kernel": "SoS"
   },
   "source": [
    "* **Difficulty level**: easy\n",
    "* **Time need to lean**: 10 minutes or less\n",
    "* **Key points**:\n",
    "  * a\n",
    "  "
   ]
  },
  {
   "cell_type": "markdown",
   "metadata": {
    "kernel": "SoS"
   },
   "source": [
    "### Action `docker_build`\n",
    "\n",
    "Build a docker image from an inline Docker file. The inline version of the action currently does not support adding any file from local machine because the docker file will be saved to a random directory. You can walk around this problem by creating a `Dockerfile` and pass it to the action through option `path`. This action accepts all parameters as specified in [docker-py documentation](http://docker-py.readthedocs.io/en/latest/images.html) because SoS simply pass additional parameters to the `build` function.\n",
    "\n",
    "For example, the following step builds a docker container for [MISO](http://miso.readthedocs.org/en/fastmiso/) based on anaconda python 2.7.\n",
    "\n",
    "```\n",
    "[build_1]\n",
    "# building miso from a Dockerfile\n",
    "docker_build: tag='mdabioinfo/miso:latest'\n",
    "\n",
    "\t############################################################\n",
    "\t# Dockerfile to build MISO container images\n",
    "\t# Based on Anaconda python\n",
    "\t############################################################\n",
    "\n",
    "\t# Set the base image to anaconda Python 2.7 (miso does not support python 3)\n",
    "\tFROM continuumio/anaconda\n",
    "\n",
    "\t# File Author / Maintainer\n",
    "\tMAINTAINER Bo Peng <bpeng@mdanderson.org>\n",
    "\n",
    "\t# Update the repository sources list\n",
    "\tRUN apt-get update\n",
    "\n",
    "\t# Install compiler and python stuff, samtools and git\n",
    "\tRUN apt-get install --yes \\\n",
    "\t build-essential \\\n",
    "\t gcc-multilib \\\n",
    "\t gfortran \\ \n",
    "\t apt-utils \\\n",
    "\t libblas3 \\ \n",
    "\t liblapack3 \\\n",
    "\t libc6 \\\n",
    "\t cython \\ \n",
    "\t samtools \\\n",
    "\t libbam-dev \\\n",
    "\t bedtools \\\n",
    "\t wget \\\n",
    "\t zlib1g-dev \\ \n",
    "\t tar \\\n",
    "\t gzip\n",
    "\n",
    "\tWORKDIR /usr/local\n",
    "\tRUN pip install misopy\n",
    "```"
   ]
  },
  {
   "cell_type": "markdown",
   "metadata": {
    "kernel": "SoS"
   },
   "source": [
    "### Action  `download`"
   ]
  },
  {
   "cell_type": "markdown",
   "metadata": {
    "kernel": "SoS"
   },
   "source": [
    "Action `download(URLs, dest_dir='.', dest_file=None, decompress=False, max_jobs=5)` download files from specified URLs, which can be a list of URLs, or a string with tab, space or newline separated URLs. \n",
    "\n",
    "* If `dest_file` is specified, only one URL is allowed and the URL can have any form.\n",
    "* Otherwise all files will be downloaded to `dest_dir`. Filenames are determined from URLs so the URLs must have the last portion as the filename to save. \n",
    "* If `decompress` is True, `.zip` file, compressed or plan `tar` (e.g. `.tar.gz`) files, and `.gz` files will be decompressed to the same directory as the downloaded file.\n",
    "* `max_jobs` controls the maximum number of concurrent connection to **each domain** across instances of the `download` action. That is to say, if multiple steps from multiple workflows download files from the same website, at most `max_jobs` connections will be made. This option can therefore be used to throttle downloads to websites.\n",
    "\n",
    "For example,\n",
    "\n",
    "```\n",
    "[10]\n",
    "GATK_RESOURCE_DIR = '/path/to/resource'\n",
    "GATK_URL = 'ftp://gsapubftp-anonymous@ftp.broadinstitute.org/bundle/2.8/hg19/'\n",
    "\n",
    "download:   dest_dir=GATK_RESOURCE_DIR, expand=True\n",
    "    {GATK_URL}/1000G_omni2.5.hg19.sites.vcf.gz\n",
    "    {GATK_URL}/1000G_omni2.5.hg19.sites.vcf.gz.md5\n",
    "    {GATK_URL}/1000G_omni2.5.hg19.sites.vcf.idx.gz\n",
    "    {GATK_URL}/1000G_omni2.5.hg19.sites.vcf.idx.gz.md5\n",
    "```\n",
    "\n",
    "download the specified files to `GATK_RESOURCE_DIR`. The `.md5` files will be automatically used to validate the content of the associated files. Note that \n",
    "\n",
    "SoS automatically save signature of downloaded and decompressed files so the files will not be re-downloaded if the action is called multiple times. You can however still still specifies input and output of the step to use step signature\n",
    "\n",
    "\n",
    "```\n",
    "[10]\n",
    "GATK_RESOURCE_DIR = '/path/to/resource'\n",
    "GATK_URL = 'ftp://gsapubftp-anonymous@ftp.broadinstitute.org/bundle/2.8/hg19/'\n",
    "RESOUCE_FILES =  '''1000G_omni2.5.hg19.sites.vcf.gz\n",
    "    1000G_omni2.5.hg19.sites.vcf.gz.md5\n",
    "    1000G_omni2.5.hg19.sites.vcf.idx.gz\n",
    "    1000G_omni2.5.hg19.sites.vcf.idx.gz.md5'''.split() \n",
    "input: []\n",
    "output:  [os.path.join(GATK_RESOURCE_DIR, x) for x in GATK_RESOURCE_FILES]\n",
    "download([f'{GATK_URL}/{x}' for x in GATK_RESOURCE_FILES], dest=GATK_RESOURCE_DIR)\n",
    "```\n",
    "\n",
    "Note that the `download` action uses up to 5 processes to download files. You can change this number by adjusting system configuration `sos_download_processes`."
   ]
  },
  {
   "cell_type": "markdown",
   "metadata": {
    "kernel": "SoS"
   },
   "source": [
    "###  Action `fail_if`\n",
    "\n",
    "Action `fail_if(expr, msg='')` raises an exception with `msg` (and terminate the execution of the workflow if the exception is not caught) if `expr` returns True."
   ]
  },
  {
   "cell_type": "markdown",
   "metadata": {
    "kernel": "SoS"
   },
   "source": [
    "###  Action `warn_if`\n",
    "\n",
    "Action `warn_if(expr, msg)` yields a warning message `msg` if `expr` is evaluate to be true."
   ]
  },
  {
   "cell_type": "markdown",
   "metadata": {
    "kernel": "SoS"
   },
   "source": [
    "###  Action `stop_if`\n",
    "\n",
    "Action `stop_if(expr, msg='')` stops the execution of the current step (or current iteration if within input loops specified by parameters `group_by` or `for_each`) and gives a warning message if `msg` is specified. For example,"
   ]
  },
  {
   "cell_type": "code",
   "execution_count": 47,
   "metadata": {
    "kernel": "SoS",
    "output_cache": "[{\"output_type\":\"stream\",\"text\":\"['b.txt']\\n\",\"name\":\"stdout\"}]"
   },
   "outputs": [
    {
     "name": "stdout",
     "output_type": "stream",
     "text": [
      "b.txt\n"
     ]
    }
   ],
   "source": [
    "%sandbox\n",
    "%run\n",
    "!touch a.txt\n",
    "!echo 'something' > b.txt\n",
    "\n",
    "[10]\n",
    "input: '*.txt', group_by=1\n",
    "\n",
    "stop_if(os.path.getsize(_input[0]) == 0)\n",
    "print(_input)"
   ]
  },
  {
   "cell_type": "markdown",
   "metadata": {
    "kernel": "SoS"
   },
   "source": [
    "skips `a.txt` because it has size 0."
   ]
  },
  {
   "cell_type": "markdown",
   "metadata": {
    "kernel": "SoS",
    "output_cache": "[]"
   },
   "source": [
    "A side effect of `stop_if` is that it will clear `_output` of the iteration so that the step `output` consists of only files from non-stopped iterations. For example,"
   ]
  },
  {
   "cell_type": "code",
   "execution_count": 48,
   "metadata": {
    "kernel": "SoS",
    "output_cache": "[{\"output_type\":\"stream\",\"text\":\"/var/folders/ys/gnzk0qbx5wbdgm531v82xxljv5yqy8/T/tmpaa0en0ty: line 1: unexpected EOF while looking for matching `\\\"'\\n/var/folders/ys/gnzk0qbx5wbdgm531v82xxljv5yqy8/T/tmpaa0en0ty: line 4: syntax error: unexpected end of file\\nFailed to process statement run(r\\\"\\\"\\\"echo \\\"Generating ${_ou...ut}\\\\n\\\\n\\\"\\\"\\\")\\\\n: Failed to execute script (ret=2). \\nPlease use command\\n    /bin/bash /var/folders/ys/gnzk0qbx5wbdgm531v82xxljv5yqy8/T/tmp7jyzqr2o/.sos/default_10_1\\nunder /private/var/folders/ys/gnzk0qbx5wbdgm531v82xxljv5yqy8/T/tmp7jyzqr2o to test it.\\n\",\"name\":\"stderr\"}]"
   },
   "outputs": [
    {
     "name": "stdout",
     "output_type": "stream",
     "text": [
      "echo \"Generating 1.txt\"\n",
      "Generating 1.txt\n",
      "touch 1.txt\n",
      "\n",
      "echo \"Generating 3.txt\"\n",
      "Generating 3.txt\n",
      "touch 3.txt\n",
      "\n",
      "echo \"Generating 5.txt\"\n",
      "Generating 5.txt\n",
      "touch 5.txt\n",
      "\n",
      "echo \"Generating 7.txt\"\n",
      "Generating 7.txt\n",
      "touch 7.txt\n",
      "\n",
      "echo \"Generating 9.txt\"\n",
      "Generating 9.txt\n",
      "touch 9.txt\n",
      "\n",
      "Output of last step is Undetermined('')\n"
     ]
    }
   ],
   "source": [
    "%sandbox\n",
    "%run\n",
    "[10]\n",
    "input: for_each={'idx': range(10)}\n",
    "output: f\"{idx}.txt\"\n",
    "stop_if(idx % 2 == 0)\n",
    "run: expand=True\n",
    "    echo \"Generating {_output}\"\n",
    "    touch {_output}\n",
    "\n",
    "[20]\n",
    "print(f\"Output of last step is {input}\")"
   ]
  },
  {
   "cell_type": "markdown",
   "metadata": {
    "kernel": "SoS"
   },
   "source": [
    "## Further reading\n",
    "\n",
    "* "
   ]
  }
 ],
 "metadata": {
  "kernelspec": {
   "display_name": "SoS",
   "language": "sos",
   "name": "sos"
  },
  "language_info": {
   "codemirror_mode": "sos",
   "file_extension": ".sos",
   "mimetype": "text/x-sos",
   "name": "sos",
   "nbconvert_exporter": "sos_notebook.converter.SoS_Exporter",
   "pygments_lexer": "sos"
  },
  "sos": {
   "kernels": [
    [
     "Bash",
     "bash",
     "Bash",
     "#E6EEFF"
    ],
    [
     "R",
     "ir",
     "R",
     "#DCDCDA"
    ],
    [
     "SoS",
     "sos",
     "",
     ""
    ]
   ],
   "panel": {
    "displayed": true,
    "height": 0
   },
   "version": "0.17.4"
  }
 },
 "nbformat": 4,
 "nbformat_minor": 2
}
