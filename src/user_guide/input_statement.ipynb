{
 "cells": [
  {
   "cell_type": "markdown",
   "metadata": {
    "kernel": "SoS"
   },
   "source": [
    "# How to define step input"
   ]
  },
  {
   "cell_type": "markdown",
   "metadata": {
    "kernel": "SoS"
   },
   "source": [
    "* **Difficulty level**: easy\n",
    "* **Time need to lean**: 10 minutes or less\n",
    "* **Key points**:\n",
    "  * Input statements accepts regular Python aguments\n",
    "  * Input files can be grouped to create substeps\n",
    "  * Input files can be labeled and be accessed by the labels\n",
    "  * A step can include part or all output from other steps\n",
    "  * You can attach variables to individual input files or substeps  "
   ]
  },
  {
   "cell_type": "markdown",
   "metadata": {
    "kernel": "SoS"
   },
   "source": [
    "The `input` statement defines the input files or targets of a SoS step, it is optional but is fundamental for the creation of all but very simple workflows. You can check out the [How to create dependencies between SoS steps](doc/user_guide/step_dependencies.html) tutorial for a quick overview of the use of input statements. This tutorial lists what you can put in the `input` statement of a step with simple examples and you should refer to other tutorials for more in-depth discussions of the topics."
   ]
  },
  {
   "cell_type": "markdown",
   "metadata": {
    "kernel": "SoS"
   },
   "source": [
    "## Steps with no input statement"
   ]
  },
  {
   "cell_type": "markdown",
   "metadata": {
    "kernel": "SoS"
   },
   "source": [
    "The `input` statement is optional. When no input file is defined, a step will either have undefined input, or output from its previous step as its input. "
   ]
  },
  {
   "cell_type": "markdown",
   "metadata": {
    "kernel": "SoS"
   },
   "source": [
    "For example, the following workflow has a step `A` that execute a simple shell script. No input statement is needed and the workflow will work just fine."
   ]
  },
  {
   "cell_type": "code",
   "execution_count": 5,
   "metadata": {
    "kernel": "SoS"
   },
   "outputs": [],
   "source": [
    "%run A -v0\n",
    "[A]\n",
    "sh:\n",
    "  echo do something"
   ]
  },
  {
   "cell_type": "markdown",
   "metadata": {
    "kernel": "SoS"
   },
   "source": [
    "In a special case when a workflow is defined with numerically indexed steps, a step without input statement will depend on its previous step and take its output as its input. Here we just present a very simple example and you will see more complex examples in other tutorials."
   ]
  },
  {
   "cell_type": "code",
   "execution_count": 7,
   "metadata": {
    "kernel": "SoS"
   },
   "outputs": [
    {
     "name": "stdout",
     "output_type": "stream",
     "text": [
      "The input of this step is a.txt\n"
     ]
    }
   ],
   "source": [
    "%run  -v0\n",
    "\n",
    "[step_10]\n",
    "output: 'a.txt'\n",
    "_output.touch()\n",
    "\n",
    "[step_20]\n",
    "print(f'The input of this step is {step_input}')"
   ]
  },
  {
   "cell_type": "markdown",
   "metadata": {
    "kernel": "SoS"
   },
   "source": [
    "## Unnamed input files"
   ]
  },
  {
   "cell_type": "markdown",
   "metadata": {
    "kernel": "SoS"
   },
   "source": [
    "The easiest way to explicitly specify input of a step is to list input files directly in the `input` statement. Because SoS  checks the existence of input files when it executes a step, let us first create a few files:"
   ]
  },
  {
   "cell_type": "code",
   "execution_count": 9,
   "metadata": {
    "kernel": "SoS"
   },
   "outputs": [],
   "source": [
    "# create some sample files\n",
    "!touch a.txt b.txt c.txt d.txt"
   ]
  },
  {
   "cell_type": "markdown",
   "metadata": {
    "kernel": "SoS"
   },
   "source": [
    "The following is a SoS step (with a default section head) with a `input` statement, which results in a `step_input` variable with a single file `a.txt`:"
   ]
  },
  {
   "cell_type": "code",
   "execution_count": 4,
   "metadata": {
    "kernel": "SoS"
   },
   "outputs": [
    {
     "name": "stdout",
     "output_type": "stream",
     "text": [
      "step_input is a.txt\n"
     ]
    }
   ],
   "source": [
    "input: 'a.txt'\n",
    "print(f'step_input is {step_input}')"
   ]
  },
  {
   "cell_type": "markdown",
   "metadata": {
    "kernel": "SoS"
   },
   "source": [
    "Multiple files can be listed as multiple paramters, sequences (`list`, `tuple` etc), or variables of string or sequence types. For example, you can define a parameter `in_files` of type `paths` (list of `path`) and specify input files from command line:"
   ]
  },
  {
   "cell_type": "code",
   "execution_count": 3,
   "metadata": {
    "kernel": "SoS"
   },
   "outputs": [
    {
     "data": {
      "text/html": []
     },
     "metadata": {},
     "output_type": "display_data"
    },
    {
     "name": "stdout",
     "output_type": "stream",
     "text": [
      "step_input is a.txt b.txt\n"
     ]
    }
   ],
   "source": [
    "%run --in-files a.txt b.txt -v0\n",
    "parameter: in_files = paths\n",
    "input: in_files\n",
    "\n",
    "print(f'step_input is {step_input}')"
   ]
  },
  {
   "cell_type": "markdown",
   "metadata": {
    "kernel": "SoS"
   },
   "source": [
    "You can list multiple files, mix string literals with variable names, "
   ]
  },
  {
   "cell_type": "code",
   "execution_count": 5,
   "metadata": {
    "kernel": "SoS"
   },
   "outputs": [
    {
     "name": "stdout",
     "output_type": "stream",
     "text": [
      "step_input is a.txt b.txt c.txt d.txt\n"
     ]
    }
   ],
   "source": [
    "in_files = ['a.txt', 'b.txt']\n",
    "input: in_files, 'c.txt', 'd.txt'\n",
    "\n",
    "print(f'step_input is {step_input}')"
   ]
  },
  {
   "cell_type": "markdown",
   "metadata": {
    "kernel": "SoS"
   },
   "source": [
    "Because steps in these examples do not have any substep, it is equivalent to use variable `_input` instead of `step_input`."
   ]
  },
  {
   "cell_type": "markdown",
   "metadata": {
    "kernel": "SoS"
   },
   "source": [
    "## Substep created by option `group_by`"
   ]
  },
  {
   "cell_type": "markdown",
   "metadata": {
    "kernel": "SoS"
   },
   "source": [
    "A step can be executed multiple times with different variables, which are called **substeps**. The input of each substep is assigned to variable `_step`. The most common way to define substeps are using option `group_by` to group input files.\n",
    "\n",
    "For example,"
   ]
  },
  {
   "cell_type": "code",
   "execution_count": 10,
   "metadata": {
    "kernel": "SoS"
   },
   "outputs": [
    {
     "name": "stdout",
     "output_type": "stream",
     "text": [
      "Input of substep is a.txt b.txt\n",
      "Input of substep is c.txt d.txt\n"
     ]
    }
   ],
   "source": [
    "input: 'a.txt', 'b.txt', 'c.txt', 'd.txt', group_by=2\n",
    "print(f'Input of substep is {_input}')"
   ]
  },
  {
   "cell_type": "markdown",
   "metadata": {
    "kernel": "SoS"
   },
   "source": [
    "## Substep craeted by option `for_each`"
   ]
  },
  {
   "cell_type": "markdown",
   "metadata": {
    "kernel": "SoS"
   },
   "source": [
    "Another way to create substeps are repeating the step with different values of a variable. For example, in the following example, a variable `val` is defined to iterate through a list `[1, 2]` and it will create two substeps with `val=1` and `val=2` respectively."
   ]
  },
  {
   "cell_type": "code",
   "execution_count": 12,
   "metadata": {
    "kernel": "SoS"
   },
   "outputs": [
    {
     "name": "stdout",
     "output_type": "stream",
     "text": [
      "Processing a.txt with 1\n",
      "Processing a.txt with 2\n"
     ]
    }
   ],
   "source": [
    "input: 'a.txt', for_each=dict(val=[1, 2])\n",
    "print(f'Processing {_input} with {val}')"
   ]
  },
  {
   "cell_type": "markdown",
   "metadata": {
    "kernel": "SoS"
   },
   "source": [
    "## Named input"
   ]
  },
  {
   "cell_type": "markdown",
   "metadata": {
    "kernel": "SoS"
   },
   "source": [
    "You can assign subsets of your input files some labels and refer to these subsets with the labels."
   ]
  },
  {
   "cell_type": "code",
   "execution_count": 13,
   "metadata": {
    "kernel": "SoS"
   },
   "outputs": [
    {
     "name": "stdout",
     "output_type": "stream",
     "text": [
      "Step input is a.txt b.txt. Inputs with label A is a.txt. Input with label B is b.txt\n"
     ]
    }
   ],
   "source": [
    "input: A='a.txt', B='b.txt'\n",
    "print(f'Step input is {_input}. Inputs with label A is {_input[\"A\"]}. Input with label B is {_input[\"B\"]}')"
   ]
  },
  {
   "cell_type": "markdown",
   "metadata": {
    "kernel": "SoS"
   },
   "source": [
    "## Attach variables to individual input files"
   ]
  },
  {
   "cell_type": "markdown",
   "metadata": {
    "kernel": "SoS"
   },
   "source": [
    "Variables `step_input` and `_input` are of type `sos_targets`, which consists of SoS targets, most of which are `file_targets`. All targets have a dictionary that can be used to store attributes related to them.\n",
    "\n",
    "For example, by pairing a list of sample names to a list of input files, the attribute `sample_name` is attached to each input file and can be accessible through `.sample_name`."
   ]
  },
  {
   "cell_type": "code",
   "execution_count": 15,
   "metadata": {
    "kernel": "SoS"
   },
   "outputs": [
    {
     "name": "stdout",
     "output_type": "stream",
     "text": [
      "Input of substep is a.txt b.txt, with sample names A and B\n"
     ]
    }
   ],
   "source": [
    "input: 'a.txt', 'b.txt', paired_with=dict(sample_name=['A', 'B'])\n",
    "print(f'Input of substep is {_input}, with sample names {_input[0].sample_name} and {_input[1].sample_name}')\n"
   ]
  },
  {
   "cell_type": "markdown",
   "metadata": {
    "kernel": "SoS"
   },
   "source": [
    "The variables are attached to individual input files so they will be available with the files in substeps:"
   ]
  },
  {
   "cell_type": "code",
   "execution_count": 18,
   "metadata": {
    "kernel": "SoS"
   },
   "outputs": [
    {
     "name": "stdout",
     "output_type": "stream",
     "text": [
      "Input of substep is a.txt, with sample names A\n",
      "Input of substep is b.txt, with sample names B\n"
     ]
    }
   ],
   "source": [
    "input: 'a.txt', 'b.txt', paired_with=dict(sample_name=['A', 'B']), group_by=1\n",
    "print(f'Input of substep is {_input}, with sample names {_input[0].sample_name}')"
   ]
  },
  {
   "cell_type": "markdown",
   "metadata": {
    "kernel": "SoS"
   },
   "source": [
    "## Attach variables to substeps"
   ]
  },
  {
   "cell_type": "markdown",
   "metadata": {
    "kernel": "SoS"
   },
   "source": [
    "When we group input files, we can attach attribute to the entire group presented by variable `_input`. This is done through option `group_with`.\n",
    "\n",
    "For example, in the following workflow, 4 files are grouped into two groups each with two files. The two groups are attached with items in list `['AB', 'CD']` with name `sample_name`, and can be accessed with `_input.sample_name`."
   ]
  },
  {
   "cell_type": "code",
   "execution_count": 16,
   "metadata": {
    "kernel": "SoS"
   },
   "outputs": [
    {
     "name": "stdout",
     "output_type": "stream",
     "text": [
      "Input of substep is a.txt b.txt, with sample name AB\n",
      "Input of substep is c.txt d.txt, with sample name CD\n"
     ]
    }
   ],
   "source": [
    "input: 'a.txt', 'b.txt', 'c.txt', 'd.txt', group_with=dict(sample_name=['AB', 'CD']), group_by=2\n",
    "print(f'Input of substep is {_input}, with sample name {_input.sample_name}')"
   ]
  },
  {
   "cell_type": "markdown",
   "metadata": {
    "kernel": "SoS"
   },
   "source": [
    "For simplicity (and backward compatibility), the substep variables can be accessed directly in substeps so that you can use `sample_name` instead of `_input.sample_name`."
   ]
  },
  {
   "cell_type": "code",
   "execution_count": 17,
   "metadata": {
    "kernel": "SoS"
   },
   "outputs": [
    {
     "name": "stdout",
     "output_type": "stream",
     "text": [
      "Input of substep is a.txt b.txt, with sample name AB\n",
      "Input of substep is c.txt d.txt, with sample name CD\n"
     ]
    }
   ],
   "source": [
    "input: 'a.txt', 'b.txt', 'c.txt', 'd.txt', group_with=dict(sample_name=['AB', 'CD']), group_by=2\n",
    "print(f'Input of substep is {_input}, with sample name {sample_name}')"
   ]
  },
  {
   "cell_type": "markdown",
   "metadata": {
    "kernel": "SoS"
   },
   "source": [
    "## Named input with function `named_input`"
   ]
  },
  {
   "cell_type": "markdown",
   "metadata": {
    "kernel": "SoS"
   },
   "source": [
    "The input statement accept python functions. A function `named_input` is defined to include named output from another step."
   ]
  },
  {
   "cell_type": "code",
   "execution_count": 21,
   "metadata": {
    "kernel": "SoS"
   },
   "outputs": [
    {
     "name": "stdout",
     "output_type": "stream",
     "text": [
      "Input of the step is output.html\n"
     ]
    }
   ],
   "source": [
    "%run -v0\n",
    "\n",
    "[A]\n",
    "output: summary='output.html'\n",
    "_output.touch()\n",
    "\n",
    "[default]\n",
    "input: named_output('summary')\n",
    "print(f'Input of the step is {_input}')"
   ]
  },
  {
   "cell_type": "markdown",
   "metadata": {
    "kernel": "SoS"
   },
   "source": [
    "## Output from another step using function `output_from`"
   ]
  },
  {
   "cell_type": "markdown",
   "metadata": {
    "kernel": "SoS"
   },
   "source": [
    "`named_output` can be used to refer to part of, if multiple named output exists, or all of the output from a step. Similarly, a function `output_from` can be used to include complete output from specified step:"
   ]
  },
  {
   "cell_type": "code",
   "execution_count": 23,
   "metadata": {
    "kernel": "SoS"
   },
   "outputs": [
    {
     "name": "stdout",
     "output_type": "stream",
     "text": [
      "Input of the step is output.html\n"
     ]
    }
   ],
   "source": [
    "%run -v0\n",
    "\n",
    "[A]\n",
    "output: 'output.html'\n",
    "_output.touch()\n",
    "\n",
    "[default]\n",
    "input: output_from('A')\n",
    "print(f'Input of the step is {_input}')"
   ]
  },
  {
   "cell_type": "markdown",
   "metadata": {
    "kernel": "SoS"
   },
   "source": [
    "## Further reading\n",
    "\n",
    "* [How to specify input and output files and process input files in groups](doc/user_guide/input_substeps.html) for basics of step and substeps.\n",
    "* [How to process input files in groups](doc/user_guide/group_by.html) for option `group_by`, and\n",
    "* [How to repeat steps for different parameters](doc/user_guide/for_each.html) for option `for_each`"
   ]
  }
 ],
 "metadata": {
  "kernelspec": {
   "display_name": "SoS",
   "language": "sos",
   "name": "sos"
  },
  "language_info": {
   "codemirror_mode": "sos",
   "file_extension": ".sos",
   "mimetype": "text/x-sos",
   "name": "sos",
   "nbconvert_exporter": "sos_notebook.converter.SoS_Exporter",
   "pygments_lexer": "sos"
  },
  "sos": {
   "kernels": [
    [
     "Bash",
     "bash",
     "Bash",
     "#E6EEFF"
    ],
    [
     "R",
     "ir",
     "R",
     "#DCDCDA"
    ],
    [
     "SoS",
     "sos",
     "",
     ""
    ]
   ],
   "panel": {
    "displayed": true,
    "height": 0
   },
   "version": "0.18.3"
  }
 },
 "nbformat": 4,
 "nbformat_minor": 2
}
