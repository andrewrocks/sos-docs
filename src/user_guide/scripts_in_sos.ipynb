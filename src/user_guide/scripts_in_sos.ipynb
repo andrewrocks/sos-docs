{
 "cells": [
  {
   "cell_type": "markdown",
   "metadata": {
    "kernel": "SoS"
   },
   "source": [
    "# Title"
   ]
  },
  {
   "cell_type": "markdown",
   "metadata": {
    "kernel": "SoS"
   },
   "source": [
    "* **Difficulty level**: easy\n",
    "* **Time need to lean**: 10 minutes or less\n",
    "* **Key points**:\n",
    "  * a\n",
    "  "
   ]
  },
  {
   "cell_type": "markdown",
   "metadata": {
    "kernel": "SoS"
   },
   "source": [
    "## Script style function call <a id=\"Script_style_function_call\"></a>"
   ]
  },
  {
   "cell_type": "markdown",
   "metadata": {
    "kernel": "SoS",
    "workflow_cell": true
   },
   "source": [
    "SoS allows you to write Python functions that accept a script (string) as the first parameter in a special script format. For example, an SoS function `R` that executes a script\n",
    "\n",
    "```sos\n",
    "R(\"\"\"\n",
    "pdf('output.pdf')\n",
    "plot(0, 0)\n",
    "dev.off()\n",
    "\"\"\", workdir='result')\n",
    "```\n",
    "\n",
    "can be written as\n",
    "\n",
    "```sos\n",
    "R:  workdir='result'\n",
    "pdf('output.pdf')\n",
    "plot(0, 0)\n",
    "dev.off()\n",
    "```"
   ]
  },
  {
   "cell_type": "markdown",
   "metadata": {
    "kernel": "SoS",
    "workflow_cell": true
   },
   "source": [
    "SoS **automatically dedents scripts in script format** so that you can indent the scripts (add equal amount of leading white spaces to all lines) and write the above example as\n",
    "\n",
    "```sos\n",
    "R:  workdir='result'\n",
    "   pdf('output.pdf')\n",
    "   plot(0, 0)\n",
    "   dev.off()\n",
    "```\n",
    "\n",
    "The latter is much preferred because it avoids trouble if the script contains SoS-like syntax such as `[1]` and `option:` and be treated as SoS directives, and more importantly, allows starting a new statement from a non-indented line. For example, `print('Hello world')` would be considered part of a R script in\n",
    "\n",
    "```sos\n",
    "R:  workdir='result'\n",
    "pdf('output.pdf')\n",
    "plot(0, 0)\n",
    "dev.off()\n",
    "\n",
    "print('Hello world')\n",
    "```\n",
    "\n",
    "but a separate statement in \n",
    "\n",
    "```sos\n",
    "R:  workdir='result'\n",
    "   pdf('output.pdf')\n",
    "   plot(0, 0)\n",
    "   dev.off()\n",
    "\n",
    "print('Hello world')\n",
    "```"
   ]
  },
  {
   "cell_type": "markdown",
   "metadata": {
    "kernel": "SoS"
   },
   "source": [
    "The script format also accepts an option `expand` that **expands expressions enclosed in specified sigils** ([literal string interpolation](https://www.python.org/dev/peps/pep-0498/)). Using `expand=True`, the included script is converted to a Python f-string so that the string will be interpolated when it is executed. For example,\n",
    "\n",
    "```\n",
    "output = 'output.pdf'\n",
    "R: workdir='result', expand=True\n",
    "   pdf('{output}')\n",
    "   plot(0, 0)\n",
    "   dev.off()\n",
    "```\n",
    "\n",
    "will be translated to\n",
    "\n",
    "```\n",
    "output = 'output.pdf'\n",
    "R(f'''\\\n",
    "pdf('{output}')\n",
    "plot(0, 0)\n",
    "dev.off()\n",
    "''', workdir='result')\n",
    "```\n",
    "which will be expanded to\n",
    "\n",
    "```\n",
    "R('''\\\n",
    "pdf('output.pdf')\n",
    "plot(0, 0)\n",
    "dev.off()\n",
    "''', workdir='result')\n",
    "```\n",
    "when the action is executed."
   ]
  },
  {
   "cell_type": "markdown",
   "metadata": {
    "kernel": "SoS"
   },
   "source": [
    "Although the use of expressions in literal string (`{ }` parts) is very convenient, the braces might conflict with the braces in languages such as R for which braces are widely used. The official method to include braces in such literal strings is to double the braces (`{{ }}`)  as in the following example"
   ]
  },
  {
   "cell_type": "code",
   "execution_count": 50,
   "metadata": {
    "kernel": "SoS"
   },
   "outputs": [
    {
     "name": "stdout",
     "output_type": "stream",
     "text": [
      "This is 1\n"
     ]
    }
   ],
   "source": [
    "a = 1\n",
    "R: expand=True\n",
    "    if ({a} == 1) {{\n",
    "      cat(\"This is 1\\n\");\n",
    "    }} else {{\n",
    "      cat(\"This is not 1\\n\");\n",
    "    }}"
   ]
  },
  {
   "cell_type": "markdown",
   "metadata": {
    "kernel": "SoS"
   },
   "source": [
    "However, as you can imagine, inclusion of long scripts with lots of braces like this could be tedious and error-prone. For this reason, SoS allows you to use an alternative sigil for the format string. For example, using `expand='${ }'`, you can expand expressions inside `${ }` instead of `{ }` for string interpolation and do not have to double the braces."
   ]
  },
  {
   "cell_type": "code",
   "execution_count": 51,
   "metadata": {
    "kernel": "SoS"
   },
   "outputs": [
    {
     "name": "stdout",
     "output_type": "stream",
     "text": [
      "This is 1\n"
     ]
    }
   ],
   "source": [
    "a = 1\n",
    "R: expand='${ }'\n",
    "    if (${a} == 1) {\n",
    "      cat(\"This is 1\\n\");\n",
    "    } else {\n",
    "      cat(\"This is not 1\\n\");\n",
    "    }"
   ]
  },
  {
   "cell_type": "markdown",
   "metadata": {
    "kernel": "SoS"
   },
   "source": [
    "The sigil specified by parameter `expand` should be a string with a single space separating left and right sigils (e.g. `\"[ ]\"`, `\"s( )\"`, `\"< >\"`). Note that the use of alternative sigils is just a convenient way for you to include large trunks of scripts with braces. Under the hood SoS will convert the string to properly formatted f-strings with doubled braces and `{ }` sigils."
   ]
  },
  {
   "cell_type": "markdown",
   "metadata": {
    "kernel": "SoS"
   },
   "source": [
    "As a final note, the SoS script format could be confused with Python's type hint syntax but SoS is able to tell the differences and treat them correctly:"
   ]
  },
  {
   "cell_type": "code",
   "execution_count": 52,
   "metadata": {
    "kernel": "SoS",
    "scrolled": true
   },
   "outputs": [
    {
     "data": {
      "text/plain": [
       "5"
      ]
     },
     "execution_count": 52,
     "metadata": {},
     "output_type": "execute_result"
    }
   ],
   "source": [
    "var : str = 5\n",
    "var"
   ]
  },
  {
   "cell_type": "markdown",
   "metadata": {
    "kernel": "SoS"
   },
   "source": [
    "### Option `sigil`\n",
    " <a id=\"Option_sigil\"></a>\n",
    "Option `sigil` accepts a string for an alternative sigil, or `None` to disable string interpolation in the step. The sigil must be two strings separated by a space, such as `%( )`, `< >`, and `#{ }`. Sigils with equal left and right symbol such as `# #` can be used although they do not support features such as nested interpolation. Please refer to section [SoS Syntax](SoS_Syntax.html) for details of this option."
   ]
  },
  {
   "cell_type": "markdown",
   "metadata": {
    "kernel": "SoS"
   },
   "source": [
    "## Further reading\n",
    "\n",
    "* "
   ]
  }
 ],
 "metadata": {
  "kernelspec": {
   "display_name": "SoS",
   "language": "sos",
   "name": "sos"
  },
  "language_info": {
   "codemirror_mode": "sos",
   "file_extension": ".sos",
   "mimetype": "text/x-sos",
   "name": "sos",
   "nbconvert_exporter": "sos_notebook.converter.SoS_Exporter",
   "pygments_lexer": "sos"
  },
  "sos": {
   "kernels": [
    [
     "Bash",
     "bash",
     "Bash",
     "#E6EEFF"
    ],
    [
     "R",
     "ir",
     "R",
     "#DCDCDA"
    ],
    [
     "SoS",
     "sos",
     "",
     ""
    ]
   ],
   "panel": {
    "displayed": true,
    "height": 0
   },
   "version": "0.17.4"
  }
 },
 "nbformat": 4,
 "nbformat_minor": 2
}
