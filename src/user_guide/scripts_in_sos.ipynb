{
 "cells": [
  {
   "cell_type": "markdown",
   "metadata": {
    "kernel": "SoS"
   },
   "source": [
    "# Inclusion of scripts in SoS workflows"
   ]
  },
  {
   "cell_type": "markdown",
   "metadata": {
    "kernel": "SoS"
   },
   "source": [
    "* **Difficulty level**: easy\n",
    "* **Time need to lean**: 10 minutes or less\n",
    "* **Key points**:\n",
    "  * A Python function with a string as the first parameter can be written in a script style\n",
    "  * Scripts are included in verbatim by default\n",
    "  * Indentation is not required but recommended\n",
    "  * `expand=True` turns the script into a Python f-string\n",
    "  * `expand=\"l r\"` can be used to specify an alternative delimiter for string interpolation"
   ]
  },
  {
   "cell_type": "markdown",
   "metadata": {
    "kernel": "SoS"
   },
   "source": [
    "## SoS \"Actions\""
   ]
  },
  {
   "cell_type": "markdown",
   "metadata": {
    "kernel": "SoS"
   },
   "source": [
    "**SoS is based on Python 3.6+ and accepts any Python expressions and statements**. SoS defines a number of **actions**, which are simply Python functions that follows a specific set of conventions. For example, an action `sh` is a python function that executes its first parameter as a shell script:"
   ]
  },
  {
   "cell_type": "code",
   "execution_count": 1,
   "metadata": {
    "kernel": "SoS"
   },
   "outputs": [
    {
     "name": "stdout",
     "output_type": "stream",
     "text": [
      "Hello world\n"
     ]
    }
   ],
   "source": [
    "sh('echo Hello world')"
   ]
  },
  {
   "cell_type": "markdown",
   "metadata": {
    "kernel": "SoS"
   },
   "source": [
    "When you execute a SoS script from command line or SoS Notebook, these functions are automatically imported and can be used directly, and you can use them just like any other Python functions. For example, you can compose a script using Python string formatting:"
   ]
  },
  {
   "cell_type": "code",
   "execution_count": 3,
   "metadata": {
    "kernel": "SoS"
   },
   "outputs": [
    {
     "name": "stdout",
     "output_type": "stream",
     "text": [
      "Hello world\n"
     ]
    }
   ],
   "source": [
    "greeting = \"Hello world\"\n",
    "sh(f'echo {greeting}')"
   ]
  },
  {
   "cell_type": "markdown",
   "metadata": {
    "kernel": "SoS"
   },
   "source": [
    "Here we define a Python string `greeting` and use the `sh` action to execute a shell script. A [Python f-string](https://www.python.org/dev/peps/pep-0498/) is used to compose the script with the defined variable."
   ]
  },
  {
   "cell_type": "markdown",
   "metadata": {
    "kernel": "SoS"
   },
   "source": [
    "<div class=\"bs-callout bs-callout-primary\" role=\"alert\">\n",
    "  <h4>Python f-string</h4>\n",
    "  <p>SoS uses Python f-string extensively. Please read <a href=\"https://www.python.org/dev/peps/pep-0498/\">PEP498</a> or one of the online tutorials on how to use Python f-strings if you are not familiar with it.</p>  \n",
    "</div>"
   ]
  },
  {
   "cell_type": "markdown",
   "metadata": {
    "kernel": "SoS",
    "workflow_cell": true
   },
   "source": [
    "When the scripts get longer, you will have to use Python multi-line strings to pass them to the action. Here is an example for the use of a `R` action to execute a longer `R` script:"
   ]
  },
  {
   "cell_type": "code",
   "execution_count": 5,
   "metadata": {
    "kernel": "SoS"
   },
   "outputs": [
    {
     "name": "stdout",
     "output_type": "stream",
     "text": [
      "[1] \"Non-negative number\"\n"
     ]
    }
   ],
   "source": [
    "R(\"\"\"\\\n",
    "x <- 5\n",
    "if(x >= 0) {\n",
    "    print(\"Non-negative number\")\n",
    "} else {\n",
    "    print(\"Negative number\")\n",
    "}\n",
    "\"\"\")"
   ]
  },
  {
   "cell_type": "markdown",
   "metadata": {
    "kernel": "SoS"
   },
   "source": [
    "The use of format string in these cases become more complicated. First, you will need to use multi-line f-string (`f'''x'''` and `f\"\"\"x\"\"\"`). Second, when the script itself contains braces, they will need to be doubled to avoid being interpreted as Python expressions.\n",
    "\n",
    "Consequently, a `R` script that uses a Python variable `my_num` needs to be written as follows:"
   ]
  },
  {
   "cell_type": "code",
   "execution_count": 6,
   "metadata": {
    "kernel": "SoS"
   },
   "outputs": [
    {
     "name": "stdout",
     "output_type": "stream",
     "text": [
      "[1] \"Negative number\"\n"
     ]
    }
   ],
   "source": [
    "my_num = -1\n",
    "\n",
    "R(f\"\"\"\\\n",
    "x <- {my_num}\n",
    "if(x >= 0) {{\n",
    "    print(\"Non-negative number\")\n",
    "}} else {{\n",
    "    print(\"Negative number\")\n",
    "}}\n",
    "\"\"\")"
   ]
  },
  {
   "cell_type": "markdown",
   "metadata": {
    "kernel": "SoS"
   },
   "source": [
    "## Script style function calls <a id=\"Script_style_function_call\"></a>"
   ]
  },
  {
   "cell_type": "markdown",
   "metadata": {
    "kernel": "SoS"
   },
   "source": [
    "The f-string in the last example is not quite readable, error-prone, and difficult to maintain, especially when the script contains multiple braces and variables. For this reason, SoS introduces a special syntax that allows you to write Python functions that accept a script (string) as the first parameter in a special script format.\n",
    "\n",
    "For example,"
   ]
  },
  {
   "cell_type": "code",
   "execution_count": 7,
   "metadata": {
    "kernel": "SoS"
   },
   "outputs": [
    {
     "name": "stdout",
     "output_type": "stream",
     "text": [
      "[1] \"Non-negative number\"\n"
     ]
    }
   ],
   "source": [
    "R(\"\"\"\\\n",
    "x <- 5\n",
    "if(x >= 0) {\n",
    "    print(\"Non-negative number\")\n",
    "} else {\n",
    "    print(\"Negative number\")\n",
    "}\n",
    "\"\"\")"
   ]
  },
  {
   "cell_type": "markdown",
   "metadata": {
    "kernel": "SoS"
   },
   "source": [
    "can be written as"
   ]
  },
  {
   "cell_type": "code",
   "execution_count": 9,
   "metadata": {
    "kernel": "SoS"
   },
   "outputs": [
    {
     "name": "stdout",
     "output_type": "stream",
     "text": [
      "[1] \"Non-negative number\"\n"
     ]
    }
   ],
   "source": [
    "R:\n",
    "x <- 5\n",
    "if(x >= 0) {\n",
    "    print(\"Non-negative number\")\n",
    "} else {\n",
    "    print(\"Negative number\")\n",
    "}"
   ]
  },
  {
   "cell_type": "markdown",
   "metadata": {
    "kernel": "SoS"
   },
   "source": [
    "or better as"
   ]
  },
  {
   "cell_type": "code",
   "execution_count": 8,
   "metadata": {
    "kernel": "SoS"
   },
   "outputs": [
    {
     "name": "stdout",
     "output_type": "stream",
     "text": [
      "[1] \"Non-negative number\"\n"
     ]
    }
   ],
   "source": [
    "R:\n",
    "    x <- 5\n",
    "    if(x >= 0) {\n",
    "        print(\"Non-negative number\")\n",
    "    } else {\n",
    "        print(\"Negative number\")\n",
    "    }"
   ]
  },
  {
   "cell_type": "markdown",
   "metadata": {
    "kernel": "SoS"
   },
   "source": [
    "Indentation is optional and SoS will automatically dedent the included scripts."
   ]
  },
  {
   "cell_type": "markdown",
   "metadata": {
    "kernel": "SoS"
   },
   "source": [
    "<div class=\"bs-callout bs-callout-info\" role=\"alert\">\n",
    "  <h4>Indentation of scripts</h4>\n",
    "  <p>The indentation of scripts in the script style is optional but recommended because it makes the end scripts easier to read </p>\n",
    "    <pre>\n",
    "    R:\n",
    "       cat('this is R')\n",
    "    </pre>\n",
    "    <pre>\n",
    "    python:\n",
    "       print('this is python')\n",
    "    </pre>\n",
    "</div>"
   ]
  },
  {
   "cell_type": "markdown",
   "metadata": {
    "kernel": "SoS"
   },
   "source": [
    "## <a id=\"option-expand\"></a> The `expand` option"
   ]
  },
  {
   "cell_type": "markdown",
   "metadata": {
    "kernel": "SoS"
   },
   "source": [
    "When option `expand=True` is specified, the included script will be treated as a Python f-string. For example,"
   ]
  },
  {
   "cell_type": "code",
   "execution_count": null,
   "metadata": {
    "kernel": "SoS"
   },
   "outputs": [],
   "source": [
    "my_num = -1\n",
    "\n",
    "R(f\"\"\"\\\n",
    "x <- {my_num}\n",
    "if(x >= 0) {{\n",
    "    print(\"Non-negative number\")\n",
    "}} else {{\n",
    "    print(\"Negative number\")\n",
    "}}\n",
    "\"\"\")"
   ]
  },
  {
   "cell_type": "markdown",
   "metadata": {
    "kernel": "SoS"
   },
   "source": [
    "can be written as"
   ]
  },
  {
   "cell_type": "code",
   "execution_count": 10,
   "metadata": {
    "kernel": "SoS"
   },
   "outputs": [
    {
     "name": "stdout",
     "output_type": "stream",
     "text": [
      "[1] \"Negative number\"\n"
     ]
    }
   ],
   "source": [
    "my_num = -1\n",
    "\n",
    "R: expand=True\n",
    "    x <- {my_num}\n",
    "    if(x >= 0) {{\n",
    "        print(\"Non-negative number\")\n",
    "    }} else {{\n",
    "        print(\"Negative number\")\n",
    "    }}"
   ]
  },
  {
   "cell_type": "markdown",
   "metadata": {
    "kernel": "SoS"
   },
   "source": [
    "Note that SoS Notebook automatically highlights the interpolated parts of the included script, which makes it much easier to differentiate Python expressions from the original R script."
   ]
  },
  {
   "cell_type": "markdown",
   "metadata": {
    "kernel": "SoS"
   },
   "source": [
    "<div class=\"bs-callout bs-callout-info\" role=\"alert\">\n",
    "  <h4>Use of alternative sigils</h4>\n",
    "  <p>When the included scripts have braces, it is easier to use an alternative sigil for string interpolation.</p>\n",
    "</div>"
   ]
  },
  {
   "cell_type": "markdown",
   "metadata": {
    "kernel": "SoS"
   },
   "source": [
    "Because the included script has two pairs of braces, it is necessary to double them so that they are not treated as Python expressions. In these cases, it is actually easier to use a different set of sigil (delimiters) for string interpolation. This can be done using the `expand` option as follows:"
   ]
  },
  {
   "cell_type": "code",
   "execution_count": 11,
   "metadata": {
    "kernel": "SoS"
   },
   "outputs": [
    {
     "name": "stdout",
     "output_type": "stream",
     "text": [
      "[1] \"Negative number\"\n"
     ]
    }
   ],
   "source": [
    "my_num = -1\n",
    "\n",
    "R: expand='${ }'\n",
    "    x <- ${my_num}\n",
    "    if(x >= 0) {\n",
    "        print(\"Non-negative number\")\n",
    "    } else {\n",
    "        print(\"Negative number\")\n",
    "    }"
   ]
  },
  {
   "cell_type": "markdown",
   "metadata": {
    "kernel": "SoS"
   },
   "source": [
    "The sigil should be specified as a string with left and right sigil separated by a space. You can use any pair of sigils as long as they do not cause confusion. "
   ]
  },
  {
   "cell_type": "markdown",
   "metadata": {
    "kernel": "SoS"
   },
   "source": [
    "<div class=\"bs-callout bs-callout-warning\" role=\"alert\">\n",
    "  <h4>Limitations of script format of function calls</h4>\n",
    "  <p>Because the action name starts from the first column, you will have to use the regular function call format as shown in the first section of this tutorial if you would like to use the function in a <code>if/else</code> block, or in a <code>for</code> loop.</p>\n",
    "</div>"
   ]
  },
  {
   "cell_type": "markdown",
   "metadata": {
    "kernel": "SoS"
   },
   "source": [
    "## Further reading\n",
    "* [SoS Actions and common action options](doc/user_guide/sos_actions.html)"
   ]
  }
 ],
 "metadata": {
  "kernelspec": {
   "display_name": "SoS",
   "language": "sos",
   "name": "sos"
  },
  "language_info": {
   "codemirror_mode": "sos",
   "file_extension": ".sos",
   "mimetype": "text/x-sos",
   "name": "sos",
   "nbconvert_exporter": "sos_notebook.converter.SoS_Exporter",
   "pygments_lexer": "sos"
  },
  "sos": {
   "kernels": [
    [
     "Bash",
     "bash",
     "Bash",
     "#E6EEFF"
    ],
    [
     "R",
     "ir",
     "R",
     "#DCDCDA"
    ],
    [
     "SoS",
     "sos",
     "",
     ""
    ]
   ],
   "panel": {
    "displayed": true,
    "height": 0
   },
   "version": "0.18.3"
  }
 },
 "nbformat": 4,
 "nbformat_minor": 2
}
