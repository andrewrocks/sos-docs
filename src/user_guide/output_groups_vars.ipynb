{
 "cells": [
  {
   "cell_type": "markdown",
   "metadata": {
    "kernel": "SoS"
   },
   "source": [
    "# How to attach variables to step output"
   ]
  },
  {
   "cell_type": "markdown",
   "metadata": {
    "kernel": "SoS"
   },
   "source": [
    "* **Difficulty level**: intermediate\n",
    "* **Time need to lean**: 15 minutes or less\n",
    "* **Key points**:\n",
    "  * \n",
    "  "
   ]
  },
  {
   "cell_type": "markdown",
   "metadata": {
    "kernel": "SoS"
   },
   "source": [
    "## Reminder"
   ]
  },
  {
   "cell_type": "markdown",
   "metadata": {
    "kernel": "SoS"
   },
   "source": [
    "If a SoS step contains multiple substeps, defined by options `group_by` or `for_each`, the `_input` becomes the groups of `step_input` and `_output` becomes the groups of `step_output`, and the steps are executed for each of the groups.\n",
    "\n",
    "Moreover, the group information of `step_output` will be passed as the default input to the next step in a simple forward-style workflow, or as input to another step with functions `output_from` or `named_output`. As shown in the following example, the `step_output` of step `A` becomes the input of step `B`, creating two substeps."
   ]
  },
  {
   "cell_type": "code",
   "execution_count": 3,
   "metadata": {
    "kernel": "SoS"
   },
   "outputs": [
    {
     "data": {
      "text/html": [
       "\n",
       "<table id=\"workflow_73e0bad7-816e-415c-9071-7e52088d9d1f\" class=\"workflow_table  completed\">\n",
       "<tr>\n",
       "      <td class=\"workflow_icon\">\n",
       "        <i id=\"workflow_status_icon_73e0bad7-816e-415c-9071-7e52088d9d1f\" class=\"fa fa-2x fa-fw fa-check-square-o\"\n",
       "        onmouseover='this.classList=\"fa fa-2x fa-fw fa-trash\"' onmouseleave='this.classList=\"fa fa-2x fa-fw fa-check-square-o\"' onclick=\"cancel_workflow(this.id.substring(21))\"></i>\n",
       "      </td>\n",
       "      <td class=\"workflow_name\">\n",
       "        <pre><span id=\"workflow_name_73e0bad7-816e-415c-9071-7e52088d9d1f\">B</span></pre>\n",
       "      </td>\n",
       "      <td class=\"workflow_id\">\n",
       "        <span>Workflow ID</span></br>\n",
       "        <pre><i class=\"fa fa-fw fa-sitemap\"></i><span id=\"workflow_id_73e0bad7-816e-415c-9071-7e52088d9d1f\">62023b76ae137fa8</span></pre>\n",
       "      </td>\n",
       "      <td class=\"workflow_index\">\n",
       "        <span>Index</span></br>\n",
       "        <pre>#<span id=\"workflow_index_73e0bad7-816e-415c-9071-7e52088d9d1f\">3</span></pre>\n",
       "      </td>\n",
       "      <td class=\"workflow_status\">\n",
       "        <span id=\"status_text_73e0bad7-816e-415c-9071-7e52088d9d1f\">completed</span></br>\n",
       "        <pre><i class=\"fa fa-fw fa-clock-o\"></i><time id=\"status_duration_73e0bad7-816e-415c-9071-7e52088d9d1f\" class=\"completed\" datetime=\"1546364503166.309\">Ran for < 5 seconds</time></pre>\n",
       "      </td>\n",
       "</tr>\n",
       "</table>\n"
      ]
     },
     "metadata": {},
     "output_type": "display_data"
    },
    {
     "name": "stdout",
     "output_type": "stream",
     "text": [
      "step_input=a.txt b.txt, _input=b.txt, _output=b.bak\n",
      "step_input=a.txt b.txt, _input=a.txt, _output=a.bak\n",
      "step_output=a.bak b.bak, _output=a.bak\n",
      "step_output=a.bak b.bak, _output=b.bak\n"
     ]
    }
   ],
   "source": [
    "!touch a.txt b.txt\n",
    "\n",
    "%run B -v0\n",
    "\n",
    "[A]\n",
    "input: 'a.txt', 'b.txt', group_by=1\n",
    "output: _input.with_suffix('.bak')\n",
    "\n",
    "_output.touch()\n",
    "print(f'step_input={step_input}, _input={_input}, _output={_output}')\n",
    "\n",
    "[B]\n",
    "input: output_from('A')\n",
    "print(f'step_output={step_input}, _output={_input}')\n"
   ]
  },
  {
   "cell_type": "markdown",
   "metadata": {
    "kernel": "SoS"
   },
   "source": [
    "## Attaching group information to `step_output`"
   ]
  },
  {
   "cell_type": "markdown",
   "metadata": {
    "kernel": "SoS"
   },
   "source": [
    "As we"
   ]
  },
  {
   "cell_type": "code",
   "execution_count": null,
   "metadata": {
    "kernel": "SoS"
   },
   "outputs": [],
   "source": [
    "\n",
    "%run B -v0\n",
    "\n",
    "[A]\n",
    "input: 'a.txt', 'b.txt', group_by=1\n",
    "output: _input.with_suffix('.bak')\n",
    "\n",
    "_output.touch()\n",
    "print(f'step_input={step_input}, _input={_input}, _output={_output}')\n",
    "\n",
    "[B]\n",
    "input: output_from('A')\n",
    "print(f'step_output={step_input}, _output={_input}')\n"
   ]
  },
  {
   "cell_type": "markdown",
   "metadata": {
    "kernel": "SoS"
   },
   "source": [
    "<div class=\"bs-callout bs-callout-primary\" role=\"alert\">\n",
    "    <h4>The <code>group_with</code> output option</h4>\n",
    "  <p></p>  \n",
    "</div>"
   ]
  },
  {
   "cell_type": "markdown",
   "metadata": {
    "kernel": "SoS"
   },
   "source": [
    "## The `group_with` output option"
   ]
  },
  {
   "cell_type": "markdown",
   "metadata": {
    "kernel": "SoS"
   },
   "source": [
    "Just like the `group_with` option of the `input` statement, the `group_with` output option assigns a sequence of variables to each of the output groups (variable `_output`). "
   ]
  },
  {
   "cell_type": "code",
   "execution_count": 14,
   "metadata": {
    "kernel": "SoS"
   },
   "outputs": [
    {
     "data": {
      "text/html": [
       "\n",
       "<table id=\"workflow_7789b1c8-435f-445e-87ae-382232f313e6\" class=\"workflow_table  completed\">\n",
       "<tr>\n",
       "      <td class=\"workflow_icon\">\n",
       "        <i id=\"workflow_status_icon_7789b1c8-435f-445e-87ae-382232f313e6\" class=\"fa fa-2x fa-fw fa-check-square-o\"\n",
       "        onmouseover='this.classList=\"fa fa-2x fa-fw fa-trash\"' onmouseleave='this.classList=\"fa fa-2x fa-fw fa-check-square-o\"' onclick=\"cancel_workflow(this.id.substring(21))\"></i>\n",
       "      </td>\n",
       "      <td class=\"workflow_name\">\n",
       "        <pre><span id=\"workflow_name_7789b1c8-435f-445e-87ae-382232f313e6\">default</span></pre>\n",
       "      </td>\n",
       "      <td class=\"workflow_id\">\n",
       "        <span>Workflow ID</span></br>\n",
       "        <pre><i class=\"fa fa-fw fa-sitemap\"></i><span id=\"workflow_id_7789b1c8-435f-445e-87ae-382232f313e6\">16bb70a4e801bcd0</span></pre>\n",
       "      </td>\n",
       "      <td class=\"workflow_index\">\n",
       "        <span>Index</span></br>\n",
       "        <pre>#<span id=\"workflow_index_7789b1c8-435f-445e-87ae-382232f313e6\">13</span></pre>\n",
       "      </td>\n",
       "      <td class=\"workflow_status\">\n",
       "        <span id=\"status_text_7789b1c8-435f-445e-87ae-382232f313e6\">completed</span></br>\n",
       "        <pre><i class=\"fa fa-fw fa-clock-o\"></i><time id=\"status_duration_7789b1c8-435f-445e-87ae-382232f313e6\" class=\"completed\" datetime=\"1546144279953.622\">Ran for 0 sec</time></pre>\n",
       "      </td>\n",
       "</tr>\n",
       "</table>\n"
      ]
     },
     "metadata": {},
     "output_type": "display_data"
    },
    {
     "name": "stdout",
     "output_type": "stream",
     "text": [
      "step_input=a.txt b.txt, _input=a.txt, _output=a.bak, _output.sample=A\n",
      "step_input=a.txt b.txt, _input=b.txt, _output=b.bak, _output.sample=B\n",
      "step_output=a.bak b.bak, _output=a.bak, _output.sample=A\n",
      "step_output=a.bak b.bak, _output=b.bak, _output.sample=B\n"
     ]
    }
   ],
   "source": [
    "!touch a.txt b.txt\n",
    "\n",
    "%run -v0\n",
    "\n",
    "samples = ['A', 'B']\n",
    "\n",
    "[1]\n",
    "input: 'a.txt', 'b.txt', group_by=1\n",
    "output: _input.with_suffix('.bak'), group_with=dict(sample=samples)\n",
    "\n",
    "_output.touch()\n",
    "print(f'step_input={step_input}, _input={_input}, _output={_output}, _output.sample={_output.sample}')\n",
    "\n",
    "[2]\n",
    "print(f'step_output={step_input}, _output={_input}, _output.sample={_input.sample}')\n"
   ]
  },
  {
   "cell_type": "markdown",
   "metadata": {
    "kernel": "SoS"
   },
   "source": [
    "## Further reading\n",
    "\n",
    "* "
   ]
  }
 ],
 "metadata": {
  "kernelspec": {
   "display_name": "SoS",
   "language": "sos",
   "name": "sos"
  },
  "language_info": {
   "codemirror_mode": "sos",
   "file_extension": ".sos",
   "mimetype": "text/x-sos",
   "name": "sos",
   "nbconvert_exporter": "sos_notebook.converter.SoS_Exporter",
   "pygments_lexer": "sos"
  },
  "sos": {
   "kernels": [
    [
     "Bash",
     "bash",
     "Bash",
     "#E6EEFF"
    ],
    [
     "R",
     "ir",
     "R",
     "#DCDCDA"
    ],
    [
     "SoS",
     "sos",
     "",
     ""
    ]
   ],
   "panel": {
    "displayed": true,
    "height": 0
   },
   "version": "0.17.5"
  }
 },
 "nbformat": 4,
 "nbformat_minor": 2
}
