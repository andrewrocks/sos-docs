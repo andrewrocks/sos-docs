{
 "cells": [
  {
   "cell_type": "markdown",
   "metadata": {
    "kernel": "SoS"
   },
   "source": [
    "# Title"
   ]
  },
  {
   "cell_type": "markdown",
   "metadata": {
    "kernel": "SoS"
   },
   "source": [
    "* **Difficulty level**: easy\n",
    "* **Time need to lean**: 10 minutes or less\n",
    "* **Key points**:\n",
    "  * a\n",
    "  "
   ]
  },
  {
   "cell_type": "markdown",
   "metadata": {
    "kernel": "SoS"
   },
   "source": [
    "### Output files <a id=\"Output_files\"></a>"
   ]
  },
  {
   "cell_type": "markdown",
   "metadata": {
    "kernel": "SoS"
   },
   "source": [
    "Output files of a step can be specified by step `output`. Similar to `input`, step output accepts strings, variables, expressions, and allows wildcard characters. For example, the following are acceptable output files\n",
    "\n",
    "```python\n",
    "output:  []\n",
    "\n",
    "output:  'accepted_hits.bam'\n",
    "\n",
    "output:  aligned_reads, bam_stats\n",
    "\n",
    "output:  'aligned/*.bam'\n",
    "\n",
    "output:  expand_pattern('aligned_{samples}.bam')\n",
    "```\n",
    "\n",
    "In the last example, function `expand_pattern` is used to contruct list of files from items of a sequence `samples`."
   ]
  },
  {
   "cell_type": "markdown",
   "metadata": {
    "kernel": "SoS"
   },
   "source": [
    "Step process could be repeated multiple times with **substeps** defined by options `for_each` or `group_by`. Whereas `input` represents the complete set of input files, each substep has its own input files stored in variable `_input`.\n",
    "\n",
    "When there is no substep, `output` and `_output` are the same. Otherwise, the `output:` statement produces `_output` for each substep, and `_output` for all substeps form `output` after the completion of all substeps.\n",
    "\n",
    "For example, the following step accepts one or more bam files and index them using command `samtools index`. The input files are passed one by one and output from each substep is determined by `_input`. \n",
    "\n",
    "```python\n",
    "[10]\n",
    "input:\n",
    "\tbamfiles, group_by='single'\n",
    "\n",
    "output:\n",
    "\tf'{_input}.bai'\n",
    "\n",
    "run(f'''samtools index {_input} ''')\n",
    "```\n",
    "\n",
    "The use of variable `output` in this scenario is discouraged because `output`, as the collection of all `_output` increases with each substep."
   ]
  },
  {
   "cell_type": "markdown",
   "metadata": {
    "kernel": "SoS"
   },
   "source": [
    "Specifying output of the entire step when there are multiple substeps can lead to error. For example,\n",
    "\n",
    "```python\n",
    "[10]\n",
    "input:\n",
    "\tbamfiles, group_by=1\n",
    "\n",
    "output:\n",
    "\toutput: [x + '.bai' for x in bamfiles]\n",
    "\n",
    "task:\n",
    "run(f'''samtools index {_input} ''')\n",
    "```\n",
    "\n",
    "will fail because tasks in this step produce the same set of output files (equal `_output` for all substeps), and none of the task produces all specified output files.\n"
   ]
  },
  {
   "cell_type": "markdown",
   "metadata": {
    "kernel": "SoS"
   },
   "source": [
    "### Option `group_by` <a id=\"Option_group_by\"></a>"
   ]
  },
  {
   "cell_type": "markdown",
   "metadata": {
    "kernel": "SoS"
   },
   "source": [
    "The `output` statement usually generate a `sos_targets` object without groups. This object will become `_output`, which then becomes one of the groups of `step_output`.\n",
    "\n",
    "However, the `output` statement can also generate a `sos_targets` object with groups, in which case the `_index` group will be become the `_output` of subgroup `_index`. For this reason, the object should have the same number of groups as `step_input`.\n",
    "\n",
    "For example, if you have list of pre-determined input and output files and you would like to pair them, you can create list all output files and use option `group_by` to create an equal number of output groups as input groups."
   ]
  },
  {
   "cell_type": "code",
   "execution_count": 5,
   "metadata": {
    "kernel": "SoS"
   },
   "outputs": [
    {
     "data": {
      "text/html": [
       "\n",
       "<table id=\"workflow_fd75d9a6702b495a81de2d9b5442e179\" class=\"workflow_table  completed\">\n",
       "  <tr>\n",
       "        <td class=\"workflow_icon\">\n",
       "          <i id=\"workflow_status_icon_fd75d9a6702b495a81de2d9b5442e179\" class=\"fa fa-2x fa-fw fa-check-square-o\"\n",
       "            ></i>\n",
       "        </td>\n",
       "        <td class=\"workflow_name\">\n",
       "          <pre><span id=\"workflow_name_fd75d9a6702b495a81de2d9b5442e179\">default</span></pre>\n",
       "        </td>\n",
       "        <td class=\"workflow_id\">\n",
       "          <span>Workflow ID</span></br>\n",
       "          <pre><i class=\"fa fa-fw fa-sitemap\"></i><span id=\"workflow_id_fd75d9a6702b495a81de2d9b5442e179\">41c862e5b9a946e4</span></pre>\n",
       "        </td>\n",
       "        <td class=\"workflow_index\">\n",
       "          <span>Index</span></br>\n",
       "          <pre>#<span id=\"workflow_index_fd75d9a6702b495a81de2d9b5442e179\">5</span></pre>\n",
       "        </td>\n",
       "        <td class=\"workflow_status\">\n",
       "          <span id=\"status_text_fd75d9a6702b495a81de2d9b5442e179\">completed</span></br>\n",
       "          <pre><i class=\"fa fa-fw fa-clock-o\"></i><time id=\"status_duration_fd75d9a6702b495a81de2d9b5442e179\" class=\"completed\" datetime=\"1545612611265.95\">Ran for < 5 seconds</time></pre>\n",
       "        </td>\n",
       "  </tr>\n",
       "</table>\n"
      ]
     },
     "metadata": {},
     "output_type": "display_data"
    },
    {
     "name": "stdout",
     "output_type": "stream",
     "text": [
      "b_0.txt\n",
      "b_2.txt\n",
      "b_3.txt\n",
      "b_1.txt\n"
     ]
    }
   ],
   "source": [
    "%run\n",
    "in_files = [f'a_{i}.txt' for i in range(4)]\n",
    "out_files = [f'b_{i}.txt' for i in range(4)]\n",
    "\n",
    "[1]\n",
    "input: in_files, group_by=1\n",
    "output: out_files, group_by=1\n",
    "_output.touch()\n",
    "\n",
    "[2]\n",
    "print(_input)"
   ]
  },
  {
   "cell_type": "markdown",
   "metadata": {
    "kernel": "SoS"
   },
   "source": [
    "Note that the previous example might not produce `b_0.txt`, `b_1.txt` in order because the substeps are executed concurrently so substeps can complete the `print` statement in any order."
   ]
  },
  {
   "cell_type": "markdown",
   "metadata": {
    "kernel": "SoS"
   },
   "source": [
    "### Options `paired_with`, `group_with`, `pattern`, and `for_each`"
   ]
  },
  {
   "cell_type": "markdown",
   "metadata": {
    "kernel": "SoS"
   },
   "source": [
    "Just like `input` statements, options `paired_with`, `group_with`, `pattern`, and `for_each` are all allowed in the `output` statement and can be used to create `_output` that can be passed to the next step, or from `output_from` or `named_output`.\n",
    "\n",
    "The most useful usages of the `paired_with` and `group_with` options are to attached variables to output targets and the output group.\n",
    "\n",
    "Say we know that particular input and output files are associated with a sample name, and we have paired each input file with a sample name using option `paired_with=dict(sample=samples)`. Consequently, `_input.sample` is available for each substep.\n",
    "\n",
    "The output statement  \n",
    "```\n",
    "output: f'{_input}.result', paired_with=dict(sample=_input.sample)\n",
    "```\n",
    "generates `f'{_input}.result'` for each `_input` but the sample information will be lost. For this reason an option `paired_with=dict(sample=_input.sample)` is added to attach attribute `sample` with value `_input.sample` to each output file name. With this step each input file of step `20` has an attribute that points to its sample name."
   ]
  },
  {
   "cell_type": "code",
   "execution_count": 16,
   "metadata": {
    "kernel": "SoS"
   },
   "outputs": [
    {
     "data": {
      "text/html": [
       "\n",
       "<table id=\"workflow_c8f0f23a2a034a3f95ad6d452cbb1176\" class=\"workflow_table  completed\">\n",
       "  <tr>\n",
       "        <td class=\"workflow_icon\">\n",
       "          <i id=\"workflow_status_icon_c8f0f23a2a034a3f95ad6d452cbb1176\" class=\"fa fa-2x fa-fw fa-check-square-o\"\n",
       "            ></i>\n",
       "        </td>\n",
       "        <td class=\"workflow_name\">\n",
       "          <pre><span id=\"workflow_name_c8f0f23a2a034a3f95ad6d452cbb1176\">default</span></pre>\n",
       "        </td>\n",
       "        <td class=\"workflow_id\">\n",
       "          <span>Workflow ID</span></br>\n",
       "          <pre><i class=\"fa fa-fw fa-sitemap\"></i><span id=\"workflow_id_c8f0f23a2a034a3f95ad6d452cbb1176\">c1f4c407fcb8ccd6</span></pre>\n",
       "        </td>\n",
       "        <td class=\"workflow_index\">\n",
       "          <span>Index</span></br>\n",
       "          <pre>#<span id=\"workflow_index_c8f0f23a2a034a3f95ad6d452cbb1176\">16</span></pre>\n",
       "        </td>\n",
       "        <td class=\"workflow_status\">\n",
       "          <span id=\"status_text_c8f0f23a2a034a3f95ad6d452cbb1176\">completed</span></br>\n",
       "          <pre><i class=\"fa fa-fw fa-clock-o\"></i><time id=\"status_duration_c8f0f23a2a034a3f95ad6d452cbb1176\" class=\"completed\" datetime=\"1545614645470.9958\">Ran for < 5 seconds</time></pre>\n",
       "        </td>\n",
       "  </tr>\n",
       "</table>\n"
      ]
     },
     "metadata": {},
     "output_type": "display_data"
    },
    {
     "name": "stdout",
     "output_type": "stream",
     "text": [
      "a.txt.result with sample name A\n",
      "b.txt.result with sample name B\n"
     ]
    }
   ],
   "source": [
    "!touch a.txt b.txt\n",
    "\n",
    "%run\n",
    "[10]\n",
    "samples = ['A', 'B']\n",
    "input_files = ['a.txt', 'b.txt']\n",
    "\n",
    "input: input_files, group_by=1, paired_with=dict(sample=samples)\n",
    "output: f'{_input}.result', paired_with=dict(sample=_input.sample)\n",
    "_output.touch()\n",
    "\n",
    "[20]\n",
    "print(f'{_input} with sample name {_input.sample}')"
   ]
  },
  {
   "cell_type": "markdown",
   "metadata": {
    "kernel": "SoS"
   },
   "source": [
    "Similarly, in the following example,\n",
    "\n",
    "```\n",
    "output: f'a_{i}.txt', group_with=dict(i=i)\n",
    "```\n",
    "creates four `sos_targets` object with variable `i` attached. These objects becomes `_output` of step `10`, and `_input` of the next step. `i` becomes available in step `20` because it was attached to `_input`. This feature is pretty powerful but can be dangerous as well because of the \"contamination\" of namespace of step `20` from `_input` variables."
   ]
  },
  {
   "cell_type": "code",
   "execution_count": 13,
   "metadata": {
    "kernel": "SoS"
   },
   "outputs": [
    {
     "data": {
      "text/html": [
       "\n",
       "<table id=\"workflow_ae8ef6ef16a5409982ef1f1e269bb4cc\" class=\"workflow_table  completed\">\n",
       "  <tr>\n",
       "        <td class=\"workflow_icon\">\n",
       "          <i id=\"workflow_status_icon_ae8ef6ef16a5409982ef1f1e269bb4cc\" class=\"fa fa-2x fa-fw fa-check-square-o\"\n",
       "            ></i>\n",
       "        </td>\n",
       "        <td class=\"workflow_name\">\n",
       "          <pre><span id=\"workflow_name_ae8ef6ef16a5409982ef1f1e269bb4cc\">default</span></pre>\n",
       "        </td>\n",
       "        <td class=\"workflow_id\">\n",
       "          <span>Workflow ID</span></br>\n",
       "          <pre><i class=\"fa fa-fw fa-sitemap\"></i><span id=\"workflow_id_ae8ef6ef16a5409982ef1f1e269bb4cc\">09c0428018532656</span></pre>\n",
       "        </td>\n",
       "        <td class=\"workflow_index\">\n",
       "          <span>Index</span></br>\n",
       "          <pre>#<span id=\"workflow_index_ae8ef6ef16a5409982ef1f1e269bb4cc\">13</span></pre>\n",
       "        </td>\n",
       "        <td class=\"workflow_status\">\n",
       "          <span id=\"status_text_ae8ef6ef16a5409982ef1f1e269bb4cc\">completed</span></br>\n",
       "          <pre><i class=\"fa fa-fw fa-clock-o\"></i><time id=\"status_duration_ae8ef6ef16a5409982ef1f1e269bb4cc\" class=\"completed\" datetime=\"1545613871139.179\">Ran for < 5 seconds</time></pre>\n",
       "        </td>\n",
       "  </tr>\n",
       "</table>\n"
      ]
     },
     "metadata": {},
     "output_type": "display_data"
    },
    {
     "name": "stdout",
     "output_type": "stream",
     "text": [
      "a_0.txt with variable i=0\n",
      "a_2.txt with variable i=2\n",
      "a_1.txt with variable i=1\n",
      "a_3.txt with variable i=3\n"
     ]
    }
   ],
   "source": [
    "%run\n",
    "[10]\n",
    "input: for_each=dict(i=range(4))\n",
    "output: f'a_{i}.txt', group_with=dict(i=i)\n",
    "_output.touch()\n",
    "\n",
    "[20]\n",
    "print(f'{_input} with variable i={i}')"
   ]
  },
  {
   "cell_type": "markdown",
   "metadata": {
    "kernel": "SoS"
   },
   "source": [
    "### Inherited input with groups"
   ]
  },
  {
   "cell_type": "markdown",
   "metadata": {
    "kernel": "SoS"
   },
   "source": [
    "Remember that the purpose of `input` statement is to create `step_input` with appropriate targets and groups, but what will happen to `sos_targets` inherited from previous step, from `output_from` and `named_output`? The simple answer is that the existing groups will be honored.\n",
    "\n",
    "Let us first look at one example,"
   ]
  },
  {
   "cell_type": "code",
   "execution_count": 10,
   "metadata": {
    "kernel": "SoS"
   },
   "outputs": [
    {
     "data": {
      "text/html": [
       "\n",
       "<table id=\"workflow_963ebfa2719c4e2a85344c2c728d161d\" class=\"workflow_table  completed\">\n",
       "  <tr>\n",
       "        <td class=\"workflow_icon\">\n",
       "          <i id=\"workflow_status_icon_963ebfa2719c4e2a85344c2c728d161d\" class=\"fa fa-2x fa-fw fa-check-square-o\"\n",
       "            ></i>\n",
       "        </td>\n",
       "        <td class=\"workflow_name\">\n",
       "          <pre><span id=\"workflow_name_963ebfa2719c4e2a85344c2c728d161d\">default</span></pre>\n",
       "        </td>\n",
       "        <td class=\"workflow_id\">\n",
       "          <span>Workflow ID</span></br>\n",
       "          <pre><i class=\"fa fa-fw fa-sitemap\"></i><span id=\"workflow_id_963ebfa2719c4e2a85344c2c728d161d\">00e512747f48765d</span></pre>\n",
       "        </td>\n",
       "        <td class=\"workflow_index\">\n",
       "          <span>Index</span></br>\n",
       "          <pre>#<span id=\"workflow_index_963ebfa2719c4e2a85344c2c728d161d\">3</span></pre>\n",
       "        </td>\n",
       "        <td class=\"workflow_status\">\n",
       "          <span id=\"status_text_963ebfa2719c4e2a85344c2c728d161d\">completed</span></br>\n",
       "          <pre><i class=\"fa fa-fw fa-clock-o\"></i><time id=\"status_duration_963ebfa2719c4e2a85344c2c728d161d\" class=\"completed\" datetime=\"1545611386397.4988\">Ran for < 5 seconds</time></pre>\n",
       "        </td>\n",
       "  </tr>\n",
       "</table>\n"
      ]
     },
     "metadata": {},
     "output_type": "display_data"
    },
    {
     "name": "stdout",
     "output_type": "stream",
     "text": [
      "out_0.txt\n",
      "out_2.txt\n",
      "out_1.txt\n"
     ]
    }
   ],
   "source": [
    "%run\n",
    "[10]\n",
    "input: for_each=dict(i=range(3))\n",
    "output: f'out_{i}.txt'\n",
    "_output.touch()\n",
    "\n",
    "[20]\n",
    "print(_input)"
   ]
  },
  {
   "cell_type": "markdown",
   "metadata": {
    "kernel": "SoS"
   },
   "source": [
    "What happens here is that there are three substeps in step `10`, creating outputs `out_0.txt`, `out_1.txt` and `out_2.txt`. The `step_output` object contains three targets in three groups.\n",
    "\n",
    "When this `step_output` target is inherited by step `20` and becomes the `step_input` of the next step, step `20` is executed with the three existing substeps with `_input` being the `_output` of step `10`."
   ]
  },
  {
   "cell_type": "markdown",
   "metadata": {
    "kernel": "SoS"
   },
   "source": [
    "If this is what you want, you can regroup the input with option `group_by`. For example,"
   ]
  },
  {
   "cell_type": "code",
   "execution_count": 11,
   "metadata": {
    "kernel": "SoS"
   },
   "outputs": [
    {
     "data": {
      "text/html": [
       "\n",
       "<table id=\"workflow_6fde36b98ca74ad384c506f68885a209\" class=\"workflow_table  completed\">\n",
       "  <tr>\n",
       "        <td class=\"workflow_icon\">\n",
       "          <i id=\"workflow_status_icon_6fde36b98ca74ad384c506f68885a209\" class=\"fa fa-2x fa-fw fa-check-square-o\"\n",
       "            ></i>\n",
       "        </td>\n",
       "        <td class=\"workflow_name\">\n",
       "          <pre><span id=\"workflow_name_6fde36b98ca74ad384c506f68885a209\">default</span></pre>\n",
       "        </td>\n",
       "        <td class=\"workflow_id\">\n",
       "          <span>Workflow ID</span></br>\n",
       "          <pre><i class=\"fa fa-fw fa-sitemap\"></i><span id=\"workflow_id_6fde36b98ca74ad384c506f68885a209\">00e512747f48765d</span></pre>\n",
       "        </td>\n",
       "        <td class=\"workflow_index\">\n",
       "          <span>Index</span></br>\n",
       "          <pre>#<span id=\"workflow_index_6fde36b98ca74ad384c506f68885a209\">4</span></pre>\n",
       "        </td>\n",
       "        <td class=\"workflow_status\">\n",
       "          <span id=\"status_text_6fde36b98ca74ad384c506f68885a209\">completed</span></br>\n",
       "          <pre><i class=\"fa fa-fw fa-clock-o\"></i><time id=\"status_duration_6fde36b98ca74ad384c506f68885a209\" class=\"completed\" datetime=\"1545611620458.7751\">Ran for < 5 seconds</time></pre>\n",
       "        </td>\n",
       "  </tr>\n",
       "</table>\n"
      ]
     },
     "metadata": {},
     "output_type": "display_data"
    },
    {
     "name": "stdout",
     "output_type": "stream",
     "text": [
      "out_0.txt out_1.txt out_2.txt\n"
     ]
    }
   ],
   "source": [
    "%run\n",
    "[10]\n",
    "input: for_each=dict(i=range(3))\n",
    "output: f'out_{i}.txt'\n",
    "_output.touch()\n",
    "\n",
    "[20]\n",
    "input: group_by='all'\n",
    "print(_input)"
   ]
  },
  {
   "cell_type": "markdown",
   "metadata": {
    "kernel": "SoS"
   },
   "source": [
    "The same logic applies to output obtained from `output_from` and `named_output`. In the following example, the `output_from` function inherited 4 groups of outputs from step 'A', and 2 groups of outputs from step `B`. It then regroup outputs from step `A` into 2 groups and merge it with output from `B`. The final `_input` of step `20` therefore has two groups, each with 2 from step `A` and 1 from step `B`."
   ]
  },
  {
   "cell_type": "code",
   "execution_count": 12,
   "metadata": {
    "kernel": "SoS"
   },
   "outputs": [
    {
     "data": {
      "text/html": [
       "\n",
       "<table id=\"workflow_9de591f48fc34c289c65e471c0bd9de5\" class=\"workflow_table  completed\">\n",
       "  <tr>\n",
       "        <td class=\"workflow_icon\">\n",
       "          <i id=\"workflow_status_icon_9de591f48fc34c289c65e471c0bd9de5\" class=\"fa fa-2x fa-fw fa-check-square-o\"\n",
       "            ></i>\n",
       "        </td>\n",
       "        <td class=\"workflow_name\">\n",
       "          <pre><span id=\"workflow_name_9de591f48fc34c289c65e471c0bd9de5\">default</span></pre>\n",
       "        </td>\n",
       "        <td class=\"workflow_id\">\n",
       "          <span>Workflow ID</span></br>\n",
       "          <pre><i class=\"fa fa-fw fa-sitemap\"></i><span id=\"workflow_id_9de591f48fc34c289c65e471c0bd9de5\">36316057dc19cf7a</span></pre>\n",
       "        </td>\n",
       "        <td class=\"workflow_index\">\n",
       "          <span>Index</span></br>\n",
       "          <pre>#<span id=\"workflow_index_9de591f48fc34c289c65e471c0bd9de5\">5</span></pre>\n",
       "        </td>\n",
       "        <td class=\"workflow_status\">\n",
       "          <span id=\"status_text_9de591f48fc34c289c65e471c0bd9de5\">completed</span></br>\n",
       "          <pre><i class=\"fa fa-fw fa-clock-o\"></i><time id=\"status_duration_9de591f48fc34c289c65e471c0bd9de5\" class=\"completed\" datetime=\"1545611731042.863\">Ran for < 5 seconds</time></pre>\n",
       "        </td>\n",
       "  </tr>\n",
       "</table>\n"
      ]
     },
     "metadata": {},
     "output_type": "display_data"
    },
    {
     "name": "stdout",
     "output_type": "stream",
     "text": [
      "A_0.txt A_1.txt B_0.txt\n",
      "A_2.txt A_3.txt B_1.txt\n"
     ]
    }
   ],
   "source": [
    "%run\n",
    "[A]\n",
    "input: for_each=dict(i=range(4))\n",
    "output: f'A_{i}.txt'\n",
    "_output.touch()\n",
    "\n",
    "[B]\n",
    "input: for_each=dict(i=range(2))\n",
    "output: f'B_{i}.txt'\n",
    "_output.touch()\n",
    "\n",
    "[20]\n",
    "input: output_from('A', group_by=2), output_from('B')\n",
    "print(_input)"
   ]
  },
  {
   "cell_type": "markdown",
   "metadata": {
    "kernel": "SoS"
   },
   "source": [
    "It is worth noting that `named_output` can have groups as well. Because a step can produce multiple named outputs, `named_output('a')` will essentially get a subset of targets with source `a`, and all targets from groups with source `a`. For example, step `K` generates 8 outputs in 4 groups. With `named_output('B')`, output and all targets in groups with name `B` are returned so `_input` will be `B_0.txt`, `B_1.txt` and so on."
   ]
  },
  {
   "cell_type": "code",
   "execution_count": 8,
   "metadata": {
    "kernel": "SoS"
   },
   "outputs": [
    {
     "data": {
      "text/html": [
       "\n",
       "<table id=\"workflow_b93d43c9fc2c41558913c128cf461e41\" class=\"workflow_table  completed\">\n",
       "  <tr>\n",
       "        <td class=\"workflow_icon\">\n",
       "          <i id=\"workflow_status_icon_b93d43c9fc2c41558913c128cf461e41\" class=\"fa fa-2x fa-fw fa-check-square-o\"\n",
       "            ></i>\n",
       "        </td>\n",
       "        <td class=\"workflow_name\">\n",
       "          <pre><span id=\"workflow_name_b93d43c9fc2c41558913c128cf461e41\">default</span></pre>\n",
       "        </td>\n",
       "        <td class=\"workflow_id\">\n",
       "          <span>Workflow ID</span></br>\n",
       "          <pre><i class=\"fa fa-fw fa-sitemap\"></i><span id=\"workflow_id_b93d43c9fc2c41558913c128cf461e41\">d80ff4278bad6c40</span></pre>\n",
       "        </td>\n",
       "        <td class=\"workflow_index\">\n",
       "          <span>Index</span></br>\n",
       "          <pre>#<span id=\"workflow_index_b93d43c9fc2c41558913c128cf461e41\">8</span></pre>\n",
       "        </td>\n",
       "        <td class=\"workflow_status\">\n",
       "          <span id=\"status_text_b93d43c9fc2c41558913c128cf461e41\">completed</span></br>\n",
       "          <pre><i class=\"fa fa-fw fa-clock-o\"></i><time id=\"status_duration_b93d43c9fc2c41558913c128cf461e41\" class=\"completed\" datetime=\"1545613365692.245\">Ran for < 5 seconds</time></pre>\n",
       "        </td>\n",
       "  </tr>\n",
       "</table>\n"
      ]
     },
     "metadata": {},
     "output_type": "display_data"
    },
    {
     "name": "stdout",
     "output_type": "stream",
     "text": [
      "B_0.txt\n",
      "B_2.txt\n",
      "B_1.txt\n",
      "B_3.txt\n"
     ]
    }
   ],
   "source": [
    "%run\n",
    "[K]\n",
    "input: for_each=dict(i=range(4))\n",
    "output: A=f'A_{i}.txt', B=f'B_{i}.txt'\n",
    "_output.touch()\n",
    "\n",
    "[20]\n",
    "input: named_output('B')\n",
    "print(_input)"
   ]
  },
  {
   "cell_type": "markdown",
   "metadata": {
    "kernel": "SoS"
   },
   "source": [
    "## Further reading\n",
    "\n",
    "* "
   ]
  }
 ],
 "metadata": {
  "kernelspec": {
   "display_name": "SoS",
   "language": "sos",
   "name": "sos"
  },
  "language_info": {
   "codemirror_mode": "sos",
   "file_extension": ".sos",
   "mimetype": "text/x-sos",
   "name": "sos",
   "nbconvert_exporter": "sos_notebook.converter.SoS_Exporter",
   "pygments_lexer": "sos"
  },
  "sos": {
   "kernels": [
    [
     "Bash",
     "bash",
     "Bash",
     "#E6EEFF"
    ],
    [
     "R",
     "ir",
     "R",
     "#DCDCDA"
    ],
    [
     "SoS",
     "sos",
     "",
     ""
    ]
   ],
   "panel": {
    "displayed": true,
    "height": 0
   },
   "version": "0.17.4"
  }
 },
 "nbformat": 4,
 "nbformat_minor": 2
}
