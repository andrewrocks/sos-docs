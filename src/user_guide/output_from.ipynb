{
 "cells": [
  {
   "cell_type": "markdown",
   "metadata": {
    "kernel": "SoS"
   },
   "source": [
    "# How to include output from another step in a SoS step"
   ]
  },
  {
   "cell_type": "markdown",
   "metadata": {
    "kernel": "SoS"
   },
   "source": [
    "* **Difficulty level**: intermediate\n",
    "* **Time need to lean**: 10 minutes or less\n",
    "* **Key points**:\n",
    "  * Function `output_from(step)` refers to output from another `step`\n",
    "  * `output_from(step)[name]` can be used to refer to named output from `step`\n",
    "  "
   ]
  },
  {
   "cell_type": "markdown",
   "metadata": {
    "kernel": "SoS"
   },
   "source": [
    "## Referring to output from another step"
   ]
  },
  {
   "cell_type": "markdown",
   "metadata": {
    "kernel": "SoS"
   },
   "source": [
    "As shown in the example from tutorial [How to use named output in data-flow style workflows](doc/user_guide/named_output.html), function `named_output` can be used to refer to named output from another step:"
   ]
  },
  {
   "cell_type": "code",
   "execution_count": 1,
   "metadata": {
    "kernel": "SoS"
   },
   "outputs": [
    {
     "data": {
      "text/html": [
       "\n",
       "<table id=\"workflow_20f0bfc5-791e-45a3-8b62-7732e45114fa\" class=\"workflow_table  completed\">\n",
       "<tr>\n",
       "      <td class=\"workflow_icon\">\n",
       "        <i id=\"workflow_status_icon_20f0bfc5-791e-45a3-8b62-7732e45114fa\" class=\"fa fa-2x fa-fw fa-check-square-o\"\n",
       "        onmouseover='this.classList=\"fa fa-2x fa-fw fa-trash\"' onmouseleave='this.classList=\"fa fa-2x fa-fw fa-check-square-o\"' onclick=\"cancel_workflow(this.id.substring(21))\"></i>\n",
       "      </td>\n",
       "      <td class=\"workflow_name\">\n",
       "        <pre><span id=\"workflow_name_20f0bfc5-791e-45a3-8b62-7732e45114fa\">plot</span></pre>\n",
       "      </td>\n",
       "      <td class=\"workflow_id\">\n",
       "        <span>Workflow ID</span></br>\n",
       "        <pre><i class=\"fa fa-fw fa-sitemap\"></i><span id=\"workflow_id_20f0bfc5-791e-45a3-8b62-7732e45114fa\">4dcd3205dd8ea4c0</span></pre>\n",
       "      </td>\n",
       "      <td class=\"workflow_index\">\n",
       "        <span>Index</span></br>\n",
       "        <pre>#<span id=\"workflow_index_20f0bfc5-791e-45a3-8b62-7732e45114fa\">1</span></pre>\n",
       "      </td>\n",
       "      <td class=\"workflow_status\">\n",
       "        <span id=\"status_text_20f0bfc5-791e-45a3-8b62-7732e45114fa\">completed</span></br>\n",
       "        <pre><i class=\"fa fa-fw fa-clock-o\"></i><time id=\"status_duration_20f0bfc5-791e-45a3-8b62-7732e45114fa\" class=\"completed\" datetime=\"1546786004281.364\">Ran for 1 sec</time></pre>\n",
       "      </td>\n",
       "</tr>\n",
       "</table>\n"
      ]
     },
     "metadata": {},
     "output_type": "display_data"
    },
    {
     "data": {
      "text/html": [
       "<div class=\"sos_logging sos_info\">INFO: Running <span class=\"sos_highlight\">convert</span>: \n",
       "</div>"
      ]
     },
     "metadata": {},
     "output_type": "display_data"
    },
    {
     "name": "stdout",
     "output_type": "stream",
     "text": [
      "xlsx2csv data/DEG.xlsx > data/DEG.csv\n",
      "\n"
     ]
    },
    {
     "data": {
      "text/html": [
       "<div class=\"sos_logging sos_info\">INFO: output:   <span class=\"sos_highlight\">data/DEG.csv</span>\n",
       "</div>"
      ]
     },
     "metadata": {},
     "output_type": "display_data"
    },
    {
     "data": {
      "text/html": [
       "<div class=\"sos_logging sos_info\">INFO: Running <span class=\"sos_highlight\">plot</span>: \n",
       "</div>"
      ]
     },
     "metadata": {},
     "output_type": "display_data"
    },
    {
     "data": {
      "text/html": [
       "<div class=\"sos_logging sos_info\">INFO: <span class=\"sos_highlight\">plot</span> (index=0) is <span class=\"sos_highlight\">ignored</span> due to saved signature\n",
       "</div>"
      ]
     },
     "metadata": {},
     "output_type": "display_data"
    },
    {
     "data": {
      "text/html": [
       "<div class=\"sos_logging sos_info\">INFO: output:   <span class=\"sos_highlight\">output.pdf</span>\n",
       "</div>"
      ]
     },
     "metadata": {},
     "output_type": "display_data"
    },
    {
     "data": {
      "text/html": [
       "<div class=\"sos_logging sos_info\">INFO: Workflow plot (ID=4dcd3205dd8ea4c0) is executed successfully with 1 completed step and 1 ignored step.\n",
       "</div>"
      ]
     },
     "metadata": {},
     "output_type": "display_data"
    }
   ],
   "source": [
    "!rm -f data/DEG.csv\n",
    "%run plot\n",
    "\n",
    "[global]\n",
    "excel_file = 'data/DEG.xlsx'\n",
    "csv_file = 'data/DEG.csv'\n",
    "figure_file = 'output.pdf'\n",
    "\n",
    "[convert]\n",
    "input: excel_file\n",
    "output: csv = _input.with_suffix('.csv')\n",
    "\n",
    "run: expand=True\n",
    "    xlsx2csv {_input} > {_output}\n",
    "\n",
    "[plot]\n",
    "input: named_output('csv')\n",
    "output: figure_file\n",
    "\n",
    "R: expand=True\n",
    "    data <- read.csv('{_input}')\n",
    "    pdf('{_output}')\n",
    "    plot(data$log2FoldChange, data$stat)\n",
    "    dev.off()"
   ]
  },
  {
   "cell_type": "markdown",
   "metadata": {
    "kernel": "SoS"
   },
   "source": [
    "One obvious limitation of `named_output()` is that the name has to be unique in the workflow. For example, in the following workflow where another step `test_csv` also gives its output a name `csv`, the workflow would fail due to ambiguity. This is usually not a concern with small workflows but when workflows get more and more complex, it is sometimes desired to anchor named output more precisely."
   ]
  },
  {
   "cell_type": "code",
   "execution_count": 2,
   "metadata": {
    "kernel": "SoS"
   },
   "outputs": [
    {
     "data": {
      "text/html": []
     },
     "metadata": {},
     "output_type": "display_data"
    },
    {
     "name": "stdout",
     "output_type": "stream",
     "text": [
      "\u001b[91mERROR\u001b[0m: \u001b[91mMultiple steps convert, test_csv to generate target named_output(\"csv\")\u001b[0m\n"
     ]
    }
   ],
   "source": [
    "!rm -f data/DEG.csv\n",
    "%run plot\n",
    "\n",
    "[global]\n",
    "excel_file = 'data/DEG.xlsx'\n",
    "csv_file = 'data/DEG.csv'\n",
    "figure_file = 'output.pdf'\n",
    "\n",
    "[convert]\n",
    "input: excel_file\n",
    "output: csv = _input.with_suffix('.csv')\n",
    "\n",
    "run: expand=True\n",
    "    xlsx2csv {_input} > {_output}\n",
    "\n",
    "[test_csv]\n",
    "input: excel_file\n",
    "output: csv = f'{_input:n}_test.csv'\n",
    "\n",
    "run: expand=True\n",
    "    xlsx2csv {_input} | head -10 > {_output}\n",
    "    \n",
    "[plot]\n",
    "input: named_output('csv')\n",
    "output: figure_file\n",
    "\n",
    "R: expand=True\n",
    "    data <- read.csv('{_input}')\n",
    "    pdf('{_output}')\n",
    "    plot(data$log2FoldChange, data$stat)\n",
    "    dev.off()"
   ]
  },
  {
   "cell_type": "markdown",
   "metadata": {
    "kernel": "SoS"
   },
   "source": [
    "## Function  `output_from` <a id=\"output_from\"></a>"
   ]
  },
  {
   "cell_type": "markdown",
   "metadata": {
    "kernel": "SoS"
   },
   "source": [
    " <div class=\"bs-callout bs-callout-primary\" role=\"alert\">\n",
    "    <h4>Function <code>output_from(steps, group_by, ...)</code></h4>\n",
    "    <p>Function <code>output_from</code> refers to the output of <code>step</code>. The returned the object is the complete output from <code>step</code> with its own sources and groups. Therefore,</p>\n",
    "    <ul>\n",
    "        <li>More than one steps can be specified as a list of step names</li>\n",
    "        <li>Option <code>group_by</code> can be used to regroup the returned files</li>\n",
    "        <li><code>output_from(step)[name]</code> refers to all output with source <code>name</code></li>\n",
    "    </ul>\n",
    " </div>"
   ]
  },
  {
   "cell_type": "markdown",
   "metadata": {
    "kernel": "SoS"
   },
   "source": [
    "Function `output_from` imports the output from one or more other steps. For example, in the following workflow `output_from(['step_10', 'step_20'])` takes the output from steps `step_10` and `step_20` as input. The `sources` of these input are `step_10` and `step_20` respectively. In a process-oriented workflow, `output_from(['step_10', 'step_20'])` can be simplified as `output_from([10, 20])` (integers)."
   ]
  },
  {
   "cell_type": "code",
   "execution_count": 5,
   "metadata": {
    "kernel": "SoS"
   },
   "outputs": [
    {
     "data": {
      "text/html": [
       "\n",
       "<table id=\"workflow_b5303da8-1532-4eab-a73f-29bf247de8bb\" class=\"workflow_table  completed\">\n",
       "<tr>\n",
       "      <td class=\"workflow_icon\">\n",
       "        <i id=\"workflow_status_icon_b5303da8-1532-4eab-a73f-29bf247de8bb\" class=\"fa fa-2x fa-fw fa-check-square-o\"\n",
       "        onmouseover='this.classList=\"fa fa-2x fa-fw fa-trash\"' onmouseleave='this.classList=\"fa fa-2x fa-fw fa-check-square-o\"' onclick=\"cancel_workflow(this.id.substring(21))\"></i>\n",
       "      </td>\n",
       "      <td class=\"workflow_name\">\n",
       "        <pre><span id=\"workflow_name_b5303da8-1532-4eab-a73f-29bf247de8bb\">step</span></pre>\n",
       "      </td>\n",
       "      <td class=\"workflow_id\">\n",
       "        <span>Workflow ID</span></br>\n",
       "        <pre><i class=\"fa fa-fw fa-sitemap\"></i><span id=\"workflow_id_b5303da8-1532-4eab-a73f-29bf247de8bb\">c54cbfdea24d3f6b</span></pre>\n",
       "      </td>\n",
       "      <td class=\"workflow_index\">\n",
       "        <span>Index</span></br>\n",
       "        <pre>#<span id=\"workflow_index_b5303da8-1532-4eab-a73f-29bf247de8bb\">5</span></pre>\n",
       "      </td>\n",
       "      <td class=\"workflow_status\">\n",
       "        <span id=\"status_text_b5303da8-1532-4eab-a73f-29bf247de8bb\">completed</span></br>\n",
       "        <pre><i class=\"fa fa-fw fa-clock-o\"></i><time id=\"status_duration_b5303da8-1532-4eab-a73f-29bf247de8bb\" class=\"completed\" datetime=\"1546786591487.1401\">Ran for 0 sec</time></pre>\n",
       "      </td>\n",
       "</tr>\n",
       "</table>\n"
      ]
     },
     "metadata": {},
     "output_type": "display_data"
    },
    {
     "name": "stdout",
     "output_type": "stream",
     "text": [
      "input of step step_30 is a.txt b.txt with sources ['step_10', 'step_20']\n",
      "Output of step_20 is b.txt\n"
     ]
    }
   ],
   "source": [
    "%run -v0\n",
    "[step_10]\n",
    "output: 'a.txt'\n",
    "_output.touch()\n",
    "\n",
    "[step_20]\n",
    "output: 'b.txt'\n",
    "print(f'input of step {step_name} is {step_input}')\n",
    "_output.touch()\n",
    "\n",
    "[step_30]\n",
    "input:  output_from(['step_10', 'step_20'])\n",
    "print(f'input of step {step_name} is {step_input} with sources {step_input.sources}')\n",
    "print(f'Output of step_20 is {step_input[\"step_20\"]}')"
   ]
  },
  {
   "cell_type": "markdown",
   "metadata": {
    "kernel": "SoS"
   },
   "source": [
    "You can override the `sources` of input files with keyword arguments"
   ]
  },
  {
   "cell_type": "code",
   "execution_count": 7,
   "metadata": {
    "kernel": "SoS"
   },
   "outputs": [
    {
     "data": {
      "text/html": [
       "\n",
       "<table id=\"workflow_408f6459-11b6-4867-af00-9941c4fb3fcf\" class=\"workflow_table  completed\">\n",
       "<tr>\n",
       "      <td class=\"workflow_icon\">\n",
       "        <i id=\"workflow_status_icon_408f6459-11b6-4867-af00-9941c4fb3fcf\" class=\"fa fa-2x fa-fw fa-check-square-o\"\n",
       "        onmouseover='this.classList=\"fa fa-2x fa-fw fa-trash\"' onmouseleave='this.classList=\"fa fa-2x fa-fw fa-check-square-o\"' onclick=\"cancel_workflow(this.id.substring(21))\"></i>\n",
       "      </td>\n",
       "      <td class=\"workflow_name\">\n",
       "        <pre><span id=\"workflow_name_408f6459-11b6-4867-af00-9941c4fb3fcf\">step</span></pre>\n",
       "      </td>\n",
       "      <td class=\"workflow_id\">\n",
       "        <span>Workflow ID</span></br>\n",
       "        <pre><i class=\"fa fa-fw fa-sitemap\"></i><span id=\"workflow_id_408f6459-11b6-4867-af00-9941c4fb3fcf\">ab3252c1255a6928</span></pre>\n",
       "      </td>\n",
       "      <td class=\"workflow_index\">\n",
       "        <span>Index</span></br>\n",
       "        <pre>#<span id=\"workflow_index_408f6459-11b6-4867-af00-9941c4fb3fcf\">7</span></pre>\n",
       "      </td>\n",
       "      <td class=\"workflow_status\">\n",
       "        <span id=\"status_text_408f6459-11b6-4867-af00-9941c4fb3fcf\">completed</span></br>\n",
       "        <pre><i class=\"fa fa-fw fa-clock-o\"></i><time id=\"status_duration_408f6459-11b6-4867-af00-9941c4fb3fcf\" class=\"completed\" datetime=\"1546786625622.539\">Ran for 0 sec</time></pre>\n",
       "      </td>\n",
       "</tr>\n",
       "</table>\n"
      ]
     },
     "metadata": {},
     "output_type": "display_data"
    },
    {
     "name": "stdout",
     "output_type": "stream",
     "text": [
      "input of step step_30 is a.txt b.txt with sources ['step_10', 's20']\n"
     ]
    }
   ],
   "source": [
    "%run -v0\n",
    "[step_10]\n",
    "output: 'a.txt'\n",
    "print(f'input of step {step_name} is {step_input}')\n",
    "_output.touch()\n",
    "\n",
    "[step_20]\n",
    "output: 'b.txt'\n",
    "print(f'input of step {step_name} is {step_input}')\n",
    "_output.touch()\n",
    "\n",
    "[step_30]\n",
    "input:  output_from(10), s20=output_from(20)\n",
    "print(f'input of step {step_name} is {step_input} with sources {step_input.sources}')\n"
   ]
  },
  {
   "cell_type": "markdown",
   "metadata": {
    "kernel": "SoS"
   },
   "source": [
    "### `source` of outputs returned from `output_from`"
   ]
  },
  {
   "cell_type": "markdown",
   "metadata": {
    "kernel": "SoS"
   },
   "source": [
    "Output from other steps can also have their own sources. In this case, the `sources` of the output is carried over."
   ]
  },
  {
   "cell_type": "code",
   "execution_count": 16,
   "metadata": {
    "kernel": "SoS"
   },
   "outputs": [
    {
     "data": {
      "text/html": [
       "\n",
       "<table id=\"workflow_2993764f-8c5b-4c85-bfeb-fc2f0b4adeb7\" class=\"workflow_table  completed\">\n",
       "<tr>\n",
       "      <td class=\"workflow_icon\">\n",
       "        <i id=\"workflow_status_icon_2993764f-8c5b-4c85-bfeb-fc2f0b4adeb7\" class=\"fa fa-2x fa-fw fa-check-square-o\"\n",
       "        onmouseover='this.classList=\"fa fa-2x fa-fw fa-trash\"' onmouseleave='this.classList=\"fa fa-2x fa-fw fa-check-square-o\"' onclick=\"cancel_workflow(this.id.substring(21))\"></i>\n",
       "      </td>\n",
       "      <td class=\"workflow_name\">\n",
       "        <pre><span id=\"workflow_name_2993764f-8c5b-4c85-bfeb-fc2f0b4adeb7\">step</span></pre>\n",
       "      </td>\n",
       "      <td class=\"workflow_id\">\n",
       "        <span>Workflow ID</span></br>\n",
       "        <pre><i class=\"fa fa-fw fa-sitemap\"></i><span id=\"workflow_id_2993764f-8c5b-4c85-bfeb-fc2f0b4adeb7\">741f2c5f77bde980</span></pre>\n",
       "      </td>\n",
       "      <td class=\"workflow_index\">\n",
       "        <span>Index</span></br>\n",
       "        <pre>#<span id=\"workflow_index_2993764f-8c5b-4c85-bfeb-fc2f0b4adeb7\">15</span></pre>\n",
       "      </td>\n",
       "      <td class=\"workflow_status\">\n",
       "        <span id=\"status_text_2993764f-8c5b-4c85-bfeb-fc2f0b4adeb7\">completed</span></br>\n",
       "        <pre><i class=\"fa fa-fw fa-clock-o\"></i><time id=\"status_duration_2993764f-8c5b-4c85-bfeb-fc2f0b4adeb7\" class=\"completed\" datetime=\"1546788024772.3643\">Ran for 0 sec</time></pre>\n",
       "      </td>\n",
       "</tr>\n",
       "</table>\n"
      ]
     },
     "metadata": {},
     "output_type": "display_data"
    },
    {
     "name": "stdout",
     "output_type": "stream",
     "text": [
      "input of step step_30 is out.txt summary.txt with sources ['output', 'summary']\n"
     ]
    }
   ],
   "source": [
    "%run -v0\n",
    "[step_10]\n",
    "output: output='out.txt', summary='summary.txt'\n",
    "_output.touch()\n",
    "\n",
    "[step_30]\n",
    "input:  output_from(10)\n",
    "print(f'input of step {step_name} is {step_input} with sources {step_input.sources}')"
   ]
  },
  {
   "cell_type": "markdown",
   "metadata": {
    "kernel": "SoS"
   },
   "source": [
    "Now, if you are only interested to the `summary` part of the output of `step_10`, you can use `['summary']` to get a subset of the output from `output_from(10)`:"
   ]
  },
  {
   "cell_type": "code",
   "execution_count": 18,
   "metadata": {
    "kernel": "SoS"
   },
   "outputs": [
    {
     "data": {
      "text/html": [
       "\n",
       "<table id=\"workflow_39826e9a-b511-486a-b635-501ba1e47387\" class=\"workflow_table  completed\">\n",
       "<tr>\n",
       "      <td class=\"workflow_icon\">\n",
       "        <i id=\"workflow_status_icon_39826e9a-b511-486a-b635-501ba1e47387\" class=\"fa fa-2x fa-fw fa-check-square-o\"\n",
       "        onmouseover='this.classList=\"fa fa-2x fa-fw fa-trash\"' onmouseleave='this.classList=\"fa fa-2x fa-fw fa-check-square-o\"' onclick=\"cancel_workflow(this.id.substring(21))\"></i>\n",
       "      </td>\n",
       "      <td class=\"workflow_name\">\n",
       "        <pre><span id=\"workflow_name_39826e9a-b511-486a-b635-501ba1e47387\">step</span></pre>\n",
       "      </td>\n",
       "      <td class=\"workflow_id\">\n",
       "        <span>Workflow ID</span></br>\n",
       "        <pre><i class=\"fa fa-fw fa-sitemap\"></i><span id=\"workflow_id_39826e9a-b511-486a-b635-501ba1e47387\">e749542e45a8a28e</span></pre>\n",
       "      </td>\n",
       "      <td class=\"workflow_index\">\n",
       "        <span>Index</span></br>\n",
       "        <pre>#<span id=\"workflow_index_39826e9a-b511-486a-b635-501ba1e47387\">17</span></pre>\n",
       "      </td>\n",
       "      <td class=\"workflow_status\">\n",
       "        <span id=\"status_text_39826e9a-b511-486a-b635-501ba1e47387\">completed</span></br>\n",
       "        <pre><i class=\"fa fa-fw fa-clock-o\"></i><time id=\"status_duration_39826e9a-b511-486a-b635-501ba1e47387\" class=\"completed\" datetime=\"1546788046821.378\">Ran for 0 sec</time></pre>\n",
       "      </td>\n",
       "</tr>\n",
       "</table>\n"
      ]
     },
     "metadata": {},
     "output_type": "display_data"
    },
    {
     "name": "stdout",
     "output_type": "stream",
     "text": [
      "input of step step_30 is summary.txt with sources ['summary']\n"
     ]
    }
   ],
   "source": [
    "%run -v0\n",
    "[step_10]\n",
    "output: output='out.txt', summary='summary.txt'\n",
    "_output.touch()\n",
    "\n",
    "[step_30]\n",
    "input:  output_from(10)['summary']\n",
    "print(f'input of step {step_name} is {step_input} with sources {step_input.sources}')"
   ]
  },
  {
   "cell_type": "markdown",
   "metadata": {
    "kernel": "SoS"
   },
   "source": [
    "When you use keyword argument to specify all or parts of the outputs, the `sources` are overridden"
   ]
  },
  {
   "cell_type": "code",
   "execution_count": 20,
   "metadata": {
    "kernel": "SoS"
   },
   "outputs": [
    {
     "data": {
      "text/html": [
       "\n",
       "<table id=\"workflow_3b1935cc-e961-495a-b583-37a2485e8206\" class=\"workflow_table  completed\">\n",
       "<tr>\n",
       "      <td class=\"workflow_icon\">\n",
       "        <i id=\"workflow_status_icon_3b1935cc-e961-495a-b583-37a2485e8206\" class=\"fa fa-2x fa-fw fa-check-square-o\"\n",
       "        onmouseover='this.classList=\"fa fa-2x fa-fw fa-trash\"' onmouseleave='this.classList=\"fa fa-2x fa-fw fa-check-square-o\"' onclick=\"cancel_workflow(this.id.substring(21))\"></i>\n",
       "      </td>\n",
       "      <td class=\"workflow_name\">\n",
       "        <pre><span id=\"workflow_name_3b1935cc-e961-495a-b583-37a2485e8206\">step</span></pre>\n",
       "      </td>\n",
       "      <td class=\"workflow_id\">\n",
       "        <span>Workflow ID</span></br>\n",
       "        <pre><i class=\"fa fa-fw fa-sitemap\"></i><span id=\"workflow_id_3b1935cc-e961-495a-b583-37a2485e8206\">9c6283740131138c</span></pre>\n",
       "      </td>\n",
       "      <td class=\"workflow_index\">\n",
       "        <span>Index</span></br>\n",
       "        <pre>#<span id=\"workflow_index_3b1935cc-e961-495a-b583-37a2485e8206\">19</span></pre>\n",
       "      </td>\n",
       "      <td class=\"workflow_status\">\n",
       "        <span id=\"status_text_3b1935cc-e961-495a-b583-37a2485e8206\">completed</span></br>\n",
       "        <pre><i class=\"fa fa-fw fa-clock-o\"></i><time id=\"status_duration_3b1935cc-e961-495a-b583-37a2485e8206\" class=\"completed\" datetime=\"1546788062385.0398\">Ran for 0 sec</time></pre>\n",
       "      </td>\n",
       "</tr>\n",
       "</table>\n"
      ]
     },
     "metadata": {},
     "output_type": "display_data"
    },
    {
     "name": "stdout",
     "output_type": "stream",
     "text": [
      "input of step step_30 is a.txt b.txt c.txt with sources ['s10', 's10', 'c']\n"
     ]
    }
   ],
   "source": [
    "%run -v0\n",
    "[step_10]\n",
    "output: a='a.txt', b='b.txt'\n",
    "_output.touch()\n",
    "\n",
    "[step_20]\n",
    "output: c='c.txt', d='d.txt'\n",
    "_output.touch()\n",
    "\n",
    "[step_30]\n",
    "input:  s10=output_from(10), c=output_from(20)[\"c\"]\n",
    "print(f'input of step {step_name} is {step_input} with sources {step_input.sources}')"
   ]
  },
  {
   "cell_type": "markdown",
   "metadata": {
    "kernel": "SoS"
   },
   "source": [
    "Note that both source `a` and `b` from `output_from(10)` are overriden by `s10` so you can no longer differentiate sources `a` and `b` from `output_from(10)`."
   ]
  },
  {
   "cell_type": "markdown",
   "metadata": {
    "kernel": "SoS"
   },
   "source": [
    "### groups of outputs returned from `output_from`"
   ]
  },
  {
   "cell_type": "markdown",
   "metadata": {
    "kernel": "SoS"
   },
   "source": [
    "Similar to the case with `named_output`, the returned object from `output_from()` keeps its original groups. For example,  "
   ]
  },
  {
   "cell_type": "code",
   "execution_count": 23,
   "metadata": {
    "kernel": "SoS"
   },
   "outputs": [
    {
     "data": {
      "text/html": []
     },
     "metadata": {},
     "output_type": "display_data"
    },
    {
     "name": "stdout",
     "output_type": "stream",
     "text": [
      "Converting a_0.txt to a_0.bak\n",
      "Converting a_1.txt to a_1.bak\n",
      "Converting a_2.txt to a_2.bak\n",
      "Converting a_3.txt to a_3.bak\n"
     ]
    }
   ],
   "source": [
    "%run B -v0\n",
    "[A]\n",
    "input: for_each=dict(i=range(4))\n",
    "output: f'a_{i}.txt'\n",
    "_output.touch()\n",
    "\n",
    "[B]\n",
    "input: output_from('A')\n",
    "output: _input.with_suffix('.bak')\n",
    "print(f'Converting {_input} to {_output}')\n",
    "_output.touch()"
   ]
  },
  {
   "cell_type": "markdown",
   "metadata": {
    "kernel": "SoS"
   },
   "source": [
    "## Using `output_from` in place of `named_output`"
   ]
  },
  {
   "cell_type": "markdown",
   "metadata": {
    "kernel": "SoS"
   },
   "source": [
    "Going back to our `conver`, `plot` example. When another step is added to have the same named output, it is no longer possible to use `named_output(name)`. In this case you can explicitly specify the step from which the named output is defined, and use\n",
    "\n",
    "```\n",
    "output_from(step)[name]\n",
    "```\n",
    "instead of\n",
    "```\n",
    "named_output(name)\n",
    "```\n",
    "as shown in the following example:"
   ]
  },
  {
   "cell_type": "code",
   "execution_count": 11,
   "metadata": {
    "kernel": "SoS"
   },
   "outputs": [
    {
     "data": {
      "text/html": [
       "\n",
       "<table id=\"workflow_e64b92d4-6ac8-48b4-af4e-4dc7d98413e6\" class=\"workflow_table  completed\">\n",
       "<tr>\n",
       "      <td class=\"workflow_icon\">\n",
       "        <i id=\"workflow_status_icon_e64b92d4-6ac8-48b4-af4e-4dc7d98413e6\" class=\"fa fa-2x fa-fw fa-check-square-o\"\n",
       "        onmouseover='this.classList=\"fa fa-2x fa-fw fa-trash\"' onmouseleave='this.classList=\"fa fa-2x fa-fw fa-check-square-o\"' onclick=\"cancel_workflow(this.id.substring(21))\"></i>\n",
       "      </td>\n",
       "      <td class=\"workflow_name\">\n",
       "        <pre><span id=\"workflow_name_e64b92d4-6ac8-48b4-af4e-4dc7d98413e6\">plot</span></pre>\n",
       "      </td>\n",
       "      <td class=\"workflow_id\">\n",
       "        <span>Workflow ID</span></br>\n",
       "        <pre><i class=\"fa fa-fw fa-sitemap\"></i><span id=\"workflow_id_e64b92d4-6ac8-48b4-af4e-4dc7d98413e6\">08791179e094b892</span></pre>\n",
       "      </td>\n",
       "      <td class=\"workflow_index\">\n",
       "        <span>Index</span></br>\n",
       "        <pre>#<span id=\"workflow_index_e64b92d4-6ac8-48b4-af4e-4dc7d98413e6\">11</span></pre>\n",
       "      </td>\n",
       "      <td class=\"workflow_status\">\n",
       "        <span id=\"status_text_e64b92d4-6ac8-48b4-af4e-4dc7d98413e6\">completed</span></br>\n",
       "        <pre><i class=\"fa fa-fw fa-clock-o\"></i><time id=\"status_duration_e64b92d4-6ac8-48b4-af4e-4dc7d98413e6\" class=\"completed\" datetime=\"1546787013830.6428\">Ran for 0 sec</time></pre>\n",
       "      </td>\n",
       "</tr>\n",
       "</table>\n"
      ]
     },
     "metadata": {},
     "output_type": "display_data"
    },
    {
     "data": {
      "text/html": [
       "<div class=\"sos_logging sos_info\">INFO: Running <span class=\"sos_highlight\">convert</span>: \n",
       "</div>"
      ]
     },
     "metadata": {},
     "output_type": "display_data"
    },
    {
     "name": "stdout",
     "output_type": "stream",
     "text": [
      "xlsx2csv data/DEG.xlsx > data/DEG.csv\n",
      "\n"
     ]
    },
    {
     "data": {
      "text/html": [
       "<div class=\"sos_logging sos_info\">INFO: output:   <span class=\"sos_highlight\">data/DEG.csv</span>\n",
       "</div>"
      ]
     },
     "metadata": {},
     "output_type": "display_data"
    },
    {
     "data": {
      "text/html": [
       "<div class=\"sos_logging sos_info\">INFO: Running <span class=\"sos_highlight\">plot</span>: \n",
       "</div>"
      ]
     },
     "metadata": {},
     "output_type": "display_data"
    },
    {
     "data": {
      "text/html": [
       "<div class=\"sos_logging sos_info\">INFO: <span class=\"sos_highlight\">plot</span> (index=0) is <span class=\"sos_highlight\">ignored</span> due to saved signature\n",
       "</div>"
      ]
     },
     "metadata": {},
     "output_type": "display_data"
    },
    {
     "data": {
      "text/html": [
       "<div class=\"sos_logging sos_info\">INFO: output:   <span class=\"sos_highlight\">output.pdf</span>\n",
       "</div>"
      ]
     },
     "metadata": {},
     "output_type": "display_data"
    },
    {
     "data": {
      "text/html": [
       "<div class=\"sos_logging sos_info\">INFO: Workflow plot (ID=08791179e094b892) is executed successfully with 1 completed step and 1 ignored step.\n",
       "</div>"
      ]
     },
     "metadata": {},
     "output_type": "display_data"
    }
   ],
   "source": [
    "!rm -f data/DEG.csv\n",
    "%run plot \n",
    "\n",
    "[global]\n",
    "excel_file = 'data/DEG.xlsx'\n",
    "csv_file = 'data/DEG.csv'\n",
    "figure_file = 'output.pdf'\n",
    "\n",
    "[convert]\n",
    "input: excel_file\n",
    "output: csv = _input.with_suffix('.csv')\n",
    "\n",
    "run: expand=True\n",
    "    xlsx2csv {_input} > {_output}\n",
    "\n",
    "[test_csv]\n",
    "input: excel_file\n",
    "output: csv = f'{_input:n}_test.csv'\n",
    "\n",
    "run: expand=True\n",
    "    xlsx2csv {_input} | head -10 > {_output}\n",
    "    \n",
    "[plot]\n",
    "input: output_from('convert')['csv']\n",
    "output: figure_file\n",
    "\n",
    "R: expand=True\n",
    "    data <- read.csv('{_input}')\n",
    "    pdf('{_output}')\n",
    "    plot(data$log2FoldChange, data$stat)\n",
    "    dev.off()"
   ]
  },
  {
   "cell_type": "markdown",
   "metadata": {
    "kernel": "SoS"
   },
   "source": [
    "Note that `output_from` is better than `named_output` for its ability to referring to a specific step, but is also worse than `named_output` for the same reason because it makes the workflow more difficult to maintain. We generally recommend the use of `named_output` for its simplicity."
   ]
  },
  {
   "cell_type": "markdown",
   "metadata": {
    "kernel": "SoS"
   },
   "source": [
    "## Further reading\n",
    "* [How to use named output in data-flow style workflows](doc/user_guide/named_output.html)"
   ]
  }
 ],
 "metadata": {
  "kernelspec": {
   "display_name": "SoS",
   "language": "sos",
   "name": "sos"
  },
  "language_info": {
   "codemirror_mode": "sos",
   "file_extension": ".sos",
   "mimetype": "text/x-sos",
   "name": "sos",
   "nbconvert_exporter": "sos_notebook.converter.SoS_Exporter",
   "pygments_lexer": "sos"
  },
  "sos": {
   "kernels": [
    [
     "Bash",
     "bash",
     "Bash",
     "#E6EEFF"
    ],
    [
     "R",
     "ir",
     "R",
     "#DCDCDA"
    ],
    [
     "SoS",
     "sos",
     "",
     ""
    ]
   ],
   "panel": {
    "displayed": true,
    "height": 0
   },
   "version": "0.17.5"
  }
 },
 "nbformat": 4,
 "nbformat_minor": 2
}
