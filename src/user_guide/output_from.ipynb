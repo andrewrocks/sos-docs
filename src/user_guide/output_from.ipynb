{
 "cells": [
  {
   "cell_type": "markdown",
   "metadata": {
    "kernel": "SoS"
   },
   "source": [
    "# How to include output from another step in a SoS step"
   ]
  },
  {
   "cell_type": "markdown",
   "metadata": {
    "kernel": "SoS"
   },
   "source": [
    "* **Difficulty level**: intermediate\n",
    "* **Time need to lean**: 10 minutes or less\n",
    "* **Key points**:\n",
    "  * Function `output_from(step)` refers to output from another `step`\n",
    "  * `output_from(step)[name]` can be used to refer to named output from `step`\n",
    "  "
   ]
  },
  {
   "cell_type": "markdown",
   "metadata": {
    "kernel": "SoS"
   },
   "source": [
    "## Referring to named output from another step"
   ]
  },
  {
   "cell_type": "markdown",
   "metadata": {
    "kernel": "SoS"
   },
   "source": [
    "As shown in the example from tutorial [How to use named output in data-flow style workflows](doc/user_guide/named_output.html), function `named_output` can be used to refer to named output from another step:"
   ]
  },
  {
   "cell_type": "code",
   "execution_count": 1,
   "metadata": {
    "kernel": "SoS"
   },
   "outputs": [
    {
     "name": "stdout",
     "output_type": "stream",
     "text": [
      "Set sos options to \"-s force\"\n"
     ]
    },
    {
     "data": {
      "text/html": [
       "\n",
       "<table id=\"workflow_c7158a02-13ec-4a81-a97e-644510383aae\" class=\"workflow_table  completed\">\n",
       "<tr>\n",
       "      <td class=\"workflow_icon\">\n",
       "        <i id=\"workflow_status_icon_c7158a02-13ec-4a81-a97e-644510383aae\" class=\"fa fa-2x fa-fw fa-check-square-o\"\n",
       "        onmouseover='this.classList=\"fa fa-2x fa-fw fa-trash\"' onmouseleave='this.classList=\"fa fa-2x fa-fw fa-check-square-o\"' onclick=\"cancel_workflow(this.id.substring(21))\"></i>\n",
       "      </td>\n",
       "      <td class=\"workflow_name\">\n",
       "        <pre><span id=\"workflow_name_c7158a02-13ec-4a81-a97e-644510383aae\">plot</span></pre>\n",
       "      </td>\n",
       "      <td class=\"workflow_id\">\n",
       "        <span>Workflow ID</span></br>\n",
       "        <pre><i class=\"fa fa-fw fa-sitemap\"></i><span id=\"workflow_id_c7158a02-13ec-4a81-a97e-644510383aae\">4dcd3205dd8ea4c0</span></pre>\n",
       "      </td>\n",
       "      <td class=\"workflow_index\">\n",
       "        <span>Index</span></br>\n",
       "        <pre>#<span id=\"workflow_index_c7158a02-13ec-4a81-a97e-644510383aae\">1</span></pre>\n",
       "      </td>\n",
       "      <td class=\"workflow_status\">\n",
       "        <span id=\"status_text_c7158a02-13ec-4a81-a97e-644510383aae\">completed</span></br>\n",
       "        <pre><i class=\"fa fa-fw fa-clock-o\"></i><time id=\"status_duration_c7158a02-13ec-4a81-a97e-644510383aae\" class=\"completed\" datetime=\"1546836374376.617\">Ran for 1 sec</time></pre>\n",
       "      </td>\n",
       "</tr>\n",
       "</table>\n"
      ]
     },
     "metadata": {},
     "output_type": "display_data"
    },
    {
     "name": "stdout",
     "output_type": "stream",
     "text": [
      "xlsx2csv data/DEG.xlsx > data/DEG.csv\n",
      "\n",
      "null device \n",
      "          1 \n"
     ]
    }
   ],
   "source": [
    "!rm -f data/DEG.csv\n",
    "%run plot\n",
    "\n",
    "[global]\n",
    "excel_file = 'data/DEG.xlsx'\n",
    "csv_file = 'data/DEG.csv'\n",
    "figure_file = 'output.pdf'\n",
    "\n",
    "[convert]\n",
    "input: excel_file\n",
    "output: csv = _input.with_suffix('.csv')\n",
    "\n",
    "run: expand=True\n",
    "    xlsx2csv {_input} > {_output}\n",
    "\n",
    "[plot]\n",
    "input: named_output('csv')\n",
    "output: figure_file\n",
    "\n",
    "R: expand=True\n",
    "    data <- read.csv('{_input}')\n",
    "    pdf('{_output}')\n",
    "    plot(data$log2FoldChange, data$stat)\n",
    "    dev.off()"
   ]
  },
  {
   "cell_type": "markdown",
   "metadata": {
    "kernel": "SoS"
   },
   "source": [
    "One obvious limitation of `named_output()` is that the name has to be unique in the workflow. For example, in the following script where another step `test_csv` also gives its output a name `csv`, the workflow would fail due to ambiguity. This is usually not a concern with small workflows. However, when workflows get more and more complex, it is sometimes desired to anchor named output more precisely."
   ]
  },
  {
   "cell_type": "code",
   "execution_count": 2,
   "metadata": {
    "kernel": "SoS"
   },
   "outputs": [
    {
     "data": {
      "text/html": [
       "\n",
       "<table id=\"workflow_18598433-bb07-426c-afd1-f3ad46263108\" class=\"workflow_table  failed\">\n",
       "<tr>\n",
       "      <td class=\"workflow_icon\">\n",
       "        <i id=\"workflow_status_icon_18598433-bb07-426c-afd1-f3ad46263108\" class=\"fa fa-2x fa-fw fa-times-circle-o\"\n",
       "        onmouseover='this.classList=\"fa fa-2x fa-fw fa-trash\"' onmouseleave='this.classList=\"fa fa-2x fa-fw fa-times-circle-o\"' onclick=\"cancel_workflow(this.id.substring(21))\"></i>\n",
       "      </td>\n",
       "      <td class=\"workflow_name\">\n",
       "        <pre><span id=\"workflow_name_18598433-bb07-426c-afd1-f3ad46263108\">plot</span></pre>\n",
       "      </td>\n",
       "      <td class=\"workflow_id\">\n",
       "        <span>Workflow ID</span></br>\n",
       "        <pre><i class=\"fa fa-fw fa-sitemap\"></i><span id=\"workflow_id_18598433-bb07-426c-afd1-f3ad46263108\">43ddd46fbd415940</span></pre>\n",
       "      </td>\n",
       "      <td class=\"workflow_index\">\n",
       "        <span>Index</span></br>\n",
       "        <pre>#<span id=\"workflow_index_18598433-bb07-426c-afd1-f3ad46263108\">2</span></pre>\n",
       "      </td>\n",
       "      <td class=\"workflow_status\">\n",
       "        <span id=\"status_text_18598433-bb07-426c-afd1-f3ad46263108\">failed</span></br>\n",
       "        <pre><i class=\"fa fa-fw fa-clock-o\"></i><time id=\"status_duration_18598433-bb07-426c-afd1-f3ad46263108\" class=\"failed\" datetime=\"1546836377243.124\">Ran for < 5 seconds</time></pre>\n",
       "      </td>\n",
       "</tr>\n",
       "</table>\n"
      ]
     },
     "metadata": {},
     "output_type": "display_data"
    },
    {
     "name": "stdout",
     "output_type": "stream",
     "text": [
      "\u001b[91mERROR\u001b[0m: \u001b[91mMultiple steps convert, test_csv to generate target named_output(\"csv\")\u001b[0m\n"
     ]
    }
   ],
   "source": [
    "!rm -f data/DEG.csv\n",
    "%run plot\n",
    "\n",
    "[global]\n",
    "excel_file = 'data/DEG.xlsx'\n",
    "csv_file = 'data/DEG.csv'\n",
    "figure_file = 'output.pdf'\n",
    "\n",
    "[convert]\n",
    "input: excel_file\n",
    "output: csv = _input.with_suffix('.csv')\n",
    "\n",
    "run: expand=True\n",
    "    xlsx2csv {_input} > {_output}\n",
    "\n",
    "[test_csv]\n",
    "input: excel_file\n",
    "output: csv = f'{_input:n}_test.csv'\n",
    "\n",
    "run: expand=True\n",
    "    xlsx2csv {_input} | head -10 > {_output}\n",
    "    \n",
    "[plot]\n",
    "input: named_output('csv')\n",
    "output: figure_file\n",
    "\n",
    "R: expand=True\n",
    "    data <- read.csv('{_input}')\n",
    "    pdf('{_output}')\n",
    "    plot(data$log2FoldChange, data$stat)\n",
    "    dev.off()"
   ]
  },
  {
   "cell_type": "markdown",
   "metadata": {
    "kernel": "SoS"
   },
   "source": [
    "## Function  `output_from` <a id=\"output_from\"></a>"
   ]
  },
  {
   "cell_type": "markdown",
   "metadata": {
    "kernel": "SoS"
   },
   "source": [
    " <div class=\"bs-callout bs-callout-primary\" role=\"alert\">\n",
    "    <h4>Function <code>output_from(steps, group_by, ...)</code></h4>\n",
    "    <p>Function <code>output_from</code> refers to the output of <code>step</code>. The returned the object is the complete output from <code>step</code> with its own sources and groups. Therefore,</p>\n",
    "    <ul>\n",
    "        <li>More than one steps can be specified as a list of step names</li>\n",
    "        <li>Option <code>group_by</code> can be used to regroup the returned files</li>\n",
    "        <li><code>output_from(step)[name]</code> refers to all output with source <code>name</code></li>\n",
    "    </ul>\n",
    " </div>"
   ]
  },
  {
   "cell_type": "markdown",
   "metadata": {
    "kernel": "SoS"
   },
   "source": [
    "Function `output_from` imports the output from one or more other steps. For example, in the following workflow `output_from(['step_10', 'step_20'])` takes the output from steps `step_10` and `step_20` as input."
   ]
  },
  {
   "cell_type": "code",
   "execution_count": 3,
   "metadata": {
    "kernel": "SoS"
   },
   "outputs": [
    {
     "data": {
      "text/html": []
     },
     "metadata": {},
     "output_type": "display_data"
    },
    {
     "name": "stdout",
     "output_type": "stream",
     "text": [
      "a.txt b.txt\n"
     ]
    }
   ],
   "source": [
    "%run -v0\n",
    "[step_10]\n",
    "output: 'a.txt'\n",
    "_output.touch()\n",
    "\n",
    "[step_20]\n",
    "output: 'b.txt'\n",
    "_output.touch()\n",
    "\n",
    "[step_30]\n",
    "input:  output_from(['step_10', 'step_20'])\n",
    "print(_input)"
   ]
  },
  {
   "cell_type": "markdown",
   "metadata": {
    "kernel": "SoS"
   },
   "source": [
    "The above example is a simple forward workflow with numerically numbered steps. In this case the parameters of `output_from` can be simplied to just the indexes (integers) so the workflow can be written as"
   ]
  },
  {
   "cell_type": "code",
   "execution_count": 4,
   "metadata": {
    "kernel": "SoS"
   },
   "outputs": [
    {
     "data": {
      "text/html": []
     },
     "metadata": {},
     "output_type": "display_data"
    },
    {
     "name": "stdout",
     "output_type": "stream",
     "text": [
      "a.txt b.txt\n"
     ]
    }
   ],
   "source": [
    "%run -v0\n",
    "[step_10]\n",
    "output: 'a.txt'\n",
    "_output.touch()\n",
    "\n",
    "[step_20]\n",
    "output: 'b.txt'\n",
    "_output.touch()\n",
    "\n",
    "[step_30]\n",
    "input:  output_from([10, 20])\n",
    "print(_input)"
   ]
  },
  {
   "cell_type": "markdown",
   "metadata": {
    "kernel": "SoS"
   },
   "source": [
    "The source `steps` of `output_from(steps)` does not have to be limited to numerically-indexed steps. For example, the above example can be written as:"
   ]
  },
  {
   "cell_type": "code",
   "execution_count": 5,
   "metadata": {
    "kernel": "SoS"
   },
   "outputs": [
    {
     "data": {
      "text/html": []
     },
     "metadata": {},
     "output_type": "display_data"
    },
    {
     "name": "stdout",
     "output_type": "stream",
     "text": [
      "a.txt b.txt\n"
     ]
    }
   ],
   "source": [
    "%run -v0\n",
    "[A]\n",
    "output: 'a.txt'\n",
    "_output.touch()\n",
    "\n",
    "[B]\n",
    "output: 'b.txt'\n",
    "_output.touch()\n",
    "\n",
    "[default]\n",
    "input:  output_from(['A', 'B'])\n",
    "print(_input)"
   ]
  },
  {
   "cell_type": "markdown",
   "metadata": {
    "kernel": "SoS"
   },
   "source": [
    "### `source` of outputs returned from `output_from`"
   ]
  },
  {
   "cell_type": "markdown",
   "metadata": {
    "kernel": "SoS"
   },
   "source": [
    "The `sources` of the files returned from `output_from()` is by default the names of the steps so you can refer to these files separately using the `_input[name]` syntax:"
   ]
  },
  {
   "cell_type": "code",
   "execution_count": 6,
   "metadata": {
    "kernel": "SoS"
   },
   "outputs": [
    {
     "data": {
      "text/html": []
     },
     "metadata": {},
     "output_type": "display_data"
    },
    {
     "name": "stdout",
     "output_type": "stream",
     "text": [
      "a.txt b.txt\n",
      "Output from A is a.txt\n",
      "Output from B is b.txt\n"
     ]
    }
   ],
   "source": [
    "%run -v0\n",
    "[A]\n",
    "output: 'a.txt'\n",
    "_output.touch()\n",
    "\n",
    "[B]\n",
    "output: 'b.txt'\n",
    "_output.touch()\n",
    "\n",
    "[default]\n",
    "input:  output_from(['A', 'B'])\n",
    "print(_input)\n",
    "print(f'Output from A is {_input[\"A\"]}')\n",
    "print(f'Output from B is {_input[\"B\"]}')"
   ]
  },
  {
   "cell_type": "markdown",
   "metadata": {
    "kernel": "SoS"
   },
   "source": [
    "If the output has its own sources (names), the sources will be kept."
   ]
  },
  {
   "cell_type": "code",
   "execution_count": 7,
   "metadata": {
    "kernel": "SoS"
   },
   "outputs": [
    {
     "data": {
      "text/html": []
     },
     "metadata": {},
     "output_type": "display_data"
    },
    {
     "name": "stdout",
     "output_type": "stream",
     "text": [
      "a.txt b.txt\n",
      "Output from A is a.txt\n",
      "Output from B is b.txt\n"
     ]
    }
   ],
   "source": [
    "%run -v0\n",
    "[A]\n",
    "output: A_out = 'a.txt'\n",
    "_output.touch()\n",
    "\n",
    "[B]\n",
    "output: B_out = 'b.txt'\n",
    "_output.touch()\n",
    "\n",
    "[default]\n",
    "input:  output_from(['A', 'B'])\n",
    "print(_input)\n",
    "print(f'Output from A is {_input[\"A_out\"]}')\n",
    "print(f'Output from B is {_input[\"B_out\"]}')"
   ]
  },
  {
   "cell_type": "markdown",
   "metadata": {
    "kernel": "SoS"
   },
   "source": [
    "As usual, keyword arguments of the input statement override the `sources` of input files:"
   ]
  },
  {
   "cell_type": "code",
   "execution_count": 8,
   "metadata": {
    "kernel": "SoS",
    "scrolled": true
   },
   "outputs": [
    {
     "data": {
      "text/html": []
     },
     "metadata": {},
     "output_type": "display_data"
    },
    {
     "name": "stdout",
     "output_type": "stream",
     "text": [
      "Output from step_10 is a.txt\n",
      "Output from step_20 is b.txt\n"
     ]
    }
   ],
   "source": [
    "%run -v0\n",
    "[step_10]\n",
    "output: 'a.txt'\n",
    "_output.touch()\n",
    "\n",
    "[step_20]\n",
    "output: 'b.txt'\n",
    "_output.touch()\n",
    "\n",
    "[step_30]\n",
    "input:  s10=output_from(10), s20=output_from(20)\n",
    "print(f'Output from step_10 is {_input[\"s10\"]}')\n",
    "print(f'Output from step_20 is {_input[\"s20\"]}')"
   ]
  },
  {
   "cell_type": "markdown",
   "metadata": {
    "kernel": "SoS"
   },
   "source": [
    "### Groups of output returned from `output_from`"
   ]
  },
  {
   "cell_type": "markdown",
   "metadata": {
    "kernel": "SoS"
   },
   "source": [
    "Similar to the case with `named_output`, the returned object from `output_from()` keeps its original groups. For example, "
   ]
  },
  {
   "cell_type": "code",
   "execution_count": 9,
   "metadata": {
    "kernel": "SoS"
   },
   "outputs": [
    {
     "data": {
      "text/html": []
     },
     "metadata": {},
     "output_type": "display_data"
    },
    {
     "name": "stdout",
     "output_type": "stream",
     "text": [
      "Converting a_0.txt to a_0.bak\n",
      "Converting a_1.txt to a_1.bak\n",
      "Converting a_2.txt to a_2.bak\n",
      "Converting a_3.txt to a_3.bak\n"
     ]
    }
   ],
   "source": [
    "%run B -v0\n",
    "[A]\n",
    "input: for_each=dict(i=range(4))\n",
    "output: f'a_{i}.txt'\n",
    "_output.touch()\n",
    "\n",
    "[B]\n",
    "input: output_from('A')\n",
    "output: _input.with_suffix('.bak')\n",
    "print(f'Converting {_input} to {_output}')\n",
    "_output.touch()"
   ]
  },
  {
   "cell_type": "markdown",
   "metadata": {
    "kernel": "SoS"
   },
   "source": [
    "You can override the groups using the `group_by` option of `output_from`. "
   ]
  },
  {
   "cell_type": "code",
   "execution_count": 10,
   "metadata": {
    "kernel": "SoS"
   },
   "outputs": [
    {
     "data": {
      "text/html": []
     },
     "metadata": {},
     "output_type": "display_data"
    },
    {
     "name": "stdout",
     "output_type": "stream",
     "text": [
      "Converting a_0.txt a_1.txt to a_0.bak a_1.bak\n",
      "Converting a_2.txt a_3.txt to a_2.bak a_3.bak\n"
     ]
    }
   ],
   "source": [
    "%run B -v0\n",
    "[A]\n",
    "input: for_each=dict(i=range(4))\n",
    "output: f'a_{i}.txt'\n",
    "_output.touch()\n",
    "\n",
    "[B]\n",
    "input: output_from('A', group_by=2)\n",
    "output: [x.with_suffix('.bak') for x in _input]\n",
    "print(f'Converting {_input} to {_output}')\n",
    "_output.touch()"
   ]
  },
  {
   "cell_type": "markdown",
   "metadata": {
    "kernel": "SoS"
   },
   "source": [
    "Note that we used \n",
    "```\n",
    "_input.with_suffix('.bak')\n",
    "```\n",
    "when `_input` contains only one filename and the above the statement is equivalent to\n",
    "```\n",
    "_input[0].with_suffix('.bak')\n",
    "```\n",
    "However, when `_input` contains more than one files, you will have to deal with them one by one as follows:\n",
    "```\n",
    "[x.with_suffix('.bak') for x in _input]\n",
    "```"
   ]
  },
  {
   "cell_type": "markdown",
   "metadata": {
    "kernel": "SoS"
   },
   "source": [
    "## Using `output_from` in place of `named_output`"
   ]
  },
  {
   "cell_type": "markdown",
   "metadata": {
    "kernel": "SoS"
   },
   "source": [
    "Going back to our `convert`, `plot` example. When another step is added to have the same named output, it is no longer possible to use `named_output(name)`. In this case you can explicitly specify the step from which the named output is defined, and use\n",
    "\n",
    "```\n",
    "output_from(step)[name]\n",
    "```\n",
    "instead of\n",
    "```\n",
    "named_output(name)\n",
    "```\n",
    "as shown in the following example:"
   ]
  },
  {
   "cell_type": "code",
   "execution_count": 11,
   "metadata": {
    "kernel": "SoS"
   },
   "outputs": [
    {
     "data": {
      "text/html": []
     },
     "metadata": {},
     "output_type": "display_data"
    },
    {
     "data": {
      "text/html": [
       "<div class=\"sos_logging sos_info\">INFO: Running <span class=\"sos_highlight\">convert</span>: \n",
       "</div>"
      ]
     },
     "metadata": {},
     "output_type": "display_data"
    },
    {
     "data": {
      "text/html": [
       "<div class=\"sos_logging sos_info\">INFO: output:   <span class=\"sos_highlight\">data/DEG.csv</span>\n",
       "</div>"
      ]
     },
     "metadata": {},
     "output_type": "display_data"
    },
    {
     "data": {
      "text/html": [
       "<div class=\"sos_logging sos_info\">INFO: Running <span class=\"sos_highlight\">plot</span>: \n",
       "</div>"
      ]
     },
     "metadata": {},
     "output_type": "display_data"
    },
    {
     "data": {
      "text/html": [
       "<div class=\"sos_logging sos_info\">INFO: output:   <span class=\"sos_highlight\">output.pdf</span>\n",
       "</div>"
      ]
     },
     "metadata": {},
     "output_type": "display_data"
    },
    {
     "data": {
      "text/html": [
       "<div class=\"sos_logging sos_info\">INFO: Workflow plot (ID=4dcd3205dd8ea4c0) is executed successfully with 2 completed steps.\n",
       "</div>"
      ]
     },
     "metadata": {},
     "output_type": "display_data"
    },
    {
     "name": "stdout",
     "output_type": "stream",
     "text": [
      "xlsx2csv data/DEG.xlsx > data/DEG.csv\n",
      "\n",
      "null device \n",
      "          1 \n"
     ]
    }
   ],
   "source": [
    "!rm -f data/DEG.csv\n",
    "%run plot \n",
    "\n",
    "[global]\n",
    "excel_file = 'data/DEG.xlsx'\n",
    "csv_file = 'data/DEG.csv'\n",
    "figure_file = 'output.pdf'\n",
    "\n",
    "[convert]\n",
    "input: excel_file\n",
    "output: csv = _input.with_suffix('.csv')\n",
    "\n",
    "run: expand=True\n",
    "    xlsx2csv {_input} > {_output}\n",
    "\n",
    "[test_csv]\n",
    "input: excel_file\n",
    "output: csv = f'{_input:n}_test.csv'\n",
    "\n",
    "run: expand=True\n",
    "    xlsx2csv {_input} | head -10 > {_output}\n",
    "    \n",
    "[plot]\n",
    "input: output_from('convert')['csv']\n",
    "output: figure_file\n",
    "\n",
    "R: expand=True\n",
    "    data <- read.csv('{_input}')\n",
    "    pdf('{_output}')\n",
    "    plot(data$log2FoldChange, data$stat)\n",
    "    dev.off()"
   ]
  },
  {
   "cell_type": "markdown",
   "metadata": {
    "kernel": "SoS"
   },
   "source": [
    "Note that `output_from` is better than `named_output` for its ability to referring to a specific step, but is also worse than `named_output` for the same reason because it makes the workflow more difficult to maintain. We generally recommend the use of `named_output` for its simplicity."
   ]
  },
  {
   "cell_type": "markdown",
   "metadata": {
    "kernel": "SoS"
   },
   "source": [
    "## `output_from()` with skipped substeps"
   ]
  },
  {
   "cell_type": "markdown",
   "metadata": {
    "kernel": "SoS"
   },
   "source": [
    "Function `output_from()` obtains outputs, actually substeps output from another step. There is, however, a case when a substep is skipped and leaves no output. In this case, the substep output is dicarded.\n",
    "\n",
    "For example, when a substep in the step `A` of the following workflow is skipped, the result from `output_from('A')` contains only the output of valid substeps. "
   ]
  },
  {
   "cell_type": "code",
   "execution_count": 4,
   "metadata": {
    "kernel": "SoS"
   },
   "outputs": [
    {
     "name": "stdout",
     "output_type": "stream",
     "text": [
      "output_0.txt\n",
      "output_1.txt\n",
      "output_3.txt\n"
     ]
    }
   ],
   "source": [
    "%run -v0\n",
    "[A]\n",
    "input: for_each=dict(i=range(4))\n",
    "output: f'output_{i}.txt'\n",
    "\n",
    "skip_if(i == 2, 'Skip substep 2')\n",
    "_output.touch()\n",
    "\n",
    "[default]\n",
    "input: output_from('A')\n",
    "print(_input)"
   ]
  },
  {
   "cell_type": "markdown",
   "metadata": {
    "kernel": "SoS"
   },
   "source": [
    "However, if you would like to keep consistent number of substeps across steps, you can handle get output from all substeps by using option `remove_empty_groups=False`."
   ]
  },
  {
   "cell_type": "code",
   "execution_count": 5,
   "metadata": {
    "kernel": "SoS"
   },
   "outputs": [
    {
     "name": "stdout",
     "output_type": "stream",
     "text": [
      "output_0.txt\n",
      "\n",
      "output_1.txt\n",
      "output_3.txt\n"
     ]
    }
   ],
   "source": [
    "%run -v0\n",
    "[A]\n",
    "input: for_each=dict(i=range(4))\n",
    "output: f'output_{i}.txt'\n",
    "\n",
    "skip_if(i == 2, 'Skip substep 2')\n",
    "_output.touch()\n",
    "\n",
    "[default]\n",
    "input: output_from('A', remove_empty_groups=False)\n",
    "print(_input)"
   ]
  },
  {
   "cell_type": "markdown",
   "metadata": {
    "kernel": "SoS"
   },
   "source": [
    "## Output from a workflow"
   ]
  },
  {
   "cell_type": "markdown",
   "metadata": {
    "kernel": "SoS"
   },
   "source": [
    " <div class=\"bs-callout bs-callout-info\" role=\"alert\">\n",
    "    <h4>Function <code>output_from(workflow_name)</code></h4>\n",
    "    <p><code>output_from(workflow_name)</code> is equivalent to <code>output_from(workflow_name_index)</code> where <code>index</code> is the largest index of the workflow <code>workflow_name</code></p>\n",
    " </div>"
   ]
  },
  {
   "cell_type": "markdown",
   "metadata": {
    "kernel": "SoS"
   },
   "source": [
    "Function `output_from` is usually used to refer the output of a specific step. However, similar to [target `sos_step` that can refer to a numerically indexed workflow](target_sos_step.html), `output_from` can also accept the name of the workflow and returns the output of the last step of the workflow.\n",
    "\n",
    "For example, in the following workflow, `output_from('A')` is used to obtain the output of step `A_2`, which is the last step of the workflow `A`. Although `output_from('A')` is identical to `output_from('A_2')`, it frees you from specifying the index of the last step of the workflow, and is more intuitive to think `output_from('A')` as the output of the workflow."
   ]
  },
  {
   "cell_type": "code",
   "execution_count": 6,
   "metadata": {
    "kernel": "SoS"
   },
   "outputs": [
    {
     "name": "stdout",
     "output_type": "stream",
     "text": [
      "Running A_1 to analye data\n",
      "Running A_2 to generate result\n",
      "Input of the default is result.txt\n"
     ]
    }
   ],
   "source": [
    "%run -v0 \n",
    "\n",
    "[A_1]\n",
    "print(f'Running {step_name} to analye data')\n",
    "\n",
    "[A_2]\n",
    "output: 'result.txt'\n",
    "\n",
    "print(f'Running {step_name} to generate result')\n",
    "_output.touch()\n",
    "\n",
    "[default]\n",
    "input: output_from('A')\n",
    "\n",
    "print(f'Input of the {step_name} is {_input}')"
   ]
  },
  {
   "cell_type": "markdown",
   "metadata": {
    "kernel": "SoS"
   },
   "source": [
    "## Further reading\n",
    "* [How to use named output in data-flow style workflows](doc/user_guide/named_output.html)"
   ]
  }
 ],
 "metadata": {
  "kernelspec": {
   "display_name": "SoS",
   "language": "sos",
   "name": "sos"
  },
  "language_info": {
   "codemirror_mode": "sos",
   "file_extension": ".sos",
   "mimetype": "text/x-sos",
   "name": "sos",
   "nbconvert_exporter": "sos_notebook.converter.SoS_Exporter",
   "pygments_lexer": "sos"
  },
  "sos": {
   "kernels": [
    [
     "Bash",
     "bash",
     "Bash",
     "#E6EEFF"
    ],
    [
     "R",
     "ir",
     "R",
     "#DCDCDA"
    ],
    [
     "SoS",
     "sos",
     "",
     ""
    ]
   ],
   "panel": {
    "displayed": true,
    "height": 0
   },
   "version": "0.18.5"
  }
 },
 "nbformat": 4,
 "nbformat_minor": 2
}
