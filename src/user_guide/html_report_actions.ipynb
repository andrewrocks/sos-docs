{
 "cells": [
  {
   "cell_type": "markdown",
   "metadata": {
    "kernel": "SoS"
   },
   "source": [
    "# How to generate reports in HTML format"
   ]
  },
  {
   "cell_type": "markdown",
   "metadata": {
    "kernel": "SoS"
   },
   "source": [
    "* **Difficulty level**: easy\n",
    "* **Time need to lean**: 10 minutes or less\n",
    "* **Key points**:\n",
    "  * `pandoc` calls `pandoc` on the script\n",
    "  * `Rmarkdown` process the output with RMarkdown\n",
    "  "
   ]
  },
  {
   "cell_type": "markdown",
   "metadata": {
    "kernel": "SoS"
   },
   "source": [
    "### Action  `pandoc`"
   ]
  },
  {
   "cell_type": "markdown",
   "metadata": {
    "kernel": "SoS"
   },
   "source": [
    "Action `pandoc` uses command [pandoc](http://pandoc.org/) to convert specified input to output. This input to this action can be specified from option `script` (usually specified in script format) and `input`.\n",
    "\n",
    "First, if a script is specified, pandoc assumes it is in markdown format and convert it by default to 'HTML' format. For example,"
   ]
  },
  {
   "cell_type": "code",
   "execution_count": 41,
   "metadata": {
    "kernel": "SoS"
   },
   "outputs": [
    {
     "name": "stdout",
     "output_type": "stream",
     "text": [
      "<h1 id=\"this-is-header\">this is header</h1>\n",
      "<p>This is some test, with <strong>emphasis</strong>.</p>\n"
     ]
    }
   ],
   "source": [
    "pandoc:\n",
    "    # this is header\n",
    "    This is some test, with **emphasis**.        "
   ]
  },
  {
   "cell_type": "markdown",
   "metadata": {
    "kernel": "SoS"
   },
   "source": [
    "You can specify an output with option `output`"
   ]
  },
  {
   "cell_type": "code",
   "execution_count": 42,
   "metadata": {
    "kernel": "SoS"
   },
   "outputs": [
    {
     "name": "stderr",
     "output_type": "stream",
     "text": [
      "INFO: Report saved to out.html\n"
     ]
    }
   ],
   "source": [
    "%sandbox\n",
    "%preview out.html\n",
    "pandoc: output='out.html'\n",
    "    Itemize\n",
    "\n",
    "    * item 1\n",
    "    * item 2"
   ]
  },
  {
   "cell_type": "markdown",
   "metadata": {
    "kernel": "SoS"
   },
   "source": [
    "You can convert input file to another file type using a different file extension"
   ]
  },
  {
   "cell_type": "code",
   "execution_count": 43,
   "metadata": {
    "kernel": "SoS"
   },
   "outputs": [
    {
     "name": "stderr",
     "output_type": "stream",
     "text": [
      "INFO: Report saved to out.tex\n"
     ]
    }
   ],
   "source": [
    "%sandbox\n",
    "%preview out.tex\n",
    "pandoc: output='out.tex'\n",
    "    Itemize\n",
    "\n",
    "    * item 1\n",
    "    * item 2"
   ]
  },
  {
   "cell_type": "markdown",
   "metadata": {
    "kernel": "SoS"
   },
   "source": [
    "Or you can add more options to the command line by modifying `args`,"
   ]
  },
  {
   "cell_type": "code",
   "execution_count": 44,
   "metadata": {
    "kernel": "SoS"
   },
   "outputs": [
    {
     "name": "stderr",
     "output_type": "stream",
     "text": [
      "INFO: Report saved to out.html\n"
     ]
    }
   ],
   "source": [
    "%sandbox\n",
    "%preview out.html\n",
    "pandoc: output='out.html', args='{input:q} --output {output:q} -s'\n",
    "    Itemize\n",
    "\n",
    "    * item 1\n",
    "    * item 2"
   ]
  },
  {
   "cell_type": "markdown",
   "metadata": {
    "kernel": "SoS"
   },
   "source": [
    "The second usage of the `pandoc` action is to specify one or more input filenames. You have to use the function form of this action as follows"
   ]
  },
  {
   "cell_type": "code",
   "execution_count": 45,
   "metadata": {
    "collapsed": true,
    "kernel": "SoS"
   },
   "outputs": [],
   "source": [
    "%sandbox\n",
    "%preview out.html\n",
    "[10]\n",
    "report: output = 'out.md'\n",
    "    Itemize\n",
    "\n",
    "    * item 1\n",
    "    * item 2\n",
    "\n",
    "[20]\n",
    "pandoc(input='out.md', output='out.html')\n",
    "    "
   ]
  },
  {
   "cell_type": "markdown",
   "metadata": {
    "kernel": "SoS"
   },
   "source": [
    "If multiple files are specified, the content of these input files will be concatenated. This is very useful for generating a single pandoc output with input from different steps. We will demonstrate this feature in the [Generating Reports](../tutorials/Generating_Reports.html) tutorial.\n",
    "\n",
    "If both `script` and `input` parameters are specified, the content of input files would be appended to `script`. So"
   ]
  },
  {
   "cell_type": "code",
   "execution_count": 46,
   "metadata": {
    "collapsed": true,
    "kernel": "SoS"
   },
   "outputs": [],
   "source": [
    "#%sandbox\n",
    "%preview out.html\n",
    "[10]\n",
    "report: output = 'out10.md'\n",
    "    Itemize\n",
    "\n",
    "    * item 1\n",
    "    * item 2\n",
    "\n",
    "[20]\n",
    "report: output= 'out20.md'\n",
    "    enumerated\n",
    "\n",
    "    1. item 1\n",
    "    2. item 2\n",
    "\n",
    "[30]\n",
    "pandoc: input=['out10.md', 'out20.md'], output='out.html'\n",
    "    Markdown supports both itemized and enumerated"
   ]
  },
  {
   "cell_type": "markdown",
   "metadata": {
    "kernel": "SoS"
   },
   "source": [
    "## Further reading\n",
    "\n",
    "* "
   ]
  }
 ],
 "metadata": {
  "kernelspec": {
   "display_name": "SoS",
   "language": "sos",
   "name": "sos"
  },
  "language_info": {
   "codemirror_mode": "sos",
   "file_extension": ".sos",
   "mimetype": "text/x-sos",
   "name": "sos",
   "nbconvert_exporter": "sos_notebook.converter.SoS_Exporter",
   "pygments_lexer": "sos"
  },
  "sos": {
   "kernels": [
    [
     "Bash",
     "bash",
     "Bash",
     "#E6EEFF"
    ],
    [
     "R",
     "ir",
     "R",
     "#DCDCDA"
    ],
    [
     "SoS",
     "sos",
     "",
     ""
    ]
   ],
   "panel": {
    "displayed": true,
    "height": 0
   },
   "version": "0.17.5"
  }
 },
 "nbformat": 4,
 "nbformat_minor": 2
}
