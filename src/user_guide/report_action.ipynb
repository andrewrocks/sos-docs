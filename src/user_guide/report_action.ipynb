{
 "cells": [
  {
   "cell_type": "markdown",
   "metadata": {
    "kernel": "SoS"
   },
   "source": [
    "# Title"
   ]
  },
  {
   "cell_type": "markdown",
   "metadata": {
    "kernel": "SoS"
   },
   "source": [
    "* **Difficulty level**: easy\n",
    "* **Time need to lean**: 10 minutes or less\n",
    "* **Key points**:\n",
    "  * a\n",
    "  "
   ]
  },
  {
   "cell_type": "markdown",
   "metadata": {
    "kernel": "SoS"
   },
   "source": [
    "### Action `report`"
   ]
  },
  {
   "cell_type": "markdown",
   "metadata": {
    "kernel": "SoS"
   },
   "source": [
    "Action `report` writes some content to an output stream. The input can either be a string or content of one or more files specified by option `input`. The output is determined by parameter `output`, and command line option `-r`.\n",
    "\n",
    "* If `output='filename'`, the content will be written to a file.\n",
    "* If `output=obj` and `obj` has a `write` function (e.g. a file handle), the content will be passed to the `write` function\n",
    "* If output is unspecified and no filename is specified from option `-r`, the content will be written to standard output.\n",
    "* If output is unspecified and a filename is specified with option `-r`, the content will be appended to specified file.\n",
    "\n",
    "For example, the content of `report` actions is printed to standard output if no output is specified."
   ]
  },
  {
   "cell_type": "code",
   "execution_count": 34,
   "metadata": {
    "kernel": "SoS"
   },
   "outputs": [
    {
     "name": "stdout",
     "output_type": "stream",
     "text": [
      "Runing default_10\n",
      "\n",
      "Runing default_20\n",
      "\n"
     ]
    }
   ],
   "source": [
    "%run\n",
    "\n",
    "[10]\n",
    "report: expand=True\n",
    "    Runing {step_name}\n",
    "\n",
    "[20]\n",
    "report: expand=True\n",
    "    Runing {step_name}\n"
   ]
  },
  {
   "cell_type": "markdown",
   "metadata": {
    "kernel": "SoS"
   },
   "source": [
    "We can specify an output file with option `output`, but the output will be overwritten if multiple actions write to the same file"
   ]
  },
  {
   "cell_type": "code",
   "execution_count": 35,
   "metadata": {
    "collapsed": true,
    "kernel": "SoS"
   },
   "outputs": [],
   "source": [
    "%sandbox\n",
    "\n",
    "%preview report.txt\n",
    "%run\n",
    "[10]\n",
    "report: output='report.txt', expand=True\n",
    "    Runing {step_name}\n",
    "\n",
    "[20]\n",
    "report: output='report.txt', expand=True\n",
    "    Runing {step_name}"
   ]
  },
  {
   "cell_type": "markdown",
   "metadata": {
    "kernel": "SoS"
   },
   "source": [
    "Action `report` can also take the content of one or more input files and write them to the output stream, after the script content (if specified). For example, the `report` action in the following example writes the content of `out.txt` to the default report stream (which is the standard output in this case)."
   ]
  },
  {
   "cell_type": "code",
   "execution_count": 36,
   "metadata": {
    "kernel": "SoS"
   },
   "outputs": [
    {
     "name": "stdout",
     "output_type": "stream",
     "text": [
      "# run some command and generate a out.txt\n",
      "echo \"* some result \" > out.txt\n",
      "\n",
      "Summary Report:\n",
      "\n",
      "* some result\n",
      "\n"
     ]
    }
   ],
   "source": [
    "%sandbox\n",
    "%run\n",
    "\n",
    "[10]\n",
    "output: 'out.txt'\n",
    "run:\n",
    "   # run some command and generate a out.txt\n",
    "   echo \"* some result \" > out.txt\n",
    "\n",
    "[20]\n",
    "report: input='out.txt'\n",
    "Summary Report:"
   ]
  },
  {
   "cell_type": "markdown",
   "metadata": {
    "kernel": "SoS"
   },
   "source": [
    "## A summarization step"
   ]
  },
  {
   "cell_type": "markdown",
   "metadata": {
    "kernel": "SoS"
   },
   "source": [
    "You can write a report at the end of the workflow that summarizes the results of previous steps. For example, in the following example, the `report` action summarizes previous steps and writes a report to the standard output."
   ]
  },
  {
   "cell_type": "code",
   "execution_count": 1,
   "metadata": {
    "kernel": "SoS"
   },
   "outputs": [
    {
     "name": "stdout",
     "output_type": "stream",
     "text": [
      "echo \"100\" > a.txt\n",
      "\n",
      "* Figure\n",
      "![figure](a.jpg)\n",
      "* result\n",
      "100\n",
      "\n"
     ]
    }
   ],
   "source": [
    "%sandbox\n",
    "%run\n",
    "\n",
    "[10]\n",
    "output: 'a.jpg'\n",
    "R: expand=True\n",
    "    jpeg({_output:r})\n",
    "    cars <- c(1, 3, 6, 4, 9)\n",
    "    barplot(cars)\n",
    "\n",
    "[20]\n",
    "output: 'a.txt'\n",
    "run:\n",
    "    echo \"100\" > a.txt\n",
    "\n",
    "[100]\n",
    "input: 'a.jpg', 'a.txt'\n",
    "with open('a.txt') as a:\n",
    "    res = a.read()\n",
    "\n",
    "report: expand=True\n",
    "    * Figure\n",
    "    ![figure](a.jpg)\n",
    "    * result\n",
    "    {res}\n",
    "   "
   ]
  },
  {
   "cell_type": "markdown",
   "metadata": {
    "kernel": "SoS"
   },
   "source": [
    "It is a pretty bad idea to write report to standard output because other actions can also write to it. You should therefore use the `output` option of the `report` action to specify an output file of the `report` action."
   ]
  },
  {
   "cell_type": "code",
   "execution_count": 2,
   "metadata": {
    "kernel": "SoS"
   },
   "outputs": [
    {
     "name": "stdout",
     "output_type": "stream",
     "text": [
      "echo \"100\" > a.txt\n",
      "\n"
     ]
    }
   ],
   "source": [
    "%sandbox\n",
    "%preview summary.md\n",
    "%run\n",
    "\n",
    "[10]\n",
    "output: 'a.jpg'\n",
    "R: expand=True\n",
    "    jpeg({_output:r})\n",
    "    cars <- c(1, 3, 6, 4, 9)\n",
    "    barplot(cars)\n",
    "\n",
    "[20]\n",
    "output: 'a.txt'\n",
    "run:\n",
    "    echo \"100\" > a.txt\n",
    "\n",
    "[counts: shared='counts']\n",
    "input: 'a.txt'\n",
    "with open('a.txt') as a:\n",
    "    counts = a.read()\n",
    "\n",
    "[100]\n",
    "input: 'a.jpg'\n",
    "depends: sos_variable('counts')\n",
    "\n",
    "report: output='summary.md', expand=True\n",
    "    * Figure\n",
    "    ![figure](a.jpg)\n",
    "    * result\n",
    "    {counts}\n",
    "   "
   ]
  },
  {
   "cell_type": "markdown",
   "metadata": {
    "kernel": "SoS"
   },
   "source": [
    "Instead of outputting reports in `.md` format and rendering them outside of SoS, you can also render them inside SoS using action `pandoc` or `Rmarkdown`. For example,"
   ]
  },
  {
   "cell_type": "code",
   "execution_count": 3,
   "metadata": {
    "kernel": "SoS"
   },
   "outputs": [],
   "source": [
    "%sandbox\n",
    "%preview summary.html\n",
    "[10]\n",
    "output: 'a.jpg'\n",
    "R: expand=True\n",
    "    jpeg({_output:r})\n",
    "    cars <- c(1, 3, 6, 4, 9)\n",
    "    barplot(cars)\n",
    "\n",
    "[20]\n",
    "output: 'a.txt'\n",
    "run:\n",
    "    echo \"100\" > a.txt\n",
    "\n",
    "[counts: shared='counts']\n",
    "input: 'a.txt'\n",
    "with open('a.txt') as a:\n",
    "    counts = a.read()\n",
    "\n",
    "[100]\n",
    "input: 'a.jpg'\n",
    "depends: sos_variable('counts')\n",
    "\n",
    "pandoc: output='summary.html', expand=True\n",
    "    * Figure\n",
    "    ![figure](a.jpg)\n",
    "    * result\n",
    "    {counts}"
   ]
  },
  {
   "cell_type": "markdown",
   "metadata": {
    "kernel": "SoS"
   },
   "source": [
    "## Reporting to multiple output files"
   ]
  },
  {
   "cell_type": "markdown",
   "metadata": {
    "kernel": "SoS"
   },
   "source": [
    "If you have a large workflow with several steps or modules, it makes sense to write several reports and join them at last. For example, in the following example, an output file is specified for each `report` and a summary step is used at the end to collect and process them."
   ]
  },
  {
   "cell_type": "code",
   "execution_count": 4,
   "metadata": {
    "kernel": "SoS"
   },
   "outputs": [],
   "source": [
    "%sandbox --dir ~/tmp\n",
    "%preview summary.html\n",
    "[10]\n",
    "output: 'a.jpg'\n",
    "R: expand=True\n",
    "    jpeg({_output:r})\n",
    "    cars <- c(1, 3, 6, 4, 9)\n",
    "    barplot(cars)\n",
    "\n",
    "report: output='figure.md', expand=True\n",
    "    * Figure\n",
    "    ![figure]({output})    \n",
    "\n",
    "[20]\n",
    "output: 'a.txt'\n",
    "counts = 100\n",
    "run: expand=True\n",
    "    echo \"{counts}\" > a.txt\n",
    "\n",
    "report: output='result.md', expand=True\n",
    "    * result\n",
    "    {counts}\n",
    "\n",
    "[100]\n",
    "pandoc: input=['figure.md', 'result.md'], output='summary.html'\n",
    "    Final report"
   ]
  },
  {
   "cell_type": "markdown",
   "metadata": {
    "kernel": "SoS"
   },
   "source": [
    "You will notice that both `script` and `input` are specified to action `pandoc`. In this case the `script` is put before the content of each `input` files, making it a perfect place to write headers and summaries."
   ]
  },
  {
   "cell_type": "markdown",
   "metadata": {
    "kernel": "SoS"
   },
   "source": [
    "## Further reading\n",
    "\n",
    "* "
   ]
  }
 ],
 "metadata": {
  "kernelspec": {
   "display_name": "SoS",
   "language": "sos",
   "name": "sos"
  },
  "language_info": {
   "codemirror_mode": "sos",
   "file_extension": ".sos",
   "mimetype": "text/x-sos",
   "name": "sos",
   "nbconvert_exporter": "sos_notebook.converter.SoS_Exporter",
   "pygments_lexer": "sos"
  },
  "sos": {
   "kernels": [
    [
     "Bash",
     "bash",
     "Bash",
     "#E6EEFF"
    ],
    [
     "R",
     "ir",
     "R",
     "#DCDCDA"
    ],
    [
     "SoS",
     "sos",
     "",
     ""
    ]
   ],
   "panel": {
    "displayed": true,
    "height": 0
   },
   "version": "0.17.4"
  }
 },
 "nbformat": 4,
 "nbformat_minor": 2
}
