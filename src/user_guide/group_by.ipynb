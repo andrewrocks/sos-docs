{
 "cells": [
  {
   "cell_type": "markdown",
   "metadata": {
    "kernel": "SoS"
   },
   "source": [
    "# How to process input files in groups"
   ]
  },
  {
   "cell_type": "markdown",
   "metadata": {
    "kernel": "SoS"
   },
   "source": [
    "* **Difficulty level**: easy\n",
    "* **Time need to lean**: 10 minutes or less\n",
    "* **Key points**:\n",
    "  * Option `group_by` creates groups (subsets) of input targets\n",
    "  * Groups are persistent and can be passed from step to step\n",
    "  "
   ]
  },
  {
   "cell_type": "markdown",
   "metadata": {
    "kernel": "SoS"
   },
   "source": [
    "## Parameter `group_by` and substeps <a id=\"group_by\"></a>"
   ]
  },
  {
   "cell_type": "markdown",
   "metadata": {
    "kernel": "SoS"
   },
   "source": [
    "Up till now all input targets are processed all at once by the step. If you need to process input files one by one or in pair, you can define **substeps** that basically applies the step to subgroups of input targets, represented by variable `_input`.\n",
    "\n",
    "In the trivial case when all input targets are processed together, `_input` is the same as `step_input`."
   ]
  },
  {
   "cell_type": "code",
   "execution_count": 23,
   "metadata": {
    "kernel": "SoS"
   },
   "outputs": [
    {
     "name": "stdout",
     "output_type": "stream",
     "text": [
      "step input is a.txt b.txt\n",
      "substep input is a.txt b.txt\n"
     ]
    }
   ],
   "source": [
    "input: 'a.txt', 'b.txt'\n",
    "print(f'step input is {step_input}')\n",
    "print(f'substep input is {_input}')"
   ]
  },
  {
   "cell_type": "markdown",
   "metadata": {
    "kernel": "SoS"
   },
   "source": [
    "Using option `group_by`, you can group the input targets in a number of ways, the easiest being group by `1`:"
   ]
  },
  {
   "cell_type": "code",
   "execution_count": 3,
   "metadata": {
    "kernel": "SoS"
   },
   "outputs": [
    {
     "name": "stdout",
     "output_type": "stream",
     "text": [
      "input of step is a.txt b.txt\n",
      "input of substep 0 is a.txt\n",
      "input of step is a.txt b.txt\n",
      "input of substep 1 is b.txt\n"
     ]
    }
   ],
   "source": [
    "input: 'a.txt', 'b.txt', group_by=1\n",
    "print(f'input of step is {step_input}')\n",
    "print(f'input of substep {_index} is {_input}')"
   ]
  },
  {
   "cell_type": "markdown",
   "metadata": {
    "kernel": "SoS"
   },
   "source": [
    "As you can see, the step process is now executed twice. Whereas the `step_input` is the same for both substeps, `_input` is `a.txt` for the first substep, and `b.txt` for the second substep. Here we used an internal variable `_index` to show the index of the substep."
   ]
  },
  {
   "cell_type": "markdown",
   "metadata": {
    "kernel": "SoS"
   },
   "source": [
    "SoS allows you to group input in a number of ways:\n",
    "\n",
    "| option | group by |\n",
    "| --- | --- |\n",
    "| `all` | all in a single group, the default |\n",
    "| `single` | individual target |\n",
    "| `pairs` | match first half of files with the second half, take one from each half each time |\n",
    "| `combinations` | all unordered combinations of 2-sets |\n",
    "| `pairwise` | all adjacent 2-sets |\n",
    "| `source` | by source of input |\n",
    "| `pairsource` | pair input files by their sources and take one from each source each time |\n",
    "| `N` = `1`, `2`, ... | chunks of size `N` |\n",
    "| `pairsN`, `N`=`2`, `3`, ... | match first half of files with the second half, take `N` from each half each time | \n",
    "| `pairsourceN`, `N`=`2`, `3`, ... | pair input files by their sources and take `N` from each source (if equal size) each time |\n",
    "| `pairwiseN`, `N`=`2`, `3`, ...| all adjacent 2-sets, but each set has `N` items |\n",
    "| `combinationsN`, `N`=`2`, `3`, ... | all unorderd combinations of `N` items |\n",
    "| function (e.g. `lamba x: ...`) | a function that returns groups of inputs |\n",
    "\n",
    "For example, with the following sos script, the input are groups pairwisely:"
   ]
  },
  {
   "cell_type": "code",
   "execution_count": 4,
   "metadata": {
    "kernel": "SoS"
   },
   "outputs": [
    {
     "name": "stdout",
     "output_type": "stream",
     "text": [
      "file1 file2\n",
      "file2 file3\n",
      "file3 file4\n"
     ]
    }
   ],
   "source": [
    "!touch file1 file2 file3 file4\n",
    "\n",
    "input: 'file1', 'file2', 'file3', 'file4', group_by='pairwise'\n",
    "print(f\"{_input}\")"
   ]
  },
  {
   "cell_type": "markdown",
   "metadata": {
    "kernel": "SoS"
   },
   "source": [
    "To demonstrate more acceptable values, the following example uses `sos_run` action to execute this a step with different grouping method."
   ]
  },
  {
   "cell_type": "code",
   "execution_count": 5,
   "metadata": {
    "kernel": "SoS"
   },
   "outputs": [
    {
     "data": {
      "text/html": [
       "\n",
       "<table id=\"workflow_4f041b9fa4a84a2a87d9c5699cafb061\" class=\"workflow_table  completed\">\n",
       "  <tr>\n",
       "        <td class=\"workflow_icon\">\n",
       "          <i id=\"workflow_status_icon_4f041b9fa4a84a2a87d9c5699cafb061\" class=\"fa fa-2x fa-fw fa-check-square-o\"\n",
       "            ></i>\n",
       "        </td>\n",
       "        <td class=\"workflow_name\">\n",
       "          <pre><span id=\"workflow_name_4f041b9fa4a84a2a87d9c5699cafb061\">default</span></pre>\n",
       "        </td>\n",
       "        <td class=\"workflow_id\">\n",
       "          <span>Workflow ID</span></br>\n",
       "          <pre><i class=\"fa fa-fw fa-sitemap\"></i><span id=\"workflow_id_4f041b9fa4a84a2a87d9c5699cafb061\">a50ceb5da37415fc</span></pre>\n",
       "        </td>\n",
       "        <td class=\"workflow_index\">\n",
       "          <span>Index</span></br>\n",
       "          <pre>#<span id=\"workflow_index_4f041b9fa4a84a2a87d9c5699cafb061\">1</span></pre>\n",
       "        </td>\n",
       "        <td class=\"workflow_status\">\n",
       "          <span id=\"status_text_4f041b9fa4a84a2a87d9c5699cafb061\">completed</span></br>\n",
       "          <pre><i class=\"fa fa-fw fa-clock-o\"></i><time id=\"status_duration_4f041b9fa4a84a2a87d9c5699cafb061\" class=\"completed\" datetime=\"1545604461606.484\">Ran for 2 sec</time></pre>\n",
       "        </td>\n",
       "  </tr>\n",
       "</table>\n"
      ]
     },
     "metadata": {},
     "output_type": "display_data"
    },
    {
     "name": "stdout",
     "output_type": "stream",
     "text": [
      "\n",
      "group_by=1\n",
      "0: file1\n",
      "2: file3\n",
      "3: file4\n",
      "1: file2\n",
      "\n",
      "group_by=2\n",
      "0: file1 file2\n",
      "1: file3 file4\n",
      "\n",
      "group_by=single\n",
      "0: file1\n",
      "1: file2\n",
      "3: file4\n",
      "2: file3\n",
      "\n",
      "group_by=pairs\n",
      "0: file1 file3\n",
      "1: file2 file4\n",
      "\n",
      "group_by=pairwise\n",
      "0: file1 file2\n",
      "2: file3 file4\n",
      "1: file2 file3\n",
      "\n",
      "group_by=combinations\n",
      "0: file1 file2\n",
      "1: file1 file3\n",
      "3: file2 file3\n",
      "4: file2 file4\n",
      "2: file1 file4\n",
      "5: file3 file4\n",
      "\n",
      "group_by=combinations3\n",
      "0: file1 file2 file3\n",
      "2: file1 file3 file4\n",
      "1: file1 file2 file4\n",
      "3: file2 file3 file4\n"
     ]
    }
   ],
   "source": [
    "!touch file1 file2 file3 file4\n",
    "%run default\n",
    "\n",
    "[group]\n",
    "parameter: group = str\n",
    "print(f\"\\ngroup_by={group}\")\n",
    "input: 'file1', 'file2', 'file3', 'file4', group_by=group\n",
    "print(f\"{_index}: {_input}\")\n",
    "\n",
    "[default]\n",
    "sos_run('group', group=1)\n",
    "sos_run('group', group=2)\n",
    "sos_run('group', group='single')\n",
    "sos_run('group', group='pairs')\n",
    "sos_run('group', group='pairwise')\n",
    "sos_run('group', group='combinations')\n",
    "sos_run('group', group='combinations3')"
   ]
  },
  {
   "cell_type": "markdown",
   "metadata": {
    "kernel": "SoS"
   },
   "source": [
    "We did not include options `pairsN` and `pairwiseN` in the example because we need more input files to see what is going on. As you can see from the following example, the `N` groups input targets as small groups of size `N` before `pairs` and `pairwise` are applied."
   ]
  },
  {
   "cell_type": "code",
   "execution_count": 6,
   "metadata": {
    "kernel": "SoS",
    "scrolled": true
   },
   "outputs": [
    {
     "data": {
      "text/html": [
       "\n",
       "<table id=\"workflow_f0bacc3408524c358381ba9dd75542e4\" class=\"workflow_table  completed\">\n",
       "  <tr>\n",
       "        <td class=\"workflow_icon\">\n",
       "          <i id=\"workflow_status_icon_f0bacc3408524c358381ba9dd75542e4\" class=\"fa fa-2x fa-fw fa-check-square-o\"\n",
       "            ></i>\n",
       "        </td>\n",
       "        <td class=\"workflow_name\">\n",
       "          <pre><span id=\"workflow_name_f0bacc3408524c358381ba9dd75542e4\">default</span></pre>\n",
       "        </td>\n",
       "        <td class=\"workflow_id\">\n",
       "          <span>Workflow ID</span></br>\n",
       "          <pre><i class=\"fa fa-fw fa-sitemap\"></i><span id=\"workflow_id_f0bacc3408524c358381ba9dd75542e4\">ac0d35740213f296</span></pre>\n",
       "        </td>\n",
       "        <td class=\"workflow_index\">\n",
       "          <span>Index</span></br>\n",
       "          <pre>#<span id=\"workflow_index_f0bacc3408524c358381ba9dd75542e4\">2</span></pre>\n",
       "        </td>\n",
       "        <td class=\"workflow_status\">\n",
       "          <span id=\"status_text_f0bacc3408524c358381ba9dd75542e4\">completed</span></br>\n",
       "          <pre><i class=\"fa fa-fw fa-clock-o\"></i><time id=\"status_duration_f0bacc3408524c358381ba9dd75542e4\" class=\"completed\" datetime=\"1545604492423.6292\">Ran for 1 sec</time></pre>\n",
       "        </td>\n",
       "  </tr>\n",
       "</table>\n"
      ]
     },
     "metadata": {},
     "output_type": "display_data"
    },
    {
     "name": "stdout",
     "output_type": "stream",
     "text": [
      "\n",
      "group_by=pairs2\n",
      "0: A1 B1 A3 B3\n",
      "1: A2 B2 A4 B4\n",
      "\n",
      "group_by=pairwise2\n",
      "1: A2 B2 A3 B3\n",
      "0: A1 B1 A2 B2\n",
      "2: A3 B3 A4 B4\n"
     ]
    }
   ],
   "source": [
    "!touch A1 B1 A2 B2 A3 B3 A4 B4\n",
    "%run\n",
    "\n",
    "[group]\n",
    "parameter: group = str\n",
    "print(f\"\\ngroup_by={group}\")\n",
    "input: 'A1', 'B1', 'A2', 'B2', 'A3', 'B3', 'A4', 'B4', group_by=group\n",
    "print(f\"{_index}: {_input}\")\n",
    "\n",
    "[default]\n",
    "sos_run('group', group='pairs2')\n",
    "sos_run('group', group='pairwise2')\n"
   ]
  },
  {
   "cell_type": "markdown",
   "metadata": {
    "kernel": "SoS"
   },
   "source": [
    "As we recall from the `source` attribute of `sos_targets`, input targets can have `source` of the present step (if specified directly), or as the output of previouly executed steps. Option `group_by` allows you to group input by sources `by='source'`, or pair sources (`by='pairsource'` and `by='pairsourceN'`). For example,"
   ]
  },
  {
   "cell_type": "code",
   "execution_count": 8,
   "metadata": {
    "kernel": "SoS"
   },
   "outputs": [
    {
     "data": {
      "text/html": [
       "\n",
       "<table id=\"workflow_65f4e05b0aba433f8cec2c2df458d58e\" class=\"workflow_table  completed\">\n",
       "  <tr>\n",
       "        <td class=\"workflow_icon\">\n",
       "          <i id=\"workflow_status_icon_65f4e05b0aba433f8cec2c2df458d58e\" class=\"fa fa-2x fa-fw fa-check-square-o\"\n",
       "            ></i>\n",
       "        </td>\n",
       "        <td class=\"workflow_name\">\n",
       "          <pre><span id=\"workflow_name_65f4e05b0aba433f8cec2c2df458d58e\">default</span></pre>\n",
       "        </td>\n",
       "        <td class=\"workflow_id\">\n",
       "          <span>Workflow ID</span></br>\n",
       "          <pre><i class=\"fa fa-fw fa-sitemap\"></i><span id=\"workflow_id_65f4e05b0aba433f8cec2c2df458d58e\">128dc21a4566df7e</span></pre>\n",
       "        </td>\n",
       "        <td class=\"workflow_index\">\n",
       "          <span>Index</span></br>\n",
       "          <pre>#<span id=\"workflow_index_65f4e05b0aba433f8cec2c2df458d58e\">4</span></pre>\n",
       "        </td>\n",
       "        <td class=\"workflow_status\">\n",
       "          <span id=\"status_text_65f4e05b0aba433f8cec2c2df458d58e\">completed</span></br>\n",
       "          <pre><i class=\"fa fa-fw fa-clock-o\"></i><time id=\"status_duration_65f4e05b0aba433f8cec2c2df458d58e\" class=\"completed\" datetime=\"1545604571384.583\">Ran for 2 sec</time></pre>\n",
       "        </td>\n",
       "  </tr>\n",
       "</table>\n"
      ]
     },
     "metadata": {},
     "output_type": "display_data"
    },
    {
     "name": "stdout",
     "output_type": "stream",
     "text": [
      "\n",
      "group_by=source\n",
      "0: c1 c2 c3 c4 from ['group', 'group', 'group', 'group']\n",
      "2: b1 b2 from ['step_20', 'step_20']\n",
      "1: a1 from ['step_10']\n",
      "\n",
      "group_by=pairsource\n",
      "0: c1 a1 b1 from ['group', 'step_10', 'step_20']\n",
      "2: c3 a1 b2 from ['group', 'step_10', 'step_20']\n",
      "1: c2 a1 b1 from ['group', 'step_10', 'step_20']\n",
      "3: c4 a1 b2 from ['group', 'step_10', 'step_20']\n",
      "\n",
      "group_by=pairsource2\n",
      "0: c1 c2 a1 b1 from ['group', 'group', 'step_10', 'step_20']\n",
      "1: c3 c4 a1 b2 from ['group', 'group', 'step_10', 'step_20']\n"
     ]
    }
   ],
   "source": [
    "!touch c1 c2 c3 c4\n",
    "%run\n",
    "[step_10]\n",
    "output: 'a1'\n",
    "_output.touch()\n",
    "\n",
    "[step_20]\n",
    "output: 'b1', 'b2'\n",
    "_output.touch()\n",
    "\n",
    "[group]\n",
    "parameter: group = str\n",
    "print(f\"\\ngroup_by={group}\")\n",
    "input: 'c1', 'c2', 'c3', 'c4', output_from(['step_10', 'step_20']), group_by=group\n",
    "print(f\"{_index}: {_input} from {_input.sources}\")\n",
    "\n",
    "[default]\n",
    "sos_run('group', group='source')\n",
    "sos_run('group', group='pairsource')\n",
    "sos_run('group', group='pairsource2')"
   ]
  },
  {
   "cell_type": "markdown",
   "metadata": {
    "kernel": "SoS"
   },
   "source": [
    "The options `pairsource` and `pairsource2` need some explanation here because our groups do not have the same size. What these options do are\n",
    "\n",
    "1. Determine number of groups `m` from `N` and longest source.\n",
    "2. Either group or repeat items in sources to create `m` groups\n",
    "\n",
    "For example, with `pairsource2`, we are creating two groups because the largest source have 4 targets (`m=4/2=2`). Then, `a1` is repeated twice, `b1`, `b2` are in two groups, and `c1`, `c2` and `c3`, `c4` are in two groups."
   ]
  },
  {
   "cell_type": "markdown",
   "metadata": {
    "kernel": "SoS"
   },
   "source": [
    "Finally, if none of the predefined grouping mechanism works, you can specify a function that takes `step_input` and returns a list of `sos_targets`. "
   ]
  },
  {
   "cell_type": "code",
   "execution_count": 1,
   "metadata": {
    "kernel": "SoS"
   },
   "outputs": [
    {
     "name": "stdout",
     "output_type": "stream",
     "text": [
      "0: c1\n",
      "1: c2 c3\n",
      "2: c4 c5 c6\n"
     ]
    }
   ],
   "source": [
    "!touch c1 c2 c3 c4 c5 c6\n",
    "input: 'c1', 'c2', 'c3', 'c4', 'c5', 'c6',\n",
    "    group_by=lambda x: [x[0], x[1:3], x[3:]]\n",
    "    \n",
    "print(f\"{_index}: {_input}\")\n"
   ]
  },
  {
   "cell_type": "markdown",
   "metadata": {
    "kernel": "SoS"
   },
   "source": [
    "## `group_by` as option to input functions"
   ]
  },
  {
   "cell_type": "markdown",
   "metadata": {
    "kernel": "SoS"
   },
   "source": [
    "Pairing input from multiple sources is complicated when we apply `group_by` to a list of targets with different sources. It is actually a lot easier if you apply `group_by` to the sources separately. Fortunately, functions `output_from` accepts `group_by` so that you can regroup the targets before merging with other sources.\n",
    "\n",
    "For example, in the following example, `step_10` has two output files, `step_20` has 4, by applying `group_by=1` to `output_from('step_10')` and `group_by=2` to `output_from('step_20')`, we create two `sos_targets` each with two subgroups. The two `sos_targets` will be joined to create a single `_input` for each substep."
   ]
  },
  {
   "cell_type": "code",
   "execution_count": 2,
   "metadata": {
    "kernel": "SoS"
   },
   "outputs": [
    {
     "data": {
      "text/html": [
       "\n",
       "<table id=\"workflow_490edb0243d34fdd8d7199dcc1c8bb44\" class=\"workflow_table  completed\">\n",
       "  <tr>\n",
       "        <td class=\"workflow_icon\">\n",
       "          <i id=\"workflow_status_icon_490edb0243d34fdd8d7199dcc1c8bb44\" class=\"fa fa-2x fa-fw fa-check-square-o\"\n",
       "            ></i>\n",
       "        </td>\n",
       "        <td class=\"workflow_name\">\n",
       "          <pre><span id=\"workflow_name_490edb0243d34fdd8d7199dcc1c8bb44\">group</span></pre>\n",
       "        </td>\n",
       "        <td class=\"workflow_id\">\n",
       "          <span>Workflow ID</span></br>\n",
       "          <pre><i class=\"fa fa-fw fa-sitemap\"></i><span id=\"workflow_id_490edb0243d34fdd8d7199dcc1c8bb44\">a67f4ad6ee689885</span></pre>\n",
       "        </td>\n",
       "        <td class=\"workflow_index\">\n",
       "          <span>Index</span></br>\n",
       "          <pre>#<span id=\"workflow_index_490edb0243d34fdd8d7199dcc1c8bb44\">1</span></pre>\n",
       "        </td>\n",
       "        <td class=\"workflow_status\">\n",
       "          <span id=\"status_text_490edb0243d34fdd8d7199dcc1c8bb44\">completed</span></br>\n",
       "          <pre><i class=\"fa fa-fw fa-clock-o\"></i><time id=\"status_duration_490edb0243d34fdd8d7199dcc1c8bb44\" class=\"completed\" datetime=\"1545605854398.425\">Ran for < 5 seconds</time></pre>\n",
       "        </td>\n",
       "  </tr>\n",
       "</table>\n"
      ]
     },
     "metadata": {},
     "output_type": "display_data"
    },
    {
     "name": "stdout",
     "output_type": "stream",
     "text": [
      "0: a1 c1 c2 from ['step_10', 'step_20', 'step_20']\n",
      "1: a2 c3 c4 from ['step_10', 'step_20', 'step_20']\n"
     ]
    }
   ],
   "source": [
    "%run group\n",
    "\n",
    "[step_10]\n",
    "output: 'a1', 'a2'\n",
    "_output.touch()\n",
    "\n",
    "[step_20]\n",
    "output: 'c1', 'c2', 'c3', 'c4'\n",
    "_output.touch()\n",
    "\n",
    "[group]\n",
    "input: output_from('step_10', group_by=1),\n",
    "       output_from('step_20', group_by=2)\n",
    "print(f\"{_index}: {_input} from {_input.sources}\")"
   ]
  },
  {
   "cell_type": "markdown",
   "metadata": {
    "kernel": "SoS"
   },
   "source": [
    "As usual, keyword arguments overrides the sources of targets, so you can assign names to groups with keyword arguments:"
   ]
  },
  {
   "cell_type": "code",
   "execution_count": 3,
   "metadata": {
    "kernel": "SoS"
   },
   "outputs": [
    {
     "data": {
      "text/html": [
       "\n",
       "<table id=\"workflow_cf910547adf04db287cf89a57c95b045\" class=\"workflow_table  completed\">\n",
       "  <tr>\n",
       "        <td class=\"workflow_icon\">\n",
       "          <i id=\"workflow_status_icon_cf910547adf04db287cf89a57c95b045\" class=\"fa fa-2x fa-fw fa-check-square-o\"\n",
       "            ></i>\n",
       "        </td>\n",
       "        <td class=\"workflow_name\">\n",
       "          <pre><span id=\"workflow_name_cf910547adf04db287cf89a57c95b045\">group</span></pre>\n",
       "        </td>\n",
       "        <td class=\"workflow_id\">\n",
       "          <span>Workflow ID</span></br>\n",
       "          <pre><i class=\"fa fa-fw fa-sitemap\"></i><span id=\"workflow_id_cf910547adf04db287cf89a57c95b045\">a67f4ad6ee689885</span></pre>\n",
       "        </td>\n",
       "        <td class=\"workflow_index\">\n",
       "          <span>Index</span></br>\n",
       "          <pre>#<span id=\"workflow_index_cf910547adf04db287cf89a57c95b045\">2</span></pre>\n",
       "        </td>\n",
       "        <td class=\"workflow_status\">\n",
       "          <span id=\"status_text_cf910547adf04db287cf89a57c95b045\">completed</span></br>\n",
       "          <pre><i class=\"fa fa-fw fa-clock-o\"></i><time id=\"status_duration_cf910547adf04db287cf89a57c95b045\" class=\"completed\" datetime=\"1545605923947.605\">Ran for < 5 seconds</time></pre>\n",
       "        </td>\n",
       "  </tr>\n",
       "</table>\n"
      ]
     },
     "metadata": {},
     "output_type": "display_data"
    },
    {
     "name": "stdout",
     "output_type": "stream",
     "text": [
      "0: a1 c1 c2 from ['step_10', 's20', 's20']\n",
      "1: a2 c3 c4 from ['step_10', 's20', 's20']\n"
     ]
    }
   ],
   "source": [
    "%run group\n",
    "\n",
    "[step_10]\n",
    "output: 'a1', 'a2'\n",
    "_output.touch()\n",
    "\n",
    "[step_20]\n",
    "output: 'c1', 'c2', 'c3', 'c4'\n",
    "_output.touch()\n",
    "\n",
    "[group]\n",
    "input: output_from('step_10', group_by=1),\n",
    "       s20=output_from('step_20', group_by=2)\n",
    "print(f\"{_index}: {_input} from {_input.sources}\")"
   ]
  },
  {
   "cell_type": "markdown",
   "metadata": {
    "kernel": "SoS"
   },
   "source": [
    "Things can become tricky if you specify both \"regular\" input and grouped targets from `output_from`. In this case, the regular input will be considered as a `sos_targets` with a single group, and be merged to every group of another `sos_targets`. "
   ]
  },
  {
   "cell_type": "code",
   "execution_count": 4,
   "metadata": {
    "kernel": "SoS"
   },
   "outputs": [
    {
     "data": {
      "text/html": [
       "\n",
       "<table id=\"workflow_50a0a9e461934a6e84fc9a6c5ffafedd\" class=\"workflow_table  completed\">\n",
       "  <tr>\n",
       "        <td class=\"workflow_icon\">\n",
       "          <i id=\"workflow_status_icon_50a0a9e461934a6e84fc9a6c5ffafedd\" class=\"fa fa-2x fa-fw fa-check-square-o\"\n",
       "            ></i>\n",
       "        </td>\n",
       "        <td class=\"workflow_name\">\n",
       "          <pre><span id=\"workflow_name_50a0a9e461934a6e84fc9a6c5ffafedd\">group</span></pre>\n",
       "        </td>\n",
       "        <td class=\"workflow_id\">\n",
       "          <span>Workflow ID</span></br>\n",
       "          <pre><i class=\"fa fa-fw fa-sitemap\"></i><span id=\"workflow_id_50a0a9e461934a6e84fc9a6c5ffafedd\">ac135058d33d47ab</span></pre>\n",
       "        </td>\n",
       "        <td class=\"workflow_index\">\n",
       "          <span>Index</span></br>\n",
       "          <pre>#<span id=\"workflow_index_50a0a9e461934a6e84fc9a6c5ffafedd\">3</span></pre>\n",
       "        </td>\n",
       "        <td class=\"workflow_status\">\n",
       "          <span id=\"status_text_50a0a9e461934a6e84fc9a6c5ffafedd\">completed</span></br>\n",
       "          <pre><i class=\"fa fa-fw fa-clock-o\"></i><time id=\"status_duration_50a0a9e461934a6e84fc9a6c5ffafedd\" class=\"completed\" datetime=\"1545605967506.2917\">Ran for < 5 seconds</time></pre>\n",
       "        </td>\n",
       "  </tr>\n",
       "</table>\n"
      ]
     },
     "metadata": {},
     "output_type": "display_data"
    },
    {
     "name": "stdout",
     "output_type": "stream",
     "text": [
      "\n",
      "Substep 0\n",
      "substep input is a1 c1 c2 e1 e2 from ['step_10', 'step_20', 'step_20', 'my', 'my']\n",
      "\n",
      "Substep 1\n",
      "substep input is a2 c3 c4 e1 e2 from ['step_10', 'step_20', 'step_20', 'my', 'my']\n"
     ]
    }
   ],
   "source": [
    "!touch e1 e2\n",
    "%run group\n",
    "\n",
    "[step_10]\n",
    "output: 'a1', 'a2'\n",
    "_output.touch()\n",
    "\n",
    "[step_20]\n",
    "output: 'c1', 'c2', 'c3', 'c4'\n",
    "_output.touch()\n",
    "\n",
    "[group]\n",
    "input: output_from('step_10', group_by=1),\n",
    "       output_from('step_20', group_by=2),\n",
    "       my=('e1', 'e2')\n",
    "print(f'\\nSubstep {_index}')\n",
    "print(f\"substep input is {_input} from {_input.sources}\")"
   ]
  },
  {
   "cell_type": "markdown",
   "metadata": {
    "kernel": "SoS"
   },
   "source": [
    "However, if option `group_by` is specified outside of `output_from`, it will group all targets regardless of original grouping. For example, in the following example, output from `step_10` will be grouped by 2."
   ]
  },
  {
   "cell_type": "code",
   "execution_count": 7,
   "metadata": {
    "kernel": "SoS"
   },
   "outputs": [
    {
     "data": {
      "text/html": [
       "\n",
       "<table id=\"workflow_ae9e255a188c498c839b31b89053243b\" class=\"workflow_table  completed\">\n",
       "  <tr>\n",
       "        <td class=\"workflow_icon\">\n",
       "          <i id=\"workflow_status_icon_ae9e255a188c498c839b31b89053243b\" class=\"fa fa-2x fa-fw fa-check-square-o\"\n",
       "            ></i>\n",
       "        </td>\n",
       "        <td class=\"workflow_name\">\n",
       "          <pre><span id=\"workflow_name_ae9e255a188c498c839b31b89053243b\">group</span></pre>\n",
       "        </td>\n",
       "        <td class=\"workflow_id\">\n",
       "          <span>Workflow ID</span></br>\n",
       "          <pre><i class=\"fa fa-fw fa-sitemap\"></i><span id=\"workflow_id_ae9e255a188c498c839b31b89053243b\">c2e04d326bb31bc0</span></pre>\n",
       "        </td>\n",
       "        <td class=\"workflow_index\">\n",
       "          <span>Index</span></br>\n",
       "          <pre>#<span id=\"workflow_index_ae9e255a188c498c839b31b89053243b\">6</span></pre>\n",
       "        </td>\n",
       "        <td class=\"workflow_status\">\n",
       "          <span id=\"status_text_ae9e255a188c498c839b31b89053243b\">completed</span></br>\n",
       "          <pre><i class=\"fa fa-fw fa-clock-o\"></i><time id=\"status_duration_ae9e255a188c498c839b31b89053243b\" class=\"completed\" datetime=\"1545606653790.388\">Ran for 0 sec</time></pre>\n",
       "        </td>\n",
       "  </tr>\n",
       "</table>\n"
      ]
     },
     "metadata": {},
     "output_type": "display_data"
    },
    {
     "name": "stdout",
     "output_type": "stream",
     "text": [
      "\n",
      "Substep 0\n",
      "substep input is c1 c2 from ['step_10', 'step_10']\n",
      "\n",
      "Substep 1\n",
      "substep input is c3 c4 from ['step_10', 'step_10']\n",
      "\n",
      "Substep 2\n",
      "substep input is e1 e2 from ['my', 'my']\n"
     ]
    }
   ],
   "source": [
    "!touch e1 e2\n",
    "%run group\n",
    "\n",
    "[step_10]\n",
    "output: 'c1', 'c2', 'c3', 'c4'\n",
    "_output.touch()\n",
    "\n",
    "[group]\n",
    "input: output_from('step_10', group_by=1),\n",
    "       my=('e1', 'e2'), group_by=2\n",
    "print(f'\\nSubstep {_index}')\n",
    "print(f\"substep input is {_input} from {_input.sources}\")"
   ]
  },
  {
   "cell_type": "markdown",
   "metadata": {
    "kernel": "SoS"
   },
   "source": [
    "## Further reading\n",
    "\n",
    "* "
   ]
  }
 ],
 "metadata": {
  "kernelspec": {
   "display_name": "SoS",
   "language": "sos",
   "name": "sos"
  },
  "language_info": {
   "codemirror_mode": "sos",
   "file_extension": ".sos",
   "mimetype": "text/x-sos",
   "name": "sos",
   "nbconvert_exporter": "sos_notebook.converter.SoS_Exporter",
   "pygments_lexer": "sos"
  },
  "sos": {
   "kernels": [
    [
     "Bash",
     "bash",
     "Bash",
     "#E6EEFF"
    ],
    [
     "R",
     "ir",
     "R",
     "#DCDCDA"
    ],
    [
     "SoS",
     "sos",
     "",
     ""
    ]
   ],
   "panel": {
    "displayed": true,
    "height": 0
   },
   "version": "0.17.5"
  }
 },
 "nbformat": 4,
 "nbformat_minor": 2
}
