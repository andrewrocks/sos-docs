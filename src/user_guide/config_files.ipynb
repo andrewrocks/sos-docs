{
 "cells": [
  {
   "cell_type": "markdown",
   "metadata": {
    "kernel": "SoS"
   },
   "source": [
    "# Configuration Files"
   ]
  },
  {
   "cell_type": "markdown",
   "metadata": {
    "kernel": "SoS"
   },
   "source": [
    "* **Difficulty level**: easy\n",
    "* **Time need to lean**: 10 minutes or less\n",
    "* **Key points**:\n",
    "  * SoS reads multiple configuration files and merge the results\n",
    "  * User configuration files can be specified with option `-c`\n",
    "  * Content of configuration file is available through variable `CONFIG`\n",
    "  * Host-specific paths can be accessed by `path(name, default)`\n",
    "  "
   ]
  },
  {
   "cell_type": "markdown",
   "metadata": {
    "kernel": "SoS"
   },
   "source": [
    "## SoS configuration files <a id=\"Configuration_files\"></a>"
   ]
  },
  {
   "cell_type": "markdown",
   "metadata": {
    "kernel": "SoS"
   },
   "source": [
    "SoS reads configurations from \n",
    "\n",
    "* A site configuration file `site_config.yml` under the sos package directory. This is where system adminstrators define system-wide configurations (e.g. host definitions) for all users.\n",
    "* A host configuration file `~/.sos/hosts.yml` that defines properties of local and remote hosts.\n",
    "* A global sos configuration file `~/.sos/config.yml` that defines other user-specific settings.\n",
    "* And a configuration file specified by command line option `-c` that defines workflow-specific settings.\n",
    "\n",
    "The configuration files should be in the format of [`YAML`](http://yaml.org/) or its subset format [`JSON`](http://json-schema.org/implementations.html). When a SoS script is loaded, SoS looks for and parses site and global configuration files, then optionally a configuration file specified by command line option `-c`. The results are stored in a global variable `CONFIG` that is available to the script."
   ]
  },
  {
   "cell_type": "markdown",
   "metadata": {
    "kernel": "SoS"
   },
   "source": [
    "### Merge of multiple configuration files"
   ]
  },
  {
   "cell_type": "markdown",
   "metadata": {
    "kernel": "SoS"
   },
   "source": [
    "All configurations from the aforementioned files are merged to a single dictionary. A dictionary could therefore contain keys defined in different configuration files and a latter file could overwrite keys defined in a previous file. For example, if \n",
    "\n",
    "* `{'A': {'B': 'old', 'C': 'old'}` is defined in `~/.sos/config.yml` using\n",
    "  \n",
    "  ```\n",
    "  A:\n",
    "      B: old\n",
    "      C: old\n",
    "  ```\n",
    "  \n",
    "* `{'A': {'B': 'new', 'D': 'new'}` is defined in `my_config.yml` using\n",
    "  ```\n",
    "  A:\n",
    "      B: new\n",
    "      D: new\n",
    "  ```\n",
    "\n",
    "then the final result using `-c my_config.yml` would be `{'A': {'B': 'new', 'C': 'old', 'D': 'new'}}` as if a sinle configuration file with content\n",
    "  ```\n",
    "  A:\n",
    "      B: new\n",
    "      C: old\n",
    "      D: new\n",
    "  ```\n",
    "is used. This is how site or global configurations can be overridden by user configurations."
   ]
  },
  {
   "cell_type": "markdown",
   "metadata": {
    "kernel": "SoS"
   },
   "source": [
    "### String interpolation"
   ]
  },
  {
   "cell_type": "markdown",
   "metadata": {
    "kernel": "SoS"
   },
   "source": [
    "SoS interpolates string values if they contain `{ }`. The expressions enclosed by `{ }` would be evaluated with a local namespace that is the dictionary in which the key exists, and a global namespace that is the complete `CONFIG` dictionary. That is to say, if a configuration file contains\n",
    "\n",
    "\n",
    "```\n",
    "user_name: user\n",
    "hosts:\n",
    "  cluster:\n",
    "    address: \"{user_name}@domain.com:{port}\"\n",
    "    port: 123\n",
    "```\n",
    "\n",
    "`CONFIG['hosts']['cluster']['address']` would be interpolated as\n",
    "\n",
    "```\n",
    "user@domain.com:123\n",
    "```\n",
    "\n",
    "using `port` from the `CONFIG['host']['cluster']` and `user_name` from the top level `CONFIG['user_name']`. You will need to double the braces (`{{ }}` to include `{ }` in the config file."
   ]
  },
  {
   "cell_type": "markdown",
   "metadata": {
    "kernel": "SoS"
   },
   "source": [
    "Because key `user_name` is frequently used in `hosts.yml`, SoS automatically defines `user_name` as the local user ID (all lower case) in `CONFIG` if it is not defined in any of the configuration files."
   ]
  },
  {
   "cell_type": "markdown",
   "metadata": {
    "kernel": "SoS"
   },
   "source": [
    "### Derived dictionary keys"
   ]
  },
  {
   "cell_type": "markdown",
   "metadata": {
    "kernel": "SoS"
   },
   "source": [
    "A special key `based_on` will be processed after all configuration files are loaded. The value of `based_on` should be one or more keys to other dictionaries in the configuration (e.g. `hosts.cluster`. The consequence of this key is that the items from the referred dictionaries would be merged to the present dictionary if they do not exist in the present dictionary. This allows you to derive a dictionary from an existing one. For example, \n",
    "\n",
    "```\n",
    "hosts:\n",
    "    head_node:\n",
    "        description: head_node of cluster\n",
    "        address: \"{user_name}@domain.com:{port}\"\n",
    "        port: 123\n",
    "        paths:\n",
    "            home:   \"/home/{user_name}\"\n",
    "    cluster:\n",
    "        description: Cluster\n",
    "        based_on: hosts.head_node\n",
    "        queue_type: pbs\n",
    "```\n",
    "\n",
    "allows `hosts[\"cluster\"]` to be derived from `hosts[\"head_node\"]`, and\n",
    "\n",
    "```\n",
    "hosts:\n",
    "    cat:\n",
    "        based_on: hosts.a_very_long_name\n",
    "```\n",
    "effectively creates an alias `cat` to another host with `a_very_long_name`."
   ]
  },
  {
   "cell_type": "markdown",
   "metadata": {
    "kernel": "SoS"
   },
   "source": [
    "## Command `sos config`"
   ]
  },
  {
   "cell_type": "markdown",
   "metadata": {
    "kernel": "SoS"
   },
   "source": [
    "Although `yaml` is not a difficult format to learn. It is often easier to use command `sos config` to check and set values in configuration files, especially for complex data types."
   ]
  },
  {
   "cell_type": "markdown",
   "metadata": {
    "kernel": "SoS"
   },
   "source": [
    "### Set configuration"
   ]
  },
  {
   "cell_type": "markdown",
   "metadata": {
    "kernel": "SoS"
   },
   "source": [
    "`sos config` by default works on `~/.sos/config.yml` file. For example"
   ]
  },
  {
   "cell_type": "code",
   "execution_count": 1,
   "metadata": {
    "kernel": "SoS"
   },
   "outputs": [
    {
     "name": "stdout",
     "output_type": "stream",
     "text": [
      "Set cutoff to '0.5'\n"
     ]
    }
   ],
   "source": [
    "!sos config --set cutoff 0.5"
   ]
  },
  {
   "cell_type": "markdown",
   "metadata": {
    "kernel": "SoS"
   },
   "source": [
    "creates `~/.sos/config.yml` if it does not exist, or append to this file otherwise, with content"
   ]
  },
  {
   "cell_type": "code",
   "execution_count": 2,
   "metadata": {
    "kernel": "SoS"
   },
   "outputs": [
    {
     "name": "stdout",
     "output_type": "stream",
     "text": [
      "cutoff: '0.5'\n"
     ]
    }
   ],
   "source": [
    "!cat ~/.sos/config.yml"
   ]
  },
  {
   "cell_type": "markdown",
   "metadata": {
    "kernel": "SoS"
   },
   "source": [
    "You can specify a configuration file and add the content to it with option `-c`:"
   ]
  },
  {
   "cell_type": "code",
   "execution_count": 22,
   "metadata": {
    "kernel": "SoS"
   },
   "outputs": [
    {
     "name": "stdout",
     "output_type": "stream",
     "text": [
      "Set cutoff to {'low': 1}\n"
     ]
    }
   ],
   "source": [
    "!sos config -c new_config.yml --set cutoff.low 1"
   ]
  },
  {
   "cell_type": "markdown",
   "metadata": {
    "kernel": "SoS"
   },
   "source": [
    "would create a configuration file `myconfig.yml`"
   ]
  },
  {
   "cell_type": "code",
   "execution_count": 3,
   "metadata": {
    "kernel": "SoS"
   },
   "outputs": [
    {
     "name": "stdout",
     "output_type": "stream",
     "text": [
      "cutoff:\n",
      "  low: 1\n"
     ]
    }
   ],
   "source": [
    "!cat new_config.yml"
   ]
  },
  {
   "cell_type": "markdown",
   "metadata": {
    "kernel": "SoS"
   },
   "source": [
    "Note that `cutoff.low` is interpreted as dictionary `cutoff` with key `low`, and the command is clever enough to handle partial values (e.g. of a dictionary). For example, the following command will update instead of replacing `cutoff`"
   ]
  },
  {
   "cell_type": "code",
   "execution_count": 4,
   "metadata": {
    "kernel": "SoS"
   },
   "outputs": [
    {
     "name": "stdout",
     "output_type": "stream",
     "text": [
      "Set cutoff to {'low': 1, 'high': 2}\n"
     ]
    }
   ],
   "source": [
    "!sos config -c new_config.yml --set cutoff.high 2"
   ]
  },
  {
   "cell_type": "markdown",
   "metadata": {
    "kernel": "SoS"
   },
   "source": [
    "The `--set` option can handle lists:"
   ]
  },
  {
   "cell_type": "code",
   "execution_count": 7,
   "metadata": {
    "kernel": "SoS"
   },
   "outputs": [
    {
     "name": "stdout",
     "output_type": "stream",
     "text": [
      "Set values to [1, 2, 3]\n"
     ]
    }
   ],
   "source": [
    "!sos config -c new_config.yml --set values 1 2 3"
   ]
  },
  {
   "cell_type": "markdown",
   "metadata": {
    "kernel": "SoS"
   },
   "source": [
    "And it accepts Python expressions such as a dictionary. The tricky part here is that SoS would interpolate command line (`!` magic) if you execute the command in SoS notebook, so you will have to double the braces here. You do not need to do it if you execute the command from a terminal."
   ]
  },
  {
   "cell_type": "code",
   "execution_count": 1,
   "metadata": {
    "kernel": "SoS"
   },
   "outputs": [
    {
     "data": {
      "text/html": [
       "<div class=\"sos_hint\">> !sos config -c new_config.yml --set samples \"{'A': 'A.txt'}\"<br></div>"
      ]
     },
     "metadata": {},
     "output_type": "display_data"
    },
    {
     "name": "stdout",
     "output_type": "stream",
     "text": [
      "Set samples to {'A': 'A.txt'}\n"
     ]
    }
   ],
   "source": [
    "!sos config -c new_config.yml --set samples \"{{'A': 'A.txt'}}\""
   ]
  },
  {
   "cell_type": "markdown",
   "metadata": {
    "kernel": "SoS"
   },
   "source": [
    "### View configurations"
   ]
  },
  {
   "cell_type": "markdown",
   "metadata": {
    "kernel": "SoS"
   },
   "source": [
    "Running command `sos config` without any parameter will list all configurations in a dictonary format. Because we set `cutoff` to `0.5` to `~/.sos/config.yml`, the following command shows `cutoff` and a `user_name` key generated by SoS."
   ]
  },
  {
   "cell_type": "code",
   "execution_count": 2,
   "metadata": {
    "kernel": "SoS"
   },
   "outputs": [
    {
     "name": "stdout",
     "output_type": "stream",
     "text": [
      "{'cutoff': '0.5', 'user_name': 'bpeng1'}\n"
     ]
    }
   ],
   "source": [
    "!sos config"
   ]
  },
  {
   "cell_type": "markdown",
   "metadata": {
    "kernel": "SoS"
   },
   "source": [
    "If you are interested in only one of the items, you can use option `--get` to list it."
   ]
  },
  {
   "cell_type": "code",
   "execution_count": 3,
   "metadata": {
    "kernel": "SoS"
   },
   "outputs": [
    {
     "name": "stdout",
     "output_type": "stream",
     "text": [
      "cutoff\t'0.5'\n"
     ]
    }
   ],
   "source": [
    "!sos config --get cutoff"
   ]
  },
  {
   "cell_type": "markdown",
   "metadata": {
    "kernel": "SoS"
   },
   "source": [
    "Of course you can use `-c` to include another configuration file"
   ]
  },
  {
   "cell_type": "code",
   "execution_count": 4,
   "metadata": {
    "kernel": "SoS"
   },
   "outputs": [
    {
     "name": "stdout",
     "output_type": "stream",
     "text": [
      "cutoff.high\t2\n",
      "cutoff.low\t1\n"
     ]
    }
   ],
   "source": [
    "!sos config --get cutoff -c new_config.yml"
   ]
  },
  {
   "cell_type": "markdown",
   "metadata": {
    "kernel": "SoS"
   },
   "source": [
    "or only one of the keys"
   ]
  },
  {
   "cell_type": "code",
   "execution_count": 5,
   "metadata": {
    "kernel": "SoS"
   },
   "outputs": [
    {
     "name": "stdout",
     "output_type": "stream",
     "text": [
      "cutoff.low\t1\n"
     ]
    }
   ],
   "source": [
    "!sos config -c new_config.yml --get cutoff.low"
   ]
  },
  {
   "cell_type": "markdown",
   "metadata": {
    "kernel": "SoS"
   },
   "source": [
    "### Remove a key from a configuration file"
   ]
  },
  {
   "cell_type": "markdown",
   "metadata": {
    "kernel": "SoS"
   },
   "source": [
    "Finally, if you would like to remove a key from a configuration file, you can use option `--unset`."
   ]
  },
  {
   "cell_type": "code",
   "execution_count": 7,
   "metadata": {
    "kernel": "SoS"
   },
   "outputs": [
    {
     "name": "stdout",
     "output_type": "stream",
     "text": [
      "Unset cutoff\n"
     ]
    }
   ],
   "source": [
    "!sos config -c new_config.yml --unset cutoff"
   ]
  },
  {
   "cell_type": "markdown",
   "metadata": {
    "kernel": "SoS"
   },
   "source": [
    "Running `sos config` again will show the `cutoff` from `~/.sos/config.yml`, which was overriden by `cutoff` defined in `new_config.yml`."
   ]
  },
  {
   "cell_type": "code",
   "execution_count": 10,
   "metadata": {
    "kernel": "SoS"
   },
   "outputs": [
    {
     "name": "stdout",
     "output_type": "stream",
     "text": [
      "cutoff\t'0.5'\n"
     ]
    }
   ],
   "source": [
    "!sos config --get cutoff -c new_config.yml"
   ]
  },
  {
   "cell_type": "markdown",
   "metadata": {
    "kernel": "SoS"
   },
   "source": [
    "## Variable `CONFIG`"
   ]
  },
  {
   "cell_type": "markdown",
   "metadata": {
    "kernel": "SoS"
   },
   "source": [
    "As stated above, you can create a configuration file and load it with option `-c`, and the results would be available as a magic variable `CONFIG` to the workflow.\n",
    "\n",
    "Let us create a yaml file with some simple content using a `report` action."
   ]
  },
  {
   "cell_type": "code",
   "execution_count": 7,
   "metadata": {
    "kernel": "SoS"
   },
   "outputs": [],
   "source": [
    "report: output='myconfig.yml'\n",
    "    # A list of tasty fruits\n",
    "    martin:\n",
    "        name: Martin D'vloper\n",
    "        job: Developer\n",
    "        skill: Elite\n",
    "    manager: Martin"
   ]
  },
  {
   "cell_type": "markdown",
   "metadata": {
    "kernel": "SoS"
   },
   "source": [
    "When you execute any workflow with option `-c myconfig.yml`, the content of the configuration file would be available as keys of variable `CONFIG`."
   ]
  },
  {
   "cell_type": "markdown",
   "metadata": {
    "kernel": "SoS"
   },
   "source": [
    "Configuration files are frequently used to specify system configurations. For example, with the following definition of parameter `manager`, the workflow will take default value `Bob` if run without option,"
   ]
  },
  {
   "cell_type": "code",
   "execution_count": 4,
   "metadata": {
    "kernel": "SoS"
   },
   "outputs": [
    {
     "name": "stdout",
     "output_type": "stream",
     "text": [
      "Bob\n"
     ]
    }
   ],
   "source": [
    "%run\n",
    "parameter: manager = CONFIG.get('manager', 'Bob')\n",
    "print(manager)"
   ]
  },
  {
   "cell_type": "markdown",
   "metadata": {
    "kernel": "SoS"
   },
   "source": [
    "take user specified value from command line"
   ]
  },
  {
   "cell_type": "code",
   "execution_count": 5,
   "metadata": {
    "kernel": "SoS"
   },
   "outputs": [
    {
     "name": "stdout",
     "output_type": "stream",
     "text": [
      "Me\n"
     ]
    }
   ],
   "source": [
    "%run --manager Me\n",
    "parameter: manager = CONFIG.get('manager', 'Bob')\n",
    "print(manager)"
   ]
  },
  {
   "cell_type": "markdown",
   "metadata": {
    "kernel": "SoS"
   },
   "source": [
    "or values from a configuration file if a configuration file is specified"
   ]
  },
  {
   "cell_type": "code",
   "execution_count": 8,
   "metadata": {
    "kernel": "SoS"
   },
   "outputs": [
    {
     "name": "stdout",
     "output_type": "stream",
     "text": [
      "Martin\n"
     ]
    }
   ],
   "source": [
    "%run -c myconfig.yml\n",
    "parameter: manager = CONFIG.get('manager', 'Bob')\n",
    "print(manager)"
   ]
  },
  {
   "cell_type": "markdown",
   "metadata": {
    "kernel": "SoS"
   },
   "source": [
    "## Host-dependent paths"
   ]
  },
  {
   "cell_type": "markdown",
   "metadata": {
    "kernel": "SoS"
   },
   "source": [
    "<div class=\"bs-callout bs-callout-primary\" role=\"alert\">\n",
    "    <h4><code>path(name, default)</code></h4>\n",
    "    <p>The <code>path</code> datatype of SoS is derived from `pathlib.Path`. One of the additions of this datatype is paramters `<code>name</code> and <code>default</code>, which returns a pre-defined <code>path</code> defined in </p>\n",
    "    <pre>\n",
    "    CONFIG[\"hosts\"][current-host][\"paths\"]\n",
    "    </pre>\n",
    "    <p>where <code>current-host</code> is normally <code>localhost</code> but can be one of the remote hosts if the function is called from a remote host. A <code>default</code> value could be returned if <code>name</code> is not available in the configuration.</p>\n",
    "</div>"
   ]
  },
  {
   "cell_type": "markdown",
   "metadata": {
    "kernel": "SoS"
   },
   "source": [
    "The `hosts` definitions in `~/.sos/hosts.yml` allow the definition of paths for different hosts. For clarity let us define a local configuration file that points `localhost` to a `example_host` configuration. "
   ]
  },
  {
   "cell_type": "code",
   "execution_count": 13,
   "metadata": {
    "kernel": "SoS"
   },
   "outputs": [],
   "source": [
    "report: output='myconfig.yml'\n",
    "    localhost: example_host\n",
    "    hosts:\n",
    "        example_host:\n",
    "            address: localhost\n",
    "            paths:\n",
    "                home: /Users/{user_name}\n",
    "                project:  /Users/{user_name}/Documents\n",
    "                tmp: /tmp"
   ]
  },
  {
   "cell_type": "markdown",
   "metadata": {
    "kernel": "SoS"
   },
   "source": [
    "Without worrying about the `localhost` part for now, this configuration file defines a few paths for the localhost. The `paths` could be retrieved using `path(name='project')` so that you can write your script in a host-independent way. For example, the following workflow uses `path(name='project')` to get the host-specific `project` directory, which is defined as `/Users/bpeng1/Documents` in `myconfig.yml`."
   ]
  },
  {
   "cell_type": "code",
   "execution_count": 3,
   "metadata": {
    "kernel": "SoS"
   },
   "outputs": [
    {
     "name": "stdout",
     "output_type": "stream",
     "text": [
      "Working on /Users/bpeng1/Documents\n"
     ]
    }
   ],
   "source": [
    "%run -c myconfig.yml\n",
    "\n",
    "sh: workdir=path(name='project')\n",
    "   echo Working on `pwd`"
   ]
  },
  {
   "cell_type": "markdown",
   "metadata": {
    "kernel": "SoS"
   },
   "source": [
    "If you are uncertain if `project` is defined for current host, you can use `default` to specify a default value"
   ]
  },
  {
   "cell_type": "code",
   "execution_count": 6,
   "metadata": {
    "kernel": "SoS"
   },
   "outputs": [
    {
     "name": "stdout",
     "output_type": "stream",
     "text": [
      "Working on /Users/bpeng1\n"
     ]
    }
   ],
   "source": [
    "%run -c myconfig.yml\n",
    "\n",
    "import os\n",
    "sh: workdir=path(name='scratch', default='~')\n",
    "   echo Working on `pwd`"
   ]
  },
  {
   "cell_type": "markdown",
   "metadata": {
    "kernel": "SoS"
   },
   "source": [
    "## Further reading\n",
    "* [Using remote filesystems](remote_filesystem.html) for `hosts.yml`"
   ]
  }
 ],
 "metadata": {
  "anaconda-cloud": {},
  "kernelspec": {
   "display_name": "SoS",
   "language": "sos",
   "name": "sos"
  },
  "language_info": {
   "codemirror_mode": "sos",
   "file_extension": ".sos",
   "mimetype": "text/x-sos",
   "name": "sos",
   "nbconvert_exporter": "sos_notebook.converter.SoS_Exporter",
   "pygments_lexer": "sos"
  },
  "sos": {
   "celltoolbar": true,
   "default_kernel": "SoS",
   "kernels": [
    [
     "Bash",
     "bash",
     "Bash",
     "#E6EEFF"
    ],
    [
     "Julia",
     "julia-0.6",
     "Julia",
     "#ebd8eb"
    ],
    [
     "MATLAB",
     "imatlab",
     "MATLAB",
     "#dff8fb"
    ],
    [
     "Python3",
     "python3",
     "Python3",
     "#FFE771"
    ],
    [
     "R",
     "ir",
     "R",
     "#DCDCDA"
    ],
    [
     "SoS",
     "sos",
     "",
     ""
    ],
    [
     "django_extensions",
     "django_extensions",
     "",
     ""
    ],
    [
     "jupyter3_python_3",
     "jupyter3_python_3",
     "",
     ""
    ]
   ],
   "panel": {
    "displayed": true,
    "height": 0,
    "style": "side"
   }
  },
  "toc": {
   "nav_menu": {
    "height": "105px",
    "width": "254px"
   },
   "navigate_menu": true,
   "number_sections": true,
   "sideBar": true,
   "threshold": 4,
   "toc_cell": false,
   "toc_section_display": "block",
   "toc_window_display": false
  }
 },
 "nbformat": 4,
 "nbformat_minor": 2
}
