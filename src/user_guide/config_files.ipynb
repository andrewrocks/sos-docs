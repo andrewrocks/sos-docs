{
 "cells": [
  {
   "cell_type": "markdown",
   "metadata": {
    "kernel": "SoS"
   },
   "source": [
    "# Configuration Files"
   ]
  },
  {
   "cell_type": "markdown",
   "metadata": {
    "kernel": "SoS"
   },
   "source": [
    "* **Difficulty level**: easy\n",
    "* **Time need to lean**: 10 minutes or less\n",
    "* **Key points**:\n",
    "  * a\n",
    "  "
   ]
  },
  {
   "cell_type": "markdown",
   "metadata": {
    "kernel": "SoS"
   },
   "source": [
    "### Configuration files <a id=\"Configuration_files\"></a>"
   ]
  },
  {
   "cell_type": "markdown",
   "metadata": {
    "kernel": "SoS"
   },
   "source": [
    "SoS reads configurations from \n",
    "* A site configuration file `site_config.yml` under the sos package directory\n",
    "* A host configuration file `~/.sos/hosts.yml`\n",
    "* A global sos configuration file `~/.sos/config.yml`\n",
    "* And a configuration file specified by command line option `-c`.\n",
    "\n",
    "The configuration files should be in [YAML format](http://www.yaml.org/start.html). Dictionaries defined in all these configuration files are merged to form a single dictionary that is available to SoS as a dictionary named `CONFIG`.\n",
    "\n",
    "Note that:\n",
    "* All configurations from the aforementioned files are merged to a single dictionary. A dictionary could therefore contain keys defined in different configuration files and a latter file could overwrite keys defined in a previous file. For example, if \n",
    "  * `{'A': {'B': 'old', 'C': 'old'}` is defined in `~/.sos/config.yml` and\n",
    "  * `{'A': {'B': 'new', 'D': 'new'}` is defined in `my_config.yml`, then\n",
    "  * dictionary `A` in `CONFIG` would have value `{'B': 'new', 'C': 'old', 'D': 'new'}`. \n",
    "* SoS interpolate string values in `CONFIG` if they contain `{ }`. The expressions enclosed by `{ }` would be evaluated with a local namespace that is the dictionary in which the key exists, and a global namespace that is the complete `CONFIG` dictionary. That is to say, if a configuration file contains\n",
    "  ```\n",
    "  user_name: user\n",
    "  hosts:\n",
    "    cluster:\n",
    "      address: \"{user_name}@domain.com:{port}\"\n",
    "      port: 123\n",
    "   ```\n",
    "  `CONFIG['hosts']['cluster']['address']` would be interpolated with `port` from the `CONFIG['host']['cluster']` and `user_name` from the top level `CONFIG['user_name']`. You will need to double the braces (`{{ }}` to include `{ }` in the config file.\n",
    "* Because key `user_name` is frequently used in `hosts.yml`, SoS automatically defines `user_name` as the local user ID (all lower case) in `CONFIG` if it is not defined in any of the configuration files.\n",
    "* A special key `based_on` will be processed after all configuration files are loaded. The value of `based_on` should be one or more keys to other dictionaries in the configuration (e.g. `hosts.cluster`. The consequence of this key is that the items from the referred dictionaries would be merged to the present dictionary if they do not exist in the present dictionary. This allows you to derive a dictionary from an existing one. For example, \n",
    "  ```\n",
    "  hosts:\n",
    "    head_node:\n",
    "      description: head_node of cluster\n",
    "      address: \"{user_name}@domain.com:{port}\"\n",
    "      port: 123\n",
    "      paths:\n",
    "          home:   \"/home/{user_name}\"\n",
    "    cluster:\n",
    "      description: Cluster\n",
    "      based_on: hosts.head_node\n",
    "      queue_type: pbs\n",
    "   ```\n",
    "   allows `hosts[\"cluster\"]` to be derived from `hosts[\"head_node\"]`."
   ]
  },
  {
   "cell_type": "markdown",
   "metadata": {
    "kernel": "SoS"
   },
   "source": [
    "SoS allows you to store parameters in a number of configuration files. There are three kinds of configuraiton files:\n",
    "\n",
    "1. Global user-specific configuration file `~/.sos/config.yml`.\n",
    "2. Local project-specific configuraiton file `./config.yml` (under the current working directory).\n",
    "3. Configuration file specified by option `-c`.\n",
    "\n",
    "The configuration files should be in the format of [`YAML`](http://yaml.org/) or its subset format [`JSON`](http://json-schema.org/implementations.html). When a SoS script is loaded, SoS looks for and parses the global and project-specific configuration files, and a configuration file specified by option `-c`. The results are stored in a global variable `CONFIG` that is available to the script."
   ]
  },
  {
   "cell_type": "markdown",
   "metadata": {
    "kernel": "SoS"
   },
   "source": [
    "## Use of configuration file"
   ]
  },
  {
   "cell_type": "markdown",
   "metadata": {
    "kernel": "SoS"
   },
   "source": [
    "The configuration file should be in `YAML` format, which is a superset of JSON so any configuration file in JSON format is also acceptable. \n",
    "\n",
    "Let us create a yaml file with some simple content"
   ]
  },
  {
   "cell_type": "code",
   "execution_count": 1,
   "metadata": {
    "collapsed": true,
    "kernel": "SoS"
   },
   "outputs": [],
   "source": [
    "run:\n",
    "    cat << EOF > myconfig.yml\n",
    "    # A list of tasty fruits\n",
    "    martin:\n",
    "        name: Martin D'vloper\n",
    "        job: Developer\n",
    "        skill: Elite\n",
    "    manager: martin\n",
    "    EOF"
   ]
  },
  {
   "cell_type": "markdown",
   "metadata": {
    "kernel": "SoS"
   },
   "source": [
    "The configuration file looks like"
   ]
  },
  {
   "cell_type": "code",
   "execution_count": 2,
   "metadata": {
    "kernel": "SoS"
   },
   "outputs": [
    {
     "name": "stdout",
     "output_type": "stream",
     "text": [
      "# A list of tasty fruits\n",
      "martin:\n",
      "    name: Martin D'vloper\n",
      "    job: Developer\n",
      "    skill: Elite\n",
      "manager: martin\n"
     ]
    }
   ],
   "source": [
    "!cat myconfig.yml"
   ]
  },
  {
   "cell_type": "markdown",
   "metadata": {
    "kernel": "SoS"
   },
   "source": [
    "Variables defined in the configuration file are available in SoS script as a dictionary `CONFIG`. You can retrieve its values as a regular dictionary although writing to this dictioary is prohibited. For convenience, an attribute syntax can also be used to access dictionary items."
   ]
  },
  {
   "cell_type": "code",
   "execution_count": 3,
   "metadata": {
    "kernel": "SoS"
   },
   "outputs": [
    {
     "name": "stdout",
     "output_type": "stream",
     "text": [
      "{'name': \"Martin D'vloper\", 'skill': 'Elite', 'job': 'Developer'}\n",
      "Martin D'vloper\n",
      "martin\n"
     ]
    }
   ],
   "source": [
    "%run -c myconfig.yml\n",
    "print(CONFIG['martin'])\n",
    "print(CONFIG.martin['name'])\n",
    "print(CONFIG.manager)"
   ]
  },
  {
   "cell_type": "markdown",
   "metadata": {
    "kernel": "SoS"
   },
   "source": [
    "Configuration files are frequently used to specify system configurations. For example"
   ]
  },
  {
   "cell_type": "code",
   "execution_count": 4,
   "metadata": {
    "collapsed": true,
    "kernel": "SoS"
   },
   "outputs": [],
   "source": [
    "%run -c myconfig.yml\n",
    "manager = CONFIG.manager"
   ]
  },
  {
   "cell_type": "markdown",
   "metadata": {
    "kernel": "SoS"
   },
   "source": [
    "allow you to define name of `manager` in a configuration file. If you do not want to require a configuration file, you can define `manager` as"
   ]
  },
  {
   "cell_type": "code",
   "execution_count": 5,
   "metadata": {
    "kernel": "SoS"
   },
   "outputs": [
    {
     "name": "stdout",
     "output_type": "stream",
     "text": [
      "Bob\n"
     ]
    }
   ],
   "source": [
    "manager = CONFIG.get('manager', 'Bob')\n",
    "print(manager)"
   ]
  },
  {
   "cell_type": "markdown",
   "metadata": {
    "kernel": "SoS"
   },
   "source": [
    "So the manger would be `Bob` without configuration file, and `Martin` with configuration file."
   ]
  },
  {
   "cell_type": "code",
   "execution_count": 6,
   "metadata": {
    "kernel": "SoS"
   },
   "outputs": [
    {
     "name": "stdout",
     "output_type": "stream",
     "text": [
      "martin\n"
     ]
    }
   ],
   "source": [
    "%run -c myconfig.yml\n",
    "manager = CONFIG.get('manager', 'Bob')\n",
    "print(manager)"
   ]
  },
  {
   "cell_type": "markdown",
   "metadata": {
    "kernel": "SoS"
   },
   "source": [
    "If you would further want to allow modification of this value from command line, you can place this definition after `parameter`."
   ]
  },
  {
   "cell_type": "code",
   "execution_count": 7,
   "metadata": {
    "kernel": "SoS"
   },
   "outputs": [
    {
     "name": "stdout",
     "output_type": "stream",
     "text": [
      "Bob\n"
     ]
    }
   ],
   "source": [
    "parameter: manager = CONFIG.get('manager', 'Bob')\n",
    "print(manager)"
   ]
  },
  {
   "cell_type": "markdown",
   "metadata": {
    "kernel": "SoS"
   },
   "source": [
    "In this way, users have the freedom to use the default value, define a value in a configuration file, and provide another value from command line. "
   ]
  },
  {
   "cell_type": "code",
   "execution_count": 8,
   "metadata": {
    "kernel": "SoS"
   },
   "outputs": [
    {
     "name": "stdout",
     "output_type": "stream",
     "text": [
      "Bob\n"
     ]
    }
   ],
   "source": [
    "%rerun"
   ]
  },
  {
   "cell_type": "code",
   "execution_count": 9,
   "metadata": {
    "kernel": "SoS"
   },
   "outputs": [
    {
     "name": "stdout",
     "output_type": "stream",
     "text": [
      "martin\n"
     ]
    }
   ],
   "source": [
    "%rerun -c myconfig.yml"
   ]
  },
  {
   "cell_type": "code",
   "execution_count": 10,
   "metadata": {
    "kernel": "SoS"
   },
   "outputs": [
    {
     "name": "stdout",
     "output_type": "stream",
     "text": [
      "Joe\n"
     ]
    }
   ],
   "source": [
    "%rerun -c myconfig.yml --manager Joe"
   ]
  },
  {
   "cell_type": "code",
   "execution_count": 11,
   "metadata": {
    "kernel": "SoS"
   },
   "outputs": [
    {
     "name": "stdout",
     "output_type": "stream",
     "text": [
      "Joe\n"
     ]
    }
   ],
   "source": [
    "%rerun --manager Joe"
   ]
  },
  {
   "cell_type": "markdown",
   "metadata": {
    "kernel": "SoS"
   },
   "source": [
    "## Command `sos config`"
   ]
  },
  {
   "cell_type": "markdown",
   "metadata": {
    "kernel": "SoS"
   },
   "source": [
    "Although `yaml` is not a difficult format to learn. It is often easier to use command `sos config` to check and set values in configuration files, especially for complex data types."
   ]
  },
  {
   "cell_type": "markdown",
   "metadata": {
    "kernel": "SoS"
   },
   "source": [
    "`sos config` by default works on the local `config.yml` file. For example"
   ]
  },
  {
   "cell_type": "code",
   "execution_count": 12,
   "metadata": {
    "kernel": "SoS"
   },
   "outputs": [
    {
     "name": "stdout",
     "output_type": "stream",
     "text": [
      "Set cutoff to 0.5\n"
     ]
    }
   ],
   "source": [
    "!sos config --set cutoff 0.5"
   ]
  },
  {
   "cell_type": "markdown",
   "metadata": {
    "kernel": "SoS"
   },
   "source": [
    "creates `config.yml` with content"
   ]
  },
  {
   "cell_type": "code",
   "execution_count": 13,
   "metadata": {
    "kernel": "SoS"
   },
   "outputs": [
    {
     "name": "stdout",
     "output_type": "stream",
     "text": [
      "cutoff: 0.5\n"
     ]
    }
   ],
   "source": [
    "!cat config.yml"
   ]
  },
  {
   "cell_type": "markdown",
   "metadata": {
    "kernel": "SoS"
   },
   "source": [
    "It can also work on the global configuration file with option `--global`, or a local configuration file `--config file`. For example,"
   ]
  },
  {
   "cell_type": "code",
   "execution_count": 14,
   "metadata": {
    "kernel": "SoS"
   },
   "outputs": [
    {
     "name": "stdout",
     "output_type": "stream",
     "text": [
      "Set cutoff to {'high': 10, 'low': 1}\n"
     ]
    }
   ],
   "source": [
    "!sos config -c myconfig.yml --set cutoff '{\"low\":1, \"high\":10}'"
   ]
  },
  {
   "cell_type": "markdown",
   "metadata": {
    "kernel": "SoS"
   },
   "source": [
    "would add a line to existing configuration file `myconfig.yml`"
   ]
  },
  {
   "cell_type": "code",
   "execution_count": 15,
   "metadata": {
    "kernel": "SoS"
   },
   "outputs": [
    {
     "name": "stdout",
     "output_type": "stream",
     "text": [
      "cutoff:\n",
      "  high: 10\n",
      "  low: 1\n",
      "manager: martin\n",
      "martin:\n",
      "  job: Developer\n",
      "  name: Martin D'vloper\n",
      "  skill: Elite\n"
     ]
    }
   ],
   "source": [
    "!cat myconfig.yml"
   ]
  },
  {
   "cell_type": "markdown",
   "metadata": {
    "kernel": "SoS"
   },
   "source": [
    "The command is clever enough to handle partial values (e.g. of a dictionary), so if you do "
   ]
  },
  {
   "cell_type": "code",
   "execution_count": 16,
   "metadata": {
    "kernel": "SoS"
   },
   "outputs": [
    {
     "name": "stdout",
     "output_type": "stream",
     "text": [
      "Set cutoff to {'high': 10, 'low': 2}\n"
     ]
    }
   ],
   "source": [
    "!sos config -c myconfig.yml --set cutoff.low 2"
   ]
  },
  {
   "cell_type": "markdown",
   "metadata": {
    "kernel": "SoS"
   },
   "source": [
    "The commands updates one of the values of dictionary `cutoff`."
   ]
  },
  {
   "cell_type": "markdown",
   "metadata": {
    "kernel": "SoS"
   },
   "source": [
    "Other than `set`, you can check the content of a configuration file using option `get`. For example, the following command get all values defined in `config.yml`,"
   ]
  },
  {
   "cell_type": "code",
   "execution_count": 17,
   "metadata": {
    "kernel": "SoS"
   },
   "outputs": [
    {
     "name": "stdout",
     "output_type": "stream",
     "text": [
      "cutoff\t0.5\n"
     ]
    }
   ],
   "source": [
    "!sos config --get"
   ]
  },
  {
   "cell_type": "markdown",
   "metadata": {
    "kernel": "SoS"
   },
   "source": [
    "and the following command get the value of `manager` from `myconfig.yml`."
   ]
  },
  {
   "cell_type": "code",
   "execution_count": 18,
   "metadata": {
    "kernel": "SoS"
   },
   "outputs": [
    {
     "name": "stdout",
     "output_type": "stream",
     "text": [
      "manager\t'martin'\n"
     ]
    }
   ],
   "source": [
    "!sos config -c myconfig.yml --get manager"
   ]
  },
  {
   "cell_type": "markdown",
   "metadata": {
    "kernel": "SoS"
   },
   "source": [
    "wildcard characters are allowed to specify a subset of keys, although the name should be quoted to avoid shell expansion."
   ]
  },
  {
   "cell_type": "code",
   "execution_count": 19,
   "metadata": {
    "kernel": "SoS"
   },
   "outputs": [
    {
     "name": "stdout",
     "output_type": "stream",
     "text": [
      "cutoff\t{'low': 2, 'high': 10}\n"
     ]
    }
   ],
   "source": [
    "!sos config -c myconfig.yml --get 'c*'"
   ]
  },
  {
   "cell_type": "markdown",
   "metadata": {
    "kernel": "SoS"
   },
   "source": [
    "Finally, if you would like to remove a key from a configuration file, you can use option `--unset`."
   ]
  },
  {
   "cell_type": "code",
   "execution_count": 20,
   "metadata": {
    "kernel": "SoS"
   },
   "outputs": [
    {
     "name": "stdout",
     "output_type": "stream",
     "text": [
      "Unset martin\n"
     ]
    }
   ],
   "source": [
    "!sos config -c myconfig.yml --unset martin"
   ]
  },
  {
   "cell_type": "code",
   "execution_count": 21,
   "metadata": {
    "kernel": "SoS"
   },
   "outputs": [
    {
     "name": "stdout",
     "output_type": "stream",
     "text": [
      "cutoff:\n",
      "  high: 10\n",
      "  low: 2\n",
      "manager: martin\n"
     ]
    }
   ],
   "source": [
    "!cat myconfig.yml"
   ]
  },
  {
   "cell_type": "code",
   "execution_count": 22,
   "metadata": {
    "collapsed": true,
    "kernel": "SoS"
   },
   "outputs": [],
   "source": [
    "# clean up\n",
    "!rm config.yml myconfig.yaml"
   ]
  }
 ],
 "metadata": {
  "anaconda-cloud": {},
  "kernelspec": {
   "display_name": "SoS",
   "language": "sos",
   "name": "sos"
  },
  "language_info": {
   "codemirror_mode": "sos",
   "file_extension": ".sos",
   "mimetype": "text/x-sos",
   "name": "sos",
   "nbconvert_exporter": "sos_notebook.converter.SoS_Exporter",
   "pygments_lexer": "sos"
  },
  "sos": {
   "celltoolbar": true,
   "default_kernel": "SoS",
   "kernels": [
    [
     "Bash",
     "bash",
     "Bash",
     "#E6EEFF"
    ],
    [
     "Julia",
     "julia-0.6",
     "Julia",
     "#ebd8eb"
    ],
    [
     "MATLAB",
     "imatlab",
     "MATLAB",
     "#dff8fb"
    ],
    [
     "Python3",
     "python3",
     "Python3",
     "#FFE771"
    ],
    [
     "R",
     "ir",
     "R",
     "#DCDCDA"
    ],
    [
     "SoS",
     "sos",
     "",
     ""
    ],
    [
     "django_extensions",
     "django_extensions",
     "",
     ""
    ],
    [
     "jupyter3_python_3",
     "jupyter3_python_3",
     "",
     ""
    ]
   ],
   "panel": {
    "displayed": true,
    "height": 0,
    "style": "side"
   }
  },
  "toc": {
   "nav_menu": {
    "height": "105px",
    "width": "254px"
   },
   "navigate_menu": true,
   "number_sections": true,
   "sideBar": true,
   "threshold": 4,
   "toc_cell": false,
   "toc_section_display": "block",
   "toc_window_display": false
  }
 },
 "nbformat": 4,
 "nbformat_minor": 2
}
