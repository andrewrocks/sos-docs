{
 "cells": [
  {
   "cell_type": "markdown",
   "metadata": {
    "kernel": "SoS"
   },
   "source": [
    "# Extending SoS"
   ]
  },
  {
   "cell_type": "markdown",
   "metadata": {
    "kernel": "SoS"
   },
   "source": [
    "SoS can be easily extended with new actions, targets, converters, file previewers. To make the extension available to other users, you can either create and distribute a separate package, or extend SoS and send us a [pull request](https://help.github.com/articles/about-pull-requests/). Please open a ticket and discuss the idea with us before you send a pull request."
   ]
  },
  {
   "cell_type": "markdown",
   "metadata": {
    "kernel": "SoS"
   },
   "source": [
    "## Understanding `entry_points`"
   ]
  },
  {
   "cell_type": "markdown",
   "metadata": {
    "kernel": "SoS"
   },
   "source": [
    "SoS makes extensive use of [**entry points**](http://setuptools.readthedocs.io/en/latest/setuptools.html#dynamic-discovery-of-services-and-plugins), which allows external modules to register their features in the file system to make them available to other modules. It can be confusing initially but [this stack overflow ticket](http://stackoverflow.com/questions/774824/explain-python-entry-points) explains the `entry_points` mechanism quite well.\n",
    "\n",
    "To register additional feature with SoS, your package should define one or more sos-recognizable `entry_points` such as `sos-languages`, `sos-targets`, and `sos-actions`, with a syntax similar to\n",
    "\n",
    "```\n",
    "entry_points='''\n",
    "[sos-language]\n",
    "ruby = sos_ruby.kernel:sos_ruby\n",
    "\n",
    "[sos-targets]\n",
    "Ruby_Library = sos_ruby.target:Ruby-Library\n",
    "'''\n",
    "```\n",
    "\n",
    "With the installation of this package, `sos` would be able to obtain a class `sos_ruby` from module `sos_ruby.kernel`, and use it to work with the `ruby` language."
   ]
  },
  {
   "cell_type": "markdown",
   "metadata": {
    "kernel": "SoS"
   },
   "source": [
    "## Defining your own actions"
   ]
  },
  {
   "cell_type": "markdown",
   "metadata": {
    "kernel": "SoS"
   },
   "source": [
    "Under the hood an action is a normal Python function that is decorated as `SoS_Action`. The `decorator` defines the common interface of actions and calls the actual function. To define your own action, you generally need to \n",
    "\n",
    "```\n",
    "from sos.actions import SoS_Action\n",
    "\n",
    "@SoS_Action()\n",
    "def my_action(*args, **kwargs):\n",
    "    pass\n",
    "```\n",
    "\n",
    "The decorator accepts an optional parameter `acceptable_args=['*']` which can be used to specify a list of acceptable parameter (`*` matches all keyword args). An exception will be raised if an action is defined with a list of `acceptable_args` and is called with an unrecognized argument."
   ]
  },
  {
   "cell_type": "markdown",
   "metadata": {
    "kernel": "SoS"
   },
   "source": [
    "You then need to add an entry to `entry_points` in your `setup.py` file as\n",
    "\n",
    "```\n",
    "[sos-actions]\n",
    "my_action = mypackage.mymodule:my_action\n",
    "```"
   ]
  },
  {
   "cell_type": "markdown",
   "metadata": {
    "kernel": "SoS"
   },
   "source": [
    "The most important feature of an SoS actions is that they can behave differently in different `run_mode`, which can be `dryrun`, `run`, or `interactive` (for SoS Notebook). Depending on the nature of your action, you might want to do nothing for in `dryrun` mode and give more visual feedback in `interactive` mode. The relevant code would usually look like\n",
    "\n",
    "```\n",
    "if env.config['run_mode'] == 'dryrun':\n",
    "    return None\n",
    "```\n",
    "\n",
    "Because actions are often used in script format with ignored return value, actions usually return `None` for success, and raise an exception when error happens."
   ]
  },
  {
   "cell_type": "markdown",
   "metadata": {
    "kernel": "SoS"
   },
   "source": [
    "If the execution of action depends on some other targets, you can raise an `UnknownTarget` with the target so that the target can be obtained, and the SoS step and the action will be re-executed after the target is obtained. For example, if your action depends on a particular `R_library`, you can test the existence of the target as follows:\n",
    "\n",
    "```\n",
    "from sos.targets import UnknownTarget\n",
    "from sos.targets_r import R_library\n",
    "\n",
    "@SoS_Action()\n",
    "def my_action(script, *args, **kwargs):\n",
    "    if not R_library('somelib').target_exists():\n",
    "        raise UnknownTarget(R_library('somelib'))\n",
    "    # ...\n",
    "```"
   ]
  },
  {
   "cell_type": "markdown",
   "metadata": {
    "kernel": "SoS"
   },
   "source": [
    "## Additional targets"
   ]
  },
  {
   "cell_type": "markdown",
   "metadata": {
    "kernel": "SoS"
   },
   "source": [
    "Additional target should be derived from [`BaseTarget`](https://github.com/vatlab/SoS/blob/master/src/sos/targets.py).\n",
    "\n",
    "```\n",
    "from sos.targets import BaseTarget\n",
    "\n",
    "class my_target(BaseTarget):\n",
    "    def __init__(self, *args, **kwargs):\n",
    "        super(my_target, self).__init__(self)\n",
    "        \n",
    "    def target_name(self):\n",
    "        ...\n",
    "    \n",
    "    def target_exists(self, mode='any'):\n",
    "        ...\n",
    "       \n",
    "    def target_signature(self):\n",
    "        ...\n",
    "    \n",
    "```\n",
    "\n",
    "Any target type should define the three functions:\n",
    "\n",
    "* `target_name`: name of the target for reporting purpose.\n",
    "* `target_exists`: check if the target exists. This function accepts a parameter `mode` which can `target`, `signature`, or `any`, which you can safely ignore.\n",
    "* `target_signature`: returns any immutable Python object (usually a string) that uniquely identifies the target so that two targets can be considered the same (different) if their signatures are the same (different). The signature is used to detect if a target has been changed.\n",
    "\n",
    "The details of this class can be found at the source code of [`BaseTarget`](https://github.com/vatlab/SoS/blob/master/src/sos/targets.py). The [`R_Library`](https://github.com/vatlab/SoS/blob/master/src/sos/targets_r.py) provides a good example of a **virtual target** that does not have a fixed corresponding file, can be checked for existence, and actually attempts to obtain (install a R library) the target when it is checked.\n",
    "\n",
    "After you defined your target, you will need to add an appropriate entry point to make it available to SoS:\n",
    "\n",
    "```\n",
    "[sos-targets]\n",
    "my_target = mypackage.targets:my_target\n",
    "```"
   ]
  },
  {
   "cell_type": "markdown",
   "metadata": {
    "kernel": "SoS"
   },
   "source": [
    "## File format conversion"
   ]
  },
  {
   "cell_type": "markdown",
   "metadata": {
    "kernel": "SoS"
   },
   "source": [
    "To convert between sos and another file format, you would need to define two function, one returnning an [`argparse.ArgumentParser`](https://docs.python.org/3/library/argparse.html) that parse converter arguments, and one performing real file conversion.\n",
    "\n",
    "Suppose you would like to convert `.sos` to a `.xp` format, you can define these two functions as follows\n",
    "\n",
    "```\n",
    "import argparse\n",
    "from sos.parser import SoS_Script\n",
    "\n",
    "def get_my_converter_parser():\n",
    "    parser = argparse.ArgumentParser('sos_xp')\n",
    "    parser.add_argument('--theme', \n",
    "        help='Style of output format')\n",
    "    return parser\n",
    "\n",
    "def my_converter(source_file, dest_file, args=None, unknown_args=[]):\n",
    "    # parse additional_args to obtain converter-specific options\n",
    "    # then convert from source_file to dest_file\n",
    "    script = SoS_Script(source_file)\n",
    "    for section in script.sections:\n",
    "        # do something\n",
    "\n",
    "if __name__ == '__main__':\n",
    "    parser = get_my_converter_parser()\n",
    "    args, unknown_args = parser.parse_known_args(sys.argv[3:])\n",
    "    my_converter(sys.argv[1], sys.argv[2], args, unknown_args)\n",
    "\n",
    "```\n",
    "\n",
    "You can then register the converter in `setup.py` as\n",
    "\n",
    "```\n",
    "[sos-converters]\n",
    "fromExt-toExt.parser: mypackage.mymodule:get_my_converter_parser\n",
    "fromExt-toExt.func: mypackage.mymodule:my_converter\n",
    "```\n",
    "\n",
    "Here `fromExt` is file extension without leading dot, `toExt` is destination file extension without leading dot, or a format specified by the `--to` parameter of command `sos convert`. If `dest_file` is unspecified, the output should be written to standard output.\n",
    "\n",
    "This example uses `if __name__ == '__main__'` section so that the converter can be used as a standandalone program, which is not needed but a great way for testing purposes. Note that the input and output files are handled by `sos convert` so the parser only needs to parse converter-specific options."
   ]
  },
  {
   "cell_type": "markdown",
   "metadata": {
    "kernel": "SoS"
   },
   "source": [
    "## Preview additional formats\n",
    "\n",
    "Adding a preview function is very simple. All you need to do is define a function that returns preview information, and add an entry point to link the function to certain file format.\n",
    "\n",
    "More specifically, a previewer should be specified as\n",
    "\n",
    "```\n",
    "pattern,priority = preview_module:func\n",
    "```\n",
    "\n",
    "or\n",
    "\n",
    "```\n",
    "module:func,priority = preview_module:func\n",
    "```\n",
    "\n",
    "where\n",
    "\n",
    "1. `pattern` is a pattern that matches incoming filename (see module fnmatch.fnmatch for details)\n",
    "2. `module:func` specifies a function in module that detects the type of input file.\n",
    "3. `priority` is an integer number that indicates the priority of previewer in case multiple pattern or function matches the  same file. Developers of third-party previewer can override an existing previewer by specifying a higher priority number.\n",
    "4. `preview_module:func` points to a function in a module. The function should accept a filename as the only parameter, and returns either\n",
    "\n",
    "   * A string that will be displayed as plain text to standard output.\n",
    "   * A dictionary that will be returned as `data` field of `display_data` (see [Jupyter documentation](http://jupyter-client.readthedocs.io/en/latest/messaging.html) for details). The dictionary typically has `text/html` for HTML output, \"text/plain\" for plain text, and \"text/png\" for image presentation of the file."
   ]
  },
  {
   "cell_type": "markdown",
   "metadata": {
    "kernel": "SoS"
   },
   "source": [
    "## Adding a subcommad (addon)"
   ]
  },
  {
   "cell_type": "markdown",
   "metadata": {
    "kernel": "SoS"
   },
   "source": [
    "If you would like to add a complete subcommand as an addon to SoS, you will need to define two functions and add them to `setup.py` as two entry points, one with suffix `.args` and one with suffix `.func`.\n",
    "\n",
    "```\n",
    "[sos_addons]\n",
    "myaddon.args = yourpackage.module:addon_parser\n",
    "myaddon.func = yourpackage.module:addon_func\n",
    "```\n",
    "\n",
    "The `addon_parser` function should use module `argparse` to return an `ArgumentParser` object. SoS would obtain this parser and add it as a subparse of the SoS main parser so that the options can be parsed as\n",
    "\n",
    "```\n",
    "sos myaddon options\n",
    "```\n",
    "\n",
    "The `addon_func` should be defined as\n",
    "\n",
    "```\n",
    "def addon_func(args, unknown_args)\n",
    "```\n",
    "\n",
    "with `args` being the parsed known arguments, and `unknown_args` being a list of unknown arguments that you can process by yourself."
   ]
  }
 ],
 "metadata": {
  "anaconda-cloud": {},
  "kernelspec": {
   "display_name": "SoS",
   "language": "sos",
   "name": "sos"
  },
  "language_info": {
   "codemirror_mode": "sos",
   "file_extension": ".sos",
   "mimetype": "text/x-sos",
   "name": "sos",
   "nbconvert_exporter": "sos_notebook.converter.SoS_Exporter",
   "pygments_lexer": "sos"
  },
  "sos": {
   "default_kernel": "SoS",
   "kernels": [],
   "panel": {
    "displayed": true,
    "height": 0,
    "style": "side"
   },
   "version": "0.17.5"
  },
  "toc": {
   "colors": {
    "hover_highlight": "#DAA520",
    "running_highlight": "#FF0000",
    "selected_highlight": "#FFD700"
   },
   "moveMenuLeft": true,
   "nav_menu": {
    "height": "141px",
    "width": "252px"
   },
   "navigate_menu": true,
   "number_sections": true,
   "sideBar": true,
   "threshold": 4,
   "toc_cell": false,
   "toc_section_display": "block",
   "toc_window_display": true
  }
 },
 "nbformat": 4,
 "nbformat_minor": 2
}
