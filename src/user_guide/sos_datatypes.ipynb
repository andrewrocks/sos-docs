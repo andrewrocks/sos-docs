{
 "cells": [
  {
   "cell_type": "markdown",
   "metadata": {
    "kernel": "SoS"
   },
   "source": [
    "# SoS Data Types"
   ]
  },
  {
   "cell_type": "markdown",
   "metadata": {
    "kernel": "SoS"
   },
   "source": [
    "* **Difficulty level**: easy\n",
    "* **Time need to lean**: 10 minutes or less\n",
    "* **Key points**:\n",
    "  * `sos_targets` \n",
    "  "
   ]
  },
  {
   "cell_type": "markdown",
   "metadata": {
    "kernel": "SoS"
   },
   "source": [
    "##  SoS Targets <a id=\"SoS_Targets\"></a>"
   ]
  },
  {
   "cell_type": "markdown",
   "metadata": {
    "kernel": "SoS"
   },
   "source": [
    "A **target** is an object that can be created and detected. A SoS step can take a list of targets as input, check the existence of a list of dependent targets, and produce a list of targets as output. In addition, a target can have arbitrary attached \"attributes\" that provides additional information about the targets."
   ]
  },
  {
   "cell_type": "markdown",
   "metadata": {
    "kernel": "SoS"
   },
   "source": [
    "The most common target type is a `file_target`, which represent a file on the file system. `file_target` is derived from [pathlib.Path](https://docs.python.org/3.6/library/pathlib.html?highlight=pathlib#module-pathlib) with some additional functions. In addition to `file_target`, SoS provides a number of built-in targets such as `file_target`, `sos_variable`, and `executable`, and targets defined by language modules such as `R_Library`. This section describes general usages of targets and syntax for the most frequently used target `file_target`. Please refer to Chapter [Targets and Actions](Targets_and_Actions.html) for descriptions of other target types."
   ]
  },
  {
   "cell_type": "markdown",
   "metadata": {
    "kernel": "SoS"
   },
   "source": [
    "![sos_step](../media/target_classes.png)"
   ]
  },
  {
   "cell_type": "markdown",
   "metadata": {
    "kernel": "SoS"
   },
   "source": [
    "<small>Class hierachy for all target related classes. Basically, all targets are derived from a virtual `BaseTarget` class. A `file_target` stands for a disk file and is presented by a `path` object, which is an extension of `Path` object from `pathlib`. A `sos_targets` object is a collection of `BaseTargets`, which can be created from individual or lists of `BaseTarget` and `path` (class `paths`).<small>"
   ]
  },
  {
   "cell_type": "markdown",
   "metadata": {
    "kernel": "SoS"
   },
   "source": [
    "### `BaseTarget` <a id=\"BaseTarget\"></a>"
   ]
  },
  {
   "cell_type": "markdown",
   "metadata": {
    "kernel": "SoS"
   },
   "source": [
    "`BaseTarget` is the parent class of all SoS targets. It cannot be used directly but it provides an interface for all targets to get and set attributes.\n",
    "\n",
    "For example, the `input` statement of the following example creates an `sos_targets` object with two children  `file_target('a.txt')` and `file_target('b.txt')`. Option `paired_with` accepts a dictionary and assigns attributes `sample` to each of the targets with specified values. "
   ]
  },
  {
   "cell_type": "code",
   "execution_count": 7,
   "metadata": {
    "kernel": "SoS"
   },
   "outputs": [
    {
     "name": "stdout",
     "output_type": "stream",
     "text": [
      "A\n",
      "B\n"
     ]
    }
   ],
   "source": [
    "input: 'a.txt', 'b.txt', paired_with={'sample': ['A', 'B']}\n",
    "print(_input[0].sample)\n",
    "print(_input[1].sample)"
   ]
  },
  {
   "cell_type": "markdown",
   "metadata": {
    "kernel": "SoS"
   },
   "source": [
    "Although targets and their attributes are usually set in an `input` statement, you can create targets and set attributes directly. For example "
   ]
  },
  {
   "cell_type": "code",
   "execution_count": 8,
   "metadata": {
    "kernel": "SoS"
   },
   "outputs": [
    {
     "name": "stdout",
     "output_type": "stream",
     "text": [
      "A\n",
      "A\n"
     ]
    }
   ],
   "source": [
    "file_a = file_target('a.txt').set('sample', 'A')\n",
    "print(file_a.sample)\n",
    "print(file_a.get('sample'))"
   ]
  },
  {
   "cell_type": "markdown",
   "metadata": {
    "kernel": "SoS"
   },
   "source": [
    "Here the `target.set(name, value)` function sets an attribute to the `target`, `target.get(name, default=None)` get the value of attribute `name`, and returns `default` if `name` is not a valid attribute. It is therefore a safer way to retrieve an attribute than `target.name` if you are uncertain if attribute `name` exists for `target`."
   ]
  },
  {
   "cell_type": "markdown",
   "metadata": {
    "kernel": "SoS"
   },
   "source": [
    "### File and directory names (`path`) <a id=\"File_and_directory_names_path\"></a>"
   ]
  },
  {
   "cell_type": "markdown",
   "metadata": {
    "kernel": "SoS"
   },
   "source": [
    "The `path` type handles the manipulation of file and directory names. It is derived from Python [pathlib.Path](https://docs.python.org/3/library/pathlib.html) but it\n",
    "\n",
    "1. automatically expands user from path starting with `~`\n",
    "2. allows you to extend `path` with a `+` operation\n",
    "3. has a special `zap` operation to replace (large) files with their signatures\n",
    "4. accepts a list of format options to easily format path in different formats\n",
    "\n",
    "Let us start from the first feature:"
   ]
  },
  {
   "cell_type": "code",
   "execution_count": 1,
   "metadata": {
    "kernel": "SoS"
   },
   "outputs": [],
   "source": [
    "p = path('~/sos/sos-docs/src/documentation/SoS_Syntax.ipynb')"
   ]
  },
  {
   "cell_type": "code",
   "execution_count": 2,
   "metadata": {
    "kernel": "SoS"
   },
   "outputs": [
    {
     "data": {
      "text/plain": [
       "path('/Users/bpeng1/sos/sos-docs/src/documentation/SoS_Syntax.ipynb')"
      ]
     },
     "execution_count": 2,
     "metadata": {},
     "output_type": "execute_result"
    }
   ],
   "source": [
    "p"
   ]
  },
  {
   "cell_type": "code",
   "execution_count": 3,
   "metadata": {
    "kernel": "SoS"
   },
   "outputs": [
    {
     "data": {
      "text/plain": [
       "'SoS_Syntax.ipynb'"
      ]
     },
     "execution_count": 3,
     "metadata": {},
     "output_type": "execute_result"
    }
   ],
   "source": [
    "p.name"
   ]
  },
  {
   "cell_type": "code",
   "execution_count": 4,
   "metadata": {
    "kernel": "SoS"
   },
   "outputs": [
    {
     "data": {
      "text/plain": [
       "path('/Users/bpeng1/sos/sos-docs/src/documentation')"
      ]
     },
     "execution_count": 4,
     "metadata": {},
     "output_type": "execute_result"
    }
   ],
   "source": [
    "p.parent"
   ]
  },
  {
   "cell_type": "code",
   "execution_count": 5,
   "metadata": {
    "kernel": "SoS"
   },
   "outputs": [
    {
     "data": {
      "text/plain": [
       "path('/Users/bpeng1/sos/sos-docs/src/documentation/something.txt')"
      ]
     },
     "execution_count": 5,
     "metadata": {},
     "output_type": "execute_result"
    }
   ],
   "source": [
    "p.parent / 'something.txt'"
   ]
  },
  {
   "cell_type": "code",
   "execution_count": 6,
   "metadata": {
    "kernel": "SoS"
   },
   "outputs": [
    {
     "data": {
      "text/plain": [
       "'.ipynb'"
      ]
     },
     "execution_count": 6,
     "metadata": {},
     "output_type": "execute_result"
    }
   ],
   "source": [
    "p.suffix"
   ]
  },
  {
   "cell_type": "code",
   "execution_count": 7,
   "metadata": {
    "kernel": "SoS"
   },
   "outputs": [
    {
     "data": {
      "text/plain": [
       "('/',\n",
       " 'Users',\n",
       " 'bpeng1',\n",
       " 'sos',\n",
       " 'sos-docs',\n",
       " 'src',\n",
       " 'documentation',\n",
       " 'SoS_Syntax.ipynb')"
      ]
     },
     "execution_count": 7,
     "metadata": {},
     "output_type": "execute_result"
    }
   ],
   "source": [
    "p.parts"
   ]
  },
  {
   "cell_type": "code",
   "execution_count": 8,
   "metadata": {
    "kernel": "SoS"
   },
   "outputs": [
    {
     "data": {
      "text/plain": [
       "True"
      ]
     },
     "execution_count": 8,
     "metadata": {},
     "output_type": "execute_result"
    }
   ],
   "source": [
    "p.exists()"
   ]
  },
  {
   "cell_type": "code",
   "execution_count": 9,
   "metadata": {
    "kernel": "SoS"
   },
   "outputs": [
    {
     "data": {
      "text/plain": [
       "False"
      ]
     },
     "execution_count": 9,
     "metadata": {},
     "output_type": "execute_result"
    }
   ],
   "source": [
    "p.is_dir()"
   ]
  },
  {
   "cell_type": "code",
   "execution_count": 10,
   "metadata": {
    "kernel": "SoS"
   },
   "outputs": [
    {
     "data": {
      "text/plain": [
       "path('/Users/bpeng1/sos/sos-docs/src/documentation/SoS_Syntax.html')"
      ]
     },
     "execution_count": 10,
     "metadata": {},
     "output_type": "execute_result"
    }
   ],
   "source": [
    "p.with_name('SoS_Syntax.html')"
   ]
  },
  {
   "cell_type": "code",
   "execution_count": 11,
   "metadata": {
    "kernel": "SoS"
   },
   "outputs": [
    {
     "data": {
      "text/plain": [
       "path('/Users/bpeng1/sos/sos-docs/src/documentation/SoS_Syntax.html')"
      ]
     },
     "execution_count": 11,
     "metadata": {},
     "output_type": "execute_result"
    }
   ],
   "source": [
    "p.with_suffix('.html')"
   ]
  },
  {
   "cell_type": "markdown",
   "metadata": {
    "kernel": "SoS"
   },
   "source": [
    "and you can evaluate `path` in format strings as"
   ]
  },
  {
   "cell_type": "code",
   "execution_count": 12,
   "metadata": {
    "kernel": "SoS"
   },
   "outputs": [
    {
     "data": {
      "text/plain": [
       "'Hello My name is SoS_Syntax.ipynb'"
      ]
     },
     "execution_count": 12,
     "metadata": {},
     "output_type": "execute_result"
    }
   ],
   "source": [
    "f\"Hello My name is {p.name}\""
   ]
  },
  {
   "cell_type": "markdown",
   "metadata": {
    "kernel": "SoS"
   },
   "source": [
    "Note that `path` offers a [`os.PathLike`](https://docs.python.org/3/library/os.html#os.PathLike) interface and can be used directly with `os.path` functions such as"
   ]
  },
  {
   "cell_type": "code",
   "execution_count": 13,
   "metadata": {
    "kernel": "SoS"
   },
   "outputs": [
    {
     "data": {
      "text/plain": [
       "0"
      ]
     },
     "execution_count": 13,
     "metadata": {},
     "output_type": "execute_result"
    }
   ],
   "source": [
    "os.path.getsize(p)"
   ]
  },
  {
   "cell_type": "markdown",
   "metadata": {
    "kernel": "SoS"
   },
   "source": [
    "Secondly, **`path` allows you to extend `path` with a `str` or `path` with a `+` operation**. For example, with"
   ]
  },
  {
   "cell_type": "code",
   "execution_count": 14,
   "metadata": {
    "kernel": "SoS"
   },
   "outputs": [],
   "source": [
    "p = path('test.txt')"
   ]
  },
  {
   "cell_type": "markdown",
   "metadata": {
    "kernel": "SoS"
   },
   "source": [
    "`p + '.tmp'` returns a `path` with `.tmp` appended to the path"
   ]
  },
  {
   "cell_type": "code",
   "execution_count": 15,
   "metadata": {
    "kernel": "SoS"
   },
   "outputs": [
    {
     "data": {
      "text/plain": [
       "path('test.txt.tmp')"
      ]
     },
     "execution_count": 15,
     "metadata": {},
     "output_type": "execute_result"
    }
   ],
   "source": [
    "p + '.tmp'"
   ]
  },
  {
   "cell_type": "markdown",
   "metadata": {
    "kernel": "SoS"
   },
   "source": [
    "which is different from the `/` operator that join the operant as another piece of the path"
   ]
  },
  {
   "cell_type": "code",
   "execution_count": 16,
   "metadata": {
    "kernel": "SoS"
   },
   "outputs": [
    {
     "data": {
      "text/plain": [
       "path('test.txt/.tmp')"
      ]
     },
     "execution_count": 16,
     "metadata": {},
     "output_type": "execute_result"
    }
   ],
   "source": [
    "p / '.tmp'"
   ]
  },
  {
   "cell_type": "markdown",
   "metadata": {
    "kernel": "SoS"
   },
   "source": [
    "A note of caution, however, is that because `path` strips ending slash from an input path"
   ]
  },
  {
   "cell_type": "code",
   "execution_count": 17,
   "metadata": {
    "kernel": "SoS"
   },
   "outputs": [
    {
     "data": {
      "text/plain": [
       "path('/path/to')"
      ]
     },
     "execution_count": 17,
     "metadata": {},
     "output_type": "execute_result"
    }
   ],
   "source": [
    "path('/path/to/')"
   ]
  },
  {
   "cell_type": "markdown",
   "metadata": {
    "kernel": "SoS"
   },
   "source": [
    "The result of the following can be surprising"
   ]
  },
  {
   "cell_type": "code",
   "execution_count": 18,
   "metadata": {
    "kernel": "SoS"
   },
   "outputs": [
    {
     "data": {
      "text/plain": [
       "path('/path/toa.txt')"
      ]
     },
     "execution_count": 18,
     "metadata": {},
     "output_type": "execute_result"
    }
   ],
   "source": [
    "path('/path/to/') + 'a.txt'"
   ]
  },
  {
   "cell_type": "markdown",
   "metadata": {
    "kernel": "SoS"
   },
   "source": [
    "so the rule of thumb is that you should use `/` to extend path and `+` to extend name, as in"
   ]
  },
  {
   "cell_type": "code",
   "execution_count": 19,
   "metadata": {
    "kernel": "SoS"
   },
   "outputs": [
    {
     "data": {
      "text/plain": [
       "path('/path/to/dir/filename.ext')"
      ]
     },
     "execution_count": 19,
     "metadata": {},
     "output_type": "execute_result"
    }
   ],
   "source": [
    "path('/path/to') / \"dir\" / \"filename\" + \".ext\""
   ]
  },
  {
   "cell_type": "markdown",
   "metadata": {
    "kernel": "SoS"
   },
   "source": [
    "The third addition of the `path` type is **a `zap()` function that removes the file and creates a `{filename}.zapped` file with file signatures**. This `.zapped` file is considered to be \"existent\" by the runtime signature system so that a workflow step will not be repeated of some of its input or output files are zapped, unless the actually files are needed. An example of this usage will be given later."
   ]
  },
  {
   "cell_type": "markdown",
   "metadata": {
    "kernel": "SoS"
   },
   "source": [
    "### Path list (`paths`) <a id=\"Path_list_paths\"></a>"
   ]
  },
  {
   "cell_type": "markdown",
   "metadata": {
    "kernel": "SoS"
   },
   "source": [
    "The `paths` type keeps a list of `path` objects. It can be initialized from one or more `str`, `path` or lists of `path`. Lists of paths will be flattened and concatenated so the end result will always be an one-dimensional list. The variables appear to be a sequence that can be sliced and iterated. For example, the following statement creates a `paths` object with three filenames from a single filename and a list of two filenames:"
   ]
  },
  {
   "cell_type": "code",
   "execution_count": 26,
   "metadata": {
    "kernel": "SoS"
   },
   "outputs": [
    {
     "data": {
      "text/plain": [
       "[path('a.txt'), path('b.txt'), path('c.txt')]"
      ]
     },
     "execution_count": 26,
     "metadata": {},
     "output_type": "execute_result"
    }
   ],
   "source": [
    "targets = paths('a.txt', ['b.txt', 'c.txt'])\n",
    "targets"
   ]
  },
  {
   "cell_type": "markdown",
   "metadata": {
    "kernel": "SoS"
   },
   "source": [
    "You can access one or more elements of a `paths` or iterate through it"
   ]
  },
  {
   "cell_type": "code",
   "execution_count": 27,
   "metadata": {
    "kernel": "SoS"
   },
   "outputs": [
    {
     "data": {
      "text/plain": [
       "path('c.txt')"
      ]
     },
     "execution_count": 27,
     "metadata": {},
     "output_type": "execute_result"
    }
   ],
   "source": [
    "targets[2]"
   ]
  },
  {
   "cell_type": "code",
   "execution_count": 28,
   "metadata": {
    "kernel": "SoS"
   },
   "outputs": [
    {
     "data": {
      "text/plain": [
       "[path('b.txt'), path('c.txt')]"
      ]
     },
     "execution_count": 28,
     "metadata": {},
     "output_type": "execute_result"
    }
   ],
   "source": [
    "targets[1:]"
   ]
  },
  {
   "cell_type": "code",
   "execution_count": 29,
   "metadata": {
    "kernel": "SoS"
   },
   "outputs": [
    {
     "name": "stdout",
     "output_type": "stream",
     "text": [
      "a.txt\n",
      "b.txt\n",
      "c.txt\n"
     ]
    }
   ],
   "source": [
    "for t in targets:\n",
    "   print(t)"
   ]
  },
  {
   "cell_type": "markdown",
   "metadata": {
    "kernel": "SoS"
   },
   "source": [
    "To convert a `paths` object to a regular list, you can use function `list`"
   ]
  },
  {
   "cell_type": "code",
   "execution_count": 30,
   "metadata": {
    "kernel": "SoS"
   },
   "outputs": [
    {
     "data": {
      "text/plain": [
       "[path('a.txt'), path('b.txt'), path('c.txt')]"
      ]
     },
     "execution_count": 30,
     "metadata": {},
     "output_type": "execute_result"
    }
   ],
   "source": [
    "list(targets)"
   ]
  },
  {
   "cell_type": "markdown",
   "metadata": {
    "kernel": "SoS"
   },
   "source": [
    "or slice part of the `paths` using slices"
   ]
  },
  {
   "cell_type": "code",
   "execution_count": 31,
   "metadata": {
    "kernel": "SoS",
    "scrolled": true
   },
   "outputs": [
    {
     "data": {
      "text/plain": [
       "list"
      ]
     },
     "execution_count": 31,
     "metadata": {},
     "output_type": "execute_result"
    }
   ],
   "source": [
    "type(targets[1:])"
   ]
  },
  {
   "cell_type": "markdown",
   "metadata": {
    "kernel": "SoS"
   },
   "source": [
    "The first big difference between the formatting of `paths` and regular lists of `path` is that **formatting are applied to each item and joint by space or comma**. For example, whereas a regular list is formatted as a list"
   ]
  },
  {
   "cell_type": "code",
   "execution_count": 32,
   "metadata": {
    "kernel": "SoS"
   },
   "outputs": [
    {
     "data": {
      "text/plain": [
       "\"['a.txt', 'b.txt', 'c.txt']\""
      ]
     },
     "execution_count": 32,
     "metadata": {},
     "output_type": "execute_result"
    }
   ],
   "source": [
    "target_list = ['a.txt', 'b.txt', 'c.txt']\n",
    "f\"{target_list}\""
   ]
  },
  {
   "cell_type": "markdown",
   "metadata": {
    "kernel": "SoS"
   },
   "source": [
    "A `paths` is formatted as"
   ]
  },
  {
   "cell_type": "code",
   "execution_count": 33,
   "metadata": {
    "kernel": "SoS"
   },
   "outputs": [
    {
     "data": {
      "text/plain": [
       "'a.txt b.txt c.txt'"
      ]
     },
     "execution_count": 33,
     "metadata": {},
     "output_type": "execute_result"
    }
   ],
   "source": [
    "f\"{targets}\""
   ]
  },
  {
   "cell_type": "markdown",
   "metadata": {
    "kernel": "SoS"
   },
   "source": [
    "or separated by `,` with format option `\",\"` "
   ]
  },
  {
   "cell_type": "code",
   "execution_count": 34,
   "metadata": {
    "kernel": "SoS"
   },
   "outputs": [
    {
     "data": {
      "text/plain": [
       "'a.txt,b.txt,c.txt'"
      ]
     },
     "execution_count": 34,
     "metadata": {},
     "output_type": "execute_result"
    }
   ],
   "source": [
    "f\"{targets:,}\""
   ]
  },
  {
   "cell_type": "markdown",
   "metadata": {
    "kernel": "SoS"
   },
   "source": [
    "or after formatting each element with specified formatter"
   ]
  },
  {
   "cell_type": "code",
   "execution_count": 35,
   "metadata": {
    "kernel": "SoS"
   },
   "outputs": [
    {
     "data": {
      "text/plain": [
       "\"'a.txt','b.txt','c.txt'\""
      ]
     },
     "execution_count": 35,
     "metadata": {},
     "output_type": "execute_result"
    }
   ],
   "source": [
    "f\"{targets:r,}\""
   ]
  },
  {
   "cell_type": "markdown",
   "metadata": {
    "kernel": "SoS"
   },
   "source": [
    "One particular consequence of this format rule is that a `paths` with only one element will behave exactly like a single path so you can use `input` (a `paths`) in place of `input[0]` (a `path`) if you know there is only one target inside `input`:"
   ]
  },
  {
   "cell_type": "code",
   "execution_count": 36,
   "metadata": {
    "kernel": "SoS"
   },
   "outputs": [
    {
     "data": {
      "text/plain": [
       "'SoS_Syntax.ipynb is the same as SoS_Syntax.ipynb'"
      ]
     },
     "execution_count": 36,
     "metadata": {},
     "output_type": "execute_result"
    }
   ],
   "source": [
    "single = paths('SoS_Syntax.ipynb')\n",
    "f\"{single[0]} is the same as {single}\""
   ]
  },
  {
   "cell_type": "code",
   "execution_count": 37,
   "metadata": {
    "kernel": "SoS"
   },
   "outputs": [
    {
     "data": {
      "text/plain": [
       "'.ipynb'"
      ]
     },
     "execution_count": 37,
     "metadata": {},
     "output_type": "execute_result"
    }
   ],
   "source": [
    "single.suffix"
   ]
  },
  {
   "cell_type": "code",
   "execution_count": 38,
   "metadata": {
    "kernel": "SoS"
   },
   "outputs": [
    {
     "data": {
      "text/plain": [
       "path('/Users/bpeng1/sos/sos-docs/src/documentation/SoS_Syntax.ipynb')"
      ]
     },
     "execution_count": 38,
     "metadata": {},
     "output_type": "execute_result"
    }
   ],
   "source": [
    "single.resolve()"
   ]
  },
  {
   "cell_type": "code",
   "execution_count": 39,
   "metadata": {
    "kernel": "SoS"
   },
   "outputs": [
    {
     "data": {
      "text/plain": [
       "0"
      ]
     },
     "execution_count": 39,
     "metadata": {},
     "output_type": "execute_result"
    }
   ],
   "source": [
    "os.path.getsize(single)"
   ]
  },
  {
   "cell_type": "markdown",
   "metadata": {
    "kernel": "SoS"
   },
   "source": [
    "Finally, although `paths` usually contains file or directory names, the fact that it formats as space separated items is very useful for passing lists of strings to command lines and SoS magics, so you will see the following usage pattern from time to time:"
   ]
  },
  {
   "cell_type": "code",
   "execution_count": 40,
   "metadata": {
    "kernel": "SoS"
   },
   "outputs": [],
   "source": [
    "samples = ['sample_A', 'sample_B', 'sample_C']"
   ]
  },
  {
   "cell_type": "code",
   "execution_count": 41,
   "metadata": {
    "kernel": "SoS"
   },
   "outputs": [
    {
     "data": {
      "text/html": [
       "<div class=\"sos_hint\">> !echo sample_A sample_B sample_C<br></div>"
      ]
     },
     "metadata": {},
     "output_type": "display_data"
    },
    {
     "name": "stdout",
     "output_type": "stream",
     "text": [
      "sample_A sample_B sample_C\n"
     ]
    }
   ],
   "source": [
    "!echo {paths(samples)}"
   ]
  },
  {
   "cell_type": "markdown",
   "metadata": {
    "kernel": "SoS"
   },
   "source": [
    "Here a list of strings to converted to `paths` just to be formatted as command line options, which is equivalent to the following but avoids problems when `samples` is a single string such as `'sample_A'`"
   ]
  },
  {
   "cell_type": "code",
   "execution_count": 42,
   "metadata": {
    "kernel": "SoS"
   },
   "outputs": [
    {
     "data": {
      "text/html": [
       "<div class=\"sos_hint\">> !echo sample_A sample_B sample_C<br></div>"
      ]
     },
     "metadata": {},
     "output_type": "display_data"
    },
    {
     "name": "stdout",
     "output_type": "stream",
     "text": [
      "sample_A sample_B sample_C\n"
     ]
    }
   ],
   "source": [
    "!echo {' '.join(samples)}"
   ]
  },
  {
   "cell_type": "markdown",
   "metadata": {
    "kernel": "SoS"
   },
   "source": [
    "`paths` has a `zap()` function and will zap all files in `paths`."
   ]
  },
  {
   "cell_type": "markdown",
   "metadata": {
    "kernel": "SoS"
   },
   "source": [
    "### File target (`file_target`) <a id=\"File_target_file_target\"></a>"
   ]
  },
  {
   "cell_type": "markdown",
   "metadata": {
    "kernel": "SoS"
   },
   "source": [
    "A `file_target` is `path` with additional `BaseTarget` interface. Because it is derived from `path`, it can be created from a string or a `path` and behaves exactly like a `path` object. Because it is also derived from `BaseTarget`, you can set and get aribitrary attributes to a `file_target`."
   ]
  },
  {
   "cell_type": "markdown",
   "metadata": {
    "kernel": "SoS"
   },
   "source": [
    "### Target list (`sos_targets`) <a id=\"Target_list_sos_targets\"></a>"
   ]
  },
  {
   "cell_type": "markdown",
   "metadata": {
    "kernel": "SoS"
   },
   "source": [
    "`sos_targets` is the type for all SoS system variables (`step_input`, `_input`, `step_output`, `_output`, `step_depends`, and `_depends`). These variables are created by SoS from `input:`, `output:` and `depends:` statements and are used to, for example, compose scripts in different languages.\n",
    "\n",
    "`sos_targets` shares the same design as `paths` although its content is a list of `BaseTargets`. it can be created from `str`, `list`, `path`, `paths`, `file_targets`, `sos_targets`, and many other `BaseTarget` types. In addition, a `sos_targets` can contain `groups`, which is a list of `sos_targets` consisting of subsets of targets."
   ]
  },
  {
   "cell_type": "markdown",
   "metadata": {
    "kernel": "SoS"
   },
   "source": [
    "#### `step_input` and `_input`"
   ]
  },
  {
   "cell_type": "markdown",
   "metadata": {
    "kernel": "SoS"
   },
   "source": [
    "In SoS, the `input` statement mostly creates a `step_input` object with provided parameters. That is to say,\n",
    "\n",
    "```\n",
    "input: 'a.txt', 'b.txt', group_by=1\n",
    "```\n",
    "is almost equivalent to\n",
    "\n",
    "```\n",
    "step_input = sos_targets('a.txt', 'b.txt', group_by=1)\n",
    "```\n",
    "and we can use `sos_targets` objects directly in an `input` statement in more complicated cases."
   ]
  },
  {
   "cell_type": "markdown",
   "metadata": {
    "kernel": "SoS"
   },
   "source": [
    "Variable `_input` represents the input targets for each substep (`groups` of `sos_targets` as we will see later).\n",
    "\n",
    "In the simple case, `step_input` is the same as `_input`. For example, variables `step_input` and `_input` of the following step are `sos_targets` objects with a single `file_target` object:"
   ]
  },
  {
   "cell_type": "code",
   "execution_count": 1,
   "metadata": {
    "kernel": "SoS"
   },
   "outputs": [
    {
     "name": "stdout",
     "output_type": "stream",
     "text": [
      "step_input='SoS_Syntax.ipynb'\n",
      "_input='SoS_Syntax.ipynb'\n",
      "    4626 SoS_Syntax.ipynb\n"
     ]
    }
   ],
   "source": [
    "input: 'SoS_Syntax.ipynb'\n",
    "print(f\"step_input={step_input:r}\")\n",
    "print(f\"_input={_input:r}\")\n",
    "sh: expand=True\n",
    "    wc -l {_input}"
   ]
  },
  {
   "cell_type": "markdown",
   "metadata": {
    "kernel": "SoS"
   },
   "source": [
    "and if you have multiple input files, you can pass them altogether as a `sos_targets` with two `file_target` "
   ]
  },
  {
   "cell_type": "code",
   "execution_count": 2,
   "metadata": {
    "kernel": "SoS"
   },
   "outputs": [
    {
     "name": "stdout",
     "output_type": "stream",
     "text": [
      "step_input='SoS_Syntax.ipynb' 'SoS_Magics.ipynb'\n",
      "_input='SoS_Syntax.ipynb' 'SoS_Magics.ipynb'\n",
      "    4626 SoS_Syntax.ipynb\n",
      "    3747 SoS_Magics.ipynb\n"
     ]
    }
   ],
   "source": [
    "input: 'SoS_Syntax.ipynb', 'SoS_Magics.ipynb'\n",
    "print(f\"step_input={step_input:r}\")\n",
    "print(f\"_input={_input:r}\")\n",
    "sh: expand=True\n",
    "    wc -l {_input[0]}\n",
    "    wc -l {_input[1]}"
   ]
  },
  {
   "cell_type": "markdown",
   "metadata": {
    "kernel": "SoS"
   },
   "source": [
    "or separately as two groups of inputs:"
   ]
  },
  {
   "cell_type": "code",
   "execution_count": 3,
   "metadata": {
    "kernel": "SoS"
   },
   "outputs": [
    {
     "name": "stdout",
     "output_type": "stream",
     "text": [
      "step_input='SoS_Syntax.ipynb' 'SoS_Magics.ipynb'\n",
      "_input='SoS_Syntax.ipynb'\n",
      "    4626 SoS_Syntax.ipynb\n",
      "step_input='SoS_Syntax.ipynb' 'SoS_Magics.ipynb'\n",
      "_input='SoS_Magics.ipynb'\n",
      "    3747 SoS_Magics.ipynb\n"
     ]
    }
   ],
   "source": [
    "input: 'SoS_Syntax.ipynb', 'SoS_Magics.ipynb', group_by=1\n",
    "print(f\"step_input={step_input:r}\")\n",
    "print(f\"_input={_input:r}\")\n",
    "sh: expand=True\n",
    "    wc -l {_input}"
   ]
  },
  {
   "cell_type": "markdown",
   "metadata": {
    "kernel": "SoS"
   },
   "source": [
    "In this case, the step input contains two `file_target` (\n",
    "```\n",
    "step_input = sos_targets('SoS_Syntax.ipynb', 'SoS_Magics.ipynb')`\n",
    "```\n",
    "but the step process is executed twice, with \n",
    "```\n",
    "_input = sos_targets('SoS_Syntax.ipynb')\n",
    "_input = sos_targets('SoS_Magics.ipynb')\n",
    "```\n",
    "respectively. Because `_input` contains only one element, it is not necessary to use `_input[0]` in the script."
   ]
  },
  {
   "cell_type": "markdown",
   "metadata": {
    "kernel": "SoS"
   },
   "source": [
    "#### `sources` of targets"
   ]
  },
  {
   "cell_type": "markdown",
   "metadata": {
    "kernel": "SoS"
   },
   "source": [
    "Targets in a `sos_targets` has an attribute `source`, which correspond to the step that the target is specified (input) or generated (output). For example, the `source` of a `sos_targets` that is directly specified in a step is the name of step."
   ]
  },
  {
   "cell_type": "code",
   "execution_count": 2,
   "metadata": {
    "kernel": "SoS"
   },
   "outputs": [
    {
     "name": "stdout",
     "output_type": "stream",
     "text": [
      "['hi']\n"
     ]
    }
   ],
   "source": [
    "%run\n",
    "[hi]\n",
    "input: 'SoS_Syntax.ipynb'\n",
    "print(_input.sources)"
   ]
  },
  {
   "cell_type": "markdown",
   "metadata": {
    "kernel": "SoS"
   },
   "source": [
    "If you have multiple inputs, you can sparate them into different groups using keyword arguments"
   ]
  },
  {
   "cell_type": "code",
   "execution_count": 10,
   "metadata": {
    "kernel": "SoS"
   },
   "outputs": [
    {
     "name": "stdout",
     "output_type": "stream",
     "text": [
      "a.bam b.bam a.bai a.bai\n",
      "['bam', 'bam', 'bai', 'bai']\n"
     ]
    }
   ],
   "source": [
    "!touch a.bam b.bam a.bai b.bai\n",
    "\n",
    "input: bam=['a.bam', 'b.bam'], bai=['a.bai', 'a.bai']\n",
    "\n",
    "print(_input)\n",
    "print(_input.sources)"
   ]
  },
  {
   "cell_type": "markdown",
   "metadata": {
    "kernel": "SoS"
   },
   "source": [
    "If the input target is inherited from another step, the source will the name of that step."
   ]
  },
  {
   "cell_type": "code",
   "execution_count": 3,
   "metadata": {
    "kernel": "SoS"
   },
   "outputs": [
    {
     "name": "stdout",
     "output_type": "stream",
     "text": [
      "['10']\n"
     ]
    }
   ],
   "source": [
    "%run\n",
    "[10]\n",
    "output: 'a.txt'\n",
    "_output.touch()\n",
    "\n",
    "[11]\n",
    "print(_input.sources)"
   ]
  },
  {
   "cell_type": "markdown",
   "metadata": {
    "kernel": "SoS"
   },
   "source": [
    "In a more complex case when the source comes from multiple input steps and the present step, the `sources` attribute points out the source of each target:"
   ]
  },
  {
   "cell_type": "code",
   "execution_count": 11,
   "metadata": {
    "kernel": "SoS"
   },
   "outputs": [
    {
     "data": {
      "text/html": [
       "\n",
       "<table id=\"workflow_2384b9808aa0443b802769234606d79a\" class=\"workflow_table  completed\">\n",
       "  <tr>\n",
       "        <td class=\"workflow_icon\">\n",
       "          <i id=\"workflow_status_icon_2384b9808aa0443b802769234606d79a\" class=\"fa fa-2x fa-fw fa-check-square-o\"\n",
       "            ></i>\n",
       "        </td>\n",
       "        <td class=\"workflow_name\">\n",
       "          <pre><span id=\"workflow_name_2384b9808aa0443b802769234606d79a\">step</span></pre>\n",
       "        </td>\n",
       "        <td class=\"workflow_id\">\n",
       "          <span>Workflow ID</span></br>\n",
       "          <pre><i class=\"fa fa-fw fa-sitemap\"></i><span id=\"workflow_id_2384b9808aa0443b802769234606d79a\">2cc805e966b4890b</span></pre>\n",
       "        </td>\n",
       "        <td class=\"workflow_index\">\n",
       "          <span>Index</span></br>\n",
       "          <pre>#<span id=\"workflow_index_2384b9808aa0443b802769234606d79a\">2</span></pre>\n",
       "        </td>\n",
       "        <td class=\"workflow_status\">\n",
       "          <span id=\"status_text_2384b9808aa0443b802769234606d79a\">completed</span></br>\n",
       "          <pre><i class=\"fa fa-fw fa-clock-o\"></i><time id=\"status_duration_2384b9808aa0443b802769234606d79a\" class=\"completed\" datetime=\"1545540836633.5627\">Ran for < 5 seconds</time></pre>\n",
       "        </td>\n",
       "  </tr>\n",
       "</table>\n"
      ]
     },
     "metadata": {},
     "output_type": "display_data"
    },
    {
     "name": "stdout",
     "output_type": "stream",
     "text": [
      "c.txt a.txt b.txt\n",
      "['step_30', 'step_10', 'step_20']\n"
     ]
    }
   ],
   "source": [
    "!touch c.txt\n",
    "%run\n",
    "[step_10]\n",
    "output: 'a.txt'\n",
    "_output.touch()\n",
    "\n",
    "[step_20]\n",
    "output: 'b.txt'\n",
    "_output.touch()\n",
    "\n",
    "[step_30]\n",
    "input: 'c.txt', output_from(['step_10', 'step_20'])\n",
    "print(_input)\n",
    "print(_input.sources)"
   ]
  },
  {
   "cell_type": "markdown",
   "metadata": {
    "kernel": "SoS"
   },
   "source": [
    "Although the use of keyword argument will override the default source"
   ]
  },
  {
   "cell_type": "code",
   "execution_count": 12,
   "metadata": {
    "kernel": "SoS"
   },
   "outputs": [
    {
     "data": {
      "text/html": [
       "\n",
       "<table id=\"workflow_b409da80019e4d148669108ad300ce5d\" class=\"workflow_table  completed\">\n",
       "  <tr>\n",
       "        <td class=\"workflow_icon\">\n",
       "          <i id=\"workflow_status_icon_b409da80019e4d148669108ad300ce5d\" class=\"fa fa-2x fa-fw fa-check-square-o\"\n",
       "            ></i>\n",
       "        </td>\n",
       "        <td class=\"workflow_name\">\n",
       "          <pre><span id=\"workflow_name_b409da80019e4d148669108ad300ce5d\">step</span></pre>\n",
       "        </td>\n",
       "        <td class=\"workflow_id\">\n",
       "          <span>Workflow ID</span></br>\n",
       "          <pre><i class=\"fa fa-fw fa-sitemap\"></i><span id=\"workflow_id_b409da80019e4d148669108ad300ce5d\">2cc805e966b4890b</span></pre>\n",
       "        </td>\n",
       "        <td class=\"workflow_index\">\n",
       "          <span>Index</span></br>\n",
       "          <pre>#<span id=\"workflow_index_b409da80019e4d148669108ad300ce5d\">3</span></pre>\n",
       "        </td>\n",
       "        <td class=\"workflow_status\">\n",
       "          <span id=\"status_text_b409da80019e4d148669108ad300ce5d\">completed</span></br>\n",
       "          <pre><i class=\"fa fa-fw fa-clock-o\"></i><time id=\"status_duration_b409da80019e4d148669108ad300ce5d\" class=\"completed\" datetime=\"1545540898120.4749\">Ran for < 5 seconds</time></pre>\n",
       "        </td>\n",
       "  </tr>\n",
       "</table>\n"
      ]
     },
     "metadata": {},
     "output_type": "display_data"
    },
    {
     "name": "stdout",
     "output_type": "stream",
     "text": [
      "c.txt a.txt b.txt\n",
      "['step_30', 'prev', 'prev']\n"
     ]
    }
   ],
   "source": [
    "!touch c.txt\n",
    "%run\n",
    "[step_10]\n",
    "output: 'a.txt'\n",
    "_output.touch()\n",
    "\n",
    "[step_20]\n",
    "output: 'b.txt'\n",
    "_output.touch()\n",
    "\n",
    "[step_30]\n",
    "input: 'c.txt', prev=output_from(['step_10', 'step_20'])\n",
    "print(_input)\n",
    "print(_input.sources)"
   ]
  },
  {
   "cell_type": "markdown",
   "metadata": {
    "kernel": "SoS"
   },
   "source": [
    "The `source` information can be used to select subsets of targets according to their sources. For example, `_intput['prev']` would generate a `sos_targets` with all targets from source `prev`."
   ]
  },
  {
   "cell_type": "code",
   "execution_count": 14,
   "metadata": {
    "kernel": "SoS"
   },
   "outputs": [
    {
     "data": {
      "text/html": [
       "\n",
       "<table id=\"workflow_930125e09f61438380168fce5ca74634\" class=\"workflow_table  completed\">\n",
       "  <tr>\n",
       "        <td class=\"workflow_icon\">\n",
       "          <i id=\"workflow_status_icon_930125e09f61438380168fce5ca74634\" class=\"fa fa-2x fa-fw fa-check-square-o\"\n",
       "            ></i>\n",
       "        </td>\n",
       "        <td class=\"workflow_name\">\n",
       "          <pre><span id=\"workflow_name_930125e09f61438380168fce5ca74634\">step</span></pre>\n",
       "        </td>\n",
       "        <td class=\"workflow_id\">\n",
       "          <span>Workflow ID</span></br>\n",
       "          <pre><i class=\"fa fa-fw fa-sitemap\"></i><span id=\"workflow_id_930125e09f61438380168fce5ca74634\">8ca6d85f4843b9f8</span></pre>\n",
       "        </td>\n",
       "        <td class=\"workflow_index\">\n",
       "          <span>Index</span></br>\n",
       "          <pre>#<span id=\"workflow_index_930125e09f61438380168fce5ca74634\">5</span></pre>\n",
       "        </td>\n",
       "        <td class=\"workflow_status\">\n",
       "          <span id=\"status_text_930125e09f61438380168fce5ca74634\">completed</span></br>\n",
       "          <pre><i class=\"fa fa-fw fa-clock-o\"></i><time id=\"status_duration_930125e09f61438380168fce5ca74634\" class=\"completed\" datetime=\"1545541099705.5737\">Ran for 0 sec</time></pre>\n",
       "        </td>\n",
       "  </tr>\n",
       "</table>\n"
      ]
     },
     "metadata": {},
     "output_type": "display_data"
    },
    {
     "name": "stdout",
     "output_type": "stream",
     "text": [
      "a.txt\n",
      "['step_10']\n"
     ]
    }
   ],
   "source": [
    "!touch c.txt\n",
    "%run\n",
    "[step_10]\n",
    "output: 'a.txt'\n",
    "_output.touch()\n",
    "\n",
    "[step_20]\n",
    "output: 'b.txt'\n",
    "_output.touch()\n",
    "\n",
    "[step_30]\n",
    "input: 'c.txt', output_from(['step_10', 'step_20'])\n",
    "print(_input['step_10'])\n",
    "print(_input['step_10'].sources)"
   ]
  },
  {
   "cell_type": "markdown",
   "metadata": {
    "kernel": "SoS"
   },
   "source": [
    "#### `groups` of `sos_targets`"
   ]
  },
  {
   "cell_type": "markdown",
   "metadata": {
    "kernel": "SoS"
   },
   "source": [
    "As we have seen, targets in a `sos_targets` can be grouped in many ways and `_input` contains subsets of the targets and is the input for each substep. For example, in the following example, the 4 input files are grouped into two groups of the same size. The step is executed twice, each time for a different group.  `step_input.groups` contains a list of `sos_targets` that becomes `_input` of the substep."
   ]
  },
  {
   "cell_type": "code",
   "execution_count": 18,
   "metadata": {
    "kernel": "SoS",
    "scrolled": true
   },
   "outputs": [
    {
     "name": "stdout",
     "output_type": "stream",
     "text": [
      "\n",
      "Group 0\n",
      "[[file_target('a.txt'), file_target('b.txt')], [file_target('c.txt'), file_target('d.txt')]]\n",
      "a.txt b.txt\n",
      "\n",
      "Group 1\n",
      "[[file_target('a.txt'), file_target('b.txt')], [file_target('c.txt'), file_target('d.txt')]]\n",
      "c.txt d.txt\n"
     ]
    }
   ],
   "source": [
    "input: 'a.txt', 'b.txt', 'c.txt', 'd.txt', group_by=2\n",
    "print(f'\\nGroup {_index}')\n",
    "print(step_input.groups)\n",
    "print(_input)"
   ]
  },
  {
   "cell_type": "markdown",
   "metadata": {
    "kernel": "SoS"
   },
   "source": [
    "#### `zap` file targets "
   ]
  },
  {
   "cell_type": "markdown",
   "metadata": {
    "kernel": "SoS"
   },
   "source": [
    "`sos_targets` accepts the `zap()` function which `zap` all file targets in ths list. This technique is usually used to remove large intermediate files during the execution of the workflow. For example, if you have a workflow that downloads and processs large files, you can do something like\n",
    "\n",
    "```\n",
    "[download: provides='{file}.fastq']\n",
    "download: expand=True\n",
    "    http://some_url/{file}.fastq\n",
    "\n",
    "[default]\n",
    "input: [f'{x}.fastq' for x in range(1000)], group_by=1\n",
    "output: _input.with_suffix('.bam')\n",
    "sh: expand=True\n",
    "   process _input to _output\n",
    "  \n",
    "_input.zap()\n",
    "```\n",
    "\n",
    "In this example, 1000 `fastq` files are downloaded and processed, but the input files are zapped  after they are processed. Although the files have been removed, re-running the workflow will not download and process the files again because the downloaded files still considered to exist by SoS."
   ]
  },
  {
   "cell_type": "markdown",
   "metadata": {
    "kernel": "SoS"
   },
   "source": [
    "## Further reading\n",
    "\n",
    "* "
   ]
  }
 ],
 "metadata": {
  "kernelspec": {
   "display_name": "SoS",
   "language": "sos",
   "name": "sos"
  },
  "language_info": {
   "codemirror_mode": "sos",
   "file_extension": ".sos",
   "mimetype": "text/x-sos",
   "name": "sos",
   "nbconvert_exporter": "sos_notebook.converter.SoS_Exporter",
   "pygments_lexer": "sos"
  },
  "sos": {
   "kernels": [
    [
     "Bash",
     "bash",
     "Bash",
     "#E6EEFF"
    ],
    [
     "R",
     "ir",
     "R",
     "#DCDCDA"
    ],
    [
     "SoS",
     "sos",
     "",
     ""
    ]
   ],
   "panel": {
    "displayed": true,
    "height": 0
   },
   "version": "0.17.5"
  }
 },
 "nbformat": 4,
 "nbformat_minor": 2
}
