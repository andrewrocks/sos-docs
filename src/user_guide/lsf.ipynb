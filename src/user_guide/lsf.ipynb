{
 "cells": [
  {
   "cell_type": "markdown",
   "metadata": {
    "kernel": "SoS"
   },
   "source": [
    "# Title"
   ]
  },
  {
   "cell_type": "markdown",
   "metadata": {
    "kernel": "SoS"
   },
   "source": [
    "* **Difficulty level**: easy\n",
    "* **Time need to lean**: 10 minutes or less\n",
    "* **Key points**:\n",
    "  * a\n",
    "  "
   ]
  },
  {
   "cell_type": "markdown",
   "metadata": {
    "kernel": "SoS"
   },
   "source": [
    "## h2"
   ]
  },
  {
   "cell_type": "markdown",
   "metadata": {
    "kernel": "SoS"
   },
   "source": [
    "#### Sample LFS configuration"
   ]
  },
  {
   "cell_type": "markdown",
   "metadata": {
    "kernel": "SoS"
   },
   "source": [
    "```\n",
    "    lfs:\n",
    "        address: host.url\n",
    "        description: cluster with LSF\n",
    "        paths:\n",
    "            home: /rsrch2/bcb/{user_name}            \n",
    "        queue_type: pbs\n",
    "        status_check_interval: 30\n",
    "        wait_for_task: false\n",
    "        job_template: |\n",
    "            #!/bin/bash\n",
    "            #BSUB -J {task}\n",
    "            #BSUB -q {'short' if int(walltime.split(':')[0]) < 24 else 'long'}\n",
    "            #BSUB -n {cores}\n",
    "            #BSUB -M {mem//10**9}G\n",
    "            #BSUB -W 1:0\n",
    "            #BSUB -o {home_dir}/.sos/tasks/{task}.out\n",
    "            #BSUB -e {home_dir}/.sos/tasks/{task}.err\n",
    "            #BSUB -N\n",
    "            #BSUB -u email@address\n",
    "            cd {cur_dir}\n",
    "            sos execute {task} -v {verbosity} -s {sig_mode} {'--dryrun' if run_mode == 'dryrun' else ''}\n",
    "        max_running_jobs: 100\n",
    "        submit_cmd: bsub < {job_file}\n",
    "        submit_cmd_output: 'Job <{job_id}> is submitted to queue <{queue}>'\n",
    "        status_cmd: bjobs {job_id}\n",
    "        kill_cmd: bkill {job_id}\n",
    "```"
   ]
  },
  {
   "cell_type": "markdown",
   "metadata": {
    "kernel": "SoS"
   },
   "source": [
    "## Further reading\n",
    "\n",
    "* "
   ]
  }
 ],
 "metadata": {
  "kernelspec": {
   "display_name": "SoS",
   "language": "sos",
   "name": "sos"
  },
  "language_info": {
   "codemirror_mode": "sos",
   "file_extension": ".sos",
   "mimetype": "text/x-sos",
   "name": "sos",
   "nbconvert_exporter": "sos_notebook.converter.SoS_Exporter",
   "pygments_lexer": "sos"
  },
  "sos": {
   "kernels": [
    [
     "Bash",
     "bash",
     "Bash",
     "#E6EEFF"
    ],
    [
     "R",
     "ir",
     "R",
     "#DCDCDA"
    ],
    [
     "SoS",
     "sos",
     "",
     ""
    ]
   ],
   "panel": {
    "displayed": true,
    "height": 0
   },
   "version": "0.17.4"
  }
 },
 "nbformat": 4,
 "nbformat_minor": 2
}
