{
 "cells": [
  {
   "cell_type": "markdown",
   "metadata": {
    "kernel": "SoS"
   },
   "source": [
    "# How to keep track of revisions to the notebook"
   ]
  },
  {
   "cell_type": "markdown",
   "metadata": {
    "kernel": "SoS"
   },
   "source": [
    "* **Difficulty level**: easy\n",
    "* **Time need to lean**: 5 minutes or less\n",
    "* **Key points**:\n",
    "  * Magic `%revisions` shows the revision of the document in a repository\n",
    "  * Options of `git log` command can be used\n",
    "  "
   ]
  },
  {
   "cell_type": "markdown",
   "metadata": {
    "kernel": "SoS"
   },
   "source": [
    "## <a id=\"magic_revisions\"></a>`%revisions` "
   ]
  },
  {
   "cell_type": "markdown",
   "metadata": {
    "kernel": "SoS"
   },
   "source": [
    "The `%revisions` magic displays revisions of the current document if the document is managed by git.\n",
    "\n",
    "This magic accepts a few options:"
   ]
  },
  {
   "cell_type": "code",
   "execution_count": 1,
   "metadata": {
    "kernel": "SoS"
   },
   "outputs": [
    {
     "name": "stdout",
     "output_type": "stream",
     "text": [
      "usage: %revision [-h] [-s [SOURCE]] [-l LINKS [LINKS ...]]\n",
      "\n",
      "Revision history of the document, parsed from the log message of the notebook\n",
      "if it is kept in a git repository. Additional parameters to \"git log\" command\n",
      "(e.g. -n 5 --since --after) could be specified to limit the revisions to\n",
      "display.\n",
      "\n",
      "optional arguments:\n",
      "  -h, --help            show this help message and exit\n",
      "  -s [SOURCE], --source [SOURCE]\n",
      "                        Source URL to to create links for revisions. SoS\n",
      "                        automatically parse source URL of the origin and\n",
      "                        provides variables \"repo\" for complete origin URL\n",
      "                        without trailing \".git\" (e.g.\n",
      "                        https://github.com/vatlab/sos-notebook), \"path\" for\n",
      "                        complete path name (e.g. src/document/doc.ipynb),\n",
      "                        \"filename\" for only the name of the \"path\", and\n",
      "                        \"revision\" for revisions. Because sos interpolates\n",
      "                        command line by default, variables in URL template\n",
      "                        should be included with double braceses (e.g. --source\n",
      "                        {{repo}}/blob/{{revision}}/{{path}})). If this option\n",
      "                        is provided without value and the document is hosted\n",
      "                        on github, a default template will be provided.\n",
      "  -l LINKS [LINKS ...], --links LINKS [LINKS ...]\n",
      "                        Name and URL or additional links for related files\n",
      "                        (e.g. --links report URL_to_repo ) with URL\n",
      "                        interpolated as option --source.\n"
     ]
    }
   ],
   "source": [
    "%revisions -h"
   ]
  },
  {
   "cell_type": "markdown",
   "metadata": {
    "kernel": "SoS"
   },
   "source": [
    "First, any options that are acceptable to [command `git log`](https://git-scm.com/docs/git-log) can be passed to this magic. The most useful ones are options to limit the commits to display such as `-n` (number of commits to output), `--since=<date>` and `--after=<date>`. For example, you can display five most recent commits with command"
   ]
  },
  {
   "cell_type": "code",
   "execution_count": 2,
   "metadata": {
    "kernel": "SoS"
   },
   "outputs": [
    {
     "data": {
      "text/html": [
       "\n",
       "        <table class=\"revision_table\">\n",
       "        <tr>\n",
       "        <th>Revision</th>\n",
       "        <th>Author</th>\n",
       "        <th>Date</th>\n",
       "        <th>Message</th>\n",
       "        <tr>\n",
       "        <tr><td><span class=\"revision_id\">214c618<span></td>\n",
       "<td>Bo Peng</td>\n",
       "<td>2018-05-20</td>\n",
       "<td>Fix url to HTML</td></tr><tr><td><span class=\"revision_id\">e28e7c0<span></td>\n",
       "<td>Bo Peng</td>\n",
       "<td>2018-05-20</td>\n",
       "<td>Update doc for %revisions</td></tr><tr><td><span class=\"revision_id\">c3d148b<span></td>\n",
       "<td>Bo Peng</td>\n",
       "<td>2018-05-18</td>\n",
       "<td>Shorten %revisions magic in doc</td></tr><tr><td><span class=\"revision_id\">6784599<span></td>\n",
       "<td>Bo Peng</td>\n",
       "<td>2018-05-18</td>\n",
       "<td>Update doc with the new %revisions magic vatlab/sos-notebook#74</td></tr><tr><td><span class=\"revision_id\">bf35ae9<span></td>\n",
       "<td>Bo Peng</td>\n",
       "<td>2018-05-08</td>\n",
       "<td>Update docs on magic %cd</td></tr></table>"
      ]
     },
     "metadata": {},
     "output_type": "display_data"
    }
   ],
   "source": [
    "%revisions -n 5"
   ]
  },
  {
   "cell_type": "markdown",
   "metadata": {
    "kernel": "SoS"
   },
   "source": [
    "Another useful option is the `--source` option that allows you to link the revision to specific URL (e.g. github). This option should be specified as a string with `repo`, `revision`, `path`, and `filename` interpolated as URL to the repository, revision id, and path and name of the document respectively. Here `repo` is retrieved from the output of command `git ls-remote --get-url origin` without trailing `.git` (if available). Because SoS Notebook interpolates magics automatically, you should include variables in double braces.\n",
    "\n",
    "For example, the github URL of a particular revision of this document is `https://github.com/REPO/blob/REVISION/PATH/TO/FILENAME` so the command to link this document to its source on github would be:"
   ]
  },
  {
   "cell_type": "code",
   "execution_count": 3,
   "metadata": {
    "kernel": "SoS"
   },
   "outputs": [
    {
     "data": {
      "text/html": [
       "<div class=\"sos_hint\">> %revisions -n 5 --source '{repo}/blob/{revision}/{path}'<br></div>"
      ]
     },
     "metadata": {},
     "output_type": "display_data"
    },
    {
     "data": {
      "text/html": [
       "\n",
       "        <table class=\"revision_table\">\n",
       "        <tr>\n",
       "        <th>Revision</th>\n",
       "        <th>Author</th>\n",
       "        <th>Date</th>\n",
       "        <th>Message</th>\n",
       "        <tr>\n",
       "        <tr><td><a target=\"_blank\" href=\"https://github.com/vatlab/sos-docs/blob/214c618beef2d087f2c196f862644dfbc4ec158e/src/documentation/SoS_Magics.ipynb\"><span class=\"revision_id\">214c618<span></a></td>\n",
       "<td>Bo Peng</td>\n",
       "<td>2018-05-20</td>\n",
       "<td>Fix url to HTML</td></tr><tr><td><a target=\"_blank\" href=\"https://github.com/vatlab/sos-docs/blob/e28e7c0e458e840fc16018ad722a2e1ce0345218/src/documentation/SoS_Magics.ipynb\"><span class=\"revision_id\">e28e7c0<span></a></td>\n",
       "<td>Bo Peng</td>\n",
       "<td>2018-05-20</td>\n",
       "<td>Update doc for %revisions</td></tr><tr><td><a target=\"_blank\" href=\"https://github.com/vatlab/sos-docs/blob/c3d148bb948391366820842ec23a6ca092f307a1/src/documentation/SoS_Magics.ipynb\"><span class=\"revision_id\">c3d148b<span></a></td>\n",
       "<td>Bo Peng</td>\n",
       "<td>2018-05-18</td>\n",
       "<td>Shorten %revisions magic in doc</td></tr><tr><td><a target=\"_blank\" href=\"https://github.com/vatlab/sos-docs/blob/6784599ccef31fc4b68bbbadb8aeb97a292456b3/src/documentation/SoS_Magics.ipynb\"><span class=\"revision_id\">6784599<span></a></td>\n",
       "<td>Bo Peng</td>\n",
       "<td>2018-05-18</td>\n",
       "<td>Update doc with the new %revisions magic vatlab/sos-notebook#74</td></tr><tr><td><a target=\"_blank\" href=\"https://github.com/vatlab/sos-docs/blob/bf35ae9cb26791800a82c183a5553ec511a44374/src/documentation/SoS_Magics.ipynb\"><span class=\"revision_id\">bf35ae9<span></a></td>\n",
       "<td>Bo Peng</td>\n",
       "<td>2018-05-08</td>\n",
       "<td>Update docs on magic %cd</td></tr></table>"
      ]
     },
     "metadata": {},
     "output_type": "display_data"
    }
   ],
   "source": [
    "%revisions -n 5 --source '{{repo}}/blob/{{revision}}/{{path}}'"
   ]
  },
  {
   "cell_type": "markdown",
   "metadata": {
    "kernel": "SoS"
   },
   "source": [
    "Because `github` is the most widely used git repository, we provide the aforementioned template by default if you specify option `--source` without value. That is to say, if your document is hosted in `github.com`, you can simply use\n",
    "\n",
    "```\n",
    "%revisions --source\n",
    "```\n",
    "to link revisions to github."
   ]
  },
  {
   "cell_type": "markdown",
   "metadata": {
    "kernel": "SoS"
   },
   "source": [
    "The links do not have to point to the source of the document. For example, because we always convert this document to HTML in another directory and display it on our homepage, we can link the revisions to the HTML version as follows:"
   ]
  },
  {
   "cell_type": "code",
   "execution_count": 4,
   "metadata": {
    "kernel": "SoS"
   },
   "outputs": [
    {
     "data": {
      "text/html": [
       "<div class=\"sos_hint\">> %revisions -n 5   --source '{repo}/blob/{revision}/doc/documentation/{filename[:-6]}.html'<br></div>"
      ]
     },
     "metadata": {},
     "output_type": "display_data"
    },
    {
     "data": {
      "text/html": [
       "\n",
       "        <table class=\"revision_table\">\n",
       "        <tr>\n",
       "        <th>Revision</th>\n",
       "        <th>Author</th>\n",
       "        <th>Date</th>\n",
       "        <th>Message</th>\n",
       "        <tr>\n",
       "        <tr><td><a target=\"_blank\" href=\"https://github.com/vatlab/sos-docs/blob/214c618beef2d087f2c196f862644dfbc4ec158e/doc/documentation/SoS_Magics.html\"><span class=\"revision_id\">214c618<span></a></td>\n",
       "<td>Bo Peng</td>\n",
       "<td>2018-05-20</td>\n",
       "<td>Fix url to HTML</td></tr><tr><td><a target=\"_blank\" href=\"https://github.com/vatlab/sos-docs/blob/e28e7c0e458e840fc16018ad722a2e1ce0345218/doc/documentation/SoS_Magics.html\"><span class=\"revision_id\">e28e7c0<span></a></td>\n",
       "<td>Bo Peng</td>\n",
       "<td>2018-05-20</td>\n",
       "<td>Update doc for %revisions</td></tr><tr><td><a target=\"_blank\" href=\"https://github.com/vatlab/sos-docs/blob/c3d148bb948391366820842ec23a6ca092f307a1/doc/documentation/SoS_Magics.html\"><span class=\"revision_id\">c3d148b<span></a></td>\n",
       "<td>Bo Peng</td>\n",
       "<td>2018-05-18</td>\n",
       "<td>Shorten %revisions magic in doc</td></tr><tr><td><a target=\"_blank\" href=\"https://github.com/vatlab/sos-docs/blob/6784599ccef31fc4b68bbbadb8aeb97a292456b3/doc/documentation/SoS_Magics.html\"><span class=\"revision_id\">6784599<span></a></td>\n",
       "<td>Bo Peng</td>\n",
       "<td>2018-05-18</td>\n",
       "<td>Update doc with the new %revisions magic vatlab/sos-notebook#74</td></tr><tr><td><a target=\"_blank\" href=\"https://github.com/vatlab/sos-docs/blob/bf35ae9cb26791800a82c183a5553ec511a44374/doc/documentation/SoS_Magics.html\"><span class=\"revision_id\">bf35ae9<span></a></td>\n",
       "<td>Bo Peng</td>\n",
       "<td>2018-05-08</td>\n",
       "<td>Update docs on magic %cd</td></tr></table>"
      ]
     },
     "metadata": {},
     "output_type": "display_data"
    }
   ],
   "source": [
    "%revisions -n 5 \\\n",
    "  --source '{{repo}}/blob/{{revision}}/doc/documentation/{{filename[:-6]}}.html'"
   ]
  },
  {
   "cell_type": "markdown",
   "metadata": {
    "kernel": "SoS"
   },
   "source": [
    "And if you would like to display one or more links next to the revision number, you can do so with the `--links` option:"
   ]
  },
  {
   "cell_type": "code",
   "execution_count": 5,
   "metadata": {
    "kernel": "SoS"
   },
   "outputs": [
    {
     "data": {
      "text/html": [
       "<div class=\"sos_hint\">> %revisions -n 5 --source    --links HTML '{repo}/blob/{revision}/doc/documentation/{filename[:-6]}.html'<br></div>"
      ]
     },
     "metadata": {},
     "output_type": "display_data"
    },
    {
     "data": {
      "text/html": [
       "\n",
       "        <table class=\"revision_table\">\n",
       "        <tr>\n",
       "        <th>Revision</th>\n",
       "        <th>Author</th>\n",
       "        <th>Date</th>\n",
       "        <th>Message</th>\n",
       "        <tr>\n",
       "        <tr><td><a target=\"_blank\" href=\"https://github.com/vatlab/sos-docs/blob/214c618beef2d087f2c196f862644dfbc4ec158e/src/documentation/SoS_Magics.ipynb\"><span class=\"revision_id\">214c618<span></a> (<a target=\"_blank\" href=\"https://github.com/vatlab/sos-docs/blob/214c618beef2d087f2c196f862644dfbc4ec158e/doc/documentation/SoS_Magics.html\">HTML</a>)</td>\n",
       "<td>Bo Peng</td>\n",
       "<td>2018-05-20</td>\n",
       "<td>Fix url to HTML</td></tr><tr><td><a target=\"_blank\" href=\"https://github.com/vatlab/sos-docs/blob/e28e7c0e458e840fc16018ad722a2e1ce0345218/src/documentation/SoS_Magics.ipynb\"><span class=\"revision_id\">e28e7c0<span></a> (<a target=\"_blank\" href=\"https://github.com/vatlab/sos-docs/blob/e28e7c0e458e840fc16018ad722a2e1ce0345218/doc/documentation/SoS_Magics.html\">HTML</a>)</td>\n",
       "<td>Bo Peng</td>\n",
       "<td>2018-05-20</td>\n",
       "<td>Update doc for %revisions</td></tr><tr><td><a target=\"_blank\" href=\"https://github.com/vatlab/sos-docs/blob/c3d148bb948391366820842ec23a6ca092f307a1/src/documentation/SoS_Magics.ipynb\"><span class=\"revision_id\">c3d148b<span></a> (<a target=\"_blank\" href=\"https://github.com/vatlab/sos-docs/blob/c3d148bb948391366820842ec23a6ca092f307a1/doc/documentation/SoS_Magics.html\">HTML</a>)</td>\n",
       "<td>Bo Peng</td>\n",
       "<td>2018-05-18</td>\n",
       "<td>Shorten %revisions magic in doc</td></tr><tr><td><a target=\"_blank\" href=\"https://github.com/vatlab/sos-docs/blob/6784599ccef31fc4b68bbbadb8aeb97a292456b3/src/documentation/SoS_Magics.ipynb\"><span class=\"revision_id\">6784599<span></a> (<a target=\"_blank\" href=\"https://github.com/vatlab/sos-docs/blob/6784599ccef31fc4b68bbbadb8aeb97a292456b3/doc/documentation/SoS_Magics.html\">HTML</a>)</td>\n",
       "<td>Bo Peng</td>\n",
       "<td>2018-05-18</td>\n",
       "<td>Update doc with the new %revisions magic vatlab/sos-notebook#74</td></tr><tr><td><a target=\"_blank\" href=\"https://github.com/vatlab/sos-docs/blob/bf35ae9cb26791800a82c183a5553ec511a44374/src/documentation/SoS_Magics.ipynb\"><span class=\"revision_id\">bf35ae9<span></a> (<a target=\"_blank\" href=\"https://github.com/vatlab/sos-docs/blob/bf35ae9cb26791800a82c183a5553ec511a44374/doc/documentation/SoS_Magics.html\">HTML</a>)</td>\n",
       "<td>Bo Peng</td>\n",
       "<td>2018-05-08</td>\n",
       "<td>Update docs on magic %cd</td></tr></table>"
      ]
     },
     "metadata": {},
     "output_type": "display_data"
    }
   ],
   "source": [
    "%revisions -n 5 --source  \\\n",
    "  --links HTML '{{repo}}/blob/{{revision}}/doc/documentation/{{filename[:-6]}}.html'"
   ]
  },
  {
   "cell_type": "markdown",
   "metadata": {
    "kernel": "SoS"
   },
   "source": [
    "## Further reading\n",
    "\n",
    "* "
   ]
  }
 ],
 "metadata": {
  "kernelspec": {
   "display_name": "SoS",
   "language": "sos",
   "name": "sos"
  },
  "language_info": {
   "codemirror_mode": "sos",
   "file_extension": ".sos",
   "mimetype": "text/x-sos",
   "name": "sos",
   "nbconvert_exporter": "sos_notebook.converter.SoS_Exporter",
   "pygments_lexer": "sos"
  },
  "sos": {
   "kernels": [
    [
     "Bash",
     "bash",
     "Bash",
     "#E6EEFF"
    ],
    [
     "R",
     "ir",
     "R",
     "#DCDCDA"
    ],
    [
     "SoS",
     "sos",
     "",
     ""
    ]
   ],
   "panel": {
    "displayed": true,
    "height": 0
   },
   "version": "0.17.5"
  }
 },
 "nbformat": 4,
 "nbformat_minor": 2
}
