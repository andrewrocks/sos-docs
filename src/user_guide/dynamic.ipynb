{
 "cells": [
  {
   "cell_type": "markdown",
   "metadata": {
    "kernel": "SoS"
   },
   "source": [
    "# Title"
   ]
  },
  {
   "cell_type": "markdown",
   "metadata": {
    "kernel": "SoS"
   },
   "source": [
    "* **Difficulty level**: easy\n",
    "* **Time need to lean**: 10 minutes or less\n",
    "* **Key points**:\n",
    "  * a\n",
    "  "
   ]
  },
  {
   "cell_type": "markdown",
   "metadata": {
    "kernel": "SoS"
   },
   "source": [
    "### `dynamic` input files"
   ]
  },
  {
   "cell_type": "markdown",
   "metadata": {
    "kernel": "SoS"
   },
   "source": [
    "In order to determine the best execution strategy, SoS evaluates all expressions for all steps before the execution of a workflow to figure\n",
    "out input and output of steps. This works most of the time but sometimes the input of a step can only be determined at runtime. For example,\n",
    "if you would like your workflow to automatically scan an input directory and process all fasta files under it, or if a previous step produces\n",
    "files that cannot be determined beforehand, you can specify input files as follows,\n",
    "\n",
    "```python\n",
    "input: 'input/*.fasta'\n",
    "```\n",
    "\n",
    "The problem is that no file or a wrong set files might exist during the planing stage so SoS might skip this step or start the step\n",
    "with a wrong set of files. To address this problem, you can declare the input files as **dynamic** by passing a `dynamic` object\n",
    "\n",
    "```python\n",
    "input: dynamic('input/*.fasta')\n",
    "```\n",
    "\n",
    "This tells SoS that the input of this step can only be determined at runtime and will execute the step only after all its previous\n",
    "steps have been completed."
   ]
  },
  {
   "cell_type": "markdown",
   "metadata": {
    "kernel": "SoS"
   },
   "source": [
    "### `dynamic` output files\n",
    "\n",
    "Similar to the cases with [dynamic input files](#dynamically-determined-input-files-function-dynamic), the output of some steps could also not be determined beforehand. For example, with the following script that generates `html` files that cannot be determined during dry run, "
   ]
  },
  {
   "cell_type": "code",
   "execution_count": 25,
   "metadata": {
    "kernel": "sos"
   },
   "outputs": [
    {
     "name": "stdout",
     "output_type": "stream",
     "text": [
      "touch result_16.html\n",
      "touch result_10.html\n"
     ]
    },
    {
     "name": "stderr",
     "output_type": "stream",
     "text": [
      "\u001b[95mWARNING\u001b[0m: \u001b[95mFailed to create signature: output target *.html does not exist\u001b[0m\n",
      "Output target *.html does not exist after the completion of step default_10\n"
     ]
    }
   ],
   "source": [
    "%sandbox --expect-error\n",
    "%run\n",
    "[10]\n",
    "output: '*.html'\n",
    "\n",
    "import random\n",
    "for i in range(2):\n",
    "    run(f\"touch result_{random.randint(1, 20)}.html\")"
   ]
  },
  {
   "cell_type": "markdown",
   "metadata": {
    "kernel": "SoS"
   },
   "source": [
    "In this case, you will need to define the output as `dynamic` using a `dynamic` function."
   ]
  },
  {
   "cell_type": "code",
   "execution_count": 26,
   "metadata": {
    "kernel": "SoS"
   },
   "outputs": [
    {
     "name": "stdout",
     "output_type": "stream",
     "text": [
      "touch result_15.html\n",
      "touch result_7.html\n"
     ]
    }
   ],
   "source": [
    "%sandbox\n",
    "%run\n",
    "[10]\n",
    "output: dynamic('*.html')\n",
    "\n",
    "import random\n",
    "for i in range(2):\n",
    "    run(f\"touch result_{random.randint(1, 20)}.html\")\n"
   ]
  },
  {
   "cell_type": "markdown",
   "metadata": {
    "kernel": "SoS"
   },
   "source": [
    "In this case, SoS knows that the output can only be determined after the completion of the step."
   ]
  },
  {
   "cell_type": "markdown",
   "metadata": {
    "kernel": "SoS"
   },
   "source": [
    "## Further reading\n",
    "\n",
    "* "
   ]
  }
 ],
 "metadata": {
  "kernelspec": {
   "display_name": "SoS",
   "language": "sos",
   "name": "sos"
  },
  "language_info": {
   "codemirror_mode": "sos",
   "file_extension": ".sos",
   "mimetype": "text/x-sos",
   "name": "sos",
   "nbconvert_exporter": "sos_notebook.converter.SoS_Exporter",
   "pygments_lexer": "sos"
  },
  "sos": {
   "kernels": [
    [
     "Bash",
     "bash",
     "Bash",
     "#E6EEFF"
    ],
    [
     "R",
     "ir",
     "R",
     "#DCDCDA"
    ],
    [
     "SoS",
     "sos",
     "",
     ""
    ]
   ],
   "panel": {
    "displayed": true,
    "height": 0
   },
   "version": "0.17.4"
  }
 },
 "nbformat": 4,
 "nbformat_minor": 2
}
