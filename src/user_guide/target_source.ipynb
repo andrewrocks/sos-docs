{
 "cells": [
  {
   "cell_type": "markdown",
   "metadata": {
    "kernel": "SoS"
   },
   "source": [
    "# How to group input and output targets by names"
   ]
  },
  {
   "cell_type": "markdown",
   "metadata": {
    "kernel": "SoS"
   },
   "source": [
    "* **Difficulty level**: easy\n",
    "* **Time need to learn**: 10 minutes or less\n",
    "* **Key points**:\n",
    "  * `_input` or `_output` can be grouped by the **sources** of input and output targets\n",
    "  * Use keyword arguments to specify sources of input or output arguments\n",
    "  * `_input[name]` and `_output[name]` return subset of `_input` or `_output` with source `name`\n",
    "  * Outputs returned from `output_from` and `named_output` can have their own sources  "
   ]
  },
  {
   "cell_type": "markdown",
   "metadata": {
    "kernel": "SoS"
   },
   "source": [
    "## Sources of `sos_targets`"
   ]
  },
  {
   "cell_type": "markdown",
   "metadata": {
    "kernel": "SoS"
   },
   "source": [
    "All input targets of SoS steps have a **source**, which specifies where the target comes from. The `sources` of variables in type `sos_targets` (e.g. variables `_input`, `_output`, and `step_input`) can be used to inspect the source of each target."
   ]
  },
  {
   "cell_type": "markdown",
   "metadata": {
    "kernel": "SoS"
   },
   "source": [
    " <div class=\"bs-callout bs-callout-primary\" role=\"alert\">\n",
    "    <h4>The <code>sources</code> of <code>sos_targets</code></h4>\n",
    "    <p>Each element in a <code>sos_targets</code> object (e.g. <code>_input</code>) has a <em>source</em> attribute.</p>\n",
    "    <ul>\n",
    "        <li>The sources of <code>sos_targets</code> can be retrieved by attribute <code>.sources</code></li>\n",
    "        <li>A slice of the <code>sos_targets</code>, namely all elements having a specified source, can be obtained by <code>[name]</code>. Groups of the <code>sos_targets</code> will also be sliced</li>\n",
    "        <li>The default source of input and output files are the steps from which they are inputted or generated</li>\n",
    "        <li>Keyword arguments (e.g. <code>summary='summary.html'</code>) overrides the default sources</li>        \n",
    "    </ul>\n",
    " </div>"
   ]
  },
  {
   "cell_type": "markdown",
   "metadata": {
    "kernel": "SoS"
   },
   "source": [
    "By default, targets specified directly have the source of the name of the step in which they are specified."
   ]
  },
  {
   "cell_type": "code",
   "execution_count": 2,
   "metadata": {
    "kernel": "SoS"
   },
   "outputs": [],
   "source": [
    "# create a few input files to satisfy the input of sample workflows\n",
    "!touch a.txt b.txt ref.txt"
   ]
  },
  {
   "cell_type": "code",
   "execution_count": 3,
   "metadata": {
    "kernel": "SoS"
   },
   "outputs": [
    {
     "name": "stdout",
     "output_type": "stream",
     "text": [
      "step_input is a.txt b.txt c.txt d.txt with sources ['scratch_0', 'scratch_0', 'scratch_0', 'scratch_0']\n"
     ]
    }
   ],
   "source": [
    "in_files = ['a.txt', 'b.txt']\n",
    "input: in_files, 'c.txt', 'd.txt'\n",
    "\n",
    "print(f'step_input is {step_input} with sources {step_input.sources}')"
   ]
  },
  {
   "cell_type": "markdown",
   "metadata": {
    "kernel": "SoS"
   },
   "source": [
    "You can specify the sources of inputs with keyword arguments. For example, in the following step, the first two files are given a name `grp1` and the latter two are given a name `grp2`."
   ]
  },
  {
   "cell_type": "code",
   "execution_count": 4,
   "metadata": {
    "kernel": "SoS"
   },
   "outputs": [
    {
     "name": "stdout",
     "output_type": "stream",
     "text": [
      "step_input is a.txt b.txt c.txt d.txt with sources ['grp1', 'grp1', 'grp2', 'grp2']\n"
     ]
    }
   ],
   "source": [
    "input: grp1 = ['a.txt', 'b.txt'], grp2=['c.txt', 'd.txt']\n",
    "\n",
    "print(f'step_input is {step_input} with sources {step_input.sources}')"
   ]
  },
  {
   "cell_type": "markdown",
   "metadata": {
    "kernel": "SoS"
   },
   "source": [
    "The **sources of the targets can be used to partition input targets and refer them separately**. You can access groups of input files with with syntax `step_input[group_name]`."
   ]
  },
  {
   "cell_type": "code",
   "execution_count": 5,
   "metadata": {
    "kernel": "SoS"
   },
   "outputs": [
    {
     "name": "stdout",
     "output_type": "stream",
     "text": [
      "Input of step is a.txt b.txt ref.txt with sources ['data', 'data', 'reference']\n",
      "Data is a.txt b.txt\n",
      "Reference is ref.txt\n"
     ]
    }
   ],
   "source": [
    "input: data = ['a.txt', 'b.txt'], reference='ref.txt'\n",
    "\n",
    "print(f'Input of step is {_input} with sources {step_input.sources}')\n",
    "print(f'Data is {_input[\"data\"]}')\n",
    "print(f'Reference is {_input[\"reference\"]}')"
   ]
  },
  {
   "cell_type": "markdown",
   "metadata": {
    "kernel": "SoS"
   },
   "source": [
    "## Named inputs and outputs"
   ]
  },
  {
   "cell_type": "markdown",
   "metadata": {
    "kernel": "SoS"
   },
   "source": [
    " <div class=\"bs-callout bs-callout-primary\" role=\"alert\">\n",
    "    <h4>Named inputs and outputs</h4>\n",
    "    <p>Keyword arguments in input and output statements allows referring to subsets of inputs and outputs with names</p>\n",
    " </div>"
   ]
  },
  {
   "cell_type": "markdown",
   "metadata": {
    "kernel": "SoS"
   },
   "source": [
    "For example, in the following workflow, the input files are labelled with `data` and the reference is labelled with `reference`. In the output statement, the `data` part of the input (`_input[\"data\"]`) is used to generate results with label `result`.\n",
    "\n",
    "In the following `print` statement,  `_input[\"reference\"]`, `_output['result']` etc are used to obtain subsets of `_input` and `_output`. These subsets of inputs or outputs are usually called **named inputs** and **named outputs**."
   ]
  },
  {
   "cell_type": "code",
   "execution_count": 12,
   "metadata": {
    "kernel": "SoS"
   },
   "outputs": [
    {
     "data": {
      "text/html": []
     },
     "metadata": {},
     "output_type": "display_data"
    },
    {
     "name": "stdout",
     "output_type": "stream",
     "text": [
      "Input of step is a.txt b.txt ref.txt with sources ['data', 'data', 'reference']\n",
      "\n",
      "Input data is a.txt b.txt\n",
      "Reference is ref.txt\n",
      "\n",
      "Output is a.res b.res\n",
      "Result of output is a.res b.res\n",
      "\n"
     ]
    }
   ],
   "source": [
    "input: data = ['a.txt', 'b.txt'], reference='ref.txt'\n",
    "output: result=[x.with_suffix('.res') for x in _input[\"data\"]]\n",
    "_output.touch()                              \n",
    "\n",
    "print(f'''\\\n",
    "Input of step is {_input} with sources {step_input.sources}\n",
    "\n",
    "Input data is {_input[\"data\"]}\n",
    "Reference is {_input[\"reference\"]}\n",
    "\n",
    "Output is {_output}\n",
    "Result of output is {_output['result']}\n",
    "''')"
   ]
  },
  {
   "cell_type": "markdown",
   "metadata": {
    "kernel": "SoS"
   },
   "source": [
    "## Slices of `sos_targets` with groups *"
   ]
  },
  {
   "cell_type": "markdown",
   "metadata": {
    "kernel": "SoS"
   },
   "source": [
    "If a step has multiple substeps, variables `step_input` and `step_output` will consist of multiple groups. For example, the `_output` of step `[10]` has named output `A` and `B`. The output of the entire step consists of 4 groups, which are retrieved by function `output_from(-1)` (`-1` means last step). The expression\n",
    "\n",
    "```python\n",
    "input: output_from(-1)['A']\n",
    "```\n",
    "obtains all targets with source `A`, including the groups, so `_input` of step `20` consists of only targets with source `A`."
   ]
  },
  {
   "cell_type": "code",
   "execution_count": 5,
   "metadata": {
    "kernel": "SoS"
   },
   "outputs": [
    {
     "data": {
      "text/html": [
       "\n",
       "<table id=\"workflow_2c6a7093-d410-49ab-8875-d13cb8432888\" class=\"workflow_table  completed\">\n",
       "<tr>\n",
       "      <td class=\"workflow_icon\">\n",
       "        <i id=\"workflow_status_icon_2c6a7093-d410-49ab-8875-d13cb8432888\" class=\"fa fa-2x fa-fw fa-check-square-o\"\n",
       "        onmouseover='this.classList=\"fa fa-2x fa-fw fa-trash\"' onmouseleave='this.classList=\"fa fa-2x fa-fw fa-check-square-o\"' onclick=\"cancel_workflow(this.id.substring(21))\"></i>\n",
       "      </td>\n",
       "      <td class=\"workflow_name\">\n",
       "        <pre><span id=\"workflow_name_2c6a7093-d410-49ab-8875-d13cb8432888\">default</span></pre>\n",
       "      </td>\n",
       "      <td class=\"workflow_id\">\n",
       "        <span>Workflow ID</span></br>\n",
       "        <pre><i class=\"fa fa-fw fa-sitemap\"></i><span id=\"workflow_id_2c6a7093-d410-49ab-8875-d13cb8432888\">1d31d133dbc5cb66</span></pre>\n",
       "      </td>\n",
       "      <td class=\"workflow_index\">\n",
       "        <span>Index</span></br>\n",
       "        <pre>#<span id=\"workflow_index_2c6a7093-d410-49ab-8875-d13cb8432888\">3</span></pre>\n",
       "      </td>\n",
       "      <td class=\"workflow_status\">\n",
       "        <span id=\"status_text_2c6a7093-d410-49ab-8875-d13cb8432888\">completed</span></br>\n",
       "        <pre><i class=\"fa fa-fw fa-clock-o\"></i><time id=\"status_duration_2c6a7093-d410-49ab-8875-d13cb8432888\" class=\"completed\" datetime=\"1546891644529.9368\">Ran for < 5 seconds</time></pre>\n",
       "      </td>\n",
       "</tr>\n",
       "</table>\n"
      ]
     },
     "metadata": {},
     "output_type": "display_data"
    },
    {
     "name": "stdout",
     "output_type": "stream",
     "text": [
      "input of substep is a_0.txt\n",
      "input of substep is a_1.txt\n",
      "input of substep is a_2.txt\n",
      "input of substep is a_3.txt\n"
     ]
    }
   ],
   "source": [
    "%run -v0\n",
    "[10]\n",
    "input: for_each=dict(i=range(4))\n",
    "output: A=f'a_{i}.txt', B=f'b_{i}.txt'\n",
    "_output.touch()       \n",
    "\n",
    "print(f'Output step is {_output} with sources {_output.sources}')\n",
    "\n",
    "[20]\n",
    "input: output_from(-1)['A']\n",
    "print(f'input of substep is {_input}')"
   ]
  },
  {
   "cell_type": "markdown",
   "metadata": {
    "kernel": "SoS"
   },
   "source": [
    "## Further reading\n",
    "*  [How to use named output in data-flow style workflows](doc/user_guide/named_output.html)"
   ]
  }
 ],
 "metadata": {
  "kernelspec": {
   "display_name": "SoS",
   "language": "sos",
   "name": "sos"
  },
  "language_info": {
   "codemirror_mode": "sos",
   "file_extension": ".sos",
   "mimetype": "text/x-sos",
   "name": "sos",
   "nbconvert_exporter": "sos_notebook.converter.SoS_Exporter",
   "pygments_lexer": "sos"
  },
  "sos": {
   "kernels": [
    [
     "Bash",
     "bash",
     "Bash",
     "#E6EEFF"
    ],
    [
     "R",
     "ir",
     "R",
     "#DCDCDA"
    ],
    [
     "SoS",
     "sos",
     "",
     ""
    ]
   ],
   "panel": {
    "displayed": true,
    "height": 0
   },
   "version": "0.17.5"
  }
 },
 "nbformat": 4,
 "nbformat_minor": 2
}
