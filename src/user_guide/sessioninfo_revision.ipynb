{
 "cells": [
  {
   "cell_type": "markdown",
   "metadata": {
    "kernel": "SoS"
   },
   "source": [
    "# How to keep track of session and revision information of notebooks"
   ]
  },
  {
   "cell_type": "markdown",
   "metadata": {
    "kernel": "SoS"
   },
   "source": [
    "* **Difficulty level**: easy\n",
    "* **Time need to lean**: 10 minutes or less\n",
    "* **Key points**:\n",
    "  * Magic `%sessioninfo` shows the session information of all live kernels\n",
    "  * Magic `%revisions` shows the git log messages of the current notebook if it is saved in a git repository  "
   ]
  },
  {
   "cell_type": "markdown",
   "metadata": {
    "kernel": "SoS"
   },
   "source": [
    "##  <a id=\"magic_sessioninfo\"></a> Show session information of all kernels using magic `%sessioninfo`"
   ]
  },
  {
   "cell_type": "markdown",
   "metadata": {
    "kernel": "SoS"
   },
   "source": [
    "### Session info of live kernels"
   ]
  },
  {
   "cell_type": "markdown",
   "metadata": {
    "kernel": "SoS"
   },
   "source": [
    "Magic `%sessioninfo` returns the session information of SoS and all the subkernels, which for example include version of the python interpreter and name and version of all imported modules for Python kernels, and the output of function `sessionInfo()` for language R."
   ]
  },
  {
   "cell_type": "markdown",
   "metadata": {
    "kernel": "SoS"
   },
   "source": [
    "For example, if you have a new notebook and has not started any subkernel, the magic will only return session information for the SoS kernel:"
   ]
  },
  {
   "cell_type": "code",
   "execution_count": 1,
   "metadata": {
    "kernel": "SoS"
   },
   "outputs": [
    {
     "data": {
      "text/html": [
       "<p class=\"session_section\">SoS</p>\n",
       "<table class=\"session_info\">\n",
       "<tr>\n",
       "<th>SoS Version</th><td><pre>0.19.8</pre></td>\n",
       "</tr>\n",
       "</table>\n"
      ]
     },
     "metadata": {},
     "output_type": "display_data"
    }
   ],
   "source": [
    "%sessioninfo"
   ]
  },
  {
   "cell_type": "markdown",
   "metadata": {
    "kernel": "SoS"
   },
   "source": [
    "After you have done some calculation in a subkernel,"
   ]
  },
  {
   "cell_type": "code",
   "execution_count": 2,
   "metadata": {
    "kernel": "R"
   },
   "outputs": [
    {
     "data": {
      "text/html": [
       "<ol class=list-inline>\n",
       "\t<li>32</li>\n",
       "\t<li>11</li>\n",
       "</ol>\n"
      ],
      "text/latex": [
       "\\begin{enumerate*}\n",
       "\\item 32\n",
       "\\item 11\n",
       "\\end{enumerate*}\n"
      ],
      "text/markdown": [
       "1. 32\n",
       "2. 11\n",
       "\n",
       "\n"
      ],
      "text/plain": [
       "[1] 32 11"
      ]
     },
     "metadata": {},
     "output_type": "display_data"
    }
   ],
   "source": [
    "dim(mtcars)"
   ]
  },
  {
   "cell_type": "markdown",
   "metadata": {
    "kernel": "R"
   },
   "source": [
    "The output would include additional information about the subkernel"
   ]
  },
  {
   "cell_type": "code",
   "execution_count": 3,
   "metadata": {
    "kernel": "R"
   },
   "outputs": [
    {
     "data": {
      "text/html": [
       "<p class=\"session_section\">SoS</p>\n",
       "<table class=\"session_info\">\n",
       "<tr>\n",
       "<th>SoS Version</th><td><pre>0.19.8</pre></td>\n",
       "</tr>\n",
       "</table>\n",
       "<p class=\"session_section\">R</p>\n",
       "<table class=\"session_info\">\n",
       "<tr>\n",
       "<th>Kernel</th><td><pre>ir</pre></td>\n",
       "</tr>\n",
       "<tr>\n",
       "<th>Language</th><td><pre>R</pre></td>\n",
       "</tr>\n",
       "<tr>\n",
       "<td colspan=\"2\"><pre>R version 3.5.0 (2018-04-23)\n",
       "Platform: x86_64-apple-darwin13.4.0 (64-bit)\n",
       "Running under: macOS High Sierra 10.13.6\n",
       "\n",
       "Matrix products: default\n",
       "BLAS/LAPACK: /Users/bpeng1/anaconda3/envs/sos/lib/libopenblasp-r0.2.20.dylib\n",
       "\n",
       "locale:\n",
       "[1] en_US.UTF-8/en_US.UTF-8/en_US.UTF-8/C/en_US.UTF-8/en_US.UTF-8\n",
       "\n",
       "attached base packages:\n",
       "[1] stats     graphics  grDevices utils     datasets  methods   base     \n",
       "\n",
       "loaded via a namespace (and not attached):\n",
       " [1] compiler_3.5.0  magrittr_1.5    IRdisplay_0.4.4 pbdZMQ_0.3-2   \n",
       " [5] tools_3.5.0     htmltools_0.3.6 base64enc_0.1-3 crayon_1.3.4   \n",
       " [9] Rcpp_0.12.16    uuid_0.1-2      stringi_1.1.7   IRkernel_0.8.11\n",
       "[13] jsonlite_1.5    stringr_1.3.0   digest_0.6.15   repr_0.13      \n",
       "[17] evaluate_0.10.1</pre></td>\n",
       "</tr>\n",
       "</table>\n"
      ]
     },
     "metadata": {},
     "output_type": "display_data"
    }
   ],
   "source": [
    "%sessioninfo"
   ]
  },
  {
   "cell_type": "markdown",
   "metadata": {
    "kernel": "R"
   },
   "source": [
    "### Additional session information"
   ]
  },
  {
   "cell_type": "markdown",
   "metadata": {
    "kernel": "R"
   },
   "source": [
    "Session information is not limited to version of the kernels and libraries and might include version of particular tools used for your workflow. Because there is no general way to determine what tools have been used and retrieve their information, you will have to collection such information manually.\n",
    "\n",
    "To add additional session information to the output of `%sessioninfo` magic, you will need to pass it to the `%sessioninfo` magic explicitly as a variable. This variable should be a dictionary, with keys being the section headers and items being the session information, which can be a string, a list of strings, a dictionary, or a list of `(key, value)` pairs. "
   ]
  },
  {
   "cell_type": "markdown",
   "metadata": {
    "kernel": "SoS"
   },
   "source": [
    "For example, let us find the versions of two commands `rsync` and `awk`, and revision of this document in the variable `sessioninfo`."
   ]
  },
  {
   "cell_type": "code",
   "execution_count": 9,
   "metadata": {
    "kernel": "SoS"
   },
   "outputs": [
    {
     "data": {
      "text/html": [
       "<div class=\"sos_hint\">> sinfo: dict of length 2</div>"
      ],
      "text/plain": [
       ">>> sinfo:\n"
      ]
     },
     "metadata": {},
     "output_type": "display_data"
    },
    {
     "data": {
      "text/plain": [
       "{'Programs': [['rsync', b'rsync  version 2.6.9  protocol version 29\\n'],\n",
       "  ['awk', b'awk version 20070501\\n']],\n",
       " 'Extra': [['Date', '30/04/2019'],\n",
       "  ['Revision', b'1208\\n'],\n",
       "  ['HASH', b'64ba675ed21feacd3b8323d51ade2db0a3aa1235\\n']]}"
      ]
     },
     "metadata": {},
     "output_type": "display_data"
    }
   ],
   "source": [
    "%preview -n sinfo\n",
    "import time\n",
    "from subprocess import check_output\n",
    "\n",
    "sinfo = {}\n",
    "sinfo['Programs'] = [\n",
    "        ['rsync', check_output('rsync --version | head -1', shell=True)],\n",
    "        ['awk', check_output('awk -version', shell=True)]\n",
    "    ]\n",
    "sinfo['Extra'] = [\n",
    "        ['Date', time.strftime(\"%d/%m/%Y\")],\n",
    "        ['Revision', check_output('git rev-list --count HEAD', shell=True)],\n",
    "        ['HASH', check_output('git rev-parse HEAD', shell=True)]\n",
    "    ]"
   ]
  },
  {
   "cell_type": "markdown",
   "metadata": {
    "kernel": "SoS"
   },
   "source": [
    "The information will be added automatically to the output of `%sessioninfo`."
   ]
  },
  {
   "cell_type": "code",
   "execution_count": 10,
   "metadata": {
    "kernel": "SoS",
    "show_output": false
   },
   "outputs": [
    {
     "data": {
      "text/html": [
       "<p class=\"session_section\">SoS</p>\n",
       "<table class=\"session_info\">\n",
       "<tr>\n",
       "<th>SoS Version</th><td><pre>0.19.8</pre></td>\n",
       "</tr>\n",
       "</table>\n",
       "<p class=\"session_section\">R</p>\n",
       "<table class=\"session_info\">\n",
       "<tr>\n",
       "<th>Kernel</th><td><pre>ir</pre></td>\n",
       "</tr>\n",
       "<tr>\n",
       "<th>Language</th><td><pre>R</pre></td>\n",
       "</tr>\n",
       "<tr>\n",
       "<td colspan=\"2\"><pre>R version 3.5.0 (2018-04-23)\n",
       "Platform: x86_64-apple-darwin13.4.0 (64-bit)\n",
       "Running under: macOS High Sierra 10.13.6\n",
       "\n",
       "Matrix products: default\n",
       "BLAS/LAPACK: /Users/bpeng1/anaconda3/envs/sos/lib/libopenblasp-r0.2.20.dylib\n",
       "\n",
       "locale:\n",
       "[1] en_US.UTF-8/en_US.UTF-8/en_US.UTF-8/C/en_US.UTF-8/en_US.UTF-8\n",
       "\n",
       "attached base packages:\n",
       "[1] stats     graphics  grDevices utils     datasets  methods   base     \n",
       "\n",
       "loaded via a namespace (and not attached):\n",
       " [1] compiler_3.5.0  magrittr_1.5    IRdisplay_0.4.4 pbdZMQ_0.3-2   \n",
       " [5] tools_3.5.0     htmltools_0.3.6 base64enc_0.1-3 crayon_1.3.4   \n",
       " [9] Rcpp_0.12.16    uuid_0.1-2      stringi_1.1.7   IRkernel_0.8.11\n",
       "[13] jsonlite_1.5    stringr_1.3.0   digest_0.6.15   repr_0.13      \n",
       "[17] evaluate_0.10.1</pre></td>\n",
       "</tr>\n",
       "</table>\n",
       "<p class=\"session_section\">Programs</p>\n",
       "<table class=\"session_info\">\n",
       "<tr>\n",
       "<th>rsync</th><td><pre>rsync  version 2.6.9  protocol version 29</pre></td>\n",
       "</tr>\n",
       "<tr>\n",
       "<th>awk</th><td><pre>awk version 20070501</pre></td>\n",
       "</tr>\n",
       "</table>\n",
       "<p class=\"session_section\">Extra</p>\n",
       "<table class=\"session_info\">\n",
       "<tr>\n",
       "<th>Date</th><td><pre>30/04/2019</pre></td>\n",
       "</tr>\n",
       "<tr>\n",
       "<th>Revision</th><td><pre>1208</pre></td>\n",
       "</tr>\n",
       "<tr>\n",
       "<th>HASH</th><td><pre>64ba675ed21feacd3b8323d51ade2db0a3aa1235</pre></td>\n",
       "</tr>\n",
       "</table>\n"
      ]
     },
     "metadata": {},
     "output_type": "display_data"
    }
   ],
   "source": [
    "%sessioninfo --with sinfo"
   ]
  },
  {
   "cell_type": "markdown",
   "metadata": {
    "kernel": "SoS"
   },
   "source": [
    "## <a id=\"magic_revisions\"></a> List revisions of notebook with magic `%revisions` "
   ]
  },
  {
   "cell_type": "markdown",
   "metadata": {
    "kernel": "SoS"
   },
   "source": [
    "We have just showed an example that uses command `git rev-parse HEAD` to append revision information to the output of `%sessioninfo`. This was an very inconvenient way to do it because SoS provides a magic `%revisions`, which displays revisions of the current document if the document is managed by git."
   ]
  },
  {
   "cell_type": "markdown",
   "metadata": {
    "kernel": "SoS"
   },
   "source": [
    "This magic accepts a few options. First, any options that are acceptable to [command `git log`](https://git-scm.com/docs/git-log) can be passed to this magic. The most useful ones are options to limit the commits to display such as `-n` (number of commits to output), `--since=<date>` and `--after=<date>`. For example, you can display five most recent commits with command"
   ]
  },
  {
   "cell_type": "code",
   "execution_count": 11,
   "metadata": {
    "kernel": "SoS"
   },
   "outputs": [],
   "source": [
    "%revisions -n 5"
   ]
  },
  {
   "cell_type": "markdown",
   "metadata": {
    "kernel": "SoS"
   },
   "source": [
    "Another useful option is the `--source` option that allows you to link the revision to specific URL (e.g. github). This option should be specified as a string with `repo`, `revision`, `path`, and `filename` interpolated as URL to the repository, revision id, and path and name of the document respectively. Here `repo` is retrieved from the output of command `git ls-remote --get-url origin` without trailing `.git` (if available). Because SoS Notebook interpolates magics automatically, you should include variables in double braces.\n",
    "\n",
    "For example, the github URL of a particular revision of this document is `https://github.com/REPO/blob/REVISION/PATH/TO/FILENAME` so the command to link this document to its source on github would be:"
   ]
  },
  {
   "cell_type": "code",
   "execution_count": 3,
   "metadata": {
    "kernel": "SoS"
   },
   "outputs": [
    {
     "data": {
      "text/html": [
       "<div class=\"sos_hint\">> %revisions -n 5 --source '{repo}/blob/{revision}/{path}'<br></div>"
      ]
     },
     "metadata": {},
     "output_type": "display_data"
    },
    {
     "data": {
      "text/html": [
       "\n",
       "        <table class=\"revision_table\">\n",
       "        <tr>\n",
       "        <th>Revision</th>\n",
       "        <th>Author</th>\n",
       "        <th>Date</th>\n",
       "        <th>Message</th>\n",
       "        <tr>\n",
       "        <tr><td><a target=\"_blank\" href=\"https://github.com/vatlab/sos-docs/blob/214c618beef2d087f2c196f862644dfbc4ec158e/src/documentation/SoS_Magics.ipynb\"><span class=\"revision_id\">214c618<span></a></td>\n",
       "<td>Bo Peng</td>\n",
       "<td>2018-05-20</td>\n",
       "<td>Fix url to HTML</td></tr><tr><td><a target=\"_blank\" href=\"https://github.com/vatlab/sos-docs/blob/e28e7c0e458e840fc16018ad722a2e1ce0345218/src/documentation/SoS_Magics.ipynb\"><span class=\"revision_id\">e28e7c0<span></a></td>\n",
       "<td>Bo Peng</td>\n",
       "<td>2018-05-20</td>\n",
       "<td>Update doc for %revisions</td></tr><tr><td><a target=\"_blank\" href=\"https://github.com/vatlab/sos-docs/blob/c3d148bb948391366820842ec23a6ca092f307a1/src/documentation/SoS_Magics.ipynb\"><span class=\"revision_id\">c3d148b<span></a></td>\n",
       "<td>Bo Peng</td>\n",
       "<td>2018-05-18</td>\n",
       "<td>Shorten %revisions magic in doc</td></tr><tr><td><a target=\"_blank\" href=\"https://github.com/vatlab/sos-docs/blob/6784599ccef31fc4b68bbbadb8aeb97a292456b3/src/documentation/SoS_Magics.ipynb\"><span class=\"revision_id\">6784599<span></a></td>\n",
       "<td>Bo Peng</td>\n",
       "<td>2018-05-18</td>\n",
       "<td>Update doc with the new %revisions magic vatlab/sos-notebook#74</td></tr><tr><td><a target=\"_blank\" href=\"https://github.com/vatlab/sos-docs/blob/bf35ae9cb26791800a82c183a5553ec511a44374/src/documentation/SoS_Magics.ipynb\"><span class=\"revision_id\">bf35ae9<span></a></td>\n",
       "<td>Bo Peng</td>\n",
       "<td>2018-05-08</td>\n",
       "<td>Update docs on magic %cd</td></tr></table>"
      ]
     },
     "metadata": {},
     "output_type": "display_data"
    }
   ],
   "source": [
    "%revisions -n 5 --source '{{repo}}/blob/{{revision}}/{{path}}'"
   ]
  },
  {
   "cell_type": "markdown",
   "metadata": {
    "kernel": "SoS"
   },
   "source": [
    "Because `github` is the most widely used git repository, we provide the aforementioned template by default if you specify option `--source` without value. That is to say, if your document is hosted in `github.com`, you can simply use\n",
    "\n",
    "```\n",
    "%revisions --source\n",
    "```\n",
    "to link revisions to github."
   ]
  },
  {
   "cell_type": "markdown",
   "metadata": {
    "kernel": "SoS"
   },
   "source": [
    "The links do not have to point to the source of the document. For example, because we always convert this document to HTML in another directory and display it on our homepage, we can link the revisions to the HTML version as follows:"
   ]
  },
  {
   "cell_type": "code",
   "execution_count": 4,
   "metadata": {
    "kernel": "SoS"
   },
   "outputs": [
    {
     "data": {
      "text/html": [
       "<div class=\"sos_hint\">> %revisions -n 5   --source '{repo}/blob/{revision}/doc/documentation/{filename[:-6]}.html'<br></div>"
      ]
     },
     "metadata": {},
     "output_type": "display_data"
    },
    {
     "data": {
      "text/html": [
       "\n",
       "        <table class=\"revision_table\">\n",
       "        <tr>\n",
       "        <th>Revision</th>\n",
       "        <th>Author</th>\n",
       "        <th>Date</th>\n",
       "        <th>Message</th>\n",
       "        <tr>\n",
       "        <tr><td><a target=\"_blank\" href=\"https://github.com/vatlab/sos-docs/blob/214c618beef2d087f2c196f862644dfbc4ec158e/doc/documentation/SoS_Magics.html\"><span class=\"revision_id\">214c618<span></a></td>\n",
       "<td>Bo Peng</td>\n",
       "<td>2018-05-20</td>\n",
       "<td>Fix url to HTML</td></tr><tr><td><a target=\"_blank\" href=\"https://github.com/vatlab/sos-docs/blob/e28e7c0e458e840fc16018ad722a2e1ce0345218/doc/documentation/SoS_Magics.html\"><span class=\"revision_id\">e28e7c0<span></a></td>\n",
       "<td>Bo Peng</td>\n",
       "<td>2018-05-20</td>\n",
       "<td>Update doc for %revisions</td></tr><tr><td><a target=\"_blank\" href=\"https://github.com/vatlab/sos-docs/blob/c3d148bb948391366820842ec23a6ca092f307a1/doc/documentation/SoS_Magics.html\"><span class=\"revision_id\">c3d148b<span></a></td>\n",
       "<td>Bo Peng</td>\n",
       "<td>2018-05-18</td>\n",
       "<td>Shorten %revisions magic in doc</td></tr><tr><td><a target=\"_blank\" href=\"https://github.com/vatlab/sos-docs/blob/6784599ccef31fc4b68bbbadb8aeb97a292456b3/doc/documentation/SoS_Magics.html\"><span class=\"revision_id\">6784599<span></a></td>\n",
       "<td>Bo Peng</td>\n",
       "<td>2018-05-18</td>\n",
       "<td>Update doc with the new %revisions magic vatlab/sos-notebook#74</td></tr><tr><td><a target=\"_blank\" href=\"https://github.com/vatlab/sos-docs/blob/bf35ae9cb26791800a82c183a5553ec511a44374/doc/documentation/SoS_Magics.html\"><span class=\"revision_id\">bf35ae9<span></a></td>\n",
       "<td>Bo Peng</td>\n",
       "<td>2018-05-08</td>\n",
       "<td>Update docs on magic %cd</td></tr></table>"
      ]
     },
     "metadata": {},
     "output_type": "display_data"
    }
   ],
   "source": [
    "%revisions -n 5 \\\n",
    "  --source '{{repo}}/blob/{{revision}}/doc/documentation/{{filename[:-6]}}.html'"
   ]
  },
  {
   "cell_type": "markdown",
   "metadata": {
    "kernel": "SoS"
   },
   "source": [
    "And if you would like to display one or more links next to the revision number, you can do so with the `--links` option:"
   ]
  },
  {
   "cell_type": "code",
   "execution_count": 5,
   "metadata": {
    "kernel": "SoS"
   },
   "outputs": [
    {
     "data": {
      "text/html": [
       "<div class=\"sos_hint\">> %revisions -n 5 --source    --links HTML '{repo}/blob/{revision}/doc/documentation/{filename[:-6]}.html'<br></div>"
      ]
     },
     "metadata": {},
     "output_type": "display_data"
    },
    {
     "data": {
      "text/html": [
       "\n",
       "        <table class=\"revision_table\">\n",
       "        <tr>\n",
       "        <th>Revision</th>\n",
       "        <th>Author</th>\n",
       "        <th>Date</th>\n",
       "        <th>Message</th>\n",
       "        <tr>\n",
       "        <tr><td><a target=\"_blank\" href=\"https://github.com/vatlab/sos-docs/blob/214c618beef2d087f2c196f862644dfbc4ec158e/src/documentation/SoS_Magics.ipynb\"><span class=\"revision_id\">214c618<span></a> (<a target=\"_blank\" href=\"https://github.com/vatlab/sos-docs/blob/214c618beef2d087f2c196f862644dfbc4ec158e/doc/documentation/SoS_Magics.html\">HTML</a>)</td>\n",
       "<td>Bo Peng</td>\n",
       "<td>2018-05-20</td>\n",
       "<td>Fix url to HTML</td></tr><tr><td><a target=\"_blank\" href=\"https://github.com/vatlab/sos-docs/blob/e28e7c0e458e840fc16018ad722a2e1ce0345218/src/documentation/SoS_Magics.ipynb\"><span class=\"revision_id\">e28e7c0<span></a> (<a target=\"_blank\" href=\"https://github.com/vatlab/sos-docs/blob/e28e7c0e458e840fc16018ad722a2e1ce0345218/doc/documentation/SoS_Magics.html\">HTML</a>)</td>\n",
       "<td>Bo Peng</td>\n",
       "<td>2018-05-20</td>\n",
       "<td>Update doc for %revisions</td></tr><tr><td><a target=\"_blank\" href=\"https://github.com/vatlab/sos-docs/blob/c3d148bb948391366820842ec23a6ca092f307a1/src/documentation/SoS_Magics.ipynb\"><span class=\"revision_id\">c3d148b<span></a> (<a target=\"_blank\" href=\"https://github.com/vatlab/sos-docs/blob/c3d148bb948391366820842ec23a6ca092f307a1/doc/documentation/SoS_Magics.html\">HTML</a>)</td>\n",
       "<td>Bo Peng</td>\n",
       "<td>2018-05-18</td>\n",
       "<td>Shorten %revisions magic in doc</td></tr><tr><td><a target=\"_blank\" href=\"https://github.com/vatlab/sos-docs/blob/6784599ccef31fc4b68bbbadb8aeb97a292456b3/src/documentation/SoS_Magics.ipynb\"><span class=\"revision_id\">6784599<span></a> (<a target=\"_blank\" href=\"https://github.com/vatlab/sos-docs/blob/6784599ccef31fc4b68bbbadb8aeb97a292456b3/doc/documentation/SoS_Magics.html\">HTML</a>)</td>\n",
       "<td>Bo Peng</td>\n",
       "<td>2018-05-18</td>\n",
       "<td>Update doc with the new %revisions magic vatlab/sos-notebook#74</td></tr><tr><td><a target=\"_blank\" href=\"https://github.com/vatlab/sos-docs/blob/bf35ae9cb26791800a82c183a5553ec511a44374/src/documentation/SoS_Magics.ipynb\"><span class=\"revision_id\">bf35ae9<span></a> (<a target=\"_blank\" href=\"https://github.com/vatlab/sos-docs/blob/bf35ae9cb26791800a82c183a5553ec511a44374/doc/documentation/SoS_Magics.html\">HTML</a>)</td>\n",
       "<td>Bo Peng</td>\n",
       "<td>2018-05-08</td>\n",
       "<td>Update docs on magic %cd</td></tr></table>"
      ]
     },
     "metadata": {},
     "output_type": "display_data"
    }
   ],
   "source": [
    "%revisions -n 5 --source  \\\n",
    "  --links HTML '{{repo}}/blob/{{revision}}/doc/documentation/{{filename[:-6]}}.html'"
   ]
  },
  {
   "cell_type": "markdown",
   "metadata": {
    "kernel": "SoS"
   },
   "source": [
    "## Further reading\n",
    "\n",
    "* "
   ]
  }
 ],
 "metadata": {
  "kernelspec": {
   "display_name": "SoS",
   "language": "sos",
   "name": "sos"
  },
  "language_info": {
   "codemirror_mode": "sos",
   "file_extension": ".sos",
   "mimetype": "text/x-sos",
   "name": "sos",
   "nbconvert_exporter": "sos_notebook.converter.SoS_Exporter",
   "pygments_lexer": "sos"
  },
  "sos": {
   "kernels": [
    [
     "Python3",
     "python3",
     "Python3",
     "#FFD91A",
     ""
    ],
    [
     "R",
     "ir",
     "R",
     "#DCDCDA",
     ""
    ],
    [
     "SoS",
     "sos",
     "",
     "",
     "sos"
    ]
   ],
   "panel": {
    "displayed": true,
    "height": 0
   },
   "version": "0.19.6"
  }
 },
 "nbformat": 4,
 "nbformat_minor": 4
}
