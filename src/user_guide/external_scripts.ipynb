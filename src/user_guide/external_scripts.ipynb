{
 "cells": [
  {
   "cell_type": "markdown",
   "metadata": {
    "kernel": "SoS"
   },
   "source": [
    "# Can I define steps in separate files"
   ]
  },
  {
   "cell_type": "markdown",
   "metadata": {
    "kernel": "SoS"
   },
   "source": [
    "* **Difficulty level**: easy\n",
    "* **Time need to lean**: 10 minutes or less\n",
    "* **Key points**:\n",
    "  "
   ]
  },
  {
   "cell_type": "markdown",
   "metadata": {
    "kernel": "SoS"
   },
   "source": [
    "## Modularize SoS Workflow <a id=\"Modularize_SoS_Workflow\"></a>"
   ]
  },
  {
   "cell_type": "markdown",
   "metadata": {
    "kernel": "SoS"
   },
   "source": [
    "SoS encourages verbatim inclusion of scripts in a single SoS Script (or Notebook) so that the entire workflow can be self-contained, easily readable and modifiable, can be easily versioned, archived and shared. Such workflows are robust to changes in dependent scripts or modulars and therefore more reproducible.\n",
    "\n",
    "However, there are certainly cases when it makes more sense to keep parts of the workflow outside of a SoS script, user cases include but not limited to\n",
    "\n",
    "1. Parts of workflow that are meant to be the same across multiple workflows (e.g. a workflow to deliver and archive results).\n",
    "2. Scripts that are long, or multi-file in nature, or functions that are designed to be reused by multiple scripts in the same or across SoS workflows."
   ]
  },
  {
   "cell_type": "markdown",
   "metadata": {
    "kernel": "SoS"
   },
   "source": [
    "SoS provides a number of features that allow the inclusion, importing, or execution of external functions, scripts, or workflows. They are scattered around the documentation so here is a summary of what you can do to modularize your SoS workflow:\n",
    "\n",
    "|Method | Example | Pros | Cons | Comment|\n",
    "|---|---|---|---|--|\n",
    "|**utility modules and libraries** | `import my_module` in Python, `library(my_library)` in R etc | Most clean, and can be used for highly reusable components that worth the effort to formalize and maintain them. | It can be difficult to keep the modules backward compatible so changes in such modules might make a previous workflow non-reproducible. | It is usually not practical to rerun archived projects just to test compatibility of these modules. |\n",
    "|**include shared configurations or functions** | `python: input='utility.py'` | Easier to maintain than modules, include the same scripts across actions or workflows | Without proper wrapping and testing, such functions tend to be changed easily and break previous workflow | Suitable only for configuration and functions that do not need to be changed. |\n",
    "|**nested workflow**| `sos_run(source=\"file.sos\")`| Allows the separation of a big workflow to multiple smaller workflows maintained in different SoS workflows. Very flexible because the workflows and sources can be determined programmatically.| The workflows should be logically and functionally separated so that changes in one workflow will not break the entire workflow. | Suitable for the creation of large workflows. |\n",
    "|**external commands**| `sh(\"sos run workflow\")` in SoS or `!sos run workflow` in SoS Notebook | Similar to `sos_run` in SoS | Similar to `sos_run` in SoS | Useful for SoS notebooks with standardized sub-workflows |"
   ]
  },
  {
   "cell_type": "markdown",
   "metadata": {
    "kernel": "SoS"
   },
   "source": [
    "## Further reading\n",
    "\n",
    "* "
   ]
  }
 ],
 "metadata": {
  "kernelspec": {
   "display_name": "SoS",
   "language": "sos",
   "name": "sos"
  },
  "language_info": {
   "codemirror_mode": "sos",
   "file_extension": ".sos",
   "mimetype": "text/x-sos",
   "name": "sos",
   "nbconvert_exporter": "sos_notebook.converter.SoS_Exporter",
   "pygments_lexer": "sos"
  },
  "sos": {
   "kernels": [
    [
     "Bash",
     "bash",
     "Bash",
     "#E6EEFF"
    ],
    [
     "R",
     "ir",
     "R",
     "#DCDCDA"
    ],
    [
     "SoS",
     "sos",
     "",
     ""
    ]
   ],
   "panel": {
    "displayed": true,
    "height": 0
   },
   "version": "0.17.5"
  }
 },
 "nbformat": 4,
 "nbformat_minor": 2
}
