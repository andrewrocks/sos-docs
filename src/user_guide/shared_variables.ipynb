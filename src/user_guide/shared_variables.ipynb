{
 "cells": [
  {
   "cell_type": "markdown",
   "metadata": {
    "kernel": "SoS"
   },
   "source": [
    "# How to pass variables between SoS steps"
   ]
  },
  {
   "cell_type": "markdown",
   "metadata": {
    "kernel": "SoS"
   },
   "source": [
    "* **Difficulty level**: easy\n",
    "* **Time need to lean**: 10 minutes or less\n",
    "* **Key points**:\n",
    "\n",
    "  "
   ]
  },
  {
   "cell_type": "markdown",
   "metadata": {
    "kernel": "SoS"
   },
   "source": [
    "### Option `shared` <a id=\"Option_shared\"></a>"
   ]
  },
  {
   "cell_type": "markdown",
   "metadata": {
    "kernel": "SoS"
   },
   "source": [
    "SoS executes each step in a separate process and by default does not return any result to the master SoS process. Option `shared` is used to share variables between steps. This option accepts:\n",
    "\n",
    "* A string (variable name), or\n",
    "* A map between variable names and expressions (strings) that will be evaluated upon the completion of the step.\n",
    "* A sequence of strings (variables) or maps.\n",
    "\n",
    "For example,"
   ]
  },
  {
   "cell_type": "code",
   "execution_count": 1,
   "metadata": {
    "kernel": "SoS"
   },
   "outputs": [
    {
     "name": "stdout",
     "output_type": "stream",
     "text": [
      "100\n"
     ]
    }
   ],
   "source": [
    "%run\n",
    "[10: shared='myvar']\n",
    "myvar = 100\n",
    "\n",
    "[20]\n",
    "print(myvar)"
   ]
  },
  {
   "cell_type": "markdown",
   "metadata": {
    "kernel": "SoS"
   },
   "source": [
    "A map syntax is recommended to share `step_output` of one step with others, because the variable assignment will be evaluated only after the step is complete:"
   ]
  },
  {
   "cell_type": "code",
   "execution_count": 2,
   "metadata": {
    "kernel": "SoS"
   },
   "outputs": [
    {
     "name": "stdout",
     "output_type": "stream",
     "text": [
      "Input file a.txt\n"
     ]
    }
   ],
   "source": [
    "%sandbox\n",
    "%run\n",
    "[1: shared = {'test_output': 'step_output'}]\n",
    "output: 'a.txt'\n",
    "sh:\n",
    "    touch a.txt\n",
    "[2]\n",
    "print(f\"Input file {test_output}\")\n",
    "input: test_output"
   ]
  },
  {
   "cell_type": "markdown",
   "metadata": {
    "kernel": "SoS"
   },
   "source": [
    "The map syntax is evaluated as expressions; therefore it is possible to finer control what specific output, or variations of output, to share with others. For example:"
   ]
  },
  {
   "cell_type": "code",
   "execution_count": 3,
   "metadata": {
    "kernel": "SoS"
   },
   "outputs": [
    {
     "name": "stdout",
     "output_type": "stream",
     "text": [
      "output 1: a.txt\n",
      "output 2: b.txt\n"
     ]
    }
   ],
   "source": [
    "%sandbox\n",
    "%run\n",
    "[1: shared={'test_output_1':'step_output[0]', 'test_output_2': 'step_output[1]'}]\n",
    "output: 'a.txt', 'b.txt'\n",
    "sh:\n",
    "    touch a.txt b.txt\n",
    "[2]\n",
    "print(f\"output 1: {test_output_1}\")\n",
    "print(f\"output 2: {test_output_2}\")"
   ]
  },
  {
   "cell_type": "markdown",
   "metadata": {
    "kernel": "SoS"
   },
   "source": [
    "to shared the first file in `output` (filename `output[0]`) instead of the entire output file list."
   ]
  },
  {
   "cell_type": "markdown",
   "metadata": {
    "kernel": "SoS"
   },
   "source": [
    "The `shared` option also provides a `sos_variable` target."
   ]
  },
  {
   "cell_type": "markdown",
   "metadata": {
    "kernel": "SoS"
   },
   "source": [
    "Things becomes more complicated when there are multiple substeps. For example, when you use option `shared` on the following step with 10 substeps, only one of the random seed is returned because `rng` represent the last value of the variable after the completion of all substeps."
   ]
  },
  {
   "cell_type": "code",
   "execution_count": 4,
   "metadata": {
    "kernel": "SoS"
   },
   "outputs": [
    {
     "name": "stdout",
     "output_type": "stream",
     "text": [
      "450\n"
     ]
    }
   ],
   "source": [
    "%run\n",
    "[1: shared='seed']\n",
    "input: for_each={'i': range(10)}\n",
    "import random\n",
    "seed = random.randint(0, 1000)\n",
    "\n",
    "\n",
    "[2]\n",
    "print(seed)"
   ]
  },
  {
   "cell_type": "markdown",
   "metadata": {
    "kernel": "SoS"
   },
   "source": [
    "If you would like to see the variable in all substeps, you can prefix the variable name with `step_`"
   ]
  },
  {
   "cell_type": "code",
   "execution_count": 5,
   "metadata": {
    "kernel": "SoS"
   },
   "outputs": [
    {
     "name": "stdout",
     "output_type": "stream",
     "text": [
      "[858, 513, 328, 610, 142, 275, 458, 57, 762, 981]\n"
     ]
    }
   ],
   "source": [
    "%run\n",
    "[1: shared='step_seed']\n",
    "input: for_each={'i': range(10)}\n",
    "import random\n",
    "seed = random.randint(0, 1000)\n",
    "\n",
    "\n",
    "[2]\n",
    "print(step_seed)"
   ]
  },
  {
   "cell_type": "markdown",
   "metadata": {
    "kernel": "SoS"
   },
   "source": [
    "You can also use the `step_*` vsriables in expressions as in the following example:"
   ]
  },
  {
   "cell_type": "code",
   "execution_count": 8,
   "metadata": {
    "kernel": "SoS"
   },
   "outputs": [
    {
     "name": "stdout",
     "output_type": "stream",
     "text": [
      "[10, 0, 8, 1, 8, 9, 6, 7, 9, 1]\n",
      "59\n"
     ]
    }
   ],
   "source": [
    "%run\n",
    "[1: shared={'summed': 'sum(step_rng)', 'rngs': 'step_rng'}]\n",
    "input: for_each={'i': range(10)}\n",
    "import random\n",
    "rng = random.randint(0, 10)\n",
    "\n",
    "\n",
    "[2]\n",
    "print(rngs)\n",
    "print(summed)"
   ]
  },
  {
   "cell_type": "markdown",
   "metadata": {
    "kernel": "SoS"
   },
   "source": [
    "Variables generated by external tasks adds another layer of complexity because tasks usually do not share variables with the substep it belongs. To solve this problem, you will have to use the `shared` option of `task` to return the variable to the substep:"
   ]
  },
  {
   "cell_type": "code",
   "execution_count": 11,
   "metadata": {
    "kernel": "SoS"
   },
   "outputs": [
    {
     "data": {
      "text/html": [
       "<div class=\"sos_hint\">10 tasks completed: <a onclick=\"task_info('fc4e5aa9d56b8670', 'laptop')\">fc4e</a>, <a onclick=\"task_info('b42d81697655e60b', 'laptop')\">b42d</a>, ..., <a onclick=\"task_info('559c2306ff715392', 'laptop')\">559c</a></div>"
      ]
     },
     "metadata": {},
     "output_type": "display_data"
    },
    {
     "name": "stdout",
     "output_type": "stream",
     "text": [
      "\n",
      "[0, 2, 12, 10, 24, 9, 51, 39, 79, 4]\n",
      "230\n"
     ]
    }
   ],
   "source": [
    "%run\n",
    "[1: shared={'summed': 'sum(step_rng)', 'rngs': 'step_rng'}]\n",
    "input: for_each={'i': range(10)}\n",
    "\n",
    "task: shared='rng'\n",
    "import random\n",
    "rng = random.randint(0, 10*i)\n",
    "\n",
    "\n",
    "[2]\n",
    "print(rngs)\n",
    "print(summed)"
   ]
  },
  {
   "cell_type": "markdown",
   "metadata": {
    "kernel": "SoS"
   },
   "source": [
    "## Further reading\n",
    "\n",
    "* "
   ]
  }
 ],
 "metadata": {
  "kernelspec": {
   "display_name": "SoS",
   "language": "sos",
   "name": "sos"
  },
  "language_info": {
   "codemirror_mode": "sos",
   "file_extension": ".sos",
   "mimetype": "text/x-sos",
   "name": "sos",
   "nbconvert_exporter": "sos_notebook.converter.SoS_Exporter",
   "pygments_lexer": "sos"
  },
  "sos": {
   "kernels": [
    [
     "Bash",
     "bash",
     "Bash",
     "#E6EEFF"
    ],
    [
     "R",
     "ir",
     "R",
     "#DCDCDA"
    ],
    [
     "SoS",
     "sos",
     "",
     ""
    ]
   ],
   "panel": {
    "displayed": true,
    "height": 0
   },
   "version": "0.17.5"
  }
 },
 "nbformat": 4,
 "nbformat_minor": 2
}
