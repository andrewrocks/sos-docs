{
 "cells": [
  {
   "cell_type": "markdown",
   "metadata": {
    "kernel": "SoS"
   },
   "source": [
    "# How to use SoS Notebook to organize and share your project"
   ]
  },
  {
   "cell_type": "markdown",
   "metadata": {
    "kernel": "SoS"
   },
   "source": [
    "* **Difficulty level**: easy\n",
    "* **Time need to lean**: 10 minutes or less\n",
    "* **Key points**:\n",
    "  * Use SoS workflow system to record multi-script, multi-language data analysis\n",
    "  * Adding comments and help messages\n",
    "  * Using command line option to apply the workflow to new batches of data  "
   ]
  },
  {
   "cell_type": "markdown",
   "metadata": {
    "kernel": "SoS"
   },
   "source": [
    "This tutorial is a re-cap of what we have learned from other tutorials, with an emphasis on how to organize your data analysis for easy sharing and reproducing."
   ]
  },
  {
   "cell_type": "markdown",
   "metadata": {
    "kernel": "SoS"
   },
   "source": [
    "## Using SoS to record your data analysis"
   ]
  },
  {
   "cell_type": "markdown",
   "metadata": {
    "kernel": "SoS"
   },
   "source": [
    "As we have shown in the [Using SoS workflow system in Jupyter and from command line](doc/user_guide/sos_in_notebook.html) and the following tutorials, SoS allows you to perform your data analysis in Jupyter or record the scripts you developed in other environments in a Jupyter notebook, without a steep learning curve."
   ]
  },
  {
   "cell_type": "markdown",
   "metadata": {
    "kernel": "SoS"
   },
   "source": [
    "### Using SoS Notebook for interactive multi-language data analysis"
   ]
  },
  {
   "cell_type": "markdown",
   "metadata": {
    "kernel": "SoS"
   },
   "source": [
    "Firstly, you can perform your data analysis in Jupyter using multiple kernels in one notebook. Without going into the details on how SoS Notebook can assist the interactive data analysis, here is what the end result might look like."
   ]
  },
  {
   "cell_type": "markdown",
   "metadata": {
    "kernel": "SoS"
   },
   "source": [
    "<div class=\"bs-callout bs-callout-primary\" role=\"alert\">\n",
    "    <h4>Multi-language notebook</h4>\n",
    "  <ul>\n",
    "      <li>Data analysis is performed by multiple kernels</li>\n",
    "      <li>Analysis in each kernel can be separated into multiple cells</li>\n",
    "      <li>The <code>%expand</code> magic can be used to pass variables from SoS to subkernels</li>\n",
    "      <li>The entire data analysis can be rerun using the <code>Kernel</code> => <code>Restart Kernel and Run All Cells</code></li>\n",
    "    </ul>\n",
    "</div>"
   ]
  },
  {
   "cell_type": "code",
   "execution_count": 1,
   "metadata": {
    "kernel": "SoS"
   },
   "outputs": [],
   "source": [
    "excel_file = 'data/DEG.xlsx'\n",
    "csv_file = 'DEG.csv'\n",
    "figure_file = 'output.pdf'"
   ]
  },
  {
   "cell_type": "code",
   "execution_count": 2,
   "metadata": {
    "kernel": "Bash"
   },
   "outputs": [],
   "source": [
    "%expand\n",
    "xlsx2csv {excel_file} > {csv_file}"
   ]
  },
  {
   "cell_type": "code",
   "execution_count": 3,
   "metadata": {
    "kernel": "R"
   },
   "outputs": [
    {
     "data": {
      "text/html": [
       "<strong>pdf:</strong> 2"
      ],
      "text/latex": [
       "\\textbf{pdf:} 2"
      ],
      "text/markdown": [
       "**pdf:** 2"
      ],
      "text/plain": [
       "pdf \n",
       "  2 "
      ]
     },
     "metadata": {},
     "output_type": "display_data"
    }
   ],
   "source": [
    "%expand\n",
    "data <- read.csv('{csv_file}')\n",
    "pdf('{figure_file}')\n",
    "plot(data$log2FoldChange, data$stat)\n",
    "dev.off()"
   ]
  },
  {
   "cell_type": "markdown",
   "metadata": {
    "kernel": "SoS"
   },
   "source": [
    "This tutorial does not introduce any "
   ]
  },
  {
   "cell_type": "markdown",
   "metadata": {
    "kernel": "R"
   },
   "source": [
    "## Simple SoS workflow"
   ]
  },
  {
   "cell_type": "markdown",
   "metadata": {
    "kernel": "R"
   },
   "source": [
    "<div class=\"bs-callout bs-callout-primary\" role=\"alert\">\n",
    "    <h4>Simple workflows with numerically numbered steps</h4>\n",
    "  <ul>\n",
    "      <li>Workflows with numerically numbered steps</li>\n",
    "      <li>Definition of input and output is optional</li>\n",
    "      <li>Execute the workflow from within the notebook using magics <code>%run</code>, <code>%sosrun</code>, or from command line using <code>sos run</code></li>\n",
    "    </ul>\n",
    "</div>"
   ]
  },
  {
   "cell_type": "markdown",
   "metadata": {
    "kernel": "SoS"
   },
   "source": [
    "The multi-language data analysis can be converted almost trivially to the following SoS workflow. In contrast to analysis in SoS notebook, each step must contain complete scripts that can be executed independent of other steps. One of the benfits of the conversion is that the workflow can be execute from command line. "
   ]
  },
  {
   "cell_type": "code",
   "execution_count": 2,
   "metadata": {
    "kernel": "SoS"
   },
   "outputs": [],
   "source": [
    "[global]\n",
    "excel_file = 'data/DEG.xlsx'\n",
    "csv_file = 'DEG.csv'\n",
    "figure_file = 'output.pdf'\n",
    "\n",
    "[plot_10]\n",
    "run: expand=True\n",
    "    xlsx2csv {excel_file} > {csv_file}\n",
    "\n",
    "[plot_20]\n",
    "R: expand=True\n",
    "    data <- read.csv('{csv_file}')\n",
    "    pdf('{figure_file}')\n",
    "    plot(data$log2FoldChange, data$stat)\n",
    "    dev.off()"
   ]
  },
  {
   "cell_type": "markdown",
   "metadata": {
    "kernel": "SoS"
   },
   "source": [
    "## Allow command line options"
   ]
  },
  {
   "cell_type": "markdown",
   "metadata": {
    "kernel": "SoS"
   },
   "source": [
    "<div class=\"bs-callout bs-callout-primary\" role=\"alert\">\n",
    "    <h4>Adding command line options</h4>\n",
    "  <ul>\n",
    "      <li>Command line options are defined with the <code>parameter</code> statement.</li>\n",
    "      <li>Both optional and mandatory options are supported</li>\n",
    "    </ul>\n",
    "</div>"
   ]
  },
  {
   "cell_type": "markdown",
   "metadata": {
    "kernel": "SoS"
   },
   "source": [
    "Adding command line options allows you to apply the workflow to other sets of data, usually from command line:"
   ]
  },
  {
   "cell_type": "code",
   "execution_count": null,
   "metadata": {
    "kernel": "SoS"
   },
   "outputs": [],
   "source": [
    "%run --excel-file data/DEG.xlsx\n",
    "\n",
    "[global]\n",
    "parameter: excel_file = str\n",
    "parameter: csv_file = 'DEG.csv'\n",
    "parameter: figure_file = 'output.pdf'\n",
    "\n",
    "[plot_10]\n",
    "run: expand=True\n",
    "    xlsx2csv {excel_file} > {csv_file}\n",
    "\n",
    "[plot_20]\n",
    "R: expand=True\n",
    "    data <- read.csv('{csv_file}')\n",
    "    pdf('{figure_file}')\n",
    "    plot(data$log2FoldChange, data$stat)\n",
    "    dev.off()"
   ]
  },
  {
   "cell_type": "markdown",
   "metadata": {
    "kernel": "SoS"
   },
   "source": [
    "## Adding help messages"
   ]
  },
  {
   "cell_type": "markdown",
   "metadata": {
    "kernel": "SoS"
   },
   "source": [
    "<div class=\"bs-callout bs-callout-primary\" role=\"alert\">\n",
    "    <h4>Adding comments to scripts</h4>\n",
    "  <ul>\n",
    "      <li>The first comment block is the description of the script. This is where you introduce the purpose of the workflows.\n",
    "</li>\n",
    "      <li>Comments immediately before section header and parameter: definitions become the descriptions of the sections and parameters.</li>\n",
    "      <li>Workflow, step, and parameter descriptions are displayed in the output of `-h` of the script.\n",
    "    </ul>\n",
    "</div>\n",
    "\n"
   ]
  },
  {
   "cell_type": "code",
   "execution_count": 1,
   "metadata": {
    "kernel": "SoS"
   },
   "outputs": [
    {
     "data": {
      "text/html": [
       "\n",
       "<table id=\"workflow_281c3a1c-dc4b-45d6-8943-e94217f42f23\" class=\"workflow_table  completed\">\n",
       "<tr>\n",
       "      <td class=\"workflow_icon\">\n",
       "        <i id=\"workflow_status_icon_281c3a1c-dc4b-45d6-8943-e94217f42f23\" class=\"fa fa-2x fa-fw fa-check-square-o\"\n",
       "        onmouseover='this.classList=\"fa fa-2x fa-fw fa-trash\"' onmouseleave='this.classList=\"fa fa-2x fa-fw fa-check-square-o\"' onclick=\"cancel_workflow(this.id.substring(21))\"></i>\n",
       "      </td>\n",
       "      <td class=\"workflow_name\">\n",
       "        <pre><span id=\"workflow_name_281c3a1c-dc4b-45d6-8943-e94217f42f23\">undefined</span></pre>\n",
       "      </td>\n",
       "      <td class=\"workflow_id\">\n",
       "        <span>Workflow ID</span></br>\n",
       "        <pre><i class=\"fa fa-fw fa-sitemap\"></i><span id=\"workflow_id_281c3a1c-dc4b-45d6-8943-e94217f42f23\">undefined</span></pre>\n",
       "      </td>\n",
       "      <td class=\"workflow_index\">\n",
       "        <span>Index</span></br>\n",
       "        <pre>#<span id=\"workflow_index_281c3a1c-dc4b-45d6-8943-e94217f42f23\">1</span></pre>\n",
       "      </td>\n",
       "      <td class=\"workflow_status\">\n",
       "        <span id=\"status_text_281c3a1c-dc4b-45d6-8943-e94217f42f23\">completed</span></br>\n",
       "        <pre><i class=\"fa fa-fw fa-clock-o\"></i><time id=\"status_duration_281c3a1c-dc4b-45d6-8943-e94217f42f23\" class=\"completed\" datetime=\"undefined\">Ran for < 5 seconds</time></pre>\n",
       "      </td>\n",
       "</tr>\n",
       "</table>\n"
      ]
     },
     "metadata": {},
     "output_type": "display_data"
    },
    {
     "name": "stdout",
     "output_type": "stream",
     "text": [
      "usage: sos run .sos/interactive.sos [workflow_name | -t targets] [options] [workflow_options]\n",
      "  workflow_name:        Single or combined workflows defined in this script\n",
      "  targets:              One or more targets to generate\n",
      "  options:              Single-hyphen sos parameters (see \"sos run -h\" for details)\n",
      "  workflow_options:     Double-hyphen workflow-specific parameters\n",
      "\n",
      "This workflow converts input excel file\n",
      "into a .csv file and plot fields log2FoldChange\n",
      "again stat\n",
      "\n",
      "Workflows:\n",
      "  plot\n",
      "\n",
      "Global Workflow Options:\n",
      "  --excel-file VAL (as str, required)\n",
      "                        input excel file\n",
      "  --csv-file 'DEG.csv'\n",
      "                        intermediate csv file\n",
      "  --figure-file 'output.pdf'\n",
      "                        output figure file\n",
      "\n",
      "Sections\n",
      "  plot_10:              Uses command xlsx2csv to convert excel file to csv\n",
      "                        format\n",
      "  plot_20:              Load data in csv format and plot log2FoldChange again\n",
      "                        stat\n"
     ]
    }
   ],
   "source": [
    "%run -h\n",
    "\n",
    "# This workflow converts input excel file\n",
    "# into a .csv file and plot fields log2FoldChange\n",
    "# again stat\n",
    "\n",
    "[global]\n",
    "# input excel file\n",
    "parameter: excel_file = str\n",
    "\n",
    "# intermediate csv file\n",
    "parameter: csv_file = 'DEG.csv'\n",
    "\n",
    "# output figure file\n",
    "parameter: figure_file = 'output.pdf'\n",
    "\n",
    "# Uses command xlsx2csv to convert\n",
    "# excel file to csv format\n",
    "[plot_10]\n",
    "run: expand=True\n",
    "    xlsx2csv {excel_file} > {csv_file}\n",
    "\n",
    "# Load data in csv format and plot log2FoldChange\n",
    "# again stat\n",
    "[plot_20]\n",
    "R: expand=True\n",
    "    data <- read.csv('{csv_file}')\n",
    "    pdf('{figure_file}')\n",
    "    plot(data$log2FoldChange, data$stat)\n",
    "    dev.off()"
   ]
  },
  {
   "cell_type": "markdown",
   "metadata": {
    "kernel": "SoS"
   },
   "source": [
    "<div class=\"bs-callout bs-callout-info\" role=\"alert\">\n",
    "    <h4>Getting the help message of SoS scripts</h4>\n",
    "<p>You can get the help message of notebook with embedded workflows using command</p>\n",
    "<pre>\n",
    "    sos run notebook.ipynb -h\n",
    "    \n",
    "</pre>\n",
    "    <p>The same hold for a SoS workflow in plain text format. That is to say, for any SoS script, you can run</p>\n",
    "<pre>\n",
    "    sos run script.sos -h\n",
    "    \n",
    "</pre>\n",
    "<p>to get its usage message. Further more, if your SoS script has a sheband line</p>\n",
    "<pre>\n",
    "    #!/usr/bin/env sos-runner\n",
    "    \n",
    "</pre>\n",
    "<p>and has executable permission (<code>chmod +x script.sos</code>), you can execute the workflow as a regular command</p>\n",
    "<pre>\n",
    "    script.sos [options]\n",
    "    \n",
    "</pre>\n",
    "<p>and gets its help message with command </p>\n",
    "<pre>\n",
    "    script.sos -h\n",
    "    \n",
    "</pre>\n",
    "</div>"
   ]
  },
  {
   "cell_type": "markdown",
   "metadata": {
    "kernel": "SoS"
   },
   "source": [
    "## Adding multiple workflows in one SoS notebook"
   ]
  },
  {
   "cell_type": "markdown",
   "metadata": {
    "kernel": "SoS"
   },
   "source": [
    "If your analysis contains multiple related or unrealted steps, you can include them all in the notebook and execute them with their names."
   ]
  },
  {
   "cell_type": "code",
   "execution_count": 7,
   "metadata": {
    "kernel": "SoS"
   },
   "outputs": [],
   "source": [
    "[global]\n",
    "excel_file = 'data/DEG.xlsx'\n",
    "csv_file = 'DEG.csv'\n",
    "figure_file = 'output.pdf'\n",
    "\n",
    "[convert]\n",
    "run: expand=True\n",
    "    xlsx2csv {excel_file} > {csv_file}\n",
    "\n",
    "[plot]\n",
    "R: expand=True\n",
    "    data <- read.csv('{csv_file}')\n",
    "    pdf('{figure_file}')\n",
    "    plot(data$log2FoldChange, data$stat)\n",
    "    dev.off()"
   ]
  },
  {
   "cell_type": "markdown",
   "metadata": {
    "kernel": "SoS"
   },
   "source": [
    "## Adding step input and output to analysis input files in parallel"
   ]
  },
  {
   "cell_type": "markdown",
   "metadata": {
    "kernel": "SoS"
   },
   "source": [
    "Now that you have learned the basics of SoS, you can go ahead and use them to oraganize your scripts. However, SoS is very powerful system and can be used to write powerful workflows and execute scripts in containers and remote hosts. The following example from [How to define and execute basic SoS workflows](doc/user_guide/forward_workflow.html) demonstrates the creation and passing of substeps and you can learn more from other tutorials."
   ]
  },
  {
   "cell_type": "code",
   "execution_count": 8,
   "metadata": {
    "kernel": "SoS"
   },
   "outputs": [],
   "source": [
    "[10]\n",
    "input: 'data/S20_R1.fastq', 'data/S20_R2.fastq', group_by=1\n",
    "output: f'{_input:n}_fastqc.html'\n",
    "\n",
    "sh: expand=True\n",
    "    fastqc {_input}\n",
    "    \n",
    "[20]\n",
    "\n",
    "from bs4 import BeautifulSoup\n",
    "\n",
    "with open(_input) as html:\n",
    "    soup = BeautifulSoup(html)\n",
    "    for h2 in soup.findAll('h2'):\n",
    "        if h2.img:\n",
    "            print(f\"{_input:bn} {h2.text}: {h2.img['alt']}\")"
   ]
  }
 ],
 "metadata": {
  "kernelspec": {
   "display_name": "SoS",
   "language": "sos",
   "name": "sos"
  },
  "language_info": {
   "codemirror_mode": "sos",
   "file_extension": ".sos",
   "mimetype": "text/x-sos",
   "name": "sos",
   "nbconvert_exporter": "sos_notebook.converter.SoS_Exporter",
   "pygments_lexer": "sos"
  },
  "sos": {
   "kernels": [
    [
     "Bash",
     "bash",
     "Bash",
     "#E6EEFF"
    ],
    [
     "R",
     "ir",
     "R",
     "#DCDCDA"
    ],
    [
     "SoS",
     "sos",
     "",
     ""
    ]
   ],
   "panel": {
    "displayed": true,
    "height": 0
   },
   "version": "0.17.5"
  }
 },
 "nbformat": 4,
 "nbformat_minor": 2
}
