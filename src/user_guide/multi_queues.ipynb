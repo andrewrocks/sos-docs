{
 "cells": [
  {
   "cell_type": "markdown",
   "metadata": {
    "kernel": "SoS"
   },
   "source": [
    "# How to use different hosts to execute tasks in the same workflow"
   ]
  },
  {
   "cell_type": "markdown",
   "metadata": {
    "kernel": "SoS"
   },
   "source": [
    "* **Difficulty level**: easy\n",
    "* **Time need to lean**: 10 minutes or less\n",
    "* **Key points**:\n",
    "  * Tasks are usually submitted to queues specified from command line (option `-q`)\n",
    "  * Tasks with specified queues (`task: queue='name'`) are not affected\n",
    "  * Different queues can be specified in a SoS workflow"
   ]
  },
  {
   "cell_type": "markdown",
   "metadata": {
    "kernel": "SoS"
   },
   "source": [
    "## Default queue"
   ]
  },
  {
   "cell_type": "markdown",
   "metadata": {
    "kernel": "SoS"
   },
   "source": [
    "Tasks are by default sent to `localhost`, in which tasks are executed as background processes."
   ]
  },
  {
   "cell_type": "code",
   "execution_count": 4,
   "metadata": {
    "kernel": "SoS"
   },
   "outputs": [
    {
     "data": {
      "text/html": [
       "\n",
       "<table id=\"workflow_9be2ded9-c0fd-4f75-a257-a64eb7b37f9c\" class=\"workflow_table  completed\">\n",
       "<tr>\n",
       "      <td class=\"workflow_icon\">\n",
       "        <i id=\"workflow_status_icon_9be2ded9-c0fd-4f75-a257-a64eb7b37f9c\" class=\"fa fa-2x fa-fw fa-check-square-o\"\n",
       "        onmouseover='this.classList=\"fa fa-2x fa-fw fa-trash\"' onmouseleave='this.classList=\"fa fa-2x fa-fw fa-check-square-o\"' onclick=\"cancel_workflow(this.id.substring(21))\"></i>\n",
       "      </td>\n",
       "      <td class=\"workflow_name\">\n",
       "        <pre><span id=\"workflow_name_9be2ded9-c0fd-4f75-a257-a64eb7b37f9c\">default</span></pre>\n",
       "      </td>\n",
       "      <td class=\"workflow_id\">\n",
       "        <span>Workflow ID</span></br>\n",
       "        <pre><i class=\"fa fa-fw fa-sitemap\"></i><span id=\"workflow_id_9be2ded9-c0fd-4f75-a257-a64eb7b37f9c\">96c43d5f7256320d</span></pre>\n",
       "      </td>\n",
       "      <td class=\"workflow_index\">\n",
       "        <span>Index</span></br>\n",
       "        <pre>#<span id=\"workflow_index_9be2ded9-c0fd-4f75-a257-a64eb7b37f9c\">4</span></pre>\n",
       "      </td>\n",
       "      <td class=\"workflow_status\">\n",
       "        <span id=\"status_text_9be2ded9-c0fd-4f75-a257-a64eb7b37f9c\">completed</span></br>\n",
       "        <pre><i class=\"fa fa-fw fa-clock-o\"></i><time id=\"status_duration_9be2ded9-c0fd-4f75-a257-a64eb7b37f9c\" class=\"completed\" datetime=\"1547248344312.1973\">Ran for 4 sec</time></pre>\n",
       "      </td>\n",
       "</tr>\n",
       "</table>\n"
      ]
     },
     "metadata": {},
     "output_type": "display_data"
    },
    {
     "data": {
      "text/html": [
       "\n",
       "<table id=\"task_macpro_6ebf5fda326f8f22\" class=\"task_table completed\">\n",
       "<tr>\n",
       "  <td class=\"task_icon\">\n",
       "    <i id=\"task_status_icon_macpro_6ebf5fda326f8f22\" class=\"fa fa-2x fa-fw fa-check-square-o\"\n",
       "    null null null></i>\n",
       "  </td>\n",
       "  <td class=\"task_id\">\n",
       "    <span><pre><i class=\"fa fa-fw fa-sitemap\"></i></pre><pre>6ebf5fda326f8f22<div class=\"task_id_actions\"><i class=\"fa fa-fw fa-refresh\" onclick=\"task_action({action:'status', task:'6ebf5fda326f8f22', queue: 'macpro'})\"></i><i class=\"fa fa-fw fa-play\" onclick=\"task_action({action:'execute', task:'6ebf5fda326f8f22', queue: 'macpro'})\"></i><i class=\"fa fa-fw fa-stop\"\" onclick=\"task_action({action:'kill', task:'6ebf5fda326f8f22', queue: 'macpro'})\"></i><i class=\"fa fa-fw fa-trash\"\" onclick=\"task_action({action:'purge', task:'6ebf5fda326f8f22', queue: 'macpro'})\"></i></div></pre></span>\n",
       "  </td>\n",
       "  <td class=\"task_tags\">\n",
       "    <span id=\"status_tags_macpro_6ebf5fda326f8f22\"><pre><i class=\"fa fa-fw fa-info-circle\"></i></pre><pre class=\"task_tags task_tag_3b7c52cbe3ce2753\">3b7c52cbe3ce2753<div class=\"task_tag_actions\"><i class=\"fa fa-fw fa-refresh\" onclick=\"task_action({action:'status', tag:'3b7c52cbe3ce2753', queue: 'macpro'})\"></i><i class=\"fa fa-fw fa-stop\"\" onclick=\"task_action({action:'kill', tag:'3b7c52cbe3ce2753', queue: 'macpro'})\"></i><i class=\"fa fa-fw fa-trash\"\" onclick=\"task_action({action:'purge', tag:'3b7c52cbe3ce2753', queue: 'macpro'})\"></i></div></pre><pre class=\"task_tags task_tag_default\">default<div class=\"task_tag_actions\"><i class=\"fa fa-fw fa-refresh\" onclick=\"task_action({action:'status', tag:'default', queue: 'macpro'})\"></i><i class=\"fa fa-fw fa-stop\"\" onclick=\"task_action({action:'kill', tag:'default', queue: 'macpro'})\"></i><i class=\"fa fa-fw fa-trash\"\" onclick=\"task_action({action:'purge', tag:'default', queue: 'macpro'})\"></i></div></pre></span>\n",
       "  </td>\n",
       "  <td class=\"task_timer\">\n",
       "    <pre><i class=\"fa fa-fw fa-clock-o\"></i><time id=\"status_duration_macpro_6ebf5fda326f8f22\" class=\"completed\" datetime=\"1547248346646.2458\">Ran for < 5 seconds</time></pre>\n",
       "  </td>\n",
       "  <td class=\"task_status\">\n",
       "    <pre><i class=\"fa fa-fw fa-tasks\"></i><span id=\"status_text_macpro_6ebf5fda326f8f22\">completed</span></pre>\n",
       "  </td>\n",
       "</tr>\n",
       "</table>\n"
      ]
     },
     "metadata": {},
     "output_type": "display_data"
    },
    {
     "data": {
      "text/html": [
       "\n",
       "<table id=\"task_macpro_4fe780b5245b9e7b\" class=\"task_table completed\">\n",
       "<tr>\n",
       "  <td class=\"task_icon\">\n",
       "    <i id=\"task_status_icon_macpro_4fe780b5245b9e7b\" class=\"fa fa-2x fa-fw fa-check-square-o\"\n",
       "    null null null></i>\n",
       "  </td>\n",
       "  <td class=\"task_id\">\n",
       "    <span><pre><i class=\"fa fa-fw fa-sitemap\"></i></pre><pre>4fe780b5245b9e7b<div class=\"task_id_actions\"><i class=\"fa fa-fw fa-refresh\" onclick=\"task_action({action:'status', task:'4fe780b5245b9e7b', queue: 'macpro'})\"></i><i class=\"fa fa-fw fa-play\" onclick=\"task_action({action:'execute', task:'4fe780b5245b9e7b', queue: 'macpro'})\"></i><i class=\"fa fa-fw fa-stop\"\" onclick=\"task_action({action:'kill', task:'4fe780b5245b9e7b', queue: 'macpro'})\"></i><i class=\"fa fa-fw fa-trash\"\" onclick=\"task_action({action:'purge', task:'4fe780b5245b9e7b', queue: 'macpro'})\"></i></div></pre></span>\n",
       "  </td>\n",
       "  <td class=\"task_tags\">\n",
       "    <span id=\"status_tags_macpro_4fe780b5245b9e7b\"><pre><i class=\"fa fa-fw fa-info-circle\"></i></pre><pre class=\"task_tags task_tag_3b7c52cbe3ce2753\">3b7c52cbe3ce2753<div class=\"task_tag_actions\"><i class=\"fa fa-fw fa-refresh\" onclick=\"task_action({action:'status', tag:'3b7c52cbe3ce2753', queue: 'macpro'})\"></i><i class=\"fa fa-fw fa-stop\"\" onclick=\"task_action({action:'kill', tag:'3b7c52cbe3ce2753', queue: 'macpro'})\"></i><i class=\"fa fa-fw fa-trash\"\" onclick=\"task_action({action:'purge', tag:'3b7c52cbe3ce2753', queue: 'macpro'})\"></i></div></pre><pre class=\"task_tags task_tag_default\">default<div class=\"task_tag_actions\"><i class=\"fa fa-fw fa-refresh\" onclick=\"task_action({action:'status', tag:'default', queue: 'macpro'})\"></i><i class=\"fa fa-fw fa-stop\"\" onclick=\"task_action({action:'kill', tag:'default', queue: 'macpro'})\"></i><i class=\"fa fa-fw fa-trash\"\" onclick=\"task_action({action:'purge', tag:'default', queue: 'macpro'})\"></i></div></pre></span>\n",
       "  </td>\n",
       "  <td class=\"task_timer\">\n",
       "    <pre><i class=\"fa fa-fw fa-clock-o\"></i><time id=\"status_duration_macpro_4fe780b5245b9e7b\" class=\"completed\" datetime=\"1547248346756.4932\">Ran for < 5 seconds</time></pre>\n",
       "  </td>\n",
       "  <td class=\"task_status\">\n",
       "    <pre><i class=\"fa fa-fw fa-tasks\"></i><span id=\"status_text_macpro_4fe780b5245b9e7b\">completed</span></pre>\n",
       "  </td>\n",
       "</tr>\n",
       "</table>\n"
      ]
     },
     "metadata": {},
     "output_type": "display_data"
    }
   ],
   "source": [
    "%run -v0\n",
    "\n",
    "input: for_each=dict(i=range(2))\n",
    "task:\n",
    "sh: expand=True\n",
    "echo \"I am task {i}\""
   ]
  },
  {
   "cell_type": "markdown",
   "metadata": {
    "kernel": "SoS"
   },
   "source": [
    "You can specify a different queue from the command line, this queue will be used for all tasks in the workflow. In this example I am submitting the tasks to a virtual machine with a [Task Spooler](http://manpages.ubuntu.com/manpages/xenial/man1/tsp.1.html) batch system:"
   ]
  },
  {
   "cell_type": "code",
   "execution_count": 5,
   "metadata": {
    "kernel": "SoS"
   },
   "outputs": [
    {
     "data": {
      "text/html": [
       "\n",
       "<table id=\"workflow_15b9cb2b-b80b-4650-ba40-1fdbe404d761\" class=\"workflow_table  completed\">\n",
       "<tr>\n",
       "      <td class=\"workflow_icon\">\n",
       "        <i id=\"workflow_status_icon_15b9cb2b-b80b-4650-ba40-1fdbe404d761\" class=\"fa fa-2x fa-fw fa-check-square-o\"\n",
       "        onmouseover='this.classList=\"fa fa-2x fa-fw fa-trash\"' onmouseleave='this.classList=\"fa fa-2x fa-fw fa-check-square-o\"' onclick=\"cancel_workflow(this.id.substring(21))\"></i>\n",
       "      </td>\n",
       "      <td class=\"workflow_name\">\n",
       "        <pre><span id=\"workflow_name_15b9cb2b-b80b-4650-ba40-1fdbe404d761\">default</span></pre>\n",
       "      </td>\n",
       "      <td class=\"workflow_id\">\n",
       "        <span>Workflow ID</span></br>\n",
       "        <pre><i class=\"fa fa-fw fa-sitemap\"></i><span id=\"workflow_id_15b9cb2b-b80b-4650-ba40-1fdbe404d761\">96c43d5f7256320d</span></pre>\n",
       "      </td>\n",
       "      <td class=\"workflow_index\">\n",
       "        <span>Index</span></br>\n",
       "        <pre>#<span id=\"workflow_index_15b9cb2b-b80b-4650-ba40-1fdbe404d761\">5</span></pre>\n",
       "      </td>\n",
       "      <td class=\"workflow_status\">\n",
       "        <span id=\"status_text_15b9cb2b-b80b-4650-ba40-1fdbe404d761\">completed</span></br>\n",
       "        <pre><i class=\"fa fa-fw fa-clock-o\"></i><time id=\"status_duration_15b9cb2b-b80b-4650-ba40-1fdbe404d761\" class=\"completed\" datetime=\"1547248414239.857\">Ran for 49 sec</time></pre>\n",
       "      </td>\n",
       "</tr>\n",
       "</table>\n"
      ]
     },
     "metadata": {},
     "output_type": "display_data"
    },
    {
     "data": {
      "text/html": [
       "\n",
       "<table id=\"task_vm_4fe780b5245b9e7b\" class=\"task_table completed\">\n",
       "<tr>\n",
       "  <td class=\"task_icon\">\n",
       "    <i id=\"task_status_icon_vm_4fe780b5245b9e7b\" class=\"fa fa-2x fa-fw fa-check-square-o\"\n",
       "    null null null></i>\n",
       "  </td>\n",
       "  <td class=\"task_id\">\n",
       "    <span><pre><i class=\"fa fa-fw fa-sitemap\"></i></pre><pre>4fe780b5245b9e7b<div class=\"task_id_actions\"><i class=\"fa fa-fw fa-refresh\" onclick=\"task_action({action:'status', task:'4fe780b5245b9e7b', queue: 'vm'})\"></i><i class=\"fa fa-fw fa-play\" onclick=\"task_action({action:'execute', task:'4fe780b5245b9e7b', queue: 'vm'})\"></i><i class=\"fa fa-fw fa-stop\"\" onclick=\"task_action({action:'kill', task:'4fe780b5245b9e7b', queue: 'vm'})\"></i><i class=\"fa fa-fw fa-trash\"\" onclick=\"task_action({action:'purge', task:'4fe780b5245b9e7b', queue: 'vm'})\"></i></div></pre></span>\n",
       "  </td>\n",
       "  <td class=\"task_tags\">\n",
       "    <span id=\"status_tags_vm_4fe780b5245b9e7b\"><pre><i class=\"fa fa-fw fa-info-circle\"></i></pre><pre class=\"task_tags task_tag_3b7c52cbe3ce2753\">3b7c52cbe3ce2753<div class=\"task_tag_actions\"><i class=\"fa fa-fw fa-refresh\" onclick=\"task_action({action:'status', tag:'3b7c52cbe3ce2753', queue: 'vm'})\"></i><i class=\"fa fa-fw fa-stop\"\" onclick=\"task_action({action:'kill', tag:'3b7c52cbe3ce2753', queue: 'vm'})\"></i><i class=\"fa fa-fw fa-trash\"\" onclick=\"task_action({action:'purge', tag:'3b7c52cbe3ce2753', queue: 'vm'})\"></i></div></pre><pre class=\"task_tags task_tag_default\">default<div class=\"task_tag_actions\"><i class=\"fa fa-fw fa-refresh\" onclick=\"task_action({action:'status', tag:'default', queue: 'vm'})\"></i><i class=\"fa fa-fw fa-stop\"\" onclick=\"task_action({action:'kill', tag:'default', queue: 'vm'})\"></i><i class=\"fa fa-fw fa-trash\"\" onclick=\"task_action({action:'purge', tag:'default', queue: 'vm'})\"></i></div></pre></span>\n",
       "  </td>\n",
       "  <td class=\"task_timer\">\n",
       "    <pre><i class=\"fa fa-fw fa-clock-o\"></i><time id=\"status_duration_vm_4fe780b5245b9e7b\" class=\"completed\" datetime=\"1546572214795.9844\">Ran for < 5 seconds</time></pre>\n",
       "  </td>\n",
       "  <td class=\"task_status\">\n",
       "    <pre><i class=\"fa fa-fw fa-tasks\"></i><span id=\"status_text_vm_4fe780b5245b9e7b\">completed</span></pre>\n",
       "  </td>\n",
       "</tr>\n",
       "</table>\n"
      ]
     },
     "metadata": {},
     "output_type": "display_data"
    },
    {
     "data": {
      "text/html": [
       "\n",
       "<table id=\"task_vm_6ebf5fda326f8f22\" class=\"task_table completed\">\n",
       "<tr>\n",
       "  <td class=\"task_icon\">\n",
       "    <i id=\"task_status_icon_vm_6ebf5fda326f8f22\" class=\"fa fa-2x fa-fw fa-check-square-o\"\n",
       "    null null null></i>\n",
       "  </td>\n",
       "  <td class=\"task_id\">\n",
       "    <span><pre><i class=\"fa fa-fw fa-sitemap\"></i></pre><pre>6ebf5fda326f8f22<div class=\"task_id_actions\"><i class=\"fa fa-fw fa-refresh\" onclick=\"task_action({action:'status', task:'6ebf5fda326f8f22', queue: 'vm'})\"></i><i class=\"fa fa-fw fa-play\" onclick=\"task_action({action:'execute', task:'6ebf5fda326f8f22', queue: 'vm'})\"></i><i class=\"fa fa-fw fa-stop\"\" onclick=\"task_action({action:'kill', task:'6ebf5fda326f8f22', queue: 'vm'})\"></i><i class=\"fa fa-fw fa-trash\"\" onclick=\"task_action({action:'purge', task:'6ebf5fda326f8f22', queue: 'vm'})\"></i></div></pre></span>\n",
       "  </td>\n",
       "  <td class=\"task_tags\">\n",
       "    <span id=\"status_tags_vm_6ebf5fda326f8f22\"><pre><i class=\"fa fa-fw fa-info-circle\"></i></pre><pre class=\"task_tags task_tag_3b7c52cbe3ce2753\">3b7c52cbe3ce2753<div class=\"task_tag_actions\"><i class=\"fa fa-fw fa-refresh\" onclick=\"task_action({action:'status', tag:'3b7c52cbe3ce2753', queue: 'vm'})\"></i><i class=\"fa fa-fw fa-stop\"\" onclick=\"task_action({action:'kill', tag:'3b7c52cbe3ce2753', queue: 'vm'})\"></i><i class=\"fa fa-fw fa-trash\"\" onclick=\"task_action({action:'purge', tag:'3b7c52cbe3ce2753', queue: 'vm'})\"></i></div></pre><pre class=\"task_tags task_tag_default\">default<div class=\"task_tag_actions\"><i class=\"fa fa-fw fa-refresh\" onclick=\"task_action({action:'status', tag:'default', queue: 'vm'})\"></i><i class=\"fa fa-fw fa-stop\"\" onclick=\"task_action({action:'kill', tag:'default', queue: 'vm'})\"></i><i class=\"fa fa-fw fa-trash\"\" onclick=\"task_action({action:'purge', tag:'default', queue: 'vm'})\"></i></div></pre></span>\n",
       "  </td>\n",
       "  <td class=\"task_timer\">\n",
       "    <pre><i class=\"fa fa-fw fa-clock-o\"></i><time id=\"status_duration_vm_6ebf5fda326f8f22\" class=\"completed\" datetime=\"1546572216390.4468\">Ran for < 5 seconds</time></pre>\n",
       "  </td>\n",
       "  <td class=\"task_status\">\n",
       "    <pre><i class=\"fa fa-fw fa-tasks\"></i><span id=\"status_text_vm_6ebf5fda326f8f22\">completed</span></pre>\n",
       "  </td>\n",
       "</tr>\n",
       "</table>\n"
      ]
     },
     "metadata": {},
     "output_type": "display_data"
    }
   ],
   "source": [
    "%run -q vm -v0\n",
    "\n",
    "input: for_each=dict(i=range(2))\n",
    "task:\n",
    "sh: expand=True\n",
    "echo \"I am task {i}\""
   ]
  },
  {
   "cell_type": "markdown",
   "metadata": {
    "kernel": "SoS"
   },
   "source": [
    "As a special case, you can specify from command line option `-q none`, which basically disables the task statement so that tasks are executed as part of the step process."
   ]
  },
  {
   "cell_type": "code",
   "execution_count": 6,
   "metadata": {
    "kernel": "SoS"
   },
   "outputs": [
    {
     "data": {
      "text/html": []
     },
     "metadata": {},
     "output_type": "display_data"
    }
   ],
   "source": [
    "%run -q none -v0\n",
    "\n",
    "input: for_each=dict(i=range(2))\n",
    "task:\n",
    "sh: expand=True\n",
    "echo \"I am task {i}\""
   ]
  },
  {
   "cell_type": "markdown",
   "metadata": {
    "kernel": "SoS",
    "output_cache": "[]"
   },
   "source": [
    "## Task specific queues"
   ]
  },
  {
   "cell_type": "markdown",
   "metadata": {
    "kernel": "SoS"
   },
   "source": [
    "The `default` queue is applied to all tasks in a workflow. If some of your tasks can only be executed in a particular remote host, it makes sense to specify it with the task using the `queue` option. In this case, the command line option will be ignored:"
   ]
  },
  {
   "cell_type": "code",
   "execution_count": 11,
   "metadata": {
    "kernel": "SoS"
   },
   "outputs": [
    {
     "data": {
      "text/html": [
       "\n",
       "<table id=\"workflow_516e6483-0697-4f7d-8170-24f364b3a753\" class=\"workflow_table  completed\">\n",
       "<tr>\n",
       "      <td class=\"workflow_icon\">\n",
       "        <i id=\"workflow_status_icon_516e6483-0697-4f7d-8170-24f364b3a753\" class=\"fa fa-2x fa-fw fa-check-square-o\"\n",
       "        onmouseover='this.classList=\"fa fa-2x fa-fw fa-trash\"' onmouseleave='this.classList=\"fa fa-2x fa-fw fa-check-square-o\"' onclick=\"cancel_workflow(this.id.substring(21))\"></i>\n",
       "      </td>\n",
       "      <td class=\"workflow_name\">\n",
       "        <pre><span id=\"workflow_name_516e6483-0697-4f7d-8170-24f364b3a753\">default</span></pre>\n",
       "      </td>\n",
       "      <td class=\"workflow_id\">\n",
       "        <span>Workflow ID</span></br>\n",
       "        <pre><i class=\"fa fa-fw fa-sitemap\"></i><span id=\"workflow_id_516e6483-0697-4f7d-8170-24f364b3a753\">96c43d5f7256320d</span></pre>\n",
       "      </td>\n",
       "      <td class=\"workflow_index\">\n",
       "        <span>Index</span></br>\n",
       "        <pre>#<span id=\"workflow_index_516e6483-0697-4f7d-8170-24f364b3a753\">11</span></pre>\n",
       "      </td>\n",
       "      <td class=\"workflow_status\">\n",
       "        <span id=\"status_text_516e6483-0697-4f7d-8170-24f364b3a753\">completed</span></br>\n",
       "        <pre><i class=\"fa fa-fw fa-clock-o\"></i><time id=\"status_duration_516e6483-0697-4f7d-8170-24f364b3a753\" class=\"completed\" datetime=\"1547248762689.3298\">Ran for 6 sec</time></pre>\n",
       "      </td>\n",
       "</tr>\n",
       "</table>\n"
      ]
     },
     "metadata": {},
     "output_type": "display_data"
    },
    {
     "data": {
      "text/html": [
       "<div class=\"sos_logging sos_info\">INFO: Running <span class=\"sos_highlight\">default</span>: \n",
       "</div>"
      ]
     },
     "metadata": {},
     "output_type": "display_data"
    },
    {
     "data": {
      "text/html": [
       "<div class=\"sos_logging sos_info\">INFO: 4fe780b5245b9e7b <span class=\"sos_highlight\">re-execute completed</span>\n",
       "</div>"
      ]
     },
     "metadata": {},
     "output_type": "display_data"
    },
    {
     "data": {
      "text/html": [
       "<div class=\"sos_logging sos_info\">INFO: 6ebf5fda326f8f22 <span class=\"sos_highlight\">re-execute completed</span>\n",
       "</div>"
      ]
     },
     "metadata": {},
     "output_type": "display_data"
    },
    {
     "data": {
      "text/html": [
       "<div class=\"sos_logging sos_info\">INFO: 4fe780b5245b9e7b <span class=\"sos_highlight\">submitted</span> to vm with job id 425\n",
       "</div>"
      ]
     },
     "metadata": {},
     "output_type": "display_data"
    },
    {
     "data": {
      "text/html": [
       "<div class=\"sos_logging sos_info\">INFO: 6ebf5fda326f8f22 <span class=\"sos_highlight\">submitted</span> to vm with job id 426\n",
       "</div>"
      ]
     },
     "metadata": {},
     "output_type": "display_data"
    },
    {
     "data": {
      "text/html": [
       "<div class=\"sos_logging sos_info\">INFO: Workflow default (ID=96c43d5f7256320d) is executed successfully with 1 completed step, 2 completed substeps and 2 completed tasks.\n",
       "</div>"
      ]
     },
     "metadata": {},
     "output_type": "display_data"
    }
   ],
   "source": [
    "%run -s force\n",
    "\n",
    "input: for_each=dict(i=range(2))\n",
    "task: queue='vm'\n",
    "sh: expand=True\n",
    "echo \"I am task {i}\""
   ]
  },
  {
   "cell_type": "markdown",
   "metadata": {
    "kernel": "SoS"
   },
   "source": [
    "Actually, the `ignored` description is not entirely correct because the default queue will still be applied to tasks without default queue, so tasks in your workflow can have send to multiple queues. For example, the following workflow would send three tasks to `q0` (default, applied to step `1`), `q1` (applied to step `1`) and `q2` (applied to step `2`)."
   ]
  },
  {
   "cell_type": "code",
   "execution_count": null,
   "metadata": {
    "kernel": "SoS"
   },
   "outputs": [],
   "source": [
    "%run -q q0 -s force\n",
    "\n",
    "[1]\n",
    "task:\n",
    "print(f'this is task {step_name}')\n",
    "\n",
    "[2]\n",
    "task: queue='q1'\n",
    "print(f'this is task {step_name}')\n",
    "\n",
    "[3]\n",
    "task: queue='q2'\n",
    "print(f'this is task {step_name}')\n"
   ]
  },
  {
   "cell_type": "markdown",
   "metadata": {
    "kernel": "SoS"
   },
   "source": [
    "## Further reading\n",
    "\n",
    "* "
   ]
  }
 ],
 "metadata": {
  "kernelspec": {
   "display_name": "SoS",
   "language": "sos",
   "name": "sos"
  },
  "language_info": {
   "codemirror_mode": "sos",
   "file_extension": ".sos",
   "mimetype": "text/x-sos",
   "name": "sos",
   "nbconvert_exporter": "sos_notebook.converter.SoS_Exporter",
   "pygments_lexer": "sos"
  },
  "sos": {
   "kernels": [
    [
     "Bash",
     "bash",
     "Bash",
     "#E6EEFF"
    ],
    [
     "R",
     "ir",
     "R",
     "#DCDCDA"
    ],
    [
     "SoS",
     "sos",
     "",
     ""
    ]
   ],
   "panel": {
    "displayed": true,
    "height": 0
   },
   "version": "0.17.5"
  }
 },
 "nbformat": 4,
 "nbformat_minor": 2
}
