{
 "cells": [
  {
   "cell_type": "markdown",
   "metadata": {
    "kernel": "SoS"
   },
   "source": [
    "The following tutorials are under development and we indicate the readiness of guides with <i class='fa fa-check-circle' style='color:lightgray;'></i> (not ready), <i class='fa fa-check-circle' style='color:orange;'></i> (in progress), and <i class='fa fa-check-circle' style='color:green;'></i> (ready). There are a lot to cover and there will be typos and errors here and there. If you spot an error or feel like contributing to the document, please \n",
    "\n",
    "1. Click the &nbsp; <i class=\"fa fa-edit fa-2x\"></i> &nbsp; button to the top right corner of each tutorial\n",
    "2. Execute the notebook and edit it on our live server\n",
    "3. Enter `!create-pr <Shift-Enter>` in the console panel to send us a PR"
   ]
  },
  {
   "cell_type": "markdown",
   "metadata": {
    "kernel": "SoS"
   },
   "source": [
    "## SoS Polyglot Notebook"
   ]
  },
  {
   "cell_type": "markdown",
   "metadata": {
    "kernel": "SoS"
   },
   "source": [
    "### The basics \n",
    " * <i class='fa-li fa fa-check-circle' style='color:orange;'></i> [Basic Usages](doc/user_guide/multi_kernel_notebook.html)\n",
    " * <i class='fa-li fa fa-check-circle' style='color:orange;'></i> [Working with subkernels](doc/user_guide/expand_capture_render.html)\n",
    " * <i class='fa-li fa fa-check-circle' style='color:lightgray;'></i> [Exchanging data among kernels](doc/user_guide/exchange_variable.html)\n",
    " * <i class='fa-li fa fa-check-circle' style='color:orange;'></i> [Using the console panel](doc/user_guide/sos_interactive.html)\n",
    " * <i class='fa-li fa fa-check-circle' style='color:orange;'></i> [Preview variables and files](doc/user_guide/magic_preview.html)\n",
    " * <i class='fa-li fa fa-check-circle' style='color:orange;'></i> [Tracking session information of kernels](doc/user_guide/magic_sessioninfo.html)\n",
    " * <i class='fa-li fa fa-check-circle' style='color:orange;'></i> [Tracking revisions of notebooks](doc/user_guide/magic_revisions.html)\n",
    " * <i class='fa-li fa fa-check-circle' style='color:lightgray;'></i> [Exporting reports in HTML format](doc/user_guide/magic_sossave.html)\n",
    " * <i class='fa-li fa fa-check-circle' style='color:green;'></i> [More on magic <code>use</code>](doc/user_guide/magic_use.html)   \n"
   ]
  },
  {
   "cell_type": "markdown",
   "metadata": {
    "kernel": "SoS"
   },
   "source": [
    "### Supported languages \n",
    "\n",
    " * <i class='fa-li fa fa-check-circle' style='color:lightgray;'></i> [Working with Bash](doc/user_guide/sos_bash.html)\n",
    " * <i class='fa-li fa fa-check-circle' style='color:orange;'></i> [Working with JavaScript and TypeScript](doc/user_guide/sos_javascript.html)\n",
    " * <i class='fa-li fa fa-check-circle' style='color:orange;'></i> [Working with Julia](doc/user_guide/sos_julia.html)\n",
    " * <i class='fa-li fa fa-check-circle' style='color:orange;'></i> [Working with Matlab and Octave](doc/user_guide/sos_matlab.html)\n",
    " * <i class='fa-li fa fa-check-circle' style='color:lightgray;'></i> [Working with Ruby](doc/user_guide/sos_ruby.html)\n",
    " * <i class='fa-li fa fa-check-circle' style='color:lightgray;'></i> [Working with Python 2, and Python3](doc/user_guide/sos_python.html)\n",
    " * <i class='fa-li fa fa-check-circle' style='color:orange;'></i> [Working with R](doc/user_guide/sos_r.html)\n",
    " * <i class='fa-li fa fa-check-circle' style='color:orange;'></i> [Working with SAS](doc/user_guide/sos_sas.html)\n",
    " * <i class='fa-li fa fa-check-circle' style='color:green;'></i> [Working with Stata](doc/user_guide/sos_stata.html)\n",
    " * <i class='fa-li fa fa-check-circle' style='color:lightgray;'></i> [Uisng the markdown kernel](doc/user_guide/markdown_kernel.html)\n"
   ]
  },
  {
   "cell_type": "markdown",
   "metadata": {
    "kernel": "SoS"
   },
   "source": [
    "### The technical details\n",
    "   \n",
    " * <i class='fa-li fa fa-check-circle' style='color:lightgray;'></i> [SoS Magics](doc/user_guide/sos_magics.html)\n"
   ]
  },
  {
   "cell_type": "markdown",
   "metadata": {
    "kernel": "SoS"
   },
   "source": [
    "## SoS Workflow System"
   ]
  },
  {
   "cell_type": "markdown",
   "metadata": {
    "kernel": "SoS"
   },
   "source": [
    "### The essentials \n",
    "\n",
    " * <i class='fa-li fa fa-check-circle' style='color:green;'></i> [Getting started](doc/user_guide/sos_in_notebook.html)\n",
    " * <i class='fa-li fa fa-check-circle' style='color:green;'></i> [Inclusion of scripts](doc/user_guide/scripts_in_sos.html)\n",
    " * <i class='fa-li fa fa-check-circle' style='color:green;'></i> [Using variables and parameters](doc/user_guide/parameters.html)\n",
    " * <i class='fa-li fa fa-check-circle' style='color:green;'></i> [Step input, output, and substeps](doc/user_guide/input_substeps.html)\n",
    " * <i class='fa-li fa fa-check-circle' style='color:green;'></i> [Basic SoS workflows](doc/user_guide/forward_workflow.html)\n",
    " * <i class='fa-li fa fa-check-circle' style='color:green;'></i> [Using SoS Notebook for daily data analysis](doc/user_guide/organize_scripts.html)"
   ]
  },
  {
   "cell_type": "markdown",
   "metadata": {
    "kernel": "SoS"
   },
   "source": [
    "### SoS Actions \n",
    " * <i class='fa-li fa fa-check-circle' style='color:lightgray;'></i> [Executing shell scripts](doc/user_guide/shell_actions.html)\n",
    " * <i class='fa-li fa fa-check-circle' style='color:orange;'></i> [Executing scripts in Python, R, and others](doc/user_guide/script_actions.html)\n",
    " * <i class='fa-li fa fa-check-circle' style='color:lightgray;'></i> [Passing additional parameters to interpreters](doc/user_guide/action_param.html)\n",
    " * <i class='fa-li fa fa-check-circle' style='color:orange;'></i> [Generating plain-text reports](doc/user_guide/report_action.html)\n",
    " * <i class='fa-li fa fa-check-circle' style='color:lightgray;'></i> [Generate HTML reports](doc/user_guide/html_report_actions.html)\n",
    " * <i class='fa-li fa fa-check-circle' style='color:orange;'></i> [Downloading files](doc/user_guide/download_actions.html)\n",
    " * <i class='fa-li fa fa-check-circle' style='color:lightgray;'></i> [Control structure in substeps](doc/user_guide/control_actions.html)\n",
    " * <i class='fa-li fa fa-check-circle' style='color:lightgray;'></i> [Running scripts in docker](doc/user_guide/docker.html)\n",
    " * <i class='fa-li fa fa-check-circle' style='color:lightgray;'></i> [Building docker images](doc/user_guide/docker_build_action.html)\n",
    " * <i class='fa-li fa fa-check-circle' style='color:lightgray;'></i> [Running scripts in singularity](doc/user_guide/singularity.html)"
   ]
  },
  {
   "cell_type": "markdown",
   "metadata": {
    "kernel": "SoS"
   },
   "source": [
    "### SoS Steps\n",
    "\n",
    " * <i class='fa-li fa fa-check-circle' style='color:green;'></i> [Defining step inputs](doc/user_guide/input_statement.html)\n",
    " * <i class='fa-li fa fa-check-circle' style='color:green;'></i> [Defining step output](doc/user_guide/output_statement.html)\n",
    " * <i class='fa-li fa fa-check-circle' style='color:green;'></i> [Defining step dependencies](doc/user_guide/depends_statement.html)\n",
    " * <i class='fa-li fa fa-check-circle' style='color:orange;'></i> [Formatting paths](doc/user_guide/path_formatting.html) \n",
    " * <i class='fa-li fa fa-check-circle' style='color:green;'></i> [Scope of variables](doc/user_guide/step_variables.html)\n",
    " * <i class='fa-li fa fa-check-circle' style='color:lightgray;'></i> [SoS \"targets\"](doc/user_guide/targets.html) \n",
    " * <i class='fa-li fa fa-check-circle' style='color:green;'></i> [Named input and output](doc/user_guide/target_label.html)\n",
    " * <i class='fa-li fa fa-check-circle' style='color:orange;'></i> [Grouping input files](doc/user_guide/group_by.html)\n",
    " * <i class='fa-li fa fa-check-circle' style='color:orange;'></i> [Repeating substeps with different variables](doc/user_guide/for_each.html)\n",
    " * <i class='fa-li fa fa-check-circle' style='color:lightgray;'></i> [Attaching variables to targets](doc/user_guide/paired_group_with.html) \n",
    " * <i class='fa-li fa fa-check-circle' style='color:lightgray;'></i> [Extracting variables from filenames](doc/user_guide/input_pattern.html) \n",
    " * <i class='fa-li fa fa-check-circle' style='color:lightgray;'></i> [Dynamic input and output files](doc/user_guide/dynamic.html) \n",
    " * <i class='fa-li fa fa-check-circle' style='color:lightgray;'></i> [Removing intermediate files](doc/user_guide/zap.html) \n",
    " * <i class='fa-li fa fa-check-circle' style='color:lightgray;'></i> [Changing `$PATH`](doc/user_guide/action_env.html) \n",
    " * <i class='fa-li fa fa-check-circle' style='color:lightgray;'></i> [Redirecting input and output](doc/user_guide/action_input_output.html) \n",
    " * <i class='fa-li fa fa-check-circle' style='color:green;'></i> [Running substeps sequentially](doc/user_guide/concurrent_substep.html)\n",
    " * <i class='fa-li fa fa-check-circle' style='color:lightgray;'></i> [Attaching variables with step output](doc/user_guide/output_groups_vars.html) \n"
   ]
  },
  {
   "cell_type": "markdown",
   "metadata": {
    "kernel": "SoS"
   },
   "source": [
    "### Defining workflows\n",
    "How to define process-oriented and outcome-oriented workflows\n",
    "\n",
    " * <i class='fa-li fa fa-check-circle' style='color:green;'></i> [Creating dependencies](doc/user_guide/step_dependencies.html)\n",
    " * <i class='fa-li fa fa-check-circle' style='color:lightgray;'></i> [Defining workflows](doc/user_guide/multi_workflow.html) \n",
    " * <i class='fa-li fa fa-check-circle' style='color:orange;'></i> [Adding help messages](doc/user_guide/comment_help.html) \n",
    " * <i class='fa-li fa fa-check-circle' style='color:lightgray;'></i> [Nested workflow](doc/user_guide/nested_workflow.html)\n",
    " * <i class='fa-li fa fa-check-circle' style='color:green;'></i> [Data-flow style workflows](doc/user_guide/data_flow.html)\n",
    " * <i class='fa-li fa fa-check-circle' style='color:green;'></i> [Using `named_output()`](doc/user_guide/named_output.html) \n",
    " * <i class='fa-li fa fa-check-circle' style='color:lightgray;'></i> [Makefile-style pattern-matching rules](doc/user_guide/auxiliary_steps.html)\n",
    " * <i class='fa-li fa fa-check-circle' style='color:lightgray;'></i> [Sharing variables across steps](doc/user_guide/shared_variables.html) \n",
    " * <i class='fa-li fa fa-check-circle' style='color:green;'></i> [Using `output_from()`](doc/user_guide/output_from.html) \n",
    " * <i class='fa-li fa fa-check-circle' style='color:green;'></i> [Target `sos_step`](doc/user_guide/target_sos_step.html) \n",
    " * <i class='fa-li fa fa-check-circle' style='color:lightgray;'></i> [Defining steps in separate files](doc/user_guide/external_scripts.html) \n"
   ]
  },
  {
   "cell_type": "markdown",
   "metadata": {
    "kernel": "SoS"
   },
   "source": [
    "### Executing workflows\n",
    " * <i class='fa-li fa fa-check-circle' style='color:green;'></i> [Controlling verbosity of output and number of workers](doc/user_guide/verbosity_and_jobs.html)\n",
    " * <i class='fa-li fa fa-check-circle' style='color:lightgray;'></i> [Creating workflows from targets](doc/user_guide/target_oriented.html)\n",
    " * <i class='fa-li fa fa-check-circle' style='color:lightgray;'></i> [Using runtime signature](doc/user_guide/signature.html)\n",
    " * <i class='fa-li fa fa-check-circle' style='color:green;'></i> [Tracing dependencies of existing targets](doc/user_guide/trace_dependency.html)\n",
    " * <i class='fa-li fa fa-check-circle' style='color:lightgray;'></i> [Running workflows in `dryrun` mode](doc/user_guide/dryrun.html)\n",
    " * <i class='fa-li fa fa-check-circle' style='color:orange;'></i> [Workflow reports](doc/user_guide/workflow_summary.html)\n",
    " * <i class='fa-li fa fa-check-circle' style='color:lightgray;'></i> [Remote execution](doc/user_guide/remote_execution.html) \n"
   ]
  },
  {
   "cell_type": "markdown",
   "metadata": {
    "kernel": "SoS"
   },
   "source": [
    "### External tasks\n",
    "   \n",
    " * <i class='fa-li fa fa-check-circle' style='color:orange;'></i> [Running external tasks](doc/user_guide/tasks.html)\n",
    " * <i class='fa-li fa fa-check-circle' style='color:green;'></i> [Grouping tasks](doc/user_guide/trunk_size.html)\n",
    " * <i class='fa-li fa fa-check-circle' style='color:orange;'></i> [Specifying resources](doc/user_guide/resources.html) \n",
    " * <i class='fa-li fa fa-check-circle' style='color:lightgray;'></i> [Using multiple task queues](doc/user_guide/multi_queues.html) \n",
    " * <i class='fa-li fa fa-check-circle' style='color:lightgray;'></i> [Using remote filesystems](doc/user_guide/remote_filesystem.html) \n",
    " * <i class='fa-li fa fa-check-circle' style='color:lightgray;'></i> [Syncing files across filesystems](doc/user_guide/file_synchronization.html) \n",
    " * <i class='fa-li fa fa-check-circle' style='color:lightgray;'></i> [Task tags](doc/user_guide/task_tags.html)\n",
    " * <i class='fa-li fa fa-check-circle' style='color:lightgray;'></i> [Remote execution of tasks](doc/user_guide/process_engine.html)\n",
    " * <i class='fa-li fa fa-check-circle' style='color:lightgray;'></i> [Working with PBS/Torque](doc/user_guide/pbs.html) \n",
    " * <i class='fa-li fa fa-check-circle' style='color:lightgray;'></i> [Working with IBM/LSF](doc/user_guide/lsf.html) \n",
    " * <i class='fa-li fa fa-check-circle' style='color:lightgray;'></i> [Working with Slurm](doc/user_guide/slurm.html) \n",
    " * <i class='fa-li fa fa-check-circle' style='color:lightgray;'></i> [Working with RQ](doc/user_guide/rq.html) \n",
    " * <i class='fa-li fa fa-check-circle' style='color:lightgray;'></i> [Working with a non-conventional PBS system](doc/user_guide/other_pbs.html) \n",
    " * <i class='fa-li fa fa-check-circle' style='color:lightgray;'></i> [Monitoring task status](doc/user_guide/task_status.html)\n",
    " * <i class='fa-li fa fa-check-circle' style='color:lightgray;'></i> [Testing host configuration](doc/user_guide/host_setup.html) \n",
    " * <i class='fa-li fa fa-check-circle' style='color:lightgray;'></i> [Killing and removing tasks](doc/user_guide/kill_purge.html)\n",
    " * <i class='fa-li fa fa-check-circle' style='color:lightgray;'></i> [Debugging failed tasks](doc/user_guide/task_error.html)\n"
   ]
  },
  {
   "cell_type": "markdown",
   "metadata": {
    "kernel": "SoS"
   },
   "source": [
    "### The technical details\n",
    "\n",
    " * <i class='fa-li fa fa-check-circle' style='color:lightgray;'></i> [Glossary and file format specification](doc/user_guide/terms_and_format.html)\n",
    " * <i class='fa-li fa fa-check-circle' style='color:orange;'></i> [Command line interface](doc/user_guide/cli.html)\n",
    " * <i class='fa-li fa fa-check-circle' style='color:lightgray;'></i> [SoS Actions](doc/user_guide/sos_actions.html)\n",
    " * <i class='fa-li fa fa-check-circle' style='color:lightgray;'></i> [Parameter `group_by`](doc/user_guide/ref_group_by.html)\n",
    " * <i class='fa-li fa fa-check-circle' style='color:lightgray;'></i> [SoS Data Types](doc/user_guide/sos_datatypes.html)\n",
    " * <i class='fa-li fa fa-check-circle' style='color:lightgray;'></i> [SoS functions](doc/user_guide/sos_functions.html)\n",
    " * <i class='fa-li fa fa-check-circle' style='color:lightgray;'></i> [Remote queue configurations](doc/user_guide/queue_options.html)\n",
    " * <i class='fa-li fa fa-check-circle' style='color:lightgray;'></i> [Task options](doc/user_guide/task_options.html)\n",
    " * <i class='fa-li fa fa-check-circle' style='color:lightgray;'></i> [Extending SoS](doc/user_guide/extending_sos.html)\n"
   ]
  },
  {
   "cell_type": "markdown",
   "metadata": {
    "kernel": "SoS"
   },
   "source": [
    "### Miscellaneous topics\n",
    "\n",
    " * <i class='fa-li fa fa-check-circle' style='color:lightgray;'></i> [Syntax hilighting in vim](doc/user_guide/vim.html)\n",
    " * <i class='fa-li fa fa-check-circle' style='color:lightgray;'></i> [Converting between SoS notebook and SoS scripts](doc/user_guide/convert.html)\n",
    " * <i class='fa-li fa fa-check-circle' style='color:lightgray;'></i> [Exporting SoS Notebook](doc/user_guide/export.html)\n",
    " * <i class='fa-li fa fa-check-circle' style='color:lightgray;'></i> [HTML report of SoS script](doc/user_guide/show_script.html)\n"
   ]
  }
 ],
 "metadata": {
  "anaconda-cloud": {},
  "kernelspec": {
   "display_name": "SoS",
   "language": "sos",
   "name": "sos"
  },
  "language_info": {
   "codemirror_mode": "sos",
   "file_extension": ".sos",
   "mimetype": "text/x-sos",
   "name": "sos",
   "nbconvert_exporter": "sos_notebook.converter.SoS_Exporter",
   "pygments_lexer": "sos"
  },
  "sos": {
   "celltoolbar": true,
   "default_kernel": "SoS",
   "kernels": [],
   "panel": {
    "displayed": true,
    "height": 0,
    "style": "side"
   },
   "version": "0.19.1"
  },
  "toc": {
   "colors": {
    "hover_highlight": "#DAA520",
    "running_highlight": "#FF0000",
    "selected_highlight": "#FFD700"
   },
   "moveMenuLeft": true,
   "nav_menu": {
    "height": "45px",
    "width": "254px"
   },
   "navigate_menu": true,
   "number_sections": true,
   "sideBar": true,
   "threshold": 4,
   "toc_cell": false,
   "toc_section_display": "block",
   "toc_window_display": true
  }
 },
 "nbformat": 4,
 "nbformat_minor": 2
}
