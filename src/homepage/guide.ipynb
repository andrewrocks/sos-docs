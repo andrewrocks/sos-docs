{
 "cells": [
  {
   "cell_type": "markdown",
   "metadata": {
    "kernel": "SoS"
   },
   "source": [
    "# SoS User Guide"
   ]
  },
  {
   "cell_type": "markdown",
   "metadata": {
    "kernel": "SoS"
   },
   "source": [
    "The following guides cover all features of the SoS polyglot notebook and SoS workflow system, organized by particular topics. Most of the tutorials are easy to follow and should take less than 10 minutes to complete, but some contain more advanced features and can be ignored if you are new to SoS. These sections are marked by one or more asterisks (`*`) after tutorial or section headers."
   ]
  },
  {
   "cell_type": "markdown",
   "metadata": {
    "kernel": "SoS"
   },
   "source": [
    "These guides are under development and we indicate the readiness of guides with <i class='fa fa-check-circle' style='color:lightgray;'></i> (not ready), <i class='fa fa-check-circle' style='color:orange;'></i> (in progress), and <i class='fa fa-check-circle' style='color:green;'></i> (ready). There are a lot to cover and there will be typos and errors here and there. If you spot an error or feel like contributing to the document, please fork the [sos-docs](https://github.com/vatlab/sos-docs) repository, use Jupyter Notebook or Jupyter Lab to revise the documents under the [user_guide](https://github.com/vatlab/sos-docs/tree/master/src/user_guide) directory, and send us a PR. Thanks! "
   ]
  },
  {
   "cell_type": "markdown",
   "metadata": {
    "kernel": "SoS"
   },
   "source": [
    "## SoS Polyglot Notebook"
   ]
  },
  {
   "cell_type": "markdown",
   "metadata": {
    "kernel": "SoS"
   },
   "source": [
    "### The basics \n",
    "\n",
    "How to use multiple kernels in one Jupyter notebook\n",
    "\n",
    " * <i class='fa-li fa fa-check-circle' style='color:orange;'></i> [How to use multiple kernels in one Jupyter notebook](doc/user_guide/multi_kernel_notebook.html)<br>\n",
    "   <small>Using SoS and multiple subkernels in one Jupyter notebook</small>\n",
    " * <i class='fa-li fa fa-check-circle' style='color:orange;'></i> [How to deal with input and output of subkernels](doc/user_guide/expand_capture_render.html)<br>\n",
    "   <small>Use of <code>expand</code>, <code>capture</code> and <code>render</code> magics</small>   \n",
    " * <i class='fa-li fa fa-check-circle' style='color:lightgray;'></i> [How to exchange variables among living subkernels](doc/user_guide/exchange_variable.html)<br>\n",
    "   <small>Magics <code>%get</code> and <code>%put</code></small>\n",
    " * <i class='fa-li fa fa-check-circle' style='color:orange;'></i> [How to use SoS notebook for interactive data analysis](doc/user_guide/sos_interactive.html)<br>\n",
    "   <small>Line by line execution and the use of console panel</small> \n",
    " * <i class='fa-li fa fa-check-circle' style='color:orange;'></i> [How to preview content of variables and files](doc/user_guide/magic_preview.html)<br>\n",
    "   <small>Line by line execution and <code>%preview</code> magic</small>    \n",
    " * <i class='fa-li fa fa-check-circle' style='color:orange;'></i> [How to keep track of session information for all kernels](doc/user_guide/magic_sessioninfo.html)<br>\n",
    "   <small>The <code>%sessioninfo</code> magic</small>   \n",
    " * <i class='fa-li fa fa-check-circle' style='color:orange;'></i> [How to keep track of revisions to the notebook](doc/user_guide/magic_revisions.html)<br>\n",
    "   <small>The <code>%revisions</code> magic</small>  \n",
    " * <i class='fa-li fa fa-check-circle' style='color:lightgray;'></i> [How to generate HTML reports from SoS notebook](doc/user_guide/magic_sossave.html)<br>\n",
    "   <small>The <code>%sossave</code> magic</small>\n",
    " * <i class='fa-li fa fa-check-circle' style='color:green;'></i> [How to start multiple sessions of the same kernel or bind language modules to unsupported kernels](doc/user_guide/magic_use.html)<br>\n",
    "   <small>Advanced usages of the <code>%use</code> magic</small>\n",
    "    \n"
   ]
  },
  {
   "cell_type": "markdown",
   "metadata": {
    "kernel": "SoS"
   },
   "source": [
    "### Supported languages \n",
    "\n",
    "How to work with various languages\n",
    "\n",
    " * <i class='fa-li fa fa-check-circle' style='color:lightgray;'></i> [How to work with Bash](doc/user_guide/sos_bash.html)<br>\n",
    "   <small>Support for <code>bash_kernel</code></small>\n",
    " * <i class='fa-li fa fa-check-circle' style='color:orange;'></i> [How to work with JavaScript and TypeScript](doc/user_guide/sos_javascript.html)<br>\n",
    "   <small>Support for <code>ijavascript</code> and <code>itypescript</code> kernels</small>\n",
    " * <i class='fa-li fa fa-check-circle' style='color:orange;'></i> [How to work with Julia](doc/user_guide/sos_julia.html)<br>\n",
    "   <small>Support for <code>ijulia</code> kernel</small>\n",
    " * <i class='fa-li fa fa-check-circle' style='color:orange;'></i> [How to work with Matlab and Octave](doc/user_guide/sos_matlab.html)<br>\n",
    "   <small>Support for <code>imatlab</code> and <code>octave_kernel</code></small>\n",
    " * <i class='fa-li fa fa-check-circle' style='color:lightgray;'></i> [How to work with Ruby](doc/user_guide/sos_ruby.html)<br>\n",
    "   <small>Support for <code>iRuby</code> kernel</small>\n",
    " * <i class='fa-li fa fa-check-circle' style='color:lightgray;'></i> [How to work with Python 2, and Python3](doc/user_guide/sos_python.html)<br>\n",
    "   <small>Support for <code>Python 2</code> and <code>Python 3</code> kernels</small>\n",
    " * <i class='fa-li fa fa-check-circle' style='color:orange;'></i> [How to work with R](doc/user_guide/sos_r.html)<br>\n",
    "   <small>Support for <code>irkernel</code></small>\n",
    " * <i class='fa-li fa fa-check-circle' style='color:orange;'></i> [How to work with SAS](doc/user_guide/sos_sas.html)<br>\n",
    "   <small>Support for <code>sas_kernel</code></small>\n",
    " * <i class='fa-li fa fa-check-circle' style='color:green;'></i> [How to work with Stata](doc/user_guide/sos_stata.html)<br>\n",
    "   <small>Support for <code>Stata</code></small>\n",
    " * <i class='fa-li fa fa-check-circle' style='color:lightgray;'></i> [How to insert variables into markdown text](doc/user_guide/markdown_kernel.html)<br>\n",
    "   <small>Using the <code>markdown</code> kernel</small>\n",
    "\n"
   ]
  },
  {
   "cell_type": "markdown",
   "metadata": {
    "kernel": "SoS"
   },
   "source": [
    "### The technical details\n",
    "SoS notebook refernce manual\n",
    "    \n",
    " * <i class='fa-li fa fa-check-circle' style='color:lightgray;'></i> [SoS Magics](doc/user_guide/sos_magics.html)<br>\n",
    "   <small>All SoS magics</small>\n"
   ]
  },
  {
   "cell_type": "markdown",
   "metadata": {
    "kernel": "SoS"
   },
   "source": [
    "## SoS Workflow System"
   ]
  },
  {
   "cell_type": "markdown",
   "metadata": {
    "kernel": "SoS"
   },
   "source": [
    "### The essentials \n",
    "How to write and execute simple SoS workflows\n",
    "\n",
    " * <i class='fa-li fa fa-check-circle' style='color:green;'></i> [Using SoS workflow system in Jupyter and from command line](doc/user_guide/sos_in_notebook.html)<br>\n",
    "   <small>Scratch cells, embedded workflow, <code>%run</code> and <code>%sosrun</code> magics, and the <code>sos run</code> command</small>\n",
    " * <i class='fa-li fa fa-check-circle' style='color:green;'></i> [How to include scripts in different langauges in SoS workflows](doc/user_guide/scripts_in_sos.html)<br>\n",
    "   <small>SoS actions, the script format of function calls, and the <code>expand</code> option</small>\n",
    " * <i class='fa-li fa fa-check-circle' style='color:green;'></i> [How to define and use variables and command line arguments](doc/user_guide/parameters.html)<br>\n",
    "   <small>Global and local variables and the <code>parameter</code> statement</small>\n",
    " * <i class='fa-li fa fa-check-circle' style='color:green;'></i> [How to specify input and output files and process input files in groups](doc/user_guide/input_substeps.html)<br>\n",
    "   <small><code>input</code> statement and <code>group_by</code> option</small>   \n",
    " * <i class='fa-li fa fa-check-circle' style='color:green;'></i> [How to define and execute basic SoS workflows](doc/user_guide/forward_workflow.html)<br>\n",
    "   <small>Defining and executing workflows with numerically-ordered steps</small>\n",
    " * <i class='fa-li fa fa-check-circle' style='color:green;'></i> [How to use SoS Notebook to organize and share your project](doc/user_guide/organize_scripts.html)<br>\n",
    "   <small>Use simple SoS workflows to consolidate your scripts</small>"
   ]
  },
  {
   "cell_type": "markdown",
   "metadata": {
    "kernel": "SoS"
   },
   "source": [
    "### SoS Actions \n",
    "How to include and execute scripts in different languages\n",
    "\n",
    " * <i class='fa-li fa fa-check-circle' style='color:lightgray;'></i> [How to execute shell scripts](doc/user_guide/shell_actions.html)<br>\n",
    "   <small>The <code>run</code>, <code>bash</code>, and other shell actions</small>\n",
    " * <i class='fa-li fa fa-check-circle' style='color:orange;'></i> [How to execute Python, R, Julia, and scripts in other languages](doc/user_guide/script_actions.html)<br>\n",
    "   <small>The <code>Python</code>, <code>R</code>, and other script running actions</small>   \n",
    " * <i class='fa-li fa fa-check-circle' style='color:lightgray;'></i> [How to execute scripts with additional parameters or in unsupported languages](doc/user_guide/action_param.html) **<br>\n",
    "   <small>The <code>param</code> option of actions</small>\n",
    " * <i class='fa-li fa fa-check-circle' style='color:orange;'></i> [How to generate reports in plain text or markdown format](doc/user_guide/report_action.html)<br>\n",
    "   <small>The <code>report</code> action</small>\n",
    " * <i class='fa-li fa fa-check-circle' style='color:lightgray;'></i> [How to generate reports in HTML format](doc/user_guide/html_report_actions.html) *<br>\n",
    "   <small>The <code>pandoc</code> and <code>Rmarkdown</code> actions</small> \n",
    " * <i class='fa-li fa fa-check-circle' style='color:orange;'></i> [How to download files and resource from SoS scripts](doc/user_guide/download_actions.html) *<br>\n",
    "   <small>The <code>download</code> actions</small>     \n",
    " * <i class='fa-li fa fa-check-circle' style='color:lightgray;'></i> [Using other SoS actions to control the execution of steps](doc/user_guide/control_actions.html)<br>\n",
    "   <small>The <code>stop_if</code>, <code>warn_if</code> and other SoS actions</small> \n",
    " * <i class='fa-li fa fa-check-circle' style='color:lightgray;'></i> [How to execute scripts in docker](doc/user_guide/docker.html) **<br>\n",
    "   <small>Option <code>container</code> of script-executing action</small>  \n",
    " * <i class='fa-li fa fa-check-circle' style='color:lightgray;'></i> [How to build docker images from SoS](doc/user_guide/docker_build_action.html) **<br>\n",
    "   <small>The <code>docker_build</code> action</small>    \n",
    " * <i class='fa-li fa fa-check-circle' style='color:lightgray;'></i> [How to execute script in singularity](doc/user_guide/singularity.html) ***<br>\n",
    "   <small>Options <code>container</code> and <code>engine</code> of script-executing action</small>\n"
   ]
  },
  {
   "cell_type": "markdown",
   "metadata": {
    "kernel": "SoS"
   },
   "source": [
    "### SoS Steps\n",
    "Steps, substeps, and step dependencies\n",
    "\n",
    " * <i class='fa-li fa fa-check-circle' style='color:green;'></i> [How to define step inputs](doc/user_guide/input_statement.html)<br>\n",
    "   <small>The <code>input</code> statement and variables <code>_input</code>, <code>step_input</code> </small>\n",
    " * <i class='fa-li fa fa-check-circle' style='color:green;'></i> [How to define step output](doc/user_guide/output_statement.html)<br>\n",
    "   <small>The <code>output</code> statement and variables <code>_output</code>, <code>step_output</code> </small>\n",
    " * <i class='fa-li fa fa-check-circle' style='color:green;'></i> [How to define step dependencies](doc/user_guide/depends_statement.html)<br>\n",
    "   <small>The <code>depends</code> statement and variables <code>_depends</code>, <code>step_depends</code> </small>\n",
    " * <i class='fa-li fa fa-check-circle' style='color:orange;'></i> [How to manipulate and format paths to compose scripts in different languages](doc/user_guide/path_formatting.html) *<br>\n",
    "   <small>The <code>path</code>, <code>paths</code>, and <code>sos_targets</code> data types and their format specifications</small>\n",
    " * <i class='fa-li fa fa-check-circle' style='color:green;'></i> [What variables can I use in a step](doc/user_guide/step_variables.html)<br>\n",
    "   <small><code>step_name</code>, other step variables, and variables passed from other steps</small>  \n",
    " * <i class='fa-li fa fa-check-circle' style='color:lightgray;'></i> [What exactly are \"targets\" in SoS](doc/user_guide/targets.html) *<br>\n",
    "   <small>Definition of <em>target</em> and the <code>executable</code>, <code>Py_Module</code> and <code>R_library</code> targets</small>      \n",
    " * <i class='fa-li fa fa-check-circle' style='color:green;'></i> [How to group input and output targets by names](doc/user_guide/target_label.html)<br>\n",
    "   <small>The \"labels\" of input and output files and the concept of named input and output</small>\n",
    " * <i class='fa-li fa fa-check-circle' style='color:orange;'></i> [How to process input files in groups](doc/user_guide/group_by.html)<br>\n",
    "   <small>Substeps and the <code>group_by</code> parameter</small>\n",
    " * <i class='fa-li fa fa-check-circle' style='color:orange;'></i> [How to repeat steps for different parameters](doc/user_guide/for_each.html)<br>\n",
    "   <small>Parameter <code>for_each</code> of input statements</small>\n",
    " * <i class='fa-li fa fa-check-circle' style='color:lightgray;'></i> [How to attach variables to files and groups of files](doc/user_guide/paired_group_with.html) *<br>\n",
    "   <small>Parameters <code>paired_with</code> and <code>group_with</code> of input statements</small>\n",
    " * <i class='fa-li fa fa-check-circle' style='color:lightgray;'></i> [How to extract information from input file names](doc/user_guide/input_pattern.html) *<br>\n",
    "   <small>Parameter <code>pattern</code> of input statements</small>\n",
    " * <i class='fa-li fa fa-check-circle' style='color:lightgray;'></i> [How to deal with dynamically-determined input and ouput files](doc/user_guide/dynamic.html) *<br>\n",
    "   <small><code>dynamic</code> inputs and outputs</small>   \n",
    " * <i class='fa-li fa fa-check-circle' style='color:lightgray;'></i> [How to remove large intermediate files without breaking signatures](doc/user_guide/zap.html) *<br>\n",
    "   <small>Zapping (remove files while keeping signatures) intermediate files</small>   \n",
    " * <i class='fa-li fa fa-check-circle' style='color:lightgray;'></i> [How can I run the workflow with specific <code>$PATH</code>](doc/user_guide/action_env.html) *<br>\n",
    "   <small>Option <code>prepend_path</code> and <code>-b</code> option</small> \n",
    " * <i class='fa-li fa fa-check-circle' style='color:lightgray;'></i> [How can I redirect input and output of executed scripts](doc/user_guide/action_input_output.html) *<br>\n",
    "   <small>Options <code>input</code> and <code>output</code> of actions</small> \n",
    " * <i class='fa-li fa fa-check-circle' style='color:green;'></i> [How to (not) execute substeps in parallel](doc/user_guide/concurrent_substep.html) *<br>\n",
    "   <small>Parameter <code>concurrent</code> of input statements</small>\n",
    " * <i class='fa-li fa fa-check-circle' style='color:lightgray;'></i> [How to attach variables to step output](doc/user_guide/output_groups_vars.html) *<br>\n",
    "   <small>Parameters <code>group_by</code>, <code>paired_with</code>, and <code>group_with</code> of output statements</small>\n"
   ]
  },
  {
   "cell_type": "markdown",
   "metadata": {
    "kernel": "SoS"
   },
   "source": [
    "### Defining workflows\n",
    "How to define process-oriented and outcome-oriented workflows\n",
    "\n",
    " * <i class='fa-li fa fa-check-circle' style='color:green;'></i> [How to create dependencies between SoS steps](doc/user_guide/step_dependencies.html)<br>\n",
    "   <small><span style=\"color:purple\">Summary of methods to create dependencies between SoS steps, important for understanding how SoS workflow works!</span></small>      \n",
    " * <i class='fa-li fa fa-check-circle' style='color:lightgray;'></i> [How to define and execute multiple workflows in a single SoS script](doc/user_guide/multi_workflow.html) **<br>\n",
    "   <small>Shared workflow steps, subworkflows, and combined workflows</small>\n",
    " * <i class='fa-li fa fa-check-circle' style='color:orange;'></i> [How to add help messages to my SoS workflow](doc/user_guide/comment_help.html) **<br>\n",
    "   <small>Add comments to sos scripts and generate help messages</small>   \n",
    " * <i class='fa-li fa fa-check-circle' style='color:lightgray;'></i> [How to execute other workflows in a SoS step](doc/user_guide/nested_workflow.html)<br>\n",
    "   <small>Subworkflows and the <code>sos_run</code> function</small>\n",
    " * <i class='fa-li fa fa-check-circle' style='color:green;'></i> [How to write simple data-flow style workflows](doc/user_guide/data_flow.html)<br>\n",
    "   <small>Create dependencies using <code>input</code> and <code>output</code> statements </small>\n",
    " * <i class='fa-li fa fa-check-circle' style='color:green;'></i> [How to use named output in data-flow style workflows](doc/user_guide/named_output.html) *<br>\n",
    "   <small>The <code>named_output</code> function</small>\n",
    " * <i class='fa-li fa fa-check-circle' style='color:lightgray;'></i> [How to use Makefile-style rules to generate required files](doc/user_guide/auxiliary_steps.html)<br>\n",
    "   <small>Use of <code>provides</code> section option</small>\n",
    " * <i class='fa-li fa fa-check-circle' style='color:lightgray;'></i> [How to pass variables between SoS steps](doc/user_guide/shared_variables.html) **<br>\n",
    "   <small>The <code>sos_variable</code> target and <code>shared</code> section option</small>   \n",
    " * <i class='fa-li fa fa-check-circle' style='color:green;'></i> [How to include output from another step or workflow in a SoS step](doc/user_guide/output_from.html) *<br>\n",
    "   <small>The <code>output_from</code> function</small>\n",
    " * <i class='fa-li fa fa-check-circle' style='color:green;'></i> [How to explicitly execute another step or workflow before a SoS step](doc/user_guide/target_sos_step.html) *<br>\n",
    "   <small>Using <code>sos_step</code> targets to create step dependency</small>\n",
    " * <i class='fa-li fa fa-check-circle' style='color:lightgray;'></i> [Can I define steps in separate files](doc/user_guide/external_scripts.html) **<br>\n",
    "   <small>Modularized SoS scripts</small>   \n"
   ]
  },
  {
   "cell_type": "markdown",
   "metadata": {
    "kernel": "SoS"
   },
   "source": [
    "### Executing workflows\n",
    "Options of the <code>sos run</code> command\n",
    "\n",
    " * <i class='fa-li fa fa-check-circle' style='color:lightgray;'></i> [How to control the verbosity of sos output and the number of running jobs](doc/user_guide/verbosity_and_jobs.html)<br>\n",
    "   <small>The <code>-v</code> (verbosity) and <code>-j</code> (jobs) options of the <code>sos run</code> command</small>\n",
    " * <i class='fa-li fa fa-check-circle' style='color:lightgray;'></i> [How to execute workflow to generate specific output](doc/user_guide/target_oriented.html)<br>\n",
    "   <small>The <code>-t</code> option of the <code>sos run</code> command</small>\n",
    " * <i class='fa-li fa fa-check-circle' style='color:lightgray;'></i> [How to avoid or force the re-execution of executed steps](doc/user_guide/signature.html)<br>\n",
    "   <small>Runtime signatures and the <code>-s</code> option of <code>sos run</code></small>\n",
    " * <i class='fa-li fa fa-check-circle' style='color:green;'></i> [How to ensure the integrity of intermediate files during the re-execution of workflows](doc/user_guide/trace_dependency.html)<br>\n",
    "   <small>Option <code>-T</code> and <code>traced</code> targets</small>\n",
    " * <i class='fa-li fa fa-check-circle' style='color:lightgray;'></i> [How to check the validity of SoS scripts without actually executing it](doc/user_guide/dryrun.html)<br>\n",
    "   <small>The <code>dryrun</code> mode and the <code>-n</code> option of the <code>sos run</code> command</small>\n",
    " * <i class='fa-li fa fa-check-circle' style='color:orange;'></i> [How to generate a summary report for the executing of workflows](doc/user_guide/workflow_summary.html)<br>\n",
    "   <small>The <code>-d</code> (DAG) <code>-p</code> (report) options of the <code>sos run</code></small>\n",
    " * <i class='fa-li fa fa-check-circle' style='color:lightgray;'></i> [How to execute sos workflows on remote hosts](doc/user_guide/remote_execution.html) **<br>\n",
    "  <small>The <code>-r</code> (remote) option of the <code>sos run</code> command</small>\n"
   ]
  },
  {
   "cell_type": "markdown",
   "metadata": {
    "kernel": "SoS"
   },
   "source": [
    "### External tasks\n",
    "Running large jobs on cluster computers\n",
    "    \n",
    " * <i class='fa-li fa fa-check-circle' style='color:orange;'></i> [How to execute large and long-running scripts](doc/user_guide/tasks.html)<br>\n",
    "   <small>The <code>task</code> statement and the <code>-q</code> option of the <code>sos run</code> command</small>\n",
    " * <i class='fa-li fa fa-check-circle' style='color:green;'></i> [How to group many small tasks into larger ones](doc/user_guide/trunk_size.html)<br>\n",
    "   <small>The <code>trunk_size</code> and <code>trunk_workers</code> task options</small>   \n",
    " * <i class='fa-li fa fa-check-circle' style='color:orange;'></i> [How to specify the resources needed for the tasks](doc/user_guide/resources.html) *<br>\n",
    "   <small>The <code>walltime</code> and <code>mem</code> options of tasks</small>   \n",
    " * <i class='fa-li fa fa-check-circle' style='color:lightgray;'></i> [How to use different hosts to execute tasks in the same workflow](doc/user_guide/multi_queues.html) *<br>\n",
    "   <small>The <code>queue</code> options of tasks</small> \n",
    " * <i class='fa-li fa fa-check-circle' style='color:lightgray;'></i> [How to work with a remote system that does not share filesystem with local host](doc/user_guide/remote_filesystem.html) **<br>\n",
    "   <small>Host definition of remote host and translation of <code>input</code> and <code>output</code></small>\n",
    " * <i class='fa-li fa fa-check-circle' style='color:lightgray;'></i> [How to transfer input and output automatically between local and remote hosts](doc/user_guide/file_synchronization.html) ***<br>\n",
    "   <small>Remote host and <code>remote</code> targets</small>   \n",
    " * <i class='fa-li fa fa-check-circle' style='color:lightgray;'></i> [How to associate task IDs with sample IDs and job IDs](doc/user_guide/task_tags.html)<br>\n",
    "   <small>Task tags and the <code>tags</code> options of tasks</small>\n",
    " * <i class='fa-li fa fa-check-circle' style='color:lightgray;'></i> [How to execute tasks on a remote server without a batch system](doc/user_guide/process_engine.html)<br>\n",
    "   <small>The <code>process</code> task engine</small>   \n",
    " * <i class='fa-li fa fa-check-circle' style='color:lightgray;'></i> [How to work with a PBS/Torque cluster system](doc/user_guide/pbs.html) *<br>\n",
    "   <small>Host definition for PBS system</small>\n",
    " * <i class='fa-li fa fa-check-circle' style='color:lightgray;'></i> [How to work with a RQ task queue system](doc/user_guide/rq.html) *<br>\n",
    "   <small>Host definition for RQ system</small>   \n",
    " * <i class='fa-li fa fa-check-circle' style='color:lightgray;'></i> [How to work with a non-conventional PBS system](doc/user_guide/other_pbs.html) *<br>\n",
    "   <small>Host definition for other PBS systems</small>     \n",
    " * <i class='fa-li fa fa-check-circle' style='color:lightgray;'></i> [How to work with a IBM/LSF cluster system](doc/user_guide/lsf.html) *<br>\n",
    "   <small>Host definition for IBM/LSF system</small> \n",
    " * <i class='fa-li fa fa-check-circle' style='color:lightgray;'></i> [How to work with a Slurm cluster system](doc/user_guide/slurm.html) *<br>\n",
    "   <small>Host definition for Slurm system</small> \n",
    " * <i class='fa-li fa fa-check-circle' style='color:lightgray;'></i> [How to monitor the progress of tasks, locally and on remote host](doc/user_guide/task_status.html)<br>\n",
    "   <small>The <code>sos status</code> command and <code>%task</code> magic</small>\n",
    " * <i class='fa-li fa fa-check-circle' style='color:lightgray;'></i> [How to check available remote hosts and if they are properly configured](doc/user_guide/host_setup.html) **<br>\n",
    "   <small>The <code>sos remote list</code>, <code>setup</code> and <code>test</code> commands</small>\n",
    " * <i class='fa-li fa fa-check-circle' style='color:lightgray;'></i> [How to kill and purge local and remote tasks](doc/user_guide/kill_purge.html)<br>\n",
    "   <small>The <code>sos kill</code> and <code>sos purge</code> commands and <code>%task</code> magic</small>\n",
    " * <i class='fa-li fa fa-check-circle' style='color:lightgray;'></i> [How to deal with failed or aborted jobs](doc/user_guide/task_error.html)<br>\n",
    "   <small>Checking the error messages and restart the tasks</small> \n"
   ]
  },
  {
   "cell_type": "markdown",
   "metadata": {
    "kernel": "SoS"
   },
   "source": [
    "### The technical details\n",
    "SoS reference guide\n",
    "\n",
    " * <i class='fa-li fa fa-check-circle' style='color:lightgray;'></i> [Gollosary and file format specification](doc/user_guide/terms_and_format.html)<br>\n",
    "   <small>Definitions and file format (<code>.sos</code>)</small>\n",
    " * <i class='fa-li fa fa-check-circle' style='color:orange;'></i> [Command line interface](doc/user_guide/cli.html)<br>\n",
    "   <small>The SoS command line interface</small> \n",
    " * <i class='fa-li fa fa-check-circle' style='color:lightgray;'></i> [SoS Actions and common action options](doc/user_guide/sos_actions.html)<br>\n",
    "   <small>Options for sos actions</small> \n",
    " * <i class='fa-li fa fa-check-circle' style='color:lightgray;'></i> [Parameter <code>group_by</code> of <code>sos_targets</code>](doc/user_guide/ref_group_by.html)<br>\n",
    "   <small>All about the <code>group_by</code> option.</small>    \n",
    " * <i class='fa-li fa fa-check-circle' style='color:lightgray;'></i> [SoS Data Types](doc/user_guide/sos_datatypes.html)<br>\n",
    "    <small><code>sos_targets</code> and other types</small>\n",
    " * <i class='fa-li fa fa-check-circle' style='color:lightgray;'></i> [SoS functions](doc/user_guide/sos_functions.html)<br>\n",
    "   <small>SoS functions</small> \n",
    " * <i class='fa-li fa fa-check-circle' style='color:lightgray;'></i> [Remote queue configurations](doc/user_guide/queue_options.html)<br>\n",
    "   <small>Remote queue configurations</small>     \n",
    " * <i class='fa-li fa fa-check-circle' style='color:lightgray;'></i> [Task options](doc/user_guide/task_options.html)<br>\n",
    "   <small>Task options</small>    \n",
    " * <i class='fa-li fa fa-check-circle' style='color:lightgray;'></i> [Extending SoS](doc/user_guide/extending_sos.html)<br>\n",
    "   <small>Extending SoS</small> \n"
   ]
  },
  {
   "cell_type": "markdown",
   "metadata": {
    "kernel": "SoS"
   },
   "source": [
    "### Miscellaneous topics\n",
    "\n",
    " * <i class='fa-li fa fa-check-circle' style='color:lightgray;'></i> [How to write SoS scripts in vim with syntax highlighting](doc/user_guide/vim.html)<br>\n",
    "   <small>The SoS vim syntax</small> \n",
    " * <i class='fa-li fa fa-check-circle' style='color:lightgray;'></i> [How to convert SoS notebook to SoS script, and vise versa](doc/user_guide/convert.html)<br>\n",
    "   <small><code>sos convert</code> between <code>.sos</code> and <code>.pynb</code> files</small> \n",
    " * <i class='fa-li fa fa-check-circle' style='color:lightgray;'></i> [How to export workflows or report to HTML, pdf, and other formats](doc/user_guide/export.html)<br>\n",
    "   <small><code>sos convert</code> from <code>.ipynb</code> to <code>.html</code> and other formats</small>\n",
    " * <i class='fa-li fa fa-check-circle' style='color:lightgray;'></i> [How to generate a syntax-hilighted HTML version of SoS scripts](doc/user_guide/show_script.html)<br>\n",
    "   <small><code>sos convert</code> from <code>.sos</code> to <code>.html</code></small>  \n"
   ]
  }
 ],
 "metadata": {
  "anaconda-cloud": {},
  "kernelspec": {
   "display_name": "SoS",
   "language": "sos",
   "name": "sos"
  },
  "language_info": {
   "codemirror_mode": "sos",
   "file_extension": ".sos",
   "mimetype": "text/x-sos",
   "name": "sos",
   "nbconvert_exporter": "sos_notebook.converter.SoS_Exporter",
   "pygments_lexer": "sos"
  },
  "sos": {
   "celltoolbar": true,
   "default_kernel": "SoS",
   "kernels": [],
   "panel": {
    "displayed": true,
    "height": 0,
    "style": "side"
   },
   "version": "0.18.5"
  },
  "toc": {
   "colors": {
    "hover_highlight": "#DAA520",
    "running_highlight": "#FF0000",
    "selected_highlight": "#FFD700"
   },
   "moveMenuLeft": true,
   "nav_menu": {
    "height": "45px",
    "width": "254px"
   },
   "navigate_menu": true,
   "number_sections": true,
   "sideBar": true,
   "threshold": 4,
   "toc_cell": false,
   "toc_section_display": "block",
   "toc_window_display": true
  }
 },
 "nbformat": 4,
 "nbformat_minor": 2
}
