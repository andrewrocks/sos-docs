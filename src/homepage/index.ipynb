{
 "cells": [
  {
   "cell_type": "markdown",
   "metadata": {
    "kernel": "SoS"
   },
   "source": [
    "SoS (Script of Scripts) is the umbrella title for [SoS Polyglot Notebook](https://github.com/vatlab/sos-notebook) and [SoS Workflow Engine](https://github.com/vatlab/SoS). SoS Notebook is a customized [Jupyter](http://jupyter.org/) kernel with associated frontend extensions that allows the [use of multiple kernels in one Jupyter notebook](https://vatlab.github.io/blog/post/sos-notebook/). SoS Workflow engine is a Python 3 based workflow engine designed to be readable, sharable, and [suitable for daily data analysis](https://vatlab.github.io/blog/post/sos-workflow-engine/).\n",
    "\n",
    "<div style=\"margin-left:10%;margin-right:10%;margin-top:1em;margin-bottom:1em;\">\n",
    "<table style=\"width:100%\">\n",
    "    <tr>\n",
    "        <th style=\"width:50%;text-align:center;\">\n",
    "            SoS Notebook\n",
    "        </th>\n",
    "        <th style=\"width:50%;text-align:center;\">\n",
    "            SoS Workflow System\n",
    "        </th>\n",
    "    </tr>\n",
    "    <tr>\n",
    "        <td style=\"font-family:none;font-size:12pt!important;\">\n",
    "            <ul>\n",
    "                <li><a href=\"https://vatlab.github.io/sos-docs/doc/documentation/Notebook_Interface.html#Switch-between-kernels--122\" target=\"_blank\">Multiple kernels</a> in one Jupyter notebook</li>\n",
    "                <li><a href=\"https://vatlab.github.io/sos-docs/doc/documentation/Notebook_Interface.html#Data-exchange-among-kernels-13\"  target=\"_blank\">Data exchange</a> between live kernels</li>\n",
    "                <li><a href=\"https://vatlab.github.io/sos-docs/doc/documentation/SoS_Magics.html\" target=\"_blank\">Magics</a> for multi-language data analysis</li>\n",
    "                <li><a href=\"https://vatlab.github.io/blog/post/sos-notebook/#side-panel-line-by-line-execution-of-cells\" target=\"_blank\">Line-by-line execution</a> of cell content</li>\n",
    "                <li><a href=\"https://vatlab.github.io/sos-docs/doc/documentation/Notebook_Interface.html#Preview-of-results--14\" target=\"_blank\">Preview</a> of variables and files</li>\n",
    "            </ul>\n",
    "        </td>\n",
    "        <td style=\"font-family:none;font-size:12pt!important;\">\n",
    "            <ul>\n",
    "                <li><a href=\"https://vatlab.github.io/blog/post/sos-workflow-engine/#workflow-system-that-can-be-comprehended-in-minutes\" target=\"_blank\">Simple syntax</a> extended from Python 3.6</li>\n",
    "                <li><a href=\"https://vatlab.github.io/sos-docs/doc/documentation/User_Interface.html\" target=\"_blank\">Command line</a> and <a href=\"https://vatlab.github.io/sos-docs/doc/documentation/Notebook_Interface.html#Execution-of-Workflows--15\" target=\"_blank\">notebook</a> interfaces</li>\n",
    "                <li><a href=\"https://vatlab.github.io/sos-docs/doc/documentation/SoS_Syntax.html#Forward-style-workflows--171\" target=\"_blank\">Forward-style</a> and <a href=\"https://vatlab.github.io/sos-docs/doc/documentation/SoS_Syntax.html#Forward-style-workflows--171\" target=\"_blank\">Makefile-style</a> workflows</li>\n",
    "                <li><a href=\"https://vatlab.github.io/sos-docs/doc/documentation/Remote_Execution.html\" target=\"_blank\">Remote execution</a> of external tasks</li>\n",
    "                <li>Designed to <a href=\"https://vatlab.github.io/blog/post/sos-workflow-engine/\" target=\"_blank\">treat pipelineitis</a></li>\n",
    "            </ul>\n",
    "        </td>\n",
    "    </tr>\n",
    "</table>\n",
    "</div>\n",
    "\n",
    "SoS Notebook and SoS workflow engine share the same website because they are designed to [work with each other](https://vatlab.github.io/blog/post/power-of-sos-plus-sos-notebook/) to facilitate both interactive data analysis and batch data processing."
   ]
  },
  {
   "cell_type": "markdown",
   "metadata": {
    "kernel": "SoS"
   },
   "source": [
    "# A Multi-Language Notebook ..."
   ]
  },
  {
   "cell_type": "markdown",
   "metadata": {
    "kernel": "SoS"
   },
   "source": [
    "<div class=\"row\">\n",
    "    <a href=\"https://vatlab.github.io/blog/post/sos-notebook/\" target=\"_blank\"> <img width=\"100%\" style=\"max-width:800px;\" class=\"center-block\"  src=\"doc/media/SoS_Notebook.gif\">\n",
    "       </a>\n",
    "</div>\n"
   ]
  },
  {
   "cell_type": "markdown",
   "metadata": {
    "kernel": "SoS"
   },
   "source": [
    "# ... that Transforms ..."
   ]
  },
  {
   "cell_type": "markdown",
   "metadata": {
    "kernel": "SoS"
   },
   "source": [
    "<div class=\"row\">\n",
    "        <a href=\"https://vatlab.github.io/blog/post/power-of-sos-plus-sos-notebook/\" target=\"_blank\"><img width=\"100%\" style=\"max-width:800px;\" class=\"center-block\" src=\"doc/media/SoS_Workflow.gif\">\n",
    "        </a>\n",
    "    </div>\n"
   ]
  },
  {
   "cell_type": "markdown",
   "metadata": {
    "kernel": "SoS"
   },
   "source": [
    "# ... to a Workflow"
   ]
  },
  {
   "cell_type": "markdown",
   "metadata": {
    "kernel": "SoS"
   },
   "source": [
    "\n",
    "<div class=\"row\">\n",
    "        <a href=\"https://vatlab.github.io/blog/post/sos-workflow-engine/\" target=\"_blank\"><img width=\"100%\" style=\"max-width:800px;\" class=\"center-block\" src=\"doc/media/signature_and_task.gif\">\n",
    "        </a>\n",
    "    </div>"
   ]
  },
  {
   "cell_type": "markdown",
   "metadata": {
    "kernel": "SoS"
   },
   "source": [
    "<br>\n",
    "<p align=\"center\"><b>NOTE</b>: Notebooks for these three animations are available under directory examples in our <a href=\"http://128.135.144.117:8000/\" target=\"_blank\">live SoS server</a>.</p>"
   ]
  },
  {
   "cell_type": "markdown",
   "metadata": {
    "kernel": "SoS"
   },
   "source": [
    "# Multi-language Jupyter Notebook"
   ]
  },
  {
   "cell_type": "markdown",
   "metadata": {
    "kernel": "SoS"
   },
   "source": [
    "As an **interactive environment** and **notebook tool** that promotes [literate programming](https://en.wikipedia.org/wiki/Literate_programming), SoS\n",
    "allows you to perform and record your analysis in different languages in a single [Jupyter notebook](http://jupyter.org/), with seamless integration\n",
    "of multiple Jupyter kernels (e.g. python, and [R](https://github.com/IRkernel/IRkernel)). The ability to exchange data between live jupyter kernels allows you to use the most appropriate languages for different parts of your analyses.\n",
    "\n",
    "SoS can work with all [Jupyter kernels](https://github.com/jupyter/jupyter/wiki/Jupyter-kernels) and currently provides native support (with data exchange) for the following languages:\n",
    "\n",
    "<div class=\"container logo-table\">\n",
    "   <div class=\"row\">\n",
    "      <div class=\"col-md-2\">\n",
    "         <table>\n",
    "            <tr>\n",
    "               <td><img src=\"img/Bash.png\" alt=\"Bash\"></td>\n",
    "            </tr>\n",
    "            <tr>\n",
    "               <td bgcolor=\"#E6EEFF\">Bash</td>\n",
    "            </tr>\n",
    "         </table>\n",
    "      </div>\n",
    "      <div class=\"col-md-2\">\n",
    "         <table>\n",
    "            <tr>\n",
    "               <td><img src=\"img/JavaScript.png\" alt=\"JavaScript\"></td>\n",
    "            </tr>\n",
    "            <tr>\n",
    "               <td bgcolor=\"#c8e1ae\">JavaScript</td>\n",
    "            </tr>\n",
    "         </table>\n",
    "      </div>\n",
    "      <div class=\"col-md-2\">\n",
    "         <table>\n",
    "            <tr>\n",
    "               <td><img src=\"img/Julia.png\" alt=\"Julia\"></td>\n",
    "            </tr>\n",
    "            <tr>\n",
    "               <td bgcolor=\"#ebd8eb\">Julia</td>\n",
    "            </tr>\n",
    "         </table>\n",
    "      </div>\n",
    "      <div class=\"col-md-2\">\n",
    "         <table>\n",
    "            <tr>\n",
    "               <td><img src=\"img/Matlab.png\" alt=\"MATLAB\"></td>\n",
    "            </tr>\n",
    "            <tr>\n",
    "               <td bgcolor=\"#8ee7f1\">MATLAB</td>\n",
    "            </tr>\n",
    "         </table>\n",
    "      </div>\n",
    "      <div class=\"col-md-2\">\n",
    "         <table>\n",
    "            <tr>\n",
    "               <td><img src=\"img/Ruby.png\" alt=\"Ruby\"></td>\n",
    "            </tr>\n",
    "            <tr>\n",
    "               <td bgcolor=\"#e8c2be\">Ruby</td>\n",
    "            </tr>\n",
    "         </table>\n",
    "      </div>\n",
    "      <div class=\"col-md-2\">\n",
    "         <table>\n",
    "            <tr>\n",
    "               <td><img src=\"img/Octave.png\" alt=\"Octave\"></td>\n",
    "            </tr>\n",
    "            <tr>\n",
    "               <td bgcolor=\"#dff8fb\">Octave</td>\n",
    "            </tr>\n",
    "         </table>\n",
    "      </div>\n",
    "   </div>\n",
    "   <div class=\"row\">\n",
    "      <div class=\"col-md-2\">\n",
    "         <table>\n",
    "            <tr>\n",
    "               <td><img src=\"img/Python.png\" alt=\"Python\"></td>\n",
    "            </tr>\n",
    "            <tr>\n",
    "               <td bgcolor=\"#FFF177\">Python 2</td>\n",
    "            </tr>\n",
    "         </table>\n",
    "      </div>\n",
    "      <div class=\"col-md-2\">\n",
    "         <table>\n",
    "            <tr>\n",
    "               <td><img src=\"img/Python3.png\" alt=\"Python3\"></td>\n",
    "            </tr>\n",
    "            <tr>\n",
    "               <td bgcolor=\"#ffd91a\">Python 3</td>\n",
    "            </tr>\n",
    "         </table>\n",
    "      </div>\n",
    "      <div class=\"col-md-2\">\n",
    "         <table>\n",
    "            <tr>\n",
    "               <td><img src=\"img/R.png\" alt=\"R\"></td>\n",
    "            </tr>\n",
    "            <tr>\n",
    "               <td bgcolor=\"#DCDCDA\">R</td>\n",
    "            </tr>\n",
    "         </table>\n",
    "      </div>\n",
    "      <div class=\"col-md-2\">\n",
    "         <table>\n",
    "            <tr>\n",
    "               <td><img src=\"img/SAS.png\" alt=\"SAS\"></td>\n",
    "            </tr>\n",
    "            <tr>\n",
    "               <td bgcolor=\"#9CD4F9\">SAS</td>\n",
    "            </tr>\n",
    "         </table>\n",
    "      </div>\n",
    "      <div class=\"col-md-2\">\n",
    "         <table>\n",
    "            <tr>\n",
    "               <td><img src=\"img/Stata.jpg\" alt=\"Stata\"></td>\n",
    "            </tr>\n",
    "            <tr>\n",
    "               <td bgcolor=\"#CAE8F3\">Stata</td>\n",
    "            </tr>\n",
    "         </table>\n",
    "      </div>    \n",
    "      <div class=\"col-md-2\">\n",
    "         <table>\n",
    "            <tr>\n",
    "               <td><img src=\"img/TypeScript.png\" alt=\"TypeScript\"></td>\n",
    "            </tr>\n",
    "            <tr>\n",
    "               <td bgcolor=\"#56A6DC\">TypeScript</td>\n",
    "            </tr>\n",
    "         </table>\n",
    "      </div>\n",
    "   </div>\n",
    "</div>"
   ]
  },
  {
   "cell_type": "markdown",
   "metadata": {
    "kernel": "SoS"
   },
   "source": [
    "# Mixed Style Workflows\n",
    "\n",
    "SoS follows your definition of workflow that allows you to define workflows in both foward and makefile style, even a mixture of both. More specifically, you can define workflows as ordered steps that would be executed sequentially step by step to process specified input files; or as a set of makefile-style rules that would be executed to generated specified output files; or as a sequence of steps with help from makefile-style steps. SoS automatically analyzes the input and output of steps and execute workflows using a dynamic DAG (Directed Acyclic Graph) that would be expanded and shrinked during the execution.\n"
   ]
  },
  {
   "cell_type": "markdown",
   "metadata": {
    "kernel": "SoS"
   },
   "source": [
    "# Power without Steep Learning Curve"
   ]
  },
  {
   "cell_type": "markdown",
   "metadata": {
    "kernel": "SoS"
   },
   "source": [
    "SoS is very easy to learn so that you can start using it in minutes without having to learn any of the advanced features. As demonstrated in our [Quick Start Guide](doc/tutorials/Quick_Start_Guide.html), you can easily consolidate your scripts into an executable workflow using SoS and add more features to the script step by step if necessary. The multi-kernel feature of the Jupyter notebook is also easy to use with only two magics to remember.\n"
   ]
  }
 ],
 "metadata": {
  "anaconda-cloud": {},
  "kernelspec": {
   "display_name": "SoS",
   "language": "sos",
   "name": "sos"
  },
  "language_info": {
   "codemirror_mode": "sos",
   "file_extension": ".sos",
   "mimetype": "text/x-sos",
   "name": "sos",
   "nbconvert_exporter": "sos_notebook.converter.SoS_Exporter",
   "pygments_lexer": "sos"
  },
  "sos": {
   "default_kernel": "SoS",
   "kernels": [],
   "panel": {
    "displayed": true,
    "height": 0,
    "style": "side"
   },
   "version": "0.17.4"
  },
  "toc": {
   "colors": {
    "hover_highlight": "#DAA520",
    "running_highlight": "#FF0000",
    "selected_highlight": "#FFD700"
   },
   "moveMenuLeft": true,
   "nav_menu": {
    "height": "45px",
    "width": "254px"
   },
   "navigate_menu": true,
   "number_sections": true,
   "sideBar": true,
   "threshold": 4,
   "toc_cell": false,
   "toc_section_display": "block",
   "toc_window_display": false
  }
 },
 "nbformat": 4,
 "nbformat_minor": 2
}
