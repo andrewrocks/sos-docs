{
 "cells": [
  {
   "cell_type": "markdown",
   "metadata": {
    "kernel": "SoS"
   },
   "source": [
    "Script of Scripts (SoS) is a computational environment for the development and execution of scripts in multiple languages for daily computational research. It can be used to develop scripts to analyze data interactively in a Jupyter environment, and, with minimal effort, convert the scripts to a workflow that analyzes a large amount of data in batch mode. \n",
    "\n",
    "<p align=\"center\">\n",
    "  <img src=\"https://vatlab.github.io/sos-docs/doc/media/SoS_Notebook_and_Workflow.png\">\n",
    "</p>\n",
    "\n",
    "SoS consists of a ployglot notebook that allows the use of multiple kernels in one Jupyter notebook, and a workflow system that is designed for daily computational research. Basically,\n",
    "\n",
    "* [SoS Polyglot Notebook](https://github.com/vatlab/sos-notebook) is a [Jupyter Notebook](https://jupyter.org/) with a SoS kernel.\n",
    "* SoS Notebook serves as a super kernel to all other Jupyter kernels and allows the [use of multiple kernels in one Jupyter notebook](https://vatlab.github.io/blog/post/sos-notebook/).\n",
    "* [SoS Workflow System](https://github.com/vatlab/SoS) is a Python based workflow system that is designed to be readable, sharable, and [suitable for daily data analysis](https://vatlab.github.io/blog/post/sos-workflow-engine/).\n",
    "* SoS Workflow System can be used from command line or use SoS Notebook as its IDE.\n",
    "\n",
    "The figure is linked to a [youtube video](https://www.youtube.com/watch?v=U75eKosFbp8) for a [presentation on SoS during the 2018 JupyterCon](https://github.com/vatlab/JupyterCon2018), which introduces both SoS Notebook and SoS Workflow System and can be a good starting point for you to learn SoS. The SoS Workflow part starts at [20min](https://www.youtube.com/watch?v=U75eKosFbp8#t=20m)."
   ]
  },
  {
   "cell_type": "markdown",
   "metadata": {
    "kernel": "SoS"
   },
   "source": [
    "# Multi-language Jupyter Notebook"
   ]
  },
  {
   "cell_type": "markdown",
   "metadata": {
    "kernel": "SoS"
   },
   "source": [
    "As an **interactive environment** and **notebook tool** that promotes [literate programming](https://en.wikipedia.org/wiki/Literate_programming), SoS\n",
    "allows you to perform and record your analysis in different languages in a single [Jupyter notebook](http://jupyter.org/), with seamless integration\n",
    "of multiple Jupyter kernels (e.g. python, and [R](https://github.com/IRkernel/IRkernel)). The ability to exchange data between live jupyter kernels allows you to use the most appropriate languages for different parts of your analyses.\n",
    "\n",
    "SoS can work with all [Jupyter kernels](https://github.com/jupyter/jupyter/wiki/Jupyter-kernels) and currently provides native support (with data exchange) for the following languages:\n",
    "\n",
    "<div class=\"container logo-table\">\n",
    "   <div class=\"row\">\n",
    "      <div class=\"col-md-2\">\n",
    "         <table>\n",
    "            <tr>\n",
    "               <td><img src=\"img/Bash.png\" alt=\"Bash\"></td>\n",
    "            </tr>\n",
    "            <tr>\n",
    "               <td bgcolor=\"#E6EEFF\">Bash</td>\n",
    "            </tr>\n",
    "         </table>\n",
    "      </div>\n",
    "      <div class=\"col-md-2\">\n",
    "         <table>\n",
    "            <tr>\n",
    "               <td><img src=\"img/JavaScript.png\" alt=\"JavaScript\"></td>\n",
    "            </tr>\n",
    "            <tr>\n",
    "               <td bgcolor=\"#c8e1ae\">JavaScript</td>\n",
    "            </tr>\n",
    "         </table>\n",
    "      </div>\n",
    "      <div class=\"col-md-2\">\n",
    "         <table>\n",
    "            <tr>\n",
    "               <td><img src=\"img/Julia.png\" alt=\"Julia\"></td>\n",
    "            </tr>\n",
    "            <tr>\n",
    "               <td bgcolor=\"#ebd8eb\">Julia</td>\n",
    "            </tr>\n",
    "         </table>\n",
    "      </div>\n",
    "      <div class=\"col-md-2\">\n",
    "         <table>\n",
    "            <tr>\n",
    "               <td><img src=\"img/Matlab.png\" alt=\"MATLAB\"></td>\n",
    "            </tr>\n",
    "            <tr>\n",
    "               <td bgcolor=\"#8ee7f1\">MATLAB</td>\n",
    "            </tr>\n",
    "         </table>\n",
    "      </div>\n",
    "      <div class=\"col-md-2\">\n",
    "         <table>\n",
    "            <tr>\n",
    "               <td><img src=\"img/Ruby.png\" alt=\"Ruby\"></td>\n",
    "            </tr>\n",
    "            <tr>\n",
    "               <td bgcolor=\"#e8c2be\">Ruby</td>\n",
    "            </tr>\n",
    "         </table>\n",
    "      </div>\n",
    "      <div class=\"col-md-2\">\n",
    "         <table>\n",
    "            <tr>\n",
    "               <td><img src=\"img/Octave.png\" alt=\"Octave\"></td>\n",
    "            </tr>\n",
    "            <tr>\n",
    "               <td bgcolor=\"#dff8fb\">Octave</td>\n",
    "            </tr>\n",
    "         </table>\n",
    "      </div>\n",
    "   </div>\n",
    "   <div class=\"row\">\n",
    "      <div class=\"col-md-2\">\n",
    "         <table>\n",
    "            <tr>\n",
    "               <td><img src=\"img/Python.png\" alt=\"Python\"></td>\n",
    "            </tr>\n",
    "            <tr>\n",
    "               <td bgcolor=\"#FFF177\">Python 2</td>\n",
    "            </tr>\n",
    "         </table>\n",
    "      </div>\n",
    "      <div class=\"col-md-2\">\n",
    "         <table>\n",
    "            <tr>\n",
    "               <td><img src=\"img/Python3.png\" alt=\"Python3\"></td>\n",
    "            </tr>\n",
    "            <tr>\n",
    "               <td bgcolor=\"#ffd91a\">Python 3</td>\n",
    "            </tr>\n",
    "         </table>\n",
    "      </div>\n",
    "      <div class=\"col-md-2\">\n",
    "         <table>\n",
    "            <tr>\n",
    "               <td><img src=\"img/R.png\" alt=\"R\"></td>\n",
    "            </tr>\n",
    "            <tr>\n",
    "               <td bgcolor=\"#DCDCDA\">R</td>\n",
    "            </tr>\n",
    "         </table>\n",
    "      </div>\n",
    "      <div class=\"col-md-2\">\n",
    "         <table>\n",
    "            <tr>\n",
    "               <td><img src=\"img/SAS.png\" alt=\"SAS\"></td>\n",
    "            </tr>\n",
    "            <tr>\n",
    "               <td bgcolor=\"#9CD4F9\">SAS</td>\n",
    "            </tr>\n",
    "         </table>\n",
    "      </div>\n",
    "      <div class=\"col-md-2\">\n",
    "         <table>\n",
    "            <tr>\n",
    "               <td><img src=\"img/Stata.jpg\" alt=\"Stata\"></td>\n",
    "            </tr>\n",
    "            <tr>\n",
    "               <td bgcolor=\"#CAE8F3\">Stata</td>\n",
    "            </tr>\n",
    "         </table>\n",
    "      </div>    \n",
    "      <div class=\"col-md-2\">\n",
    "         <table>\n",
    "            <tr>\n",
    "               <td><img src=\"img/TypeScript.png\" alt=\"TypeScript\"></td>\n",
    "            </tr>\n",
    "            <tr>\n",
    "               <td bgcolor=\"#56A6DC\">TypeScript</td>\n",
    "            </tr>\n",
    "         </table>\n",
    "      </div>\n",
    "   </div>\n",
    "</div>"
   ]
  },
  {
   "cell_type": "markdown",
   "metadata": {
    "kernel": "SoS"
   },
   "source": [
    "# Mixed Style Workflows\n",
    "\n",
    "SoS follows your definition of workflow that allows you to define workflows in both foward and makefile style, even a mixture of both. More specifically, you can define workflows as ordered steps that would be executed sequentially step by step to process specified input files; or as a set of makefile-style rules that would be executed to generated specified output files; or as a sequence of steps with help from makefile-style steps. SoS automatically analyzes the input and output of steps and execute workflows using a dynamic DAG (Directed Acyclic Graph) that would be expanded and shrinked during the execution.\n"
   ]
  },
  {
   "cell_type": "markdown",
   "metadata": {
    "kernel": "SoS"
   },
   "source": [
    "# Power without Steep Learning Curve"
   ]
  },
  {
   "cell_type": "markdown",
   "metadata": {
    "kernel": "SoS"
   },
   "source": [
    "SoS is very easy to learn so that you can start using it in minutes without having to learn any of the advanced features. As demonstrated in our [Quick Start Guide](doc/tutorials/Quick_Start_Guide.html), you can easily consolidate your scripts into an executable workflow using SoS and add more features to the script step by step if necessary. The multi-kernel feature of the Jupyter notebook is also easy to use with only two magics to remember.\n"
   ]
  }
 ],
 "metadata": {
  "anaconda-cloud": {},
  "kernelspec": {
   "display_name": "SoS",
   "language": "sos",
   "name": "sos"
  },
  "language_info": {
   "codemirror_mode": "sos",
   "file_extension": ".sos",
   "mimetype": "text/x-sos",
   "name": "sos",
   "nbconvert_exporter": "sos_notebook.converter.SoS_Exporter",
   "pygments_lexer": "sos"
  },
  "sos": {
   "default_kernel": "SoS",
   "kernels": [],
   "panel": {
    "displayed": true,
    "height": 0,
    "style": "side"
   },
   "version": "0.18.6"
  },
  "toc": {
   "colors": {
    "hover_highlight": "#DAA520",
    "running_highlight": "#FF0000",
    "selected_highlight": "#FFD700"
   },
   "moveMenuLeft": true,
   "nav_menu": {
    "height": "45px",
    "width": "254px"
   },
   "navigate_menu": true,
   "number_sections": true,
   "sideBar": true,
   "threshold": 4,
   "toc_cell": false,
   "toc_section_display": "block",
   "toc_window_display": false
  }
 },
 "nbformat": 4,
 "nbformat_minor": 2
}
