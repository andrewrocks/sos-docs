{
 "cells": [
  {
   "cell_type": "markdown",
   "metadata": {
    "kernel": "SoS"
   },
   "source": [
    "# <a id=\"notebook_intro_videos\"></a>Introductory Videos"
   ]
  },
  {
   "cell_type": "markdown",
   "metadata": {
    "kernel": "SoS"
   },
   "source": [
    "<div class=\"container\">\n",
    "    <div class=\"row\">\n",
    "        <div class=\"col-sm-3\">\n",
    "              <div class=\"embed-responsive embed-responsive-16by9\">\n",
    "                   <iframe width=\"560\" height=\"315\" src=\"https://www.youtube.com/embed/E5Eh7BVbbTM?wmode=opaque\" frameborder=\"0\" allowfullscreen></iframe>\n",
    "                   <div class=\"overlay-duration\">14:08</div>\n",
    "              </div>\n",
    "            <p>Basics of SoS workflow system</p>\n",
    "        </div>\n",
    "        <div class=\"col-sm-3\">\n",
    "              <div class=\"embed-responsive embed-responsive-16by9\">\n",
    "                   <iframe width=\"560\" height=\"315\" src=\"https://www.youtube.com/embed/roTDvSXSPgU?wmode=opaque\" frameborder=\"0\" allowfullscreen></iframe>\n",
    "                   <div class=\"overlay-duration\">16:52</div>\n",
    "              </div>\n",
    "            <p>More on SoS workflow system</p>\n",
    "        </div>\n",
    "         <div class=\"col-sm-3\">\n",
    "              <div class=\"embed-responsive embed-responsive-16by9\">\n",
    "                   <iframe width=\"560\" height=\"315\" src=\"https://www.youtube.com/embed/_LSQr3DHBpU?wmode=opaque\" frameborder=\"0\" allowfullscreen></iframe>\n",
    "                   <div class=\"overlay-duration\">16:16</div>\n",
    "              </div>\n",
    "             <p>Use SoS in SoS Notebook</p>\n",
    "        </div>\n",
    "    </div>    \n",
    "</div>"
   ]
  },
  {
   "cell_type": "markdown",
   "metadata": {
    "kernel": "SoS"
   },
   "source": [
    "#  Publication\n",
    "\n",
    "Please cite the following publication if you use SoS workflow engine for your work:\n",
    "\n",
    "[**Script of Scripts: a pragmatic workflow system for daily computational research**](https://doi.org/10.1371/journal.pcbi.1006843)\n",
    "<small>Gao Wang and Bo Peng (2019) <em> PLoS Computational Biology</em>. doi: 10.1371/journal.pcbi.1006843</small>\n",
    "\n",
    "Here are a list of examples from the publication:\n",
    "\n",
    "* [Process_Oriented.sos](doc/examples/Process_Oriented.html) ([script](doc/examples/Process_Oriented.sos))<br>\n",
    "  <small>Demonstration of a process_oriented forward-style workflow that executes steps in pre-sepecified order.</small>\n",
    "* [Process_Oriented_Modular.sos](doc/examples/Process_Oriented_Modular.html) ([script](doc/examples/Process_Oriented_Modular.sos))<br>\n",
    "  <small>Same example as above with codes for core computations stored as separate scripts.</small>\n",
    "* [Outcome_Oriented.sos](doc/examples/Outcome_Oriented.html) ([script](doc/examples/Outcome_Oriented.sos))<br>\n",
    "  <small>Demonstration of a outcome-oriented Makefile-style workflow that executes steps that are needed to generate specified outcome.</small>\n",
    "* [Outcome_Oriented_Step_Targets.sos](doc/examples/Outcome_Oriented_Step_Targets.html) ([script](doc/examples/Outcome_Oriented.sos))<br>\n",
    "  <small>Demonstration of a outcome-oriented Makefile-style workflow that determines and executes dependencies by step targets instead of files.</small>\n",
    "* [Mixed_Style.sos](doc/examples/Mixed_Style.html) ([script](doc/examples/Mixed_Style.sos))<br>\n",
    "  <small>Demonstration of a mixed-style workflow that executes steps of a forward-step workflow with dependencies produced by auxiliary steps.</small>\n",
    "* [Mixed_Style_Data_Flow.sos](doc/examples/Mixed_Style_Data_Flow.html) ([script](doc/examples/Mixed_Style_Data_Flow.sos))<br>\n",
    "  <small>Demonstration of a mixed-style workflow that executes steps of a forward-step workflow with dependencies specified by named outputs.</small>\n",
    "* [Next-generation sequencing genotyping pipeline](doc/examples/WGS_Call.html) ([notebook](doc/examples/WGS_Call.ipynb))<br>\n",
    "  <small>This is the SoS version of the <a href=\"http://www.htslib.org/workflow/#mapping_to_variant\">samtools workflow: WGS/WES Mapping to Variant Calls - Version 1.0</a></small>\n",
    "* [RNA Seq Differential Expression Analysis Workflow](doc/examples/RNASeqDE.html) ([notebook](doc/examples/RNASeqDE.ipynb) and [generated report](doc/examples/RNASeqDE_report.html))<br>\n",
    "  <small>This is the SoS version of the <a href=\"https://www.bioconductor.org/help/workflows/rnaseqGene/\">RNA-seq workflow: gene-level exploratory analysis and differential expression</a> from bioconductor.</small>\n",
    "* [RNA Seq Normalization and Expression Residuals Analysis Workflow](doc/examples/RNASeqGTEx.html) ([notebook](doc/examples/RNASeqGTEx.ipynb) and [generated report](doc/examples/RNASeqGTEx_report.html))<br>\n",
    "  <small>This is the SoS version of the RNA-seq preprocessing step of <a href=\"https://github.com/broadinstitute/gtex-pipeline/tree/63b13b8ced25cf8ab8e7a26f40a495e523630a9b/qtl\">eQTL discovery pipeline</a> from the <a href=\"https://www.gtexportal.org/home/\"> GTEx Consortium </a>, updated July 31, 2017.</small>  \n",
    "\n",
    "Please [follow instructions here](doc/examples/Workflow_Manuscript_Examples.html) to reproduce all but the last (due to data accessibility restrictions) examples."
   ]
  },
  {
   "cell_type": "markdown",
   "metadata": {
    "kernel": "SoS"
   },
   "source": [
    "# Example Scripts and workflow notebooks\n",
    "\n",
    "SoS scripts for the maintenance of SoS\n",
    "\n",
    "* [update_toc.sos](doc/examples/update_toc.html) ([script](doc/examples/update_toc.sos))<br>\n",
    "   <small>A sos script that was used by SoS to update TOC of the wiki pages</small>\n",
    "* [release](doc/examples/release.html) ([script](doc/examples/release))<br>\n",
    "   <small>Script to manage SoS website and release SoS to pip, docker hub, etc</small>\n",
    "\n",
    "Pedagogical examples\n",
    "\n",
    "* [DEG Annotation with external task](doc/examples/DEG_Annotation_remote.html) ([notebook](doc/examples/DEG_Annotation_remote.ipynb))<br>\n",
    "  <small>The same example but submit the R part of the workflow as an external task</small>\n",
    "* [Simple External Tasks](doc/examples/LineCount.html) ([notebook](doc/examples/LineCount.ipynb))<br>\n",
    "  <small>An example to generate and execute a number of external tasks in Jupyter notebook. You can try to use option <code>trunk_size</code> to group the tasks. This example also demonstrates the use of option <code>shared</code> to collect results from tasks as variables</small>\n",
    "* [Remote Target](doc/examples/Remote_Target.html) ([notebook](doc/examples/Remote_Target.ipynb))<br>\n",
    "  <small>An example on the analysis of targets that reside on remote servers using target <code>remote()</code> and step option <code>remote</code></small>\n",
    "  \n",
    "Real-world applications\n",
    "\n",
    "- [Data preprocessing for TADA-A R analysis](https://github.com/TADA-A/TADA-A/blob/master/external_tools/mutation_annotation_pipeline.ipynb), for Liu et al 2018, American Journal of Human Genetics.\n",
    "- [Data preprocessing for MASH R analysis](https://github.com/stephenslab/gtexresults/blob/master/workflows/fastqtl_to_mash.ipynb) and [Multivariate eQTL analysis pipeline](https://gaow.github.io/mnm-gtex-v8/analysis/mashr_flashr_workflow.html), for Urbut et al 2018, Nature Genetics."
   ]
  },
  {
   "cell_type": "markdown",
   "metadata": {
    "kernel": "SoS"
   },
   "source": [
    "# <a id=\"sos_documentation\"></a>Documentation\n",
    "\n",
    "* [SoS syntax and structure of SoS scripts](doc/documentation/SoS_Syntax.html)<br>\n",
    "  <small>An overview of the SoS syntax and key components of SoS scripts</small>\n",
    "    \n",
    "* [Step options, statements and their options](doc/documentation/SoS_Step.html)<br>\n",
    "  <small>Section options, input, output, depends statements and their options.</small>\n",
    "\n",
    "* [SoS actions, targets, and functions](doc/documentation/Targets_and_Actions.html)<br>\n",
    "  <small>Complete references to all SoS functions, actions, and targets.</small>\n",
    "\n",
    "* [Remote execution of workflows and external tasks](doc/documentation/Remote_Execution.html)<br>\n",
    "  <small>Running workflows and tasks remotely</small>\n",
    "   \n",
    "* [Command-line Interface](doc/documentation/User_Interface.html)<br>\n",
    "  <small>Command line interface of SoS</small>\n",
    "\n",
    "* [Extending SoS](doc/documentation/Extending_SoS.html)<br>\n",
    "  <small>Define your own target, language, converter.</small>"
   ]
  },
  {
   "cell_type": "markdown",
   "metadata": {
    "kernel": "SoS"
   },
   "source": [
    "# Tutorials"
   ]
  },
  {
   "cell_type": "markdown",
   "metadata": {
    "kernel": "SoS"
   },
   "source": [
    "* [Quick Start Guide](doc/tutorials/Quick_Start_Guide.html)<br>\n",
    "     <small>A quick tour of SoS features</small>\n",
    "* [Execution of Workflow](doc/tutorials/Execution_of_Workflow.html)<br>\n",
    "     <small>Options and methods to execute a workflow</small>\n",
    "* [Makefile-style workflows](doc/tutorials/Auxiliary_Steps.html)<br>\n",
    "    <small>Write and execute workflows in makefile style</small>\n",
    "* [SoS Docker Guide](doc/tutorials/SoS_Docker_Guide.html)<br>\n",
    "   <small>Running commands in docker containers</small>\n",
    "* [SoS Singularity Guide](doc/tutorials/Singularity.html)<br>\n",
    "   <small>Running commands in singularity containers</small>\n",
    "* [Generating Reports](doc/tutorials/Generating_Reports.html)<br>\n",
    "   Generate reports using [pandoc](http://pandoc.org/) or [Rmarkdown](http://rmarkdown.rstudio.com/)\n",
    "* [File Conversion](doc/tutorials/File_Conversion.html)<br>\n",
    "   <small>Conversion between <code>.sos</code>, <code>.ipynb</code>, <code>.html</code> and other formats</small>\n",
    "* [Project Management](doc/tutorials/Project_Management.html)<br>\n",
    "    <small>Manage files and archive projects.</small>\n",
    "* [Remote_Execution](doc/tutorials/Remote_Execution.html)<br>\n",
    "    <small>Execute tasks on remote hosts with or without shared file systems</small>"
   ]
  }
 ],
 "metadata": {
  "anaconda-cloud": {},
  "kernelspec": {
   "display_name": "SoS",
   "language": "sos",
   "name": "sos"
  },
  "language_info": {
   "codemirror_mode": "sos",
   "file_extension": ".sos",
   "mimetype": "text/x-sos",
   "name": "sos",
   "nbconvert_exporter": "sos_notebook.converter.SoS_Exporter",
   "pygments_lexer": "sos"
  },
  "sos": {
   "celltoolbar": true,
   "default_kernel": "SoS",
   "kernels": [],
   "panel": {
    "displayed": true,
    "height": 0,
    "style": "side"
   },
   "version": "0.19.1"
  },
  "toc": {
   "colors": {
    "hover_highlight": "#DAA520",
    "running_highlight": "#FF0000",
    "selected_highlight": "#FFD700"
   },
   "moveMenuLeft": true,
   "nav_menu": {
    "height": "45px",
    "width": "254px"
   },
   "navigate_menu": true,
   "number_sections": true,
   "sideBar": true,
   "threshold": 4,
   "toc_cell": false,
   "toc_section_display": "block",
   "toc_window_display": true
  }
 },
 "nbformat": 4,
 "nbformat_minor": 2
}
