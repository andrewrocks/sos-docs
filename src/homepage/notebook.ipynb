{
 "cells": [
  {
   "cell_type": "markdown",
   "metadata": {
    "kernel": "SoS"
   },
   "source": [
    "# Introductory Videos "
   ]
  },
  {
   "cell_type": "markdown",
   "metadata": {
    "kernel": "SoS"
   },
   "source": [
    "<div class=\"container\">\n",
    "    <div class=\"row\">\n",
    "        <div class=\"col-sm-3\">\n",
    "              <div class=\"embed-responsive embed-responsive-16by9\">\n",
    "                   <iframe width=\"560\" height=\"315\" src=\"https://www.youtube.com/embed/U75eKosFbp8?wmode=opaque\" frameborder=\"0\" allowfullscreen></iframe>\n",
    "                   <div class=\"overlay-duration\">45:56</div>\n",
    "              </div>\n",
    "            <p>Presentation at JupyterCon 18 <br><a href=\"https://github.com/vatlab/JupyterCon2018\">slides and examples</a></p>\n",
    "        </div>\n",
    "        <div class=\"col-sm-3\">\n",
    "              <div class=\"embed-responsive embed-responsive-16by9\">\n",
    "                   <iframe width=\"560\" height=\"315\" src=\"https://www.youtube.com/embed/xrwhNMRTBp4?wmode=opaque\" frameborder=\"0\" allowfullscreen></iframe>\n",
    "                   <div class=\"overlay-duration\">16:32</div>\n",
    "              </div>\n",
    "            <p>Overview of SoS Notebook<br>\n",
    "                <a href=\"https://github.com/vatlab/sos-docs/tree/master/src/videos\">Examples</a>\n",
    "            </p>\n",
    "        </div>\n",
    "    </div>\n",
    "</div>"
   ]
  },
  {
   "cell_type": "markdown",
   "metadata": {
    "kernel": "SoS"
   },
   "source": [
    "# Examples\n",
    "\n",
    "Jupyter notebook to demonstrate features of SoS\n",
    "\n",
    "* [Types of cells](doc/examples/Types_of_cells.html) ([notebook](doc/examples/Types_of_cells.ipynb))<br>\n",
    "  <small>Demonstrate four types of cells that can be included in a Jupyter notebook</small>\n",
    "* <img src=\"img/R.png\" style=\"width:16pt;height:16pt;margin-right:5pt;\"> [DEG Annotation](doc/examples/DEG_Annotation.html) ([notebook](doc/examples/DEG_Annotation.ipynb))<br>\n",
    "  <small>An example to use Python to read an excel file, transfer the data to R, use R to translate ensembl gene IDs to HGNC gene names, then transfer data back to Python to write to a separate excel file</small>\n",
    "* <img src=\"img/R.png\" style=\"width:16pt;height:16pt;margin-right:5pt;\"> [Generation of reports with hidden details](doc/examples/Preview_and_Report_Generation.html) ([notebook](doc/examples/Preview_and_Report_Generation.ipynb) and [generated report](doc/examples/Preview_and_Report_Generation_report.html))<br>\n",
    "  <small>This example demonstrates how to generate a report in HTML format with hidden details</small>\n",
    "* <img src=\"img/SAS.png\" style=\"width:16pt;height:16pt;margin-right:5pt;\"><img src=\"img/R.png\" style=\"width:16pt;height:16pt;margin-right:5pt;\"> [Use SAS with SoS](doc/examples/SAS_Example.html)  ([notebook](doc/examples/SAS_Example.ipynb))<br>\n",
    "  <small>Simple examples on using SAS with SoS</small>"
   ]
  },
  {
   "cell_type": "markdown",
   "metadata": {
    "kernel": "SoS"
   },
   "source": [
    "# Documentation \n",
    "\n",
    "* [SoS Jupyter kernel and interface](doc/documentation/Notebook_Interface.html)<br>\n",
    "  <small>Using SoS with Jupyter notebook</small>\n",
    "\n",
    "* [SoS Magics](doc/documentation/SoS_Magics.html)<br>\n",
    "  <small>Reference to all SoS Magics</small>\n",
    "  \n",
    "* [Supported languages](doc/documentation/Supported_Languages.html)<br>\n",
    "  <small>Data exchange between SoS and supported languages</small>\n",
    "  \n",
    "* [Adding a new language](doc/documentation/Language_Module.html)<br>\n",
    "  <small>Allow data exchange between SoS and a new langauge.</small>"
   ]
  },
  {
   "cell_type": "markdown",
   "metadata": {
    "kernel": "SoS"
   },
   "source": [
    "#  Publications\n",
    "\n",
    "Please cite the following publication if you use SoS Notebook for your work:\n",
    "\n",
    "[**SoS Notebook: An Interactive Multi-Language Data Analysis Environment**](https://academic.oup.com/bioinformatics/advance-article/doi/10.1093/bioinformatics/bty405/5001386)\n",
    "<small>Bo Peng, Gao Wang, Jun Ma, Man Chong Leong, Chris Wakefield, James Melott, Yulun Chiu, Di Du, and John N. Weinstein, <em>Bioinformatics</em>, May 2018. doi: https://doi.org/10.1093/bioinformatics/bty405</small>\n",
    "\n",
    "\n"
   ]
  }
 ],
 "metadata": {
  "anaconda-cloud": {},
  "kernelspec": {
   "display_name": "SoS",
   "language": "sos",
   "name": "sos"
  },
  "language_info": {
   "codemirror_mode": "sos",
   "file_extension": ".sos",
   "mimetype": "text/x-sos",
   "name": "sos",
   "nbconvert_exporter": "sos_notebook.converter.SoS_Exporter",
   "pygments_lexer": "sos"
  },
  "sos": {
   "celltoolbar": true,
   "default_kernel": "SoS",
   "kernels": [],
   "panel": {
    "displayed": true,
    "height": 0,
    "style": "side"
   },
   "version": "0.17.5"
  },
  "toc": {
   "colors": {
    "hover_highlight": "#DAA520",
    "running_highlight": "#FF0000",
    "selected_highlight": "#FFD700"
   },
   "moveMenuLeft": true,
   "nav_menu": {
    "height": "45px",
    "width": "254px"
   },
   "navigate_menu": true,
   "number_sections": true,
   "sideBar": true,
   "threshold": 4,
   "toc_cell": false,
   "toc_section_display": "block",
   "toc_window_display": true
  }
 },
 "nbformat": 4,
 "nbformat_minor": 2
}
