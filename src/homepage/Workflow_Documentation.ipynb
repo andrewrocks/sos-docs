{
 "cells": [
  {
   "cell_type": "code",
   "execution_count": 1,
   "metadata": {
    "kernel": "SoS"
   },
   "outputs": [
    {
     "data": {
      "text/html": [
       "<div class=\"toc\" id=\"toc_Workflow_Documentation\">\n",
       "<ul class=\"toc-item lev0\">\n",
       "<li><a href=\"#notebook_intro_videos\">Introductory Videos</a></li>\n",
       "<li><a href=\"#sos_documentation\">Documentation</a></li>\n",
       "<li><a href=\"#Tutorials\">Tutorials</a></li>\n",
       "<li><a href=\"#Publication\"> Publication</a></li>\n",
       "<li><a href=\"#Example-Scripts\">Example Scripts</a></li>\n",
       "<li><a href=\"#Example-Notebooks\">Example Notebooks</a></li>"
      ]
     },
     "metadata": {},
     "output_type": "display_data"
    }
   ],
   "source": [
    "%toc -n --id 'toc_Workflow_Documentation'"
   ]
  },
  {
   "cell_type": "markdown",
   "metadata": {
    "kernel": "SoS"
   },
   "source": [
    "# <a id=\"notebook_intro_videos\"></a>Introductory Videos"
   ]
  },
  {
   "cell_type": "markdown",
   "metadata": {
    "kernel": "SoS"
   },
   "source": [
    "<div class=\"container\">\n",
    "    <div class=\"row\">\n",
    "        <div class=\"col-sm-6\">\n",
    "              <h2>Overviews</h2>\n",
    "        </div>\n",
    "    </div>\n",
    "    <div class=\"row\">\n",
    "        <div class=\"col-sm-3\">\n",
    "              <div class=\"embed-responsive embed-responsive-16by9\">\n",
    "                   <iframe width=\"560\" height=\"315\" src=\"https://www.youtube.com/embed/E5Eh7BVbbTM?wmode=opaque\" frameborder=\"0\" allowfullscreen></iframe>\n",
    "                   <div class=\"overlay-duration\">14:08</div>\n",
    "              </div>\n",
    "        </div>\n",
    "        <div class=\"col-sm-3\">\n",
    "              <div class=\"embed-responsive embed-responsive-16by9\">\n",
    "                   <iframe width=\"560\" height=\"315\" src=\"https://www.youtube.com/embed/roTDvSXSPgU?wmode=opaque\" frameborder=\"0\" allowfullscreen></iframe>\n",
    "                   <div class=\"overlay-duration\">16:52</div>\n",
    "              </div>\n",
    "        </div>\n",
    "         <div class=\"col-sm-3\">\n",
    "              <div class=\"embed-responsive embed-responsive-16by9\">\n",
    "                   <iframe width=\"560\" height=\"315\" src=\"https://www.youtube.com/embed/_LSQr3DHBpU?wmode=opaque\" frameborder=\"0\" allowfullscreen></iframe>\n",
    "                   <div class=\"overlay-duration\">16:16</div>\n",
    "              </div>\n",
    "        </div>\n",
    "    </div>\n",
    "     <div class=\"row\">\n",
    "          <div class=\"col-sm-6\">\n",
    "              <h2>SoS Syntax</h2>\n",
    "          </div>\n",
    "     </div>\n",
    "     <div class=\"row\">\n",
    "         <div class=\"col-sm-3\">\n",
    "              <div class=\"embed-responsive embed-responsive-16by9\">\n",
    "                   <iframe width=\"560\" height=\"315\" src=\"https://www.youtube.com/embed/cFyFXFSe64w?wmode=opaque\" frameborder=\"0\" allowfullscreen></iframe>\n",
    "                   <div class=\"overlay-duration\">10:48</div>\n",
    "              </div>\n",
    "        </div>\n",
    "        <div class=\"col-sm-3\">\n",
    "              <div class=\"embed-responsive embed-responsive-16by9\">\n",
    "                   <iframe width=\"560\" height=\"315\" src=\"https://www.youtube.com/embed/KdqBeT7Ckv0?wmode=opaque\" frameborder=\"0\" allowfullscreen></iframe>\n",
    "                   <div class=\"overlay-duration\">8:42</div>\n",
    "              </div>\n",
    "        </div>\n",
    "        <div class=\"col-sm-3\">\n",
    "              <div class=\"embed-responsive embed-responsive-16by9\">\n",
    "                   <iframe width=\"560\" height=\"315\" src=\"https://www.youtube.com/embed/W-Yl4YduSwk?wmode=opaque\" frameborder=\"0\" allowfullscreen></iframe>\n",
    "                   <div class=\"overlay-duration\">8:13</div>\n",
    "              </div>\n",
    "        </div>\n",
    "     </div>\n",
    "     <div class=\"row\">\n",
    "          <div class=\"col-sm-6\">\n",
    "              <h2>External Tasks</h2>\n",
    "          </div>\n",
    "     </div>\n",
    "     <div class=\"row\">\n",
    "         <div class=\"col-sm-3\">\n",
    "              <div class=\"embed-responsive embed-responsive-16by9\">\n",
    "                   <iframe width=\"560\" height=\"315\" src=\"https://www.youtube.com/embed/n-MXCsGl0LI?wmode=opaque\" frameborder=\"0\" allowfullscreen></iframe>\n",
    "                   <div class=\"overlay-duration\">9:54</div>\n",
    "              </div>\n",
    "        </div>\n",
    "     </div>\n",
    "</div>"
   ]
  },
  {
   "cell_type": "markdown",
   "metadata": {
    "kernel": "SoS"
   },
   "source": [
    "**NOTE:** Notebooks and scripts developed for these videos are available at our [github repository](https://github.com/vatlab/sos-docs/tree/master/src/videos). Most used examples include \n",
    "* [convert.py](https://github.com/vatlab/sos-docs/blob/master/src/videos/convert.py),  [plot.R](https://github.com/vatlab/sos-docs/blob/master/src/videos/plot.R), and [analysis.sos](https://github.com/vatlab/sos-docs/blob/master/src/videos/analysis.sos)\n",
    "* [Video-Overview-of-SoS-Workflow-Engine.ipynb](https://github.com/vatlab/sos-docs/blob/master/src/videos/Video-Overview-of-SoS-Workflow-Engine.ipynb)\n",
    "* [Video-Script-Format-of-Function-Calls.ipynb](https://github.com/vatlab/sos-docs/blob/master/src/videos/Video-Script-Format-of-Function-Calls.ipynb)\n",
    "* [Video-Input-Group.ipynb](https://github.com/vatlab/sos-docs/blob/master/src/videos/Video-Input-Group.ipynb)\n",
    "* [Video-Step-Output.ipynb](https://github.com/vatlab/sos-docs/blob/master/src/videos/Video-Step-Output.ipynb)\n",
    "\n",
    "Some examples are also available under directory examples in our [live SoS server](http://128.135.144.117:8000/)."
   ]
  },
  {
   "cell_type": "markdown",
   "metadata": {
    "kernel": "SoS"
   },
   "source": [
    "# <a id=\"sos_documentation\"></a>Documentation\n",
    "\n",
    "* [SoS syntax and structure of SoS scripts](doc/documentation/SoS_Syntax.html)<br>\n",
    "  <small>An overview of the SoS syntax and key components of SoS scripts</small>\n",
    "    \n",
    "* [Step options, statements and their options](doc/documentation/SoS_Step.html)<br>\n",
    "  <small>Section options, input, output, depends statements and their options.</small>\n",
    "\n",
    "* [SoS actions, targets, and functions](doc/documentation/Targets_and_Actions.html)<br>\n",
    "  <small>Complete references to all SoS functions, actions, and targets.</small>\n",
    "\n",
    "* [Remote execution of workflows and external tasks](doc/documentation/Remote_Execution.html)<br>\n",
    "  <small>Running workflows and tasks remotely</small>\n",
    "   \n",
    "* [Command-line Interface](doc/documentation/User_Interface.html)<br>\n",
    "  <small>Command line interface of SoS</small>\n",
    "\n",
    "* [Extending SoS](doc/documentation/Extending_SoS.html)<br>\n",
    "  <small>Define your own target, language, converter.</small>"
   ]
  },
  {
   "cell_type": "markdown",
   "metadata": {
    "kernel": "SoS"
   },
   "source": [
    "# User's guide (under development)"
   ]
  },
  {
   "cell_type": "markdown",
   "metadata": {
    "kernel": "SoS"
   },
   "source": [
    "The following guides cover most common usages of the SoS workflow system. These tutorials contain examples and sometimes Youtube videos and each of them should take less than 10 minutes to complete. Tutorials that are marked with one or more `*` contain more advanced features that you can safely ignore if you are new to SoS.\n",
    "\n",
    "* [Using SoS workflow system in Jupyter and from command line](doc/tutorials/getting_started.html)<br>\n",
    "   <small>Scratch cells, embedded workflow, <code>%run</code> and <code>%sosrun</code> magics, and <code>sos run</code> command</small>\n",
    "* The essentials - How to write and execute simple SoS workflows\n",
    "  * [How to include scripts in different langauges in SoS workflows](doc/tutorials/scripts_in_sos.html)<br>\n",
    "   <small>SoS actions, the script format of function calls, and the <code>expand</code> option</small>\n",
    "  * [How to define and use variables and command line arguments](doc/tutorials/parameters.html)<br>\n",
    "   <small>Basic SoS syntax and the <code>parameter</code> statement</small>\n",
    "  * [How to define and execute basic forward-type workflows](doc/tutorials/forward_workflow.html)<br>\n",
    "   <small>Defining and executing workflows with numerically-ordered steps</small>\n",
    "  * [How to use SoS Notebook to organize and share your project](doc/tutorials/organize_scripts.html)<br>\n",
    "   <small>Use simple SoS workflows to consolidate your scripts</small>   \n",
    "* SoS Actions - How to include and execute scripts in different languages\n",
    "  * [How to execute shell scripts](doc/tutorials/shell_actions.html)<br>\n",
    "   <small>The <code>run</code>, <code>bash</code>, and other shell actions</small>\n",
    "  * [How to execute Python, R, Julia, and scripts in other languages](doc/tutorials/script_actions.html)<br>\n",
    "   <small>The <code>Python</code>, <code>R</code>, and other script running actions</small>   \n",
    "  * [How to execute scripts with additional parameters or in unsupported languages](doc/tutorials/action_param.html) **<br>\n",
    "   <small>The <code>param</code> option of actions</small>\n",
    "  * [How to generate reports in plain text or markdown format](doc/tutorials/report_action.html)<br>\n",
    "   <small>The <code>report</code> action</small>\n",
    "  * [How to generate reports in HTML format](doc/tutorials/html_report_actions.html) *<br>\n",
    "   <small>The <code>pandoc</code> and <code>Rmarkdown</code> actions</small>   \n",
    "  * [Using other SoS actions to control the execution of steps](doc/tutorials/)<br>\n",
    "   <small>The <code>stop_if</code>, <code>warn_if</code> and other SoS actions</small> \n",
    "  * [How to execute scripts in docker](doc/tutorials/docker.html) **<br>\n",
    "   <small>Option <code>container</code> of script-executing action</small>  \n",
    "  * [How to execute script in singularity](doc/tutorials/singularity.html) ***<br>\n",
    "   <small>Options <code>container</code> and <code>engine</code> of script-executing action</small>\n",
    "* SoS Steps - steps, substeps, and step dependencies\n",
    "  * [How to define input and output of workflows](doc/tutorials/input_output.html)<br>\n",
    "   <small>The <code>input</code>, <code>depends</code>, and <code>output</code> statements and <code>_input</code>, <code>_depends</code>, and <code>_output</code> variables</small>\n",
    "  * [How to manipulate and format paths to compose scripts in different languages](doc/tutorials/path_formatting.html) *<br>\n",
    "   <small>The <code>path</code>, <code>paths</code>, and <code>sos_targets</code> data types and their format specifications</small>\n",
    "  * [What exactly are \"targets\" in SoS](doc/tutorials/targets.html) *<br>\n",
    "   <small>Definition of <em>target</em> and the <code>executable</code>, <code>Py_Module</code> and <code>R_library</code> targets</small>      \n",
    "  * [How to group input and output targets by names](doc/tutorials/target_source.html)<br>\n",
    "   <small>The \"source\" of input and output files and the concept of named input and output</small>\n",
    "  * [How to process input files in groups](doc/tutorials/group_by.html)<br>\n",
    "   <small>Substeps and the <code>group_by</code> parameter</small>\n",
    "  * [How to repeat steps for different parameters](doc/tutorials/for_each.html)<br>\n",
    "   <small>Parameter <code>for_each</code> of input statements</small>\n",
    "  * [How to attach variables to files and groups of files](doc/tutorials/paired_group_with.html) *<br>\n",
    "   <small>Parameters <code>paired_with</code> and <code>group_with</code> of input statements</small>\n",
    "  * [How to extract information from input file names](doc/tutorials/input_pattern.html) *<br>\n",
    "   <small>Parameter <code>pattern</code> of input statements</small>\n",
    "  * [How to (not) execute substeps in parallel](doc/tutorials/concurrent_substep.html) *<br>\n",
    "   <small>Parameter <code>concurrent</code> of input statements</small>\n",
    "  * [How to create step output with groups and variables](doc/tutorials/output_groups_vars.html) *<br>\n",
    "   <small>Parameters <code>group_by</code>, <code>paired_with</code>, and <code>group_with</code> of output statements</small>\n",
    "* Defining process-oriented and outcome-oriented workflows\n",
    "  * [How to define and execute multiple workflows in a single SoS script](doc/tutorials/multi_workflow.html) **<br>\n",
    "   <small>Shared workflow steps, subworkflows, and combined workflows</small>\n",
    "  * [How to execute other workflows in a SoS step](doc/tutorials/nested_workflow.html)<br>\n",
    "   <small>Subworkflows and the <code>sos_run</code> function</small>\n",
    "  * [How to write simple data-flow style workflows](doc/tutorials/data_flow.html)<br>\n",
    "   <small>Create dependencies using <code>input</code> and <code>output</code> statements </small>\n",
    "  * [How to use named output in data-flow style workflows](doc/tutorials/named_output.html) *<br>\n",
    "   <small>The <code>named_output</code> functions</small>\n",
    "  * [How to use Makefile-style rules to generate required files](doc/tutorials/auxiliary_steps.html)<br>\n",
    "   <small>Use of <code>provides</code> section option</small>\n",
    "  * [How to use pass variables between SoS steps](doc/tutorials/shared_variables.html) **<br>\n",
    "   <small>The <code>sos_variable</code> target and <code>shared</code> section option</small>   \n",
    "  * [How to include output from another step in a SoS step](doc/tutorials/output_from.html) *<br>\n",
    "   <small>The <code>output_from</code> function</small>\n",
    "  * [How to explicitly execute another step before a SoS step](doc/tutorials/sos_step.html) *<br>\n",
    "   <small>Using <code>sos_step</code> targets to create step dependency</small>\n",
    "  * [How to explicitly execute another workflow before a SoS step](doc/tutorials/) **<br>\n",
    "   <small>Using <code>sos_step</code> targets to create dependencies on other workflows</small>\n",
    "* Executing workflows - options of the <code>sos run</code> command\n",
    "  * [How to control the verbosity of sos output and the number of running jobs](doc/tutorials/verbosity_and_jobs.html)<br>\n",
    "   <small>The <code>-v</code> (verbosity) and <code>-j</code> (jobs) options of the <code>sos run</code> command</small>\n",
    "  * [How to execute workflow to generate specific output](doc/tutorials/target_oriented.html)<br>\n",
    "   <small>The <code>-t</code> option of the <code>sos run</code> command</small>\n",
    "  * [How to avoid or force the re-execution of executed steps](doc/tutorials/signature.html)<br>\n",
    "   <small>Runtime signatures and the <code>-s</code> option of <code>sos run</code></small>\n",
    "  * [How to check the validity of SoS scripts without actually executing it](doc/tutorials/dryrun.html)<br>\n",
    "   <small>The <code>dryrun</code> mode and the <code>-n</code> option of the <code>sos run</code> command</small>\n",
    "  * [How to generate a summary report for the executing of workflows](doc/tutorials/)<br>\n",
    "   <small>The <code>-d</code> (DAG) <code>-p</code> (report) options of the <code>sos run</code></small>\n",
    "  * [How to execute sos workflows on remote hosts](doc/tutorials/remote_execution.html) **<br>\n",
    "  <small>The <code>-r</code> (remote) option of the <code>sos run</code> command</small>\n",
    "* External tasks - running large jobs on cluster computers\n",
    "  * [How to execute large and long-running scripts](doc/tutorials/tasks.html)<br>\n",
    "   <small>The <code>task</code> statement and the <code>-q</code> option of the <code>sos run</code> command</small>\n",
    "  * [How to specify the resources needed for the tasks](doc/tutorials/resources.html) *<br>\n",
    "   <small>The <code>walltime</code> and <code>mem</code> options of tasks</small>   \n",
    "  * [How to use different hosts to execute tasks in the same workflow](doc/tutorials/multi_queues.html) *<br>\n",
    "   <small>The <code>queue</code> options of tasks</small> \n",
    "  * [How to work with a remote system that does not share filesystem with local host](doc/tutorials/remote_filesystem.html) **<br>\n",
    "   <small>Host definition of remote host and translation of <code>input</code> and <code>output</code></small>\n",
    "  * [How to transfer input and output automatically between local and remote hosts](doc/tutorials/file_synchronization.html) ***<br>\n",
    "   <small>Remote host and <code>remote</code> targets</small>   \n",
    "  * [How to associate task IDs with sample IDs and job IDs](doc/tutorials/task_tags.html)<br>\n",
    "   <small>Task tags and the <code>tags</code> options of tasks</small>\n",
    "  * [How to execute tasks on a remote server without a batch system](doc/tutorials/process_engine.html)<br>\n",
    "   <small>The <code>process</code> task engine</small>   \n",
    "  * [How to work with a PBS/Torque cluster system](doc/tutorials/pbs.html) *<br>\n",
    "   <small>Host definition for PBS system</small>\n",
    "  * [How to work with a IBM/LSF cluster system](doc/tutorials/lsf.html) *<br>\n",
    "   <small>Host definition for IBM/LSF system</small> \n",
    "  * [How to work with a Slurm cluster system](doc/tutorials/slurm.html) *<br>\n",
    "   <small>Host definition for Slurm system</small> \n",
    "  * [How to monitor the progress of tasks, locally and on remote host](doc/tutorials/task_status.html)<br>\n",
    "   <small>The <code>sos status</code> command and <code>%task</code> magic</small>\n",
    "  * [How to check available remote hosts and if they are properly configured](doc/tutorials/host_setup.html) **<br>\n",
    "   <small>The <code>sos remote list</code>, <code>setup</code> and <code>test</code> commands</small>\n",
    "  * [How to kill and purge local and remote tasks](doc/tutorials/kill_purge.html)<br>\n",
    "   <small>The <code>sos kill</code> and <code>sos purge</code> commands and <code>%task</code> magic</small>\n",
    "  * [How to deal with failed or aborted jobs](doc/tutorials/task_error.html)<br>\n",
    "   <small>Checking the error messages and restart the tasks</small> \n",
    "* Miscellaneous topics\n",
    "  * [How to write SoS scripts in vim with syntax highlighting](doc/tutorials/vim.html)<br>\n",
    "   <small>The SoS vim syntax</small> \n",
    "  * [How to convert SoS notebook to SoS script, and vise versa](doc/tutorials/convert.html)<br>\n",
    "   <small><code>sos convert</code> between <code>.sos</code> and <code>.pynb</code> files</small> \n",
    "  * [How to generate a syntax-hilighted HTML version of SoS scripts](doc/tutorials/show_script.html)<br>\n",
    "   <small><code>sos convert</code> from <code>.sos</code> to <code>.html</code></small>    "
   ]
  },
  {
   "cell_type": "markdown",
   "metadata": {
    "kernel": "SoS"
   },
   "source": [
    "# Tutorials"
   ]
  },
  {
   "cell_type": "markdown",
   "metadata": {
    "kernel": "SoS"
   },
   "source": [
    "* [Quick Start Guide](doc/tutorials/Quick_Start_Guide.html)<br>\n",
    "     <small>A quick tour of SoS features</small>\n",
    "* [Execution of Workflow](doc/tutorials/Execution_of_Workflow.html)<br>\n",
    "     <small>Options and methods to execute a workflow</small>\n",
    "* [Makefile-style workflows](doc/tutorials/Auxiliary_Steps.html)<br>\n",
    "    <small>Write and execute workflows in makefile style</small>\n",
    "* [SoS Docker Guide](doc/tutorials/SoS_Docker_Guide.html)<br>\n",
    "   <small>Running commands in docker containers</small>\n",
    "* [SoS Singularity Guide](doc/tutorials/Singularity.html)<br>\n",
    "   <small>Running commands in singularity containers</small>\n",
    "* [Generating Reports](doc/tutorials/Generating_Reports.html)<br>\n",
    "   Generate reports using [pandoc](http://pandoc.org/) or [Rmarkdown](http://rmarkdown.rstudio.com/)\n",
    "* [File Conversion](doc/tutorials/File_Conversion.html)<br>\n",
    "   <small>Conversion between <code>.sos</code>, <code>.ipynb</code>, <code>.html</code> and other formats</small>\n",
    "* [Project Management](doc/tutorials/Project_Management.html)<br>\n",
    "    <small>Manage files and archive projects.</small>\n",
    "* [Remote_Execution](doc/tutorials/Remote_Execution.html)<br>\n",
    "    <small>Execute tasks on remote hosts with or without shared file systems</small>"
   ]
  },
  {
   "cell_type": "markdown",
   "metadata": {
    "kernel": "SoS"
   },
   "source": [
    "#  Publication\n",
    "\n",
    "Please cite the following publication if you use SoS workflow engine for your work:\n",
    "\n",
    "**Script of Scripts: a simple yet powerful workflow system for daily computational research**\n",
    "<small>Gao Wang and Bo Peng, in preparation</small>\n",
    "\n",
    "Here are a list of examples from the publication:\n",
    "\n",
    "* [Process_Oriented.sos](doc/examples/Process_Oriented.html) ([script](doc/examples/Process_Oriented.sos))<br>\n",
    "  <small>Demonstration of a process_oriented forward-style workflow that executes steps in pre-sepecified order.</small>\n",
    "* [Outcome_Oriented.sos](doc/examples/Outcome_Oriented.html) ([script](doc/examples/Outcome_Oriented.sos))<br>\n",
    "  <small>Demonstration of a outcome-oriented Makefile-style workflow that executes steps that are needed to generate specified outcome.</small>\n",
    "* [Outcome_Oriented_Step_Targets.sos](doc/examples/Outcome_Oriented_Step_Targets.html) ([script](doc/examples/Outcome_Oriented.sos))<br>\n",
    "  <small>Demonstration of a outcome-oriented Makefile-style workflow that determines and executes dependencies by step targets instead of files.</small>\n",
    "* [Mixed_Style.sos](doc/examples/Mixed_Style.html) ([script](doc/examples/Mixed_Style.sos))<br>\n",
    "  <small>Demonstration of a mixed-style workflow that executes steps of a forward-step workflow with dependencies produced by auxiliary steps.</small>\n",
    "* [Next-generation sequencing genotyping pipeline](doc/examples/WGS_Call.html) ([notebook](doc/examples/WGS_Call.ipynb))<br>\n",
    "  <small>This is the SoS version of the <a href=\"http://www.htslib.org/workflow/#mapping_to_variant\">samtools workflow: WGS/WES Mapping to Variant Calls - Version 1.0</a></small>\n",
    "* [RNA Seq Differential Expression Analysis Workflow](doc/examples/RNASeqDE.html) ([notebook](doc/examples/RNASeqDE.ipynb) and [generated report](doc/examples/RNASeqDE_report.html))<br>\n",
    "  <small>This is the SoS version of the <a href=\"https://www.bioconductor.org/help/workflows/rnaseqGene/\">RNA-seq workflow: gene-level exploratory analysis and differential expression</a> from bioconductor.</small>\n",
    "* [RNA Seq Normalization and Expression Residuals Analysis Workflow](doc/examples/RNASeqGTEx.html) ([notebook](doc/examples/RNASeqGTEx.ipynb) and [generated report](doc/examples/RNASeqGTEx_report.html))<br>\n",
    "  <small>This is the SoS version of the RNA-seq preprocessing step of <a href=\"https://github.com/broadinstitute/gtex-pipeline/tree/63b13b8ced25cf8ab8e7a26f40a495e523630a9b/qtl\">eQTL discovery pipeline</a> from the <a href=\"https://www.gtexportal.org/home/\"> GTEx Consortium </a>, updated July 31, 2017.</small>  \n",
    "\n",
    "Please [follow instructions here](doc/examples/Workflow_Manuscript_Examples.html) to reproduce the first 5 examples."
   ]
  },
  {
   "cell_type": "markdown",
   "metadata": {
    "kernel": "SoS"
   },
   "source": [
    "# Example Scripts and workflow notebooks\n",
    "\n",
    "SoS scripts for the maintenance of SoS\n",
    "\n",
    "* [update_toc.sos](doc/examples/update_toc.html) ([script](doc/examples/update_toc.sos))<br>\n",
    "   <small>A sos script that was used by SoS to update TOC of the wiki pages</small>\n",
    "* [release](doc/examples/release.html) ([script](doc/examples/release))<br>\n",
    "   <small>Script to manage SoS website and release SoS to pip, docker hub, etc</small>\n",
    "\n",
    "Pedagogical examples\n",
    "\n",
    "* [DEG Annotation with external task](doc/examples/DEG_Annotation_remote.html) ([notebook](doc/examples/DEG_Annotation_remote.ipynb))<br>\n",
    "  <small>The same example but submit the R part of the workflow as an external task</small>\n",
    "* [Simple External Tasks](doc/examples/LineCount.html) ([notebook](doc/examples/LineCount.ipynb))<br>\n",
    "  <small>An example to generate and execute a number of external tasks in Jupyter notebook. You can try to use option <code>trunk_size</code> to group the tasks. This example also demonstrates the use of option <code>shared</code> to collect results from tasks as variables</small>\n",
    "* [Remote Target](doc/examples/Remote_Target.html) ([notebook](doc/examples/Remote_Target.ipynb))<br>\n",
    "  <small>An example on the analysis of targets that reside on remote servers using target <code>remote()</code> and step option <code>remote</code></small>\n",
    "  \n",
    "Real-world applications\n",
    "\n",
    "- [Data preprocessing for TADA-A R analysis](https://github.com/TADA-A/TADA-A/blob/master/external_tools/mutation_annotation_pipeline.ipynb), for Liu et al 2018, American Journal of Human Genetics.\n",
    "- [Data preprocessing for MASH R analysis](https://github.com/stephenslab/gtexresults/blob/master/workflows/fastqtl_to_mash.ipynb) and [Multivariate eQTL analysis pipeline](https://gaow.github.io/mnm-gtex-v8/analysis/mashr_flashr_workflow.html), for Urbut et al 2018, Nature Genetics."
   ]
  }
 ],
 "metadata": {
  "anaconda-cloud": {},
  "kernelspec": {
   "display_name": "SoS",
   "language": "sos",
   "name": "sos"
  },
  "language_info": {
   "codemirror_mode": "sos",
   "file_extension": ".sos",
   "mimetype": "text/x-sos",
   "name": "sos",
   "nbconvert_exporter": "sos_notebook.converter.SoS_Exporter",
   "pygments_lexer": "sos"
  },
  "sos": {
   "celltoolbar": true,
   "default_kernel": "SoS",
   "kernels": [],
   "panel": {
    "displayed": true,
    "height": 0,
    "style": "side"
   },
   "version": "0.17.4"
  },
  "toc": {
   "colors": {
    "hover_highlight": "#DAA520",
    "running_highlight": "#FF0000",
    "selected_highlight": "#FFD700"
   },
   "moveMenuLeft": true,
   "nav_menu": {
    "height": "45px",
    "width": "254px"
   },
   "navigate_menu": true,
   "number_sections": true,
   "sideBar": true,
   "threshold": 4,
   "toc_cell": false,
   "toc_section_display": "block",
   "toc_window_display": true
  }
 },
 "nbformat": 4,
 "nbformat_minor": 2
}
