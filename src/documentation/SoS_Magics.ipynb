{
 "cells": [
  {
   "cell_type": "markdown",
   "metadata": {
    "kernel": "SoS"
   },
   "source": [
    "# SoS Magics"
   ]
  },
  {
   "cell_type": "code",
   "execution_count": 1,
   "metadata": {
    "kernel": "SoS"
   },
   "outputs": [
    {
     "data": {
      "text/html": [
       "\n",
       "        <table class=\"revision_table\">\n",
       "        <tr>\n",
       "        <th>Revision</th>\n",
       "        <th>Author</th>\n",
       "        <th>Date</th>\n",
       "        <th>Message</th>\n",
       "        <tr>\n",
       "        <tr><td><a target=\"_blank\" href=\"https://github.com/vatlab/sos-docs/blob/c3d148bb948391366820842ec23a6ca092f307a1/src/documentation/SoS_Magics.ipynb\"><span class=\"revision_id\">c3d148b<span></a></td>\n",
       "<td>Bo Peng</td>\n",
       "<td>2018-05-18</td>\n",
       "<td>Shorten %revisions magic in doc</td></tr><tr><td><a target=\"_blank\" href=\"https://github.com/vatlab/sos-docs/blob/6784599ccef31fc4b68bbbadb8aeb97a292456b3/src/documentation/SoS_Magics.ipynb\"><span class=\"revision_id\">6784599<span></a></td>\n",
       "<td>Bo Peng</td>\n",
       "<td>2018-05-18</td>\n",
       "<td>Update doc with the new %revisions magic vatlab/sos-notebook#74</td></tr><tr><td><a target=\"_blank\" href=\"https://github.com/vatlab/sos-docs/blob/bf35ae9cb26791800a82c183a5553ec511a44374/src/documentation/SoS_Magics.ipynb\"><span class=\"revision_id\">bf35ae9<span></a></td>\n",
       "<td>Bo Peng</td>\n",
       "<td>2018-05-08</td>\n",
       "<td>Update docs on magic %cd</td></tr><tr><td><a target=\"_blank\" href=\"https://github.com/vatlab/sos-docs/blob/3d83d6e11c2f573e64ec74c87780b8a9569322be/src/documentation/SoS_Magics.ipynb\"><span class=\"revision_id\">3d83d6e<span></a></td>\n",
       "<td>Bo Peng</td>\n",
       "<td>2018-03-06</td>\n",
       "<td>Remove unused kernel info from documents</td></tr><tr><td><a target=\"_blank\" href=\"https://github.com/vatlab/sos-docs/blob/0300c1dae5eeaa66e2182b00e6708efdff0242c5/src/documentation/SoS_Magics.ipynb\"><span class=\"revision_id\">0300c1d<span></a></td>\n",
       "<td>Bo Peng</td>\n",
       "<td>2018-02-07</td>\n",
       "<td>Document option --append of magic %capture</td></tr><tr><td><a target=\"_blank\" href=\"https://github.com/vatlab/sos-docs/blob/51b936135d55cf3e0170998dc7bfcd47a825fbc7/src/documentation/SoS_Magics.ipynb\"><span class=\"revision_id\">51b9361<span></a></td>\n",
       "<td>Bo Peng</td>\n",
       "<td>2018-01-25</td>\n",
       "<td>Document magic capture</td></tr><tr><td><a target=\"_blank\" href=\"https://github.com/vatlab/sos-docs/blob/4255a10165e2dd9613b293798dd065206060639e/src/documentation/SoS_Magics.ipynb\"><span class=\"revision_id\">4255a10<span></a></td>\n",
       "<td>Bo Peng</td>\n",
       "<td>2017-12-08</td>\n",
       "<td>update docs for the rename of sos variables</td></tr><tr><td><a target=\"_blank\" href=\"https://github.com/vatlab/sos-docs/blob/2e46aea6fc9c170abce617618349fd1916c0ce74/src/documentation/SoS_Magics.ipynb\"><span class=\"revision_id\">2e46aea<span></a></td>\n",
       "<td>Bo Peng</td>\n",
       "<td>2017-12-04</td>\n",
       "<td>Tag magic sections in SoS_Magics.ipynb</td></tr><tr><td><a target=\"_blank\" href=\"https://github.com/vatlab/sos-docs/blob/0de68402df47e97997699987b5b770273fb0933c/src/documentation/SoS_Magics.ipynb\"><span class=\"revision_id\">0de6840<span></a></td>\n",
       "<td>Bo Peng</td>\n",
       "<td>2017-11-06</td>\n",
       "<td>Document the new %expand magic</td></tr><tr><td><a target=\"_blank\" href=\"https://github.com/vatlab/sos-docs/blob/58df8547ad00cc0bcd5f5fc98b166ca535feeb48/src/documentation/SoS_Magics.ipynb\"><span class=\"revision_id\">58df854<span></a></td>\n",
       "<td>Bo Peng</td>\n",
       "<td>2017-11-06</td>\n",
       "<td>Document new --status option to magic %clear and new way of handling non-conforming tasks</td></tr><tr><td><a target=\"_blank\" href=\"https://github.com/vatlab/sos-docs/blob/960affd9bbfb8580b178fc20e266dbbf100c3a35/src/documentation/SoS_Magics.ipynb\"><span class=\"revision_id\">960affd<span></a></td>\n",
       "<td>Bo Peng</td>\n",
       "<td>2017-11-06</td>\n",
       "<td>Update documents for the switch to python f-string</td></tr><tr><td><a target=\"_blank\" href=\"https://github.com/vatlab/sos-docs/blob/3bf32df0368f6f3767c49fae59a04cbad198e503/src/documentation/SoS_Magics.ipynb\"><span class=\"revision_id\">3bf32df<span></a></td>\n",
       "<td>Bo Peng</td>\n",
       "<td>2017-10-25</td>\n",
       "<td>Document the new %clear magic #5</td></tr><tr><td><a target=\"_blank\" href=\"https://github.com/vatlab/sos-docs/blob/0a5dddc96a8fdf2e29bce1445c087caa9ef7ddc4/src/documentation/SoS_Magics.ipynb\"><span class=\"revision_id\">0a5dddc<span></a></td>\n",
       "<td>Bo Peng</td>\n",
       "<td>2017-10-05</td>\n",
       "<td>Move sos docs from sos to sos-docs repository</td></tr></table>"
      ]
     },
     "metadata": {},
     "output_type": "display_data"
    }
   ],
   "source": [
    "%revisions --source"
   ]
  },
  {
   "cell_type": "markdown",
   "metadata": {
    "kernel": "SoS"
   },
   "source": [
    "In addition to SoS statements, you can use a few SoS magics in Jupyter notebook. \n",
    "\n",
    "1. SoS magics have to be specified at the beginning of a cell, although they can be specified after empty lines and comments.\n",
    "2. Lines ending with `\"\\\"` will be joined so you can break long magics into multiple lines\n",
    "3. Multiple magics can be used in a single cell."
   ]
  },
  {
   "cell_type": "markdown",
   "metadata": {
    "kernel": "SoS"
   },
   "source": [
    "This section lists all magics that SoS supports. To get a list of magics, you can enter `%` at the beginning of a line and press tab. You can also get the detailed usage of a magic by executing a magic with `-h` option, for example:"
   ]
  },
  {
   "cell_type": "code",
   "execution_count": 1,
   "metadata": {
    "kernel": "SoS",
    "scrolled": true
   },
   "outputs": [
    {
     "name": "stdout",
     "output_type": "stream",
     "text": [
      "usage: %use [-h] [-k KERNEL] [-l LANGUAGE] [-c COLOR] [-r]\n",
      "            [-i [IN_VARS [IN_VARS ...]]] [-o [OUT_VARS [OUT_VARS ...]]]\n",
      "            [name]\n",
      "\n",
      "Switch to a specified subkernel.\n",
      "\n",
      "positional arguments:\n",
      "  name                  Displayed name of kernel to start (if no kernel with\n",
      "                        name is specified) or switch to (if a kernel with this\n",
      "                        name is already started). The name is usually a kernel\n",
      "                        name (e.g. %use ir) or a language name (e.g. %use R)\n",
      "                        in which case the language name will be used. One or\n",
      "                        more parameters --language or --kernel will need to be\n",
      "                        specified if a new name is used to start a separate\n",
      "                        instance of a kernel.\n",
      "\n",
      "optional arguments:\n",
      "  -h, --help            show this help message and exit\n",
      "  -k KERNEL, --kernel KERNEL\n",
      "                        kernel name as displayed in the output of jupyter\n",
      "                        kernelspec list. Default to the default kernel of\n",
      "                        selected language (e.g. ir for language R.\n",
      "  -l LANGUAGE, --language LANGUAGE\n",
      "                        Language extension that enables magics such as %get\n",
      "                        and %put for the kernel, which should be in the name\n",
      "                        of a registered language (e.g. R), or a specific\n",
      "                        language module in the format of package.module:class.\n",
      "                        SoS maitains a list of languages and kernels so this\n",
      "                        option is only needed for starting a new instance of a\n",
      "                        kernel.\n",
      "  -c COLOR, --color COLOR\n",
      "                        Background color of new or existing kernel, which\n",
      "                        overrides the default color of the language. A special\n",
      "                        value \"default\" can be used to reset color to default.\n",
      "  -r, --restart         Restart the kernel if it is running.\n",
      "  -i [IN_VARS [IN_VARS ...]], --in [IN_VARS [IN_VARS ...]]\n",
      "                        Input variables (variables to get from SoS kernel)\n",
      "  -o [OUT_VARS [OUT_VARS ...]], --out [OUT_VARS [OUT_VARS ...]]\n",
      "                        Output variables (variables to put back to SoS kernel\n",
      "                        before switching back to the SoS kernel\n"
     ]
    }
   ],
   "source": [
    "%use -h"
   ]
  },
  {
   "cell_type": "markdown",
   "metadata": {
    "kernel": "SoS"
   },
   "source": [
    "Note that subkernels can have their own magics, and SoS basically processes all blank lines and known magics and send rest of the cell content to the subkernel. That is to say, because SoS does not define a `pwd` magic, the following magic would be process by the Python 3 subkernel."
   ]
  },
  {
   "cell_type": "code",
   "execution_count": 2,
   "metadata": {
    "kernel": "Python3"
   },
   "outputs": [
    {
     "data": {
      "text/plain": [
       "'/Users/bpeng1/sos-docs/src/documentation'"
      ]
     },
     "execution_count": 2,
     "metadata": {},
     "output_type": "execute_result"
    }
   ],
   "source": [
    "%pwd"
   ]
  },
  {
   "cell_type": "markdown",
   "metadata": {
    "kernel": "SoS"
   },
   "source": [
    "### <a id=\"magic_capture\"></a>`%capture`"
   ]
  },
  {
   "cell_type": "markdown",
   "metadata": {
    "kernel": "SoS"
   },
   "source": [
    "The `capture` magic is executed after the evaluation of the current cell (in SoS or any subkernel), capture the output of the cell (either `stdout` (`stdout` of `stream` message type, the default), `stdout` (`stderr` of `stream` messages), `text` (`text/html` of `display_data` messages), `html` (`text/html` of `display_data` messages), or `raw` (all messages as a list, mostly for debugging purposes). The results are saved to a variable specified by options `--to` or `--append`.\n",
    "\n",
    "When the capture type is plain text (from `stdout`, `stderr`, or `text`), the return result can be parse it as `text`, `json`, `csv`, or `tsv`, and save (`--to`) or append (`--append`) the result to specified variable  as text, Python dictionary, or `Pandas` `DataFrame`."
   ]
  },
  {
   "cell_type": "code",
   "execution_count": 1,
   "metadata": {
    "kernel": "SoS"
   },
   "outputs": [
    {
     "name": "stdout",
     "output_type": "stream",
     "text": [
      "usage: %capture [-h] [--as [{text,json,csv,tsv}]] [-t VAR | -a VAR]\n",
      "                [{stdout,stderr,text,markdown,html,raw}]\n",
      "\n",
      "Capture output (stdout) or output file from a subkernel as variable in SoS\n",
      "\n",
      "positional arguments:\n",
      "  {stdout,stderr,text,markdown,html,raw}\n",
      "                        Message type to capture, default to standard output.\n",
      "                        In terms of Jupyter message types, \"stdout\" refers to\n",
      "                        \"stream\" message with \"stdout\" type, \"stderr\" refers\n",
      "                        to \"stream\" message with \"stderr\" type, \"text\",\n",
      "                        \"markdown\" and \"html\" refers to \"display_data\" message\n",
      "                        with \"text/plain\", \"text/markdown\" and \"text/html\"\n",
      "                        type respectively. If \"raw\" is specified, all returned\n",
      "                        messages will be returned in a list format.\n",
      "\n",
      "optional arguments:\n",
      "  -h, --help            show this help message and exit\n",
      "  --as [{text,json,csv,tsv}]\n",
      "                        How to interpret the captured text. This only\n",
      "                        applicable to stdout, stderr and text message type\n",
      "                        where the text from cell output will be collected. If\n",
      "                        this option is given, SoS will try to parse the text\n",
      "                        as json, csv (comma separated text), tsv (tab\n",
      "                        separated text), and store text (from text), Pandas\n",
      "                        DataFrame (from csv or tsv), dict or other types (from\n",
      "                        json) to the variable.\n",
      "  -t VAR, --to VAR      Name of variable to which the captured content will be\n",
      "                        saved. If no varialbe is specified, the return value\n",
      "                        will be saved to variable \"__captured\" and be\n",
      "                        displayed at the side panel.\n",
      "  -a VAR, --append VAR  Name of variable to which the captured content will be\n",
      "                        appended. This option is equivalent to --to if VAR\n",
      "                        does not exist. If VAR exists and is of the same type\n",
      "                        of new content (str or dict or DataFrame), the new\n",
      "                        content will be appended to VAR if VAR is of str (str\n",
      "                        concatenation), dict (dict update), or DataFrame\n",
      "                        (DataFrame.append) types. If VAR is of list type, the\n",
      "                        new content will be appended to the end of the list.\n"
     ]
    }
   ],
   "source": [
    "%capture -h"
   ]
  },
  {
   "cell_type": "markdown",
   "metadata": {
    "kernel": "SoS"
   },
   "source": [
    "The magic can be applied to any kernel (including SoS) but it only captures output as standard output. For example, in the following R code, although both statements print something, only the `cat` function writes to standard output. The result of function `paste` is returned as the result of the cell and is displayed."
   ]
  },
  {
   "cell_type": "code",
   "execution_count": 2,
   "metadata": {
    "kernel": "R"
   },
   "outputs": [
    {
     "name": "stdout",
     "output_type": "stream",
     "text": [
      "this is to stdout"
     ]
    },
    {
     "data": {
      "text/html": [
       "'this is the return value'"
      ],
      "text/latex": [
       "'this is the return value'"
      ],
      "text/markdown": [
       "'this is the return value'"
      ],
      "text/plain": [
       "[1] \"this is the return value\""
      ]
     },
     "metadata": {},
     "output_type": "display_data"
    }
   ],
   "source": [
    "%capture --to R_out\n",
    "cat(\"this is to stdout\")\n",
    "paste(\"this is the return value\")"
   ]
  },
  {
   "cell_type": "code",
   "execution_count": 3,
   "metadata": {
    "kernel": "SoS"
   },
   "outputs": [
    {
     "data": {
      "text/plain": [
       "'this is to stdout'"
      ]
     },
     "execution_count": 3,
     "metadata": {},
     "output_type": "execute_result"
    }
   ],
   "source": [
    "R_out"
   ]
  },
  {
   "cell_type": "markdown",
   "metadata": {
    "kernel": "SoS"
   },
   "source": [
    "Now, if you would like to capture the output of `paste`, you will have to specify `text` to capture text output of the cell:"
   ]
  },
  {
   "cell_type": "code",
   "execution_count": 5,
   "metadata": {
    "kernel": "R"
   },
   "outputs": [
    {
     "data": {
      "text/html": [
       "'this is the return value'"
      ],
      "text/latex": [
       "'this is the return value'"
      ],
      "text/markdown": [
       "'this is the return value'"
      ],
      "text/plain": [
       "[1] \"this is the return value\""
      ]
     },
     "metadata": {},
     "output_type": "display_data"
    }
   ],
   "source": [
    "%capture text --to R_out\n",
    "paste(\"this is the return value\")"
   ]
  },
  {
   "cell_type": "code",
   "execution_count": 6,
   "metadata": {
    "kernel": "SoS"
   },
   "outputs": [
    {
     "data": {
      "text/plain": [
       "'[1] \"this is the return value\"'"
      ]
     },
     "execution_count": 6,
     "metadata": {},
     "output_type": "execute_result"
    }
   ],
   "source": [
    "R_out"
   ]
  },
  {
   "cell_type": "markdown",
   "metadata": {
    "kernel": "SoS"
   },
   "source": [
    "If you do not know what the cell outputs, you can use option `raw` to display every output messages and decide how to capture it. When no `--to` option is specified, the output will be written to `__captured` and be displayed in the side panel."
   ]
  },
  {
   "cell_type": "code",
   "execution_count": 8,
   "metadata": {
    "kernel": "R"
   },
   "outputs": [
    {
     "data": {
      "text/html": [
       "'this is the return value'"
      ],
      "text/latex": [
       "'this is the return value'"
      ],
      "text/markdown": [
       "'this is the return value'"
      ],
      "text/plain": [
       "[1] \"this is the return value\""
      ]
     },
     "metadata": {},
     "output_type": "display_data"
    }
   ],
   "source": [
    "%capture raw\n",
    "paste(\"this is the return value\")"
   ]
  },
  {
   "cell_type": "markdown",
   "metadata": {
    "kernel": "R"
   },
   "source": [
    "Option `--as` tries to convert the captured data in a more useful format. For example, if we are doing a sparql search, which outputs result in JSON format:"
   ]
  },
  {
   "cell_type": "markdown",
   "metadata": {
    "kernel": "SoS"
   },
   "source": [
    "The ability to parse tables as `Pandas` `DataFrame` is convenient but magic parse tables with `pandas.read_csv(sep)` with any additional parameter. If you need more flexibility in parsing the table (e.g. table without header), you will have to capture the output as text and parse it by yourself."
   ]
  },
  {
   "cell_type": "markdown",
   "metadata": {
    "kernel": "sos"
   },
   "source": [
    "### <a id=\"magic_cd\"></a>`%cd` \n",
    "\n",
    "Change the current working directory of the SoS kernel and all subkernels to `dir`."
   ]
  },
  {
   "cell_type": "markdown",
   "metadata": {
    "kernel": "SoS"
   },
   "source": [
    "### <a id=\"magic_clear\"></a>`%clear` "
   ]
  },
  {
   "cell_type": "markdown",
   "metadata": {
    "kernel": "SoS"
   },
   "source": [
    "Magic `clear` clears task lists or the output of cells in the following ways:\n",
    "\n",
    "1. If `%clear` is used in a regular cell, the output of the cell will be cleared after the cell is executed, effectively suppress any output of the cell. This is useful in suppressing long output of sos workflows or shell commands.\n",
    "\n",
    "2. If `%clear` is executed in the side panel, the output of currently selected cells in the main notebook will be cleared. This magic can then be used as a way to selectively clean up the main notebook without leaving the magic itself in the notebook.\n",
    "\n",
    "3. If `%clear -a` or `%clear --all` is executed, it would remove the output of all cells in the notebook, leaving a clean notebook without any output. This is usually used in removing all tests results and leaving only defined workflow steps in the notebook.\n",
    "\n",
    "4. If option `-s` (`--status`) is specified with a status (most frequently `completed`), all tasks with matching status will be removed. The aforementioned rules apply to the cells that will be affected."
   ]
  },
  {
   "cell_type": "markdown",
   "metadata": {
    "kernel": "SoS"
   },
   "source": [
    "For example, the output of the following cell is suppressed with the `%clear` magic:"
   ]
  },
  {
   "cell_type": "code",
   "execution_count": 3,
   "metadata": {
    "collapsed": true,
    "kernel": "SoS"
   },
   "outputs": [],
   "source": [
    "%clear\n",
    "python:\n",
    "  print('hello')"
   ]
  },
  {
   "cell_type": "markdown",
   "metadata": {
    "kernel": "SoS"
   },
   "source": [
    "###  <a id=\"magic_dict\"></a>`%dict` "
   ]
  },
  {
   "cell_type": "markdown",
   "metadata": {
    "kernel": "SoS"
   },
   "source": [
    "The `%dict` magic lists or rests the content of SoS dict, using syntax\n",
    "\n",
    "```\n",
    "%dict [-a|-all] [-k|--keys] [-r|--reset] [var1] [var2] ...\n",
    "```\n",
    "\n",
    "where\n",
    "\n",
    "* `var1`, `var2` etc are name of variables. All variables will be displayed if no variable is specified.\n",
    "* `-a|-all`: list all dictionary keys, including SoS functions and variables.\n",
    "* `-k|--keys`: list only keys, not their values\n",
    "* `-r|--reset`: reset the dictionary to its original content (with only SoS internal values)"
   ]
  },
  {
   "cell_type": "code",
   "execution_count": 4,
   "metadata": {
    "kernel": "SoS"
   },
   "outputs": [
    {
     "data": {
      "text/plain": [
       "set()"
      ]
     },
     "execution_count": 4,
     "metadata": {},
     "output_type": "execute_result"
    }
   ],
   "source": [
    "%dict --reset\n",
    "%dict --keys"
   ]
  },
  {
   "cell_type": "markdown",
   "metadata": {
    "kernel": "SoS"
   },
   "source": [
    "and reset the dictionary with the `--reset` option"
   ]
  },
  {
   "cell_type": "code",
   "execution_count": 5,
   "metadata": {
    "kernel": "SoS"
   },
   "outputs": [
    {
     "data": {
      "text/plain": [
       "set()"
      ]
     },
     "execution_count": 5,
     "metadata": {},
     "output_type": "execute_result"
    }
   ],
   "source": [
    "%dict --keys"
   ]
  },
  {
   "cell_type": "markdown",
   "metadata": {
    "kernel": "sos"
   },
   "source": [
    "For example, you can see all keys in the SoS dictionary using"
   ]
  },
  {
   "cell_type": "code",
   "execution_count": 6,
   "metadata": {
    "kernel": "SoS"
   },
   "outputs": [
    {
     "data": {
      "text/plain": [
       "set()"
      ]
     },
     "execution_count": 6,
     "metadata": {},
     "output_type": "execute_result"
    }
   ],
   "source": [
    "%dict --reset\n",
    "%dict --keys"
   ]
  },
  {
   "cell_type": "markdown",
   "metadata": {
    "kernel": "SoS"
   },
   "source": [
    "and reset the dictionary with the `--reset` option"
   ]
  },
  {
   "cell_type": "code",
   "execution_count": 7,
   "metadata": {
    "kernel": "SoS"
   },
   "outputs": [
    {
     "data": {
      "text/plain": [
       "set()"
      ]
     },
     "execution_count": 7,
     "metadata": {},
     "output_type": "execute_result"
    }
   ],
   "source": [
    "%dict --keys"
   ]
  },
  {
   "cell_type": "markdown",
   "metadata": {
    "kernel": "sos"
   },
   "source": [
    "### <a id=\"magic_expand\"></a>`%expand` "
   ]
  },
  {
   "cell_type": "markdown",
   "metadata": {
    "kernel": "SoS"
   },
   "source": [
    "Script in SoS cells are by default sent to SoS or the subkernels in verbatim. However, similar to the `expand` option of the SoS actions, you can interpolate scripts before they are executed by the kernels. Basically,\n",
    "\n",
    "1. By default, scripts are not interpolated.\n",
    "2. With `%expand` magic, scripts are treated as Python f-string and are interpolated with sigil `{ }`\n",
    "3. With `%expand ${ }` or other sigils, scripts are interpolated with specified sigil so that you can avoid using symbols that already used in the script.\n",
    "\n",
    "As you can imagine, string interpolation allows passing information from the SoS kernel to the subkernels. Although this method is less flexible and powerful than inter-kernel variable exchange using magics such as `%get`, it is sometimes easier to use and can be especially useful if you plan to include the script as a SoS action in a SoS workflow.\n",
    "\n",
    "For example,"
   ]
  },
  {
   "cell_type": "code",
   "execution_count": 8,
   "metadata": {
    "collapsed": true,
    "kernel": "SoS"
   },
   "outputs": [],
   "source": [
    "par = 100"
   ]
  },
  {
   "cell_type": "code",
   "execution_count": 9,
   "metadata": {
    "kernel": "R"
   },
   "outputs": [
    {
     "name": "stdout",
     "output_type": "stream",
     "text": [
      "A parameter 100 is specified."
     ]
    }
   ],
   "source": [
    "%expand\n",
    "cat(\"A parameter {par} is specified.\")"
   ]
  },
  {
   "cell_type": "markdown",
   "metadata": {
    "kernel": "SoS"
   },
   "source": [
    "If the script contains `{ }`, which is quite common in R, you can double the braces "
   ]
  },
  {
   "cell_type": "code",
   "execution_count": 10,
   "metadata": {
    "kernel": "R"
   },
   "outputs": [
    {
     "name": "stdout",
     "output_type": "stream",
     "text": [
      "A parameter 100 greater than 50 is specified."
     ]
    }
   ],
   "source": [
    "%expand\n",
    "if ({par} > 50) {{\n",
    "    cat(\"A parameter {par} greater than 50 is specified.\");\n",
    "}}"
   ]
  },
  {
   "cell_type": "markdown",
   "metadata": {
    "kernel": "SoS"
   },
   "source": [
    "If there are multiple braces, it is obviously better to use a different sigil, such as `${ }` to interpolate the script"
   ]
  },
  {
   "cell_type": "code",
   "execution_count": 11,
   "metadata": {
    "kernel": "R"
   },
   "outputs": [
    {
     "name": "stdout",
     "output_type": "stream",
     "text": [
      "A parameter 100 greater than 50 is specified."
     ]
    }
   ],
   "source": [
    "%expand ${ }\n",
    "if (${par} > 50) {\n",
    "    cat(\"A parameter ${par} greater than 50 is specified.\");\n",
    "}"
   ]
  },
  {
   "cell_type": "markdown",
   "metadata": {
    "kernel": "SoS"
   },
   "source": [
    "### <a id=\"magic_get\"></a>`%get` "
   ]
  },
  {
   "cell_type": "markdown",
   "metadata": {
    "kernel": "SoS"
   },
   "source": [
    "Magics `%get` retrieve variables from SoS or another subkernel to the current subkernel started by magic `%use`."
   ]
  },
  {
   "cell_type": "markdown",
   "metadata": {
    "kernel": "SoS"
   },
   "source": [
    "For example,"
   ]
  },
  {
   "cell_type": "code",
   "execution_count": 12,
   "metadata": {
    "collapsed": true,
    "kernel": "SoS",
    "workflow_cell": false
   },
   "outputs": [],
   "source": [
    "%use sos\n",
    "a = [1, 2, 3]\n",
    "b = [1, 2, \"3\"]\n",
    "c = True"
   ]
  },
  {
   "cell_type": "code",
   "execution_count": 13,
   "metadata": {
    "kernel": "R"
   },
   "outputs": [
    {
     "data": {
      "text/html": [
       "<ol class=list-inline>\n",
       "\t<li>1</li>\n",
       "\t<li>2</li>\n",
       "\t<li>3</li>\n",
       "</ol>\n"
      ],
      "text/latex": [
       "\\begin{enumerate*}\n",
       "\\item 1\n",
       "\\item 2\n",
       "\\item 3\n",
       "\\end{enumerate*}\n"
      ],
      "text/markdown": [
       "1. 1\n",
       "2. 2\n",
       "3. 3\n",
       "\n",
       "\n"
      ],
      "text/plain": [
       "[1] 1 2 3"
      ]
     },
     "metadata": {},
     "output_type": "display_data"
    }
   ],
   "source": [
    "%use R\n",
    "%get a b c\n",
    "a"
   ]
  },
  {
   "cell_type": "code",
   "execution_count": 14,
   "metadata": {
    "kernel": "R"
   },
   "outputs": [
    {
     "data": {
      "text/html": [
       "<ol>\n",
       "\t<li>1</li>\n",
       "\t<li>2</li>\n",
       "\t<li>'3'</li>\n",
       "</ol>\n"
      ],
      "text/latex": [
       "\\begin{enumerate}\n",
       "\\item 1\n",
       "\\item 2\n",
       "\\item '3'\n",
       "\\end{enumerate}\n"
      ],
      "text/markdown": [
       "1. 1\n",
       "2. 2\n",
       "3. '3'\n",
       "\n",
       "\n"
      ],
      "text/plain": [
       "[[1]]\n",
       "[1] 1\n",
       "\n",
       "[[2]]\n",
       "[1] 2\n",
       "\n",
       "[[3]]\n",
       "[1] \"3\"\n"
      ]
     },
     "metadata": {},
     "output_type": "display_data"
    }
   ],
   "source": [
    "b"
   ]
  },
  {
   "cell_type": "code",
   "execution_count": 15,
   "metadata": {
    "kernel": "R"
   },
   "outputs": [
    {
     "data": {
      "text/html": [
       "TRUE"
      ],
      "text/latex": [
       "TRUE"
      ],
      "text/markdown": [
       "TRUE"
      ],
      "text/plain": [
       "[1] TRUE"
      ]
     },
     "metadata": {},
     "output_type": "display_data"
    }
   ],
   "source": [
    "c"
   ]
  },
  {
   "cell_type": "markdown",
   "metadata": {
    "kernel": "SoS"
   },
   "source": [
    "The `%preview` magic cannot be used to preview variables in the subkernel so we have to list them one by one. As you can see, a Python list can be converted to `R` array or list depending on its content. "
   ]
  },
  {
   "cell_type": "markdown",
   "metadata": {
    "kernel": "SoS"
   },
   "source": [
    "Similar to the `%put` magic, SoS automatically translate variables with invalid Python names. For example"
   ]
  },
  {
   "cell_type": "code",
   "execution_count": 16,
   "metadata": {
    "collapsed": true,
    "kernel": "SoS",
    "workflow_cell": false
   },
   "outputs": [],
   "source": [
    "%use sos\n",
    "_var = 'Hi, Bob'"
   ]
  },
  {
   "cell_type": "code",
   "execution_count": 17,
   "metadata": {
    "kernel": "R"
   },
   "outputs": [
    {
     "name": "stderr",
     "output_type": "stream",
     "text": [
      "Variable _var is passed from SoS to kernel ir as .var\n"
     ]
    },
    {
     "data": {
      "text/html": [
       "'Hi, Bob'"
      ],
      "text/latex": [
       "'Hi, Bob'"
      ],
      "text/markdown": [
       "'Hi, Bob'"
      ],
      "text/plain": [
       "[1] \"Hi, Bob\""
      ]
     },
     "metadata": {},
     "output_type": "display_data"
    }
   ],
   "source": [
    "%use R\n",
    "%get _var\n",
    ".var"
   ]
  },
  {
   "cell_type": "code",
   "execution_count": 18,
   "metadata": {
    "collapsed": true,
    "kernel": "SoS",
    "output_cache": "[]"
   },
   "outputs": [],
   "source": [
    "%use sos"
   ]
  },
  {
   "cell_type": "markdown",
   "metadata": {
    "kernel": "SoS",
    "output_cache": "[]"
   },
   "source": [
    "Also similar to the `--to` option of magic `%put`, magic `%get` accept a parameter `--from` to get variables from SoS (default) any kernel. For example,"
   ]
  },
  {
   "cell_type": "code",
   "execution_count": 19,
   "metadata": {
    "collapsed": true,
    "kernel": "R",
    "output_cache": "[]"
   },
   "outputs": [],
   "source": [
    "R_var <- 'R variable'"
   ]
  },
  {
   "cell_type": "code",
   "execution_count": 20,
   "metadata": {
    "kernel": "Python3",
    "output_cache": "[{\"output_type\":\"execute_result\",\"data\":{\"text/plain\":\"'R variable'\"},\"metadata\":{},\"execution_count\":49}]"
   },
   "outputs": [
    {
     "data": {
      "text/plain": [
       "'R variable'"
      ]
     },
     "execution_count": 20,
     "metadata": {},
     "output_type": "execute_result"
    }
   ],
   "source": [
    "%get --from R R_var\n",
    "R_var"
   ]
  },
  {
   "cell_type": "markdown",
   "metadata": {
    "kernel": "SoS"
   },
   "source": [
    "Depending on how the language module is defined, such cross-subkernel variable exchange can be achived directly, or by way of SoS, so after the `%get --from R R_var` statement, the `R_var` variable might or might not exist in the SoS kernel."
   ]
  },
  {
   "cell_type": "markdown",
   "metadata": {
    "kernel": "SoS"
   },
   "source": [
    "### <a id=\"magic_matplotlib\"></a>`%matplotlib`\n",
    "\n",
    "Similar to ipython's `matplotlib` magic, the `%matplotlib inline` magic allows the display of matplotlib figures inline in Jupyter notebook or qtconsole."
   ]
  },
  {
   "cell_type": "code",
   "execution_count": 21,
   "metadata": {
    "collapsed": true,
    "kernel": "SoS"
   },
   "outputs": [],
   "source": [
    "%matplotlib inline"
   ]
  },
  {
   "cell_type": "code",
   "execution_count": 22,
   "metadata": {
    "kernel": "SoS",
    "scrolled": false,
    "workflow_cell": false
   },
   "outputs": [
    {
     "data": {
      "image/png": "[encoded data removed]",
      "text/plain": [
       "<matplotlib.figure.Figure at 0x180e601080>"
      ]
     },
     "metadata": {},
     "output_type": "display_data"
    }
   ],
   "source": [
    "import matplotlib.pyplot as plt\n",
    "import numpy as np\n",
    "x = np.linspace(0, 10)\n",
    "plt.plot(x, np.sin(x), '--', linewidth=2)\n",
    "plt.show()"
   ]
  },
  {
   "cell_type": "markdown",
   "metadata": {
    "kernel": "SoS"
   },
   "source": [
    "### <a id=\"magic_paste\"></a>`%paste` "
   ]
  },
  {
   "cell_type": "markdown",
   "metadata": {
    "kernel": "SoS"
   },
   "source": [
    "This magic pastes content of clipboard to the cell and execute the cell. It is similar but sometimes more convenient than pasting the content using system shortcuts such as `Cmd-V` (mac). The additional options allow you to execute the pasted workflow with these options (see magic `%run` for details)."
   ]
  },
  {
   "cell_type": "markdown",
   "metadata": {
    "kernel": "SoS"
   },
   "source": [
    "### <a id=\"magic_put\"></a>`%put` "
   ]
  },
  {
   "cell_type": "markdown",
   "metadata": {
    "kernel": "SoS"
   },
   "source": [
    "Magics `%put` are used to put variables from subkernel to SoS or another subkernel. "
   ]
  },
  {
   "cell_type": "markdown",
   "metadata": {
    "kernel": "SoS"
   },
   "source": [
    "For example"
   ]
  },
  {
   "cell_type": "code",
   "execution_count": 4,
   "metadata": {
    "kernel": "R"
   },
   "outputs": [],
   "source": [
    "%use R\n",
    "a = c(1)\n",
    "b = c(1, 2, 3)\n",
    "c = list(1, 2, 3)\n",
    "d = list(1, 2, \"3\")\n",
    "e = matrix(c(1,2,3,4), ncol=2)"
   ]
  },
  {
   "cell_type": "code",
   "execution_count": 9,
   "metadata": {
    "kernel": "R"
   },
   "outputs": [],
   "source": [
    "%put a b c d e"
   ]
  },
  {
   "cell_type": "code",
   "execution_count": 8,
   "metadata": {
    "kernel": "SoS"
   },
   "outputs": [
    {
     "data": {
      "text/html": [
       "<div class=\"sos_hint\">> a: int</div>"
      ],
      "text/plain": [
       ">>> a:\n"
      ]
     },
     "metadata": {},
     "output_type": "display_data"
    },
    {
     "data": {
      "text/plain": [
       "1"
      ]
     },
     "metadata": {},
     "output_type": "display_data"
    },
    {
     "data": {
      "text/html": [
       "<div class=\"sos_hint\">> b: list of length 3</div>"
      ],
      "text/plain": [
       ">>> b:\n"
      ]
     },
     "metadata": {},
     "output_type": "display_data"
    },
    {
     "data": {
      "text/plain": [
       "[1, 2, 3]"
      ]
     },
     "metadata": {},
     "output_type": "display_data"
    },
    {
     "data": {
      "text/html": [
       "<div class=\"sos_hint\">> c: list of length 3</div>"
      ],
      "text/plain": [
       ">>> c:\n"
      ]
     },
     "metadata": {},
     "output_type": "display_data"
    },
    {
     "data": {
      "text/plain": [
       "[1, 2, 3]"
      ]
     },
     "metadata": {},
     "output_type": "display_data"
    },
    {
     "data": {
      "text/html": [
       "<div class=\"sos_hint\">> d: list of length 3</div>"
      ],
      "text/plain": [
       ">>> d:\n"
      ]
     },
     "metadata": {},
     "output_type": "display_data"
    },
    {
     "data": {
      "text/plain": [
       "[1, 2, '3']"
      ]
     },
     "metadata": {},
     "output_type": "display_data"
    },
    {
     "data": {
      "text/html": [
       "<div class=\"sos_hint\">> e: ndarray of shape (2, 2)</div>"
      ],
      "text/plain": [
       ">>> e:\n"
      ]
     },
     "metadata": {},
     "output_type": "display_data"
    },
    {
     "data": {
      "text/plain": [
       "array([[ 1.,  3.],\n",
       "       [ 2.,  4.]])"
      ]
     },
     "metadata": {},
     "output_type": "display_data"
    }
   ],
   "source": [
    "%preview -n a b c d e"
   ]
  },
  {
   "cell_type": "markdown",
   "metadata": {
    "kernel": "SoS"
   },
   "source": [
    "As you can see, although `a` is technically an array with length 1 in `R`, it is convertered to an integer in SoS. Variables `b` and `c` are converted to the same type (`list`) although they are of different types in `R`. Variable `e` are converted from `R` matrix to `numpy` array. "
   ]
  },
  {
   "cell_type": "markdown",
   "metadata": {
    "kernel": "SoS"
   },
   "source": [
    "Sometimes a valid variable name in a subkernel is not a valid name in SoS/Python. SoS would automatically convert such names with a warning message. For example,"
   ]
  },
  {
   "cell_type": "code",
   "execution_count": 25,
   "metadata": {
    "collapsed": true,
    "kernel": "R"
   },
   "outputs": [],
   "source": [
    ".a.b = 5"
   ]
  },
  {
   "cell_type": "code",
   "execution_count": 26,
   "metadata": {
    "kernel": "R",
    "output_cache": "[{\"name\":\"stderr\",\"output_type\":\"stream\",\"text\":\"Variable .a.b is put to SoS as _a_b\\n\"},{\"data\":{\"text/html\":\"<pre><font color=\\\"green\\\">%preview _a_b</font></pre>\"},\"output_type\":\"display_data\",\"metadata\":{}},{\"data\":{\"text/plain\":\">>> _a_b:\\n\",\"text/html\":\"<pre><font color=\\\"green\\\">> _a_b:</font> int</pre>\"},\"output_type\":\"display_data\",\"metadata\":{}},{\"data\":{\"text/plain\":\"5\"},\"output_type\":\"display_data\",\"metadata\":{}}]"
   },
   "outputs": [
    {
     "name": "stderr",
     "output_type": "stream",
     "text": [
      "Variable .a.b is put to SoS as _a_b\n"
     ]
    }
   ],
   "source": [
    "%put .a.b\n",
    "%preview _a_b --kernel sos"
   ]
  },
  {
   "cell_type": "markdown",
   "metadata": {
    "kernel": "SoS",
    "output_cache": "[]"
   },
   "source": [
    "In addition to putting variables from subkernel to SoS, you can also put variables from SoS to subkernel, or from any subkernel to another, using parameter `--to`. For example,"
   ]
  },
  {
   "cell_type": "code",
   "execution_count": 27,
   "metadata": {
    "collapsed": true,
    "kernel": "R",
    "output_cache": "[]"
   },
   "outputs": [],
   "source": [
    "R_var <- 'R variable'"
   ]
  },
  {
   "cell_type": "code",
   "execution_count": 28,
   "metadata": {
    "collapsed": true,
    "kernel": "R",
    "output_cache": "[]"
   },
   "outputs": [],
   "source": [
    "%put --to Python3 R_var"
   ]
  },
  {
   "cell_type": "code",
   "execution_count": 29,
   "metadata": {
    "kernel": "Python3",
    "output_cache": "[]"
   },
   "outputs": [
    {
     "data": {
      "text/plain": [
       "'R variable'"
      ]
     },
     "execution_count": 29,
     "metadata": {},
     "output_type": "execute_result"
    }
   ],
   "source": [
    "R_var"
   ]
  },
  {
   "cell_type": "markdown",
   "metadata": {
    "kernel": "SoS"
   },
   "source": [
    "Depending on the language module, such cross-subkernel variable exchange can be performed directly, or by way of SoS. The former is generally faster and, in case of data exchange between instances of the same language, can usually be done witout loss of information."
   ]
  },
  {
   "cell_type": "markdown",
   "metadata": {
    "kernel": "SoS"
   },
   "source": [
    "###  <a id=\"magic_preview\"></a>`%preview`"
   ]
  },
  {
   "cell_type": "markdown",
   "metadata": {
    "kernel": "SoS"
   },
   "source": [
    "The `%preview` magic has been discussed above. Here is a complete list of options:"
   ]
  },
  {
   "cell_type": "code",
   "execution_count": 30,
   "metadata": {
    "kernel": "SoS"
   },
   "outputs": [
    {
     "name": "stdout",
     "output_type": "stream",
     "text": [
      "usage: %preview [-h] [-k KERNEL] [-w] [-o] [-s {table,scatterplot,png}]\n",
      "                [-r [HOST]] [--off] [-p | -n] [-c CONFIG]\n",
      "                [items [items ...]]\n",
      "\n",
      "Preview files, sos variables, or expressions in the side panel, or notebook if\n",
      "side panel is not opened, unless options --panel or --notebook is specified.\n",
      "\n",
      "positional arguments:\n",
      "  items                 Filename, variable name, or expression. Wildcard\n",
      "                        characters such as '*' and '?' are allowed for\n",
      "                        filenames.\n",
      "\n",
      "optional arguments:\n",
      "  -h, --help            show this help message and exit\n",
      "  -k KERNEL, --kernel KERNEL\n",
      "                        kernel in which variables will be previewed. By\n",
      "                        default the variable will be previewed in the current\n",
      "                        kernel of the cell.\n",
      "  -w, --workflow        Preview notebook workflow\n",
      "  -o, --keep-output     Do not clear the output of the side panel.\n",
      "  -s {table,scatterplot,png}, --style {table,scatterplot,png}\n",
      "                        Option for preview file or variable, which by default\n",
      "                        is \"table\" for Pandas DataFrame. The %preview magic\n",
      "                        also accepts arbitrary additional keyword arguments,\n",
      "                        which would be interpreted by individual style.\n",
      "                        Passing '-h' with '--style' would display the usage\n",
      "                        information of particular style.\n",
      "  -r [HOST], --host [HOST]\n",
      "                        Preview files on specified remote host, which should\n",
      "                        be defined under key host of sos configuration files\n",
      "                        (preferrably in ~/.sos/hosts.yml). If this option is\n",
      "                        specified without value, SoS will list all configured\n",
      "                        queues and stop.\n",
      "  --off                 Turn off file preview\n",
      "  -p, --panel           Preview in side panel even if the panel is currently\n",
      "                        closed\n",
      "  -n, --notebook        Preview in the main notebook.\n",
      "  -c CONFIG, --config CONFIG\n",
      "                        A configuration file with host definitions, in case\n",
      "                        the definitions are not defined in global or local sos\n",
      "                        config.yml files.\n"
     ]
    }
   ],
   "source": [
    "%preview -h"
   ]
  },
  {
   "cell_type": "markdown",
   "metadata": {
    "kernel": "SoS"
   },
   "source": [
    "### <a id=\"magic_render\"></a>`%render` "
   ]
  },
  {
   "cell_type": "markdown",
   "metadata": {
    "kernel": "SoS"
   },
   "source": [
    "The `%render` magic converts the output of a cell to certain format before displaying it in the notebook. The format can be any format supported by the [`IPython.display` module](https://ipython.org/ipython-doc/3/api/generated/IPython.display.html) and is default to `Markdown`. For example, the following code displays all supported options of `%render` by checking the subclasses of `IPython.display`. The cell returns a string in markdown format and is rendered in `Markdown`."
   ]
  },
  {
   "cell_type": "code",
   "execution_count": 1,
   "metadata": {
    "kernel": "SoS"
   },
   "outputs": [
    {
     "data": {
      "text/markdown": [
       "\n",
       "Options of magic %render\n",
       "\n",
       "* DisplayObject\n",
       "* TextDisplayObject\n",
       "* Pretty\n",
       "* HTML\n",
       "* Markdown\n",
       "* Math\n",
       "* Latex\n",
       "* SVG\n",
       "* ProgressBar\n",
       "* JSON\n",
       "* GeoJSON\n",
       "* Javascript\n",
       "* Image\n",
       "* Video\n",
       "* Audio\n",
       "* Code\n"
      ],
      "text/plain": [
       "<IPython.core.display.Markdown object>"
      ]
     },
     "execution_count": 1,
     "metadata": {},
     "output_type": "execute_result"
    }
   ],
   "source": [
    "%render\n",
    "import IPython.display\n",
    "import inspect\n",
    "\n",
    "res = '''\n",
    "Options of magic %render\n",
    "\n",
    "'''\n",
    "\n",
    "for key in IPython.display.__dict__.keys():\n",
    "    cls = getattr(IPython.display, key)\n",
    "    if inspect.isclass(cls) and issubclass(cls, IPython.display.DisplayObject):\n",
    "        res += '* {}\\n'.format(key)\n",
    "\n",
    "# this is the output of this cell and will be rendered in Markdown format\n",
    "res"
   ]
  },
  {
   "cell_type": "markdown",
   "metadata": {
    "kernel": "SoS"
   },
   "source": [
    "Similarly, you can use magic `%render` to render output in other formats:"
   ]
  },
  {
   "cell_type": "code",
   "execution_count": 2,
   "metadata": {
    "kernel": "SoS"
   },
   "outputs": [
    {
     "data": {
      "text/html": [
       "\n",
       "This is a table in HTML format <br>\n",
       "<table style=\"width:100%\">\n",
       "  <tr>\n",
       "    <th>Firstname</th>\n",
       "    <th>Lastname</th> \n",
       "    <th>Age</th>\n",
       "  </tr>\n",
       "  <tr>\n",
       "    <td>Jill</td>\n",
       "    <td>Smith</td> \n",
       "    <td>50</td>\n",
       "  </tr>\n",
       "  <tr>\n",
       "    <td>Eve</td>\n",
       "    <td>Jackson</td> \n",
       "    <td>94</td>\n",
       "  </tr>\n",
       "</table>\n"
      ],
      "text/plain": [
       "<IPython.core.display.HTML object>"
      ]
     },
     "execution_count": 2,
     "metadata": {},
     "output_type": "execute_result"
    }
   ],
   "source": [
    "%render --as HTML\n",
    "'''\n",
    "This is a table in HTML format <br>\n",
    "<table style=\"width:100%\">\n",
    "  <tr>\n",
    "    <th>Firstname</th>\n",
    "    <th>Lastname</th> \n",
    "    <th>Age</th>\n",
    "  </tr>\n",
    "  <tr>\n",
    "    <td>Jill</td>\n",
    "    <td>Smith</td> \n",
    "    <td>50</td>\n",
    "  </tr>\n",
    "  <tr>\n",
    "    <td>Eve</td>\n",
    "    <td>Jackson</td> \n",
    "    <td>94</td>\n",
    "  </tr>\n",
    "</table>\n",
    "'''"
   ]
  },
  {
   "cell_type": "markdown",
   "metadata": {
    "kernel": "SoS"
   },
   "source": [
    "The `%render` magic captures not only the return value of SoS cell, but also standard output of SoS and other cells. For example, a subprocess of the following cell (a Python script) prints the content of a SVG file to standard output, which is captured and displayed by magic `%render`."
   ]
  },
  {
   "cell_type": "code",
   "execution_count": 3,
   "metadata": {
    "kernel": "SoS",
    "scrolled": false
   },
   "outputs": [
    {
     "name": "stdout",
     "output_type": "stream",
     "text": [
      "\n",
      " <svg height=\"140\" width=\"140\">\n",
      "  <defs>\n",
      "    <filter id=\"f1\" x=\"0\" y=\"0\" width=\"200%\" height=\"200%\">\n",
      "      <feOffset result=\"offOut\" in=\"SourceAlpha\" dx=\"20\" dy=\"20\" />\n",
      "      <feGaussianBlur result=\"blurOut\" in=\"offOut\" stdDeviation=\"10\" />\n",
      "      <feBlend in=\"SourceGraphic\" in2=\"blurOut\" mode=\"normal\" />\n",
      "    </filter>\n",
      "  </defs>\n",
      "  <rect width=\"90\" height=\"90\" stroke=\"green\" stroke-width=\"3\" fill=\"yellow\" filter=\"url(#f1)\" />\n",
      "  Sorry, your browser does not support inline SVG.\n",
      " </svg>\n",
      "\n"
     ]
    },
    {
     "data": {
      "image/svg+xml": [
       "<svg height=\"140\" width=\"140\">\n",
       "  <defs>\n",
       "    <filter height=\"200%\" id=\"f1\" width=\"200%\" x=\"0\" y=\"0\">\n",
       "      <feOffset dx=\"20\" dy=\"20\" in=\"SourceAlpha\" result=\"offOut\"/>\n",
       "      <feGaussianBlur in=\"offOut\" result=\"blurOut\" stdDeviation=\"10\"/>\n",
       "      <feBlend in=\"SourceGraphic\" in2=\"blurOut\" mode=\"normal\"/>\n",
       "    </filter>\n",
       "  </defs>\n",
       "  <rect fill=\"yellow\" filter=\"url(#f1)\" height=\"90\" stroke=\"green\" stroke-width=\"3\" width=\"90\"/>\n",
       "  Sorry, your browser does not support inline SVG.\n",
       " </svg>"
      ],
      "text/plain": [
       "<IPython.core.display.SVG object>"
      ]
     },
     "metadata": {},
     "output_type": "display_data"
    }
   ],
   "source": [
    "%render --as SVG\n",
    "python:\n",
    "print(r'''\n",
    " <svg height=\"140\" width=\"140\">\n",
    "  <defs>\n",
    "    <filter id=\"f1\" x=\"0\" y=\"0\" width=\"200%\" height=\"200%\">\n",
    "      <feOffset result=\"offOut\" in=\"SourceAlpha\" dx=\"20\" dy=\"20\" />\n",
    "      <feGaussianBlur result=\"blurOut\" in=\"offOut\" stdDeviation=\"10\" />\n",
    "      <feBlend in=\"SourceGraphic\" in2=\"blurOut\" mode=\"normal\" />\n",
    "    </filter>\n",
    "  </defs>\n",
    "  <rect width=\"90\" height=\"90\" stroke=\"green\" stroke-width=\"3\" fill=\"yellow\" filter=\"url(#f1)\" />\n",
    "  Sorry, your browser does not support inline SVG.\n",
    " </svg>\n",
    "''')"
   ]
  },
  {
   "cell_type": "markdown",
   "metadata": {
    "kernel": "SoS"
   },
   "source": [
    "The `%render` magic also works for other kernels although it can be tricky to determine what is printed to standard output. For kernel R, the function to print to standard output is `cat` so you can use `cat` to print something to the standard output for `%render` to process. For example,"
   ]
  },
  {
   "cell_type": "code",
   "execution_count": 4,
   "metadata": {
    "kernel": "R"
   },
   "outputs": [
    {
     "name": "stdout",
     "output_type": "stream",
     "text": [
      "5 random numbers* -1.50442651757407\n",
      "* -0.977242498620981\n",
      "* 0.534575832846015\n",
      "* -0.390538801124654\n",
      "* 0.107239275008704"
     ]
    },
    {
     "data": {
      "text/markdown": [
       "5 random numbers* -1.50442651757407\n",
       "* -0.977242498620981\n",
       "* 0.534575832846015\n",
       "* -0.390538801124654\n",
       "* 0.107239275008704"
      ],
      "text/plain": [
       "<IPython.core.display.Markdown object>"
      ]
     },
     "metadata": {},
     "output_type": "display_data"
    }
   ],
   "source": [
    "%render\n",
    "a <- rnorm(5)\n",
    "cat(paste(length(a), \"random numbers\"))\n",
    "cat(paste('*', a, collapse='\\n'))"
   ]
  },
  {
   "cell_type": "markdown",
   "metadata": {
    "kernel": "R"
   },
   "source": [
    "Finally, it worth noting that `%render` captures `stdout` by default but it can also capture and render text from `text/html` from `display_data` messages. This requires a parameter `text` after `%render`. Please check the details about this capture mechanism from magic `%capture`."
   ]
  },
  {
   "cell_type": "markdown",
   "metadata": {
    "kernel": "SoS"
   },
   "source": [
    "### <a id=\"magic_rerun\"></a>`%rerun` "
   ]
  },
  {
   "cell_type": "markdown",
   "metadata": {
    "kernel": "SoS"
   },
   "source": [
    "The `%rerun` magic re-executed the last script, which is basically content of the last cell without the magics. This allows you to re-run the last cell with or without a new set of parameters. Note that cells without a script (e.g. a cell with only magics) does not change the last executed script."
   ]
  },
  {
   "cell_type": "code",
   "execution_count": 35,
   "metadata": {
    "kernel": "SoS",
    "workflow_cell": false
   },
   "outputs": [
    {
     "name": "stdout",
     "output_type": "stream",
     "text": [
      "a is set to f10\n"
     ]
    }
   ],
   "source": [
    "%run\n",
    "parameter: a = 10\n",
    "[10]\n",
    "print(f\"a is set to f{a}\")"
   ]
  },
  {
   "cell_type": "code",
   "execution_count": 36,
   "metadata": {
    "kernel": "SoS",
    "scrolled": true
   },
   "outputs": [
    {
     "name": "stdout",
     "output_type": "stream",
     "text": [
      "a is set to f20\n"
     ]
    }
   ],
   "source": [
    "%rerun --a 20"
   ]
  },
  {
   "cell_type": "markdown",
   "metadata": {
    "kernel": "SoS"
   },
   "source": [
    "### <a id=\"magic_revisions\"></a>`%revisions` "
   ]
  },
  {
   "cell_type": "markdown",
   "metadata": {
    "kernel": "SoS"
   },
   "source": [
    "The `%revisions` magic displays revisions of the current document if the document is managed by git.\n",
    "\n",
    "This magic accepts a few options:"
   ]
  },
  {
   "cell_type": "code",
   "execution_count": 1,
   "metadata": {
    "kernel": "SoS"
   },
   "outputs": [
    {
     "name": "stdout",
     "output_type": "stream",
     "text": [
      "usage: %revision [-h] [-s [SOURCE]] [-l LINKS [LINKS ...]]\n",
      "\n",
      "Revision history of the document, parsed from the log message of the notebook\n",
      "if it is kept in a git repository. Additional parameters to \"git log\" command\n",
      "(e.g. -n 5 --since --after) could be specified to limit the revisions to\n",
      "display.\n",
      "\n",
      "optional arguments:\n",
      "  -h, --help            show this help message and exit\n",
      "  -s [SOURCE], --source [SOURCE]\n",
      "                        Source URL to to create links for revisions. SoS\n",
      "                        automatically parse source URL of the origin and\n",
      "                        provides variables \"repo\" for complete origin URL\n",
      "                        without trailing \".git\" (e.g.\n",
      "                        https://github.com/vatlab/sos-notebook), \"path\" for\n",
      "                        complete path name (e.g. src/document/doc.ipynb),\n",
      "                        \"filename\" for only the name of the \"path\", and\n",
      "                        \"revision\" for revisions. Because sos interpolates\n",
      "                        command line by default, variables in URL template\n",
      "                        should be included with double braceses (e.g. --source\n",
      "                        {{repo}}/blob/{{revision}}/{{path}})). If this option\n",
      "                        is provided without value and the document is hosted\n",
      "                        on github, a default template will be provided.\n",
      "  -l LINKS [LINKS ...], --links LINKS [LINKS ...]\n",
      "                        Name and URL or additional links for related files\n",
      "                        (e.g. --links report URL_to_repo ) with URL\n",
      "                        interpolated as option --source.\n"
     ]
    }
   ],
   "source": [
    "%revisions -h"
   ]
  },
  {
   "cell_type": "markdown",
   "metadata": {
    "kernel": "SoS"
   },
   "source": [
    "First, any options that are acceptable to [command `git log`](https://git-scm.com/docs/git-log) can be passed to this magic. The most useful ones are options to limit the commits to display such as `-n` (number of commits to output), `--since=<date>` and `--after=<date>`. For example, you can display five most recent commits with command"
   ]
  },
  {
   "cell_type": "code",
   "execution_count": 2,
   "metadata": {
    "kernel": "SoS"
   },
   "outputs": [
    {
     "data": {
      "text/html": [
       "\n",
       "        <table class=\"revision_table\">\n",
       "        <tr>\n",
       "        <th>Revision</th>\n",
       "        <th>Author</th>\n",
       "        <th>Date</th>\n",
       "        <th>Message</th>\n",
       "        <tr>\n",
       "        <tr><td><span class=\"revision_id\">214c618<span></td>\n",
       "<td>Bo Peng</td>\n",
       "<td>2018-05-20</td>\n",
       "<td>Fix url to HTML</td></tr><tr><td><span class=\"revision_id\">e28e7c0<span></td>\n",
       "<td>Bo Peng</td>\n",
       "<td>2018-05-20</td>\n",
       "<td>Update doc for %revisions</td></tr><tr><td><span class=\"revision_id\">c3d148b<span></td>\n",
       "<td>Bo Peng</td>\n",
       "<td>2018-05-18</td>\n",
       "<td>Shorten %revisions magic in doc</td></tr><tr><td><span class=\"revision_id\">6784599<span></td>\n",
       "<td>Bo Peng</td>\n",
       "<td>2018-05-18</td>\n",
       "<td>Update doc with the new %revisions magic vatlab/sos-notebook#74</td></tr><tr><td><span class=\"revision_id\">bf35ae9<span></td>\n",
       "<td>Bo Peng</td>\n",
       "<td>2018-05-08</td>\n",
       "<td>Update docs on magic %cd</td></tr></table>"
      ]
     },
     "metadata": {},
     "output_type": "display_data"
    }
   ],
   "source": [
    "%revisions -n 5"
   ]
  },
  {
   "cell_type": "markdown",
   "metadata": {
    "kernel": "SoS"
   },
   "source": [
    "Another useful option is the `--source` option that allows you to link the revision to specific URL (e.g. github). This option should be specified as a string with `repo`, `revision`, `path`, and `filename` interpolated as URL to the repository, revision id, and path and name of the document respectively. Here `repo` is retrieved from the output of command `git ls-remote --get-url origin` without trailing `.git` (if available). Because SoS Notebook interpolates magics automatically, you should include variables in double braces.\n",
    "\n",
    "For example, the github URL of a particular revision of this document is `https://github.com/REPO/blob/REVISION/PATH/TO/FILENAME` so the command to link this document to its source on github would be:"
   ]
  },
  {
   "cell_type": "code",
   "execution_count": 3,
   "metadata": {
    "kernel": "SoS"
   },
   "outputs": [
    {
     "data": {
      "text/html": [
       "<div class=\"sos_hint\">> %revisions -n 5 --source '{repo}/blob/{revision}/{path}'<br></div>"
      ]
     },
     "metadata": {},
     "output_type": "display_data"
    },
    {
     "data": {
      "text/html": [
       "\n",
       "        <table class=\"revision_table\">\n",
       "        <tr>\n",
       "        <th>Revision</th>\n",
       "        <th>Author</th>\n",
       "        <th>Date</th>\n",
       "        <th>Message</th>\n",
       "        <tr>\n",
       "        <tr><td><a target=\"_blank\" href=\"https://github.com/vatlab/sos-docs/blob/214c618beef2d087f2c196f862644dfbc4ec158e/src/documentation/SoS_Magics.ipynb\"><span class=\"revision_id\">214c618<span></a></td>\n",
       "<td>Bo Peng</td>\n",
       "<td>2018-05-20</td>\n",
       "<td>Fix url to HTML</td></tr><tr><td><a target=\"_blank\" href=\"https://github.com/vatlab/sos-docs/blob/e28e7c0e458e840fc16018ad722a2e1ce0345218/src/documentation/SoS_Magics.ipynb\"><span class=\"revision_id\">e28e7c0<span></a></td>\n",
       "<td>Bo Peng</td>\n",
       "<td>2018-05-20</td>\n",
       "<td>Update doc for %revisions</td></tr><tr><td><a target=\"_blank\" href=\"https://github.com/vatlab/sos-docs/blob/c3d148bb948391366820842ec23a6ca092f307a1/src/documentation/SoS_Magics.ipynb\"><span class=\"revision_id\">c3d148b<span></a></td>\n",
       "<td>Bo Peng</td>\n",
       "<td>2018-05-18</td>\n",
       "<td>Shorten %revisions magic in doc</td></tr><tr><td><a target=\"_blank\" href=\"https://github.com/vatlab/sos-docs/blob/6784599ccef31fc4b68bbbadb8aeb97a292456b3/src/documentation/SoS_Magics.ipynb\"><span class=\"revision_id\">6784599<span></a></td>\n",
       "<td>Bo Peng</td>\n",
       "<td>2018-05-18</td>\n",
       "<td>Update doc with the new %revisions magic vatlab/sos-notebook#74</td></tr><tr><td><a target=\"_blank\" href=\"https://github.com/vatlab/sos-docs/blob/bf35ae9cb26791800a82c183a5553ec511a44374/src/documentation/SoS_Magics.ipynb\"><span class=\"revision_id\">bf35ae9<span></a></td>\n",
       "<td>Bo Peng</td>\n",
       "<td>2018-05-08</td>\n",
       "<td>Update docs on magic %cd</td></tr></table>"
      ]
     },
     "metadata": {},
     "output_type": "display_data"
    }
   ],
   "source": [
    "%revisions -n 5 --source '{{repo}}/blob/{{revision}}/{{path}}'"
   ]
  },
  {
   "cell_type": "markdown",
   "metadata": {
    "kernel": "SoS"
   },
   "source": [
    "Because `github` is the most widely used git repository, we provide the aforementioned template by default if you specify option `--source` without value. That is to say, if your document is hosted in `github.com`, you can simply use\n",
    "\n",
    "```\n",
    "%revisions --source\n",
    "```\n",
    "to link revisions to github."
   ]
  },
  {
   "cell_type": "markdown",
   "metadata": {
    "kernel": "SoS"
   },
   "source": [
    "The links do not have to point to the source of the document. For example, because we always convert this document to HTML in another directory and display it on our homepage, we can link the revisions to the HTML version as follows:"
   ]
  },
  {
   "cell_type": "code",
   "execution_count": 4,
   "metadata": {
    "kernel": "SoS"
   },
   "outputs": [
    {
     "data": {
      "text/html": [
       "<div class=\"sos_hint\">> %revisions -n 5   --source '{repo}/blob/{revision}/doc/documentation/{filename[:-6]}.html'<br></div>"
      ]
     },
     "metadata": {},
     "output_type": "display_data"
    },
    {
     "data": {
      "text/html": [
       "\n",
       "        <table class=\"revision_table\">\n",
       "        <tr>\n",
       "        <th>Revision</th>\n",
       "        <th>Author</th>\n",
       "        <th>Date</th>\n",
       "        <th>Message</th>\n",
       "        <tr>\n",
       "        <tr><td><a target=\"_blank\" href=\"https://github.com/vatlab/sos-docs/blob/214c618beef2d087f2c196f862644dfbc4ec158e/doc/documentation/SoS_Magics.html\"><span class=\"revision_id\">214c618<span></a></td>\n",
       "<td>Bo Peng</td>\n",
       "<td>2018-05-20</td>\n",
       "<td>Fix url to HTML</td></tr><tr><td><a target=\"_blank\" href=\"https://github.com/vatlab/sos-docs/blob/e28e7c0e458e840fc16018ad722a2e1ce0345218/doc/documentation/SoS_Magics.html\"><span class=\"revision_id\">e28e7c0<span></a></td>\n",
       "<td>Bo Peng</td>\n",
       "<td>2018-05-20</td>\n",
       "<td>Update doc for %revisions</td></tr><tr><td><a target=\"_blank\" href=\"https://github.com/vatlab/sos-docs/blob/c3d148bb948391366820842ec23a6ca092f307a1/doc/documentation/SoS_Magics.html\"><span class=\"revision_id\">c3d148b<span></a></td>\n",
       "<td>Bo Peng</td>\n",
       "<td>2018-05-18</td>\n",
       "<td>Shorten %revisions magic in doc</td></tr><tr><td><a target=\"_blank\" href=\"https://github.com/vatlab/sos-docs/blob/6784599ccef31fc4b68bbbadb8aeb97a292456b3/doc/documentation/SoS_Magics.html\"><span class=\"revision_id\">6784599<span></a></td>\n",
       "<td>Bo Peng</td>\n",
       "<td>2018-05-18</td>\n",
       "<td>Update doc with the new %revisions magic vatlab/sos-notebook#74</td></tr><tr><td><a target=\"_blank\" href=\"https://github.com/vatlab/sos-docs/blob/bf35ae9cb26791800a82c183a5553ec511a44374/doc/documentation/SoS_Magics.html\"><span class=\"revision_id\">bf35ae9<span></a></td>\n",
       "<td>Bo Peng</td>\n",
       "<td>2018-05-08</td>\n",
       "<td>Update docs on magic %cd</td></tr></table>"
      ]
     },
     "metadata": {},
     "output_type": "display_data"
    }
   ],
   "source": [
    "%revisions -n 5 \\\n",
    "  --source '{{repo}}/blob/{{revision}}/doc/documentation/{{filename[:-6]}}.html'"
   ]
  },
  {
   "cell_type": "markdown",
   "metadata": {
    "kernel": "SoS"
   },
   "source": [
    "And if you would like to display one or more links next to the revision number, you can do so with the `--links` option:"
   ]
  },
  {
   "cell_type": "code",
   "execution_count": 5,
   "metadata": {
    "kernel": "SoS"
   },
   "outputs": [
    {
     "data": {
      "text/html": [
       "<div class=\"sos_hint\">> %revisions -n 5 --source    --links HTML '{repo}/blob/{revision}/doc/documentation/{filename[:-6]}.html'<br></div>"
      ]
     },
     "metadata": {},
     "output_type": "display_data"
    },
    {
     "data": {
      "text/html": [
       "\n",
       "        <table class=\"revision_table\">\n",
       "        <tr>\n",
       "        <th>Revision</th>\n",
       "        <th>Author</th>\n",
       "        <th>Date</th>\n",
       "        <th>Message</th>\n",
       "        <tr>\n",
       "        <tr><td><a target=\"_blank\" href=\"https://github.com/vatlab/sos-docs/blob/214c618beef2d087f2c196f862644dfbc4ec158e/src/documentation/SoS_Magics.ipynb\"><span class=\"revision_id\">214c618<span></a> (<a target=\"_blank\" href=\"https://github.com/vatlab/sos-docs/blob/214c618beef2d087f2c196f862644dfbc4ec158e/doc/documentation/SoS_Magics.html\">HTML</a>)</td>\n",
       "<td>Bo Peng</td>\n",
       "<td>2018-05-20</td>\n",
       "<td>Fix url to HTML</td></tr><tr><td><a target=\"_blank\" href=\"https://github.com/vatlab/sos-docs/blob/e28e7c0e458e840fc16018ad722a2e1ce0345218/src/documentation/SoS_Magics.ipynb\"><span class=\"revision_id\">e28e7c0<span></a> (<a target=\"_blank\" href=\"https://github.com/vatlab/sos-docs/blob/e28e7c0e458e840fc16018ad722a2e1ce0345218/doc/documentation/SoS_Magics.html\">HTML</a>)</td>\n",
       "<td>Bo Peng</td>\n",
       "<td>2018-05-20</td>\n",
       "<td>Update doc for %revisions</td></tr><tr><td><a target=\"_blank\" href=\"https://github.com/vatlab/sos-docs/blob/c3d148bb948391366820842ec23a6ca092f307a1/src/documentation/SoS_Magics.ipynb\"><span class=\"revision_id\">c3d148b<span></a> (<a target=\"_blank\" href=\"https://github.com/vatlab/sos-docs/blob/c3d148bb948391366820842ec23a6ca092f307a1/doc/documentation/SoS_Magics.html\">HTML</a>)</td>\n",
       "<td>Bo Peng</td>\n",
       "<td>2018-05-18</td>\n",
       "<td>Shorten %revisions magic in doc</td></tr><tr><td><a target=\"_blank\" href=\"https://github.com/vatlab/sos-docs/blob/6784599ccef31fc4b68bbbadb8aeb97a292456b3/src/documentation/SoS_Magics.ipynb\"><span class=\"revision_id\">6784599<span></a> (<a target=\"_blank\" href=\"https://github.com/vatlab/sos-docs/blob/6784599ccef31fc4b68bbbadb8aeb97a292456b3/doc/documentation/SoS_Magics.html\">HTML</a>)</td>\n",
       "<td>Bo Peng</td>\n",
       "<td>2018-05-18</td>\n",
       "<td>Update doc with the new %revisions magic vatlab/sos-notebook#74</td></tr><tr><td><a target=\"_blank\" href=\"https://github.com/vatlab/sos-docs/blob/bf35ae9cb26791800a82c183a5553ec511a44374/src/documentation/SoS_Magics.ipynb\"><span class=\"revision_id\">bf35ae9<span></a> (<a target=\"_blank\" href=\"https://github.com/vatlab/sos-docs/blob/bf35ae9cb26791800a82c183a5553ec511a44374/doc/documentation/SoS_Magics.html\">HTML</a>)</td>\n",
       "<td>Bo Peng</td>\n",
       "<td>2018-05-08</td>\n",
       "<td>Update docs on magic %cd</td></tr></table>"
      ]
     },
     "metadata": {},
     "output_type": "display_data"
    }
   ],
   "source": [
    "%revisions -n 5 --source  \\\n",
    "  --links HTML '{{repo}}/blob/{{revision}}/doc/documentation/{{filename[:-6]}}.html'"
   ]
  },
  {
   "cell_type": "markdown",
   "metadata": {
    "kernel": "SoS"
   },
   "source": [
    "### <a id=\"magic_run\"></a>`%run` "
   ]
  },
  {
   "cell_type": "markdown",
   "metadata": {
    "kernel": "SoS"
   },
   "source": [
    "The `%run` magic allows you to run the content of a cell as a SoS workflow with specify SoS options such as `-v` (verbosity), `-j` (max number of jobs), and workflow options as defined by `parameter:` keyword.\n",
    "\n",
    "The content of the cell is extracted and executed as an independent SoS script. The script does not use any existing variable so all parameters must be passed from command line (options of `%run`). The resulting dictionary will merged to the SoS dictionary to make it easy to check the result of the workflow, unless the workflow is executed remotely on another server (option `-r HOST`)."
   ]
  },
  {
   "cell_type": "markdown",
   "metadata": {
    "kernel": "SoS"
   },
   "source": [
    "For example, if we define a variable in the SoS kernel,"
   ]
  },
  {
   "cell_type": "code",
   "execution_count": 1,
   "metadata": {
    "kernel": "SoS"
   },
   "outputs": [],
   "source": [
    "var = 100"
   ]
  },
  {
   "cell_type": "markdown",
   "metadata": {
    "kernel": "SoS"
   },
   "source": [
    "it is can be used in other scratch cells,"
   ]
  },
  {
   "cell_type": "code",
   "execution_count": 2,
   "metadata": {
    "kernel": "SoS"
   },
   "outputs": [
    {
     "name": "stdout",
     "output_type": "stream",
     "text": [
      "200\n"
     ]
    }
   ],
   "source": [
    "var += 100\n",
    "print(var)"
   ]
  },
  {
   "cell_type": "markdown",
   "metadata": {
    "kernel": "SoS"
   },
   "source": [
    "But not in the workflow executed by magic %run`"
   ]
  },
  {
   "cell_type": "code",
   "execution_count": 3,
   "metadata": {
    "kernel": "SoS"
   },
   "outputs": [
    {
     "name": "stderr",
     "output_type": "stream",
     "text": [
      "\n",
      "---------------------------------------------------------------------------\n",
      "NameError                                 Traceback (most recent call last)\n",
      "script_5226703861919018952 in <module>\n",
      "----> print(var)\n",
      "\n",
      "NameError: name 'var' is not defined\n"
     ]
    }
   ],
   "source": [
    "%sandbox --expect-error\n",
    "%run\n",
    "print(var)"
   ]
  },
  {
   "cell_type": "markdown",
   "metadata": {
    "kernel": "SoS"
   },
   "source": [
    "So you will have to pass the value as a parameter"
   ]
  },
  {
   "cell_type": "code",
   "execution_count": 4,
   "metadata": {
    "kernel": "SoS"
   },
   "outputs": [],
   "source": [
    "%run --var 40\n",
    "parameter: var = int\n",
    "var += 400"
   ]
  },
  {
   "cell_type": "markdown",
   "metadata": {
    "kernel": "SoS"
   },
   "source": [
    "However, when the workflow is executed, the workflow dictionary is merged to the SoS kernel so that you can examine the resulting variables,"
   ]
  },
  {
   "cell_type": "code",
   "execution_count": 5,
   "metadata": {
    "kernel": "SoS"
   },
   "outputs": [
    {
     "name": "stdout",
     "output_type": "stream",
     "text": [
      "440\n"
     ]
    }
   ],
   "source": [
    "print(var)"
   ]
  },
  {
   "cell_type": "markdown",
   "metadata": {
    "kernel": "SoS"
   },
   "source": [
    "The `%run` magics also provides you a way to execute the same cell multiple times with different parameters, for example "
   ]
  },
  {
   "cell_type": "code",
   "execution_count": 6,
   "metadata": {
    "kernel": "SoS"
   },
   "outputs": [
    {
     "name": "stdout",
     "output_type": "stream",
     "text": [
      "0\n",
      "1\n"
     ]
    }
   ],
   "source": [
    "%run\n",
    "%run --var 1\n",
    "parameter: var=0\n",
    "sh: expand=True\n",
    "  echo {var}"
   ]
  },
  {
   "cell_type": "markdown",
   "metadata": {
    "kernel": "SoS"
   },
   "source": [
    "The `[global]` section header is optional for SoS scripts so you can define global variables in a cell executed by magic `%run` as follows:"
   ]
  },
  {
   "cell_type": "code",
   "execution_count": 8,
   "metadata": {
    "kernel": "SoS"
   },
   "outputs": [
    {
     "name": "stdout",
     "output_type": "stream",
     "text": [
      "this is local global\n"
     ]
    }
   ],
   "source": [
    "%run\n",
    "VAR = \"this is local global\"\n",
    "\n",
    "[step]\n",
    "print(VAR)"
   ]
  },
  {
   "cell_type": "markdown",
   "metadata": {
    "kernel": "SoS"
   },
   "source": [
    "Remember that `%sosrun` collects all sections from a notebook and merge multiple `[global]` sections into one, using the global section without a header is actually recommended if the definition is meant to be confined to the cell workflow."
   ]
  },
  {
   "cell_type": "markdown",
   "metadata": {
    "kernel": "SoS"
   },
   "source": [
    "A complete list of arguments can be shown using the `-h` option. "
   ]
  },
  {
   "cell_type": "code",
   "execution_count": 9,
   "metadata": {
    "kernel": "SoS"
   },
   "outputs": [
    {
     "name": "stdout",
     "output_type": "stream",
     "text": [
      "usage: run [-h] [-j JOBS] [-J EXTERNAL_JOBS] [-c CONFIG_FILE]\n",
      "           [-t FILE [FILE ...]] [-b [BIN_DIR [BIN_DIR ...]]] [-q [QUEUE]] [-w]\n",
      "           [-W] [-r [HOST]] [-n] [-s SIGMODE] [-d [DAG]] [-p [REPORT]]\n",
      "           [-v {0,1,2,3,4}]\n",
      "           [WORKFLOW]\n",
      "\n",
      "Execute default or specified workflow defined in script\n",
      "\n",
      "positional arguments:\n",
      "  WORKFLOW              Name of the workflow to execute. This option can be\n",
      "                        ignored if the script defines a default workflow (with\n",
      "                        no name or with name `default`) or defines only a\n",
      "                        single workflow. A subworkflow or a combined workflow\n",
      "                        can also be specified, where a subworkflow executes a\n",
      "                        subset of workflow (`name_steps` where `steps` can be\n",
      "                        `n` (a step `n`), `:n` (up to step `n`), `n:m` (from\n",
      "                        step `n` to `m`), and `n:` (from step `n`)), and a\n",
      "                        combined workflow executes to multiple (sub)workflows\n",
      "                        combined by `+` (e.g. `A_0+B+C`).\n",
      "\n",
      "optional arguments:\n",
      "  -h, --help            show this help message and exit\n",
      "  -j JOBS               Maximum number of worker processes for the execution\n",
      "                        of steps in a workflow and substeps in a step (with\n",
      "                        input option concurrent), default to half of number of\n",
      "                        CPUs\n",
      "  -J EXTERNAL_JOBS      Maximum number of externally running tasks. This\n",
      "                        option overrides option \"max_running_jobs\" of a task\n",
      "                        queue (option -q) so that you can, for example, submit\n",
      "                        one job at a time (with -J 1) to test the task queue.\n",
      "  -c CONFIG_FILE        A configuration file in the format of YAML/JSON. The\n",
      "                        content of the configuration file will be available as\n",
      "                        a dictionary CONF in the SoS script being executed.\n",
      "  -t FILE [FILE ...]    One of more files or alias of other targets that will\n",
      "                        be the target of execution. If specified, SoS will\n",
      "                        execute only part of a workflow or multiple workflows\n",
      "                        or auxiliary steps to generate specified targets.\n",
      "  -b [BIN_DIR [BIN_DIR ...]]\n",
      "                        Extra directories in which SoS will look for\n",
      "                        executables before standard $PATH. This option\n",
      "                        essentially prefix $PATH with these directories. Note\n",
      "                        that the default value '~/.sos/bin' is by convention a\n",
      "                        default directory for commands that are installed by\n",
      "                        SoS. You can use option '-b' without value to disallow\n",
      "                        commands under ~/.sos/bin.\n",
      "  -q [QUEUE]            host (server) or job queues to execute all tasks in\n",
      "                        the workflow. The queue can be defined in global or\n",
      "                        local sos configuration file, or a file specified by\n",
      "                        option --config. A host is assumed to be a remote\n",
      "                        machine with process type if no configuration is\n",
      "                        found. If this option is specified without value, SoS\n",
      "                        will list all configured queues and exit.\n",
      "  -w                    Wait for the completion of external tasks regardless\n",
      "                        of the setting of individual task queue.\n",
      "  -W                    Do not wait for the completion of external tasks and\n",
      "                        quit SoS if all tasks are being executed by external\n",
      "                        task queues. This option overrides the default wait\n",
      "                        setting of task queues.\n",
      "  -r [HOST]             Execute the workflow in specified remote host, which\n",
      "                        should be defined under key host of sos configuration\n",
      "                        files (preferrably in ~/.sos/hosts.yml). This option\n",
      "                        basically copy the workflow to remote host and invoke\n",
      "                        sos command there. No path translation and\n",
      "                        input/output file synchronization will be performed\n",
      "                        before or after the execution of the workflow.\n",
      "\n",
      "Run mode options:\n",
      "  Control how sos scirpt is executed.\n",
      "\n",
      "  -n                    Execute a workflow in dryrun mode. Please check\n",
      "                        command sos dryrun for details of the dryrun mode.\n",
      "  -s SIGMODE            How runtime signature would be handled, which can be\n",
      "                        \"default\" (save and use signature, default mode in\n",
      "                        batch mode), \"ignore\" (ignore runtime signature,\n",
      "                        default mode in interactive mode), \"force\" (ignore\n",
      "                        existing signature and overwrite them while executing\n",
      "                        the workflow), \"build\" (build new or overwrite\n",
      "                        existing signature from existing environment and\n",
      "                        output files), and \"assert\" for validating existing\n",
      "                        files against their signatures. Please refer to online\n",
      "                        documentation for details about the use of runtime\n",
      "                        signatures.\n",
      "\n",
      "Output options:\n",
      "  Output of workflow\n",
      "\n",
      "  -d [DAG]              Output Direct Acyclic Graph (DAGs) in graphiviz .dot\n",
      "                        format. Because DAG and status of nodes will change\n",
      "                        during the execution of workflow, multiple DAGs will\n",
      "                        be written to the specified file with names\n",
      "                        {workflow}_1, {workflow}_2 etc. The dot file would be\n",
      "                        named {script_name}_{timestamp}.dot unless a separate\n",
      "                        filename is specified.\n",
      "  -p [REPORT]           Output a report that summarizes the execution of the\n",
      "                        workflow after the completion of the execution. This\n",
      "                        includes command line, steps executed, tasks executed,\n",
      "                        CPU/memory of tasks, and DAG if option -d is also\n",
      "                        specified. The report will by be named\n",
      "                        {script_name}_{timestamp}.html unless a separate\n",
      "                        filename is specified.\n",
      "  -v {0,1,2,3,4}        Output error (0), warning (1), info (2), debug (3) and\n",
      "                        trace (4) information to standard output (default to\n",
      "                        2).\n",
      "\n",
      "Arbitrary parameters defined by the [parameters] step of the script, and\n",
      "[parameters] steps of other scripts if nested workflows are defined in other\n",
      "SoS files (option `source`). The name, default and type of the parameters are\n",
      "specified in the script. Single value parameters should be passed using option\n",
      "`--name value` and multi-value parameters should be passed using option\n",
      "`--name value1 value2`.\n"
     ]
    }
   ],
   "source": [
    "%run -h"
   ]
  },
  {
   "cell_type": "markdown",
   "metadata": {
    "kernel": "SoS"
   },
   "source": [
    "### <a id=\"magic_save\"></a>`%save` "
   ]
  },
  {
   "cell_type": "markdown",
   "metadata": {
    "kernel": "SoS"
   },
   "source": [
    "Magic `%save` saves the content of the current cell (after the magic itself) to specified file. It accepts the following options:"
   ]
  },
  {
   "cell_type": "code",
   "execution_count": 48,
   "metadata": {
    "collapsed": true,
    "kernel": "R"
   },
   "outputs": [],
   "source": [
    "%save -h"
   ]
  },
  {
   "cell_type": "markdown",
   "metadata": {
    "kernel": "SoS"
   },
   "source": [
    "### <a id=\"magic_sosrun\"></a>`%sosrun` "
   ]
  },
  {
   "cell_type": "markdown",
   "metadata": {
    "kernel": "SoS"
   },
   "source": [
    "The `%sosrun` option is a very special magic in that it **executes SoS steps defined in the entire notebook**. Essentially speaking, this magic\n",
    "\n",
    "* Collect the content of all SoS cells in the notebook (including the present cell) and extract all sections from it. Comments, magics, and statements before section header is ignored.\n",
    "* Execute the entire workflow with options specified by magic `%sosrun` as a **separate workflow**. Default options specified by magic `%set` is honored. Similar to magic `%run`, the script does not use any existing variable but the workflow dictionary will be merged to the notebook dictionary after the completion of workflow (see magic `%run` for details). \n",
    "\n",
    "For example,"
   ]
  },
  {
   "cell_type": "code",
   "execution_count": 49,
   "metadata": {
    "collapsed": true,
    "kernel": "SoS",
    "workflow_cell": false
   },
   "outputs": [],
   "source": [
    "[global]\n",
    "# this is the global section of a workflow\n",
    "parameter: gvar = 20"
   ]
  },
  {
   "cell_type": "code",
   "execution_count": 50,
   "metadata": {
    "collapsed": true,
    "kernel": "SoS",
    "workflow_cell": false
   },
   "outputs": [],
   "source": [
    "[workflow_10]\n",
    "print(f\"This is step {step_name}, with {gvar}\")"
   ]
  },
  {
   "cell_type": "code",
   "execution_count": 51,
   "metadata": {
    "collapsed": true,
    "kernel": "SoS",
    "workflow_cell": false
   },
   "outputs": [],
   "source": [
    "[workflow_20]\n",
    "print(f\"This is step {step_name}, with {gvar}\")"
   ]
  },
  {
   "cell_type": "code",
   "execution_count": 52,
   "metadata": {
    "kernel": "SoS"
   },
   "outputs": [
    {
     "name": "stdout",
     "output_type": "stream",
     "text": [
      "This is step workflow_10, with 40\n",
      "This is step workflow_20, with 40\n"
     ]
    }
   ],
   "source": [
    "%sosrun workflow --gvar 40"
   ]
  },
  {
   "cell_type": "markdown",
   "metadata": {
    "kernel": "SoS"
   },
   "source": [
    "The content of the workflow is displayed at the side panel (if opened) so that you know what has been collected. Using the workflow feature of SoS, you can execute cells of a notebook conditionally, repeatedly, with different parameters...\n",
    "\n",
    "The following example demonstrates how to execute a step repeated as a nested workflow of another workflow."
   ]
  },
  {
   "cell_type": "code",
   "execution_count": 53,
   "metadata": {
    "collapsed": true,
    "kernel": "SoS",
    "workflow_cell": false
   },
   "outputs": [],
   "source": [
    "# this is a worker step\n",
    "[worker]\n",
    "parameter: val = 5\n",
    "sh: expand=True\n",
    "    echo process {val}"
   ]
  },
  {
   "cell_type": "code",
   "execution_count": 54,
   "metadata": {
    "kernel": "SoS",
    "workflow_cell": false
   },
   "outputs": [
    {
     "name": "stdout",
     "output_type": "stream",
     "text": [
      "process 0\n",
      "process 1\n",
      "process 2\n",
      "process 3\n",
      "process 4\n"
     ]
    }
   ],
   "source": [
    "# this step will execute the previous cell multiple times\n",
    "%sosrun batch\n",
    "[batch]\n",
    "input: for_each={'val': range(5)}\n",
    "sos_run('worker',val=val)"
   ]
  },
  {
   "cell_type": "markdown",
   "metadata": {
    "kernel": "SoS"
   },
   "source": [
    "It is worth mentioning that \"global definitions\" in a cell without `[global]` header is excluded from the notebook workflow. For example, if we have a global definition "
   ]
  },
  {
   "cell_type": "code",
   "execution_count": 55,
   "metadata": {
    "collapsed": true,
    "kernel": "SoS"
   },
   "outputs": [],
   "source": [
    "[global]\n",
    "VAR = \"this is global\""
   ]
  },
  {
   "cell_type": "markdown",
   "metadata": {
    "kernel": "SoS"
   },
   "source": [
    "A `%run` magic can override definitions in a global section with global definitions without `[global]` header:"
   ]
  },
  {
   "cell_type": "code",
   "execution_count": 56,
   "metadata": {
    "kernel": "SoS"
   },
   "outputs": [
    {
     "name": "stdout",
     "output_type": "stream",
     "text": [
      "this is local global\n"
     ]
    }
   ],
   "source": [
    "%run\n",
    "VAR = \"this is local global\"\n",
    "[local_global]\n",
    "print(VAR)"
   ]
  },
  {
   "cell_type": "markdown",
   "metadata": {
    "kernel": "SoS"
   },
   "source": [
    "However, because `VAR = \"this is local global\"` is not included in a section and is execlued from the notebook workflow, the following `%sosrun` magic will have see the statements in the named `[global]` section:"
   ]
  },
  {
   "cell_type": "code",
   "execution_count": 57,
   "metadata": {
    "kernel": "SoS"
   },
   "outputs": [
    {
     "name": "stdout",
     "output_type": "stream",
     "text": [
      "this is global\n"
     ]
    }
   ],
   "source": [
    "%sosrun local_global"
   ]
  },
  {
   "cell_type": "markdown",
   "metadata": {
    "kernel": "SoS"
   },
   "source": [
    "This is why we sometimes call global statements without `[global]` header **local global section** because they are only executed by magic `%run`, not `%sosrun`. "
   ]
  },
  {
   "cell_type": "markdown",
   "metadata": {
    "kernel": "SoS"
   },
   "source": [
    "###  <a id=\"magic_sossave\"></a>`%sossave`"
   ]
  },
  {
   "cell_type": "markdown",
   "metadata": {
    "kernel": "SoS"
   },
   "source": [
    "Magic `%sossave` saves the **report** or **workflow** defined in the notebook to specified file, according to specified template.\n",
    "\n",
    "1. Save workflow in `.sos` format\n",
    "    * By default a workflow will be saved, which consists of cells that start with section header (ignoring leading comments and magics). The content of the file would be identical to the output of magic `%preview --workflow`.\n",
    "    * If option `--all` (`-a`) is specified, all cells will be saved to a .sos file that might or might not be executable in batch mode.\n",
    "    \n",
    "2. Save report in `HTML` format\n",
    "    * By default a template `sos-report` will be used to generate a HTML report, which includes all cells except for those with a `scratch` tag, and will display by default markdown cells without a `hide_output` tag, and output of code cells with a `report_output` tag. In another word, all mark down cells are displayed and output from all code cells are hidden unless you tag them otherwise with keyboard shortcut `Ctrl-Shift-O`. All contents could be displayed with a hidden control panel to the top left corner of the screen.\n",
    "    * Other templates could be specified with option `--template`. For example, a `sos-full` report will generate a HTML file with all content.\n",
    "    "
   ]
  },
  {
   "cell_type": "markdown",
   "metadata": {
    "kernel": "SoS"
   },
   "source": [
    "This magic determines file format with file extension (e.g. `output.html` or option `--to` (e.g. `-t html`), an option `--force` to override existing file, and an option `-x` to add executable permission to the saved .sos file."
   ]
  },
  {
   "cell_type": "markdown",
   "metadata": {
    "kernel": "SoS"
   },
   "source": [
    "The `%sossave` can also help you track revisions of your analysis by committing files to git repository. If your notebook is under a git repository, you can use\n",
    "\n",
    "* Option `-c` (`--commit`) to run command `git commit SAVEDFILE` with optional message specified by option `-m` (`--message`).\n",
    "* Option `-p` (`--push`) to run command `git push`.\n"
   ]
  },
  {
   "cell_type": "code",
   "execution_count": 58,
   "metadata": {
    "kernel": "SoS"
   },
   "outputs": [
    {
     "name": "stdout",
     "output_type": "stream",
     "text": [
      "usage: %sossave [-h] [-t {sos,html}] [-c] [-a] [-m MESSAGE] [-p] [-f] [-x]\n",
      "                [--template TEMPLATE]\n",
      "                [filename]\n",
      "\n",
      "Save the jupyter notebook as workflow (consisting of all sos steps defined in\n",
      "cells starting with section header) or a HTML report to specified file.\n",
      "\n",
      "positional arguments:\n",
      "  filename              Filename of saved report or script. Default to\n",
      "                        notebookname with file extension determined by option\n",
      "                        --to.\n",
      "\n",
      "optional arguments:\n",
      "  -h, --help            show this help message and exit\n",
      "  -t {sos,html}, --to {sos,html}\n",
      "                        Destination format, default to sos.\n",
      "  -c, --commit          Commit the saved file to git directory using command\n",
      "                        git commit FILE\n",
      "  -a, --all             The --all option for sos convert script.ipynb\n",
      "                        script.sos, which saves all cells and their metadata\n",
      "                        to a .sos file, that contains all input information of\n",
      "                        the notebook but might not be executable in batch\n",
      "                        mode.\n",
      "  -m MESSAGE, --message MESSAGE\n",
      "                        Message for git commit. Default to \"save FILENAME\"\n",
      "  -p, --push            Push the commit with command \"git push\"\n",
      "  -f, --force           If destination file already exists, overwrite it.\n",
      "  -x, --set-executable  Set `executable` permission to saved script.\n",
      "  --template TEMPLATE   Template to generate HTML output. The default template\n",
      "                        is a template defined by configuration key default-\n",
      "                        sos-template, or sos-report if such a key does not\n",
      "                        exist.\n"
     ]
    }
   ],
   "source": [
    "%sossave -h"
   ]
  },
  {
   "cell_type": "markdown",
   "metadata": {
    "kernel": "SoS"
   },
   "source": [
    "### <a id=\"magic_set\"></a>`%set` "
   ]
  },
  {
   "cell_type": "markdown",
   "metadata": {
    "kernel": "SoS"
   },
   "source": [
    "The `%set` magic sets a persistent sos options so you do not have to enter them each time after `%run` or `%paste`. For example, if you set `%set -v3`, you can execute all cells in the notebook at verbosity level 3 (`DEBUG`).\n",
    "\n",
    "Note that this magic only accepts keyword arguments (with leading `-` or `--`) so you cannot use it to specify a default workflow to execute."
   ]
  },
  {
   "cell_type": "code",
   "execution_count": 59,
   "metadata": {
    "kernel": "SoS",
    "workflow_cell": false
   },
   "outputs": [
    {
     "name": "stdout",
     "output_type": "stream",
     "text": [
      "Set sos options to \"-v2\"\n"
     ]
    }
   ],
   "source": [
    "%set -v2\n",
    "[cat_10]\n",
    "[cat_20]"
   ]
  },
  {
   "cell_type": "code",
   "execution_count": 60,
   "metadata": {
    "kernel": "SoS",
    "scrolled": true,
    "workflow_cell": false
   },
   "outputs": [
    {
     "name": "stdout",
     "output_type": "stream",
     "text": [
      "Set sos options to \"-v1\"\n"
     ]
    }
   ],
   "source": [
    "%set -v1\n",
    "[mouse_10]\n",
    "[mouse_20]"
   ]
  },
  {
   "cell_type": "markdown",
   "metadata": {
    "kernel": "sos"
   },
   "source": [
    "### <a id=\"magic_sandbox\"></a>`%sandbox` "
   ]
  },
  {
   "cell_type": "markdown",
   "metadata": {
    "kernel": "SoS"
   },
   "source": [
    "The `%sandbox` magic executes the current cell in the temporary directory with a separate dictionary so that it would change SoS dictionary and files in the current directory. \n",
    "\n",
    "This magic accepts three parameters:\n",
    "\n",
    "1. If `-d` or `--dir` is specified, sandbox will use the specified directory. It will create the directory if it is does not exist, and will not clean or remove the directory after the completion of execution.\n",
    "2. If `-k` or `--keep-dict` is specified, the cell would use the existing SoS dictionary instead of creating a new one.\n",
    "3. If `-e` or `--expect-error` is specified, the cell expects an error and would return `ok` only if an `error` occurs. In practice, this option would prevent Jupyter from stopping at a cell that expects an error when you execute the whole notebook with \"execute all\"."
   ]
  },
  {
   "cell_type": "markdown",
   "metadata": {
    "kernel": "sos"
   },
   "source": [
    "For example, this `ls` commands happens at the current directory"
   ]
  },
  {
   "cell_type": "code",
   "execution_count": 61,
   "metadata": {
    "kernel": "SoS"
   },
   "outputs": [
    {
     "name": "stdout",
     "output_type": "stream",
     "text": [
      "ls: Auxil*: No such file or directory\n"
     ]
    }
   ],
   "source": [
    "!ls Auxil*"
   ]
  },
  {
   "cell_type": "markdown",
   "metadata": {
    "kernel": "sos"
   },
   "source": [
    "but the notebook is not available in the sandbox"
   ]
  },
  {
   "cell_type": "code",
   "execution_count": 62,
   "metadata": {
    "kernel": "SoS"
   },
   "outputs": [
    {
     "name": "stdout",
     "output_type": "stream",
     "text": [
      "ls: Auxil*: No such file or directory\n"
     ]
    }
   ],
   "source": [
    "%sandbox\n",
    "!ls Auxil*"
   ]
  },
  {
   "cell_type": "markdown",
   "metadata": {
    "kernel": "SoS"
   },
   "source": [
    "and the sandbox dictionary is empty"
   ]
  },
  {
   "cell_type": "code",
   "execution_count": 63,
   "metadata": {
    "kernel": "SoS"
   },
   "outputs": [
    {
     "data": {
      "text/plain": [
       "set()"
      ]
     },
     "execution_count": 63,
     "metadata": {},
     "output_type": "execute_result"
    }
   ],
   "source": [
    "%sandbox\n",
    "%dict --keys"
   ]
  },
  {
   "cell_type": "markdown",
   "metadata": {
    "kernel": "SoS"
   },
   "source": [
    "Note that the working directory of subkernels is not affected by the `%sandbox` magic."
   ]
  },
  {
   "cell_type": "markdown",
   "metadata": {
    "kernel": "SoS"
   },
   "source": [
    "###  <a id=\"magic_sessioninfo\"></a>`%sessioninfo`"
   ]
  },
  {
   "cell_type": "markdown",
   "metadata": {
    "kernel": "SoS"
   },
   "source": [
    "Magic `%sessioninfo` returns the session information of SoS and all the subkernels, which for example include version of the python interpreter and name and version of all imported modules for Python kernels, and the output of function `sessionInfo()` for language R."
   ]
  },
  {
   "cell_type": "markdown",
   "metadata": {
    "kernel": "SoS"
   },
   "source": [
    "This magic also outputs values of a variable `sessioninfo` in the SoS namespace, which can be a dictionary of section header and items in the format of string, list of strings or `(key, value)` pairs, or dictionaries.  This mechanism is designed to output arbitrary additional session information, such as revision of documents and versions of commands. The latter has to be collected manually because there is no standard way to get the version information of commands.\n",
    "\n",
    "For example, let us find the revision of this document and versions of two commands `rsync`,  and `awk` and put them in `sessioninfo`:"
   ]
  },
  {
   "cell_type": "code",
   "execution_count": 64,
   "metadata": {
    "kernel": "SoS"
   },
   "outputs": [
    {
     "data": {
      "text/html": [
       "<div class=\"sos_hint\">> sessioninfo: OrderedDict of length 2</div>"
      ],
      "text/plain": [
       ">>> sessioninfo:\n"
      ]
     },
     "metadata": {},
     "output_type": "display_data"
    },
    {
     "data": {
      "text/plain": [
       "OrderedDict([('Programs',\n",
       "              [['rsync', 'rsync  version 2.6.9  protocol version 29\\n'],\n",
       "               ['awk', 'awk version 20070501\\n']]),\n",
       "             ('Extra',\n",
       "              [['Date', '08/12/2017'],\n",
       "               ['Revision', '236\\n'],\n",
       "               ['HASH', 'b348a9e7ceaa02e6c0f5c195defe01d5a127aca5\\n']])])"
      ]
     },
     "metadata": {},
     "output_type": "display_data"
    }
   ],
   "source": [
    "%preview -n sessioninfo\n",
    "import time\n",
    "from collections import OrderedDict\n",
    "sessioninfo = OrderedDict()\n",
    "sessioninfo['Programs'] = [\n",
    "        ['rsync', get_output('rsync --version | head -1')],\n",
    "        ['awk', get_output('awk -version')]\n",
    "    ]\n",
    "sessioninfo['Extra'] = [\n",
    "        ['Date', time.strftime(\"%d/%m/%Y\")],\n",
    "        ['Revision', get_output('git rev-list --count HEAD')],\n",
    "        ['HASH', get_output('git rev-parse HEAD')]\n",
    "    ]\n"
   ]
  },
  {
   "cell_type": "markdown",
   "metadata": {
    "kernel": "SoS"
   },
   "source": [
    "Then, after we load Python3 and R,"
   ]
  },
  {
   "cell_type": "code",
   "execution_count": 65,
   "metadata": {
    "collapsed": true,
    "kernel": "Python3"
   },
   "outputs": [],
   "source": [
    "import pandas\n",
    "import numpy"
   ]
  },
  {
   "cell_type": "code",
   "execution_count": 66,
   "metadata": {
    "collapsed": true,
    "kernel": "R"
   },
   "outputs": [],
   "source": [
    "library('ggplot2')"
   ]
  },
  {
   "cell_type": "markdown",
   "metadata": {
    "kernel": "SoS"
   },
   "source": [
    "We can run `%sessioninfo` to display all session information:"
   ]
  },
  {
   "cell_type": "code",
   "execution_count": 67,
   "metadata": {
    "kernel": "SoS",
    "show_output": false
   },
   "outputs": [
    {
     "data": {
      "text/html": [
       "<p class=\"session_section\">SoS</p>\n",
       "<table class=\"session_info\">\n",
       "<tr>\n",
       "<th>SoS Version</th><td><pre>0.9.10.15</pre></td>\n",
       "</tr>\n",
       "<tr>\n",
       "<th>numpy</th><td><pre>1.13.1</pre></td>\n",
       "</tr>\n",
       "<tr>\n",
       "<th>IPython</th><td><pre>6.2.1</pre></td>\n",
       "</tr>\n",
       "</table>\n",
       "<p class=\"session_section\">Python3</p>\n",
       "<table class=\"session_info\">\n",
       "<tr>\n",
       "<th>Kernel</th><td><pre>python3</pre></td>\n",
       "</tr>\n",
       "<tr>\n",
       "<th>Language</th><td><pre>Python3</pre></td>\n",
       "</tr>\n",
       "<tr>\n",
       "<th>Version</th><td><pre>3.6.2 |Anaconda custom (64-bit)| (default, Sep 21 2017, 18:29:43) \n",
       "[GCC 4.2.1 Compatible Clang 4.0.1 (tags/RELEASE_401/final)]</pre></td>\n",
       "</tr>\n",
       "<tr>\n",
       "<th>pandas</th><td><pre>0.20.3</pre></td>\n",
       "</tr>\n",
       "<tr>\n",
       "<th>numpy</th><td><pre>1.13.1</pre></td>\n",
       "</tr>\n",
       "</table>\n",
       "<p class=\"session_section\">R</p>\n",
       "<table class=\"session_info\">\n",
       "<tr>\n",
       "<th>Kernel</th><td><pre>ir</pre></td>\n",
       "</tr>\n",
       "<tr>\n",
       "<th>Language</th><td><pre>R</pre></td>\n",
       "</tr>\n",
       "<tr>\n",
       "<td colspan=\"2\"><pre>R version 3.4.2 (2017-09-28)\n",
       "Platform: x86_64-apple-darwin15.6.0 (64-bit)\n",
       "Running under: OS X El Capitan 10.11.6\n",
       "\n",
       "Matrix products: default\n",
       "BLAS: /Library/Frameworks/R.framework/Versions/3.4/Resources/lib/libRblas.0.dylib\n",
       "LAPACK: /Library/Frameworks/R.framework/Versions/3.4/Resources/lib/libRlapack.dylib\n",
       "\n",
       "locale:\n",
       "[1] en_US.UTF-8/en_US.UTF-8/en_US.UTF-8/C/en_US.UTF-8/en_US.UTF-8\n",
       "\n",
       "attached base packages:\n",
       "[1] stats     graphics  grDevices utils     datasets  methods   base     \n",
       "\n",
       "other attached packages:\n",
       "[1] ggplot2_2.2.1 feather_0.3.1\n",
       "\n",
       "loaded via a namespace (and not attached):\n",
       " [1] Rcpp_0.12.13        magrittr_1.5        hms_0.3            \n",
       " [4] munsell_0.4.3       uuid_0.1-2          colorspace_1.3-2   \n",
       " [7] R6_2.2.2            rlang_0.1.2         stringr_1.2.0      \n",
       "[10] plyr_1.8.4          tools_3.4.2         grid_3.4.2         \n",
       "[13] gtable_0.2.0        lazyeval_0.2.1      digest_0.6.12      \n",
       "[16] tibble_1.3.4        crayon_1.3.4        IRdisplay_0.4.4    \n",
       "[19] repr_0.12.0         IRkernel_0.8.9.9000 evaluate_0.10.1    \n",
       "[22] pbdZMQ_0.2-6        stringi_1.1.5       compiler_3.4.2     \n",
       "[25] scales_0.5.0        jsonlite_1.5       </pre></td>\n",
       "</tr>\n",
       "</table>\n",
       "<p class=\"session_section\">Programs</p>\n",
       "<table class=\"session_info\">\n",
       "<tr>\n",
       "<th>rsync</th><td><pre>rsync  version 2.6.9  protocol version 29\n",
       "</pre></td>\n",
       "</tr>\n",
       "<tr>\n",
       "<th>awk</th><td><pre>awk version 20070501\n",
       "</pre></td>\n",
       "</tr>\n",
       "</table>\n",
       "<p class=\"session_section\">Extra</p>\n",
       "<table class=\"session_info\">\n",
       "<tr>\n",
       "<th>Date</th><td><pre>08/12/2017</pre></td>\n",
       "</tr>\n",
       "<tr>\n",
       "<th>Revision</th><td><pre>236\n",
       "</pre></td>\n",
       "</tr>\n",
       "<tr>\n",
       "<th>HASH</th><td><pre>b348a9e7ceaa02e6c0f5c195defe01d5a127aca5\n",
       "</pre></td>\n",
       "</tr>\n",
       "</table>\n"
      ]
     },
     "metadata": {},
     "output_type": "display_data"
    }
   ],
   "source": [
    "%sessioninfo"
   ]
  },
  {
   "cell_type": "markdown",
   "metadata": {
    "kernel": "SoS"
   },
   "source": [
    "### `%shutdown` <a id=\"magic_shutdown\"></a>"
   ]
  },
  {
   "cell_type": "markdown",
   "metadata": {
    "kernel": "SoS"
   },
   "source": [
    "Magic `%shutdown` shuts down a specified kernel, or the current running kernel, with an option to restart it (`--restart`, `-r`). SoS will switch to kernel `SoS` if the current kernel is shutdown. In summary\n",
    "\n",
    "| current kernel | command | kernel after magic|\n",
    "|----|----|----|\n",
    "| `R` (for example) | `%shutdown` | `SoS` |\n",
    "| `R` | `%shutdown -r` | `R` (new) |\n",
    "| `SoS` | `%shutdown R ` | `SoS` (`R` is shutdown) |\n",
    "| `SoS` | `%shutdown -r R` | `SoS` (`R` is restarted) |"
   ]
  },
  {
   "cell_type": "markdown",
   "metadata": {
    "kernel": "SoS"
   },
   "source": [
    "### <a id=\"magic_taskinfo\"></a>`%taskinfo` "
   ]
  },
  {
   "cell_type": "markdown",
   "metadata": {
    "kernel": "SoS"
   },
   "source": [
    "When you execute a SoS workflow with external task, one or more tasks would be displayed in the notebook."
   ]
  },
  {
   "cell_type": "markdown",
   "metadata": {
    "kernel": "SoS"
   },
   "source": [
    "![tasks](../media/tasks.png)"
   ]
  },
  {
   "cell_type": "markdown",
   "metadata": {
    "kernel": "SoS"
   },
   "source": [
    "When you click on the task ID, a `%taskinfo` magic would be executed at the side panel, displaying the detailed information of the task, including a plot of the CPU and memory usage of the task during its execution."
   ]
  },
  {
   "cell_type": "markdown",
   "metadata": {
    "kernel": "SoS"
   },
   "source": [
    "![resource_history](../media/resource_history.png)"
   ]
  },
  {
   "cell_type": "markdown",
   "metadata": {
    "kernel": "SoS"
   },
   "source": [
    "You can also execute the magic directly by running it in the side panel or a regular cell, with command\n",
    "\n",
    "```\n",
    "%taskinfo 6dbe51a2c129f02e34e454be5f0cbcd9 -q queue\n",
    "```\n",
    "\n",
    "Note that the `-q` (`--queue`) option specifies the task queue in which the task is being executed."
   ]
  },
  {
   "cell_type": "markdown",
   "metadata": {
    "kernel": "SoS"
   },
   "source": [
    "### <a id=\"magic_tasks\"></a>`%tasks` "
   ]
  },
  {
   "cell_type": "markdown",
   "metadata": {
    "kernel": "SoS"
   },
   "source": [
    "The `%tasks` magic lists all or selected tasks in local or remote task queue so that you can monitor them using the notebook interface. The tasks would be listed as shown above and you can\n",
    "\n",
    "1. select the icon to stop a running or pending task, or resume failed or aborted tasks.\n",
    "2. select the task ID to retrieve the details of the task."
   ]
  },
  {
   "cell_type": "markdown",
   "metadata": {
    "kernel": "SoS"
   },
   "source": [
    "This magic accepts parameters `-q` (`--queue`), and option `-s` (`--status`) to limit tasks in certain status and `--age`) to limit tasks older or newer than specified age. Option `age` accepts a number with unit `s` (second), `m` (minute), `h` (hour), or `d` (day, default), or hours, minutes and seconds in the `HH:MM:SS` format, with an optional prefix `+` for older than specified time. For example, you can use magic\n",
    "\n",
    "```\n",
    "%tasks -q host -s running\n",
    "```\n",
    "\n",
    "to list all running tasks on a remote task queue named `host`, or \n",
    "\n",
    "\n",
    "```\n",
    "%tasks -s running -t +2d\n",
    "```\n",
    "\n",
    "to list all tasks that has been running for more than 2 days."
   ]
  },
  {
   "cell_type": "markdown",
   "metadata": {
    "kernel": "SoS"
   },
   "source": [
    "### <a id=\"magic_toc\"></a>`%toc` "
   ]
  },
  {
   "cell_type": "markdown",
   "metadata": {
    "kernel": "SoS"
   },
   "source": [
    "The `%toc` magic works in two ways. By default, it displays the table of content of the current notebook **in the side panel** which makes it easy for you to navigate within a long notebook. SoS defines a keyboard shortcut `Ctrl-Shift-t` for this magic so there is rarely a need to type it in. The TOC is automatically updated with the addition and removal of headers in the main notebook.\n",
    "\n",
    "If an option `-n` (`--notebook`) is specified, a TOC will be returned as the result of the magic. In contrast to the TOC in side panel, this TOC will not be updated with the editing of the notebook. This usage is therefore suitable for the addition of a TOC at the beginning of the document before exporting the notebook in HTML format. An optional parameter `--id` can be used to give the TOC an ID in case you would like to apply css styles to the TOC. "
   ]
  },
  {
   "cell_type": "code",
   "execution_count": 1,
   "metadata": {
    "kernel": "SoS"
   },
   "outputs": [
    {
     "data": {
      "text/html": [
       "<div class=\"toc\" id=\"magics\">\n",
       "<ul class=\"toc-item lev0\">\n",
       "<li><a href=\"#SoS-Magics\">SoS Magics</a></li>\n",
       "<ul class=\"toc-item lev2\">\n",
       "<li><a href=\"#capture\"><code>%capture</code></a></li>\n",
       "<li><a href=\"#magic_cd\"><code>%cd</code> </a></li>\n",
       "<li><a href=\"#magic_clear\"><code>%clear</code> </a></li>\n",
       "<li><a href=\"#magic_dict\"><code>%dict</code>  </a></li>\n",
       "<li><a href=\"#magic_expand\"><code>%expand</code> </a></li>\n",
       "<li><a href=\"#magic_get\"><code>%get</code> </a></li>\n",
       "<li><a href=\"#matplotlib\"><code>%matplotlib</code></a></li>\n",
       "<li><a href=\"#magic_paste\"><code>%paste</code> </a></li>\n",
       "<li><a href=\"#magic_put\"><code>%put</code> </a></li>\n",
       "<li><a href=\"#magic_preview\"><code>%preview</code> </a></li>\n",
       "<li><a href=\"#magic_render\"><code>%render</code> </a></li>\n",
       "<li><a href=\"#magic_rerun\"><code>%rerun</code> </a></li>\n",
       "<li><a href=\"#magic_revisions\"><code>%revisions</code> </a></li>\n",
       "<li><a href=\"#magic_run\"><code>%run</code> </a></li>\n",
       "<li><a href=\"#magic_save\"><code>%save</code> </a></li>\n",
       "<li><a href=\"#magic_sosrun\"><code>%sosrun</code> </a></li>\n",
       "<li><a href=\"#magic_sossave\"><code>%sossave</code> </a></li>\n",
       "<li><a href=\"#magic_set\"><code>%set</code> </a></li>\n",
       "<li><a href=\"#magic_sandbox\"><code>%sandbox</code> </a></li>\n",
       "<li><a href=\"#magic_sessioninfo\"><code>%sessioninfo</code> </a></li>\n",
       "<li><a href=\"#magic_shutdown\"><code>%shutdown</code> </a></li>\n",
       "<li><a href=\"#magic_taskinfo\"><code>%taskinfo</code> </a></li>\n",
       "<li><a href=\"#magic_tasks\"><code>%tasks</code> </a></li>\n",
       "<li><a href=\"#magic_toc\"><code>%toc</code> </a></li>\n",
       "<li><a href=\"#use\"> <code>%use</code> </a></li>\n",
       "<li><a href=\"#magic_with\"><code>%with</code> </a></li>\n",
       "<li><a href=\"#shellcommand-a-hrefshellcommanda\"><code>!shell-command</code> <a href=\"shell_command\"></a></a></li>\n",
       "</div>"
      ]
     },
     "metadata": {},
     "output_type": "display_data"
    }
   ],
   "source": [
    "%toc -n --id magics"
   ]
  },
  {
   "cell_type": "markdown",
   "metadata": {
    "kernel": "SoS"
   },
   "source": [
    "###  <a id=\"magic_use\"></a>`%use` "
   ]
  },
  {
   "cell_type": "markdown",
   "metadata": {
    "kernel": "SoS"
   },
   "source": [
    "As shown above, the `%use name` magic starts or switch to a subkernel named `name`. The kernel can be any locally installed Jupyter kenel, or name of a **language** (e.g. `R` for kernel `ir`). A `language` is usually built upon the corresponding subkernel, with added support for data exchange between SoS and the subkernel."
   ]
  },
  {
   "cell_type": "markdown",
   "metadata": {
    "kernel": "SoS"
   },
   "source": [
    "Without any parameter, magic `%use` lists the available subkernels:"
   ]
  },
  {
   "cell_type": "code",
   "execution_count": 1,
   "metadata": {
    "kernel": "SoS"
   },
   "outputs": [
    {
     "name": "stdout",
     "output_type": "stream",
     "text": [
      "Active subkernels: \n",
      "Available subkernels:\n",
      "    Bash (bash)\n",
      "    JavaScript (javascript)\n",
      "    Julia (julia-0.6)\n",
      "    Octave (octave)\n",
      "    Python2 (python2)\n",
      "    Python3 (python3)\n",
      "    R (ir)\n",
      "    SAS (sas)\n",
      "    SoS (sos)\n",
      "    TypeScript (typescript)\n",
      "    markdown (markdown)"
     ]
    }
   ],
   "source": [
    "%use"
   ]
  },
  {
   "cell_type": "markdown",
   "metadata": {
    "kernel": "SoS"
   },
   "source": [
    "The value of magic `%use`, compared to choosing existing kernels interactively, is its ability to start multiple instances of the same subkernel, change properties of existing subkernels, and create new subkernels. These are achieved with options `-k` (`--kernel`), `-l` (`--language`) and `-c` (`--color`), more specifically\n",
    "\n",
    "|usage | sample command | Comment |\n",
    "|---|---| ---|\n",
    "|Customize the background color of a subkernel | `%use R -c red` | Can be applied to existing and new subkernels to change background. A special `default` name can reset color back to language default.|\n",
    "|Start a separate instance of a known subkernel, with a different name|`%use R2 -k ir -c '#bfff00'`| Use kernel `ir` and its default langauge interface |\n",
    "| |`%use R2 -l R -c #CCCCCC`| Use default kernel (`ir`) or language `R`|\n",
    "|Start a subkernel with a customized language module |`%use R2 -l mymodule.sos_R`| `mymodule.sos_R` should be derived from `sos.R.sos_R` |\n",
    "|Start an existing kernel without langauge definition with a known language module | `%use R_remote -l R`| `R_remote` could be a kernel defined by [remote_ikernel](https://pypi.python.org/pypi/remote_ikernel)|\n",
    "|Start another subkernel with a customized language module | `%use R2 -k R_remote -l mymodule.sos_R` | |\n",
    "\n",
    "Note that [remote_ikernel](https://pypi.python.org/pypi/remote_ikernel) provides an interesting way of using SoS because the kernel is actually started on a remote host, possibly on a cluster managed by PBS/Torch, Sun Grid etc. Using a remote kernel along with a local kernel allows you to exchange data between local and remote kernels (although exchanging of large datasets might not work if the data exchange is performed through local files)."
   ]
  },
  {
   "cell_type": "markdown",
   "metadata": {
    "kernel": "SoS"
   },
   "source": [
    "### <a id=\"magic_with\"></a>`%with` "
   ]
  },
  {
   "cell_type": "markdown",
   "metadata": {
    "kernel": "SoS"
   },
   "source": [
    "The `%with` magic switches to an existing subkernel for the evaluation of the current cell. It accepts options `--in` (or `-i`) and `--out` (or `-o`), so you could use"
   ]
  },
  {
   "cell_type": "code",
   "execution_count": 71,
   "metadata": {
    "collapsed": true,
    "kernel": "R"
   },
   "outputs": [],
   "source": [
    "%with R -i n -o ran\n",
    "ran <- rnorm(n)"
   ]
  },
  {
   "cell_type": "markdown",
   "metadata": {
    "kernel": "SoS"
   },
   "source": [
    "to get a list of normally distributed numbers using R's `rnorm` function. "
   ]
  },
  {
   "cell_type": "code",
   "execution_count": 73,
   "metadata": {
    "kernel": "SoS",
    "workflow_cell": false
   },
   "outputs": [
    {
     "data": {
      "text/plain": [
       "[-0.167668384623955,\n",
       " 1.27674634162288,\n",
       " 1.78635380328703,\n",
       " 0.306342222542276,\n",
       " -2.06684705997443]"
      ]
     },
     "execution_count": 73,
     "metadata": {},
     "output_type": "execute_result"
    }
   ],
   "source": [
    "ran"
   ]
  },
  {
   "cell_type": "markdown",
   "metadata": {
    "kernel": "sos"
   },
   "source": [
    "### <a href=\"shell_command\"></a>`!shell-command` \n",
    "\n",
    "If any other command is entered after `!`, sos will treat the rest of the line as a shell command and execute it. Only single-line commands are supported. String interpolation is supported. Note that `!cd` does not change the current working directory because the command is executed in a separate process. Use magic `%cd` for that purpose."
   ]
  },
  {
   "cell_type": "markdown",
   "metadata": {
    "kernel": "sos"
   },
   "source": [
    "The command line would accept string interpolation so you can for example do"
   ]
  },
  {
   "cell_type": "code",
   "execution_count": 74,
   "metadata": {
    "collapsed": true,
    "kernel": "SoS",
    "workflow_cell": false
   },
   "outputs": [],
   "source": [
    "import tempfile\n",
    "filename = tempfile.mkstemp()[1]\n",
    "with open(filename, 'w') as out:\n",
    "  out.write('something\\n')    "
   ]
  },
  {
   "cell_type": "code",
   "execution_count": 75,
   "metadata": {
    "kernel": "SoS"
   },
   "outputs": [
    {
     "data": {
      "text/html": [
       "<div class=\"sos_hint\">> !cat /var/folders/ys/gnzk0qbx5wbdgm531v82xxljv5yqy8/T/tmp_62tcrgd<br></div>"
      ]
     },
     "metadata": {},
     "output_type": "display_data"
    },
    {
     "name": "stdout",
     "output_type": "stream",
     "text": [
      "something\n"
     ]
    }
   ],
   "source": [
    "!cat {filename}"
   ]
  },
  {
   "cell_type": "code",
   "execution_count": 76,
   "metadata": {
    "kernel": "SoS"
   },
   "outputs": [
    {
     "data": {
      "text/html": [
       "<div class=\"sos_hint\">> !rm /var/folders/ys/gnzk0qbx5wbdgm531v82xxljv5yqy8/T/tmp_62tcrgd<br></div>"
      ]
     },
     "metadata": {},
     "output_type": "display_data"
    }
   ],
   "source": [
    "# clean up\n",
    "!rm {filename}"
   ]
  }
 ],
 "metadata": {
  "anaconda-cloud": {},
  "kernelspec": {
   "display_name": "SoS",
   "language": "sos",
   "name": "sos"
  },
  "language_info": {
   "codemirror_mode": "sos",
   "file_extension": ".sos",
   "mimetype": "text/x-sos",
   "name": "sos",
   "nbconvert_exporter": "sos_notebook.converter.SoS_Exporter",
   "pygments_lexer": "sos"
  },
  "sos": {
   "celltoolbar": true,
   "default_kernel": "SoS",
   "kernels": [
    [
     "Python3",
     "python3",
     "Python3",
     "#EAFAF1",
     ""
    ],
    [
     "R",
     "ir",
     "R",
     "#FDEDEC",
     ""
    ],
    [
     "SoS",
     "sos",
     "",
     "",
     "sos"
    ]
   ],
   "panel": {
    "displayed": true,
    "height": "200px",
    "style": "side"
   },
   "version": "0.18.5"
  },
  "toc": {
   "colors": {
    "hover_highlight": "#DAA520",
    "running_highlight": "#FF0000",
    "selected_highlight": "#FFD700"
   },
   "moveMenuLeft": true,
   "nav_menu": {
    "height": "503px",
    "width": "254px"
   },
   "navigate_menu": true,
   "number_sections": true,
   "sideBar": true,
   "threshold": 4,
   "toc_cell": false,
   "toc_position": {
    "height": "923px",
    "left": "0px",
    "right": "1400.4px",
    "top": "107px",
    "width": "262px"
   },
   "toc_section_display": "block",
   "toc_window_display": true
  }
 },
 "nbformat": 4,
 "nbformat_minor": 2
}
