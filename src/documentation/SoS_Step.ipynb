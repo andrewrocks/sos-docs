{
 "cells": [
  {
   "cell_type": "markdown",
   "metadata": {
    "kernel": "SoS"
   },
   "source": [
    "# Step definition"
   ]
  },
  {
   "cell_type": "markdown",
   "metadata": {
    "kernel": "SoS",
    "workflow_cell": true
   },
   "source": [
    "SoS steps are building blocks of SoS workflows. Although the input and output can be more general, each step typically has its **input**, **output**, and **dependents** files, it executes a **step process** that consists of one or more Python statements and SoS actions (special python functions). Part or all the step process, called **tasks**, can be executed and monitored externally.\n",
    "\n",
    "![sos_step](../media/sos_step.png)\n"
   ]
  },
  {
   "cell_type": "markdown",
   "metadata": {
    "kernel": "SoS"
   },
   "source": [
    "## Step variables"
   ]
  },
  {
   "cell_type": "markdown",
   "metadata": {
    "kernel": "SoS"
   },
   "source": [
    "SoS defines multiple variables during the execution of a step. The first type of variables provides information about the step, which includes\n",
    "\n",
    "* **`step_name`**: name of the step\n",
    "* **`step_id`**: Hash ID of the step, which is determined by the content of the step\n",
    "* **`workflow_id`**: Hash ID of the workflow in which the step is defined. It would be the ID of the nested workflow if the workflow is nested.\n",
    "* **`master_id`**: Hash ID of the entire workflow, regardless if the step is defined in a nested workflow.\n",
    "\n",
    "For example, in the following example, two steps have different step names, step IDs, and workflow IDs because `nested` is a nested workflow, but they share the same `master_id`, which equals to `workflow_id` of the outermost workflow.  "
   ]
  },
  {
   "cell_type": "code",
   "execution_count": 1,
   "metadata": {
    "kernel": "SoS"
   },
   "outputs": [
    {
     "name": "stdout",
     "output_type": "stream",
     "text": [
      "Workflow 1663b815c3bed9f2: step name=default_0\n",
      "Workflow 1663b815c3bed9f2: step id=950015e2ddfc10d4\n",
      "Workflow 1663b815c3bed9f2: workflow id=1663b815c3bed9f2\n",
      "Workflow 1663b815c3bed9f2: master id=1663b815c3bed9f2\n",
      "Workflow fecfb67fda2f92df: step name=nested_0\n",
      "Workflow fecfb67fda2f92df: step id=74bf81da4f5098aa\n",
      "Workflow fecfb67fda2f92df: workflow id=fecfb67fda2f92df\n",
      "Workflow fecfb67fda2f92df: master id=1663b815c3bed9f2\n"
     ]
    }
   ],
   "source": [
    "%run\n",
    "[nested]\n",
    "print(f'Workflow {workflow_id}: step name={step_name}')\n",
    "print(f'Workflow {workflow_id}: step id={step_id}')\n",
    "print(f'Workflow {workflow_id}: workflow id={workflow_id}')\n",
    "print(f'Workflow {workflow_id}: master id={master_id}')\n",
    "\n",
    "[default]\n",
    "print(f'Workflow {workflow_id}: step name={step_name}')\n",
    "print(f'Workflow {workflow_id}: step id={step_id}')\n",
    "print(f'Workflow {workflow_id}: workflow id={workflow_id}')\n",
    "print(f'Workflow {workflow_id}: master id={master_id}')\n",
    "sos_run('nested')"
   ]
  },
  {
   "cell_type": "markdown",
   "metadata": {
    "kernel": "SoS"
   },
   "source": [
    "These variables can be useful, for example, to save runtime information, as in the example of"
   ]
  },
  {
   "cell_type": "code",
   "execution_count": 8,
   "metadata": {
    "kernel": "SoS"
   },
   "outputs": [
    {
     "data": {
      "text/html": [
       "<div class=\"sos_hint\">> default_10.log (49 B):</div>"
      ],
      "text/plain": [
       "\n",
       "> default_10.log (49 B):"
      ]
     },
     "metadata": {},
     "output_type": "display_data"
    },
    {
     "name": "stdout",
     "output_type": "stream",
     "text": [
      "Step specific log message saved in default_10.log"
     ]
    }
   ],
   "source": [
    "%preview -n default_10.log\n",
    "%run \n",
    "\n",
    "[10]\n",
    "with open(step_name + '.log', 'w') as log:\n",
    "    log.write(f'Step specific log message saved in {step_name}.log')"
   ]
  },
  {
   "cell_type": "markdown",
   "metadata": {
    "kernel": "SoS"
   },
   "source": [
    "If a section defines multiple steps, the step variables can be used to define (slightly) different steps according to which step is executing. For example,"
   ]
  },
  {
   "cell_type": "code",
   "execution_count": 9,
   "metadata": {
    "kernel": "SoS"
   },
   "outputs": [
    {
     "name": "stdout",
     "output_type": "stream",
     "text": [
      "I am dealing with human\n"
     ]
    }
   ],
   "source": [
    "%run human\n",
    "\n",
    "[human_10, mouse_10]\n",
    "if 'human' in step_name:\n",
    "   print(\"I am dealing with human\")\n",
    "else:\n",
    "   print(\"I am dealing with mouse\")\n"
   ]
  },
  {
   "cell_type": "markdown",
   "metadata": {
    "kernel": "SoS"
   },
   "source": [
    "The second type of variables are step input, output, and dependent targets. They are of type `sos_targets` and will be explained later. "
   ]
  },
  {
   "cell_type": "markdown",
   "metadata": {
    "kernel": "SoS"
   },
   "source": [
    "## Step options <a id=\"Step_options\"></a>"
   ]
  },
  {
   "cell_type": "markdown",
   "metadata": {
    "kernel": "SoS"
   },
   "source": [
    "**Step options** are specified after step name that assists the specification of workflows. SoS provides the following options"
   ]
  },
  {
   "cell_type": "markdown",
   "metadata": {
    "kernel": "SoS",
    "workflow_cell": true
   },
   "source": [
    "### Option `skip`\n",
    " <a id=\"Option_skip\"></a>\n",
    "Option `skip` takes two formats, the first format has no value\n",
    "\n",
    "```\n",
    "[10: skip]\n",
    "```\n",
    "\n",
    "and is equivalent to\n",
    "\n",
    "```\n",
    "[10: skip=True]\n",
    "```\n",
    "\n",
    "The whole step will be skipped as if it is not defined at all in the script. This option provides a quick method to disable a step."
   ]
  },
  {
   "cell_type": "markdown",
   "metadata": {
    "kernel": "SoS"
   },
   "source": [
    "The second format takes a value, which is usually an expression that will be evaluated when the step is executed. For example, step 10 is by default executed by default"
   ]
  },
  {
   "cell_type": "code",
   "execution_count": 1,
   "metadata": {
    "kernel": "SoS",
    "workflow_cell": true
   },
   "outputs": [
    {
     "name": "stdout",
     "output_type": "stream",
     "text": [
      "default_10 is executed\n"
     ]
    }
   ],
   "source": [
    "%run\n",
    "parameter: qc = True\n",
    "[10 (quality check): skip=not qc]\n",
    "print(f\"{step_name} is executed\")"
   ]
  },
  {
   "cell_type": "markdown",
   "metadata": {
    "kernel": "SoS",
    "workflow_cell": true
   },
   "source": [
    "but will not be executed if the workflow is executed with option `--no-qc` (for `qc=False`)"
   ]
  },
  {
   "cell_type": "code",
   "execution_count": 2,
   "metadata": {
    "kernel": "SoS",
    "workflow_cell": true
   },
   "outputs": [
    {
     "name": "stderr",
     "output_type": "stream",
     "text": [
      "INFO: \u001b[32mquality check\u001b[0m is \u001b[32mignored\u001b[0m due to skip option.\n"
     ]
    }
   ],
   "source": [
    "%run --no-qc\n",
    "parameter: qc = True\n",
    "[10 (quality check): skip=not qc]\n",
    "print(f\"{step_name} is executed\")"
   ]
  },
  {
   "cell_type": "markdown",
   "metadata": {
    "kernel": "SoS"
   },
   "source": [
    "### Option `sigil`\n",
    " <a id=\"Option_sigil\"></a>\n",
    "Option `sigil` accepts a string for an alternative sigil, or `None` to disable string interpolation in the step. The sigil must be two strings separated by a space, such as `%( )`, `< >`, and `#{ }`. Sigils with equal left and right symbol such as `# #` can be used although they do not support features such as nested interpolation. Please refer to section [SoS Syntax](SoS_Syntax.html) for details of this option."
   ]
  },
  {
   "cell_type": "markdown",
   "metadata": {
    "kernel": "SoS"
   },
   "source": [
    "### Option `shared` <a id=\"Option_shared\"></a>"
   ]
  },
  {
   "cell_type": "markdown",
   "metadata": {
    "kernel": "SoS"
   },
   "source": [
    "SoS executes each step in a separate process and by default does not return any result to the master SoS process. Option `shared` is used to share variables between steps. This option accepts:\n",
    "\n",
    "* A string (variable name), or\n",
    "* A map between variable names and expressions (strings) that will be evaluated upon the completion of the step.\n",
    "* A sequence of strings (variables) or maps.\n",
    "\n",
    "For example,"
   ]
  },
  {
   "cell_type": "code",
   "execution_count": 1,
   "metadata": {
    "kernel": "SoS"
   },
   "outputs": [
    {
     "name": "stdout",
     "output_type": "stream",
     "text": [
      "100\n"
     ]
    }
   ],
   "source": [
    "%run\n",
    "[10: shared='myvar']\n",
    "myvar = 100\n",
    "\n",
    "[20]\n",
    "print(myvar)"
   ]
  },
  {
   "cell_type": "markdown",
   "metadata": {
    "kernel": "SoS"
   },
   "source": [
    "A map syntax is recommended to share `step_output` of one step with others, because the variable assignment will be evaluated only after the step is complete:"
   ]
  },
  {
   "cell_type": "code",
   "execution_count": 2,
   "metadata": {
    "kernel": "SoS"
   },
   "outputs": [
    {
     "name": "stdout",
     "output_type": "stream",
     "text": [
      "Input file a.txt\n"
     ]
    }
   ],
   "source": [
    "%sandbox\n",
    "%run\n",
    "[1: shared = {'test_output': 'step_output'}]\n",
    "output: 'a.txt'\n",
    "sh:\n",
    "    touch a.txt\n",
    "[2]\n",
    "print(f\"Input file {test_output}\")\n",
    "input: test_output"
   ]
  },
  {
   "cell_type": "markdown",
   "metadata": {
    "kernel": "SoS"
   },
   "source": [
    "The map syntax is evaluated as expressions; therefore it is possible to finer control what specific output, or variations of output, to share with others. For example:"
   ]
  },
  {
   "cell_type": "code",
   "execution_count": 3,
   "metadata": {
    "kernel": "SoS"
   },
   "outputs": [
    {
     "name": "stdout",
     "output_type": "stream",
     "text": [
      "output 1: a.txt\n",
      "output 2: b.txt\n"
     ]
    }
   ],
   "source": [
    "%sandbox\n",
    "%run\n",
    "[1: shared={'test_output_1':'step_output[0]', 'test_output_2': 'step_output[1]'}]\n",
    "output: 'a.txt', 'b.txt'\n",
    "sh:\n",
    "    touch a.txt b.txt\n",
    "[2]\n",
    "print(f\"output 1: {test_output_1}\")\n",
    "print(f\"output 2: {test_output_2}\")"
   ]
  },
  {
   "cell_type": "markdown",
   "metadata": {
    "kernel": "SoS"
   },
   "source": [
    "to shared the first file in `output` (filename `output[0]`) instead of the entire output file list."
   ]
  },
  {
   "cell_type": "markdown",
   "metadata": {
    "kernel": "SoS"
   },
   "source": [
    "The `shared` option also provides a `sos_variable` target."
   ]
  },
  {
   "cell_type": "markdown",
   "metadata": {
    "kernel": "SoS"
   },
   "source": [
    "Things becomes more complicated when there are multiple substeps. For example, when you use option `shared` on the following step with 10 substeps, only one of the random seed is returned because `rng` represent the last value of the variable after the completion of all substeps."
   ]
  },
  {
   "cell_type": "code",
   "execution_count": 4,
   "metadata": {
    "kernel": "SoS"
   },
   "outputs": [
    {
     "name": "stdout",
     "output_type": "stream",
     "text": [
      "450\n"
     ]
    }
   ],
   "source": [
    "%run\n",
    "[1: shared='seed']\n",
    "input: for_each={'i': range(10)}\n",
    "import random\n",
    "seed = random.randint(0, 1000)\n",
    "\n",
    "\n",
    "[2]\n",
    "print(seed)"
   ]
  },
  {
   "cell_type": "markdown",
   "metadata": {
    "kernel": "SoS"
   },
   "source": [
    "If you would like to see the variable in all substeps, you can prefix the variable name with `step_`"
   ]
  },
  {
   "cell_type": "code",
   "execution_count": 5,
   "metadata": {
    "kernel": "SoS"
   },
   "outputs": [
    {
     "name": "stdout",
     "output_type": "stream",
     "text": [
      "[858, 513, 328, 610, 142, 275, 458, 57, 762, 981]\n"
     ]
    }
   ],
   "source": [
    "%run\n",
    "[1: shared='step_seed']\n",
    "input: for_each={'i': range(10)}\n",
    "import random\n",
    "seed = random.randint(0, 1000)\n",
    "\n",
    "\n",
    "[2]\n",
    "print(step_seed)"
   ]
  },
  {
   "cell_type": "markdown",
   "metadata": {
    "kernel": "SoS"
   },
   "source": [
    "You can also use the `step_*` vsriables in expressions as in the following example:"
   ]
  },
  {
   "cell_type": "code",
   "execution_count": 8,
   "metadata": {
    "kernel": "SoS"
   },
   "outputs": [
    {
     "name": "stdout",
     "output_type": "stream",
     "text": [
      "[10, 0, 8, 1, 8, 9, 6, 7, 9, 1]\n",
      "59\n"
     ]
    }
   ],
   "source": [
    "%run\n",
    "[1: shared={'summed': 'sum(step_rng)', 'rngs': 'step_rng'}]\n",
    "input: for_each={'i': range(10)}\n",
    "import random\n",
    "rng = random.randint(0, 10)\n",
    "\n",
    "\n",
    "[2]\n",
    "print(rngs)\n",
    "print(summed)"
   ]
  },
  {
   "cell_type": "markdown",
   "metadata": {
    "kernel": "SoS"
   },
   "source": [
    "Variables generated by external tasks adds another layer of complexity because tasks usually do not share variables with the substep it belongs. To solve this problem, you will have to use the `shared` option of `task` to return the variable to the substep:"
   ]
  },
  {
   "cell_type": "code",
   "execution_count": 11,
   "metadata": {
    "kernel": "SoS"
   },
   "outputs": [
    {
     "data": {
      "text/html": [
       "<div class=\"sos_hint\">10 tasks completed: <a onclick=\"task_info('fc4e5aa9d56b8670', 'laptop')\">fc4e</a>, <a onclick=\"task_info('b42d81697655e60b', 'laptop')\">b42d</a>, ..., <a onclick=\"task_info('559c2306ff715392', 'laptop')\">559c</a></div>"
      ]
     },
     "metadata": {},
     "output_type": "display_data"
    },
    {
     "name": "stdout",
     "output_type": "stream",
     "text": [
      "\n",
      "[0, 2, 12, 10, 24, 9, 51, 39, 79, 4]\n",
      "230\n"
     ]
    }
   ],
   "source": [
    "%run\n",
    "[1: shared={'summed': 'sum(step_rng)', 'rngs': 'step_rng'}]\n",
    "input: for_each={'i': range(10)}\n",
    "\n",
    "task: shared='rng'\n",
    "import random\n",
    "rng = random.randint(0, 10*i)\n",
    "\n",
    "\n",
    "[2]\n",
    "print(rngs)\n",
    "print(summed)"
   ]
  },
  {
   "cell_type": "markdown",
   "metadata": {
    "kernel": "SoS"
   },
   "source": [
    "### Option `provides` <a id=\"Option_provides\"></a>"
   ]
  },
  {
   "cell_type": "markdown",
   "metadata": {
    "kernel": "SoS"
   },
   "source": [
    "This option lists files or targets a step generates so that it can be called if the target is required but does not exist. Steps with option `procides` are called **auxiliary steps** and are building blocks of makefile style workflows.\n",
    "\n",
    "Option `provides` accepts\n",
    "\n",
    "* A filename or file pattern such as `\"{sample}.bam.idx\"`\n",
    "* Other types of targets such as `executable(\"ms\")`\n",
    "* A list (sequence) of one or more file patterns and targets.\n",
    "\n",
    "A file pattern is a filename with optional patterns with variable names enbraced in `{ }`. SoS matches filenames with the patterns and, if successful, assign variables with matched parts of the names. For example,\n",
    "\n",
    "```\n",
    "[compress: provides = '{filename}.bam']\n",
    "```\n",
    "\n",
    "would be triggered with target `sample_A.bam` and `sample_B.bam`. When the step is triggered by `sample_A.bam`, it defines variable `filename` as `sample_A` and sets the output of the step as `sample_A.bam`. Please check tutorial [`Auxiliary Steps`](../tutorials/Auxiliary_Steps.ipynb) for details."
   ]
  },
  {
   "cell_type": "markdown",
   "metadata": {
    "kernel": "SoS"
   },
   "source": [
    "## Step Input <a id=\"Step_Input\"></a>"
   ]
  },
  {
   "cell_type": "markdown",
   "metadata": {
    "kernel": "SoS"
   },
   "source": [
    "### Input files\n",
    "\n",
    "The input of SoS step follows the following rules:\n",
    "\n",
    "* **the input of a SoS step is by default the output of the previous step**, which is `None` for the first step.\n",
    "* **`input:`**, which could be **a list** of filenames (string literal, variables, or expressions that return filenames).  Wildcard characters (`*`, which matches everything and `?`, which matches any single character) are acceptable. Nested lists are flattened.\n",
    "* **`from_steps`**, output from specified steps.\n",
    "\n",
    "Examples of input specification are as follows:\n",
    "\n",
    "```\n",
    "input: []\n",
    "\n",
    "input: 'file1.fasta', 'file2.fasta'\n",
    "\n",
    "input: 'file*.fasta', 'filename with space.fasta'\n",
    "\n",
    "input:\n",
    "    'file*.txt',\n",
    "    'directory/file2.txt'\n",
    "\n",
    "input: aligned_reads\n",
    "\n",
    "input: aligned_reads, reference_genome\n",
    "\n",
    "input: aligned_reads[2:]\n",
    "\n",
    "input: 'data/*.fastq'\n",
    "\n",
    "input: '*/GXT*.fastq'\n",
    "\n",
    "input: func(parameter)\n",
    "```\n",
    "\n",
    "It is worth noting that\n",
    "\n",
    "* The first examples shows that the step does not need any input file (so it does not depend on any other step).\n",
    "* It does not matter if `aligned_reads` and `reference_genome` are strings or lists of strings because SoS will flatten nested lists to a single list of filenames.\n",
    "* The `input` option tries to expand filenames with wildcard characters (`*` and `?`). This can be very useful for workflows that, for example, regularly scan a directory and process unprocessed files. However, because the value of this step depends on availability of files, the output of `sos show script` and the execution path will be unpredictable, and even wrong if there is no available file during the execution of `sos show script`.\n",
    "\n",
    "The input files will be evaluated and form a list of input files. They are by default sent to the step process all at once as varible `_input`, but can also be sent in groups, each time\n",
    "with different `_input`. Here `_input` is a temporary variable that is available only within the step."
   ]
  },
  {
   "cell_type": "markdown",
   "metadata": {
    "kernel": "SoS"
   },
   "source": [
    "### Option `from_steps`"
   ]
  },
  {
   "cell_type": "markdown",
   "metadata": {
    "kernel": "SoS"
   },
   "source": [
    "Option specifies one or more step names and will take their output as the input of the present step. These input will be appended to the input files specified for the step. For example, the `step_input` of `step_30` of the following example is `c.txt` (from `step_30`, directly specified), `a.txt` (from `step_10`), and `b.txt` (from `step_20`)."
   ]
  },
  {
   "cell_type": "code",
   "execution_count": 2,
   "metadata": {
    "kernel": "SoS"
   },
   "outputs": [
    {
     "name": "stdout",
     "output_type": "stream",
     "text": [
      "c.txt a.txt b.txt\n"
     ]
    }
   ],
   "source": [
    "!touch c.txt\n",
    "%run\n",
    "[step_10]\n",
    "output: 'a.txt'\n",
    "_output.touch()\n",
    "\n",
    "[step_20]\n",
    "output: 'b.txt'\n",
    "_output.touch()\n",
    "\n",
    "\n",
    "[step_30]\n",
    "input: 'c.txt', from_steps=['step_10', 'step_20']\n",
    "print(step_input)\n"
   ]
  },
  {
   "cell_type": "markdown",
   "metadata": {
    "kernel": "SoS"
   },
   "source": [
    "The source input targets, meaning from which step the targets are generated, can be traced by the `source` attriute of `step_input` and `_input`, and can be used to group inputs. For example, `group_by='source'` groups the input by its source steps."
   ]
  },
  {
   "cell_type": "code",
   "execution_count": 5,
   "metadata": {
    "kernel": "SoS"
   },
   "outputs": [
    {
     "name": "stdout",
     "output_type": "stream",
     "text": [
      "\n",
      "\"step_input\" c.txt a.txt b.txt has source ['step_30', 'step_10', 'step_20']\n",
      "substep \"_input\" c.txt has source ['step_30']\n",
      "\n",
      "\"step_input\" c.txt a.txt b.txt has source ['step_30', 'step_10', 'step_20']\n",
      "substep \"_input\" a.txt has source ['step_10']\n",
      "\n",
      "\"step_input\" c.txt a.txt b.txt has source ['step_30', 'step_10', 'step_20']\n",
      "substep \"_input\" b.txt has source ['step_20']\n"
     ]
    }
   ],
   "source": [
    "!touch c.txt\n",
    "%run\n",
    "[step_10]\n",
    "output: 'a.txt'\n",
    "_output.touch()\n",
    "\n",
    "[step_20]\n",
    "output: 'b.txt'\n",
    "_output.touch()\n",
    "\n",
    "\n",
    "[step_30]\n",
    "input: 'c.txt', from_steps=['step_10', 'step_20'], group_by='source'\n",
    "print()\n",
    "print(f'\"step_input\" {step_input} has source {step_input.source}')\n",
    "print(f'substep \"_input\" {_input} has source {_input.source}')\n"
   ]
  },
  {
   "cell_type": "markdown",
   "metadata": {
    "kernel": "SoS"
   },
   "source": [
    "### Option `group_by` <a id=\"Option_group_by\"></a>"
   ]
  },
  {
   "cell_type": "markdown",
   "metadata": {
    "kernel": "SoS"
   },
   "source": [
    "SoS by default passes all input files to step process as a single list. Option `group_by` pass input files in groups, each time with a subset of input files named `_input`. SoS allows you the following `group_by` options\n",
    "\n",
    "| option | group by |\n",
    "| --- | --- |\n",
    "| `all` | all in a single group, the default |\n",
    "| `single` | individual target |\n",
    "| `pairs` | match first half of files with the second half, take one from each half each time |\n",
    "| `combinations` | all unordered combinations of 2-sets |\n",
    "| `pairwise` | all adjacent 2-sets |\n",
    "| `source` | by source of input |\n",
    "| `pairsource` | pair input files by their sources and take one from each source each time |\n",
    "| `N` = `1`, `2`, ... | chunks of size `N` |\n",
    "| `pairsN`, `N`=`2`, `3`, ... | match first half of files with the second half, take `N` from each half each time | \n",
    "| `pairsourceN`, `N`=`2`, `3`, ... | pair input files by their sources and take `N` from each source each time |\n",
    "| `pairwiseN`, `N`=`2`, `3`, ...| all adjacent 2-sets, but each set has `N` items |\n",
    "| `combinationsN`, `N`=`2`, `3`, ... | all unorderd combinations of `N` items |\n",
    "\n",
    "\n",
    "For example, with the following sos script"
   ]
  },
  {
   "cell_type": "code",
   "execution_count": 8,
   "metadata": {
    "kernel": "SoS"
   },
   "outputs": [
    {
     "name": "stdout",
     "output_type": "stream",
     "text": [
      "file1 file2\n",
      "file2 file3\n",
      "file3 file4\n"
     ]
    }
   ],
   "source": [
    "%sandbox\n",
    "!touch file1 file2 file3 file4\n",
    "%run\n",
    "[group]\n",
    "input: 'file1', 'file2', 'file3', 'file4', group_by='pairwise'\n",
    "print(f\"{_input}\")"
   ]
  },
  {
   "cell_type": "markdown",
   "metadata": {
    "kernel": "SoS"
   },
   "source": [
    "It is very important to understand that the `group_by` option does not change variable `step_input`. It creates a looping variable `_input` that changes with each substep. To demonstrate more acceptable values, the following example uses `sos_run` action to execute this a step with different grouping method."
   ]
  },
  {
   "cell_type": "code",
   "execution_count": 2,
   "metadata": {
    "kernel": "SoS"
   },
   "outputs": [
    {
     "name": "stdout",
     "output_type": "stream",
     "text": [
      "group_by=1\n",
      "0: file1\n",
      "1: file2\n",
      "2: file3\n",
      "3: file4\n",
      "group_by=2\n",
      "0: file1 file2\n",
      "1: file3 file4\n",
      "group_by=single\n",
      "0: file1\n",
      "1: file2\n",
      "2: file3\n",
      "3: file4\n",
      "group_by=pairs\n",
      "0: file1 file3\n",
      "1: file2 file4\n",
      "group_by=pairwise\n",
      "0: file1 file2\n",
      "1: file2 file3\n",
      "2: file3 file4\n",
      "group_by=combinations\n",
      "0: file1 file2\n",
      "1: file1 file3\n",
      "2: file1 file4\n",
      "3: file2 file3\n",
      "4: file2 file4\n",
      "5: file3 file4\n",
      "group_by=combinations3\n",
      "0: file1 file2 file3\n",
      "1: file1 file2 file4\n",
      "2: file1 file3 file4\n",
      "3: file2 file3 file4\n"
     ]
    }
   ],
   "source": [
    "%sandbox\n",
    "!touch file1 file2 file3 file4\n",
    "%run\n",
    "\n",
    "[group]\n",
    "parameter: group = str\n",
    "print(f\"group_by={group}\")\n",
    "input: 'file1', 'file2', 'file3', 'file4', group_by=group\n",
    "print(f\"{_index}: {_input}\")\n",
    "\n",
    "[default]\n",
    "sos_run('group', group=1)\n",
    "sos_run('group', group=2)\n",
    "sos_run('group', group='single')\n",
    "sos_run('group', group='pairs')\n",
    "sos_run('group', group='pairwise')\n",
    "sos_run('group', group='combinations')\n",
    "sos_run('group', group='combinations3')"
   ]
  },
  {
   "cell_type": "markdown",
   "metadata": {
    "kernel": "SoS"
   },
   "source": [
    "We did not include options `pairsN` and `pairwiseN` in the example because we need more input files to see what is going on. As you can see from the following example, the `N` groups input targets as small groups of size `N` before `pairs` and `pairwise` are applied."
   ]
  },
  {
   "cell_type": "code",
   "execution_count": 3,
   "metadata": {
    "kernel": "SoS",
    "scrolled": true
   },
   "outputs": [
    {
     "name": "stdout",
     "output_type": "stream",
     "text": [
      "group_by=pairs2\n",
      "0: A1 B1 A3 B3\n",
      "1: A2 B2 A4 B4\n",
      "group_by=pairwise2\n",
      "0: A1 B1 A2 B2\n",
      "1: A2 B2 A3 B3\n",
      "2: A3 B3 A4 B4\n"
     ]
    }
   ],
   "source": [
    "%sandbox\n",
    "!touch A1 B1 A2 B2 A3 B3 A4 B4\n",
    "%run\n",
    "\n",
    "[group]\n",
    "parameter: group = str\n",
    "print(f\"group_by={group}\")\n",
    "input: 'A1', 'B1', 'A2', 'B2', 'A3', 'B3', 'A4', 'B4', group_by=group\n",
    "print(f\"{_index}: {_input}\")\n",
    "\n",
    "[default]\n",
    "sos_run('group', group='pairs2')\n",
    "sos_run('group', group='pairwise2')\n"
   ]
  },
  {
   "cell_type": "markdown",
   "metadata": {
    "kernel": "SoS"
   },
   "source": [
    "Finally, as we recall from the `source` attribute of `sos_targets`, input targets can have `source` of the present step (if specified directly), or as the output of previouly executed steps. `group_by` allows you to group input by sources `group_by='source'`, or pair sources (`group_by='pairsource'` and `group_by='pairsourceN'`). For example,"
   ]
  },
  {
   "cell_type": "code",
   "execution_count": 3,
   "metadata": {
    "kernel": "SoS"
   },
   "outputs": [
    {
     "name": "stdout",
     "output_type": "stream",
     "text": [
      "group_by=source\n",
      "0: c1 c2 c3 c4 from ['group', 'group', 'group', 'group']\n",
      "1: a1 a2 a3 a4 from ['step_10', 'step_10', 'step_10', 'step_10']\n",
      "2: b1 b2 b3 b4 from ['step_20', 'step_20', 'step_20', 'step_20']\n",
      "group_by=pairsource\n",
      "0: c1 a1 b1 from ['group', 'step_10', 'step_20']\n",
      "1: c2 a2 b2 from ['group', 'step_10', 'step_20']\n",
      "2: c3 a3 b3 from ['group', 'step_10', 'step_20']\n",
      "3: c4 a4 b4 from ['group', 'step_10', 'step_20']\n",
      "group_by=pairsource2\n",
      "0: c1 c2 a1 a2 b1 b2 from ['group', 'group', 'step_10', 'step_10', 'step_20', 'step_20']\n",
      "1: c3 c4 a3 a4 b3 b4 from ['group', 'group', 'step_10', 'step_10', 'step_20', 'step_20']\n"
     ]
    }
   ],
   "source": [
    "!touch c1 c2 c3 c4\n",
    "%run\n",
    "[step_10]\n",
    "output: 'a1', 'a2', 'a3', 'a4'\n",
    "_output.touch()\n",
    "\n",
    "[step_20]\n",
    "output: 'b1', 'b2', 'b3', 'b4'\n",
    "_output.touch()\n",
    "\n",
    "\n",
    "[group]\n",
    "parameter: group = str\n",
    "print(f\"group_by={group}\")\n",
    "input: 'c1', 'c2', 'c3', 'c4', from_steps=['step_10', 'step_20'], group_by=group\n",
    "print(f\"{_index}: {_input} from {_input.source}\")\n",
    "\n",
    "[default]\n",
    "sos_run('group', group='source')\n",
    "sos_run('group', group='pairsource')\n",
    "sos_run('group', group='pairsource2')"
   ]
  },
  {
   "cell_type": "markdown",
   "metadata": {
    "kernel": "SoS"
   },
   "source": [
    "### Option `for_each` <a id=\"Option_for_each\"></a>"
   ]
  },
  {
   "cell_type": "markdown",
   "metadata": {
    "kernel": "SoS"
   },
   "source": [
    "Option `for_each` allows you to repeat step process for each value of a variable. For example,"
   ]
  },
  {
   "cell_type": "code",
   "execution_count": 11,
   "metadata": {
    "kernel": "SoS"
   },
   "outputs": [
    {
     "name": "stdout",
     "output_type": "stream",
     "text": [
      "0: file1 file2 m1\n",
      "1: file1 file2 m2\n"
     ]
    }
   ],
   "source": [
    "%sandbox\n",
    "!touch file1 file2\n",
    "%run\n",
    "\n",
    "method = ['m1', 'm2']\n",
    "input: 'file1', 'file2', for_each='method'\n",
    "print(f\"{_index}: {_input} {_method}\")"
   ]
  },
  {
   "cell_type": "markdown",
   "metadata": {
    "kernel": "SoS"
   },
   "source": [
    "will repeat the step with each item of variable `method`"
   ]
  },
  {
   "cell_type": "markdown",
   "metadata": {
    "kernel": "SoS"
   },
   "source": [
    "SoS automatically creates a loop variable `_method` for variable `method`, which assumes a slice of the variable at each iteration. "
   ]
  },
  {
   "cell_type": "markdown",
   "metadata": {
    "kernel": "SoS"
   },
   "source": [
    "Nested loops are also allowed. For example,"
   ]
  },
  {
   "cell_type": "code",
   "execution_count": 12,
   "metadata": {
    "kernel": "SoS"
   },
   "outputs": [
    {
     "name": "stdout",
     "output_type": "stream",
     "text": [
      "0: _input=file1 file2 _method=m1, _pars=1\n",
      "1: _input=file1 file2 _method=m2, _pars=1\n",
      "2: _input=file1 file2 _method=m1, _pars=2\n",
      "3: _input=file1 file2 _method=m2, _pars=2\n"
     ]
    }
   ],
   "source": [
    "%sandbox\n",
    "!touch file1 file2\n",
    "%run\n",
    "[0]\n",
    "method = ['m1', 'm2']\n",
    "pars = [1, 2]\n",
    "input: 'file1', 'file2', for_each=['method', 'pars']\n",
    "print(f\"{_index}: _input={_input} _method={_method}, _pars={_pars}\")"
   ]
  },
  {
   "cell_type": "markdown",
   "metadata": {
    "kernel": "SoS"
   },
   "source": [
    "If you would like to loop the process with several parameters, you can put them into the same level by 'var1,var2'. For example,"
   ]
  },
  {
   "cell_type": "code",
   "execution_count": 13,
   "metadata": {
    "kernel": "SoS"
   },
   "outputs": [
    {
     "name": "stdout",
     "output_type": "stream",
     "text": [
      "0: _input=file1 file2 _method=m1, _pars=1\n",
      "1: _input=file1 file2 _method=m2, _pars=2\n"
     ]
    }
   ],
   "source": [
    "%sandbox\n",
    "%run\n",
    "!touch file1 file2\n",
    "\n",
    "[0]\n",
    "method = ['m1', 'm2']\n",
    "pars = [1, 2]\n",
    "input: 'file1', 'file2', for_each=['method,pars']\n",
    "print(f\"{_index}: _input={_input} _method={_method}, _pars={_pars}\")"
   ]
  },
  {
   "cell_type": "markdown",
   "metadata": {
    "kernel": "SoS"
   },
   "source": [
    "The variable passed to option `for_each` can a sequence (`list`, `tuple`, `set`, etc), a Pandas `Series`, `Index`, or `DataFrame`. In the last case, each `_loop` variable presents a line in the dataframe and you can access single values using format `_loop[\"header\"]`. For example"
   ]
  },
  {
   "cell_type": "code",
   "execution_count": 14,
   "metadata": {
    "collapsed": true,
    "kernel": "SoS",
    "output_cache": "[]"
   },
   "outputs": [],
   "source": [
    "%sandbox\n",
    "%preview data\n",
    "%run\n",
    "[0]\n",
    "import pandas as pd\n",
    "data = pd.DataFrame([(1, 2, 'Hello'), (2, 4, 'World')], columns=['A', 'B', 'C'])\n",
    "input: for_each='data'\n",
    "output: f\"{_data['A']}_{_data['B']}_{_data['C']}.txt\"\n",
    "sh: expand=True\n",
    "    touch {_output}"
   ]
  },
  {
   "cell_type": "markdown",
   "metadata": {
    "kernel": "SoS"
   },
   "source": [
    "If you would like define your own loop variable, or if the default loop variable does not work (e.g. loop through `obj.sequence` where `_obj.sequence` is not a valid variable name), you can use a dictionary syntax in the format of `{'varname': sequence}`. Mult-variable and nested loops can be specified in the format of `{'var1': seq1, 'var2': seq2}` (same level) and `[{'var1': seq1}, {'var2': seq2}]`. \n",
    "\n",
    "For example, the first example for this parameter can be written as"
   ]
  },
  {
   "cell_type": "code",
   "execution_count": 15,
   "metadata": {
    "kernel": "SoS"
   },
   "outputs": [
    {
     "name": "stdout",
     "output_type": "stream",
     "text": [
      "0: file1 file2 m1\n",
      "1: file1 file2 m2\n"
     ]
    }
   ],
   "source": [
    "%sandbox\n",
    "!touch file1 file2\n",
    "\n",
    "input: 'file1', 'file2', for_each={'method': ['m1', 'm2']}\n",
    "print(f\"{_index}: {_input} {method}\")"
   ]
  },
  {
   "cell_type": "markdown",
   "metadata": {
    "kernel": "SoS"
   },
   "source": [
    "and a latter example can be written as"
   ]
  },
  {
   "cell_type": "code",
   "execution_count": 16,
   "metadata": {
    "kernel": "SoS",
    "output_cache": "[{\"text\":\"0: _input=file1 file2 method=m1, pars=1\\n1: _input=file1 file2 method=m2, pars=2\\n\",\"name\":\"stdout\",\"output_type\":\"stream\"}]"
   },
   "outputs": [
    {
     "name": "stdout",
     "output_type": "stream",
     "text": [
      "0: _input=file1 file2 method=m1, pars=1\n",
      "1: _input=file1 file2 method=m2, pars=2\n"
     ]
    }
   ],
   "source": [
    "%sandbox\n",
    "!touch file1 file2\n",
    "%run\n",
    "[0]\n",
    "input: 'file1', 'file2', for_each={'method': ['m1','m2'],\n",
    "                                   'pars': [1, 2]}\n",
    "print(f\"{_index}: _input={_input} method={method}, pars={pars}\")"
   ]
  },
  {
   "cell_type": "markdown",
   "metadata": {
    "kernel": "SoS",
    "output_cache": "[]"
   },
   "source": [
    "The dictionary syntax also supports multiple keys. This helps customizing groups of variables. For example in the script below we only care for situations where `n` is greater than `p`,  "
   ]
  },
  {
   "cell_type": "code",
   "execution_count": 17,
   "metadata": {
    "kernel": "SoS",
    "output_cache": "[]"
   },
   "outputs": [
    {
     "name": "stdout",
     "output_type": "stream",
     "text": [
      "0 1.txt 100 50\n",
      "1 2.txt 300 50\n",
      "2 3.txt 300 100\n",
      "3 4.txt 300 200\n"
     ]
    }
   ],
   "source": [
    "%sandbox\n",
    "!touch a.txt\n",
    "%run\n",
    "[1]\n",
    "import itertools\n",
    "parameter: n = [100, 300]\n",
    "parameter: p = [50, 100, 200]\n",
    "parameter: outfile = ['1.txt', '2.txt', '3.txt', '4.txt', '5.txt', '6.txt']\n",
    "input: 'a.txt', for_each= {'_n,_p': [(_n,_p) for _n in n for _p in p if _n > _p]}\n",
    "print(f\"{_index} {outfile[_index]} {_n} {_p}\")"
   ]
  },
  {
   "cell_type": "markdown",
   "metadata": {
    "kernel": "SoS"
   },
   "source": [
    "### Option `paired_with` <a id=\"Option_paired_with\"></a>"
   ]
  },
  {
   "cell_type": "markdown",
   "metadata": {
    "kernel": "SoS"
   },
   "source": [
    "Option `paired_with` pairs variables with step input (variable `step_input`) so that corresponding information is available for substeps (`_input`). For example,"
   ]
  },
  {
   "cell_type": "code",
   "execution_count": 18,
   "metadata": {
    "kernel": "SoS"
   },
   "outputs": [
    {
     "name": "stdout",
     "output_type": "stream",
     "text": [
      "0: _input=case/A1.bam _mutated=['case'], _sample_name=['A1']\n",
      "1: _input=case/A2.bam _mutated=['case'], _sample_name=['A2']\n",
      "2: _input=ctrl/A1.bam _mutated=['ctrl'], _sample_name=['A1']\n",
      "3: _input=ctrl/A2.bam _mutated=['ctrl'], _sample_name=['A2']\n"
     ]
    }
   ],
   "source": [
    "%sandbox\n",
    "!mkdir case ctrl\n",
    "!touch case/A1.bam case/A2.bam ctrl/A1.bam ctrl/A2.bam\n",
    "\n",
    "bam_files = ['case/A1.bam', 'case/A2.bam', 'ctrl/A1.bam', 'ctrl/A2.bam']\n",
    "mutated = ['case', 'case', 'ctrl', 'ctrl']\n",
    "sample_name = ['A1', 'A2', 'A1', 'A2']\n",
    "\n",
    "input: bam_files, paired_with=['mutated', 'sample_name'], group_by=1\n",
    "print(f\"{_index}: _input={_input} _mutated={_mutated}, _sample_name={_sample_name}\")"
   ]
  },
  {
   "cell_type": "markdown",
   "metadata": {
    "kernel": "SoS"
   },
   "source": [
    "The paired varaibles stay with the input files, so we get different paired variables with different grouping method"
   ]
  },
  {
   "cell_type": "code",
   "execution_count": 19,
   "metadata": {
    "kernel": "SoS",
    "output_cache": "[{\"name\":\"stdout\",\"output_type\":\"stream\",\"text\":\"0: _input=case/A1.bam ctrl/A1.bam _mutated=case ctrl, _sample_name=A1 A1\\n1: _input=case/A2.bam ctrl/A2.bam _mutated=case ctrl, _sample_name=A2 A2\\n\"}]"
   },
   "outputs": [
    {
     "name": "stdout",
     "output_type": "stream",
     "text": [
      "0: _input=case/A1.bam ctrl/A1.bam _mutated=['case', 'ctrl'], _sample_name=['A1', 'A1']\n",
      "1: _input=case/A2.bam ctrl/A2.bam _mutated=['case', 'ctrl'], _sample_name=['A2', 'A2']\n"
     ]
    }
   ],
   "source": [
    "%sandbox\n",
    "!mkdir case ctrl\n",
    "!touch case/A1.bam case/A2.bam ctrl/A1.bam ctrl/A2.bam\n",
    "\n",
    "bam_files = ['case/A1.bam', 'case/A2.bam', 'ctrl/A1.bam', 'ctrl/A2.bam']\n",
    "mutated = ['case', 'case', 'ctrl', 'ctrl']\n",
    "sample_name = ['A1', 'A2', 'A1', 'A2']\n",
    "\n",
    "input: bam_files, paired_with=['mutated', 'sample_name'], group_by='pairs'\n",
    "print(f\"{_index}: _input={_input} _mutated={_mutated}, _sample_name={_sample_name}\")"
   ]
  },
  {
   "cell_type": "markdown",
   "metadata": {
    "kernel": "SoS"
   },
   "source": [
    "Values to option `paired_with` are usually lists of the same length as `step_input` but it can also be other types such as `paths` and `sos_targets`, in this case the iterator variables (e.g. `_mutated` for `mutated`) will have the same type as the input variable. For example, "
   ]
  },
  {
   "cell_type": "code",
   "execution_count": 3,
   "metadata": {
    "kernel": "SoS"
   },
   "outputs": [
    {
     "name": "stdout",
     "output_type": "stream",
     "text": [
      "Pair 1.ann 2.ann of type paths with 1.txt 2.txt\n",
      "Pair 2.ann 3.ann of type paths with 2.txt 3.txt\n"
     ]
    }
   ],
   "source": [
    "%sandbox\n",
    "!touch 1.txt 2.txt 3.txt\n",
    "\n",
    "anno = paths('1.ann', '2.ann', '3.ann')\n",
    "input: '1.txt', '2.txt', '3.txt', group_by='pairwise',\n",
    "       paired_with='anno'\n",
    "sh: expand=True\n",
    "  echo 'Pair {_anno} of type {type(_anno).__name__} with {_input}'"
   ]
  },
  {
   "cell_type": "markdown",
   "metadata": {
    "kernel": "SoS"
   },
   "source": [
    "In case that the variable you would like to pair has a name with `.` (e.g. `align.output` for which name of looping variable `_align.outpu` is invalid) or if you would like to control the name of the looping variable, you can use the full format of this parameter `{var_name: var_value}`. "
   ]
  },
  {
   "cell_type": "code",
   "execution_count": 20,
   "metadata": {
    "kernel": "SoS",
    "output_cache": "[{\"output_type\":\"stream\",\"text\":\"0: _input=case/A1.bam mutated=case, sample_name=A1\\n1: _input=case/A2.bam mutated=case, sample_name=A2\\n2: _input=ctrl/A1.bam mutated=ctrl, sample_name=A1\\n3: _input=ctrl/A2.bam mutated=ctrl, sample_name=A2\\n\",\"name\":\"stdout\"}]"
   },
   "outputs": [
    {
     "name": "stdout",
     "output_type": "stream",
     "text": [
      "0: _input=case/A1.bam mutated=['case'], sample_name=['A1']\n",
      "1: _input=case/A2.bam mutated=['case'], sample_name=['A2']\n",
      "2: _input=ctrl/A1.bam mutated=['ctrl'], sample_name=['A1']\n",
      "3: _input=ctrl/A2.bam mutated=['ctrl'], sample_name=['A2']\n"
     ]
    }
   ],
   "source": [
    "%sandbox\n",
    "!mkdir case ctrl\n",
    "!touch case/A1.bam case/A2.bam ctrl/A1.bam ctrl/A2.bam\n",
    "\n",
    "bam_files = ['case/A1.bam', 'case/A2.bam', 'ctrl/A1.bam', 'ctrl/A2.bam']\n",
    "input: bam_files, paired_with={\n",
    "    'mutated': ['case', 'case', 'ctrl', 'ctrl'],\n",
    "    'sample_name': ['A1', 'A2', 'A1', 'A2']\n",
    "    }, group_by=1\n",
    "print(f\"{_index}: _input={_input} mutated={mutated}, sample_name={sample_name}\")"
   ]
  },
  {
   "cell_type": "markdown",
   "metadata": {
    "kernel": "SoS"
   },
   "source": [
    "### Option `group_with` <a id=\"Option_group_with\"></a>"
   ]
  },
  {
   "cell_type": "markdown",
   "metadata": {
    "kernel": "SoS"
   },
   "source": [
    "Similar to option `paired_with` that associate variables to input files, you could associate items of a sequence with each substep. This option is applied after `group_by` and before `for_each`, which means the length of the sequence should equal to the number of substeps. and the variables will be the same for each `for_each` loop. Also similar to option `paired_with`, option `group_with` can take a string (name of variable) or a dictionary.\n",
    "\n",
    "Using the above example, you can assign a label for each group by passing name of a sequence variable"
   ]
  },
  {
   "cell_type": "code",
   "execution_count": 21,
   "metadata": {
    "kernel": "SoS"
   },
   "outputs": [
    {
     "name": "stdout",
     "output_type": "stream",
     "text": [
      "0: _input=case/A1.bam case/A2.bam _mutated=case\n",
      "1: _input=ctrl/A1.bam ctrl/A2.bam _mutated=ctrl\n"
     ]
    }
   ],
   "source": [
    "%sandbox\n",
    "!mkdir case ctrl\n",
    "!touch case/A1.bam case/A2.bam ctrl/A1.bam ctrl/A2.bam\n",
    "\n",
    "mutated = ['case', 'ctrl']\n",
    "bam_files = ['case/A1.bam', 'case/A2.bam', 'ctrl/A1.bam', 'ctrl/A2.bam']\n",
    "input: bam_files, group_by=2, group_with='mutated'\n",
    "print(f\"{_index}: _input={_input} _mutated={_mutated}\")"
   ]
  },
  {
   "cell_type": "markdown",
   "metadata": {
    "kernel": "SoS"
   },
   "source": [
    "or a dictionary with variable name and values:"
   ]
  },
  {
   "cell_type": "code",
   "execution_count": 22,
   "metadata": {
    "kernel": "SoS"
   },
   "outputs": [
    {
     "name": "stdout",
     "output_type": "stream",
     "text": [
      "0: _input=case/A1.bam case/A2.bam mutated=case\n",
      "1: _input=ctrl/A1.bam ctrl/A2.bam mutated=ctrl\n"
     ]
    }
   ],
   "source": [
    "%sandbox\n",
    "!mkdir case ctrl\n",
    "!touch case/A1.bam case/A2.bam ctrl/A1.bam ctrl/A2.bam\n",
    "\n",
    "bam_files = ['case/A1.bam', 'case/A2.bam', 'ctrl/A1.bam', 'ctrl/A2.bam']\n",
    "input: bam_files, group_by=2, group_with={'mutated': ['case', 'ctrl']}\n",
    "print(f\"{_index}: _input={_input} mutated={mutated}\")"
   ]
  },
  {
   "cell_type": "markdown",
   "metadata": {
    "kernel": "SoS"
   },
   "source": [
    "### Option `pattern` <a id=\"Option_pattern\"></a>"
   ]
  },
  {
   "cell_type": "markdown",
   "metadata": {
    "kernel": "SoS"
   },
   "source": [
    "This option does the reverse of function `expand_pattern`. It uses named wildcards to match pattern to all input files, and creates step variables for these wildcard objects. For example,"
   ]
  },
  {
   "cell_type": "code",
   "execution_count": 23,
   "metadata": {
    "kernel": "SoS"
   },
   "outputs": [
    {
     "name": "stdout",
     "output_type": "stream",
     "text": [
      "a-processed-20.txt b-processed-10.txt\r\n"
     ]
    }
   ],
   "source": [
    "%sandbox\n",
    "!touch a-20.txt b-10.txt\n",
    "%run\n",
    "[step]\n",
    "input:  'a-20.txt', 'b-10.txt', pattern = '{name}-{par}.txt'\n",
    "output: expand_pattern(\"{name}-processed-{par}.txt\")\n",
    "sh: expand=True\n",
    "    echo {_output}\n",
    "    touch {_output}"
   ]
  },
  {
   "cell_type": "markdown",
   "metadata": {
    "kernel": "SoS"
   },
   "source": [
    "will take all input files and extract `name` and `par` from each file name as variables `name` and `par`. It is then used to create output file names adding the word `processed` in between these wildcard objects. The outcome of the SoS script above is creation of files `a-processed-10.txt` and `b-processed-20.txt`."
   ]
  },
  {
   "cell_type": "markdown",
   "metadata": {
    "kernel": "SoS"
   },
   "source": [
    "When wildcard objects are accessed as step variables, both variable names with and without `_` prefix is available, e.g. in this example, both `_name` and `name`, `_par` and `par` are avaiable and are the same. The two conventions will only differ when `group_by` or `for_each` is also used. In which case the generated pattern variables `name` and `par` are automatically paired with `input` as if they have been paired using option `paired_with=['name', 'par']`."
   ]
  },
  {
   "cell_type": "code",
   "execution_count": 24,
   "metadata": {
    "kernel": "SoS"
   },
   "outputs": [
    {
     "name": "stdout",
     "output_type": "stream",
     "text": [
      "a-processed-20.txt\n",
      "b-processed-10.txt\n"
     ]
    }
   ],
   "source": [
    "%sandbox\n",
    "!touch a-20.txt b-10.txt\n",
    "%run\n",
    "[step]\n",
    "input:  'a-20.txt', 'b-10.txt', pattern = '{name}-{par}.txt', group_by=1\n",
    "output: expand_pattern(\"{_name}-processed-{_par}.txt\")\n",
    "sh: expand=True\n",
    "    echo {_output}\n",
    "    touch {_output}"
   ]
  },
  {
   "cell_type": "markdown",
   "metadata": {
    "kernel": "SoS"
   },
   "source": [
    "### Option `concurrent` <a id=\"Option_concurrent\"></a>"
   ]
  },
  {
   "cell_type": "markdown",
   "metadata": {
    "kernel": "SoS"
   },
   "source": [
    "Substeps of a step are by default executed sequentially with potential dependencies. For example,"
   ]
  },
  {
   "cell_type": "code",
   "execution_count": 6,
   "metadata": {
    "kernel": "SoS"
   },
   "outputs": [
    {
     "name": "stdout",
     "output_type": "stream",
     "text": [
      "sum is 0 at index 0\n",
      "sum is 1 at index 1\n",
      "sum is 3 at index 2\n",
      "sum is 6 at index 3\n"
     ]
    }
   ],
   "source": [
    "sum = 0\n",
    "input: for_each={'i': range(4)}\n",
    "sum += i\n",
    "print(f'sum is {sum} at index {_index}')"
   ]
  },
  {
   "cell_type": "markdown",
   "metadata": {
    "kernel": "SoS"
   },
   "source": [
    "However, if substeps are independent, you can use option `concurrent=True` to execute substeps in parallel. As you can see from the following example, all substeps starts with `sum=0` and are executed in parallel."
   ]
  },
  {
   "cell_type": "code",
   "execution_count": 7,
   "metadata": {
    "kernel": "SoS"
   },
   "outputs": [
    {
     "name": "stdout",
     "output_type": "stream",
     "text": [
      "sum is 0 at index 0, completed in 4.0 seconds\n",
      "sum is 1 at index 1, completed in 3.0 seconds\n",
      "sum is 2 at index 2, completed in 2.0 seconds\n",
      "sum is 3 at index 3, completed in 1.0 seconds\n"
     ]
    }
   ],
   "source": [
    "sum = 0\n",
    "import time\n",
    "start_time = time.time()\n",
    "input: for_each={'i': range(4)}, concurrent=True\n",
    "sum += i\n",
    "time.sleep(4-i)\n",
    "print(f'sum is {sum} at index {_index}, completed in {time.time() - start_time:.1f} seconds')"
   ]
  },
  {
   "cell_type": "markdown",
   "metadata": {
    "kernel": "SoS"
   },
   "source": [
    "Note that `concurrent=True` is ignored if a step contains `task` because tasks will be executed in parallel anyway."
   ]
  },
  {
   "cell_type": "markdown",
   "metadata": {
    "kernel": "SoS"
   },
   "source": [
    "### `dynamic` input files"
   ]
  },
  {
   "cell_type": "markdown",
   "metadata": {
    "kernel": "SoS"
   },
   "source": [
    "In order to determine the best execution strategy, SoS evaluates all expressions for all steps before the execution of a workflow to figure\n",
    "out input and output of steps. This works most of the time but sometimes the input of a step can only be determined at runtime. For example,\n",
    "if you would like your workflow to automatically scan an input directory and process all fasta files under it, or if a previous step produces\n",
    "files that cannot be determined beforehand, you can specify input files as follows,\n",
    "\n",
    "```python\n",
    "input: 'input/*.fasta'\n",
    "```\n",
    "\n",
    "The problem is that no file or a wrong set files might exist during the planing stage so SoS might skip this step or start the step\n",
    "with a wrong set of files. To address this problem, you can declare the input files as **dynamic** by passing a `dynamic` object\n",
    "\n",
    "```python\n",
    "input: dynamic('input/*.fasta')\n",
    "```\n",
    "\n",
    "This tells SoS that the input of this step can only be determined at runtime and will execute the step only after all its previous\n",
    "steps have been completed."
   ]
  },
  {
   "cell_type": "markdown",
   "metadata": {
    "kernel": "SoS"
   },
   "source": [
    "### Summary\n",
    "\n",
    "Options of step `input` are evaluated in the following orders:\n",
    "\n",
    "1. A list of input files, if specified, would replace `input`, which is by default output from the previous step.\n",
    "2. Option `group_by` groups the files into several groups, named `_input`\n",
    "3. Option `for_each` repeat `_input` for each loop var, named `_loopvar` if `for_each='loopvar'`.\n",
    "4. Option `paired_with` pairs one or more variables with `input`, variable `paired` is paired with `input`\n",
    "    and variable `_paired` is paired with `_input` in each loop if `paired_with='paired'`\n",
    "5. Option `pattern` extract variables from filenames in `input`. Variable `extracted` is paired with `input`\n",
    "    and variable `_extracted` is paired with `_input` in each loop if `extract='{extracted}_other_part'`.\n",
    "\n",
    "The differences between looped and non-loop steps are sumarized in the following figure\n",
    "\n",
    "![step_loop](../media/step_loop.jpg)"
   ]
  },
  {
   "cell_type": "markdown",
   "metadata": {
    "kernel": "SoS"
   },
   "source": [
    "## Step output <a id=\"Step_output\"></a>"
   ]
  },
  {
   "cell_type": "markdown",
   "metadata": {
    "kernel": "SoS"
   },
   "source": [
    "### Output files <a id=\"Output_files\"></a>"
   ]
  },
  {
   "cell_type": "markdown",
   "metadata": {
    "kernel": "SoS"
   },
   "source": [
    "Output files of a step can be specified by step `output`. Similar to `input`, step output accepts strings, variables, expressions, and allows wildcard characters. For example, the following are acceptable output files\n",
    "\n",
    "```python\n",
    "output:  []\n",
    "\n",
    "output:  'accepted_hits.bam'\n",
    "\n",
    "output:  aligned_reads, bam_stats\n",
    "\n",
    "output:  'aligned/*.bam'\n",
    "\n",
    "output:  expand_pattern('aligned_{samples}.bam')\n",
    "```\n",
    "\n",
    "In the last example, function `expand_pattern` is used to contruct list of files from items of a sequence `samples`."
   ]
  },
  {
   "cell_type": "markdown",
   "metadata": {
    "kernel": "SoS"
   },
   "source": [
    "Step process could be repeated multiple times with **substeps** defined by options `for_each` or `group_by`. Whereas `input` represents the complete set of input files, each substep has its own input files stored in variable `_input`.\n",
    "\n",
    "When there is no substep, `output` and `_output` are the same. Otherwise, the `output:` statement produces `_output` for each substep, and `_output` for all substeps form `output` after the completion of all substeps.\n",
    "\n",
    "For example, the following step accepts one or more bam files and index them using command `samtools index`. The input files are passed one by one and output from each substep is determined by `_input`. \n",
    "\n",
    "```python\n",
    "[10]\n",
    "input:\n",
    "\tbamfiles, group_by='single'\n",
    "\n",
    "output:\n",
    "\tf'{_input}.bai'\n",
    "\n",
    "run(f'''samtools index {_input} ''')\n",
    "```\n",
    "\n",
    "The use of variable `output` in this scenario is discouraged because `output`, as the collection of all `_output` increases with each substep."
   ]
  },
  {
   "cell_type": "markdown",
   "metadata": {
    "kernel": "SoS"
   },
   "source": [
    "Specifying output of the entire step when there are multiple substeps can lead to error. For example,\n",
    "\n",
    "```python\n",
    "[10]\n",
    "input:\n",
    "\tbamfiles, group_by=1\n",
    "\n",
    "output:\n",
    "\toutput: [x + '.bai' for x in bamfiles]\n",
    "\n",
    "task:\n",
    "run(f'''samtools index {_input} ''')\n",
    "```\n",
    "\n",
    "will fail because tasks in this step produce the same set of output files (equal `_output` for all substeps), and none of the task produces all specified output files.\n"
   ]
  },
  {
   "cell_type": "markdown",
   "metadata": {
    "kernel": "SoS"
   },
   "source": [
    "### Option `group_by` <a id=\"Option_group_by\"></a>"
   ]
  },
  {
   "cell_type": "markdown",
   "metadata": {
    "kernel": "SoS"
   },
   "source": [
    "As we have explained above, `_output` of an substep should be determined from `_input`. However, there are cases that `input` and `output` are pre-determined and it is not easy to derive `_output` from `_input`. In this case, option `group_by` could be used to divide specified outputs for each substep.\n",
    "\n",
    "For example, the above example would work with a `group_by` output option\n",
    "\n",
    "```python\n",
    "[10]\n",
    "input:\n",
    "\tbamfiles, group_by=1\n",
    "\n",
    "output:\n",
    "\toutput: [x + '.bai' for x in bamfiles], group_by=1\n",
    "\n",
    "task:\n",
    "run(f'''samtools index {_input} ''')\n",
    "```\n"
   ]
  },
  {
   "cell_type": "markdown",
   "metadata": {
    "kernel": "SoS"
   },
   "source": [
    "### `dynamic` output files\n",
    "\n",
    "Similar to the cases with [dynamic input files](#dynamically-determined-input-files-function-dynamic), the output of some steps could also not be determined beforehand. For example, with the following script that generates `html` files that cannot be determined during dry run, "
   ]
  },
  {
   "cell_type": "code",
   "execution_count": 25,
   "metadata": {
    "kernel": "sos"
   },
   "outputs": [
    {
     "name": "stdout",
     "output_type": "stream",
     "text": [
      "touch result_16.html\n",
      "touch result_10.html\n"
     ]
    },
    {
     "name": "stderr",
     "output_type": "stream",
     "text": [
      "\u001b[95mWARNING\u001b[0m: \u001b[95mFailed to create signature: output target *.html does not exist\u001b[0m\n",
      "Output target *.html does not exist after the completion of step default_10\n"
     ]
    }
   ],
   "source": [
    "%sandbox --expect-error\n",
    "%run\n",
    "[10]\n",
    "output: '*.html'\n",
    "\n",
    "import random\n",
    "for i in range(2):\n",
    "    run(f\"touch result_{random.randint(1, 20)}.html\")"
   ]
  },
  {
   "cell_type": "markdown",
   "metadata": {
    "kernel": "SoS"
   },
   "source": [
    "In this case, you will need to define the output as `dynamic` using a `dynamic` function."
   ]
  },
  {
   "cell_type": "code",
   "execution_count": 26,
   "metadata": {
    "kernel": "SoS"
   },
   "outputs": [
    {
     "name": "stdout",
     "output_type": "stream",
     "text": [
      "touch result_15.html\n",
      "touch result_7.html\n"
     ]
    }
   ],
   "source": [
    "%sandbox\n",
    "%run\n",
    "[10]\n",
    "output: dynamic('*.html')\n",
    "\n",
    "import random\n",
    "for i in range(2):\n",
    "    run(f\"touch result_{random.randint(1, 20)}.html\")\n"
   ]
  },
  {
   "cell_type": "markdown",
   "metadata": {
    "kernel": "SoS"
   },
   "source": [
    "In this case, SoS knows that the output can only be determined after the completion of the step."
   ]
  },
  {
   "cell_type": "markdown",
   "metadata": {
    "kernel": "SoS"
   },
   "source": [
    "## Step depends <a id=\"Step_depends\"></a>"
   ]
  },
  {
   "cell_type": "markdown",
   "metadata": {
    "kernel": "SoS"
   },
   "source": [
    "This item specifies files that are required for the step. Although not required, it is a good practice to list resource files and other dependency files for a particular step. For example\n",
    "\n",
    "```python\n",
    "[10]\n",
    "input: fasta_files\n",
    "depends: reference_seq, executable('fastqc')\n",
    "```\n",
    "\n",
    "Similar to `output` options, dependent files can also be defined after `input` options and consist of dependent files determined from loop variables. "
   ]
  },
  {
   "cell_type": "markdown",
   "metadata": {
    "kernel": "SoS"
   },
   "source": [
    "The following figure summarizes the effect of `input` and `output` options and input options `group_by` and `for_each` on the flow\n",
    "of input and output files and related variables.\n",
    "\n",
    "![Step options](../media/step_options.jpg)"
   ]
  },
  {
   "cell_type": "markdown",
   "metadata": {
    "kernel": "SoS"
   },
   "source": [
    "## Step process <a id=\"Step_process\"></a>"
   ]
  },
  {
   "cell_type": "markdown",
   "metadata": {
    "kernel": "SoS"
   },
   "source": [
    "A step process is the Python statements that perform certain tasks and produce step output from step input. A step process can contain arbitrary Python statements. For example,"
   ]
  },
  {
   "cell_type": "code",
   "execution_count": 27,
   "metadata": {
    "collapsed": true,
    "kernel": "SoS"
   },
   "outputs": [],
   "source": [
    "%sandbox\n",
    "%run\n",
    "[10]\n",
    "output: 'a.txt'\n",
    "with open(_output[0], 'w') as dest:\n",
    "   dest.write('some text')"
   ]
  },
  {
   "cell_type": "markdown",
   "metadata": {
    "kernel": "SoS"
   },
   "source": [
    "and"
   ]
  },
  {
   "cell_type": "code",
   "execution_count": 28,
   "metadata": {
    "collapsed": true,
    "kernel": "SoS"
   },
   "outputs": [],
   "source": [
    "%sandbox\n",
    "%run\n",
    "[10]\n",
    "output: 'a.txt'\n",
    "sh: expand=True\n",
    "    echo \"some text\" > {_output:q}"
   ]
  },
  {
   "cell_type": "markdown",
   "metadata": {
    "kernel": "SoS"
   },
   "source": [
    "use inline (interpreted and executed by SoS) python code or shell script to generate `a.txt`. "
   ]
  },
  {
   "cell_type": "markdown",
   "metadata": {
    "kernel": "SoS"
   },
   "source": [
    "Step processes are executed within SoS and are executed sequentially. However, part or all of the step process can be executed externally and potentially in parallel as step `task`. This will be covered in detail in section [External task](External_task.html)."
   ]
  }
 ],
 "metadata": {
  "anaconda-cloud": {},
  "kernelspec": {
   "display_name": "SoS",
   "language": "sos",
   "name": "sos"
  },
  "language_info": {
   "codemirror_mode": "sos",
   "file_extension": ".sos",
   "mimetype": "text/x-sos",
   "name": "sos",
   "nbconvert_exporter": "sos_notebook.converter.SoS_Exporter",
   "pygments_lexer": "sos"
  },
  "sos": {
   "celltoolbar": true,
   "default_kernel": "SoS",
   "kernels": [
    [
     "SoS",
     "sos",
     "",
     ""
    ],
    [
     "SoS",
     "sos",
     "",
     ""
    ]
   ],
   "panel": {
    "displayed": true,
    "height": 0,
    "style": "side"
   },
   "version": "0.16.13"
  },
  "toc": {
   "colors": {
    "hover_highlight": "#DAA520",
    "running_highlight": "#FF0000",
    "selected_highlight": "#FFD700"
   },
   "moveMenuLeft": true,
   "nav_menu": {
    "height": "488px",
    "width": "254px"
   },
   "navigate_menu": true,
   "number_sections": true,
   "sideBar": true,
   "threshold": 4,
   "toc_cell": false,
   "toc_section_display": "block",
   "toc_window_display": true
  }
 },
 "nbformat": 4,
 "nbformat_minor": 1
}
