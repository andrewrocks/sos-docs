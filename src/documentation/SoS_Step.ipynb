{
 "cells": [
  {
   "cell_type": "markdown",
   "metadata": {
    "kernel": "SoS"
   },
   "source": [
    "# Step definition"
   ]
  },
  {
   "cell_type": "markdown",
   "metadata": {
    "kernel": "SoS",
    "workflow_cell": true
   },
   "source": [
    "SoS steps are building blocks of SoS workflows. Although the input and output can be more general, each step typically has its **input**, **output**, and **dependents** files, it executes a **step process** that consists of one or more Python statements and SoS actions (special python functions). Part or all the step process, called **tasks**, can be executed and monitored externally.\n",
    "\n",
    "![sos_step](../media/sos_step.png)\n"
   ]
  },
  {
   "cell_type": "markdown",
   "metadata": {
    "kernel": "SoS"
   },
   "source": [
    "## Step variables"
   ]
  },
  {
   "cell_type": "markdown",
   "metadata": {
    "kernel": "SoS"
   },
   "source": [
    "SoS defines multiple variables during the execution of a step. The first type of variables provides information about the step, which includes\n",
    "\n",
    "* **`step_name`**: name of the step\n",
    "* **`step_id`**: Hash ID of the step, which is determined by the content of the step\n",
    "* **`workflow_id`**: Hash ID of the workflow in which the step is defined. It would be the ID of the nested workflow if the workflow is nested.\n",
    "* **`master_id`**: Hash ID of the entire workflow, regardless if the step is defined in a nested workflow.\n",
    "\n",
    "For example, in the following example, two steps have different step names, step IDs, and workflow IDs because `nested` is a nested workflow, but they share the same `master_id`, which equals to `workflow_id` of the outermost workflow.  "
   ]
  },
  {
   "cell_type": "code",
   "execution_count": 1,
   "metadata": {
    "kernel": "SoS"
   },
   "outputs": [
    {
     "name": "stdout",
     "output_type": "stream",
     "text": [
      "Workflow 1663b815c3bed9f2: step name=default_0\n",
      "Workflow 1663b815c3bed9f2: step id=950015e2ddfc10d4\n",
      "Workflow 1663b815c3bed9f2: workflow id=1663b815c3bed9f2\n",
      "Workflow 1663b815c3bed9f2: master id=1663b815c3bed9f2\n",
      "Workflow fecfb67fda2f92df: step name=nested_0\n",
      "Workflow fecfb67fda2f92df: step id=74bf81da4f5098aa\n",
      "Workflow fecfb67fda2f92df: workflow id=fecfb67fda2f92df\n",
      "Workflow fecfb67fda2f92df: master id=1663b815c3bed9f2\n"
     ]
    }
   ],
   "source": [
    "%run\n",
    "[nested]\n",
    "print(f'Workflow {workflow_id}: step name={step_name}')\n",
    "print(f'Workflow {workflow_id}: step id={step_id}')\n",
    "print(f'Workflow {workflow_id}: workflow id={workflow_id}')\n",
    "print(f'Workflow {workflow_id}: master id={master_id}')\n",
    "\n",
    "[default]\n",
    "print(f'Workflow {workflow_id}: step name={step_name}')\n",
    "print(f'Workflow {workflow_id}: step id={step_id}')\n",
    "print(f'Workflow {workflow_id}: workflow id={workflow_id}')\n",
    "print(f'Workflow {workflow_id}: master id={master_id}')\n",
    "sos_run('nested')"
   ]
  },
  {
   "cell_type": "markdown",
   "metadata": {
    "kernel": "SoS"
   },
   "source": [
    "These variables can be useful, for example, to save runtime information, as in the example of"
   ]
  },
  {
   "cell_type": "code",
   "execution_count": 8,
   "metadata": {
    "kernel": "SoS"
   },
   "outputs": [
    {
     "data": {
      "text/html": [
       "<div class=\"sos_hint\">> default_10.log (49 B):</div>"
      ],
      "text/plain": [
       "\n",
       "> default_10.log (49 B):"
      ]
     },
     "metadata": {},
     "output_type": "display_data"
    },
    {
     "name": "stdout",
     "output_type": "stream",
     "text": [
      "Step specific log message saved in default_10.log"
     ]
    }
   ],
   "source": [
    "%preview -n default_10.log\n",
    "%run \n",
    "\n",
    "[10]\n",
    "with open(step_name + '.log', 'w') as log:\n",
    "    log.write(f'Step specific log message saved in {step_name}.log')"
   ]
  },
  {
   "cell_type": "markdown",
   "metadata": {
    "kernel": "SoS"
   },
   "source": [
    "If a section defines multiple steps, the step variables can be used to define (slightly) different steps according to which step is executing. For example,"
   ]
  },
  {
   "cell_type": "code",
   "execution_count": 9,
   "metadata": {
    "kernel": "SoS"
   },
   "outputs": [
    {
     "name": "stdout",
     "output_type": "stream",
     "text": [
      "I am dealing with human\n"
     ]
    }
   ],
   "source": [
    "%run human\n",
    "\n",
    "[human_10, mouse_10]\n",
    "if 'human' in step_name:\n",
    "   print(\"I am dealing with human\")\n",
    "else:\n",
    "   print(\"I am dealing with mouse\")\n"
   ]
  },
  {
   "cell_type": "markdown",
   "metadata": {
    "kernel": "SoS"
   },
   "source": [
    "The second type of variables are step input, output, and dependent targets. They are of type `sos_targets` and will be explained later. "
   ]
  },
  {
   "cell_type": "markdown",
   "metadata": {
    "kernel": "SoS"
   },
   "source": [
    "## Step options <a id=\"Step_options\"></a>"
   ]
  },
  {
   "cell_type": "markdown",
   "metadata": {
    "kernel": "SoS"
   },
   "source": [
    "**Step options** are specified after step name that assists the specification of workflows. SoS provides the following options"
   ]
  },
  {
   "cell_type": "markdown",
   "metadata": {
    "kernel": "SoS",
    "workflow_cell": true
   },
   "source": [
    "### Option `skip`\n",
    " <a id=\"Option_skip\"></a>\n",
    "Option `skip` takes two formats, the first format has no value\n",
    "\n",
    "```\n",
    "[10: skip]\n",
    "```\n",
    "\n",
    "and is equivalent to\n",
    "\n",
    "```\n",
    "[10: skip=True]\n",
    "```\n",
    "\n",
    "The whole step will be skipped as if it is not defined at all in the script. This option provides a quick method to disable a step."
   ]
  },
  {
   "cell_type": "markdown",
   "metadata": {
    "kernel": "SoS"
   },
   "source": [
    "The second format takes a value, which is usually an expression that will be evaluated when the step is executed. For example, step 10 is by default executed by default"
   ]
  },
  {
   "cell_type": "code",
   "execution_count": 1,
   "metadata": {
    "kernel": "SoS",
    "workflow_cell": true
   },
   "outputs": [
    {
     "name": "stdout",
     "output_type": "stream",
     "text": [
      "default_10 is executed\n"
     ]
    }
   ],
   "source": [
    "%run\n",
    "parameter: qc = True\n",
    "[10 (quality check): skip=not qc]\n",
    "print(f\"{step_name} is executed\")"
   ]
  },
  {
   "cell_type": "markdown",
   "metadata": {
    "kernel": "SoS",
    "workflow_cell": true
   },
   "source": [
    "but will not be executed if the workflow is executed with option `--no-qc` (for `qc=False`)"
   ]
  },
  {
   "cell_type": "code",
   "execution_count": 2,
   "metadata": {
    "kernel": "SoS",
    "workflow_cell": true
   },
   "outputs": [
    {
     "name": "stderr",
     "output_type": "stream",
     "text": [
      "INFO: \u001b[32mquality check\u001b[0m is \u001b[32mignored\u001b[0m due to skip option.\n"
     ]
    }
   ],
   "source": [
    "%run --no-qc\n",
    "parameter: qc = True\n",
    "[10 (quality check): skip=not qc]\n",
    "print(f\"{step_name} is executed\")"
   ]
  },
  {
   "cell_type": "markdown",
   "metadata": {
    "kernel": "SoS"
   },
   "source": [
    "### Option `sigil`\n",
    " <a id=\"Option_sigil\"></a>\n",
    "Option `sigil` accepts a string for an alternative sigil, or `None` to disable string interpolation in the step. The sigil must be two strings separated by a space, such as `%( )`, `< >`, and `#{ }`. Sigils with equal left and right symbol such as `# #` can be used although they do not support features such as nested interpolation. Please refer to section [SoS Syntax](SoS_Syntax.html) for details of this option."
   ]
  },
  {
   "cell_type": "markdown",
   "metadata": {
    "kernel": "SoS"
   },
   "source": [
    "### Option `shared` <a id=\"Option_shared\"></a>"
   ]
  },
  {
   "cell_type": "markdown",
   "metadata": {
    "kernel": "SoS"
   },
   "source": [
    "SoS executes each step in a separate process and by default does not return any result to the master SoS process. Option `shared` is used to share variables between steps. This option accepts:\n",
    "\n",
    "* A string (variable name), or\n",
    "* A map between variable names and expressions (strings) that will be evaluated upon the completion of the step.\n",
    "* A sequence of strings (variables) or maps.\n",
    "\n",
    "For example,"
   ]
  },
  {
   "cell_type": "code",
   "execution_count": 1,
   "metadata": {
    "kernel": "SoS"
   },
   "outputs": [
    {
     "name": "stdout",
     "output_type": "stream",
     "text": [
      "100\n"
     ]
    }
   ],
   "source": [
    "%run\n",
    "[10: shared='myvar']\n",
    "myvar = 100\n",
    "\n",
    "[20]\n",
    "print(myvar)"
   ]
  },
  {
   "cell_type": "markdown",
   "metadata": {
    "kernel": "SoS"
   },
   "source": [
    "A map syntax is recommended to share `step_output` of one step with others, because the variable assignment will be evaluated only after the step is complete:"
   ]
  },
  {
   "cell_type": "code",
   "execution_count": 2,
   "metadata": {
    "kernel": "SoS"
   },
   "outputs": [
    {
     "name": "stdout",
     "output_type": "stream",
     "text": [
      "Input file a.txt\n"
     ]
    }
   ],
   "source": [
    "%sandbox\n",
    "%run\n",
    "[1: shared = {'test_output': 'step_output'}]\n",
    "output: 'a.txt'\n",
    "sh:\n",
    "    touch a.txt\n",
    "[2]\n",
    "print(f\"Input file {test_output}\")\n",
    "input: test_output"
   ]
  },
  {
   "cell_type": "markdown",
   "metadata": {
    "kernel": "SoS"
   },
   "source": [
    "The map syntax is evaluated as expressions; therefore it is possible to finer control what specific output, or variations of output, to share with others. For example:"
   ]
  },
  {
   "cell_type": "code",
   "execution_count": 3,
   "metadata": {
    "kernel": "SoS"
   },
   "outputs": [
    {
     "name": "stdout",
     "output_type": "stream",
     "text": [
      "output 1: a.txt\n",
      "output 2: b.txt\n"
     ]
    }
   ],
   "source": [
    "%sandbox\n",
    "%run\n",
    "[1: shared={'test_output_1':'step_output[0]', 'test_output_2': 'step_output[1]'}]\n",
    "output: 'a.txt', 'b.txt'\n",
    "sh:\n",
    "    touch a.txt b.txt\n",
    "[2]\n",
    "print(f\"output 1: {test_output_1}\")\n",
    "print(f\"output 2: {test_output_2}\")"
   ]
  },
  {
   "cell_type": "markdown",
   "metadata": {
    "kernel": "SoS"
   },
   "source": [
    "to shared the first file in `output` (filename `output[0]`) instead of the entire output file list."
   ]
  },
  {
   "cell_type": "markdown",
   "metadata": {
    "kernel": "SoS"
   },
   "source": [
    "The `shared` option also provides a `sos_variable` target."
   ]
  },
  {
   "cell_type": "markdown",
   "metadata": {
    "kernel": "SoS"
   },
   "source": [
    "Things becomes more complicated when there are multiple substeps. For example, when you use option `shared` on the following step with 10 substeps, only one of the random seed is returned because `rng` represent the last value of the variable after the completion of all substeps."
   ]
  },
  {
   "cell_type": "code",
   "execution_count": 4,
   "metadata": {
    "kernel": "SoS"
   },
   "outputs": [
    {
     "name": "stdout",
     "output_type": "stream",
     "text": [
      "450\n"
     ]
    }
   ],
   "source": [
    "%run\n",
    "[1: shared='seed']\n",
    "input: for_each={'i': range(10)}\n",
    "import random\n",
    "seed = random.randint(0, 1000)\n",
    "\n",
    "\n",
    "[2]\n",
    "print(seed)"
   ]
  },
  {
   "cell_type": "markdown",
   "metadata": {
    "kernel": "SoS"
   },
   "source": [
    "If you would like to see the variable in all substeps, you can prefix the variable name with `step_`"
   ]
  },
  {
   "cell_type": "code",
   "execution_count": 5,
   "metadata": {
    "kernel": "SoS"
   },
   "outputs": [
    {
     "name": "stdout",
     "output_type": "stream",
     "text": [
      "[858, 513, 328, 610, 142, 275, 458, 57, 762, 981]\n"
     ]
    }
   ],
   "source": [
    "%run\n",
    "[1: shared='step_seed']\n",
    "input: for_each={'i': range(10)}\n",
    "import random\n",
    "seed = random.randint(0, 1000)\n",
    "\n",
    "\n",
    "[2]\n",
    "print(step_seed)"
   ]
  },
  {
   "cell_type": "markdown",
   "metadata": {
    "kernel": "SoS"
   },
   "source": [
    "You can also use the `step_*` vsriables in expressions as in the following example:"
   ]
  },
  {
   "cell_type": "code",
   "execution_count": 8,
   "metadata": {
    "kernel": "SoS"
   },
   "outputs": [
    {
     "name": "stdout",
     "output_type": "stream",
     "text": [
      "[10, 0, 8, 1, 8, 9, 6, 7, 9, 1]\n",
      "59\n"
     ]
    }
   ],
   "source": [
    "%run\n",
    "[1: shared={'summed': 'sum(step_rng)', 'rngs': 'step_rng'}]\n",
    "input: for_each={'i': range(10)}\n",
    "import random\n",
    "rng = random.randint(0, 10)\n",
    "\n",
    "\n",
    "[2]\n",
    "print(rngs)\n",
    "print(summed)"
   ]
  },
  {
   "cell_type": "markdown",
   "metadata": {
    "kernel": "SoS"
   },
   "source": [
    "Variables generated by external tasks adds another layer of complexity because tasks usually do not share variables with the substep it belongs. To solve this problem, you will have to use the `shared` option of `task` to return the variable to the substep:"
   ]
  },
  {
   "cell_type": "code",
   "execution_count": 11,
   "metadata": {
    "kernel": "SoS"
   },
   "outputs": [
    {
     "data": {
      "text/html": [
       "<div class=\"sos_hint\">10 tasks completed: <a onclick=\"task_info('fc4e5aa9d56b8670', 'laptop')\">fc4e</a>, <a onclick=\"task_info('b42d81697655e60b', 'laptop')\">b42d</a>, ..., <a onclick=\"task_info('559c2306ff715392', 'laptop')\">559c</a></div>"
      ]
     },
     "metadata": {},
     "output_type": "display_data"
    },
    {
     "name": "stdout",
     "output_type": "stream",
     "text": [
      "\n",
      "[0, 2, 12, 10, 24, 9, 51, 39, 79, 4]\n",
      "230\n"
     ]
    }
   ],
   "source": [
    "%run\n",
    "[1: shared={'summed': 'sum(step_rng)', 'rngs': 'step_rng'}]\n",
    "input: for_each={'i': range(10)}\n",
    "\n",
    "task: shared='rng'\n",
    "import random\n",
    "rng = random.randint(0, 10*i)\n",
    "\n",
    "\n",
    "[2]\n",
    "print(rngs)\n",
    "print(summed)"
   ]
  },
  {
   "cell_type": "markdown",
   "metadata": {
    "kernel": "SoS"
   },
   "source": [
    "### Option `provides` <a id=\"Option_provides\"></a>"
   ]
  },
  {
   "cell_type": "markdown",
   "metadata": {
    "kernel": "SoS"
   },
   "source": [
    "This option lists files or targets a step generates so that it can be called if the target is required but does not exist. Steps with option `procides` are called **auxiliary steps** and are building blocks of makefile style workflows.\n",
    "\n",
    "Option `provides` accepts\n",
    "\n",
    "* A filename or file pattern such as `\"{sample}.bam.idx\"`\n",
    "* Other types of targets such as `executable(\"ms\")`\n",
    "* A list (sequence) of one or more file patterns and targets.\n",
    "\n",
    "A file pattern is a filename with optional patterns with variable names enbraced in `{ }`. SoS matches filenames with the patterns and, if successful, assign variables with matched parts of the names. For example,\n",
    "\n",
    "```\n",
    "[compress: provides = '{filename}.bam']\n",
    "```\n",
    "\n",
    "would be triggered with target `sample_A.bam` and `sample_B.bam`. When the step is triggered by `sample_A.bam`, it defines variable `filename` as `sample_A` and sets the output of the step as `sample_A.bam`. Please check tutorial [`Auxiliary Steps`](../tutorials/Auxiliary_Steps.ipynb) for details."
   ]
  },
  {
   "cell_type": "markdown",
   "metadata": {
    "kernel": "SoS"
   },
   "source": [
    "## Step Input <a id=\"Step_Input\"></a>"
   ]
  },
  {
   "cell_type": "markdown",
   "metadata": {
    "kernel": "SoS"
   },
   "source": [
    "Step input is determined by the `input` statement of steps. It is essentially creates a `sos_targets` varible named `step_input` with groups. SoS iterate through the groups of `step_input`, assign it to variable `_input`, and execute the step process as substeps.\n",
    "\n",
    "What you will learn from the following section\n",
    "1. Input statement is optional. In a process-oriented workflow, the default input is the output of its previous step.\n",
    "2. Variables `step_input` and `step_output` reprents the input and output targets of a step.\n",
    "3. Sources of targets can be specified with named arguments and be used to differentiate input targets.\n",
    "4. Function `output_from` can be used to represent complete or partial outputs from other steps.\n",
    "5. Function `named_output` can be used to specify named output from other steps for use as input of current step."
   ]
  },
  {
   "cell_type": "markdown",
   "metadata": {
    "kernel": "SoS"
   },
   "source": [
    "### Default input of a step"
   ]
  },
  {
   "cell_type": "markdown",
   "metadata": {
    "kernel": "SoS"
   },
   "source": [
    "In a process-oriented workflow, **the default input of a step is the output of its previous step**. For example, in the following workflow, the first step (step `10`) produces output `a.txt`, which becomes the input of the second step (step `20`)."
   ]
  },
  {
   "cell_type": "code",
   "execution_count": 2,
   "metadata": {
    "kernel": "SoS"
   },
   "outputs": [
    {
     "data": {
      "text/html": [
       "\n",
       "<table id=\"workflow_06ba28acca2542fcae6363cf95fd4ed7\" class=\"workflow_table  completed\">\n",
       "  <tr>\n",
       "        <td class=\"workflow_icon\">\n",
       "          <i id=\"workflow_status_icon_06ba28acca2542fcae6363cf95fd4ed7\" class=\"fa fa-2x fa-fw fa-check-square-o\"\n",
       "            ></i>\n",
       "        </td>\n",
       "        <td class=\"workflow_name\">\n",
       "          <pre><span id=\"workflow_name_06ba28acca2542fcae6363cf95fd4ed7\">default</span></pre>\n",
       "        </td>\n",
       "        <td class=\"workflow_id\">\n",
       "          <span>Workflow ID</span></br>\n",
       "          <pre><i class=\"fa fa-fw fa-sitemap\"></i><span id=\"workflow_id_06ba28acca2542fcae6363cf95fd4ed7\">763b03b0293e70ac</span></pre>\n",
       "        </td>\n",
       "        <td class=\"workflow_index\">\n",
       "          <span>Index</span></br>\n",
       "          <pre>#<span id=\"workflow_index_06ba28acca2542fcae6363cf95fd4ed7\">1</span></pre>\n",
       "        </td>\n",
       "        <td class=\"workflow_status\">\n",
       "          <span id=\"status_text_06ba28acca2542fcae6363cf95fd4ed7\">completed</span></br>\n",
       "          <pre><i class=\"fa fa-fw fa-clock-o\"></i><time id=\"status_duration_06ba28acca2542fcae6363cf95fd4ed7\" class=\"completed\" datetime=\"1545079136169.634\">Ran for < 5 seconds</time></pre>\n",
       "        </td>\n",
       "  </tr>\n",
       "</table>\n"
      ]
     },
     "metadata": {},
     "output_type": "display_data"
    },
    {
     "name": "stdout",
     "output_type": "stream",
     "text": [
      "Input of step 20 is a.txt\n"
     ]
    }
   ],
   "source": [
    "%run\n",
    "\n",
    "[10]\n",
    "output: 'a.txt'\n",
    "_output.touch()\n",
    "\n",
    "[20]\n",
    "print(f'Input of step {step_name} is {step_input}')"
   ]
  },
  {
   "cell_type": "markdown",
   "metadata": {
    "kernel": "SoS"
   },
   "source": [
    "### Unnamed input files"
   ]
  },
  {
   "cell_type": "markdown",
   "metadata": {
    "kernel": "SoS"
   },
   "source": [
    "The easiest way to explicitly specify step input is to list input targets (mostly files) directly in the `input:` statement. For example"
   ]
  },
  {
   "cell_type": "code",
   "execution_count": 3,
   "metadata": {
    "kernel": "SoS"
   },
   "outputs": [],
   "source": [
    "# create some sample files\n",
    "!touch a.txt b.txt c.txt d.txt"
   ]
  },
  {
   "cell_type": "code",
   "execution_count": 4,
   "metadata": {
    "kernel": "SoS"
   },
   "outputs": [
    {
     "name": "stdout",
     "output_type": "stream",
     "text": [
      "step_input is a.txt\n"
     ]
    }
   ],
   "source": [
    "input: 'a.txt'\n",
    "print(f'step_input is {step_input}')"
   ]
  },
  {
   "cell_type": "markdown",
   "metadata": {
    "kernel": "SoS"
   },
   "source": [
    "Multiple files can be listed as multiple paramters, sequences (`list`, `tuple` etc), or variables of string or sequence types. For example, you can define a parameter `in_files` of type `paths` (list of `path`) and specify input files from command line:"
   ]
  },
  {
   "cell_type": "code",
   "execution_count": 5,
   "metadata": {
    "kernel": "SoS"
   },
   "outputs": [
    {
     "data": {
      "text/html": [
       "\n",
       "<table id=\"workflow_0c54a6299335435f8f7d2a76d7e4110b\" class=\"workflow_table  completed\">\n",
       "  <tr>\n",
       "        <td class=\"workflow_icon\">\n",
       "          <i id=\"workflow_status_icon_0c54a6299335435f8f7d2a76d7e4110b\" class=\"fa fa-2x fa-fw fa-check-square-o\"\n",
       "            ></i>\n",
       "        </td>\n",
       "        <td class=\"workflow_name\">\n",
       "          <pre><span id=\"workflow_name_0c54a6299335435f8f7d2a76d7e4110b\">default</span></pre>\n",
       "        </td>\n",
       "        <td class=\"workflow_id\">\n",
       "          <span>Workflow ID</span></br>\n",
       "          <pre><i class=\"fa fa-fw fa-sitemap\"></i><span id=\"workflow_id_0c54a6299335435f8f7d2a76d7e4110b\">0261827f0e7f005c</span></pre>\n",
       "        </td>\n",
       "        <td class=\"workflow_index\">\n",
       "          <span>Index</span></br>\n",
       "          <pre>#<span id=\"workflow_index_0c54a6299335435f8f7d2a76d7e4110b\">2</span></pre>\n",
       "        </td>\n",
       "        <td class=\"workflow_status\">\n",
       "          <span id=\"status_text_0c54a6299335435f8f7d2a76d7e4110b\">completed</span></br>\n",
       "          <pre><i class=\"fa fa-fw fa-clock-o\"></i><time id=\"status_duration_0c54a6299335435f8f7d2a76d7e4110b\" class=\"completed\" datetime=\"1545079298431.9749\">Ran for < 5 seconds</time></pre>\n",
       "        </td>\n",
       "  </tr>\n",
       "</table>\n"
      ]
     },
     "metadata": {},
     "output_type": "display_data"
    },
    {
     "name": "stdout",
     "output_type": "stream",
     "text": [
      "step_input is a.txt b.txt\n"
     ]
    }
   ],
   "source": [
    "%run --in-files a.txt b.txt\n",
    "parameter: in_files = paths\n",
    "input: in_files\n",
    "\n",
    "print(f'step_input is {step_input}')"
   ]
  },
  {
   "cell_type": "markdown",
   "metadata": {
    "kernel": "SoS"
   },
   "source": [
    "You can list multiple files, mix string literals with variable names, "
   ]
  },
  {
   "cell_type": "code",
   "execution_count": 5,
   "metadata": {
    "kernel": "SoS"
   },
   "outputs": [
    {
     "name": "stdout",
     "output_type": "stream",
     "text": [
      "step_input is a.txt b.txt c.txt d.txt\n"
     ]
    }
   ],
   "source": [
    "in_files = ['a.txt', 'b.txt']\n",
    "input: in_files, 'c.txt', 'd.txt'\n",
    "\n",
    "print(f'step_input is {step_input}')"
   ]
  },
  {
   "cell_type": "markdown",
   "metadata": {
    "kernel": "SoS"
   },
   "source": [
    "Note that the user-specified input will override default input, so steps with explicit input target does not inherit output from its previous step. "
   ]
  },
  {
   "cell_type": "markdown",
   "metadata": {
    "kernel": "SoS"
   },
   "source": [
    "### Named input files"
   ]
  },
  {
   "cell_type": "markdown",
   "metadata": {
    "kernel": "SoS"
   },
   "source": [
    "All input targets of SoS steps have a **source**, which specifies where the target comes from. The `sources` of a `step_input` variable can be used to inspect the source of each target. By default, targets specified directly have the source of the name of the step in which they are specified."
   ]
  },
  {
   "cell_type": "code",
   "execution_count": 6,
   "metadata": {
    "kernel": "SoS"
   },
   "outputs": [
    {
     "data": {
      "text/html": [
       "\n",
       "<table id=\"workflow_bda2b9cbf9b7435c99fa06335e110cde\" class=\"workflow_table  completed\">\n",
       "  <tr>\n",
       "        <td class=\"workflow_icon\">\n",
       "          <i id=\"workflow_status_icon_bda2b9cbf9b7435c99fa06335e110cde\" class=\"fa fa-2x fa-fw fa-check-square-o\"\n",
       "            ></i>\n",
       "        </td>\n",
       "        <td class=\"workflow_name\">\n",
       "          <pre><span id=\"workflow_name_bda2b9cbf9b7435c99fa06335e110cde\">step</span></pre>\n",
       "        </td>\n",
       "        <td class=\"workflow_id\">\n",
       "          <span>Workflow ID</span></br>\n",
       "          <pre><i class=\"fa fa-fw fa-sitemap\"></i><span id=\"workflow_id_bda2b9cbf9b7435c99fa06335e110cde\">6a10bf848352d104</span></pre>\n",
       "        </td>\n",
       "        <td class=\"workflow_index\">\n",
       "          <span>Index</span></br>\n",
       "          <pre>#<span id=\"workflow_index_bda2b9cbf9b7435c99fa06335e110cde\">3</span></pre>\n",
       "        </td>\n",
       "        <td class=\"workflow_status\">\n",
       "          <span id=\"status_text_bda2b9cbf9b7435c99fa06335e110cde\">completed</span></br>\n",
       "          <pre><i class=\"fa fa-fw fa-clock-o\"></i><time id=\"status_duration_bda2b9cbf9b7435c99fa06335e110cde\" class=\"completed\" datetime=\"1545079414801.133\">Ran for 0 sec</time></pre>\n",
       "        </td>\n",
       "  </tr>\n",
       "</table>\n"
      ]
     },
     "metadata": {},
     "output_type": "display_data"
    },
    {
     "name": "stdout",
     "output_type": "stream",
     "text": [
      "step_input is a.txt b.txt c.txt d.txt with sources ['step_10', 'step_10', 'step_10', 'step_10']\n"
     ]
    }
   ],
   "source": [
    "%run\n",
    "[step_10]\n",
    "in_files = ['a.txt', 'b.txt']\n",
    "input: in_files, 'c.txt', 'd.txt'\n",
    "\n",
    "print(f'step_input is {step_input} with sources {step_input.sources}')"
   ]
  },
  {
   "cell_type": "markdown",
   "metadata": {
    "kernel": "SoS"
   },
   "source": [
    "You can specify the sources of inputs with keyword arguments. For example, in the following step, the first two files are given a name `grp1` and the latter two are given a name `grp2`."
   ]
  },
  {
   "cell_type": "code",
   "execution_count": 7,
   "metadata": {
    "kernel": "SoS"
   },
   "outputs": [
    {
     "name": "stdout",
     "output_type": "stream",
     "text": [
      "step_input is a.txt b.txt c.txt d.txt with sources ['grp1', 'grp1', 'grp2', 'grp2']\n"
     ]
    }
   ],
   "source": [
    "input: grp1 = ['a.txt', 'b.txt'], grp2=['c.txt', 'd.txt']\n",
    "\n",
    "print(f'step_input is {step_input} with sources {step_input.sources}')"
   ]
  },
  {
   "cell_type": "markdown",
   "metadata": {
    "kernel": "SoS"
   },
   "source": [
    "The **sources of the targets can be used to partition input targets and refer them separately**. You can access groups of input files with with syntax `step_input[group_name]`."
   ]
  },
  {
   "cell_type": "code",
   "execution_count": 10,
   "metadata": {
    "kernel": "SoS"
   },
   "outputs": [
    {
     "name": "stdout",
     "output_type": "stream",
     "text": [
      "Input of step is a.txt b.txt ref.txt with sources ['data', 'data', 'reference']\n",
      "Data is a.txt b.txt\n",
      "Reference is ref.txt\n"
     ]
    }
   ],
   "source": [
    "!touch ref.txt\n",
    "\n",
    "input: data = ['a.txt', 'b.txt'], reference='ref.txt'\n",
    "\n",
    "print(f'Input of step is {step_input} with sources {step_input.sources}')\n",
    "print(f'Data is {step_input[\"data\"]}')\n",
    "print(f'Reference is {step_input[\"reference\"]}')"
   ]
  },
  {
   "cell_type": "markdown",
   "metadata": {
    "kernel": "SoS"
   },
   "source": [
    "### Function  `output_from` <a id=\"output_from\"></a>"
   ]
  },
  {
   "cell_type": "markdown",
   "metadata": {
    "kernel": "SoS"
   },
   "source": [
    "The default input of a step is the output from its previous step but you can use function `output_from` to specify the input of a step asthe output from one or more other steps. For example,"
   ]
  },
  {
   "cell_type": "code",
   "execution_count": 12,
   "metadata": {
    "kernel": "SoS"
   },
   "outputs": [
    {
     "data": {
      "text/html": [
       "\n",
       "<table id=\"workflow_5aed3eb024814d4ba9b741eebda447e8\" class=\"workflow_table  completed\">\n",
       "  <tr>\n",
       "        <td class=\"workflow_icon\">\n",
       "          <i id=\"workflow_status_icon_5aed3eb024814d4ba9b741eebda447e8\" class=\"fa fa-2x fa-fw fa-check-square-o\"\n",
       "            ></i>\n",
       "        </td>\n",
       "        <td class=\"workflow_name\">\n",
       "          <pre><span id=\"workflow_name_5aed3eb024814d4ba9b741eebda447e8\">step</span></pre>\n",
       "        </td>\n",
       "        <td class=\"workflow_id\">\n",
       "          <span>Workflow ID</span></br>\n",
       "          <pre><i class=\"fa fa-fw fa-sitemap\"></i><span id=\"workflow_id_5aed3eb024814d4ba9b741eebda447e8\">f3820d6d856346af</span></pre>\n",
       "        </td>\n",
       "        <td class=\"workflow_index\">\n",
       "          <span>Index</span></br>\n",
       "          <pre>#<span id=\"workflow_index_5aed3eb024814d4ba9b741eebda447e8\">5</span></pre>\n",
       "        </td>\n",
       "        <td class=\"workflow_status\">\n",
       "          <span id=\"status_text_5aed3eb024814d4ba9b741eebda447e8\">completed</span></br>\n",
       "          <pre><i class=\"fa fa-fw fa-clock-o\"></i><time id=\"status_duration_5aed3eb024814d4ba9b741eebda447e8\" class=\"completed\" datetime=\"1545079654135.4648\">Ran for < 5 seconds</time></pre>\n",
       "        </td>\n",
       "  </tr>\n",
       "</table>\n"
      ]
     },
     "metadata": {},
     "output_type": "display_data"
    },
    {
     "name": "stdout",
     "output_type": "stream",
     "text": [
      "input of step step_20 is a.txt\n",
      "input of step step_30 is a.txt b.txt c.txt with sources ['step_10', 'step_20', 'step_30']\n",
      "Output of step_20 is b.txt\n"
     ]
    }
   ],
   "source": [
    "%run\n",
    "[step_10]\n",
    "output: 'a.txt'\n",
    "_output.touch()\n",
    "\n",
    "[step_20]\n",
    "output: 'b.txt'\n",
    "print(f'input of step {step_name} is {step_input}')\n",
    "_output.touch()\n",
    "\n",
    "[step_30]\n",
    "input:  output_from(['step_10', 'step_20']), 'c.txt'\n",
    "print(f'input of step {step_name} is {step_input} with sources {step_input.sources}')\n",
    "print(f'Output of step_20 is {step_input[\"step_20\"]}')"
   ]
  },
  {
   "cell_type": "markdown",
   "metadata": {
    "kernel": "SoS"
   },
   "source": [
    "In this example, `output_from(['step_10', 'step_20'])` takes the output of steps `step_10` and `step_20` as input. The `sources` of these input are `step_10` and `step_20` respectively. In a process-oriented workflow, `output_from(['step_10', 'step_20'])` can be simplified as `output_from([10, 20])` (integers)."
   ]
  },
  {
   "cell_type": "markdown",
   "metadata": {
    "kernel": "SoS"
   },
   "source": [
    "You can override the `sources` of input files with keyword arguments"
   ]
  },
  {
   "cell_type": "code",
   "execution_count": 13,
   "metadata": {
    "kernel": "SoS"
   },
   "outputs": [
    {
     "data": {
      "text/html": [
       "\n",
       "<table id=\"workflow_ab70cde6d82f4f6f8610b3644abebd4a\" class=\"workflow_table  completed\">\n",
       "  <tr>\n",
       "        <td class=\"workflow_icon\">\n",
       "          <i id=\"workflow_status_icon_ab70cde6d82f4f6f8610b3644abebd4a\" class=\"fa fa-2x fa-fw fa-check-square-o\"\n",
       "            ></i>\n",
       "        </td>\n",
       "        <td class=\"workflow_name\">\n",
       "          <pre><span id=\"workflow_name_ab70cde6d82f4f6f8610b3644abebd4a\">step</span></pre>\n",
       "        </td>\n",
       "        <td class=\"workflow_id\">\n",
       "          <span>Workflow ID</span></br>\n",
       "          <pre><i class=\"fa fa-fw fa-sitemap\"></i><span id=\"workflow_id_ab70cde6d82f4f6f8610b3644abebd4a\">5b1a7c8203ac5355</span></pre>\n",
       "        </td>\n",
       "        <td class=\"workflow_index\">\n",
       "          <span>Index</span></br>\n",
       "          <pre>#<span id=\"workflow_index_ab70cde6d82f4f6f8610b3644abebd4a\">6</span></pre>\n",
       "        </td>\n",
       "        <td class=\"workflow_status\">\n",
       "          <span id=\"status_text_ab70cde6d82f4f6f8610b3644abebd4a\">completed</span></br>\n",
       "          <pre><i class=\"fa fa-fw fa-clock-o\"></i><time id=\"status_duration_ab70cde6d82f4f6f8610b3644abebd4a\" class=\"completed\" datetime=\"1545079788968.7258\">Ran for < 5 seconds</time></pre>\n",
       "        </td>\n",
       "  </tr>\n",
       "</table>\n"
      ]
     },
     "metadata": {},
     "output_type": "display_data"
    },
    {
     "name": "stdout",
     "output_type": "stream",
     "text": [
      "input of step step_10 is \n",
      "input of step step_20 is a.txt\n",
      "input of step step_30 is a.txt b.txt c.txt with sources ['step_10', 's20', 's30']\n"
     ]
    }
   ],
   "source": [
    "%run\n",
    "[step_10]\n",
    "output: 'a.txt'\n",
    "print(f'input of step {step_name} is {step_input}')\n",
    "_output.touch()\n",
    "\n",
    "[step_20]\n",
    "output: 'b.txt'\n",
    "print(f'input of step {step_name} is {step_input}')\n",
    "_output.touch()\n",
    "\n",
    "[step_30]\n",
    "input:  output_from(10), s20=output_from(20), s30='c.txt'\n",
    "print(f'input of step {step_name} is {step_input} with sources {step_input.sources}')\n"
   ]
  },
  {
   "cell_type": "markdown",
   "metadata": {
    "kernel": "SoS"
   },
   "source": [
    "As you can learn later, output from other steps can also have their own sources. In this case, the `sources` of the output is carried over."
   ]
  },
  {
   "cell_type": "code",
   "execution_count": 15,
   "metadata": {
    "kernel": "SoS"
   },
   "outputs": [
    {
     "data": {
      "text/html": [
       "\n",
       "<table id=\"workflow_2799669f1d174fb595914d5b6336a401\" class=\"workflow_table  completed\">\n",
       "  <tr>\n",
       "        <td class=\"workflow_icon\">\n",
       "          <i id=\"workflow_status_icon_2799669f1d174fb595914d5b6336a401\" class=\"fa fa-2x fa-fw fa-check-square-o\"\n",
       "            ></i>\n",
       "        </td>\n",
       "        <td class=\"workflow_name\">\n",
       "          <pre><span id=\"workflow_name_2799669f1d174fb595914d5b6336a401\">step</span></pre>\n",
       "        </td>\n",
       "        <td class=\"workflow_id\">\n",
       "          <span>Workflow ID</span></br>\n",
       "          <pre><i class=\"fa fa-fw fa-sitemap\"></i><span id=\"workflow_id_2799669f1d174fb595914d5b6336a401\">b2d5163796f0f4f8</span></pre>\n",
       "        </td>\n",
       "        <td class=\"workflow_index\">\n",
       "          <span>Index</span></br>\n",
       "          <pre>#<span id=\"workflow_index_2799669f1d174fb595914d5b6336a401\">8</span></pre>\n",
       "        </td>\n",
       "        <td class=\"workflow_status\">\n",
       "          <span id=\"status_text_2799669f1d174fb595914d5b6336a401\">completed</span></br>\n",
       "          <pre><i class=\"fa fa-fw fa-clock-o\"></i><time id=\"status_duration_2799669f1d174fb595914d5b6336a401\" class=\"completed\" datetime=\"1545079867817.051\">Ran for < 5 seconds</time></pre>\n",
       "        </td>\n",
       "  </tr>\n",
       "</table>\n"
      ]
     },
     "metadata": {},
     "output_type": "display_data"
    },
    {
     "name": "stdout",
     "output_type": "stream",
     "text": [
      "input of step step_30 is out.txt summary.txt c.txt with sources ['output', 'summary', 'step_30']\n"
     ]
    }
   ],
   "source": [
    "%run\n",
    "[step_10]\n",
    "output: output='out.txt', summary='summary.txt'\n",
    "_output.touch()\n",
    "\n",
    "[step_30]\n",
    "input:  output_from(10), 'c.txt'\n",
    "print(f'input of step {step_name} is {step_input} with sources {step_input.sources}')"
   ]
  },
  {
   "cell_type": "markdown",
   "metadata": {
    "kernel": "SoS"
   },
   "source": [
    "Now, if you are only interested to the `summary` part of the output of `step_10`, you can use `['summary']` to get a subset of the output from `output_from(10)`:"
   ]
  },
  {
   "cell_type": "code",
   "execution_count": 18,
   "metadata": {
    "kernel": "SoS"
   },
   "outputs": [
    {
     "data": {
      "text/html": [
       "\n",
       "<table id=\"workflow_0df6051c4c0f4d8487ef7ba049349dcc\" class=\"workflow_table  completed\">\n",
       "  <tr>\n",
       "        <td class=\"workflow_icon\">\n",
       "          <i id=\"workflow_status_icon_0df6051c4c0f4d8487ef7ba049349dcc\" class=\"fa fa-2x fa-fw fa-check-square-o\"\n",
       "            ></i>\n",
       "        </td>\n",
       "        <td class=\"workflow_name\">\n",
       "          <pre><span id=\"workflow_name_0df6051c4c0f4d8487ef7ba049349dcc\">step</span></pre>\n",
       "        </td>\n",
       "        <td class=\"workflow_id\">\n",
       "          <span>Workflow ID</span></br>\n",
       "          <pre><i class=\"fa fa-fw fa-sitemap\"></i><span id=\"workflow_id_0df6051c4c0f4d8487ef7ba049349dcc\">b2d5163796f0f4f8</span></pre>\n",
       "        </td>\n",
       "        <td class=\"workflow_index\">\n",
       "          <span>Index</span></br>\n",
       "          <pre>#<span id=\"workflow_index_0df6051c4c0f4d8487ef7ba049349dcc\">11</span></pre>\n",
       "        </td>\n",
       "        <td class=\"workflow_status\">\n",
       "          <span id=\"status_text_0df6051c4c0f4d8487ef7ba049349dcc\">completed</span></br>\n",
       "          <pre><i class=\"fa fa-fw fa-clock-o\"></i><time id=\"status_duration_0df6051c4c0f4d8487ef7ba049349dcc\" class=\"completed\" datetime=\"1545079982459.1238\">Ran for < 5 seconds</time></pre>\n",
       "        </td>\n",
       "  </tr>\n",
       "</table>\n"
      ]
     },
     "metadata": {},
     "output_type": "display_data"
    },
    {
     "name": "stdout",
     "output_type": "stream",
     "text": [
      "input of step step_30 is summary.txt c.txt with sources ['summary', 'step_30']\n"
     ]
    }
   ],
   "source": [
    "%run\n",
    "[step_10]\n",
    "output: output='out.txt', summary='summary.txt'\n",
    "_output.touch()\n",
    "\n",
    "[step_30]\n",
    "input:  output_from(10)['summary'], 'c.txt'\n",
    "print(f'input of step {step_name} is {step_input} with sources {step_input.sources}')"
   ]
  },
  {
   "cell_type": "markdown",
   "metadata": {
    "kernel": "SoS"
   },
   "source": [
    "When you use keyword argument to specify all or parts of the outputs, the `sources` are overridden"
   ]
  },
  {
   "cell_type": "code",
   "execution_count": 22,
   "metadata": {
    "kernel": "SoS"
   },
   "outputs": [
    {
     "data": {
      "text/html": [
       "\n",
       "<table id=\"workflow_d4aaac690f0048d985ed3452caa5e97d\" class=\"workflow_table  completed\">\n",
       "  <tr>\n",
       "        <td class=\"workflow_icon\">\n",
       "          <i id=\"workflow_status_icon_d4aaac690f0048d985ed3452caa5e97d\" class=\"fa fa-2x fa-fw fa-check-square-o\"\n",
       "            ></i>\n",
       "        </td>\n",
       "        <td class=\"workflow_name\">\n",
       "          <pre><span id=\"workflow_name_d4aaac690f0048d985ed3452caa5e97d\">step</span></pre>\n",
       "        </td>\n",
       "        <td class=\"workflow_id\">\n",
       "          <span>Workflow ID</span></br>\n",
       "          <pre><i class=\"fa fa-fw fa-sitemap\"></i><span id=\"workflow_id_d4aaac690f0048d985ed3452caa5e97d\">84533aaef4b9d9dd</span></pre>\n",
       "        </td>\n",
       "        <td class=\"workflow_index\">\n",
       "          <span>Index</span></br>\n",
       "          <pre>#<span id=\"workflow_index_d4aaac690f0048d985ed3452caa5e97d\">15</span></pre>\n",
       "        </td>\n",
       "        <td class=\"workflow_status\">\n",
       "          <span id=\"status_text_d4aaac690f0048d985ed3452caa5e97d\">completed</span></br>\n",
       "          <pre><i class=\"fa fa-fw fa-clock-o\"></i><time id=\"status_duration_d4aaac690f0048d985ed3452caa5e97d\" class=\"completed\" datetime=\"1545080069587.991\">Ran for 0 sec</time></pre>\n",
       "        </td>\n",
       "  </tr>\n",
       "</table>\n"
      ]
     },
     "metadata": {},
     "output_type": "display_data"
    },
    {
     "name": "stdout",
     "output_type": "stream",
     "text": [
      "input of step step_30 is a.txt b.txt c.txt with sources ['s10', 's10', 'c']\n"
     ]
    }
   ],
   "source": [
    "%run\n",
    "[step_10]\n",
    "output: a='a.txt', b='b.txt'\n",
    "_output.touch()\n",
    "\n",
    "[step_20]\n",
    "output: c='c.txt', d='d.txt'\n",
    "_output.touch()\n",
    "\n",
    "[step_30]\n",
    "input:  s10=output_from(10), c=output_from(20)[\"c\"]\n",
    "print(f'input of step {step_name} is {step_input} with sources {step_input.sources}')"
   ]
  },
  {
   "cell_type": "markdown",
   "metadata": {
    "kernel": "SoS"
   },
   "source": [
    "Note that both source `a` and `b` from `output_from(10)` are overriden by `s10` so you can no longer differentiate sources `a` and `b` from `output_from(10)`."
   ]
  },
  {
   "cell_type": "markdown",
   "metadata": {
    "kernel": "SoS"
   },
   "source": [
    "### Function `named_output` <a id=\"named_output\"></a>"
   ]
  },
  {
   "cell_type": "markdown",
   "metadata": {
    "kernel": "SoS"
   },
   "source": [
    "As we will be discussed later, step output can be named so that we can access part of the output using the `['name']` syntax."
   ]
  },
  {
   "cell_type": "code",
   "execution_count": 1,
   "metadata": {
    "kernel": "SoS"
   },
   "outputs": [
    {
     "data": {
      "text/html": [
       "\n",
       "<table id=\"workflow_f9b3773121584f038dd15ad7e62e6234\" class=\"workflow_table  completed\">\n",
       "  <tr>\n",
       "        <td class=\"workflow_icon\">\n",
       "          <i id=\"workflow_status_icon_f9b3773121584f038dd15ad7e62e6234\" class=\"fa fa-2x fa-fw fa-check-square-o\"\n",
       "            ></i>\n",
       "        </td>\n",
       "        <td class=\"workflow_name\">\n",
       "          <pre><span id=\"workflow_name_f9b3773121584f038dd15ad7e62e6234\">default</span></pre>\n",
       "        </td>\n",
       "        <td class=\"workflow_id\">\n",
       "          <span>Workflow ID</span></br>\n",
       "          <pre><i class=\"fa fa-fw fa-sitemap\"></i><span id=\"workflow_id_f9b3773121584f038dd15ad7e62e6234\">8503597e4f5eebe1</span></pre>\n",
       "        </td>\n",
       "        <td class=\"workflow_index\">\n",
       "          <span>Index</span></br>\n",
       "          <pre>#<span id=\"workflow_index_f9b3773121584f038dd15ad7e62e6234\">1</span></pre>\n",
       "        </td>\n",
       "        <td class=\"workflow_status\">\n",
       "          <span id=\"status_text_f9b3773121584f038dd15ad7e62e6234\">completed</span></br>\n",
       "          <pre><i class=\"fa fa-fw fa-clock-o\"></i><time id=\"status_duration_f9b3773121584f038dd15ad7e62e6234\" class=\"completed\" datetime=\"1545608789427.352\">Ran for < 5 seconds</time></pre>\n",
       "        </td>\n",
       "  </tr>\n",
       "</table>\n"
      ]
     },
     "metadata": {},
     "output_type": "display_data"
    },
    {
     "name": "stdout",
     "output_type": "stream",
     "text": [
      "['a', 'b']\n",
      "a.txt\n"
     ]
    }
   ],
   "source": [
    "%run\n",
    "[A]\n",
    "output: a='a.txt', b='b.txt'\n",
    "_output.touch()\n",
    "\n",
    "[10]\n",
    "input: output_from('A')\n",
    "print(step_input.sources)\n",
    "print(step_input['a'])"
   ]
  },
  {
   "cell_type": "markdown",
   "metadata": {
    "kernel": "SoS"
   },
   "source": [
    "Although `output_from` can be used to refer to output from any step, it makes the workflow less extensible because renaming or change of step `A` will invalidate `output_from('A')`. If the named output is unique to your workflow, it is more convenient to write"
   ]
  },
  {
   "cell_type": "code",
   "execution_count": 2,
   "metadata": {
    "kernel": "SoS"
   },
   "outputs": [
    {
     "data": {
      "text/html": [
       "\n",
       "<table id=\"workflow_fbcc4f7a56e0449d8432540842cdcd95\" class=\"workflow_table  completed\">\n",
       "  <tr>\n",
       "        <td class=\"workflow_icon\">\n",
       "          <i id=\"workflow_status_icon_fbcc4f7a56e0449d8432540842cdcd95\" class=\"fa fa-2x fa-fw fa-check-square-o\"\n",
       "            ></i>\n",
       "        </td>\n",
       "        <td class=\"workflow_name\">\n",
       "          <pre><span id=\"workflow_name_fbcc4f7a56e0449d8432540842cdcd95\">default</span></pre>\n",
       "        </td>\n",
       "        <td class=\"workflow_id\">\n",
       "          <span>Workflow ID</span></br>\n",
       "          <pre><i class=\"fa fa-fw fa-sitemap\"></i><span id=\"workflow_id_fbcc4f7a56e0449d8432540842cdcd95\">8503597e4f5eebe1</span></pre>\n",
       "        </td>\n",
       "        <td class=\"workflow_index\">\n",
       "          <span>Index</span></br>\n",
       "          <pre>#<span id=\"workflow_index_fbcc4f7a56e0449d8432540842cdcd95\">2</span></pre>\n",
       "        </td>\n",
       "        <td class=\"workflow_status\">\n",
       "          <span id=\"status_text_fbcc4f7a56e0449d8432540842cdcd95\">completed</span></br>\n",
       "          <pre><i class=\"fa fa-fw fa-clock-o\"></i><time id=\"status_duration_fbcc4f7a56e0449d8432540842cdcd95\" class=\"completed\" datetime=\"1545608993955.1628\">Ran for < 5 seconds</time></pre>\n",
       "        </td>\n",
       "  </tr>\n",
       "</table>\n"
      ]
     },
     "metadata": {},
     "output_type": "display_data"
    },
    {
     "name": "stdout",
     "output_type": "stream",
     "text": [
      "['a']\n",
      "a.txt\n"
     ]
    }
   ],
   "source": [
    "%run\n",
    "[A]\n",
    "output: a='a.txt', b='b.txt'\n",
    "_output.touch()\n",
    "\n",
    "[10]\n",
    "input: named_output('a')\n",
    "print(step_input.sources)\n",
    "print(step_input['a'])"
   ]
  },
  {
   "cell_type": "markdown",
   "metadata": {
    "kernel": "SoS"
   },
   "source": [
    "Here `named_output('a')` refers to any step that produces an output with name `a`. Adding `named_output('a')` will create an dependency on that step so that step `10` will be executed only after `A` is executed (so that `named_output('a')` becomes available."
   ]
  },
  {
   "cell_type": "markdown",
   "metadata": {
    "kernel": "SoS"
   },
   "source": [
    "### Parameter `group_by` and substeps <a id=\"group_by\"></a>"
   ]
  },
  {
   "cell_type": "markdown",
   "metadata": {
    "kernel": "SoS"
   },
   "source": [
    "Up till now all input targets are processed all at once by the step. If you need to process input files one by one or in pair, you can define **substeps** that basically applies the step to subgroups of input targets, represented by variable `_input`.\n",
    "\n",
    "In the trivial case when all input targets are processed together, `_input` is the same as `step_input`."
   ]
  },
  {
   "cell_type": "code",
   "execution_count": 23,
   "metadata": {
    "kernel": "SoS"
   },
   "outputs": [
    {
     "name": "stdout",
     "output_type": "stream",
     "text": [
      "step input is a.txt b.txt\n",
      "substep input is a.txt b.txt\n"
     ]
    }
   ],
   "source": [
    "input: 'a.txt', 'b.txt'\n",
    "print(f'step input is {step_input}')\n",
    "print(f'substep input is {_input}')"
   ]
  },
  {
   "cell_type": "markdown",
   "metadata": {
    "kernel": "SoS"
   },
   "source": [
    "Using option `group_by`, you can group the input targets in a number of ways, the easiest being group by `1`:"
   ]
  },
  {
   "cell_type": "code",
   "execution_count": 3,
   "metadata": {
    "kernel": "SoS"
   },
   "outputs": [
    {
     "name": "stdout",
     "output_type": "stream",
     "text": [
      "input of step is a.txt b.txt\n",
      "input of substep 0 is a.txt\n",
      "input of step is a.txt b.txt\n",
      "input of substep 1 is b.txt\n"
     ]
    }
   ],
   "source": [
    "input: 'a.txt', 'b.txt', group_by=1\n",
    "print(f'input of step is {step_input}')\n",
    "print(f'input of substep {_index} is {_input}')"
   ]
  },
  {
   "cell_type": "markdown",
   "metadata": {
    "kernel": "SoS"
   },
   "source": [
    "As you can see, the step process is now executed twice. Whereas the `step_input` is the same for both substeps, `_input` is `a.txt` for the first substep, and `b.txt` for the second substep. Here we used an internal variable `_index` to show the index of the substep."
   ]
  },
  {
   "cell_type": "markdown",
   "metadata": {
    "kernel": "SoS"
   },
   "source": [
    "SoS allows you to group input in a number of ways:\n",
    "\n",
    "| option | group by |\n",
    "| --- | --- |\n",
    "| `all` | all in a single group, the default |\n",
    "| `single` | individual target |\n",
    "| `pairs` | match first half of files with the second half, take one from each half each time |\n",
    "| `combinations` | all unordered combinations of 2-sets |\n",
    "| `pairwise` | all adjacent 2-sets |\n",
    "| `source` | by source of input |\n",
    "| `pairsource` | pair input files by their sources and take one from each source each time |\n",
    "| `N` = `1`, `2`, ... | chunks of size `N` |\n",
    "| `pairsN`, `N`=`2`, `3`, ... | match first half of files with the second half, take `N` from each half each time | \n",
    "| `pairsourceN`, `N`=`2`, `3`, ... | pair input files by their sources and take `N` from each source (if equal size) each time |\n",
    "| `pairwiseN`, `N`=`2`, `3`, ...| all adjacent 2-sets, but each set has `N` items |\n",
    "| `combinationsN`, `N`=`2`, `3`, ... | all unorderd combinations of `N` items |\n",
    "| function (e.g. `lamba x: ...`) | a function that returns groups of inputs |\n",
    "\n",
    "For example, with the following sos script, the input are groups pairwisely:"
   ]
  },
  {
   "cell_type": "code",
   "execution_count": 4,
   "metadata": {
    "kernel": "SoS"
   },
   "outputs": [
    {
     "name": "stdout",
     "output_type": "stream",
     "text": [
      "file1 file2\n",
      "file2 file3\n",
      "file3 file4\n"
     ]
    }
   ],
   "source": [
    "!touch file1 file2 file3 file4\n",
    "\n",
    "input: 'file1', 'file2', 'file3', 'file4', group_by='pairwise'\n",
    "print(f\"{_input}\")"
   ]
  },
  {
   "cell_type": "markdown",
   "metadata": {
    "kernel": "SoS"
   },
   "source": [
    "To demonstrate more acceptable values, the following example uses `sos_run` action to execute this a step with different grouping method."
   ]
  },
  {
   "cell_type": "code",
   "execution_count": 5,
   "metadata": {
    "kernel": "SoS"
   },
   "outputs": [
    {
     "data": {
      "text/html": [
       "\n",
       "<table id=\"workflow_4f041b9fa4a84a2a87d9c5699cafb061\" class=\"workflow_table  completed\">\n",
       "  <tr>\n",
       "        <td class=\"workflow_icon\">\n",
       "          <i id=\"workflow_status_icon_4f041b9fa4a84a2a87d9c5699cafb061\" class=\"fa fa-2x fa-fw fa-check-square-o\"\n",
       "            ></i>\n",
       "        </td>\n",
       "        <td class=\"workflow_name\">\n",
       "          <pre><span id=\"workflow_name_4f041b9fa4a84a2a87d9c5699cafb061\">default</span></pre>\n",
       "        </td>\n",
       "        <td class=\"workflow_id\">\n",
       "          <span>Workflow ID</span></br>\n",
       "          <pre><i class=\"fa fa-fw fa-sitemap\"></i><span id=\"workflow_id_4f041b9fa4a84a2a87d9c5699cafb061\">a50ceb5da37415fc</span></pre>\n",
       "        </td>\n",
       "        <td class=\"workflow_index\">\n",
       "          <span>Index</span></br>\n",
       "          <pre>#<span id=\"workflow_index_4f041b9fa4a84a2a87d9c5699cafb061\">1</span></pre>\n",
       "        </td>\n",
       "        <td class=\"workflow_status\">\n",
       "          <span id=\"status_text_4f041b9fa4a84a2a87d9c5699cafb061\">completed</span></br>\n",
       "          <pre><i class=\"fa fa-fw fa-clock-o\"></i><time id=\"status_duration_4f041b9fa4a84a2a87d9c5699cafb061\" class=\"completed\" datetime=\"1545604461606.484\">Ran for 2 sec</time></pre>\n",
       "        </td>\n",
       "  </tr>\n",
       "</table>\n"
      ]
     },
     "metadata": {},
     "output_type": "display_data"
    },
    {
     "name": "stdout",
     "output_type": "stream",
     "text": [
      "\n",
      "group_by=1\n",
      "0: file1\n",
      "2: file3\n",
      "3: file4\n",
      "1: file2\n",
      "\n",
      "group_by=2\n",
      "0: file1 file2\n",
      "1: file3 file4\n",
      "\n",
      "group_by=single\n",
      "0: file1\n",
      "1: file2\n",
      "3: file4\n",
      "2: file3\n",
      "\n",
      "group_by=pairs\n",
      "0: file1 file3\n",
      "1: file2 file4\n",
      "\n",
      "group_by=pairwise\n",
      "0: file1 file2\n",
      "2: file3 file4\n",
      "1: file2 file3\n",
      "\n",
      "group_by=combinations\n",
      "0: file1 file2\n",
      "1: file1 file3\n",
      "3: file2 file3\n",
      "4: file2 file4\n",
      "2: file1 file4\n",
      "5: file3 file4\n",
      "\n",
      "group_by=combinations3\n",
      "0: file1 file2 file3\n",
      "2: file1 file3 file4\n",
      "1: file1 file2 file4\n",
      "3: file2 file3 file4\n"
     ]
    }
   ],
   "source": [
    "!touch file1 file2 file3 file4\n",
    "%run default\n",
    "\n",
    "[group]\n",
    "parameter: group = str\n",
    "print(f\"\\ngroup_by={group}\")\n",
    "input: 'file1', 'file2', 'file3', 'file4', group_by=group\n",
    "print(f\"{_index}: {_input}\")\n",
    "\n",
    "[default]\n",
    "sos_run('group', group=1)\n",
    "sos_run('group', group=2)\n",
    "sos_run('group', group='single')\n",
    "sos_run('group', group='pairs')\n",
    "sos_run('group', group='pairwise')\n",
    "sos_run('group', group='combinations')\n",
    "sos_run('group', group='combinations3')"
   ]
  },
  {
   "cell_type": "markdown",
   "metadata": {
    "kernel": "SoS"
   },
   "source": [
    "We did not include options `pairsN` and `pairwiseN` in the example because we need more input files to see what is going on. As you can see from the following example, the `N` groups input targets as small groups of size `N` before `pairs` and `pairwise` are applied."
   ]
  },
  {
   "cell_type": "code",
   "execution_count": 6,
   "metadata": {
    "kernel": "SoS",
    "scrolled": true
   },
   "outputs": [
    {
     "data": {
      "text/html": [
       "\n",
       "<table id=\"workflow_f0bacc3408524c358381ba9dd75542e4\" class=\"workflow_table  completed\">\n",
       "  <tr>\n",
       "        <td class=\"workflow_icon\">\n",
       "          <i id=\"workflow_status_icon_f0bacc3408524c358381ba9dd75542e4\" class=\"fa fa-2x fa-fw fa-check-square-o\"\n",
       "            ></i>\n",
       "        </td>\n",
       "        <td class=\"workflow_name\">\n",
       "          <pre><span id=\"workflow_name_f0bacc3408524c358381ba9dd75542e4\">default</span></pre>\n",
       "        </td>\n",
       "        <td class=\"workflow_id\">\n",
       "          <span>Workflow ID</span></br>\n",
       "          <pre><i class=\"fa fa-fw fa-sitemap\"></i><span id=\"workflow_id_f0bacc3408524c358381ba9dd75542e4\">ac0d35740213f296</span></pre>\n",
       "        </td>\n",
       "        <td class=\"workflow_index\">\n",
       "          <span>Index</span></br>\n",
       "          <pre>#<span id=\"workflow_index_f0bacc3408524c358381ba9dd75542e4\">2</span></pre>\n",
       "        </td>\n",
       "        <td class=\"workflow_status\">\n",
       "          <span id=\"status_text_f0bacc3408524c358381ba9dd75542e4\">completed</span></br>\n",
       "          <pre><i class=\"fa fa-fw fa-clock-o\"></i><time id=\"status_duration_f0bacc3408524c358381ba9dd75542e4\" class=\"completed\" datetime=\"1545604492423.6292\">Ran for 1 sec</time></pre>\n",
       "        </td>\n",
       "  </tr>\n",
       "</table>\n"
      ]
     },
     "metadata": {},
     "output_type": "display_data"
    },
    {
     "name": "stdout",
     "output_type": "stream",
     "text": [
      "\n",
      "group_by=pairs2\n",
      "0: A1 B1 A3 B3\n",
      "1: A2 B2 A4 B4\n",
      "\n",
      "group_by=pairwise2\n",
      "1: A2 B2 A3 B3\n",
      "0: A1 B1 A2 B2\n",
      "2: A3 B3 A4 B4\n"
     ]
    }
   ],
   "source": [
    "!touch A1 B1 A2 B2 A3 B3 A4 B4\n",
    "%run\n",
    "\n",
    "[group]\n",
    "parameter: group = str\n",
    "print(f\"\\ngroup_by={group}\")\n",
    "input: 'A1', 'B1', 'A2', 'B2', 'A3', 'B3', 'A4', 'B4', group_by=group\n",
    "print(f\"{_index}: {_input}\")\n",
    "\n",
    "[default]\n",
    "sos_run('group', group='pairs2')\n",
    "sos_run('group', group='pairwise2')\n"
   ]
  },
  {
   "cell_type": "markdown",
   "metadata": {
    "kernel": "SoS"
   },
   "source": [
    "As we recall from the `source` attribute of `sos_targets`, input targets can have `source` of the present step (if specified directly), or as the output of previouly executed steps. Option `group_by` allows you to group input by sources `by='source'`, or pair sources (`by='pairsource'` and `by='pairsourceN'`). For example,"
   ]
  },
  {
   "cell_type": "code",
   "execution_count": 8,
   "metadata": {
    "kernel": "SoS"
   },
   "outputs": [
    {
     "data": {
      "text/html": [
       "\n",
       "<table id=\"workflow_65f4e05b0aba433f8cec2c2df458d58e\" class=\"workflow_table  completed\">\n",
       "  <tr>\n",
       "        <td class=\"workflow_icon\">\n",
       "          <i id=\"workflow_status_icon_65f4e05b0aba433f8cec2c2df458d58e\" class=\"fa fa-2x fa-fw fa-check-square-o\"\n",
       "            ></i>\n",
       "        </td>\n",
       "        <td class=\"workflow_name\">\n",
       "          <pre><span id=\"workflow_name_65f4e05b0aba433f8cec2c2df458d58e\">default</span></pre>\n",
       "        </td>\n",
       "        <td class=\"workflow_id\">\n",
       "          <span>Workflow ID</span></br>\n",
       "          <pre><i class=\"fa fa-fw fa-sitemap\"></i><span id=\"workflow_id_65f4e05b0aba433f8cec2c2df458d58e\">128dc21a4566df7e</span></pre>\n",
       "        </td>\n",
       "        <td class=\"workflow_index\">\n",
       "          <span>Index</span></br>\n",
       "          <pre>#<span id=\"workflow_index_65f4e05b0aba433f8cec2c2df458d58e\">4</span></pre>\n",
       "        </td>\n",
       "        <td class=\"workflow_status\">\n",
       "          <span id=\"status_text_65f4e05b0aba433f8cec2c2df458d58e\">completed</span></br>\n",
       "          <pre><i class=\"fa fa-fw fa-clock-o\"></i><time id=\"status_duration_65f4e05b0aba433f8cec2c2df458d58e\" class=\"completed\" datetime=\"1545604571384.583\">Ran for 2 sec</time></pre>\n",
       "        </td>\n",
       "  </tr>\n",
       "</table>\n"
      ]
     },
     "metadata": {},
     "output_type": "display_data"
    },
    {
     "name": "stdout",
     "output_type": "stream",
     "text": [
      "\n",
      "group_by=source\n",
      "0: c1 c2 c3 c4 from ['group', 'group', 'group', 'group']\n",
      "2: b1 b2 from ['step_20', 'step_20']\n",
      "1: a1 from ['step_10']\n",
      "\n",
      "group_by=pairsource\n",
      "0: c1 a1 b1 from ['group', 'step_10', 'step_20']\n",
      "2: c3 a1 b2 from ['group', 'step_10', 'step_20']\n",
      "1: c2 a1 b1 from ['group', 'step_10', 'step_20']\n",
      "3: c4 a1 b2 from ['group', 'step_10', 'step_20']\n",
      "\n",
      "group_by=pairsource2\n",
      "0: c1 c2 a1 b1 from ['group', 'group', 'step_10', 'step_20']\n",
      "1: c3 c4 a1 b2 from ['group', 'group', 'step_10', 'step_20']\n"
     ]
    }
   ],
   "source": [
    "!touch c1 c2 c3 c4\n",
    "%run\n",
    "[step_10]\n",
    "output: 'a1'\n",
    "_output.touch()\n",
    "\n",
    "[step_20]\n",
    "output: 'b1', 'b2'\n",
    "_output.touch()\n",
    "\n",
    "[group]\n",
    "parameter: group = str\n",
    "print(f\"\\ngroup_by={group}\")\n",
    "input: 'c1', 'c2', 'c3', 'c4', output_from(['step_10', 'step_20']), group_by=group\n",
    "print(f\"{_index}: {_input} from {_input.sources}\")\n",
    "\n",
    "[default]\n",
    "sos_run('group', group='source')\n",
    "sos_run('group', group='pairsource')\n",
    "sos_run('group', group='pairsource2')"
   ]
  },
  {
   "cell_type": "markdown",
   "metadata": {
    "kernel": "SoS"
   },
   "source": [
    "The options `pairsource` and `pairsource2` need some explanation here because our groups do not have the same size. What these options do are\n",
    "\n",
    "1. Determine number of groups `m` from `N` and longest source.\n",
    "2. Either group or repeat items in sources to create `m` groups\n",
    "\n",
    "For example, with `pairsource2`, we are creating two groups because the largest source have 4 targets (`m=4/2=2`). Then, `a1` is repeated twice, `b1`, `b2` are in two groups, and `c1`, `c2` and `c3`, `c4` are in two groups."
   ]
  },
  {
   "cell_type": "markdown",
   "metadata": {
    "kernel": "SoS"
   },
   "source": [
    "Finally, if none of the predefined grouping mechanism works, you can specify a function that takes `step_input` and returns a list of `sos_targets`. "
   ]
  },
  {
   "cell_type": "code",
   "execution_count": 1,
   "metadata": {
    "kernel": "SoS"
   },
   "outputs": [
    {
     "name": "stdout",
     "output_type": "stream",
     "text": [
      "0: c1\n",
      "1: c2 c3\n",
      "2: c4 c5 c6\n"
     ]
    }
   ],
   "source": [
    "!touch c1 c2 c3 c4 c5 c6\n",
    "input: 'c1', 'c2', 'c3', 'c4', 'c5', 'c6',\n",
    "    group_by=lambda x: [x[0], x[1:3], x[3:]]\n",
    "    \n",
    "print(f\"{_index}: {_input}\")\n"
   ]
  },
  {
   "cell_type": "markdown",
   "metadata": {
    "kernel": "SoS"
   },
   "source": [
    "### `group_by` as option to input functions"
   ]
  },
  {
   "cell_type": "markdown",
   "metadata": {
    "kernel": "SoS"
   },
   "source": [
    "Pairing input from multiple sources is complicated when we apply `group_by` to a list of targets with different sources. It is actually a lot easier if you apply `group_by` to the sources separately. Fortunately, functions `output_from` accepts `group_by` so that you can regroup the targets before merging with other sources.\n",
    "\n",
    "For example, in the following example, `step_10` has two output files, `step_20` has 4, by applying `group_by=1` to `output_from('step_10')` and `group_by=2` to `output_from('step_20')`, we create two `sos_targets` each with two subgroups. The two `sos_targets` will be joined to create a single `_input` for each substep."
   ]
  },
  {
   "cell_type": "code",
   "execution_count": 2,
   "metadata": {
    "kernel": "SoS"
   },
   "outputs": [
    {
     "data": {
      "text/html": [
       "\n",
       "<table id=\"workflow_490edb0243d34fdd8d7199dcc1c8bb44\" class=\"workflow_table  completed\">\n",
       "  <tr>\n",
       "        <td class=\"workflow_icon\">\n",
       "          <i id=\"workflow_status_icon_490edb0243d34fdd8d7199dcc1c8bb44\" class=\"fa fa-2x fa-fw fa-check-square-o\"\n",
       "            ></i>\n",
       "        </td>\n",
       "        <td class=\"workflow_name\">\n",
       "          <pre><span id=\"workflow_name_490edb0243d34fdd8d7199dcc1c8bb44\">group</span></pre>\n",
       "        </td>\n",
       "        <td class=\"workflow_id\">\n",
       "          <span>Workflow ID</span></br>\n",
       "          <pre><i class=\"fa fa-fw fa-sitemap\"></i><span id=\"workflow_id_490edb0243d34fdd8d7199dcc1c8bb44\">a67f4ad6ee689885</span></pre>\n",
       "        </td>\n",
       "        <td class=\"workflow_index\">\n",
       "          <span>Index</span></br>\n",
       "          <pre>#<span id=\"workflow_index_490edb0243d34fdd8d7199dcc1c8bb44\">1</span></pre>\n",
       "        </td>\n",
       "        <td class=\"workflow_status\">\n",
       "          <span id=\"status_text_490edb0243d34fdd8d7199dcc1c8bb44\">completed</span></br>\n",
       "          <pre><i class=\"fa fa-fw fa-clock-o\"></i><time id=\"status_duration_490edb0243d34fdd8d7199dcc1c8bb44\" class=\"completed\" datetime=\"1545605854398.425\">Ran for < 5 seconds</time></pre>\n",
       "        </td>\n",
       "  </tr>\n",
       "</table>\n"
      ]
     },
     "metadata": {},
     "output_type": "display_data"
    },
    {
     "name": "stdout",
     "output_type": "stream",
     "text": [
      "0: a1 c1 c2 from ['step_10', 'step_20', 'step_20']\n",
      "1: a2 c3 c4 from ['step_10', 'step_20', 'step_20']\n"
     ]
    }
   ],
   "source": [
    "%run group\n",
    "\n",
    "[step_10]\n",
    "output: 'a1', 'a2'\n",
    "_output.touch()\n",
    "\n",
    "[step_20]\n",
    "output: 'c1', 'c2', 'c3', 'c4'\n",
    "_output.touch()\n",
    "\n",
    "[group]\n",
    "input: output_from('step_10', group_by=1),\n",
    "       output_from('step_20', group_by=2)\n",
    "print(f\"{_index}: {_input} from {_input.sources}\")"
   ]
  },
  {
   "cell_type": "markdown",
   "metadata": {
    "kernel": "SoS"
   },
   "source": [
    "As usual, keyword arguments overrides the sources of targets, so you can assign names to groups with keyword arguments:"
   ]
  },
  {
   "cell_type": "code",
   "execution_count": 3,
   "metadata": {
    "kernel": "SoS"
   },
   "outputs": [
    {
     "data": {
      "text/html": [
       "\n",
       "<table id=\"workflow_cf910547adf04db287cf89a57c95b045\" class=\"workflow_table  completed\">\n",
       "  <tr>\n",
       "        <td class=\"workflow_icon\">\n",
       "          <i id=\"workflow_status_icon_cf910547adf04db287cf89a57c95b045\" class=\"fa fa-2x fa-fw fa-check-square-o\"\n",
       "            ></i>\n",
       "        </td>\n",
       "        <td class=\"workflow_name\">\n",
       "          <pre><span id=\"workflow_name_cf910547adf04db287cf89a57c95b045\">group</span></pre>\n",
       "        </td>\n",
       "        <td class=\"workflow_id\">\n",
       "          <span>Workflow ID</span></br>\n",
       "          <pre><i class=\"fa fa-fw fa-sitemap\"></i><span id=\"workflow_id_cf910547adf04db287cf89a57c95b045\">a67f4ad6ee689885</span></pre>\n",
       "        </td>\n",
       "        <td class=\"workflow_index\">\n",
       "          <span>Index</span></br>\n",
       "          <pre>#<span id=\"workflow_index_cf910547adf04db287cf89a57c95b045\">2</span></pre>\n",
       "        </td>\n",
       "        <td class=\"workflow_status\">\n",
       "          <span id=\"status_text_cf910547adf04db287cf89a57c95b045\">completed</span></br>\n",
       "          <pre><i class=\"fa fa-fw fa-clock-o\"></i><time id=\"status_duration_cf910547adf04db287cf89a57c95b045\" class=\"completed\" datetime=\"1545605923947.605\">Ran for < 5 seconds</time></pre>\n",
       "        </td>\n",
       "  </tr>\n",
       "</table>\n"
      ]
     },
     "metadata": {},
     "output_type": "display_data"
    },
    {
     "name": "stdout",
     "output_type": "stream",
     "text": [
      "0: a1 c1 c2 from ['step_10', 's20', 's20']\n",
      "1: a2 c3 c4 from ['step_10', 's20', 's20']\n"
     ]
    }
   ],
   "source": [
    "%run group\n",
    "\n",
    "[step_10]\n",
    "output: 'a1', 'a2'\n",
    "_output.touch()\n",
    "\n",
    "[step_20]\n",
    "output: 'c1', 'c2', 'c3', 'c4'\n",
    "_output.touch()\n",
    "\n",
    "[group]\n",
    "input: output_from('step_10', group_by=1),\n",
    "       s20=output_from('step_20', group_by=2)\n",
    "print(f\"{_index}: {_input} from {_input.sources}\")"
   ]
  },
  {
   "cell_type": "markdown",
   "metadata": {
    "kernel": "SoS"
   },
   "source": [
    "Things can become tricky if you specify both \"regular\" input and grouped targets from `output_from`. In this case, the regular input will be considered as a `sos_targets` with a single group, and be merged to every group of another `sos_targets`. "
   ]
  },
  {
   "cell_type": "code",
   "execution_count": 4,
   "metadata": {
    "kernel": "SoS"
   },
   "outputs": [
    {
     "data": {
      "text/html": [
       "\n",
       "<table id=\"workflow_50a0a9e461934a6e84fc9a6c5ffafedd\" class=\"workflow_table  completed\">\n",
       "  <tr>\n",
       "        <td class=\"workflow_icon\">\n",
       "          <i id=\"workflow_status_icon_50a0a9e461934a6e84fc9a6c5ffafedd\" class=\"fa fa-2x fa-fw fa-check-square-o\"\n",
       "            ></i>\n",
       "        </td>\n",
       "        <td class=\"workflow_name\">\n",
       "          <pre><span id=\"workflow_name_50a0a9e461934a6e84fc9a6c5ffafedd\">group</span></pre>\n",
       "        </td>\n",
       "        <td class=\"workflow_id\">\n",
       "          <span>Workflow ID</span></br>\n",
       "          <pre><i class=\"fa fa-fw fa-sitemap\"></i><span id=\"workflow_id_50a0a9e461934a6e84fc9a6c5ffafedd\">ac135058d33d47ab</span></pre>\n",
       "        </td>\n",
       "        <td class=\"workflow_index\">\n",
       "          <span>Index</span></br>\n",
       "          <pre>#<span id=\"workflow_index_50a0a9e461934a6e84fc9a6c5ffafedd\">3</span></pre>\n",
       "        </td>\n",
       "        <td class=\"workflow_status\">\n",
       "          <span id=\"status_text_50a0a9e461934a6e84fc9a6c5ffafedd\">completed</span></br>\n",
       "          <pre><i class=\"fa fa-fw fa-clock-o\"></i><time id=\"status_duration_50a0a9e461934a6e84fc9a6c5ffafedd\" class=\"completed\" datetime=\"1545605967506.2917\">Ran for < 5 seconds</time></pre>\n",
       "        </td>\n",
       "  </tr>\n",
       "</table>\n"
      ]
     },
     "metadata": {},
     "output_type": "display_data"
    },
    {
     "name": "stdout",
     "output_type": "stream",
     "text": [
      "\n",
      "Substep 0\n",
      "substep input is a1 c1 c2 e1 e2 from ['step_10', 'step_20', 'step_20', 'my', 'my']\n",
      "\n",
      "Substep 1\n",
      "substep input is a2 c3 c4 e1 e2 from ['step_10', 'step_20', 'step_20', 'my', 'my']\n"
     ]
    }
   ],
   "source": [
    "!touch e1 e2\n",
    "%run group\n",
    "\n",
    "[step_10]\n",
    "output: 'a1', 'a2'\n",
    "_output.touch()\n",
    "\n",
    "[step_20]\n",
    "output: 'c1', 'c2', 'c3', 'c4'\n",
    "_output.touch()\n",
    "\n",
    "[group]\n",
    "input: output_from('step_10', group_by=1),\n",
    "       output_from('step_20', group_by=2),\n",
    "       my=('e1', 'e2')\n",
    "print(f'\\nSubstep {_index}')\n",
    "print(f\"substep input is {_input} from {_input.sources}\")"
   ]
  },
  {
   "cell_type": "markdown",
   "metadata": {
    "kernel": "SoS"
   },
   "source": [
    "However, if option `group_by` is specified outside of `output_from`, it will group all targets regardless of original grouping. For example, in the following example, output from `step_10` will be grouped by 2."
   ]
  },
  {
   "cell_type": "code",
   "execution_count": 7,
   "metadata": {
    "kernel": "SoS"
   },
   "outputs": [
    {
     "data": {
      "text/html": [
       "\n",
       "<table id=\"workflow_ae9e255a188c498c839b31b89053243b\" class=\"workflow_table  completed\">\n",
       "  <tr>\n",
       "        <td class=\"workflow_icon\">\n",
       "          <i id=\"workflow_status_icon_ae9e255a188c498c839b31b89053243b\" class=\"fa fa-2x fa-fw fa-check-square-o\"\n",
       "            ></i>\n",
       "        </td>\n",
       "        <td class=\"workflow_name\">\n",
       "          <pre><span id=\"workflow_name_ae9e255a188c498c839b31b89053243b\">group</span></pre>\n",
       "        </td>\n",
       "        <td class=\"workflow_id\">\n",
       "          <span>Workflow ID</span></br>\n",
       "          <pre><i class=\"fa fa-fw fa-sitemap\"></i><span id=\"workflow_id_ae9e255a188c498c839b31b89053243b\">c2e04d326bb31bc0</span></pre>\n",
       "        </td>\n",
       "        <td class=\"workflow_index\">\n",
       "          <span>Index</span></br>\n",
       "          <pre>#<span id=\"workflow_index_ae9e255a188c498c839b31b89053243b\">6</span></pre>\n",
       "        </td>\n",
       "        <td class=\"workflow_status\">\n",
       "          <span id=\"status_text_ae9e255a188c498c839b31b89053243b\">completed</span></br>\n",
       "          <pre><i class=\"fa fa-fw fa-clock-o\"></i><time id=\"status_duration_ae9e255a188c498c839b31b89053243b\" class=\"completed\" datetime=\"1545606653790.388\">Ran for 0 sec</time></pre>\n",
       "        </td>\n",
       "  </tr>\n",
       "</table>\n"
      ]
     },
     "metadata": {},
     "output_type": "display_data"
    },
    {
     "name": "stdout",
     "output_type": "stream",
     "text": [
      "\n",
      "Substep 0\n",
      "substep input is c1 c2 from ['step_10', 'step_10']\n",
      "\n",
      "Substep 1\n",
      "substep input is c3 c4 from ['step_10', 'step_10']\n",
      "\n",
      "Substep 2\n",
      "substep input is e1 e2 from ['my', 'my']\n"
     ]
    }
   ],
   "source": [
    "!touch e1 e2\n",
    "%run group\n",
    "\n",
    "[step_10]\n",
    "output: 'c1', 'c2', 'c3', 'c4'\n",
    "_output.touch()\n",
    "\n",
    "[group]\n",
    "input: output_from('step_10', group_by=1),\n",
    "       my=('e1', 'e2'), group_by=2\n",
    "print(f'\\nSubstep {_index}')\n",
    "print(f\"substep input is {_input} from {_input.sources}\")"
   ]
  },
  {
   "cell_type": "markdown",
   "metadata": {
    "kernel": "SoS"
   },
   "source": [
    "### Option `for_each` <a id=\"Option_for_each\"></a>"
   ]
  },
  {
   "cell_type": "markdown",
   "metadata": {
    "kernel": "SoS"
   },
   "source": [
    "Option `for_each` allows you to repeat step process for each value of a variable. For example,"
   ]
  },
  {
   "cell_type": "code",
   "execution_count": 1,
   "metadata": {
    "kernel": "SoS"
   },
   "outputs": [
    {
     "data": {
      "text/html": [
       "\n",
       "<table id=\"workflow_c3c91d788f424394a7b337e764ca24be\" class=\"workflow_table  completed\">\n",
       "  <tr>\n",
       "        <td class=\"workflow_icon\">\n",
       "          <i id=\"workflow_status_icon_c3c91d788f424394a7b337e764ca24be\" class=\"fa fa-2x fa-fw fa-check-square-o\"\n",
       "            ></i>\n",
       "        </td>\n",
       "        <td class=\"workflow_name\">\n",
       "          <pre><span id=\"workflow_name_c3c91d788f424394a7b337e764ca24be\">default</span></pre>\n",
       "        </td>\n",
       "        <td class=\"workflow_id\">\n",
       "          <span>Workflow ID</span></br>\n",
       "          <pre><i class=\"fa fa-fw fa-sitemap\"></i><span id=\"workflow_id_c3c91d788f424394a7b337e764ca24be\">6c2844dc1a8b592c</span></pre>\n",
       "        </td>\n",
       "        <td class=\"workflow_index\">\n",
       "          <span>Index</span></br>\n",
       "          <pre>#<span id=\"workflow_index_c3c91d788f424394a7b337e764ca24be\">1</span></pre>\n",
       "        </td>\n",
       "        <td class=\"workflow_status\">\n",
       "          <span id=\"status_text_c3c91d788f424394a7b337e764ca24be\">completed</span></br>\n",
       "          <pre><i class=\"fa fa-fw fa-clock-o\"></i><time id=\"status_duration_c3c91d788f424394a7b337e764ca24be\" class=\"completed\" datetime=\"1545606809575.395\">Ran for < 5 seconds</time></pre>\n",
       "        </td>\n",
       "  </tr>\n",
       "</table>\n"
      ]
     },
     "metadata": {},
     "output_type": "display_data"
    },
    {
     "name": "stdout",
     "output_type": "stream",
     "text": [
      "0: file1 file2 m1\n",
      "1: file1 file2 m2\n"
     ]
    }
   ],
   "source": [
    "!touch file1 file2\n",
    "%run\n",
    "\n",
    "method = ['m1', 'm2']\n",
    "input: 'file1', 'file2', for_each='method'\n",
    "print(f\"{_index}: {_input} {_method}\")"
   ]
  },
  {
   "cell_type": "markdown",
   "metadata": {
    "kernel": "SoS"
   },
   "source": [
    "will repeat the step with each item of variable `method`"
   ]
  },
  {
   "cell_type": "markdown",
   "metadata": {
    "kernel": "SoS"
   },
   "source": [
    "SoS automatically creates a loop variable `_method` for variable `method`, which assumes a slice of the variable at each iteration. "
   ]
  },
  {
   "cell_type": "markdown",
   "metadata": {
    "kernel": "SoS"
   },
   "source": [
    "Nested loops are also allowed. For example,"
   ]
  },
  {
   "cell_type": "code",
   "execution_count": 2,
   "metadata": {
    "kernel": "SoS"
   },
   "outputs": [
    {
     "data": {
      "text/html": [
       "\n",
       "<table id=\"workflow_9a97d4f4b5164548ad9cf4f2abf8945d\" class=\"workflow_table  completed\">\n",
       "  <tr>\n",
       "        <td class=\"workflow_icon\">\n",
       "          <i id=\"workflow_status_icon_9a97d4f4b5164548ad9cf4f2abf8945d\" class=\"fa fa-2x fa-fw fa-check-square-o\"\n",
       "            ></i>\n",
       "        </td>\n",
       "        <td class=\"workflow_name\">\n",
       "          <pre><span id=\"workflow_name_9a97d4f4b5164548ad9cf4f2abf8945d\">default</span></pre>\n",
       "        </td>\n",
       "        <td class=\"workflow_id\">\n",
       "          <span>Workflow ID</span></br>\n",
       "          <pre><i class=\"fa fa-fw fa-sitemap\"></i><span id=\"workflow_id_9a97d4f4b5164548ad9cf4f2abf8945d\">7ba8a0aced741c44</span></pre>\n",
       "        </td>\n",
       "        <td class=\"workflow_index\">\n",
       "          <span>Index</span></br>\n",
       "          <pre>#<span id=\"workflow_index_9a97d4f4b5164548ad9cf4f2abf8945d\">2</span></pre>\n",
       "        </td>\n",
       "        <td class=\"workflow_status\">\n",
       "          <span id=\"status_text_9a97d4f4b5164548ad9cf4f2abf8945d\">completed</span></br>\n",
       "          <pre><i class=\"fa fa-fw fa-clock-o\"></i><time id=\"status_duration_9a97d4f4b5164548ad9cf4f2abf8945d\" class=\"completed\" datetime=\"1545606836080.343\">Ran for < 5 seconds</time></pre>\n",
       "        </td>\n",
       "  </tr>\n",
       "</table>\n"
      ]
     },
     "metadata": {},
     "output_type": "display_data"
    },
    {
     "name": "stdout",
     "output_type": "stream",
     "text": [
      "0: _input=file1 file2 _method=m1, _pars=1\n",
      "1: _input=file1 file2 _method=m2, _pars=1\n",
      "3: _input=file1 file2 _method=m2, _pars=2\n",
      "2: _input=file1 file2 _method=m1, _pars=2\n"
     ]
    }
   ],
   "source": [
    "!touch file1 file2\n",
    "%run\n",
    "[0]\n",
    "method = ['m1', 'm2']\n",
    "pars = [1, 2]\n",
    "input: 'file1', 'file2', for_each=['method', 'pars']\n",
    "print(f\"{_index}: _input={_input} _method={_method}, _pars={_pars}\")"
   ]
  },
  {
   "cell_type": "markdown",
   "metadata": {
    "kernel": "SoS"
   },
   "source": [
    "If you would like to loop the process with several parameters, you can put them into the same level by 'var1,var2'. For example,"
   ]
  },
  {
   "cell_type": "code",
   "execution_count": 4,
   "metadata": {
    "kernel": "SoS"
   },
   "outputs": [
    {
     "data": {
      "text/html": [
       "\n",
       "<table id=\"workflow_6b2ac4605e944de687a87537152d1596\" class=\"workflow_table  completed\">\n",
       "  <tr>\n",
       "        <td class=\"workflow_icon\">\n",
       "          <i id=\"workflow_status_icon_6b2ac4605e944de687a87537152d1596\" class=\"fa fa-2x fa-fw fa-check-square-o\"\n",
       "            ></i>\n",
       "        </td>\n",
       "        <td class=\"workflow_name\">\n",
       "          <pre><span id=\"workflow_name_6b2ac4605e944de687a87537152d1596\">default</span></pre>\n",
       "        </td>\n",
       "        <td class=\"workflow_id\">\n",
       "          <span>Workflow ID</span></br>\n",
       "          <pre><i class=\"fa fa-fw fa-sitemap\"></i><span id=\"workflow_id_6b2ac4605e944de687a87537152d1596\">7ba8a0aced741c44</span></pre>\n",
       "        </td>\n",
       "        <td class=\"workflow_index\">\n",
       "          <span>Index</span></br>\n",
       "          <pre>#<span id=\"workflow_index_6b2ac4605e944de687a87537152d1596\">4</span></pre>\n",
       "        </td>\n",
       "        <td class=\"workflow_status\">\n",
       "          <span id=\"status_text_6b2ac4605e944de687a87537152d1596\">completed</span></br>\n",
       "          <pre><i class=\"fa fa-fw fa-clock-o\"></i><time id=\"status_duration_6b2ac4605e944de687a87537152d1596\" class=\"completed\" datetime=\"1545606849976.68\">Ran for < 5 seconds</time></pre>\n",
       "        </td>\n",
       "  </tr>\n",
       "</table>\n"
      ]
     },
     "metadata": {},
     "output_type": "display_data"
    },
    {
     "name": "stdout",
     "output_type": "stream",
     "text": [
      "0: _input=file1 file2 _method=m1, _pars=1\n",
      "2: _input=file1 file2 _method=m1, _pars=2\n",
      "3: _input=file1 file2 _method=m2, _pars=2\n",
      "1: _input=file1 file2 _method=m2, _pars=1\n"
     ]
    }
   ],
   "source": [
    "%run\n",
    "!touch file1 file2\n",
    "\n",
    "[0]\n",
    "method = ['m1', 'm2']\n",
    "pars = [1, 2]\n",
    "input: 'file1', 'file2', for_each=['method,pars']\n",
    "print(f\"{_index}: _input={_input} _method={_method}, _pars={_pars}\")"
   ]
  },
  {
   "cell_type": "markdown",
   "metadata": {
    "kernel": "SoS"
   },
   "source": [
    "The variable passed to option `for_each` can a sequence (`list`, `tuple`, `set`, etc), a Pandas `Series`, `Index`, or `DataFrame`. In the last case, each `_loop` variable presents a line in the dataframe and you can access single values using format `_loop[\"header\"]`. For example"
   ]
  },
  {
   "cell_type": "code",
   "execution_count": 5,
   "metadata": {
    "kernel": "SoS",
    "output_cache": "[]"
   },
   "outputs": [
    {
     "data": {
      "text/html": [
       "\n",
       "<table id=\"workflow_20601b9a6d154f8fbb6d9df4680aa3fc\" class=\"workflow_table  completed\">\n",
       "  <tr>\n",
       "        <td class=\"workflow_icon\">\n",
       "          <i id=\"workflow_status_icon_20601b9a6d154f8fbb6d9df4680aa3fc\" class=\"fa fa-2x fa-fw fa-check-square-o\"\n",
       "            ></i>\n",
       "        </td>\n",
       "        <td class=\"workflow_name\">\n",
       "          <pre><span id=\"workflow_name_20601b9a6d154f8fbb6d9df4680aa3fc\">default</span></pre>\n",
       "        </td>\n",
       "        <td class=\"workflow_id\">\n",
       "          <span>Workflow ID</span></br>\n",
       "          <pre><i class=\"fa fa-fw fa-sitemap\"></i><span id=\"workflow_id_20601b9a6d154f8fbb6d9df4680aa3fc\">7ba8a0aced741c44</span></pre>\n",
       "        </td>\n",
       "        <td class=\"workflow_index\">\n",
       "          <span>Index</span></br>\n",
       "          <pre>#<span id=\"workflow_index_20601b9a6d154f8fbb6d9df4680aa3fc\">5</span></pre>\n",
       "        </td>\n",
       "        <td class=\"workflow_status\">\n",
       "          <span id=\"status_text_20601b9a6d154f8fbb6d9df4680aa3fc\">completed</span></br>\n",
       "          <pre><i class=\"fa fa-fw fa-clock-o\"></i><time id=\"status_duration_20601b9a6d154f8fbb6d9df4680aa3fc\" class=\"completed\" datetime=\"1545606854274.25\">Ran for < 5 seconds</time></pre>\n",
       "        </td>\n",
       "  </tr>\n",
       "</table>\n"
      ]
     },
     "metadata": {},
     "output_type": "display_data"
    },
    {
     "name": "stdout",
     "output_type": "stream",
     "text": [
      "0: _input=file1 file2 _method=m1, _pars=1\n",
      "1: _input=file1 file2 _method=m2, _pars=1\n",
      "2: _input=file1 file2 _method=m1, _pars=2\n",
      "3: _input=file1 file2 _method=m2, _pars=2\n"
     ]
    }
   ],
   "source": [
    "%preview data\n",
    "%run\n",
    "[0]\n",
    "import pandas as pd\n",
    "data = pd.DataFrame([(1, 2, 'Hello'), (2, 4, 'World')], columns=['A', 'B', 'C'])\n",
    "input: for_each='data'\n",
    "output: f\"{_data['A']}_{_data['B']}_{_data['C']}.txt\"\n",
    "sh: expand=True\n",
    "    touch {_output}"
   ]
  },
  {
   "cell_type": "markdown",
   "metadata": {
    "kernel": "SoS"
   },
   "source": [
    "If you would like define your own loop variable, or if the default loop variable does not work (e.g. loop through `obj.sequence` where `_obj.sequence` is not a valid variable name), you can use a dictionary syntax in the format of `{'varname': sequence}`. Mult-variable and nested loops can be specified in the format of `{'var1': seq1, 'var2': seq2}` (same level) and `[{'var1': seq1}, {'var2': seq2}]`. \n",
    "\n",
    "For example, the first example for this parameter can be written as"
   ]
  },
  {
   "cell_type": "code",
   "execution_count": 6,
   "metadata": {
    "kernel": "SoS"
   },
   "outputs": [
    {
     "name": "stdout",
     "output_type": "stream",
     "text": [
      "0: file1 file2 m1\n",
      "1: file1 file2 m2\n"
     ]
    }
   ],
   "source": [
    "!touch file1 file2\n",
    "\n",
    "input: 'file1', 'file2', for_each=dict(method=['m1', 'm2'])\n",
    "print(f\"{_index}: {_input} {method}\")"
   ]
  },
  {
   "cell_type": "markdown",
   "metadata": {
    "kernel": "SoS"
   },
   "source": [
    "and a latter example can be written as"
   ]
  },
  {
   "cell_type": "code",
   "execution_count": 7,
   "metadata": {
    "kernel": "SoS",
    "output_cache": "[{\"text\":\"0: _input=file1 file2 method=m1, pars=1\\n1: _input=file1 file2 method=m2, pars=2\\n\",\"name\":\"stdout\",\"output_type\":\"stream\"}]"
   },
   "outputs": [
    {
     "data": {
      "text/html": [
       "\n",
       "<table id=\"workflow_a2095dcf8e73453688f7bafcf9f4767c\" class=\"workflow_table  completed\">\n",
       "  <tr>\n",
       "        <td class=\"workflow_icon\">\n",
       "          <i id=\"workflow_status_icon_a2095dcf8e73453688f7bafcf9f4767c\" class=\"fa fa-2x fa-fw fa-check-square-o\"\n",
       "            ></i>\n",
       "        </td>\n",
       "        <td class=\"workflow_name\">\n",
       "          <pre><span id=\"workflow_name_a2095dcf8e73453688f7bafcf9f4767c\">default</span></pre>\n",
       "        </td>\n",
       "        <td class=\"workflow_id\">\n",
       "          <span>Workflow ID</span></br>\n",
       "          <pre><i class=\"fa fa-fw fa-sitemap\"></i><span id=\"workflow_id_a2095dcf8e73453688f7bafcf9f4767c\">7ba8a0aced741c44</span></pre>\n",
       "        </td>\n",
       "        <td class=\"workflow_index\">\n",
       "          <span>Index</span></br>\n",
       "          <pre>#<span id=\"workflow_index_a2095dcf8e73453688f7bafcf9f4767c\">6</span></pre>\n",
       "        </td>\n",
       "        <td class=\"workflow_status\">\n",
       "          <span id=\"status_text_a2095dcf8e73453688f7bafcf9f4767c\">completed</span></br>\n",
       "          <pre><i class=\"fa fa-fw fa-clock-o\"></i><time id=\"status_duration_a2095dcf8e73453688f7bafcf9f4767c\" class=\"completed\" datetime=\"1545606935618.735\">Ran for < 5 seconds</time></pre>\n",
       "        </td>\n",
       "  </tr>\n",
       "</table>\n"
      ]
     },
     "metadata": {},
     "output_type": "display_data"
    },
    {
     "name": "stdout",
     "output_type": "stream",
     "text": [
      "0: _input=file1 file2 _method=m1, _pars=1\n",
      "1: _input=file1 file2 _method=m2, _pars=1\n",
      "2: _input=file1 file2 _method=m1, _pars=2\n",
      "3: _input=file1 file2 _method=m2, _pars=2\n"
     ]
    }
   ],
   "source": [
    "!touch file1 file2\n",
    "%run\n",
    "[0]\n",
    "input: 'file1', 'file2', \n",
    "   for_each=dict(method=['m1','m2'], pars=[1, 2])\n",
    "print(f\"{_index}: _input={_input} method={method}, pars={pars}\")"
   ]
  },
  {
   "cell_type": "markdown",
   "metadata": {
    "kernel": "SoS",
    "output_cache": "[]"
   },
   "source": [
    "The dictionary syntax also supports multiple keys. This helps customizing groups of variables. For example in the script below we only care for situations where `n` is greater than `p`,  "
   ]
  },
  {
   "cell_type": "code",
   "execution_count": 8,
   "metadata": {
    "kernel": "SoS",
    "output_cache": "[]"
   },
   "outputs": [
    {
     "data": {
      "text/html": [
       "\n",
       "<table id=\"workflow_eead2195247c425c97392f6f65e43d70\" class=\"workflow_table  completed\">\n",
       "  <tr>\n",
       "        <td class=\"workflow_icon\">\n",
       "          <i id=\"workflow_status_icon_eead2195247c425c97392f6f65e43d70\" class=\"fa fa-2x fa-fw fa-check-square-o\"\n",
       "            ></i>\n",
       "        </td>\n",
       "        <td class=\"workflow_name\">\n",
       "          <pre><span id=\"workflow_name_eead2195247c425c97392f6f65e43d70\">default</span></pre>\n",
       "        </td>\n",
       "        <td class=\"workflow_id\">\n",
       "          <span>Workflow ID</span></br>\n",
       "          <pre><i class=\"fa fa-fw fa-sitemap\"></i><span id=\"workflow_id_eead2195247c425c97392f6f65e43d70\">7ba8a0aced741c44</span></pre>\n",
       "        </td>\n",
       "        <td class=\"workflow_index\">\n",
       "          <span>Index</span></br>\n",
       "          <pre>#<span id=\"workflow_index_eead2195247c425c97392f6f65e43d70\">7</span></pre>\n",
       "        </td>\n",
       "        <td class=\"workflow_status\">\n",
       "          <span id=\"status_text_eead2195247c425c97392f6f65e43d70\">completed</span></br>\n",
       "          <pre><i class=\"fa fa-fw fa-clock-o\"></i><time id=\"status_duration_eead2195247c425c97392f6f65e43d70\" class=\"completed\" datetime=\"1545606951013.155\">Ran for < 5 seconds</time></pre>\n",
       "        </td>\n",
       "  </tr>\n",
       "</table>\n"
      ]
     },
     "metadata": {},
     "output_type": "display_data"
    },
    {
     "name": "stdout",
     "output_type": "stream",
     "text": [
      "0: _input=file1 file2 _method=m1, _pars=1\n",
      "1: _input=file1 file2 _method=m2, _pars=1\n",
      "3: _input=file1 file2 _method=m2, _pars=2\n",
      "2: _input=file1 file2 _method=m1, _pars=2\n"
     ]
    }
   ],
   "source": [
    "!touch a.txt\n",
    "%run\n",
    "[1]\n",
    "import itertools\n",
    "parameter: n = [100, 300]\n",
    "parameter: p = [50, 100, 200]\n",
    "parameter: outfile = ['1.txt', '2.txt', '3.txt', '4.txt', '5.txt', '6.txt']\n",
    "input: 'a.txt', for_each= {'_n,_p': [(_n,_p) for _n in n for _p in p if _n > _p]}\n",
    "print(f\"{_index} {outfile[_index]} {_n} {_p}\")"
   ]
  },
  {
   "cell_type": "markdown",
   "metadata": {
    "kernel": "SoS"
   },
   "source": [
    "### Option `paired_with` <a id=\"Option_paired_with\"></a>"
   ]
  },
  {
   "cell_type": "markdown",
   "metadata": {
    "kernel": "SoS"
   },
   "source": [
    "Option `paired_with` assigns attributes to each of the targets in `step_input`. For example, "
   ]
  },
  {
   "cell_type": "code",
   "execution_count": 12,
   "metadata": {
    "kernel": "SoS"
   },
   "outputs": [
    {
     "name": "stdout",
     "output_type": "stream",
     "text": [
      "Sample case/A1.bam is of type case\n",
      "Sample case/A2.bam is of type case\n",
      "Sample ctrl/A1.bam is of type ctrl\n",
      "Sample ctrl/A2.bam is of type ctrl\n"
     ]
    }
   ],
   "source": [
    "!mkdir case ctrl\n",
    "!touch case/A1.bam case/A2.bam ctrl/A1.bam ctrl/A2.bam\n",
    "\n",
    "bam_files = ['case/A1.bam', 'case/A2.bam', 'ctrl/A1.bam', 'ctrl/A2.bam']\n",
    "mutated = ['case', 'case', 'ctrl', 'ctrl']\n",
    "\n",
    "input: bam_files, paired_with=dict(mutated=mutated)\n",
    "for i in range(4):\n",
    "    print(f'Sample {_input[i]} is of type {_input[i].mutated}')"
   ]
  },
  {
   "cell_type": "markdown",
   "metadata": {
    "kernel": "SoS"
   },
   "source": [
    "Here the dictionary syntax expands to \n",
    "```\n",
    "paired_with={'mutated': ['case', 'case', 'ctrl', 'ctrl']}\n",
    "```\n",
    "and basically assigns each values to attribute `mutated` of each target.\n",
    "\n",
    "Although this example is not particularly exciting, it becomes useful when the `step_input` is groupped,"
   ]
  },
  {
   "cell_type": "code",
   "execution_count": 15,
   "metadata": {
    "kernel": "SoS"
   },
   "outputs": [
    {
     "name": "stdout",
     "output_type": "stream",
     "text": [
      "\n",
      "Group 0\n",
      "Sample case/A1.bam is of type case\n",
      "Sample case/A2.bam is of type case\n",
      "\n",
      "Group 1\n",
      "Sample ctrl/A1.bam is of type ctrl\n",
      "Sample ctrl/A2.bam is of type ctrl\n"
     ]
    }
   ],
   "source": [
    "!touch case/A1.bam case/A2.bam ctrl/A1.bam ctrl/A2.bam\n",
    "\n",
    "bam_files = ['case/A1.bam', 'case/A2.bam', 'ctrl/A1.bam', 'ctrl/A2.bam']\n",
    "mutated = ['case', 'case', 'ctrl', 'ctrl']\n",
    "\n",
    "input: bam_files, paired_with=dict(mutated=mutated), group_by=2\n",
    "print(f'\\nGroup {_index}')\n",
    "for s in _input:\n",
    "    print(f'Sample {s} is of type {s.mutated}')"
   ]
  },
  {
   "cell_type": "markdown",
   "metadata": {
    "kernel": "SoS"
   },
   "source": [
    "The dictionary syntax can be a little long to type so SoS provides a shortcut\n",
    "\n",
    "```\n",
    "paired_with='name'\n",
    "```\n",
    "which is equivalent to\n",
    "\n",
    "```\n",
    "paired_with=dict(_name=name)\n",
    "```\n",
    "note that SoS created variables already have a leading underscore to differentiate from regular variables."
   ]
  },
  {
   "cell_type": "code",
   "execution_count": 18,
   "metadata": {
    "kernel": "SoS"
   },
   "outputs": [
    {
     "name": "stdout",
     "output_type": "stream",
     "text": [
      "0: _input=case/A1.bam _mutated=case, _sample_name=A1\n",
      "1: _input=case/A2.bam _mutated=case, _sample_name=A2\n",
      "2: _input=ctrl/A1.bam _mutated=ctrl, _sample_name=A1\n",
      "3: _input=ctrl/A2.bam _mutated=ctrl, _sample_name=A2\n"
     ]
    }
   ],
   "source": [
    "!touch case/A1.bam case/A2.bam ctrl/A1.bam ctrl/A2.bam\n",
    "\n",
    "bam_files = ['case/A1.bam', 'case/A2.bam', 'ctrl/A1.bam', 'ctrl/A2.bam']\n",
    "mutated = ['case', 'case', 'ctrl', 'ctrl']\n",
    "sample_name = ['A1', 'A2', 'A1', 'A2']\n",
    "\n",
    "input: bam_files, paired_with=['mutated', 'sample_name'], group_by=1\n",
    "print(f\"{_index}: _input={_input} _mutated={_input._mutated}, _sample_name={_input._sample_name}\")"
   ]
  },
  {
   "cell_type": "markdown",
   "metadata": {
    "kernel": "SoS"
   },
   "source": [
    "Another convenience feature is that SoS creates a step level variable from these attributes so that you can access all values at the same time. That is to say, `_mutated` is created as a shortcut for \n",
    "```\n",
    "[x._mutated for x in _input]\n",
    "```"
   ]
  },
  {
   "cell_type": "code",
   "execution_count": 20,
   "metadata": {
    "kernel": "SoS"
   },
   "outputs": [
    {
     "name": "stdout",
     "output_type": "stream",
     "text": [
      "0: _input=case/A1.bam case/A2.bam _mutated=['case', 'case'], _sample_name=['A1', 'A2']\n",
      "1: _input=ctrl/A1.bam ctrl/A2.bam _mutated=['ctrl', 'ctrl'], _sample_name=['A1', 'A2']\n"
     ]
    }
   ],
   "source": [
    "bam_files = ['case/A1.bam', 'case/A2.bam', 'ctrl/A1.bam', 'ctrl/A2.bam']\n",
    "mutated = ['case', 'case', 'ctrl', 'ctrl']\n",
    "sample_name = ['A1', 'A2', 'A1', 'A2']\n",
    "\n",
    "input: bam_files, paired_with=['mutated', 'sample_name'], group_by=2\n",
    "print(f\"{_index}: _input={_input} _mutated={_mutated}, _sample_name={_sample_name}\")"
   ]
  },
  {
   "cell_type": "markdown",
   "metadata": {
    "kernel": "SoS"
   },
   "source": [
    "Values to option `paired_with` are usually lists of the same length as `step_input` but it can also be other types such as `paths` and `sos_targets`, in this case the iterator variables (e.g. `_mutated` for `mutated`) will have the same type as the input variable. For example, "
   ]
  },
  {
   "cell_type": "markdown",
   "metadata": {
    "kernel": "SoS"
   },
   "source": [
    "### Option `group_with` <a id=\"Option_group_with\"></a>"
   ]
  },
  {
   "cell_type": "markdown",
   "metadata": {
    "kernel": "SoS"
   },
   "source": [
    "Similar to option `paired_with` that associate variables to input files, you could associate items of a sequence with each substep. This option is applied after `group_by` and before `for_each`, which means the length of the sequence should equal to the number of substeps. and the variables will be the same for each `for_each` loop. Also similar to option `paired_with`, option `group_with` can take a string (name of variable) or a dictionary.\n",
    "\n",
    "Using the above example, you can assign a label for each group by passing name of a sequence variable"
   ]
  },
  {
   "cell_type": "code",
   "execution_count": 21,
   "metadata": {
    "kernel": "SoS"
   },
   "outputs": [
    {
     "name": "stdout",
     "output_type": "stream",
     "text": [
      "0: _input=case/A1.bam case/A2.bam _mutated=case\n",
      "1: _input=ctrl/A1.bam ctrl/A2.bam _mutated=ctrl\n"
     ]
    }
   ],
   "source": [
    "%sandbox\n",
    "!mkdir case ctrl\n",
    "!touch case/A1.bam case/A2.bam ctrl/A1.bam ctrl/A2.bam\n",
    "\n",
    "mutated = ['case', 'ctrl']\n",
    "bam_files = ['case/A1.bam', 'case/A2.bam', 'ctrl/A1.bam', 'ctrl/A2.bam']\n",
    "input: bam_files, group_by=2, group_with='mutated'\n",
    "print(f\"{_index}: _input={_input} _mutated={_mutated}\")"
   ]
  },
  {
   "cell_type": "markdown",
   "metadata": {
    "kernel": "SoS"
   },
   "source": [
    "or a dictionary with variable name and values:"
   ]
  },
  {
   "cell_type": "code",
   "execution_count": 22,
   "metadata": {
    "kernel": "SoS"
   },
   "outputs": [
    {
     "name": "stdout",
     "output_type": "stream",
     "text": [
      "0: _input=case/A1.bam case/A2.bam mutated=case\n",
      "1: _input=ctrl/A1.bam ctrl/A2.bam mutated=ctrl\n"
     ]
    }
   ],
   "source": [
    "%sandbox\n",
    "!mkdir case ctrl\n",
    "!touch case/A1.bam case/A2.bam ctrl/A1.bam ctrl/A2.bam\n",
    "\n",
    "bam_files = ['case/A1.bam', 'case/A2.bam', 'ctrl/A1.bam', 'ctrl/A2.bam']\n",
    "input: bam_files, group_by=2, group_with={'mutated': ['case', 'ctrl']}\n",
    "print(f\"{_index}: _input={_input} mutated={mutated}\")"
   ]
  },
  {
   "cell_type": "markdown",
   "metadata": {
    "kernel": "SoS"
   },
   "source": [
    "### Option `pattern` <a id=\"Option_pattern\"></a>"
   ]
  },
  {
   "cell_type": "markdown",
   "metadata": {
    "kernel": "SoS"
   },
   "source": [
    "This option does the reverse of function `expand_pattern`. It uses named wildcards to match pattern to all input files, and creates step variables for these wildcard objects. For example,"
   ]
  },
  {
   "cell_type": "code",
   "execution_count": 23,
   "metadata": {
    "kernel": "SoS"
   },
   "outputs": [
    {
     "name": "stdout",
     "output_type": "stream",
     "text": [
      "a-processed-20.txt b-processed-10.txt\n"
     ]
    }
   ],
   "source": [
    "%sandbox\n",
    "!touch a-20.txt b-10.txt\n",
    "%run\n",
    "[step]\n",
    "input:  'a-20.txt', 'b-10.txt', pattern = '{name}-{par}.txt'\n",
    "output: expand_pattern(\"{name}-processed-{par}.txt\")\n",
    "sh: expand=True\n",
    "    echo {_output}\n",
    "    touch {_output}"
   ]
  },
  {
   "cell_type": "markdown",
   "metadata": {
    "kernel": "SoS"
   },
   "source": [
    "will take all input files and extract `name` and `par` from each file name as variables `name` and `par`. It is then used to create output file names adding the word `processed` in between these wildcard objects. The outcome of the SoS script above is creation of files `a-processed-10.txt` and `b-processed-20.txt`."
   ]
  },
  {
   "cell_type": "markdown",
   "metadata": {
    "kernel": "SoS"
   },
   "source": [
    "When wildcard objects are accessed as step variables, both variable names with and without `_` prefix is available, e.g. in this example, both `_name` and `name`, `_par` and `par` are avaiable and are the same. The two conventions will only differ when `group_by` or `for_each` is also used. In which case the generated pattern variables `name` and `par` are automatically paired with `input` as if they have been paired using option `paired_with=['name', 'par']`."
   ]
  },
  {
   "cell_type": "code",
   "execution_count": 24,
   "metadata": {
    "kernel": "SoS"
   },
   "outputs": [
    {
     "name": "stdout",
     "output_type": "stream",
     "text": [
      "a-processed-20.txt\n",
      "b-processed-10.txt\n"
     ]
    }
   ],
   "source": [
    "%sandbox\n",
    "!touch a-20.txt b-10.txt\n",
    "%run\n",
    "[step]\n",
    "input:  'a-20.txt', 'b-10.txt', pattern = '{name}-{par}.txt', group_by=1\n",
    "output: expand_pattern(\"{_name}-processed-{_par}.txt\")\n",
    "sh: expand=True\n",
    "    echo {_output}\n",
    "    touch {_output}"
   ]
  },
  {
   "cell_type": "markdown",
   "metadata": {
    "kernel": "SoS"
   },
   "source": [
    "### Option `concurrent` <a id=\"Option_concurrent\"></a>"
   ]
  },
  {
   "cell_type": "markdown",
   "metadata": {
    "kernel": "SoS"
   },
   "source": [
    "Substeps of a step are by default executed concurrently with potential dependencies. For example,"
   ]
  },
  {
   "cell_type": "code",
   "execution_count": 5,
   "metadata": {
    "kernel": "SoS"
   },
   "outputs": [
    {
     "name": "stdout",
     "output_type": "stream",
     "text": [
      "sum is 0 at index 0, completed in 4.7 seconds\n",
      "sum is 0 at index 1, completed in 4.7 seconds\n",
      "sum is 0 at index 2, completed in 4.7 seconds\n",
      "sum is 0 at index 3, completed in 4.7 seconds\n"
     ]
    }
   ],
   "source": [
    "sum = 0\n",
    "import time\n",
    "start_time = time.time()\n",
    "input: for_each={'i': range(4)}\n",
    "time.sleep(4)\n",
    "print(f'sum is {sum} at index {_index}, completed in {time.time() - start_time:.1f} seconds')"
   ]
  },
  {
   "cell_type": "markdown",
   "metadata": {
    "kernel": "SoS"
   },
   "source": [
    "As you can see, the `start_time` is the start time of all substeps, and the all substeps complete at about the same time because they are executed concurrently.\n",
    "\n",
    "Concurrent execution can cause some unexpected results. For example, there are 4 substeps in the following example. Each of them adds `i` to a shared variable `sum`, but the results are not accumulated because each substep has its own `sum`."
   ]
  },
  {
   "cell_type": "code",
   "execution_count": 7,
   "metadata": {
    "kernel": "SoS"
   },
   "outputs": [
    {
     "name": "stdout",
     "output_type": "stream",
     "text": [
      "sum is 0 at index 0\n",
      "sum is 1 at index 1\n",
      "sum is 2 at index 2\n",
      "sum is 3 at index 3\n"
     ]
    }
   ],
   "source": [
    "sum = 0\n",
    "input: for_each=dict(i=range(4))\n",
    "sum += i\n",
    "print(f'sum is {sum} at index {_index}')"
   ]
  },
  {
   "cell_type": "markdown",
   "metadata": {
    "kernel": "SoS"
   },
   "source": [
    "To get the correct `sum` for all substeps, you can execute the substeps sequentially by adding option `concurrent=False`."
   ]
  },
  {
   "cell_type": "code",
   "execution_count": 8,
   "metadata": {
    "kernel": "SoS"
   },
   "outputs": [
    {
     "name": "stdout",
     "output_type": "stream",
     "text": [
      "sum is 0 at index 0\n",
      "sum is 1 at index 1\n",
      "sum is 3 at index 2\n",
      "sum is 6 at index 3\n"
     ]
    }
   ],
   "source": [
    "sum = 0\n",
    "input: for_each=dict(i=range(4)), concurrent=False\n",
    "sum += i\n",
    "print(f'sum is {sum} at index {_index}')"
   ]
  },
  {
   "cell_type": "markdown",
   "metadata": {
    "kernel": "SoS"
   },
   "source": [
    "### `dynamic` input files"
   ]
  },
  {
   "cell_type": "markdown",
   "metadata": {
    "kernel": "SoS"
   },
   "source": [
    "In order to determine the best execution strategy, SoS evaluates all expressions for all steps before the execution of a workflow to figure\n",
    "out input and output of steps. This works most of the time but sometimes the input of a step can only be determined at runtime. For example,\n",
    "if you would like your workflow to automatically scan an input directory and process all fasta files under it, or if a previous step produces\n",
    "files that cannot be determined beforehand, you can specify input files as follows,\n",
    "\n",
    "```python\n",
    "input: 'input/*.fasta'\n",
    "```\n",
    "\n",
    "The problem is that no file or a wrong set files might exist during the planing stage so SoS might skip this step or start the step\n",
    "with a wrong set of files. To address this problem, you can declare the input files as **dynamic** by passing a `dynamic` object\n",
    "\n",
    "```python\n",
    "input: dynamic('input/*.fasta')\n",
    "```\n",
    "\n",
    "This tells SoS that the input of this step can only be determined at runtime and will execute the step only after all its previous\n",
    "steps have been completed."
   ]
  },
  {
   "cell_type": "markdown",
   "metadata": {
    "kernel": "SoS"
   },
   "source": [
    "### Inherited input with groups"
   ]
  },
  {
   "cell_type": "markdown",
   "metadata": {
    "kernel": "SoS"
   },
   "source": [
    "Remember that the purpose of `input` statement is to create `step_input` with appropriate targets and groups, but what will happen to `sos_targets` inherited from previous step, from `output_from` and `named_output`? The simple answer is that the existing groups will be honored.\n",
    "\n",
    "Let us first look at one example,"
   ]
  },
  {
   "cell_type": "code",
   "execution_count": 10,
   "metadata": {
    "kernel": "SoS"
   },
   "outputs": [
    {
     "data": {
      "text/html": [
       "\n",
       "<table id=\"workflow_963ebfa2719c4e2a85344c2c728d161d\" class=\"workflow_table  completed\">\n",
       "  <tr>\n",
       "        <td class=\"workflow_icon\">\n",
       "          <i id=\"workflow_status_icon_963ebfa2719c4e2a85344c2c728d161d\" class=\"fa fa-2x fa-fw fa-check-square-o\"\n",
       "            ></i>\n",
       "        </td>\n",
       "        <td class=\"workflow_name\">\n",
       "          <pre><span id=\"workflow_name_963ebfa2719c4e2a85344c2c728d161d\">default</span></pre>\n",
       "        </td>\n",
       "        <td class=\"workflow_id\">\n",
       "          <span>Workflow ID</span></br>\n",
       "          <pre><i class=\"fa fa-fw fa-sitemap\"></i><span id=\"workflow_id_963ebfa2719c4e2a85344c2c728d161d\">00e512747f48765d</span></pre>\n",
       "        </td>\n",
       "        <td class=\"workflow_index\">\n",
       "          <span>Index</span></br>\n",
       "          <pre>#<span id=\"workflow_index_963ebfa2719c4e2a85344c2c728d161d\">3</span></pre>\n",
       "        </td>\n",
       "        <td class=\"workflow_status\">\n",
       "          <span id=\"status_text_963ebfa2719c4e2a85344c2c728d161d\">completed</span></br>\n",
       "          <pre><i class=\"fa fa-fw fa-clock-o\"></i><time id=\"status_duration_963ebfa2719c4e2a85344c2c728d161d\" class=\"completed\" datetime=\"1545611386397.4988\">Ran for < 5 seconds</time></pre>\n",
       "        </td>\n",
       "  </tr>\n",
       "</table>\n"
      ]
     },
     "metadata": {},
     "output_type": "display_data"
    },
    {
     "name": "stdout",
     "output_type": "stream",
     "text": [
      "out_0.txt\n",
      "out_2.txt\n",
      "out_1.txt\n"
     ]
    }
   ],
   "source": [
    "%run\n",
    "[10]\n",
    "input: for_each=dict(i=range(3))\n",
    "output: f'out_{i}.txt'\n",
    "_output.touch()\n",
    "\n",
    "[20]\n",
    "print(_input)"
   ]
  },
  {
   "cell_type": "markdown",
   "metadata": {
    "kernel": "SoS"
   },
   "source": [
    "What happens here is that there are three substeps in step `10`, creating outputs `out_0.txt`, `out_1.txt` and `out_2.txt`. The `step_output` object contains three targets in three groups.\n",
    "\n",
    "When this `step_output` target is inherited by step `20` and becomes the `step_input` of the next step, step `20` is executed with the three existing substeps with `_input` being the `_output` of step `10`."
   ]
  },
  {
   "cell_type": "markdown",
   "metadata": {
    "kernel": "SoS"
   },
   "source": [
    "If this is what you want, you can regroup the input with option `group_by`. For example,"
   ]
  },
  {
   "cell_type": "code",
   "execution_count": 11,
   "metadata": {
    "kernel": "SoS"
   },
   "outputs": [
    {
     "data": {
      "text/html": [
       "\n",
       "<table id=\"workflow_6fde36b98ca74ad384c506f68885a209\" class=\"workflow_table  completed\">\n",
       "  <tr>\n",
       "        <td class=\"workflow_icon\">\n",
       "          <i id=\"workflow_status_icon_6fde36b98ca74ad384c506f68885a209\" class=\"fa fa-2x fa-fw fa-check-square-o\"\n",
       "            ></i>\n",
       "        </td>\n",
       "        <td class=\"workflow_name\">\n",
       "          <pre><span id=\"workflow_name_6fde36b98ca74ad384c506f68885a209\">default</span></pre>\n",
       "        </td>\n",
       "        <td class=\"workflow_id\">\n",
       "          <span>Workflow ID</span></br>\n",
       "          <pre><i class=\"fa fa-fw fa-sitemap\"></i><span id=\"workflow_id_6fde36b98ca74ad384c506f68885a209\">00e512747f48765d</span></pre>\n",
       "        </td>\n",
       "        <td class=\"workflow_index\">\n",
       "          <span>Index</span></br>\n",
       "          <pre>#<span id=\"workflow_index_6fde36b98ca74ad384c506f68885a209\">4</span></pre>\n",
       "        </td>\n",
       "        <td class=\"workflow_status\">\n",
       "          <span id=\"status_text_6fde36b98ca74ad384c506f68885a209\">completed</span></br>\n",
       "          <pre><i class=\"fa fa-fw fa-clock-o\"></i><time id=\"status_duration_6fde36b98ca74ad384c506f68885a209\" class=\"completed\" datetime=\"1545611620458.7751\">Ran for < 5 seconds</time></pre>\n",
       "        </td>\n",
       "  </tr>\n",
       "</table>\n"
      ]
     },
     "metadata": {},
     "output_type": "display_data"
    },
    {
     "name": "stdout",
     "output_type": "stream",
     "text": [
      "out_0.txt out_1.txt out_2.txt\n"
     ]
    }
   ],
   "source": [
    "%run\n",
    "[10]\n",
    "input: for_each=dict(i=range(3))\n",
    "output: f'out_{i}.txt'\n",
    "_output.touch()\n",
    "\n",
    "[20]\n",
    "input: group_by='all'\n",
    "print(_input)"
   ]
  },
  {
   "cell_type": "markdown",
   "metadata": {
    "kernel": "SoS"
   },
   "source": [
    "The same logic applies to output obtained from `output_from` and `named_output`. In the following example, the `output_from` function inherited 4 groups of outputs from step 'A', and 2 groups of outputs from step `B`. It then regroup outputs from step `A` into 2 groups and merge it with output from `B`. The final `_input` of step `20` therefore has two groups, each with 2 from step `A` and 1 from step `B`."
   ]
  },
  {
   "cell_type": "code",
   "execution_count": 12,
   "metadata": {
    "kernel": "SoS"
   },
   "outputs": [
    {
     "data": {
      "text/html": [
       "\n",
       "<table id=\"workflow_9de591f48fc34c289c65e471c0bd9de5\" class=\"workflow_table  completed\">\n",
       "  <tr>\n",
       "        <td class=\"workflow_icon\">\n",
       "          <i id=\"workflow_status_icon_9de591f48fc34c289c65e471c0bd9de5\" class=\"fa fa-2x fa-fw fa-check-square-o\"\n",
       "            ></i>\n",
       "        </td>\n",
       "        <td class=\"workflow_name\">\n",
       "          <pre><span id=\"workflow_name_9de591f48fc34c289c65e471c0bd9de5\">default</span></pre>\n",
       "        </td>\n",
       "        <td class=\"workflow_id\">\n",
       "          <span>Workflow ID</span></br>\n",
       "          <pre><i class=\"fa fa-fw fa-sitemap\"></i><span id=\"workflow_id_9de591f48fc34c289c65e471c0bd9de5\">36316057dc19cf7a</span></pre>\n",
       "        </td>\n",
       "        <td class=\"workflow_index\">\n",
       "          <span>Index</span></br>\n",
       "          <pre>#<span id=\"workflow_index_9de591f48fc34c289c65e471c0bd9de5\">5</span></pre>\n",
       "        </td>\n",
       "        <td class=\"workflow_status\">\n",
       "          <span id=\"status_text_9de591f48fc34c289c65e471c0bd9de5\">completed</span></br>\n",
       "          <pre><i class=\"fa fa-fw fa-clock-o\"></i><time id=\"status_duration_9de591f48fc34c289c65e471c0bd9de5\" class=\"completed\" datetime=\"1545611731042.863\">Ran for < 5 seconds</time></pre>\n",
       "        </td>\n",
       "  </tr>\n",
       "</table>\n"
      ]
     },
     "metadata": {},
     "output_type": "display_data"
    },
    {
     "name": "stdout",
     "output_type": "stream",
     "text": [
      "A_0.txt A_1.txt B_0.txt\n",
      "A_2.txt A_3.txt B_1.txt\n"
     ]
    }
   ],
   "source": [
    "%run\n",
    "[A]\n",
    "input: for_each=dict(i=range(4))\n",
    "output: f'A_{i}.txt'\n",
    "_output.touch()\n",
    "\n",
    "[B]\n",
    "input: for_each=dict(i=range(2))\n",
    "output: f'B_{i}.txt'\n",
    "_output.touch()\n",
    "\n",
    "[20]\n",
    "input: output_from('A', group_by=2), output_from('B')\n",
    "print(_input)"
   ]
  },
  {
   "cell_type": "markdown",
   "metadata": {
    "kernel": "SoS"
   },
   "source": [
    "It is worth noting that `named_output` can have groups as well. Because a step can produce multiple named outputs, `named_output('a')` will essentially get a subset of targets with source `a`, and all targets from groups with source `a`. For example, step `K` generates 8 outputs in 4 groups. With `named_output('B')`, output and all targets in groups with name `B` are returned so `_input` will be `B_0.txt`, `B_1.txt` and so on."
   ]
  },
  {
   "cell_type": "code",
   "execution_count": 8,
   "metadata": {
    "kernel": "SoS"
   },
   "outputs": [
    {
     "data": {
      "text/html": [
       "\n",
       "<table id=\"workflow_b93d43c9fc2c41558913c128cf461e41\" class=\"workflow_table  completed\">\n",
       "  <tr>\n",
       "        <td class=\"workflow_icon\">\n",
       "          <i id=\"workflow_status_icon_b93d43c9fc2c41558913c128cf461e41\" class=\"fa fa-2x fa-fw fa-check-square-o\"\n",
       "            ></i>\n",
       "        </td>\n",
       "        <td class=\"workflow_name\">\n",
       "          <pre><span id=\"workflow_name_b93d43c9fc2c41558913c128cf461e41\">default</span></pre>\n",
       "        </td>\n",
       "        <td class=\"workflow_id\">\n",
       "          <span>Workflow ID</span></br>\n",
       "          <pre><i class=\"fa fa-fw fa-sitemap\"></i><span id=\"workflow_id_b93d43c9fc2c41558913c128cf461e41\">d80ff4278bad6c40</span></pre>\n",
       "        </td>\n",
       "        <td class=\"workflow_index\">\n",
       "          <span>Index</span></br>\n",
       "          <pre>#<span id=\"workflow_index_b93d43c9fc2c41558913c128cf461e41\">8</span></pre>\n",
       "        </td>\n",
       "        <td class=\"workflow_status\">\n",
       "          <span id=\"status_text_b93d43c9fc2c41558913c128cf461e41\">completed</span></br>\n",
       "          <pre><i class=\"fa fa-fw fa-clock-o\"></i><time id=\"status_duration_b93d43c9fc2c41558913c128cf461e41\" class=\"completed\" datetime=\"1545613365692.245\">Ran for < 5 seconds</time></pre>\n",
       "        </td>\n",
       "  </tr>\n",
       "</table>\n"
      ]
     },
     "metadata": {},
     "output_type": "display_data"
    },
    {
     "name": "stdout",
     "output_type": "stream",
     "text": [
      "B_0.txt\n",
      "B_2.txt\n",
      "B_1.txt\n",
      "B_3.txt\n"
     ]
    }
   ],
   "source": [
    "%run\n",
    "[K]\n",
    "input: for_each=dict(i=range(4))\n",
    "output: A=f'A_{i}.txt', B=f'B_{i}.txt'\n",
    "_output.touch()\n",
    "\n",
    "[20]\n",
    "input: named_output('B')\n",
    "print(_input)"
   ]
  },
  {
   "cell_type": "markdown",
   "metadata": {
    "kernel": "SoS"
   },
   "source": [
    "### Summary\n",
    "\n",
    "Options of step `input` are evaluated in the following orders:\n",
    "\n",
    "1. A list of input files, if specified, would replace `input`, which is by default output from the previous step.\n",
    "2. Option `group_by` groups the files into several groups, named `_input`\n",
    "3. Option `for_each` repeat `_input` for each loop var, named `_loopvar` if `for_each='loopvar'`.\n",
    "4. Option `paired_with` pairs one or more variables with `input`, variable `paired` is paired with `input`\n",
    "    and variable `_paired` is paired with `_input` in each loop if `paired_with='paired'`\n",
    "5. Option `pattern` extract variables from filenames in `input`. Variable `extracted` is paired with `input`\n",
    "    and variable `_extracted` is paired with `_input` in each loop if `extract='{extracted}_other_part'`.\n",
    "\n",
    "The differences between looped and non-loop steps are sumarized in the following figure\n",
    "\n",
    "![step_loop](../media/step_loop.jpg)"
   ]
  },
  {
   "cell_type": "markdown",
   "metadata": {
    "kernel": "SoS"
   },
   "source": [
    "## Step output <a id=\"Step_output\"></a>"
   ]
  },
  {
   "cell_type": "markdown",
   "metadata": {
    "kernel": "SoS"
   },
   "source": [
    "### Output files <a id=\"Output_files\"></a>"
   ]
  },
  {
   "cell_type": "markdown",
   "metadata": {
    "kernel": "SoS"
   },
   "source": [
    "Output files of a step can be specified by step `output`. Similar to `input`, step output accepts strings, variables, expressions, and allows wildcard characters. For example, the following are acceptable output files\n",
    "\n",
    "```python\n",
    "output:  []\n",
    "\n",
    "output:  'accepted_hits.bam'\n",
    "\n",
    "output:  aligned_reads, bam_stats\n",
    "\n",
    "output:  'aligned/*.bam'\n",
    "\n",
    "output:  expand_pattern('aligned_{samples}.bam')\n",
    "```\n",
    "\n",
    "In the last example, function `expand_pattern` is used to contruct list of files from items of a sequence `samples`."
   ]
  },
  {
   "cell_type": "markdown",
   "metadata": {
    "kernel": "SoS"
   },
   "source": [
    "Step process could be repeated multiple times with **substeps** defined by options `for_each` or `group_by`. Whereas `input` represents the complete set of input files, each substep has its own input files stored in variable `_input`.\n",
    "\n",
    "When there is no substep, `output` and `_output` are the same. Otherwise, the `output:` statement produces `_output` for each substep, and `_output` for all substeps form `output` after the completion of all substeps.\n",
    "\n",
    "For example, the following step accepts one or more bam files and index them using command `samtools index`. The input files are passed one by one and output from each substep is determined by `_input`. \n",
    "\n",
    "```python\n",
    "[10]\n",
    "input:\n",
    "\tbamfiles, group_by='single'\n",
    "\n",
    "output:\n",
    "\tf'{_input}.bai'\n",
    "\n",
    "run(f'''samtools index {_input} ''')\n",
    "```\n",
    "\n",
    "The use of variable `output` in this scenario is discouraged because `output`, as the collection of all `_output` increases with each substep."
   ]
  },
  {
   "cell_type": "markdown",
   "metadata": {
    "kernel": "SoS"
   },
   "source": [
    "Specifying output of the entire step when there are multiple substeps can lead to error. For example,\n",
    "\n",
    "```python\n",
    "[10]\n",
    "input:\n",
    "\tbamfiles, group_by=1\n",
    "\n",
    "output:\n",
    "\toutput: [x + '.bai' for x in bamfiles]\n",
    "\n",
    "task:\n",
    "run(f'''samtools index {_input} ''')\n",
    "```\n",
    "\n",
    "will fail because tasks in this step produce the same set of output files (equal `_output` for all substeps), and none of the task produces all specified output files.\n"
   ]
  },
  {
   "cell_type": "markdown",
   "metadata": {
    "kernel": "SoS"
   },
   "source": [
    "### Option `group_by` <a id=\"Option_group_by\"></a>"
   ]
  },
  {
   "cell_type": "markdown",
   "metadata": {
    "kernel": "SoS"
   },
   "source": [
    "The `output` statement usually generate a `sos_targets` object without groups. This object will become `_output`, which then becomes one of the groups of `step_output`.\n",
    "\n",
    "However, the `output` statement can also generate a `sos_targets` object with groups, in which case the `_index` group will be become the `_output` of subgroup `_index`. For this reason, the object should have the same number of groups as `step_input`.\n",
    "\n",
    "For example, if you have list of pre-determined input and output files and you would like to pair them, you can create list all output files and use option `group_by` to create an equal number of output groups as input groups."
   ]
  },
  {
   "cell_type": "code",
   "execution_count": 5,
   "metadata": {
    "kernel": "SoS"
   },
   "outputs": [
    {
     "data": {
      "text/html": [
       "\n",
       "<table id=\"workflow_fd75d9a6702b495a81de2d9b5442e179\" class=\"workflow_table  completed\">\n",
       "  <tr>\n",
       "        <td class=\"workflow_icon\">\n",
       "          <i id=\"workflow_status_icon_fd75d9a6702b495a81de2d9b5442e179\" class=\"fa fa-2x fa-fw fa-check-square-o\"\n",
       "            ></i>\n",
       "        </td>\n",
       "        <td class=\"workflow_name\">\n",
       "          <pre><span id=\"workflow_name_fd75d9a6702b495a81de2d9b5442e179\">default</span></pre>\n",
       "        </td>\n",
       "        <td class=\"workflow_id\">\n",
       "          <span>Workflow ID</span></br>\n",
       "          <pre><i class=\"fa fa-fw fa-sitemap\"></i><span id=\"workflow_id_fd75d9a6702b495a81de2d9b5442e179\">41c862e5b9a946e4</span></pre>\n",
       "        </td>\n",
       "        <td class=\"workflow_index\">\n",
       "          <span>Index</span></br>\n",
       "          <pre>#<span id=\"workflow_index_fd75d9a6702b495a81de2d9b5442e179\">5</span></pre>\n",
       "        </td>\n",
       "        <td class=\"workflow_status\">\n",
       "          <span id=\"status_text_fd75d9a6702b495a81de2d9b5442e179\">completed</span></br>\n",
       "          <pre><i class=\"fa fa-fw fa-clock-o\"></i><time id=\"status_duration_fd75d9a6702b495a81de2d9b5442e179\" class=\"completed\" datetime=\"1545612611265.95\">Ran for < 5 seconds</time></pre>\n",
       "        </td>\n",
       "  </tr>\n",
       "</table>\n"
      ]
     },
     "metadata": {},
     "output_type": "display_data"
    },
    {
     "name": "stdout",
     "output_type": "stream",
     "text": [
      "b_0.txt\n",
      "b_2.txt\n",
      "b_3.txt\n",
      "b_1.txt\n"
     ]
    }
   ],
   "source": [
    "%run\n",
    "in_files = [f'a_{i}.txt' for i in range(4)]\n",
    "out_files = [f'b_{i}.txt' for i in range(4)]\n",
    "\n",
    "[1]\n",
    "input: in_files, group_by=1\n",
    "output: out_files, group_by=1\n",
    "_output.touch()\n",
    "\n",
    "[2]\n",
    "print(_input)"
   ]
  },
  {
   "cell_type": "markdown",
   "metadata": {
    "kernel": "SoS"
   },
   "source": [
    "Note that the previous example might not produce `b_0.txt`, `b_1.txt` in order because the substeps are executed concurrently so substeps can complete the `print` statement in any order."
   ]
  },
  {
   "cell_type": "markdown",
   "metadata": {
    "kernel": "SoS"
   },
   "source": [
    "### Options `paired_with`, `group_with`, `pattern`, and `for_each`"
   ]
  },
  {
   "cell_type": "markdown",
   "metadata": {
    "kernel": "SoS"
   },
   "source": [
    "Just like `input` statements, options `paired_with`, `group_with`, `pattern`, and `for_each` are all allowed in the `output` statement and can be used to create `_output` that can be passed to the next step, or from `output_from` or `named_output`.\n",
    "\n",
    "The most useful usages of the `paired_with` and `group_with` options are to attached variables to output targets and the output group.\n",
    "\n",
    "Say we know that particular input and output files are associated with a sample name, and we have paired each input file with a sample name using option `paired_with=dict(sample=samples)`. Consequently, `_input.sample` is available for each substep.\n",
    "\n",
    "The output statement  \n",
    "```\n",
    "output: f'{_input}.result', paired_with=dict(sample=_input.sample)\n",
    "```\n",
    "generates `f'{_input}.result'` for each `_input` but the sample information will be lost. For this reason an option `paired_with=dict(sample=_input.sample)` is added to attach attribute `sample` with value `_input.sample` to each output file name. With this step each input file of step `20` has an attribute that points to its sample name."
   ]
  },
  {
   "cell_type": "code",
   "execution_count": 16,
   "metadata": {
    "kernel": "SoS"
   },
   "outputs": [
    {
     "data": {
      "text/html": [
       "\n",
       "<table id=\"workflow_c8f0f23a2a034a3f95ad6d452cbb1176\" class=\"workflow_table  completed\">\n",
       "  <tr>\n",
       "        <td class=\"workflow_icon\">\n",
       "          <i id=\"workflow_status_icon_c8f0f23a2a034a3f95ad6d452cbb1176\" class=\"fa fa-2x fa-fw fa-check-square-o\"\n",
       "            ></i>\n",
       "        </td>\n",
       "        <td class=\"workflow_name\">\n",
       "          <pre><span id=\"workflow_name_c8f0f23a2a034a3f95ad6d452cbb1176\">default</span></pre>\n",
       "        </td>\n",
       "        <td class=\"workflow_id\">\n",
       "          <span>Workflow ID</span></br>\n",
       "          <pre><i class=\"fa fa-fw fa-sitemap\"></i><span id=\"workflow_id_c8f0f23a2a034a3f95ad6d452cbb1176\">c1f4c407fcb8ccd6</span></pre>\n",
       "        </td>\n",
       "        <td class=\"workflow_index\">\n",
       "          <span>Index</span></br>\n",
       "          <pre>#<span id=\"workflow_index_c8f0f23a2a034a3f95ad6d452cbb1176\">16</span></pre>\n",
       "        </td>\n",
       "        <td class=\"workflow_status\">\n",
       "          <span id=\"status_text_c8f0f23a2a034a3f95ad6d452cbb1176\">completed</span></br>\n",
       "          <pre><i class=\"fa fa-fw fa-clock-o\"></i><time id=\"status_duration_c8f0f23a2a034a3f95ad6d452cbb1176\" class=\"completed\" datetime=\"1545614645470.9958\">Ran for < 5 seconds</time></pre>\n",
       "        </td>\n",
       "  </tr>\n",
       "</table>\n"
      ]
     },
     "metadata": {},
     "output_type": "display_data"
    },
    {
     "name": "stdout",
     "output_type": "stream",
     "text": [
      "a.txt.result with sample name A\n",
      "b.txt.result with sample name B\n"
     ]
    }
   ],
   "source": [
    "!touch a.txt b.txt\n",
    "\n",
    "%run\n",
    "[10]\n",
    "samples = ['A', 'B']\n",
    "input_files = ['a.txt', 'b.txt']\n",
    "\n",
    "input: input_files, group_by=1, paired_with=dict(sample=samples)\n",
    "output: f'{_input}.result', paired_with=dict(sample=_input.sample)\n",
    "_output.touch()\n",
    "\n",
    "[20]\n",
    "print(f'{_input} with sample name {_input.sample}')"
   ]
  },
  {
   "cell_type": "markdown",
   "metadata": {
    "kernel": "SoS"
   },
   "source": [
    "Similarly, in the following example,\n",
    "\n",
    "```\n",
    "output: f'a_{i}.txt', group_with=dict(i=i)\n",
    "```\n",
    "creates four `sos_targets` object with variable `i` attached. These objects becomes `_output` of step `10`, and `_input` of the next step. `i` becomes available in step `20` because it was attached to `_input`. This feature is pretty powerful but can be dangerous as well because of the \"contamination\" of namespace of step `20` from `_input` variables."
   ]
  },
  {
   "cell_type": "code",
   "execution_count": 13,
   "metadata": {
    "kernel": "SoS"
   },
   "outputs": [
    {
     "data": {
      "text/html": [
       "\n",
       "<table id=\"workflow_ae8ef6ef16a5409982ef1f1e269bb4cc\" class=\"workflow_table  completed\">\n",
       "  <tr>\n",
       "        <td class=\"workflow_icon\">\n",
       "          <i id=\"workflow_status_icon_ae8ef6ef16a5409982ef1f1e269bb4cc\" class=\"fa fa-2x fa-fw fa-check-square-o\"\n",
       "            ></i>\n",
       "        </td>\n",
       "        <td class=\"workflow_name\">\n",
       "          <pre><span id=\"workflow_name_ae8ef6ef16a5409982ef1f1e269bb4cc\">default</span></pre>\n",
       "        </td>\n",
       "        <td class=\"workflow_id\">\n",
       "          <span>Workflow ID</span></br>\n",
       "          <pre><i class=\"fa fa-fw fa-sitemap\"></i><span id=\"workflow_id_ae8ef6ef16a5409982ef1f1e269bb4cc\">09c0428018532656</span></pre>\n",
       "        </td>\n",
       "        <td class=\"workflow_index\">\n",
       "          <span>Index</span></br>\n",
       "          <pre>#<span id=\"workflow_index_ae8ef6ef16a5409982ef1f1e269bb4cc\">13</span></pre>\n",
       "        </td>\n",
       "        <td class=\"workflow_status\">\n",
       "          <span id=\"status_text_ae8ef6ef16a5409982ef1f1e269bb4cc\">completed</span></br>\n",
       "          <pre><i class=\"fa fa-fw fa-clock-o\"></i><time id=\"status_duration_ae8ef6ef16a5409982ef1f1e269bb4cc\" class=\"completed\" datetime=\"1545613871139.179\">Ran for < 5 seconds</time></pre>\n",
       "        </td>\n",
       "  </tr>\n",
       "</table>\n"
      ]
     },
     "metadata": {},
     "output_type": "display_data"
    },
    {
     "name": "stdout",
     "output_type": "stream",
     "text": [
      "a_0.txt with variable i=0\n",
      "a_2.txt with variable i=2\n",
      "a_1.txt with variable i=1\n",
      "a_3.txt with variable i=3\n"
     ]
    }
   ],
   "source": [
    "%run\n",
    "[10]\n",
    "input: for_each=dict(i=range(4))\n",
    "output: f'a_{i}.txt', group_with=dict(i=i)\n",
    "_output.touch()\n",
    "\n",
    "[20]\n",
    "print(f'{_input} with variable i={i}')"
   ]
  },
  {
   "cell_type": "markdown",
   "metadata": {
    "kernel": "SoS"
   },
   "source": [
    "### `dynamic` output files\n",
    "\n",
    "Similar to the cases with [dynamic input files](#dynamically-determined-input-files-function-dynamic), the output of some steps could also not be determined beforehand. For example, with the following script that generates `html` files that cannot be determined during dry run, "
   ]
  },
  {
   "cell_type": "code",
   "execution_count": 25,
   "metadata": {
    "kernel": "sos"
   },
   "outputs": [
    {
     "name": "stdout",
     "output_type": "stream",
     "text": [
      "touch result_16.html\n",
      "touch result_10.html\n"
     ]
    },
    {
     "name": "stderr",
     "output_type": "stream",
     "text": [
      "\u001b[95mWARNING\u001b[0m: \u001b[95mFailed to create signature: output target *.html does not exist\u001b[0m\n",
      "Output target *.html does not exist after the completion of step default_10\n"
     ]
    }
   ],
   "source": [
    "%sandbox --expect-error\n",
    "%run\n",
    "[10]\n",
    "output: '*.html'\n",
    "\n",
    "import random\n",
    "for i in range(2):\n",
    "    run(f\"touch result_{random.randint(1, 20)}.html\")"
   ]
  },
  {
   "cell_type": "markdown",
   "metadata": {
    "kernel": "SoS"
   },
   "source": [
    "In this case, you will need to define the output as `dynamic` using a `dynamic` function."
   ]
  },
  {
   "cell_type": "code",
   "execution_count": 26,
   "metadata": {
    "kernel": "SoS"
   },
   "outputs": [
    {
     "name": "stdout",
     "output_type": "stream",
     "text": [
      "touch result_15.html\n",
      "touch result_7.html\n"
     ]
    }
   ],
   "source": [
    "%sandbox\n",
    "%run\n",
    "[10]\n",
    "output: dynamic('*.html')\n",
    "\n",
    "import random\n",
    "for i in range(2):\n",
    "    run(f\"touch result_{random.randint(1, 20)}.html\")\n"
   ]
  },
  {
   "cell_type": "markdown",
   "metadata": {
    "kernel": "SoS"
   },
   "source": [
    "In this case, SoS knows that the output can only be determined after the completion of the step."
   ]
  },
  {
   "cell_type": "markdown",
   "metadata": {
    "kernel": "SoS"
   },
   "source": [
    "## Step depends <a id=\"Step_depends\"></a>"
   ]
  },
  {
   "cell_type": "markdown",
   "metadata": {
    "kernel": "SoS"
   },
   "source": [
    "This item specifies files that are required for the step. Although not required, it is a good practice to list resource files and other dependency files for a particular step. For example\n",
    "\n",
    "```python\n",
    "[10]\n",
    "input: fasta_files\n",
    "depends: reference_seq, executable('fastqc')\n",
    "```\n",
    "\n",
    "Similar to `output` options, dependent files can also be defined after `input` options and consist of dependent files determined from loop variables. "
   ]
  },
  {
   "cell_type": "markdown",
   "metadata": {
    "kernel": "SoS"
   },
   "source": [
    "The following figure summarizes the effect of `input` and `output` options and input options `group_by` and `for_each` on the flow\n",
    "of input and output files and related variables.\n",
    "\n",
    "![Step options](../media/step_options.jpg)"
   ]
  },
  {
   "cell_type": "markdown",
   "metadata": {
    "kernel": "SoS"
   },
   "source": [
    "## Step process <a id=\"Step_process\"></a>"
   ]
  },
  {
   "cell_type": "markdown",
   "metadata": {
    "kernel": "SoS"
   },
   "source": [
    "A step process is the Python statements that perform certain tasks and produce step output from step input. A step process can contain arbitrary Python statements. For example,"
   ]
  },
  {
   "cell_type": "code",
   "execution_count": 27,
   "metadata": {
    "collapsed": true,
    "kernel": "SoS"
   },
   "outputs": [],
   "source": [
    "%sandbox\n",
    "%run\n",
    "[10]\n",
    "output: 'a.txt'\n",
    "with open(_output[0], 'w') as dest:\n",
    "   dest.write('some text')"
   ]
  },
  {
   "cell_type": "markdown",
   "metadata": {
    "kernel": "SoS"
   },
   "source": [
    "and"
   ]
  },
  {
   "cell_type": "code",
   "execution_count": 28,
   "metadata": {
    "collapsed": true,
    "kernel": "SoS"
   },
   "outputs": [],
   "source": [
    "%sandbox\n",
    "%run\n",
    "[10]\n",
    "output: 'a.txt'\n",
    "sh: expand=True\n",
    "    echo \"some text\" > {_output:q}"
   ]
  },
  {
   "cell_type": "markdown",
   "metadata": {
    "kernel": "SoS"
   },
   "source": [
    "use inline (interpreted and executed by SoS) python code or shell script to generate `a.txt`. "
   ]
  },
  {
   "cell_type": "markdown",
   "metadata": {
    "kernel": "SoS"
   },
   "source": [
    "Step processes are executed within SoS and are executed sequentially. However, part or all of the step process can be executed externally and potentially in parallel as step `task`. This will be covered in detail in section [External task](External_task.html)."
   ]
  }
 ],
 "metadata": {
  "anaconda-cloud": {},
  "kernelspec": {
   "display_name": "SoS",
   "language": "sos",
   "name": "sos"
  },
  "language_info": {
   "codemirror_mode": "sos",
   "file_extension": ".sos",
   "mimetype": "text/x-sos",
   "name": "sos",
   "nbconvert_exporter": "sos_notebook.converter.SoS_Exporter",
   "pygments_lexer": "sos"
  },
  "sos": {
   "celltoolbar": true,
   "default_kernel": "SoS",
   "kernels": [
    [
     "SoS",
     "sos",
     "",
     ""
    ],
    [
     "SoS",
     "sos",
     "",
     ""
    ]
   ],
   "panel": {
    "displayed": true,
    "height": 0,
    "style": "side"
   },
   "version": "0.17.2"
  },
  "toc": {
   "colors": {
    "hover_highlight": "#DAA520",
    "running_highlight": "#FF0000",
    "selected_highlight": "#FFD700"
   },
   "moveMenuLeft": true,
   "nav_menu": {
    "height": "488px",
    "width": "254px"
   },
   "navigate_menu": true,
   "number_sections": true,
   "sideBar": true,
   "threshold": 4,
   "toc_cell": false,
   "toc_section_display": "block",
   "toc_window_display": true
  }
 },
 "nbformat": 4,
 "nbformat_minor": 2
}
