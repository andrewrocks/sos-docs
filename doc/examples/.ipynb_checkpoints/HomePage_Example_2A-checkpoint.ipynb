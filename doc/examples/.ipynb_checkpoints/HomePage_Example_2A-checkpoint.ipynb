{
 "cells": [
  {
   "cell_type": "code",
   "execution_count": 1,
   "metadata": {
    "kernel": "SoS"
   },
   "outputs": [],
   "source": [
    "fastq_file = 'raw_data.fastq'\n",
    "count_file = 'aligned.csv'\n",
    "output_pdf = 'myfigure.pdf'"
   ]
  },
  {
   "cell_type": "code",
   "execution_count": 2,
   "metadata": {
    "kernel": "Bash"
   },
   "outputs": [
    {
     "name": "stdout",
     "output_type": "stream",
     "text": [
      "count_reads --infile {fastq_file} --outfile {count_file}\n"
     ]
    }
   ],
   "source": [
    "echo count_reads --infile {fastq_file} --outfile {count_file}\n",
    "echo \"A,B\" > {count_file}\n",
    "echo \"1,2\" >> {count_file}"
   ]
  },
  {
   "cell_type": "code",
   "execution_count": 3,
   "metadata": {
    "kernel": "SoS"
   },
   "outputs": [
    {
     "name": "stderr",
     "output_type": "stream",
     "text": [
      "Failed to start kernel \"R\". Kernel died before replying to kernel_info\n",
      "Error Message:\n",
      "\n",
      " *** caught segfault ***\n",
      "address 0x18, cause 'memory not mapped'\n",
      "\n",
      "Traceback:\n",
      " 1: dyn.load(file, DLLpath = DLLpath, ...)\n",
      " 2: library.dynam(lib, package, package.lib)\n",
      " 3: loadNamespace(i, c(lib.loc, .libPaths()), versionCheck = vI[[i]])\n",
      " 4: namespaceImport(ns, loadNamespace(i, c(lib.loc, .libPaths()),     versionCheck = vI[[i]]), from = package)\n",
      " 5: loadNamespace(name)\n",
      " 6: doTryCatch(return(expr), name, parentenv, handler)\n",
      " 7: tryCatchOne(expr, names, parentenv, handlers[[1L]])\n",
      " 8: tryCatchList(expr, classes, parentenv, handlers)\n",
      " 9: tryCatch(loadNamespace(name), error = function(e) stop(e))\n",
      "10: getNamespace(ns)\n",
      "11: asNamespace(ns)\n",
      "12: getExportedValue(pkg, name)\n",
      "13: IRkernel::main\n",
      "An irrecoverable exception occurred. R is aborting now ...\n",
      "\n",
      "---------------------------------------------------------------------------\n",
      "NameError                                 Traceback (most recent call last)\n",
      "script_4657493464449958561 in <module>\n",
      "----> count.data <- read.csv('{count_file}')\n",
      "      pdf('{output_pdf}')\n",
      "      plot(count.data)\n",
      "      dev.off()\n",
      "\n",
      "NameError: name 'count' is not defined\n",
      "\u001b[95mWARNING\u001b[0m: \u001b[95mFailed to write workflow signature of type step and id 0: database is locked\u001b[0m\n"
     ]
    }
   ],
   "source": [
    "count.data <- read.csv('{count_file}')\n",
    "pdf('{output_pdf}')\n",
    "plot(count.data)\n",
    "dev.off()"
   ]
  },
  {
   "cell_type": "code",
   "execution_count": null,
   "metadata": {
    "kernel": "R"
   },
   "outputs": [],
   "source": []
  }
 ],
 "metadata": {
  "kernelspec": {
   "display_name": "SoS",
   "language": "sos",
   "name": "sos"
  },
  "language_info": {
   "codemirror_mode": "sos",
   "file_extension": ".sos",
   "mimetype": "text/x-sos",
   "name": "sos",
   "nbconvert_exporter": "sos_notebook.converter.SoS_Exporter",
   "pygments_lexer": "sos"
  },
  "sos": {
   "default_kernel": "SoS",
   "kernels": [
    [
     "Bash",
     "bash",
     "Bash",
     "#E6EEFF"
    ],
    [
     "R",
     "ir",
     "R",
     "#DCDCDA"
    ],
    [
     "SoS",
     "sos",
     "",
     ""
    ]
   ],
   "panel": {
    "displayed": true,
    "height": 0,
    "style": "side"
   },
   "version": "0.16.13"
  }
 },
 "nbformat": 4,
 "nbformat_minor": 2
}
