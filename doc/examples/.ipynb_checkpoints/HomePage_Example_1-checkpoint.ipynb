{
 "cells": [
  {
   "cell_type": "code",
   "execution_count": 4,
   "metadata": {
    "kernel": "SoS"
   },
   "outputs": [],
   "source": [
    "%preview data\n",
    "import pandas as pd\n",
    "import numpy as np\n",
    "data = pd.DataFrame(np.random.randn(6,4), columns=list('ABCD'))"
   ]
  },
  {
   "cell_type": "code",
   "execution_count": 3,
   "metadata": {
    "kernel": "SoS"
   },
   "outputs": [
    {
     "name": "stderr",
     "output_type": "stream",
     "text": [
      "Magic %get without option --kernel can only be executed by subkernels\n"
     ]
    },
    {
     "data": {
      "text/html": [
       "<div>\n",
       "<style scoped>\n",
       "    .dataframe tbody tr th:only-of-type {\n",
       "        vertical-align: middle;\n",
       "    }\n",
       "\n",
       "    .dataframe tbody tr th {\n",
       "        vertical-align: top;\n",
       "    }\n",
       "\n",
       "    .dataframe thead th {\n",
       "        text-align: right;\n",
       "    }\n",
       "</style>\n",
       "<table border=\"1\" class=\"dataframe\">\n",
       "  <thead>\n",
       "    <tr style=\"text-align: right;\">\n",
       "      <th></th>\n",
       "      <th>A</th>\n",
       "      <th>B</th>\n",
       "      <th>C</th>\n",
       "      <th>D</th>\n",
       "    </tr>\n",
       "  </thead>\n",
       "  <tbody>\n",
       "    <tr>\n",
       "      <th>0</th>\n",
       "      <td>0.761541</td>\n",
       "      <td>-0.878562</td>\n",
       "      <td>0.942857</td>\n",
       "      <td>-1.474144</td>\n",
       "    </tr>\n",
       "    <tr>\n",
       "      <th>1</th>\n",
       "      <td>-0.723189</td>\n",
       "      <td>-1.660865</td>\n",
       "      <td>0.561333</td>\n",
       "      <td>1.136882</td>\n",
       "    </tr>\n",
       "    <tr>\n",
       "      <th>2</th>\n",
       "      <td>-0.867258</td>\n",
       "      <td>0.052173</td>\n",
       "      <td>0.505285</td>\n",
       "      <td>1.694463</td>\n",
       "    </tr>\n",
       "    <tr>\n",
       "      <th>3</th>\n",
       "      <td>-0.727269</td>\n",
       "      <td>0.953136</td>\n",
       "      <td>0.250437</td>\n",
       "      <td>0.019417</td>\n",
       "    </tr>\n",
       "    <tr>\n",
       "      <th>4</th>\n",
       "      <td>-0.268957</td>\n",
       "      <td>0.520164</td>\n",
       "      <td>-1.204829</td>\n",
       "      <td>-0.255677</td>\n",
       "    </tr>\n",
       "    <tr>\n",
       "      <th>5</th>\n",
       "      <td>-0.704433</td>\n",
       "      <td>0.169868</td>\n",
       "      <td>-1.007000</td>\n",
       "      <td>-1.206766</td>\n",
       "    </tr>\n",
       "  </tbody>\n",
       "</table>\n",
       "</div>"
      ],
      "text/plain": [
       "          A         B         C         D\n",
       "0  0.761541 -0.878562  0.942857 -1.474144\n",
       "1 -0.723189 -1.660865  0.561333  1.136882\n",
       "2 -0.867258  0.052173  0.505285  1.694463\n",
       "3 -0.727269  0.953136  0.250437  0.019417\n",
       "4 -0.268957  0.520164 -1.204829 -0.255677\n",
       "5 -0.704433  0.169868 -1.007000 -1.206766"
      ]
     },
     "execution_count": 3,
     "metadata": {},
     "output_type": "execute_result"
    }
   ],
   "source": [
    "%get data\n",
    "data <- data + 1\n",
    "data"
   ]
  },
  {
   "cell_type": "code",
   "execution_count": 3,
   "metadata": {
    "kernel": "JavaScript"
   },
   "outputs": [
    {
     "data": {
      "text/plain": [
       "{ '0': \n",
       "   { A: -1.0662419092,\n",
       "     B: -1.1276483391,\n",
       "     C: 0.2931802578,\n",
       "     D: -0.3776887585 },\n",
       "  '1': \n",
       "   { A: -1.2172287551,\n",
       "     B: -0.6477258439,\n",
       "     C: 0.296483811,\n",
       "     D: -0.1444387451 },\n",
       "  '2': \n",
       "   { A: 1.3222041969,\n",
       "     B: -0.4003927193,\n",
       "     C: -1.029113487,\n",
       "     D: -1.8224741508 },\n",
       "  '3': \n",
       "   { A: -1.9773909221,\n",
       "     B: -1.1026815372,\n",
       "     C: 0.5629736356,\n",
       "     D: -0.0764915407 },\n",
       "  '4': \n",
       "   { A: 0.4512670366,\n",
       "     B: -1.0253824665,\n",
       "     C: -1.1100074475,\n",
       "     D: -0.0077734593 },\n",
       "  '5': \n",
       "   { A: -0.4979366674,\n",
       "     B: -0.1481151165,\n",
       "     C: 0.6797427481,\n",
       "     D: -2.1721191671 } }"
      ]
     },
     "execution_count": 3,
     "metadata": {},
     "output_type": "execute_result"
    }
   ],
   "source": [
    "%get data\n",
    "data"
   ]
  },
  {
   "cell_type": "code",
   "execution_count": null,
   "metadata": {
    "collapsed": true,
    "kernel": "JavaScript"
   },
   "outputs": [],
   "source": []
  }
 ],
 "metadata": {
  "kernelspec": {
   "display_name": "SoS",
   "language": "sos",
   "name": "sos"
  },
  "language_info": {
   "codemirror_mode": "sos",
   "file_extension": ".sos",
   "mimetype": "text/x-sos",
   "name": "sos",
   "nbconvert_exporter": "sos_notebook.converter.SoS_Exporter",
   "pygments_lexer": "sos"
  },
  "sos": {
   "default_kernel": "SoS",
   "kernels": [
    [
     "JavaScript",
     "javascript",
     "JavaScript",
     "#c8e1ae"
    ],
    [
     "SoS",
     "sos",
     "",
     ""
    ]
   ],
   "panel": {
    "displayed": true,
    "height": 0,
    "style": "side"
   },
   "version": "0.16.13"
  }
 },
 "nbformat": 4,
 "nbformat_minor": 2
}
